{
 "cells": [
  {
   "cell_type": "code",
   "execution_count": 1,
   "metadata": {},
   "outputs": [],
   "source": [
    "import datetime\n",
    "import matplotlib\n",
    "#matplotlib.use('Agg')\n",
    "import matplotlib.pyplot as plt\n",
    "from matplotlib.dates import DateFormatter\n",
    "import matplotlib.dates as mdates\n",
    "\n",
    "import pandas as pd\n",
    "import seaborn as sns\n",
    "\n",
    "\n",
    "from jupyterthemes import jtplot\n",
    "jtplot.style()"
   ]
  },
  {
   "cell_type": "code",
   "execution_count": 2,
   "metadata": {},
   "outputs": [],
   "source": [
    "est0 = pd.read_csv('../data/cleandata/Info pluviometricas/Concatanated Data/Camilopolis.csv', sep=';')\n",
    "est1 = pd.read_csv('../data/cleandata/Info pluviometricas/Concatanated Data/Erasmo Assunção.csv', sep=';')\n",
    "est2 = pd.read_csv('../data/cleandata/Info pluviometricas/Concatanated Data/Paraiso.csv', sep=';')\n",
    "est3 = pd.read_csv('../data/cleandata/Info pluviometricas/Concatanated Data/RM 9.csv', sep=';')\n",
    "est4 = pd.read_csv('../data/cleandata/Info pluviometricas/Concatanated Data/Vitória.csv', sep=';')\n",
    "\n",
    "est = [est0, est1, est2, est3, est4]"
   ]
  },
  {
   "cell_type": "code",
   "execution_count": 3,
   "metadata": {},
   "outputs": [],
   "source": [
    "ose = pd.read_csv('/home/felipe/Documents/TCC/data/cleandata/Ordens de serviço/Enchentes - 01012010 a 30092019.csv',\n",
    "                 sep=';') # Ordem de serviço enchentes"
   ]
  },
  {
   "cell_type": "code",
   "execution_count": 4,
   "metadata": {},
   "outputs": [
    {
     "name": "stdout",
     "output_type": "stream",
     "text": [
      "01/01/11 31/12/18\n"
     ]
    }
   ],
   "source": [
    "min_ = []\n",
    "max_ = []\n",
    "for e in est:\n",
    "    min_.append(min(e['Data']))\n",
    "    max_.append(max(e['Data']))\n",
    "print(min(min_), max(max_))"
   ]
  },
  {
   "cell_type": "code",
   "execution_count": 5,
   "metadata": {},
   "outputs": [],
   "source": [
    "merge1 = est0.merge(est1, on = 'Data / Hora', how = 'outer', suffixes = ('_0', '_1'))"
   ]
  },
  {
   "cell_type": "code",
   "execution_count": 6,
   "metadata": {},
   "outputs": [],
   "source": [
    "merge2 = est2.merge(est3, on = 'Data / Hora', how = 'outer', suffixes = ('_2', '_3'))"
   ]
  },
  {
   "cell_type": "code",
   "execution_count": 7,
   "metadata": {},
   "outputs": [],
   "source": [
    "new_cols = []\n",
    "for col in est4.columns:\n",
    "    if col != 'Data / Hora':\n",
    "        col = col + '_4'\n",
    "    new_cols.append(col)\n",
    "    \n",
    "est4.columns = new_cols"
   ]
  },
  {
   "cell_type": "code",
   "execution_count": 8,
   "metadata": {},
   "outputs": [],
   "source": [
    "merge3 = merge1.merge(merge2, on = 'Data / Hora', how = 'outer')"
   ]
  },
  {
   "cell_type": "code",
   "execution_count": 9,
   "metadata": {},
   "outputs": [],
   "source": [
    "final = merge3.merge(est4, on = 'Data / Hora', how = 'outer')"
   ]
  },
  {
   "cell_type": "code",
   "execution_count": 10,
   "metadata": {},
   "outputs": [
    {
     "data": {
      "text/plain": [
       "Index(['Data_0', 'Hora_0', 'Data / Hora', 'UmidadeRelativa_0',\n",
       "       'PressaoAtmosferica_0', 'Temperatura do Ar_0', 'TemperaturaInterna_0',\n",
       "       'PontoDeOrvalho_0', 'SensacaoTermica_0', 'RadiacaoSolar_0',\n",
       "       'DirecaoDoVento_0', 'VelocidadeDoVento_0', 'Precipitacao_0', 'Local_0',\n",
       "       'Data_1', 'Hora_1', 'UmidadeRelativa_1', 'PressaoAtmosferica_1',\n",
       "       'Temperatura do Ar_1', 'TemperaturaInterna_1', 'PontoDeOrvalho_1',\n",
       "       'SensacaoTermica_1', 'RadiacaoSolar_1', 'DirecaoDoVento_1',\n",
       "       'VelocidadeDoVento_1', 'Precipitacao_1', 'Local_1', 'Data_2', 'Hora_2',\n",
       "       'UmidadeRelativa_2', 'PressaoAtmosferica_2', 'Temperatura do Ar_2',\n",
       "       'TemperaturaInterna_2', 'PontoDeOrvalho_2', 'SensacaoTermica_2',\n",
       "       'RadiacaoSolar_2', 'DirecaoDoVento_2', 'VelocidadeDoVento_2',\n",
       "       'Precipitacao_2', 'Local_2', 'Data_3', 'Hora_3', 'UmidadeRelativa_3',\n",
       "       'PressaoAtmosferica_3', 'Temperatura do Ar_3', 'TemperaturaInterna_3',\n",
       "       'PontoDeOrvalho_3', 'SensacaoTermica_3', 'RadiacaoSolar_3',\n",
       "       'DirecaoDoVento_3', 'VelocidadeDoVento_3', 'Precipitacao_3', 'Local_3',\n",
       "       'Data_4', 'Hora_4', 'UmidadeRelativa_4', 'PressaoAtmosferica_4',\n",
       "       'Temperatura do Ar_4', 'TemperaturaInterna_4', 'PontoDeOrvalho_4',\n",
       "       'SensacaoTermica_4', 'RadiacaoSolar_4', 'DirecaoDoVento_4',\n",
       "       'VelocidadeDoVento_4', 'Precipitacao_4', 'Local_4'],\n",
       "      dtype='object')"
      ]
     },
     "execution_count": 10,
     "metadata": {},
     "output_type": "execute_result"
    }
   ],
   "source": [
    "final.columns"
   ]
  },
  {
   "cell_type": "code",
   "execution_count": null,
   "metadata": {},
   "outputs": [],
   "source": [
    "plt.figure(figsize = (15,15))\n",
    "plt.plot(final['Precipitacao_0'])\n",
    "plt.plot(final['Precipitacao_0'])\n",
    "plt.plot(final['Precipitacao_0'])\n",
    "plt.plot(final['Precipitacao_0'])"
   ]
  }
 ],
 "metadata": {
  "kernelspec": {
   "display_name": "Python 3",
   "language": "python",
   "name": "python3"
  },
  "language_info": {
   "codemirror_mode": {
    "name": "ipython",
    "version": 3
   },
   "file_extension": ".py",
   "mimetype": "text/x-python",
   "name": "python",
   "nbconvert_exporter": "python",
   "pygments_lexer": "ipython3",
   "version": "3.7.4"
  }
 },
 "nbformat": 4,
 "nbformat_minor": 2
}
