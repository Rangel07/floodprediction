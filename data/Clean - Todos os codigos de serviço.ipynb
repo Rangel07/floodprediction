{
 "cells": [
  {
   "cell_type": "markdown",
   "metadata": {},
   "source": [
    "## Import data"
   ]
  },
  {
   "cell_type": "code",
   "execution_count": null,
   "metadata": {},
   "outputs": [],
   "source": [
    "import pandas as pd"
   ]
  },
  {
   "cell_type": "code",
   "execution_count": null,
   "metadata": {},
   "outputs": [],
   "source": [
    "# Create dir\n",
    "\n",
    "from os import mkdir\n",
    "from os import path\n",
    "\n",
    "if not path.exists(\"./cleandata\"):\n",
    "    mkdir('./cleandata')\n",
    "    \n",
    "if not path.exists(\"./cleandata/Ordens de serviço\"):\n",
    "    mkdir('./cleandata/Ordens de serviço')"
   ]
  },
  {
   "cell_type": "code",
   "execution_count": null,
   "metadata": {},
   "outputs": [],
   "source": [
    "os_cod = pd.read_excel('./rawdata/Ordens de serviço/Todos os codigos de serviço - 01012010 a 30092019.xlsx')"
   ]
  },
  {
   "cell_type": "markdown",
   "metadata": {},
   "source": [
    "## Separate date from data"
   ]
  },
  {
   "cell_type": "code",
   "execution_count": null,
   "metadata": {},
   "outputs": [],
   "source": [
    "cod_null = os_cod.iloc[:,1:5].isnull().copy(deep = True) # Columns 1:5 are null if (tipo or data)\n",
    "\n",
    "datas_cod = os_cod[cod_null.all(axis='columns')].copy(deep=True)\n",
    "datas_cod = datas_cod[:-2] # Remove last 2 rows\n",
    "\n",
    "dados_cod = os_cod[~cod_null.all(axis='columns')].copy(deep=True)\n",
    "dados_cod.drop(index=[0], inplace=True)"
   ]
  },
  {
   "cell_type": "code",
   "execution_count": null,
   "metadata": {},
   "outputs": [],
   "source": [
    "tipo_cod = datas_cod[datas_cod['Unnamed: 0'].str.contains(\"-\")]\n",
    "datas_cod = datas_cod[~datas_cod['Unnamed: 0'].str.contains(\"-\")]"
   ]
  },
  {
   "cell_type": "code",
   "execution_count": null,
   "metadata": {},
   "outputs": [],
   "source": [
    "for i in range(len(tipo_cod.index)):\n",
    "    start = tipo_cod.index[i]\n",
    "    try:\n",
    "        end = tipo_cod.index[i+1]\n",
    "        dados_cod.loc[start:end,'Tipo'] = tipo_cod.iloc[i,0]\n",
    "    except:\n",
    "        end = dados_cod.index[-1]\n",
    "        dados_cod.loc[start:end,'Tipo'] = tipo_cod.iloc[i,0]"
   ]
  },
  {
   "cell_type": "code",
   "execution_count": null,
   "metadata": {},
   "outputs": [],
   "source": [
    "for i in range(len(datas_cod.index)):\n",
    "    start = datas_cod.index[i]\n",
    "    try:\n",
    "        end = datas_cod.index[i+1]\n",
    "        dados_cod.loc[start:end,'datas'] = datas_cod.iloc[i,0]\n",
    "    except:\n",
    "        end = dados_cod.index[-1]\n",
    "        dados_cod.loc[start:end,'datas'] = datas_cod.iloc[i,0]"
   ]
  },
  {
   "cell_type": "code",
   "execution_count": null,
   "metadata": {},
   "outputs": [],
   "source": [
    "dados_cod.columns = ['ID?','OS','Hora','Endereco1','Endereco2','?','Comentario1','Comentario2',\n",
    "                     'Status', 'Tipo','Data']"
   ]
  },
  {
   "cell_type": "markdown",
   "metadata": {},
   "source": [
    "# Codigos de Serviço"
   ]
  },
  {
   "cell_type": "code",
   "execution_count": null,
   "metadata": {},
   "outputs": [],
   "source": [
    "dados_cod.to_csv(\n",
    "    r'./cleandata/Ordens de serviço/Todos os codigos de serviço - 01012010 a 30092019.csv',\n",
    "    sep=';',\n",
    "    index=False)"
   ]
  }
 ],
 "metadata": {
  "kernelspec": {
   "display_name": "Python 3",
   "language": "python",
   "name": "python3"
  },
  "language_info": {
   "codemirror_mode": {
    "name": "ipython",
    "version": 3
   },
   "file_extension": ".py",
   "mimetype": "text/x-python",
   "name": "python",
   "nbconvert_exporter": "python",
   "pygments_lexer": "ipython3",
   "version": "3.7.4"
  }
 },
 "nbformat": 4,
 "nbformat_minor": 2
}
