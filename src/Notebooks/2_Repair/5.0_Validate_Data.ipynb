{
 "cells": [
  {
   "cell_type": "code",
   "execution_count": null,
   "metadata": {},
   "outputs": [],
   "source": [
    "import pandas as pd \n",
    "pd.set_option('display.max_columns', 500)\n",
    "\n",
    "import plotly.graph_objects as go\n",
    "from plotly.subplots import make_subplots\n",
    "from plotly.offline import init_notebook_mode\n",
    "from datetime import datetime\n",
    "init_notebook_mode()"
   ]
  },
  {
   "cell_type": "code",
   "execution_count": null,
   "metadata": {},
   "outputs": [],
   "source": [
    "p1 = '../../../data/cleandata/Info pluviometricas/Merged Data/repaired.csv'\n",
    "p2 = '../../../data/cleandata/Info pluviometricas/Merged Data/error_regions.csv'\n",
    "p3 = '../../../data/cleandata/Info pluviometricas/Merged Data/merged.csv'\n",
    "repaired = pd.read_csv(p1, sep = ';')\n",
    "regions = pd.read_csv(p2, sep = ';')\n",
    "merged = pd.read_csv(p3, sep = ';')\n",
    "repaired['Data_Hora'] = pd.to_datetime(repaired['Data_Hora'], yearfirst = True)\n",
    "regions['Data_Hora'] = pd.to_datetime(regions['Data_Hora'],   yearfirst = True)\n",
    "merged['Data_Hora'] = pd.to_datetime(merged['Data_Hora'],   yearfirst = True)"
   ]
  },
  {
   "cell_type": "code",
   "execution_count": null,
   "metadata": {},
   "outputs": [],
   "source": [
    "print(*[c.split('_')[0] for c in repaired.columns if '0_pred' in c])"
   ]
  },
  {
   "cell_type": "code",
   "execution_count": null,
   "metadata": {},
   "outputs": [],
   "source": [
    "label = 'PressaoAtmosferica'"
   ]
  },
  {
   "cell_type": "markdown",
   "metadata": {},
   "source": [
    "## Validate Regions"
   ]
  },
  {
   "cell_type": "code",
   "execution_count": null,
   "metadata": {},
   "outputs": [],
   "source": [
    "\n",
    "# ano = 2015\n",
    "# df = merged[merged['Data_Hora'].dt.year == ano]\n",
    "# dfr = regions[regions['Data_Hora'].dt.year == ano]\n",
    "\n",
    "# fig = make_subplots(5,1, shared_xaxes=True)\n",
    "\n",
    "# for i in range(5):\n",
    "#     fig.add_trace(go.Scatter(\n",
    "#                     x=df['Data_Hora'],\n",
    "#                     y=df[f'{label}_{i}'],\n",
    "#                     line = dict(color='#616161'),\n",
    "#                     ), \n",
    "#                   col= 1 ,\n",
    "#                   row= i + 1)\n",
    "\n",
    "#     fig.add_trace(go.Scatter(\n",
    "#                     x=df['Data_Hora'],\n",
    "#                     y=df[f'{label}_{i}'].where(dfr[f'{label}_{i}_error']),\n",
    "#                     line = dict(color='red'),\n",
    "#                     ), \n",
    "#                   col= 1 ,\n",
    "#                   row= i + 1)\n",
    "\n",
    "\n",
    "\n",
    "# fig.write_html(f'../../../images/{label}_Regions_{str(today)}.html')"
   ]
  },
  {
   "cell_type": "markdown",
   "metadata": {},
   "source": [
    "## Validate repair_regions"
   ]
  },
  {
   "cell_type": "code",
   "execution_count": null,
   "metadata": {},
   "outputs": [],
   "source": [
    "df = repaired#[repaired['Data_Hora'].dt.year == 2015]\n",
    "today = datetime.now()\n",
    "\n",
    "for label in [c.split('_')[0] for c in repaired.columns if '0_error' in c]:\n",
    "    print(label)\n",
    "\n",
    "    fig = make_subplots(5,1, shared_xaxes=True)\n",
    "\n",
    "    for i in range(5):\n",
    "        fig.add_trace(go.Scatter(\n",
    "                        x=df['Data_Hora'],\n",
    "                        y=df[f'{label}_{i}'],\n",
    "                        line = dict(color='#616161'),\n",
    "                        legendgroup=\"value\"\n",
    "                        ), \n",
    "                          col= 1 ,\n",
    "                          row= i + 1)\n",
    "        try:\n",
    "            fig.add_trace(go.Scatter(\n",
    "                            x=df['Data_Hora'],\n",
    "                            y=df[f'{label}_{i}'].where(df[f'{label}_{i}_interpol']),\n",
    "                            line = dict(color='yellow'),\n",
    "                            legendgroup=\"Interpolation\",\n",
    "                            name=\"Interpolation\"\n",
    "                            ), \n",
    "                              col= 1 ,\n",
    "                              row= i + 1)\n",
    "        except:\n",
    "            pass\n",
    "\n",
    "        try:\n",
    "            fig.add_trace(go.Scatter(\n",
    "                            x=df['Data_Hora'],\n",
    "                            y=df[f'{label}_{i}'].where(df[f'{label}_{i}_regression']),\n",
    "                            line = dict(color='green'),\n",
    "                            legendgroup=\"Regression\",\n",
    "                            name=\"Regression\"\n",
    "                            ), \n",
    "                              col= 1 ,\n",
    "                              row= i + 1)\n",
    "        except:\n",
    "            pass\n",
    "\n",
    "        try:\n",
    "            fig.add_trace(go.Scatter(\n",
    "                            x=df['Data_Hora'],\n",
    "                            y=df[f'{label}_{i}'].where(df[f'{label}_{i}_idw']),\n",
    "                            line = dict(color='blue'),\n",
    "                            legendgroup=\"IDW Interpolation\",\n",
    "                            name=\"IDW Interpolation\"\n",
    "                            ), \n",
    "                              col= 1 ,\n",
    "                              row= i + 1)\n",
    "        except:\n",
    "            pass\n",
    "\n",
    "        try:\n",
    "            fig.add_trace(go.Scatter(\n",
    "                            x=df['Data_Hora'],\n",
    "                            y=df[f'{label}_{i}'].fillna(0).where(df[f'{label}_{i}_fill_ow']),\n",
    "                            line = dict(color='orange'),\n",
    "                            legendgroup=\"OpenWeather\",\n",
    "                            name=\"OpenWeather\"\n",
    "                            ), \n",
    "                              col= 1 ,\n",
    "                              row= i + 1)\n",
    "        except:\n",
    "            pass\n",
    "        try:\n",
    "            fig.add_trace(go.Scatter(\n",
    "                            x=df['Data_Hora'],\n",
    "                            y=df[f'{label}_{i}'].fillna(0).where(df[f'{label}_{i}_error']),\n",
    "                            line = dict(color='red'),\n",
    "                            legendgroup=\"Error\",\n",
    "                            name=\"Error\"\n",
    "                            ), \n",
    "                              col= 1 ,\n",
    "                              row= i + 1)\n",
    "        except:\n",
    "            pass\n",
    "    fig.write_html(f'../../../images/{label}_repaired_{str(today)}.html')"
   ]
  }
 ],
 "metadata": {
  "hide_input": false,
  "kernelspec": {
   "display_name": "Python 3.7.4 64-bit ('base': conda)",
   "language": "python",
   "name": "python37464bitbaseconda7e5673f44381479f842fe1694b809563"
  },
  "language_info": {
   "codemirror_mode": {
    "name": "ipython",
    "version": 3
   },
   "file_extension": ".py",
   "mimetype": "text/x-python",
   "name": "python",
   "nbconvert_exporter": "python",
   "pygments_lexer": "ipython3",
   "version": "3.8.3"
  },
  "varInspector": {
   "cols": {
    "lenName": 16,
    "lenType": 16,
    "lenVar": 40
   },
   "kernels_config": {
    "python": {
     "delete_cmd_postfix": "",
     "delete_cmd_prefix": "del ",
     "library": "var_list.py",
     "varRefreshCmd": "print(var_dic_list())"
    },
    "r": {
     "delete_cmd_postfix": ") ",
     "delete_cmd_prefix": "rm(",
     "library": "var_list.r",
     "varRefreshCmd": "cat(var_dic_list()) "
    }
   },
   "types_to_exclude": [
    "module",
    "function",
    "builtin_function_or_method",
    "instance",
    "_Feature"
   ],
   "window_display": false
  }
 },
 "nbformat": 4,
 "nbformat_minor": 4
}
