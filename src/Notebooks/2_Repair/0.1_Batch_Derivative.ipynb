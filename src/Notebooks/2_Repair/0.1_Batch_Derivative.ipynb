{
 "cells": [
  {
   "cell_type": "code",
   "execution_count": 1,
   "metadata": {},
   "outputs": [],
   "source": [
    "import sys\n",
    "sys.path.insert(1, '../../Pipeline')\n",
    "\n",
    "import imp\n",
    "import utils\n",
    "imp.reload(utils)\n",
    "from utils import *"
   ]
  },
  {
   "cell_type": "code",
   "execution_count": 2,
   "metadata": {
    "tags": []
   },
   "outputs": [
    {
     "name": "stdout",
     "output_type": "stream",
     "text": [
      "Index(['index', 'Data', 'Hora', 'Data_Hora', 'UmidadeRelativa_0',\n",
      "       'PressaoAtmosferica_0', 'TemperaturaDoAr_0', 'TemperaturaInterna_0',\n",
      "       'PontoDeOrvalho_0', 'SensacaoTermica_0', 'RadiacaoSolar_0',\n",
      "       'DirecaoDoVento_0', 'VelocidadeDoVento_0', 'Precipitacao_0', 'Local_0',\n",
      "       'UmidadeRelativa_1', 'PressaoAtmosferica_1', 'TemperaturaDoAr_1',\n",
      "       'TemperaturaInterna_1', 'PontoDeOrvalho_1', 'SensacaoTermica_1',\n",
      "       'RadiacaoSolar_1', 'DirecaoDoVento_1', 'VelocidadeDoVento_1',\n",
      "       'Precipitacao_1', 'Local_1', 'UmidadeRelativa_2',\n",
      "       'PressaoAtmosferica_2', 'TemperaturaDoAr_2', 'TemperaturaInterna_2',\n",
      "       'PontoDeOrvalho_2', 'SensacaoTermica_2', 'RadiacaoSolar_2',\n",
      "       'DirecaoDoVento_2', 'VelocidadeDoVento_2', 'Precipitacao_2', 'Local_2',\n",
      "       'UmidadeRelativa_3', 'PressaoAtmosferica_3', 'TemperaturaDoAr_3',\n",
      "       'TemperaturaInterna_3', 'PontoDeOrvalho_3', 'SensacaoTermica_3',\n",
      "       'RadiacaoSolar_3', 'DirecaoDoVento_3', 'VelocidadeDoVento_3',\n",
      "       'Precipitacao_3', 'Local_3', 'UmidadeRelativa_4',\n",
      "       'PressaoAtmosferica_4', 'TemperaturaDoAr_4', 'TemperaturaInterna_4',\n",
      "       'PontoDeOrvalho_4', 'SensacaoTermica_4', 'RadiacaoSolar_4',\n",
      "       'DirecaoDoVento_4', 'VelocidadeDoVento_4', 'Precipitacao_4', 'Local_4'],\n",
      "      dtype='object')\n"
     ]
    },
    {
     "data": {
      "text/html": [
       "<div>\n",
       "<style scoped>\n",
       "    .dataframe tbody tr th:only-of-type {\n",
       "        vertical-align: middle;\n",
       "    }\n",
       "\n",
       "    .dataframe tbody tr th {\n",
       "        vertical-align: top;\n",
       "    }\n",
       "\n",
       "    .dataframe thead th {\n",
       "        text-align: right;\n",
       "    }\n",
       "</style>\n",
       "<table border=\"1\" class=\"dataframe\">\n",
       "  <thead>\n",
       "    <tr style=\"text-align: right;\">\n",
       "      <th></th>\n",
       "      <th>index</th>\n",
       "      <th>Data</th>\n",
       "      <th>Hora</th>\n",
       "      <th>Data_Hora</th>\n",
       "      <th>UmidadeRelativa_0</th>\n",
       "      <th>PressaoAtmosferica_0</th>\n",
       "      <th>TemperaturaDoAr_0</th>\n",
       "      <th>TemperaturaInterna_0</th>\n",
       "      <th>PontoDeOrvalho_0</th>\n",
       "      <th>SensacaoTermica_0</th>\n",
       "      <th>...</th>\n",
       "      <th>PressaoAtmosferica_4</th>\n",
       "      <th>TemperaturaDoAr_4</th>\n",
       "      <th>TemperaturaInterna_4</th>\n",
       "      <th>PontoDeOrvalho_4</th>\n",
       "      <th>SensacaoTermica_4</th>\n",
       "      <th>RadiacaoSolar_4</th>\n",
       "      <th>DirecaoDoVento_4</th>\n",
       "      <th>VelocidadeDoVento_4</th>\n",
       "      <th>Precipitacao_4</th>\n",
       "      <th>Local_4</th>\n",
       "    </tr>\n",
       "  </thead>\n",
       "  <tbody>\n",
       "    <tr>\n",
       "      <th>0</th>\n",
       "      <td>0</td>\n",
       "      <td>01/01/11</td>\n",
       "      <td>00:00:00</td>\n",
       "      <td>2011-01-01 00:00:00</td>\n",
       "      <td>84.8</td>\n",
       "      <td>920.6</td>\n",
       "      <td>20.2</td>\n",
       "      <td>22.8</td>\n",
       "      <td>17.5</td>\n",
       "      <td>NaN</td>\n",
       "      <td>...</td>\n",
       "      <td>0.0</td>\n",
       "      <td>0.0</td>\n",
       "      <td>0.0</td>\n",
       "      <td>0.0</td>\n",
       "      <td>NaN</td>\n",
       "      <td>0.0</td>\n",
       "      <td>0.0</td>\n",
       "      <td>0.0</td>\n",
       "      <td>0.0</td>\n",
       "      <td>Vitoria</td>\n",
       "    </tr>\n",
       "    <tr>\n",
       "      <th>1</th>\n",
       "      <td>1</td>\n",
       "      <td>01/01/11</td>\n",
       "      <td>00:15:00</td>\n",
       "      <td>2011-01-01 00:15:00</td>\n",
       "      <td>84.1</td>\n",
       "      <td>920.3</td>\n",
       "      <td>20.1</td>\n",
       "      <td>22.8</td>\n",
       "      <td>17.4</td>\n",
       "      <td>NaN</td>\n",
       "      <td>...</td>\n",
       "      <td>0.0</td>\n",
       "      <td>0.0</td>\n",
       "      <td>0.0</td>\n",
       "      <td>0.0</td>\n",
       "      <td>NaN</td>\n",
       "      <td>0.0</td>\n",
       "      <td>0.0</td>\n",
       "      <td>0.0</td>\n",
       "      <td>0.0</td>\n",
       "      <td>Vitoria</td>\n",
       "    </tr>\n",
       "    <tr>\n",
       "      <th>2</th>\n",
       "      <td>2</td>\n",
       "      <td>01/01/11</td>\n",
       "      <td>00:30:00</td>\n",
       "      <td>2011-01-01 00:30:00</td>\n",
       "      <td>83.9</td>\n",
       "      <td>920.2</td>\n",
       "      <td>20.1</td>\n",
       "      <td>22.9</td>\n",
       "      <td>17.2</td>\n",
       "      <td>NaN</td>\n",
       "      <td>...</td>\n",
       "      <td>0.0</td>\n",
       "      <td>0.0</td>\n",
       "      <td>0.0</td>\n",
       "      <td>0.0</td>\n",
       "      <td>NaN</td>\n",
       "      <td>0.0</td>\n",
       "      <td>0.0</td>\n",
       "      <td>0.0</td>\n",
       "      <td>0.0</td>\n",
       "      <td>Vitoria</td>\n",
       "    </tr>\n",
       "    <tr>\n",
       "      <th>3</th>\n",
       "      <td>3</td>\n",
       "      <td>01/01/11</td>\n",
       "      <td>00:45:00</td>\n",
       "      <td>2011-01-01 00:45:00</td>\n",
       "      <td>83.5</td>\n",
       "      <td>919.9</td>\n",
       "      <td>20.2</td>\n",
       "      <td>22.9</td>\n",
       "      <td>17.3</td>\n",
       "      <td>NaN</td>\n",
       "      <td>...</td>\n",
       "      <td>0.0</td>\n",
       "      <td>0.0</td>\n",
       "      <td>0.0</td>\n",
       "      <td>0.0</td>\n",
       "      <td>NaN</td>\n",
       "      <td>0.0</td>\n",
       "      <td>0.0</td>\n",
       "      <td>0.0</td>\n",
       "      <td>0.0</td>\n",
       "      <td>Vitoria</td>\n",
       "    </tr>\n",
       "    <tr>\n",
       "      <th>4</th>\n",
       "      <td>4</td>\n",
       "      <td>01/01/11</td>\n",
       "      <td>01:00:00</td>\n",
       "      <td>2011-01-01 01:00:00</td>\n",
       "      <td>84.0</td>\n",
       "      <td>919.9</td>\n",
       "      <td>20.1</td>\n",
       "      <td>22.8</td>\n",
       "      <td>17.3</td>\n",
       "      <td>NaN</td>\n",
       "      <td>...</td>\n",
       "      <td>0.0</td>\n",
       "      <td>0.0</td>\n",
       "      <td>0.0</td>\n",
       "      <td>0.0</td>\n",
       "      <td>NaN</td>\n",
       "      <td>0.0</td>\n",
       "      <td>0.0</td>\n",
       "      <td>0.0</td>\n",
       "      <td>0.0</td>\n",
       "      <td>Vitoria</td>\n",
       "    </tr>\n",
       "  </tbody>\n",
       "</table>\n",
       "<p>5 rows × 59 columns</p>\n",
       "</div>"
      ],
      "text/plain": [
       "   index      Data      Hora            Data_Hora  UmidadeRelativa_0  \\\n",
       "0      0  01/01/11  00:00:00  2011-01-01 00:00:00               84.8   \n",
       "1      1  01/01/11  00:15:00  2011-01-01 00:15:00               84.1   \n",
       "2      2  01/01/11  00:30:00  2011-01-01 00:30:00               83.9   \n",
       "3      3  01/01/11  00:45:00  2011-01-01 00:45:00               83.5   \n",
       "4      4  01/01/11  01:00:00  2011-01-01 01:00:00               84.0   \n",
       "\n",
       "   PressaoAtmosferica_0  TemperaturaDoAr_0  TemperaturaInterna_0  \\\n",
       "0                 920.6               20.2                  22.8   \n",
       "1                 920.3               20.1                  22.8   \n",
       "2                 920.2               20.1                  22.9   \n",
       "3                 919.9               20.2                  22.9   \n",
       "4                 919.9               20.1                  22.8   \n",
       "\n",
       "   PontoDeOrvalho_0  SensacaoTermica_0  ...  PressaoAtmosferica_4  \\\n",
       "0              17.5                NaN  ...                   0.0   \n",
       "1              17.4                NaN  ...                   0.0   \n",
       "2              17.2                NaN  ...                   0.0   \n",
       "3              17.3                NaN  ...                   0.0   \n",
       "4              17.3                NaN  ...                   0.0   \n",
       "\n",
       "   TemperaturaDoAr_4  TemperaturaInterna_4  PontoDeOrvalho_4  \\\n",
       "0                0.0                   0.0               0.0   \n",
       "1                0.0                   0.0               0.0   \n",
       "2                0.0                   0.0               0.0   \n",
       "3                0.0                   0.0               0.0   \n",
       "4                0.0                   0.0               0.0   \n",
       "\n",
       "  SensacaoTermica_4  RadiacaoSolar_4  DirecaoDoVento_4  VelocidadeDoVento_4  \\\n",
       "0               NaN              0.0               0.0                  0.0   \n",
       "1               NaN              0.0               0.0                  0.0   \n",
       "2               NaN              0.0               0.0                  0.0   \n",
       "3               NaN              0.0               0.0                  0.0   \n",
       "4               NaN              0.0               0.0                  0.0   \n",
       "\n",
       "   Precipitacao_4  Local_4  \n",
       "0             0.0  Vitoria  \n",
       "1             0.0  Vitoria  \n",
       "2             0.0  Vitoria  \n",
       "3             0.0  Vitoria  \n",
       "4             0.0  Vitoria  \n",
       "\n",
       "[5 rows x 59 columns]"
      ]
     },
     "execution_count": 2,
     "metadata": {},
     "output_type": "execute_result"
    }
   ],
   "source": [
    "import matplotlib.pyplot as plt\n",
    "import pandas as pd\n",
    "import numpy as np\n",
    "\n",
    "try:\n",
    "    from jupyterthemes import jtplot\n",
    "    jtplot.style()\n",
    "except:\n",
    "    pass\n",
    "\n",
    "ip = pd.read_csv('../../../data/cleandata/Info pluviometricas/Merged Data/merged.csv',\n",
    "                 sep = ';',\n",
    "                 dtype = {'Local_0': object, 'Local_1':object,\n",
    "                          'Local_2':object,  'Local_3':object})\n",
    "\n",
    "print(ip.columns)\n",
    "ip.head()"
   ]
  },
  {
   "cell_type": "code",
   "execution_count": null,
   "metadata": {},
   "outputs": [],
   "source": [
    "\"\"\"\n",
    "UmidadeRelativa\n",
    "PressaoAtmosferica\n",
    "TemperaturaDoAr\n",
    "TemperaturaInterna\n",
    "PontoDeOrvalho\n",
    "SensacaoTermica\n",
    "RadiacaoSolar\n",
    "DirecaoDoVento\n",
    "Precipitacao\n",
    "\"\"\";"
   ]
  },
  {
   "cell_type": "code",
   "execution_count": null,
   "metadata": {},
   "outputs": [],
   "source": [
    "\"\"\"VelocidadeDoVento\"\"\""
   ]
  },
  {
   "cell_type": "markdown",
   "metadata": {},
   "source": [
    "#### Umidade Relativa "
   ]
  },
  {
   "cell_type": "code",
   "execution_count": null,
   "metadata": {
    "scrolled": false
   },
   "outputs": [],
   "source": [
    "cols_um = [i for i in ip.columns if 'UmidadeRelativa' in i]\n",
    "um = ip[cols_um].fillna(np.nan)\n",
    "start, stop = 0, 500\n",
    "for col in um.columns:\n",
    "    peaks = derivative_threshold(um[col], 12, False, start, stop, lw = 2, figsize = (11, 15))\n",
    "    zeros = derivative_zero(um[col], 3, False, False, start, stop, lw = 2, figsize = (11, 15))\n",
    "    nans = um[col].isna()\n",
    "    error = [zeros[i] or peaks[i] or nans[i] for i in range(len(peaks))]\n",
    "    error_reg = list_2_regions(error)\n",
    "    error_reg = increase_margins(3, error_reg, len(peaks))\n",
    "    error = regions_2_list(error_reg, len(peaks))\n",
    "    plot_regions(um[col], error_reg, start, stop, plt_type = 'lines', \n",
    "                 title = 'Umidade Relativa', figsize = (11, 8), lw = 3)"
   ]
  },
  {
   "cell_type": "markdown",
   "metadata": {},
   "source": [
    "#### PressaoAtmosferica"
   ]
  },
  {
   "cell_type": "code",
   "execution_count": null,
   "metadata": {
    "scrolled": false
   },
   "outputs": [],
   "source": [
    "cols_um = [i for i in ip.columns if 'PressaoAtmosferica' in i]\n",
    "um = ip[cols_um].fillna(np.nan)\n",
    "um.head()\n",
    "\n",
    "for col in um.columns:\n",
    "    peaks = derivative_threshold(um[col], 50, False, 1000, 1500, ylim = [900, 1000])\n",
    "    zeros = derivative_zero(um[col], 7, False, False, 1000, 1500, ylim = [900, 1000])\n",
    "    nans = um[col].isna()\n",
    "    error = [zeros[i] or peaks[i] or nans[i] for i in range(len(peaks))]\n",
    "    error_reg = list_2_regions(error)\n",
    "    error_reg = increase_margins(5, error_reg, len(peaks))\n",
    "    plot_regions(um[col], error_reg, 11100, 11500, plt_type = 'lines', ylim=[900, 950])"
   ]
  },
  {
   "cell_type": "markdown",
   "metadata": {},
   "source": [
    "#### TemperaturaDoAr"
   ]
  },
  {
   "cell_type": "code",
   "execution_count": null,
   "metadata": {
    "scrolled": true
   },
   "outputs": [],
   "source": [
    "cols_um = [i for i in ip.columns if 'TemperaturaDoAr' in i]\n",
    "um = ip[cols_um].fillna(np.nan)\n",
    "um.head()\n",
    "\n",
    "for col in um.columns:\n",
    "    peaks = derivative_threshold(um[col], 6, False, 4000, 4500)\n",
    "    zeros = derivative_zero(um[col], 4,False, False, 1000, 1500)\n",
    "    nans = um[col].isna()\n",
    "    error = [zeros[i] or peaks[i] or nans[i] for i in range(len(peaks))]\n",
    "    error_reg = list_2_regions(error)\n",
    "    error_reg = increase_margins(3, error_reg, len(peaks))\n",
    "    plot_regions(um[col], error_reg, 1000, 1500, plt_type = 'lines',\n",
    "                 title = 'TemperaturaDoAr', figsize = (11, 8), lw = 3)"
   ]
  },
  {
   "cell_type": "markdown",
   "metadata": {},
   "source": [
    "#### TemperaturaInterna"
   ]
  },
  {
   "cell_type": "code",
   "execution_count": null,
   "metadata": {
    "scrolled": true
   },
   "outputs": [],
   "source": [
    "cols_um = [i for i in ip.columns if 'TemperaturaInterna' in i]\n",
    "um = ip[cols_um].fillna(np.nan)\n",
    "um.head()\n",
    "\n",
    "for col in um.columns:\n",
    "    peaks = derivative_threshold(um[col], 6, False, 4000, 4500)\n",
    "    zeros = derivative_zero(um[col], 4, False, False, 1000, 1500)\n",
    "    nans = um[col].isna()\n",
    "    error = [zeros[i] or peaks[i] or nans[i] for i in range(len(peaks))]\n",
    "    error_reg = list_2_regions(error)\n",
    "    error_reg = increase_margins(3, error_reg, len(peaks))\n",
    "    plot_regions(um[col], error_reg, 1000, 1500, plt_type = 'lines')"
   ]
  },
  {
   "cell_type": "markdown",
   "metadata": {},
   "source": [
    "#### PontoDeOrvalho"
   ]
  },
  {
   "cell_type": "code",
   "execution_count": null,
   "metadata": {
    "scrolled": true
   },
   "outputs": [],
   "source": [
    "cols_um = [i for i in ip.columns if 'PontoDeOrvalho' in i]\n",
    "um = ip[cols_um].fillna(np.nan)\n",
    "um.head()\n",
    "\n",
    "for col in um.columns:\n",
    "    peaks = derivative_threshold(um[col], 3.5, False, 4000, 4500)\n",
    "    zeros = derivative_zero(um[col], 4, False, False, 1000, 1500)\n",
    "    nans = um[col].isna()\n",
    "    error = [zeros[i] or peaks[i] or nans[i] for i in range(len(peaks))]\n",
    "    error_reg = list_2_regions(error)\n",
    "    error_reg = increase_margins(3, error_reg, len(peaks))\n",
    "    plot_regions(um[col], error_reg, 1000, 1500, plt_type = 'lines', ylim=[0, 20], title = 'Ponto de Orvalho')"
   ]
  },
  {
   "cell_type": "markdown",
   "metadata": {},
   "source": [
    "#### SensacaoTermica"
   ]
  },
  {
   "cell_type": "code",
   "execution_count": null,
   "metadata": {
    "scrolled": false
   },
   "outputs": [],
   "source": [
    "cols_um = [i for i in ip.columns if 'SensacaoTermica' in i]\n",
    "um = ip[cols_um].fillna(np.nan)\n",
    "um.head()\n",
    "start, stop = 200000, 200500\n",
    "for col in um.columns:\n",
    "    peaks = derivative_threshold(um[col].fillna(0), 4, False, start, stop)\n",
    "    zeros = derivative_zero(um[col].fillna(0), 10, False, False, start, stop)\n",
    "    nans = um[col].isna()\n",
    "    error = [zeros[i] or peaks[i] or nans[i] for i in range(len(peaks))]\n",
    "    error_reg = list_2_regions(error)\n",
    "    error_reg = increase_margins(3, error_reg, len(peaks))\n",
    "    plot_regions(um[col].fillna(0), error_reg, start, stop, plt_type = 'lines')"
   ]
  },
  {
   "cell_type": "markdown",
   "metadata": {},
   "source": [
    "#### RadiacaoSolar"
   ]
  },
  {
   "cell_type": "code",
   "execution_count": null,
   "metadata": {
    "scrolled": false
   },
   "outputs": [],
   "source": [
    "cols_um = [i for i in ip.columns if 'RadiacaoSolar' in i]\n",
    "um = ip[cols_um].fillna(np.nan)\n",
    "um.head()\n",
    "start, stop = 0, 1000\n",
    "for col in um.columns:\n",
    "    peaks = derivative_threshold(um[col].fillna(0), 750, False, start, stop)\n",
    "    zeros = derivative_zero(um[col].fillna(0), 50, False, plot = False, plt_start = start, plt_stop = stop)\n",
    "    const_not_null = derivative_zero(um[col].fillna(0), 3, True, False, start, stop)\n",
    "    nans = um[col].isna()\n",
    "    error = [zeros[i] or const_not_null[i] or peaks[i] for i in range(len(zeros))]\n",
    "    # error = nans\n",
    "    error_reg = list_2_regions(error)\n",
    "    error_reg = increase_margins(5, error_reg, len(zeros))\n",
    "    error = regions_2_list(error_reg, len(peaks))\n",
    "    error = [nans[i] or error[i] for i in range(len(error))]\n",
    "    error_reg = list_2_regions(error)\n",
    "    plot_regions(um[col].fillna(0), error_reg, start, stop, plt_type = 'lines')"
   ]
  },
  {
   "cell_type": "markdown",
   "metadata": {},
   "source": [
    "#### DirecaoDoVento"
   ]
  },
  {
   "cell_type": "code",
   "execution_count": null,
   "metadata": {
    "scrolled": true
   },
   "outputs": [],
   "source": [
    "cols_um = [i for i in ip.columns if 'DirecaoDoVento' in i]\n",
    "um = ip[cols_um]\n",
    "um.head()\n",
    "start, stop = 0, 0 + 500\n",
    "for col in um.columns[:-1]:\n",
    "    #peaks = derivative_threshold(um[col].fillna(0), 120, True, start, stop)\n",
    "    zeros = derivative_zero(um[col].fillna(0), 3, False, start, stop)\n",
    "    nans = um[col].isna()\n",
    "    error = [zeros[i] or nans[i] for i in range(len(zeros))]\n",
    "    error_reg = list_2_regions(error)\n",
    "    error_reg = increase_margins(3, error_reg, len(zeros))\n",
    "    plot_regions(um[col], error_reg, start, stop, plt_type = 'lines')"
   ]
  },
  {
   "cell_type": "markdown",
   "metadata": {},
   "source": [
    "#### Velocidade do Vento"
   ]
  },
  {
   "cell_type": "code",
   "execution_count": null,
   "metadata": {
    "scrolled": false
   },
   "outputs": [],
   "source": [
    "cols_um = [i for i in ip.columns if 'VelocidadeDoVento' in i]\n",
    "um = ip[cols_um].fillna(np.nan)\n",
    "um.head()\n",
    "start, stop = 0, 1000\n",
    "for col in um.columns:\n",
    "    peaks = derivative_threshold(um[col], 8, False, start, stop)\n",
    "    zeros = derivative_zero(um[col].fillna(0), 5, False, start, stop)\n",
    "    nans = um[col].isna()\n",
    "    error = [zeros[i] or peaks[i] or nans[i] for i in range(len(peaks))]\n",
    "    error_reg = list_2_regions(error)\n",
    "    error_reg = increase_margins(3, error_reg, len(peaks))\n",
    "    plot_regions(um[col].fillna(0), error_reg, start, stop, plt_type = 'lines')"
   ]
  },
  {
   "cell_type": "markdown",
   "metadata": {},
   "source": [
    "#### Precipitacao"
   ]
  },
  {
   "cell_type": "code",
   "execution_count": null,
   "metadata": {
    "scrolled": false,
    "tags": []
   },
   "outputs": [],
   "source": [
    "cols_um = [i for i in ip.columns if 'Precipitacao' in i]\n",
    "um = ip[cols_um].fillna(np.nan)\n",
    "um.head()\n",
    "start, stop = 15000, 20000\n",
    "max_ = 0\n",
    "for col in um.columns[:-1]:\n",
    "    print(um[col].nlargest(5))\n",
    "\n",
    "    #zeros = derivative_zero(um[col].fillna(0), 10, False, start, stop)\n",
    "    #nans = um[col].isna()\n",
    "    #error = [zeros[i] or peaks[i] or nans[i] for i in range(len(peaks))]\n",
    "    #error_reg = list_2_regions(error)\n",
    "    #error_reg = increase_margins(3, error_reg, len(peaks))\n",
    "    #plot_regions(um[col].fillna(0), error_reg, len(um[col]), start, stop, plt_type = 'lines')"
   ]
  }
 ],
 "metadata": {
  "hide_input": false,
  "kernelspec": {
   "display_name": "Python 3.7.4 64-bit ('anaconda3': virtualenv)",
   "language": "python",
   "name": "python37464bitanaconda3virtualenv8a104214112646a6ba1e7712d0f85381"
  },
  "language_info": {
   "codemirror_mode": {
    "name": "ipython",
    "version": 3
   },
   "file_extension": ".py",
   "mimetype": "text/x-python",
   "name": "python",
   "nbconvert_exporter": "python",
   "pygments_lexer": "ipython3",
   "version": "3.7.6"
  },
  "toc": {
   "base_numbering": 1,
   "nav_menu": {},
   "number_sections": true,
   "sideBar": true,
   "skip_h1_title": false,
   "title_cell": "Table of Contents",
   "title_sidebar": "Contents",
   "toc_cell": false,
   "toc_position": {},
   "toc_section_display": true,
   "toc_window_display": false
  }
 },
 "nbformat": 4,
 "nbformat_minor": 2
}
