{
 "cells": [
  {
   "cell_type": "code",
   "execution_count": null,
   "metadata": {},
   "outputs": [],
   "source": [
    "feature = 'RadiacaoSolar'"
   ]
  },
  {
   "cell_type": "code",
   "execution_count": null,
   "metadata": {},
   "outputs": [],
   "source": [
    "\n",
    "import yaml\n",
    "def read_yaml(path):\n",
    "    with open(path) as file:\n",
    "        return yaml.load(file, Loader=yaml.FullLoader)\n",
    "    \n",
    "config_path = '../../../src/Pipeline/config/repair_regions.yaml'\n",
    "config = read_yaml(config_path)\n",
    "\n",
    "\n",
    "import plotly.graph_objects as go\n",
    "from plotly.offline import init_notebook_mode\n",
    "from plotly.subplots import make_subplots\n",
    "init_notebook_mode()\n",
    "\n",
    "import pandas as pd\n",
    "import sys\n",
    "sys.path.insert(1, '../../Pipeline')\n",
    "\n",
    "from repair_regions_functions import *\n",
    "\n",
    "p1 = '../../../data/cleandata/Info pluviometricas/Merged Data/error_regions.csv'\n",
    "p2 = '../../../data/cleandata/Info pluviometricas/Merged Data/merged.csv'\n",
    "\n",
    "regions = pd.read_csv(p1, sep = ';')\n",
    "merged = pd.read_csv(p2, sep = ';')\n",
    "\n",
    "df = regions.merge(merged, on = 'Data_Hora')\n",
    "regions['Data_Hora'] = pd.to_datetime(regions['Data_Hora'])\n",
    "merged['Data_Hora'] = pd.to_datetime(merged['Data_Hora'])\n",
    "\n",
    "# Transform Datatime features\n",
    "df[['Date', 'Time']] = df['Data_Hora'].str.split(expand=True)\n",
    "df[['Hora', 'Min', 'Seg']] = df['Time'].str.split(':', expand=True)\n",
    "df[['Ano', 'Mes', 'Dia']] = df['Date'].str.split('-', expand = True)\n",
    "df['Hora'] = df['Hora'].astype(int); df['Min']  = df['Min'].astype(int)\n",
    "df['Ano']  = df['Ano'].astype(int) ; df['Mes']  = df['Mes'].astype(int)\n",
    "df['Dia']  = df['Dia'].astype(int)\n",
    "df['Data_Hora'] = pd.to_datetime(df['Data_Hora'])\n",
    "\n",
    "df = df.drop(columns = ['index'])"
   ]
  },
  {
   "cell_type": "code",
   "execution_count": null,
   "metadata": {},
   "outputs": [],
   "source": [
    "p3 = '../../../data/cleandata/Info pluviometricas/Merged Data/repaired.csv'\n",
    "df = pd.read_csv(p3, sep = ';')\n",
    "df['Data_Hora'] = pd.to_datetime(df['Data_Hora'])"
   ]
  },
  {
   "cell_type": "code",
   "execution_count": null,
   "metadata": {},
   "outputs": [],
   "source": [
    "ano = 2015\n",
    "df = df#[df['Data_Hora'].dt.year == ano]\n",
    "\n",
    "for c in [c for c in df.columns if '_repaired' in c]:\n",
    "    df.rename(columns = {c:c.replace('_repaired','')})"
   ]
  },
  {
   "cell_type": "code",
   "execution_count": null,
   "metadata": {
    "scrolled": false
   },
   "outputs": [],
   "source": [
    "if 'interpolation' in config[feature]:\n",
    "    kwargs_interpol = config[feature]['interpolation']\n",
    "    print(f'Applying interpolation on {feature} with {config[feature][\"interpolation\"]}')\n",
    "    df = interpolation(df, feature, kwargs_interpol)\n",
    "if 'idw' in config[feature]:\n",
    "    kwargs_idw = config[feature]['idw']\n",
    "    print(f'Applying idw on {feature} with {kwargs_idw}')\n",
    "    df = idw(df, feature, kwargs_idw)\n",
    "if 'regression' in config[feature]:\n",
    "    kwargs_regression = config[feature]['regression']\n",
    "    print(f'Applying regression on {feature} with {kwargs_regression}')\n",
    "    df = regression(df, feature, kwargs_regression)\n",
    "if 'fill_ow' in config[feature]:\n",
    "    kwargs_fill_ow = config[feature]['fill_ow']\n",
    "    print(f'Applying fill_ow on {feature} with {kwargs_fill_ow}')\n",
    "    df = fill_ow(df, feature, kwargs_fill_ow)"
   ]
  },
  {
   "cell_type": "code",
   "execution_count": null,
   "metadata": {},
   "outputs": [],
   "source": [
    "#df = df[df['Data_Hora'].dt.year == ano]\n",
    "\n",
    "fig = make_subplots(5,1, shared_xaxes=True)\n",
    "\n",
    "for i in range(5):\n",
    "    fig.add_trace(go.Scatter(\n",
    "                    x=df['Data_Hora'],\n",
    "                    y=df[f'{feature}_{i}'],\n",
    "                    line = dict(color='#616161'),\n",
    "                    ), \n",
    "                  col= 1 ,\n",
    "                  row= i + 1)\n",
    "\n",
    "    try:\n",
    "        fig.add_trace(go.Scatter(\n",
    "                        x=df['Data_Hora'],\n",
    "                        y=df[f'{feature}_{i}'].where(df[f'{feature}_{i}_interpol']),\n",
    "                        line = dict(color='yellow')\n",
    "                        ), \n",
    "                      col= 1 ,\n",
    "                      row= i + 1)\n",
    "    except:\n",
    "        pass\n",
    "    \n",
    "    try:\n",
    "        fig.add_trace(go.Scatter(\n",
    "                        x=df['Data_Hora'],\n",
    "                        y=df[f'{feature}_{i}'].where(df[f'{feature}_{i}_idw']),\n",
    "                        line = dict(color='blue'),\n",
    "                        ), \n",
    "                      col= 1 ,\n",
    "                      row= i + 1)\n",
    "    except:\n",
    "        pass\n",
    "    \n",
    "    try:\n",
    "        fig.add_trace(go.Scatter(\n",
    "                        x=df['Data_Hora'],\n",
    "                        y=df[f'{feature}_{i}'].where(df[f'{feature}_{i}_regression']),\n",
    "                        line = dict(color='green'),\n",
    "                        ), \n",
    "                      col= 1 ,\n",
    "                      row= i + 1)\n",
    "    except:\n",
    "        pass\n",
    "    \n",
    "    try:\n",
    "        fig.add_trace(go.Scatter(\n",
    "                        x=df['Data_Hora'],\n",
    "                        y=df[f'{feature}_{i}'].where(df[f'{feature}_{i}_fill_ow']),\n",
    "                        line = dict(color='orange'),\n",
    "                        ), \n",
    "                      col= 1 ,\n",
    "                      row= i + 1)\n",
    "    except:\n",
    "        pass\n",
    "    \n",
    "    try:\n",
    "        fig.add_trace(go.Scatter(\n",
    "                        x=df['Data_Hora'],\n",
    "                        y=df[f'{feature}_{i}'].where(df[f'{feature}_{i}_error']),\n",
    "                        line = dict(color='red'),\n",
    "                        ), \n",
    "                      col= 1 ,\n",
    "                      row= i + 1)\n",
    "    except:\n",
    "        pass\n",
    "    \n",
    "fig.show()"
   ]
  },
  {
   "cell_type": "code",
   "execution_count": null,
   "metadata": {},
   "outputs": [],
   "source": []
  }
 ],
 "metadata": {
  "hide_input": false,
  "kernelspec": {
   "display_name": "Python 3.7.4 64-bit ('base': conda)",
   "language": "python",
   "name": "python37464bitbaseconda7e5673f44381479f842fe1694b809563"
  },
  "language_info": {
   "codemirror_mode": {
    "name": "ipython",
    "version": 3
   },
   "file_extension": ".py",
   "mimetype": "text/x-python",
   "name": "python",
   "nbconvert_exporter": "python",
   "pygments_lexer": "ipython3",
   "version": "3.8.3"
  },
  "varInspector": {
   "cols": {
    "lenName": 16,
    "lenType": 16,
    "lenVar": 40
   },
   "kernels_config": {
    "python": {
     "delete_cmd_postfix": "",
     "delete_cmd_prefix": "del ",
     "library": "var_list.py",
     "varRefreshCmd": "print(var_dic_list())"
    },
    "r": {
     "delete_cmd_postfix": ") ",
     "delete_cmd_prefix": "rm(",
     "library": "var_list.r",
     "varRefreshCmd": "cat(var_dic_list()) "
    }
   },
   "types_to_exclude": [
    "module",
    "function",
    "builtin_function_or_method",
    "instance",
    "_Feature"
   ],
   "window_display": false
  }
 },
 "nbformat": 4,
 "nbformat_minor": 4
}
