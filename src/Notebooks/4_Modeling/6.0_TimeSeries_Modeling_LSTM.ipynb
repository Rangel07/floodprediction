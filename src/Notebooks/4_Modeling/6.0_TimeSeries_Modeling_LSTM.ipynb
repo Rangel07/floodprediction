{
 "cells": [
  {
   "cell_type": "markdown",
   "metadata": {},
   "source": [
    "# Inicialização"
   ]
  },
  {
   "cell_type": "code",
   "execution_count": 1,
   "metadata": {},
   "outputs": [],
   "source": [
    "import os\n",
    "import tempfile\n",
    "\n",
    "import pandas as pd\n",
    "import numpy as np\n",
    "import seaborn as sns\n",
    "\n",
    "import matplotlib as mpl\n",
    "import matplotlib.pyplot as plt\n",
    "from plotly import graph_objects as go\n",
    "import plotly as py\n",
    "\n",
    "from datetime import datetime\n",
    "from datetime import timedelta\n",
    "\n",
    "import sklearn\n",
    "from sklearn.model_selection import TimeSeriesSplit\n",
    "from sklearn.metrics import plot_confusion_matrix, accuracy_score, f1_score, confusion_matrix, recall_score, precision_score\n",
    "from sklearn.utils import resample\n",
    "from sklearn.preprocessing import StandardScaler\n",
    "\n",
    "import tensorflow.keras as keras\n",
    "import tensorflow as tf\n",
    "\n",
    "from imblearn.over_sampling import SMOTE"
   ]
  },
  {
   "cell_type": "code",
   "execution_count": 2,
   "metadata": {},
   "outputs": [],
   "source": [
    "from keras.preprocessing import sequence\n",
    "import tensorflow as tf\n",
    "from keras.models import Sequential\n",
    "from keras.layers import Dense, LSTM, Dropout\n",
    "\n",
    "from keras.optimizers import Adam\n",
    "from keras.models import load_model\n",
    "from keras.callbacks import ModelCheckpoint\n",
    "from keras.preprocessing.sequence import pad_sequences"
   ]
  },
  {
   "cell_type": "code",
   "execution_count": 3,
   "metadata": {},
   "outputs": [],
   "source": [
    "mpl.rcParams['figure.figsize'] = (12, 10)\n",
    "colors = plt.rcParams['axes.prop_cycle'].by_key()['color']"
   ]
  },
  {
   "cell_type": "markdown",
   "metadata": {},
   "source": [
    "# Funções"
   ]
  },
  {
   "cell_type": "code",
   "execution_count": 4,
   "metadata": {},
   "outputs": [],
   "source": [
    "def upsampleData(X, label):\n",
    "    # Separar verdadeiro e falso\n",
    "    false_label = X[X[label]==0].copy()\n",
    "    true_label = X[X[label]==1].copy()\n",
    "    \n",
    "    # Realizar upsample para os valores verdadeiros\n",
    "    label_upsampled = resample(true_label,\n",
    "                            replace=True, # sample with replacement\n",
    "                            n_samples=len(false_label), # match number in majority class\n",
    "                            random_state=378) # reproducible results\n",
    "    upsampled = pd.concat([false_label, label_upsampled])\n",
    "    \n",
    "    # Separar x e y\n",
    "    x = upsampled[[c for c in X.columns if label not in c]]\n",
    "    y = upsampled[label]\n",
    "    \n",
    "    return x, y"
   ]
  },
  {
   "cell_type": "code",
   "execution_count": 32,
   "metadata": {},
   "outputs": [],
   "source": [
    "def downsampleData(df, days):\n",
    "    if days == 0:\n",
    "        return df\n",
    "    \n",
    "    all_dates = pd.to_datetime(df.loc[df.Label == 1, 'Data_Hora'].dt.strftime('%Y-%m-%d'), yearfirst=True)\n",
    "    under_dates = list()\n",
    "    \n",
    "    for i in range(days+1):\n",
    "        under_dates.append(all_dates - timedelta(days=i))\n",
    "        \n",
    "    df_aux = df[df['Data_Hora'].dt.strftime('%Y-%m-%d').isin(pd.concat(under_dates).dt.strftime('%Y-%m-%d').unique())]\n",
    "    \n",
    "    return df_aux  "
   ]
  },
  {
   "cell_type": "code",
   "execution_count": 6,
   "metadata": {},
   "outputs": [],
   "source": [
    "METRICS = [\n",
    "      keras.metrics.TruePositives(name='tp'),\n",
    "      keras.metrics.FalsePositives(name='fp'),\n",
    "      keras.metrics.TrueNegatives(name='tn'),\n",
    "      keras.metrics.FalseNegatives(name='fn'), \n",
    "      keras.metrics.BinaryAccuracy(name='accuracy'),\n",
    "      keras.metrics.Precision(name='precision'),\n",
    "      keras.metrics.Recall(name='recall'),\n",
    "      keras.metrics.AUC(name='auc'),\n",
    "]\n",
    "\n",
    "def make_model(shape, metrics = METRICS, output_bias=None):\n",
    "    if output_bias is not None:\n",
    "        output_bias = tf.keras.initializers.Constant(output_bias)\n",
    "        \n",
    "    adam = Adam(lr=0.001)\n",
    "\n",
    "    model = Sequential()\n",
    "    #model.add(LSTM(64, return_sequences=True, input_shape=(shape[1], shape[2])))\n",
    "    model.add(LSTM(64, return_sequences=True, input_shape=(shape[1], shape[2])))\n",
    "    model.add(Dropout(0.3))\n",
    "    model.add(LSTM(64))\n",
    "    model.add(Dropout(0.3))\n",
    "    #model.add(Dense(units=64, activation='relu'))\n",
    "    model.add(Dense(units=1, activation='sigmoid'))\n",
    "    \n",
    "    model.compile(loss='binary_crossentropy', optimizer=adam, metrics=metrics)\n",
    "\n",
    "    return model"
   ]
  },
  {
   "cell_type": "code",
   "execution_count": 7,
   "metadata": {},
   "outputs": [],
   "source": [
    "EPOCHS = 10\n",
    "BATCH_SIZE = 200\n",
    "\n",
    "early_stopping = tf.keras.callbacks.EarlyStopping(\n",
    "    monitor='val_auc', \n",
    "    verbose=1,\n",
    "    patience=10,\n",
    "    mode='max',\n",
    "    restore_best_weights=True)"
   ]
  },
  {
   "cell_type": "code",
   "execution_count": 8,
   "metadata": {},
   "outputs": [],
   "source": [
    "def plot_loss(history, label, n):\n",
    "  # Use a log scale to show the wide range of values.\n",
    "  plt.semilogy(history.epoch,  history.history['loss'],\n",
    "               color=colors[n], label='Train '+label)\n",
    "  plt.xlabel('Epoch')\n",
    "  plt.ylabel('Loss')\n",
    "  \n",
    "  plt.legend()"
   ]
  },
  {
   "cell_type": "code",
   "execution_count": 9,
   "metadata": {},
   "outputs": [],
   "source": [
    "def plot_metrics(history):\n",
    "  metrics =  ['loss', 'auc', 'precision', 'recall']\n",
    "  for n, metric in enumerate(metrics):\n",
    "    name = metric.replace(\"_\",\" \").capitalize()\n",
    "    plt.subplot(2,2,n+1)\n",
    "    plt.plot(history.epoch,  history.history[metric], color=colors[0], label='Train')\n",
    "    plt.xlabel('Epoch')\n",
    "    plt.ylabel(name)\n",
    "    if metric == 'loss':\n",
    "      plt.ylim([0, plt.ylim()[1]])\n",
    "    elif metric == 'auc':\n",
    "      plt.ylim([0.8,1])\n",
    "    else:\n",
    "      plt.ylim([0,1])\n",
    "\n",
    "    plt.legend()"
   ]
  },
  {
   "cell_type": "code",
   "execution_count": 67,
   "metadata": {},
   "outputs": [],
   "source": [
    "def plot_cm(labels, predictions, p=0.5):\n",
    "  cm = confusion_matrix(labels, predictions > p)\n",
    "  plt.figure(figsize=(5,5))\n",
    "  sns.heatmap(cm, annot=True, fmt=\"d\")\n",
    "  plt.title('Confusion matrix @{:.2f}'.format(p))\n",
    "  plt.ylabel('Actual label')\n",
    "  plt.xlabel('Predicted label')\n",
    "\n",
    "  print('Não ocorreu enchente (Verdadeiro Negativo): ', cm[0][0])\n",
    "  print('Não ocorreu enchente mas detectou (Falso Positivo): ', cm[0][1])\n",
    "  print('Ocorreu enchente e não detectou (Falso Negativo): ', cm[1][0])\n",
    "  print('Ocorreu enchente e detectou (Verdadeiro Positivo): ', cm[1][1])\n",
    "  print('Total de enchentes: ', np.sum(cm[1]))"
   ]
  },
  {
   "cell_type": "code",
   "execution_count": 11,
   "metadata": {},
   "outputs": [],
   "source": [
    "def plot_roc(name, labels, predictions, **kwargs):\n",
    "  fp, tp, _ = sklearn.metrics.roc_curve(labels, predictions)\n",
    "\n",
    "  plt.plot(100*fp, 100*tp, label=name, linewidth=2, **kwargs)\n",
    "  plt.xlabel('False positives [%]')\n",
    "  plt.ylabel('True positives [%]')\n",
    "  plt.xlim([-0.5,20])\n",
    "  plt.ylim([80,100.5])\n",
    "  plt.grid(True)\n",
    "  ax = plt.gca()\n",
    "  ax.set_aspect('equal')"
   ]
  },
  {
   "cell_type": "markdown",
   "metadata": {},
   "source": [
    "# Preparar dados"
   ]
  },
  {
   "cell_type": "markdown",
   "metadata": {},
   "source": [
    "## Operações básicas"
   ]
  },
  {
   "cell_type": "code",
   "execution_count": 12,
   "metadata": {},
   "outputs": [
    {
     "data": {
      "text/html": [
       "<div>\n",
       "<style scoped>\n",
       "    .dataframe tbody tr th:only-of-type {\n",
       "        vertical-align: middle;\n",
       "    }\n",
       "\n",
       "    .dataframe tbody tr th {\n",
       "        vertical-align: top;\n",
       "    }\n",
       "\n",
       "    .dataframe thead th {\n",
       "        text-align: right;\n",
       "    }\n",
       "</style>\n",
       "<table border=\"1\" class=\"dataframe\">\n",
       "  <thead>\n",
       "    <tr style=\"text-align: right;\">\n",
       "      <th></th>\n",
       "      <th>Data_Hora</th>\n",
       "      <th>UmidadeRelativa</th>\n",
       "      <th>PressaoAtmosferica</th>\n",
       "      <th>TemperaturaDoAr</th>\n",
       "      <th>PontoDeOrvalho</th>\n",
       "      <th>RadiacaoSolar</th>\n",
       "      <th>DirecaoDoVento</th>\n",
       "      <th>VelocidadeDoVento</th>\n",
       "      <th>Precipitacao</th>\n",
       "      <th>Dia</th>\n",
       "      <th>Mes</th>\n",
       "      <th>Label</th>\n",
       "    </tr>\n",
       "  </thead>\n",
       "  <tbody>\n",
       "    <tr>\n",
       "      <th>0</th>\n",
       "      <td>2011-01-01 00:00:00</td>\n",
       "      <td>84.8</td>\n",
       "      <td>920.6</td>\n",
       "      <td>20.2</td>\n",
       "      <td>17.5</td>\n",
       "      <td>0.0</td>\n",
       "      <td>137.0</td>\n",
       "      <td>1.5</td>\n",
       "      <td>0.0</td>\n",
       "      <td>1</td>\n",
       "      <td>1</td>\n",
       "      <td>0.0</td>\n",
       "    </tr>\n",
       "    <tr>\n",
       "      <th>1</th>\n",
       "      <td>2011-01-01 01:00:00</td>\n",
       "      <td>84.0</td>\n",
       "      <td>919.9</td>\n",
       "      <td>20.1</td>\n",
       "      <td>17.3</td>\n",
       "      <td>0.0</td>\n",
       "      <td>151.0</td>\n",
       "      <td>1.8</td>\n",
       "      <td>0.0</td>\n",
       "      <td>1</td>\n",
       "      <td>1</td>\n",
       "      <td>0.0</td>\n",
       "    </tr>\n",
       "    <tr>\n",
       "      <th>2</th>\n",
       "      <td>2011-01-01 02:00:00</td>\n",
       "      <td>85.8</td>\n",
       "      <td>919.2</td>\n",
       "      <td>19.8</td>\n",
       "      <td>17.4</td>\n",
       "      <td>0.0</td>\n",
       "      <td>155.0</td>\n",
       "      <td>1.8</td>\n",
       "      <td>0.0</td>\n",
       "      <td>1</td>\n",
       "      <td>1</td>\n",
       "      <td>0.0</td>\n",
       "    </tr>\n",
       "    <tr>\n",
       "      <th>3</th>\n",
       "      <td>2011-01-01 03:00:00</td>\n",
       "      <td>87.6</td>\n",
       "      <td>918.6</td>\n",
       "      <td>19.5</td>\n",
       "      <td>17.3</td>\n",
       "      <td>0.0</td>\n",
       "      <td>152.0</td>\n",
       "      <td>1.5</td>\n",
       "      <td>0.0</td>\n",
       "      <td>1</td>\n",
       "      <td>1</td>\n",
       "      <td>0.0</td>\n",
       "    </tr>\n",
       "    <tr>\n",
       "      <th>4</th>\n",
       "      <td>2011-01-01 04:00:00</td>\n",
       "      <td>87.4</td>\n",
       "      <td>918.4</td>\n",
       "      <td>19.4</td>\n",
       "      <td>17.2</td>\n",
       "      <td>0.0</td>\n",
       "      <td>147.0</td>\n",
       "      <td>1.6</td>\n",
       "      <td>0.0</td>\n",
       "      <td>1</td>\n",
       "      <td>1</td>\n",
       "      <td>0.0</td>\n",
       "    </tr>\n",
       "  </tbody>\n",
       "</table>\n",
       "</div>"
      ],
      "text/plain": [
       "            Data_Hora  UmidadeRelativa  PressaoAtmosferica  TemperaturaDoAr  \\\n",
       "0 2011-01-01 00:00:00             84.8               920.6             20.2   \n",
       "1 2011-01-01 01:00:00             84.0               919.9             20.1   \n",
       "2 2011-01-01 02:00:00             85.8               919.2             19.8   \n",
       "3 2011-01-01 03:00:00             87.6               918.6             19.5   \n",
       "4 2011-01-01 04:00:00             87.4               918.4             19.4   \n",
       "\n",
       "   PontoDeOrvalho  RadiacaoSolar  DirecaoDoVento  VelocidadeDoVento  \\\n",
       "0            17.5            0.0           137.0                1.5   \n",
       "1            17.3            0.0           151.0                1.8   \n",
       "2            17.4            0.0           155.0                1.8   \n",
       "3            17.3            0.0           152.0                1.5   \n",
       "4            17.2            0.0           147.0                1.6   \n",
       "\n",
       "   Precipitacao  Dia  Mes  Label  \n",
       "0           0.0    1    1    0.0  \n",
       "1           0.0    1    1    0.0  \n",
       "2           0.0    1    1    0.0  \n",
       "3           0.0    1    1    0.0  \n",
       "4           0.0    1    1    0.0  "
      ]
     },
     "metadata": {},
     "output_type": "display_data"
    },
    {
     "name": "stdout",
     "output_type": "stream",
     "text": [
      "(76681, 12)\n"
     ]
    }
   ],
   "source": [
    "df = pd.read_csv('../../../data/cleandata/Info pluviometricas/Merged Data/full_data.csv', sep=';')\n",
    "\n",
    "# Escolher label e remover outras labels desnecessárias\n",
    "cols_rem = ['LocalMax_d_ow', 'LocalMax_h_All', 'LocalMax_h', 'LocalMax_h_ow', 'LocalMax_d', 'Local'] + [c for c in df.columns if 'Local_' in c]\n",
    "df = df[df['Local'] == 'Camilopolis'].drop(columns = cols_rem).rename(columns = {'LocalMax_d_All': 'Label'}).sort_values(by='Data_Hora')\n",
    "\n",
    "# Colunas de data\n",
    "df['Data_Hora'] = pd.to_datetime(df['Data_Hora'], yearfirst=True)\n",
    "df = df[df['Data_Hora'].dt.minute == 0]\n",
    "df['Dia'] = df['Data_Hora'].dt.day\n",
    "df['Mes'] = df['Data_Hora'].dt.month\n",
    "\n",
    "# Reordernar colunas\n",
    "df = df[df.columns.drop('Label').to_list() + ['Label']]\n",
    "df = df.reset_index(drop=True)\n",
    "\n",
    "#df = df[0:1000]\n",
    "\n",
    "display(df.head())\n",
    "print(df.shape)"
   ]
  },
  {
   "cell_type": "markdown",
   "metadata": {},
   "source": [
    "## Contagem negativo/positivo"
   ]
  },
  {
   "cell_type": "code",
   "execution_count": 13,
   "metadata": {},
   "outputs": [
    {
     "name": "stdout",
     "output_type": "stream",
     "text": [
      "Examples:\n",
      "    Total: 76681\n",
      "    Positive: 1992 (2.60% of total)\n",
      "\n"
     ]
    }
   ],
   "source": [
    "neg, pos = np.bincount(df['Label'])\n",
    "total = neg + pos\n",
    "print('Examples:\\n    Total: {}\\n    Positive: {} ({:.2f}% of total)\\n'.format(\n",
    "    total, pos, 100 * pos / total))"
   ]
  },
  {
   "cell_type": "markdown",
   "metadata": {},
   "source": [
    "# Modelagem"
   ]
  },
  {
   "cell_type": "markdown",
   "metadata": {},
   "source": [
    "## Downsample e Scale"
   ]
  },
  {
   "cell_type": "code",
   "execution_count": 33,
   "metadata": {},
   "outputs": [],
   "source": [
    "# Opcional: undersampling (0 para não realizar)\n",
    "days = 2\n",
    "\n",
    "train_df = downsampleData(df, days)\n",
    "# under_dates = pd.to_datetime(df.loc[df.Label == 1, 'Data_Hora'].dt.strftime('%Y-%m-%d'), yearfirst=True)\n",
    "# train_df = df[df['Data_Hora'].dt.strftime('%Y-%m-%d').isin(pd.concat([under_dates, under_dates - timedelta(days=1), under_dates - timedelta(days=2)]).dt.strftime('%Y-%m-%d').unique())]\n",
    "train_df = train_df.drop(columns=['Data_Hora', 'DirecaoDoVento', 'VelocidadeDoVento'])"
   ]
  },
  {
   "cell_type": "code",
   "execution_count": 34,
   "metadata": {},
   "outputs": [],
   "source": [
    "train_labels = np.array(train_df.pop('Label'))\n",
    "bool_train_labels = train_labels != 0\n",
    "\n",
    "train_features = np.array(train_df)"
   ]
  },
  {
   "cell_type": "code",
   "execution_count": 35,
   "metadata": {},
   "outputs": [],
   "source": [
    "scaler = StandardScaler()\n",
    "train_features = scaler.fit_transform(train_features)\n",
    "\n",
    "train_features = np.clip(train_features, -5, 5)"
   ]
  },
  {
   "cell_type": "markdown",
   "metadata": {},
   "source": [
    "## Prep data for LSTM"
   ]
  },
  {
   "cell_type": "markdown",
   "metadata": {},
   "source": [
    "### Obter acumulado das features"
   ]
  },
  {
   "cell_type": "code",
   "execution_count": 36,
   "metadata": {},
   "outputs": [],
   "source": [
    "train_df = pd.DataFrame(train_features)\n",
    "input_cols = train_df.columns\n",
    "\n",
    "train_df['input_vector'] = train_df[input_cols].apply(tuple, axis=1).apply(list)\n",
    "train_df['input_vector'] = train_df.input_vector.apply(lambda x: [list(x)])\n",
    "#train_df['cumulative_input_vectors'] = train_df.input_vector.cumsum()\n",
    "#df['cumulative_input_vectors'] = df.input_vector.rolling(min_periods=1, window=200).sum()"
   ]
  },
  {
   "cell_type": "code",
   "execution_count": 37,
   "metadata": {},
   "outputs": [
    {
     "name": "stdout",
     "output_type": "stream",
     "text": [
      "5975/5975\r"
     ]
    }
   ],
   "source": [
    "cumulative_input_vectors = []\n",
    "steps = 48\n",
    "\n",
    "for i in range(train_df.shape[0]):\n",
    "    min_ = max(0, i+1 - steps)\n",
    "    max_ = min(train_df.shape[0], i+1)\n",
    "    #print(f'{min_} - {max_}')\n",
    "    \n",
    "    cumulative_input_vectors.append(train_df['input_vector'][min_:max_].sum())\n",
    "    \n",
    "    print(f'{i}/{train_df.shape[0]-1}', end='\\r')"
   ]
  },
  {
   "cell_type": "code",
   "execution_count": 38,
   "metadata": {},
   "outputs": [],
   "source": [
    "max_sequence_length = 48 #df.cumulative_input_vectors.apply(len).max()\n",
    "# Save it as a list   \n",
    "padded_sequences = pad_sequences(cumulative_input_vectors, max_sequence_length, dtype='float').tolist()\n",
    "train_df['padded_input_vectors'] = pd.Series(padded_sequences).apply(np.asarray)"
   ]
  },
  {
   "cell_type": "markdown",
   "metadata": {},
   "source": [
    "### Reshape"
   ]
  },
  {
   "cell_type": "code",
   "execution_count": 45,
   "metadata": {},
   "outputs": [],
   "source": [
    "df_aux = pd.concat([train_df['padded_input_vectors'], pd.DataFrame(train_labels)], axis=1).rename(columns={0:'Label'})"
   ]
  },
  {
   "cell_type": "code",
   "execution_count": 46,
   "metadata": {},
   "outputs": [],
   "source": [
    "# Extract your training data\n",
    "df_aux_train = df_aux[:int(df_aux.shape[0]*0.7)].copy()\n",
    "df_aux_test = df_aux[int(df_aux.shape[0]*0.7):].copy()\n",
    "\n",
    "# X_train, y_train = upsampleData(df_aux_train, 'Label')\n",
    "# train_re = pd.concat([X_train, y_train], axis=1)\n",
    "\n",
    "train_re = df_aux_train.copy()\n",
    "#train_re['Label'] = train_labels\n",
    "\n",
    "X_train_init = np.asarray(train_re.padded_input_vectors)\n",
    "# Use hstack to and reshape to make the inputs a 3d vector\n",
    "X_train = np.hstack(X_train_init).reshape(len(train_re),max_sequence_length,len(input_cols))\n",
    "y_train = np.hstack(np.asarray(train_re.Label)).reshape(len(train_re),1)\n",
    "\n",
    "X_test_init = np.asarray(df_aux_test.padded_input_vectors)\n",
    "# Use hstack to and reshape to make the inputs a 3d vector\n",
    "X_test = np.hstack(X_test_init).reshape(len(df_aux_test),max_sequence_length,len(input_cols))\n",
    "y_test = np.hstack(np.asarray(df_aux_test.Label)).reshape(len(df_aux_test),1)"
   ]
  },
  {
   "cell_type": "code",
   "execution_count": 47,
   "metadata": {},
   "outputs": [],
   "source": [
    "# Get your input dimensions\n",
    "# Input length is the length for one input sequence (i.e. the number of rows for your sample)\n",
    "# Input dim is the number of dimensions in one input vector (i.e. number of input columns)\n",
    "input_length = X_train.shape[1]\n",
    "input_dim = X_train.shape[2]\n",
    "# Output dimensions is the shape of a single output vector\n",
    "# In this case it's just 1, but it could be more\n",
    "output_dim = len(y_train[0])"
   ]
  },
  {
   "cell_type": "code",
   "execution_count": 48,
   "metadata": {},
   "outputs": [],
   "source": [
    "train_features = X_train\n",
    "train_labels = y_train"
   ]
  },
  {
   "cell_type": "code",
   "execution_count": 49,
   "metadata": {},
   "outputs": [
    {
     "name": "stdout",
     "output_type": "stream",
     "text": [
      "(4183, 48, 8)\n",
      "(4183, 1)\n"
     ]
    }
   ],
   "source": [
    "print(train_features.shape)\n",
    "print(train_labels.shape)"
   ]
  },
  {
   "cell_type": "code",
   "execution_count": 50,
   "metadata": {},
   "outputs": [
    {
     "data": {
      "text/plain": [
       "(1793, 1)"
      ]
     },
     "execution_count": 50,
     "metadata": {},
     "output_type": "execute_result"
    }
   ],
   "source": [
    "y_test.shape"
   ]
  },
  {
   "cell_type": "code",
   "execution_count": 51,
   "metadata": {},
   "outputs": [
    {
     "name": "stdout",
     "output_type": "stream",
     "text": [
      "1392.0\n",
      "600.0\n"
     ]
    }
   ],
   "source": [
    "print(train_labels.sum())\n",
    "print(y_test.sum())"
   ]
  },
  {
   "cell_type": "markdown",
   "metadata": {},
   "source": [
    "## Make Model"
   ]
  },
  {
   "cell_type": "code",
   "execution_count": 52,
   "metadata": {},
   "outputs": [
    {
     "name": "stdout",
     "output_type": "stream",
     "text": [
      "Model: \"sequential\"\n",
      "_________________________________________________________________\n",
      "Layer (type)                 Output Shape              Param #   \n",
      "=================================================================\n",
      "lstm (LSTM)                  (None, 48, 64)            18688     \n",
      "_________________________________________________________________\n",
      "dropout (Dropout)            (None, 48, 64)            0         \n",
      "_________________________________________________________________\n",
      "lstm_1 (LSTM)                (None, 64)                33024     \n",
      "_________________________________________________________________\n",
      "dropout_1 (Dropout)          (None, 64)                0         \n",
      "_________________________________________________________________\n",
      "dense (Dense)                (None, 1)                 65        \n",
      "=================================================================\n",
      "Total params: 51,777\n",
      "Trainable params: 51,777\n",
      "Non-trainable params: 0\n",
      "_________________________________________________________________\n"
     ]
    }
   ],
   "source": [
    "model = make_model(shape=train_features.shape)\n",
    "model.summary()"
   ]
  },
  {
   "cell_type": "code",
   "execution_count": 53,
   "metadata": {},
   "outputs": [
    {
     "name": "stdout",
     "output_type": "stream",
     "text": [
      "Loss: 0.6929\n"
     ]
    }
   ],
   "source": [
    "results = model.evaluate(train_features, train_labels, batch_size=BATCH_SIZE, verbose=0)\n",
    "print(\"Loss: {:0.4f}\".format(results[0]))"
   ]
  },
  {
   "cell_type": "markdown",
   "metadata": {},
   "source": [
    "## Change initial bias"
   ]
  },
  {
   "cell_type": "code",
   "execution_count": 54,
   "metadata": {},
   "outputs": [],
   "source": [
    "total = train_labels.shape[0]\n",
    "pos = train_labels.sum()\n",
    "neg = total - pos"
   ]
  },
  {
   "cell_type": "code",
   "execution_count": 55,
   "metadata": {},
   "outputs": [
    {
     "data": {
      "text/plain": [
       "array([-0.69565839])"
      ]
     },
     "execution_count": 55,
     "metadata": {},
     "output_type": "execute_result"
    }
   ],
   "source": [
    "initial_bias = np.log([pos/neg])\n",
    "initial_bias"
   ]
  },
  {
   "cell_type": "code",
   "execution_count": 56,
   "metadata": {},
   "outputs": [
    {
     "data": {
      "text/plain": [
       "array([[0.5314876 ],\n",
       "       [0.4734358 ],\n",
       "       [0.49341285],\n",
       "       [0.5316516 ],\n",
       "       [0.53142715],\n",
       "       [0.5597217 ],\n",
       "       [0.526137  ],\n",
       "       [0.46190482],\n",
       "       [0.49906564],\n",
       "       [0.4797932 ]], dtype=float32)"
      ]
     },
     "execution_count": 56,
     "metadata": {},
     "output_type": "execute_result"
    }
   ],
   "source": [
    "model = make_model(output_bias = initial_bias, shape=train_features.shape)\n",
    "model.predict(X_test[:10])"
   ]
  },
  {
   "cell_type": "code",
   "execution_count": 57,
   "metadata": {},
   "outputs": [
    {
     "name": "stdout",
     "output_type": "stream",
     "text": [
      "Loss: 0.6978\n"
     ]
    }
   ],
   "source": [
    "results = model.evaluate(train_features, train_labels, batch_size=BATCH_SIZE, verbose=0)\n",
    "print(\"Loss: {:0.4f}\".format(results[0]))"
   ]
  },
  {
   "cell_type": "code",
   "execution_count": 58,
   "metadata": {},
   "outputs": [
    {
     "name": "stdout",
     "output_type": "stream",
     "text": [
      "Loss: 0.6968\n"
     ]
    }
   ],
   "source": [
    "results = model.evaluate(X_test, y_test, batch_size=BATCH_SIZE, verbose=0)\n",
    "print(\"Loss: {:0.4f}\".format(results[0]))"
   ]
  },
  {
   "cell_type": "markdown",
   "metadata": {},
   "source": [
    "### Testes com o bias"
   ]
  },
  {
   "cell_type": "code",
   "execution_count": 59,
   "metadata": {},
   "outputs": [],
   "source": [
    "initial_weights = os.path.join(tempfile.mkdtemp(),'initial_weights')\n",
    "model.save_weights(initial_weights)"
   ]
  },
  {
   "cell_type": "code",
   "execution_count": 60,
   "metadata": {},
   "outputs": [],
   "source": [
    "model = make_model(shape=train_features.shape)\n",
    "model.load_weights(initial_weights)\n",
    "model.layers[-1].bias.assign([0.0])\n",
    "zero_bias_history = model.fit(\n",
    "    train_features,\n",
    "    train_labels,\n",
    "    batch_size=BATCH_SIZE,\n",
    "    epochs=20,\n",
    "    verbose=0)"
   ]
  },
  {
   "cell_type": "code",
   "execution_count": 61,
   "metadata": {},
   "outputs": [],
   "source": [
    "model = make_model(shape=train_features.shape)\n",
    "model.load_weights(initial_weights)\n",
    "careful_bias_history = model.fit(\n",
    "    train_features,\n",
    "    train_labels,\n",
    "    batch_size=BATCH_SIZE,\n",
    "    epochs=20,\n",
    "    verbose=0)"
   ]
  },
  {
   "cell_type": "code",
   "execution_count": 62,
   "metadata": {},
   "outputs": [
    {
     "data": {
      "image/png": "[encoded data removed]",
      "text/plain": [
       "<Figure size 864x720 with 1 Axes>"
      ]
     },
     "metadata": {
      "needs_background": "light"
     },
     "output_type": "display_data"
    }
   ],
   "source": [
    "plot_loss(zero_bias_history, \"Zero Bias\", 0)\n",
    "plot_loss(careful_bias_history, \"Careful Bias\", 1)"
   ]
  },
  {
   "cell_type": "markdown",
   "metadata": {},
   "source": [
    "## Treinar modelo real"
   ]
  },
  {
   "cell_type": "code",
   "execution_count": 63,
   "metadata": {
    "scrolled": true
   },
   "outputs": [
    {
     "name": "stdout",
     "output_type": "stream",
     "text": [
      "Epoch 1/50\n",
      "21/21 [==============================] - 2s 82ms/step - loss: 0.6588 - tp: 113.0000 - fp: 221.0000 - tn: 5361.0000 - fn: 2671.0000 - accuracy: 0.6543 - precision: 0.3383 - recall: 0.0406 - auc: 0.4999\n",
      "Epoch 2/50\n",
      "21/21 [==============================] - 2s 81ms/step - loss: 0.6445 - tp: 0.0000e+00 - fp: 1.0000 - tn: 2790.0000 - fn: 1392.0000 - accuracy: 0.6670 - precision: 0.0000e+00 - recall: 0.0000e+00 - auc: 0.4784\n",
      "Epoch 3/50\n",
      "21/21 [==============================] - 2s 79ms/step - loss: 0.6396 - tp: 0.0000e+00 - fp: 0.0000e+00 - tn: 2791.0000 - fn: 1392.0000 - accuracy: 0.6672 - precision: 0.0000e+00 - recall: 0.0000e+00 - auc: 0.5022\n",
      "Epoch 4/50\n",
      "21/21 [==============================] - 2s 82ms/step - loss: 0.6408 - tp: 0.0000e+00 - fp: 0.0000e+00 - tn: 2791.0000 - fn: 1392.0000 - accuracy: 0.6672 - precision: 0.0000e+00 - recall: 0.0000e+00 - auc: 0.4846\n",
      "Epoch 5/50\n",
      "21/21 [==============================] - 2s 79ms/step - loss: 0.6387 - tp: 0.0000e+00 - fp: 0.0000e+00 - tn: 2791.0000 - fn: 1392.0000 - accuracy: 0.6672 - precision: 0.0000e+00 - recall: 0.0000e+00 - auc: 0.5023\n",
      "Epoch 6/50\n",
      "21/21 [==============================] - 2s 80ms/step - loss: 0.6383 - tp: 0.0000e+00 - fp: 0.0000e+00 - tn: 2791.0000 - fn: 1392.0000 - accuracy: 0.6672 - precision: 0.0000e+00 - recall: 0.0000e+00 - auc: 0.5035\n",
      "Epoch 7/50\n",
      "21/21 [==============================] - 2s 80ms/step - loss: 0.6394 - tp: 0.0000e+00 - fp: 0.0000e+00 - tn: 2791.0000 - fn: 1392.0000 - accuracy: 0.6672 - precision: 0.0000e+00 - recall: 0.0000e+00 - auc: 0.4929\n",
      "Epoch 8/50\n",
      "21/21 [==============================] - 2s 80ms/step - loss: 0.6390 - tp: 0.0000e+00 - fp: 0.0000e+00 - tn: 2791.0000 - fn: 1392.0000 - accuracy: 0.6672 - precision: 0.0000e+00 - recall: 0.0000e+00 - auc: 0.4964\n",
      "Epoch 9/50\n",
      "21/21 [==============================] - 2s 79ms/step - loss: 0.6394 - tp: 0.0000e+00 - fp: 0.0000e+00 - tn: 2791.0000 - fn: 1392.0000 - accuracy: 0.6672 - precision: 0.0000e+00 - recall: 0.0000e+00 - auc: 0.4876\n",
      "Epoch 10/50\n",
      "21/21 [==============================] - 2s 79ms/step - loss: 0.6379 - tp: 0.0000e+00 - fp: 0.0000e+00 - tn: 2791.0000 - fn: 1392.0000 - accuracy: 0.6672 - precision: 0.0000e+00 - recall: 0.0000e+00 - auc: 0.4991\n",
      "Epoch 11/50\n",
      "21/21 [==============================] - 2s 78ms/step - loss: 0.6383 - tp: 0.0000e+00 - fp: 0.0000e+00 - tn: 2791.0000 - fn: 1392.0000 - accuracy: 0.6672 - precision: 0.0000e+00 - recall: 0.0000e+00 - auc: 0.4951\n",
      "Epoch 12/50\n",
      "21/21 [==============================] - 2s 81ms/step - loss: 0.6372 - tp: 0.0000e+00 - fp: 0.0000e+00 - tn: 2791.0000 - fn: 1392.0000 - accuracy: 0.6672 - precision: 0.0000e+00 - recall: 0.0000e+00 - auc: 0.5089\n",
      "Epoch 13/50\n",
      "21/21 [==============================] - 2s 82ms/step - loss: 0.6369 - tp: 0.0000e+00 - fp: 0.0000e+00 - tn: 2791.0000 - fn: 1392.0000 - accuracy: 0.6672 - precision: 0.0000e+00 - recall: 0.0000e+00 - auc: 0.5095\n",
      "Epoch 14/50\n",
      "21/21 [==============================] - 2s 81ms/step - loss: 0.6401 - tp: 0.0000e+00 - fp: 0.0000e+00 - tn: 2791.0000 - fn: 1392.0000 - accuracy: 0.6672 - precision: 0.0000e+00 - recall: 0.0000e+00 - auc: 0.4835\n",
      "Epoch 15/50\n",
      "21/21 [==============================] - 2s 77ms/step - loss: 0.6401 - tp: 0.0000e+00 - fp: 0.0000e+00 - tn: 2791.0000 - fn: 1392.0000 - accuracy: 0.6672 - precision: 0.0000e+00 - recall: 0.0000e+00 - auc: 0.4789\n",
      "Epoch 16/50\n",
      "21/21 [==============================] - 2s 78ms/step - loss: 0.6392 - tp: 0.0000e+00 - fp: 0.0000e+00 - tn: 2791.0000 - fn: 1392.0000 - accuracy: 0.6672 - precision: 0.0000e+00 - recall: 0.0000e+00 - auc: 0.4796\n",
      "Epoch 17/50\n",
      "21/21 [==============================] - 2s 77ms/step - loss: 0.6398 - tp: 0.0000e+00 - fp: 0.0000e+00 - tn: 2791.0000 - fn: 1392.0000 - accuracy: 0.6672 - precision: 0.0000e+00 - recall: 0.0000e+00 - auc: 0.4780\n",
      "Epoch 18/50\n",
      "21/21 [==============================] - 2s 79ms/step - loss: 0.6376 - tp: 0.0000e+00 - fp: 0.0000e+00 - tn: 2791.0000 - fn: 1392.0000 - accuracy: 0.6672 - precision: 0.0000e+00 - recall: 0.0000e+00 - auc: 0.5039\n",
      "Epoch 19/50\n",
      "21/21 [==============================] - 2s 78ms/step - loss: 0.6378 - tp: 0.0000e+00 - fp: 0.0000e+00 - tn: 2791.0000 - fn: 1392.0000 - accuracy: 0.6672 - precision: 0.0000e+00 - recall: 0.0000e+00 - auc: 0.5016\n",
      "Epoch 20/50\n",
      "21/21 [==============================] - 2s 80ms/step - loss: 0.6384 - tp: 0.0000e+00 - fp: 0.0000e+00 - tn: 2791.0000 - fn: 1392.0000 - accuracy: 0.6672 - precision: 0.0000e+00 - recall: 0.0000e+00 - auc: 0.4940\n",
      "Epoch 21/50\n",
      "21/21 [==============================] - 2s 79ms/step - loss: 0.6366 - tp: 0.0000e+00 - fp: 0.0000e+00 - tn: 2791.0000 - fn: 1392.0000 - accuracy: 0.6672 - precision: 0.0000e+00 - recall: 0.0000e+00 - auc: 0.5122\n",
      "Epoch 22/50\n",
      "21/21 [==============================] - 2s 82ms/step - loss: 0.6376 - tp: 0.0000e+00 - fp: 0.0000e+00 - tn: 2791.0000 - fn: 1392.0000 - accuracy: 0.6672 - precision: 0.0000e+00 - recall: 0.0000e+00 - auc: 0.4990\n",
      "Epoch 23/50\n",
      "21/21 [==============================] - 2s 81ms/step - loss: 0.6387 - tp: 0.0000e+00 - fp: 0.0000e+00 - tn: 2791.0000 - fn: 1392.0000 - accuracy: 0.6672 - precision: 0.0000e+00 - recall: 0.0000e+00 - auc: 0.4884\n",
      "Epoch 24/50\n",
      "21/21 [==============================] - 2s 83ms/step - loss: 0.6378 - tp: 0.0000e+00 - fp: 0.0000e+00 - tn: 2791.0000 - fn: 1392.0000 - accuracy: 0.6672 - precision: 0.0000e+00 - recall: 0.0000e+00 - auc: 0.4965\n",
      "Epoch 25/50\n",
      "21/21 [==============================] - 2s 80ms/step - loss: 0.6398 - tp: 0.0000e+00 - fp: 0.0000e+00 - tn: 2791.0000 - fn: 1392.0000 - accuracy: 0.6672 - precision: 0.0000e+00 - recall: 0.0000e+00 - auc: 0.4849\n",
      "Epoch 26/50\n",
      "21/21 [==============================] - 2s 78ms/step - loss: 0.6375 - tp: 0.0000e+00 - fp: 0.0000e+00 - tn: 2791.0000 - fn: 1392.0000 - accuracy: 0.6672 - precision: 0.0000e+00 - recall: 0.0000e+00 - auc: 0.5085\n",
      "Epoch 27/50\n",
      "21/21 [==============================] - 2s 78ms/step - loss: 0.6368 - tp: 0.0000e+00 - fp: 0.0000e+00 - tn: 2791.0000 - fn: 1392.0000 - accuracy: 0.6672 - precision: 0.0000e+00 - recall: 0.0000e+00 - auc: 0.5094\n",
      "Epoch 28/50\n",
      "21/21 [==============================] - 2s 78ms/step - loss: 0.6379 - tp: 0.0000e+00 - fp: 0.0000e+00 - tn: 2791.0000 - fn: 1392.0000 - accuracy: 0.6672 - precision: 0.0000e+00 - recall: 0.0000e+00 - auc: 0.4918\n",
      "Epoch 29/50\n",
      "21/21 [==============================] - 2s 77ms/step - loss: 0.6366 - tp: 0.0000e+00 - fp: 0.0000e+00 - tn: 2791.0000 - fn: 1392.0000 - accuracy: 0.6672 - precision: 0.0000e+00 - recall: 0.0000e+00 - auc: 0.5066\n",
      "Epoch 30/50\n",
      "21/21 [==============================] - 2s 77ms/step - loss: 0.6381 - tp: 0.0000e+00 - fp: 0.0000e+00 - tn: 2791.0000 - fn: 1392.0000 - accuracy: 0.6672 - precision: 0.0000e+00 - recall: 0.0000e+00 - auc: 0.4921\n",
      "Epoch 31/50\n",
      "21/21 [==============================] - 2s 77ms/step - loss: 0.6364 - tp: 0.0000e+00 - fp: 0.0000e+00 - tn: 2791.0000 - fn: 1392.0000 - accuracy: 0.6672 - precision: 0.0000e+00 - recall: 0.0000e+00 - auc: 0.5130\n",
      "Epoch 32/50\n",
      "21/21 [==============================] - 2s 78ms/step - loss: 0.6368 - tp: 0.0000e+00 - fp: 0.0000e+00 - tn: 2791.0000 - fn: 1392.0000 - accuracy: 0.6672 - precision: 0.0000e+00 - recall: 0.0000e+00 - auc: 0.5028\n",
      "Epoch 33/50\n",
      "21/21 [==============================] - 2s 78ms/step - loss: 0.6381 - tp: 0.0000e+00 - fp: 0.0000e+00 - tn: 2791.0000 - fn: 1392.0000 - accuracy: 0.6672 - precision: 0.0000e+00 - recall: 0.0000e+00 - auc: 0.4889\n",
      "Epoch 34/50\n",
      "21/21 [==============================] - 2s 78ms/step - loss: 0.6377 - tp: 0.0000e+00 - fp: 0.0000e+00 - tn: 2791.0000 - fn: 1392.0000 - accuracy: 0.6672 - precision: 0.0000e+00 - recall: 0.0000e+00 - auc: 0.4925\n",
      "Epoch 35/50\n",
      "21/21 [==============================] - 2s 78ms/step - loss: 0.6368 - tp: 0.0000e+00 - fp: 0.0000e+00 - tn: 2791.0000 - fn: 1392.0000 - accuracy: 0.6672 - precision: 0.0000e+00 - recall: 0.0000e+00 - auc: 0.5030\n",
      "Epoch 36/50\n",
      "21/21 [==============================] - 2s 79ms/step - loss: 0.6367 - tp: 0.0000e+00 - fp: 0.0000e+00 - tn: 2791.0000 - fn: 1392.0000 - accuracy: 0.6672 - precision: 0.0000e+00 - recall: 0.0000e+00 - auc: 0.5037\n",
      "Epoch 37/50\n",
      "21/21 [==============================] - 2s 81ms/step - loss: 0.6369 - tp: 0.0000e+00 - fp: 0.0000e+00 - tn: 2791.0000 - fn: 1392.0000 - accuracy: 0.6672 - precision: 0.0000e+00 - recall: 0.0000e+00 - auc: 0.5060\n",
      "Epoch 38/50\n",
      "21/21 [==============================] - 2s 80ms/step - loss: 0.6372 - tp: 0.0000e+00 - fp: 0.0000e+00 - tn: 2791.0000 - fn: 1392.0000 - accuracy: 0.6672 - precision: 0.0000e+00 - recall: 0.0000e+00 - auc: 0.4991\n",
      "Epoch 39/50\n",
      "21/21 [==============================] - 2s 78ms/step - loss: 0.6380 - tp: 0.0000e+00 - fp: 0.0000e+00 - tn: 2791.0000 - fn: 1392.0000 - accuracy: 0.6672 - precision: 0.0000e+00 - recall: 0.0000e+00 - auc: 0.4871\n",
      "Epoch 40/50\n",
      "21/21 [==============================] - 2s 83ms/step - loss: 0.6375 - tp: 0.0000e+00 - fp: 0.0000e+00 - tn: 2791.0000 - fn: 1392.0000 - accuracy: 0.6672 - precision: 0.0000e+00 - recall: 0.0000e+00 - auc: 0.4987\n",
      "Epoch 41/50\n",
      "21/21 [==============================] - 2s 82ms/step - loss: 0.6368 - tp: 0.0000e+00 - fp: 0.0000e+00 - tn: 2791.0000 - fn: 1392.0000 - accuracy: 0.6672 - precision: 0.0000e+00 - recall: 0.0000e+00 - auc: 0.5045\n",
      "Epoch 42/50\n",
      "21/21 [==============================] - 2s 81ms/step - loss: 0.6362 - tp: 0.0000e+00 - fp: 0.0000e+00 - tn: 2791.0000 - fn: 1392.0000 - accuracy: 0.6672 - precision: 0.0000e+00 - recall: 0.0000e+00 - auc: 0.5161\n",
      "Epoch 43/50\n",
      "21/21 [==============================] - 2s 82ms/step - loss: 0.6360 - tp: 0.0000e+00 - fp: 0.0000e+00 - tn: 2791.0000 - fn: 1392.0000 - accuracy: 0.6672 - precision: 0.0000e+00 - recall: 0.0000e+00 - auc: 0.5100\n",
      "Epoch 44/50\n",
      "21/21 [==============================] - 2s 82ms/step - loss: 0.6375 - tp: 0.0000e+00 - fp: 0.0000e+00 - tn: 2791.0000 - fn: 1392.0000 - accuracy: 0.6672 - precision: 0.0000e+00 - recall: 0.0000e+00 - auc: 0.4897\n",
      "Epoch 45/50\n",
      "21/21 [==============================] - 2s 81ms/step - loss: 0.6375 - tp: 0.0000e+00 - fp: 0.0000e+00 - tn: 2791.0000 - fn: 1392.0000 - accuracy: 0.6672 - precision: 0.0000e+00 - recall: 0.0000e+00 - auc: 0.4953\n",
      "Epoch 46/50\n",
      "21/21 [==============================] - 2s 82ms/step - loss: 0.6377 - tp: 0.0000e+00 - fp: 0.0000e+00 - tn: 2791.0000 - fn: 1392.0000 - accuracy: 0.6672 - precision: 0.0000e+00 - recall: 0.0000e+00 - auc: 0.4857\n",
      "Epoch 47/50\n",
      "21/21 [==============================] - 2s 86ms/step - loss: 0.6376 - tp: 0.0000e+00 - fp: 0.0000e+00 - tn: 2791.0000 - fn: 1392.0000 - accuracy: 0.6672 - precision: 0.0000e+00 - recall: 0.0000e+00 - auc: 0.4914\n",
      "Epoch 48/50\n",
      "21/21 [==============================] - 2s 82ms/step - loss: 0.6383 - tp: 0.0000e+00 - fp: 0.0000e+00 - tn: 2791.0000 - fn: 1392.0000 - accuracy: 0.6672 - precision: 0.0000e+00 - recall: 0.0000e+00 - auc: 0.4788\n",
      "Epoch 49/50\n",
      "21/21 [==============================] - 2s 76ms/step - loss: 0.6372 - tp: 0.0000e+00 - fp: 0.0000e+00 - tn: 2791.0000 - fn: 1392.0000 - accuracy: 0.6672 - precision: 0.0000e+00 - recall: 0.0000e+00 - auc: 0.4968\n",
      "Epoch 50/50\n",
      "21/21 [==============================] - 2s 79ms/step - loss: 0.6369 - tp: 0.0000e+00 - fp: 0.0000e+00 - tn: 2791.0000 - fn: 1392.0000 - accuracy: 0.6672 - precision: 0.0000e+00 - recall: 0.0000e+00 - auc: 0.5043\n"
     ]
    }
   ],
   "source": [
    "model = make_model(shape=train_features.shape)\n",
    "model.load_weights(initial_weights)\n",
    "baseline_history = model.fit(\n",
    "    train_features,\n",
    "    train_labels,\n",
    "    batch_size=BATCH_SIZE,\n",
    "    epochs=EPOCHS+40,)"
   ]
  },
  {
   "cell_type": "code",
   "execution_count": 64,
   "metadata": {},
   "outputs": [
    {
     "data": {
      "image/png": "[encoded data removed]",
      "text/plain": [
       "<Figure size 864x720 with 4 Axes>"
      ]
     },
     "metadata": {
      "needs_background": "light"
     },
     "output_type": "display_data"
    }
   ],
   "source": [
    "plot_metrics(baseline_history)"
   ]
  },
  {
   "cell_type": "code",
   "execution_count": 65,
   "metadata": {},
   "outputs": [],
   "source": [
    "train_predictions_baseline = model.predict(train_features, batch_size=BATCH_SIZE)\n",
    "test_predictions_baseline = model.predict(X_test, batch_size=BATCH_SIZE)"
   ]
  },
  {
   "cell_type": "code",
   "execution_count": 68,
   "metadata": {},
   "outputs": [
    {
     "name": "stdout",
     "output_type": "stream",
     "text": [
      "Não ocorreu enchente (Verdadeiro Negativo):  2791\n",
      "Não ocorreu enchente mas detectou (Falso Positivo):  0\n",
      "Ocorreu enchente e não detectou (Falso Negativo):  1392\n",
      "Ocorreu enchente e detectou (Verdadeiro Positivo):  0\n",
      "Total de enchentes:  1392\n",
      "Não ocorreu enchente (Verdadeiro Negativo):  1193\n",
      "Não ocorreu enchente mas detectou (Falso Positivo):  0\n",
      "Ocorreu enchente e não detectou (Falso Negativo):  600\n",
      "Ocorreu enchente e detectou (Verdadeiro Positivo):  0\n",
      "Total de enchentes:  600\n"
     ]
    },
    {
     "data": {
      "image/png": "[encoded data removed]",
      "text/plain": [
       "<Figure size 360x360 with 2 Axes>"
      ]
     },
     "metadata": {
      "needs_background": "light"
     },
     "output_type": "display_data"
    },
    {
     "data": {
      "image/png": "[encoded data removed]",
      "text/plain": [
       "<Figure size 360x360 with 2 Axes>"
      ]
     },
     "metadata": {
      "needs_background": "light"
     },
     "output_type": "display_data"
    }
   ],
   "source": [
    "# baseline_results = model.evaluate(test_features, test_labels,\n",
    "#                                   batch_size=BATCH_SIZE, verbose=0)\n",
    "# for name, value in zip(model.metrics_names, baseline_results):\n",
    "#   print(name, ': ', value)\n",
    "# print()\n",
    "\n",
    "plot_cm(train_labels, train_predictions_baseline)\n",
    "plot_cm(y_test, test_predictions_baseline)"
   ]
  },
  {
   "cell_type": "code",
   "execution_count": 69,
   "metadata": {},
   "outputs": [
    {
     "data": {
      "text/plain": [
       "<matplotlib.legend.Legend at 0x1e814481dc0>"
      ]
     },
     "execution_count": 69,
     "metadata": {},
     "output_type": "execute_result"
    },
    {
     "data": {
      "image/png": "[encoded data removed]",
      "text/plain": [
       "<Figure size 864x720 with 1 Axes>"
      ]
     },
     "metadata": {
      "needs_background": "light"
     },
     "output_type": "display_data"
    }
   ],
   "source": [
    "plot_roc(\"Train Baseline\", train_labels, train_predictions_baseline, color=colors[0])\n",
    "plot_roc(\"Test Baseline\", y_test, test_predictions_baseline, color=colors[0], linestyle='--')\n",
    "plt.legend(loc='lower right')"
   ]
  },
  {
   "cell_type": "markdown",
   "metadata": {},
   "source": [
    "## Modificando peso das classes"
   ]
  },
  {
   "cell_type": "code",
   "execution_count": 70,
   "metadata": {},
   "outputs": [
    {
     "name": "stdout",
     "output_type": "stream",
     "text": [
      "4183 - 1392.0 / 2791.0\n"
     ]
    }
   ],
   "source": [
    "total = train_labels.shape[0]\n",
    "pos = train_labels.sum()\n",
    "neg = total - pos\n",
    "\n",
    "print(f'{total} - {pos} / {neg}')"
   ]
  },
  {
   "cell_type": "code",
   "execution_count": 71,
   "metadata": {},
   "outputs": [
    {
     "name": "stdout",
     "output_type": "stream",
     "text": [
      "Weight for class 0: 0.75\n",
      "Weight for class 1: 1.50\n"
     ]
    }
   ],
   "source": [
    "# Scaling by total/2 helps keep the loss to a similar magnitude.\n",
    "# The sum of the weights of all examples stays the same.\n",
    "weight_for_0 = (1 / neg)*(total)/2.0 \n",
    "weight_for_1 = (1 / pos)*(total)/2.0\n",
    "\n",
    "class_weight = {0: weight_for_0, 1: weight_for_1}\n",
    "\n",
    "print('Weight for class 0: {:.2f}'.format(weight_for_0))\n",
    "print('Weight for class 1: {:.2f}'.format(weight_for_1))\n",
    "\n",
    "#class_weight = {0: 4, 1: 16}"
   ]
  },
  {
   "cell_type": "code",
   "execution_count": 72,
   "metadata": {},
   "outputs": [
    {
     "name": "stdout",
     "output_type": "stream",
     "text": [
      "Epoch 1/50\n",
      "21/21 [==============================] - ETA: 0s - loss: 0.6994 - tp: 513.0000 - fp: 1089.0000 - tn: 4493.0000 - fn: 2271.0000 - accuracy: 0.5984 - precision: 0.3202 - recall: 0.1843 - auc: 0.4963WARNING:tensorflow:Early stopping conditioned on metric `val_auc` which is not available. Available metrics are: loss,tp,fp,tn,fn,accuracy,precision,recall,auc\n",
      "21/21 [==============================] - 2s 80ms/step - loss: 0.6994 - tp: 513.0000 - fp: 1089.0000 - tn: 4493.0000 - fn: 2271.0000 - accuracy: 0.5984 - precision: 0.3202 - recall: 0.1843 - auc: 0.4963\n",
      "Epoch 2/50\n",
      "21/21 [==============================] - ETA: 0s - loss: 0.6950 - tp: 861.0000 - fp: 1712.0000 - tn: 1079.0000 - fn: 531.0000 - accuracy: 0.4638 - precision: 0.3346 - recall: 0.6185 - auc: 0.5021WARNING:tensorflow:Early stopping conditioned on metric `val_auc` which is not available. Available metrics are: loss,tp,fp,tn,fn,accuracy,precision,recall,auc\n",
      "21/21 [==============================] - 2s 81ms/step - loss: 0.6950 - tp: 861.0000 - fp: 1712.0000 - tn: 1079.0000 - fn: 531.0000 - accuracy: 0.4638 - precision: 0.3346 - recall: 0.6185 - auc: 0.5021\n",
      "Epoch 3/50\n",
      "21/21 [==============================] - ETA: 0s - loss: 0.6942 - tp: 704.0000 - fp: 1435.0000 - tn: 1356.0000 - fn: 688.0000 - accuracy: 0.4925 - precision: 0.3291 - recall: 0.5057 - auc: 0.4996WARNING:tensorflow:Early stopping conditioned on metric `val_auc` which is not available. Available metrics are: loss,tp,fp,tn,fn,accuracy,precision,recall,auc\n",
      "21/21 [==============================] - 2s 82ms/step - loss: 0.6942 - tp: 704.0000 - fp: 1435.0000 - tn: 1356.0000 - fn: 688.0000 - accuracy: 0.4925 - precision: 0.3291 - recall: 0.5057 - auc: 0.4996\n",
      "Epoch 4/50\n",
      "21/21 [==============================] - ETA: 0s - loss: 0.6947 - tp: 721.0000 - fp: 1408.0000 - tn: 1383.0000 - fn: 671.0000 - accuracy: 0.5030 - precision: 0.3387 - recall: 0.5180 - auc: 0.5019WARNING:tensorflow:Early stopping conditioned on metric `val_auc` which is not available. Available metrics are: loss,tp,fp,tn,fn,accuracy,precision,recall,auc\n",
      "21/21 [==============================] - 2s 81ms/step - loss: 0.6947 - tp: 721.0000 - fp: 1408.0000 - tn: 1383.0000 - fn: 671.0000 - accuracy: 0.5030 - precision: 0.3387 - recall: 0.5180 - auc: 0.5019\n",
      "Epoch 5/50\n",
      "21/21 [==============================] - ETA: 0s - loss: 0.6949 - tp: 796.0000 - fp: 1608.0000 - tn: 1183.0000 - fn: 596.0000 - accuracy: 0.4731 - precision: 0.3311 - recall: 0.5718 - auc: 0.4954WARNING:tensorflow:Early stopping conditioned on metric `val_auc` which is not available. Available metrics are: loss,tp,fp,tn,fn,accuracy,precision,recall,auc\n",
      "21/21 [==============================] - 2s 80ms/step - loss: 0.6949 - tp: 796.0000 - fp: 1608.0000 - tn: 1183.0000 - fn: 596.0000 - accuracy: 0.4731 - precision: 0.3311 - recall: 0.5718 - auc: 0.4954\n",
      "Epoch 6/50\n",
      "21/21 [==============================] - ETA: 0s - loss: 0.6961 - tp: 644.0000 - fp: 1358.0000 - tn: 1433.0000 - fn: 748.0000 - accuracy: 0.4965 - precision: 0.3217 - recall: 0.4626 - auc: 0.4811WARNING:tensorflow:Early stopping conditioned on metric `val_auc` which is not available. Available metrics are: loss,tp,fp,tn,fn,accuracy,precision,recall,auc\n",
      "21/21 [==============================] - 2s 82ms/step - loss: 0.6961 - tp: 644.0000 - fp: 1358.0000 - tn: 1433.0000 - fn: 748.0000 - accuracy: 0.4965 - precision: 0.3217 - recall: 0.4626 - auc: 0.4811\n",
      "Epoch 7/50\n",
      "21/21 [==============================] - ETA: 0s - loss: 0.6946 - tp: 718.0000 - fp: 1428.0000 - tn: 1363.0000 - fn: 674.0000 - accuracy: 0.4975 - precision: 0.3346 - recall: 0.5158 - auc: 0.4983WARNING:tensorflow:Early stopping conditioned on metric `val_auc` which is not available. Available metrics are: loss,tp,fp,tn,fn,accuracy,precision,recall,auc\n",
      "21/21 [==============================] - 2s 80ms/step - loss: 0.6946 - tp: 718.0000 - fp: 1428.0000 - tn: 1363.0000 - fn: 674.0000 - accuracy: 0.4975 - precision: 0.3346 - recall: 0.5158 - auc: 0.4983\n",
      "Epoch 8/50\n",
      "21/21 [==============================] - ETA: 0s - loss: 0.6954 - tp: 683.0000 - fp: 1426.0000 - tn: 1365.0000 - fn: 709.0000 - accuracy: 0.4896 - precision: 0.3239 - recall: 0.4907 - auc: 0.4856WARNING:tensorflow:Early stopping conditioned on metric `val_auc` which is not available. Available metrics are: loss,tp,fp,tn,fn,accuracy,precision,recall,auc\n",
      "21/21 [==============================] - 2s 80ms/step - loss: 0.6954 - tp: 683.0000 - fp: 1426.0000 - tn: 1365.0000 - fn: 709.0000 - accuracy: 0.4896 - precision: 0.3239 - recall: 0.4907 - auc: 0.4856\n",
      "Epoch 9/50\n",
      "21/21 [==============================] - ETA: 0s - loss: 0.6947 - tp: 769.0000 - fp: 1587.0000 - tn: 1204.0000 - fn: 623.0000 - accuracy: 0.4717 - precision: 0.3264 - recall: 0.5524 - auc: 0.4909WARNING:tensorflow:Early stopping conditioned on metric `val_auc` which is not available. Available metrics are: loss,tp,fp,tn,fn,accuracy,precision,recall,auc\n",
      "21/21 [==============================] - 2s 78ms/step - loss: 0.6947 - tp: 769.0000 - fp: 1587.0000 - tn: 1204.0000 - fn: 623.0000 - accuracy: 0.4717 - precision: 0.3264 - recall: 0.5524 - auc: 0.4909\n",
      "Epoch 10/50\n",
      "21/21 [==============================] - ETA: 0s - loss: 0.6943 - tp: 629.0000 - fp: 1306.0000 - tn: 1485.0000 - fn: 763.0000 - accuracy: 0.5054 - precision: 0.3251 - recall: 0.4519 - auc: 0.4980WARNING:tensorflow:Early stopping conditioned on metric `val_auc` which is not available. Available metrics are: loss,tp,fp,tn,fn,accuracy,precision,recall,auc\n",
      "21/21 [==============================] - 2s 78ms/step - loss: 0.6943 - tp: 629.0000 - fp: 1306.0000 - tn: 1485.0000 - fn: 763.0000 - accuracy: 0.5054 - precision: 0.3251 - recall: 0.4519 - auc: 0.4980\n",
      "Epoch 11/50\n",
      "21/21 [==============================] - ETA: 0s - loss: 0.6940 - tp: 535.0000 - fp: 1098.0000 - tn: 1693.0000 - fn: 857.0000 - accuracy: 0.5326 - precision: 0.3276 - recall: 0.3843 - auc: 0.5016WARNING:tensorflow:Early stopping conditioned on metric `val_auc` which is not available. Available metrics are: loss,tp,fp,tn,fn,accuracy,precision,recall,auc\n",
      "21/21 [==============================] - 2s 77ms/step - loss: 0.6940 - tp: 535.0000 - fp: 1098.0000 - tn: 1693.0000 - fn: 857.0000 - accuracy: 0.5326 - precision: 0.3276 - recall: 0.3843 - auc: 0.5016\n",
      "Epoch 12/50\n",
      "21/21 [==============================] - ETA: 0s - loss: 0.6940 - tp: 777.0000 - fp: 1576.0000 - tn: 1215.0000 - fn: 615.0000 - accuracy: 0.4762 - precision: 0.3302 - recall: 0.5582 - auc: 0.5008WARNING:tensorflow:Early stopping conditioned on metric `val_auc` which is not available. Available metrics are: loss,tp,fp,tn,fn,accuracy,precision,recall,auc\n",
      "21/21 [==============================] - 2s 77ms/step - loss: 0.6940 - tp: 777.0000 - fp: 1576.0000 - tn: 1215.0000 - fn: 615.0000 - accuracy: 0.4762 - precision: 0.3302 - recall: 0.5582 - auc: 0.5008\n",
      "Epoch 13/50\n",
      "21/21 [==============================] - ETA: 0s - loss: 0.6944 - tp: 637.0000 - fp: 1326.0000 - tn: 1465.0000 - fn: 755.0000 - accuracy: 0.5025 - precision: 0.3245 - recall: 0.4576 - auc: 0.4941WARNING:tensorflow:Early stopping conditioned on metric `val_auc` which is not available. Available metrics are: loss,tp,fp,tn,fn,accuracy,precision,recall,auc\n",
      "21/21 [==============================] - 2s 77ms/step - loss: 0.6944 - tp: 637.0000 - fp: 1326.0000 - tn: 1465.0000 - fn: 755.0000 - accuracy: 0.5025 - precision: 0.3245 - recall: 0.4576 - auc: 0.4941\n",
      "Epoch 14/50\n",
      "21/21 [==============================] - ETA: 0s - loss: 0.6948 - tp: 714.0000 - fp: 1485.0000 - tn: 1306.0000 - fn: 678.0000 - accuracy: 0.4829 - precision: 0.3247 - recall: 0.5129 - auc: 0.4858WARNING:tensorflow:Early stopping conditioned on metric `val_auc` which is not available. Available metrics are: loss,tp,fp,tn,fn,accuracy,precision,recall,auc\n",
      "21/21 [==============================] - 2s 77ms/step - loss: 0.6948 - tp: 714.0000 - fp: 1485.0000 - tn: 1306.0000 - fn: 678.0000 - accuracy: 0.4829 - precision: 0.3247 - recall: 0.5129 - auc: 0.4858\n",
      "Epoch 15/50\n",
      "21/21 [==============================] - ETA: 0s - loss: 0.6939 - tp: 780.0000 - fp: 1614.0000 - tn: 1177.0000 - fn: 612.0000 - accuracy: 0.4678 - precision: 0.3258 - recall: 0.5603 - auc: 0.4981WARNING:tensorflow:Early stopping conditioned on metric `val_auc` which is not available. Available metrics are: loss,tp,fp,tn,fn,accuracy,precision,recall,auc\n",
      "21/21 [==============================] - 2s 77ms/step - loss: 0.6939 - tp: 780.0000 - fp: 1614.0000 - tn: 1177.0000 - fn: 612.0000 - accuracy: 0.4678 - precision: 0.3258 - recall: 0.5603 - auc: 0.4981\n",
      "Epoch 16/50\n",
      "21/21 [==============================] - ETA: 0s - loss: 0.6942 - tp: 676.0000 - fp: 1342.0000 - tn: 1449.0000 - fn: 716.0000 - accuracy: 0.5080 - precision: 0.3350 - recall: 0.4856 - auc: 0.4959WARNING:tensorflow:Early stopping conditioned on metric `val_auc` which is not available. Available metrics are: loss,tp,fp,tn,fn,accuracy,precision,recall,auc\n",
      "21/21 [==============================] - 2s 78ms/step - loss: 0.6942 - tp: 676.0000 - fp: 1342.0000 - tn: 1449.0000 - fn: 716.0000 - accuracy: 0.5080 - precision: 0.3350 - recall: 0.4856 - auc: 0.4959\n",
      "Epoch 17/50\n",
      "21/21 [==============================] - ETA: 0s - loss: 0.6930 - tp: 617.0000 - fp: 1219.0000 - tn: 1572.0000 - fn: 775.0000 - accuracy: 0.5233 - precision: 0.3361 - recall: 0.4432 - auc: 0.5105WARNING:tensorflow:Early stopping conditioned on metric `val_auc` which is not available. Available metrics are: loss,tp,fp,tn,fn,accuracy,precision,recall,auc\n",
      "21/21 [==============================] - 2s 79ms/step - loss: 0.6930 - tp: 617.0000 - fp: 1219.0000 - tn: 1572.0000 - fn: 775.0000 - accuracy: 0.5233 - precision: 0.3361 - recall: 0.4432 - auc: 0.5105\n",
      "Epoch 18/50\n",
      "21/21 [==============================] - ETA: 0s - loss: 0.6943 - tp: 709.0000 - fp: 1401.0000 - tn: 1390.0000 - fn: 683.0000 - accuracy: 0.5018 - precision: 0.3360 - recall: 0.5093 - auc: 0.4943WARNING:tensorflow:Early stopping conditioned on metric `val_auc` which is not available. Available metrics are: loss,tp,fp,tn,fn,accuracy,precision,recall,auc\n",
      "21/21 [==============================] - 2s 79ms/step - loss: 0.6943 - tp: 709.0000 - fp: 1401.0000 - tn: 1390.0000 - fn: 683.0000 - accuracy: 0.5018 - precision: 0.3360 - recall: 0.5093 - auc: 0.4943\n",
      "Epoch 19/50\n",
      "21/21 [==============================] - ETA: 0s - loss: 0.6946 - tp: 810.0000 - fp: 1653.0000 - tn: 1138.0000 - fn: 582.0000 - accuracy: 0.4657 - precision: 0.3289 - recall: 0.5819 - auc: 0.4905WARNING:tensorflow:Early stopping conditioned on metric `val_auc` which is not available. Available metrics are: loss,tp,fp,tn,fn,accuracy,precision,recall,auc\n",
      "21/21 [==============================] - 2s 79ms/step - loss: 0.6946 - tp: 810.0000 - fp: 1653.0000 - tn: 1138.0000 - fn: 582.0000 - accuracy: 0.4657 - precision: 0.3289 - recall: 0.5819 - auc: 0.4905\n",
      "Epoch 20/50\n",
      "21/21 [==============================] - ETA: 0s - loss: 0.6933 - tp: 648.0000 - fp: 1309.0000 - tn: 1482.0000 - fn: 744.0000 - accuracy: 0.5092 - precision: 0.3311 - recall: 0.4655 - auc: 0.5055WARNING:tensorflow:Early stopping conditioned on metric `val_auc` which is not available. Available metrics are: loss,tp,fp,tn,fn,accuracy,precision,recall,auc\n",
      "21/21 [==============================] - 2s 77ms/step - loss: 0.6933 - tp: 648.0000 - fp: 1309.0000 - tn: 1482.0000 - fn: 744.0000 - accuracy: 0.5092 - precision: 0.3311 - recall: 0.4655 - auc: 0.5055\n",
      "Epoch 21/50\n",
      "21/21 [==============================] - ETA: 0s - loss: 0.6953 - tp: 564.0000 - fp: 1256.0000 - tn: 1535.0000 - fn: 828.0000 - accuracy: 0.5018 - precision: 0.3099 - recall: 0.4052 - auc: 0.4752WARNING:tensorflow:Early stopping conditioned on metric `val_auc` which is not available. Available metrics are: loss,tp,fp,tn,fn,accuracy,precision,recall,auc\n",
      "21/21 [==============================] - 2s 77ms/step - loss: 0.6953 - tp: 564.0000 - fp: 1256.0000 - tn: 1535.0000 - fn: 828.0000 - accuracy: 0.5018 - precision: 0.3099 - recall: 0.4052 - auc: 0.4752\n",
      "Epoch 22/50\n",
      "21/21 [==============================] - ETA: 0s - loss: 0.6945 - tp: 681.0000 - fp: 1401.0000 - tn: 1390.0000 - fn: 711.0000 - accuracy: 0.4951 - precision: 0.3271 - recall: 0.4892 - auc: 0.4924WARNING:tensorflow:Early stopping conditioned on metric `val_auc` which is not available. Available metrics are: loss,tp,fp,tn,fn,accuracy,precision,recall,auc\n",
      "21/21 [==============================] - 2s 76ms/step - loss: 0.6945 - tp: 681.0000 - fp: 1401.0000 - tn: 1390.0000 - fn: 711.0000 - accuracy: 0.4951 - precision: 0.3271 - recall: 0.4892 - auc: 0.4924\n",
      "Epoch 23/50\n",
      "21/21 [==============================] - ETA: 0s - loss: 0.6934 - tp: 810.0000 - fp: 1571.0000 - tn: 1220.0000 - fn: 582.0000 - accuracy: 0.4853 - precision: 0.3402 - recall: 0.5819 - auc: 0.5090WARNING:tensorflow:Early stopping conditioned on metric `val_auc` which is not available. Available metrics are: loss,tp,fp,tn,fn,accuracy,precision,recall,auc\n",
      "21/21 [==============================] - 2s 76ms/step - loss: 0.6934 - tp: 810.0000 - fp: 1571.0000 - tn: 1220.0000 - fn: 582.0000 - accuracy: 0.4853 - precision: 0.3402 - recall: 0.5819 - auc: 0.5090\n",
      "Epoch 24/50\n",
      "21/21 [==============================] - ETA: 0s - loss: 0.6941 - tp: 727.0000 - fp: 1507.0000 - tn: 1284.0000 - fn: 665.0000 - accuracy: 0.4808 - precision: 0.3254 - recall: 0.5223 - auc: 0.4943WARNING:tensorflow:Early stopping conditioned on metric `val_auc` which is not available. Available metrics are: loss,tp,fp,tn,fn,accuracy,precision,recall,auc\n",
      "21/21 [==============================] - 2s 77ms/step - loss: 0.6941 - tp: 727.0000 - fp: 1507.0000 - tn: 1284.0000 - fn: 665.0000 - accuracy: 0.4808 - precision: 0.3254 - recall: 0.5223 - auc: 0.4943\n",
      "Epoch 25/50\n",
      "21/21 [==============================] - ETA: 0s - loss: 0.6933 - tp: 677.0000 - fp: 1334.0000 - tn: 1457.0000 - fn: 715.0000 - accuracy: 0.5102 - precision: 0.3366 - recall: 0.4864 - auc: 0.5062WARNING:tensorflow:Early stopping conditioned on metric `val_auc` which is not available. Available metrics are: loss,tp,fp,tn,fn,accuracy,precision,recall,auc\n",
      "21/21 [==============================] - 2s 78ms/step - loss: 0.6933 - tp: 677.0000 - fp: 1334.0000 - tn: 1457.0000 - fn: 715.0000 - accuracy: 0.5102 - precision: 0.3366 - recall: 0.4864 - auc: 0.5062\n",
      "Epoch 26/50\n",
      "21/21 [==============================] - ETA: 0s - loss: 0.6937 - tp: 774.0000 - fp: 1563.0000 - tn: 1228.0000 - fn: 618.0000 - accuracy: 0.4786 - precision: 0.3312 - recall: 0.5560 - auc: 0.4995WARNING:tensorflow:Early stopping conditioned on metric `val_auc` which is not available. Available metrics are: loss,tp,fp,tn,fn,accuracy,precision,recall,auc\n",
      "21/21 [==============================] - 2s 79ms/step - loss: 0.6937 - tp: 774.0000 - fp: 1563.0000 - tn: 1228.0000 - fn: 618.0000 - accuracy: 0.4786 - precision: 0.3312 - recall: 0.5560 - auc: 0.4995\n",
      "Epoch 27/50\n",
      "21/21 [==============================] - ETA: 0s - loss: 0.6943 - tp: 685.0000 - fp: 1427.0000 - tn: 1364.0000 - fn: 707.0000 - accuracy: 0.4898 - precision: 0.3243 - recall: 0.4921 - auc: 0.4924WARNING:tensorflow:Early stopping conditioned on metric `val_auc` which is not available. Available metrics are: loss,tp,fp,tn,fn,accuracy,precision,recall,auc\n",
      "21/21 [==============================] - 2s 80ms/step - loss: 0.6943 - tp: 685.0000 - fp: 1427.0000 - tn: 1364.0000 - fn: 707.0000 - accuracy: 0.4898 - precision: 0.3243 - recall: 0.4921 - auc: 0.4924\n",
      "Epoch 28/50\n",
      "21/21 [==============================] - ETA: 0s - loss: 0.6943 - tp: 737.0000 - fp: 1537.0000 - tn: 1254.0000 - fn: 655.0000 - accuracy: 0.4760 - precision: 0.3241 - recall: 0.5295 - auc: 0.4883WARNING:tensorflow:Early stopping conditioned on metric `val_auc` which is not available. Available metrics are: loss,tp,fp,tn,fn,accuracy,precision,recall,auc\n",
      "21/21 [==============================] - 2s 80ms/step - loss: 0.6943 - tp: 737.0000 - fp: 1537.0000 - tn: 1254.0000 - fn: 655.0000 - accuracy: 0.4760 - precision: 0.3241 - recall: 0.5295 - auc: 0.4883\n",
      "Epoch 29/50\n",
      "21/21 [==============================] - ETA: 0s - loss: 0.6943 - tp: 651.0000 - fp: 1328.0000 - tn: 1463.0000 - fn: 741.0000 - accuracy: 0.5054 - precision: 0.3290 - recall: 0.4677 - auc: 0.4914WARNING:tensorflow:Early stopping conditioned on metric `val_auc` which is not available. Available metrics are: loss,tp,fp,tn,fn,accuracy,precision,recall,auc\n",
      "21/21 [==============================] - 2s 79ms/step - loss: 0.6943 - tp: 651.0000 - fp: 1328.0000 - tn: 1463.0000 - fn: 741.0000 - accuracy: 0.5054 - precision: 0.3290 - recall: 0.4677 - auc: 0.4914\n",
      "Epoch 30/50\n",
      "21/21 [==============================] - ETA: 0s - loss: 0.6945 - tp: 652.0000 - fp: 1338.0000 - tn: 1453.0000 - fn: 740.0000 - accuracy: 0.5032 - precision: 0.3276 - recall: 0.4684 - auc: 0.4879WARNING:tensorflow:Early stopping conditioned on metric `val_auc` which is not available. Available metrics are: loss,tp,fp,tn,fn,accuracy,precision,recall,auc\n",
      "21/21 [==============================] - 2s 78ms/step - loss: 0.6945 - tp: 652.0000 - fp: 1338.0000 - tn: 1453.0000 - fn: 740.0000 - accuracy: 0.5032 - precision: 0.3276 - recall: 0.4684 - auc: 0.4879\n",
      "Epoch 31/50\n",
      "21/21 [==============================] - ETA: 0s - loss: 0.6927 - tp: 763.0000 - fp: 1412.0000 - tn: 1379.0000 - fn: 629.0000 - accuracy: 0.5121 - precision: 0.3508 - recall: 0.5481 - auc: 0.5224WARNING:tensorflow:Early stopping conditioned on metric `val_auc` which is not available. Available metrics are: loss,tp,fp,tn,fn,accuracy,precision,recall,auc\n",
      "21/21 [==============================] - 2s 78ms/step - loss: 0.6927 - tp: 763.0000 - fp: 1412.0000 - tn: 1379.0000 - fn: 629.0000 - accuracy: 0.5121 - precision: 0.3508 - recall: 0.5481 - auc: 0.5224\n",
      "Epoch 32/50\n",
      "21/21 [==============================] - ETA: 0s - loss: 0.6937 - tp: 616.0000 - fp: 1169.0000 - tn: 1622.0000 - fn: 776.0000 - accuracy: 0.5350 - precision: 0.3451 - recall: 0.4425 - auc: 0.5057WARNING:tensorflow:Early stopping conditioned on metric `val_auc` which is not available. Available metrics are: loss,tp,fp,tn,fn,accuracy,precision,recall,auc\n",
      "21/21 [==============================] - 2s 78ms/step - loss: 0.6937 - tp: 616.0000 - fp: 1169.0000 - tn: 1622.0000 - fn: 776.0000 - accuracy: 0.5350 - precision: 0.3451 - recall: 0.4425 - auc: 0.5057\n",
      "Epoch 33/50\n",
      "21/21 [==============================] - ETA: 0s - loss: 0.6941 - tp: 611.0000 - fp: 1192.0000 - tn: 1599.0000 - fn: 781.0000 - accuracy: 0.5283 - precision: 0.3389 - recall: 0.4389 - auc: 0.4987WARNING:tensorflow:Early stopping conditioned on metric `val_auc` which is not available. Available metrics are: loss,tp,fp,tn,fn,accuracy,precision,recall,auc\n",
      "21/21 [==============================] - 2s 77ms/step - loss: 0.6941 - tp: 611.0000 - fp: 1192.0000 - tn: 1599.0000 - fn: 781.0000 - accuracy: 0.5283 - precision: 0.3389 - recall: 0.4389 - auc: 0.4987\n",
      "Epoch 34/50\n",
      "21/21 [==============================] - ETA: 0s - loss: 0.6931 - tp: 670.0000 - fp: 1281.0000 - tn: 1510.0000 - fn: 722.0000 - accuracy: 0.5212 - precision: 0.3434 - recall: 0.4813 - auc: 0.5103WARNING:tensorflow:Early stopping conditioned on metric `val_auc` which is not available. Available metrics are: loss,tp,fp,tn,fn,accuracy,precision,recall,auc\n",
      "21/21 [==============================] - 2s 77ms/step - loss: 0.6931 - tp: 670.0000 - fp: 1281.0000 - tn: 1510.0000 - fn: 722.0000 - accuracy: 0.5212 - precision: 0.3434 - recall: 0.4813 - auc: 0.5103\n",
      "Epoch 35/50\n",
      "21/21 [==============================] - ETA: 0s - loss: 0.6930 - tp: 771.0000 - fp: 1537.0000 - tn: 1254.0000 - fn: 621.0000 - accuracy: 0.4841 - precision: 0.3341 - recall: 0.5539 - auc: 0.5080WARNING:tensorflow:Early stopping conditioned on metric `val_auc` which is not available. Available metrics are: loss,tp,fp,tn,fn,accuracy,precision,recall,auc\n",
      "21/21 [==============================] - 2s 77ms/step - loss: 0.6930 - tp: 771.0000 - fp: 1537.0000 - tn: 1254.0000 - fn: 621.0000 - accuracy: 0.4841 - precision: 0.3341 - recall: 0.5539 - auc: 0.5080\n",
      "Epoch 36/50\n",
      "21/21 [==============================] - ETA: 0s - loss: 0.6938 - tp: 708.0000 - fp: 1434.0000 - tn: 1357.0000 - fn: 684.0000 - accuracy: 0.4937 - precision: 0.3305 - recall: 0.5086 - auc: 0.4970WARNING:tensorflow:Early stopping conditioned on metric `val_auc` which is not available. Available metrics are: loss,tp,fp,tn,fn,accuracy,precision,recall,auc\n",
      "21/21 [==============================] - 2s 80ms/step - loss: 0.6938 - tp: 708.0000 - fp: 1434.0000 - tn: 1357.0000 - fn: 684.0000 - accuracy: 0.4937 - precision: 0.3305 - recall: 0.5086 - auc: 0.4970\n",
      "Epoch 37/50\n",
      "21/21 [==============================] - ETA: 0s - loss: 0.6940 - tp: 671.0000 - fp: 1318.0000 - tn: 1473.0000 - fn: 721.0000 - accuracy: 0.5126 - precision: 0.3374 - recall: 0.4820 - auc: 0.5015WARNING:tensorflow:Early stopping conditioned on metric `val_auc` which is not available. Available metrics are: loss,tp,fp,tn,fn,accuracy,precision,recall,auc\n",
      "21/21 [==============================] - 2s 78ms/step - loss: 0.6940 - tp: 671.0000 - fp: 1318.0000 - tn: 1473.0000 - fn: 721.0000 - accuracy: 0.5126 - precision: 0.3374 - recall: 0.4820 - auc: 0.5015\n",
      "Epoch 38/50\n",
      "21/21 [==============================] - ETA: 0s - loss: 0.6931 - tp: 573.0000 - fp: 1107.0000 - tn: 1684.0000 - fn: 819.0000 - accuracy: 0.5396 - precision: 0.3411 - recall: 0.4116 - auc: 0.5062WARNING:tensorflow:Early stopping conditioned on metric `val_auc` which is not available. Available metrics are: loss,tp,fp,tn,fn,accuracy,precision,recall,auc\n",
      "21/21 [==============================] - 2s 78ms/step - loss: 0.6931 - tp: 573.0000 - fp: 1107.0000 - tn: 1684.0000 - fn: 819.0000 - accuracy: 0.5396 - precision: 0.3411 - recall: 0.4116 - auc: 0.5062\n",
      "Epoch 39/50\n",
      "21/21 [==============================] - ETA: 0s - loss: 0.6940 - tp: 850.0000 - fp: 1677.0000 - tn: 1114.0000 - fn: 542.0000 - accuracy: 0.4695 - precision: 0.3364 - recall: 0.6106 - auc: 0.4980WARNING:tensorflow:Early stopping conditioned on metric `val_auc` which is not available. Available metrics are: loss,tp,fp,tn,fn,accuracy,precision,recall,auc\n",
      "21/21 [==============================] - 2s 76ms/step - loss: 0.6940 - tp: 850.0000 - fp: 1677.0000 - tn: 1114.0000 - fn: 542.0000 - accuracy: 0.4695 - precision: 0.3364 - recall: 0.6106 - auc: 0.4980\n",
      "Epoch 40/50\n",
      "21/21 [==============================] - ETA: 0s - loss: 0.6935 - tp: 647.0000 - fp: 1344.0000 - tn: 1447.0000 - fn: 745.0000 - accuracy: 0.5006 - precision: 0.3250 - recall: 0.4648 - auc: 0.4985WARNING:tensorflow:Early stopping conditioned on metric `val_auc` which is not available. Available metrics are: loss,tp,fp,tn,fn,accuracy,precision,recall,auc\n",
      "21/21 [==============================] - 2s 78ms/step - loss: 0.6935 - tp: 647.0000 - fp: 1344.0000 - tn: 1447.0000 - fn: 745.0000 - accuracy: 0.5006 - precision: 0.3250 - recall: 0.4648 - auc: 0.4985\n",
      "Epoch 41/50\n",
      "21/21 [==============================] - ETA: 0s - loss: 0.6936 - tp: 693.0000 - fp: 1442.0000 - tn: 1349.0000 - fn: 699.0000 - accuracy: 0.4882 - precision: 0.3246 - recall: 0.4978 - auc: 0.4988WARNING:tensorflow:Early stopping conditioned on metric `val_auc` which is not available. Available metrics are: loss,tp,fp,tn,fn,accuracy,precision,recall,auc\n",
      "21/21 [==============================] - 2s 78ms/step - loss: 0.6936 - tp: 693.0000 - fp: 1442.0000 - tn: 1349.0000 - fn: 699.0000 - accuracy: 0.4882 - precision: 0.3246 - recall: 0.4978 - auc: 0.4988\n",
      "Epoch 42/50\n",
      "21/21 [==============================] - ETA: 0s - loss: 0.6941 - tp: 666.0000 - fp: 1366.0000 - tn: 1425.0000 - fn: 726.0000 - accuracy: 0.4999 - precision: 0.3278 - recall: 0.4784 - auc: 0.4919WARNING:tensorflow:Early stopping conditioned on metric `val_auc` which is not available. Available metrics are: loss,tp,fp,tn,fn,accuracy,precision,recall,auc\n",
      "21/21 [==============================] - 2s 78ms/step - loss: 0.6941 - tp: 666.0000 - fp: 1366.0000 - tn: 1425.0000 - fn: 726.0000 - accuracy: 0.4999 - precision: 0.3278 - recall: 0.4784 - auc: 0.4919\n",
      "Epoch 43/50\n",
      "21/21 [==============================] - ETA: 0s - loss: 0.6932 - tp: 793.0000 - fp: 1559.0000 - tn: 1232.0000 - fn: 599.0000 - accuracy: 0.4841 - precision: 0.3372 - recall: 0.5697 - auc: 0.5074WARNING:tensorflow:Early stopping conditioned on metric `val_auc` which is not available. Available metrics are: loss,tp,fp,tn,fn,accuracy,precision,recall,auc\n",
      "21/21 [==============================] - 2s 78ms/step - loss: 0.6932 - tp: 793.0000 - fp: 1559.0000 - tn: 1232.0000 - fn: 599.0000 - accuracy: 0.4841 - precision: 0.3372 - recall: 0.5697 - auc: 0.5074\n",
      "Epoch 44/50\n",
      "21/21 [==============================] - ETA: 0s - loss: 0.6938 - tp: 728.0000 - fp: 1450.0000 - tn: 1341.0000 - fn: 664.0000 - accuracy: 0.4946 - precision: 0.3343 - recall: 0.5230 - auc: 0.4981WARNING:tensorflow:Early stopping conditioned on metric `val_auc` which is not available. Available metrics are: loss,tp,fp,tn,fn,accuracy,precision,recall,auc\n",
      "21/21 [==============================] - 2s 77ms/step - loss: 0.6938 - tp: 728.0000 - fp: 1450.0000 - tn: 1341.0000 - fn: 664.0000 - accuracy: 0.4946 - precision: 0.3343 - recall: 0.5230 - auc: 0.4981\n",
      "Epoch 45/50\n",
      "21/21 [==============================] - ETA: 0s - loss: 0.6940 - tp: 577.0000 - fp: 1209.0000 - tn: 1582.0000 - fn: 815.0000 - accuracy: 0.5161 - precision: 0.3231 - recall: 0.4145 - auc: 0.4900WARNING:tensorflow:Early stopping conditioned on metric `val_auc` which is not available. Available metrics are: loss,tp,fp,tn,fn,accuracy,precision,recall,auc\n",
      "21/21 [==============================] - 2s 78ms/step - loss: 0.6940 - tp: 577.0000 - fp: 1209.0000 - tn: 1582.0000 - fn: 815.0000 - accuracy: 0.5161 - precision: 0.3231 - recall: 0.4145 - auc: 0.4900\n",
      "Epoch 46/50\n",
      "21/21 [==============================] - ETA: 0s - loss: 0.6930 - tp: 612.0000 - fp: 1108.0000 - tn: 1683.0000 - fn: 780.0000 - accuracy: 0.5486 - precision: 0.3558 - recall: 0.4397 - auc: 0.5117WARNING:tensorflow:Early stopping conditioned on metric `val_auc` which is not available. Available metrics are: loss,tp,fp,tn,fn,accuracy,precision,recall,auc\n",
      "21/21 [==============================] - 2s 76ms/step - loss: 0.6930 - tp: 612.0000 - fp: 1108.0000 - tn: 1683.0000 - fn: 780.0000 - accuracy: 0.5486 - precision: 0.3558 - recall: 0.4397 - auc: 0.5117\n",
      "Epoch 47/50\n",
      "21/21 [==============================] - ETA: 0s - loss: 0.6937 - tp: 689.0000 - fp: 1446.0000 - tn: 1345.0000 - fn: 703.0000 - accuracy: 0.4863 - precision: 0.3227 - recall: 0.4950 - auc: 0.4957WARNING:tensorflow:Early stopping conditioned on metric `val_auc` which is not available. Available metrics are: loss,tp,fp,tn,fn,accuracy,precision,recall,auc\n",
      "21/21 [==============================] - 2s 77ms/step - loss: 0.6937 - tp: 689.0000 - fp: 1446.0000 - tn: 1345.0000 - fn: 703.0000 - accuracy: 0.4863 - precision: 0.3227 - recall: 0.4950 - auc: 0.4957\n",
      "Epoch 48/50\n",
      "21/21 [==============================] - ETA: 0s - loss: 0.6933 - tp: 764.0000 - fp: 1527.0000 - tn: 1264.0000 - fn: 628.0000 - accuracy: 0.4848 - precision: 0.3335 - recall: 0.5489 - auc: 0.5087WARNING:tensorflow:Early stopping conditioned on metric `val_auc` which is not available. Available metrics are: loss,tp,fp,tn,fn,accuracy,precision,recall,auc\n",
      "21/21 [==============================] - 2s 79ms/step - loss: 0.6933 - tp: 764.0000 - fp: 1527.0000 - tn: 1264.0000 - fn: 628.0000 - accuracy: 0.4848 - precision: 0.3335 - recall: 0.5489 - auc: 0.5087\n",
      "Epoch 49/50\n",
      "21/21 [==============================] - ETA: 0s - loss: 0.6942 - tp: 672.0000 - fp: 1453.0000 - tn: 1338.0000 - fn: 720.0000 - accuracy: 0.4805 - precision: 0.3162 - recall: 0.4828 - auc: 0.4830WARNING:tensorflow:Early stopping conditioned on metric `val_auc` which is not available. Available metrics are: loss,tp,fp,tn,fn,accuracy,precision,recall,auc\n",
      "21/21 [==============================] - 2s 76ms/step - loss: 0.6942 - tp: 672.0000 - fp: 1453.0000 - tn: 1338.0000 - fn: 720.0000 - accuracy: 0.4805 - precision: 0.3162 - recall: 0.4828 - auc: 0.4830\n",
      "Epoch 50/50\n",
      "21/21 [==============================] - ETA: 0s - loss: 0.6938 - tp: 743.0000 - fp: 1548.0000 - tn: 1243.0000 - fn: 649.0000 - accuracy: 0.4748 - precision: 0.3243 - recall: 0.5338 - auc: 0.4975WARNING:tensorflow:Early stopping conditioned on metric `val_auc` which is not available. Available metrics are: loss,tp,fp,tn,fn,accuracy,precision,recall,auc\n",
      "21/21 [==============================] - 2s 76ms/step - loss: 0.6938 - tp: 743.0000 - fp: 1548.0000 - tn: 1243.0000 - fn: 649.0000 - accuracy: 0.4748 - precision: 0.3243 - recall: 0.5338 - auc: 0.4975\n"
     ]
    }
   ],
   "source": [
    "weighted_model = make_model(shape=train_features.shape)\n",
    "weighted_model.load_weights(initial_weights)\n",
    "\n",
    "weighted_history = weighted_model.fit(\n",
    "    train_features,\n",
    "    train_labels,\n",
    "    batch_size=BATCH_SIZE,\n",
    "    epochs=EPOCHS+40,\n",
    "    callbacks = [early_stopping],\n",
    "    # The class weights go here\n",
    "    class_weight=class_weight) "
   ]
  },
  {
   "cell_type": "code",
   "execution_count": 73,
   "metadata": {},
   "outputs": [
    {
     "data": {
      "image/png": "[encoded data removed]",
      "text/plain": [
       "<Figure size 864x720 with 4 Axes>"
      ]
     },
     "metadata": {
      "needs_background": "light"
     },
     "output_type": "display_data"
    }
   ],
   "source": [
    "plot_metrics(weighted_history)"
   ]
  },
  {
   "cell_type": "code",
   "execution_count": 74,
   "metadata": {},
   "outputs": [],
   "source": [
    "train_predictions_weighted = weighted_model.predict(train_features, batch_size=BATCH_SIZE)\n",
    "test_predictions_baseline = weighted_model.predict(X_test, batch_size=BATCH_SIZE)"
   ]
  },
  {
   "cell_type": "code",
   "execution_count": 75,
   "metadata": {},
   "outputs": [
    {
     "name": "stdout",
     "output_type": "stream",
     "text": [
      "Não ocorreu enchente (Verdadeiro Negativo):  2791\n",
      "Não ocorreu enchente mas detectou (Falso Positivo):  0\n",
      "Ocorreu enchente e não detectou (Falso Negativo):  1392\n",
      "Ocorreu enchente e detectou (Verdadeiro Positivo):  0\n",
      "Total de enchentes:  1392\n",
      "Não ocorreu enchente (Verdadeiro Negativo):  478\n",
      "Não ocorreu enchente mas detectou (Falso Positivo):  715\n",
      "Ocorreu enchente e não detectou (Falso Negativo):  241\n",
      "Ocorreu enchente e detectou (Verdadeiro Positivo):  359\n",
      "Total de enchentes:  600\n"
     ]
    },
    {
     "data": {
      "image/png": "[encoded data removed]",
      "text/plain": [
       "<Figure size 360x360 with 2 Axes>"
      ]
     },
     "metadata": {
      "needs_background": "light"
     },
     "output_type": "display_data"
    },
    {
     "data": {
      "image/png": "[encoded data removed]",
      "text/plain": [
       "<Figure size 360x360 with 2 Axes>"
      ]
     },
     "metadata": {
      "needs_background": "light"
     },
     "output_type": "display_data"
    }
   ],
   "source": [
    "#test_predictions_weighted = weighted_model.predict(test_features, batch_size=BATCH_SIZE)\n",
    "\n",
    "# weighted_results = weighted_model.evaluate(test_features, test_labels,\n",
    "#                                            batch_size=BATCH_SIZE, verbose=0)\n",
    "# for name, value in zip(weighted_model.metrics_names, weighted_results):\n",
    "#   print(name, ': ', value)\n",
    "# print()\n",
    "\n",
    "plot_cm(train_labels, train_predictions_baseline)\n",
    "plot_cm(y_test, test_predictions_baseline)"
   ]
  },
  {
   "cell_type": "code",
   "execution_count": null,
   "metadata": {},
   "outputs": [],
   "source": []
  }
 ],
 "metadata": {
  "kernelspec": {
   "display_name": "Python 3.8.5 64-bit",
   "language": "python",
   "name": "python38564bit983d40b0eb64453e8ad463eee52a7b5b"
  },
  "language_info": {
   "codemirror_mode": {
    "name": "ipython",
    "version": 3
   },
   "file_extension": ".py",
   "mimetype": "text/x-python",
   "name": "python",
   "nbconvert_exporter": "python",
   "pygments_lexer": "ipython3",
   "version": "3.8.5"
  },
  "toc-autonumbering": true
 },
 "nbformat": 4,
 "nbformat_minor": 4
}
