{
 "cells": [
  {
   "cell_type": "markdown",
   "metadata": {},
   "source": [
    "# Inicialização"
   ]
  },
  {
   "cell_type": "code",
   "execution_count": 2,
   "metadata": {},
   "outputs": [],
   "source": [
    "import pandas as pd\n",
    "import numpy as np\n",
    "\n",
    "from datetime import datetime\n",
    "from datetime import timedelta"
   ]
  },
  {
   "cell_type": "markdown",
   "metadata": {},
   "source": [
    "# Funções"
   ]
  },
  {
   "cell_type": "code",
   "execution_count": 105,
   "metadata": {},
   "outputs": [],
   "source": [
    "def reverse_ohe(df, features, ignoredFeatures, featuresLength, prefix, suffix = ''):\n",
    "    all_features = ignoredFeatures + features\n",
    "    df_pivot = pd.DataFrame(columns = all_features)\n",
    "\n",
    "    for i in range(featuresLength):\n",
    "        cols_aux = [f'{feature}{prefix}{i}{suffix}' for feature in features]\n",
    "        df_aux = df[ignoredFeatures + cols_aux].copy()\n",
    "        df_aux.columns = all_features\n",
    "        df_pivot = pd.concat([df_pivot, df_aux])\n",
    "\n",
    "    return df_pivot.sort_values(by='Data_Hora').copy()"
   ]
  },
  {
   "cell_type": "code",
   "execution_count": 106,
   "metadata": {},
   "outputs": [],
   "source": [
    "def repair_data(df, cols):\n",
    "    df_aux = df.copy()\n",
    "    \n",
    "    for feature in cols:\n",
    "        df_aux.loc[df_aux[f'{feature}_repaired'], f'{feature}'] = df_aux.loc[df_aux[f'{feature}_repaired'], f'{feature}_pred']\n",
    "    df_aux = df_aux.drop(columns = [c for c in df_aux.columns if '_pred' in c or '_repaired' in c])\n",
    "    \n",
    "    return df_aux.copy()"
   ]
  },
  {
   "cell_type": "markdown",
   "metadata": {},
   "source": [
    "# Preparação dos dados (Parte I)\n",
    "(referente ao dataset completo - full_data.csv)"
   ]
  },
  {
   "cell_type": "markdown",
   "metadata": {},
   "source": [
    "## Carregar e corrigir medições"
   ]
  },
  {
   "cell_type": "code",
   "execution_count": 3,
   "metadata": {},
   "outputs": [],
   "source": [
    "df_merged = pd.read_csv('../../../data/cleandata/Info pluviometricas/Merged Data/merged.csv', sep = ';')\n",
    "df_repaired = pd.read_csv('../../../data/cleandata/Info pluviometricas/Merged Data/repaired.csv', sep = ';')\n",
    "df_merged['Data_Hora'] = pd.to_datetime(df_merged['Data_Hora'], yearfirst=True)\n",
    "df_repaired['Data_Hora'] = pd.to_datetime(df_repaired['Data_Hora'], yearfirst=True)"
   ]
  },
  {
   "cell_type": "code",
   "execution_count": 7,
   "metadata": {},
   "outputs": [],
   "source": [
    "df_merged.sort_values(by='Data_Hora').to_csv('../../../data/cleandata/Info pluviometricas/Merged Data/merged.csv', sep = ';', index=False)\n",
    "df_repaired.sort_values(by='Data_Hora').to_csv('../../../data/cleandata/Info pluviometricas/Merged Data/repaired.csv', sep = ';', index=False)"
   ]
  },
  {
   "cell_type": "code",
   "execution_count": 108,
   "metadata": {},
   "outputs": [],
   "source": [
    "df = df_merged.merge(df_repaired, on='Data_Hora')\n",
    "# Obs: Sensação térmica?\n",
    "df = df.drop(columns = ['index'] + [c for c in df.columns if 'interpol' in c] + [c for c in df.columns if 'Sensacao' in c])"
   ]
  },
  {
   "cell_type": "code",
   "execution_count": 109,
   "metadata": {},
   "outputs": [],
   "source": [
    "# Obs: adicionar precipitação assim que tivermos corrigida\n",
    "cols = [c for c in df.columns if '_pred' not in c and '_repaired' not in c and 'Local_' not in c and 'Data_Hora' not in c and 'Precipitacao' not in c]\n",
    "\n",
    "df = repair_data(df, cols)\n",
    "\n",
    "df['Data'] = df['Data_Hora'].dt.strftime('%Y-%m-%d')\n",
    "# Obs: temporario ~> remover NAs\n",
    "df = df.dropna()"
   ]
  },
  {
   "cell_type": "markdown",
   "metadata": {},
   "source": [
    "## Carregar labels e juntar ao dataframe"
   ]
  },
  {
   "cell_type": "code",
   "execution_count": 110,
   "metadata": {},
   "outputs": [],
   "source": [
    "df_label_h = pd.read_csv('../../../data/cleandata/Ordens de serviço/labels_hour.csv', sep = ';')\n",
    "df_label_h.columns = ['Data_Hora', 'LocalMax_h_All', 'LocalMax_h_0', 'LocalMax_h_1', 'LocalMax_h_2', 'LocalMax_h_3',\n",
    "                     'LocalMax_h_4', 'LocalMax_h_ow', 'Local_h_0', 'Local_h_1', 'Local_h_2', 'Local_h_3',\n",
    "                     'Local_h_4', 'Local_h_Null']\n",
    "df_label_h['Data_Hora'] = pd.to_datetime(df_label_h['Data_Hora'], yearfirst=True)\n",
    "df_label_h['Data'] = df_label_h['Data_Hora'].dt.strftime('%Y-%m-%d')\n",
    "df_label_h['Hora'] = df_label_h['Data_Hora'].dt.hour\n",
    "df_label_h = df_label_h.drop(columns='Data_Hora')\n",
    "df_label_d = pd.read_csv('../../../data/cleandata/Ordens de serviço/labels_day.csv', sep = ';')\n",
    "df_label_d.columns = ['Data', 'LocalMax_d_All', 'LocalMax_d_0', 'LocalMax_d_1', 'LocalMax_d_2', 'LocalMax_d_3',\n",
    "                     'LocalMax_d_4', 'LocalMax_d_ow', 'Local_d_0', 'Local_d_1', 'Local_d_2', 'Local_d_3',\n",
    "                     'Local_d_4', 'Local_d_Null']"
   ]
  },
  {
   "cell_type": "code",
   "execution_count": 111,
   "metadata": {},
   "outputs": [],
   "source": [
    "df_labels = df.merge(df_label_d, on='Data', how='left')\n",
    "df_labels['Hora'] = df_labels['Data_Hora'].dt.hour\n",
    "df_labels = df_labels.merge(df_label_h, on=['Data', 'Hora'], how='left')\n",
    "df_labels = df_labels.fillna(0)\n",
    "df_labels = df_labels.drop(columns = ['Data', 'Hora'])"
   ]
  },
  {
   "cell_type": "markdown",
   "metadata": {},
   "source": [
    "## \"Reverse OHE\""
   ]
  },
  {
   "cell_type": "code",
   "execution_count": 112,
   "metadata": {},
   "outputs": [],
   "source": [
    "features = [\n",
    "    'Local',\n",
    "    'UmidadeRelativa',\n",
    "    'PressaoAtmosferica',\n",
    "    'TemperaturaDoAr',\n",
    "    'TemperaturaInterna',\n",
    "    'PontoDeOrvalho',\n",
    "    'RadiacaoSolar',\n",
    "    'DirecaoDoVento',\n",
    "    'VelocidadeDoVento',\n",
    "    'Precipitacao',\n",
    "    'LocalMax_d',\n",
    "    'LocalMax_h',\n",
    "    'Local_d',\n",
    "    'Local_h',\n",
    "    \n",
    "]\n",
    "\n",
    "ignoredFeatures = [\n",
    "    'Data_Hora',\n",
    "    'LocalMax_d_All',\n",
    "    'LocalMax_d_ow',\n",
    "    'Local_d_Null',\n",
    "    'LocalMax_h_All',\n",
    "    'LocalMax_h_5',\n",
    "    'Local_h_Null'\n",
    "]\n",
    "\n",
    "df_labels_grouped = reverse_ohe(df_labels, features, ignoredFeatures, 5, '_')\n",
    "# Dataframe \"completo\" pronto para salvar"
   ]
  },
  {
   "cell_type": "markdown",
   "metadata": {},
   "source": [
    "# Preparação dos dados (Parte II)\n",
    "(referente ao dataset pre-treinamento otimizado - prepped_data.csv)"
   ]
  },
  {
   "cell_type": "markdown",
   "metadata": {},
   "source": [
    "## Selecionar colunas de interesse"
   ]
  },
  {
   "cell_type": "code",
   "execution_count": 113,
   "metadata": {},
   "outputs": [],
   "source": [
    "df_labels_simple = df_labels_grouped[['Data_Hora', 'Local', 'Precipitacao', 'LocalMax_d_All']].copy()\n",
    "df_labels_simple.columns = ['Data_Hora', 'Local', 'Precipitacao', 'Label']\n",
    "df_labels_simple['Mes'] = df_labels_simple['Data_Hora'].dt.month"
   ]
  },
  {
   "cell_type": "markdown",
   "metadata": {},
   "source": [
    "## Substituir Local"
   ]
  },
  {
   "cell_type": "code",
   "execution_count": 114,
   "metadata": {},
   "outputs": [],
   "source": [
    "df_labels_simple = df_labels_simple.replace({'Camilopolis': 1, 'Erasmo': 2, 'Paraiso': 3, 'RM': 4, 'Vitoria': 5})"
   ]
  },
  {
   "cell_type": "markdown",
   "metadata": {},
   "source": [
    "## Agrupar por hora"
   ]
  },
  {
   "cell_type": "code",
   "execution_count": 115,
   "metadata": {},
   "outputs": [],
   "source": [
    "# Obs: tratamento inicial ~> selecionar apenas minuto 0\n",
    "df_labels_simple = df_labels_simple[df_labels_simple['Data_Hora'].dt.minute == 0].copy()"
   ]
  },
  {
   "cell_type": "markdown",
   "metadata": {},
   "source": [
    "## Adicionar soma de precipitação do dia"
   ]
  },
  {
   "cell_type": "code",
   "execution_count": 116,
   "metadata": {},
   "outputs": [],
   "source": [
    "df_labels_simple['Data'] = df_labels_simple['Data_Hora'].dt.strftime('%Y-%m-%d')\n",
    "df_prec_sum = df_labels_simple.groupby(['Data', 'Local']).sum().reset_index()[['Data', 'Local', 'Precipitacao']]\n",
    "df_prec_sum.columns = ['Data', 'Local', 'PrecSum']\n",
    "df_labels_simple = df_labels_simple.merge(df_prec_sum, on=['Data', 'Local'])\n",
    "df_labels_simple = df_labels_simple.drop(columns = 'Data')"
   ]
  },
  {
   "cell_type": "markdown",
   "metadata": {},
   "source": [
    "## Filtrar soma de precipitação do dia <= 10"
   ]
  },
  {
   "cell_type": "code",
   "execution_count": 117,
   "metadata": {},
   "outputs": [],
   "source": [
    "df_labels_simple.loc[(df_labels_simple['Label'] == 1) & (df_labels_simple['PrecSum'] <= 10), 'Label'] = 0"
   ]
  },
  {
   "cell_type": "markdown",
   "metadata": {},
   "source": [
    "## Reordenar colunas"
   ]
  },
  {
   "cell_type": "code",
   "execution_count": 118,
   "metadata": {},
   "outputs": [],
   "source": [
    "df_labels_simple = df_labels_simple[['Data_Hora', 'Mes', 'Local', 'Precipitacao', 'PrecSum', 'Label']].copy()"
   ]
  },
  {
   "cell_type": "markdown",
   "metadata": {},
   "source": [
    "# Datasets finais"
   ]
  },
  {
   "cell_type": "code",
   "execution_count": 119,
   "metadata": {},
   "outputs": [
    {
     "data": {
      "text/html": [
       "<div>\n",
       "<style scoped>\n",
       "    .dataframe tbody tr th:only-of-type {\n",
       "        vertical-align: middle;\n",
       "    }\n",
       "\n",
       "    .dataframe tbody tr th {\n",
       "        vertical-align: top;\n",
       "    }\n",
       "\n",
       "    .dataframe thead th {\n",
       "        text-align: right;\n",
       "    }\n",
       "</style>\n",
       "<table border=\"1\" class=\"dataframe\">\n",
       "  <thead>\n",
       "    <tr style=\"text-align: right;\">\n",
       "      <th></th>\n",
       "      <th>Data_Hora</th>\n",
       "      <th>LocalMax_d_All</th>\n",
       "      <th>LocalMax_d_ow</th>\n",
       "      <th>Local_d_Null</th>\n",
       "      <th>LocalMax_h_All</th>\n",
       "      <th>LocalMax_h_5</th>\n",
       "      <th>Local_h_Null</th>\n",
       "      <th>Local</th>\n",
       "      <th>UmidadeRelativa</th>\n",
       "      <th>PressaoAtmosferica</th>\n",
       "      <th>...</th>\n",
       "      <th>TemperaturaInterna</th>\n",
       "      <th>PontoDeOrvalho</th>\n",
       "      <th>RadiacaoSolar</th>\n",
       "      <th>DirecaoDoVento</th>\n",
       "      <th>VelocidadeDoVento</th>\n",
       "      <th>Precipitacao</th>\n",
       "      <th>LocalMax_d</th>\n",
       "      <th>LocalMax_h</th>\n",
       "      <th>Local_d</th>\n",
       "      <th>Local_h</th>\n",
       "    </tr>\n",
       "  </thead>\n",
       "  <tbody>\n",
       "    <tr>\n",
       "      <th>117543</th>\n",
       "      <td>2011-01-01 00:00:00</td>\n",
       "      <td>0.0</td>\n",
       "      <td>0.0</td>\n",
       "      <td>0.0</td>\n",
       "      <td>0.0</td>\n",
       "      <td>0.0</td>\n",
       "      <td>0.0</td>\n",
       "      <td>RM</td>\n",
       "      <td>86.6</td>\n",
       "      <td>926.7</td>\n",
       "      <td>...</td>\n",
       "      <td>23.3</td>\n",
       "      <td>17.8</td>\n",
       "      <td>0.0</td>\n",
       "      <td>131.0</td>\n",
       "      <td>2.5</td>\n",
       "      <td>0.0</td>\n",
       "      <td>0.0</td>\n",
       "      <td>0.0</td>\n",
       "      <td>0.0</td>\n",
       "      <td>0.0</td>\n",
       "    </tr>\n",
       "    <tr>\n",
       "      <th>117543</th>\n",
       "      <td>2011-01-01 00:00:00</td>\n",
       "      <td>0.0</td>\n",
       "      <td>0.0</td>\n",
       "      <td>0.0</td>\n",
       "      <td>0.0</td>\n",
       "      <td>0.0</td>\n",
       "      <td>0.0</td>\n",
       "      <td>Erasmo</td>\n",
       "      <td>88.8</td>\n",
       "      <td>920.5</td>\n",
       "      <td>...</td>\n",
       "      <td>22.9</td>\n",
       "      <td>17.7</td>\n",
       "      <td>0.0</td>\n",
       "      <td>133.0</td>\n",
       "      <td>0.7</td>\n",
       "      <td>0.0</td>\n",
       "      <td>0.0</td>\n",
       "      <td>0.0</td>\n",
       "      <td>0.0</td>\n",
       "      <td>0.0</td>\n",
       "    </tr>\n",
       "    <tr>\n",
       "      <th>117543</th>\n",
       "      <td>2011-01-01 00:00:00</td>\n",
       "      <td>0.0</td>\n",
       "      <td>0.0</td>\n",
       "      <td>0.0</td>\n",
       "      <td>0.0</td>\n",
       "      <td>0.0</td>\n",
       "      <td>0.0</td>\n",
       "      <td>Camilopolis</td>\n",
       "      <td>84.8</td>\n",
       "      <td>920.6</td>\n",
       "      <td>...</td>\n",
       "      <td>22.8</td>\n",
       "      <td>17.5</td>\n",
       "      <td>0.0</td>\n",
       "      <td>137.0</td>\n",
       "      <td>1.5</td>\n",
       "      <td>0.0</td>\n",
       "      <td>0.0</td>\n",
       "      <td>0.0</td>\n",
       "      <td>0.0</td>\n",
       "      <td>0.0</td>\n",
       "    </tr>\n",
       "    <tr>\n",
       "      <th>117543</th>\n",
       "      <td>2011-01-01 00:00:00</td>\n",
       "      <td>0.0</td>\n",
       "      <td>0.0</td>\n",
       "      <td>0.0</td>\n",
       "      <td>0.0</td>\n",
       "      <td>0.0</td>\n",
       "      <td>0.0</td>\n",
       "      <td>Paraiso</td>\n",
       "      <td>92.3</td>\n",
       "      <td>919.1</td>\n",
       "      <td>...</td>\n",
       "      <td>22.7</td>\n",
       "      <td>18.0</td>\n",
       "      <td>0.0</td>\n",
       "      <td>101.0</td>\n",
       "      <td>2.6</td>\n",
       "      <td>0.0</td>\n",
       "      <td>0.0</td>\n",
       "      <td>0.0</td>\n",
       "      <td>0.0</td>\n",
       "      <td>0.0</td>\n",
       "    </tr>\n",
       "    <tr>\n",
       "      <th>117543</th>\n",
       "      <td>2011-01-01 00:00:00</td>\n",
       "      <td>0.0</td>\n",
       "      <td>0.0</td>\n",
       "      <td>0.0</td>\n",
       "      <td>0.0</td>\n",
       "      <td>0.0</td>\n",
       "      <td>0.0</td>\n",
       "      <td>Vitoria</td>\n",
       "      <td>0.0</td>\n",
       "      <td>0.0</td>\n",
       "      <td>...</td>\n",
       "      <td>0.0</td>\n",
       "      <td>0.0</td>\n",
       "      <td>0.0</td>\n",
       "      <td>0.0</td>\n",
       "      <td>0.0</td>\n",
       "      <td>0.0</td>\n",
       "      <td>0.0</td>\n",
       "      <td>0.0</td>\n",
       "      <td>0.0</td>\n",
       "      <td>0.0</td>\n",
       "    </tr>\n",
       "    <tr>\n",
       "      <th>117544</th>\n",
       "      <td>2011-01-01 00:15:00</td>\n",
       "      <td>0.0</td>\n",
       "      <td>0.0</td>\n",
       "      <td>0.0</td>\n",
       "      <td>0.0</td>\n",
       "      <td>0.0</td>\n",
       "      <td>0.0</td>\n",
       "      <td>Erasmo</td>\n",
       "      <td>87.2</td>\n",
       "      <td>920.3</td>\n",
       "      <td>...</td>\n",
       "      <td>22.8</td>\n",
       "      <td>17.4</td>\n",
       "      <td>0.0</td>\n",
       "      <td>96.0</td>\n",
       "      <td>3.6</td>\n",
       "      <td>0.0</td>\n",
       "      <td>0.0</td>\n",
       "      <td>0.0</td>\n",
       "      <td>0.0</td>\n",
       "      <td>0.0</td>\n",
       "    </tr>\n",
       "  </tbody>\n",
       "</table>\n",
       "<p>6 rows × 21 columns</p>\n",
       "</div>"
      ],
      "text/plain": [
       "                 Data_Hora  LocalMax_d_All  LocalMax_d_ow  Local_d_Null  \\\n",
       "117543 2011-01-01 00:00:00             0.0            0.0           0.0   \n",
       "117543 2011-01-01 00:00:00             0.0            0.0           0.0   \n",
       "117543 2011-01-01 00:00:00             0.0            0.0           0.0   \n",
       "117543 2011-01-01 00:00:00             0.0            0.0           0.0   \n",
       "117543 2011-01-01 00:00:00             0.0            0.0           0.0   \n",
       "117544 2011-01-01 00:15:00             0.0            0.0           0.0   \n",
       "\n",
       "        LocalMax_h_All  LocalMax_h_5  Local_h_Null        Local  \\\n",
       "117543             0.0           0.0           0.0           RM   \n",
       "117543             0.0           0.0           0.0       Erasmo   \n",
       "117543             0.0           0.0           0.0  Camilopolis   \n",
       "117543             0.0           0.0           0.0      Paraiso   \n",
       "117543             0.0           0.0           0.0      Vitoria   \n",
       "117544             0.0           0.0           0.0       Erasmo   \n",
       "\n",
       "        UmidadeRelativa  PressaoAtmosferica  ...  TemperaturaInterna  \\\n",
       "117543             86.6               926.7  ...                23.3   \n",
       "117543             88.8               920.5  ...                22.9   \n",
       "117543             84.8               920.6  ...                22.8   \n",
       "117543             92.3               919.1  ...                22.7   \n",
       "117543              0.0                 0.0  ...                 0.0   \n",
       "117544             87.2               920.3  ...                22.8   \n",
       "\n",
       "        PontoDeOrvalho  RadiacaoSolar  DirecaoDoVento  VelocidadeDoVento  \\\n",
       "117543            17.8            0.0           131.0                2.5   \n",
       "117543            17.7            0.0           133.0                0.7   \n",
       "117543            17.5            0.0           137.0                1.5   \n",
       "117543            18.0            0.0           101.0                2.6   \n",
       "117543             0.0            0.0             0.0                0.0   \n",
       "117544            17.4            0.0            96.0                3.6   \n",
       "\n",
       "        Precipitacao  LocalMax_d  LocalMax_h  Local_d  Local_h  \n",
       "117543           0.0         0.0         0.0      0.0      0.0  \n",
       "117543           0.0         0.0         0.0      0.0      0.0  \n",
       "117543           0.0         0.0         0.0      0.0      0.0  \n",
       "117543           0.0         0.0         0.0      0.0      0.0  \n",
       "117543           0.0         0.0         0.0      0.0      0.0  \n",
       "117544           0.0         0.0         0.0      0.0      0.0  \n",
       "\n",
       "[6 rows x 21 columns]"
      ]
     },
     "metadata": {},
     "output_type": "display_data"
    },
    {
     "name": "stdout",
     "output_type": "stream",
     "text": [
      "1464030 rows x 21 columns\n"
     ]
    },
    {
     "data": {
      "text/html": [
       "<div>\n",
       "<style scoped>\n",
       "    .dataframe tbody tr th:only-of-type {\n",
       "        vertical-align: middle;\n",
       "    }\n",
       "\n",
       "    .dataframe tbody tr th {\n",
       "        vertical-align: top;\n",
       "    }\n",
       "\n",
       "    .dataframe thead th {\n",
       "        text-align: right;\n",
       "    }\n",
       "</style>\n",
       "<table border=\"1\" class=\"dataframe\">\n",
       "  <thead>\n",
       "    <tr style=\"text-align: right;\">\n",
       "      <th></th>\n",
       "      <th>Data_Hora</th>\n",
       "      <th>Mes</th>\n",
       "      <th>Local</th>\n",
       "      <th>Precipitacao</th>\n",
       "      <th>PrecSum</th>\n",
       "      <th>Label</th>\n",
       "    </tr>\n",
       "  </thead>\n",
       "  <tbody>\n",
       "    <tr>\n",
       "      <th>0</th>\n",
       "      <td>2011-01-01 00:00:00</td>\n",
       "      <td>1</td>\n",
       "      <td>4</td>\n",
       "      <td>0.0</td>\n",
       "      <td>0.8</td>\n",
       "      <td>0.0</td>\n",
       "    </tr>\n",
       "    <tr>\n",
       "      <th>1</th>\n",
       "      <td>2011-01-01 01:00:00</td>\n",
       "      <td>1</td>\n",
       "      <td>4</td>\n",
       "      <td>0.0</td>\n",
       "      <td>0.8</td>\n",
       "      <td>0.0</td>\n",
       "    </tr>\n",
       "    <tr>\n",
       "      <th>2</th>\n",
       "      <td>2011-01-01 02:00:00</td>\n",
       "      <td>1</td>\n",
       "      <td>4</td>\n",
       "      <td>0.0</td>\n",
       "      <td>0.8</td>\n",
       "      <td>0.0</td>\n",
       "    </tr>\n",
       "    <tr>\n",
       "      <th>3</th>\n",
       "      <td>2011-01-01 03:00:00</td>\n",
       "      <td>1</td>\n",
       "      <td>4</td>\n",
       "      <td>0.0</td>\n",
       "      <td>0.8</td>\n",
       "      <td>0.0</td>\n",
       "    </tr>\n",
       "    <tr>\n",
       "      <th>4</th>\n",
       "      <td>2011-01-01 04:00:00</td>\n",
       "      <td>1</td>\n",
       "      <td>4</td>\n",
       "      <td>0.0</td>\n",
       "      <td>0.8</td>\n",
       "      <td>0.0</td>\n",
       "    </tr>\n",
       "    <tr>\n",
       "      <th>5</th>\n",
       "      <td>2011-01-01 05:00:00</td>\n",
       "      <td>1</td>\n",
       "      <td>4</td>\n",
       "      <td>0.0</td>\n",
       "      <td>0.8</td>\n",
       "      <td>0.0</td>\n",
       "    </tr>\n",
       "  </tbody>\n",
       "</table>\n",
       "</div>"
      ],
      "text/plain": [
       "            Data_Hora  Mes  Local  Precipitacao  PrecSum  Label\n",
       "0 2011-01-01 00:00:00    1      4           0.0      0.8    0.0\n",
       "1 2011-01-01 01:00:00    1      4           0.0      0.8    0.0\n",
       "2 2011-01-01 02:00:00    1      4           0.0      0.8    0.0\n",
       "3 2011-01-01 03:00:00    1      4           0.0      0.8    0.0\n",
       "4 2011-01-01 04:00:00    1      4           0.0      0.8    0.0\n",
       "5 2011-01-01 05:00:00    1      4           0.0      0.8    0.0"
      ]
     },
     "metadata": {},
     "output_type": "display_data"
    },
    {
     "name": "stdout",
     "output_type": "stream",
     "text": [
      "366025 rows x 6 columns\n"
     ]
    }
   ],
   "source": [
    "display(df_labels_grouped.head(6))\n",
    "print(f'{df_labels_grouped.shape[0]} rows x {df_labels_grouped.shape[1]} columns')\n",
    "\n",
    "display(df_labels_simple.head(6))\n",
    "print(f'{df_labels_simple.shape[0]} rows x {df_labels_simple.shape[1]} columns')"
   ]
  },
  {
   "cell_type": "markdown",
   "metadata": {},
   "source": [
    "# Salvar datasets"
   ]
  },
  {
   "cell_type": "code",
   "execution_count": 120,
   "metadata": {},
   "outputs": [],
   "source": [
    "df_labels_grouped.to_csv('../../../data/cleandata/Info pluviometricas/Merged Data/full_data.csv', index=False, sep=';')\n",
    "df_labels_simple.to_csv('../../../data/cleandata/Info pluviometricas/Merged Data/prepped_data.csv', index=False, sep=';')"
   ]
  },
  {
   "cell_type": "code",
   "execution_count": 9,
   "metadata": {},
   "outputs": [],
   "source": [
    "import json"
   ]
  },
  {
   "cell_type": "code",
   "execution_count": 13,
   "metadata": {},
   "outputs": [
    {
     "data": {
      "text/plain": [
       "[{'oi': 2}]"
      ]
     },
     "execution_count": 13,
     "metadata": {},
     "output_type": "execute_result"
    }
   ],
   "source": [
    "json.loads('[{\"oi\":2}]')"
   ]
  }
 ],
 "metadata": {
  "kernelspec": {
   "display_name": "Python 3.8.5 64-bit",
   "language": "python",
   "name": "python38564bit983d40b0eb64453e8ad463eee52a7b5b"
  },
  "language_info": {
   "codemirror_mode": {
    "name": "ipython",
    "version": 3
   },
   "file_extension": ".py",
   "mimetype": "text/x-python",
   "name": "python",
   "nbconvert_exporter": "python",
   "pygments_lexer": "ipython3",
   "version": "3.8.5"
  },
  "toc-autonumbering": true
 },
 "nbformat": 4,
 "nbformat_minor": 4
}
