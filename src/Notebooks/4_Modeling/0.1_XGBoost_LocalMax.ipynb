{
 "cells": [
  {
   "cell_type": "markdown",
   "metadata": {},
   "source": [
    "# 0 - Inicialização"
   ]
  },
  {
   "cell_type": "code",
   "execution_count": 1,
   "metadata": {},
   "outputs": [],
   "source": [
    "import pandas as pd\n",
    "import numpy as np\n",
    "from sklearn.cluster import KMeans\n",
    "from sklearn.preprocessing import MinMaxScaler\n",
    "import matplotlib.pyplot as plt\n",
    "\n",
    "from plotly import graph_objects as go\n",
    "import plotly as py\n",
    "\n",
    "from datetime import datetime\n",
    "from datetime import timedelta\n",
    "\n",
    "import xgboost\n",
    "from sklearn.model_selection import train_test_split\n",
    "from sklearn.metrics import plot_confusion_matrix, accuracy_score, f1_score, confusion_matrix, recall_score, precision_score\n",
    "\n",
    "from sklearn.utils import resample"
   ]
  },
  {
   "cell_type": "markdown",
   "metadata": {},
   "source": [
    "# 1 - Classificar o dataset clusterizado por dia"
   ]
  },
  {
   "cell_type": "markdown",
   "metadata": {},
   "source": [
    "## Carregar dados"
   ]
  },
  {
   "cell_type": "code",
   "execution_count": 2,
   "metadata": {},
   "outputs": [
    {
     "data": {
      "text/html": [
       "<div>\n",
       "<style scoped>\n",
       "    .dataframe tbody tr th:only-of-type {\n",
       "        vertical-align: middle;\n",
       "    }\n",
       "\n",
       "    .dataframe tbody tr th {\n",
       "        vertical-align: top;\n",
       "    }\n",
       "\n",
       "    .dataframe thead th {\n",
       "        text-align: right;\n",
       "    }\n",
       "</style>\n",
       "<table border=\"1\" class=\"dataframe\">\n",
       "  <thead>\n",
       "    <tr style=\"text-align: right;\">\n",
       "      <th></th>\n",
       "      <th>Data_Hora</th>\n",
       "      <th>Local</th>\n",
       "      <th>UmidadeRelativa</th>\n",
       "      <th>PressaoAtmosferica</th>\n",
       "      <th>TemperaturaDoAr</th>\n",
       "      <th>TemperaturaInterna</th>\n",
       "      <th>PontoDeOrvalho</th>\n",
       "      <th>RadiacaoSolar</th>\n",
       "      <th>DirecaoDoVento</th>\n",
       "      <th>VelocidadeDoVento</th>\n",
       "      <th>Precipitacao</th>\n",
       "      <th>LocalMax_Dia</th>\n",
       "      <th>LocalMax_Hora</th>\n",
       "      <th>Data</th>\n",
       "    </tr>\n",
       "  </thead>\n",
       "  <tbody>\n",
       "    <tr>\n",
       "      <th>0</th>\n",
       "      <td>2011-01-01 00:00:00</td>\n",
       "      <td>Erasmo</td>\n",
       "      <td>88.8</td>\n",
       "      <td>920.5</td>\n",
       "      <td>10.243265</td>\n",
       "      <td>22.9</td>\n",
       "      <td>17.700000</td>\n",
       "      <td>0.000000</td>\n",
       "      <td>133.0</td>\n",
       "      <td>0.7</td>\n",
       "      <td>0.0</td>\n",
       "      <td>0</td>\n",
       "      <td>0</td>\n",
       "      <td>2011-01-01</td>\n",
       "    </tr>\n",
       "    <tr>\n",
       "      <th>1</th>\n",
       "      <td>2011-01-01 00:00:00</td>\n",
       "      <td>Camilopolis</td>\n",
       "      <td>84.8</td>\n",
       "      <td>920.6</td>\n",
       "      <td>20.200000</td>\n",
       "      <td>22.8</td>\n",
       "      <td>17.500000</td>\n",
       "      <td>0.000000</td>\n",
       "      <td>137.0</td>\n",
       "      <td>1.5</td>\n",
       "      <td>0.0</td>\n",
       "      <td>0</td>\n",
       "      <td>0</td>\n",
       "      <td>2011-01-01</td>\n",
       "    </tr>\n",
       "    <tr>\n",
       "      <th>2</th>\n",
       "      <td>2011-01-01 00:00:00</td>\n",
       "      <td>Paraiso</td>\n",
       "      <td>92.3</td>\n",
       "      <td>919.1</td>\n",
       "      <td>19.300000</td>\n",
       "      <td>22.7</td>\n",
       "      <td>18.000000</td>\n",
       "      <td>0.000000</td>\n",
       "      <td>101.0</td>\n",
       "      <td>2.6</td>\n",
       "      <td>0.0</td>\n",
       "      <td>0</td>\n",
       "      <td>0</td>\n",
       "      <td>2011-01-01</td>\n",
       "    </tr>\n",
       "    <tr>\n",
       "      <th>3</th>\n",
       "      <td>2011-01-01 00:00:00</td>\n",
       "      <td>Vitoria</td>\n",
       "      <td>0.0</td>\n",
       "      <td>0.0</td>\n",
       "      <td>0.000000</td>\n",
       "      <td>0.0</td>\n",
       "      <td>0.000000</td>\n",
       "      <td>0.000000</td>\n",
       "      <td>0.0</td>\n",
       "      <td>0.0</td>\n",
       "      <td>0.0</td>\n",
       "      <td>0</td>\n",
       "      <td>0</td>\n",
       "      <td>2011-01-01</td>\n",
       "    </tr>\n",
       "    <tr>\n",
       "      <th>4</th>\n",
       "      <td>2011-01-01 00:00:00</td>\n",
       "      <td>RM</td>\n",
       "      <td>86.6</td>\n",
       "      <td>926.7</td>\n",
       "      <td>20.100000</td>\n",
       "      <td>23.3</td>\n",
       "      <td>17.800000</td>\n",
       "      <td>0.000000</td>\n",
       "      <td>131.0</td>\n",
       "      <td>2.5</td>\n",
       "      <td>0.0</td>\n",
       "      <td>0</td>\n",
       "      <td>0</td>\n",
       "      <td>2011-01-01</td>\n",
       "    </tr>\n",
       "    <tr>\n",
       "      <th>...</th>\n",
       "      <td>...</td>\n",
       "      <td>...</td>\n",
       "      <td>...</td>\n",
       "      <td>...</td>\n",
       "      <td>...</td>\n",
       "      <td>...</td>\n",
       "      <td>...</td>\n",
       "      <td>...</td>\n",
       "      <td>...</td>\n",
       "      <td>...</td>\n",
       "      <td>...</td>\n",
       "      <td>...</td>\n",
       "      <td>...</td>\n",
       "      <td>...</td>\n",
       "    </tr>\n",
       "    <tr>\n",
       "      <th>1463565</th>\n",
       "      <td>2019-06-30 23:45:00</td>\n",
       "      <td>Camilopolis</td>\n",
       "      <td>54.4</td>\n",
       "      <td>924.0</td>\n",
       "      <td>20.800000</td>\n",
       "      <td>23.0</td>\n",
       "      <td>12.200000</td>\n",
       "      <td>0.073893</td>\n",
       "      <td>332.0</td>\n",
       "      <td>4.3</td>\n",
       "      <td>0.0</td>\n",
       "      <td>0</td>\n",
       "      <td>0</td>\n",
       "      <td>2019-06-30</td>\n",
       "    </tr>\n",
       "    <tr>\n",
       "      <th>1463566</th>\n",
       "      <td>2019-06-30 23:45:00</td>\n",
       "      <td>RM</td>\n",
       "      <td>66.9</td>\n",
       "      <td>931.9</td>\n",
       "      <td>18.800000</td>\n",
       "      <td>22.5</td>\n",
       "      <td>13.300000</td>\n",
       "      <td>0.294461</td>\n",
       "      <td>331.0</td>\n",
       "      <td>0.7</td>\n",
       "      <td>0.0</td>\n",
       "      <td>0</td>\n",
       "      <td>0</td>\n",
       "      <td>2019-06-30</td>\n",
       "    </tr>\n",
       "    <tr>\n",
       "      <th>1463567</th>\n",
       "      <td>2019-06-30 23:45:00</td>\n",
       "      <td>Vitoria</td>\n",
       "      <td>38.4</td>\n",
       "      <td>925.8</td>\n",
       "      <td>20.300000</td>\n",
       "      <td>27.5</td>\n",
       "      <td>6.300000</td>\n",
       "      <td>0.000000</td>\n",
       "      <td>0.0</td>\n",
       "      <td>0.0</td>\n",
       "      <td>0.0</td>\n",
       "      <td>0</td>\n",
       "      <td>0</td>\n",
       "      <td>2019-06-30</td>\n",
       "    </tr>\n",
       "    <tr>\n",
       "      <th>1463568</th>\n",
       "      <td>2019-06-30 23:45:00</td>\n",
       "      <td>Paraiso</td>\n",
       "      <td>55.3</td>\n",
       "      <td>924.2</td>\n",
       "      <td>20.800000</td>\n",
       "      <td>22.1</td>\n",
       "      <td>11.790525</td>\n",
       "      <td>0.000000</td>\n",
       "      <td>25.0</td>\n",
       "      <td>3.6</td>\n",
       "      <td>0.0</td>\n",
       "      <td>0</td>\n",
       "      <td>0</td>\n",
       "      <td>2019-06-30</td>\n",
       "    </tr>\n",
       "    <tr>\n",
       "      <th>1463569</th>\n",
       "      <td>2019-06-30 23:45:00</td>\n",
       "      <td>Erasmo</td>\n",
       "      <td>60.7</td>\n",
       "      <td>925.7</td>\n",
       "      <td>19.500000</td>\n",
       "      <td>22.5</td>\n",
       "      <td>11.700000</td>\n",
       "      <td>0.000000</td>\n",
       "      <td>327.0</td>\n",
       "      <td>3.5</td>\n",
       "      <td>0.0</td>\n",
       "      <td>0</td>\n",
       "      <td>0</td>\n",
       "      <td>2019-06-30</td>\n",
       "    </tr>\n",
       "  </tbody>\n",
       "</table>\n",
       "<p>1463570 rows × 14 columns</p>\n",
       "</div>"
      ],
      "text/plain": [
       "                  Data_Hora        Local  UmidadeRelativa  PressaoAtmosferica  \\\n",
       "0       2011-01-01 00:00:00       Erasmo             88.8               920.5   \n",
       "1       2011-01-01 00:00:00  Camilopolis             84.8               920.6   \n",
       "2       2011-01-01 00:00:00      Paraiso             92.3               919.1   \n",
       "3       2011-01-01 00:00:00      Vitoria              0.0                 0.0   \n",
       "4       2011-01-01 00:00:00           RM             86.6               926.7   \n",
       "...                     ...          ...              ...                 ...   \n",
       "1463565 2019-06-30 23:45:00  Camilopolis             54.4               924.0   \n",
       "1463566 2019-06-30 23:45:00           RM             66.9               931.9   \n",
       "1463567 2019-06-30 23:45:00      Vitoria             38.4               925.8   \n",
       "1463568 2019-06-30 23:45:00      Paraiso             55.3               924.2   \n",
       "1463569 2019-06-30 23:45:00       Erasmo             60.7               925.7   \n",
       "\n",
       "         TemperaturaDoAr  TemperaturaInterna  PontoDeOrvalho  RadiacaoSolar  \\\n",
       "0              10.243265                22.9       17.700000       0.000000   \n",
       "1              20.200000                22.8       17.500000       0.000000   \n",
       "2              19.300000                22.7       18.000000       0.000000   \n",
       "3               0.000000                 0.0        0.000000       0.000000   \n",
       "4              20.100000                23.3       17.800000       0.000000   \n",
       "...                  ...                 ...             ...            ...   \n",
       "1463565        20.800000                23.0       12.200000       0.073893   \n",
       "1463566        18.800000                22.5       13.300000       0.294461   \n",
       "1463567        20.300000                27.5        6.300000       0.000000   \n",
       "1463568        20.800000                22.1       11.790525       0.000000   \n",
       "1463569        19.500000                22.5       11.700000       0.000000   \n",
       "\n",
       "         DirecaoDoVento  VelocidadeDoVento  Precipitacao  LocalMax_Dia  \\\n",
       "0                 133.0                0.7           0.0             0   \n",
       "1                 137.0                1.5           0.0             0   \n",
       "2                 101.0                2.6           0.0             0   \n",
       "3                   0.0                0.0           0.0             0   \n",
       "4                 131.0                2.5           0.0             0   \n",
       "...                 ...                ...           ...           ...   \n",
       "1463565           332.0                4.3           0.0             0   \n",
       "1463566           331.0                0.7           0.0             0   \n",
       "1463567             0.0                0.0           0.0             0   \n",
       "1463568            25.0                3.6           0.0             0   \n",
       "1463569           327.0                3.5           0.0             0   \n",
       "\n",
       "         LocalMax_Hora        Data  \n",
       "0                    0  2011-01-01  \n",
       "1                    0  2011-01-01  \n",
       "2                    0  2011-01-01  \n",
       "3                    0  2011-01-01  \n",
       "4                    0  2011-01-01  \n",
       "...                ...         ...  \n",
       "1463565              0  2019-06-30  \n",
       "1463566              0  2019-06-30  \n",
       "1463567              0  2019-06-30  \n",
       "1463568              0  2019-06-30  \n",
       "1463569              0  2019-06-30  \n",
       "\n",
       "[1463570 rows x 14 columns]"
      ]
     },
     "execution_count": 2,
     "metadata": {},
     "output_type": "execute_result"
    }
   ],
   "source": [
    "df_cluster = pd.read_csv('../../../data/cleandata/Info pluviometricas/Merged Data/clustered_label.csv', sep = ';')\n",
    "df_cluster['Data_Hora'] = pd.to_datetime(df_cluster['Data_Hora'], yearfirst=True)\n",
    "df_cluster['Data'] = df_cluster['Data_Hora'].dt.strftime('%Y-%m-%d')\n",
    "df_cluster"
   ]
  },
  {
   "cell_type": "markdown",
   "metadata": {},
   "source": [
    "## Agrupar por dia"
   ]
  },
  {
   "cell_type": "code",
   "execution_count": 12,
   "metadata": {},
   "outputs": [
    {
     "data": {
      "text/html": [
       "<div>\n",
       "<style scoped>\n",
       "    .dataframe tbody tr th:only-of-type {\n",
       "        vertical-align: middle;\n",
       "    }\n",
       "\n",
       "    .dataframe tbody tr th {\n",
       "        vertical-align: top;\n",
       "    }\n",
       "\n",
       "    .dataframe thead th {\n",
       "        text-align: right;\n",
       "    }\n",
       "</style>\n",
       "<table border=\"1\" class=\"dataframe\">\n",
       "  <thead>\n",
       "    <tr style=\"text-align: right;\">\n",
       "      <th></th>\n",
       "      <th>Data</th>\n",
       "      <th>Local</th>\n",
       "      <th>UmidadeRelativa</th>\n",
       "      <th>PressaoAtmosferica</th>\n",
       "      <th>TemperaturaDoAr</th>\n",
       "      <th>TemperaturaInterna</th>\n",
       "      <th>PontoDeOrvalho</th>\n",
       "      <th>RadiacaoSolar</th>\n",
       "      <th>DirecaoDoVento</th>\n",
       "      <th>VelocidadeDoVento</th>\n",
       "      <th>Precipitacao</th>\n",
       "      <th>LocalMax</th>\n",
       "      <th>Mes</th>\n",
       "    </tr>\n",
       "  </thead>\n",
       "  <tbody>\n",
       "    <tr>\n",
       "      <th>0</th>\n",
       "      <td>2011-01-01</td>\n",
       "      <td>1</td>\n",
       "      <td>80.037996</td>\n",
       "      <td>918.279493</td>\n",
       "      <td>20.981523</td>\n",
       "      <td>24.507206</td>\n",
       "      <td>17.288055</td>\n",
       "      <td>132.072917</td>\n",
       "      <td>143.062500</td>\n",
       "      <td>2.160417</td>\n",
       "      <td>0.6</td>\n",
       "      <td>0</td>\n",
       "      <td>1</td>\n",
       "    </tr>\n",
       "    <tr>\n",
       "      <th>1</th>\n",
       "      <td>2011-01-01</td>\n",
       "      <td>2</td>\n",
       "      <td>82.882941</td>\n",
       "      <td>918.304598</td>\n",
       "      <td>20.023345</td>\n",
       "      <td>24.302490</td>\n",
       "      <td>17.296642</td>\n",
       "      <td>134.354167</td>\n",
       "      <td>124.833333</td>\n",
       "      <td>2.959375</td>\n",
       "      <td>2.2</td>\n",
       "      <td>0</td>\n",
       "      <td>1</td>\n",
       "    </tr>\n",
       "    <tr>\n",
       "      <th>2</th>\n",
       "      <td>2011-01-01</td>\n",
       "      <td>3</td>\n",
       "      <td>83.588051</td>\n",
       "      <td>916.817234</td>\n",
       "      <td>20.256149</td>\n",
       "      <td>24.174391</td>\n",
       "      <td>17.407144</td>\n",
       "      <td>160.770833</td>\n",
       "      <td>146.114583</td>\n",
       "      <td>2.661458</td>\n",
       "      <td>1.6</td>\n",
       "      <td>0</td>\n",
       "      <td>1</td>\n",
       "    </tr>\n",
       "    <tr>\n",
       "      <th>3</th>\n",
       "      <td>2011-01-01</td>\n",
       "      <td>4</td>\n",
       "      <td>81.887094</td>\n",
       "      <td>924.393186</td>\n",
       "      <td>20.809716</td>\n",
       "      <td>24.522501</td>\n",
       "      <td>17.479821</td>\n",
       "      <td>154.968750</td>\n",
       "      <td>158.187500</td>\n",
       "      <td>2.942708</td>\n",
       "      <td>3.2</td>\n",
       "      <td>0</td>\n",
       "      <td>1</td>\n",
       "    </tr>\n",
       "    <tr>\n",
       "      <th>4</th>\n",
       "      <td>2011-01-01</td>\n",
       "      <td>5</td>\n",
       "      <td>0.000000</td>\n",
       "      <td>0.000000</td>\n",
       "      <td>0.000000</td>\n",
       "      <td>0.000000</td>\n",
       "      <td>0.000000</td>\n",
       "      <td>0.000000</td>\n",
       "      <td>0.000000</td>\n",
       "      <td>0.000000</td>\n",
       "      <td>0.0</td>\n",
       "      <td>0</td>\n",
       "      <td>1</td>\n",
       "    </tr>\n",
       "    <tr>\n",
       "      <th>...</th>\n",
       "      <td>...</td>\n",
       "      <td>...</td>\n",
       "      <td>...</td>\n",
       "      <td>...</td>\n",
       "      <td>...</td>\n",
       "      <td>...</td>\n",
       "      <td>...</td>\n",
       "      <td>...</td>\n",
       "      <td>...</td>\n",
       "      <td>...</td>\n",
       "      <td>...</td>\n",
       "      <td>...</td>\n",
       "      <td>...</td>\n",
       "    </tr>\n",
       "    <tr>\n",
       "      <th>15345</th>\n",
       "      <td>2019-06-30</td>\n",
       "      <td>1</td>\n",
       "      <td>50.984375</td>\n",
       "      <td>924.260417</td>\n",
       "      <td>21.940625</td>\n",
       "      <td>24.225000</td>\n",
       "      <td>12.049696</td>\n",
       "      <td>146.491123</td>\n",
       "      <td>301.906250</td>\n",
       "      <td>13.586458</td>\n",
       "      <td>0.0</td>\n",
       "      <td>0</td>\n",
       "      <td>6</td>\n",
       "    </tr>\n",
       "    <tr>\n",
       "      <th>15346</th>\n",
       "      <td>2019-06-30</td>\n",
       "      <td>2</td>\n",
       "      <td>52.906250</td>\n",
       "      <td>925.870833</td>\n",
       "      <td>21.695833</td>\n",
       "      <td>24.270707</td>\n",
       "      <td>11.334375</td>\n",
       "      <td>0.000000</td>\n",
       "      <td>237.510417</td>\n",
       "      <td>8.039442</td>\n",
       "      <td>0.0</td>\n",
       "      <td>0</td>\n",
       "      <td>6</td>\n",
       "    </tr>\n",
       "    <tr>\n",
       "      <th>15347</th>\n",
       "      <td>2019-06-30</td>\n",
       "      <td>3</td>\n",
       "      <td>52.266667</td>\n",
       "      <td>924.503125</td>\n",
       "      <td>22.107292</td>\n",
       "      <td>23.691667</td>\n",
       "      <td>11.917331</td>\n",
       "      <td>142.864583</td>\n",
       "      <td>144.958333</td>\n",
       "      <td>9.913450</td>\n",
       "      <td>0.0</td>\n",
       "      <td>0</td>\n",
       "      <td>6</td>\n",
       "    </tr>\n",
       "    <tr>\n",
       "      <th>15348</th>\n",
       "      <td>2019-06-30</td>\n",
       "      <td>4</td>\n",
       "      <td>54.458333</td>\n",
       "      <td>932.079167</td>\n",
       "      <td>21.626042</td>\n",
       "      <td>25.279167</td>\n",
       "      <td>12.515625</td>\n",
       "      <td>169.933156</td>\n",
       "      <td>263.375000</td>\n",
       "      <td>6.782296</td>\n",
       "      <td>0.0</td>\n",
       "      <td>0</td>\n",
       "      <td>6</td>\n",
       "    </tr>\n",
       "    <tr>\n",
       "      <th>15349</th>\n",
       "      <td>2019-06-30</td>\n",
       "      <td>5</td>\n",
       "      <td>33.409375</td>\n",
       "      <td>925.964583</td>\n",
       "      <td>22.151042</td>\n",
       "      <td>28.868750</td>\n",
       "      <td>5.421875</td>\n",
       "      <td>0.000000</td>\n",
       "      <td>0.000000</td>\n",
       "      <td>0.000000</td>\n",
       "      <td>0.0</td>\n",
       "      <td>0</td>\n",
       "      <td>6</td>\n",
       "    </tr>\n",
       "  </tbody>\n",
       "</table>\n",
       "<p>15350 rows × 13 columns</p>\n",
       "</div>"
      ],
      "text/plain": [
       "             Data  Local  UmidadeRelativa  PressaoAtmosferica  \\\n",
       "0      2011-01-01      1        80.037996          918.279493   \n",
       "1      2011-01-01      2        82.882941          918.304598   \n",
       "2      2011-01-01      3        83.588051          916.817234   \n",
       "3      2011-01-01      4        81.887094          924.393186   \n",
       "4      2011-01-01      5         0.000000            0.000000   \n",
       "...           ...    ...              ...                 ...   \n",
       "15345  2019-06-30      1        50.984375          924.260417   \n",
       "15346  2019-06-30      2        52.906250          925.870833   \n",
       "15347  2019-06-30      3        52.266667          924.503125   \n",
       "15348  2019-06-30      4        54.458333          932.079167   \n",
       "15349  2019-06-30      5        33.409375          925.964583   \n",
       "\n",
       "       TemperaturaDoAr  TemperaturaInterna  PontoDeOrvalho  RadiacaoSolar  \\\n",
       "0            20.981523           24.507206       17.288055     132.072917   \n",
       "1            20.023345           24.302490       17.296642     134.354167   \n",
       "2            20.256149           24.174391       17.407144     160.770833   \n",
       "3            20.809716           24.522501       17.479821     154.968750   \n",
       "4             0.000000            0.000000        0.000000       0.000000   \n",
       "...                ...                 ...             ...            ...   \n",
       "15345        21.940625           24.225000       12.049696     146.491123   \n",
       "15346        21.695833           24.270707       11.334375       0.000000   \n",
       "15347        22.107292           23.691667       11.917331     142.864583   \n",
       "15348        21.626042           25.279167       12.515625     169.933156   \n",
       "15349        22.151042           28.868750        5.421875       0.000000   \n",
       "\n",
       "       DirecaoDoVento  VelocidadeDoVento  Precipitacao  LocalMax  Mes  \n",
       "0          143.062500           2.160417           0.6         0    1  \n",
       "1          124.833333           2.959375           2.2         0    1  \n",
       "2          146.114583           2.661458           1.6         0    1  \n",
       "3          158.187500           2.942708           3.2         0    1  \n",
       "4            0.000000           0.000000           0.0         0    1  \n",
       "...               ...                ...           ...       ...  ...  \n",
       "15345      301.906250          13.586458           0.0         0    6  \n",
       "15346      237.510417           8.039442           0.0         0    6  \n",
       "15347      144.958333           9.913450           0.0         0    6  \n",
       "15348      263.375000           6.782296           0.0         0    6  \n",
       "15349        0.000000           0.000000           0.0         0    6  \n",
       "\n",
       "[15350 rows x 13 columns]"
      ]
     },
     "execution_count": 12,
     "metadata": {},
     "output_type": "execute_result"
    }
   ],
   "source": [
    "# df_cluster_dia = df_cluster.drop(columns = ['Data_Hora', 'LocalMax_Hora']).rename(columns = {'LocalMax_Dia': 'LocalMax'})\n",
    "# s_prec_p = df_cluster_dia.groupby(['Data', 'Local']).sum().reset_index().groupby('Data').mean()['Precipitacao'].reset_index()\n",
    "# s_prec_o = df_cluster_dia.groupby(['Data', 'Local']).max().reset_index().groupby('Data').max()['LocalMax'].reset_index()\n",
    "# df_cluster_dia = df_cluster_dia.groupby(['Data']).mean().reset_index()\n",
    "# df_cluster_dia['Precipitacao'] = s_prec_p['Precipitacao']\n",
    "# df_cluster_dia['LocalMax'] = s_prec_o['LocalMax']\n",
    "# df_cluster_dia\n",
    "\n",
    "df_cluster_dia = df_cluster.drop(columns = ['Data_Hora', 'LocalMax_Hora']).rename(columns = {'LocalMax_Dia': 'LocalMax'})\n",
    "df_prec_p = df_cluster_dia.groupby(['Data', 'Local']).sum()['Precipitacao'].reset_index()\n",
    "df_prec_o = df_cluster_dia.groupby(['Data', 'Local']).max()['LocalMax'].reset_index()\n",
    "df_cluster_dia = df_cluster_dia.groupby(['Data', 'Local']).mean().reset_index().drop(columns = ['Precipitacao', 'LocalMax'])\n",
    "df_cluster_dia = df_cluster_dia.merge(df_prec_p, on = ['Data', 'Local'])\n",
    "df_cluster_dia = df_cluster_dia.merge(df_prec_o, on = ['Data', 'Local'])\n",
    "df_cluster_dia['Local'] = df_cluster_dia['Local'].replace({'Camilopolis': 1, 'Erasmo': 2, 'Paraiso': 3, 'RM': 4, 'Vitoria': 5})\n",
    "df_cluster_dia['Mes'] = df_cluster_dia['Data'].str[5:7].astype(int)\n",
    "df_cluster_dia"
   ]
  },
  {
   "cell_type": "code",
   "execution_count": 13,
   "metadata": {
    "tags": []
   },
   "outputs": [
    {
     "data": {
      "text/plain": [
       "1    10448\n",
       "0    10448\n",
       "Name: LocalMax, dtype: int64"
      ]
     },
     "metadata": {},
     "output_type": "display_data"
    },
    {
     "name": "stdout",
     "output_type": "stream",
     "text": [
      "Treino: 0.9100784839203675\n",
      "Teste: 0.9155266015200869\n",
      "Precisão: 0.0804953560371517\n",
      "Recall: 0.22033898305084745\n",
      "F1: 0.11791383219954647\n"
     ]
    },
    {
     "data": {
      "text/plain": [
       "array([[0.93380878, 0.06619122],\n",
       "       [0.77966102, 0.22033898]])"
      ]
     },
     "metadata": {},
     "output_type": "display_data"
    },
    {
     "data": {
      "text/plain": [
       "array([[4190,  297],\n",
       "       [  92,   26]], dtype=int64)"
      ]
     },
     "metadata": {},
     "output_type": "display_data"
    }
   ],
   "source": [
    "xgb = xgboost.XGBClassifier()\n",
    "\n",
    "cols_rem = ['LocalMax', 'Data']\n",
    "\n",
    "x = df_cluster_dia[[c for c in df_cluster_dia.columns if c not in cols_rem]]\n",
    "y = df_cluster_dia['LocalMax']\n",
    "\n",
    "x_treino, x_teste, y_treino, y_teste = train_test_split(x, y, test_size=0.3, random_state = 378)\n",
    "\n",
    "# concatenate our training data back together\n",
    "X = pd.concat([x_treino, y_treino], axis=1)\n",
    "\n",
    "# separate minority and majority classes\n",
    "not_ordem = X[X['LocalMax']==0].copy()\n",
    "ordem = X[X['LocalMax']==1].copy()\n",
    "\n",
    "# upsample minority\n",
    "ordem_upsampled = resample(ordem,\n",
    "                        replace=True, # sample with replacement\n",
    "                        n_samples=len(not_ordem), # match number in majority class\n",
    "                        random_state=378) # reproducible results\n",
    "\n",
    "# combine majority and upsampled minority\n",
    "upsampled = pd.concat([not_ordem, ordem_upsampled])\n",
    "\n",
    "x_treino = upsampled[[c for c in df_cluster_dia.columns if c not in cols_rem]]\n",
    "y_treino = upsampled['LocalMax']\n",
    "\n",
    "display(y_treino.value_counts())\n",
    "\n",
    "#xgb.fit(x_treino, y_treino, eval_set = [(x_treino, y_treino), (x_teste, y_teste)], eval_metric=f1_score)\n",
    "param = {'max_depth':10, 'eta':2, 'objective':'binary:logistic', 'min_child_weight': 1, 'lambda': 1, 'alpha': 0, 'gamma': 0}\n",
    "\n",
    "df_train = xgboost.DMatrix(data=x_treino, label=y_treino)\n",
    "\n",
    "bst = xgboost.train(param, df_train, 2, feval=f1_score)\n",
    "y_teste_pred = bst.predict(xgboost.DMatrix(data=x_teste, label=y_teste))\n",
    "y_teste_pred = [1 if i>0.5 else 0 for i in y_teste_pred]\n",
    "y_treino_pred = bst.predict(xgboost.DMatrix(data=x_treino, label=y_treino))\n",
    "y_treino_pred = [1 if i>0.5 else 0 for i in y_treino_pred]\n",
    "\n",
    "print(f\"Treino: {accuracy_score(y_treino, y_treino_pred)}\")\n",
    "print(f\"Teste: {accuracy_score(y_teste, y_teste_pred)}\")\n",
    "print(f\"Precisão: {precision_score(y_teste, y_teste_pred)}\")\n",
    "print(f\"Recall: {recall_score(y_teste, y_teste_pred)}\")\n",
    "print(f\"F1: {f1_score(y_teste, y_teste_pred)}\")\n",
    "display(confusion_matrix(y_teste, y_teste_pred, normalize='true'))\n",
    "display(confusion_matrix(y_teste, y_teste_pred,))"
   ]
  },
  {
   "cell_type": "markdown",
   "metadata": {},
   "source": [
    "# 2 - Classificar o dataset clusterizado por 15 mins"
   ]
  },
  {
   "cell_type": "code",
   "execution_count": 104,
   "metadata": {},
   "outputs": [],
   "source": [
    "df_label_d = pd.read_csv('../../../data/cleandata/Ordens de serviço/labels_day.csv', sep = ';')\n",
    "df_cluster_hora = df_cluster.merge(df_label_d[['Data', 'LocalMax']], on = 'Data', how = 'left').fillna(0)\n",
    "df_cluster_hora = df_cluster_hora.drop(columns=['LocalMax_Hora', 'LocalMax_Dia'])"
   ]
  },
  {
   "cell_type": "code",
   "execution_count": 105,
   "metadata": {},
   "outputs": [],
   "source": [
    "#df_cluster_hora = df_cluster.copy()\n",
    "#df_cluster_hora = df_cluster_hora.drop(columns=['LocalMax_Hora']).rename(columns = {'LocalMax_Dia': 'LocalMax'})\n",
    "df_cluster_hora = df_cluster_hora.sort_values(by=['Data_Hora', 'Local'])"
   ]
  },
  {
   "cell_type": "code",
   "execution_count": 106,
   "metadata": {},
   "outputs": [
    {
     "data": {
      "text/html": [
       "<div>\n",
       "<style scoped>\n",
       "    .dataframe tbody tr th:only-of-type {\n",
       "        vertical-align: middle;\n",
       "    }\n",
       "\n",
       "    .dataframe tbody tr th {\n",
       "        vertical-align: top;\n",
       "    }\n",
       "\n",
       "    .dataframe thead th {\n",
       "        text-align: right;\n",
       "    }\n",
       "</style>\n",
       "<table border=\"1\" class=\"dataframe\">\n",
       "  <thead>\n",
       "    <tr style=\"text-align: right;\">\n",
       "      <th></th>\n",
       "      <th>Data_Hora</th>\n",
       "      <th>Local</th>\n",
       "      <th>UmidadeRelativa</th>\n",
       "      <th>PressaoAtmosferica</th>\n",
       "      <th>TemperaturaDoAr</th>\n",
       "      <th>TemperaturaInterna</th>\n",
       "      <th>PontoDeOrvalho</th>\n",
       "      <th>RadiacaoSolar</th>\n",
       "      <th>DirecaoDoVento</th>\n",
       "      <th>VelocidadeDoVento</th>\n",
       "      <th>Precipitacao</th>\n",
       "      <th>Data</th>\n",
       "    </tr>\n",
       "    <tr>\n",
       "      <th>LocalMax</th>\n",
       "      <th></th>\n",
       "      <th></th>\n",
       "      <th></th>\n",
       "      <th></th>\n",
       "      <th></th>\n",
       "      <th></th>\n",
       "      <th></th>\n",
       "      <th></th>\n",
       "      <th></th>\n",
       "      <th></th>\n",
       "      <th></th>\n",
       "      <th></th>\n",
       "    </tr>\n",
       "  </thead>\n",
       "  <tbody>\n",
       "    <tr>\n",
       "      <th>0.0</th>\n",
       "      <td>1418705</td>\n",
       "      <td>1418705</td>\n",
       "      <td>1418705</td>\n",
       "      <td>1418705</td>\n",
       "      <td>1418705</td>\n",
       "      <td>1418705</td>\n",
       "      <td>1418705</td>\n",
       "      <td>1418705</td>\n",
       "      <td>1418705</td>\n",
       "      <td>1418705</td>\n",
       "      <td>1418705</td>\n",
       "      <td>1418705</td>\n",
       "    </tr>\n",
       "    <tr>\n",
       "      <th>1.0</th>\n",
       "      <td>44865</td>\n",
       "      <td>44865</td>\n",
       "      <td>44865</td>\n",
       "      <td>44865</td>\n",
       "      <td>44865</td>\n",
       "      <td>44865</td>\n",
       "      <td>44865</td>\n",
       "      <td>44865</td>\n",
       "      <td>44865</td>\n",
       "      <td>44865</td>\n",
       "      <td>44865</td>\n",
       "      <td>44865</td>\n",
       "    </tr>\n",
       "  </tbody>\n",
       "</table>\n",
       "</div>"
      ],
      "text/plain": [
       "          Data_Hora    Local  UmidadeRelativa  PressaoAtmosferica  \\\n",
       "LocalMax                                                            \n",
       "0.0         1418705  1418705          1418705             1418705   \n",
       "1.0           44865    44865            44865               44865   \n",
       "\n",
       "          TemperaturaDoAr  TemperaturaInterna  PontoDeOrvalho  RadiacaoSolar  \\\n",
       "LocalMax                                                                       \n",
       "0.0               1418705             1418705         1418705        1418705   \n",
       "1.0                 44865               44865           44865          44865   \n",
       "\n",
       "          DirecaoDoVento  VelocidadeDoVento  Precipitacao     Data  \n",
       "LocalMax                                                            \n",
       "0.0              1418705            1418705       1418705  1418705  \n",
       "1.0                44865              44865         44865    44865  "
      ]
     },
     "execution_count": 106,
     "metadata": {},
     "output_type": "execute_result"
    }
   ],
   "source": [
    "df_cluster_hora.groupby('LocalMax').count()"
   ]
  },
  {
   "cell_type": "markdown",
   "metadata": {},
   "source": [
    "Prec24h -> soma da precipitação nas últimas 24 horas"
   ]
  },
  {
   "cell_type": "code",
   "execution_count": 107,
   "metadata": {},
   "outputs": [],
   "source": [
    "# for i in range(24*4):\n",
    "#     df_cluster_hora['Prec_Shift_' + str(i)] = df_cluster_hora['Precipitacao'].shift(-5 * (i+1), fill_value=0)\n",
    "\n",
    "# df_cluster_hora['Prec24h'] = df_cluster_hora[[c for c in df_cluster_hora.columns if 'Prec_Shift' in c]].sum(axis=1)\n",
    "# df_cluster_hora = df_cluster_hora.drop(columns = [c for c in df_cluster_hora.columns if 'Prec_Shift' in c])\n",
    "# df_cluster_hora.head(10)"
   ]
  },
  {
   "cell_type": "markdown",
   "metadata": {},
   "source": [
    "PrecMomento -> soma da precipitação até aquele momento do dia"
   ]
  },
  {
   "cell_type": "code",
   "execution_count": 127,
   "metadata": {},
   "outputs": [
    {
     "name": "stdout",
     "output_type": "stream",
     "text": [
      "0:00:14.958399\n"
     ]
    }
   ],
   "source": [
    "init_time = datetime.now()\n",
    "def getPrecMomento(x):\n",
    "    return df_cluster_hora.loc[\n",
    "        (df_cluster_hora['Data'] == x['Data']) &\n",
    "        (df_cluster_hora['Data_Hora'] <= x['Data_Hora']) &\n",
    "        (df_cluster_hora['Local'] == x['Local']), 'Precipitacao'\n",
    "    ].sum()\n",
    "\n",
    "#df_cluster_hora['PrecMomento'] = df_cluster_hora.apply(getPrecMomento, axis=1)\n",
    "df_cluster_hora.head(100).apply(getPrecMomento, axis=1)\n",
    "print(datetime.now() - init_time)"
   ]
  },
  {
   "cell_type": "code",
   "execution_count": 128,
   "metadata": {},
   "outputs": [
    {
     "data": {
      "text/plain": [
       "(1463570, 13)"
      ]
     },
     "execution_count": 128,
     "metadata": {},
     "output_type": "execute_result"
    }
   ],
   "source": [
    "df_cluster_hora.shape"
   ]
  },
  {
   "cell_type": "markdown",
   "metadata": {},
   "source": [
    "PrecSum -> soma da precipitação no dia"
   ]
  },
  {
   "cell_type": "code",
   "execution_count": 92,
   "metadata": {},
   "outputs": [
    {
     "data": {
      "text/html": [
       "<div>\n",
       "<style scoped>\n",
       "    .dataframe tbody tr th:only-of-type {\n",
       "        vertical-align: middle;\n",
       "    }\n",
       "\n",
       "    .dataframe tbody tr th {\n",
       "        vertical-align: top;\n",
       "    }\n",
       "\n",
       "    .dataframe thead th {\n",
       "        text-align: right;\n",
       "    }\n",
       "</style>\n",
       "<table border=\"1\" class=\"dataframe\">\n",
       "  <thead>\n",
       "    <tr style=\"text-align: right;\">\n",
       "      <th></th>\n",
       "      <th>Data_Hora</th>\n",
       "      <th>Local</th>\n",
       "      <th>UmidadeRelativa</th>\n",
       "      <th>PressaoAtmosferica</th>\n",
       "      <th>TemperaturaDoAr</th>\n",
       "      <th>TemperaturaInterna</th>\n",
       "      <th>PontoDeOrvalho</th>\n",
       "      <th>RadiacaoSolar</th>\n",
       "      <th>DirecaoDoVento</th>\n",
       "      <th>VelocidadeDoVento</th>\n",
       "      <th>Precipitacao</th>\n",
       "      <th>Data</th>\n",
       "      <th>LocalMax</th>\n",
       "      <th>Prec24h</th>\n",
       "      <th>PrecSum</th>\n",
       "    </tr>\n",
       "  </thead>\n",
       "  <tbody>\n",
       "    <tr>\n",
       "      <th>0</th>\n",
       "      <td>2011-01-01 00:00:00</td>\n",
       "      <td>Camilopolis</td>\n",
       "      <td>84.8</td>\n",
       "      <td>920.6</td>\n",
       "      <td>20.2</td>\n",
       "      <td>22.800000</td>\n",
       "      <td>17.5</td>\n",
       "      <td>0.0</td>\n",
       "      <td>137.0</td>\n",
       "      <td>1.5</td>\n",
       "      <td>0.0</td>\n",
       "      <td>2011-01-01</td>\n",
       "      <td>0.0</td>\n",
       "      <td>0.8</td>\n",
       "      <td>0.6</td>\n",
       "    </tr>\n",
       "    <tr>\n",
       "      <th>1</th>\n",
       "      <td>2011-01-01 00:15:00</td>\n",
       "      <td>Camilopolis</td>\n",
       "      <td>84.1</td>\n",
       "      <td>920.3</td>\n",
       "      <td>20.1</td>\n",
       "      <td>22.800000</td>\n",
       "      <td>17.4</td>\n",
       "      <td>0.0</td>\n",
       "      <td>76.0</td>\n",
       "      <td>1.9</td>\n",
       "      <td>0.0</td>\n",
       "      <td>2011-01-01</td>\n",
       "      <td>0.0</td>\n",
       "      <td>0.8</td>\n",
       "      <td>0.6</td>\n",
       "    </tr>\n",
       "    <tr>\n",
       "      <th>2</th>\n",
       "      <td>2011-01-01 00:30:00</td>\n",
       "      <td>Camilopolis</td>\n",
       "      <td>83.9</td>\n",
       "      <td>920.2</td>\n",
       "      <td>20.1</td>\n",
       "      <td>22.900000</td>\n",
       "      <td>17.2</td>\n",
       "      <td>0.0</td>\n",
       "      <td>92.0</td>\n",
       "      <td>2.9</td>\n",
       "      <td>0.0</td>\n",
       "      <td>2011-01-01</td>\n",
       "      <td>0.0</td>\n",
       "      <td>0.8</td>\n",
       "      <td>0.6</td>\n",
       "    </tr>\n",
       "    <tr>\n",
       "      <th>3</th>\n",
       "      <td>2011-01-01 00:45:00</td>\n",
       "      <td>Camilopolis</td>\n",
       "      <td>83.5</td>\n",
       "      <td>919.9</td>\n",
       "      <td>20.2</td>\n",
       "      <td>22.900000</td>\n",
       "      <td>17.3</td>\n",
       "      <td>0.0</td>\n",
       "      <td>133.0</td>\n",
       "      <td>1.4</td>\n",
       "      <td>0.0</td>\n",
       "      <td>2011-01-01</td>\n",
       "      <td>0.0</td>\n",
       "      <td>0.8</td>\n",
       "      <td>0.6</td>\n",
       "    </tr>\n",
       "    <tr>\n",
       "      <th>4</th>\n",
       "      <td>2011-01-01 01:00:00</td>\n",
       "      <td>Camilopolis</td>\n",
       "      <td>84.0</td>\n",
       "      <td>919.9</td>\n",
       "      <td>20.1</td>\n",
       "      <td>22.800000</td>\n",
       "      <td>17.3</td>\n",
       "      <td>0.0</td>\n",
       "      <td>151.0</td>\n",
       "      <td>1.8</td>\n",
       "      <td>0.0</td>\n",
       "      <td>2011-01-01</td>\n",
       "      <td>0.0</td>\n",
       "      <td>0.8</td>\n",
       "      <td>0.6</td>\n",
       "    </tr>\n",
       "    <tr>\n",
       "      <th>5</th>\n",
       "      <td>2011-01-01 01:15:00</td>\n",
       "      <td>Camilopolis</td>\n",
       "      <td>84.5</td>\n",
       "      <td>919.5</td>\n",
       "      <td>20.0</td>\n",
       "      <td>23.143578</td>\n",
       "      <td>17.3</td>\n",
       "      <td>0.0</td>\n",
       "      <td>124.0</td>\n",
       "      <td>1.8</td>\n",
       "      <td>0.0</td>\n",
       "      <td>2011-01-01</td>\n",
       "      <td>0.0</td>\n",
       "      <td>0.8</td>\n",
       "      <td>0.6</td>\n",
       "    </tr>\n",
       "    <tr>\n",
       "      <th>6</th>\n",
       "      <td>2011-01-01 01:30:00</td>\n",
       "      <td>Camilopolis</td>\n",
       "      <td>84.6</td>\n",
       "      <td>919.4</td>\n",
       "      <td>20.0</td>\n",
       "      <td>23.083792</td>\n",
       "      <td>17.3</td>\n",
       "      <td>0.0</td>\n",
       "      <td>137.0</td>\n",
       "      <td>1.8</td>\n",
       "      <td>0.0</td>\n",
       "      <td>2011-01-01</td>\n",
       "      <td>0.0</td>\n",
       "      <td>0.8</td>\n",
       "      <td>0.6</td>\n",
       "    </tr>\n",
       "    <tr>\n",
       "      <th>7</th>\n",
       "      <td>2011-01-01 01:45:00</td>\n",
       "      <td>Camilopolis</td>\n",
       "      <td>84.5</td>\n",
       "      <td>919.4</td>\n",
       "      <td>20.0</td>\n",
       "      <td>23.005875</td>\n",
       "      <td>17.3</td>\n",
       "      <td>0.0</td>\n",
       "      <td>115.0</td>\n",
       "      <td>1.9</td>\n",
       "      <td>0.0</td>\n",
       "      <td>2011-01-01</td>\n",
       "      <td>0.0</td>\n",
       "      <td>1.0</td>\n",
       "      <td>0.6</td>\n",
       "    </tr>\n",
       "    <tr>\n",
       "      <th>8</th>\n",
       "      <td>2011-01-01 02:00:00</td>\n",
       "      <td>Camilopolis</td>\n",
       "      <td>85.8</td>\n",
       "      <td>919.2</td>\n",
       "      <td>19.8</td>\n",
       "      <td>22.935631</td>\n",
       "      <td>17.4</td>\n",
       "      <td>0.0</td>\n",
       "      <td>155.0</td>\n",
       "      <td>1.8</td>\n",
       "      <td>0.0</td>\n",
       "      <td>2011-01-01</td>\n",
       "      <td>0.0</td>\n",
       "      <td>1.2</td>\n",
       "      <td>0.6</td>\n",
       "    </tr>\n",
       "    <tr>\n",
       "      <th>9</th>\n",
       "      <td>2011-01-01 02:15:00</td>\n",
       "      <td>Camilopolis</td>\n",
       "      <td>86.5</td>\n",
       "      <td>919.0</td>\n",
       "      <td>19.7</td>\n",
       "      <td>22.786449</td>\n",
       "      <td>17.4</td>\n",
       "      <td>0.0</td>\n",
       "      <td>140.0</td>\n",
       "      <td>1.7</td>\n",
       "      <td>0.0</td>\n",
       "      <td>2011-01-01</td>\n",
       "      <td>0.0</td>\n",
       "      <td>1.6</td>\n",
       "      <td>0.6</td>\n",
       "    </tr>\n",
       "  </tbody>\n",
       "</table>\n",
       "</div>"
      ],
      "text/plain": [
       "            Data_Hora        Local  UmidadeRelativa  PressaoAtmosferica  \\\n",
       "0 2011-01-01 00:00:00  Camilopolis             84.8               920.6   \n",
       "1 2011-01-01 00:15:00  Camilopolis             84.1               920.3   \n",
       "2 2011-01-01 00:30:00  Camilopolis             83.9               920.2   \n",
       "3 2011-01-01 00:45:00  Camilopolis             83.5               919.9   \n",
       "4 2011-01-01 01:00:00  Camilopolis             84.0               919.9   \n",
       "5 2011-01-01 01:15:00  Camilopolis             84.5               919.5   \n",
       "6 2011-01-01 01:30:00  Camilopolis             84.6               919.4   \n",
       "7 2011-01-01 01:45:00  Camilopolis             84.5               919.4   \n",
       "8 2011-01-01 02:00:00  Camilopolis             85.8               919.2   \n",
       "9 2011-01-01 02:15:00  Camilopolis             86.5               919.0   \n",
       "\n",
       "   TemperaturaDoAr  TemperaturaInterna  PontoDeOrvalho  RadiacaoSolar  \\\n",
       "0             20.2           22.800000            17.5            0.0   \n",
       "1             20.1           22.800000            17.4            0.0   \n",
       "2             20.1           22.900000            17.2            0.0   \n",
       "3             20.2           22.900000            17.3            0.0   \n",
       "4             20.1           22.800000            17.3            0.0   \n",
       "5             20.0           23.143578            17.3            0.0   \n",
       "6             20.0           23.083792            17.3            0.0   \n",
       "7             20.0           23.005875            17.3            0.0   \n",
       "8             19.8           22.935631            17.4            0.0   \n",
       "9             19.7           22.786449            17.4            0.0   \n",
       "\n",
       "   DirecaoDoVento  VelocidadeDoVento  Precipitacao        Data  LocalMax  \\\n",
       "0           137.0                1.5           0.0  2011-01-01       0.0   \n",
       "1            76.0                1.9           0.0  2011-01-01       0.0   \n",
       "2            92.0                2.9           0.0  2011-01-01       0.0   \n",
       "3           133.0                1.4           0.0  2011-01-01       0.0   \n",
       "4           151.0                1.8           0.0  2011-01-01       0.0   \n",
       "5           124.0                1.8           0.0  2011-01-01       0.0   \n",
       "6           137.0                1.8           0.0  2011-01-01       0.0   \n",
       "7           115.0                1.9           0.0  2011-01-01       0.0   \n",
       "8           155.0                1.8           0.0  2011-01-01       0.0   \n",
       "9           140.0                1.7           0.0  2011-01-01       0.0   \n",
       "\n",
       "   Prec24h  PrecSum  \n",
       "0      0.8      0.6  \n",
       "1      0.8      0.6  \n",
       "2      0.8      0.6  \n",
       "3      0.8      0.6  \n",
       "4      0.8      0.6  \n",
       "5      0.8      0.6  \n",
       "6      0.8      0.6  \n",
       "7      1.0      0.6  \n",
       "8      1.2      0.6  \n",
       "9      1.6      0.6  "
      ]
     },
     "execution_count": 92,
     "metadata": {},
     "output_type": "execute_result"
    }
   ],
   "source": [
    "df_prec_sum = df_cluster_hora.groupby(['Data', 'Local']).sum().reset_index()[['Data', 'Local', 'Precipitacao']]\n",
    "df_prec_sum.columns = ['Data', 'Local', 'PrecSum']\n",
    "df_cluster_hora = df_cluster_hora.merge(df_prec_sum, on=['Data', 'Local'])\n",
    "df_cluster_hora.head(10)"
   ]
  },
  {
   "cell_type": "code",
   "execution_count": 29,
   "metadata": {},
   "outputs": [],
   "source": [
    "# df_clustered_total['Hora'] = pd.to_datetime(df_clustered_total['Data_Hora'], yearfirst=True).dt.hour\n",
    "\n",
    "# df_ohe = df_clustered_total.groupby(['Data', 'Local', 'Hora']).sum().reset_index()[['Data', 'Local', 'Hora', 'Precipitacao']]\n",
    "# s_ohe = df_ohe['Hora']\n",
    "# df_ohe = pd.get_dummies(df_ohe, columns = ['Hora'])\n",
    "# df_ohe['Hora'] = s_ohe\n",
    "\n",
    "# for i in range(24):\n",
    "#     df_ohe.loc[df_ohe['Hora_' + str(i)] == 1, 'Hora_' + str(i)] = df_ohe.loc[df_ohe['Hora_' + str(i)] == 1, 'Precipitacao']\n",
    "\n",
    "# df_clustered_total = df_clustered_total.merge(df_ohe[['Data', 'Local'] + [c for c in df_ohe.columns if 'Hora' in c]], on=['Data', 'Local', 'Hora'])"
   ]
  },
  {
   "cell_type": "code",
   "execution_count": 93,
   "metadata": {},
   "outputs": [],
   "source": [
    "df_cluster_hora_a = df_cluster_hora.copy()"
   ]
  },
  {
   "cell_type": "code",
   "execution_count": 94,
   "metadata": {},
   "outputs": [],
   "source": [
    "df_cluster_hora['Hora'] = df_cluster_hora['Data_Hora'].dt.hour\n",
    "df_cluster_hora['Mes'] = df_cluster_hora['Data_Hora'].dt.month\n",
    "df_cluster_hora['Local'] = df_cluster_hora['Local'].replace({'Camilopolis': 1, 'Erasmo': 2, 'Paraiso': 3, 'RM': 4, 'Vitoria': 5})\n",
    "\n",
    "\n",
    "# Filtrando hora no minuto 0\n",
    "df_hora = df_cluster_hora.groupby(['Data', 'Local', 'Hora']).sum().reset_index()[['Data', 'Local', 'Hora', 'Precipitacao']]\n",
    "# df_clustered_total = df_clustered_total.groupby(['Data', 'Local', 'Hora']).mean().reset_index()\n",
    "# s_prec = df_clustered_total.groupby(['Data', 'Local', 'Hora']).sum()[['Precipitacao']]\n",
    "# df_clustered_total['Precipitacao'] = s_prec\n",
    "\n",
    "df_cluster_hora['Minuto'] = df_cluster_hora['Data_Hora'].dt.minute\n",
    "df_cluster_hora = df_cluster_hora[df_cluster_hora['Minuto'] == 0]\n",
    "#df_cluster_hora = df_cluster_hora.drop(columns = ['Data_Hora', 'Minuto'])\n",
    "# df_clustered_total = df_clustered_total.drop(columns = ['Data_Hora', 'Minuto', 'Precipitacao'])\n",
    "# df_clustered_total = df_clustered_total.merge(df_hora, on=['Data', 'Local', 'Hora'])"
   ]
  },
  {
   "cell_type": "code",
   "execution_count": 95,
   "metadata": {},
   "outputs": [],
   "source": [
    "#df_slice = df_clustered_total[(df_clustered_total['Ordens'] == 1) | (df_clustered_total['Cluster'].isin([1,2]))]\n",
    "#df_slice = df_clustered_total[(df_clustered_total['Ordens'] == 1) | (df_clustered_total['PrecSum'] > 10)]\n",
    "df_slice = df_cluster_hora.copy()\n",
    "#df_slice = df_clustered_total[(df_clustered_total['Cluster'].isin([0]))]\n",
    "#df_slice.loc[df_slice['Cluster'] == 0, 'Ordens'] = 0\n",
    "\n",
    "df_slice.loc[(df_slice['LocalMax'] == 1) & (df_slice['PrecSum'] <= 10), 'LocalMax'] = 0\n",
    "\n",
    "#df_slice.loc[(df_slice['Ordens'] == 1) & ~((df_clustered_total[[c for c in df_clustered_total.columns if 'Hora_' in c]] <= 20).sum(axis = 1) < 24), 'Ordens'] = 0\n",
    "#df_slice = df_slice[df_slice['Local'] == 4]"
   ]
  },
  {
   "cell_type": "code",
   "execution_count": 96,
   "metadata": {},
   "outputs": [
    {
     "data": {
      "text/html": [
       "<div>\n",
       "<style scoped>\n",
       "    .dataframe tbody tr th:only-of-type {\n",
       "        vertical-align: middle;\n",
       "    }\n",
       "\n",
       "    .dataframe tbody tr th {\n",
       "        vertical-align: top;\n",
       "    }\n",
       "\n",
       "    .dataframe thead th {\n",
       "        text-align: right;\n",
       "    }\n",
       "</style>\n",
       "<table border=\"1\" class=\"dataframe\">\n",
       "  <thead>\n",
       "    <tr style=\"text-align: right;\">\n",
       "      <th></th>\n",
       "      <th>Data_Hora</th>\n",
       "      <th>Local</th>\n",
       "      <th>UmidadeRelativa</th>\n",
       "      <th>PressaoAtmosferica</th>\n",
       "      <th>TemperaturaDoAr</th>\n",
       "      <th>TemperaturaInterna</th>\n",
       "      <th>PontoDeOrvalho</th>\n",
       "      <th>RadiacaoSolar</th>\n",
       "      <th>DirecaoDoVento</th>\n",
       "      <th>VelocidadeDoVento</th>\n",
       "      <th>Precipitacao</th>\n",
       "      <th>Data</th>\n",
       "      <th>Prec24h</th>\n",
       "      <th>PrecSum</th>\n",
       "      <th>Hora</th>\n",
       "      <th>Mes</th>\n",
       "      <th>Minuto</th>\n",
       "    </tr>\n",
       "    <tr>\n",
       "      <th>LocalMax</th>\n",
       "      <th></th>\n",
       "      <th></th>\n",
       "      <th></th>\n",
       "      <th></th>\n",
       "      <th></th>\n",
       "      <th></th>\n",
       "      <th></th>\n",
       "      <th></th>\n",
       "      <th></th>\n",
       "      <th></th>\n",
       "      <th></th>\n",
       "      <th></th>\n",
       "      <th></th>\n",
       "      <th></th>\n",
       "      <th></th>\n",
       "      <th></th>\n",
       "      <th></th>\n",
       "    </tr>\n",
       "  </thead>\n",
       "  <tbody>\n",
       "    <tr>\n",
       "      <th>0.0</th>\n",
       "      <td>358978</td>\n",
       "      <td>358978</td>\n",
       "      <td>358978</td>\n",
       "      <td>358978</td>\n",
       "      <td>358978</td>\n",
       "      <td>358978</td>\n",
       "      <td>358978</td>\n",
       "      <td>358978</td>\n",
       "      <td>358978</td>\n",
       "      <td>358978</td>\n",
       "      <td>358978</td>\n",
       "      <td>358978</td>\n",
       "      <td>358978</td>\n",
       "      <td>358978</td>\n",
       "      <td>358978</td>\n",
       "      <td>358978</td>\n",
       "      <td>358978</td>\n",
       "    </tr>\n",
       "    <tr>\n",
       "      <th>1.0</th>\n",
       "      <td>6952</td>\n",
       "      <td>6952</td>\n",
       "      <td>6952</td>\n",
       "      <td>6952</td>\n",
       "      <td>6952</td>\n",
       "      <td>6952</td>\n",
       "      <td>6952</td>\n",
       "      <td>6952</td>\n",
       "      <td>6952</td>\n",
       "      <td>6952</td>\n",
       "      <td>6952</td>\n",
       "      <td>6952</td>\n",
       "      <td>6952</td>\n",
       "      <td>6952</td>\n",
       "      <td>6952</td>\n",
       "      <td>6952</td>\n",
       "      <td>6952</td>\n",
       "    </tr>\n",
       "  </tbody>\n",
       "</table>\n",
       "</div>"
      ],
      "text/plain": [
       "          Data_Hora   Local  UmidadeRelativa  PressaoAtmosferica  \\\n",
       "LocalMax                                                           \n",
       "0.0          358978  358978           358978              358978   \n",
       "1.0            6952    6952             6952                6952   \n",
       "\n",
       "          TemperaturaDoAr  TemperaturaInterna  PontoDeOrvalho  RadiacaoSolar  \\\n",
       "LocalMax                                                                       \n",
       "0.0                358978              358978          358978         358978   \n",
       "1.0                  6952                6952            6952           6952   \n",
       "\n",
       "          DirecaoDoVento  VelocidadeDoVento  Precipitacao    Data  Prec24h  \\\n",
       "LocalMax                                                                     \n",
       "0.0               358978             358978        358978  358978   358978   \n",
       "1.0                 6952               6952          6952    6952     6952   \n",
       "\n",
       "          PrecSum    Hora     Mes  Minuto  \n",
       "LocalMax                                   \n",
       "0.0        358978  358978  358978  358978  \n",
       "1.0          6952    6952    6952    6952  "
      ]
     },
     "execution_count": 96,
     "metadata": {},
     "output_type": "execute_result"
    }
   ],
   "source": [
    "df_slice.groupby('LocalMax').count()"
   ]
  },
  {
   "cell_type": "code",
   "execution_count": 97,
   "metadata": {},
   "outputs": [
    {
     "data": {
      "text/plain": [
       "(365930, 18)"
      ]
     },
     "execution_count": 97,
     "metadata": {},
     "output_type": "execute_result"
    }
   ],
   "source": [
    "df_slice.shape"
   ]
  },
  {
   "cell_type": "code",
   "execution_count": 84,
   "metadata": {
    "tags": []
   },
   "outputs": [
    {
     "name": "stdout",
     "output_type": "stream",
     "text": [
      "----- LOCAL 0 -----\n",
      "Index(['Local', 'UmidadeRelativa', 'PressaoAtmosferica', 'TemperaturaDoAr',\n",
      "       'TemperaturaInterna', 'PontoDeOrvalho', 'RadiacaoSolar',\n",
      "       'DirecaoDoVento', 'VelocidadeDoVento', 'Precipitacao', 'PrecSum',\n",
      "       'Mes'],\n",
      "      dtype='object')\n"
     ]
    },
    {
     "data": {
      "text/plain": [
       "1.0    251866\n",
       "0.0    251866\n",
       "Name: LocalMax, dtype: int64"
      ]
     },
     "metadata": {},
     "output_type": "display_data"
    },
    {
     "name": "stdout",
     "output_type": "stream",
     "text": [
      "Treino: 0.9954003319225302\n",
      "Teste: 0.9758697018555461\n",
      "Precisão: 0.36009648518263265\n",
      "Recall: 0.5688622754491018\n",
      "F1: 0.4410213125131885\n"
     ]
    },
    {
     "data": {
      "text/plain": [
       "array([[0.98279632, 0.01720368],\n",
       "       [0.43113772, 0.56886228]])"
      ]
     },
     "metadata": {},
     "output_type": "display_data"
    },
    {
     "data": {
      "text/plain": [
       "array([[106085,   1857],\n",
       "       [   792,   1045]], dtype=int64)"
      ]
     },
     "metadata": {},
     "output_type": "display_data"
    },
    {
     "name": "stdout",
     "output_type": "stream",
     "text": [
      "----- LOCAL 1 -----\n"
     ]
    },
    {
     "data": {
      "text/plain": [
       "1.0    50277\n",
       "0.0    50277\n",
       "Name: LocalMax, dtype: int64"
      ]
     },
     "metadata": {},
     "output_type": "display_data"
    },
    {
     "name": "stdout",
     "output_type": "stream",
     "text": [
      "Treino: 0.9961314318674543\n",
      "Teste: 0.9768628165421752\n",
      "Precisão: 0.41776315789473684\n",
      "Recall: 0.6225490196078431\n",
      "F1: 0.5\n"
     ]
    },
    {
     "data": {
      "text/plain": [
       "array([[0.98357156, 0.01642844],\n",
       "       [0.37745098, 0.62254902]])"
      ]
     },
     "metadata": {},
     "output_type": "display_data"
    },
    {
     "data": {
      "text/plain": [
       "array([[21194,   354],\n",
       "       [  154,   254]], dtype=int64)"
      ]
     },
     "metadata": {},
     "output_type": "display_data"
    },
    {
     "name": "stdout",
     "output_type": "stream",
     "text": [
      "----- LOCAL 2 -----\n"
     ]
    },
    {
     "data": {
      "text/plain": [
       "1.0    50419\n",
       "0.0    50419\n",
       "Name: LocalMax, dtype: int64"
      ]
     },
     "metadata": {},
     "output_type": "display_data"
    },
    {
     "name": "stdout",
     "output_type": "stream",
     "text": [
      "Treino: 0.9958944048870465\n",
      "Teste: 0.9803242849335033\n",
      "Precisão: 0.42015209125475284\n",
      "Recall: 0.6350574712643678\n",
      "F1: 0.5057208237986269\n"
     ]
    },
    {
     "data": {
      "text/plain": [
       "array([[0.98588486, 0.01411514],\n",
       "       [0.36494253, 0.63505747]])"
      ]
     },
     "metadata": {},
     "output_type": "display_data"
    },
    {
     "data": {
      "text/plain": [
       "array([[21303,   305],\n",
       "       [  127,   221]], dtype=int64)"
      ]
     },
     "metadata": {},
     "output_type": "display_data"
    },
    {
     "name": "stdout",
     "output_type": "stream",
     "text": [
      "----- LOCAL 3 -----\n"
     ]
    },
    {
     "data": {
      "text/plain": [
       "1.0    50389\n",
       "0.0    50389\n",
       "Name: LocalMax, dtype: int64"
      ]
     },
     "metadata": {},
     "output_type": "display_data"
    },
    {
     "name": "stdout",
     "output_type": "stream",
     "text": [
      "Treino: 0.9955942765286074\n",
      "Teste: 0.9778648205501913\n",
      "Precisão: 0.3827392120075047\n",
      "Recall: 0.5650969529085873\n",
      "F1: 0.45637583892617456\n"
     ]
    },
    {
     "data": {
      "text/plain": [
       "array([[0.98476499, 0.01523501],\n",
       "       [0.43490305, 0.56509695]])"
      ]
     },
     "metadata": {},
     "output_type": "display_data"
    },
    {
     "data": {
      "text/plain": [
       "array([[21266,   329],\n",
       "       [  157,   204]], dtype=int64)"
      ]
     },
     "metadata": {},
     "output_type": "display_data"
    },
    {
     "name": "stdout",
     "output_type": "stream",
     "text": [
      "----- LOCAL 4 -----\n"
     ]
    },
    {
     "data": {
      "text/plain": [
       "1.0    50303\n",
       "0.0    50303\n",
       "Name: LocalMax, dtype: int64"
      ]
     },
     "metadata": {},
     "output_type": "display_data"
    },
    {
     "name": "stdout",
     "output_type": "stream",
     "text": [
      "Treino: 0.9951295151382621\n",
      "Teste: 0.9729914374202951\n",
      "Precisão: 0.34782608695652173\n",
      "Recall: 0.5642317380352645\n",
      "F1: 0.4303554274735831\n"
     ]
    },
    {
     "data": {
      "text/plain": [
       "array([[0.98051858, 0.01948142],\n",
       "       [0.43576826, 0.56423174]])"
      ]
     },
     "metadata": {},
     "output_type": "display_data"
    },
    {
     "data": {
      "text/plain": [
       "array([[21139,   420],\n",
       "       [  173,   224]], dtype=int64)"
      ]
     },
     "metadata": {},
     "output_type": "display_data"
    },
    {
     "name": "stdout",
     "output_type": "stream",
     "text": [
      "----- LOCAL 5 -----\n"
     ]
    },
    {
     "data": {
      "text/plain": [
       "1.0    50477\n",
       "0.0    50477\n",
       "Name: LocalMax, dtype: int64"
      ]
     },
     "metadata": {},
     "output_type": "display_data"
    },
    {
     "name": "stdout",
     "output_type": "stream",
     "text": [
      "Treino: 0.9961368544089387\n",
      "Teste: 0.9800965567498634\n",
      "Precisão: 0.3903846153846154\n",
      "Recall: 0.628482972136223\n",
      "F1: 0.4816132858837485\n"
     ]
    },
    {
     "data": {
      "text/plain": [
       "array([[0.98534646, 0.01465354],\n",
       "       [0.37151703, 0.62848297]])"
      ]
     },
     "metadata": {},
     "output_type": "display_data"
    },
    {
     "data": {
      "text/plain": [
       "array([[21316,   317],\n",
       "       [  120,   203]], dtype=int64)"
      ]
     },
     "metadata": {},
     "output_type": "display_data"
    }
   ],
   "source": [
    "for l in range(6):\n",
    "    if l != 0:\n",
    "        df_train = df_slice[df_slice['Local'] == l]\n",
    "    else:\n",
    "        df_train = df_slice.copy()\n",
    "        \n",
    "    print(f'----- LOCAL {l} -----')\n",
    "\n",
    "    # Testar prever cluster\n",
    "\n",
    "    xgb = xgboost.XGBClassifier()\n",
    "\n",
    "    cols_rem = ['LocalMax', 'Cluster', 'Data', 'Hora', 'Data_Hora', 'Ordens', 'Minuto'] + [c for c in df_train.columns if 'Hora_' in c]\n",
    "    #cols_rem = cols_rem + ['DirecaoDoVento', 'VelocidadeDoVento']\n",
    "    #cols_rem = cols_rem + ['TemperaturaInterna', 'PontoDeOrvalho']\n",
    "\n",
    "    x = df_train[[c for c in df_train.columns if c not in cols_rem]]\n",
    "    if l == 0:\n",
    "        print(x.columns)\n",
    "    #x = x.drop(columns = 'Cluster')\n",
    "    y = df_train['LocalMax']\n",
    "\n",
    "    x_treino, x_teste, y_treino, y_teste = train_test_split(x, y, test_size=0.3, random_state = 378, stratify=y)\n",
    "\n",
    "    # concatenate our training data back together\n",
    "    X = pd.concat([x_treino, y_treino], axis=1)\n",
    "\n",
    "    # separate minority and majority classes\n",
    "    not_ordem = X[X['LocalMax']==0].copy()\n",
    "    ordem = X[X['LocalMax']==1].copy()\n",
    "\n",
    "    # upsample minority\n",
    "    ordem_upsampled = resample(ordem,\n",
    "                            replace=True, # sample with replacement\n",
    "                            n_samples=len(not_ordem), # match number in majority class\n",
    "                            random_state=378) # reproducible results\n",
    "\n",
    "    # combine majority and upsampled minority\n",
    "    upsampled = pd.concat([not_ordem, ordem_upsampled])\n",
    "\n",
    "    x_treino = upsampled[[c for c in df_slice.columns if c not in cols_rem]]\n",
    "    y_treino = upsampled['LocalMax']\n",
    "\n",
    "    display(y_treino.value_counts())\n",
    "\n",
    "    #xgb.fit(x_treino, y_treino, eval_set = [(x_treino, y_treino), (x_teste, y_teste)], eval_metric=f1_score)\n",
    "    param = {'max_depth':50, 'eta':1, 'objective':'binary:logistic', 'min_child_weight': 1, 'lambda': 1, 'alpha': 0, 'gamma': 0}\n",
    "\n",
    "    df_train = xgboost.DMatrix(data=x_treino, label=y_treino)\n",
    "    df_test = xgboost.DMatrix(data=x_teste, label=y_teste)\n",
    "\n",
    "    bst = xgboost.train(param, df_train, 2, feval=f1_score)\n",
    "    y_teste_pred = bst.predict(xgboost.DMatrix(data=x_teste, label=y_teste))\n",
    "    y_teste_pred = [1 if i>0.5 else 0 for i in y_teste_pred]\n",
    "    y_treino_pred = bst.predict(xgboost.DMatrix(data=x_treino, label=y_treino))\n",
    "    y_treino_pred = [1 if i>0.5 else 0 for i in y_treino_pred]\n",
    "\n",
    "    print(f\"Treino: {accuracy_score(y_treino, y_treino_pred)}\")\n",
    "    print(f\"Teste: {accuracy_score(y_teste, y_teste_pred)}\")\n",
    "    print(f\"Precisão: {precision_score(y_teste, y_teste_pred)}\")\n",
    "    print(f\"Recall: {recall_score(y_teste, y_teste_pred)}\")\n",
    "    print(f\"F1: {f1_score(y_teste, y_teste_pred)}\")\n",
    "    display(confusion_matrix(y_teste, y_teste_pred, normalize='true'))\n",
    "    display(confusion_matrix(y_teste, y_teste_pred,))"
   ]
  },
  {
   "cell_type": "code",
   "execution_count": 98,
   "metadata": {
    "scrolled": true
   },
   "outputs": [
    {
     "name": "stdout",
     "output_type": "stream",
     "text": [
      "----- LOCAL 0 -----\n",
      "Index(['Local', 'UmidadeRelativa', 'PressaoAtmosferica', 'TemperaturaDoAr',\n",
      "       'TemperaturaInterna', 'PontoDeOrvalho', 'RadiacaoSolar',\n",
      "       'DirecaoDoVento', 'VelocidadeDoVento', 'Precipitacao', 'Prec24h',\n",
      "       'Mes'],\n",
      "      dtype='object')\n"
     ]
    },
    {
     "data": {
      "text/plain": [
       "1.0    251285\n",
       "0.0    251285\n",
       "Name: LocalMax, dtype: int64"
      ]
     },
     "metadata": {},
     "output_type": "display_data"
    },
    {
     "name": "stdout",
     "output_type": "stream",
     "text": [
      "Treino: 0.994436595897089\n",
      "Teste: 0.9719345229962014\n",
      "Precisão: 0.35028588624736684\n",
      "Recall: 0.5580057526366251\n",
      "F1: 0.43039378813089296\n"
     ]
    },
    {
     "data": {
      "text/plain": [
       "array([[0.97995227, 0.02004773],\n",
       "       [0.44199425, 0.55800575]])"
      ]
     },
     "metadata": {},
     "output_type": "display_data"
    },
    {
     "data": {
      "text/plain": [
       "array([[105534,   2159],\n",
       "       [   922,   1164]], dtype=int64)"
      ]
     },
     "metadata": {},
     "output_type": "display_data"
    },
    {
     "name": "stdout",
     "output_type": "stream",
     "text": [
      "----- LOCAL 1 -----\n"
     ]
    },
    {
     "data": {
      "text/plain": [
       "1.0    50139\n",
       "0.0    50139\n",
       "Name: LocalMax, dtype: int64"
      ]
     },
     "metadata": {},
     "output_type": "display_data"
    },
    {
     "name": "stdout",
     "output_type": "stream",
     "text": [
      "Treino: 0.99489419414029\n",
      "Teste: 0.9706230643104391\n",
      "Precisão: 0.36795252225519287\n",
      "Recall: 0.5310492505353319\n",
      "F1: 0.4347063978965819\n"
     ]
    },
    {
     "data": {
      "text/plain": [
       "array([[0.9801759 , 0.0198241 ],\n",
       "       [0.46895075, 0.53104925]])"
      ]
     },
     "metadata": {},
     "output_type": "display_data"
    },
    {
     "data": {
      "text/plain": [
       "array([[21063,   426],\n",
       "       [  219,   248]], dtype=int64)"
      ]
     },
     "metadata": {},
     "output_type": "display_data"
    },
    {
     "name": "stdout",
     "output_type": "stream",
     "text": [
      "----- LOCAL 2 -----\n"
     ]
    },
    {
     "data": {
      "text/plain": [
       "1.0    50307\n",
       "0.0    50307\n",
       "Name: LocalMax, dtype: int64"
      ]
     },
     "metadata": {},
     "output_type": "display_data"
    },
    {
     "name": "stdout",
     "output_type": "stream",
     "text": [
      "Treino: 0.9948019162343212\n",
      "Teste: 0.971716159591911\n",
      "Precisão: 0.31942215088282505\n",
      "Recall: 0.5025252525252525\n",
      "F1: 0.3905789990186457\n"
     ]
    },
    {
     "data": {
      "text/plain": [
       "array([[0.98033395, 0.01966605],\n",
       "       [0.49747475, 0.50252525]])"
      ]
     },
     "metadata": {},
     "output_type": "display_data"
    },
    {
     "data": {
      "text/plain": [
       "array([[21136,   424],\n",
       "       [  197,   199]], dtype=int64)"
      ]
     },
     "metadata": {},
     "output_type": "display_data"
    },
    {
     "name": "stdout",
     "output_type": "stream",
     "text": [
      "----- LOCAL 3 -----\n"
     ]
    },
    {
     "data": {
      "text/plain": [
       "1.0    50291\n",
       "0.0    50291\n",
       "Name: LocalMax, dtype: int64"
      ]
     },
     "metadata": {},
     "output_type": "display_data"
    },
    {
     "name": "stdout",
     "output_type": "stream",
     "text": [
      "Treino: 0.995207890079736\n",
      "Teste: 0.970167607943159\n",
      "Precisão: 0.3173913043478261\n",
      "Recall: 0.543424317617866\n",
      "F1: 0.40073193046660566\n"
     ]
    },
    {
     "data": {
      "text/plain": [
       "array([[0.97814689, 0.02185311],\n",
       "       [0.45657568, 0.54342432]])"
      ]
     },
     "metadata": {},
     "output_type": "display_data"
    },
    {
     "data": {
      "text/plain": [
       "array([[21082,   471],\n",
       "       [  184,   219]], dtype=int64)"
      ]
     },
     "metadata": {},
     "output_type": "display_data"
    },
    {
     "name": "stdout",
     "output_type": "stream",
     "text": [
      "----- LOCAL 4 -----\n"
     ]
    },
    {
     "data": {
      "text/plain": [
       "1.0    50223\n",
       "0.0    50223\n",
       "Name: LocalMax, dtype: int64"
      ]
     },
     "metadata": {},
     "output_type": "display_data"
    },
    {
     "name": "stdout",
     "output_type": "stream",
     "text": [
      "Treino: 0.9948529558170559\n",
      "Teste: 0.970167607943159\n",
      "Precisão: 0.3187702265372168\n",
      "Recall: 0.45707656612529\n",
      "F1: 0.37559580552907534\n"
     ]
    },
    {
     "data": {
      "text/plain": [
       "array([[0.98044135, 0.01955865],\n",
       "       [0.54292343, 0.45707657]])"
      ]
     },
     "metadata": {},
     "output_type": "display_data"
    },
    {
     "data": {
      "text/plain": [
       "array([[21104,   421],\n",
       "       [  234,   197]], dtype=int64)"
      ]
     },
     "metadata": {},
     "output_type": "display_data"
    },
    {
     "name": "stdout",
     "output_type": "stream",
     "text": [
      "----- LOCAL 5 -----\n"
     ]
    },
    {
     "data": {
      "text/plain": [
       "1.0    50324\n",
       "0.0    50324\n",
       "Name: LocalMax, dtype: int64"
      ]
     },
     "metadata": {},
     "output_type": "display_data"
    },
    {
     "name": "stdout",
     "output_type": "stream",
     "text": [
      "Treino: 0.9955389078769573\n",
      "Teste: 0.9756786299872472\n",
      "Precisão: 0.37435008665511266\n",
      "Recall: 0.5552699228791774\n",
      "F1: 0.4472049689440994\n"
     ]
    },
    {
     "data": {
      "text/plain": [
       "array([[0.98326146, 0.01673854],\n",
       "       [0.44473008, 0.55526992]])"
      ]
     },
     "metadata": {},
     "output_type": "display_data"
    },
    {
     "data": {
      "text/plain": [
       "array([[21206,   361],\n",
       "       [  173,   216]], dtype=int64)"
      ]
     },
     "metadata": {},
     "output_type": "display_data"
    },
    {
     "name": "stdout",
     "output_type": "stream",
     "text": [
      "----- LOCAL 0 -----\n",
      "Index(['Local', 'UmidadeRelativa', 'PressaoAtmosferica', 'TemperaturaDoAr',\n",
      "       'TemperaturaInterna', 'PontoDeOrvalho', 'RadiacaoSolar', 'Precipitacao',\n",
      "       'Prec24h', 'Mes'],\n",
      "      dtype='object')\n"
     ]
    },
    {
     "data": {
      "text/plain": [
       "1.0    251285\n",
       "0.0    251285\n",
       "Name: LocalMax, dtype: int64"
      ]
     },
     "metadata": {},
     "output_type": "display_data"
    },
    {
     "name": "stdout",
     "output_type": "stream",
     "text": [
      "Treino: 0.9946833276956444\n",
      "Teste: 0.9740296413703896\n",
      "Precisão: 0.3815422731495819\n",
      "Recall: 0.5906040268456376\n",
      "F1: 0.4635936030103481\n"
     ]
    },
    {
     "data": {
      "text/plain": [
       "array([[0.98145655, 0.01854345],\n",
       "       [0.40939597, 0.59060403]])"
      ]
     },
     "metadata": {},
     "output_type": "display_data"
    },
    {
     "data": {
      "text/plain": [
       "array([[105696,   1997],\n",
       "       [   854,   1232]], dtype=int64)"
      ]
     },
     "metadata": {},
     "output_type": "display_data"
    },
    {
     "name": "stdout",
     "output_type": "stream",
     "text": [
      "----- LOCAL 1 -----\n"
     ]
    },
    {
     "data": {
      "text/plain": [
       "1.0    50139\n",
       "0.0    50139\n",
       "Name: LocalMax, dtype: int64"
      ]
     },
     "metadata": {},
     "output_type": "display_data"
    },
    {
     "name": "stdout",
     "output_type": "stream",
     "text": [
      "Treino: 0.994265940684896\n",
      "Teste: 0.9709418837675351\n",
      "Precisão: 0.37733142037302725\n",
      "Recall: 0.563169164882227\n",
      "F1: 0.4518900343642612\n"
     ]
    },
    {
     "data": {
      "text/plain": [
       "array([[0.97980362, 0.02019638],\n",
       "       [0.43683084, 0.56316916]])"
      ]
     },
     "metadata": {},
     "output_type": "display_data"
    },
    {
     "data": {
      "text/plain": [
       "array([[21055,   434],\n",
       "       [  204,   263]], dtype=int64)"
      ]
     },
     "metadata": {},
     "output_type": "display_data"
    },
    {
     "name": "stdout",
     "output_type": "stream",
     "text": [
      "----- LOCAL 2 -----\n"
     ]
    },
    {
     "data": {
      "text/plain": [
       "1.0    50307\n",
       "0.0    50307\n",
       "Name: LocalMax, dtype: int64"
      ]
     },
     "metadata": {},
     "output_type": "display_data"
    },
    {
     "name": "stdout",
     "output_type": "stream",
     "text": [
      "Treino: 0.9952591090703083\n",
      "Teste: 0.9750865367097832\n",
      "Precisão: 0.37225042301184436\n",
      "Recall: 0.5555555555555556\n",
      "F1: 0.4457953394123607\n"
     ]
    },
    {
     "data": {
      "text/plain": [
       "array([[0.98279221, 0.01720779],\n",
       "       [0.44444444, 0.55555556]])"
      ]
     },
     "metadata": {},
     "output_type": "display_data"
    },
    {
     "data": {
      "text/plain": [
       "array([[21189,   371],\n",
       "       [  176,   220]], dtype=int64)"
      ]
     },
     "metadata": {},
     "output_type": "display_data"
    },
    {
     "name": "stdout",
     "output_type": "stream",
     "text": [
      "----- LOCAL 3 -----\n"
     ]
    },
    {
     "data": {
      "text/plain": [
       "1.0    50291\n",
       "0.0    50291\n",
       "Name: LocalMax, dtype: int64"
      ]
     },
     "metadata": {},
     "output_type": "display_data"
    },
    {
     "name": "stdout",
     "output_type": "stream",
     "text": [
      "Treino: 0.9952973693106122\n",
      "Teste: 0.9742667152486791\n",
      "Precisão: 0.3722397476340694\n",
      "Recall: 0.5856079404466501\n",
      "F1: 0.45515911282545807\n"
     ]
    },
    {
     "data": {
      "text/plain": [
       "array([[0.98153389, 0.01846611],\n",
       "       [0.41439206, 0.58560794]])"
      ]
     },
     "metadata": {},
     "output_type": "display_data"
    },
    {
     "data": {
      "text/plain": [
       "array([[21155,   398],\n",
       "       [  167,   236]], dtype=int64)"
      ]
     },
     "metadata": {},
     "output_type": "display_data"
    },
    {
     "name": "stdout",
     "output_type": "stream",
     "text": [
      "----- LOCAL 4 -----\n"
     ]
    },
    {
     "data": {
      "text/plain": [
       "1.0    50223\n",
       "0.0    50223\n",
       "Name: LocalMax, dtype: int64"
      ]
     },
     "metadata": {},
     "output_type": "display_data"
    },
    {
     "name": "stdout",
     "output_type": "stream",
     "text": [
      "Treino: 0.9948828226111542\n",
      "Teste: 0.9724448897795591\n",
      "Precisão: 0.36363636363636365\n",
      "Recall: 0.5382830626450116\n",
      "F1: 0.4340505144995323\n"
     ]
    },
    {
     "data": {
      "text/plain": [
       "array([[0.98113821, 0.01886179],\n",
       "       [0.46171694, 0.53828306]])"
      ]
     },
     "metadata": {},
     "output_type": "display_data"
    },
    {
     "data": {
      "text/plain": [
       "array([[21119,   406],\n",
       "       [  199,   232]], dtype=int64)"
      ]
     },
     "metadata": {},
     "output_type": "display_data"
    },
    {
     "name": "stdout",
     "output_type": "stream",
     "text": [
      "----- LOCAL 5 -----\n"
     ]
    },
    {
     "data": {
      "text/plain": [
       "1.0    50324\n",
       "0.0    50324\n",
       "Name: LocalMax, dtype: int64"
      ]
     },
     "metadata": {},
     "output_type": "display_data"
    },
    {
     "name": "stdout",
     "output_type": "stream",
     "text": [
      "Treino: 0.9954892297909547\n",
      "Teste: 0.9750409910730552\n",
      "Precisão: 0.3681592039800995\n",
      "Recall: 0.570694087403599\n",
      "F1: 0.44758064516129026\n"
     ]
    },
    {
     "data": {
      "text/plain": [
       "array([[0.98233412, 0.01766588],\n",
       "       [0.42930591, 0.57069409]])"
      ]
     },
     "metadata": {},
     "output_type": "display_data"
    },
    {
     "data": {
      "text/plain": [
       "array([[21186,   381],\n",
       "       [  167,   222]], dtype=int64)"
      ]
     },
     "metadata": {},
     "output_type": "display_data"
    },
    {
     "name": "stdout",
     "output_type": "stream",
     "text": [
      "----- LOCAL 0 -----\n",
      "Index(['Local', 'UmidadeRelativa', 'PressaoAtmosferica', 'TemperaturaDoAr',\n",
      "       'PontoDeOrvalho', 'RadiacaoSolar', 'Precipitacao', 'Prec24h', 'Mes'],\n",
      "      dtype='object')\n"
     ]
    },
    {
     "data": {
      "text/plain": [
       "1.0    251285\n",
       "0.0    251285\n",
       "Name: LocalMax, dtype: int64"
      ]
     },
     "metadata": {},
     "output_type": "display_data"
    },
    {
     "name": "stdout",
     "output_type": "stream",
     "text": [
      "Treino: 0.9943828720377261\n",
      "Teste: 0.9733919966478106\n",
      "Precisão: 0.3714197720973206\n",
      "Recall: 0.5781399808245445\n",
      "F1: 0.45227826739171195\n"
     ]
    },
    {
     "data": {
      "text/plain": [
       "array([[0.98104798, 0.01895202],\n",
       "       [0.42186002, 0.57813998]])"
      ]
     },
     "metadata": {},
     "output_type": "display_data"
    },
    {
     "data": {
      "text/plain": [
       "array([[105652,   2041],\n",
       "       [   880,   1206]], dtype=int64)"
      ]
     },
     "metadata": {},
     "output_type": "display_data"
    },
    {
     "name": "stdout",
     "output_type": "stream",
     "text": [
      "----- LOCAL 1 -----\n"
     ]
    },
    {
     "data": {
      "text/plain": [
       "1.0    50139\n",
       "0.0    50139\n",
       "Name: LocalMax, dtype: int64"
      ]
     },
     "metadata": {},
     "output_type": "display_data"
    },
    {
     "name": "stdout",
     "output_type": "stream",
     "text": [
      "Treino: 0.9945252198887093\n",
      "Teste: 0.971397340134815\n",
      "Precisão: 0.3810930576070901\n",
      "Recall: 0.5524625267665952\n",
      "F1: 0.451048951048951\n"
     ]
    },
    {
     "data": {
      "text/plain": [
       "array([[0.98050165, 0.01949835],\n",
       "       [0.44753747, 0.55246253]])"
      ]
     },
     "metadata": {},
     "output_type": "display_data"
    },
    {
     "data": {
      "text/plain": [
       "array([[21070,   419],\n",
       "       [  209,   258]], dtype=int64)"
      ]
     },
     "metadata": {},
     "output_type": "display_data"
    },
    {
     "name": "stdout",
     "output_type": "stream",
     "text": [
      "----- LOCAL 2 -----\n"
     ]
    },
    {
     "data": {
      "text/plain": [
       "1.0    50307\n",
       "0.0    50307\n",
       "Name: LocalMax, dtype: int64"
      ]
     },
     "metadata": {},
     "output_type": "display_data"
    },
    {
     "name": "stdout",
     "output_type": "stream",
     "text": [
      "Treino: 0.9947025264873676\n",
      "Teste: 0.9747221716159592\n",
      "Precisão: 0.3728\n",
      "Recall: 0.5883838383838383\n",
      "F1: 0.45641527913809987\n"
     ]
    },
    {
     "data": {
      "text/plain": [
       "array([[0.98181818, 0.01818182],\n",
       "       [0.41161616, 0.58838384]])"
      ]
     },
     "metadata": {},
     "output_type": "display_data"
    },
    {
     "data": {
      "text/plain": [
       "array([[21168,   392],\n",
       "       [  163,   233]], dtype=int64)"
      ]
     },
     "metadata": {},
     "output_type": "display_data"
    },
    {
     "name": "stdout",
     "output_type": "stream",
     "text": [
      "----- LOCAL 3 -----\n"
     ]
    },
    {
     "data": {
      "text/plain": [
       "1.0    50291\n",
       "0.0    50291\n",
       "Name: LocalMax, dtype: int64"
      ]
     },
     "metadata": {},
     "output_type": "display_data"
    },
    {
     "name": "stdout",
     "output_type": "stream",
     "text": [
      "Treino: 0.9954465013620727\n",
      "Teste: 0.9743578065221352\n",
      "Precisão: 0.37577639751552794\n",
      "Recall: 0.6004962779156328\n",
      "F1: 0.46227316141356256\n"
     ]
    },
    {
     "data": {
      "text/plain": [
       "array([[0.9813483 , 0.0186517 ],\n",
       "       [0.39950372, 0.60049628]])"
      ]
     },
     "metadata": {},
     "output_type": "display_data"
    },
    {
     "data": {
      "text/plain": [
       "array([[21151,   402],\n",
       "       [  161,   242]], dtype=int64)"
      ]
     },
     "metadata": {},
     "output_type": "display_data"
    },
    {
     "name": "stdout",
     "output_type": "stream",
     "text": [
      "----- LOCAL 4 -----\n"
     ]
    },
    {
     "data": {
      "text/plain": [
       "1.0    50223\n",
       "0.0    50223\n",
       "Name: LocalMax, dtype: int64"
      ]
     },
     "metadata": {},
     "output_type": "display_data"
    },
    {
     "name": "stdout",
     "output_type": "stream",
     "text": [
      "Treino: 0.995510025287219\n",
      "Teste: 0.9735379850610312\n",
      "Precisão: 0.37664473684210525\n",
      "Recall: 0.531322505800464\n",
      "F1: 0.44080846968238685\n"
     ]
    },
    {
     "data": {
      "text/plain": [
       "array([[0.98239257, 0.01760743],\n",
       "       [0.46867749, 0.53132251]])"
      ]
     },
     "metadata": {},
     "output_type": "display_data"
    },
    {
     "data": {
      "text/plain": [
       "array([[21146,   379],\n",
       "       [  202,   229]], dtype=int64)"
      ]
     },
     "metadata": {},
     "output_type": "display_data"
    },
    {
     "name": "stdout",
     "output_type": "stream",
     "text": [
      "----- LOCAL 5 -----\n"
     ]
    },
    {
     "data": {
      "text/plain": [
       "1.0    50324\n",
       "0.0    50324\n",
       "Name: LocalMax, dtype: int64"
      ]
     },
     "metadata": {},
     "output_type": "display_data"
    },
    {
     "name": "stdout",
     "output_type": "stream",
     "text": [
      "Treino: 0.99522096812654\n",
      "Teste: 0.9751320823465112\n",
      "Precisão: 0.3748006379585327\n",
      "Recall: 0.6041131105398457\n",
      "F1: 0.4625984251968504\n"
     ]
    },
    {
     "data": {
      "text/plain": [
       "array([[0.98182408, 0.01817592],\n",
       "       [0.39588689, 0.60411311]])"
      ]
     },
     "metadata": {},
     "output_type": "display_data"
    },
    {
     "data": {
      "text/plain": [
       "array([[21175,   392],\n",
       "       [  154,   235]], dtype=int64)"
      ]
     },
     "metadata": {},
     "output_type": "display_data"
    },
    {
     "name": "stdout",
     "output_type": "stream",
     "text": [
      "----- LOCAL 0 -----\n",
      "Index(['Local', 'UmidadeRelativa', 'PressaoAtmosferica', 'TemperaturaDoAr',\n",
      "       'RadiacaoSolar', 'Precipitacao', 'Prec24h', 'Mes'],\n",
      "      dtype='object')\n"
     ]
    },
    {
     "data": {
      "text/plain": [
       "1.0    251285\n",
       "0.0    251285\n",
       "Name: LocalMax, dtype: int64"
      ]
     },
     "metadata": {},
     "output_type": "display_data"
    },
    {
     "name": "stdout",
     "output_type": "stream",
     "text": [
      "Treino: 0.9942794038641384\n",
      "Teste: 0.9734375426994234\n",
      "Precisão: 0.3770734597156398\n",
      "Recall: 0.6102588686481304\n",
      "F1: 0.4661296228487733\n"
     ]
    },
    {
     "data": {
      "text/plain": [
       "array([[0.98047227, 0.01952773],\n",
       "       [0.38974113, 0.61025887]])"
      ]
     },
     "metadata": {},
     "output_type": "display_data"
    },
    {
     "data": {
      "text/plain": [
       "array([[105590,   2103],\n",
       "       [   813,   1273]], dtype=int64)"
      ]
     },
     "metadata": {},
     "output_type": "display_data"
    },
    {
     "name": "stdout",
     "output_type": "stream",
     "text": [
      "----- LOCAL 1 -----\n"
     ]
    },
    {
     "data": {
      "text/plain": [
       "1.0    50139\n",
       "0.0    50139\n",
       "Name: LocalMax, dtype: int64"
      ]
     },
     "metadata": {},
     "output_type": "display_data"
    },
    {
     "name": "stdout",
     "output_type": "stream",
     "text": [
      "Treino: 0.9941163565288498\n",
      "Teste: 0.969529969028967\n",
      "Precisão: 0.3557142857142857\n",
      "Recall: 0.5331905781584583\n",
      "F1: 0.4267352185089975\n"
     ]
    },
    {
     "data": {
      "text/plain": [
       "array([[0.97901252, 0.02098748],\n",
       "       [0.46680942, 0.53319058]])"
      ]
     },
     "metadata": {},
     "output_type": "display_data"
    },
    {
     "data": {
      "text/plain": [
       "array([[21038,   451],\n",
       "       [  218,   249]], dtype=int64)"
      ]
     },
     "metadata": {},
     "output_type": "display_data"
    },
    {
     "name": "stdout",
     "output_type": "stream",
     "text": [
      "----- LOCAL 2 -----\n"
     ]
    },
    {
     "data": {
      "text/plain": [
       "1.0    50307\n",
       "0.0    50307\n",
       "Name: LocalMax, dtype: int64"
      ]
     },
     "metadata": {},
     "output_type": "display_data"
    },
    {
     "name": "stdout",
     "output_type": "stream",
     "text": [
      "Treino: 0.9955672172858648\n",
      "Teste: 0.9764529058116233\n",
      "Precisão: 0.3929203539823009\n",
      "Recall: 0.5606060606060606\n",
      "F1: 0.4620187304890739\n"
     ]
    },
    {
     "data": {
      "text/plain": [
       "array([[0.98409091, 0.01590909],\n",
       "       [0.43939394, 0.56060606]])"
      ]
     },
     "metadata": {},
     "output_type": "display_data"
    },
    {
     "data": {
      "text/plain": [
       "array([[21217,   343],\n",
       "       [  174,   222]], dtype=int64)"
      ]
     },
     "metadata": {},
     "output_type": "display_data"
    },
    {
     "name": "stdout",
     "output_type": "stream",
     "text": [
      "----- LOCAL 3 -----\n"
     ]
    },
    {
     "data": {
      "text/plain": [
       "1.0    50291\n",
       "0.0    50291\n",
       "Name: LocalMax, dtype: int64"
      ]
     },
     "metadata": {},
     "output_type": "display_data"
    },
    {
     "name": "stdout",
     "output_type": "stream",
     "text": [
      "Treino: 0.995237716490028\n",
      "Teste: 0.9753142648934232\n",
      "Precisão: 0.3877221324717286\n",
      "Recall: 0.5955334987593052\n",
      "F1: 0.46966731898238745\n"
     ]
    },
    {
     "data": {
      "text/plain": [
       "array([[0.98241544, 0.01758456],\n",
       "       [0.4044665 , 0.5955335 ]])"
      ]
     },
     "metadata": {},
     "output_type": "display_data"
    },
    {
     "data": {
      "text/plain": [
       "array([[21174,   379],\n",
       "       [  163,   240]], dtype=int64)"
      ]
     },
     "metadata": {},
     "output_type": "display_data"
    },
    {
     "name": "stdout",
     "output_type": "stream",
     "text": [
      "----- LOCAL 4 -----\n"
     ]
    },
    {
     "data": {
      "text/plain": [
       "1.0    50223\n",
       "0.0    50223\n",
       "Name: LocalMax, dtype: int64"
      ]
     },
     "metadata": {},
     "output_type": "display_data"
    },
    {
     "name": "stdout",
     "output_type": "stream",
     "text": [
      "Treino: 0.9950421121796786\n",
      "Teste: 0.9736746219712151\n",
      "Precisão: 0.38639876352395675\n",
      "Recall: 0.580046403712297\n",
      "F1: 0.463821892393321\n"
     ]
    },
    {
     "data": {
      "text/plain": [
       "array([[0.98155633, 0.01844367],\n",
       "       [0.4199536 , 0.5800464 ]])"
      ]
     },
     "metadata": {},
     "output_type": "display_data"
    },
    {
     "data": {
      "text/plain": [
       "array([[21128,   397],\n",
       "       [  181,   250]], dtype=int64)"
      ]
     },
     "metadata": {},
     "output_type": "display_data"
    },
    {
     "name": "stdout",
     "output_type": "stream",
     "text": [
      "----- LOCAL 5 -----\n"
     ]
    },
    {
     "data": {
      "text/plain": [
       "1.0    50324\n",
       "0.0    50324\n",
       "Name: LocalMax, dtype: int64"
      ]
     },
     "metadata": {},
     "output_type": "display_data"
    },
    {
     "name": "stdout",
     "output_type": "stream",
     "text": [
      "Treino: 0.9949527064621254\n",
      "Teste: 0.9743122608854072\n",
      "Precisão: 0.3655913978494624\n",
      "Recall: 0.6118251928020566\n",
      "F1: 0.45769230769230773\n"
     ]
    },
    {
     "data": {
      "text/plain": [
       "array([[0.98085037, 0.01914963],\n",
       "       [0.38817481, 0.61182519]])"
      ]
     },
     "metadata": {},
     "output_type": "display_data"
    },
    {
     "data": {
      "text/plain": [
       "array([[21154,   413],\n",
       "       [  151,   238]], dtype=int64)"
      ]
     },
     "metadata": {},
     "output_type": "display_data"
    },
    {
     "name": "stdout",
     "output_type": "stream",
     "text": [
      "----- LOCAL 0 -----\n",
      "Index(['Local', 'PressaoAtmosferica', 'TemperaturaDoAr', 'RadiacaoSolar',\n",
      "       'Precipitacao', 'Prec24h', 'Mes'],\n",
      "      dtype='object')\n"
     ]
    },
    {
     "data": {
      "text/plain": [
       "1.0    251285\n",
       "0.0    251285\n",
       "Name: LocalMax, dtype: int64"
      ]
     },
     "metadata": {},
     "output_type": "display_data"
    },
    {
     "name": "stdout",
     "output_type": "stream",
     "text": [
      "Treino: 0.993561095966731\n",
      "Teste: 0.9726177137703933\n",
      "Precisão: 0.36990950226244346\n",
      "Recall: 0.6270373921380633\n",
      "F1: 0.46531483457844186\n"
     ]
    },
    {
     "data": {
      "text/plain": [
       "array([[0.97931156, 0.02068844],\n",
       "       [0.37296261, 0.62703739]])"
      ]
     },
     "metadata": {},
     "output_type": "display_data"
    },
    {
     "data": {
      "text/plain": [
       "array([[105465,   2228],\n",
       "       [   778,   1308]], dtype=int64)"
      ]
     },
     "metadata": {},
     "output_type": "display_data"
    },
    {
     "name": "stdout",
     "output_type": "stream",
     "text": [
      "----- LOCAL 1 -----\n"
     ]
    },
    {
     "data": {
      "text/plain": [
       "1.0    50139\n",
       "0.0    50139\n",
       "Name: LocalMax, dtype: int64"
      ]
     },
     "metadata": {},
     "output_type": "display_data"
    },
    {
     "name": "stdout",
     "output_type": "stream",
     "text": [
      "Treino: 0.9939568000957338\n",
      "Teste: 0.9710329750409911\n",
      "Precisão: 0.3791130185979971\n",
      "Recall: 0.5674518201284796\n",
      "F1: 0.45454545454545453\n"
     ]
    },
    {
     "data": {
      "text/plain": [
       "array([[0.97980362, 0.02019638],\n",
       "       [0.43254818, 0.56745182]])"
      ]
     },
     "metadata": {},
     "output_type": "display_data"
    },
    {
     "data": {
      "text/plain": [
       "array([[21055,   434],\n",
       "       [  202,   265]], dtype=int64)"
      ]
     },
     "metadata": {},
     "output_type": "display_data"
    },
    {
     "name": "stdout",
     "output_type": "stream",
     "text": [
      "----- LOCAL 2 -----\n"
     ]
    },
    {
     "data": {
      "text/plain": [
       "1.0    50307\n",
       "0.0    50307\n",
       "Name: LocalMax, dtype: int64"
      ]
     },
     "metadata": {},
     "output_type": "display_data"
    },
    {
     "name": "stdout",
     "output_type": "stream",
     "text": [
      "Treino: 0.9943745403224203\n",
      "Teste: 0.9755419930770632\n",
      "Precisão: 0.3872\n",
      "Recall: 0.6111111111111112\n",
      "F1: 0.4740450538687561\n"
     ]
    },
    {
     "data": {
      "text/plain": [
       "array([[0.98223562, 0.01776438],\n",
       "       [0.38888889, 0.61111111]])"
      ]
     },
     "metadata": {},
     "output_type": "display_data"
    },
    {
     "data": {
      "text/plain": [
       "array([[21177,   383],\n",
       "       [  154,   242]], dtype=int64)"
      ]
     },
     "metadata": {},
     "output_type": "display_data"
    },
    {
     "name": "stdout",
     "output_type": "stream",
     "text": [
      "----- LOCAL 3 -----\n"
     ]
    },
    {
     "data": {
      "text/plain": [
       "1.0    50291\n",
       "0.0    50291\n",
       "Name: LocalMax, dtype: int64"
      ]
     },
     "metadata": {},
     "output_type": "display_data"
    },
    {
     "name": "stdout",
     "output_type": "stream",
     "text": [
      "Treino: 0.9948002624724106\n",
      "Teste: 0.9719894334122791\n",
      "Precisão: 0.34411764705882353\n",
      "Recall: 0.5806451612903226\n",
      "F1: 0.4321329639889197\n"
     ]
    },
    {
     "data": {
      "text/plain": [
       "array([[0.97930683, 0.02069317],\n",
       "       [0.41935484, 0.58064516]])"
      ]
     },
     "metadata": {},
     "output_type": "display_data"
    },
    {
     "data": {
      "text/plain": [
       "array([[21107,   446],\n",
       "       [  169,   234]], dtype=int64)"
      ]
     },
     "metadata": {},
     "output_type": "display_data"
    },
    {
     "name": "stdout",
     "output_type": "stream",
     "text": [
      "----- LOCAL 4 -----\n"
     ]
    },
    {
     "data": {
      "text/plain": [
       "1.0    50223\n",
       "0.0    50223\n",
       "Name: LocalMax, dtype: int64"
      ]
     },
     "metadata": {},
     "output_type": "display_data"
    },
    {
     "name": "stdout",
     "output_type": "stream",
     "text": [
      "Treino: 0.9943551759154172\n",
      "Teste: 0.9706230643104391\n",
      "Precisão: 0.3492957746478873\n",
      "Recall: 0.5754060324825986\n",
      "F1: 0.4347063978965819\n"
     ]
    },
    {
     "data": {
      "text/plain": [
       "array([[0.97853659, 0.02146341],\n",
       "       [0.42459397, 0.57540603]])"
      ]
     },
     "metadata": {},
     "output_type": "display_data"
    },
    {
     "data": {
      "text/plain": [
       "array([[21063,   462],\n",
       "       [  183,   248]], dtype=int64)"
      ]
     },
     "metadata": {},
     "output_type": "display_data"
    },
    {
     "name": "stdout",
     "output_type": "stream",
     "text": [
      "----- LOCAL 5 -----\n"
     ]
    },
    {
     "data": {
      "text/plain": [
       "1.0    50324\n",
       "0.0    50324\n",
       "Name: LocalMax, dtype: int64"
      ]
     },
     "metadata": {},
     "output_type": "display_data"
    },
    {
     "name": "stdout",
     "output_type": "stream",
     "text": [
      "Treino: 0.9948036722041174\n",
      "Teste: 0.9747677172526872\n",
      "Precisão: 0.3667205169628433\n",
      "Recall: 0.583547557840617\n",
      "F1: 0.4503968253968254\n"
     ]
    },
    {
     "data": {
      "text/plain": [
       "array([[0.98182408, 0.01817592],\n",
       "       [0.41645244, 0.58354756]])"
      ]
     },
     "metadata": {},
     "output_type": "display_data"
    },
    {
     "data": {
      "text/plain": [
       "array([[21175,   392],\n",
       "       [  162,   227]], dtype=int64)"
      ]
     },
     "metadata": {},
     "output_type": "display_data"
    },
    {
     "name": "stdout",
     "output_type": "stream",
     "text": [
      "----- LOCAL 0 -----\n",
      "Index(['Local', 'TemperaturaDoAr', 'RadiacaoSolar', 'Precipitacao', 'Prec24h',\n",
      "       'Mes'],\n",
      "      dtype='object')\n"
     ]
    },
    {
     "data": {
      "text/plain": [
       "1.0    251285\n",
       "0.0    251285\n",
       "Name: LocalMax, dtype: int64"
      ]
     },
     "metadata": {},
     "output_type": "display_data"
    },
    {
     "name": "stdout",
     "output_type": "stream",
     "text": [
      "Treino: 0.9911574507033846\n",
      "Teste: 0.9693839441058855\n",
      "Precisão: 0.3353989155693261\n",
      "Recall: 0.6227229146692234\n",
      "F1: 0.43597919113945294\n"
     ]
    },
    {
     "data": {
      "text/plain": [
       "array([[0.97609873, 0.02390127],\n",
       "       [0.37727709, 0.62272291]])"
      ]
     },
     "metadata": {},
     "output_type": "display_data"
    },
    {
     "data": {
      "text/plain": [
       "array([[105119,   2574],\n",
       "       [   787,   1299]], dtype=int64)"
      ]
     },
     "metadata": {},
     "output_type": "display_data"
    },
    {
     "name": "stdout",
     "output_type": "stream",
     "text": [
      "----- LOCAL 1 -----\n"
     ]
    },
    {
     "data": {
      "text/plain": [
       "1.0    50139\n",
       "0.0    50139\n",
       "Name: LocalMax, dtype: int64"
      ]
     },
     "metadata": {},
     "output_type": "display_data"
    },
    {
     "name": "stdout",
     "output_type": "stream",
     "text": [
      "Treino: 0.9903268912423463\n",
      "Teste: 0.9633813080706868\n",
      "Precisão: 0.3033838973162194\n",
      "Recall: 0.556745182012848\n",
      "F1: 0.39274924471299094\n"
     ]
    },
    {
     "data": {
      "text/plain": [
       "array([[0.97221834, 0.02778166],\n",
       "       [0.44325482, 0.55674518]])"
      ]
     },
     "metadata": {},
     "output_type": "display_data"
    },
    {
     "data": {
      "text/plain": [
       "array([[20892,   597],\n",
       "       [  207,   260]], dtype=int64)"
      ]
     },
     "metadata": {},
     "output_type": "display_data"
    },
    {
     "name": "stdout",
     "output_type": "stream",
     "text": [
      "----- LOCAL 2 -----\n"
     ]
    },
    {
     "data": {
      "text/plain": [
       "1.0    50307\n",
       "0.0    50307\n",
       "Name: LocalMax, dtype: int64"
      ]
     },
     "metadata": {},
     "output_type": "display_data"
    },
    {
     "name": "stdout",
     "output_type": "stream",
     "text": [
      "Treino: 0.9912636412427694\n",
      "Teste: 0.971716159591911\n",
      "Precisão: 0.33766233766233766\n",
      "Recall: 0.5909090909090909\n",
      "F1: 0.4297520661157025\n"
     ]
    },
    {
     "data": {
      "text/plain": [
       "array([[0.97871058, 0.02128942],\n",
       "       [0.40909091, 0.59090909]])"
      ]
     },
     "metadata": {},
     "output_type": "display_data"
    },
    {
     "data": {
      "text/plain": [
       "array([[21101,   459],\n",
       "       [  162,   234]], dtype=int64)"
      ]
     },
     "metadata": {},
     "output_type": "display_data"
    },
    {
     "name": "stdout",
     "output_type": "stream",
     "text": [
      "----- LOCAL 3 -----\n"
     ]
    },
    {
     "data": {
      "text/plain": [
       "1.0    50291\n",
       "0.0    50291\n",
       "Name: LocalMax, dtype: int64"
      ]
     },
     "metadata": {},
     "output_type": "display_data"
    },
    {
     "name": "stdout",
     "output_type": "stream",
     "text": [
      "Treino: 0.9920661748623014\n",
      "Teste: 0.9694388777555111\n",
      "Precisão: 0.31842818428184283\n",
      "Recall: 0.5831265508684863\n",
      "F1: 0.4119193689745837\n"
     ]
    },
    {
     "data": {
      "text/plain": [
       "array([[0.97666218, 0.02333782],\n",
       "       [0.41687345, 0.58312655]])"
      ]
     },
     "metadata": {},
     "output_type": "display_data"
    },
    {
     "data": {
      "text/plain": [
       "array([[21050,   503],\n",
       "       [  168,   235]], dtype=int64)"
      ]
     },
     "metadata": {},
     "output_type": "display_data"
    },
    {
     "name": "stdout",
     "output_type": "stream",
     "text": [
      "----- LOCAL 4 -----\n"
     ]
    },
    {
     "data": {
      "text/plain": [
       "1.0    50223\n",
       "0.0    50223\n",
       "Name: LocalMax, dtype: int64"
      ]
     },
     "metadata": {},
     "output_type": "display_data"
    },
    {
     "name": "stdout",
     "output_type": "stream",
     "text": [
      "Treino: 0.9918463652111582\n",
      "Teste: 0.9698032428493351\n",
      "Precisão: 0.3428184281842818\n",
      "Recall: 0.5870069605568445\n",
      "F1: 0.4328485885372113\n"
     ]
    },
    {
     "data": {
      "text/plain": [
       "array([[0.97746806, 0.02253194],\n",
       "       [0.41299304, 0.58700696]])"
      ]
     },
     "metadata": {},
     "output_type": "display_data"
    },
    {
     "data": {
      "text/plain": [
       "array([[21040,   485],\n",
       "       [  178,   253]], dtype=int64)"
      ]
     },
     "metadata": {},
     "output_type": "display_data"
    },
    {
     "name": "stdout",
     "output_type": "stream",
     "text": [
      "----- LOCAL 5 -----\n"
     ]
    },
    {
     "data": {
      "text/plain": [
       "1.0    50324\n",
       "0.0    50324\n",
       "Name: LocalMax, dtype: int64"
      ]
     },
     "metadata": {},
     "output_type": "display_data"
    },
    {
     "name": "stdout",
     "output_type": "stream",
     "text": [
      "Treino: 0.9922700898179795\n",
      "Teste: 0.967844780470031\n",
      "Precisão: 0.2928104575163399\n",
      "Recall: 0.5758354755784062\n",
      "F1: 0.38821490467937614\n"
     ]
    },
    {
     "data": {
      "text/plain": [
       "array([[0.97491538, 0.02508462],\n",
       "       [0.42416452, 0.57583548]])"
      ]
     },
     "metadata": {},
     "output_type": "display_data"
    },
    {
     "data": {
      "text/plain": [
       "array([[21026,   541],\n",
       "       [  165,   224]], dtype=int64)"
      ]
     },
     "metadata": {},
     "output_type": "display_data"
    },
    {
     "name": "stdout",
     "output_type": "stream",
     "text": [
      "----- LOCAL 0 -----\n",
      "Index(['Local', 'TemperaturaDoAr', 'Precipitacao', 'Prec24h', 'Mes'], dtype='object')\n"
     ]
    },
    {
     "data": {
      "text/plain": [
       "1.0    251285\n",
       "0.0    251285\n",
       "Name: LocalMax, dtype: int64"
      ]
     },
     "metadata": {},
     "output_type": "display_data"
    },
    {
     "name": "stdout",
     "output_type": "stream",
     "text": [
      "Treino: 0.9883319736554111\n",
      "Teste: 0.9643556600078339\n",
      "Precisão: 0.29668373024705097\n",
      "Recall: 0.6390220517737296\n",
      "F1: 0.40522875816993464\n"
     ]
    },
    {
     "data": {
      "text/plain": [
       "array([[0.97065733, 0.02934267],\n",
       "       [0.36097795, 0.63902205]])"
      ]
     },
     "metadata": {},
     "output_type": "display_data"
    },
    {
     "data": {
      "text/plain": [
       "array([[104533,   3160],\n",
       "       [   753,   1333]], dtype=int64)"
      ]
     },
     "metadata": {},
     "output_type": "display_data"
    },
    {
     "name": "stdout",
     "output_type": "stream",
     "text": [
      "----- LOCAL 1 -----\n"
     ]
    },
    {
     "data": {
      "text/plain": [
       "1.0    50139\n",
       "0.0    50139\n",
       "Name: LocalMax, dtype: int64"
      ]
     },
     "metadata": {},
     "output_type": "display_data"
    },
    {
     "name": "stdout",
     "output_type": "stream",
     "text": [
      "Treino: 0.9874349308921199\n",
      "Teste: 0.9604208416833667\n",
      "Precisão: 0.2977867203219316\n",
      "Recall: 0.6338329764453962\n",
      "F1: 0.405201916495551\n"
     ]
    },
    {
     "data": {
      "text/plain": [
       "array([[0.96751827, 0.03248173],\n",
       "       [0.36616702, 0.63383298]])"
      ]
     },
     "metadata": {},
     "output_type": "display_data"
    },
    {
     "data": {
      "text/plain": [
       "array([[20791,   698],\n",
       "       [  171,   296]], dtype=int64)"
      ]
     },
     "metadata": {},
     "output_type": "display_data"
    },
    {
     "name": "stdout",
     "output_type": "stream",
     "text": [
      "----- LOCAL 2 -----\n"
     ]
    },
    {
     "data": {
      "text/plain": [
       "1.0    50307\n",
       "0.0    50307\n",
       "Name: LocalMax, dtype: int64"
      ]
     },
     "metadata": {},
     "output_type": "display_data"
    },
    {
     "name": "stdout",
     "output_type": "stream",
     "text": [
      "Treino: 0.9908660822549545\n",
      "Teste: 0.9700309710329751\n",
      "Precisão: 0.3239247311827957\n",
      "Recall: 0.6085858585858586\n",
      "F1: 0.42280701754385963\n"
     ]
    },
    {
     "data": {
      "text/plain": [
       "array([[0.97666976, 0.02333024],\n",
       "       [0.39141414, 0.60858586]])"
      ]
     },
     "metadata": {},
     "output_type": "display_data"
    },
    {
     "data": {
      "text/plain": [
       "array([[21057,   503],\n",
       "       [  155,   241]], dtype=int64)"
      ]
     },
     "metadata": {},
     "output_type": "display_data"
    },
    {
     "name": "stdout",
     "output_type": "stream",
     "text": [
      "----- LOCAL 3 -----\n"
     ]
    },
    {
     "data": {
      "text/plain": [
       "1.0    50291\n",
       "0.0    50291\n",
       "Name: LocalMax, dtype: int64"
      ]
     },
     "metadata": {},
     "output_type": "display_data"
    },
    {
     "name": "stdout",
     "output_type": "stream",
     "text": [
      "Treino: 0.9884571792169573\n",
      "Teste: 0.9633813080706868\n",
      "Precisão: 0.2759776536312849\n",
      "Recall: 0.6129032258064516\n",
      "F1: 0.38058551617873654\n"
     ]
    },
    {
     "data": {
      "text/plain": [
       "array([[0.96993458, 0.03006542],\n",
       "       [0.38709677, 0.61290323]])"
      ]
     },
     "metadata": {},
     "output_type": "display_data"
    },
    {
     "data": {
      "text/plain": [
       "array([[20905,   648],\n",
       "       [  156,   247]], dtype=int64)"
      ]
     },
     "metadata": {},
     "output_type": "display_data"
    },
    {
     "name": "stdout",
     "output_type": "stream",
     "text": [
      "----- LOCAL 4 -----\n"
     ]
    },
    {
     "data": {
      "text/plain": [
       "1.0    50223\n",
       "0.0    50223\n",
       "Name: LocalMax, dtype: int64"
      ]
     },
     "metadata": {},
     "output_type": "display_data"
    },
    {
     "name": "stdout",
     "output_type": "stream",
     "text": [
      "Treino: 0.9891782649383748\n",
      "Teste: 0.9650664966296228\n",
      "Precisão: 0.3023529411764706\n",
      "Recall: 0.5962877030162413\n",
      "F1: 0.4012490241998439\n"
     ]
    },
    {
     "data": {
      "text/plain": [
       "array([[0.97245064, 0.02754936],\n",
       "       [0.4037123 , 0.5962877 ]])"
      ]
     },
     "metadata": {},
     "output_type": "display_data"
    },
    {
     "data": {
      "text/plain": [
       "array([[20932,   593],\n",
       "       [  174,   257]], dtype=int64)"
      ]
     },
     "metadata": {},
     "output_type": "display_data"
    },
    {
     "name": "stdout",
     "output_type": "stream",
     "text": [
      "----- LOCAL 5 -----\n"
     ]
    },
    {
     "data": {
      "text/plain": [
       "1.0    50324\n",
       "0.0    50324\n",
       "Name: LocalMax, dtype: int64"
      ]
     },
     "metadata": {},
     "output_type": "display_data"
    },
    {
     "name": "stdout",
     "output_type": "stream",
     "text": [
      "Treino: 0.9909188458787059\n",
      "Teste: 0.9653853160867188\n",
      "Precisão: 0.2701363073110285\n",
      "Recall: 0.5604113110539846\n",
      "F1: 0.36454849498327757\n"
     ]
    },
    {
     "data": {
      "text/plain": [
       "array([[0.97268976, 0.02731024],\n",
       "       [0.43958869, 0.56041131]])"
      ]
     },
     "metadata": {},
     "output_type": "display_data"
    },
    {
     "data": {
      "text/plain": [
       "array([[20978,   589],\n",
       "       [  171,   218]], dtype=int64)"
      ]
     },
     "metadata": {},
     "output_type": "display_data"
    },
    {
     "name": "stdout",
     "output_type": "stream",
     "text": [
      "----- LOCAL 0 -----\n",
      "Index(['Local', 'Precipitacao', 'Prec24h', 'Mes'], dtype='object')\n"
     ]
    },
    {
     "data": {
      "text/plain": [
       "1.0    251285\n",
       "0.0    251285\n",
       "Name: LocalMax, dtype: int64"
      ]
     },
     "metadata": {},
     "output_type": "display_data"
    },
    {
     "name": "stdout",
     "output_type": "stream",
     "text": [
      "Treino: 0.9562807171140338\n",
      "Teste: 0.953042020787218\n",
      "Precisão: 0.23836317135549873\n",
      "Recall: 0.6701821668264621\n",
      "F1: 0.3516538800150925\n"
     ]
    },
    {
     "data": {
      "text/plain": [
       "array([[0.95852098, 0.04147902],\n",
       "       [0.32981783, 0.67018217]])"
      ]
     },
     "metadata": {},
     "output_type": "display_data"
    },
    {
     "data": {
      "text/plain": [
       "array([[103226,   4467],\n",
       "       [   688,   1398]], dtype=int64)"
      ]
     },
     "metadata": {},
     "output_type": "display_data"
    },
    {
     "name": "stdout",
     "output_type": "stream",
     "text": [
      "----- LOCAL 1 -----\n"
     ]
    },
    {
     "data": {
      "text/plain": [
       "1.0    50139\n",
       "0.0    50139\n",
       "Name: LocalMax, dtype: int64"
      ]
     },
     "metadata": {},
     "output_type": "display_data"
    },
    {
     "name": "stdout",
     "output_type": "stream",
     "text": [
      "Treino: 0.9546560561638645\n",
      "Teste: 0.9436145017307342\n",
      "Precisão: 0.21840759678597516\n",
      "Recall: 0.6402569593147751\n",
      "F1: 0.32570806100217864\n"
     ]
    },
    {
     "data": {
      "text/plain": [
       "array([[0.95020708, 0.04979292],\n",
       "       [0.35974304, 0.64025696]])"
      ]
     },
     "metadata": {},
     "output_type": "display_data"
    },
    {
     "data": {
      "text/plain": [
       "array([[20419,  1070],\n",
       "       [  168,   299]], dtype=int64)"
      ]
     },
     "metadata": {},
     "output_type": "display_data"
    },
    {
     "name": "stdout",
     "output_type": "stream",
     "text": [
      "----- LOCAL 2 -----\n"
     ]
    },
    {
     "data": {
      "text/plain": [
       "1.0    50307\n",
       "0.0    50307\n",
       "Name: LocalMax, dtype: int64"
      ]
     },
     "metadata": {},
     "output_type": "display_data"
    },
    {
     "name": "stdout",
     "output_type": "stream",
     "text": [
      "Treino: 0.96659510604886\n",
      "Teste: 0.9565950081982146\n",
      "Precisão: 0.24284395198522624\n",
      "Recall: 0.6641414141414141\n",
      "F1: 0.35564570655848543\n"
     ]
    },
    {
     "data": {
      "text/plain": [
       "array([[0.9619666 , 0.0380334 ],\n",
       "       [0.33585859, 0.66414141]])"
      ]
     },
     "metadata": {},
     "output_type": "display_data"
    },
    {
     "data": {
      "text/plain": [
       "array([[20740,   820],\n",
       "       [  133,   263]], dtype=int64)"
      ]
     },
     "metadata": {},
     "output_type": "display_data"
    },
    {
     "name": "stdout",
     "output_type": "stream",
     "text": [
      "----- LOCAL 3 -----\n"
     ]
    },
    {
     "data": {
      "text/plain": [
       "1.0    50291\n",
       "0.0    50291\n",
       "Name: LocalMax, dtype: int64"
      ]
     },
     "metadata": {},
     "output_type": "display_data"
    },
    {
     "name": "stdout",
     "output_type": "stream",
     "text": [
      "Treino: 0.953172535841403\n",
      "Teste: 0.9511750774275824\n",
      "Precisão: 0.21914357682619648\n",
      "Recall: 0.6476426799007444\n",
      "F1: 0.32747804265997493\n"
     ]
    },
    {
     "data": {
      "text/plain": [
       "array([[0.95685055, 0.04314945],\n",
       "       [0.35235732, 0.64764268]])"
      ]
     },
     "metadata": {},
     "output_type": "display_data"
    },
    {
     "data": {
      "text/plain": [
       "array([[20623,   930],\n",
       "       [  142,   261]], dtype=int64)"
      ]
     },
     "metadata": {},
     "output_type": "display_data"
    },
    {
     "name": "stdout",
     "output_type": "stream",
     "text": [
      "----- LOCAL 4 -----\n"
     ]
    },
    {
     "data": {
      "text/plain": [
       "1.0    50223\n",
       "0.0    50223\n",
       "Name: LocalMax, dtype: int64"
      ]
     },
     "metadata": {},
     "output_type": "display_data"
    },
    {
     "name": "stdout",
     "output_type": "stream",
     "text": [
      "Treino: 0.9628058857495569\n",
      "Teste: 0.9542721807250866\n",
      "Precisão: 0.23930846223839855\n",
      "Recall: 0.6102088167053364\n",
      "F1: 0.3437908496732026\n"
     ]
    },
    {
     "data": {
      "text/plain": [
       "array([[0.96116144, 0.03883856],\n",
       "       [0.38979118, 0.61020882]])"
      ]
     },
     "metadata": {},
     "output_type": "display_data"
    },
    {
     "data": {
      "text/plain": [
       "array([[20689,   836],\n",
       "       [  168,   263]], dtype=int64)"
      ]
     },
     "metadata": {},
     "output_type": "display_data"
    },
    {
     "name": "stdout",
     "output_type": "stream",
     "text": [
      "----- LOCAL 5 -----\n"
     ]
    },
    {
     "data": {
      "text/plain": [
       "1.0    50324\n",
       "0.0    50324\n",
       "Name: LocalMax, dtype: int64"
      ]
     },
     "metadata": {},
     "output_type": "display_data"
    },
    {
     "name": "stdout",
     "output_type": "stream",
     "text": [
      "Treino: 0.951156505842143\n",
      "Teste: 0.9525414465294225\n",
      "Precisão: 0.2163336229365769\n",
      "Recall: 0.6401028277634961\n",
      "F1: 0.32337662337662343\n"
     ]
    },
    {
     "data": {
      "text/plain": [
       "array([[0.95817684, 0.04182316],\n",
       "       [0.35989717, 0.64010283]])"
      ]
     },
     "metadata": {},
     "output_type": "display_data"
    },
    {
     "data": {
      "text/plain": [
       "array([[20665,   902],\n",
       "       [  140,   249]], dtype=int64)"
      ]
     },
     "metadata": {},
     "output_type": "display_data"
    },
    {
     "name": "stdout",
     "output_type": "stream",
     "text": [
      "----- LOCAL 0 -----\n",
      "Index(['Precipitacao', 'Prec24h', 'Mes'], dtype='object')\n"
     ]
    },
    {
     "data": {
      "text/plain": [
       "1.0    251285\n",
       "0.0    251285\n",
       "Name: LocalMax, dtype: int64"
      ]
     },
     "metadata": {},
     "output_type": "display_data"
    },
    {
     "name": "stdout",
     "output_type": "stream",
     "text": [
      "Treino: 0.9379489424358796\n",
      "Teste: 0.9400249592362838\n",
      "Precisão: 0.1884178442781934\n",
      "Recall: 0.6519654841802492\n",
      "F1: 0.292347377472055\n"
     ]
    },
    {
     "data": {
      "text/plain": [
       "array([[0.94560464, 0.05439536],\n",
       "       [0.34803452, 0.65196548]])"
      ]
     },
     "metadata": {},
     "output_type": "display_data"
    },
    {
     "data": {
      "text/plain": [
       "array([[101835,   5858],\n",
       "       [   726,   1360]], dtype=int64)"
      ]
     },
     "metadata": {},
     "output_type": "display_data"
    },
    {
     "name": "stdout",
     "output_type": "stream",
     "text": [
      "----- LOCAL 1 -----\n"
     ]
    },
    {
     "data": {
      "text/plain": [
       "1.0    50139\n",
       "0.0    50139\n",
       "Name: LocalMax, dtype: int64"
      ]
     },
     "metadata": {},
     "output_type": "display_data"
    },
    {
     "name": "stdout",
     "output_type": "stream",
     "text": [
      "Treino: 0.9546560561638645\n",
      "Teste: 0.9436145017307342\n",
      "Precisão: 0.21840759678597516\n",
      "Recall: 0.6402569593147751\n",
      "F1: 0.32570806100217864\n"
     ]
    },
    {
     "data": {
      "text/plain": [
       "array([[0.95020708, 0.04979292],\n",
       "       [0.35974304, 0.64025696]])"
      ]
     },
     "metadata": {},
     "output_type": "display_data"
    },
    {
     "data": {
      "text/plain": [
       "array([[20419,  1070],\n",
       "       [  168,   299]], dtype=int64)"
      ]
     },
     "metadata": {},
     "output_type": "display_data"
    },
    {
     "name": "stdout",
     "output_type": "stream",
     "text": [
      "----- LOCAL 2 -----\n"
     ]
    },
    {
     "data": {
      "text/plain": [
       "1.0    50307\n",
       "0.0    50307\n",
       "Name: LocalMax, dtype: int64"
      ]
     },
     "metadata": {},
     "output_type": "display_data"
    },
    {
     "name": "stdout",
     "output_type": "stream",
     "text": [
      "Treino: 0.96659510604886\n",
      "Teste: 0.9565950081982146\n",
      "Precisão: 0.24284395198522624\n",
      "Recall: 0.6641414141414141\n",
      "F1: 0.35564570655848543\n"
     ]
    },
    {
     "data": {
      "text/plain": [
       "array([[0.9619666 , 0.0380334 ],\n",
       "       [0.33585859, 0.66414141]])"
      ]
     },
     "metadata": {},
     "output_type": "display_data"
    },
    {
     "data": {
      "text/plain": [
       "array([[20740,   820],\n",
       "       [  133,   263]], dtype=int64)"
      ]
     },
     "metadata": {},
     "output_type": "display_data"
    },
    {
     "name": "stdout",
     "output_type": "stream",
     "text": [
      "----- LOCAL 3 -----\n"
     ]
    },
    {
     "data": {
      "text/plain": [
       "1.0    50291\n",
       "0.0    50291\n",
       "Name: LocalMax, dtype: int64"
      ]
     },
     "metadata": {},
     "output_type": "display_data"
    },
    {
     "name": "stdout",
     "output_type": "stream",
     "text": [
      "Treino: 0.953172535841403\n",
      "Teste: 0.9511750774275824\n",
      "Precisão: 0.21914357682619648\n",
      "Recall: 0.6476426799007444\n",
      "F1: 0.32747804265997493\n"
     ]
    },
    {
     "data": {
      "text/plain": [
       "array([[0.95685055, 0.04314945],\n",
       "       [0.35235732, 0.64764268]])"
      ]
     },
     "metadata": {},
     "output_type": "display_data"
    },
    {
     "data": {
      "text/plain": [
       "array([[20623,   930],\n",
       "       [  142,   261]], dtype=int64)"
      ]
     },
     "metadata": {},
     "output_type": "display_data"
    },
    {
     "name": "stdout",
     "output_type": "stream",
     "text": [
      "----- LOCAL 4 -----\n"
     ]
    },
    {
     "data": {
      "text/plain": [
       "1.0    50223\n",
       "0.0    50223\n",
       "Name: LocalMax, dtype: int64"
      ]
     },
     "metadata": {},
     "output_type": "display_data"
    },
    {
     "name": "stdout",
     "output_type": "stream",
     "text": [
      "Treino: 0.9628058857495569\n",
      "Teste: 0.9542721807250866\n",
      "Precisão: 0.23930846223839855\n",
      "Recall: 0.6102088167053364\n",
      "F1: 0.3437908496732026\n"
     ]
    },
    {
     "data": {
      "text/plain": [
       "array([[0.96116144, 0.03883856],\n",
       "       [0.38979118, 0.61020882]])"
      ]
     },
     "metadata": {},
     "output_type": "display_data"
    },
    {
     "data": {
      "text/plain": [
       "array([[20689,   836],\n",
       "       [  168,   263]], dtype=int64)"
      ]
     },
     "metadata": {},
     "output_type": "display_data"
    },
    {
     "name": "stdout",
     "output_type": "stream",
     "text": [
      "----- LOCAL 5 -----\n"
     ]
    },
    {
     "data": {
      "text/plain": [
       "1.0    50324\n",
       "0.0    50324\n",
       "Name: LocalMax, dtype: int64"
      ]
     },
     "metadata": {},
     "output_type": "display_data"
    },
    {
     "name": "stdout",
     "output_type": "stream",
     "text": [
      "Treino: 0.951156505842143\n",
      "Teste: 0.9525414465294225\n",
      "Precisão: 0.2163336229365769\n",
      "Recall: 0.6401028277634961\n",
      "F1: 0.32337662337662343\n"
     ]
    },
    {
     "data": {
      "text/plain": [
       "array([[0.95817684, 0.04182316],\n",
       "       [0.35989717, 0.64010283]])"
      ]
     },
     "metadata": {},
     "output_type": "display_data"
    },
    {
     "data": {
      "text/plain": [
       "array([[20665,   902],\n",
       "       [  140,   249]], dtype=int64)"
      ]
     },
     "metadata": {},
     "output_type": "display_data"
    },
    {
     "name": "stdout",
     "output_type": "stream",
     "text": [
      "----- LOCAL 0 -----\n",
      "Index(['Local', 'Precipitacao', 'Prec24h', 'Mes'], dtype='object')\n"
     ]
    },
    {
     "data": {
      "text/plain": [
       "1.0    251285\n",
       "0.0    251285\n",
       "Name: LocalMax, dtype: int64"
      ]
     },
     "metadata": {},
     "output_type": "display_data"
    },
    {
     "name": "stdout",
     "output_type": "stream",
     "text": [
      "Treino: 0.9562807171140338\n",
      "Teste: 0.953042020787218\n",
      "Precisão: 0.23836317135549873\n",
      "Recall: 0.6701821668264621\n",
      "F1: 0.3516538800150925\n"
     ]
    },
    {
     "data": {
      "text/plain": [
       "array([[0.95852098, 0.04147902],\n",
       "       [0.32981783, 0.67018217]])"
      ]
     },
     "metadata": {},
     "output_type": "display_data"
    },
    {
     "data": {
      "text/plain": [
       "array([[103226,   4467],\n",
       "       [   688,   1398]], dtype=int64)"
      ]
     },
     "metadata": {},
     "output_type": "display_data"
    },
    {
     "name": "stdout",
     "output_type": "stream",
     "text": [
      "----- LOCAL 1 -----\n"
     ]
    },
    {
     "data": {
      "text/plain": [
       "1.0    50139\n",
       "0.0    50139\n",
       "Name: LocalMax, dtype: int64"
      ]
     },
     "metadata": {},
     "output_type": "display_data"
    },
    {
     "name": "stdout",
     "output_type": "stream",
     "text": [
      "Treino: 0.9546560561638645\n",
      "Teste: 0.9436145017307342\n",
      "Precisão: 0.21840759678597516\n",
      "Recall: 0.6402569593147751\n",
      "F1: 0.32570806100217864\n"
     ]
    },
    {
     "data": {
      "text/plain": [
       "array([[0.95020708, 0.04979292],\n",
       "       [0.35974304, 0.64025696]])"
      ]
     },
     "metadata": {},
     "output_type": "display_data"
    },
    {
     "data": {
      "text/plain": [
       "array([[20419,  1070],\n",
       "       [  168,   299]], dtype=int64)"
      ]
     },
     "metadata": {},
     "output_type": "display_data"
    },
    {
     "name": "stdout",
     "output_type": "stream",
     "text": [
      "----- LOCAL 2 -----\n"
     ]
    },
    {
     "data": {
      "text/plain": [
       "1.0    50307\n",
       "0.0    50307\n",
       "Name: LocalMax, dtype: int64"
      ]
     },
     "metadata": {},
     "output_type": "display_data"
    },
    {
     "name": "stdout",
     "output_type": "stream",
     "text": [
      "Treino: 0.96659510604886\n",
      "Teste: 0.9565950081982146\n",
      "Precisão: 0.24284395198522624\n",
      "Recall: 0.6641414141414141\n",
      "F1: 0.35564570655848543\n"
     ]
    },
    {
     "data": {
      "text/plain": [
       "array([[0.9619666 , 0.0380334 ],\n",
       "       [0.33585859, 0.66414141]])"
      ]
     },
     "metadata": {},
     "output_type": "display_data"
    },
    {
     "data": {
      "text/plain": [
       "array([[20740,   820],\n",
       "       [  133,   263]], dtype=int64)"
      ]
     },
     "metadata": {},
     "output_type": "display_data"
    },
    {
     "name": "stdout",
     "output_type": "stream",
     "text": [
      "----- LOCAL 3 -----\n"
     ]
    },
    {
     "data": {
      "text/plain": [
       "1.0    50291\n",
       "0.0    50291\n",
       "Name: LocalMax, dtype: int64"
      ]
     },
     "metadata": {},
     "output_type": "display_data"
    },
    {
     "name": "stdout",
     "output_type": "stream",
     "text": [
      "Treino: 0.953172535841403\n",
      "Teste: 0.9511750774275824\n",
      "Precisão: 0.21914357682619648\n",
      "Recall: 0.6476426799007444\n",
      "F1: 0.32747804265997493\n"
     ]
    },
    {
     "data": {
      "text/plain": [
       "array([[0.95685055, 0.04314945],\n",
       "       [0.35235732, 0.64764268]])"
      ]
     },
     "metadata": {},
     "output_type": "display_data"
    },
    {
     "data": {
      "text/plain": [
       "array([[20623,   930],\n",
       "       [  142,   261]], dtype=int64)"
      ]
     },
     "metadata": {},
     "output_type": "display_data"
    },
    {
     "name": "stdout",
     "output_type": "stream",
     "text": [
      "----- LOCAL 4 -----\n"
     ]
    },
    {
     "data": {
      "text/plain": [
       "1.0    50223\n",
       "0.0    50223\n",
       "Name: LocalMax, dtype: int64"
      ]
     },
     "metadata": {},
     "output_type": "display_data"
    },
    {
     "name": "stdout",
     "output_type": "stream",
     "text": [
      "Treino: 0.9628058857495569\n",
      "Teste: 0.9542721807250866\n",
      "Precisão: 0.23930846223839855\n",
      "Recall: 0.6102088167053364\n",
      "F1: 0.3437908496732026\n"
     ]
    },
    {
     "data": {
      "text/plain": [
       "array([[0.96116144, 0.03883856],\n",
       "       [0.38979118, 0.61020882]])"
      ]
     },
     "metadata": {},
     "output_type": "display_data"
    },
    {
     "data": {
      "text/plain": [
       "array([[20689,   836],\n",
       "       [  168,   263]], dtype=int64)"
      ]
     },
     "metadata": {},
     "output_type": "display_data"
    },
    {
     "name": "stdout",
     "output_type": "stream",
     "text": [
      "----- LOCAL 5 -----\n"
     ]
    },
    {
     "data": {
      "text/plain": [
       "1.0    50324\n",
       "0.0    50324\n",
       "Name: LocalMax, dtype: int64"
      ]
     },
     "metadata": {},
     "output_type": "display_data"
    },
    {
     "name": "stdout",
     "output_type": "stream",
     "text": [
      "Treino: 0.951156505842143\n",
      "Teste: 0.9525414465294225\n",
      "Precisão: 0.2163336229365769\n",
      "Recall: 0.6401028277634961\n",
      "F1: 0.32337662337662343\n"
     ]
    },
    {
     "data": {
      "text/plain": [
       "array([[0.95817684, 0.04182316],\n",
       "       [0.35989717, 0.64010283]])"
      ]
     },
     "metadata": {},
     "output_type": "display_data"
    },
    {
     "data": {
      "text/plain": [
       "array([[20665,   902],\n",
       "       [  140,   249]], dtype=int64)"
      ]
     },
     "metadata": {},
     "output_type": "display_data"
    },
    {
     "name": "stdout",
     "output_type": "stream",
     "text": [
      "----- LOCAL 0 -----\n",
      "Index(['Local', 'Prec24h', 'Mes'], dtype='object')\n"
     ]
    },
    {
     "data": {
      "text/plain": [
       "1.0    251285\n",
       "0.0    251285\n",
       "Name: LocalMax, dtype: int64"
      ]
     },
     "metadata": {},
     "output_type": "display_data"
    },
    {
     "name": "stdout",
     "output_type": "stream",
     "text": [
      "Treino: 0.9477167359770778\n",
      "Teste: 0.9376110185008062\n",
      "Precisão: 0.18643844634628046\n",
      "Recall: 0.6788111217641419\n",
      "F1: 0.2925317632475984\n"
     ]
    },
    {
     "data": {
      "text/plain": [
       "array([[0.94262394, 0.05737606],\n",
       "       [0.32118888, 0.67881112]])"
      ]
     },
     "metadata": {},
     "output_type": "display_data"
    },
    {
     "data": {
      "text/plain": [
       "array([[101514,   6179],\n",
       "       [   670,   1416]], dtype=int64)"
      ]
     },
     "metadata": {},
     "output_type": "display_data"
    },
    {
     "name": "stdout",
     "output_type": "stream",
     "text": [
      "----- LOCAL 1 -----\n"
     ]
    },
    {
     "data": {
      "text/plain": [
       "1.0    50139\n",
       "0.0    50139\n",
       "Name: LocalMax, dtype: int64"
      ]
     },
     "metadata": {},
     "output_type": "display_data"
    },
    {
     "name": "stdout",
     "output_type": "stream",
     "text": [
      "Treino: 0.9456311454157442\n",
      "Teste: 0.9258517034068137\n",
      "Precisão: 0.17184850197851895\n",
      "Recall: 0.6509635974304069\n",
      "F1: 0.27191413237924866\n"
     ]
    },
    {
     "data": {
      "text/plain": [
       "array([[0.93182559, 0.06817441],\n",
       "       [0.3490364 , 0.6509636 ]])"
      ]
     },
     "metadata": {},
     "output_type": "display_data"
    },
    {
     "data": {
      "text/plain": [
       "array([[20024,  1465],\n",
       "       [  163,   304]], dtype=int64)"
      ]
     },
     "metadata": {},
     "output_type": "display_data"
    },
    {
     "name": "stdout",
     "output_type": "stream",
     "text": [
      "----- LOCAL 2 -----\n"
     ]
    },
    {
     "data": {
      "text/plain": [
       "1.0    50307\n",
       "0.0    50307\n",
       "Name: LocalMax, dtype: int64"
      ]
     },
     "metadata": {},
     "output_type": "display_data"
    },
    {
     "name": "stdout",
     "output_type": "stream",
     "text": [
      "Treino: 0.9590613632297692\n",
      "Teste: 0.9444798688285663\n",
      "Precisão: 0.196309963099631\n",
      "Recall: 0.6717171717171717\n",
      "F1: 0.3038263849229012\n"
     ]
    },
    {
     "data": {
      "text/plain": [
       "array([[0.9494898 , 0.0505102 ],\n",
       "       [0.32828283, 0.67171717]])"
      ]
     },
     "metadata": {},
     "output_type": "display_data"
    },
    {
     "data": {
      "text/plain": [
       "array([[20471,  1089],\n",
       "       [  130,   266]], dtype=int64)"
      ]
     },
     "metadata": {},
     "output_type": "display_data"
    },
    {
     "name": "stdout",
     "output_type": "stream",
     "text": [
      "----- LOCAL 3 -----\n"
     ]
    },
    {
     "data": {
      "text/plain": [
       "1.0    50291\n",
       "0.0    50291\n",
       "Name: LocalMax, dtype: int64"
      ]
     },
     "metadata": {},
     "output_type": "display_data"
    },
    {
     "name": "stdout",
     "output_type": "stream",
     "text": [
      "Treino: 0.9452387107037045\n",
      "Teste: 0.9406540353434141\n",
      "Precisão: 0.18354430379746836\n",
      "Recall: 0.6476426799007444\n",
      "F1: 0.286027397260274\n"
     ]
    },
    {
     "data": {
      "text/plain": [
       "array([[0.94613279, 0.05386721],\n",
       "       [0.35235732, 0.64764268]])"
      ]
     },
     "metadata": {},
     "output_type": "display_data"
    },
    {
     "data": {
      "text/plain": [
       "array([[20392,  1161],\n",
       "       [  142,   261]], dtype=int64)"
      ]
     },
     "metadata": {},
     "output_type": "display_data"
    },
    {
     "name": "stdout",
     "output_type": "stream",
     "text": [
      "----- LOCAL 4 -----\n"
     ]
    },
    {
     "data": {
      "text/plain": [
       "1.0    50223\n",
       "0.0    50223\n",
       "Name: LocalMax, dtype: int64"
      ]
     },
     "metadata": {},
     "output_type": "display_data"
    },
    {
     "name": "stdout",
     "output_type": "stream",
     "text": [
      "Treino: 0.9553192760289111\n",
      "Teste: 0.9468026963016943\n",
      "Precisão: 0.21500386697602475\n",
      "Recall: 0.6450116009280742\n",
      "F1: 0.3225058004640371\n"
     ]
    },
    {
     "data": {
      "text/plain": [
       "array([[0.95284553, 0.04715447],\n",
       "       [0.3549884 , 0.6450116 ]])"
      ]
     },
     "metadata": {},
     "output_type": "display_data"
    },
    {
     "data": {
      "text/plain": [
       "array([[20510,  1015],\n",
       "       [  153,   278]], dtype=int64)"
      ]
     },
     "metadata": {},
     "output_type": "display_data"
    },
    {
     "name": "stdout",
     "output_type": "stream",
     "text": [
      "----- LOCAL 5 -----\n"
     ]
    },
    {
     "data": {
      "text/plain": [
       "1.0    50324\n",
       "0.0    50324\n",
       "Name: LocalMax, dtype: int64"
      ]
     },
     "metadata": {},
     "output_type": "display_data"
    },
    {
     "name": "stdout",
     "output_type": "stream",
     "text": [
      "Treino: 0.9409526269771878\n",
      "Teste: 0.938057934049918\n",
      "Precisão: 0.17262306136210384\n",
      "Recall: 0.6580976863753213\n",
      "F1: 0.2735042735042735\n"
     ]
    },
    {
     "data": {
      "text/plain": [
       "array([[0.94310753, 0.05689247],\n",
       "       [0.34190231, 0.65809769]])"
      ]
     },
     "metadata": {},
     "output_type": "display_data"
    },
    {
     "data": {
      "text/plain": [
       "array([[20340,  1227],\n",
       "       [  133,   256]], dtype=int64)"
      ]
     },
     "metadata": {},
     "output_type": "display_data"
    }
   ],
   "source": [
    "test_cases = [\n",
    "    [],\n",
    "    ['DirecaoDoVento', 'VelocidadeDoVento'],\n",
    "    ['DirecaoDoVento', 'VelocidadeDoVento', 'TemperaturaInterna'],\n",
    "    ['DirecaoDoVento', 'VelocidadeDoVento', 'TemperaturaInterna', 'PontoDeOrvalho'],\n",
    "    ['DirecaoDoVento', 'VelocidadeDoVento', 'TemperaturaInterna', 'PontoDeOrvalho', 'UmidadeRelativa'],\n",
    "    ['DirecaoDoVento', 'VelocidadeDoVento', 'TemperaturaInterna', 'PontoDeOrvalho', 'UmidadeRelativa', 'PressaoAtmosferica'],\n",
    "    ['DirecaoDoVento', 'VelocidadeDoVento', 'TemperaturaInterna', 'PontoDeOrvalho', 'UmidadeRelativa', 'PressaoAtmosferica', 'RadiacaoSolar'],\n",
    "    ['DirecaoDoVento', 'VelocidadeDoVento', 'TemperaturaInterna', 'PontoDeOrvalho', 'UmidadeRelativa', 'PressaoAtmosferica', 'RadiacaoSolar', 'TemperaturaDoAr'],\n",
    "    ['DirecaoDoVento', 'VelocidadeDoVento', 'TemperaturaInterna', 'PontoDeOrvalho', 'UmidadeRelativa', 'PressaoAtmosferica', 'RadiacaoSolar', 'TemperaturaDoAr', 'Local'],\n",
    "    ['DirecaoDoVento', 'VelocidadeDoVento', 'TemperaturaInterna', 'PontoDeOrvalho', 'UmidadeRelativa', 'PressaoAtmosferica', 'RadiacaoSolar', 'TemperaturaDoAr', 'PrecSum'],\n",
    "    ['DirecaoDoVento', 'VelocidadeDoVento', 'TemperaturaInterna', 'PontoDeOrvalho', 'UmidadeRelativa', 'PressaoAtmosferica', 'RadiacaoSolar', 'TemperaturaDoAr', 'Precipitacao']\n",
    "]\n",
    "\n",
    "df_training_result = pd.DataFrame(columns = ['Removed_Cols', 'Remaining_Cols', 'Local', 'Train_Acc', 'Test_Acc', 'Precision', 'Recall', 'F1', 'Ver_Pos'])\n",
    "\n",
    "for case in test_cases:\n",
    "    for l in range(6):\n",
    "        if l != 0:\n",
    "            df_train = df_slice[df_slice['Local'] == l]\n",
    "        else:\n",
    "            df_train = df_slice.copy()\n",
    "\n",
    "        print(f'----- LOCAL {l} -----')\n",
    "\n",
    "        # Testar prever cluster\n",
    "\n",
    "        xgb = xgboost.XGBClassifier()\n",
    "\n",
    "        cols_rem = ['LocalMax', 'Cluster', 'Data', 'Hora', 'Data_Hora', 'Ordens', 'Minuto'] + [c for c in df_train.columns if 'Hora_' in c]\n",
    "        cols_rem = cols_rem + case\n",
    "        #cols_rem = cols_rem + ['TemperaturaInterna', 'PontoDeOrvalho']\n",
    "\n",
    "        x = df_train[[c for c in df_train.columns if c not in cols_rem]]\n",
    "        if l == 0:\n",
    "            print(x.columns)\n",
    "        #x = x.drop(columns = 'Cluster')\n",
    "        y = df_train['LocalMax']\n",
    "\n",
    "        x_treino, x_teste, y_treino, y_teste = train_test_split(x, y, test_size=0.3, random_state = 378, stratify=y)\n",
    "\n",
    "        # concatenate our training data back together\n",
    "        X = pd.concat([x_treino, y_treino], axis=1)\n",
    "\n",
    "        # separate minority and majority classes\n",
    "        not_ordem = X[X['LocalMax']==0].copy()\n",
    "        ordem = X[X['LocalMax']==1].copy()\n",
    "\n",
    "        # upsample minority\n",
    "        ordem_upsampled = resample(ordem,\n",
    "                                replace=True, # sample with replacement\n",
    "                                n_samples=len(not_ordem), # match number in majority class\n",
    "                                random_state=378) # reproducible results\n",
    "\n",
    "        # combine majority and upsampled minority\n",
    "        upsampled = pd.concat([not_ordem, ordem_upsampled])\n",
    "\n",
    "        x_treino = upsampled[[c for c in df_slice.columns if c not in cols_rem]]\n",
    "        y_treino = upsampled['LocalMax']\n",
    "\n",
    "        display(y_treino.value_counts())\n",
    "\n",
    "        #xgb.fit(x_treino, y_treino, eval_set = [(x_treino, y_treino), (x_teste, y_teste)], eval_metric=f1_score)\n",
    "        param = {'max_depth':50, 'eta':1, 'objective':'binary:logistic', 'min_child_weight': 1, 'lambda': 1, 'alpha': 0, 'gamma': 0}\n",
    "\n",
    "        df_train = xgboost.DMatrix(data=x_treino, label=y_treino)\n",
    "        df_test = xgboost.DMatrix(data=x_teste, label=y_teste)\n",
    "\n",
    "        bst = xgboost.train(param, df_train, 2, feval=f1_score)\n",
    "        y_teste_pred = bst.predict(xgboost.DMatrix(data=x_teste, label=y_teste))\n",
    "        y_teste_pred = [1 if i>0.5 else 0 for i in y_teste_pred]\n",
    "        y_treino_pred = bst.predict(xgboost.DMatrix(data=x_treino, label=y_treino))\n",
    "        y_treino_pred = [1 if i>0.5 else 0 for i in y_treino_pred]\n",
    "\n",
    "        print(f\"Treino: {accuracy_score(y_treino, y_treino_pred)}\")\n",
    "        print(f\"Teste: {accuracy_score(y_teste, y_teste_pred)}\")\n",
    "        print(f\"Precisão: {precision_score(y_teste, y_teste_pred)}\")\n",
    "        print(f\"Recall: {recall_score(y_teste, y_teste_pred)}\")\n",
    "        print(f\"F1: {f1_score(y_teste, y_teste_pred)}\")\n",
    "        display(confusion_matrix(y_teste, y_teste_pred, normalize='true'))\n",
    "        display(confusion_matrix(y_teste, y_teste_pred,))\n",
    "        \n",
    "        df_training_result = df_training_result.append({\n",
    "            'Removed_Cols': case,\n",
    "            'Remaining_Cols': list(x.columns),\n",
    "            'Local': l,\n",
    "            'Train_Acc': accuracy_score(y_treino, y_treino_pred),\n",
    "            'Test_Acc': accuracy_score(y_teste, y_teste_pred),\n",
    "            'Precision': precision_score(y_teste, y_teste_pred),\n",
    "            'Recall': recall_score(y_teste, y_teste_pred),\n",
    "            'F1': f1_score(y_teste, y_teste_pred),\n",
    "            'Ver_Pos': confusion_matrix(y_teste, y_teste_pred, normalize='true')[1,1]\n",
    "        }, ignore_index=True)"
   ]
  },
  {
   "cell_type": "code",
   "execution_count": 99,
   "metadata": {},
   "outputs": [
    {
     "data": {
      "text/html": [
       "<div>\n",
       "<style scoped>\n",
       "    .dataframe tbody tr th:only-of-type {\n",
       "        vertical-align: middle;\n",
       "    }\n",
       "\n",
       "    .dataframe tbody tr th {\n",
       "        vertical-align: top;\n",
       "    }\n",
       "\n",
       "    .dataframe thead th {\n",
       "        text-align: right;\n",
       "    }\n",
       "</style>\n",
       "<table border=\"1\" class=\"dataframe\">\n",
       "  <thead>\n",
       "    <tr style=\"text-align: right;\">\n",
       "      <th></th>\n",
       "      <th>Removed_Cols</th>\n",
       "      <th>Remaining_Cols</th>\n",
       "      <th>Local</th>\n",
       "      <th>Train_Acc</th>\n",
       "      <th>Test_Acc</th>\n",
       "      <th>Precision</th>\n",
       "      <th>Recall</th>\n",
       "      <th>F1</th>\n",
       "      <th>Ver_Pos</th>\n",
       "    </tr>\n",
       "  </thead>\n",
       "  <tbody>\n",
       "    <tr>\n",
       "      <th>36</th>\n",
       "      <td>[DirecaoDoVento, VelocidadeDoVento, Temperatur...</td>\n",
       "      <td>[Local, TemperaturaDoAr, Precipitacao, Prec24h...</td>\n",
       "      <td>0</td>\n",
       "      <td>0.988332</td>\n",
       "      <td>0.964356</td>\n",
       "      <td>0.296684</td>\n",
       "      <td>0.639022</td>\n",
       "      <td>0.405229</td>\n",
       "      <td>0.639022</td>\n",
       "    </tr>\n",
       "    <tr>\n",
       "      <th>37</th>\n",
       "      <td>[DirecaoDoVento, VelocidadeDoVento, Temperatur...</td>\n",
       "      <td>[Local, TemperaturaDoAr, Precipitacao, Prec24h...</td>\n",
       "      <td>1</td>\n",
       "      <td>0.987435</td>\n",
       "      <td>0.960421</td>\n",
       "      <td>0.297787</td>\n",
       "      <td>0.633833</td>\n",
       "      <td>0.405202</td>\n",
       "      <td>0.633833</td>\n",
       "    </tr>\n",
       "    <tr>\n",
       "      <th>38</th>\n",
       "      <td>[DirecaoDoVento, VelocidadeDoVento, Temperatur...</td>\n",
       "      <td>[Local, TemperaturaDoAr, Precipitacao, Prec24h...</td>\n",
       "      <td>2</td>\n",
       "      <td>0.990866</td>\n",
       "      <td>0.970031</td>\n",
       "      <td>0.323925</td>\n",
       "      <td>0.608586</td>\n",
       "      <td>0.422807</td>\n",
       "      <td>0.608586</td>\n",
       "    </tr>\n",
       "    <tr>\n",
       "      <th>39</th>\n",
       "      <td>[DirecaoDoVento, VelocidadeDoVento, Temperatur...</td>\n",
       "      <td>[Local, TemperaturaDoAr, Precipitacao, Prec24h...</td>\n",
       "      <td>3</td>\n",
       "      <td>0.988457</td>\n",
       "      <td>0.963381</td>\n",
       "      <td>0.275978</td>\n",
       "      <td>0.612903</td>\n",
       "      <td>0.380586</td>\n",
       "      <td>0.612903</td>\n",
       "    </tr>\n",
       "    <tr>\n",
       "      <th>40</th>\n",
       "      <td>[DirecaoDoVento, VelocidadeDoVento, Temperatur...</td>\n",
       "      <td>[Local, TemperaturaDoAr, Precipitacao, Prec24h...</td>\n",
       "      <td>4</td>\n",
       "      <td>0.989178</td>\n",
       "      <td>0.965066</td>\n",
       "      <td>0.302353</td>\n",
       "      <td>0.596288</td>\n",
       "      <td>0.401249</td>\n",
       "      <td>0.596288</td>\n",
       "    </tr>\n",
       "    <tr>\n",
       "      <th>41</th>\n",
       "      <td>[DirecaoDoVento, VelocidadeDoVento, Temperatur...</td>\n",
       "      <td>[Local, TemperaturaDoAr, Precipitacao, Prec24h...</td>\n",
       "      <td>5</td>\n",
       "      <td>0.990919</td>\n",
       "      <td>0.965385</td>\n",
       "      <td>0.270136</td>\n",
       "      <td>0.560411</td>\n",
       "      <td>0.364548</td>\n",
       "      <td>0.560411</td>\n",
       "    </tr>\n",
       "    <tr>\n",
       "      <th>42</th>\n",
       "      <td>[DirecaoDoVento, VelocidadeDoVento, Temperatur...</td>\n",
       "      <td>[Local, Precipitacao, Prec24h, Mes]</td>\n",
       "      <td>0</td>\n",
       "      <td>0.956281</td>\n",
       "      <td>0.953042</td>\n",
       "      <td>0.238363</td>\n",
       "      <td>0.670182</td>\n",
       "      <td>0.351654</td>\n",
       "      <td>0.670182</td>\n",
       "    </tr>\n",
       "    <tr>\n",
       "      <th>43</th>\n",
       "      <td>[DirecaoDoVento, VelocidadeDoVento, Temperatur...</td>\n",
       "      <td>[Local, Precipitacao, Prec24h, Mes]</td>\n",
       "      <td>1</td>\n",
       "      <td>0.954656</td>\n",
       "      <td>0.943615</td>\n",
       "      <td>0.218408</td>\n",
       "      <td>0.640257</td>\n",
       "      <td>0.325708</td>\n",
       "      <td>0.640257</td>\n",
       "    </tr>\n",
       "    <tr>\n",
       "      <th>44</th>\n",
       "      <td>[DirecaoDoVento, VelocidadeDoVento, Temperatur...</td>\n",
       "      <td>[Local, Precipitacao, Prec24h, Mes]</td>\n",
       "      <td>2</td>\n",
       "      <td>0.966595</td>\n",
       "      <td>0.956595</td>\n",
       "      <td>0.242844</td>\n",
       "      <td>0.664141</td>\n",
       "      <td>0.355646</td>\n",
       "      <td>0.664141</td>\n",
       "    </tr>\n",
       "    <tr>\n",
       "      <th>45</th>\n",
       "      <td>[DirecaoDoVento, VelocidadeDoVento, Temperatur...</td>\n",
       "      <td>[Local, Precipitacao, Prec24h, Mes]</td>\n",
       "      <td>3</td>\n",
       "      <td>0.953173</td>\n",
       "      <td>0.951175</td>\n",
       "      <td>0.219144</td>\n",
       "      <td>0.647643</td>\n",
       "      <td>0.327478</td>\n",
       "      <td>0.647643</td>\n",
       "    </tr>\n",
       "    <tr>\n",
       "      <th>46</th>\n",
       "      <td>[DirecaoDoVento, VelocidadeDoVento, Temperatur...</td>\n",
       "      <td>[Local, Precipitacao, Prec24h, Mes]</td>\n",
       "      <td>4</td>\n",
       "      <td>0.962806</td>\n",
       "      <td>0.954272</td>\n",
       "      <td>0.239308</td>\n",
       "      <td>0.610209</td>\n",
       "      <td>0.343791</td>\n",
       "      <td>0.610209</td>\n",
       "    </tr>\n",
       "    <tr>\n",
       "      <th>47</th>\n",
       "      <td>[DirecaoDoVento, VelocidadeDoVento, Temperatur...</td>\n",
       "      <td>[Local, Precipitacao, Prec24h, Mes]</td>\n",
       "      <td>5</td>\n",
       "      <td>0.951157</td>\n",
       "      <td>0.952541</td>\n",
       "      <td>0.216334</td>\n",
       "      <td>0.640103</td>\n",
       "      <td>0.323377</td>\n",
       "      <td>0.640103</td>\n",
       "    </tr>\n",
       "    <tr>\n",
       "      <th>48</th>\n",
       "      <td>[DirecaoDoVento, VelocidadeDoVento, Temperatur...</td>\n",
       "      <td>[Precipitacao, Prec24h, Mes]</td>\n",
       "      <td>0</td>\n",
       "      <td>0.937949</td>\n",
       "      <td>0.940025</td>\n",
       "      <td>0.188418</td>\n",
       "      <td>0.651965</td>\n",
       "      <td>0.292347</td>\n",
       "      <td>0.651965</td>\n",
       "    </tr>\n",
       "    <tr>\n",
       "      <th>49</th>\n",
       "      <td>[DirecaoDoVento, VelocidadeDoVento, Temperatur...</td>\n",
       "      <td>[Precipitacao, Prec24h, Mes]</td>\n",
       "      <td>1</td>\n",
       "      <td>0.954656</td>\n",
       "      <td>0.943615</td>\n",
       "      <td>0.218408</td>\n",
       "      <td>0.640257</td>\n",
       "      <td>0.325708</td>\n",
       "      <td>0.640257</td>\n",
       "    </tr>\n",
       "    <tr>\n",
       "      <th>50</th>\n",
       "      <td>[DirecaoDoVento, VelocidadeDoVento, Temperatur...</td>\n",
       "      <td>[Precipitacao, Prec24h, Mes]</td>\n",
       "      <td>2</td>\n",
       "      <td>0.966595</td>\n",
       "      <td>0.956595</td>\n",
       "      <td>0.242844</td>\n",
       "      <td>0.664141</td>\n",
       "      <td>0.355646</td>\n",
       "      <td>0.664141</td>\n",
       "    </tr>\n",
       "    <tr>\n",
       "      <th>51</th>\n",
       "      <td>[DirecaoDoVento, VelocidadeDoVento, Temperatur...</td>\n",
       "      <td>[Precipitacao, Prec24h, Mes]</td>\n",
       "      <td>3</td>\n",
       "      <td>0.953173</td>\n",
       "      <td>0.951175</td>\n",
       "      <td>0.219144</td>\n",
       "      <td>0.647643</td>\n",
       "      <td>0.327478</td>\n",
       "      <td>0.647643</td>\n",
       "    </tr>\n",
       "    <tr>\n",
       "      <th>52</th>\n",
       "      <td>[DirecaoDoVento, VelocidadeDoVento, Temperatur...</td>\n",
       "      <td>[Precipitacao, Prec24h, Mes]</td>\n",
       "      <td>4</td>\n",
       "      <td>0.962806</td>\n",
       "      <td>0.954272</td>\n",
       "      <td>0.239308</td>\n",
       "      <td>0.610209</td>\n",
       "      <td>0.343791</td>\n",
       "      <td>0.610209</td>\n",
       "    </tr>\n",
       "    <tr>\n",
       "      <th>53</th>\n",
       "      <td>[DirecaoDoVento, VelocidadeDoVento, Temperatur...</td>\n",
       "      <td>[Precipitacao, Prec24h, Mes]</td>\n",
       "      <td>5</td>\n",
       "      <td>0.951157</td>\n",
       "      <td>0.952541</td>\n",
       "      <td>0.216334</td>\n",
       "      <td>0.640103</td>\n",
       "      <td>0.323377</td>\n",
       "      <td>0.640103</td>\n",
       "    </tr>\n",
       "    <tr>\n",
       "      <th>54</th>\n",
       "      <td>[DirecaoDoVento, VelocidadeDoVento, Temperatur...</td>\n",
       "      <td>[Local, Precipitacao, Prec24h, Mes]</td>\n",
       "      <td>0</td>\n",
       "      <td>0.956281</td>\n",
       "      <td>0.953042</td>\n",
       "      <td>0.238363</td>\n",
       "      <td>0.670182</td>\n",
       "      <td>0.351654</td>\n",
       "      <td>0.670182</td>\n",
       "    </tr>\n",
       "    <tr>\n",
       "      <th>55</th>\n",
       "      <td>[DirecaoDoVento, VelocidadeDoVento, Temperatur...</td>\n",
       "      <td>[Local, Precipitacao, Prec24h, Mes]</td>\n",
       "      <td>1</td>\n",
       "      <td>0.954656</td>\n",
       "      <td>0.943615</td>\n",
       "      <td>0.218408</td>\n",
       "      <td>0.640257</td>\n",
       "      <td>0.325708</td>\n",
       "      <td>0.640257</td>\n",
       "    </tr>\n",
       "    <tr>\n",
       "      <th>56</th>\n",
       "      <td>[DirecaoDoVento, VelocidadeDoVento, Temperatur...</td>\n",
       "      <td>[Local, Precipitacao, Prec24h, Mes]</td>\n",
       "      <td>2</td>\n",
       "      <td>0.966595</td>\n",
       "      <td>0.956595</td>\n",
       "      <td>0.242844</td>\n",
       "      <td>0.664141</td>\n",
       "      <td>0.355646</td>\n",
       "      <td>0.664141</td>\n",
       "    </tr>\n",
       "    <tr>\n",
       "      <th>57</th>\n",
       "      <td>[DirecaoDoVento, VelocidadeDoVento, Temperatur...</td>\n",
       "      <td>[Local, Precipitacao, Prec24h, Mes]</td>\n",
       "      <td>3</td>\n",
       "      <td>0.953173</td>\n",
       "      <td>0.951175</td>\n",
       "      <td>0.219144</td>\n",
       "      <td>0.647643</td>\n",
       "      <td>0.327478</td>\n",
       "      <td>0.647643</td>\n",
       "    </tr>\n",
       "    <tr>\n",
       "      <th>58</th>\n",
       "      <td>[DirecaoDoVento, VelocidadeDoVento, Temperatur...</td>\n",
       "      <td>[Local, Precipitacao, Prec24h, Mes]</td>\n",
       "      <td>4</td>\n",
       "      <td>0.962806</td>\n",
       "      <td>0.954272</td>\n",
       "      <td>0.239308</td>\n",
       "      <td>0.610209</td>\n",
       "      <td>0.343791</td>\n",
       "      <td>0.610209</td>\n",
       "    </tr>\n",
       "    <tr>\n",
       "      <th>59</th>\n",
       "      <td>[DirecaoDoVento, VelocidadeDoVento, Temperatur...</td>\n",
       "      <td>[Local, Precipitacao, Prec24h, Mes]</td>\n",
       "      <td>5</td>\n",
       "      <td>0.951157</td>\n",
       "      <td>0.952541</td>\n",
       "      <td>0.216334</td>\n",
       "      <td>0.640103</td>\n",
       "      <td>0.323377</td>\n",
       "      <td>0.640103</td>\n",
       "    </tr>\n",
       "    <tr>\n",
       "      <th>60</th>\n",
       "      <td>[DirecaoDoVento, VelocidadeDoVento, Temperatur...</td>\n",
       "      <td>[Local, Prec24h, Mes]</td>\n",
       "      <td>0</td>\n",
       "      <td>0.947717</td>\n",
       "      <td>0.937611</td>\n",
       "      <td>0.186438</td>\n",
       "      <td>0.678811</td>\n",
       "      <td>0.292532</td>\n",
       "      <td>0.678811</td>\n",
       "    </tr>\n",
       "    <tr>\n",
       "      <th>61</th>\n",
       "      <td>[DirecaoDoVento, VelocidadeDoVento, Temperatur...</td>\n",
       "      <td>[Local, Prec24h, Mes]</td>\n",
       "      <td>1</td>\n",
       "      <td>0.945631</td>\n",
       "      <td>0.925852</td>\n",
       "      <td>0.171849</td>\n",
       "      <td>0.650964</td>\n",
       "      <td>0.271914</td>\n",
       "      <td>0.650964</td>\n",
       "    </tr>\n",
       "    <tr>\n",
       "      <th>62</th>\n",
       "      <td>[DirecaoDoVento, VelocidadeDoVento, Temperatur...</td>\n",
       "      <td>[Local, Prec24h, Mes]</td>\n",
       "      <td>2</td>\n",
       "      <td>0.959061</td>\n",
       "      <td>0.944480</td>\n",
       "      <td>0.196310</td>\n",
       "      <td>0.671717</td>\n",
       "      <td>0.303826</td>\n",
       "      <td>0.671717</td>\n",
       "    </tr>\n",
       "    <tr>\n",
       "      <th>63</th>\n",
       "      <td>[DirecaoDoVento, VelocidadeDoVento, Temperatur...</td>\n",
       "      <td>[Local, Prec24h, Mes]</td>\n",
       "      <td>3</td>\n",
       "      <td>0.945239</td>\n",
       "      <td>0.940654</td>\n",
       "      <td>0.183544</td>\n",
       "      <td>0.647643</td>\n",
       "      <td>0.286027</td>\n",
       "      <td>0.647643</td>\n",
       "    </tr>\n",
       "    <tr>\n",
       "      <th>64</th>\n",
       "      <td>[DirecaoDoVento, VelocidadeDoVento, Temperatur...</td>\n",
       "      <td>[Local, Prec24h, Mes]</td>\n",
       "      <td>4</td>\n",
       "      <td>0.955319</td>\n",
       "      <td>0.946803</td>\n",
       "      <td>0.215004</td>\n",
       "      <td>0.645012</td>\n",
       "      <td>0.322506</td>\n",
       "      <td>0.645012</td>\n",
       "    </tr>\n",
       "    <tr>\n",
       "      <th>65</th>\n",
       "      <td>[DirecaoDoVento, VelocidadeDoVento, Temperatur...</td>\n",
       "      <td>[Local, Prec24h, Mes]</td>\n",
       "      <td>5</td>\n",
       "      <td>0.940953</td>\n",
       "      <td>0.938058</td>\n",
       "      <td>0.172623</td>\n",
       "      <td>0.658098</td>\n",
       "      <td>0.273504</td>\n",
       "      <td>0.658098</td>\n",
       "    </tr>\n",
       "  </tbody>\n",
       "</table>\n",
       "</div>"
      ],
      "text/plain": [
       "                                         Removed_Cols  \\\n",
       "36  [DirecaoDoVento, VelocidadeDoVento, Temperatur...   \n",
       "37  [DirecaoDoVento, VelocidadeDoVento, Temperatur...   \n",
       "38  [DirecaoDoVento, VelocidadeDoVento, Temperatur...   \n",
       "39  [DirecaoDoVento, VelocidadeDoVento, Temperatur...   \n",
       "40  [DirecaoDoVento, VelocidadeDoVento, Temperatur...   \n",
       "41  [DirecaoDoVento, VelocidadeDoVento, Temperatur...   \n",
       "42  [DirecaoDoVento, VelocidadeDoVento, Temperatur...   \n",
       "43  [DirecaoDoVento, VelocidadeDoVento, Temperatur...   \n",
       "44  [DirecaoDoVento, VelocidadeDoVento, Temperatur...   \n",
       "45  [DirecaoDoVento, VelocidadeDoVento, Temperatur...   \n",
       "46  [DirecaoDoVento, VelocidadeDoVento, Temperatur...   \n",
       "47  [DirecaoDoVento, VelocidadeDoVento, Temperatur...   \n",
       "48  [DirecaoDoVento, VelocidadeDoVento, Temperatur...   \n",
       "49  [DirecaoDoVento, VelocidadeDoVento, Temperatur...   \n",
       "50  [DirecaoDoVento, VelocidadeDoVento, Temperatur...   \n",
       "51  [DirecaoDoVento, VelocidadeDoVento, Temperatur...   \n",
       "52  [DirecaoDoVento, VelocidadeDoVento, Temperatur...   \n",
       "53  [DirecaoDoVento, VelocidadeDoVento, Temperatur...   \n",
       "54  [DirecaoDoVento, VelocidadeDoVento, Temperatur...   \n",
       "55  [DirecaoDoVento, VelocidadeDoVento, Temperatur...   \n",
       "56  [DirecaoDoVento, VelocidadeDoVento, Temperatur...   \n",
       "57  [DirecaoDoVento, VelocidadeDoVento, Temperatur...   \n",
       "58  [DirecaoDoVento, VelocidadeDoVento, Temperatur...   \n",
       "59  [DirecaoDoVento, VelocidadeDoVento, Temperatur...   \n",
       "60  [DirecaoDoVento, VelocidadeDoVento, Temperatur...   \n",
       "61  [DirecaoDoVento, VelocidadeDoVento, Temperatur...   \n",
       "62  [DirecaoDoVento, VelocidadeDoVento, Temperatur...   \n",
       "63  [DirecaoDoVento, VelocidadeDoVento, Temperatur...   \n",
       "64  [DirecaoDoVento, VelocidadeDoVento, Temperatur...   \n",
       "65  [DirecaoDoVento, VelocidadeDoVento, Temperatur...   \n",
       "\n",
       "                                       Remaining_Cols Local  Train_Acc  \\\n",
       "36  [Local, TemperaturaDoAr, Precipitacao, Prec24h...     0   0.988332   \n",
       "37  [Local, TemperaturaDoAr, Precipitacao, Prec24h...     1   0.987435   \n",
       "38  [Local, TemperaturaDoAr, Precipitacao, Prec24h...     2   0.990866   \n",
       "39  [Local, TemperaturaDoAr, Precipitacao, Prec24h...     3   0.988457   \n",
       "40  [Local, TemperaturaDoAr, Precipitacao, Prec24h...     4   0.989178   \n",
       "41  [Local, TemperaturaDoAr, Precipitacao, Prec24h...     5   0.990919   \n",
       "42                [Local, Precipitacao, Prec24h, Mes]     0   0.956281   \n",
       "43                [Local, Precipitacao, Prec24h, Mes]     1   0.954656   \n",
       "44                [Local, Precipitacao, Prec24h, Mes]     2   0.966595   \n",
       "45                [Local, Precipitacao, Prec24h, Mes]     3   0.953173   \n",
       "46                [Local, Precipitacao, Prec24h, Mes]     4   0.962806   \n",
       "47                [Local, Precipitacao, Prec24h, Mes]     5   0.951157   \n",
       "48                       [Precipitacao, Prec24h, Mes]     0   0.937949   \n",
       "49                       [Precipitacao, Prec24h, Mes]     1   0.954656   \n",
       "50                       [Precipitacao, Prec24h, Mes]     2   0.966595   \n",
       "51                       [Precipitacao, Prec24h, Mes]     3   0.953173   \n",
       "52                       [Precipitacao, Prec24h, Mes]     4   0.962806   \n",
       "53                       [Precipitacao, Prec24h, Mes]     5   0.951157   \n",
       "54                [Local, Precipitacao, Prec24h, Mes]     0   0.956281   \n",
       "55                [Local, Precipitacao, Prec24h, Mes]     1   0.954656   \n",
       "56                [Local, Precipitacao, Prec24h, Mes]     2   0.966595   \n",
       "57                [Local, Precipitacao, Prec24h, Mes]     3   0.953173   \n",
       "58                [Local, Precipitacao, Prec24h, Mes]     4   0.962806   \n",
       "59                [Local, Precipitacao, Prec24h, Mes]     5   0.951157   \n",
       "60                              [Local, Prec24h, Mes]     0   0.947717   \n",
       "61                              [Local, Prec24h, Mes]     1   0.945631   \n",
       "62                              [Local, Prec24h, Mes]     2   0.959061   \n",
       "63                              [Local, Prec24h, Mes]     3   0.945239   \n",
       "64                              [Local, Prec24h, Mes]     4   0.955319   \n",
       "65                              [Local, Prec24h, Mes]     5   0.940953   \n",
       "\n",
       "    Test_Acc  Precision    Recall        F1   Ver_Pos  \n",
       "36  0.964356   0.296684  0.639022  0.405229  0.639022  \n",
       "37  0.960421   0.297787  0.633833  0.405202  0.633833  \n",
       "38  0.970031   0.323925  0.608586  0.422807  0.608586  \n",
       "39  0.963381   0.275978  0.612903  0.380586  0.612903  \n",
       "40  0.965066   0.302353  0.596288  0.401249  0.596288  \n",
       "41  0.965385   0.270136  0.560411  0.364548  0.560411  \n",
       "42  0.953042   0.238363  0.670182  0.351654  0.670182  \n",
       "43  0.943615   0.218408  0.640257  0.325708  0.640257  \n",
       "44  0.956595   0.242844  0.664141  0.355646  0.664141  \n",
       "45  0.951175   0.219144  0.647643  0.327478  0.647643  \n",
       "46  0.954272   0.239308  0.610209  0.343791  0.610209  \n",
       "47  0.952541   0.216334  0.640103  0.323377  0.640103  \n",
       "48  0.940025   0.188418  0.651965  0.292347  0.651965  \n",
       "49  0.943615   0.218408  0.640257  0.325708  0.640257  \n",
       "50  0.956595   0.242844  0.664141  0.355646  0.664141  \n",
       "51  0.951175   0.219144  0.647643  0.327478  0.647643  \n",
       "52  0.954272   0.239308  0.610209  0.343791  0.610209  \n",
       "53  0.952541   0.216334  0.640103  0.323377  0.640103  \n",
       "54  0.953042   0.238363  0.670182  0.351654  0.670182  \n",
       "55  0.943615   0.218408  0.640257  0.325708  0.640257  \n",
       "56  0.956595   0.242844  0.664141  0.355646  0.664141  \n",
       "57  0.951175   0.219144  0.647643  0.327478  0.647643  \n",
       "58  0.954272   0.239308  0.610209  0.343791  0.610209  \n",
       "59  0.952541   0.216334  0.640103  0.323377  0.640103  \n",
       "60  0.937611   0.186438  0.678811  0.292532  0.678811  \n",
       "61  0.925852   0.171849  0.650964  0.271914  0.650964  \n",
       "62  0.944480   0.196310  0.671717  0.303826  0.671717  \n",
       "63  0.940654   0.183544  0.647643  0.286027  0.647643  \n",
       "64  0.946803   0.215004  0.645012  0.322506  0.645012  \n",
       "65  0.938058   0.172623  0.658098  0.273504  0.658098  "
      ]
     },
     "metadata": {},
     "output_type": "display_data"
    }
   ],
   "source": [
    "# pd.DataFrame(\n",
    "#     columns = ['Case', 'Local', 'Train_Acc', 'Test_Acc', 'Precision', 'Recall', 'F1', 'Ver_Pos']\n",
    "# ).append({\n",
    "#     'Case': case,\n",
    "#     'Local': l,\n",
    "#     'Train_Acc': accuracy_score(y_treino, y_treino_pred),\n",
    "#     'Test_Acc': accuracy_score(y_teste, y_teste_pred),\n",
    "#     'Precision': precision_score(y_teste, y_teste_pred),\n",
    "#     'Recall': recall_score(y_teste, y_teste_pred),\n",
    "#     'F1': f1_score(y_teste, y_teste_pred),\n",
    "#     'Ver_Pos': confusion_matrix(y_teste, y_teste_pred, normalize='true')[1,1]\n",
    "# }, ignore_index=True)\n",
    "#{'Camilopolis': 1, 'Erasmo': 2, 'Paraiso': 3, 'RM': 4, 'Vitoria': 5}\n",
    "display(df_training_result.tail(30))\n",
    "#df_training_result.to_csv('training_test.csv', sep=';')"
   ]
  },
  {
   "cell_type": "code",
   "execution_count": 20,
   "metadata": {},
   "outputs": [
    {
     "data": {
      "text/html": [
       "<div>\n",
       "<style scoped>\n",
       "    .dataframe tbody tr th:only-of-type {\n",
       "        vertical-align: middle;\n",
       "    }\n",
       "\n",
       "    .dataframe tbody tr th {\n",
       "        vertical-align: top;\n",
       "    }\n",
       "\n",
       "    .dataframe thead th {\n",
       "        text-align: right;\n",
       "    }\n",
       "</style>\n",
       "<table border=\"1\" class=\"dataframe\">\n",
       "  <thead>\n",
       "    <tr style=\"text-align: right;\">\n",
       "      <th></th>\n",
       "      <th>Data_Hora</th>\n",
       "      <th>Local</th>\n",
       "      <th>UmidadeRelativa</th>\n",
       "      <th>PressaoAtmosferica</th>\n",
       "      <th>TemperaturaDoAr</th>\n",
       "      <th>TemperaturaInterna</th>\n",
       "      <th>PontoDeOrvalho</th>\n",
       "      <th>RadiacaoSolar</th>\n",
       "      <th>DirecaoDoVento</th>\n",
       "      <th>VelocidadeDoVento</th>\n",
       "      <th>Precipitacao</th>\n",
       "      <th>LocalMax</th>\n",
       "      <th>PrecSum</th>\n",
       "    </tr>\n",
       "  </thead>\n",
       "  <tbody>\n",
       "    <tr>\n",
       "      <th>0</th>\n",
       "      <td>2011-01-01 00:00:00</td>\n",
       "      <td>1</td>\n",
       "      <td>84.8</td>\n",
       "      <td>920.6</td>\n",
       "      <td>20.2</td>\n",
       "      <td>22.8</td>\n",
       "      <td>17.5</td>\n",
       "      <td>0.0</td>\n",
       "      <td>137.0</td>\n",
       "      <td>1.5</td>\n",
       "      <td>0.0</td>\n",
       "      <td>0.0</td>\n",
       "      <td>0.6</td>\n",
       "    </tr>\n",
       "    <tr>\n",
       "      <th>1</th>\n",
       "      <td>2011-01-01 00:15:00</td>\n",
       "      <td>1</td>\n",
       "      <td>84.1</td>\n",
       "      <td>920.3</td>\n",
       "      <td>20.1</td>\n",
       "      <td>22.8</td>\n",
       "      <td>17.4</td>\n",
       "      <td>0.0</td>\n",
       "      <td>76.0</td>\n",
       "      <td>1.9</td>\n",
       "      <td>0.0</td>\n",
       "      <td>0.0</td>\n",
       "      <td>0.6</td>\n",
       "    </tr>\n",
       "    <tr>\n",
       "      <th>2</th>\n",
       "      <td>2011-01-01 00:30:00</td>\n",
       "      <td>1</td>\n",
       "      <td>83.9</td>\n",
       "      <td>920.2</td>\n",
       "      <td>20.1</td>\n",
       "      <td>22.9</td>\n",
       "      <td>17.2</td>\n",
       "      <td>0.0</td>\n",
       "      <td>92.0</td>\n",
       "      <td>2.9</td>\n",
       "      <td>0.0</td>\n",
       "      <td>0.0</td>\n",
       "      <td>0.6</td>\n",
       "    </tr>\n",
       "    <tr>\n",
       "      <th>3</th>\n",
       "      <td>2011-01-01 00:45:00</td>\n",
       "      <td>1</td>\n",
       "      <td>83.5</td>\n",
       "      <td>919.9</td>\n",
       "      <td>20.2</td>\n",
       "      <td>22.9</td>\n",
       "      <td>17.3</td>\n",
       "      <td>0.0</td>\n",
       "      <td>133.0</td>\n",
       "      <td>1.4</td>\n",
       "      <td>0.0</td>\n",
       "      <td>0.0</td>\n",
       "      <td>0.6</td>\n",
       "    </tr>\n",
       "    <tr>\n",
       "      <th>4</th>\n",
       "      <td>2011-01-01 01:00:00</td>\n",
       "      <td>1</td>\n",
       "      <td>84.0</td>\n",
       "      <td>919.9</td>\n",
       "      <td>20.1</td>\n",
       "      <td>22.8</td>\n",
       "      <td>17.3</td>\n",
       "      <td>0.0</td>\n",
       "      <td>151.0</td>\n",
       "      <td>1.8</td>\n",
       "      <td>0.0</td>\n",
       "      <td>0.0</td>\n",
       "      <td>0.6</td>\n",
       "    </tr>\n",
       "    <tr>\n",
       "      <th>...</th>\n",
       "      <td>...</td>\n",
       "      <td>...</td>\n",
       "      <td>...</td>\n",
       "      <td>...</td>\n",
       "      <td>...</td>\n",
       "      <td>...</td>\n",
       "      <td>...</td>\n",
       "      <td>...</td>\n",
       "      <td>...</td>\n",
       "      <td>...</td>\n",
       "      <td>...</td>\n",
       "      <td>...</td>\n",
       "      <td>...</td>\n",
       "    </tr>\n",
       "    <tr>\n",
       "      <th>1463565</th>\n",
       "      <td>2019-06-30 22:45:00</td>\n",
       "      <td>5</td>\n",
       "      <td>32.6</td>\n",
       "      <td>925.9</td>\n",
       "      <td>21.7</td>\n",
       "      <td>27.9</td>\n",
       "      <td>5.2</td>\n",
       "      <td>0.0</td>\n",
       "      <td>0.0</td>\n",
       "      <td>0.0</td>\n",
       "      <td>0.0</td>\n",
       "      <td>0.0</td>\n",
       "      <td>0.0</td>\n",
       "    </tr>\n",
       "    <tr>\n",
       "      <th>1463566</th>\n",
       "      <td>2019-06-30 23:00:00</td>\n",
       "      <td>5</td>\n",
       "      <td>34.2</td>\n",
       "      <td>925.9</td>\n",
       "      <td>21.3</td>\n",
       "      <td>27.9</td>\n",
       "      <td>5.5</td>\n",
       "      <td>0.0</td>\n",
       "      <td>0.0</td>\n",
       "      <td>0.0</td>\n",
       "      <td>0.0</td>\n",
       "      <td>0.0</td>\n",
       "      <td>0.0</td>\n",
       "    </tr>\n",
       "    <tr>\n",
       "      <th>1463567</th>\n",
       "      <td>2019-06-30 23:15:00</td>\n",
       "      <td>5</td>\n",
       "      <td>35.2</td>\n",
       "      <td>925.9</td>\n",
       "      <td>21.0</td>\n",
       "      <td>27.7</td>\n",
       "      <td>5.6</td>\n",
       "      <td>0.0</td>\n",
       "      <td>0.0</td>\n",
       "      <td>0.0</td>\n",
       "      <td>0.0</td>\n",
       "      <td>0.0</td>\n",
       "      <td>0.0</td>\n",
       "    </tr>\n",
       "    <tr>\n",
       "      <th>1463568</th>\n",
       "      <td>2019-06-30 23:30:00</td>\n",
       "      <td>5</td>\n",
       "      <td>36.1</td>\n",
       "      <td>925.8</td>\n",
       "      <td>20.8</td>\n",
       "      <td>27.6</td>\n",
       "      <td>5.9</td>\n",
       "      <td>0.0</td>\n",
       "      <td>0.0</td>\n",
       "      <td>0.0</td>\n",
       "      <td>0.0</td>\n",
       "      <td>0.0</td>\n",
       "      <td>0.0</td>\n",
       "    </tr>\n",
       "    <tr>\n",
       "      <th>1463569</th>\n",
       "      <td>2019-06-30 23:45:00</td>\n",
       "      <td>5</td>\n",
       "      <td>38.4</td>\n",
       "      <td>925.8</td>\n",
       "      <td>20.3</td>\n",
       "      <td>27.5</td>\n",
       "      <td>6.3</td>\n",
       "      <td>0.0</td>\n",
       "      <td>0.0</td>\n",
       "      <td>0.0</td>\n",
       "      <td>0.0</td>\n",
       "      <td>0.0</td>\n",
       "      <td>0.0</td>\n",
       "    </tr>\n",
       "  </tbody>\n",
       "</table>\n",
       "<p>1463570 rows × 13 columns</p>\n",
       "</div>"
      ],
      "text/plain": [
       "                  Data_Hora  Local  UmidadeRelativa  PressaoAtmosferica  \\\n",
       "0       2011-01-01 00:00:00      1             84.8               920.6   \n",
       "1       2011-01-01 00:15:00      1             84.1               920.3   \n",
       "2       2011-01-01 00:30:00      1             83.9               920.2   \n",
       "3       2011-01-01 00:45:00      1             83.5               919.9   \n",
       "4       2011-01-01 01:00:00      1             84.0               919.9   \n",
       "...                     ...    ...              ...                 ...   \n",
       "1463565 2019-06-30 22:45:00      5             32.6               925.9   \n",
       "1463566 2019-06-30 23:00:00      5             34.2               925.9   \n",
       "1463567 2019-06-30 23:15:00      5             35.2               925.9   \n",
       "1463568 2019-06-30 23:30:00      5             36.1               925.8   \n",
       "1463569 2019-06-30 23:45:00      5             38.4               925.8   \n",
       "\n",
       "         TemperaturaDoAr  TemperaturaInterna  PontoDeOrvalho  RadiacaoSolar  \\\n",
       "0                   20.2                22.8            17.5            0.0   \n",
       "1                   20.1                22.8            17.4            0.0   \n",
       "2                   20.1                22.9            17.2            0.0   \n",
       "3                   20.2                22.9            17.3            0.0   \n",
       "4                   20.1                22.8            17.3            0.0   \n",
       "...                  ...                 ...             ...            ...   \n",
       "1463565             21.7                27.9             5.2            0.0   \n",
       "1463566             21.3                27.9             5.5            0.0   \n",
       "1463567             21.0                27.7             5.6            0.0   \n",
       "1463568             20.8                27.6             5.9            0.0   \n",
       "1463569             20.3                27.5             6.3            0.0   \n",
       "\n",
       "         DirecaoDoVento  VelocidadeDoVento  Precipitacao  LocalMax  PrecSum  \n",
       "0                 137.0                1.5           0.0       0.0      0.6  \n",
       "1                  76.0                1.9           0.0       0.0      0.6  \n",
       "2                  92.0                2.9           0.0       0.0      0.6  \n",
       "3                 133.0                1.4           0.0       0.0      0.6  \n",
       "4                 151.0                1.8           0.0       0.0      0.6  \n",
       "...                 ...                ...           ...       ...      ...  \n",
       "1463565             0.0                0.0           0.0       0.0      0.0  \n",
       "1463566             0.0                0.0           0.0       0.0      0.0  \n",
       "1463567             0.0                0.0           0.0       0.0      0.0  \n",
       "1463568             0.0                0.0           0.0       0.0      0.0  \n",
       "1463569             0.0                0.0           0.0       0.0      0.0  \n",
       "\n",
       "[1463570 rows x 13 columns]"
      ]
     },
     "execution_count": 20,
     "metadata": {},
     "output_type": "execute_result"
    }
   ],
   "source": [
    "df_slice.drop(columns=['Data', 'Hora'])#.to_csv('dados_treinamento_15min.csv')\n",
    "# [['Local', 'UmidadeRelativa', 'PressaoAtmosferica', 'TemperaturaDoAr', 'TemperaturaInterna',\n",
    "#           'PontoDeOrvalho', 'RadiacaoSolar', 'DirecaoDoVento', 'VelocidadeDoVento', 'Precipitacao'\n",
    "#           'PrecSum', 'LocalMax']]"
   ]
  }
 ],
 "metadata": {
  "kernelspec": {
   "display_name": "Python 3.8.5 64-bit",
   "language": "python",
   "name": "python38564bit983d40b0eb64453e8ad463eee52a7b5b"
  },
  "language_info": {
   "codemirror_mode": {
    "name": "ipython",
    "version": 3
   },
   "file_extension": ".py",
   "mimetype": "text/x-python",
   "name": "python",
   "nbconvert_exporter": "python",
   "pygments_lexer": "ipython3",
   "version": "3.8.5"
  }
 },
 "nbformat": 4,
 "nbformat_minor": 4
}
