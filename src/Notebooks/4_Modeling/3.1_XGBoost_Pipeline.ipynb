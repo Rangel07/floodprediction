{
 "cells": [
  {
   "cell_type": "markdown",
   "metadata": {},
   "source": [
    "# Inicialização"
   ]
  },
  {
   "cell_type": "code",
   "execution_count": 2,
   "metadata": {},
   "outputs": [],
   "source": [
    "import pandas as pd\n",
    "import numpy as np\n",
    "from sklearn.cluster import KMeans\n",
    "from sklearn.preprocessing import MinMaxScaler\n",
    "import matplotlib.pyplot as plt\n",
    "\n",
    "from plotly import graph_objects as go\n",
    "import plotly as py\n",
    "\n",
    "from datetime import datetime\n",
    "from datetime import timedelta\n",
    "\n",
    "import xgboost\n",
    "from sklearn.model_selection import train_test_split\n",
    "from sklearn.metrics import plot_confusion_matrix, accuracy_score, f1_score, confusion_matrix, recall_score, precision_score\n",
    "\n",
    "from sklearn.utils import resample"
   ]
  },
  {
   "cell_type": "markdown",
   "metadata": {},
   "source": [
    "# Funções"
   ]
  },
  {
   "cell_type": "code",
   "execution_count": 3,
   "metadata": {},
   "outputs": [],
   "source": [
    "def upsampleData(X, label):\n",
    "    # Separar verdadeiro e falso\n",
    "    false_label = X[X[label]==0].copy()\n",
    "    true_label = X[X[label]==1].copy()\n",
    "    \n",
    "    # Realizar upsample para os valores verdadeiros\n",
    "    label_upsampled = resample(true_label,\n",
    "                            replace=True, # sample with replacement\n",
    "                            n_samples=len(false_label), # match number in majority class\n",
    "                            random_state=378) # reproducible results\n",
    "    upsampled = pd.concat([false_label, label_upsampled])\n",
    "    \n",
    "    # Separar x e y\n",
    "    x = upsampled[[c for c in X.columns if label not in c]]\n",
    "    y = upsampled[label]\n",
    "    \n",
    "    return x, y"
   ]
  },
  {
   "cell_type": "code",
   "execution_count": 4,
   "metadata": {},
   "outputs": [],
   "source": [
    "def trainXGB(df, cols_rem, label, verbose=True):\n",
    "    xgb = xgboost.XGBClassifier()\n",
    "\n",
    "    # Separar x e y e remover colunas desnecessárias\n",
    "    x = df[[c for c in df.columns if c not in cols_rem]]\n",
    "    y = df[label]\n",
    "    \n",
    "    # Separar dados de treinamento e teste\n",
    "    x_treino, x_teste, y_treino, y_teste = train_test_split(x, y, test_size=0.3, random_state = 378, stratify=y)\n",
    "    \n",
    "    # Upsample\n",
    "    X = pd.concat([x_treino, y_treino], axis=1)\n",
    "    x_treino, y_treino = upsampleData(X, label)\n",
    "\n",
    "    # Parâmetros do XGBClassifier\n",
    "    param = {'max_depth':50, 'eta':1, 'objective':'binary:logistic', 'min_child_weight': 1, 'lambda': 1, 'alpha': 0, 'gamma': 0}\n",
    "\n",
    "    # Gerar DMatrix com dados de treinamento e teste\n",
    "    df_train = xgboost.DMatrix(data=x_treino, label=y_treino)\n",
    "    df_test = xgboost.DMatrix(data=x_teste, label=y_teste)\n",
    "\n",
    "    # Treinar modelo e predizer em cima dos dados de treinamento e teste\n",
    "    bst = xgboost.train(param, df_train, 2, feval=f1_score)\n",
    "    y_teste_pred = bst.predict(xgboost.DMatrix(data=x_teste, label=y_teste))\n",
    "    y_teste_pred = [1 if i>0.5 else 0 for i in y_teste_pred]\n",
    "    y_treino_pred = bst.predict(xgboost.DMatrix(data=x_treino, label=y_treino))\n",
    "    y_treino_pred = [1 if i>0.5 else 0 for i in y_treino_pred]\n",
    "    \n",
    "    # Mostrar resultados se verbose é verdadeiro\n",
    "    if verbose:\n",
    "        print(f\"Treino: {accuracy_score(y_treino, y_treino_pred)}\")\n",
    "        print(f\"Teste: {accuracy_score(y_teste, y_teste_pred)}\")\n",
    "        print(f\"Precisão: {precision_score(y_teste, y_teste_pred)}\")\n",
    "        print(f\"Recall: {recall_score(y_teste, y_teste_pred)}\")\n",
    "        print(f\"F1: {f1_score(y_teste, y_teste_pred)}\")\n",
    "        display(confusion_matrix(y_teste, y_teste_pred, normalize='true'))\n",
    "        display(confusion_matrix(y_teste, y_teste_pred,))\n",
    "        \n",
    "    # Salvar resultados em um dict\n",
    "    results = {\n",
    "        'Features': list(x.columns),\n",
    "        'Train_Acc': accuracy_score(y_treino, y_treino_pred),\n",
    "        'Test_Acc': accuracy_score(y_teste, y_teste_pred),\n",
    "        'Precision': precision_score(y_teste, y_teste_pred),\n",
    "        'Recall': recall_score(y_teste, y_teste_pred),\n",
    "        'F1': f1_score(y_teste, y_teste_pred),\n",
    "        'Ver_Pos': confusion_matrix(y_teste, y_teste_pred, normalize='true')[1,1]\n",
    "    }\n",
    "    \n",
    "    return bst, results, y_treino_pred, y_teste_pred"
   ]
  },
  {
   "cell_type": "markdown",
   "metadata": {},
   "source": [
    "# Carregar dados e gerar modelo"
   ]
  },
  {
   "cell_type": "code",
   "execution_count": 8,
   "metadata": {},
   "outputs": [
    {
     "data": {
      "text/html": [
       "<div>\n",
       "<style scoped>\n",
       "    .dataframe tbody tr th:only-of-type {\n",
       "        vertical-align: middle;\n",
       "    }\n",
       "\n",
       "    .dataframe tbody tr th {\n",
       "        vertical-align: top;\n",
       "    }\n",
       "\n",
       "    .dataframe thead th {\n",
       "        text-align: right;\n",
       "    }\n",
       "</style>\n",
       "<table border=\"1\" class=\"dataframe\">\n",
       "  <thead>\n",
       "    <tr style=\"text-align: right;\">\n",
       "      <th></th>\n",
       "      <th>Data_Hora</th>\n",
       "      <th>Mes</th>\n",
       "      <th>Dia</th>\n",
       "      <th>Local</th>\n",
       "      <th>Precipitacao</th>\n",
       "      <th>PrecSum</th>\n",
       "    </tr>\n",
       "    <tr>\n",
       "      <th>Label</th>\n",
       "      <th></th>\n",
       "      <th></th>\n",
       "      <th></th>\n",
       "      <th></th>\n",
       "      <th></th>\n",
       "      <th></th>\n",
       "    </tr>\n",
       "  </thead>\n",
       "  <tbody>\n",
       "    <tr>\n",
       "      <th>0.0</th>\n",
       "      <td>376037</td>\n",
       "      <td>376037</td>\n",
       "      <td>376037</td>\n",
       "      <td>376037</td>\n",
       "      <td>376037</td>\n",
       "      <td>376037</td>\n",
       "    </tr>\n",
       "    <tr>\n",
       "      <th>1.0</th>\n",
       "      <td>7368</td>\n",
       "      <td>7368</td>\n",
       "      <td>7368</td>\n",
       "      <td>7368</td>\n",
       "      <td>7368</td>\n",
       "      <td>7368</td>\n",
       "    </tr>\n",
       "  </tbody>\n",
       "</table>\n",
       "</div>"
      ],
      "text/plain": [
       "       Data_Hora     Mes     Dia   Local  Precipitacao  PrecSum\n",
       "Label                                                          \n",
       "0.0       376037  376037  376037  376037        376037   376037\n",
       "1.0         7368    7368    7368    7368          7368     7368"
      ]
     },
     "execution_count": 8,
     "metadata": {},
     "output_type": "execute_result"
    }
   ],
   "source": [
    "df = pd.read_csv('../../../data/cleandata/Info pluviometricas/Merged Data/prepped_data.csv', sep=';')\n",
    "df['Data_Hora'] = pd.to_datetime(df['Data_Hora'], yearfirst=True)\n",
    "df.groupby('Label').count()"
   ]
  },
  {
   "cell_type": "code",
   "execution_count": 9,
   "metadata": {},
   "outputs": [],
   "source": [
    "df = df.sort_values(['Data_Hora', 'Local'])"
   ]
  },
  {
   "cell_type": "code",
   "execution_count": 10,
   "metadata": {},
   "outputs": [],
   "source": [
    "label = 'Label'\n",
    "cols_rem = ['LocalMax', 'Label', 'Label_Old', 'Cluster', 'Data', 'Hora', 'Data_Hora', 'Ordens', 'Minuto'] + [c for c in df.columns if 'Hora_' in c]"
   ]
  },
  {
   "cell_type": "code",
   "execution_count": 11,
   "metadata": {},
   "outputs": [
    {
     "name": "stdout",
     "output_type": "stream",
     "text": [
      "Treino: 0.9998670339063539\n",
      "Teste: 0.999626158474031\n",
      "Precisão: 0.9813416259440249\n",
      "Recall: 0.9995475113122172\n",
      "F1: 0.9903609056265411\n"
     ]
    },
    {
     "data": {
      "text/plain": [
       "array([[9.99627699e-01, 3.72300819e-04],\n",
       "       [4.52488688e-04, 9.99547511e-01]])"
      ]
     },
     "metadata": {},
     "output_type": "display_data"
    },
    {
     "data": {
      "text/plain": [
       "array([[112770,     42],\n",
       "       [     1,   2209]], dtype=int64)"
      ]
     },
     "metadata": {},
     "output_type": "display_data"
    }
   ],
   "source": [
    "model, training_res, y_train_pred, y_test_pred = trainXGB(df, cols_rem, label)"
   ]
  },
  {
   "cell_type": "markdown",
   "metadata": {},
   "source": [
    "## Obter precipitação até aquele momento do dia"
   ]
  },
  {
   "cell_type": "code",
   "execution_count": 12,
   "metadata": {},
   "outputs": [],
   "source": [
    "df_m = df[df['Label'] == 1].copy()\n",
    "df_m['Data'] = df_m['Data_Hora'].dt.strftime(\"%Y-%m-%d\")\n",
    "\n",
    "def getPrecMomento(row):\n",
    "    prec_momento = df_m.loc[(df_m['Data_Hora'] <= row['Data_Hora']) & (df_m['Local'] == row['Local']) & (df_m['Data'] == row['Data']), 'Precipitacao'].sum()\n",
    "    return prec_momento\n",
    "\n",
    "df_m['PrecMomento'] = df_m.apply(getPrecMomento, axis=1)\n",
    "\n",
    "df_m = df_m.rename(columns = {'PrecSum': 'PrecSumOld', 'PrecMomento': 'PrecSum'})"
   ]
  },
  {
   "cell_type": "markdown",
   "metadata": {},
   "source": [
    "## Prever com acumulo do dia"
   ]
  },
  {
   "cell_type": "code",
   "execution_count": 15,
   "metadata": {},
   "outputs": [],
   "source": [
    "label_pred = model.predict(xgboost.DMatrix(data=df_m[training_res['Features']]))\n",
    "df_m['Label_Pred'] = [1 if i>0.5 else 0 for i in label_pred]"
   ]
  },
  {
   "cell_type": "code",
   "execution_count": 16,
   "metadata": {},
   "outputs": [
    {
     "data": {
      "text/plain": [
       "816       0\n",
       "744       0\n",
       "817       0\n",
       "745       0\n",
       "818       0\n",
       "         ..\n",
       "372743    1\n",
       "372767    1\n",
       "372791    1\n",
       "372839    1\n",
       "372815    1\n",
       "Name: Label_Pred, Length: 7368, dtype: int64"
      ]
     },
     "execution_count": 16,
     "metadata": {},
     "output_type": "execute_result"
    }
   ],
   "source": [
    "df_m['Label_Pred']"
   ]
  },
  {
   "cell_type": "code",
   "execution_count": 17,
   "metadata": {},
   "outputs": [
    {
     "name": "stdout",
     "output_type": "stream",
     "text": [
      "(307, 8)\n",
      "(307, 8)\n"
     ]
    }
   ],
   "source": [
    "df_g = df_m.groupby(['Data', 'Local']).max()\n",
    "print(df_g[df_g['Label'] == df_g['Label_Pred']].shape)\n",
    "print(df_g.shape)"
   ]
  },
  {
   "cell_type": "code",
   "execution_count": 18,
   "metadata": {},
   "outputs": [
    {
     "data": {
      "text/plain": [
       "Index(['Data_Hora', 'Mes', 'Dia', 'Local', 'Precipitacao', 'PrecSumOld',\n",
       "       'Label', 'Data', 'PrecSum', 'Label_Pred'],\n",
       "      dtype='object')"
      ]
     },
     "execution_count": 18,
     "metadata": {},
     "output_type": "execute_result"
    }
   ],
   "source": [
    "df_m.columns"
   ]
  },
  {
   "cell_type": "code",
   "execution_count": 19,
   "metadata": {},
   "outputs": [],
   "source": [
    "df_g = df_m.groupby(['Data', 'Local', 'Label_Pred']).min().reset_index()\n",
    "#df_g[df_g['Label_Pred'] == 1]\n",
    "\n",
    "df_g = df_g.loc[df_g['Label_Pred'] == 1, ['Data', 'Local', 'Data_Hora']].rename(columns={'Data_Hora':'Min_Hora'})\n",
    "df_g['Min_Hora'] = df_g['Min_Hora'].dt.hour"
   ]
  },
  {
   "cell_type": "code",
   "execution_count": 20,
   "metadata": {},
   "outputs": [
    {
     "data": {
      "text/html": [
       "<div>\n",
       "<style scoped>\n",
       "    .dataframe tbody tr th:only-of-type {\n",
       "        vertical-align: middle;\n",
       "    }\n",
       "\n",
       "    .dataframe tbody tr th {\n",
       "        vertical-align: top;\n",
       "    }\n",
       "\n",
       "    .dataframe thead th {\n",
       "        text-align: right;\n",
       "    }\n",
       "</style>\n",
       "<table border=\"1\" class=\"dataframe\">\n",
       "  <thead>\n",
       "    <tr style=\"text-align: right;\">\n",
       "      <th></th>\n",
       "      <th>Data</th>\n",
       "      <th>Local</th>\n",
       "      <th>Min_Hora</th>\n",
       "    </tr>\n",
       "  </thead>\n",
       "  <tbody>\n",
       "    <tr>\n",
       "      <th>1</th>\n",
       "      <td>2011-01-07</td>\n",
       "      <td>1</td>\n",
       "      <td>22</td>\n",
       "    </tr>\n",
       "    <tr>\n",
       "      <th>3</th>\n",
       "      <td>2011-01-07</td>\n",
       "      <td>2</td>\n",
       "      <td>18</td>\n",
       "    </tr>\n",
       "    <tr>\n",
       "      <th>5</th>\n",
       "      <td>2011-01-13</td>\n",
       "      <td>1</td>\n",
       "      <td>21</td>\n",
       "    </tr>\n",
       "    <tr>\n",
       "      <th>7</th>\n",
       "      <td>2011-01-13</td>\n",
       "      <td>2</td>\n",
       "      <td>20</td>\n",
       "    </tr>\n",
       "    <tr>\n",
       "      <th>9</th>\n",
       "      <td>2011-01-13</td>\n",
       "      <td>3</td>\n",
       "      <td>20</td>\n",
       "    </tr>\n",
       "    <tr>\n",
       "      <th>...</th>\n",
       "      <td>...</td>\n",
       "      <td>...</td>\n",
       "      <td>...</td>\n",
       "    </tr>\n",
       "    <tr>\n",
       "      <th>602</th>\n",
       "      <td>2019-07-04</td>\n",
       "      <td>1</td>\n",
       "      <td>18</td>\n",
       "    </tr>\n",
       "    <tr>\n",
       "      <th>604</th>\n",
       "      <td>2019-07-04</td>\n",
       "      <td>2</td>\n",
       "      <td>18</td>\n",
       "    </tr>\n",
       "    <tr>\n",
       "      <th>606</th>\n",
       "      <td>2019-07-04</td>\n",
       "      <td>3</td>\n",
       "      <td>18</td>\n",
       "    </tr>\n",
       "    <tr>\n",
       "      <th>608</th>\n",
       "      <td>2019-07-04</td>\n",
       "      <td>4</td>\n",
       "      <td>18</td>\n",
       "    </tr>\n",
       "    <tr>\n",
       "      <th>610</th>\n",
       "      <td>2019-07-04</td>\n",
       "      <td>5</td>\n",
       "      <td>17</td>\n",
       "    </tr>\n",
       "  </tbody>\n",
       "</table>\n",
       "<p>307 rows × 3 columns</p>\n",
       "</div>"
      ],
      "text/plain": [
       "           Data  Local  Min_Hora\n",
       "1    2011-01-07      1        22\n",
       "3    2011-01-07      2        18\n",
       "5    2011-01-13      1        21\n",
       "7    2011-01-13      2        20\n",
       "9    2011-01-13      3        20\n",
       "..          ...    ...       ...\n",
       "602  2019-07-04      1        18\n",
       "604  2019-07-04      2        18\n",
       "606  2019-07-04      3        18\n",
       "608  2019-07-04      4        18\n",
       "610  2019-07-04      5        17\n",
       "\n",
       "[307 rows x 3 columns]"
      ]
     },
     "execution_count": 20,
     "metadata": {},
     "output_type": "execute_result"
    }
   ],
   "source": [
    "df_g"
   ]
  },
  {
   "cell_type": "markdown",
   "metadata": {},
   "source": [
    "# Gerar Label nova"
   ]
  },
  {
   "cell_type": "code",
   "execution_count": 21,
   "metadata": {},
   "outputs": [],
   "source": [
    "df_new = df.copy()\n",
    "df_new['Data'] = df_new['Data_Hora'].dt.strftime('%Y-%m-%d')\n",
    "df_new = df_new.merge(df_g, on=['Local', 'Data'], how='left').fillna(24)"
   ]
  },
  {
   "cell_type": "code",
   "execution_count": 22,
   "metadata": {},
   "outputs": [],
   "source": [
    "df_new['Label_New'] = 0\n",
    "df_new.loc[(df_new['Label'] == 1) & (df_new['Data_Hora'].dt.hour >= df_new['Min_Hora']), 'Label_New'] = 1\n",
    "df_new = df_new.rename(columns = {'Label': 'Label_Old', 'Label_New': 'Label'})"
   ]
  },
  {
   "cell_type": "code",
   "execution_count": 23,
   "metadata": {},
   "outputs": [
    {
     "data": {
      "text/plain": [
       "0    381244\n",
       "1      2161\n",
       "Name: Label, dtype: int64"
      ]
     },
     "execution_count": 23,
     "metadata": {},
     "output_type": "execute_result"
    }
   ],
   "source": [
    "df_new['Label'].value_counts()"
   ]
  },
  {
   "cell_type": "code",
   "execution_count": 24,
   "metadata": {},
   "outputs": [
    {
     "data": {
      "text/html": [
       "<div>\n",
       "<style scoped>\n",
       "    .dataframe tbody tr th:only-of-type {\n",
       "        vertical-align: middle;\n",
       "    }\n",
       "\n",
       "    .dataframe tbody tr th {\n",
       "        vertical-align: top;\n",
       "    }\n",
       "\n",
       "    .dataframe thead th {\n",
       "        text-align: right;\n",
       "    }\n",
       "</style>\n",
       "<table border=\"1\" class=\"dataframe\">\n",
       "  <thead>\n",
       "    <tr style=\"text-align: right;\">\n",
       "      <th></th>\n",
       "      <th>Data_Hora</th>\n",
       "      <th>Local</th>\n",
       "      <th>Label</th>\n",
       "    </tr>\n",
       "  </thead>\n",
       "  <tbody>\n",
       "    <tr>\n",
       "      <th>0</th>\n",
       "      <td>2011-01-01</td>\n",
       "      <td>1</td>\n",
       "      <td>0</td>\n",
       "    </tr>\n",
       "    <tr>\n",
       "      <th>1</th>\n",
       "      <td>2011-01-01</td>\n",
       "      <td>2</td>\n",
       "      <td>0</td>\n",
       "    </tr>\n",
       "    <tr>\n",
       "      <th>2</th>\n",
       "      <td>2011-01-01</td>\n",
       "      <td>3</td>\n",
       "      <td>0</td>\n",
       "    </tr>\n",
       "    <tr>\n",
       "      <th>3</th>\n",
       "      <td>2011-01-01</td>\n",
       "      <td>4</td>\n",
       "      <td>0</td>\n",
       "    </tr>\n",
       "    <tr>\n",
       "      <th>4</th>\n",
       "      <td>2011-01-01</td>\n",
       "      <td>5</td>\n",
       "      <td>0</td>\n",
       "    </tr>\n",
       "    <tr>\n",
       "      <th>...</th>\n",
       "      <td>...</td>\n",
       "      <td>...</td>\n",
       "      <td>...</td>\n",
       "    </tr>\n",
       "    <tr>\n",
       "      <th>383400</th>\n",
       "      <td>2019-10-01</td>\n",
       "      <td>1</td>\n",
       "      <td>0</td>\n",
       "    </tr>\n",
       "    <tr>\n",
       "      <th>383401</th>\n",
       "      <td>2019-10-01</td>\n",
       "      <td>2</td>\n",
       "      <td>0</td>\n",
       "    </tr>\n",
       "    <tr>\n",
       "      <th>383402</th>\n",
       "      <td>2019-10-01</td>\n",
       "      <td>3</td>\n",
       "      <td>0</td>\n",
       "    </tr>\n",
       "    <tr>\n",
       "      <th>383403</th>\n",
       "      <td>2019-10-01</td>\n",
       "      <td>4</td>\n",
       "      <td>0</td>\n",
       "    </tr>\n",
       "    <tr>\n",
       "      <th>383404</th>\n",
       "      <td>2019-10-01</td>\n",
       "      <td>5</td>\n",
       "      <td>0</td>\n",
       "    </tr>\n",
       "  </tbody>\n",
       "</table>\n",
       "<p>383405 rows × 3 columns</p>\n",
       "</div>"
      ],
      "text/plain": [
       "        Data_Hora  Local  Label\n",
       "0      2011-01-01      1      0\n",
       "1      2011-01-01      2      0\n",
       "2      2011-01-01      3      0\n",
       "3      2011-01-01      4      0\n",
       "4      2011-01-01      5      0\n",
       "...           ...    ...    ...\n",
       "383400 2019-10-01      1      0\n",
       "383401 2019-10-01      2      0\n",
       "383402 2019-10-01      3      0\n",
       "383403 2019-10-01      4      0\n",
       "383404 2019-10-01      5      0\n",
       "\n",
       "[383405 rows x 3 columns]"
      ]
     },
     "execution_count": 24,
     "metadata": {},
     "output_type": "execute_result"
    }
   ],
   "source": [
    "df_new[['Data_Hora', 'Local', 'Label']]"
   ]
  },
  {
   "cell_type": "markdown",
   "metadata": {},
   "source": [
    "# Salvar resultados"
   ]
  },
  {
   "cell_type": "code",
   "execution_count": 29,
   "metadata": {},
   "outputs": [],
   "source": [
    "df_new[['Data_Hora', 'Local', 'Label']].to_csv('../../../data/cleandata/Ordens de serviço/labels_predict.csv', sep=';')"
   ]
  },
  {
   "cell_type": "code",
   "execution_count": 30,
   "metadata": {},
   "outputs": [],
   "source": [
    "model.save_model('../../../data/model/Identificacao_0H.json')"
   ]
  },
  {
   "cell_type": "code",
   "execution_count": null,
   "metadata": {},
   "outputs": [],
   "source": []
  },
  {
   "cell_type": "code",
   "execution_count": null,
   "metadata": {},
   "outputs": [],
   "source": []
  },
  {
   "cell_type": "code",
   "execution_count": null,
   "metadata": {},
   "outputs": [],
   "source": []
  }
 ],
 "metadata": {
  "kernelspec": {
   "display_name": "Python 3.8.5 64-bit",
   "language": "python",
   "name": "python38564bit983d40b0eb64453e8ad463eee52a7b5b"
  },
  "language_info": {
   "codemirror_mode": {
    "name": "ipython",
    "version": 3
   },
   "file_extension": ".py",
   "mimetype": "text/x-python",
   "name": "python",
   "nbconvert_exporter": "python",
   "pygments_lexer": "ipython3",
   "version": "3.8.5"
  }
 },
 "nbformat": 4,
 "nbformat_minor": 4
}
