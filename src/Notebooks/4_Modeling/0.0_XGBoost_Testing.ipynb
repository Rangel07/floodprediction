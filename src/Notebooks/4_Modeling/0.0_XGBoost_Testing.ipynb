{
 "metadata": {
  "language_info": {
   "codemirror_mode": {
    "name": "ipython",
    "version": 3
   },
   "file_extension": ".py",
   "mimetype": "text/x-python",
   "name": "python",
   "nbconvert_exporter": "python",
   "pygments_lexer": "ipython3",
   "version": "3.8.5-final"
  },
  "orig_nbformat": 2,
  "kernelspec": {
   "name": "python38564bit983d40b0eb64453e8ad463eee52a7b5b",
   "display_name": "Python 3.8.5 64-bit"
  }
 },
 "nbformat": 4,
 "nbformat_minor": 2,
 "cells": [
  {
   "cell_type": "code",
   "execution_count": 256,
   "metadata": {},
   "outputs": [],
   "source": [
    "import pandas as pd\n",
    "import numpy as np\n",
    "from sklearn.cluster import KMeans\n",
    "from sklearn.preprocessing import MinMaxScaler\n",
    "import matplotlib.pyplot as plt\n",
    "\n",
    "from plotly import graph_objects as go\n",
    "import plotly as py\n",
    "\n",
    "from datetime import datetime\n",
    "from datetime import timedelta\n",
    "\n",
    "import xgboost\n",
    "from sklearn.model_selection import train_test_split\n",
    "from sklearn.metrics import plot_confusion_matrix, accuracy_score, f1_score, confusion_matrix\n",
    "\n",
    "from sklearn.utils import resample"
   ]
  },
  {
   "cell_type": "code",
   "execution_count": 2,
   "metadata": {},
   "outputs": [
    {
     "output_type": "execute_result",
     "data": {
      "text/plain": "      UmidadeRelativa  PressaoAtmosferica  TemperaturaDoAr  \\\n0           65.679216          735.558902        16.414147   \n1           76.017708          734.376875        15.638204   \n2           73.900711          733.959619        16.060072   \n3           73.177223          734.321458        17.005510   \n4           64.092344          736.860417        18.614403   \n...               ...                 ...              ...   \n3065        58.462548          924.237189        20.782350   \n3066        78.492677          928.165211        19.225816   \n3067        66.947345          928.851826        21.216116   \n3068        54.981241          927.484876        21.871250   \n3069        48.805000          926.535625        21.904167   \n\n      TemperaturaInterna  PontoDeOrvalho  RadiacaoSolar  DirecaoDoVento  \\\n0              19.501318       13.894332     116.433333      114.439583   \n1              18.355709       14.988855      40.879167      162.916667   \n2              18.713147       15.064426      59.225559      102.732787   \n3              19.832342       15.797179      82.889583       85.015766   \n4              21.592730       15.512999     161.429167      150.189583   \n...                  ...             ...            ...             ...   \n3065           24.296560       11.613997      86.694988      154.352083   \n3066           23.262681       15.223413      58.906011      125.716667   \n3067           24.902792       14.681483      82.298725       89.068750   \n3068           25.403125       11.656711      92.199144      143.372917   \n3069           25.267058       10.647781      91.857772      189.550000   \n\n      VelocidadeDoVento  Precipitacao  Ordens  Mes  Cluster  \n0              2.144792          1.52       0    1        0  \n1              1.103542        139.12       0    1        1  \n2              1.328760         68.92       0    1        1  \n3              1.597480         62.36       0    1        1  \n4              2.222917         11.96       0    1        0  \n...                 ...           ...     ...  ...      ...  \n3065           8.483779          0.00       0    6        0  \n3066           4.999583          0.32       0    6        0  \n3067           7.688742          0.00       0    6        0  \n3068           6.376733          0.00       0    6        0  \n3069           7.664329          0.00       0    6        0  \n\n[3070 rows x 12 columns]",
      "text/html": "<div>\n<style scoped>\n    .dataframe tbody tr th:only-of-type {\n        vertical-align: middle;\n    }\n\n    .dataframe tbody tr th {\n        vertical-align: top;\n    }\n\n    .dataframe thead th {\n        text-align: right;\n    }\n</style>\n<table border=\"1\" class=\"dataframe\">\n  <thead>\n    <tr style=\"text-align: right;\">\n      <th></th>\n      <th>UmidadeRelativa</th>\n      <th>PressaoAtmosferica</th>\n      <th>TemperaturaDoAr</th>\n      <th>TemperaturaInterna</th>\n      <th>PontoDeOrvalho</th>\n      <th>RadiacaoSolar</th>\n      <th>DirecaoDoVento</th>\n      <th>VelocidadeDoVento</th>\n      <th>Precipitacao</th>\n      <th>Ordens</th>\n      <th>Mes</th>\n      <th>Cluster</th>\n    </tr>\n  </thead>\n  <tbody>\n    <tr>\n      <th>0</th>\n      <td>65.679216</td>\n      <td>735.558902</td>\n      <td>16.414147</td>\n      <td>19.501318</td>\n      <td>13.894332</td>\n      <td>116.433333</td>\n      <td>114.439583</td>\n      <td>2.144792</td>\n      <td>1.52</td>\n      <td>0</td>\n      <td>1</td>\n      <td>0</td>\n    </tr>\n    <tr>\n      <th>1</th>\n      <td>76.017708</td>\n      <td>734.376875</td>\n      <td>15.638204</td>\n      <td>18.355709</td>\n      <td>14.988855</td>\n      <td>40.879167</td>\n      <td>162.916667</td>\n      <td>1.103542</td>\n      <td>139.12</td>\n      <td>0</td>\n      <td>1</td>\n      <td>1</td>\n    </tr>\n    <tr>\n      <th>2</th>\n      <td>73.900711</td>\n      <td>733.959619</td>\n      <td>16.060072</td>\n      <td>18.713147</td>\n      <td>15.064426</td>\n      <td>59.225559</td>\n      <td>102.732787</td>\n      <td>1.328760</td>\n      <td>68.92</td>\n      <td>0</td>\n      <td>1</td>\n      <td>1</td>\n    </tr>\n    <tr>\n      <th>3</th>\n      <td>73.177223</td>\n      <td>734.321458</td>\n      <td>17.005510</td>\n      <td>19.832342</td>\n      <td>15.797179</td>\n      <td>82.889583</td>\n      <td>85.015766</td>\n      <td>1.597480</td>\n      <td>62.36</td>\n      <td>0</td>\n      <td>1</td>\n      <td>1</td>\n    </tr>\n    <tr>\n      <th>4</th>\n      <td>64.092344</td>\n      <td>736.860417</td>\n      <td>18.614403</td>\n      <td>21.592730</td>\n      <td>15.512999</td>\n      <td>161.429167</td>\n      <td>150.189583</td>\n      <td>2.222917</td>\n      <td>11.96</td>\n      <td>0</td>\n      <td>1</td>\n      <td>0</td>\n    </tr>\n    <tr>\n      <th>...</th>\n      <td>...</td>\n      <td>...</td>\n      <td>...</td>\n      <td>...</td>\n      <td>...</td>\n      <td>...</td>\n      <td>...</td>\n      <td>...</td>\n      <td>...</td>\n      <td>...</td>\n      <td>...</td>\n      <td>...</td>\n    </tr>\n    <tr>\n      <th>3065</th>\n      <td>58.462548</td>\n      <td>924.237189</td>\n      <td>20.782350</td>\n      <td>24.296560</td>\n      <td>11.613997</td>\n      <td>86.694988</td>\n      <td>154.352083</td>\n      <td>8.483779</td>\n      <td>0.00</td>\n      <td>0</td>\n      <td>6</td>\n      <td>0</td>\n    </tr>\n    <tr>\n      <th>3066</th>\n      <td>78.492677</td>\n      <td>928.165211</td>\n      <td>19.225816</td>\n      <td>23.262681</td>\n      <td>15.223413</td>\n      <td>58.906011</td>\n      <td>125.716667</td>\n      <td>4.999583</td>\n      <td>0.32</td>\n      <td>0</td>\n      <td>6</td>\n      <td>0</td>\n    </tr>\n    <tr>\n      <th>3067</th>\n      <td>66.947345</td>\n      <td>928.851826</td>\n      <td>21.216116</td>\n      <td>24.902792</td>\n      <td>14.681483</td>\n      <td>82.298725</td>\n      <td>89.068750</td>\n      <td>7.688742</td>\n      <td>0.00</td>\n      <td>0</td>\n      <td>6</td>\n      <td>0</td>\n    </tr>\n    <tr>\n      <th>3068</th>\n      <td>54.981241</td>\n      <td>927.484876</td>\n      <td>21.871250</td>\n      <td>25.403125</td>\n      <td>11.656711</td>\n      <td>92.199144</td>\n      <td>143.372917</td>\n      <td>6.376733</td>\n      <td>0.00</td>\n      <td>0</td>\n      <td>6</td>\n      <td>0</td>\n    </tr>\n    <tr>\n      <th>3069</th>\n      <td>48.805000</td>\n      <td>926.535625</td>\n      <td>21.904167</td>\n      <td>25.267058</td>\n      <td>10.647781</td>\n      <td>91.857772</td>\n      <td>189.550000</td>\n      <td>7.664329</td>\n      <td>0.00</td>\n      <td>0</td>\n      <td>6</td>\n      <td>0</td>\n    </tr>\n  </tbody>\n</table>\n<p>3070 rows × 12 columns</p>\n</div>"
     },
     "metadata": {},
     "execution_count": 2
    }
   ],
   "source": [
    "df_cluster = pd.read_csv('../../../data/cleandata/Info pluviometricas/Merged Data/clustered_data.csv', sep = ';')\n",
    "df_cluster"
   ]
  },
  {
   "cell_type": "code",
   "execution_count": 213,
   "metadata": {},
   "outputs": [],
   "source": [
    "xgb = xgboost.XGBClassifier()\n",
    "\n",
    "cols_rem = ['Ordens', 'Cluster']\n",
    "\n",
    "x = df_cluster[[c for c in df_cluster.columns if c not in cols_rem]]\n",
    "y = df_cluster['Ordens']\n",
    "\n",
    "x_treino, x_teste, y_treino, y_teste = train_test_split(x, y, test_size=0.3, random_state = 378)\n",
    "\n",
    "#xgb.fit(x_treino, y_treino, eval_set = [(x_treino, y_treino), (x_teste, y_teste)], eval_metric=f1_score)\n",
    "param = {'max_depth':10, 'eta':2, 'objective':'binary:logistic', 'min_child_weight': 1, 'lambda': 1, 'alpha': 0, 'gamma': 0}\n",
    "\n",
    "df_train = xgboost.DMatrix(data=x_treino, label=y_treino)\n",
    "\n",
    "bst = xgboost.train(param, df_train, 2, feval=f1_score)\n",
    "y_teste_pred = bst.predict(xgboost.DMatrix(data=x_teste, label=y_teste))\n",
    "y_teste_pred = [1 if i>0.5 else 0 for i in y_teste_pred]\n",
    "y_treino_pred = bst.predict(xgboost.DMatrix(data=x_treino, label=y_treino))\n",
    "y_treino_pred = [1 if i>0.5 else 0 for i in y_treino_pred]"
   ]
  },
  {
   "cell_type": "code",
   "execution_count": 214,
   "metadata": {
    "tags": []
   },
   "outputs": [
    {
     "output_type": "stream",
     "name": "stdout",
     "text": "Treino: 0.8883201489064682\nTeste: 0.8490770901194354\nF1: 0.2871794871794872\n"
    },
    {
     "output_type": "execute_result",
     "data": {
      "text/plain": "array([[0.88290398, 0.11709602],\n       [0.58208955, 0.41791045]])"
     },
     "metadata": {},
     "execution_count": 214
    }
   ],
   "source": [
    "print(f\"Treino: {accuracy_score(y_treino, y_treino_pred)}\")\n",
    "print(f\"Teste: {accuracy_score(y_teste, y_teste_pred)}\")\n",
    "print(f\"F1: {f1_score(y_teste, y_teste_pred)}\")\n",
    "confusion_matrix(y_teste, y_teste_pred, normalize='true')"
   ]
  },
  {
   "cell_type": "code",
   "execution_count": 189,
   "metadata": {},
   "outputs": [
    {
     "output_type": "execute_result",
     "data": {
      "text/plain": "        UmidadeRelativa  PressaoAtmosferica  TemperaturaDoAr  \\\nOrdens                                                         \n0                  2846                2846             2846   \n1                   224                 224              224   \n\n        TemperaturaInterna  PontoDeOrvalho  RadiacaoSolar  DirecaoDoVento  \\\nOrdens                                                                      \n0                     2846            2846           2846            2846   \n1                      224             224            224             224   \n\n        VelocidadeDoVento  Precipitacao   Mes  Cluster  \nOrdens                                                  \n0                    2846          2846  2846     2846  \n1                     224           224   224      224  ",
      "text/html": "<div>\n<style scoped>\n    .dataframe tbody tr th:only-of-type {\n        vertical-align: middle;\n    }\n\n    .dataframe tbody tr th {\n        vertical-align: top;\n    }\n\n    .dataframe thead th {\n        text-align: right;\n    }\n</style>\n<table border=\"1\" class=\"dataframe\">\n  <thead>\n    <tr style=\"text-align: right;\">\n      <th></th>\n      <th>UmidadeRelativa</th>\n      <th>PressaoAtmosferica</th>\n      <th>TemperaturaDoAr</th>\n      <th>TemperaturaInterna</th>\n      <th>PontoDeOrvalho</th>\n      <th>RadiacaoSolar</th>\n      <th>DirecaoDoVento</th>\n      <th>VelocidadeDoVento</th>\n      <th>Precipitacao</th>\n      <th>Mes</th>\n      <th>Cluster</th>\n    </tr>\n    <tr>\n      <th>Ordens</th>\n      <th></th>\n      <th></th>\n      <th></th>\n      <th></th>\n      <th></th>\n      <th></th>\n      <th></th>\n      <th></th>\n      <th></th>\n      <th></th>\n      <th></th>\n    </tr>\n  </thead>\n  <tbody>\n    <tr>\n      <th>0</th>\n      <td>2846</td>\n      <td>2846</td>\n      <td>2846</td>\n      <td>2846</td>\n      <td>2846</td>\n      <td>2846</td>\n      <td>2846</td>\n      <td>2846</td>\n      <td>2846</td>\n      <td>2846</td>\n      <td>2846</td>\n    </tr>\n    <tr>\n      <th>1</th>\n      <td>224</td>\n      <td>224</td>\n      <td>224</td>\n      <td>224</td>\n      <td>224</td>\n      <td>224</td>\n      <td>224</td>\n      <td>224</td>\n      <td>224</td>\n      <td>224</td>\n      <td>224</td>\n    </tr>\n  </tbody>\n</table>\n</div>"
     },
     "metadata": {},
     "execution_count": 189
    }
   ],
   "source": [
    "df_cluster.groupby(['Ordens']).count()"
   ]
  },
  {
   "cell_type": "code",
   "execution_count": 402,
   "metadata": {},
   "outputs": [
    {
     "output_type": "execute_result",
     "data": {
      "text/plain": "                   Data_Hora        Local  UmidadeRelativa  \\\n0        2011-01-01 00:00:00  Camilopolis             84.8   \n1        2011-01-01 00:00:00           RM             86.6   \n2        2011-01-01 00:00:00      Paraiso             92.3   \n3        2011-01-01 00:00:00       Erasmo             88.8   \n4        2011-01-01 00:00:00      Vitoria              0.0   \n...                      ...          ...              ...   \n1463565  2019-06-30 23:45:00           RM             66.9   \n1463566  2019-06-30 23:45:00       Erasmo             60.7   \n1463567  2019-06-30 23:45:00  Camilopolis             54.4   \n1463568  2019-06-30 23:45:00      Paraiso             55.3   \n1463569  2019-06-30 23:45:00      Vitoria             38.4   \n\n         PressaoAtmosferica  TemperaturaDoAr  TemperaturaInterna  \\\n0                     920.6        20.200000                22.8   \n1                     926.7        20.100000                23.3   \n2                     919.1        19.300000                22.7   \n3                     920.5        10.243265                22.9   \n4                       0.0         0.000000                 0.0   \n...                     ...              ...                 ...   \n1463565               931.9        18.800000                22.5   \n1463566               925.7        19.500000                22.5   \n1463567               924.0        20.800000                23.0   \n1463568               924.2        20.800000                22.1   \n1463569               925.8        20.300000                27.5   \n\n         PontoDeOrvalho  RadiacaoSolar  DirecaoDoVento  VelocidadeDoVento  \\\n0             17.500000       0.000000           137.0                1.5   \n1             17.800000       0.000000           131.0                2.5   \n2             18.000000       0.000000           101.0                2.6   \n3             17.700000       0.000000           133.0                0.7   \n4              0.000000       0.000000             0.0                0.0   \n...                 ...            ...             ...                ...   \n1463565       13.300000       0.294461           331.0                0.7   \n1463566       11.700000       0.000000           327.0                3.5   \n1463567       12.200000       0.073893           332.0                4.3   \n1463568       11.790525       0.000000            25.0                3.6   \n1463569        6.300000       0.000000             0.0                0.0   \n\n         Precipitacao  Ordens  Cluster  \n0                 0.0       0        0  \n1                 0.0       0        0  \n2                 0.0       0        0  \n3                 0.0       0        0  \n4                 0.0       0        0  \n...               ...     ...      ...  \n1463565           0.0       0        0  \n1463566           0.0       0        0  \n1463567           0.0       0        0  \n1463568           0.0       0        0  \n1463569           0.0       0        0  \n\n[1463570 rows x 13 columns]",
      "text/html": "<div>\n<style scoped>\n    .dataframe tbody tr th:only-of-type {\n        vertical-align: middle;\n    }\n\n    .dataframe tbody tr th {\n        vertical-align: top;\n    }\n\n    .dataframe thead th {\n        text-align: right;\n    }\n</style>\n<table border=\"1\" class=\"dataframe\">\n  <thead>\n    <tr style=\"text-align: right;\">\n      <th></th>\n      <th>Data_Hora</th>\n      <th>Local</th>\n      <th>UmidadeRelativa</th>\n      <th>PressaoAtmosferica</th>\n      <th>TemperaturaDoAr</th>\n      <th>TemperaturaInterna</th>\n      <th>PontoDeOrvalho</th>\n      <th>RadiacaoSolar</th>\n      <th>DirecaoDoVento</th>\n      <th>VelocidadeDoVento</th>\n      <th>Precipitacao</th>\n      <th>Ordens</th>\n      <th>Cluster</th>\n    </tr>\n  </thead>\n  <tbody>\n    <tr>\n      <th>0</th>\n      <td>2011-01-01 00:00:00</td>\n      <td>Camilopolis</td>\n      <td>84.8</td>\n      <td>920.6</td>\n      <td>20.200000</td>\n      <td>22.8</td>\n      <td>17.500000</td>\n      <td>0.000000</td>\n      <td>137.0</td>\n      <td>1.5</td>\n      <td>0.0</td>\n      <td>0</td>\n      <td>0</td>\n    </tr>\n    <tr>\n      <th>1</th>\n      <td>2011-01-01 00:00:00</td>\n      <td>RM</td>\n      <td>86.6</td>\n      <td>926.7</td>\n      <td>20.100000</td>\n      <td>23.3</td>\n      <td>17.800000</td>\n      <td>0.000000</td>\n      <td>131.0</td>\n      <td>2.5</td>\n      <td>0.0</td>\n      <td>0</td>\n      <td>0</td>\n    </tr>\n    <tr>\n      <th>2</th>\n      <td>2011-01-01 00:00:00</td>\n      <td>Paraiso</td>\n      <td>92.3</td>\n      <td>919.1</td>\n      <td>19.300000</td>\n      <td>22.7</td>\n      <td>18.000000</td>\n      <td>0.000000</td>\n      <td>101.0</td>\n      <td>2.6</td>\n      <td>0.0</td>\n      <td>0</td>\n      <td>0</td>\n    </tr>\n    <tr>\n      <th>3</th>\n      <td>2011-01-01 00:00:00</td>\n      <td>Erasmo</td>\n      <td>88.8</td>\n      <td>920.5</td>\n      <td>10.243265</td>\n      <td>22.9</td>\n      <td>17.700000</td>\n      <td>0.000000</td>\n      <td>133.0</td>\n      <td>0.7</td>\n      <td>0.0</td>\n      <td>0</td>\n      <td>0</td>\n    </tr>\n    <tr>\n      <th>4</th>\n      <td>2011-01-01 00:00:00</td>\n      <td>Vitoria</td>\n      <td>0.0</td>\n      <td>0.0</td>\n      <td>0.000000</td>\n      <td>0.0</td>\n      <td>0.000000</td>\n      <td>0.000000</td>\n      <td>0.0</td>\n      <td>0.0</td>\n      <td>0.0</td>\n      <td>0</td>\n      <td>0</td>\n    </tr>\n    <tr>\n      <th>...</th>\n      <td>...</td>\n      <td>...</td>\n      <td>...</td>\n      <td>...</td>\n      <td>...</td>\n      <td>...</td>\n      <td>...</td>\n      <td>...</td>\n      <td>...</td>\n      <td>...</td>\n      <td>...</td>\n      <td>...</td>\n      <td>...</td>\n    </tr>\n    <tr>\n      <th>1463565</th>\n      <td>2019-06-30 23:45:00</td>\n      <td>RM</td>\n      <td>66.9</td>\n      <td>931.9</td>\n      <td>18.800000</td>\n      <td>22.5</td>\n      <td>13.300000</td>\n      <td>0.294461</td>\n      <td>331.0</td>\n      <td>0.7</td>\n      <td>0.0</td>\n      <td>0</td>\n      <td>0</td>\n    </tr>\n    <tr>\n      <th>1463566</th>\n      <td>2019-06-30 23:45:00</td>\n      <td>Erasmo</td>\n      <td>60.7</td>\n      <td>925.7</td>\n      <td>19.500000</td>\n      <td>22.5</td>\n      <td>11.700000</td>\n      <td>0.000000</td>\n      <td>327.0</td>\n      <td>3.5</td>\n      <td>0.0</td>\n      <td>0</td>\n      <td>0</td>\n    </tr>\n    <tr>\n      <th>1463567</th>\n      <td>2019-06-30 23:45:00</td>\n      <td>Camilopolis</td>\n      <td>54.4</td>\n      <td>924.0</td>\n      <td>20.800000</td>\n      <td>23.0</td>\n      <td>12.200000</td>\n      <td>0.073893</td>\n      <td>332.0</td>\n      <td>4.3</td>\n      <td>0.0</td>\n      <td>0</td>\n      <td>0</td>\n    </tr>\n    <tr>\n      <th>1463568</th>\n      <td>2019-06-30 23:45:00</td>\n      <td>Paraiso</td>\n      <td>55.3</td>\n      <td>924.2</td>\n      <td>20.800000</td>\n      <td>22.1</td>\n      <td>11.790525</td>\n      <td>0.000000</td>\n      <td>25.0</td>\n      <td>3.6</td>\n      <td>0.0</td>\n      <td>0</td>\n      <td>0</td>\n    </tr>\n    <tr>\n      <th>1463569</th>\n      <td>2019-06-30 23:45:00</td>\n      <td>Vitoria</td>\n      <td>38.4</td>\n      <td>925.8</td>\n      <td>20.300000</td>\n      <td>27.5</td>\n      <td>6.300000</td>\n      <td>0.000000</td>\n      <td>0.0</td>\n      <td>0.0</td>\n      <td>0.0</td>\n      <td>0</td>\n      <td>0</td>\n    </tr>\n  </tbody>\n</table>\n<p>1463570 rows × 13 columns</p>\n</div>"
     },
     "metadata": {},
     "execution_count": 402
    }
   ],
   "source": [
    "df_clustered_total = pd.read_csv('../../../data/cleandata/Info pluviometricas/Merged Data/clustered.csv', sep = ';')\n",
    "df_clustered_total"
   ]
  },
  {
   "cell_type": "code",
   "execution_count": 403,
   "metadata": {},
   "outputs": [
    {
     "output_type": "execute_result",
     "data": {
      "text/plain": "        Data_Hora    Local  UmidadeRelativa  PressaoAtmosferica  \\\nOrdens                                                            \n0         1426980  1426980          1426980             1426980   \n1           36590    36590            36590               36590   \n\n        TemperaturaDoAr  TemperaturaInterna  PontoDeOrvalho  RadiacaoSolar  \\\nOrdens                                                                       \n0               1426980             1426980         1426980        1426980   \n1                 36590               36590           36590          36590   \n\n        DirecaoDoVento  VelocidadeDoVento  Precipitacao  Cluster  \nOrdens                                                            \n0              1426980            1426980       1426980  1426980  \n1                36590              36590         36590    36590  ",
      "text/html": "<div>\n<style scoped>\n    .dataframe tbody tr th:only-of-type {\n        vertical-align: middle;\n    }\n\n    .dataframe tbody tr th {\n        vertical-align: top;\n    }\n\n    .dataframe thead th {\n        text-align: right;\n    }\n</style>\n<table border=\"1\" class=\"dataframe\">\n  <thead>\n    <tr style=\"text-align: right;\">\n      <th></th>\n      <th>Data_Hora</th>\n      <th>Local</th>\n      <th>UmidadeRelativa</th>\n      <th>PressaoAtmosferica</th>\n      <th>TemperaturaDoAr</th>\n      <th>TemperaturaInterna</th>\n      <th>PontoDeOrvalho</th>\n      <th>RadiacaoSolar</th>\n      <th>DirecaoDoVento</th>\n      <th>VelocidadeDoVento</th>\n      <th>Precipitacao</th>\n      <th>Cluster</th>\n    </tr>\n    <tr>\n      <th>Ordens</th>\n      <th></th>\n      <th></th>\n      <th></th>\n      <th></th>\n      <th></th>\n      <th></th>\n      <th></th>\n      <th></th>\n      <th></th>\n      <th></th>\n      <th></th>\n      <th></th>\n    </tr>\n  </thead>\n  <tbody>\n    <tr>\n      <th>0</th>\n      <td>1426980</td>\n      <td>1426980</td>\n      <td>1426980</td>\n      <td>1426980</td>\n      <td>1426980</td>\n      <td>1426980</td>\n      <td>1426980</td>\n      <td>1426980</td>\n      <td>1426980</td>\n      <td>1426980</td>\n      <td>1426980</td>\n      <td>1426980</td>\n    </tr>\n    <tr>\n      <th>1</th>\n      <td>36590</td>\n      <td>36590</td>\n      <td>36590</td>\n      <td>36590</td>\n      <td>36590</td>\n      <td>36590</td>\n      <td>36590</td>\n      <td>36590</td>\n      <td>36590</td>\n      <td>36590</td>\n      <td>36590</td>\n      <td>36590</td>\n    </tr>\n  </tbody>\n</table>\n</div>"
     },
     "metadata": {},
     "execution_count": 403
    }
   ],
   "source": [
    "df_clustered_total.groupby('Ordens').count()"
   ]
  },
  {
   "cell_type": "code",
   "execution_count": 404,
   "metadata": {},
   "outputs": [],
   "source": [
    "df_clustered_total['Local'] = df_clustered_total['Local'].rank(method='dense', ascending=False).astype(int)\n",
    "df_clustered_total = df_clustered_total.drop(columns = 'Data_Hora')"
   ]
  },
  {
   "cell_type": "code",
   "execution_count": 405,
   "metadata": {},
   "outputs": [],
   "source": [
    "#df_slice = df_clustered_total[(df_clustered_total['Ordens'] == 1) | (df_clustered_total['Cluster'].isin([1,2]))]\n",
    "#df_slice = df_clustered_total[(df_clustered_total['Ordens'] == 1) | (df_clustered_total['Precipitacao'] > 10)]\n",
    "df_slice = df_clustered_total.copy()\n",
    "#df_slice.loc[df_slice['Cluster'] == 0, 'Ordens'] = 0\n",
    "df_slice.loc[(df_slice['Ordens'] == 1) & (df_slice['Precipitacao'] <= 10), 'Ordens'] = 0"
   ]
  },
  {
   "cell_type": "code",
   "execution_count": 406,
   "metadata": {},
   "outputs": [
    {
     "output_type": "execute_result",
     "data": {
      "text/plain": "          Local  UmidadeRelativa  PressaoAtmosferica  TemperaturaDoAr  \\\nOrdens                                                                  \n0       1462584          1462584             1462584          1462584   \n1           986              986                 986              986   \n\n        TemperaturaInterna  PontoDeOrvalho  RadiacaoSolar  DirecaoDoVento  \\\nOrdens                                                                      \n0                  1462584         1462584        1462584         1462584   \n1                      986             986            986             986   \n\n        VelocidadeDoVento  Precipitacao  Cluster  \nOrdens                                            \n0                 1462584       1462584  1462584  \n1                     986           986      986  ",
      "text/html": "<div>\n<style scoped>\n    .dataframe tbody tr th:only-of-type {\n        vertical-align: middle;\n    }\n\n    .dataframe tbody tr th {\n        vertical-align: top;\n    }\n\n    .dataframe thead th {\n        text-align: right;\n    }\n</style>\n<table border=\"1\" class=\"dataframe\">\n  <thead>\n    <tr style=\"text-align: right;\">\n      <th></th>\n      <th>Local</th>\n      <th>UmidadeRelativa</th>\n      <th>PressaoAtmosferica</th>\n      <th>TemperaturaDoAr</th>\n      <th>TemperaturaInterna</th>\n      <th>PontoDeOrvalho</th>\n      <th>RadiacaoSolar</th>\n      <th>DirecaoDoVento</th>\n      <th>VelocidadeDoVento</th>\n      <th>Precipitacao</th>\n      <th>Cluster</th>\n    </tr>\n    <tr>\n      <th>Ordens</th>\n      <th></th>\n      <th></th>\n      <th></th>\n      <th></th>\n      <th></th>\n      <th></th>\n      <th></th>\n      <th></th>\n      <th></th>\n      <th></th>\n      <th></th>\n    </tr>\n  </thead>\n  <tbody>\n    <tr>\n      <th>0</th>\n      <td>1462584</td>\n      <td>1462584</td>\n      <td>1462584</td>\n      <td>1462584</td>\n      <td>1462584</td>\n      <td>1462584</td>\n      <td>1462584</td>\n      <td>1462584</td>\n      <td>1462584</td>\n      <td>1462584</td>\n      <td>1462584</td>\n    </tr>\n    <tr>\n      <th>1</th>\n      <td>986</td>\n      <td>986</td>\n      <td>986</td>\n      <td>986</td>\n      <td>986</td>\n      <td>986</td>\n      <td>986</td>\n      <td>986</td>\n      <td>986</td>\n      <td>986</td>\n      <td>986</td>\n    </tr>\n  </tbody>\n</table>\n</div>"
     },
     "metadata": {},
     "execution_count": 406
    }
   ],
   "source": [
    "df_slice.groupby('Ordens').count()"
   ]
  },
  {
   "cell_type": "code",
   "execution_count": 407,
   "metadata": {},
   "outputs": [
    {
     "output_type": "execute_result",
     "data": {
      "text/plain": "         Local  UmidadeRelativa  PressaoAtmosferica  TemperaturaDoAr  \\\n0            5             84.8               920.6        20.200000   \n1            2             86.6               926.7        20.100000   \n2            3             92.3               919.1        19.300000   \n3            4             88.8               920.5        10.243265   \n4            1              0.0                 0.0         0.000000   \n...        ...              ...                 ...              ...   \n1463565      2             66.9               931.9        18.800000   \n1463566      4             60.7               925.7        19.500000   \n1463567      5             54.4               924.0        20.800000   \n1463568      3             55.3               924.2        20.800000   \n1463569      1             38.4               925.8        20.300000   \n\n         TemperaturaInterna  PontoDeOrvalho  RadiacaoSolar  DirecaoDoVento  \\\n0                      22.8       17.500000       0.000000           137.0   \n1                      23.3       17.800000       0.000000           131.0   \n2                      22.7       18.000000       0.000000           101.0   \n3                      22.9       17.700000       0.000000           133.0   \n4                       0.0        0.000000       0.000000             0.0   \n...                     ...             ...            ...             ...   \n1463565                22.5       13.300000       0.294461           331.0   \n1463566                22.5       11.700000       0.000000           327.0   \n1463567                23.0       12.200000       0.073893           332.0   \n1463568                22.1       11.790525       0.000000            25.0   \n1463569                27.5        6.300000       0.000000             0.0   \n\n         VelocidadeDoVento  Precipitacao  Ordens  Cluster  \n0                      1.5           0.0       0        0  \n1                      2.5           0.0       0        0  \n2                      2.6           0.0       0        0  \n3                      0.7           0.0       0        0  \n4                      0.0           0.0       0        0  \n...                    ...           ...     ...      ...  \n1463565                0.7           0.0       0        0  \n1463566                3.5           0.0       0        0  \n1463567                4.3           0.0       0        0  \n1463568                3.6           0.0       0        0  \n1463569                0.0           0.0       0        0  \n\n[1463570 rows x 12 columns]",
      "text/html": "<div>\n<style scoped>\n    .dataframe tbody tr th:only-of-type {\n        vertical-align: middle;\n    }\n\n    .dataframe tbody tr th {\n        vertical-align: top;\n    }\n\n    .dataframe thead th {\n        text-align: right;\n    }\n</style>\n<table border=\"1\" class=\"dataframe\">\n  <thead>\n    <tr style=\"text-align: right;\">\n      <th></th>\n      <th>Local</th>\n      <th>UmidadeRelativa</th>\n      <th>PressaoAtmosferica</th>\n      <th>TemperaturaDoAr</th>\n      <th>TemperaturaInterna</th>\n      <th>PontoDeOrvalho</th>\n      <th>RadiacaoSolar</th>\n      <th>DirecaoDoVento</th>\n      <th>VelocidadeDoVento</th>\n      <th>Precipitacao</th>\n      <th>Ordens</th>\n      <th>Cluster</th>\n    </tr>\n  </thead>\n  <tbody>\n    <tr>\n      <th>0</th>\n      <td>5</td>\n      <td>84.8</td>\n      <td>920.6</td>\n      <td>20.200000</td>\n      <td>22.8</td>\n      <td>17.500000</td>\n      <td>0.000000</td>\n      <td>137.0</td>\n      <td>1.5</td>\n      <td>0.0</td>\n      <td>0</td>\n      <td>0</td>\n    </tr>\n    <tr>\n      <th>1</th>\n      <td>2</td>\n      <td>86.6</td>\n      <td>926.7</td>\n      <td>20.100000</td>\n      <td>23.3</td>\n      <td>17.800000</td>\n      <td>0.000000</td>\n      <td>131.0</td>\n      <td>2.5</td>\n      <td>0.0</td>\n      <td>0</td>\n      <td>0</td>\n    </tr>\n    <tr>\n      <th>2</th>\n      <td>3</td>\n      <td>92.3</td>\n      <td>919.1</td>\n      <td>19.300000</td>\n      <td>22.7</td>\n      <td>18.000000</td>\n      <td>0.000000</td>\n      <td>101.0</td>\n      <td>2.6</td>\n      <td>0.0</td>\n      <td>0</td>\n      <td>0</td>\n    </tr>\n    <tr>\n      <th>3</th>\n      <td>4</td>\n      <td>88.8</td>\n      <td>920.5</td>\n      <td>10.243265</td>\n      <td>22.9</td>\n      <td>17.700000</td>\n      <td>0.000000</td>\n      <td>133.0</td>\n      <td>0.7</td>\n      <td>0.0</td>\n      <td>0</td>\n      <td>0</td>\n    </tr>\n    <tr>\n      <th>4</th>\n      <td>1</td>\n      <td>0.0</td>\n      <td>0.0</td>\n      <td>0.000000</td>\n      <td>0.0</td>\n      <td>0.000000</td>\n      <td>0.000000</td>\n      <td>0.0</td>\n      <td>0.0</td>\n      <td>0.0</td>\n      <td>0</td>\n      <td>0</td>\n    </tr>\n    <tr>\n      <th>...</th>\n      <td>...</td>\n      <td>...</td>\n      <td>...</td>\n      <td>...</td>\n      <td>...</td>\n      <td>...</td>\n      <td>...</td>\n      <td>...</td>\n      <td>...</td>\n      <td>...</td>\n      <td>...</td>\n      <td>...</td>\n    </tr>\n    <tr>\n      <th>1463565</th>\n      <td>2</td>\n      <td>66.9</td>\n      <td>931.9</td>\n      <td>18.800000</td>\n      <td>22.5</td>\n      <td>13.300000</td>\n      <td>0.294461</td>\n      <td>331.0</td>\n      <td>0.7</td>\n      <td>0.0</td>\n      <td>0</td>\n      <td>0</td>\n    </tr>\n    <tr>\n      <th>1463566</th>\n      <td>4</td>\n      <td>60.7</td>\n      <td>925.7</td>\n      <td>19.500000</td>\n      <td>22.5</td>\n      <td>11.700000</td>\n      <td>0.000000</td>\n      <td>327.0</td>\n      <td>3.5</td>\n      <td>0.0</td>\n      <td>0</td>\n      <td>0</td>\n    </tr>\n    <tr>\n      <th>1463567</th>\n      <td>5</td>\n      <td>54.4</td>\n      <td>924.0</td>\n      <td>20.800000</td>\n      <td>23.0</td>\n      <td>12.200000</td>\n      <td>0.073893</td>\n      <td>332.0</td>\n      <td>4.3</td>\n      <td>0.0</td>\n      <td>0</td>\n      <td>0</td>\n    </tr>\n    <tr>\n      <th>1463568</th>\n      <td>3</td>\n      <td>55.3</td>\n      <td>924.2</td>\n      <td>20.800000</td>\n      <td>22.1</td>\n      <td>11.790525</td>\n      <td>0.000000</td>\n      <td>25.0</td>\n      <td>3.6</td>\n      <td>0.0</td>\n      <td>0</td>\n      <td>0</td>\n    </tr>\n    <tr>\n      <th>1463569</th>\n      <td>1</td>\n      <td>38.4</td>\n      <td>925.8</td>\n      <td>20.300000</td>\n      <td>27.5</td>\n      <td>6.300000</td>\n      <td>0.000000</td>\n      <td>0.0</td>\n      <td>0.0</td>\n      <td>0.0</td>\n      <td>0</td>\n      <td>0</td>\n    </tr>\n  </tbody>\n</table>\n<p>1463570 rows × 12 columns</p>\n</div>"
     },
     "metadata": {},
     "execution_count": 407
    }
   ],
   "source": [
    "df_slice"
   ]
  },
  {
   "cell_type": "code",
   "execution_count": 408,
   "metadata": {
    "tags": []
   },
   "outputs": [
    {
     "output_type": "stream",
     "name": "stdout",
     "text": "Treino: 0.9995160230081979\nTeste: 0.9987405226034058\nF1: 0.48172446110590444\n"
    },
    {
     "output_type": "display_data",
     "data": {
      "text/plain": "array([[0.99882856, 0.00117144],\n       [0.13175676, 0.86824324]])"
     },
     "metadata": {}
    },
    {
     "output_type": "display_data",
     "data": {
      "text/plain": "array([[438261,    514],\n       [    39,    257]], dtype=int64)"
     },
     "metadata": {}
    }
   ],
   "source": [
    "xgb = xgboost.XGBClassifier()\n",
    "\n",
    "cols_rem = ['Ordens', 'Cluster']\n",
    "\n",
    "x = df_slice[[c for c in df_slice.columns if c not in cols_rem]]\n",
    "#x = x.drop(columns = 'Cluster')\n",
    "y = df_slice['Ordens']\n",
    "\n",
    "x_treino, x_teste, y_treino, y_teste = train_test_split(x, y, test_size=0.3, random_state = 378, stratify=y)\n",
    "\n",
    "# concatenate our training data back together\n",
    "X = pd.concat([x_treino, y_treino], axis=1)\n",
    "\n",
    "# separate minority and majority classes\n",
    "not_ordem = X[X['Ordens']==0].copy()\n",
    "ordem = X[X['Ordens']==1].copy()\n",
    "\n",
    "# upsample minority\n",
    "ordem_upsampled = resample(ordem,\n",
    "                        replace=True, # sample with replacement\n",
    "                        n_samples=len(not_ordem), # match number in majority class\n",
    "                        random_state=378) # reproducible results\n",
    "\n",
    "# combine majority and upsampled minority\n",
    "upsampled = pd.concat([not_ordem, ordem_upsampled])\n",
    "\n",
    "x_treino = upsampled[[c for c in df_slice.columns if c not in cols_rem]]\n",
    "y_treino = upsampled['Ordens']\n",
    "\n",
    "#xgb.fit(x_treino, y_treino, eval_set = [(x_treino, y_treino), (x_teste, y_teste)], eval_metric=f1_score)\n",
    "param = {'max_depth':50, 'eta':1, 'objective':'binary:logistic', 'min_child_weight': 1, 'lambda': 1, 'alpha': 0, 'gamma': 0}\n",
    "\n",
    "df_train = xgboost.DMatrix(data=x_treino, label=y_treino)\n",
    "df_test = xgboost.DMatrix(data=x_teste, label=y_teste)\n",
    "\n",
    "bst = xgboost.train(param, df_train, 2, feval=f1_score)\n",
    "y_teste_pred = bst.predict(xgboost.DMatrix(data=x_teste, label=y_teste))\n",
    "y_teste_pred = [1 if i>0.5 else 0 for i in y_teste_pred]\n",
    "y_treino_pred = bst.predict(xgboost.DMatrix(data=x_treino, label=y_treino))\n",
    "y_treino_pred = [1 if i>0.5 else 0 for i in y_treino_pred]\n",
    "\n",
    "print(f\"Treino: {accuracy_score(y_treino, y_treino_pred)}\")\n",
    "print(f\"Teste: {accuracy_score(y_teste, y_teste_pred)}\")\n",
    "print(f\"F1: {f1_score(y_teste, y_teste_pred)}\")\n",
    "display(confusion_matrix(y_teste, y_teste_pred, normalize='true'))\n",
    "display(confusion_matrix(y_teste, y_teste_pred,))"
   ]
  },
  {
   "cell_type": "code",
   "execution_count": 393,
   "metadata": {},
   "outputs": [
    {
     "output_type": "execute_result",
     "data": {
      "text/plain": "array([[1022818,     991],\n       [      0, 1023809]], dtype=int64)"
     },
     "metadata": {},
     "execution_count": 393
    }
   ],
   "source": [
    "confusion_matrix(y_treino, y_treino_pred, )\n",
    "\n",
    "# Treino: 0.9995160230081979\n",
    "# Teste: 0.9987405226034058\n",
    "# F1: 0.48172446110590444\n",
    "# array([[0.99882856, 0.00117144],\n",
    "#        [0.13175676, 0.86824324]])\n",
    "# array([[438261,    514],\n",
    "#        [    39,    257]], dtype=int64)"
   ]
  },
  {
   "cell_type": "code",
   "execution_count": 303,
   "metadata": {},
   "outputs": [
    {
     "output_type": "execute_result",
     "data": {
      "text/plain": "         Local  UmidadeRelativa  PressaoAtmosferica  TemperaturaDoAr  \\\n0            5             84.8               920.6        20.200000   \n1            2             86.6               926.7        20.100000   \n2            3             92.3               919.1        19.300000   \n3            4             88.8               920.5        10.243265   \n4            1              0.0                 0.0         0.000000   \n...        ...              ...                 ...              ...   \n1463565      2             66.9               931.9        18.800000   \n1463566      4             60.7               925.7        19.500000   \n1463567      5             54.4               924.0        20.800000   \n1463568      3             55.3               924.2        20.800000   \n1463569      1             38.4               925.8        20.300000   \n\n         TemperaturaInterna  PontoDeOrvalho  RadiacaoSolar  DirecaoDoVento  \\\n0                      22.8       17.500000       0.000000           137.0   \n1                      23.3       17.800000       0.000000           131.0   \n2                      22.7       18.000000       0.000000           101.0   \n3                      22.9       17.700000       0.000000           133.0   \n4                       0.0        0.000000       0.000000             0.0   \n...                     ...             ...            ...             ...   \n1463565                22.5       13.300000       0.294461           331.0   \n1463566                22.5       11.700000       0.000000           327.0   \n1463567                23.0       12.200000       0.073893           332.0   \n1463568                22.1       11.790525       0.000000            25.0   \n1463569                27.5        6.300000       0.000000             0.0   \n\n         VelocidadeDoVento  Precipitacao  Ordens  Cluster  \n0                      1.5           0.0       0        0  \n1                      2.5           0.0       0        0  \n2                      2.6           0.0       0        0  \n3                      0.7           0.0       0        0  \n4                      0.0           0.0       0        0  \n...                    ...           ...     ...      ...  \n1463565                0.7           0.0       0        0  \n1463566                3.5           0.0       0        0  \n1463567                4.3           0.0       0        0  \n1463568                3.6           0.0       0        0  \n1463569                0.0           0.0       0        0  \n\n[1463570 rows x 12 columns]",
      "text/html": "<div>\n<style scoped>\n    .dataframe tbody tr th:only-of-type {\n        vertical-align: middle;\n    }\n\n    .dataframe tbody tr th {\n        vertical-align: top;\n    }\n\n    .dataframe thead th {\n        text-align: right;\n    }\n</style>\n<table border=\"1\" class=\"dataframe\">\n  <thead>\n    <tr style=\"text-align: right;\">\n      <th></th>\n      <th>Local</th>\n      <th>UmidadeRelativa</th>\n      <th>PressaoAtmosferica</th>\n      <th>TemperaturaDoAr</th>\n      <th>TemperaturaInterna</th>\n      <th>PontoDeOrvalho</th>\n      <th>RadiacaoSolar</th>\n      <th>DirecaoDoVento</th>\n      <th>VelocidadeDoVento</th>\n      <th>Precipitacao</th>\n      <th>Ordens</th>\n      <th>Cluster</th>\n    </tr>\n  </thead>\n  <tbody>\n    <tr>\n      <th>0</th>\n      <td>5</td>\n      <td>84.8</td>\n      <td>920.6</td>\n      <td>20.200000</td>\n      <td>22.8</td>\n      <td>17.500000</td>\n      <td>0.000000</td>\n      <td>137.0</td>\n      <td>1.5</td>\n      <td>0.0</td>\n      <td>0</td>\n      <td>0</td>\n    </tr>\n    <tr>\n      <th>1</th>\n      <td>2</td>\n      <td>86.6</td>\n      <td>926.7</td>\n      <td>20.100000</td>\n      <td>23.3</td>\n      <td>17.800000</td>\n      <td>0.000000</td>\n      <td>131.0</td>\n      <td>2.5</td>\n      <td>0.0</td>\n      <td>0</td>\n      <td>0</td>\n    </tr>\n    <tr>\n      <th>2</th>\n      <td>3</td>\n      <td>92.3</td>\n      <td>919.1</td>\n      <td>19.300000</td>\n      <td>22.7</td>\n      <td>18.000000</td>\n      <td>0.000000</td>\n      <td>101.0</td>\n      <td>2.6</td>\n      <td>0.0</td>\n      <td>0</td>\n      <td>0</td>\n    </tr>\n    <tr>\n      <th>3</th>\n      <td>4</td>\n      <td>88.8</td>\n      <td>920.5</td>\n      <td>10.243265</td>\n      <td>22.9</td>\n      <td>17.700000</td>\n      <td>0.000000</td>\n      <td>133.0</td>\n      <td>0.7</td>\n      <td>0.0</td>\n      <td>0</td>\n      <td>0</td>\n    </tr>\n    <tr>\n      <th>4</th>\n      <td>1</td>\n      <td>0.0</td>\n      <td>0.0</td>\n      <td>0.000000</td>\n      <td>0.0</td>\n      <td>0.000000</td>\n      <td>0.000000</td>\n      <td>0.0</td>\n      <td>0.0</td>\n      <td>0.0</td>\n      <td>0</td>\n      <td>0</td>\n    </tr>\n    <tr>\n      <th>...</th>\n      <td>...</td>\n      <td>...</td>\n      <td>...</td>\n      <td>...</td>\n      <td>...</td>\n      <td>...</td>\n      <td>...</td>\n      <td>...</td>\n      <td>...</td>\n      <td>...</td>\n      <td>...</td>\n      <td>...</td>\n    </tr>\n    <tr>\n      <th>1463565</th>\n      <td>2</td>\n      <td>66.9</td>\n      <td>931.9</td>\n      <td>18.800000</td>\n      <td>22.5</td>\n      <td>13.300000</td>\n      <td>0.294461</td>\n      <td>331.0</td>\n      <td>0.7</td>\n      <td>0.0</td>\n      <td>0</td>\n      <td>0</td>\n    </tr>\n    <tr>\n      <th>1463566</th>\n      <td>4</td>\n      <td>60.7</td>\n      <td>925.7</td>\n      <td>19.500000</td>\n      <td>22.5</td>\n      <td>11.700000</td>\n      <td>0.000000</td>\n      <td>327.0</td>\n      <td>3.5</td>\n      <td>0.0</td>\n      <td>0</td>\n      <td>0</td>\n    </tr>\n    <tr>\n      <th>1463567</th>\n      <td>5</td>\n      <td>54.4</td>\n      <td>924.0</td>\n      <td>20.800000</td>\n      <td>23.0</td>\n      <td>12.200000</td>\n      <td>0.073893</td>\n      <td>332.0</td>\n      <td>4.3</td>\n      <td>0.0</td>\n      <td>0</td>\n      <td>0</td>\n    </tr>\n    <tr>\n      <th>1463568</th>\n      <td>3</td>\n      <td>55.3</td>\n      <td>924.2</td>\n      <td>20.800000</td>\n      <td>22.1</td>\n      <td>11.790525</td>\n      <td>0.000000</td>\n      <td>25.0</td>\n      <td>3.6</td>\n      <td>0.0</td>\n      <td>0</td>\n      <td>0</td>\n    </tr>\n    <tr>\n      <th>1463569</th>\n      <td>1</td>\n      <td>38.4</td>\n      <td>925.8</td>\n      <td>20.300000</td>\n      <td>27.5</td>\n      <td>6.300000</td>\n      <td>0.000000</td>\n      <td>0.0</td>\n      <td>0.0</td>\n      <td>0.0</td>\n      <td>0</td>\n      <td>0</td>\n    </tr>\n  </tbody>\n</table>\n<p>1463570 rows × 12 columns</p>\n</div>"
     },
     "metadata": {},
     "execution_count": 303
    }
   ],
   "source": [
    "df_clustered_total"
   ]
  },
  {
   "cell_type": "code",
   "execution_count": 252,
   "metadata": {},
   "outputs": [
    {
     "output_type": "execute_result",
     "data": {
      "text/plain": "         Local  UmidadeRelativa  PressaoAtmosferica  TemperaturaDoAr  \\\nOrdens                                                                 \n0       131202           131202              131202           131202   \n1        36590            36590               36590            36590   \n\n        TemperaturaInterna  PontoDeOrvalho  RadiacaoSolar  DirecaoDoVento  \\\nOrdens                                                                      \n0                   131202          131202         131202          131202   \n1                    36590           36590          36590           36590   \n\n        VelocidadeDoVento  Precipitacao  Cluster  \nOrdens                                            \n0                  131202        131202   131202  \n1                   36590         36590    36590  ",
      "text/html": "<div>\n<style scoped>\n    .dataframe tbody tr th:only-of-type {\n        vertical-align: middle;\n    }\n\n    .dataframe tbody tr th {\n        vertical-align: top;\n    }\n\n    .dataframe thead th {\n        text-align: right;\n    }\n</style>\n<table border=\"1\" class=\"dataframe\">\n  <thead>\n    <tr style=\"text-align: right;\">\n      <th></th>\n      <th>Local</th>\n      <th>UmidadeRelativa</th>\n      <th>PressaoAtmosferica</th>\n      <th>TemperaturaDoAr</th>\n      <th>TemperaturaInterna</th>\n      <th>PontoDeOrvalho</th>\n      <th>RadiacaoSolar</th>\n      <th>DirecaoDoVento</th>\n      <th>VelocidadeDoVento</th>\n      <th>Precipitacao</th>\n      <th>Cluster</th>\n    </tr>\n    <tr>\n      <th>Ordens</th>\n      <th></th>\n      <th></th>\n      <th></th>\n      <th></th>\n      <th></th>\n      <th></th>\n      <th></th>\n      <th></th>\n      <th></th>\n      <th></th>\n      <th></th>\n    </tr>\n  </thead>\n  <tbody>\n    <tr>\n      <th>0</th>\n      <td>131202</td>\n      <td>131202</td>\n      <td>131202</td>\n      <td>131202</td>\n      <td>131202</td>\n      <td>131202</td>\n      <td>131202</td>\n      <td>131202</td>\n      <td>131202</td>\n      <td>131202</td>\n      <td>131202</td>\n    </tr>\n    <tr>\n      <th>1</th>\n      <td>36590</td>\n      <td>36590</td>\n      <td>36590</td>\n      <td>36590</td>\n      <td>36590</td>\n      <td>36590</td>\n      <td>36590</td>\n      <td>36590</td>\n      <td>36590</td>\n      <td>36590</td>\n      <td>36590</td>\n    </tr>\n  </tbody>\n</table>\n</div>"
     },
     "metadata": {},
     "execution_count": 252
    }
   ],
   "source": [
    "df_slice.groupby(['Ordens']).count()"
   ]
  },
  {
   "cell_type": "code",
   "execution_count": 22,
   "metadata": {},
   "outputs": [
    {
     "output_type": "execute_result",
     "data": {
      "text/plain": "0.300002383903881"
     },
     "metadata": {},
     "execution_count": 22
    }
   ],
   "source": [
    "y_teste.shape[0] / y.shape[0]"
   ]
  },
  {
   "cell_type": "code",
   "execution_count": 23,
   "metadata": {},
   "outputs": [
    {
     "output_type": "execute_result",
     "data": {
      "text/plain": "         Local  UmidadeRelativa  PressaoAtmosferica  TemperaturaDoAr  \\\n480          3        94.400000               916.7        18.600000   \n481          2        91.300000               924.2        19.300000   \n482          5        92.500000               918.1        18.651871   \n483          4        94.400000               918.1        18.700000   \n484          1         0.000000                 0.0         0.000000   \n...        ...              ...                 ...              ...   \n1461627      2        82.800000               932.2        18.800000   \n1461631      1        89.243362               926.1        17.800000   \n1461636      4        88.200000               926.0        17.800000   \n1461640      4        88.400000               926.2        17.900000   \n1461648      4        88.600000               926.3        17.900000   \n\n         TemperaturaInterna  PontoDeOrvalho  RadiacaoSolar  DirecaoDoVento  \\\n480               21.900000       17.700000            0.0           161.0   \n481               22.222879       17.900000            0.0           160.0   \n482               21.800000       18.000000            0.0           188.0   \n483               21.749954       17.800000            0.0           118.0   \n484                0.000000        0.000000            0.0             0.0   \n...                     ...             ...            ...             ...   \n1461627           21.934040       16.600000            0.0             5.0   \n1461631           25.000000       16.237339            0.0             0.0   \n1461636           20.900000       15.800000            0.0           166.0   \n1461640           21.000000       16.000000            0.0           221.0   \n1461648           21.000000       16.000000            0.0           197.0   \n\n         VelocidadeDoVento  Precipitacao  Ordens  Cluster  \n480                    3.4           0.0       0        1  \n481                    2.6           0.0       0        1  \n482                    1.6           0.2       0        1  \n483                    3.3           0.2       0        1  \n484                    0.0           0.0       0        1  \n...                    ...           ...     ...      ...  \n1461627                2.2           0.0       1        0  \n1461631                0.0           0.0       1        0  \n1461636                5.0           0.0       1        0  \n1461640                7.2           0.0       1        0  \n1461648                9.0           0.0       1        0  \n\n[167792 rows x 12 columns]",
      "text/html": "<div>\n<style scoped>\n    .dataframe tbody tr th:only-of-type {\n        vertical-align: middle;\n    }\n\n    .dataframe tbody tr th {\n        vertical-align: top;\n    }\n\n    .dataframe thead th {\n        text-align: right;\n    }\n</style>\n<table border=\"1\" class=\"dataframe\">\n  <thead>\n    <tr style=\"text-align: right;\">\n      <th></th>\n      <th>Local</th>\n      <th>UmidadeRelativa</th>\n      <th>PressaoAtmosferica</th>\n      <th>TemperaturaDoAr</th>\n      <th>TemperaturaInterna</th>\n      <th>PontoDeOrvalho</th>\n      <th>RadiacaoSolar</th>\n      <th>DirecaoDoVento</th>\n      <th>VelocidadeDoVento</th>\n      <th>Precipitacao</th>\n      <th>Ordens</th>\n      <th>Cluster</th>\n    </tr>\n  </thead>\n  <tbody>\n    <tr>\n      <th>480</th>\n      <td>3</td>\n      <td>94.400000</td>\n      <td>916.7</td>\n      <td>18.600000</td>\n      <td>21.900000</td>\n      <td>17.700000</td>\n      <td>0.0</td>\n      <td>161.0</td>\n      <td>3.4</td>\n      <td>0.0</td>\n      <td>0</td>\n      <td>1</td>\n    </tr>\n    <tr>\n      <th>481</th>\n      <td>2</td>\n      <td>91.300000</td>\n      <td>924.2</td>\n      <td>19.300000</td>\n      <td>22.222879</td>\n      <td>17.900000</td>\n      <td>0.0</td>\n      <td>160.0</td>\n      <td>2.6</td>\n      <td>0.0</td>\n      <td>0</td>\n      <td>1</td>\n    </tr>\n    <tr>\n      <th>482</th>\n      <td>5</td>\n      <td>92.500000</td>\n      <td>918.1</td>\n      <td>18.651871</td>\n      <td>21.800000</td>\n      <td>18.000000</td>\n      <td>0.0</td>\n      <td>188.0</td>\n      <td>1.6</td>\n      <td>0.2</td>\n      <td>0</td>\n      <td>1</td>\n    </tr>\n    <tr>\n      <th>483</th>\n      <td>4</td>\n      <td>94.400000</td>\n      <td>918.1</td>\n      <td>18.700000</td>\n      <td>21.749954</td>\n      <td>17.800000</td>\n      <td>0.0</td>\n      <td>118.0</td>\n      <td>3.3</td>\n      <td>0.2</td>\n      <td>0</td>\n      <td>1</td>\n    </tr>\n    <tr>\n      <th>484</th>\n      <td>1</td>\n      <td>0.000000</td>\n      <td>0.0</td>\n      <td>0.000000</td>\n      <td>0.000000</td>\n      <td>0.000000</td>\n      <td>0.0</td>\n      <td>0.0</td>\n      <td>0.0</td>\n      <td>0.0</td>\n      <td>0</td>\n      <td>1</td>\n    </tr>\n    <tr>\n      <th>...</th>\n      <td>...</td>\n      <td>...</td>\n      <td>...</td>\n      <td>...</td>\n      <td>...</td>\n      <td>...</td>\n      <td>...</td>\n      <td>...</td>\n      <td>...</td>\n      <td>...</td>\n      <td>...</td>\n      <td>...</td>\n    </tr>\n    <tr>\n      <th>1461627</th>\n      <td>2</td>\n      <td>82.800000</td>\n      <td>932.2</td>\n      <td>18.800000</td>\n      <td>21.934040</td>\n      <td>16.600000</td>\n      <td>0.0</td>\n      <td>5.0</td>\n      <td>2.2</td>\n      <td>0.0</td>\n      <td>1</td>\n      <td>0</td>\n    </tr>\n    <tr>\n      <th>1461631</th>\n      <td>1</td>\n      <td>89.243362</td>\n      <td>926.1</td>\n      <td>17.800000</td>\n      <td>25.000000</td>\n      <td>16.237339</td>\n      <td>0.0</td>\n      <td>0.0</td>\n      <td>0.0</td>\n      <td>0.0</td>\n      <td>1</td>\n      <td>0</td>\n    </tr>\n    <tr>\n      <th>1461636</th>\n      <td>4</td>\n      <td>88.200000</td>\n      <td>926.0</td>\n      <td>17.800000</td>\n      <td>20.900000</td>\n      <td>15.800000</td>\n      <td>0.0</td>\n      <td>166.0</td>\n      <td>5.0</td>\n      <td>0.0</td>\n      <td>1</td>\n      <td>0</td>\n    </tr>\n    <tr>\n      <th>1461640</th>\n      <td>4</td>\n      <td>88.400000</td>\n      <td>926.2</td>\n      <td>17.900000</td>\n      <td>21.000000</td>\n      <td>16.000000</td>\n      <td>0.0</td>\n      <td>221.0</td>\n      <td>7.2</td>\n      <td>0.0</td>\n      <td>1</td>\n      <td>0</td>\n    </tr>\n    <tr>\n      <th>1461648</th>\n      <td>4</td>\n      <td>88.600000</td>\n      <td>926.3</td>\n      <td>17.900000</td>\n      <td>21.000000</td>\n      <td>16.000000</td>\n      <td>0.0</td>\n      <td>197.0</td>\n      <td>9.0</td>\n      <td>0.0</td>\n      <td>1</td>\n      <td>0</td>\n    </tr>\n  </tbody>\n</table>\n<p>167792 rows × 12 columns</p>\n</div>"
     },
     "metadata": {},
     "execution_count": 23
    }
   ],
   "source": [
    "df_slice"
   ]
  },
  {
   "cell_type": "code",
   "execution_count": 62,
   "metadata": {},
   "outputs": [],
   "source": [
    "# import pandas_gbq\n",
    "# from google.oauth2 import service_account\n",
    "\n",
    "# PROJECT_ID = 'temporal-285820'\n",
    "# TABLE_clustered = 'info_pluviometrica.clustered_slice'\n",
    "\n",
    "# CREDENTIALS = service_account.Credentials.from_service_account_file('../../../key/temporal-285820-cde76c259484.json')\n",
    "# pandas_gbq.context.credentials = CREDENTIALS"
   ]
  },
  {
   "cell_type": "code",
   "execution_count": 63,
   "metadata": {
    "tags": []
   },
   "outputs": [
    {
     "output_type": "stream",
     "name": "stderr",
     "text": "1it [00:19, 19.36s/it]clustered done!\n\n"
    }
   ],
   "source": [
    "# pandas_gbq.to_gbq(df_slice, TABLE_clustered, project_id=PROJECT_ID, credentials=CREDENTIALS, if_exists='replace')\n",
    "# print('clustered done!')"
   ]
  },
  {
   "cell_type": "code",
   "execution_count": 65,
   "metadata": {},
   "outputs": [],
   "source": [
    "df_m = pd.read_csv('../../../data/cleandata/Info pluviometricas/Merged Data/merged.csv', sep = ';')"
   ]
  },
  {
   "cell_type": "code",
   "execution_count": 74,
   "metadata": {},
   "outputs": [
    {
     "output_type": "execute_result",
     "data": {
      "text/plain": "         Local  UmidadeRelativa  PressaoAtmosferica  TemperaturaDoAr  \\\nOrdens                                                                 \n0       131202           131202              131202           131202   \n1        19498            19498               19498            19498   \n\n        TemperaturaInterna  PontoDeOrvalho  RadiacaoSolar  DirecaoDoVento  \\\nOrdens                                                                      \n0                   131202          131202         131202          131202   \n1                    19498           19498          19498           19498   \n\n        VelocidadeDoVento  Precipitacao  Cluster  \nOrdens                                            \n0                  131202        131202   131202  \n1                   19498         19498    19498  ",
      "text/html": "<div>\n<style scoped>\n    .dataframe tbody tr th:only-of-type {\n        vertical-align: middle;\n    }\n\n    .dataframe tbody tr th {\n        vertical-align: top;\n    }\n\n    .dataframe thead th {\n        text-align: right;\n    }\n</style>\n<table border=\"1\" class=\"dataframe\">\n  <thead>\n    <tr style=\"text-align: right;\">\n      <th></th>\n      <th>Local</th>\n      <th>UmidadeRelativa</th>\n      <th>PressaoAtmosferica</th>\n      <th>TemperaturaDoAr</th>\n      <th>TemperaturaInterna</th>\n      <th>PontoDeOrvalho</th>\n      <th>RadiacaoSolar</th>\n      <th>DirecaoDoVento</th>\n      <th>VelocidadeDoVento</th>\n      <th>Precipitacao</th>\n      <th>Cluster</th>\n    </tr>\n    <tr>\n      <th>Ordens</th>\n      <th></th>\n      <th></th>\n      <th></th>\n      <th></th>\n      <th></th>\n      <th></th>\n      <th></th>\n      <th></th>\n      <th></th>\n      <th></th>\n      <th></th>\n    </tr>\n  </thead>\n  <tbody>\n    <tr>\n      <th>0</th>\n      <td>131202</td>\n      <td>131202</td>\n      <td>131202</td>\n      <td>131202</td>\n      <td>131202</td>\n      <td>131202</td>\n      <td>131202</td>\n      <td>131202</td>\n      <td>131202</td>\n      <td>131202</td>\n      <td>131202</td>\n    </tr>\n    <tr>\n      <th>1</th>\n      <td>19498</td>\n      <td>19498</td>\n      <td>19498</td>\n      <td>19498</td>\n      <td>19498</td>\n      <td>19498</td>\n      <td>19498</td>\n      <td>19498</td>\n      <td>19498</td>\n      <td>19498</td>\n      <td>19498</td>\n    </tr>\n  </tbody>\n</table>\n</div>"
     },
     "metadata": {},
     "execution_count": 74
    }
   ],
   "source": [
    "df_clustered_total[(df_clustered_total['Cluster'].isin([1,2]))].groupby('Ordens').count()"
   ]
  }
 ]
}