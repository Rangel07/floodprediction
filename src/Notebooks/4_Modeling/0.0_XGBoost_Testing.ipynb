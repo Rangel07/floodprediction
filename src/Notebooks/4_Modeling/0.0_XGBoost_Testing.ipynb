{
 "metadata": {
  "language_info": {
   "codemirror_mode": {
    "name": "ipython",
    "version": 3
   },
   "file_extension": ".py",
   "mimetype": "text/x-python",
   "name": "python",
   "nbconvert_exporter": "python",
   "pygments_lexer": "ipython3",
   "version": "3.8.5-final"
  },
  "orig_nbformat": 2,
  "kernelspec": {
   "name": "python38564bit983d40b0eb64453e8ad463eee52a7b5b",
   "display_name": "Python 3.8.5 64-bit"
  }
 },
 "nbformat": 4,
 "nbformat_minor": 2,
 "cells": [
  {
   "cell_type": "code",
   "execution_count": 48,
   "metadata": {},
   "outputs": [],
   "source": [
    "import pandas as pd\n",
    "import numpy as np\n",
    "from sklearn.cluster import KMeans\n",
    "from sklearn.preprocessing import MinMaxScaler\n",
    "import matplotlib.pyplot as plt\n",
    "\n",
    "from plotly import graph_objects as go\n",
    "import plotly as py\n",
    "\n",
    "from datetime import datetime\n",
    "from datetime import timedelta\n",
    "\n",
    "import xgboost\n",
    "from sklearn.model_selection import train_test_split\n",
    "from sklearn.metrics import plot_confusion_matrix, accuracy_score, f1_score, confusion_matrix"
   ]
  },
  {
   "cell_type": "code",
   "execution_count": 13,
   "metadata": {},
   "outputs": [
    {
     "output_type": "execute_result",
     "data": {
      "text/plain": "      UmidadeRelativa  PressaoAtmosferica  TemperaturaDoAr  \\\n0           65.679216          735.558902        16.414147   \n1           76.017708          734.376875        15.638204   \n2           73.900711          733.959619        16.060072   \n3           73.177223          734.321458        17.005510   \n4           64.092344          736.860417        18.614403   \n...               ...                 ...              ...   \n3065        58.462548          924.237189        20.782350   \n3066        78.492677          928.165211        19.225816   \n3067        66.947345          928.851826        21.216116   \n3068        54.981241          927.484876        21.871250   \n3069        48.805000          926.535625        21.904167   \n\n      TemperaturaInterna  PontoDeOrvalho  RadiacaoSolar  DirecaoDoVento  \\\n0              19.501318       13.894332     116.433333      114.439583   \n1              18.355709       14.988855      40.879167      162.916667   \n2              18.713147       15.064426      59.225559      102.732787   \n3              19.832342       15.797179      82.889583       85.015766   \n4              21.592730       15.512999     161.429167      150.189583   \n...                  ...             ...            ...             ...   \n3065           24.296560       11.613997      86.694988      154.352083   \n3066           23.262681       15.223413      58.906011      125.716667   \n3067           24.902792       14.681483      82.298725       89.068750   \n3068           25.403125       11.656711      92.199144      143.372917   \n3069           25.267058       10.647781      91.857772      189.550000   \n\n      VelocidadeDoVento  Precipitacao  Ordens  Mes  Cluster  \n0              2.144792          1.52       0    1        0  \n1              1.103542        139.12       0    1        1  \n2              1.328760         68.92       0    1        1  \n3              1.597480         62.36       0    1        1  \n4              2.222917         11.96       0    1        0  \n...                 ...           ...     ...  ...      ...  \n3065           8.483779          0.00       0    6        0  \n3066           4.999583          0.32       0    6        0  \n3067           7.688742          0.00       0    6        0  \n3068           6.376733          0.00       0    6        0  \n3069           7.664329          0.00       0    6        0  \n\n[3070 rows x 12 columns]",
      "text/html": "<div>\n<style scoped>\n    .dataframe tbody tr th:only-of-type {\n        vertical-align: middle;\n    }\n\n    .dataframe tbody tr th {\n        vertical-align: top;\n    }\n\n    .dataframe thead th {\n        text-align: right;\n    }\n</style>\n<table border=\"1\" class=\"dataframe\">\n  <thead>\n    <tr style=\"text-align: right;\">\n      <th></th>\n      <th>UmidadeRelativa</th>\n      <th>PressaoAtmosferica</th>\n      <th>TemperaturaDoAr</th>\n      <th>TemperaturaInterna</th>\n      <th>PontoDeOrvalho</th>\n      <th>RadiacaoSolar</th>\n      <th>DirecaoDoVento</th>\n      <th>VelocidadeDoVento</th>\n      <th>Precipitacao</th>\n      <th>Ordens</th>\n      <th>Mes</th>\n      <th>Cluster</th>\n    </tr>\n  </thead>\n  <tbody>\n    <tr>\n      <th>0</th>\n      <td>65.679216</td>\n      <td>735.558902</td>\n      <td>16.414147</td>\n      <td>19.501318</td>\n      <td>13.894332</td>\n      <td>116.433333</td>\n      <td>114.439583</td>\n      <td>2.144792</td>\n      <td>1.52</td>\n      <td>0</td>\n      <td>1</td>\n      <td>0</td>\n    </tr>\n    <tr>\n      <th>1</th>\n      <td>76.017708</td>\n      <td>734.376875</td>\n      <td>15.638204</td>\n      <td>18.355709</td>\n      <td>14.988855</td>\n      <td>40.879167</td>\n      <td>162.916667</td>\n      <td>1.103542</td>\n      <td>139.12</td>\n      <td>0</td>\n      <td>1</td>\n      <td>1</td>\n    </tr>\n    <tr>\n      <th>2</th>\n      <td>73.900711</td>\n      <td>733.959619</td>\n      <td>16.060072</td>\n      <td>18.713147</td>\n      <td>15.064426</td>\n      <td>59.225559</td>\n      <td>102.732787</td>\n      <td>1.328760</td>\n      <td>68.92</td>\n      <td>0</td>\n      <td>1</td>\n      <td>1</td>\n    </tr>\n    <tr>\n      <th>3</th>\n      <td>73.177223</td>\n      <td>734.321458</td>\n      <td>17.005510</td>\n      <td>19.832342</td>\n      <td>15.797179</td>\n      <td>82.889583</td>\n      <td>85.015766</td>\n      <td>1.597480</td>\n      <td>62.36</td>\n      <td>0</td>\n      <td>1</td>\n      <td>1</td>\n    </tr>\n    <tr>\n      <th>4</th>\n      <td>64.092344</td>\n      <td>736.860417</td>\n      <td>18.614403</td>\n      <td>21.592730</td>\n      <td>15.512999</td>\n      <td>161.429167</td>\n      <td>150.189583</td>\n      <td>2.222917</td>\n      <td>11.96</td>\n      <td>0</td>\n      <td>1</td>\n      <td>0</td>\n    </tr>\n    <tr>\n      <th>...</th>\n      <td>...</td>\n      <td>...</td>\n      <td>...</td>\n      <td>...</td>\n      <td>...</td>\n      <td>...</td>\n      <td>...</td>\n      <td>...</td>\n      <td>...</td>\n      <td>...</td>\n      <td>...</td>\n      <td>...</td>\n    </tr>\n    <tr>\n      <th>3065</th>\n      <td>58.462548</td>\n      <td>924.237189</td>\n      <td>20.782350</td>\n      <td>24.296560</td>\n      <td>11.613997</td>\n      <td>86.694988</td>\n      <td>154.352083</td>\n      <td>8.483779</td>\n      <td>0.00</td>\n      <td>0</td>\n      <td>6</td>\n      <td>0</td>\n    </tr>\n    <tr>\n      <th>3066</th>\n      <td>78.492677</td>\n      <td>928.165211</td>\n      <td>19.225816</td>\n      <td>23.262681</td>\n      <td>15.223413</td>\n      <td>58.906011</td>\n      <td>125.716667</td>\n      <td>4.999583</td>\n      <td>0.32</td>\n      <td>0</td>\n      <td>6</td>\n      <td>0</td>\n    </tr>\n    <tr>\n      <th>3067</th>\n      <td>66.947345</td>\n      <td>928.851826</td>\n      <td>21.216116</td>\n      <td>24.902792</td>\n      <td>14.681483</td>\n      <td>82.298725</td>\n      <td>89.068750</td>\n      <td>7.688742</td>\n      <td>0.00</td>\n      <td>0</td>\n      <td>6</td>\n      <td>0</td>\n    </tr>\n    <tr>\n      <th>3068</th>\n      <td>54.981241</td>\n      <td>927.484876</td>\n      <td>21.871250</td>\n      <td>25.403125</td>\n      <td>11.656711</td>\n      <td>92.199144</td>\n      <td>143.372917</td>\n      <td>6.376733</td>\n      <td>0.00</td>\n      <td>0</td>\n      <td>6</td>\n      <td>0</td>\n    </tr>\n    <tr>\n      <th>3069</th>\n      <td>48.805000</td>\n      <td>926.535625</td>\n      <td>21.904167</td>\n      <td>25.267058</td>\n      <td>10.647781</td>\n      <td>91.857772</td>\n      <td>189.550000</td>\n      <td>7.664329</td>\n      <td>0.00</td>\n      <td>0</td>\n      <td>6</td>\n      <td>0</td>\n    </tr>\n  </tbody>\n</table>\n<p>3070 rows × 12 columns</p>\n</div>"
     },
     "metadata": {},
     "execution_count": 13
    }
   ],
   "source": [
    "df_cluster = pd.read_csv('../../../data/cleandata/Info pluviometricas/Merged Data/clustered_data.csv', sep = ';')\n",
    "df_cluster"
   ]
  },
  {
   "cell_type": "code",
   "execution_count": 14,
   "metadata": {},
   "outputs": [],
   "source": [
    "xgb = xgboost.XGBClassifier()\n",
    "\n",
    "x = df_cluster[[c for c in df_cluster.columns if 'Ordens' not in c]]\n",
    "y = df_cluster['Ordens']\n",
    "\n",
    "x_treino, x_teste, y_treino, y_teste = train_test_split(x, y, test_size=0.3, random_state = 378)\n",
    "\n",
    "#xgb.fit(x_treino, y_treino, eval_set = [(x_treino, y_treino), (x_teste, y_teste)], eval_metric=f1_score)\n",
    "param = {'max_depth':2, 'eta':1, 'objective':'binary:logistic'}\n",
    "\n",
    "df_train = xgboost.DMatrix(data=x_treino, label=y_treino)\n",
    "\n",
    "bst = xgboost.train(param, df_train, 2, feval=f1_score)\n",
    "y_pred = bst.predict(xgboost.DMatrix(data=x_teste, label=y_teste))"
   ]
  },
  {
   "cell_type": "code",
   "execution_count": 15,
   "metadata": {},
   "outputs": [],
   "source": [
    "y_pred = [1 if i>0.5 else 0 for i in y_pred]"
   ]
  },
  {
   "cell_type": "code",
   "execution_count": 16,
   "metadata": {
    "tags": []
   },
   "outputs": [
    {
     "output_type": "stream",
     "name": "stdout",
     "text": "0.9305103148751357\n0.13513513513513511\n"
    }
   ],
   "source": [
    "print(accuracy_score(y_teste, y_pred))\n",
    "print(f1_score(y_teste, y_pred))"
   ]
  },
  {
   "cell_type": "code",
   "execution_count": 18,
   "metadata": {},
   "outputs": [],
   "source": [
    "df_clustered_total = pd.read_csv('../../../data/cleandata/Info pluviometricas/Merged Data/clustered.csv', sep = ';')\n",
    "df_clustered_total"
   ]
  },
  {
   "cell_type": "code",
   "execution_count": 22,
   "metadata": {},
   "outputs": [],
   "source": [
    "df_clustered_total['Local'] = df_clustered_total['Local'].rank(method='dense', ascending=False).astype(int)\n",
    "df_clustered_total = df_clustered_total.drop(columns = 'Data_Hora')"
   ]
  },
  {
   "cell_type": "code",
   "execution_count": 27,
   "metadata": {},
   "outputs": [],
   "source": [
    "df_slice = df_clustered_total[(df_clustered_total['Ordens'] == 1) | (df_clustered_total['Cluster'].isin([1,2]))]"
   ]
  },
  {
   "cell_type": "code",
   "execution_count": 28,
   "metadata": {},
   "outputs": [
    {
     "output_type": "execute_result",
     "data": {
      "text/plain": "         Local  UmidadeRelativa  PressaoAtmosferica  TemperaturaDoAr  \\\nOrdens                                                                 \n0       131202           131202              131202           131202   \n1        36590            36590               36590            36590   \n\n        TemperaturaInterna  PontoDeOrvalho  RadiacaoSolar  DirecaoDoVento  \\\nOrdens                                                                      \n0                   131202          131202         131202          131202   \n1                    36590           36590          36590           36590   \n\n        VelocidadeDoVento  Precipitacao  Cluster  \nOrdens                                            \n0                  131202        131202   131202  \n1                   36590         36590    36590  ",
      "text/html": "<div>\n<style scoped>\n    .dataframe tbody tr th:only-of-type {\n        vertical-align: middle;\n    }\n\n    .dataframe tbody tr th {\n        vertical-align: top;\n    }\n\n    .dataframe thead th {\n        text-align: right;\n    }\n</style>\n<table border=\"1\" class=\"dataframe\">\n  <thead>\n    <tr style=\"text-align: right;\">\n      <th></th>\n      <th>Local</th>\n      <th>UmidadeRelativa</th>\n      <th>PressaoAtmosferica</th>\n      <th>TemperaturaDoAr</th>\n      <th>TemperaturaInterna</th>\n      <th>PontoDeOrvalho</th>\n      <th>RadiacaoSolar</th>\n      <th>DirecaoDoVento</th>\n      <th>VelocidadeDoVento</th>\n      <th>Precipitacao</th>\n      <th>Cluster</th>\n    </tr>\n    <tr>\n      <th>Ordens</th>\n      <th></th>\n      <th></th>\n      <th></th>\n      <th></th>\n      <th></th>\n      <th></th>\n      <th></th>\n      <th></th>\n      <th></th>\n      <th></th>\n      <th></th>\n    </tr>\n  </thead>\n  <tbody>\n    <tr>\n      <th>0</th>\n      <td>131202</td>\n      <td>131202</td>\n      <td>131202</td>\n      <td>131202</td>\n      <td>131202</td>\n      <td>131202</td>\n      <td>131202</td>\n      <td>131202</td>\n      <td>131202</td>\n      <td>131202</td>\n      <td>131202</td>\n    </tr>\n    <tr>\n      <th>1</th>\n      <td>36590</td>\n      <td>36590</td>\n      <td>36590</td>\n      <td>36590</td>\n      <td>36590</td>\n      <td>36590</td>\n      <td>36590</td>\n      <td>36590</td>\n      <td>36590</td>\n      <td>36590</td>\n      <td>36590</td>\n    </tr>\n  </tbody>\n</table>\n</div>"
     },
     "metadata": {},
     "execution_count": 28
    }
   ],
   "source": [
    "df_slice.groupby('Ordens').count()"
   ]
  },
  {
   "cell_type": "code",
   "execution_count": 29,
   "metadata": {},
   "outputs": [],
   "source": [
    "xgb = xgboost.XGBClassifier()\n",
    "\n",
    "x = df_slice[[c for c in df_slice.columns if 'Ordens' not in c]]\n",
    "y = df_slice['Ordens']\n",
    "\n",
    "x_treino, x_teste, y_treino, y_teste = train_test_split(x, y, test_size=0.3, random_state = 378)\n",
    "\n",
    "#xgb.fit(x_treino, y_treino, eval_set = [(x_treino, y_treino), (x_teste, y_teste)], eval_metric=f1_score)\n",
    "param = {'max_depth':2, 'eta':1, 'objective':'binary:logistic'}\n",
    "\n",
    "df_train = xgboost.DMatrix(data=x_treino, label=y_treino)\n",
    "\n",
    "bst = xgboost.train(param, df_train, 2, feval=f1_score)\n",
    "y_pred = bst.predict(xgboost.DMatrix(data=x_teste, label=y_teste))\n",
    "y_pred = [1 if i>0.5 else 0 for i in y_pred]"
   ]
  },
  {
   "cell_type": "code",
   "execution_count": 56,
   "metadata": {
    "tags": []
   },
   "outputs": [
    {
     "output_type": "stream",
     "name": "stdout",
     "text": "0.8873813023958044\n0.6497806882065855\n"
    },
    {
     "output_type": "execute_result",
     "data": {
      "text/plain": "array([[1.        , 0.        ],\n       [0.51875915, 0.48124085]])"
     },
     "metadata": {},
     "execution_count": 56
    }
   ],
   "source": [
    "print(accuracy_score(y_teste, y_pred))\n",
    "print(f1_score(y_teste, y_pred))\n",
    "confusion_matrix(y_teste, y_pred, normalize='true')"
   ]
  },
  {
   "cell_type": "code",
   "execution_count": 55,
   "metadata": {},
   "outputs": [
    {
     "output_type": "execute_result",
     "data": {
      "text/plain": "0.300002383903881"
     },
     "metadata": {},
     "execution_count": 55
    }
   ],
   "source": [
    "y_teste.shape[0] / y.shape[0]"
   ]
  },
  {
   "cell_type": "code",
   "execution_count": 61,
   "metadata": {},
   "outputs": [
    {
     "output_type": "execute_result",
     "data": {
      "text/plain": "         Local  UmidadeRelativa  PressaoAtmosferica  TemperaturaDoAr  \\\n480          3        94.400000               916.7        18.600000   \n481          2        91.300000               924.2        19.300000   \n482          5        92.500000               918.1        18.651871   \n483          4        94.400000               918.1        18.700000   \n484          1         0.000000                 0.0         0.000000   \n...        ...              ...                 ...              ...   \n1461627      2        82.800000               932.2        18.800000   \n1461631      1        89.243362               926.1        17.800000   \n1461636      4        88.200000               926.0        17.800000   \n1461640      4        88.400000               926.2        17.900000   \n1461648      4        88.600000               926.3        17.900000   \n\n         TemperaturaInterna  PontoDeOrvalho  RadiacaoSolar  DirecaoDoVento  \\\n480               21.900000       17.700000            0.0           161.0   \n481               22.222879       17.900000            0.0           160.0   \n482               21.800000       18.000000            0.0           188.0   \n483               21.749954       17.800000            0.0           118.0   \n484                0.000000        0.000000            0.0             0.0   \n...                     ...             ...            ...             ...   \n1461627           21.934040       16.600000            0.0             5.0   \n1461631           25.000000       16.237339            0.0             0.0   \n1461636           20.900000       15.800000            0.0           166.0   \n1461640           21.000000       16.000000            0.0           221.0   \n1461648           21.000000       16.000000            0.0           197.0   \n\n         VelocidadeDoVento  Precipitacao  Ordens  Cluster  \n480                    3.4           0.0       0        1  \n481                    2.6           0.0       0        1  \n482                    1.6           0.2       0        1  \n483                    3.3           0.2       0        1  \n484                    0.0           0.0       0        1  \n...                    ...           ...     ...      ...  \n1461627                2.2           0.0       1        0  \n1461631                0.0           0.0       1        0  \n1461636                5.0           0.0       1        0  \n1461640                7.2           0.0       1        0  \n1461648                9.0           0.0       1        0  \n\n[167792 rows x 12 columns]",
      "text/html": "<div>\n<style scoped>\n    .dataframe tbody tr th:only-of-type {\n        vertical-align: middle;\n    }\n\n    .dataframe tbody tr th {\n        vertical-align: top;\n    }\n\n    .dataframe thead th {\n        text-align: right;\n    }\n</style>\n<table border=\"1\" class=\"dataframe\">\n  <thead>\n    <tr style=\"text-align: right;\">\n      <th></th>\n      <th>Local</th>\n      <th>UmidadeRelativa</th>\n      <th>PressaoAtmosferica</th>\n      <th>TemperaturaDoAr</th>\n      <th>TemperaturaInterna</th>\n      <th>PontoDeOrvalho</th>\n      <th>RadiacaoSolar</th>\n      <th>DirecaoDoVento</th>\n      <th>VelocidadeDoVento</th>\n      <th>Precipitacao</th>\n      <th>Ordens</th>\n      <th>Cluster</th>\n    </tr>\n  </thead>\n  <tbody>\n    <tr>\n      <th>480</th>\n      <td>3</td>\n      <td>94.400000</td>\n      <td>916.7</td>\n      <td>18.600000</td>\n      <td>21.900000</td>\n      <td>17.700000</td>\n      <td>0.0</td>\n      <td>161.0</td>\n      <td>3.4</td>\n      <td>0.0</td>\n      <td>0</td>\n      <td>1</td>\n    </tr>\n    <tr>\n      <th>481</th>\n      <td>2</td>\n      <td>91.300000</td>\n      <td>924.2</td>\n      <td>19.300000</td>\n      <td>22.222879</td>\n      <td>17.900000</td>\n      <td>0.0</td>\n      <td>160.0</td>\n      <td>2.6</td>\n      <td>0.0</td>\n      <td>0</td>\n      <td>1</td>\n    </tr>\n    <tr>\n      <th>482</th>\n      <td>5</td>\n      <td>92.500000</td>\n      <td>918.1</td>\n      <td>18.651871</td>\n      <td>21.800000</td>\n      <td>18.000000</td>\n      <td>0.0</td>\n      <td>188.0</td>\n      <td>1.6</td>\n      <td>0.2</td>\n      <td>0</td>\n      <td>1</td>\n    </tr>\n    <tr>\n      <th>483</th>\n      <td>4</td>\n      <td>94.400000</td>\n      <td>918.1</td>\n      <td>18.700000</td>\n      <td>21.749954</td>\n      <td>17.800000</td>\n      <td>0.0</td>\n      <td>118.0</td>\n      <td>3.3</td>\n      <td>0.2</td>\n      <td>0</td>\n      <td>1</td>\n    </tr>\n    <tr>\n      <th>484</th>\n      <td>1</td>\n      <td>0.000000</td>\n      <td>0.0</td>\n      <td>0.000000</td>\n      <td>0.000000</td>\n      <td>0.000000</td>\n      <td>0.0</td>\n      <td>0.0</td>\n      <td>0.0</td>\n      <td>0.0</td>\n      <td>0</td>\n      <td>1</td>\n    </tr>\n    <tr>\n      <th>...</th>\n      <td>...</td>\n      <td>...</td>\n      <td>...</td>\n      <td>...</td>\n      <td>...</td>\n      <td>...</td>\n      <td>...</td>\n      <td>...</td>\n      <td>...</td>\n      <td>...</td>\n      <td>...</td>\n      <td>...</td>\n    </tr>\n    <tr>\n      <th>1461627</th>\n      <td>2</td>\n      <td>82.800000</td>\n      <td>932.2</td>\n      <td>18.800000</td>\n      <td>21.934040</td>\n      <td>16.600000</td>\n      <td>0.0</td>\n      <td>5.0</td>\n      <td>2.2</td>\n      <td>0.0</td>\n      <td>1</td>\n      <td>0</td>\n    </tr>\n    <tr>\n      <th>1461631</th>\n      <td>1</td>\n      <td>89.243362</td>\n      <td>926.1</td>\n      <td>17.800000</td>\n      <td>25.000000</td>\n      <td>16.237339</td>\n      <td>0.0</td>\n      <td>0.0</td>\n      <td>0.0</td>\n      <td>0.0</td>\n      <td>1</td>\n      <td>0</td>\n    </tr>\n    <tr>\n      <th>1461636</th>\n      <td>4</td>\n      <td>88.200000</td>\n      <td>926.0</td>\n      <td>17.800000</td>\n      <td>20.900000</td>\n      <td>15.800000</td>\n      <td>0.0</td>\n      <td>166.0</td>\n      <td>5.0</td>\n      <td>0.0</td>\n      <td>1</td>\n      <td>0</td>\n    </tr>\n    <tr>\n      <th>1461640</th>\n      <td>4</td>\n      <td>88.400000</td>\n      <td>926.2</td>\n      <td>17.900000</td>\n      <td>21.000000</td>\n      <td>16.000000</td>\n      <td>0.0</td>\n      <td>221.0</td>\n      <td>7.2</td>\n      <td>0.0</td>\n      <td>1</td>\n      <td>0</td>\n    </tr>\n    <tr>\n      <th>1461648</th>\n      <td>4</td>\n      <td>88.600000</td>\n      <td>926.3</td>\n      <td>17.900000</td>\n      <td>21.000000</td>\n      <td>16.000000</td>\n      <td>0.0</td>\n      <td>197.0</td>\n      <td>9.0</td>\n      <td>0.0</td>\n      <td>1</td>\n      <td>0</td>\n    </tr>\n  </tbody>\n</table>\n<p>167792 rows × 12 columns</p>\n</div>"
     },
     "metadata": {},
     "execution_count": 61
    }
   ],
   "source": [
    "df_slice"
   ]
  },
  {
   "cell_type": "code",
   "execution_count": 62,
   "metadata": {},
   "outputs": [],
   "source": [
    "import pandas_gbq\n",
    "from google.oauth2 import service_account\n",
    "\n",
    "PROJECT_ID = 'temporal-285820'\n",
    "TABLE_clustered = 'info_pluviometrica.clustered_slice'\n",
    "\n",
    "CREDENTIALS = service_account.Credentials.from_service_account_file('../../../key/temporal-285820-cde76c259484.json')\n",
    "pandas_gbq.context.credentials = CREDENTIALS"
   ]
  },
  {
   "cell_type": "code",
   "execution_count": 63,
   "metadata": {
    "tags": []
   },
   "outputs": [
    {
     "output_type": "stream",
     "name": "stderr",
     "text": "1it [00:19, 19.36s/it]clustered done!\n\n"
    }
   ],
   "source": [
    "pandas_gbq.to_gbq(df_slice, TABLE_clustered, project_id=PROJECT_ID, credentials=CREDENTIALS, if_exists='replace')\n",
    "print('clustered done!')"
   ]
  }
 ]
}