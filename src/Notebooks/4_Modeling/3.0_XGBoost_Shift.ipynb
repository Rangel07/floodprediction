{
 "cells": [
  {
   "cell_type": "markdown",
   "metadata": {},
   "source": [
    "# Inicialização"
   ]
  },
  {
   "cell_type": "code",
   "execution_count": 6,
   "metadata": {},
   "outputs": [],
   "source": [
    "import pandas as pd\n",
    "import numpy as np\n",
    "from sklearn.cluster import KMeans\n",
    "from sklearn.preprocessing import MinMaxScaler\n",
    "import matplotlib.pyplot as plt\n",
    "\n",
    "from plotly import graph_objects as go\n",
    "import plotly as py\n",
    "\n",
    "from datetime import datetime\n",
    "from datetime import timedelta\n",
    "\n",
    "import xgboost\n",
    "from sklearn.model_selection import train_test_split\n",
    "from sklearn.metrics import plot_confusion_matrix, accuracy_score, f1_score, confusion_matrix, recall_score, precision_score\n",
    "\n",
    "from sklearn.utils import resample"
   ]
  },
  {
   "cell_type": "markdown",
   "metadata": {},
   "source": [
    "# Funções"
   ]
  },
  {
   "cell_type": "code",
   "execution_count": 7,
   "metadata": {},
   "outputs": [],
   "source": [
    "def upsampleData(X, label):\n",
    "    # Separate true and false\n",
    "    false_label = X[X[label]==0].copy()\n",
    "    true_label = X[X[label]==1].copy()\n",
    "    \n",
    "    # Upsample true values\n",
    "    label_upsampled = resample(true_label,\n",
    "                            replace=True, # sample with replacement\n",
    "                            n_samples=len(false_label), # match number in majority class\n",
    "                            random_state=378) # reproducible results\n",
    "    upsampled = pd.concat([false_label, label_upsampled])\n",
    "    \n",
    "    # Separate x and y\n",
    "    x = upsampled[[c for c in X.columns if label not in c]]\n",
    "    y = upsampled[label]\n",
    "    \n",
    "    return x, y"
   ]
  },
  {
   "cell_type": "code",
   "execution_count": 8,
   "metadata": {},
   "outputs": [],
   "source": [
    "def trainXGB(df, cols_rem, label, verbose=True):\n",
    "    xgb = xgboost.XGBClassifier()\n",
    "\n",
    "    # Separate x and y and remove unnecessary columns\n",
    "    x = df[[c for c in df.columns if c not in cols_rem]]\n",
    "    y = df[label]\n",
    "    \n",
    "    # Split training and test data\n",
    "    x_treino, x_teste, y_treino, y_teste = train_test_split(x, y, test_size=0.3, random_state = 378, stratify=y)\n",
    "    \n",
    "    # Upsample true values\n",
    "    X = pd.concat([x_treino, y_treino], axis=1)\n",
    "    x_treino, y_treino = upsampleData(X, label)\n",
    "\n",
    "    # XGBClassifier parameters\n",
    "    param = {'max_depth':50, 'eta':1, 'objective':'binary:logistic', 'min_child_weight': 1, 'lambda': 1, 'alpha': 0, 'gamma': 0}\n",
    "\n",
    "    # Generate DMatrices with training and test data\n",
    "    df_train = xgboost.DMatrix(data=x_treino, label=y_treino)\n",
    "    df_test = xgboost.DMatrix(data=x_teste, label=y_teste)\n",
    "\n",
    "    # Train model and predict on training and test data\n",
    "    bst = xgboost.train(param, df_train, 2, feval=f1_score)\n",
    "    y_teste_pred = bst.predict(xgboost.DMatrix(data=x_teste, label=y_teste))\n",
    "    y_teste_pred = [1 if i>0.5 else 0 for i in y_teste_pred]\n",
    "    y_treino_pred = bst.predict(xgboost.DMatrix(data=x_treino, label=y_treino))\n",
    "    y_treino_pred = [1 if i>0.5 else 0 for i in y_treino_pred]\n",
    "    \n",
    "    # Print results if verbose is true\n",
    "    if verbose:\n",
    "        print(f\"Treino: {accuracy_score(y_treino, y_treino_pred)}\")\n",
    "        print(f\"Teste: {accuracy_score(y_teste, y_teste_pred)}\")\n",
    "        print(f\"Precisão: {precision_score(y_teste, y_teste_pred)}\")\n",
    "        print(f\"Recall: {recall_score(y_teste, y_teste_pred)}\")\n",
    "        print(f\"F1: {f1_score(y_teste, y_teste_pred)}\")\n",
    "        display(confusion_matrix(y_teste, y_teste_pred, normalize='true'))\n",
    "        display(confusion_matrix(y_teste, y_teste_pred,))\n",
    "        \n",
    "    # Store results in a dict\n",
    "    results = {\n",
    "        'Features': list(x.columns),\n",
    "        'Train_Acc': accuracy_score(y_treino, y_treino_pred),\n",
    "        'Test_Acc': accuracy_score(y_teste, y_teste_pred),\n",
    "        'Precision': precision_score(y_teste, y_teste_pred),\n",
    "        'Recall': recall_score(y_teste, y_teste_pred),\n",
    "        'F1': f1_score(y_teste, y_teste_pred),\n",
    "        'Ver_Pos': confusion_matrix(y_teste, y_teste_pred, normalize='true')[1,1]\n",
    "    }\n",
    "    \n",
    "    return bst, results, y_treino_pred, y_teste_pred"
   ]
  },
  {
   "cell_type": "markdown",
   "metadata": {},
   "source": [
    "# Prepped Data"
   ]
  },
  {
   "cell_type": "code",
   "execution_count": 9,
   "metadata": {},
   "outputs": [
    {
     "data": {
      "text/html": [
       "<div>\n",
       "<style scoped>\n",
       "    .dataframe tbody tr th:only-of-type {\n",
       "        vertical-align: middle;\n",
       "    }\n",
       "\n",
       "    .dataframe tbody tr th {\n",
       "        vertical-align: top;\n",
       "    }\n",
       "\n",
       "    .dataframe thead th {\n",
       "        text-align: right;\n",
       "    }\n",
       "</style>\n",
       "<table border=\"1\" class=\"dataframe\">\n",
       "  <thead>\n",
       "    <tr style=\"text-align: right;\">\n",
       "      <th></th>\n",
       "      <th>Data_Hora</th>\n",
       "      <th>Mes</th>\n",
       "      <th>Dia</th>\n",
       "      <th>Local</th>\n",
       "      <th>Precipitacao</th>\n",
       "      <th>PrecSum</th>\n",
       "    </tr>\n",
       "    <tr>\n",
       "      <th>Label</th>\n",
       "      <th></th>\n",
       "      <th></th>\n",
       "      <th></th>\n",
       "      <th></th>\n",
       "      <th></th>\n",
       "      <th></th>\n",
       "    </tr>\n",
       "  </thead>\n",
       "  <tbody>\n",
       "    <tr>\n",
       "      <th>0.0</th>\n",
       "      <td>359227</td>\n",
       "      <td>359227</td>\n",
       "      <td>359227</td>\n",
       "      <td>359227</td>\n",
       "      <td>359227</td>\n",
       "      <td>359227</td>\n",
       "    </tr>\n",
       "    <tr>\n",
       "      <th>1.0</th>\n",
       "      <td>6798</td>\n",
       "      <td>6798</td>\n",
       "      <td>6798</td>\n",
       "      <td>6798</td>\n",
       "      <td>6798</td>\n",
       "      <td>6798</td>\n",
       "    </tr>\n",
       "  </tbody>\n",
       "</table>\n",
       "</div>"
      ],
      "text/plain": [
       "       Data_Hora     Mes     Dia   Local  Precipitacao  PrecSum\n",
       "Label                                                          \n",
       "0.0       359227  359227  359227  359227        359227   359227\n",
       "1.0         6798    6798    6798    6798          6798     6798"
      ]
     },
     "execution_count": 9,
     "metadata": {},
     "output_type": "execute_result"
    }
   ],
   "source": [
    "df_p = pd.read_csv('../../../data/cleandata/Info pluviometricas/Merged Data/prepped_data.csv', sep=';')\n",
    "df_p.groupby('Label').count()"
   ]
  },
  {
   "cell_type": "code",
   "execution_count": 10,
   "metadata": {},
   "outputs": [],
   "source": [
    "df_p = df_p.sort_values(['Data_Hora', 'Local'])\n",
    "df_p['Label'] = df_p['Label'].shift(-5*6, fill_value = 0)"
   ]
  },
  {
   "cell_type": "code",
   "execution_count": 11,
   "metadata": {},
   "outputs": [
    {
     "name": "stdout",
     "output_type": "stream",
     "text": [
      "----- LOCAL 0 -----\n",
      "Treino: 0.9813408203358016\n",
      "Teste: 0.9623797901792219\n",
      "Precisão: 0.3252005347593583\n",
      "Recall: 0.9543894065718489\n",
      "F1: 0.4851053221986788\n"
     ]
    },
    {
     "data": {
      "text/plain": [
       "array([[0.96253097, 0.03746903],\n",
       "       [0.04561059, 0.95438941]])"
      ]
     },
     "metadata": {},
     "output_type": "display_data"
    },
    {
     "data": {
      "text/plain": [
       "array([[103731,   4038],\n",
       "       [    93,   1946]], dtype=int64)"
      ]
     },
     "metadata": {},
     "output_type": "display_data"
    },
    {
     "name": "stdout",
     "output_type": "stream",
     "text": [
      "----- LOCAL 1 -----\n",
      "Treino: 0.9802352660177942\n",
      "Teste: 0.9577451962480649\n",
      "Precisão: 0.3102661596958175\n",
      "Recall: 0.951048951048951\n",
      "F1: 0.4678899082568807\n"
     ]
    },
    {
     "data": {
      "text/plain": [
       "array([[0.9578786 , 0.0421214 ],\n",
       "       [0.04895105, 0.95104895]])"
      ]
     },
     "metadata": {},
     "output_type": "display_data"
    },
    {
     "data": {
      "text/plain": [
       "array([[20626,   907],\n",
       "       [   21,   408]], dtype=int64)"
      ]
     },
     "metadata": {},
     "output_type": "display_data"
    },
    {
     "name": "stdout",
     "output_type": "stream",
     "text": [
      "----- LOCAL 2 -----\n",
      "Treino: 0.9836959761549926\n",
      "Teste: 0.9668973681814043\n",
      "Precisão: 0.3473877176901925\n",
      "Recall: 0.9619289340101523\n",
      "F1: 0.5104377104377106\n"
     ]
    },
    {
     "data": {
      "text/plain": [
       "array([[0.96698813, 0.03301187],\n",
       "       [0.03807107, 0.96192893]])"
      ]
     },
     "metadata": {},
     "output_type": "display_data"
    },
    {
     "data": {
      "text/plain": [
       "array([[20856,   712],\n",
       "       [   15,   379]], dtype=int64)"
      ]
     },
     "metadata": {},
     "output_type": "display_data"
    },
    {
     "name": "stdout",
     "output_type": "stream",
     "text": [
      "----- LOCAL 3 -----\n",
      "Treino: 0.9804565756823821\n",
      "Teste: 0.9616610509061105\n",
      "Precisão: 0.3028523489932886\n",
      "Recall: 0.9704301075268817\n",
      "F1: 0.46163682864450134\n"
     ]
    },
    {
     "data": {
      "text/plain": [
       "array([[0.96150996, 0.03849004],\n",
       "       [0.02956989, 0.97043011]])"
      ]
     },
     "metadata": {},
     "output_type": "display_data"
    },
    {
     "data": {
      "text/plain": [
       "array([[20759,   831],\n",
       "       [   11,   361]], dtype=int64)"
      ]
     },
     "metadata": {},
     "output_type": "display_data"
    },
    {
     "name": "stdout",
     "output_type": "stream",
     "text": [
      "----- LOCAL 4 -----\n",
      "Treino: 0.9791069152326323\n",
      "Teste: 0.9572443311173846\n",
      "Precisão: 0.3181484202792065\n",
      "Recall: 0.9752252252252253\n",
      "F1: 0.47977839335180056\n"
     ]
    },
    {
     "data": {
      "text/plain": [
       "array([[0.95687332, 0.04312668],\n",
       "       [0.02477477, 0.97522523]])"
      ]
     },
     "metadata": {},
     "output_type": "display_data"
    },
    {
     "data": {
      "text/plain": [
       "array([[20590,   928],\n",
       "       [   11,   433]], dtype=int64)"
      ]
     },
     "metadata": {},
     "output_type": "display_data"
    },
    {
     "name": "stdout",
     "output_type": "stream",
     "text": [
      "----- LOCAL 5 -----\n",
      "Treino: 0.982269221594975\n",
      "Teste: 0.9608414534195429\n",
      "Precisão: 0.31295843520782396\n",
      "Recall: 0.9576059850374065\n",
      "F1: 0.47174447174447176\n"
     ]
    },
    {
     "data": {
      "text/plain": [
       "array([[0.96090163, 0.03909837],\n",
       "       [0.04239401, 0.95760599]])"
      ]
     },
     "metadata": {},
     "output_type": "display_data"
    },
    {
     "data": {
      "text/plain": [
       "array([[20718,   843],\n",
       "       [   17,   384]], dtype=int64)"
      ]
     },
     "metadata": {},
     "output_type": "display_data"
    }
   ],
   "source": [
    "# Parameters\n",
    "label = 'Label'\n",
    "cols_rem = ['LocalMax', 'Label', 'Label_Old', 'Cluster', 'Data', 'Hora', 'Data_Hora', 'Ordens', 'Minuto'] + [c for c in df_p.columns if 'Hora_' in c]\n",
    "# Result set\n",
    "prepped_models = {}\n",
    "\n",
    "for l in range(6):\n",
    "    if l != 0:\n",
    "        df_train = df_p[df_p['Local'] == l]\n",
    "    else:\n",
    "        df_train = df_p.copy()\n",
    "        \n",
    "    print(f'----- LOCAL {l} -----')\n",
    "    model, training_res, y_treino_pred, y_teste_pred = trainXGB(df_train, cols_rem, label)\n",
    "    \n",
    "    prepped_models[l] = {\n",
    "        'model': model,\n",
    "        'results': training_res,\n",
    "        'y_treino': y_treino_pred,\n",
    "        'y_teste': y_teste_pred\n",
    "    }"
   ]
  },
  {
   "cell_type": "code",
   "execution_count": 12,
   "metadata": {},
   "outputs": [
    {
     "data": {
      "text/plain": [
       "{'Features': ['Mes', 'Dia', 'Local', 'Precipitacao', 'PrecSum'],\n",
       " 'Train_Acc': 0.9813408203358016,\n",
       " 'Test_Acc': 0.9623797901792219,\n",
       " 'Precision': 0.3252005347593583,\n",
       " 'Recall': 0.9543894065718489,\n",
       " 'F1': 0.4851053221986788,\n",
       " 'Ver_Pos': 0.9543894065718489}"
      ]
     },
     "execution_count": 12,
     "metadata": {},
     "output_type": "execute_result"
    }
   ],
   "source": [
    "prepped_models[0]['results']"
   ]
  },
  {
   "cell_type": "markdown",
   "metadata": {},
   "source": [
    "# Full Data"
   ]
  },
  {
   "cell_type": "code",
   "execution_count": 13,
   "metadata": {},
   "outputs": [
    {
     "data": {
      "text/html": [
       "<div>\n",
       "<style scoped>\n",
       "    .dataframe tbody tr th:only-of-type {\n",
       "        vertical-align: middle;\n",
       "    }\n",
       "\n",
       "    .dataframe tbody tr th {\n",
       "        vertical-align: top;\n",
       "    }\n",
       "\n",
       "    .dataframe thead th {\n",
       "        text-align: right;\n",
       "    }\n",
       "</style>\n",
       "<table border=\"1\" class=\"dataframe\">\n",
       "  <thead>\n",
       "    <tr style=\"text-align: right;\">\n",
       "      <th></th>\n",
       "      <th>Data_Hora</th>\n",
       "      <th>LocalMax_d_All</th>\n",
       "      <th>LocalMax_d_ow</th>\n",
       "      <th>Local_d_Null</th>\n",
       "      <th>LocalMax_h_All</th>\n",
       "      <th>LocalMax_h_ow</th>\n",
       "      <th>Local_h_Null</th>\n",
       "      <th>Local</th>\n",
       "      <th>UmidadeRelativa</th>\n",
       "      <th>PressaoAtmosferica</th>\n",
       "      <th>...</th>\n",
       "      <th>TemperaturaInterna</th>\n",
       "      <th>PontoDeOrvalho</th>\n",
       "      <th>RadiacaoSolar</th>\n",
       "      <th>DirecaoDoVento</th>\n",
       "      <th>VelocidadeDoVento</th>\n",
       "      <th>Precipitacao</th>\n",
       "      <th>LocalMax_d</th>\n",
       "      <th>LocalMax_h</th>\n",
       "      <th>Local_d</th>\n",
       "      <th>Local_h</th>\n",
       "    </tr>\n",
       "  </thead>\n",
       "  <tbody>\n",
       "    <tr>\n",
       "      <th>0</th>\n",
       "      <td>2011-01-01 00:00:00</td>\n",
       "      <td>0.0</td>\n",
       "      <td>0.0</td>\n",
       "      <td>0.0</td>\n",
       "      <td>0.0</td>\n",
       "      <td>0.0</td>\n",
       "      <td>0.0</td>\n",
       "      <td>RM</td>\n",
       "      <td>86.6</td>\n",
       "      <td>926.7</td>\n",
       "      <td>...</td>\n",
       "      <td>23.3</td>\n",
       "      <td>17.8</td>\n",
       "      <td>0.0</td>\n",
       "      <td>131.0</td>\n",
       "      <td>2.5</td>\n",
       "      <td>0.0</td>\n",
       "      <td>0.0</td>\n",
       "      <td>0.0</td>\n",
       "      <td>0.0</td>\n",
       "      <td>0.0</td>\n",
       "    </tr>\n",
       "    <tr>\n",
       "      <th>1</th>\n",
       "      <td>2011-01-01 00:00:00</td>\n",
       "      <td>0.0</td>\n",
       "      <td>0.0</td>\n",
       "      <td>0.0</td>\n",
       "      <td>0.0</td>\n",
       "      <td>0.0</td>\n",
       "      <td>0.0</td>\n",
       "      <td>Erasmo</td>\n",
       "      <td>88.8</td>\n",
       "      <td>920.5</td>\n",
       "      <td>...</td>\n",
       "      <td>22.9</td>\n",
       "      <td>17.7</td>\n",
       "      <td>0.0</td>\n",
       "      <td>133.0</td>\n",
       "      <td>0.7</td>\n",
       "      <td>0.0</td>\n",
       "      <td>0.0</td>\n",
       "      <td>0.0</td>\n",
       "      <td>0.0</td>\n",
       "      <td>0.0</td>\n",
       "    </tr>\n",
       "    <tr>\n",
       "      <th>2</th>\n",
       "      <td>2011-01-01 00:00:00</td>\n",
       "      <td>0.0</td>\n",
       "      <td>0.0</td>\n",
       "      <td>0.0</td>\n",
       "      <td>0.0</td>\n",
       "      <td>0.0</td>\n",
       "      <td>0.0</td>\n",
       "      <td>Camilopolis</td>\n",
       "      <td>84.8</td>\n",
       "      <td>920.6</td>\n",
       "      <td>...</td>\n",
       "      <td>22.8</td>\n",
       "      <td>17.5</td>\n",
       "      <td>0.0</td>\n",
       "      <td>137.0</td>\n",
       "      <td>1.5</td>\n",
       "      <td>0.0</td>\n",
       "      <td>0.0</td>\n",
       "      <td>0.0</td>\n",
       "      <td>0.0</td>\n",
       "      <td>0.0</td>\n",
       "    </tr>\n",
       "    <tr>\n",
       "      <th>3</th>\n",
       "      <td>2011-01-01 00:00:00</td>\n",
       "      <td>0.0</td>\n",
       "      <td>0.0</td>\n",
       "      <td>0.0</td>\n",
       "      <td>0.0</td>\n",
       "      <td>0.0</td>\n",
       "      <td>0.0</td>\n",
       "      <td>Paraiso</td>\n",
       "      <td>92.3</td>\n",
       "      <td>919.1</td>\n",
       "      <td>...</td>\n",
       "      <td>22.7</td>\n",
       "      <td>18.0</td>\n",
       "      <td>0.0</td>\n",
       "      <td>101.0</td>\n",
       "      <td>2.6</td>\n",
       "      <td>0.0</td>\n",
       "      <td>0.0</td>\n",
       "      <td>0.0</td>\n",
       "      <td>0.0</td>\n",
       "      <td>0.0</td>\n",
       "    </tr>\n",
       "    <tr>\n",
       "      <th>4</th>\n",
       "      <td>2011-01-01 00:00:00</td>\n",
       "      <td>0.0</td>\n",
       "      <td>0.0</td>\n",
       "      <td>0.0</td>\n",
       "      <td>0.0</td>\n",
       "      <td>0.0</td>\n",
       "      <td>0.0</td>\n",
       "      <td>Vitoria</td>\n",
       "      <td>0.0</td>\n",
       "      <td>0.0</td>\n",
       "      <td>...</td>\n",
       "      <td>0.0</td>\n",
       "      <td>0.0</td>\n",
       "      <td>0.0</td>\n",
       "      <td>0.0</td>\n",
       "      <td>0.0</td>\n",
       "      <td>0.0</td>\n",
       "      <td>0.0</td>\n",
       "      <td>0.0</td>\n",
       "      <td>0.0</td>\n",
       "      <td>0.0</td>\n",
       "    </tr>\n",
       "  </tbody>\n",
       "</table>\n",
       "<p>5 rows × 21 columns</p>\n",
       "</div>"
      ],
      "text/plain": [
       "             Data_Hora  LocalMax_d_All  LocalMax_d_ow  Local_d_Null  \\\n",
       "0  2011-01-01 00:00:00             0.0            0.0           0.0   \n",
       "1  2011-01-01 00:00:00             0.0            0.0           0.0   \n",
       "2  2011-01-01 00:00:00             0.0            0.0           0.0   \n",
       "3  2011-01-01 00:00:00             0.0            0.0           0.0   \n",
       "4  2011-01-01 00:00:00             0.0            0.0           0.0   \n",
       "\n",
       "   LocalMax_h_All  LocalMax_h_ow  Local_h_Null        Local  UmidadeRelativa  \\\n",
       "0             0.0            0.0           0.0           RM             86.6   \n",
       "1             0.0            0.0           0.0       Erasmo             88.8   \n",
       "2             0.0            0.0           0.0  Camilopolis             84.8   \n",
       "3             0.0            0.0           0.0      Paraiso             92.3   \n",
       "4             0.0            0.0           0.0      Vitoria              0.0   \n",
       "\n",
       "   PressaoAtmosferica  ...  TemperaturaInterna  PontoDeOrvalho  RadiacaoSolar  \\\n",
       "0               926.7  ...                23.3            17.8            0.0   \n",
       "1               920.5  ...                22.9            17.7            0.0   \n",
       "2               920.6  ...                22.8            17.5            0.0   \n",
       "3               919.1  ...                22.7            18.0            0.0   \n",
       "4                 0.0  ...                 0.0             0.0            0.0   \n",
       "\n",
       "   DirecaoDoVento  VelocidadeDoVento  Precipitacao  LocalMax_d  LocalMax_h  \\\n",
       "0           131.0                2.5           0.0         0.0         0.0   \n",
       "1           133.0                0.7           0.0         0.0         0.0   \n",
       "2           137.0                1.5           0.0         0.0         0.0   \n",
       "3           101.0                2.6           0.0         0.0         0.0   \n",
       "4             0.0                0.0           0.0         0.0         0.0   \n",
       "\n",
       "   Local_d  Local_h  \n",
       "0      0.0      0.0  \n",
       "1      0.0      0.0  \n",
       "2      0.0      0.0  \n",
       "3      0.0      0.0  \n",
       "4      0.0      0.0  \n",
       "\n",
       "[5 rows x 21 columns]"
      ]
     },
     "metadata": {},
     "output_type": "display_data"
    },
    {
     "data": {
      "text/plain": [
       "(1464030, 21)"
      ]
     },
     "execution_count": 13,
     "metadata": {},
     "output_type": "execute_result"
    }
   ],
   "source": [
    "df_f = pd.read_csv('../../../data/cleandata/Info pluviometricas/Merged Data/full_data.csv', sep=';')\n",
    "display(df_f.head())\n",
    "df_f.shape"
   ]
  },
  {
   "cell_type": "code",
   "execution_count": 14,
   "metadata": {},
   "outputs": [],
   "source": [
    "df_f['Data_Hora'] = pd.to_datetime(df_f['Data_Hora'], yearfirst=True)\n",
    "df_f = df_f[df_f['Data_Hora'].dt.minute == 0]\n",
    "df_f = df_f.drop(columns = ['LocalMax_d_ow', 'LocalMax_h_All', 'LocalMax_h', 'LocalMax_h_ow', 'LocalMax_d'] + [c for c in df_f.columns if 'Local_' in c])\n",
    "df_f = df_f.rename(columns = {'LocalMax_d_All': 'Label'})\n",
    "df_f['Dia'] = df_f['Data_Hora'].dt.day\n",
    "df_f['Mes'] = df_f['Data_Hora'].dt.month\n",
    "df_f['Data'] = df_f['Data_Hora'].dt.strftime('%Y-%m-%d')\n",
    "df_f['Local'] = df_f['Local'].replace({'Camilopolis': 1, 'Erasmo': 2, 'Paraiso': 3, 'RM': 4, 'Vitoria': 5})"
   ]
  },
  {
   "cell_type": "code",
   "execution_count": 15,
   "metadata": {},
   "outputs": [],
   "source": [
    "df_prec_sum = df_f.groupby(['Data', 'Local']).sum().reset_index()[['Data', 'Local', 'Precipitacao']]\n",
    "df_prec_sum.columns = ['Data', 'Local', 'PrecSum']\n",
    "df_f = df_f.merge(df_prec_sum, on=['Data', 'Local'])\n",
    "df_f.loc[(df_f['Label'] == 1) & (df_f['PrecSum'] <= 10), 'Label'] = 0"
   ]
  },
  {
   "cell_type": "code",
   "execution_count": 16,
   "metadata": {},
   "outputs": [],
   "source": [
    "cols_dummies = ['Local', 'Mes',]# 'Dia']\n",
    "\n",
    "df_f_ohe = df_f.copy()\n",
    "\n",
    "for c in cols_dummies:\n",
    "    df_f_ohe = pd.concat([df_f_ohe, pd.get_dummies(df_f[c], prefix=c)], axis=1)\n",
    "    \n",
    "df_f_ohe = df_f_ohe.sort_values(['Data', 'Local'])\n",
    "\n",
    "df_f_ohe['Label_Old'] = df_f_ohe['Label']\n",
    "df_f_ohe['Label'] = df_f_ohe['Label'].shift(-5*6, fill_value = 0)"
   ]
  },
  {
   "cell_type": "code",
   "execution_count": 17,
   "metadata": {},
   "outputs": [
    {
     "data": {
      "text/plain": [
       "Index(['Data_Hora', 'Label', 'Local', 'UmidadeRelativa', 'PressaoAtmosferica',\n",
       "       'TemperaturaDoAr', 'TemperaturaInterna', 'PontoDeOrvalho',\n",
       "       'RadiacaoSolar', 'DirecaoDoVento', 'VelocidadeDoVento', 'Precipitacao',\n",
       "       'Dia', 'Mes', 'Data', 'PrecSum', 'Local_1', 'Local_2', 'Local_3',\n",
       "       'Local_4', 'Local_5', 'Mes_1', 'Mes_2', 'Mes_3', 'Mes_4', 'Mes_5',\n",
       "       'Mes_6', 'Mes_7', 'Mes_8', 'Mes_9', 'Mes_10', 'Mes_11', 'Mes_12',\n",
       "       'Label_Old'],\n",
       "      dtype='object')"
      ]
     },
     "execution_count": 17,
     "metadata": {},
     "output_type": "execute_result"
    }
   ],
   "source": [
    "df_f_ohe.columns"
   ]
  },
  {
   "cell_type": "code",
   "execution_count": 18,
   "metadata": {
    "scrolled": true
   },
   "outputs": [
    {
     "name": "stdout",
     "output_type": "stream",
     "text": [
      "---------- CASE ----------\n",
      "[]\n",
      "--------------------------\n",
      "----- LOCAL 0 -----\n",
      "Treino: 0.9965700037381988\n",
      "Teste: 0.9868862013696634\n",
      "Precisão: 0.6057183198023297\n",
      "Recall: 0.8415890142226582\n",
      "F1: 0.7044334975369458\n"
     ]
    },
    {
     "data": {
      "text/plain": [
       "array([[0.98963524, 0.01036476],\n",
       "       [0.15841099, 0.84158901]])"
      ]
     },
     "metadata": {},
     "output_type": "display_data"
    },
    {
     "data": {
      "text/plain": [
       "array([[106652,   1117],\n",
       "       [   323,   1716]], dtype=int64)"
      ]
     },
     "metadata": {},
     "output_type": "display_data"
    },
    {
     "name": "stdout",
     "output_type": "stream",
     "text": [
      "----- LOCAL 1 -----\n",
      "Treino: 0.9982319168802273\n",
      "Teste: 0.9911210272288499\n",
      "Precisão: 0.7031578947368421\n",
      "Recall: 0.8608247422680413\n",
      "F1: 0.7740440324449596\n"
     ]
    },
    {
     "data": {
      "text/plain": [
       "array([[0.99346436, 0.00653564],\n",
       "       [0.13917526, 0.86082474]])"
      ]
     },
     "metadata": {},
     "output_type": "display_data"
    },
    {
     "data": {
      "text/plain": [
       "array([[21433,   141],\n",
       "       [   54,   334]], dtype=int64)"
      ]
     },
     "metadata": {},
     "output_type": "display_data"
    },
    {
     "name": "stdout",
     "output_type": "stream",
     "text": [
      "----- LOCAL 2 -----\n",
      "Treino: 0.9965230867042836\n",
      "Teste: 0.9910754940351516\n",
      "Precisão: 0.6837121212121212\n",
      "Recall: 0.9256410256410257\n",
      "F1: 0.7864923747276689\n"
     ]
    },
    {
     "data": {
      "text/plain": [
       "array([[0.99225848, 0.00774152],\n",
       "       [0.07435897, 0.92564103]])"
      ]
     },
     "metadata": {},
     "output_type": "display_data"
    },
    {
     "data": {
      "text/plain": [
       "array([[21405,   167],\n",
       "       [   29,   361]], dtype=int64)"
      ]
     },
     "metadata": {},
     "output_type": "display_data"
    },
    {
     "name": "stdout",
     "output_type": "stream",
     "text": [
      "----- LOCAL 3 -----\n",
      "Treino: 0.9987060556595134\n",
      "Teste: 0.9924414898460978\n",
      "Precisão: 0.7763975155279503\n",
      "Recall: 0.8660508083140878\n",
      "F1: 0.8187772925764193\n"
     ]
    },
    {
     "data": {
      "text/plain": [
       "array([[0.99498351, 0.00501649],\n",
       "       [0.13394919, 0.86605081]])"
      ]
     },
     "metadata": {},
     "output_type": "display_data"
    },
    {
     "data": {
      "text/plain": [
       "array([[21421,   108],\n",
       "       [   58,   375]], dtype=int64)"
      ]
     },
     "metadata": {},
     "output_type": "display_data"
    },
    {
     "name": "stdout",
     "output_type": "stream",
     "text": [
      "----- LOCAL 4 -----\n",
      "Treino: 0.9956357490804255\n",
      "Teste: 0.9815590565522265\n",
      "Precisão: 0.5016556291390728\n",
      "Recall: 0.7444717444717445\n",
      "F1: 0.5994065281899109\n"
     ]
    },
    {
     "data": {
      "text/plain": [
       "array([[0.98603572, 0.01396428],\n",
       "       [0.25552826, 0.74447174]])"
      ]
     },
     "metadata": {},
     "output_type": "display_data"
    },
    {
     "data": {
      "text/plain": [
       "array([[21254,   301],\n",
       "       [  104,   303]], dtype=int64)"
      ]
     },
     "metadata": {},
     "output_type": "display_data"
    },
    {
     "name": "stdout",
     "output_type": "stream",
     "text": [
      "----- LOCAL 5 -----\n",
      "Treino: 0.995970870888796\n",
      "Teste: 0.9858391767598579\n",
      "Precisão: 0.5982300884955752\n",
      "Recall: 0.8009478672985783\n",
      "F1: 0.684903748733536\n"
     ]
    },
    {
     "data": {
      "text/plain": [
       "array([[0.98946147, 0.01053853],\n",
       "       [0.19905213, 0.80094787]])"
      ]
     },
     "metadata": {},
     "output_type": "display_data"
    },
    {
     "data": {
      "text/plain": [
       "array([[21313,   227],\n",
       "       [   84,   338]], dtype=int64)"
      ]
     },
     "metadata": {},
     "output_type": "display_data"
    },
    {
     "name": "stdout",
     "output_type": "stream",
     "text": [
      "---------- CASE ----------\n",
      "['DirecaoDoVento', 'VelocidadeDoVento']\n",
      "--------------------------\n",
      "----- LOCAL 0 -----\n",
      "Treino: 0.9968066237701724\n",
      "Teste: 0.9888077371411919\n",
      "Precisão: 0.6486784140969163\n",
      "Recall: 0.8666012751348701\n",
      "F1: 0.7419693470501785\n"
     ]
    },
    {
     "data": {
      "text/plain": [
       "array([[0.9911199 , 0.0088801 ],\n",
       "       [0.13339872, 0.86660128]])"
      ]
     },
     "metadata": {},
     "output_type": "display_data"
    },
    {
     "data": {
      "text/plain": [
       "array([[106812,    957],\n",
       "       [   272,   1767]], dtype=int64)"
      ]
     },
     "metadata": {},
     "output_type": "display_data"
    },
    {
     "name": "stdout",
     "output_type": "stream",
     "text": [
      "----- LOCAL 1 -----\n",
      "Treino: 0.9984206448536862\n",
      "Teste: 0.9926236226208907\n",
      "Precisão: 0.7456521739130435\n",
      "Recall: 0.884020618556701\n",
      "F1: 0.8089622641509434\n"
     ]
    },
    {
     "data": {
      "text/plain": [
       "array([[0.99457681, 0.00542319],\n",
       "       [0.11597938, 0.88402062]])"
      ]
     },
     "metadata": {},
     "output_type": "display_data"
    },
    {
     "data": {
      "text/plain": [
       "array([[21457,   117],\n",
       "       [   45,   343]], dtype=int64)"
      ]
     },
     "metadata": {},
     "output_type": "display_data"
    },
    {
     "name": "stdout",
     "output_type": "stream",
     "text": [
      "----- LOCAL 2 -----\n",
      "Treino: 0.9964734165143447\n",
      "Teste: 0.9914852927784354\n",
      "Precisão: 0.6948176583493282\n",
      "Recall: 0.9282051282051282\n",
      "F1: 0.7947310647639957\n"
     ]
    },
    {
     "data": {
      "text/plain": [
       "array([[0.99262933, 0.00737067],\n",
       "       [0.07179487, 0.92820513]])"
      ]
     },
     "metadata": {},
     "output_type": "display_data"
    },
    {
     "data": {
      "text/plain": [
       "array([[21413,   159],\n",
       "       [   28,   362]], dtype=int64)"
      ]
     },
     "metadata": {},
     "output_type": "display_data"
    },
    {
     "name": "stdout",
     "output_type": "stream",
     "text": [
      "----- LOCAL 3 -----\n",
      "Treino: 0.9988254966755584\n",
      "Teste: 0.9947181495310081\n",
      "Precisão: 0.8408602150537634\n",
      "Recall: 0.9030023094688222\n",
      "F1: 0.8708240534521159\n"
     ]
    },
    {
     "data": {
      "text/plain": [
       "array([[0.99656278, 0.00343722],\n",
       "       [0.09699769, 0.90300231]])"
      ]
     },
     "metadata": {},
     "output_type": "display_data"
    },
    {
     "data": {
      "text/plain": [
       "array([[21455,    74],\n",
       "       [   42,   391]], dtype=int64)"
      ]
     },
     "metadata": {},
     "output_type": "display_data"
    },
    {
     "name": "stdout",
     "output_type": "stream",
     "text": [
      "----- LOCAL 4 -----\n",
      "Treino: 0.995615866388309\n",
      "Teste: 0.9824697204261907\n",
      "Precisão: 0.5180921052631579\n",
      "Recall: 0.773955773955774\n",
      "F1: 0.6206896551724138\n"
     ]
    },
    {
     "data": {
      "text/plain": [
       "array([[0.98640687, 0.01359313],\n",
       "       [0.22604423, 0.77395577]])"
      ]
     },
     "metadata": {},
     "output_type": "display_data"
    },
    {
     "data": {
      "text/plain": [
       "array([[21262,   293],\n",
       "       [   92,   315]], dtype=int64)"
      ]
     },
     "metadata": {},
     "output_type": "display_data"
    },
    {
     "name": "stdout",
     "output_type": "stream",
     "text": [
      "----- LOCAL 5 -----\n",
      "Treino: 0.9960803040251497\n",
      "Teste: 0.9862034423094436\n",
      "Precisão: 0.6053097345132743\n",
      "Recall: 0.8104265402843602\n",
      "F1: 0.6930091185410334\n"
     ]
    },
    {
     "data": {
      "text/plain": [
       "array([[0.98964717, 0.01035283],\n",
       "       [0.18957346, 0.81042654]])"
      ]
     },
     "metadata": {},
     "output_type": "display_data"
    },
    {
     "data": {
      "text/plain": [
       "array([[21317,   223],\n",
       "       [   80,   342]], dtype=int64)"
      ]
     },
     "metadata": {},
     "output_type": "display_data"
    },
    {
     "name": "stdout",
     "output_type": "stream",
     "text": [
      "---------- CASE ----------\n",
      "['DirecaoDoVento', 'VelocidadeDoVento', 'TemperaturaInterna']\n",
      "--------------------------\n",
      "----- LOCAL 0 -----\n",
      "Treino: 0.9969259279879741\n",
      "Teste: 0.9894269998542912\n",
      "Precisão: 0.6647897897897898\n",
      "Recall: 0.868563021088769\n",
      "F1: 0.7531362959812885\n"
     ]
    },
    {
     "data": {
      "text/plain": [
       "array([[0.99171376, 0.00828624],\n",
       "       [0.13143698, 0.86856302]])"
      ]
     },
     "metadata": {},
     "output_type": "display_data"
    },
    {
     "data": {
      "text/plain": [
       "array([[106876,    893],\n",
       "       [   268,   1771]], dtype=int64)"
      ]
     },
     "metadata": {},
     "output_type": "display_data"
    },
    {
     "name": "stdout",
     "output_type": "stream",
     "text": [
      "----- LOCAL 1 -----\n",
      "Treino: 0.9983312473925741\n",
      "Teste: 0.9928968217830799\n",
      "Precisão: 0.75\n",
      "Recall: 0.8969072164948454\n",
      "F1: 0.8169014084507044\n"
     ]
    },
    {
     "data": {
      "text/plain": [
       "array([[0.99462316, 0.00537684],\n",
       "       [0.10309278, 0.89690722]])"
      ]
     },
     "metadata": {},
     "output_type": "display_data"
    },
    {
     "data": {
      "text/plain": [
       "array([[21458,   116],\n",
       "       [   40,   348]], dtype=int64)"
      ]
     },
     "metadata": {},
     "output_type": "display_data"
    },
    {
     "name": "stdout",
     "output_type": "stream",
     "text": [
      "----- LOCAL 2 -----\n",
      "Treino: 0.9965330207422713\n",
      "Teste: 0.9914397595847373\n",
      "Precisão: 0.6927480916030534\n",
      "Recall: 0.9307692307692308\n",
      "F1: 0.7943107221006565\n"
     ]
    },
    {
     "data": {
      "text/plain": [
       "array([[0.99253662, 0.00746338],\n",
       "       [0.06923077, 0.93076923]])"
      ]
     },
     "metadata": {},
     "output_type": "display_data"
    },
    {
     "data": {
      "text/plain": [
       "array([[21411,   161],\n",
       "       [   27,   363]], dtype=int64)"
      ]
     },
     "metadata": {},
     "output_type": "display_data"
    },
    {
     "name": "stdout",
     "output_type": "stream",
     "text": [
      "----- LOCAL 3 -----\n",
      "Treino: 0.9988752637655771\n",
      "Teste: 0.9949913486931974\n",
      "Precisão: 0.84\n",
      "Recall: 0.9214780600461894\n",
      "F1: 0.8788546255506609\n"
     ]
    },
    {
     "data": {
      "text/plain": [
       "array([[0.99646988, 0.00353012],\n",
       "       [0.07852194, 0.92147806]])"
      ]
     },
     "metadata": {},
     "output_type": "display_data"
    },
    {
     "data": {
      "text/plain": [
       "array([[21453,    76],\n",
       "       [   34,   399]], dtype=int64)"
      ]
     },
     "metadata": {},
     "output_type": "display_data"
    },
    {
     "name": "stdout",
     "output_type": "stream",
     "text": [
      "----- LOCAL 4 -----\n",
      "Treino: 0.99526791927627\n",
      "Teste: 0.9815135233585284\n",
      "Precisão: 0.5008130081300813\n",
      "Recall: 0.7567567567567568\n",
      "F1: 0.6027397260273973\n"
     ]
    },
    {
     "data": {
      "text/plain": [
       "array([[0.98575736, 0.01424264],\n",
       "       [0.24324324, 0.75675676]])"
      ]
     },
     "metadata": {},
     "output_type": "display_data"
    },
    {
     "data": {
      "text/plain": [
       "array([[21248,   307],\n",
       "       [   99,   308]], dtype=int64)"
      ]
     },
     "metadata": {},
     "output_type": "display_data"
    },
    {
     "name": "stdout",
     "output_type": "stream",
     "text": [
      "----- LOCAL 5 -----\n",
      "Treino: 0.9961101494259734\n",
      "Teste: 0.9859302431472543\n",
      "Precisão: 0.6\n",
      "Recall: 0.8033175355450237\n",
      "F1: 0.6869300911854103\n"
     ]
    },
    {
     "data": {
      "text/plain": [
       "array([[0.98950789, 0.01049211],\n",
       "       [0.19668246, 0.80331754]])"
      ]
     },
     "metadata": {},
     "output_type": "display_data"
    },
    {
     "data": {
      "text/plain": [
       "array([[21314,   226],\n",
       "       [   83,   339]], dtype=int64)"
      ]
     },
     "metadata": {},
     "output_type": "display_data"
    },
    {
     "name": "stdout",
     "output_type": "stream",
     "text": [
      "---------- CASE ----------\n",
      "['DirecaoDoVento', 'VelocidadeDoVento', 'TemperaturaInterna', 'PontoDeOrvalho']\n",
      "--------------------------\n",
      "----- LOCAL 0 -----\n",
      "Treino: 0.9969756380787249\n",
      "Teste: 0.9896546699694011\n",
      "Precisão: 0.6703130894002264\n",
      "Recall: 0.8715056400196175\n",
      "F1: 0.7577825159914714\n"
     ]
    },
    {
     "data": {
      "text/plain": [
       "array([[0.99189006, 0.00810994],\n",
       "       [0.12849436, 0.87150564]])"
      ]
     },
     "metadata": {},
     "output_type": "display_data"
    },
    {
     "data": {
      "text/plain": [
       "array([[106895,    874],\n",
       "       [   262,   1777]], dtype=int64)"
      ]
     },
     "metadata": {},
     "output_type": "display_data"
    },
    {
     "name": "stdout",
     "output_type": "stream",
     "text": [
      "----- LOCAL 1 -----\n",
      "Treino: 0.9984405109561555\n",
      "Teste: 0.994035151625535\n",
      "Precisão: 0.7811816192560175\n",
      "Recall: 0.9201030927835051\n",
      "F1: 0.8449704142011834\n"
     ]
    },
    {
     "data": {
      "text/plain": [
       "array([[0.99536479, 0.00463521],\n",
       "       [0.07989691, 0.92010309]])"
      ]
     },
     "metadata": {},
     "output_type": "display_data"
    },
    {
     "data": {
      "text/plain": [
       "array([[21474,   100],\n",
       "       [   31,   357]], dtype=int64)"
      ]
     },
     "metadata": {},
     "output_type": "display_data"
    },
    {
     "name": "stdout",
     "output_type": "stream",
     "text": [
      "----- LOCAL 2 -----\n",
      "Treino: 0.9967416355400143\n",
      "Teste: 0.9916674255532283\n",
      "Precisão: 0.6963946869070209\n",
      "Recall: 0.941025641025641\n",
      "F1: 0.8004362050163577\n"
     ]
    },
    {
     "data": {
      "text/plain": [
       "array([[0.99258298, 0.00741702],\n",
       "       [0.05897436, 0.94102564]])"
      ]
     },
     "metadata": {},
     "output_type": "display_data"
    },
    {
     "data": {
      "text/plain": [
       "array([[21412,   160],\n",
       "       [   23,   367]], dtype=int64)"
      ]
     },
     "metadata": {},
     "output_type": "display_data"
    },
    {
     "name": "stdout",
     "output_type": "stream",
     "text": [
      "----- LOCAL 3 -----\n",
      "Treino: 0.9986761954055022\n",
      "Teste: 0.9944449503688189\n",
      "Precisão: 0.8128772635814889\n",
      "Recall: 0.9330254041570438\n",
      "F1: 0.8688172043010752\n"
     ]
    },
    {
     "data": {
      "text/plain": [
       "array([[0.99568025, 0.00431975],\n",
       "       [0.0669746 , 0.9330254 ]])"
      ]
     },
     "metadata": {},
     "output_type": "display_data"
    },
    {
     "data": {
      "text/plain": [
       "array([[21436,    93],\n",
       "       [   29,   404]], dtype=int64)"
      ]
     },
     "metadata": {},
     "output_type": "display_data"
    },
    {
     "name": "stdout",
     "output_type": "stream",
     "text": [
      "----- LOCAL 4 -----\n",
      "Treino: 0.9961328163833383\n",
      "Teste: 0.983653583462344\n",
      "Precisão: 0.54\n",
      "Recall: 0.7960687960687961\n",
      "F1: 0.6434955312810328\n"
     ]
    },
    {
     "data": {
      "text/plain": [
       "array([[0.98719555, 0.01280445],\n",
       "       [0.2039312 , 0.7960688 ]])"
      ]
     },
     "metadata": {},
     "output_type": "display_data"
    },
    {
     "data": {
      "text/plain": [
       "array([[21279,   276],\n",
       "       [   83,   324]], dtype=int64)"
      ]
     },
     "metadata": {},
     "output_type": "display_data"
    },
    {
     "name": "stdout",
     "output_type": "stream",
     "text": [
      "----- LOCAL 5 -----\n",
      "Treino: 0.9965876758391532\n",
      "Teste: 0.9885256351880521\n",
      "Precisão: 0.6591760299625468\n",
      "Recall: 0.8341232227488151\n",
      "F1: 0.7364016736401672\n"
     ]
    },
    {
     "data": {
      "text/plain": [
       "array([[0.9915506 , 0.0084494 ],\n",
       "       [0.16587678, 0.83412322]])"
      ]
     },
     "metadata": {},
     "output_type": "display_data"
    },
    {
     "data": {
      "text/plain": [
       "array([[21358,   182],\n",
       "       [   70,   352]], dtype=int64)"
      ]
     },
     "metadata": {},
     "output_type": "display_data"
    },
    {
     "name": "stdout",
     "output_type": "stream",
     "text": [
      "---------- CASE ----------\n",
      "['DirecaoDoVento', 'VelocidadeDoVento', 'TemperaturaInterna', 'PontoDeOrvalho', 'UmidadeRelativa']\n",
      "--------------------------\n",
      "----- LOCAL 0 -----\n",
      "Treino: 0.996983591693245\n",
      "Teste: 0.9899369809121376\n",
      "Precisão: 0.6739940387481371\n",
      "Recall: 0.8871996076508092\n",
      "F1: 0.7660385348295575\n"
     ]
    },
    {
     "data": {
      "text/plain": [
       "array([[0.99188078, 0.00811922],\n",
       "       [0.11280039, 0.88719961]])"
      ]
     },
     "metadata": {},
     "output_type": "display_data"
    },
    {
     "data": {
      "text/plain": [
       "array([[106894,    875],\n",
       "       [   230,   1809]], dtype=int64)"
      ]
     },
     "metadata": {},
     "output_type": "display_data"
    },
    {
     "name": "stdout",
     "output_type": "stream",
     "text": [
      "----- LOCAL 1 -----\n",
      "Treino: 0.9983411804438087\n",
      "Teste: 0.9934432201074583\n",
      "Precisão: 0.7618025751072961\n",
      "Recall: 0.9149484536082474\n",
      "F1: 0.8313817330210772\n"
     ]
    },
    {
     "data": {
      "text/plain": [
       "array([[0.99485492, 0.00514508],\n",
       "       [0.08505155, 0.91494845]])"
      ]
     },
     "metadata": {},
     "output_type": "display_data"
    },
    {
     "data": {
      "text/plain": [
       "array([[21463,   111],\n",
       "       [   33,   355]], dtype=int64)"
      ]
     },
     "metadata": {},
     "output_type": "display_data"
    },
    {
     "name": "stdout",
     "output_type": "stream",
     "text": [
      "----- LOCAL 2 -----\n",
      "Treino: 0.9968012397679409\n",
      "Teste: 0.9932155541389673\n",
      "Precisão: 0.7330754352030948\n",
      "Recall: 0.9717948717948718\n",
      "F1: 0.8357221609702316\n"
     ]
    },
    {
     "data": {
      "text/plain": [
       "array([[0.99360282, 0.00639718],\n",
       "       [0.02820513, 0.97179487]])"
      ]
     },
     "metadata": {},
     "output_type": "display_data"
    },
    {
     "data": {
      "text/plain": [
       "array([[21434,   138],\n",
       "       [   11,   379]], dtype=int64)"
      ]
     },
     "metadata": {},
     "output_type": "display_data"
    },
    {
     "name": "stdout",
     "output_type": "stream",
     "text": [
      "----- LOCAL 3 -----\n",
      "Treino: 0.9983278257753713\n",
      "Teste: 0.9939896184318369\n",
      "Precisão: 0.796844181459566\n",
      "Recall: 0.9330254041570438\n",
      "F1: 0.8595744680851064\n"
     ]
    },
    {
     "data": {
      "text/plain": [
       "array([[0.99521576, 0.00478424],\n",
       "       [0.0669746 , 0.9330254 ]])"
      ]
     },
     "metadata": {},
     "output_type": "display_data"
    },
    {
     "data": {
      "text/plain": [
       "array([[21426,   103],\n",
       "       [   29,   404]], dtype=int64)"
      ]
     },
     "metadata": {},
     "output_type": "display_data"
    },
    {
     "name": "stdout",
     "output_type": "stream",
     "text": [
      "----- LOCAL 4 -----\n",
      "Treino: 0.9966100009941347\n",
      "Teste: 0.9869319734086148\n",
      "Precisão: 0.6140684410646388\n",
      "Recall: 0.7936117936117936\n",
      "F1: 0.6923901393354769\n"
     ]
    },
    {
     "data": {
      "text/plain": [
       "array([[0.99058223, 0.00941777],\n",
       "       [0.20638821, 0.79361179]])"
      ]
     },
     "metadata": {},
     "output_type": "display_data"
    },
    {
     "data": {
      "text/plain": [
       "array([[21352,   203],\n",
       "       [   84,   323]], dtype=int64)"
      ]
     },
     "metadata": {},
     "output_type": "display_data"
    },
    {
     "name": "stdout",
     "output_type": "stream",
     "text": [
      "----- LOCAL 5 -----\n",
      "Treino: 0.995234684335144\n",
      "Teste: 0.9862034423094436\n",
      "Precisão: 0.5993322203672788\n",
      "Recall: 0.8507109004739336\n",
      "F1: 0.703232125367287\n"
     ]
    },
    {
     "data": {
      "text/plain": [
       "array([[0.98885794, 0.01114206],\n",
       "       [0.1492891 , 0.8507109 ]])"
      ]
     },
     "metadata": {},
     "output_type": "display_data"
    },
    {
     "data": {
      "text/plain": [
       "array([[21300,   240],\n",
       "       [   63,   359]], dtype=int64)"
      ]
     },
     "metadata": {},
     "output_type": "display_data"
    },
    {
     "name": "stdout",
     "output_type": "stream",
     "text": [
      "---------- CASE ----------\n",
      "['DirecaoDoVento', 'VelocidadeDoVento', 'TemperaturaInterna', 'PontoDeOrvalho', 'UmidadeRelativa', 'PressaoAtmosferica']\n",
      "--------------------------\n",
      "----- LOCAL 0 -----\n",
      "Treino: 0.9965362008764883\n",
      "Teste: 0.9900189421535771\n",
      "Precisão: 0.6678533285866857\n",
      "Recall: 0.920058852378617\n",
      "F1: 0.7739273927392739\n"
     ]
    },
    {
     "data": {
      "text/plain": [
       "array([[0.99134259, 0.00865741],\n",
       "       [0.07994115, 0.92005885]])"
      ]
     },
     "metadata": {},
     "output_type": "display_data"
    },
    {
     "data": {
      "text/plain": [
       "array([[106836,    933],\n",
       "       [   163,   1876]], dtype=int64)"
      ]
     },
     "metadata": {},
     "output_type": "display_data"
    },
    {
     "name": "stdout",
     "output_type": "stream",
     "text": [
      "----- LOCAL 1 -----\n",
      "Treino: 0.9983610465462781\n",
      "Teste: 0.9945815499499134\n",
      "Precisão: 0.7880085653104925\n",
      "Recall: 0.9484536082474226\n",
      "F1: 0.8608187134502924\n"
     ]
    },
    {
     "data": {
      "text/plain": [
       "array([[0.99541114, 0.00458886],\n",
       "       [0.05154639, 0.94845361]])"
      ]
     },
     "metadata": {},
     "output_type": "display_data"
    },
    {
     "data": {
      "text/plain": [
       "array([[21475,    99],\n",
       "       [   20,   368]], dtype=int64)"
      ]
     },
     "metadata": {},
     "output_type": "display_data"
    },
    {
     "name": "stdout",
     "output_type": "stream",
     "text": [
      "----- LOCAL 2 -----\n",
      "Treino: 0.9958078359691648\n",
      "Teste: 0.9917584919406247\n",
      "Precisão: 0.6882882882882883\n",
      "Recall: 0.9794871794871794\n",
      "F1: 0.8084656084656084\n"
     ]
    },
    {
     "data": {
      "text/plain": [
       "array([[0.99198034, 0.00801966],\n",
       "       [0.02051282, 0.97948718]])"
      ]
     },
     "metadata": {},
     "output_type": "display_data"
    },
    {
     "data": {
      "text/plain": [
       "array([[21399,   173],\n",
       "       [    8,   382]], dtype=int64)"
      ]
     },
     "metadata": {},
     "output_type": "display_data"
    },
    {
     "name": "stdout",
     "output_type": "stream",
     "text": [
      "----- LOCAL 3 -----\n",
      "Treino: 0.9982183381773301\n",
      "Teste: 0.9947636827247063\n",
      "Precisão: 0.8117647058823529\n",
      "Recall: 0.9561200923787528\n",
      "F1: 0.878048780487805\n"
     ]
    },
    {
     "data": {
      "text/plain": [
       "array([[0.9955409 , 0.0044591 ],\n",
       "       [0.04387991, 0.95612009]])"
      ]
     },
     "metadata": {},
     "output_type": "display_data"
    },
    {
     "data": {
      "text/plain": [
       "array([[21433,    96],\n",
       "       [   19,   414]], dtype=int64)"
      ]
     },
     "metadata": {},
     "output_type": "display_data"
    },
    {
     "name": "stdout",
     "output_type": "stream",
     "text": [
      "----- LOCAL 4 -----\n",
      "Treino: 0.9957451038870663\n",
      "Teste: 0.9853383116291776\n",
      "Precisão: 0.5704809286898839\n",
      "Recall: 0.8452088452088452\n",
      "F1: 0.6811881188118812\n"
     ]
    },
    {
     "data": {
      "text/plain": [
       "array([[0.98798423, 0.01201577],\n",
       "       [0.15479115, 0.84520885]])"
      ]
     },
     "metadata": {},
     "output_type": "display_data"
    },
    {
     "data": {
      "text/plain": [
       "array([[21296,   259],\n",
       "       [   63,   344]], dtype=int64)"
      ]
     },
     "metadata": {},
     "output_type": "display_data"
    },
    {
     "name": "stdout",
     "output_type": "stream",
     "text": [
      "----- LOCAL 5 -----\n",
      "Treino: 0.9947571579219642\n",
      "Teste: 0.9874783717329934\n",
      "Precisão: 0.6218905472636815\n",
      "Recall: 0.8886255924170616\n",
      "F1: 0.7317073170731707\n"
     ]
    },
    {
     "data": {
      "text/plain": [
       "array([[0.98941504, 0.01058496],\n",
       "       [0.11137441, 0.88862559]])"
      ]
     },
     "metadata": {},
     "output_type": "display_data"
    },
    {
     "data": {
      "text/plain": [
       "array([[21312,   228],\n",
       "       [   47,   375]], dtype=int64)"
      ]
     },
     "metadata": {},
     "output_type": "display_data"
    },
    {
     "name": "stdout",
     "output_type": "stream",
     "text": [
      "---------- CASE ----------\n",
      "['DirecaoDoVento', 'VelocidadeDoVento', 'TemperaturaInterna', 'PontoDeOrvalho', 'UmidadeRelativa', 'PressaoAtmosferica', 'RadiacaoSolar']\n",
      "--------------------------\n",
      "----- LOCAL 0 -----\n",
      "Treino: 0.9961504505722626\n",
      "Teste: 0.989581815532566\n",
      "Precisão: 0.6556521739130434\n",
      "Recall: 0.9244727807748897\n",
      "F1: 0.7671957671957671\n"
     ]
    },
    {
     "data": {
      "text/plain": [
       "array([[0.99081368, 0.00918632],\n",
       "       [0.07552722, 0.92447278]])"
      ]
     },
     "metadata": {},
     "output_type": "display_data"
    },
    {
     "data": {
      "text/plain": [
       "array([[106779,    990],\n",
       "       [   154,   1885]], dtype=int64)"
      ]
     },
     "metadata": {},
     "output_type": "display_data"
    },
    {
     "name": "stdout",
     "output_type": "stream",
     "text": [
      "----- LOCAL 1 -----\n",
      "Treino: 0.9982219838289926\n",
      "Teste: 0.9943538839814224\n",
      "Precisão: 0.7832618025751072\n",
      "Recall: 0.9407216494845361\n",
      "F1: 0.8548009367681498\n"
     ]
    },
    {
     "data": {
      "text/plain": [
       "array([[0.99531844, 0.00468156],\n",
       "       [0.05927835, 0.94072165]])"
      ]
     },
     "metadata": {},
     "output_type": "display_data"
    },
    {
     "data": {
      "text/plain": [
       "array([[21473,   101],\n",
       "       [   23,   365]], dtype=int64)"
      ]
     },
     "metadata": {},
     "output_type": "display_data"
    },
    {
     "name": "stdout",
     "output_type": "stream",
     "text": [
      "----- LOCAL 2 -----\n",
      "Treino: 0.9957084955892871\n",
      "Teste: 0.9917584919406247\n",
      "Precisão: 0.6882882882882883\n",
      "Recall: 0.9794871794871794\n",
      "F1: 0.8084656084656084\n"
     ]
    },
    {
     "data": {
      "text/plain": [
       "array([[0.99198034, 0.00801966],\n",
       "       [0.02051282, 0.97948718]])"
      ]
     },
     "metadata": {},
     "output_type": "display_data"
    },
    {
     "data": {
      "text/plain": [
       "array([[21399,   173],\n",
       "       [    8,   382]], dtype=int64)"
      ]
     },
     "metadata": {},
     "output_type": "display_data"
    },
    {
     "name": "stdout",
     "output_type": "stream",
     "text": [
      "----- LOCAL 3 -----\n",
      "Treino: 0.9981188039972927\n",
      "Teste: 0.9951734814679901\n",
      "Precisão: 0.8237623762376237\n",
      "Recall: 0.9607390300230947\n",
      "F1: 0.8869936034115138\n"
     ]
    },
    {
     "data": {
      "text/plain": [
       "array([[0.99586604, 0.00413396],\n",
       "       [0.03926097, 0.96073903]])"
      ]
     },
     "metadata": {},
     "output_type": "display_data"
    },
    {
     "data": {
      "text/plain": [
       "array([[21440,    89],\n",
       "       [   17,   416]], dtype=int64)"
      ]
     },
     "metadata": {},
     "output_type": "display_data"
    },
    {
     "name": "stdout",
     "output_type": "stream",
     "text": [
      "----- LOCAL 4 -----\n",
      "Treino: 0.994532259667959\n",
      "Teste: 0.9838357162371368\n",
      "Precisão: 0.5416666666666666\n",
      "Recall: 0.8304668304668305\n",
      "F1: 0.6556741028128031\n"
     ]
    },
    {
     "data": {
      "text/plain": [
       "array([[0.98673162, 0.01326838],\n",
       "       [0.16953317, 0.83046683]])"
      ]
     },
     "metadata": {},
     "output_type": "display_data"
    },
    {
     "data": {
      "text/plain": [
       "array([[21269,   286],\n",
       "       [   69,   338]], dtype=int64)"
      ]
     },
     "metadata": {},
     "output_type": "display_data"
    },
    {
     "name": "stdout",
     "output_type": "stream",
     "text": [
      "----- LOCAL 5 -----\n",
      "Treino: 0.9933643725501901\n",
      "Teste: 0.9841999817867225\n",
      "Precisão: 0.5547445255474452\n",
      "Recall: 0.9004739336492891\n",
      "F1: 0.6865401987353207\n"
     ]
    },
    {
     "data": {
      "text/plain": [
       "array([[0.9858403 , 0.0141597 ],\n",
       "       [0.09952607, 0.90047393]])"
      ]
     },
     "metadata": {},
     "output_type": "display_data"
    },
    {
     "data": {
      "text/plain": [
       "array([[21235,   305],\n",
       "       [   42,   380]], dtype=int64)"
      ]
     },
     "metadata": {},
     "output_type": "display_data"
    },
    {
     "name": "stdout",
     "output_type": "stream",
     "text": [
      "---------- CASE ----------\n",
      "['DirecaoDoVento', 'VelocidadeDoVento', 'TemperaturaInterna', 'PontoDeOrvalho', 'UmidadeRelativa', 'PressaoAtmosferica', 'RadiacaoSolar', 'TemperaturaDoAr']\n",
      "--------------------------\n",
      "----- LOCAL 0 -----\n",
      "Treino: 0.9868944316744744\n",
      "Teste: 0.9740638204866676\n",
      "Precisão: 0.41678666940958653\n",
      "Recall: 0.9936243256498284\n",
      "F1: 0.5872463768115942\n"
     ]
    },
    {
     "data": {
      "text/plain": [
       "array([[0.97369373, 0.02630627],\n",
       "       [0.00637567, 0.99362433]])"
      ]
     },
     "metadata": {},
     "output_type": "display_data"
    },
    {
     "data": {
      "text/plain": [
       "array([[104934,   2835],\n",
       "       [    13,   2026]], dtype=int64)"
      ]
     },
     "metadata": {},
     "output_type": "display_data"
    },
    {
     "name": "stdout",
     "output_type": "stream",
     "text": [
      "----- LOCAL 1 -----\n",
      "Treino: 0.9944772235135189\n",
      "Teste: 0.9885256351880521\n",
      "Precisão: 0.60828025477707\n",
      "Recall: 0.9845360824742269\n",
      "F1: 0.7519685039370079\n"
     ]
    },
    {
     "data": {
      "text/plain": [
       "array([[0.98859739, 0.01140261],\n",
       "       [0.01546392, 0.98453608]])"
      ]
     },
     "metadata": {},
     "output_type": "display_data"
    },
    {
     "data": {
      "text/plain": [
       "array([[21328,   246],\n",
       "       [    6,   382]], dtype=int64)"
      ]
     },
     "metadata": {},
     "output_type": "display_data"
    },
    {
     "name": "stdout",
     "output_type": "stream",
     "text": [
      "----- LOCAL 2 -----\n",
      "Treino: 0.988555988238099\n",
      "Teste: 0.9762772060832346\n",
      "Precisão: 0.42778390297684676\n",
      "Recall: 0.9948717948717949\n",
      "F1: 0.5983037779491134\n"
     ]
    },
    {
     "data": {
      "text/plain": [
       "array([[0.97594103, 0.02405897],\n",
       "       [0.00512821, 0.99487179]])"
      ]
     },
     "metadata": {},
     "output_type": "display_data"
    },
    {
     "data": {
      "text/plain": [
       "array([[21053,   519],\n",
       "       [    2,   388]], dtype=int64)"
      ]
     },
     "metadata": {},
     "output_type": "display_data"
    },
    {
     "name": "stdout",
     "output_type": "stream",
     "text": [
      "----- LOCAL 3 -----\n",
      "Treino: 0.9925349364971932\n",
      "Teste: 0.9834714506875513\n",
      "Precisão: 0.5441919191919192\n",
      "Recall: 0.9953810623556582\n",
      "F1: 0.7036734693877551\n"
     ]
    },
    {
     "data": {
      "text/plain": [
       "array([[0.98323192, 0.01676808],\n",
       "       [0.00461894, 0.99538106]])"
      ]
     },
     "metadata": {},
     "output_type": "display_data"
    },
    {
     "data": {
      "text/plain": [
       "array([[21168,   361],\n",
       "       [    2,   431]], dtype=int64)"
      ]
     },
     "metadata": {},
     "output_type": "display_data"
    },
    {
     "name": "stdout",
     "output_type": "stream",
     "text": [
      "----- LOCAL 4 -----\n",
      "Treino: 0.9783278655930013\n",
      "Teste: 0.954694472270285\n",
      "Precisão: 0.28664731494920176\n",
      "Recall: 0.9705159705159705\n",
      "F1: 0.44257703081232497\n"
     ]
    },
    {
     "data": {
      "text/plain": [
       "array([[0.95439573, 0.04560427],\n",
       "       [0.02948403, 0.97051597]])"
      ]
     },
     "metadata": {},
     "output_type": "display_data"
    },
    {
     "data": {
      "text/plain": [
       "array([[20572,   983],\n",
       "       [   12,   395]], dtype=int64)"
      ]
     },
     "metadata": {},
     "output_type": "display_data"
    },
    {
     "name": "stdout",
     "output_type": "stream",
     "text": [
      "----- LOCAL 5 -----\n",
      "Treino: 0.9818241508983465\n",
      "Teste: 0.9645296421090975\n",
      "Precisão: 0.3511259382819016\n",
      "Recall: 0.9976303317535545\n",
      "F1: 0.5194324491054905\n"
     ]
    },
    {
     "data": {
      "text/plain": [
       "array([[0.96388115, 0.03611885],\n",
       "       [0.00236967, 0.99763033]])"
      ]
     },
     "metadata": {},
     "output_type": "display_data"
    },
    {
     "data": {
      "text/plain": [
       "array([[20762,   778],\n",
       "       [    1,   421]], dtype=int64)"
      ]
     },
     "metadata": {},
     "output_type": "display_data"
    },
    {
     "name": "stdout",
     "output_type": "stream",
     "text": [
      "---------- CASE ----------\n",
      "['DirecaoDoVento', 'VelocidadeDoVento', 'TemperaturaInterna', 'PontoDeOrvalho', 'UmidadeRelativa', 'PressaoAtmosferica', 'RadiacaoSolar', 'TemperaturaDoAr', 'Local']\n",
      "--------------------------\n",
      "----- LOCAL 0 -----\n",
      "Treino: 0.9868944316744744\n",
      "Teste: 0.9740638204866676\n",
      "Precisão: 0.41678666940958653\n",
      "Recall: 0.9936243256498284\n",
      "F1: 0.5872463768115942\n"
     ]
    },
    {
     "data": {
      "text/plain": [
       "array([[0.97369373, 0.02630627],\n",
       "       [0.00637567, 0.99362433]])"
      ]
     },
     "metadata": {},
     "output_type": "display_data"
    },
    {
     "data": {
      "text/plain": [
       "array([[104934,   2835],\n",
       "       [    13,   2026]], dtype=int64)"
      ]
     },
     "metadata": {},
     "output_type": "display_data"
    },
    {
     "name": "stdout",
     "output_type": "stream",
     "text": [
      "----- LOCAL 1 -----\n",
      "Treino: 0.9944772235135189\n",
      "Teste: 0.9885256351880521\n",
      "Precisão: 0.60828025477707\n",
      "Recall: 0.9845360824742269\n",
      "F1: 0.7519685039370079\n"
     ]
    },
    {
     "data": {
      "text/plain": [
       "array([[0.98859739, 0.01140261],\n",
       "       [0.01546392, 0.98453608]])"
      ]
     },
     "metadata": {},
     "output_type": "display_data"
    },
    {
     "data": {
      "text/plain": [
       "array([[21328,   246],\n",
       "       [    6,   382]], dtype=int64)"
      ]
     },
     "metadata": {},
     "output_type": "display_data"
    },
    {
     "name": "stdout",
     "output_type": "stream",
     "text": [
      "----- LOCAL 2 -----\n",
      "Treino: 0.988555988238099\n",
      "Teste: 0.9762772060832346\n",
      "Precisão: 0.42778390297684676\n",
      "Recall: 0.9948717948717949\n",
      "F1: 0.5983037779491134\n"
     ]
    },
    {
     "data": {
      "text/plain": [
       "array([[0.97594103, 0.02405897],\n",
       "       [0.00512821, 0.99487179]])"
      ]
     },
     "metadata": {},
     "output_type": "display_data"
    },
    {
     "data": {
      "text/plain": [
       "array([[21053,   519],\n",
       "       [    2,   388]], dtype=int64)"
      ]
     },
     "metadata": {},
     "output_type": "display_data"
    },
    {
     "name": "stdout",
     "output_type": "stream",
     "text": [
      "----- LOCAL 3 -----\n",
      "Treino: 0.9925349364971932\n",
      "Teste: 0.9834714506875513\n",
      "Precisão: 0.5441919191919192\n",
      "Recall: 0.9953810623556582\n",
      "F1: 0.7036734693877551\n"
     ]
    },
    {
     "data": {
      "text/plain": [
       "array([[0.98323192, 0.01676808],\n",
       "       [0.00461894, 0.99538106]])"
      ]
     },
     "metadata": {},
     "output_type": "display_data"
    },
    {
     "data": {
      "text/plain": [
       "array([[21168,   361],\n",
       "       [    2,   431]], dtype=int64)"
      ]
     },
     "metadata": {},
     "output_type": "display_data"
    },
    {
     "name": "stdout",
     "output_type": "stream",
     "text": [
      "----- LOCAL 4 -----\n",
      "Treino: 0.9783278655930013\n",
      "Teste: 0.954694472270285\n",
      "Precisão: 0.28664731494920176\n",
      "Recall: 0.9705159705159705\n",
      "F1: 0.44257703081232497\n"
     ]
    },
    {
     "data": {
      "text/plain": [
       "array([[0.95439573, 0.04560427],\n",
       "       [0.02948403, 0.97051597]])"
      ]
     },
     "metadata": {},
     "output_type": "display_data"
    },
    {
     "data": {
      "text/plain": [
       "array([[20572,   983],\n",
       "       [   12,   395]], dtype=int64)"
      ]
     },
     "metadata": {},
     "output_type": "display_data"
    },
    {
     "name": "stdout",
     "output_type": "stream",
     "text": [
      "----- LOCAL 5 -----\n",
      "Treino: 0.9818241508983465\n",
      "Teste: 0.9645296421090975\n",
      "Precisão: 0.3511259382819016\n",
      "Recall: 0.9976303317535545\n",
      "F1: 0.5194324491054905\n"
     ]
    },
    {
     "data": {
      "text/plain": [
       "array([[0.96388115, 0.03611885],\n",
       "       [0.00236967, 0.99763033]])"
      ]
     },
     "metadata": {},
     "output_type": "display_data"
    },
    {
     "data": {
      "text/plain": [
       "array([[20762,   778],\n",
       "       [    1,   421]], dtype=int64)"
      ]
     },
     "metadata": {},
     "output_type": "display_data"
    },
    {
     "name": "stdout",
     "output_type": "stream",
     "text": [
      "---------- CASE ----------\n",
      "['DirecaoDoVento', 'VelocidadeDoVento', 'TemperaturaInterna', 'PontoDeOrvalho', 'UmidadeRelativa', 'PressaoAtmosferica', 'RadiacaoSolar', 'TemperaturaDoAr', 'PrecSum']\n",
      "--------------------------\n",
      "----- LOCAL 0 -----\n",
      "Treino: 0.9192767778316856\n",
      "Teste: 0.8459128660935451\n",
      "Precisão: 0.1000806234883096\n",
      "Recall: 0.9131927415399705\n",
      "F1: 0.18039139701608214\n"
     ]
    },
    {
     "data": {
      "text/plain": [
       "array([[0.84463992, 0.15536008],\n",
       "       [0.08680726, 0.91319274]])"
      ]
     },
     "metadata": {},
     "output_type": "display_data"
    },
    {
     "data": {
      "text/plain": [
       "array([[91026, 16743],\n",
       "       [  177,  1862]], dtype=int64)"
      ]
     },
     "metadata": {},
     "output_type": "display_data"
    },
    {
     "name": "stdout",
     "output_type": "stream",
     "text": [
      "----- LOCAL 1 -----\n",
      "Treino: 0.923743965671375\n",
      "Teste: 0.8551133776523085\n",
      "Precisão: 0.09717416378316032\n",
      "Recall: 0.8685567010309279\n",
      "F1: 0.17479253112033194\n"
     ]
    },
    {
     "data": {
      "text/plain": [
       "array([[0.8548716, 0.1451284],\n",
       "       [0.1314433, 0.8685567]])"
      ]
     },
     "metadata": {},
     "output_type": "display_data"
    },
    {
     "data": {
      "text/plain": [
       "array([[18443,  3131],\n",
       "       [   51,   337]], dtype=int64)"
      ]
     },
     "metadata": {},
     "output_type": "display_data"
    },
    {
     "name": "stdout",
     "output_type": "stream",
     "text": [
      "----- LOCAL 2 -----\n",
      "Treino: 0.9309584359850592\n",
      "Teste: 0.8634914852927784\n",
      "Precisão: 0.10699216395418927\n",
      "Recall: 0.9102564102564102\n",
      "F1: 0.19147788565264295\n"
     ]
    },
    {
     "data": {
      "text/plain": [
       "array([[0.86264602, 0.13735398],\n",
       "       [0.08974359, 0.91025641]])"
      ]
     },
     "metadata": {},
     "output_type": "display_data"
    },
    {
     "data": {
      "text/plain": [
       "array([[18609,  2963],\n",
       "       [   35,   355]], dtype=int64)"
      ]
     },
     "metadata": {},
     "output_type": "display_data"
    },
    {
     "name": "stdout",
     "output_type": "stream",
     "text": [
      "----- LOCAL 3 -----\n",
      "Treino: 0.9236075168212764\n",
      "Teste: 0.8514251889627539\n",
      "Precisão: 0.10650723025583982\n",
      "Recall: 0.8845265588914549\n",
      "F1: 0.1901216182675602\n"
     ]
    },
    {
     "data": {
      "text/plain": [
       "array([[0.85075944, 0.14924056],\n",
       "       [0.11547344, 0.88452656]])"
      ]
     },
     "metadata": {},
     "output_type": "display_data"
    },
    {
     "data": {
      "text/plain": [
       "array([[18316,  3213],\n",
       "       [   50,   383]], dtype=int64)"
      ]
     },
     "metadata": {},
     "output_type": "display_data"
    },
    {
     "name": "stdout",
     "output_type": "stream",
     "text": [
      "----- LOCAL 4 -----\n",
      "Treino: 0.8957152798488915\n",
      "Teste: 0.7953738275202623\n",
      "Precisão: 0.07559709241952232\n",
      "Recall: 0.8943488943488943\n",
      "F1: 0.1394101876675603\n"
     ]
    },
    {
     "data": {
      "text/plain": [
       "array([[0.79350499, 0.20649501],\n",
       "       [0.10565111, 0.89434889]])"
      ]
     },
     "metadata": {},
     "output_type": "display_data"
    },
    {
     "data": {
      "text/plain": [
       "array([[17104,  4451],\n",
       "       [   43,   364]], dtype=int64)"
      ]
     },
     "metadata": {},
     "output_type": "display_data"
    },
    {
     "name": "stdout",
     "output_type": "stream",
     "text": [
      "----- LOCAL 5 -----\n",
      "Treino: 0.9258043335521996\n",
      "Teste: 0.8593934978599399\n",
      "Precisão: 0.11317469529889727\n",
      "Recall: 0.9241706161137441\n",
      "F1: 0.20165460186142709\n"
     ]
    },
    {
     "data": {
      "text/plain": [
       "array([[0.85812442, 0.14187558],\n",
       "       [0.07582938, 0.92417062]])"
      ]
     },
     "metadata": {},
     "output_type": "display_data"
    },
    {
     "data": {
      "text/plain": [
       "array([[18484,  3056],\n",
       "       [   32,   390]], dtype=int64)"
      ]
     },
     "metadata": {},
     "output_type": "display_data"
    },
    {
     "name": "stdout",
     "output_type": "stream",
     "text": [
      "---------- CASE ----------\n",
      "['DirecaoDoVento', 'VelocidadeDoVento', 'TemperaturaInterna', 'PontoDeOrvalho', 'UmidadeRelativa', 'PressaoAtmosferica', 'RadiacaoSolar', 'TemperaturaDoAr', 'Precipitacao']\n",
      "--------------------------\n",
      "----- LOCAL 0 -----\n",
      "Treino: 0.9866717304679111\n",
      "Teste: 0.9738361503715576\n",
      "Precisão: 0.4151058631921824\n",
      "Recall: 1.0\n",
      "F1: 0.5866781758020428\n"
     ]
    },
    {
     "data": {
      "text/plain": [
       "array([[0.97334113, 0.02665887],\n",
       "       [0.        , 1.        ]])"
      ]
     },
     "metadata": {},
     "output_type": "display_data"
    },
    {
     "data": {
      "text/plain": [
       "array([[104896,   2873],\n",
       "       [     0,   2039]], dtype=int64)"
      ]
     },
     "metadata": {},
     "output_type": "display_data"
    },
    {
     "name": "stdout",
     "output_type": "stream",
     "text": [
      "----- LOCAL 1 -----\n",
      "Treino: 0.9938613743369689\n",
      "Teste: 0.98807030325107\n",
      "Precisão: 0.5969230769230769\n",
      "Recall: 1.0\n",
      "F1: 0.7475915221579961\n"
     ]
    },
    {
     "data": {
      "text/plain": [
       "array([[0.98785575, 0.01214425],\n",
       "       [0.        , 1.        ]])"
      ]
     },
     "metadata": {},
     "output_type": "display_data"
    },
    {
     "data": {
      "text/plain": [
       "array([[21312,   262],\n",
       "       [    0,   388]], dtype=int64)"
      ]
     },
     "metadata": {},
     "output_type": "display_data"
    },
    {
     "name": "stdout",
     "output_type": "stream",
     "text": [
      "----- LOCAL 2 -----\n",
      "Treino: 0.9882778351744417\n",
      "Teste: 0.9757763409525544\n",
      "Precisão: 0.4229934924078091\n",
      "Recall: 1.0\n",
      "F1: 0.5945121951219512\n"
     ]
    },
    {
     "data": {
      "text/plain": [
       "array([[0.9753384, 0.0246616],\n",
       "       [0.       , 1.       ]])"
      ]
     },
     "metadata": {},
     "output_type": "display_data"
    },
    {
     "data": {
      "text/plain": [
       "array([[21040,   532],\n",
       "       [    0,   390]], dtype=int64)"
      ]
     },
     "metadata": {},
     "output_type": "display_data"
    },
    {
     "name": "stdout",
     "output_type": "stream",
     "text": [
      "----- LOCAL 3 -----\n",
      "Treino: 0.9925150296611857\n",
      "Teste: 0.9837901830434387\n",
      "Precisão: 0.5487959442332065\n",
      "Recall: 1.0\n",
      "F1: 0.7086743044189853\n"
     ]
    },
    {
     "data": {
      "text/plain": [
       "array([[0.98346416, 0.01653584],\n",
       "       [0.        , 1.        ]])"
      ]
     },
     "metadata": {},
     "output_type": "display_data"
    },
    {
     "data": {
      "text/plain": [
       "array([[21173,   356],\n",
       "       [    0,   433]], dtype=int64)"
      ]
     },
     "metadata": {},
     "output_type": "display_data"
    },
    {
     "name": "stdout",
     "output_type": "stream",
     "text": [
      "----- LOCAL 4 -----\n",
      "Treino: 0.9776021473307486\n",
      "Teste: 0.9537838083963209\n",
      "Precisão: 0.28285714285714286\n",
      "Recall: 0.972972972972973\n",
      "F1: 0.438295517432208\n"
     ]
    },
    {
     "data": {
      "text/plain": [
       "array([[0.95342148, 0.04657852],\n",
       "       [0.02702703, 0.97297297]])"
      ]
     },
     "metadata": {},
     "output_type": "display_data"
    },
    {
     "data": {
      "text/plain": [
       "array([[20551,  1004],\n",
       "       [   11,   396]], dtype=int64)"
      ]
     },
     "metadata": {},
     "output_type": "display_data"
    },
    {
     "name": "stdout",
     "output_type": "stream",
     "text": [
      "----- LOCAL 5 -----\n",
      "Treino: 0.9817147177619929\n",
      "Teste: 0.9644385757217011\n",
      "Precisão: 0.3507896924355777\n",
      "Recall: 1.0\n",
      "F1: 0.5193846153846153\n"
     ]
    },
    {
     "data": {
      "text/plain": [
       "array([[0.96374188, 0.03625812],\n",
       "       [0.        , 1.        ]])"
      ]
     },
     "metadata": {},
     "output_type": "display_data"
    },
    {
     "data": {
      "text/plain": [
       "array([[20759,   781],\n",
       "       [    0,   422]], dtype=int64)"
      ]
     },
     "metadata": {},
     "output_type": "display_data"
    }
   ],
   "source": [
    "test_cases = [\n",
    "    [],\n",
    "    ['DirecaoDoVento', 'VelocidadeDoVento'],\n",
    "    ['DirecaoDoVento', 'VelocidadeDoVento', 'TemperaturaInterna'],\n",
    "    ['DirecaoDoVento', 'VelocidadeDoVento', 'TemperaturaInterna', 'PontoDeOrvalho'],\n",
    "    ['DirecaoDoVento', 'VelocidadeDoVento', 'TemperaturaInterna', 'PontoDeOrvalho', 'UmidadeRelativa'],\n",
    "    ['DirecaoDoVento', 'VelocidadeDoVento', 'TemperaturaInterna', 'PontoDeOrvalho', 'UmidadeRelativa', 'PressaoAtmosferica'],\n",
    "    ['DirecaoDoVento', 'VelocidadeDoVento', 'TemperaturaInterna', 'PontoDeOrvalho', 'UmidadeRelativa', 'PressaoAtmosferica', 'RadiacaoSolar'],\n",
    "    ['DirecaoDoVento', 'VelocidadeDoVento', 'TemperaturaInterna', 'PontoDeOrvalho', 'UmidadeRelativa', 'PressaoAtmosferica', 'RadiacaoSolar', 'TemperaturaDoAr'],\n",
    "    ['DirecaoDoVento', 'VelocidadeDoVento', 'TemperaturaInterna', 'PontoDeOrvalho', 'UmidadeRelativa', 'PressaoAtmosferica', 'RadiacaoSolar', 'TemperaturaDoAr', 'Local'],\n",
    "    ['DirecaoDoVento', 'VelocidadeDoVento', 'TemperaturaInterna', 'PontoDeOrvalho', 'UmidadeRelativa', 'PressaoAtmosferica', 'RadiacaoSolar', 'TemperaturaDoAr', 'PrecSum'],\n",
    "    ['DirecaoDoVento', 'VelocidadeDoVento', 'TemperaturaInterna', 'PontoDeOrvalho', 'UmidadeRelativa', 'PressaoAtmosferica', 'RadiacaoSolar', 'TemperaturaDoAr', 'Precipitacao']\n",
    "]\n",
    "\n",
    "df_training_result = pd.DataFrame(columns = ['Removed_Cols', 'Local', 'Features', 'Train_Acc', 'Test_Acc', 'Precision', 'Recall', 'F1', 'Ver_Pos'])\n",
    "label = 'Label'\n",
    "\n",
    "for case in test_cases:\n",
    "    print(f'---------- CASE ----------')\n",
    "    print(case)\n",
    "    print(f'--------------------------')\n",
    "    for l in range(6):\n",
    "        if l != 0:\n",
    "            df_train = df_f_ohe[df_f_ohe['Local'] == l].drop(columns = [c for c in df_f_ohe.columns if 'Local' in c])\n",
    "        else:\n",
    "            df_train = df_f_ohe.copy()\n",
    "\n",
    "        cols_rem = ['Label', 'Label_Old', 'Data', 'Data_Hora'] + cols_dummies\n",
    "        cols_rem = cols_rem + case\n",
    "            \n",
    "        print(f'----- LOCAL {l} -----')\n",
    "        model, training_res, y_treino_pred, y_teste_pred = trainXGB(df_train, cols_rem, label)\n",
    "        \n",
    "        df_training_result = df_training_result.append(\n",
    "            {**{'Model': model, 'Removed_Cols': case, 'Local': l}, **training_res},\n",
    "            ignore_index=True\n",
    "        )"
   ]
  },
  {
   "cell_type": "code",
   "execution_count": 19,
   "metadata": {},
   "outputs": [
    {
     "data": {
      "text/html": [
       "<div>\n",
       "<style scoped>\n",
       "    .dataframe tbody tr th:only-of-type {\n",
       "        vertical-align: middle;\n",
       "    }\n",
       "\n",
       "    .dataframe tbody tr th {\n",
       "        vertical-align: top;\n",
       "    }\n",
       "\n",
       "    .dataframe thead th {\n",
       "        text-align: right;\n",
       "    }\n",
       "</style>\n",
       "<table border=\"1\" class=\"dataframe\">\n",
       "  <thead>\n",
       "    <tr style=\"text-align: right;\">\n",
       "      <th></th>\n",
       "      <th>Removed_Cols</th>\n",
       "      <th>Local</th>\n",
       "      <th>Features</th>\n",
       "      <th>Train_Acc</th>\n",
       "      <th>Test_Acc</th>\n",
       "      <th>Precision</th>\n",
       "      <th>Recall</th>\n",
       "      <th>F1</th>\n",
       "      <th>Ver_Pos</th>\n",
       "      <th>Model</th>\n",
       "    </tr>\n",
       "  </thead>\n",
       "  <tbody>\n",
       "    <tr>\n",
       "      <th>0</th>\n",
       "      <td>[]</td>\n",
       "      <td>0</td>\n",
       "      <td>[UmidadeRelativa, PressaoAtmosferica, Temperat...</td>\n",
       "      <td>0.996570</td>\n",
       "      <td>0.986886</td>\n",
       "      <td>0.605718</td>\n",
       "      <td>0.841589</td>\n",
       "      <td>0.704433</td>\n",
       "      <td>0.841589</td>\n",
       "      <td>&lt;xgboost.core.Booster object at 0x0000015C4D70...</td>\n",
       "    </tr>\n",
       "    <tr>\n",
       "      <th>1</th>\n",
       "      <td>[]</td>\n",
       "      <td>1</td>\n",
       "      <td>[UmidadeRelativa, PressaoAtmosferica, Temperat...</td>\n",
       "      <td>0.998232</td>\n",
       "      <td>0.991121</td>\n",
       "      <td>0.703158</td>\n",
       "      <td>0.860825</td>\n",
       "      <td>0.774044</td>\n",
       "      <td>0.860825</td>\n",
       "      <td>&lt;xgboost.core.Booster object at 0x0000015C4D70...</td>\n",
       "    </tr>\n",
       "    <tr>\n",
       "      <th>2</th>\n",
       "      <td>[]</td>\n",
       "      <td>2</td>\n",
       "      <td>[UmidadeRelativa, PressaoAtmosferica, Temperat...</td>\n",
       "      <td>0.996523</td>\n",
       "      <td>0.991075</td>\n",
       "      <td>0.683712</td>\n",
       "      <td>0.925641</td>\n",
       "      <td>0.786492</td>\n",
       "      <td>0.925641</td>\n",
       "      <td>&lt;xgboost.core.Booster object at 0x0000015C4D70...</td>\n",
       "    </tr>\n",
       "    <tr>\n",
       "      <th>3</th>\n",
       "      <td>[]</td>\n",
       "      <td>3</td>\n",
       "      <td>[UmidadeRelativa, PressaoAtmosferica, Temperat...</td>\n",
       "      <td>0.998706</td>\n",
       "      <td>0.992441</td>\n",
       "      <td>0.776398</td>\n",
       "      <td>0.866051</td>\n",
       "      <td>0.818777</td>\n",
       "      <td>0.866051</td>\n",
       "      <td>&lt;xgboost.core.Booster object at 0x0000015C4D70...</td>\n",
       "    </tr>\n",
       "    <tr>\n",
       "      <th>4</th>\n",
       "      <td>[]</td>\n",
       "      <td>4</td>\n",
       "      <td>[UmidadeRelativa, PressaoAtmosferica, Temperat...</td>\n",
       "      <td>0.995636</td>\n",
       "      <td>0.981559</td>\n",
       "      <td>0.501656</td>\n",
       "      <td>0.744472</td>\n",
       "      <td>0.599407</td>\n",
       "      <td>0.744472</td>\n",
       "      <td>&lt;xgboost.core.Booster object at 0x0000015C4D70...</td>\n",
       "    </tr>\n",
       "    <tr>\n",
       "      <th>...</th>\n",
       "      <td>...</td>\n",
       "      <td>...</td>\n",
       "      <td>...</td>\n",
       "      <td>...</td>\n",
       "      <td>...</td>\n",
       "      <td>...</td>\n",
       "      <td>...</td>\n",
       "      <td>...</td>\n",
       "      <td>...</td>\n",
       "      <td>...</td>\n",
       "    </tr>\n",
       "    <tr>\n",
       "      <th>61</th>\n",
       "      <td>[DirecaoDoVento, VelocidadeDoVento, Temperatur...</td>\n",
       "      <td>1</td>\n",
       "      <td>[Dia, PrecSum, Mes_1, Mes_2, Mes_3, Mes_4, Mes...</td>\n",
       "      <td>0.993861</td>\n",
       "      <td>0.988070</td>\n",
       "      <td>0.596923</td>\n",
       "      <td>1.000000</td>\n",
       "      <td>0.747592</td>\n",
       "      <td>1.000000</td>\n",
       "      <td>&lt;xgboost.core.Booster object at 0x0000015C7081...</td>\n",
       "    </tr>\n",
       "    <tr>\n",
       "      <th>62</th>\n",
       "      <td>[DirecaoDoVento, VelocidadeDoVento, Temperatur...</td>\n",
       "      <td>2</td>\n",
       "      <td>[Dia, PrecSum, Mes_1, Mes_2, Mes_3, Mes_4, Mes...</td>\n",
       "      <td>0.988278</td>\n",
       "      <td>0.975776</td>\n",
       "      <td>0.422993</td>\n",
       "      <td>1.000000</td>\n",
       "      <td>0.594512</td>\n",
       "      <td>1.000000</td>\n",
       "      <td>&lt;xgboost.core.Booster object at 0x0000015C7081...</td>\n",
       "    </tr>\n",
       "    <tr>\n",
       "      <th>63</th>\n",
       "      <td>[DirecaoDoVento, VelocidadeDoVento, Temperatur...</td>\n",
       "      <td>3</td>\n",
       "      <td>[Dia, PrecSum, Mes_1, Mes_2, Mes_3, Mes_4, Mes...</td>\n",
       "      <td>0.992515</td>\n",
       "      <td>0.983790</td>\n",
       "      <td>0.548796</td>\n",
       "      <td>1.000000</td>\n",
       "      <td>0.708674</td>\n",
       "      <td>1.000000</td>\n",
       "      <td>&lt;xgboost.core.Booster object at 0x0000015C7081...</td>\n",
       "    </tr>\n",
       "    <tr>\n",
       "      <th>64</th>\n",
       "      <td>[DirecaoDoVento, VelocidadeDoVento, Temperatur...</td>\n",
       "      <td>4</td>\n",
       "      <td>[Dia, PrecSum, Mes_1, Mes_2, Mes_3, Mes_4, Mes...</td>\n",
       "      <td>0.977602</td>\n",
       "      <td>0.953784</td>\n",
       "      <td>0.282857</td>\n",
       "      <td>0.972973</td>\n",
       "      <td>0.438296</td>\n",
       "      <td>0.972973</td>\n",
       "      <td>&lt;xgboost.core.Booster object at 0x0000015C7081...</td>\n",
       "    </tr>\n",
       "    <tr>\n",
       "      <th>65</th>\n",
       "      <td>[DirecaoDoVento, VelocidadeDoVento, Temperatur...</td>\n",
       "      <td>5</td>\n",
       "      <td>[Dia, PrecSum, Mes_1, Mes_2, Mes_3, Mes_4, Mes...</td>\n",
       "      <td>0.981715</td>\n",
       "      <td>0.964439</td>\n",
       "      <td>0.350790</td>\n",
       "      <td>1.000000</td>\n",
       "      <td>0.519385</td>\n",
       "      <td>1.000000</td>\n",
       "      <td>&lt;xgboost.core.Booster object at 0x0000015C7081...</td>\n",
       "    </tr>\n",
       "  </tbody>\n",
       "</table>\n",
       "<p>66 rows × 10 columns</p>\n",
       "</div>"
      ],
      "text/plain": [
       "                                         Removed_Cols Local  \\\n",
       "0                                                  []     0   \n",
       "1                                                  []     1   \n",
       "2                                                  []     2   \n",
       "3                                                  []     3   \n",
       "4                                                  []     4   \n",
       "..                                                ...   ...   \n",
       "61  [DirecaoDoVento, VelocidadeDoVento, Temperatur...     1   \n",
       "62  [DirecaoDoVento, VelocidadeDoVento, Temperatur...     2   \n",
       "63  [DirecaoDoVento, VelocidadeDoVento, Temperatur...     3   \n",
       "64  [DirecaoDoVento, VelocidadeDoVento, Temperatur...     4   \n",
       "65  [DirecaoDoVento, VelocidadeDoVento, Temperatur...     5   \n",
       "\n",
       "                                             Features  Train_Acc  Test_Acc  \\\n",
       "0   [UmidadeRelativa, PressaoAtmosferica, Temperat...   0.996570  0.986886   \n",
       "1   [UmidadeRelativa, PressaoAtmosferica, Temperat...   0.998232  0.991121   \n",
       "2   [UmidadeRelativa, PressaoAtmosferica, Temperat...   0.996523  0.991075   \n",
       "3   [UmidadeRelativa, PressaoAtmosferica, Temperat...   0.998706  0.992441   \n",
       "4   [UmidadeRelativa, PressaoAtmosferica, Temperat...   0.995636  0.981559   \n",
       "..                                                ...        ...       ...   \n",
       "61  [Dia, PrecSum, Mes_1, Mes_2, Mes_3, Mes_4, Mes...   0.993861  0.988070   \n",
       "62  [Dia, PrecSum, Mes_1, Mes_2, Mes_3, Mes_4, Mes...   0.988278  0.975776   \n",
       "63  [Dia, PrecSum, Mes_1, Mes_2, Mes_3, Mes_4, Mes...   0.992515  0.983790   \n",
       "64  [Dia, PrecSum, Mes_1, Mes_2, Mes_3, Mes_4, Mes...   0.977602  0.953784   \n",
       "65  [Dia, PrecSum, Mes_1, Mes_2, Mes_3, Mes_4, Mes...   0.981715  0.964439   \n",
       "\n",
       "    Precision    Recall        F1   Ver_Pos  \\\n",
       "0    0.605718  0.841589  0.704433  0.841589   \n",
       "1    0.703158  0.860825  0.774044  0.860825   \n",
       "2    0.683712  0.925641  0.786492  0.925641   \n",
       "3    0.776398  0.866051  0.818777  0.866051   \n",
       "4    0.501656  0.744472  0.599407  0.744472   \n",
       "..        ...       ...       ...       ...   \n",
       "61   0.596923  1.000000  0.747592  1.000000   \n",
       "62   0.422993  1.000000  0.594512  1.000000   \n",
       "63   0.548796  1.000000  0.708674  1.000000   \n",
       "64   0.282857  0.972973  0.438296  0.972973   \n",
       "65   0.350790  1.000000  0.519385  1.000000   \n",
       "\n",
       "                                                Model  \n",
       "0   <xgboost.core.Booster object at 0x0000015C4D70...  \n",
       "1   <xgboost.core.Booster object at 0x0000015C4D70...  \n",
       "2   <xgboost.core.Booster object at 0x0000015C4D70...  \n",
       "3   <xgboost.core.Booster object at 0x0000015C4D70...  \n",
       "4   <xgboost.core.Booster object at 0x0000015C4D70...  \n",
       "..                                                ...  \n",
       "61  <xgboost.core.Booster object at 0x0000015C7081...  \n",
       "62  <xgboost.core.Booster object at 0x0000015C7081...  \n",
       "63  <xgboost.core.Booster object at 0x0000015C7081...  \n",
       "64  <xgboost.core.Booster object at 0x0000015C7081...  \n",
       "65  <xgboost.core.Booster object at 0x0000015C7081...  \n",
       "\n",
       "[66 rows x 10 columns]"
      ]
     },
     "execution_count": 19,
     "metadata": {},
     "output_type": "execute_result"
    }
   ],
   "source": [
    "#df_training_result.to_csv('../../../data/analysis/training_test_shift.csv', index=False, sep=';', decimal=',')\n",
    "df_training_result"
   ]
  },
  {
   "cell_type": "code",
   "execution_count": 20,
   "metadata": {},
   "outputs": [
    {
     "data": {
      "text/html": [
       "<div>\n",
       "<style scoped>\n",
       "    .dataframe tbody tr th:only-of-type {\n",
       "        vertical-align: middle;\n",
       "    }\n",
       "\n",
       "    .dataframe tbody tr th {\n",
       "        vertical-align: top;\n",
       "    }\n",
       "\n",
       "    .dataframe thead th {\n",
       "        text-align: right;\n",
       "    }\n",
       "</style>\n",
       "<table border=\"1\" class=\"dataframe\">\n",
       "  <thead>\n",
       "    <tr style=\"text-align: right;\">\n",
       "      <th></th>\n",
       "      <th>Removed_Cols</th>\n",
       "      <th>Local</th>\n",
       "      <th>Features</th>\n",
       "      <th>Train_Acc</th>\n",
       "      <th>Test_Acc</th>\n",
       "      <th>Precision</th>\n",
       "      <th>Recall</th>\n",
       "      <th>F1</th>\n",
       "      <th>Ver_Pos</th>\n",
       "      <th>Model</th>\n",
       "    </tr>\n",
       "  </thead>\n",
       "  <tbody>\n",
       "    <tr>\n",
       "      <th>0</th>\n",
       "      <td>[DirecaoDoVento, VelocidadeDoVento, Temperatur...</td>\n",
       "      <td>0</td>\n",
       "      <td>[TemperaturaDoAr, RadiacaoSolar, Precipitacao,...</td>\n",
       "      <td>0.996536</td>\n",
       "      <td>0.990019</td>\n",
       "      <td>0.667853</td>\n",
       "      <td>0.920059</td>\n",
       "      <td>0.773927</td>\n",
       "      <td>0.920059</td>\n",
       "      <td>&lt;xgboost.core.Booster object at 0x0000015C4D6F...</td>\n",
       "    </tr>\n",
       "    <tr>\n",
       "      <th>0</th>\n",
       "      <td>[DirecaoDoVento, VelocidadeDoVento, Temperatur...</td>\n",
       "      <td>1</td>\n",
       "      <td>[TemperaturaDoAr, RadiacaoSolar, Precipitacao,...</td>\n",
       "      <td>0.998361</td>\n",
       "      <td>0.994582</td>\n",
       "      <td>0.788009</td>\n",
       "      <td>0.948454</td>\n",
       "      <td>0.860819</td>\n",
       "      <td>0.948454</td>\n",
       "      <td>&lt;xgboost.core.Booster object at 0x0000015C4D6F...</td>\n",
       "    </tr>\n",
       "    <tr>\n",
       "      <th>0</th>\n",
       "      <td>[DirecaoDoVento, VelocidadeDoVento, Temperatur...</td>\n",
       "      <td>2</td>\n",
       "      <td>[PressaoAtmosferica, TemperaturaDoAr, Radiacao...</td>\n",
       "      <td>0.996801</td>\n",
       "      <td>0.993216</td>\n",
       "      <td>0.733075</td>\n",
       "      <td>0.971795</td>\n",
       "      <td>0.835722</td>\n",
       "      <td>0.971795</td>\n",
       "      <td>&lt;xgboost.core.Booster object at 0x0000015C4D6F...</td>\n",
       "    </tr>\n",
       "    <tr>\n",
       "      <th>0</th>\n",
       "      <td>[DirecaoDoVento, VelocidadeDoVento, Temperatur...</td>\n",
       "      <td>3</td>\n",
       "      <td>[TemperaturaDoAr, Precipitacao, Dia, PrecSum, ...</td>\n",
       "      <td>0.998119</td>\n",
       "      <td>0.995173</td>\n",
       "      <td>0.823762</td>\n",
       "      <td>0.960739</td>\n",
       "      <td>0.886994</td>\n",
       "      <td>0.960739</td>\n",
       "      <td>&lt;xgboost.core.Booster object at 0x0000015C4D6F...</td>\n",
       "    </tr>\n",
       "    <tr>\n",
       "      <th>0</th>\n",
       "      <td>[DirecaoDoVento, VelocidadeDoVento, Temperatur...</td>\n",
       "      <td>4</td>\n",
       "      <td>[PressaoAtmosferica, TemperaturaDoAr, Radiacao...</td>\n",
       "      <td>0.996610</td>\n",
       "      <td>0.986932</td>\n",
       "      <td>0.614068</td>\n",
       "      <td>0.793612</td>\n",
       "      <td>0.692390</td>\n",
       "      <td>0.793612</td>\n",
       "      <td>&lt;xgboost.core.Booster object at 0x0000015C4D6F...</td>\n",
       "    </tr>\n",
       "    <tr>\n",
       "      <th>0</th>\n",
       "      <td>[DirecaoDoVento, VelocidadeDoVento, Temperatur...</td>\n",
       "      <td>5</td>\n",
       "      <td>[UmidadeRelativa, PressaoAtmosferica, Temperat...</td>\n",
       "      <td>0.996588</td>\n",
       "      <td>0.988526</td>\n",
       "      <td>0.659176</td>\n",
       "      <td>0.834123</td>\n",
       "      <td>0.736402</td>\n",
       "      <td>0.834123</td>\n",
       "      <td>&lt;xgboost.core.Booster object at 0x0000015C4D6F...</td>\n",
       "    </tr>\n",
       "  </tbody>\n",
       "</table>\n",
       "</div>"
      ],
      "text/plain": [
       "                                        Removed_Cols Local  \\\n",
       "0  [DirecaoDoVento, VelocidadeDoVento, Temperatur...     0   \n",
       "0  [DirecaoDoVento, VelocidadeDoVento, Temperatur...     1   \n",
       "0  [DirecaoDoVento, VelocidadeDoVento, Temperatur...     2   \n",
       "0  [DirecaoDoVento, VelocidadeDoVento, Temperatur...     3   \n",
       "0  [DirecaoDoVento, VelocidadeDoVento, Temperatur...     4   \n",
       "0  [DirecaoDoVento, VelocidadeDoVento, Temperatur...     5   \n",
       "\n",
       "                                            Features  Train_Acc  Test_Acc  \\\n",
       "0  [TemperaturaDoAr, RadiacaoSolar, Precipitacao,...   0.996536  0.990019   \n",
       "0  [TemperaturaDoAr, RadiacaoSolar, Precipitacao,...   0.998361  0.994582   \n",
       "0  [PressaoAtmosferica, TemperaturaDoAr, Radiacao...   0.996801  0.993216   \n",
       "0  [TemperaturaDoAr, Precipitacao, Dia, PrecSum, ...   0.998119  0.995173   \n",
       "0  [PressaoAtmosferica, TemperaturaDoAr, Radiacao...   0.996610  0.986932   \n",
       "0  [UmidadeRelativa, PressaoAtmosferica, Temperat...   0.996588  0.988526   \n",
       "\n",
       "   Precision    Recall        F1   Ver_Pos  \\\n",
       "0   0.667853  0.920059  0.773927  0.920059   \n",
       "0   0.788009  0.948454  0.860819  0.948454   \n",
       "0   0.733075  0.971795  0.835722  0.971795   \n",
       "0   0.823762  0.960739  0.886994  0.960739   \n",
       "0   0.614068  0.793612  0.692390  0.793612   \n",
       "0   0.659176  0.834123  0.736402  0.834123   \n",
       "\n",
       "                                               Model  \n",
       "0  <xgboost.core.Booster object at 0x0000015C4D6F...  \n",
       "0  <xgboost.core.Booster object at 0x0000015C4D6F...  \n",
       "0  <xgboost.core.Booster object at 0x0000015C4D6F...  \n",
       "0  <xgboost.core.Booster object at 0x0000015C4D6F...  \n",
       "0  <xgboost.core.Booster object at 0x0000015C4D6F...  \n",
       "0  <xgboost.core.Booster object at 0x0000015C4D6F...  "
      ]
     },
     "execution_count": 20,
     "metadata": {},
     "output_type": "execute_result"
    }
   ],
   "source": [
    "df_best_local = pd.DataFrame(columns = df_training_result.columns)\n",
    "\n",
    "for l in range(6):\n",
    "    df_best_local = df_best_local.append(df_training_result[(df_training_result['Local'] == l)].sort_values('F1', ascending=False).reset_index(drop=True).loc[0])\n",
    "    \n",
    "df_best_local"
   ]
  },
  {
   "cell_type": "code",
   "execution_count": 21,
   "metadata": {},
   "outputs": [],
   "source": [
    "#df_best_local.to_csv('../../../data/analysis/best_shift_local.csv', index=False, sep=';', decimal=',')"
   ]
  },
  {
   "cell_type": "markdown",
   "metadata": {},
   "source": [
    "# OWM"
   ]
  },
  {
   "cell_type": "code",
   "execution_count": 22,
   "metadata": {},
   "outputs": [],
   "source": [
    "df_owm = pd.read_csv('../../../data/cleandata/Info pluviometricas/Merged Data/OpenWeatherMapSantoAndre.csv')"
   ]
  },
  {
   "cell_type": "code",
   "execution_count": 23,
   "metadata": {},
   "outputs": [],
   "source": [
    "df_owm['Data_Hora'] = pd.to_datetime(df_owm['dt_iso'].str[:-10])\n",
    "df_owm['Data_Hora'] = df_owm.apply(lambda x: x['Data_Hora'] + pd.Timedelta(hours = x['timezone'] / 3600), axis = 1)\n",
    "df_owm = df_owm[(datetime.strptime('2019-08-30', '%Y-%m-%d') >= df_owm['Data_Hora']) & (df_owm['Data_Hora'] >= datetime.strptime('2010-01-01', '%Y-%m-%d'))]\n",
    "df_owm = df_owm.drop(columns = ['sea_level', 'grnd_level', 'rain_3h', 'snow_1h', 'snow_3h'])\n",
    "df_owm = df_owm.fillna(0)\n",
    "df_owm = df_owm.drop_duplicates(subset='Data_Hora')"
   ]
  },
  {
   "cell_type": "code",
   "execution_count": 24,
   "metadata": {},
   "outputs": [
    {
     "data": {
      "text/html": [
       "<div>\n",
       "<style scoped>\n",
       "    .dataframe tbody tr th:only-of-type {\n",
       "        vertical-align: middle;\n",
       "    }\n",
       "\n",
       "    .dataframe tbody tr th {\n",
       "        vertical-align: top;\n",
       "    }\n",
       "\n",
       "    .dataframe thead th {\n",
       "        text-align: right;\n",
       "    }\n",
       "</style>\n",
       "<table border=\"1\" class=\"dataframe\">\n",
       "  <thead>\n",
       "    <tr style=\"text-align: right;\">\n",
       "      <th></th>\n",
       "      <th>Data</th>\n",
       "      <th>Label</th>\n",
       "    </tr>\n",
       "  </thead>\n",
       "  <tbody>\n",
       "    <tr>\n",
       "      <th>0</th>\n",
       "      <td>2010-01-07</td>\n",
       "      <td>1</td>\n",
       "    </tr>\n",
       "    <tr>\n",
       "      <th>1</th>\n",
       "      <td>2010-01-08</td>\n",
       "      <td>0</td>\n",
       "    </tr>\n",
       "    <tr>\n",
       "      <th>2</th>\n",
       "      <td>2010-01-11</td>\n",
       "      <td>0</td>\n",
       "    </tr>\n",
       "    <tr>\n",
       "      <th>3</th>\n",
       "      <td>2010-01-19</td>\n",
       "      <td>0</td>\n",
       "    </tr>\n",
       "    <tr>\n",
       "      <th>4</th>\n",
       "      <td>2010-01-20</td>\n",
       "      <td>1</td>\n",
       "    </tr>\n",
       "  </tbody>\n",
       "</table>\n",
       "</div>"
      ],
      "text/plain": [
       "        Data  Label\n",
       "0 2010-01-07      1\n",
       "1 2010-01-08      0\n",
       "2 2010-01-11      0\n",
       "3 2010-01-19      0\n",
       "4 2010-01-20      1"
      ]
     },
     "execution_count": 24,
     "metadata": {},
     "output_type": "execute_result"
    }
   ],
   "source": [
    "df_loc = pd.read_csv('../../../data/cleandata/Ordens de serviço/labels_day.csv', sep=';')\n",
    "df_loc['Data'] = pd.to_datetime(df_loc['Data'], yearfirst=True)\n",
    "df_loc = df_loc[['Data', 'LocalMax']]\n",
    "df_loc.columns = ['Data', 'Label']\n",
    "df_loc.head()"
   ]
  },
  {
   "cell_type": "code",
   "execution_count": 25,
   "metadata": {},
   "outputs": [],
   "source": [
    "df_owm['Data'] = pd.to_datetime(df_owm['Data_Hora'].dt.strftime('%Y-%m-%d'), yearfirst=True)\n",
    "df = df_owm.merge(df_loc, on='Data', how='left')\n",
    "df = df.fillna(0)"
   ]
  },
  {
   "cell_type": "code",
   "execution_count": 26,
   "metadata": {},
   "outputs": [],
   "source": [
    "df_g = df.groupby('Data').sum().reset_index()[['Data', 'rain_1h']]\n",
    "df_g.columns = ['Data', 'rain_sum']\n",
    "df = df.merge(df_g, on='Data')"
   ]
  },
  {
   "cell_type": "code",
   "execution_count": 27,
   "metadata": {},
   "outputs": [],
   "source": [
    "df['Mes'] = df['Data_Hora'].dt.month\n",
    "df['Dia'] = df['Data_Hora'].dt.day\n",
    "# df = df.drop(columns = ['dt', 'dt_iso', 'timezone', 'city_name', 'lat', 'lon', 'weather_icon', 'weather_id', 'weather_main',\n",
    "#                         'Vitoria', 'Erasmo', 'Paraiso', 'RM', 'Null', 'Camilopolis'])\n",
    "df = df.drop(columns = ['dt', 'dt_iso', 'timezone', 'city_name', 'lat', 'lon', 'weather_icon', 'weather_id', 'weather_main'])\n",
    "# df = df.drop(columns = ['dt', 'dt_iso', 'timezone', 'city_name', 'lat', 'lon', 'weather_icon', 'weather_id', 'weather_main',\n",
    "#                         'Data_Hora', 'Data'])\n",
    "# df['weather_description'] = df['weather_description'].rank(method='dense', ascending=False).astype(int)"
   ]
  },
  {
   "cell_type": "code",
   "execution_count": 28,
   "metadata": {},
   "outputs": [],
   "source": [
    "cols_dummies = ['Mes', 'weather_description', 'Dia']\n",
    "\n",
    "df_ohe = df.copy()\n",
    "\n",
    "for c in cols_dummies:\n",
    "    df_ohe = pd.concat([df_ohe, pd.get_dummies(df_ohe[c], prefix=c)], axis=1)\n",
    "    \n",
    "df_ohe = df_ohe.sort_values(['Data'])\n",
    "\n",
    "df_ohe['Label_Old'] = df_ohe['Label']\n",
    "df_ohe['Label'] = df_ohe['Label'].shift(-1*6, fill_value = 0)"
   ]
  },
  {
   "cell_type": "code",
   "execution_count": 29,
   "metadata": {},
   "outputs": [
    {
     "data": {
      "text/plain": [
       "Index(['temp', 'feels_like', 'temp_min', 'temp_max', 'pressure', 'humidity',\n",
       "       'wind_speed', 'wind_deg', 'rain_1h', 'clouds_all',\n",
       "       'weather_description', 'Data_Hora', 'Data', 'Label', 'rain_sum', 'Mes',\n",
       "       'Dia', 'Mes_1', 'Mes_2', 'Mes_3', 'Mes_4', 'Mes_5', 'Mes_6', 'Mes_7',\n",
       "       'Mes_8', 'Mes_9', 'Mes_10', 'Mes_11', 'Mes_12',\n",
       "       'weather_description_broken clouds', 'weather_description_drizzle',\n",
       "       'weather_description_few clouds', 'weather_description_fog',\n",
       "       'weather_description_haze',\n",
       "       'weather_description_heavy intensity drizzle',\n",
       "       'weather_description_heavy intensity rain',\n",
       "       'weather_description_heavy intesity shower rain',\n",
       "       'weather_description_light intensity drizzle',\n",
       "       'weather_description_light intensity drizzle rain',\n",
       "       'weather_description_light intensity shower rain',\n",
       "       'weather_description_light rain', 'weather_description_mist',\n",
       "       'weather_description_moderate rain',\n",
       "       'weather_description_overcast clouds',\n",
       "       'weather_description_proximity shower rain',\n",
       "       'weather_description_proximity thunderstorm',\n",
       "       'weather_description_rain and drizzle',\n",
       "       'weather_description_scattered clouds',\n",
       "       'weather_description_shower rain', 'weather_description_sky is clear',\n",
       "       'weather_description_thunderstorm',\n",
       "       'weather_description_thunderstorm with heavy rain',\n",
       "       'weather_description_thunderstorm with light rain',\n",
       "       'weather_description_thunderstorm with rain', 'Dia_1', 'Dia_2', 'Dia_3',\n",
       "       'Dia_4', 'Dia_5', 'Dia_6', 'Dia_7', 'Dia_8', 'Dia_9', 'Dia_10',\n",
       "       'Dia_11', 'Dia_12', 'Dia_13', 'Dia_14', 'Dia_15', 'Dia_16', 'Dia_17',\n",
       "       'Dia_18', 'Dia_19', 'Dia_20', 'Dia_21', 'Dia_22', 'Dia_23', 'Dia_24',\n",
       "       'Dia_25', 'Dia_26', 'Dia_27', 'Dia_28', 'Dia_29', 'Dia_30', 'Dia_31',\n",
       "       'Label_Old'],\n",
       "      dtype='object')"
      ]
     },
     "execution_count": 29,
     "metadata": {},
     "output_type": "execute_result"
    }
   ],
   "source": [
    "df_ohe.columns"
   ]
  },
  {
   "cell_type": "code",
   "execution_count": 30,
   "metadata": {},
   "outputs": [
    {
     "name": "stdout",
     "output_type": "stream",
     "text": [
      "---------- CASE ----------\n",
      "[]\n",
      "--------------------------\n",
      "Treino: 0.9929923158314686\n",
      "Teste: 0.9678346456692913\n",
      "Precisão: 0.4446397188049209\n",
      "Recall: 0.7322720694645442\n",
      "F1: 0.5533078184800437\n"
     ]
    },
    {
     "data": {
      "text/plain": [
       "array([[0.97442228, 0.02557772],\n",
       "       [0.26772793, 0.73227207]])"
      ]
     },
     "metadata": {},
     "output_type": "display_data"
    },
    {
     "data": {
      "text/plain": [
       "array([[24077,   632],\n",
       "       [  185,   506]], dtype=int64)"
      ]
     },
     "metadata": {},
     "output_type": "display_data"
    },
    {
     "name": "stdout",
     "output_type": "stream",
     "text": [
      "---------- CASE ----------\n",
      "['feels_like']\n",
      "--------------------------\n",
      "Treino: 0.9924892889975889\n",
      "Teste: 0.9660629921259842\n",
      "Precisão: 0.42493415276558383\n",
      "Recall: 0.7004341534008683\n",
      "F1: 0.5289617486338798\n"
     ]
    },
    {
     "data": {
      "text/plain": [
       "array([[0.97349144, 0.02650856],\n",
       "       [0.29956585, 0.70043415]])"
      ]
     },
     "metadata": {},
     "output_type": "display_data"
    },
    {
     "data": {
      "text/plain": [
       "array([[24054,   655],\n",
       "       [  207,   484]], dtype=int64)"
      ]
     },
     "metadata": {},
     "output_type": "display_data"
    },
    {
     "name": "stdout",
     "output_type": "stream",
     "text": [
      "---------- CASE ----------\n",
      "['feels_like', 'temp_min', 'temp_max']\n",
      "--------------------------\n",
      "Treino: 0.9928275311789908\n",
      "Teste: 0.9682283464566929\n",
      "Precisão: 0.44876325088339225\n",
      "Recall: 0.7351664254703328\n",
      "F1: 0.5573230938014263\n"
     ]
    },
    {
     "data": {
      "text/plain": [
       "array([[0.97474604, 0.02525396],\n",
       "       [0.26483357, 0.73516643]])"
      ]
     },
     "metadata": {},
     "output_type": "display_data"
    },
    {
     "data": {
      "text/plain": [
       "array([[24085,   624],\n",
       "       [  183,   508]], dtype=int64)"
      ]
     },
     "metadata": {},
     "output_type": "display_data"
    },
    {
     "name": "stdout",
     "output_type": "stream",
     "text": [
      "---------- CASE ----------\n",
      "['feels_like', 'temp_min', 'temp_max', 'pressure']\n",
      "--------------------------\n",
      "Treino: 0.9931744462368389\n",
      "Teste: 0.9705511811023622\n",
      "Precisão: 0.473972602739726\n",
      "Recall: 0.7510853835021708\n",
      "F1: 0.5811870100783875\n"
     ]
    },
    {
     "data": {
      "text/plain": [
       "array([[0.97668866, 0.02331134],\n",
       "       [0.24891462, 0.75108538]])"
      ]
     },
     "metadata": {},
     "output_type": "display_data"
    },
    {
     "data": {
      "text/plain": [
       "array([[24133,   576],\n",
       "       [  172,   519]], dtype=int64)"
      ]
     },
     "metadata": {},
     "output_type": "display_data"
    },
    {
     "name": "stdout",
     "output_type": "stream",
     "text": [
      "---------- CASE ----------\n",
      "['feels_like', 'temp_min', 'temp_max', 'pressure', 'humidity']\n",
      "--------------------------\n",
      "Treino: 0.993477996912456\n",
      "Teste: 0.9711811023622047\n",
      "Precisão: 0.4806054872280038\n",
      "Recall: 0.7351664254703328\n",
      "F1: 0.5812356979405034\n"
     ]
    },
    {
     "data": {
      "text/plain": [
       "array([[0.97778138, 0.02221862],\n",
       "       [0.26483357, 0.73516643]])"
      ]
     },
     "metadata": {},
     "output_type": "display_data"
    },
    {
     "data": {
      "text/plain": [
       "array([[24160,   549],\n",
       "       [  183,   508]], dtype=int64)"
      ]
     },
     "metadata": {},
     "output_type": "display_data"
    },
    {
     "name": "stdout",
     "output_type": "stream",
     "text": [
      "---------- CASE ----------\n",
      "['feels_like', 'temp_min', 'temp_max', 'pressure', 'humidity', 'wind_speed', 'wind_deg']\n",
      "--------------------------\n",
      "Treino: 0.992619382144282\n",
      "Teste: 0.9719291338582677\n",
      "Precisão: 0.48996350364963503\n",
      "Recall: 0.7771345875542692\n",
      "F1: 0.6010072747621713\n"
     ]
    },
    {
     "data": {
      "text/plain": [
       "array([[0.97737666, 0.02262334],\n",
       "       [0.22286541, 0.77713459]])"
      ]
     },
     "metadata": {},
     "output_type": "display_data"
    },
    {
     "data": {
      "text/plain": [
       "array([[24150,   559],\n",
       "       [  154,   537]], dtype=int64)"
      ]
     },
     "metadata": {},
     "output_type": "display_data"
    },
    {
     "name": "stdout",
     "output_type": "stream",
     "text": [
      "---------- CASE ----------\n",
      "['feels_like', 'temp_min', 'temp_max', 'pressure', 'humidity', 'wind_speed', 'wind_deg', 'clouds_all']\n",
      "--------------------------\n",
      "Treino: 0.9926714194029592\n",
      "Teste: 0.9721653543307086\n",
      "Precisão: 0.49280575539568344\n",
      "Recall: 0.7930535455861071\n",
      "F1: 0.6078757626178591\n"
     ]
    },
    {
     "data": {
      "text/plain": [
       "array([[0.97717431, 0.02282569],\n",
       "       [0.20694645, 0.79305355]])"
      ]
     },
     "metadata": {},
     "output_type": "display_data"
    },
    {
     "data": {
      "text/plain": [
       "array([[24145,   564],\n",
       "       [  143,   548]], dtype=int64)"
      ]
     },
     "metadata": {},
     "output_type": "display_data"
    },
    {
     "name": "stdout",
     "output_type": "stream",
     "text": [
      "---------- CASE ----------\n",
      "['feels_like', 'temp_min', 'temp_max', 'pressure', 'humidity', 'wind_speed', 'wind_deg', 'clouds_all', 'weather_description', 'weather_description_broken clouds', 'weather_description_drizzle', 'weather_description_few clouds', 'weather_description_fog', 'weather_description_haze', 'weather_description_heavy intensity drizzle', 'weather_description_heavy intensity rain', 'weather_description_heavy intesity shower rain', 'weather_description_light intensity drizzle', 'weather_description_light intensity drizzle rain', 'weather_description_light intensity shower rain', 'weather_description_light rain', 'weather_description_mist', 'weather_description_moderate rain', 'weather_description_overcast clouds', 'weather_description_proximity shower rain', 'weather_description_proximity thunderstorm', 'weather_description_rain and drizzle', 'weather_description_scattered clouds', 'weather_description_shower rain', 'weather_description_sky is clear', 'weather_description_thunderstorm', 'weather_description_thunderstorm with heavy rain', 'weather_description_thunderstorm with light rain', 'weather_description_thunderstorm with rain']\n",
      "--------------------------\n",
      "Treino: 0.9911449931484276\n",
      "Teste: 0.9713385826771653\n",
      "Precisão: 0.484228473998295\n",
      "Recall: 0.8219971056439942\n",
      "F1: 0.6094420600858369\n"
     ]
    },
    {
     "data": {
      "text/plain": [
       "array([[0.97551499, 0.02448501],\n",
       "       [0.17800289, 0.82199711]])"
      ]
     },
     "metadata": {},
     "output_type": "display_data"
    },
    {
     "data": {
      "text/plain": [
       "array([[24104,   605],\n",
       "       [  123,   568]], dtype=int64)"
      ]
     },
     "metadata": {},
     "output_type": "display_data"
    },
    {
     "name": "stdout",
     "output_type": "stream",
     "text": [
      "---------- CASE ----------\n",
      "['temp_min', 'temp_max', 'pressure', 'humidity', 'wind_speed', 'wind_deg', 'clouds_all', 'weather_description', 'weather_description_broken clouds', 'weather_description_drizzle', 'weather_description_few clouds', 'weather_description_fog', 'weather_description_haze', 'weather_description_heavy intensity drizzle', 'weather_description_heavy intensity rain', 'weather_description_heavy intesity shower rain', 'weather_description_light intensity drizzle', 'weather_description_light intensity drizzle rain', 'weather_description_light intensity shower rain', 'weather_description_light rain', 'weather_description_mist', 'weather_description_moderate rain', 'weather_description_overcast clouds', 'weather_description_proximity shower rain', 'weather_description_proximity thunderstorm', 'weather_description_rain and drizzle', 'weather_description_scattered clouds', 'weather_description_shower rain', 'weather_description_sky is clear', 'weather_description_thunderstorm', 'weather_description_thunderstorm with heavy rain', 'weather_description_thunderstorm with light rain', 'weather_description_thunderstorm with rain']\n",
      "--------------------------\n",
      "Treino: 0.9928622226847756\n",
      "Teste: 0.9723228346456693\n",
      "Precisão: 0.4944954128440367\n",
      "Recall: 0.7800289435600579\n",
      "F1: 0.605277933745087\n"
     ]
    },
    {
     "data": {
      "text/plain": [
       "array([[0.97770043, 0.02229957],\n",
       "       [0.21997106, 0.78002894]])"
      ]
     },
     "metadata": {},
     "output_type": "display_data"
    },
    {
     "data": {
      "text/plain": [
       "array([[24158,   551],\n",
       "       [  152,   539]], dtype=int64)"
      ]
     },
     "metadata": {},
     "output_type": "display_data"
    }
   ],
   "source": [
    "test_cases = [\n",
    "    [],\n",
    "    ['feels_like'],\n",
    "    ['feels_like', 'temp_min', 'temp_max'],\n",
    "    ['feels_like', 'temp_min', 'temp_max', 'pressure'],\n",
    "    ['feels_like', 'temp_min', 'temp_max', 'pressure', 'humidity'],\n",
    "    ['feels_like', 'temp_min', 'temp_max', 'pressure', 'humidity', 'wind_speed', 'wind_deg'],\n",
    "    ['feels_like', 'temp_min', 'temp_max', 'pressure', 'humidity', 'wind_speed', 'wind_deg', 'clouds_all'],\n",
    "    ['feels_like', 'temp_min', 'temp_max', 'pressure', 'humidity', 'wind_speed', 'wind_deg', 'clouds_all'] + [c for c in df_ohe.columns if 'weather_description' in c],\n",
    "    ['temp_min', 'temp_max', 'pressure', 'humidity', 'wind_speed', 'wind_deg', 'clouds_all'] + [c for c in df_ohe.columns if 'weather_description' in c],\n",
    "]\n",
    "\n",
    "df_training_result_owm = pd.DataFrame(columns = ['Removed_Cols', 'Features', 'Train_Acc', 'Test_Acc', 'Precision', 'Recall', 'F1', 'Ver_Pos'])\n",
    "label = 'Label'\n",
    "\n",
    "for case in test_cases:\n",
    "    print(f'---------- CASE ----------')\n",
    "    print(case)\n",
    "    print(f'--------------------------')\n",
    "    \n",
    "    df_train = df_ohe.copy()\n",
    "\n",
    "    cols_rem = ['Label', 'Label_Old', 'Data', 'Data_Hora'] + cols_dummies\n",
    "    cols_rem = cols_rem + case\n",
    "\n",
    "    model, training_res, y_treino_pred, y_teste_pred = trainXGB(df_train, cols_rem, label)\n",
    "\n",
    "    df_training_result_owm = df_training_result_owm.append(\n",
    "        {**{'Removed_Cols': case}, **training_res},\n",
    "        ignore_index=True\n",
    "    )"
   ]
  },
  {
   "cell_type": "code",
   "execution_count": 31,
   "metadata": {},
   "outputs": [
    {
     "data": {
      "text/html": [
       "<div>\n",
       "<style scoped>\n",
       "    .dataframe tbody tr th:only-of-type {\n",
       "        vertical-align: middle;\n",
       "    }\n",
       "\n",
       "    .dataframe tbody tr th {\n",
       "        vertical-align: top;\n",
       "    }\n",
       "\n",
       "    .dataframe thead th {\n",
       "        text-align: right;\n",
       "    }\n",
       "</style>\n",
       "<table border=\"1\" class=\"dataframe\">\n",
       "  <thead>\n",
       "    <tr style=\"text-align: right;\">\n",
       "      <th></th>\n",
       "      <th>Removed_Cols</th>\n",
       "      <th>Features</th>\n",
       "      <th>Train_Acc</th>\n",
       "      <th>Test_Acc</th>\n",
       "      <th>Precision</th>\n",
       "      <th>Recall</th>\n",
       "      <th>F1</th>\n",
       "      <th>Ver_Pos</th>\n",
       "    </tr>\n",
       "  </thead>\n",
       "  <tbody>\n",
       "    <tr>\n",
       "      <th>0</th>\n",
       "      <td>[]</td>\n",
       "      <td>[temp, feels_like, temp_min, temp_max, pressur...</td>\n",
       "      <td>0.992992</td>\n",
       "      <td>0.967835</td>\n",
       "      <td>0.444640</td>\n",
       "      <td>0.732272</td>\n",
       "      <td>0.553308</td>\n",
       "      <td>0.732272</td>\n",
       "    </tr>\n",
       "    <tr>\n",
       "      <th>1</th>\n",
       "      <td>[feels_like]</td>\n",
       "      <td>[temp, temp_min, temp_max, pressure, humidity,...</td>\n",
       "      <td>0.992489</td>\n",
       "      <td>0.966063</td>\n",
       "      <td>0.424934</td>\n",
       "      <td>0.700434</td>\n",
       "      <td>0.528962</td>\n",
       "      <td>0.700434</td>\n",
       "    </tr>\n",
       "    <tr>\n",
       "      <th>2</th>\n",
       "      <td>[feels_like, temp_min, temp_max]</td>\n",
       "      <td>[temp, pressure, humidity, wind_speed, wind_de...</td>\n",
       "      <td>0.992828</td>\n",
       "      <td>0.968228</td>\n",
       "      <td>0.448763</td>\n",
       "      <td>0.735166</td>\n",
       "      <td>0.557323</td>\n",
       "      <td>0.735166</td>\n",
       "    </tr>\n",
       "    <tr>\n",
       "      <th>3</th>\n",
       "      <td>[feels_like, temp_min, temp_max, pressure]</td>\n",
       "      <td>[temp, humidity, wind_speed, wind_deg, rain_1h...</td>\n",
       "      <td>0.993174</td>\n",
       "      <td>0.970551</td>\n",
       "      <td>0.473973</td>\n",
       "      <td>0.751085</td>\n",
       "      <td>0.581187</td>\n",
       "      <td>0.751085</td>\n",
       "    </tr>\n",
       "    <tr>\n",
       "      <th>4</th>\n",
       "      <td>[feels_like, temp_min, temp_max, pressure, hum...</td>\n",
       "      <td>[temp, wind_speed, wind_deg, rain_1h, clouds_a...</td>\n",
       "      <td>0.993478</td>\n",
       "      <td>0.971181</td>\n",
       "      <td>0.480605</td>\n",
       "      <td>0.735166</td>\n",
       "      <td>0.581236</td>\n",
       "      <td>0.735166</td>\n",
       "    </tr>\n",
       "    <tr>\n",
       "      <th>5</th>\n",
       "      <td>[feels_like, temp_min, temp_max, pressure, hum...</td>\n",
       "      <td>[temp, rain_1h, clouds_all, rain_sum, Mes_1, M...</td>\n",
       "      <td>0.992619</td>\n",
       "      <td>0.971929</td>\n",
       "      <td>0.489964</td>\n",
       "      <td>0.777135</td>\n",
       "      <td>0.601007</td>\n",
       "      <td>0.777135</td>\n",
       "    </tr>\n",
       "    <tr>\n",
       "      <th>6</th>\n",
       "      <td>[feels_like, temp_min, temp_max, pressure, hum...</td>\n",
       "      <td>[temp, rain_1h, rain_sum, Mes_1, Mes_2, Mes_3,...</td>\n",
       "      <td>0.992671</td>\n",
       "      <td>0.972165</td>\n",
       "      <td>0.492806</td>\n",
       "      <td>0.793054</td>\n",
       "      <td>0.607876</td>\n",
       "      <td>0.793054</td>\n",
       "    </tr>\n",
       "    <tr>\n",
       "      <th>7</th>\n",
       "      <td>[feels_like, temp_min, temp_max, pressure, hum...</td>\n",
       "      <td>[temp, rain_1h, rain_sum, Mes_1, Mes_2, Mes_3,...</td>\n",
       "      <td>0.991145</td>\n",
       "      <td>0.971339</td>\n",
       "      <td>0.484228</td>\n",
       "      <td>0.821997</td>\n",
       "      <td>0.609442</td>\n",
       "      <td>0.821997</td>\n",
       "    </tr>\n",
       "    <tr>\n",
       "      <th>8</th>\n",
       "      <td>[temp_min, temp_max, pressure, humidity, wind_...</td>\n",
       "      <td>[temp, feels_like, rain_1h, rain_sum, Mes_1, M...</td>\n",
       "      <td>0.992862</td>\n",
       "      <td>0.972323</td>\n",
       "      <td>0.494495</td>\n",
       "      <td>0.780029</td>\n",
       "      <td>0.605278</td>\n",
       "      <td>0.780029</td>\n",
       "    </tr>\n",
       "  </tbody>\n",
       "</table>\n",
       "</div>"
      ],
      "text/plain": [
       "                                        Removed_Cols  \\\n",
       "0                                                 []   \n",
       "1                                       [feels_like]   \n",
       "2                   [feels_like, temp_min, temp_max]   \n",
       "3         [feels_like, temp_min, temp_max, pressure]   \n",
       "4  [feels_like, temp_min, temp_max, pressure, hum...   \n",
       "5  [feels_like, temp_min, temp_max, pressure, hum...   \n",
       "6  [feels_like, temp_min, temp_max, pressure, hum...   \n",
       "7  [feels_like, temp_min, temp_max, pressure, hum...   \n",
       "8  [temp_min, temp_max, pressure, humidity, wind_...   \n",
       "\n",
       "                                            Features  Train_Acc  Test_Acc  \\\n",
       "0  [temp, feels_like, temp_min, temp_max, pressur...   0.992992  0.967835   \n",
       "1  [temp, temp_min, temp_max, pressure, humidity,...   0.992489  0.966063   \n",
       "2  [temp, pressure, humidity, wind_speed, wind_de...   0.992828  0.968228   \n",
       "3  [temp, humidity, wind_speed, wind_deg, rain_1h...   0.993174  0.970551   \n",
       "4  [temp, wind_speed, wind_deg, rain_1h, clouds_a...   0.993478  0.971181   \n",
       "5  [temp, rain_1h, clouds_all, rain_sum, Mes_1, M...   0.992619  0.971929   \n",
       "6  [temp, rain_1h, rain_sum, Mes_1, Mes_2, Mes_3,...   0.992671  0.972165   \n",
       "7  [temp, rain_1h, rain_sum, Mes_1, Mes_2, Mes_3,...   0.991145  0.971339   \n",
       "8  [temp, feels_like, rain_1h, rain_sum, Mes_1, M...   0.992862  0.972323   \n",
       "\n",
       "   Precision    Recall        F1   Ver_Pos  \n",
       "0   0.444640  0.732272  0.553308  0.732272  \n",
       "1   0.424934  0.700434  0.528962  0.700434  \n",
       "2   0.448763  0.735166  0.557323  0.735166  \n",
       "3   0.473973  0.751085  0.581187  0.751085  \n",
       "4   0.480605  0.735166  0.581236  0.735166  \n",
       "5   0.489964  0.777135  0.601007  0.777135  \n",
       "6   0.492806  0.793054  0.607876  0.793054  \n",
       "7   0.484228  0.821997  0.609442  0.821997  \n",
       "8   0.494495  0.780029  0.605278  0.780029  "
      ]
     },
     "execution_count": 31,
     "metadata": {},
     "output_type": "execute_result"
    }
   ],
   "source": [
    "df_training_result_owm"
   ]
  },
  {
   "cell_type": "markdown",
   "metadata": {},
   "source": [
    "# Teste \"real\""
   ]
  },
  {
   "cell_type": "code",
   "execution_count": 32,
   "metadata": {},
   "outputs": [
    {
     "data": {
      "text/html": [
       "<div>\n",
       "<style scoped>\n",
       "    .dataframe tbody tr th:only-of-type {\n",
       "        vertical-align: middle;\n",
       "    }\n",
       "\n",
       "    .dataframe tbody tr th {\n",
       "        vertical-align: top;\n",
       "    }\n",
       "\n",
       "    .dataframe thead th {\n",
       "        text-align: right;\n",
       "    }\n",
       "</style>\n",
       "<table border=\"1\" class=\"dataframe\">\n",
       "  <thead>\n",
       "    <tr style=\"text-align: right;\">\n",
       "      <th></th>\n",
       "      <th>Removed_Cols</th>\n",
       "      <th>Local</th>\n",
       "      <th>Features</th>\n",
       "      <th>Train_Acc</th>\n",
       "      <th>Test_Acc</th>\n",
       "      <th>Precision</th>\n",
       "      <th>Recall</th>\n",
       "      <th>F1</th>\n",
       "      <th>Ver_Pos</th>\n",
       "      <th>Model</th>\n",
       "    </tr>\n",
       "  </thead>\n",
       "  <tbody>\n",
       "    <tr>\n",
       "      <th>0</th>\n",
       "      <td>[DirecaoDoVento, VelocidadeDoVento, Temperatur...</td>\n",
       "      <td>0</td>\n",
       "      <td>[TemperaturaDoAr, RadiacaoSolar, Precipitacao,...</td>\n",
       "      <td>0.996536</td>\n",
       "      <td>0.990019</td>\n",
       "      <td>0.667853</td>\n",
       "      <td>0.920059</td>\n",
       "      <td>0.773927</td>\n",
       "      <td>0.920059</td>\n",
       "      <td>&lt;xgboost.core.Booster object at 0x0000015C4D6F...</td>\n",
       "    </tr>\n",
       "    <tr>\n",
       "      <th>1</th>\n",
       "      <td>[DirecaoDoVento, VelocidadeDoVento, Temperatur...</td>\n",
       "      <td>1</td>\n",
       "      <td>[TemperaturaDoAr, RadiacaoSolar, Precipitacao,...</td>\n",
       "      <td>0.998361</td>\n",
       "      <td>0.994582</td>\n",
       "      <td>0.788009</td>\n",
       "      <td>0.948454</td>\n",
       "      <td>0.860819</td>\n",
       "      <td>0.948454</td>\n",
       "      <td>&lt;xgboost.core.Booster object at 0x0000015C4D6F...</td>\n",
       "    </tr>\n",
       "    <tr>\n",
       "      <th>2</th>\n",
       "      <td>[DirecaoDoVento, VelocidadeDoVento, Temperatur...</td>\n",
       "      <td>2</td>\n",
       "      <td>[PressaoAtmosferica, TemperaturaDoAr, Radiacao...</td>\n",
       "      <td>0.996801</td>\n",
       "      <td>0.993216</td>\n",
       "      <td>0.733075</td>\n",
       "      <td>0.971795</td>\n",
       "      <td>0.835722</td>\n",
       "      <td>0.971795</td>\n",
       "      <td>&lt;xgboost.core.Booster object at 0x0000015C4D6F...</td>\n",
       "    </tr>\n",
       "    <tr>\n",
       "      <th>3</th>\n",
       "      <td>[DirecaoDoVento, VelocidadeDoVento, Temperatur...</td>\n",
       "      <td>3</td>\n",
       "      <td>[TemperaturaDoAr, Precipitacao, Dia, PrecSum, ...</td>\n",
       "      <td>0.998119</td>\n",
       "      <td>0.995173</td>\n",
       "      <td>0.823762</td>\n",
       "      <td>0.960739</td>\n",
       "      <td>0.886994</td>\n",
       "      <td>0.960739</td>\n",
       "      <td>&lt;xgboost.core.Booster object at 0x0000015C4D6F...</td>\n",
       "    </tr>\n",
       "    <tr>\n",
       "      <th>4</th>\n",
       "      <td>[DirecaoDoVento, VelocidadeDoVento, Temperatur...</td>\n",
       "      <td>4</td>\n",
       "      <td>[PressaoAtmosferica, TemperaturaDoAr, Radiacao...</td>\n",
       "      <td>0.996610</td>\n",
       "      <td>0.986932</td>\n",
       "      <td>0.614068</td>\n",
       "      <td>0.793612</td>\n",
       "      <td>0.692390</td>\n",
       "      <td>0.793612</td>\n",
       "      <td>&lt;xgboost.core.Booster object at 0x0000015C4D6F...</td>\n",
       "    </tr>\n",
       "    <tr>\n",
       "      <th>5</th>\n",
       "      <td>[DirecaoDoVento, VelocidadeDoVento, Temperatur...</td>\n",
       "      <td>5</td>\n",
       "      <td>[UmidadeRelativa, PressaoAtmosferica, Temperat...</td>\n",
       "      <td>0.996588</td>\n",
       "      <td>0.988526</td>\n",
       "      <td>0.659176</td>\n",
       "      <td>0.834123</td>\n",
       "      <td>0.736402</td>\n",
       "      <td>0.834123</td>\n",
       "      <td>&lt;xgboost.core.Booster object at 0x0000015C4D6F...</td>\n",
       "    </tr>\n",
       "  </tbody>\n",
       "</table>\n",
       "</div>"
      ],
      "text/plain": [
       "                                        Removed_Cols Local  \\\n",
       "0  [DirecaoDoVento, VelocidadeDoVento, Temperatur...     0   \n",
       "1  [DirecaoDoVento, VelocidadeDoVento, Temperatur...     1   \n",
       "2  [DirecaoDoVento, VelocidadeDoVento, Temperatur...     2   \n",
       "3  [DirecaoDoVento, VelocidadeDoVento, Temperatur...     3   \n",
       "4  [DirecaoDoVento, VelocidadeDoVento, Temperatur...     4   \n",
       "5  [DirecaoDoVento, VelocidadeDoVento, Temperatur...     5   \n",
       "\n",
       "                                            Features  Train_Acc  Test_Acc  \\\n",
       "0  [TemperaturaDoAr, RadiacaoSolar, Precipitacao,...   0.996536  0.990019   \n",
       "1  [TemperaturaDoAr, RadiacaoSolar, Precipitacao,...   0.998361  0.994582   \n",
       "2  [PressaoAtmosferica, TemperaturaDoAr, Radiacao...   0.996801  0.993216   \n",
       "3  [TemperaturaDoAr, Precipitacao, Dia, PrecSum, ...   0.998119  0.995173   \n",
       "4  [PressaoAtmosferica, TemperaturaDoAr, Radiacao...   0.996610  0.986932   \n",
       "5  [UmidadeRelativa, PressaoAtmosferica, Temperat...   0.996588  0.988526   \n",
       "\n",
       "   Precision    Recall        F1   Ver_Pos  \\\n",
       "0   0.667853  0.920059  0.773927  0.920059   \n",
       "1   0.788009  0.948454  0.860819  0.948454   \n",
       "2   0.733075  0.971795  0.835722  0.971795   \n",
       "3   0.823762  0.960739  0.886994  0.960739   \n",
       "4   0.614068  0.793612  0.692390  0.793612   \n",
       "5   0.659176  0.834123  0.736402  0.834123   \n",
       "\n",
       "                                               Model  \n",
       "0  <xgboost.core.Booster object at 0x0000015C4D6F...  \n",
       "1  <xgboost.core.Booster object at 0x0000015C4D6F...  \n",
       "2  <xgboost.core.Booster object at 0x0000015C4D6F...  \n",
       "3  <xgboost.core.Booster object at 0x0000015C4D6F...  \n",
       "4  <xgboost.core.Booster object at 0x0000015C4D6F...  \n",
       "5  <xgboost.core.Booster object at 0x0000015C4D6F...  "
      ]
     },
     "execution_count": 32,
     "metadata": {},
     "output_type": "execute_result"
    }
   ],
   "source": [
    "df_best_local = df_best_local.reset_index(drop=True)\n",
    "df_best_local"
   ]
  },
  {
   "cell_type": "code",
   "execution_count": 33,
   "metadata": {},
   "outputs": [],
   "source": [
    "df_m = df_f_ohe[(df_f_ohe['Label'] == 1) | (df_f_ohe['Label_Old'] == 1)].copy()\n",
    "df_m['Data'] = df_m['Data_Hora'].dt.strftime('%Y-%m-%d')"
   ]
  },
  {
   "cell_type": "code",
   "execution_count": 34,
   "metadata": {},
   "outputs": [],
   "source": [
    "def getPrecMomento(row):\n",
    "    prec_momento = df_m.loc[(df_m['Data_Hora'] <= row['Data_Hora']) & (df_m['Local'] == row['Local']) & (df_m['Data'] == row['Data']), 'Precipitacao'].sum()\n",
    "    return prec_momento\n",
    "\n",
    "df_m['PrecMomento'] = df_m.apply(getPrecMomento, axis=1)\n",
    "\n",
    "df_m = df_m.rename(columns = {'PrecSum': 'PrecSumOld', 'PrecMomento': 'PrecSum'})"
   ]
  },
  {
   "cell_type": "code",
   "execution_count": 35,
   "metadata": {},
   "outputs": [],
   "source": [
    "df_m_2 = df_m.copy()\n",
    "df_m_2['Label_Pred'] = 0\n",
    "\n",
    "for l in range(6):\n",
    "    label_pred = df_best_local.loc[l,'Model'].predict(xgboost.DMatrix(data=df_m_2.loc[df_m_2['Local'] == l, df_best_local.loc[l, 'Features']]))\n",
    "    df_m_2.loc[df_m_2['Local'] == l, 'Label_Pred'] = [1 if i>0.5 else 0 for i in label_pred]"
   ]
  },
  {
   "cell_type": "code",
   "execution_count": 36,
   "metadata": {},
   "outputs": [
    {
     "name": "stdout",
     "output_type": "stream",
     "text": [
      "(2834, 36)\n",
      "(9848, 36)\n"
     ]
    }
   ],
   "source": [
    "print(df_m_2[df_m_2['Label_Pred'] == 1].shape)\n",
    "print(df_m_2.shape)"
   ]
  },
  {
   "cell_type": "code",
   "execution_count": 37,
   "metadata": {},
   "outputs": [],
   "source": [
    "df_m_2[['Local', 'Data_Hora', 'Precipitacao', 'PrecSum', 'PrecSumOld', 'Label', 'Label_Pred']].sort_values(by=['Local', 'Data_Hora']\n",
    ").to_csv('../../../data/analysis/labels_prediction_shift.csv', index=False, sep=';', decimal=',')"
   ]
  },
  {
   "cell_type": "code",
   "execution_count": 38,
   "metadata": {
    "scrolled": true
   },
   "outputs": [
    {
     "data": {
      "text/html": [
       "<div>\n",
       "<style scoped>\n",
       "    .dataframe tbody tr th:only-of-type {\n",
       "        vertical-align: middle;\n",
       "    }\n",
       "\n",
       "    .dataframe tbody tr th {\n",
       "        vertical-align: top;\n",
       "    }\n",
       "\n",
       "    .dataframe thead th {\n",
       "        text-align: right;\n",
       "    }\n",
       "</style>\n",
       "<table border=\"1\" class=\"dataframe\">\n",
       "  <thead>\n",
       "    <tr style=\"text-align: right;\">\n",
       "      <th></th>\n",
       "      <th>Data_Hora</th>\n",
       "      <th>Precipitacao</th>\n",
       "      <th>PrecSum</th>\n",
       "    </tr>\n",
       "  </thead>\n",
       "  <tbody>\n",
       "    <tr>\n",
       "      <th>343418</th>\n",
       "      <td>2018-12-23 00:00:00</td>\n",
       "      <td>0.0</td>\n",
       "      <td>78.4</td>\n",
       "    </tr>\n",
       "    <tr>\n",
       "      <th>343419</th>\n",
       "      <td>2018-12-23 01:00:00</td>\n",
       "      <td>0.0</td>\n",
       "      <td>78.4</td>\n",
       "    </tr>\n",
       "    <tr>\n",
       "      <th>343420</th>\n",
       "      <td>2018-12-23 02:00:00</td>\n",
       "      <td>0.0</td>\n",
       "      <td>78.4</td>\n",
       "    </tr>\n",
       "    <tr>\n",
       "      <th>343421</th>\n",
       "      <td>2018-12-23 03:00:00</td>\n",
       "      <td>1.0</td>\n",
       "      <td>78.4</td>\n",
       "    </tr>\n",
       "    <tr>\n",
       "      <th>343422</th>\n",
       "      <td>2018-12-23 04:00:00</td>\n",
       "      <td>0.6</td>\n",
       "      <td>78.4</td>\n",
       "    </tr>\n",
       "    <tr>\n",
       "      <th>343423</th>\n",
       "      <td>2018-12-23 05:00:00</td>\n",
       "      <td>0.0</td>\n",
       "      <td>78.4</td>\n",
       "    </tr>\n",
       "    <tr>\n",
       "      <th>343424</th>\n",
       "      <td>2018-12-23 06:00:00</td>\n",
       "      <td>0.0</td>\n",
       "      <td>78.4</td>\n",
       "    </tr>\n",
       "    <tr>\n",
       "      <th>343425</th>\n",
       "      <td>2018-12-23 07:00:00</td>\n",
       "      <td>0.0</td>\n",
       "      <td>78.4</td>\n",
       "    </tr>\n",
       "    <tr>\n",
       "      <th>343426</th>\n",
       "      <td>2018-12-23 08:00:00</td>\n",
       "      <td>0.0</td>\n",
       "      <td>78.4</td>\n",
       "    </tr>\n",
       "    <tr>\n",
       "      <th>343427</th>\n",
       "      <td>2018-12-23 09:00:00</td>\n",
       "      <td>0.0</td>\n",
       "      <td>78.4</td>\n",
       "    </tr>\n",
       "    <tr>\n",
       "      <th>343428</th>\n",
       "      <td>2018-12-23 10:00:00</td>\n",
       "      <td>0.0</td>\n",
       "      <td>78.4</td>\n",
       "    </tr>\n",
       "    <tr>\n",
       "      <th>343429</th>\n",
       "      <td>2018-12-23 11:00:00</td>\n",
       "      <td>0.0</td>\n",
       "      <td>78.4</td>\n",
       "    </tr>\n",
       "    <tr>\n",
       "      <th>343430</th>\n",
       "      <td>2018-12-23 12:00:00</td>\n",
       "      <td>0.0</td>\n",
       "      <td>78.4</td>\n",
       "    </tr>\n",
       "    <tr>\n",
       "      <th>343431</th>\n",
       "      <td>2018-12-23 13:00:00</td>\n",
       "      <td>0.0</td>\n",
       "      <td>78.4</td>\n",
       "    </tr>\n",
       "    <tr>\n",
       "      <th>343432</th>\n",
       "      <td>2018-12-23 14:00:00</td>\n",
       "      <td>0.0</td>\n",
       "      <td>78.4</td>\n",
       "    </tr>\n",
       "    <tr>\n",
       "      <th>343433</th>\n",
       "      <td>2018-12-23 15:00:00</td>\n",
       "      <td>0.0</td>\n",
       "      <td>78.4</td>\n",
       "    </tr>\n",
       "    <tr>\n",
       "      <th>343434</th>\n",
       "      <td>2018-12-23 16:00:00</td>\n",
       "      <td>9.6</td>\n",
       "      <td>78.4</td>\n",
       "    </tr>\n",
       "    <tr>\n",
       "      <th>343435</th>\n",
       "      <td>2018-12-23 17:00:00</td>\n",
       "      <td>9.6</td>\n",
       "      <td>78.4</td>\n",
       "    </tr>\n",
       "    <tr>\n",
       "      <th>343436</th>\n",
       "      <td>2018-12-23 18:00:00</td>\n",
       "      <td>9.6</td>\n",
       "      <td>78.4</td>\n",
       "    </tr>\n",
       "    <tr>\n",
       "      <th>343437</th>\n",
       "      <td>2018-12-23 19:00:00</td>\n",
       "      <td>9.6</td>\n",
       "      <td>78.4</td>\n",
       "    </tr>\n",
       "    <tr>\n",
       "      <th>343438</th>\n",
       "      <td>2018-12-23 20:00:00</td>\n",
       "      <td>9.6</td>\n",
       "      <td>78.4</td>\n",
       "    </tr>\n",
       "    <tr>\n",
       "      <th>343439</th>\n",
       "      <td>2018-12-23 21:00:00</td>\n",
       "      <td>9.6</td>\n",
       "      <td>78.4</td>\n",
       "    </tr>\n",
       "    <tr>\n",
       "      <th>343440</th>\n",
       "      <td>2018-12-23 22:00:00</td>\n",
       "      <td>9.6</td>\n",
       "      <td>78.4</td>\n",
       "    </tr>\n",
       "    <tr>\n",
       "      <th>343441</th>\n",
       "      <td>2018-12-23 23:00:00</td>\n",
       "      <td>9.6</td>\n",
       "      <td>78.4</td>\n",
       "    </tr>\n",
       "    <tr>\n",
       "      <th>343514</th>\n",
       "      <td>2018-12-24 00:00:00</td>\n",
       "      <td>9.6</td>\n",
       "      <td>230.4</td>\n",
       "    </tr>\n",
       "    <tr>\n",
       "      <th>343515</th>\n",
       "      <td>2018-12-24 01:00:00</td>\n",
       "      <td>9.6</td>\n",
       "      <td>230.4</td>\n",
       "    </tr>\n",
       "    <tr>\n",
       "      <th>343516</th>\n",
       "      <td>2018-12-24 02:00:00</td>\n",
       "      <td>9.6</td>\n",
       "      <td>230.4</td>\n",
       "    </tr>\n",
       "    <tr>\n",
       "      <th>343517</th>\n",
       "      <td>2018-12-24 03:00:00</td>\n",
       "      <td>9.6</td>\n",
       "      <td>230.4</td>\n",
       "    </tr>\n",
       "    <tr>\n",
       "      <th>343518</th>\n",
       "      <td>2018-12-24 04:00:00</td>\n",
       "      <td>9.6</td>\n",
       "      <td>230.4</td>\n",
       "    </tr>\n",
       "    <tr>\n",
       "      <th>343519</th>\n",
       "      <td>2018-12-24 05:00:00</td>\n",
       "      <td>9.6</td>\n",
       "      <td>230.4</td>\n",
       "    </tr>\n",
       "    <tr>\n",
       "      <th>343520</th>\n",
       "      <td>2018-12-24 06:00:00</td>\n",
       "      <td>9.6</td>\n",
       "      <td>230.4</td>\n",
       "    </tr>\n",
       "    <tr>\n",
       "      <th>343521</th>\n",
       "      <td>2018-12-24 07:00:00</td>\n",
       "      <td>9.6</td>\n",
       "      <td>230.4</td>\n",
       "    </tr>\n",
       "    <tr>\n",
       "      <th>343522</th>\n",
       "      <td>2018-12-24 08:00:00</td>\n",
       "      <td>9.6</td>\n",
       "      <td>230.4</td>\n",
       "    </tr>\n",
       "    <tr>\n",
       "      <th>343523</th>\n",
       "      <td>2018-12-24 09:00:00</td>\n",
       "      <td>9.6</td>\n",
       "      <td>230.4</td>\n",
       "    </tr>\n",
       "    <tr>\n",
       "      <th>343524</th>\n",
       "      <td>2018-12-24 10:00:00</td>\n",
       "      <td>9.6</td>\n",
       "      <td>230.4</td>\n",
       "    </tr>\n",
       "    <tr>\n",
       "      <th>343525</th>\n",
       "      <td>2018-12-24 11:00:00</td>\n",
       "      <td>9.6</td>\n",
       "      <td>230.4</td>\n",
       "    </tr>\n",
       "    <tr>\n",
       "      <th>343526</th>\n",
       "      <td>2018-12-24 12:00:00</td>\n",
       "      <td>9.6</td>\n",
       "      <td>230.4</td>\n",
       "    </tr>\n",
       "    <tr>\n",
       "      <th>343527</th>\n",
       "      <td>2018-12-24 13:00:00</td>\n",
       "      <td>9.6</td>\n",
       "      <td>230.4</td>\n",
       "    </tr>\n",
       "    <tr>\n",
       "      <th>343528</th>\n",
       "      <td>2018-12-24 14:00:00</td>\n",
       "      <td>9.6</td>\n",
       "      <td>230.4</td>\n",
       "    </tr>\n",
       "    <tr>\n",
       "      <th>343529</th>\n",
       "      <td>2018-12-24 15:00:00</td>\n",
       "      <td>9.6</td>\n",
       "      <td>230.4</td>\n",
       "    </tr>\n",
       "    <tr>\n",
       "      <th>343530</th>\n",
       "      <td>2018-12-24 16:00:00</td>\n",
       "      <td>9.6</td>\n",
       "      <td>230.4</td>\n",
       "    </tr>\n",
       "    <tr>\n",
       "      <th>343531</th>\n",
       "      <td>2018-12-24 17:00:00</td>\n",
       "      <td>9.6</td>\n",
       "      <td>230.4</td>\n",
       "    </tr>\n",
       "    <tr>\n",
       "      <th>343532</th>\n",
       "      <td>2018-12-24 18:00:00</td>\n",
       "      <td>9.6</td>\n",
       "      <td>230.4</td>\n",
       "    </tr>\n",
       "    <tr>\n",
       "      <th>343533</th>\n",
       "      <td>2018-12-24 19:00:00</td>\n",
       "      <td>9.6</td>\n",
       "      <td>230.4</td>\n",
       "    </tr>\n",
       "    <tr>\n",
       "      <th>343534</th>\n",
       "      <td>2018-12-24 20:00:00</td>\n",
       "      <td>9.6</td>\n",
       "      <td>230.4</td>\n",
       "    </tr>\n",
       "    <tr>\n",
       "      <th>343535</th>\n",
       "      <td>2018-12-24 21:00:00</td>\n",
       "      <td>9.6</td>\n",
       "      <td>230.4</td>\n",
       "    </tr>\n",
       "    <tr>\n",
       "      <th>343536</th>\n",
       "      <td>2018-12-24 22:00:00</td>\n",
       "      <td>9.6</td>\n",
       "      <td>230.4</td>\n",
       "    </tr>\n",
       "    <tr>\n",
       "      <th>343537</th>\n",
       "      <td>2018-12-24 23:00:00</td>\n",
       "      <td>9.6</td>\n",
       "      <td>230.4</td>\n",
       "    </tr>\n",
       "    <tr>\n",
       "      <th>343682</th>\n",
       "      <td>2018-12-25 00:00:00</td>\n",
       "      <td>9.6</td>\n",
       "      <td>230.4</td>\n",
       "    </tr>\n",
       "    <tr>\n",
       "      <th>343683</th>\n",
       "      <td>2018-12-25 01:00:00</td>\n",
       "      <td>9.6</td>\n",
       "      <td>230.4</td>\n",
       "    </tr>\n",
       "    <tr>\n",
       "      <th>343684</th>\n",
       "      <td>2018-12-25 02:00:00</td>\n",
       "      <td>9.6</td>\n",
       "      <td>230.4</td>\n",
       "    </tr>\n",
       "    <tr>\n",
       "      <th>343685</th>\n",
       "      <td>2018-12-25 03:00:00</td>\n",
       "      <td>9.6</td>\n",
       "      <td>230.4</td>\n",
       "    </tr>\n",
       "    <tr>\n",
       "      <th>343686</th>\n",
       "      <td>2018-12-25 04:00:00</td>\n",
       "      <td>9.6</td>\n",
       "      <td>230.4</td>\n",
       "    </tr>\n",
       "    <tr>\n",
       "      <th>343687</th>\n",
       "      <td>2018-12-25 05:00:00</td>\n",
       "      <td>9.6</td>\n",
       "      <td>230.4</td>\n",
       "    </tr>\n",
       "    <tr>\n",
       "      <th>343688</th>\n",
       "      <td>2018-12-25 06:00:00</td>\n",
       "      <td>9.6</td>\n",
       "      <td>230.4</td>\n",
       "    </tr>\n",
       "    <tr>\n",
       "      <th>343689</th>\n",
       "      <td>2018-12-25 07:00:00</td>\n",
       "      <td>9.6</td>\n",
       "      <td>230.4</td>\n",
       "    </tr>\n",
       "    <tr>\n",
       "      <th>343690</th>\n",
       "      <td>2018-12-25 08:00:00</td>\n",
       "      <td>9.6</td>\n",
       "      <td>230.4</td>\n",
       "    </tr>\n",
       "    <tr>\n",
       "      <th>343691</th>\n",
       "      <td>2018-12-25 09:00:00</td>\n",
       "      <td>9.6</td>\n",
       "      <td>230.4</td>\n",
       "    </tr>\n",
       "    <tr>\n",
       "      <th>343692</th>\n",
       "      <td>2018-12-25 10:00:00</td>\n",
       "      <td>9.6</td>\n",
       "      <td>230.4</td>\n",
       "    </tr>\n",
       "    <tr>\n",
       "      <th>343693</th>\n",
       "      <td>2018-12-25 11:00:00</td>\n",
       "      <td>9.6</td>\n",
       "      <td>230.4</td>\n",
       "    </tr>\n",
       "    <tr>\n",
       "      <th>343694</th>\n",
       "      <td>2018-12-25 12:00:00</td>\n",
       "      <td>9.6</td>\n",
       "      <td>230.4</td>\n",
       "    </tr>\n",
       "    <tr>\n",
       "      <th>343695</th>\n",
       "      <td>2018-12-25 13:00:00</td>\n",
       "      <td>9.6</td>\n",
       "      <td>230.4</td>\n",
       "    </tr>\n",
       "    <tr>\n",
       "      <th>343696</th>\n",
       "      <td>2018-12-25 14:00:00</td>\n",
       "      <td>9.6</td>\n",
       "      <td>230.4</td>\n",
       "    </tr>\n",
       "    <tr>\n",
       "      <th>343697</th>\n",
       "      <td>2018-12-25 15:00:00</td>\n",
       "      <td>9.6</td>\n",
       "      <td>230.4</td>\n",
       "    </tr>\n",
       "    <tr>\n",
       "      <th>343698</th>\n",
       "      <td>2018-12-25 16:00:00</td>\n",
       "      <td>9.6</td>\n",
       "      <td>230.4</td>\n",
       "    </tr>\n",
       "    <tr>\n",
       "      <th>343699</th>\n",
       "      <td>2018-12-25 17:00:00</td>\n",
       "      <td>9.6</td>\n",
       "      <td>230.4</td>\n",
       "    </tr>\n",
       "    <tr>\n",
       "      <th>343700</th>\n",
       "      <td>2018-12-25 18:00:00</td>\n",
       "      <td>9.6</td>\n",
       "      <td>230.4</td>\n",
       "    </tr>\n",
       "    <tr>\n",
       "      <th>343701</th>\n",
       "      <td>2018-12-25 19:00:00</td>\n",
       "      <td>9.6</td>\n",
       "      <td>230.4</td>\n",
       "    </tr>\n",
       "    <tr>\n",
       "      <th>343702</th>\n",
       "      <td>2018-12-25 20:00:00</td>\n",
       "      <td>9.6</td>\n",
       "      <td>230.4</td>\n",
       "    </tr>\n",
       "    <tr>\n",
       "      <th>343703</th>\n",
       "      <td>2018-12-25 21:00:00</td>\n",
       "      <td>9.6</td>\n",
       "      <td>230.4</td>\n",
       "    </tr>\n",
       "    <tr>\n",
       "      <th>343704</th>\n",
       "      <td>2018-12-25 22:00:00</td>\n",
       "      <td>9.6</td>\n",
       "      <td>230.4</td>\n",
       "    </tr>\n",
       "    <tr>\n",
       "      <th>343705</th>\n",
       "      <td>2018-12-25 23:00:00</td>\n",
       "      <td>9.6</td>\n",
       "      <td>230.4</td>\n",
       "    </tr>\n",
       "    <tr>\n",
       "      <th>343826</th>\n",
       "      <td>2018-12-26 00:00:00</td>\n",
       "      <td>9.6</td>\n",
       "      <td>230.4</td>\n",
       "    </tr>\n",
       "    <tr>\n",
       "      <th>343827</th>\n",
       "      <td>2018-12-26 01:00:00</td>\n",
       "      <td>9.6</td>\n",
       "      <td>230.4</td>\n",
       "    </tr>\n",
       "    <tr>\n",
       "      <th>343828</th>\n",
       "      <td>2018-12-26 02:00:00</td>\n",
       "      <td>9.6</td>\n",
       "      <td>230.4</td>\n",
       "    </tr>\n",
       "    <tr>\n",
       "      <th>343829</th>\n",
       "      <td>2018-12-26 03:00:00</td>\n",
       "      <td>9.6</td>\n",
       "      <td>230.4</td>\n",
       "    </tr>\n",
       "    <tr>\n",
       "      <th>343830</th>\n",
       "      <td>2018-12-26 04:00:00</td>\n",
       "      <td>9.6</td>\n",
       "      <td>230.4</td>\n",
       "    </tr>\n",
       "    <tr>\n",
       "      <th>343831</th>\n",
       "      <td>2018-12-26 05:00:00</td>\n",
       "      <td>9.6</td>\n",
       "      <td>230.4</td>\n",
       "    </tr>\n",
       "    <tr>\n",
       "      <th>343832</th>\n",
       "      <td>2018-12-26 06:00:00</td>\n",
       "      <td>9.6</td>\n",
       "      <td>230.4</td>\n",
       "    </tr>\n",
       "    <tr>\n",
       "      <th>343833</th>\n",
       "      <td>2018-12-26 07:00:00</td>\n",
       "      <td>9.6</td>\n",
       "      <td>230.4</td>\n",
       "    </tr>\n",
       "    <tr>\n",
       "      <th>343834</th>\n",
       "      <td>2018-12-26 08:00:00</td>\n",
       "      <td>9.6</td>\n",
       "      <td>230.4</td>\n",
       "    </tr>\n",
       "    <tr>\n",
       "      <th>343835</th>\n",
       "      <td>2018-12-26 09:00:00</td>\n",
       "      <td>9.6</td>\n",
       "      <td>230.4</td>\n",
       "    </tr>\n",
       "    <tr>\n",
       "      <th>343836</th>\n",
       "      <td>2018-12-26 10:00:00</td>\n",
       "      <td>9.6</td>\n",
       "      <td>230.4</td>\n",
       "    </tr>\n",
       "    <tr>\n",
       "      <th>343837</th>\n",
       "      <td>2018-12-26 11:00:00</td>\n",
       "      <td>9.6</td>\n",
       "      <td>230.4</td>\n",
       "    </tr>\n",
       "    <tr>\n",
       "      <th>343838</th>\n",
       "      <td>2018-12-26 12:00:00</td>\n",
       "      <td>9.6</td>\n",
       "      <td>230.4</td>\n",
       "    </tr>\n",
       "    <tr>\n",
       "      <th>343839</th>\n",
       "      <td>2018-12-26 13:00:00</td>\n",
       "      <td>9.6</td>\n",
       "      <td>230.4</td>\n",
       "    </tr>\n",
       "    <tr>\n",
       "      <th>343840</th>\n",
       "      <td>2018-12-26 14:00:00</td>\n",
       "      <td>9.6</td>\n",
       "      <td>230.4</td>\n",
       "    </tr>\n",
       "    <tr>\n",
       "      <th>343841</th>\n",
       "      <td>2018-12-26 15:00:00</td>\n",
       "      <td>9.6</td>\n",
       "      <td>230.4</td>\n",
       "    </tr>\n",
       "    <tr>\n",
       "      <th>343842</th>\n",
       "      <td>2018-12-26 16:00:00</td>\n",
       "      <td>9.6</td>\n",
       "      <td>230.4</td>\n",
       "    </tr>\n",
       "    <tr>\n",
       "      <th>343843</th>\n",
       "      <td>2018-12-26 17:00:00</td>\n",
       "      <td>9.6</td>\n",
       "      <td>230.4</td>\n",
       "    </tr>\n",
       "    <tr>\n",
       "      <th>343844</th>\n",
       "      <td>2018-12-26 18:00:00</td>\n",
       "      <td>9.6</td>\n",
       "      <td>230.4</td>\n",
       "    </tr>\n",
       "    <tr>\n",
       "      <th>343845</th>\n",
       "      <td>2018-12-26 19:00:00</td>\n",
       "      <td>9.6</td>\n",
       "      <td>230.4</td>\n",
       "    </tr>\n",
       "    <tr>\n",
       "      <th>343846</th>\n",
       "      <td>2018-12-26 20:00:00</td>\n",
       "      <td>9.6</td>\n",
       "      <td>230.4</td>\n",
       "    </tr>\n",
       "    <tr>\n",
       "      <th>343847</th>\n",
       "      <td>2018-12-26 21:00:00</td>\n",
       "      <td>9.6</td>\n",
       "      <td>230.4</td>\n",
       "    </tr>\n",
       "    <tr>\n",
       "      <th>343848</th>\n",
       "      <td>2018-12-26 22:00:00</td>\n",
       "      <td>9.6</td>\n",
       "      <td>230.4</td>\n",
       "    </tr>\n",
       "    <tr>\n",
       "      <th>343849</th>\n",
       "      <td>2018-12-26 23:00:00</td>\n",
       "      <td>9.6</td>\n",
       "      <td>230.4</td>\n",
       "    </tr>\n",
       "    <tr>\n",
       "      <th>343922</th>\n",
       "      <td>2018-12-27 00:00:00</td>\n",
       "      <td>9.6</td>\n",
       "      <td>230.4</td>\n",
       "    </tr>\n",
       "    <tr>\n",
       "      <th>343923</th>\n",
       "      <td>2018-12-27 01:00:00</td>\n",
       "      <td>9.6</td>\n",
       "      <td>230.4</td>\n",
       "    </tr>\n",
       "    <tr>\n",
       "      <th>343924</th>\n",
       "      <td>2018-12-27 02:00:00</td>\n",
       "      <td>9.6</td>\n",
       "      <td>230.4</td>\n",
       "    </tr>\n",
       "    <tr>\n",
       "      <th>343925</th>\n",
       "      <td>2018-12-27 03:00:00</td>\n",
       "      <td>9.6</td>\n",
       "      <td>230.4</td>\n",
       "    </tr>\n",
       "    <tr>\n",
       "      <th>343926</th>\n",
       "      <td>2018-12-27 04:00:00</td>\n",
       "      <td>9.6</td>\n",
       "      <td>230.4</td>\n",
       "    </tr>\n",
       "    <tr>\n",
       "      <th>343927</th>\n",
       "      <td>2018-12-27 05:00:00</td>\n",
       "      <td>9.6</td>\n",
       "      <td>230.4</td>\n",
       "    </tr>\n",
       "    <tr>\n",
       "      <th>343928</th>\n",
       "      <td>2018-12-27 06:00:00</td>\n",
       "      <td>9.6</td>\n",
       "      <td>230.4</td>\n",
       "    </tr>\n",
       "    <tr>\n",
       "      <th>343929</th>\n",
       "      <td>2018-12-27 07:00:00</td>\n",
       "      <td>9.6</td>\n",
       "      <td>230.4</td>\n",
       "    </tr>\n",
       "    <tr>\n",
       "      <th>343930</th>\n",
       "      <td>2018-12-27 08:00:00</td>\n",
       "      <td>9.6</td>\n",
       "      <td>230.4</td>\n",
       "    </tr>\n",
       "    <tr>\n",
       "      <th>343931</th>\n",
       "      <td>2018-12-27 09:00:00</td>\n",
       "      <td>9.6</td>\n",
       "      <td>230.4</td>\n",
       "    </tr>\n",
       "    <tr>\n",
       "      <th>343932</th>\n",
       "      <td>2018-12-27 10:00:00</td>\n",
       "      <td>9.6</td>\n",
       "      <td>230.4</td>\n",
       "    </tr>\n",
       "    <tr>\n",
       "      <th>343933</th>\n",
       "      <td>2018-12-27 11:00:00</td>\n",
       "      <td>9.6</td>\n",
       "      <td>230.4</td>\n",
       "    </tr>\n",
       "    <tr>\n",
       "      <th>343934</th>\n",
       "      <td>2018-12-27 12:00:00</td>\n",
       "      <td>9.6</td>\n",
       "      <td>230.4</td>\n",
       "    </tr>\n",
       "    <tr>\n",
       "      <th>343935</th>\n",
       "      <td>2018-12-27 13:00:00</td>\n",
       "      <td>9.6</td>\n",
       "      <td>230.4</td>\n",
       "    </tr>\n",
       "    <tr>\n",
       "      <th>343936</th>\n",
       "      <td>2018-12-27 14:00:00</td>\n",
       "      <td>9.6</td>\n",
       "      <td>230.4</td>\n",
       "    </tr>\n",
       "    <tr>\n",
       "      <th>343937</th>\n",
       "      <td>2018-12-27 15:00:00</td>\n",
       "      <td>9.6</td>\n",
       "      <td>230.4</td>\n",
       "    </tr>\n",
       "    <tr>\n",
       "      <th>343938</th>\n",
       "      <td>2018-12-27 16:00:00</td>\n",
       "      <td>9.6</td>\n",
       "      <td>230.4</td>\n",
       "    </tr>\n",
       "    <tr>\n",
       "      <th>343939</th>\n",
       "      <td>2018-12-27 17:00:00</td>\n",
       "      <td>9.6</td>\n",
       "      <td>230.4</td>\n",
       "    </tr>\n",
       "    <tr>\n",
       "      <th>343940</th>\n",
       "      <td>2018-12-27 18:00:00</td>\n",
       "      <td>9.6</td>\n",
       "      <td>230.4</td>\n",
       "    </tr>\n",
       "    <tr>\n",
       "      <th>343941</th>\n",
       "      <td>2018-12-27 19:00:00</td>\n",
       "      <td>9.6</td>\n",
       "      <td>230.4</td>\n",
       "    </tr>\n",
       "    <tr>\n",
       "      <th>343942</th>\n",
       "      <td>2018-12-27 20:00:00</td>\n",
       "      <td>9.6</td>\n",
       "      <td>230.4</td>\n",
       "    </tr>\n",
       "    <tr>\n",
       "      <th>343943</th>\n",
       "      <td>2018-12-27 21:00:00</td>\n",
       "      <td>9.6</td>\n",
       "      <td>230.4</td>\n",
       "    </tr>\n",
       "    <tr>\n",
       "      <th>343944</th>\n",
       "      <td>2018-12-27 22:00:00</td>\n",
       "      <td>9.6</td>\n",
       "      <td>230.4</td>\n",
       "    </tr>\n",
       "    <tr>\n",
       "      <th>343945</th>\n",
       "      <td>2018-12-27 23:00:00</td>\n",
       "      <td>9.6</td>\n",
       "      <td>230.4</td>\n",
       "    </tr>\n",
       "    <tr>\n",
       "      <th>344018</th>\n",
       "      <td>2018-12-28 00:00:00</td>\n",
       "      <td>9.6</td>\n",
       "      <td>230.4</td>\n",
       "    </tr>\n",
       "    <tr>\n",
       "      <th>344019</th>\n",
       "      <td>2018-12-28 01:00:00</td>\n",
       "      <td>9.6</td>\n",
       "      <td>230.4</td>\n",
       "    </tr>\n",
       "    <tr>\n",
       "      <th>344020</th>\n",
       "      <td>2018-12-28 02:00:00</td>\n",
       "      <td>9.6</td>\n",
       "      <td>230.4</td>\n",
       "    </tr>\n",
       "    <tr>\n",
       "      <th>344021</th>\n",
       "      <td>2018-12-28 03:00:00</td>\n",
       "      <td>9.6</td>\n",
       "      <td>230.4</td>\n",
       "    </tr>\n",
       "    <tr>\n",
       "      <th>344022</th>\n",
       "      <td>2018-12-28 04:00:00</td>\n",
       "      <td>9.6</td>\n",
       "      <td>230.4</td>\n",
       "    </tr>\n",
       "    <tr>\n",
       "      <th>344023</th>\n",
       "      <td>2018-12-28 05:00:00</td>\n",
       "      <td>9.6</td>\n",
       "      <td>230.4</td>\n",
       "    </tr>\n",
       "    <tr>\n",
       "      <th>344024</th>\n",
       "      <td>2018-12-28 06:00:00</td>\n",
       "      <td>9.6</td>\n",
       "      <td>230.4</td>\n",
       "    </tr>\n",
       "    <tr>\n",
       "      <th>344025</th>\n",
       "      <td>2018-12-28 07:00:00</td>\n",
       "      <td>9.6</td>\n",
       "      <td>230.4</td>\n",
       "    </tr>\n",
       "    <tr>\n",
       "      <th>344026</th>\n",
       "      <td>2018-12-28 08:00:00</td>\n",
       "      <td>9.6</td>\n",
       "      <td>230.4</td>\n",
       "    </tr>\n",
       "    <tr>\n",
       "      <th>344027</th>\n",
       "      <td>2018-12-28 09:00:00</td>\n",
       "      <td>9.6</td>\n",
       "      <td>230.4</td>\n",
       "    </tr>\n",
       "    <tr>\n",
       "      <th>344028</th>\n",
       "      <td>2018-12-28 10:00:00</td>\n",
       "      <td>9.6</td>\n",
       "      <td>230.4</td>\n",
       "    </tr>\n",
       "    <tr>\n",
       "      <th>344029</th>\n",
       "      <td>2018-12-28 11:00:00</td>\n",
       "      <td>9.6</td>\n",
       "      <td>230.4</td>\n",
       "    </tr>\n",
       "    <tr>\n",
       "      <th>344030</th>\n",
       "      <td>2018-12-28 12:00:00</td>\n",
       "      <td>9.6</td>\n",
       "      <td>230.4</td>\n",
       "    </tr>\n",
       "    <tr>\n",
       "      <th>344031</th>\n",
       "      <td>2018-12-28 13:00:00</td>\n",
       "      <td>9.6</td>\n",
       "      <td>230.4</td>\n",
       "    </tr>\n",
       "    <tr>\n",
       "      <th>344032</th>\n",
       "      <td>2018-12-28 14:00:00</td>\n",
       "      <td>9.6</td>\n",
       "      <td>230.4</td>\n",
       "    </tr>\n",
       "    <tr>\n",
       "      <th>344033</th>\n",
       "      <td>2018-12-28 15:00:00</td>\n",
       "      <td>9.6</td>\n",
       "      <td>230.4</td>\n",
       "    </tr>\n",
       "    <tr>\n",
       "      <th>344034</th>\n",
       "      <td>2018-12-28 16:00:00</td>\n",
       "      <td>9.6</td>\n",
       "      <td>230.4</td>\n",
       "    </tr>\n",
       "    <tr>\n",
       "      <th>344035</th>\n",
       "      <td>2018-12-28 17:00:00</td>\n",
       "      <td>9.6</td>\n",
       "      <td>230.4</td>\n",
       "    </tr>\n",
       "    <tr>\n",
       "      <th>344036</th>\n",
       "      <td>2018-12-28 18:00:00</td>\n",
       "      <td>9.6</td>\n",
       "      <td>230.4</td>\n",
       "    </tr>\n",
       "    <tr>\n",
       "      <th>344037</th>\n",
       "      <td>2018-12-28 19:00:00</td>\n",
       "      <td>9.6</td>\n",
       "      <td>230.4</td>\n",
       "    </tr>\n",
       "    <tr>\n",
       "      <th>344038</th>\n",
       "      <td>2018-12-28 20:00:00</td>\n",
       "      <td>9.6</td>\n",
       "      <td>230.4</td>\n",
       "    </tr>\n",
       "    <tr>\n",
       "      <th>344039</th>\n",
       "      <td>2018-12-28 21:00:00</td>\n",
       "      <td>9.6</td>\n",
       "      <td>230.4</td>\n",
       "    </tr>\n",
       "    <tr>\n",
       "      <th>344040</th>\n",
       "      <td>2018-12-28 22:00:00</td>\n",
       "      <td>9.6</td>\n",
       "      <td>230.4</td>\n",
       "    </tr>\n",
       "    <tr>\n",
       "      <th>344041</th>\n",
       "      <td>2018-12-28 23:00:00</td>\n",
       "      <td>9.6</td>\n",
       "      <td>230.4</td>\n",
       "    </tr>\n",
       "    <tr>\n",
       "      <th>344114</th>\n",
       "      <td>2018-12-29 00:00:00</td>\n",
       "      <td>9.6</td>\n",
       "      <td>230.4</td>\n",
       "    </tr>\n",
       "    <tr>\n",
       "      <th>344115</th>\n",
       "      <td>2018-12-29 01:00:00</td>\n",
       "      <td>9.6</td>\n",
       "      <td>230.4</td>\n",
       "    </tr>\n",
       "    <tr>\n",
       "      <th>344116</th>\n",
       "      <td>2018-12-29 02:00:00</td>\n",
       "      <td>9.6</td>\n",
       "      <td>230.4</td>\n",
       "    </tr>\n",
       "    <tr>\n",
       "      <th>344117</th>\n",
       "      <td>2018-12-29 03:00:00</td>\n",
       "      <td>9.6</td>\n",
       "      <td>230.4</td>\n",
       "    </tr>\n",
       "    <tr>\n",
       "      <th>344118</th>\n",
       "      <td>2018-12-29 04:00:00</td>\n",
       "      <td>9.6</td>\n",
       "      <td>230.4</td>\n",
       "    </tr>\n",
       "    <tr>\n",
       "      <th>344119</th>\n",
       "      <td>2018-12-29 05:00:00</td>\n",
       "      <td>9.6</td>\n",
       "      <td>230.4</td>\n",
       "    </tr>\n",
       "    <tr>\n",
       "      <th>344120</th>\n",
       "      <td>2018-12-29 06:00:00</td>\n",
       "      <td>9.6</td>\n",
       "      <td>230.4</td>\n",
       "    </tr>\n",
       "    <tr>\n",
       "      <th>344121</th>\n",
       "      <td>2018-12-29 07:00:00</td>\n",
       "      <td>9.6</td>\n",
       "      <td>230.4</td>\n",
       "    </tr>\n",
       "    <tr>\n",
       "      <th>344122</th>\n",
       "      <td>2018-12-29 08:00:00</td>\n",
       "      <td>9.6</td>\n",
       "      <td>230.4</td>\n",
       "    </tr>\n",
       "    <tr>\n",
       "      <th>344123</th>\n",
       "      <td>2018-12-29 09:00:00</td>\n",
       "      <td>9.6</td>\n",
       "      <td>230.4</td>\n",
       "    </tr>\n",
       "    <tr>\n",
       "      <th>344124</th>\n",
       "      <td>2018-12-29 10:00:00</td>\n",
       "      <td>9.6</td>\n",
       "      <td>230.4</td>\n",
       "    </tr>\n",
       "    <tr>\n",
       "      <th>344125</th>\n",
       "      <td>2018-12-29 11:00:00</td>\n",
       "      <td>9.6</td>\n",
       "      <td>230.4</td>\n",
       "    </tr>\n",
       "    <tr>\n",
       "      <th>344126</th>\n",
       "      <td>2018-12-29 12:00:00</td>\n",
       "      <td>9.6</td>\n",
       "      <td>230.4</td>\n",
       "    </tr>\n",
       "    <tr>\n",
       "      <th>344127</th>\n",
       "      <td>2018-12-29 13:00:00</td>\n",
       "      <td>9.6</td>\n",
       "      <td>230.4</td>\n",
       "    </tr>\n",
       "    <tr>\n",
       "      <th>344128</th>\n",
       "      <td>2018-12-29 14:00:00</td>\n",
       "      <td>9.6</td>\n",
       "      <td>230.4</td>\n",
       "    </tr>\n",
       "    <tr>\n",
       "      <th>344129</th>\n",
       "      <td>2018-12-29 15:00:00</td>\n",
       "      <td>9.6</td>\n",
       "      <td>230.4</td>\n",
       "    </tr>\n",
       "    <tr>\n",
       "      <th>344130</th>\n",
       "      <td>2018-12-29 16:00:00</td>\n",
       "      <td>9.6</td>\n",
       "      <td>230.4</td>\n",
       "    </tr>\n",
       "    <tr>\n",
       "      <th>344131</th>\n",
       "      <td>2018-12-29 17:00:00</td>\n",
       "      <td>9.6</td>\n",
       "      <td>230.4</td>\n",
       "    </tr>\n",
       "    <tr>\n",
       "      <th>344132</th>\n",
       "      <td>2018-12-29 18:00:00</td>\n",
       "      <td>9.6</td>\n",
       "      <td>230.4</td>\n",
       "    </tr>\n",
       "    <tr>\n",
       "      <th>344133</th>\n",
       "      <td>2018-12-29 19:00:00</td>\n",
       "      <td>9.6</td>\n",
       "      <td>230.4</td>\n",
       "    </tr>\n",
       "    <tr>\n",
       "      <th>344134</th>\n",
       "      <td>2018-12-29 20:00:00</td>\n",
       "      <td>9.6</td>\n",
       "      <td>230.4</td>\n",
       "    </tr>\n",
       "    <tr>\n",
       "      <th>344135</th>\n",
       "      <td>2018-12-29 21:00:00</td>\n",
       "      <td>9.6</td>\n",
       "      <td>230.4</td>\n",
       "    </tr>\n",
       "    <tr>\n",
       "      <th>344136</th>\n",
       "      <td>2018-12-29 22:00:00</td>\n",
       "      <td>9.6</td>\n",
       "      <td>230.4</td>\n",
       "    </tr>\n",
       "    <tr>\n",
       "      <th>344137</th>\n",
       "      <td>2018-12-29 23:00:00</td>\n",
       "      <td>9.6</td>\n",
       "      <td>230.4</td>\n",
       "    </tr>\n",
       "    <tr>\n",
       "      <th>344258</th>\n",
       "      <td>2018-12-30 00:00:00</td>\n",
       "      <td>9.6</td>\n",
       "      <td>230.4</td>\n",
       "    </tr>\n",
       "  </tbody>\n",
       "</table>\n",
       "</div>"
      ],
      "text/plain": [
       "                 Data_Hora  Precipitacao  PrecSum\n",
       "343418 2018-12-23 00:00:00           0.0     78.4\n",
       "343419 2018-12-23 01:00:00           0.0     78.4\n",
       "343420 2018-12-23 02:00:00           0.0     78.4\n",
       "343421 2018-12-23 03:00:00           1.0     78.4\n",
       "343422 2018-12-23 04:00:00           0.6     78.4\n",
       "343423 2018-12-23 05:00:00           0.0     78.4\n",
       "343424 2018-12-23 06:00:00           0.0     78.4\n",
       "343425 2018-12-23 07:00:00           0.0     78.4\n",
       "343426 2018-12-23 08:00:00           0.0     78.4\n",
       "343427 2018-12-23 09:00:00           0.0     78.4\n",
       "343428 2018-12-23 10:00:00           0.0     78.4\n",
       "343429 2018-12-23 11:00:00           0.0     78.4\n",
       "343430 2018-12-23 12:00:00           0.0     78.4\n",
       "343431 2018-12-23 13:00:00           0.0     78.4\n",
       "343432 2018-12-23 14:00:00           0.0     78.4\n",
       "343433 2018-12-23 15:00:00           0.0     78.4\n",
       "343434 2018-12-23 16:00:00           9.6     78.4\n",
       "343435 2018-12-23 17:00:00           9.6     78.4\n",
       "343436 2018-12-23 18:00:00           9.6     78.4\n",
       "343437 2018-12-23 19:00:00           9.6     78.4\n",
       "343438 2018-12-23 20:00:00           9.6     78.4\n",
       "343439 2018-12-23 21:00:00           9.6     78.4\n",
       "343440 2018-12-23 22:00:00           9.6     78.4\n",
       "343441 2018-12-23 23:00:00           9.6     78.4\n",
       "343514 2018-12-24 00:00:00           9.6    230.4\n",
       "343515 2018-12-24 01:00:00           9.6    230.4\n",
       "343516 2018-12-24 02:00:00           9.6    230.4\n",
       "343517 2018-12-24 03:00:00           9.6    230.4\n",
       "343518 2018-12-24 04:00:00           9.6    230.4\n",
       "343519 2018-12-24 05:00:00           9.6    230.4\n",
       "343520 2018-12-24 06:00:00           9.6    230.4\n",
       "343521 2018-12-24 07:00:00           9.6    230.4\n",
       "343522 2018-12-24 08:00:00           9.6    230.4\n",
       "343523 2018-12-24 09:00:00           9.6    230.4\n",
       "343524 2018-12-24 10:00:00           9.6    230.4\n",
       "343525 2018-12-24 11:00:00           9.6    230.4\n",
       "343526 2018-12-24 12:00:00           9.6    230.4\n",
       "343527 2018-12-24 13:00:00           9.6    230.4\n",
       "343528 2018-12-24 14:00:00           9.6    230.4\n",
       "343529 2018-12-24 15:00:00           9.6    230.4\n",
       "343530 2018-12-24 16:00:00           9.6    230.4\n",
       "343531 2018-12-24 17:00:00           9.6    230.4\n",
       "343532 2018-12-24 18:00:00           9.6    230.4\n",
       "343533 2018-12-24 19:00:00           9.6    230.4\n",
       "343534 2018-12-24 20:00:00           9.6    230.4\n",
       "343535 2018-12-24 21:00:00           9.6    230.4\n",
       "343536 2018-12-24 22:00:00           9.6    230.4\n",
       "343537 2018-12-24 23:00:00           9.6    230.4\n",
       "343682 2018-12-25 00:00:00           9.6    230.4\n",
       "343683 2018-12-25 01:00:00           9.6    230.4\n",
       "343684 2018-12-25 02:00:00           9.6    230.4\n",
       "343685 2018-12-25 03:00:00           9.6    230.4\n",
       "343686 2018-12-25 04:00:00           9.6    230.4\n",
       "343687 2018-12-25 05:00:00           9.6    230.4\n",
       "343688 2018-12-25 06:00:00           9.6    230.4\n",
       "343689 2018-12-25 07:00:00           9.6    230.4\n",
       "343690 2018-12-25 08:00:00           9.6    230.4\n",
       "343691 2018-12-25 09:00:00           9.6    230.4\n",
       "343692 2018-12-25 10:00:00           9.6    230.4\n",
       "343693 2018-12-25 11:00:00           9.6    230.4\n",
       "343694 2018-12-25 12:00:00           9.6    230.4\n",
       "343695 2018-12-25 13:00:00           9.6    230.4\n",
       "343696 2018-12-25 14:00:00           9.6    230.4\n",
       "343697 2018-12-25 15:00:00           9.6    230.4\n",
       "343698 2018-12-25 16:00:00           9.6    230.4\n",
       "343699 2018-12-25 17:00:00           9.6    230.4\n",
       "343700 2018-12-25 18:00:00           9.6    230.4\n",
       "343701 2018-12-25 19:00:00           9.6    230.4\n",
       "343702 2018-12-25 20:00:00           9.6    230.4\n",
       "343703 2018-12-25 21:00:00           9.6    230.4\n",
       "343704 2018-12-25 22:00:00           9.6    230.4\n",
       "343705 2018-12-25 23:00:00           9.6    230.4\n",
       "343826 2018-12-26 00:00:00           9.6    230.4\n",
       "343827 2018-12-26 01:00:00           9.6    230.4\n",
       "343828 2018-12-26 02:00:00           9.6    230.4\n",
       "343829 2018-12-26 03:00:00           9.6    230.4\n",
       "343830 2018-12-26 04:00:00           9.6    230.4\n",
       "343831 2018-12-26 05:00:00           9.6    230.4\n",
       "343832 2018-12-26 06:00:00           9.6    230.4\n",
       "343833 2018-12-26 07:00:00           9.6    230.4\n",
       "343834 2018-12-26 08:00:00           9.6    230.4\n",
       "343835 2018-12-26 09:00:00           9.6    230.4\n",
       "343836 2018-12-26 10:00:00           9.6    230.4\n",
       "343837 2018-12-26 11:00:00           9.6    230.4\n",
       "343838 2018-12-26 12:00:00           9.6    230.4\n",
       "343839 2018-12-26 13:00:00           9.6    230.4\n",
       "343840 2018-12-26 14:00:00           9.6    230.4\n",
       "343841 2018-12-26 15:00:00           9.6    230.4\n",
       "343842 2018-12-26 16:00:00           9.6    230.4\n",
       "343843 2018-12-26 17:00:00           9.6    230.4\n",
       "343844 2018-12-26 18:00:00           9.6    230.4\n",
       "343845 2018-12-26 19:00:00           9.6    230.4\n",
       "343846 2018-12-26 20:00:00           9.6    230.4\n",
       "343847 2018-12-26 21:00:00           9.6    230.4\n",
       "343848 2018-12-26 22:00:00           9.6    230.4\n",
       "343849 2018-12-26 23:00:00           9.6    230.4\n",
       "343922 2018-12-27 00:00:00           9.6    230.4\n",
       "343923 2018-12-27 01:00:00           9.6    230.4\n",
       "343924 2018-12-27 02:00:00           9.6    230.4\n",
       "343925 2018-12-27 03:00:00           9.6    230.4\n",
       "343926 2018-12-27 04:00:00           9.6    230.4\n",
       "343927 2018-12-27 05:00:00           9.6    230.4\n",
       "343928 2018-12-27 06:00:00           9.6    230.4\n",
       "343929 2018-12-27 07:00:00           9.6    230.4\n",
       "343930 2018-12-27 08:00:00           9.6    230.4\n",
       "343931 2018-12-27 09:00:00           9.6    230.4\n",
       "343932 2018-12-27 10:00:00           9.6    230.4\n",
       "343933 2018-12-27 11:00:00           9.6    230.4\n",
       "343934 2018-12-27 12:00:00           9.6    230.4\n",
       "343935 2018-12-27 13:00:00           9.6    230.4\n",
       "343936 2018-12-27 14:00:00           9.6    230.4\n",
       "343937 2018-12-27 15:00:00           9.6    230.4\n",
       "343938 2018-12-27 16:00:00           9.6    230.4\n",
       "343939 2018-12-27 17:00:00           9.6    230.4\n",
       "343940 2018-12-27 18:00:00           9.6    230.4\n",
       "343941 2018-12-27 19:00:00           9.6    230.4\n",
       "343942 2018-12-27 20:00:00           9.6    230.4\n",
       "343943 2018-12-27 21:00:00           9.6    230.4\n",
       "343944 2018-12-27 22:00:00           9.6    230.4\n",
       "343945 2018-12-27 23:00:00           9.6    230.4\n",
       "344018 2018-12-28 00:00:00           9.6    230.4\n",
       "344019 2018-12-28 01:00:00           9.6    230.4\n",
       "344020 2018-12-28 02:00:00           9.6    230.4\n",
       "344021 2018-12-28 03:00:00           9.6    230.4\n",
       "344022 2018-12-28 04:00:00           9.6    230.4\n",
       "344023 2018-12-28 05:00:00           9.6    230.4\n",
       "344024 2018-12-28 06:00:00           9.6    230.4\n",
       "344025 2018-12-28 07:00:00           9.6    230.4\n",
       "344026 2018-12-28 08:00:00           9.6    230.4\n",
       "344027 2018-12-28 09:00:00           9.6    230.4\n",
       "344028 2018-12-28 10:00:00           9.6    230.4\n",
       "344029 2018-12-28 11:00:00           9.6    230.4\n",
       "344030 2018-12-28 12:00:00           9.6    230.4\n",
       "344031 2018-12-28 13:00:00           9.6    230.4\n",
       "344032 2018-12-28 14:00:00           9.6    230.4\n",
       "344033 2018-12-28 15:00:00           9.6    230.4\n",
       "344034 2018-12-28 16:00:00           9.6    230.4\n",
       "344035 2018-12-28 17:00:00           9.6    230.4\n",
       "344036 2018-12-28 18:00:00           9.6    230.4\n",
       "344037 2018-12-28 19:00:00           9.6    230.4\n",
       "344038 2018-12-28 20:00:00           9.6    230.4\n",
       "344039 2018-12-28 21:00:00           9.6    230.4\n",
       "344040 2018-12-28 22:00:00           9.6    230.4\n",
       "344041 2018-12-28 23:00:00           9.6    230.4\n",
       "344114 2018-12-29 00:00:00           9.6    230.4\n",
       "344115 2018-12-29 01:00:00           9.6    230.4\n",
       "344116 2018-12-29 02:00:00           9.6    230.4\n",
       "344117 2018-12-29 03:00:00           9.6    230.4\n",
       "344118 2018-12-29 04:00:00           9.6    230.4\n",
       "344119 2018-12-29 05:00:00           9.6    230.4\n",
       "344120 2018-12-29 06:00:00           9.6    230.4\n",
       "344121 2018-12-29 07:00:00           9.6    230.4\n",
       "344122 2018-12-29 08:00:00           9.6    230.4\n",
       "344123 2018-12-29 09:00:00           9.6    230.4\n",
       "344124 2018-12-29 10:00:00           9.6    230.4\n",
       "344125 2018-12-29 11:00:00           9.6    230.4\n",
       "344126 2018-12-29 12:00:00           9.6    230.4\n",
       "344127 2018-12-29 13:00:00           9.6    230.4\n",
       "344128 2018-12-29 14:00:00           9.6    230.4\n",
       "344129 2018-12-29 15:00:00           9.6    230.4\n",
       "344130 2018-12-29 16:00:00           9.6    230.4\n",
       "344131 2018-12-29 17:00:00           9.6    230.4\n",
       "344132 2018-12-29 18:00:00           9.6    230.4\n",
       "344133 2018-12-29 19:00:00           9.6    230.4\n",
       "344134 2018-12-29 20:00:00           9.6    230.4\n",
       "344135 2018-12-29 21:00:00           9.6    230.4\n",
       "344136 2018-12-29 22:00:00           9.6    230.4\n",
       "344137 2018-12-29 23:00:00           9.6    230.4\n",
       "344258 2018-12-30 00:00:00           9.6    230.4"
      ]
     },
     "execution_count": 38,
     "metadata": {},
     "output_type": "execute_result"
    }
   ],
   "source": [
    "pd.set_option(\"display.max_rows\", 200)\n",
    "df_f_ohe[(df_f_ohe['Data_Hora'] >= datetime(2018,12,23)) & (df_f_ohe['Data_Hora'] <= datetime(2018,12,30)) & (df_f_ohe['Local'] == 4)][['Data_Hora', 'Precipitacao', 'PrecSum']]"
   ]
  },
  {
   "cell_type": "code",
   "execution_count": 39,
   "metadata": {},
   "outputs": [
    {
     "data": {
      "text/plain": [
       "48        1\n",
       "49        1\n",
       "50        1\n",
       "51        1\n",
       "52        1\n",
       "         ..\n",
       "365972    5\n",
       "365973    5\n",
       "365974    5\n",
       "365975    5\n",
       "365976    5\n",
       "Name: Local, Length: 366025, dtype: int64"
      ]
     },
     "execution_count": 39,
     "metadata": {},
     "output_type": "execute_result"
    }
   ],
   "source": [
    "df_f_ohe['Local']"
   ]
  },
  {
   "cell_type": "markdown",
   "metadata": {},
   "source": []
  },
  {
   "cell_type": "code",
   "execution_count": null,
   "metadata": {},
   "outputs": [],
   "source": []
  },
  {
   "cell_type": "code",
   "execution_count": null,
   "metadata": {},
   "outputs": [],
   "source": []
  },
  {
   "cell_type": "code",
   "execution_count": null,
   "metadata": {},
   "outputs": [],
   "source": []
  },
  {
   "cell_type": "code",
   "execution_count": null,
   "metadata": {},
   "outputs": [],
   "source": []
  },
  {
   "cell_type": "code",
   "execution_count": null,
   "metadata": {},
   "outputs": [],
   "source": []
  },
  {
   "cell_type": "code",
   "execution_count": null,
   "metadata": {},
   "outputs": [],
   "source": []
  },
  {
   "cell_type": "code",
   "execution_count": null,
   "metadata": {},
   "outputs": [],
   "source": []
  },
  {
   "cell_type": "code",
   "execution_count": null,
   "metadata": {},
   "outputs": [],
   "source": []
  },
  {
   "cell_type": "code",
   "execution_count": null,
   "metadata": {},
   "outputs": [],
   "source": []
  },
  {
   "cell_type": "code",
   "execution_count": null,
   "metadata": {},
   "outputs": [],
   "source": []
  },
  {
   "cell_type": "code",
   "execution_count": null,
   "metadata": {},
   "outputs": [],
   "source": []
  },
  {
   "cell_type": "code",
   "execution_count": null,
   "metadata": {},
   "outputs": [],
   "source": []
  },
  {
   "cell_type": "code",
   "execution_count": null,
   "metadata": {},
   "outputs": [],
   "source": []
  },
  {
   "cell_type": "code",
   "execution_count": null,
   "metadata": {},
   "outputs": [],
   "source": []
  },
  {
   "cell_type": "code",
   "execution_count": null,
   "metadata": {},
   "outputs": [],
   "source": []
  },
  {
   "cell_type": "code",
   "execution_count": null,
   "metadata": {},
   "outputs": [],
   "source": []
  },
  {
   "cell_type": "code",
   "execution_count": null,
   "metadata": {},
   "outputs": [],
   "source": []
  },
  {
   "cell_type": "code",
   "execution_count": null,
   "metadata": {},
   "outputs": [],
   "source": []
  }
 ],
 "metadata": {
  "kernelspec": {
   "display_name": "Python 3.8.5 64-bit",
   "language": "python",
   "name": "python38564bit983d40b0eb64453e8ad463eee52a7b5b"
  },
  "language_info": {
   "codemirror_mode": {
    "name": "ipython",
    "version": 3
   },
   "file_extension": ".py",
   "mimetype": "text/x-python",
   "name": "python",
   "nbconvert_exporter": "python",
   "pygments_lexer": "ipython3",
   "version": "3.8.5"
  }
 },
 "nbformat": 4,
 "nbformat_minor": 4
}
