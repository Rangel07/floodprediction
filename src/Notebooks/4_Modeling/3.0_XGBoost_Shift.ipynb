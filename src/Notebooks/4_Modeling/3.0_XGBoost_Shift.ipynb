{
 "cells": [
  {
   "cell_type": "markdown",
   "metadata": {},
   "source": [
    "# Inicialização"
   ]
  },
  {
   "cell_type": "code",
   "execution_count": 2,
   "metadata": {},
   "outputs": [],
   "source": [
    "import pandas as pd\n",
    "import numpy as np\n",
    "from sklearn.cluster import KMeans\n",
    "from sklearn.preprocessing import MinMaxScaler\n",
    "import matplotlib.pyplot as plt\n",
    "\n",
    "from plotly import graph_objects as go\n",
    "import plotly as py\n",
    "\n",
    "from datetime import datetime\n",
    "from datetime import timedelta\n",
    "\n",
    "import xgboost\n",
    "from sklearn.model_selection import train_test_split\n",
    "from sklearn.metrics import plot_confusion_matrix, accuracy_score, f1_score, confusion_matrix, recall_score, precision_score\n",
    "\n",
    "from sklearn.utils import resample"
   ]
  },
  {
   "cell_type": "markdown",
   "metadata": {},
   "source": [
    "# Funções"
   ]
  },
  {
   "cell_type": "code",
   "execution_count": 3,
   "metadata": {},
   "outputs": [],
   "source": [
    "def upsampleData(X, label):\n",
    "    # Separar verdadeiro e falso\n",
    "    false_label = X[X[label]==0].copy()\n",
    "    true_label = X[X[label]==1].copy()\n",
    "    \n",
    "    # Realizar upsample para os valores verdadeiros\n",
    "    label_upsampled = resample(true_label,\n",
    "                            replace=True, # sample with replacement\n",
    "                            n_samples=len(false_label), # match number in majority class\n",
    "                            random_state=378) # reproducible results\n",
    "    upsampled = pd.concat([false_label, label_upsampled])\n",
    "    \n",
    "    # Separar x e y\n",
    "    x = upsampled[[c for c in X.columns if label not in c]]\n",
    "    y = upsampled[label]\n",
    "    \n",
    "    return x, y"
   ]
  },
  {
   "cell_type": "code",
   "execution_count": 4,
   "metadata": {},
   "outputs": [],
   "source": [
    "def trainXGB(df, cols_rem, label, verbose=True):\n",
    "    xgb = xgboost.XGBClassifier()\n",
    "\n",
    "    # Separar x e y e remover colunas desnecessárias\n",
    "    x = df[[c for c in df.columns if c not in cols_rem]]\n",
    "    y = df[label]\n",
    "    \n",
    "    # Separar dados de treinamento e teste\n",
    "    x_treino, x_teste, y_treino, y_teste = train_test_split(x, y, test_size=0.3, random_state = 378, stratify=y)\n",
    "    \n",
    "    # Upsample\n",
    "    X = pd.concat([x_treino, y_treino], axis=1)\n",
    "    x_treino, y_treino = upsampleData(X, label)\n",
    "\n",
    "    # Parâmetros do XGBClassifier\n",
    "    param = {'max_depth':50, 'eta':1, 'objective':'binary:logistic', 'min_child_weight': 1, 'lambda': 1, 'alpha': 0, 'gamma': 0}\n",
    "\n",
    "    # Gerar DMatrix com dados de treinamento e teste\n",
    "    df_train = xgboost.DMatrix(data=x_treino, label=y_treino)\n",
    "    df_test = xgboost.DMatrix(data=x_teste, label=y_teste)\n",
    "\n",
    "    # Treinar modelo e predizer em cima dos dados de treinamento e teste\n",
    "    bst = xgboost.train(param, df_train, 2, feval=f1_score)\n",
    "    y_teste_pred = bst.predict(xgboost.DMatrix(data=x_teste, label=y_teste))\n",
    "    y_teste_pred = [1 if i>0.5 else 0 for i in y_teste_pred]\n",
    "    y_treino_pred = bst.predict(xgboost.DMatrix(data=x_treino, label=y_treino))\n",
    "    y_treino_pred = [1 if i>0.5 else 0 for i in y_treino_pred]\n",
    "    \n",
    "    # Mostrar resultados se verbose é verdadeiro\n",
    "    if verbose:\n",
    "        print(f\"Treino: {accuracy_score(y_treino, y_treino_pred)}\")\n",
    "        print(f\"Teste: {accuracy_score(y_teste, y_teste_pred)}\")\n",
    "        print(f\"Precisão: {precision_score(y_teste, y_teste_pred)}\")\n",
    "        print(f\"Recall: {recall_score(y_teste, y_teste_pred)}\")\n",
    "        print(f\"F1: {f1_score(y_teste, y_teste_pred)}\")\n",
    "        display(confusion_matrix(y_teste, y_teste_pred, normalize='true'))\n",
    "        display(confusion_matrix(y_teste, y_teste_pred,))\n",
    "        \n",
    "    # Salvar resultados em um dict\n",
    "    results = {\n",
    "        'Features': list(x.columns),\n",
    "        'Train_Acc': accuracy_score(y_treino, y_treino_pred),\n",
    "        'Test_Acc': accuracy_score(y_teste, y_teste_pred),\n",
    "        'Precision': precision_score(y_teste, y_teste_pred),\n",
    "        'Recall': recall_score(y_teste, y_teste_pred),\n",
    "        'F1': f1_score(y_teste, y_teste_pred),\n",
    "        'Ver_Pos': confusion_matrix(y_teste, y_teste_pred, normalize='true')[1,1]\n",
    "    }\n",
    "    \n",
    "    return bst, results, y_treino_pred, y_teste_pred"
   ]
  },
  {
   "cell_type": "markdown",
   "metadata": {},
   "source": [
    "# Prepped Data"
   ]
  },
  {
   "cell_type": "markdown",
   "metadata": {},
   "source": [
    "## Carregar dados"
   ]
  },
  {
   "cell_type": "code",
   "execution_count": 1,
   "metadata": {},
   "outputs": [
    {
     "ename": "NameError",
     "evalue": "name 'pd' is not defined",
     "output_type": "error",
     "traceback": [
      "\u001b[1;31m---------------------------------------------------------------------------\u001b[0m",
      "\u001b[1;31mNameError\u001b[0m                                 Traceback (most recent call last)",
      "\u001b[1;32m<ipython-input-1-595179cd7e55>\u001b[0m in \u001b[0;36m<module>\u001b[1;34m\u001b[0m\n\u001b[1;32m----> 1\u001b[1;33m \u001b[0mdf_p\u001b[0m \u001b[1;33m=\u001b[0m \u001b[0mpd\u001b[0m\u001b[1;33m.\u001b[0m\u001b[0mread_csv\u001b[0m\u001b[1;33m(\u001b[0m\u001b[1;34m'../../../data/cleandata/Info pluviometricas/Merged Data/prepped_data.csv'\u001b[0m\u001b[1;33m,\u001b[0m \u001b[0msep\u001b[0m\u001b[1;33m=\u001b[0m\u001b[1;34m';'\u001b[0m\u001b[1;33m)\u001b[0m\u001b[1;33m\u001b[0m\u001b[1;33m\u001b[0m\u001b[0m\n\u001b[0m\u001b[0;32m      2\u001b[0m \u001b[0mdf_p\u001b[0m\u001b[1;33m.\u001b[0m\u001b[0mgroupby\u001b[0m\u001b[1;33m(\u001b[0m\u001b[1;34m'Label'\u001b[0m\u001b[1;33m)\u001b[0m\u001b[1;33m.\u001b[0m\u001b[0mcount\u001b[0m\u001b[1;33m(\u001b[0m\u001b[1;33m)\u001b[0m\u001b[1;33m\u001b[0m\u001b[1;33m\u001b[0m\u001b[0m\n",
      "\u001b[1;31mNameError\u001b[0m: name 'pd' is not defined"
     ]
    }
   ],
   "source": [
    "df_p = pd.read_csv('../../../data/cleandata/Info pluviometricas/Merged Data/prepped_data.csv', sep=';')\n",
    "df_p.groupby('Label').count()"
   ]
  },
  {
   "cell_type": "code",
   "execution_count": 10,
   "metadata": {},
   "outputs": [],
   "source": [
    "df_p = df_p.sort_values(['Data_Hora', 'Local'])\n",
    "# Shiftar label 6 horas para frente\n",
    "df_p['Label'] = df_p['Label'].shift(-5*6, fill_value = 0)"
   ]
  },
  {
   "cell_type": "markdown",
   "metadata": {},
   "source": [
    "## Treinar modelo"
   ]
  },
  {
   "cell_type": "code",
   "execution_count": 11,
   "metadata": {},
   "outputs": [
    {
     "name": "stdout",
     "output_type": "stream",
     "text": [
      "----- LOCAL 0 -----\n",
      "Treino: 0.9813408203358016\n",
      "Teste: 0.9623797901792219\n",
      "Precisão: 0.3252005347593583\n",
      "Recall: 0.9543894065718489\n",
      "F1: 0.4851053221986788\n"
     ]
    },
    {
     "data": {
      "text/plain": [
       "array([[0.96253097, 0.03746903],\n",
       "       [0.04561059, 0.95438941]])"
      ]
     },
     "metadata": {},
     "output_type": "display_data"
    },
    {
     "data": {
      "text/plain": [
       "array([[103731,   4038],\n",
       "       [    93,   1946]], dtype=int64)"
      ]
     },
     "metadata": {},
     "output_type": "display_data"
    },
    {
     "name": "stdout",
     "output_type": "stream",
     "text": [
      "----- LOCAL 1 -----\n",
      "Treino: 0.9802352660177942\n",
      "Teste: 0.9577451962480649\n",
      "Precisão: 0.3102661596958175\n",
      "Recall: 0.951048951048951\n",
      "F1: 0.4678899082568807\n"
     ]
    },
    {
     "data": {
      "text/plain": [
       "array([[0.9578786 , 0.0421214 ],\n",
       "       [0.04895105, 0.95104895]])"
      ]
     },
     "metadata": {},
     "output_type": "display_data"
    },
    {
     "data": {
      "text/plain": [
       "array([[20626,   907],\n",
       "       [   21,   408]], dtype=int64)"
      ]
     },
     "metadata": {},
     "output_type": "display_data"
    },
    {
     "name": "stdout",
     "output_type": "stream",
     "text": [
      "----- LOCAL 2 -----\n",
      "Treino: 0.9836959761549926\n",
      "Teste: 0.9668973681814043\n",
      "Precisão: 0.3473877176901925\n",
      "Recall: 0.9619289340101523\n",
      "F1: 0.5104377104377106\n"
     ]
    },
    {
     "data": {
      "text/plain": [
       "array([[0.96698813, 0.03301187],\n",
       "       [0.03807107, 0.96192893]])"
      ]
     },
     "metadata": {},
     "output_type": "display_data"
    },
    {
     "data": {
      "text/plain": [
       "array([[20856,   712],\n",
       "       [   15,   379]], dtype=int64)"
      ]
     },
     "metadata": {},
     "output_type": "display_data"
    },
    {
     "name": "stdout",
     "output_type": "stream",
     "text": [
      "----- LOCAL 3 -----\n",
      "Treino: 0.9804565756823821\n",
      "Teste: 0.9616610509061105\n",
      "Precisão: 0.3028523489932886\n",
      "Recall: 0.9704301075268817\n",
      "F1: 0.46163682864450134\n"
     ]
    },
    {
     "data": {
      "text/plain": [
       "array([[0.96150996, 0.03849004],\n",
       "       [0.02956989, 0.97043011]])"
      ]
     },
     "metadata": {},
     "output_type": "display_data"
    },
    {
     "data": {
      "text/plain": [
       "array([[20759,   831],\n",
       "       [   11,   361]], dtype=int64)"
      ]
     },
     "metadata": {},
     "output_type": "display_data"
    },
    {
     "name": "stdout",
     "output_type": "stream",
     "text": [
      "----- LOCAL 4 -----\n",
      "Treino: 0.9791069152326323\n",
      "Teste: 0.9572443311173846\n",
      "Precisão: 0.3181484202792065\n",
      "Recall: 0.9752252252252253\n",
      "F1: 0.47977839335180056\n"
     ]
    },
    {
     "data": {
      "text/plain": [
       "array([[0.95687332, 0.04312668],\n",
       "       [0.02477477, 0.97522523]])"
      ]
     },
     "metadata": {},
     "output_type": "display_data"
    },
    {
     "data": {
      "text/plain": [
       "array([[20590,   928],\n",
       "       [   11,   433]], dtype=int64)"
      ]
     },
     "metadata": {},
     "output_type": "display_data"
    },
    {
     "name": "stdout",
     "output_type": "stream",
     "text": [
      "----- LOCAL 5 -----\n",
      "Treino: 0.982269221594975\n",
      "Teste: 0.9608414534195429\n",
      "Precisão: 0.31295843520782396\n",
      "Recall: 0.9576059850374065\n",
      "F1: 0.47174447174447176\n"
     ]
    },
    {
     "data": {
      "text/plain": [
       "array([[0.96090163, 0.03909837],\n",
       "       [0.04239401, 0.95760599]])"
      ]
     },
     "metadata": {},
     "output_type": "display_data"
    },
    {
     "data": {
      "text/plain": [
       "array([[20718,   843],\n",
       "       [   17,   384]], dtype=int64)"
      ]
     },
     "metadata": {},
     "output_type": "display_data"
    }
   ],
   "source": [
    "# Parâmetros\n",
    "label = 'Label'\n",
    "cols_rem = ['LocalMax', 'Label', 'Label_Old', 'Cluster', 'Data', 'Hora', 'Data_Hora', 'Ordens', 'Minuto'] + [c for c in df_p.columns if 'Hora_' in c]\n",
    "# Conjunto de resultados\n",
    "prepped_models = {}\n",
    "\n",
    "# Gerar um modelo para cada local e um modelo geral\n",
    "for l in range(6):\n",
    "    if l != 0:\n",
    "        df_train = df_p[df_p['Local'] == l]\n",
    "    else:\n",
    "        df_train = df_p.copy()\n",
    "        \n",
    "    print(f'----- LOCAL {l} -----')\n",
    "    model, training_res, y_treino_pred, y_teste_pred = trainXGB(df_train, cols_rem, label)\n",
    "    \n",
    "    # Salvar modelo e resultados\n",
    "    prepped_models[l] = {\n",
    "        'model': model,\n",
    "        'results': training_res,\n",
    "        'y_treino': y_treino_pred,\n",
    "        'y_teste': y_teste_pred\n",
    "    }"
   ]
  },
  {
   "cell_type": "code",
   "execution_count": 12,
   "metadata": {},
   "outputs": [
    {
     "data": {
      "text/plain": [
       "{'Features': ['Mes', 'Dia', 'Local', 'Precipitacao', 'PrecSum'],\n",
       " 'Train_Acc': 0.9813408203358016,\n",
       " 'Test_Acc': 0.9623797901792219,\n",
       " 'Precision': 0.3252005347593583,\n",
       " 'Recall': 0.9543894065718489,\n",
       " 'F1': 0.4851053221986788,\n",
       " 'Ver_Pos': 0.9543894065718489}"
      ]
     },
     "execution_count": 12,
     "metadata": {},
     "output_type": "execute_result"
    }
   ],
   "source": [
    "prepped_models[0]['results']"
   ]
  },
  {
   "cell_type": "markdown",
   "metadata": {},
   "source": [
    "# Full Data"
   ]
  },
  {
   "cell_type": "markdown",
   "metadata": {},
   "source": [
    "## Carregar dados"
   ]
  },
  {
   "cell_type": "code",
   "execution_count": 13,
   "metadata": {},
   "outputs": [
    {
     "data": {
      "text/html": [
       "<div>\n",
       "<style scoped>\n",
       "    .dataframe tbody tr th:only-of-type {\n",
       "        vertical-align: middle;\n",
       "    }\n",
       "\n",
       "    .dataframe tbody tr th {\n",
       "        vertical-align: top;\n",
       "    }\n",
       "\n",
       "    .dataframe thead th {\n",
       "        text-align: right;\n",
       "    }\n",
       "</style>\n",
       "<table border=\"1\" class=\"dataframe\">\n",
       "  <thead>\n",
       "    <tr style=\"text-align: right;\">\n",
       "      <th></th>\n",
       "      <th>Data_Hora</th>\n",
       "      <th>LocalMax_d_All</th>\n",
       "      <th>LocalMax_d_ow</th>\n",
       "      <th>Local_d_Null</th>\n",
       "      <th>LocalMax_h_All</th>\n",
       "      <th>LocalMax_h_ow</th>\n",
       "      <th>Local_h_Null</th>\n",
       "      <th>Local</th>\n",
       "      <th>UmidadeRelativa</th>\n",
       "      <th>PressaoAtmosferica</th>\n",
       "      <th>...</th>\n",
       "      <th>TemperaturaInterna</th>\n",
       "      <th>PontoDeOrvalho</th>\n",
       "      <th>RadiacaoSolar</th>\n",
       "      <th>DirecaoDoVento</th>\n",
       "      <th>VelocidadeDoVento</th>\n",
       "      <th>Precipitacao</th>\n",
       "      <th>LocalMax_d</th>\n",
       "      <th>LocalMax_h</th>\n",
       "      <th>Local_d</th>\n",
       "      <th>Local_h</th>\n",
       "    </tr>\n",
       "  </thead>\n",
       "  <tbody>\n",
       "    <tr>\n",
       "      <th>0</th>\n",
       "      <td>2011-01-01 00:00:00</td>\n",
       "      <td>0.0</td>\n",
       "      <td>0.0</td>\n",
       "      <td>0.0</td>\n",
       "      <td>0.0</td>\n",
       "      <td>0.0</td>\n",
       "      <td>0.0</td>\n",
       "      <td>RM</td>\n",
       "      <td>86.6</td>\n",
       "      <td>926.7</td>\n",
       "      <td>...</td>\n",
       "      <td>23.3</td>\n",
       "      <td>17.8</td>\n",
       "      <td>0.0</td>\n",
       "      <td>131.0</td>\n",
       "      <td>2.5</td>\n",
       "      <td>0.0</td>\n",
       "      <td>0.0</td>\n",
       "      <td>0.0</td>\n",
       "      <td>0.0</td>\n",
       "      <td>0.0</td>\n",
       "    </tr>\n",
       "    <tr>\n",
       "      <th>1</th>\n",
       "      <td>2011-01-01 00:00:00</td>\n",
       "      <td>0.0</td>\n",
       "      <td>0.0</td>\n",
       "      <td>0.0</td>\n",
       "      <td>0.0</td>\n",
       "      <td>0.0</td>\n",
       "      <td>0.0</td>\n",
       "      <td>Erasmo</td>\n",
       "      <td>88.8</td>\n",
       "      <td>920.5</td>\n",
       "      <td>...</td>\n",
       "      <td>22.9</td>\n",
       "      <td>17.7</td>\n",
       "      <td>0.0</td>\n",
       "      <td>133.0</td>\n",
       "      <td>0.7</td>\n",
       "      <td>0.0</td>\n",
       "      <td>0.0</td>\n",
       "      <td>0.0</td>\n",
       "      <td>0.0</td>\n",
       "      <td>0.0</td>\n",
       "    </tr>\n",
       "    <tr>\n",
       "      <th>2</th>\n",
       "      <td>2011-01-01 00:00:00</td>\n",
       "      <td>0.0</td>\n",
       "      <td>0.0</td>\n",
       "      <td>0.0</td>\n",
       "      <td>0.0</td>\n",
       "      <td>0.0</td>\n",
       "      <td>0.0</td>\n",
       "      <td>Camilopolis</td>\n",
       "      <td>84.8</td>\n",
       "      <td>920.6</td>\n",
       "      <td>...</td>\n",
       "      <td>22.8</td>\n",
       "      <td>17.5</td>\n",
       "      <td>0.0</td>\n",
       "      <td>137.0</td>\n",
       "      <td>1.5</td>\n",
       "      <td>0.0</td>\n",
       "      <td>0.0</td>\n",
       "      <td>0.0</td>\n",
       "      <td>0.0</td>\n",
       "      <td>0.0</td>\n",
       "    </tr>\n",
       "    <tr>\n",
       "      <th>3</th>\n",
       "      <td>2011-01-01 00:00:00</td>\n",
       "      <td>0.0</td>\n",
       "      <td>0.0</td>\n",
       "      <td>0.0</td>\n",
       "      <td>0.0</td>\n",
       "      <td>0.0</td>\n",
       "      <td>0.0</td>\n",
       "      <td>Paraiso</td>\n",
       "      <td>92.3</td>\n",
       "      <td>919.1</td>\n",
       "      <td>...</td>\n",
       "      <td>22.7</td>\n",
       "      <td>18.0</td>\n",
       "      <td>0.0</td>\n",
       "      <td>101.0</td>\n",
       "      <td>2.6</td>\n",
       "      <td>0.0</td>\n",
       "      <td>0.0</td>\n",
       "      <td>0.0</td>\n",
       "      <td>0.0</td>\n",
       "      <td>0.0</td>\n",
       "    </tr>\n",
       "    <tr>\n",
       "      <th>4</th>\n",
       "      <td>2011-01-01 00:00:00</td>\n",
       "      <td>0.0</td>\n",
       "      <td>0.0</td>\n",
       "      <td>0.0</td>\n",
       "      <td>0.0</td>\n",
       "      <td>0.0</td>\n",
       "      <td>0.0</td>\n",
       "      <td>Vitoria</td>\n",
       "      <td>0.0</td>\n",
       "      <td>0.0</td>\n",
       "      <td>...</td>\n",
       "      <td>0.0</td>\n",
       "      <td>0.0</td>\n",
       "      <td>0.0</td>\n",
       "      <td>0.0</td>\n",
       "      <td>0.0</td>\n",
       "      <td>0.0</td>\n",
       "      <td>0.0</td>\n",
       "      <td>0.0</td>\n",
       "      <td>0.0</td>\n",
       "      <td>0.0</td>\n",
       "    </tr>\n",
       "  </tbody>\n",
       "</table>\n",
       "<p>5 rows × 21 columns</p>\n",
       "</div>"
      ],
      "text/plain": [
       "             Data_Hora  LocalMax_d_All  LocalMax_d_ow  Local_d_Null  \\\n",
       "0  2011-01-01 00:00:00             0.0            0.0           0.0   \n",
       "1  2011-01-01 00:00:00             0.0            0.0           0.0   \n",
       "2  2011-01-01 00:00:00             0.0            0.0           0.0   \n",
       "3  2011-01-01 00:00:00             0.0            0.0           0.0   \n",
       "4  2011-01-01 00:00:00             0.0            0.0           0.0   \n",
       "\n",
       "   LocalMax_h_All  LocalMax_h_ow  Local_h_Null        Local  UmidadeRelativa  \\\n",
       "0             0.0            0.0           0.0           RM             86.6   \n",
       "1             0.0            0.0           0.0       Erasmo             88.8   \n",
       "2             0.0            0.0           0.0  Camilopolis             84.8   \n",
       "3             0.0            0.0           0.0      Paraiso             92.3   \n",
       "4             0.0            0.0           0.0      Vitoria              0.0   \n",
       "\n",
       "   PressaoAtmosferica  ...  TemperaturaInterna  PontoDeOrvalho  RadiacaoSolar  \\\n",
       "0               926.7  ...                23.3            17.8            0.0   \n",
       "1               920.5  ...                22.9            17.7            0.0   \n",
       "2               920.6  ...                22.8            17.5            0.0   \n",
       "3               919.1  ...                22.7            18.0            0.0   \n",
       "4                 0.0  ...                 0.0             0.0            0.0   \n",
       "\n",
       "   DirecaoDoVento  VelocidadeDoVento  Precipitacao  LocalMax_d  LocalMax_h  \\\n",
       "0           131.0                2.5           0.0         0.0         0.0   \n",
       "1           133.0                0.7           0.0         0.0         0.0   \n",
       "2           137.0                1.5           0.0         0.0         0.0   \n",
       "3           101.0                2.6           0.0         0.0         0.0   \n",
       "4             0.0                0.0           0.0         0.0         0.0   \n",
       "\n",
       "   Local_d  Local_h  \n",
       "0      0.0      0.0  \n",
       "1      0.0      0.0  \n",
       "2      0.0      0.0  \n",
       "3      0.0      0.0  \n",
       "4      0.0      0.0  \n",
       "\n",
       "[5 rows x 21 columns]"
      ]
     },
     "metadata": {},
     "output_type": "display_data"
    },
    {
     "data": {
      "text/plain": [
       "(1464030, 21)"
      ]
     },
     "execution_count": 13,
     "metadata": {},
     "output_type": "execute_result"
    }
   ],
   "source": [
    "df_f = pd.read_csv('../../../data/cleandata/Info pluviometricas/Merged Data/full_data.csv', sep=';')\n",
    "display(df_f.head())\n",
    "df_f.shape"
   ]
  },
  {
   "cell_type": "markdown",
   "metadata": {},
   "source": [
    "## Preparar dados"
   ]
  },
  {
   "cell_type": "code",
   "execution_count": 14,
   "metadata": {},
   "outputs": [],
   "source": [
    "# Filtrar por hora -> minuto 0\n",
    "df_f['Data_Hora'] = pd.to_datetime(df_f['Data_Hora'], yearfirst=True)\n",
    "df_f = df_f[df_f['Data_Hora'].dt.minute == 0]\n",
    "# Remover colunas desnecessárias\n",
    "df_f = df_f.drop(columns = ['LocalMax_d_ow', 'LocalMax_h_All', 'LocalMax_h', 'LocalMax_h_ow', 'LocalMax_d'] + [c for c in df_f.columns if 'Local_' in c])\n",
    "df_f = df_f.rename(columns = {'LocalMax_d_All': 'Label'})\n",
    "# Colunas de data\n",
    "df_f['Dia'] = df_f['Data_Hora'].dt.day\n",
    "df_f['Mes'] = df_f['Data_Hora'].dt.month\n",
    "df_f['Data'] = df_f['Data_Hora'].dt.strftime('%Y-%m-%d')\n",
    "# Codificar local\n",
    "df_f['Local'] = df_f['Local'].replace({'Camilopolis': 1, 'Erasmo': 2, 'Paraiso': 3, 'RM': 4, 'Vitoria': 5})"
   ]
  },
  {
   "cell_type": "code",
   "execution_count": 15,
   "metadata": {},
   "outputs": [],
   "source": [
    "# Soma da precipitação do dia\n",
    "df_prec_sum = df_f.groupby(['Data', 'Local']).sum().reset_index()[['Data', 'Local', 'Precipitacao']]\n",
    "df_prec_sum.columns = ['Data', 'Local', 'PrecSum']\n",
    "df_f = df_f.merge(df_prec_sum, on=['Data', 'Local'])\n",
    "df_f.loc[(df_f['Label'] == 1) & (df_f['PrecSum'] <= 10), 'Label'] = 0"
   ]
  },
  {
   "cell_type": "code",
   "execution_count": 16,
   "metadata": {},
   "outputs": [],
   "source": [
    "# Realizar OHE para colunas categóricas\n",
    "cols_dummies = ['Local', 'Mes',]# 'Dia']\n",
    "\n",
    "df_f_ohe = df_f.copy()\n",
    "\n",
    "for c in cols_dummies:\n",
    "    df_f_ohe = pd.concat([df_f_ohe, pd.get_dummies(df_f[c], prefix=c)], axis=1)\n",
    "    \n",
    "df_f_ohe = df_f_ohe.sort_values(['Data', 'Local'])\n",
    "\n",
    "# Shiftar label 6 horas para frente\n",
    "df_f_ohe['Label_Old'] = df_f_ohe['Label']\n",
    "df_f_ohe['Label'] = df_f_ohe['Label'].shift(-5*6, fill_value = 0)"
   ]
  },
  {
   "cell_type": "code",
   "execution_count": 17,
   "metadata": {},
   "outputs": [
    {
     "data": {
      "text/plain": [
       "Index(['Data_Hora', 'Local', 'UmidadeRelativa', 'PressaoAtmosferica',\n",
       "       'TemperaturaDoAr', 'TemperaturaInterna', 'PontoDeOrvalho',\n",
       "       'RadiacaoSolar', 'DirecaoDoVento', 'VelocidadeDoVento', 'Precipitacao',\n",
       "       'Label', 'Dia', 'Mes', 'Data', 'PrecSum', 'Local_1', 'Local_2',\n",
       "       'Local_3', 'Local_4', 'Local_5', 'Mes_1', 'Mes_2', 'Mes_3', 'Mes_4',\n",
       "       'Mes_5', 'Mes_6', 'Mes_7', 'Mes_8', 'Mes_9', 'Mes_10', 'Mes_11',\n",
       "       'Mes_12', 'Label_Old'],\n",
       "      dtype='object')"
      ]
     },
     "execution_count": 17,
     "metadata": {},
     "output_type": "execute_result"
    }
   ],
   "source": [
    "df_f_ohe.columns"
   ]
  },
  {
   "cell_type": "markdown",
   "metadata": {},
   "source": [
    "## Treinar modelo"
   ]
  },
  {
   "cell_type": "code",
   "execution_count": 18,
   "metadata": {
    "scrolled": true
   },
   "outputs": [
    {
     "name": "stdout",
     "output_type": "stream",
     "text": [
      "---------- CASE ----------\n",
      "[]\n",
      "--------------------------\n",
      "----- LOCAL 0 -----\n",
      "Treino: 0.9968458579383808\n",
      "Teste: 0.9898185924522803\n",
      "Precisão: 0.1080568720379147\n",
      "Recall: 0.3917525773195876\n",
      "F1: 0.16939078751857356\n"
     ]
    },
    {
     "data": {
      "text/plain": [
       "array([[0.99140773, 0.00859227],\n",
       "       [0.60824742, 0.39175258]])"
      ]
     },
     "metadata": {},
     "output_type": "display_data"
    },
    {
     "data": {
      "text/plain": [
       "array([[108576,    941],\n",
       "       [   177,    114]], dtype=int64)"
      ]
     },
     "metadata": {},
     "output_type": "display_data"
    },
    {
     "name": "stdout",
     "output_type": "stream",
     "text": [
      "----- LOCAL 1 -----\n",
      "Treino: 0.9979749163552407\n",
      "Teste: 0.9919861579091157\n",
      "Precisão: 0.13125\n",
      "Recall: 0.3620689655172414\n",
      "F1: 0.19266055045871558\n"
     ]
    },
    {
     "data": {
      "text/plain": [
       "array([[0.99365413, 0.00634587],\n",
       "       [0.63793103, 0.36206897]])"
      ]
     },
     "metadata": {},
     "output_type": "display_data"
    },
    {
     "data": {
      "text/plain": [
       "array([[21765,   139],\n",
       "       [   37,    21]], dtype=int64)"
      ]
     },
     "metadata": {},
     "output_type": "display_data"
    },
    {
     "name": "stdout",
     "output_type": "stream",
     "text": [
      "----- LOCAL 2 -----\n",
      "Treino: 0.995989984742381\n",
      "Teste: 0.9887077679628449\n",
      "Precisão: 0.09836065573770492\n",
      "Recall: 0.46153846153846156\n",
      "F1: 0.16216216216216217\n"
     ]
    },
    {
     "data": {
      "text/plain": [
       "array([[0.98995892, 0.01004108],\n",
       "       [0.53846154, 0.46153846]])"
      ]
     },
     "metadata": {},
     "output_type": "display_data"
    },
    {
     "data": {
      "text/plain": [
       "array([[21690,   220],\n",
       "       [   28,    24]], dtype=int64)"
      ]
     },
     "metadata": {},
     "output_type": "display_data"
    },
    {
     "name": "stdout",
     "output_type": "stream",
     "text": [
      "----- LOCAL 3 -----\n",
      "Treino: 0.9982978223865704\n",
      "Teste: 0.9930789545578727\n",
      "Precisão: 0.13636363636363635\n",
      "Recall: 0.32142857142857145\n",
      "F1: 0.19148936170212766\n"
     ]
    },
    {
     "data": {
      "text/plain": [
       "array([[0.99479595, 0.00520405],\n",
       "       [0.67857143, 0.32142857]])"
      ]
     },
     "metadata": {},
     "output_type": "display_data"
    },
    {
     "data": {
      "text/plain": [
       "array([[21792,   114],\n",
       "       [   38,    18]], dtype=int64)"
      ]
     },
     "metadata": {},
     "output_type": "display_data"
    },
    {
     "name": "stdout",
     "output_type": "stream",
     "text": [
      "----- LOCAL 4 -----\n",
      "Treino: 0.9978770862274746\n",
      "Teste: 0.9922138238776068\n",
      "Precisão: 0.12582781456953643\n",
      "Recall: 0.3275862068965517\n",
      "F1: 0.18181818181818185\n"
     ]
    },
    {
     "data": {
      "text/plain": [
       "array([[0.9939737 , 0.0060263 ],\n",
       "       [0.67241379, 0.32758621]])"
      ]
     },
     "metadata": {},
     "output_type": "display_data"
    },
    {
     "data": {
      "text/plain": [
       "array([[21772,   132],\n",
       "       [   39,    19]], dtype=int64)"
      ]
     },
     "metadata": {},
     "output_type": "display_data"
    },
    {
     "name": "stdout",
     "output_type": "stream",
     "text": [
      "----- LOCAL 5 -----\n",
      "Treino: 0.995791328178526\n",
      "Teste: 0.9856570439850652\n",
      "Precisão: 0.06968641114982578\n",
      "Recall: 0.29411764705882354\n",
      "F1: 0.11267605633802816\n"
     ]
    },
    {
     "data": {
      "text/plain": [
       "array([[0.98780488, 0.01219512],\n",
       "       [0.70588235, 0.29411765]])"
      ]
     },
     "metadata": {},
     "output_type": "display_data"
    },
    {
     "data": {
      "text/plain": [
       "array([[21627,   267],\n",
       "       [   48,    20]], dtype=int64)"
      ]
     },
     "metadata": {},
     "output_type": "display_data"
    },
    {
     "name": "stdout",
     "output_type": "stream",
     "text": [
      "---------- CASE ----------\n",
      "['DirecaoDoVento', 'VelocidadeDoVento']\n",
      "--------------------------\n",
      "----- LOCAL 0 -----\n",
      "Treino: 0.9966717148592963\n",
      "Teste: 0.9900280489581815\n",
      "Precisão: 0.12569832402234637\n",
      "Recall: 0.4639175257731959\n",
      "F1: 0.19780219780219782\n"
     ]
    },
    {
     "data": {
      "text/plain": [
       "array([[0.99142599, 0.00857401],\n",
       "       [0.53608247, 0.46391753]])"
      ]
     },
     "metadata": {},
     "output_type": "display_data"
    },
    {
     "data": {
      "text/plain": [
       "array([[108578,    939],\n",
       "       [   156,    135]], dtype=int64)"
      ]
     },
     "metadata": {},
     "output_type": "display_data"
    },
    {
     "name": "stdout",
     "output_type": "stream",
     "text": [
      "----- LOCAL 1 -----\n",
      "Treino: 0.9983271048151989\n",
      "Teste: 0.9923504234587014\n",
      "Precisão: 0.1518987341772152\n",
      "Recall: 0.41379310344827586\n",
      "F1: 0.22222222222222224\n"
     ]
    },
    {
     "data": {
      "text/plain": [
       "array([[0.9938824, 0.0061176],\n",
       "       [0.5862069, 0.4137931]])"
      ]
     },
     "metadata": {},
     "output_type": "display_data"
    },
    {
     "data": {
      "text/plain": [
       "array([[21770,   134],\n",
       "       [   34,    24]], dtype=int64)"
      ]
     },
     "metadata": {},
     "output_type": "display_data"
    },
    {
     "name": "stdout",
     "output_type": "stream",
     "text": [
      "----- LOCAL 2 -----\n",
      "Treino: 0.9956085442666562\n",
      "Teste: 0.9885256351880521\n",
      "Precisão: 0.109375\n",
      "Recall: 0.5384615384615384\n",
      "F1: 0.18181818181818182\n"
     ]
    },
    {
     "data": {
      "text/plain": [
       "array([[0.98959379, 0.01040621],\n",
       "       [0.46153846, 0.53846154]])"
      ]
     },
     "metadata": {},
     "output_type": "display_data"
    },
    {
     "data": {
      "text/plain": [
       "array([[21682,   228],\n",
       "       [   24,    28]], dtype=int64)"
      ]
     },
     "metadata": {},
     "output_type": "display_data"
    },
    {
     "name": "stdout",
     "output_type": "stream",
     "text": [
      "----- LOCAL 3 -----\n",
      "Treino: 0.9980336913775899\n",
      "Teste: 0.9915308259721337\n",
      "Precisão: 0.09375\n",
      "Recall: 0.26785714285714285\n",
      "F1: 0.1388888888888889\n"
     ]
    },
    {
     "data": {
      "text/plain": [
       "array([[0.99338081, 0.00661919],\n",
       "       [0.73214286, 0.26785714]])"
      ]
     },
     "metadata": {},
     "output_type": "display_data"
    },
    {
     "data": {
      "text/plain": [
       "array([[21761,   145],\n",
       "       [   41,    15]], dtype=int64)"
      ]
     },
     "metadata": {},
     "output_type": "display_data"
    },
    {
     "name": "stdout",
     "output_type": "stream",
     "text": [
      "----- LOCAL 4 -----\n",
      "Treino: 0.9977303410358254\n",
      "Teste: 0.9921682906839085\n",
      "Precisão: 0.125\n",
      "Recall: 0.3275862068965517\n",
      "F1: 0.18095238095238095\n"
     ]
    },
    {
     "data": {
      "text/plain": [
       "array([[0.99392805, 0.00607195],\n",
       "       [0.67241379, 0.32758621]])"
      ]
     },
     "metadata": {},
     "output_type": "display_data"
    },
    {
     "data": {
      "text/plain": [
       "array([[21771,   133],\n",
       "       [   39,    19]], dtype=int64)"
      ]
     },
     "metadata": {},
     "output_type": "display_data"
    },
    {
     "name": "stdout",
     "output_type": "stream",
     "text": [
      "----- LOCAL 5 -----\n",
      "Treino: 0.995654301654106\n",
      "Teste: 0.9866132410527274\n",
      "Precisão: 0.08759124087591241\n",
      "Recall: 0.35294117647058826\n",
      "F1: 0.14035087719298248\n"
     ]
    },
    {
     "data": {
      "text/plain": [
       "array([[0.98858135, 0.01141865],\n",
       "       [0.64705882, 0.35294118]])"
      ]
     },
     "metadata": {},
     "output_type": "display_data"
    },
    {
     "data": {
      "text/plain": [
       "array([[21644,   250],\n",
       "       [   44,    24]], dtype=int64)"
      ]
     },
     "metadata": {},
     "output_type": "display_data"
    },
    {
     "name": "stdout",
     "output_type": "stream",
     "text": [
      "---------- CASE ----------\n",
      "['DirecaoDoVento', 'VelocidadeDoVento', 'TemperaturaInterna']\n",
      "--------------------------\n",
      "----- LOCAL 0 -----\n",
      "Treino: 0.9971667508032105\n",
      "Teste: 0.991448710476468\n",
      "Precisão: 0.15086206896551724\n",
      "Recall: 0.48109965635738833\n",
      "F1: 0.22969647251845776\n"
     ]
    },
    {
     "data": {
      "text/plain": [
       "array([[0.99280477, 0.00719523],\n",
       "       [0.51890034, 0.48109966]])"
      ]
     },
     "metadata": {},
     "output_type": "display_data"
    },
    {
     "data": {
      "text/plain": [
       "array([[108729,    788],\n",
       "       [   151,    140]], dtype=int64)"
      ]
     },
     "metadata": {},
     "output_type": "display_data"
    },
    {
     "name": "stdout",
     "output_type": "stream",
     "text": [
      "----- LOCAL 1 -----\n",
      "Treino: 0.9982097086618795\n",
      "Teste: 0.9923048902650032\n",
      "Precisão: 0.14193548387096774\n",
      "Recall: 0.3793103448275862\n",
      "F1: 0.20657276995305163\n"
     ]
    },
    {
     "data": {
      "text/plain": [
       "array([[0.99392805, 0.00607195],\n",
       "       [0.62068966, 0.37931034]])"
      ]
     },
     "metadata": {},
     "output_type": "display_data"
    },
    {
     "data": {
      "text/plain": [
       "array([[21771,   133],\n",
       "       [   36,    22]], dtype=int64)"
      ]
     },
     "metadata": {},
     "output_type": "display_data"
    },
    {
     "name": "stdout",
     "output_type": "stream",
     "text": [
      "----- LOCAL 2 -----\n",
      "Treino: 0.9957063495168421\n",
      "Teste: 0.9887988343502413\n",
      "Precisão: 0.10569105691056911\n",
      "Recall: 0.5\n",
      "F1: 0.174496644295302\n"
     ]
    },
    {
     "data": {
      "text/plain": [
       "array([[0.98995892, 0.01004108],\n",
       "       [0.5       , 0.5       ]])"
      ]
     },
     "metadata": {},
     "output_type": "display_data"
    },
    {
     "data": {
      "text/plain": [
       "array([[21690,   220],\n",
       "       [   26,    26]], dtype=int64)"
      ]
     },
     "metadata": {},
     "output_type": "display_data"
    },
    {
     "name": "stdout",
     "output_type": "stream",
     "text": [
      "----- LOCAL 3 -----\n",
      "Treino: 0.9977597777386472\n",
      "Teste: 0.9918950915217193\n",
      "Precisão: 0.1038961038961039\n",
      "Recall: 0.2857142857142857\n",
      "F1: 0.15238095238095237\n"
     ]
    },
    {
     "data": {
      "text/plain": [
       "array([[0.99370036, 0.00629964],\n",
       "       [0.71428571, 0.28571429]])"
      ]
     },
     "metadata": {},
     "output_type": "display_data"
    },
    {
     "data": {
      "text/plain": [
       "array([[21768,   138],\n",
       "       [   40,    16]], dtype=int64)"
      ]
     },
     "metadata": {},
     "output_type": "display_data"
    },
    {
     "name": "stdout",
     "output_type": "stream",
     "text": [
      "----- LOCAL 4 -----\n",
      "Treino: 0.9978477371891448\n",
      "Teste: 0.9923048902650032\n",
      "Precisão: 0.15527950310559005\n",
      "Recall: 0.43103448275862066\n",
      "F1: 0.228310502283105\n"
     ]
    },
    {
     "data": {
      "text/plain": [
       "array([[0.99379109, 0.00620891],\n",
       "       [0.56896552, 0.43103448]])"
      ]
     },
     "metadata": {},
     "output_type": "display_data"
    },
    {
     "data": {
      "text/plain": [
       "array([[21768,   136],\n",
       "       [   33,    25]], dtype=int64)"
      ]
     },
     "metadata": {},
     "output_type": "display_data"
    },
    {
     "name": "stdout",
     "output_type": "stream",
     "text": [
      "----- LOCAL 5 -----\n",
      "Treino: 0.9956151512185573\n",
      "Teste: 0.9857936435661597\n",
      "Precisão: 0.0821917808219178\n",
      "Recall: 0.35294117647058826\n",
      "F1: 0.13333333333333333\n"
     ]
    },
    {
     "data": {
      "text/plain": [
       "array([[0.9877592 , 0.0122408 ],\n",
       "       [0.64705882, 0.35294118]])"
      ]
     },
     "metadata": {},
     "output_type": "display_data"
    },
    {
     "data": {
      "text/plain": [
       "array([[21626,   268],\n",
       "       [   44,    24]], dtype=int64)"
      ]
     },
     "metadata": {},
     "output_type": "display_data"
    },
    {
     "name": "stdout",
     "output_type": "stream",
     "text": [
      "---------- CASE ----------\n",
      "['DirecaoDoVento', 'VelocidadeDoVento', 'TemperaturaInterna', 'PontoDeOrvalho']\n",
      "--------------------------\n",
      "----- LOCAL 0 -----\n",
      "Treino: 0.9969671710945969\n",
      "Teste: 0.99081123415416\n",
      "Precisão: 0.13663967611336034\n",
      "Recall: 0.4639175257731959\n",
      "F1: 0.2111024237685692\n"
     ]
    },
    {
     "data": {
      "text/plain": [
       "array([[0.99221125, 0.00778875],\n",
       "       [0.53608247, 0.46391753]])"
      ]
     },
     "metadata": {},
     "output_type": "display_data"
    },
    {
     "data": {
      "text/plain": [
       "array([[108664,    853],\n",
       "       [   156,    135]], dtype=int64)"
      ]
     },
     "metadata": {},
     "output_type": "display_data"
    },
    {
     "name": "stdout",
     "output_type": "stream",
     "text": [
      "----- LOCAL 1 -----\n",
      "Treino: 0.9982390577002094\n",
      "Teste: 0.9927146890082871\n",
      "Precisão: 0.1357142857142857\n",
      "Recall: 0.3275862068965517\n",
      "F1: 0.19191919191919193\n"
     ]
    },
    {
     "data": {
      "text/plain": [
       "array([[0.99447589, 0.00552411],\n",
       "       [0.67241379, 0.32758621]])"
      ]
     },
     "metadata": {},
     "output_type": "display_data"
    },
    {
     "data": {
      "text/plain": [
       "array([[21783,   121],\n",
       "       [   39,    19]], dtype=int64)"
      ]
     },
     "metadata": {},
     "output_type": "display_data"
    },
    {
     "name": "stdout",
     "output_type": "stream",
     "text": [
      "----- LOCAL 2 -----\n",
      "Treino: 0.9959508626423066\n",
      "Teste: 0.9894362990620162\n",
      "Precisão: 0.11538461538461539\n",
      "Recall: 0.5192307692307693\n",
      "F1: 0.1888111888111888\n"
     ]
    },
    {
     "data": {
      "text/plain": [
       "array([[0.99055226, 0.00944774],\n",
       "       [0.48076923, 0.51923077]])"
      ]
     },
     "metadata": {},
     "output_type": "display_data"
    },
    {
     "data": {
      "text/plain": [
       "array([[21703,   207],\n",
       "       [   25,    27]], dtype=int64)"
      ]
     },
     "metadata": {},
     "output_type": "display_data"
    },
    {
     "name": "stdout",
     "output_type": "stream",
     "text": [
      "----- LOCAL 3 -----\n",
      "Treino: 0.9980141261176655\n",
      "Teste: 0.9920772242965121\n",
      "Precisão: 0.14457831325301204\n",
      "Recall: 0.42857142857142855\n",
      "F1: 0.21621621621621623\n"
     ]
    },
    {
     "data": {
      "text/plain": [
       "array([[0.99351776, 0.00648224],\n",
       "       [0.57142857, 0.42857143]])"
      ]
     },
     "metadata": {},
     "output_type": "display_data"
    },
    {
     "data": {
      "text/plain": [
       "array([[21764,   142],\n",
       "       [   32,    24]], dtype=int64)"
      ]
     },
     "metadata": {},
     "output_type": "display_data"
    },
    {
     "name": "stdout",
     "output_type": "stream",
     "text": [
      "----- LOCAL 4 -----\n",
      "Treino: 0.9977890391124851\n",
      "Teste: 0.9915308259721337\n",
      "Precisão: 0.11904761904761904\n",
      "Recall: 0.3448275862068966\n",
      "F1: 0.17699115044247785\n"
     ]
    },
    {
     "data": {
      "text/plain": [
       "array([[0.99324324, 0.00675676],\n",
       "       [0.65517241, 0.34482759]])"
      ]
     },
     "metadata": {},
     "output_type": "display_data"
    },
    {
     "data": {
      "text/plain": [
       "array([[21756,   148],\n",
       "       [   38,    20]], dtype=int64)"
      ]
     },
     "metadata": {},
     "output_type": "display_data"
    },
    {
     "name": "stdout",
     "output_type": "stream",
     "text": [
      "----- LOCAL 5 -----\n",
      "Treino: 0.9959479299207203\n",
      "Teste: 0.9880247700573718\n",
      "Precisão: 0.10526315789473684\n",
      "Recall: 0.38235294117647056\n",
      "F1: 0.16507936507936505\n"
     ]
    },
    {
     "data": {
      "text/plain": [
       "array([[0.98990591, 0.01009409],\n",
       "       [0.61764706, 0.38235294]])"
      ]
     },
     "metadata": {},
     "output_type": "display_data"
    },
    {
     "data": {
      "text/plain": [
       "array([[21673,   221],\n",
       "       [   42,    26]], dtype=int64)"
      ]
     },
     "metadata": {},
     "output_type": "display_data"
    },
    {
     "name": "stdout",
     "output_type": "stream",
     "text": [
      "---------- CASE ----------\n",
      "['DirecaoDoVento', 'VelocidadeDoVento', 'TemperaturaInterna', 'PontoDeOrvalho', 'UmidadeRelativa']\n",
      "--------------------------\n",
      "----- LOCAL 0 -----\n",
      "Treino: 0.9968145513174217\n",
      "Teste: 0.9907839137403468\n",
      "Precisão: 0.1441263573543929\n",
      "Recall: 0.5017182130584192\n",
      "F1: 0.22392638036809812\n"
     ]
    },
    {
     "data": {
      "text/plain": [
       "array([[0.99208342, 0.00791658],\n",
       "       [0.49828179, 0.50171821]])"
      ]
     },
     "metadata": {},
     "output_type": "display_data"
    },
    {
     "data": {
      "text/plain": [
       "array([[108650,    867],\n",
       "       [   145,    146]], dtype=int64)"
      ]
     },
     "metadata": {},
     "output_type": "display_data"
    },
    {
     "name": "stdout",
     "output_type": "stream",
     "text": [
      "----- LOCAL 1 -----\n",
      "Treino: 0.9976716429591657\n",
      "Teste: 0.9908022948729623\n",
      "Precisão: 0.14\n",
      "Recall: 0.4827586206896552\n",
      "F1: 0.2170542635658915\n"
     ]
    },
    {
     "data": {
      "text/plain": [
       "array([[0.99214755, 0.00785245],\n",
       "       [0.51724138, 0.48275862]])"
      ]
     },
     "metadata": {},
     "output_type": "display_data"
    },
    {
     "data": {
      "text/plain": [
       "array([[21732,   172],\n",
       "       [   30,    28]], dtype=int64)"
      ]
     },
     "metadata": {},
     "output_type": "display_data"
    },
    {
     "name": "stdout",
     "output_type": "stream",
     "text": [
      "----- LOCAL 2 -----\n",
      "Treino: 0.995637885841712\n",
      "Teste: 0.9883890356069575\n",
      "Precisão: 0.1198501872659176\n",
      "Recall: 0.6153846153846154\n",
      "F1: 0.20062695924764892\n"
     ]
    },
    {
     "data": {
      "text/plain": [
       "array([[0.9892743 , 0.0107257 ],\n",
       "       [0.38461538, 0.61538462]])"
      ]
     },
     "metadata": {},
     "output_type": "display_data"
    },
    {
     "data": {
      "text/plain": [
       "array([[21675,   235],\n",
       "       [   20,    32]], dtype=int64)"
      ]
     },
     "metadata": {},
     "output_type": "display_data"
    },
    {
     "name": "stdout",
     "output_type": "stream",
     "text": [
      "----- LOCAL 3 -----\n",
      "Treino: 0.9980141261176655\n",
      "Teste: 0.9926691558145888\n",
      "Precisão: 0.1568627450980392\n",
      "Recall: 0.42857142857142855\n",
      "F1: 0.22966507177033496\n"
     ]
    },
    {
     "data": {
      "text/plain": [
       "array([[0.9941112 , 0.0058888 ],\n",
       "       [0.57142857, 0.42857143]])"
      ]
     },
     "metadata": {},
     "output_type": "display_data"
    },
    {
     "data": {
      "text/plain": [
       "array([[21777,   129],\n",
       "       [   32,    24]], dtype=int64)"
      ]
     },
     "metadata": {},
     "output_type": "display_data"
    },
    {
     "name": "stdout",
     "output_type": "stream",
     "text": [
      "----- LOCAL 4 -----\n",
      "Treino: 0.997182492320335\n",
      "Teste: 0.9900737637737911\n",
      "Precisão: 0.11904761904761904\n",
      "Recall: 0.43103448275862066\n",
      "F1: 0.18656716417910446\n"
     ]
    },
    {
     "data": {
      "text/plain": [
       "array([[0.99155405, 0.00844595],\n",
       "       [0.56896552, 0.43103448]])"
      ]
     },
     "metadata": {},
     "output_type": "display_data"
    },
    {
     "data": {
      "text/plain": [
       "array([[21719,   185],\n",
       "       [   33,    25]], dtype=int64)"
      ]
     },
     "metadata": {},
     "output_type": "display_data"
    },
    {
     "name": "stdout",
     "output_type": "stream",
     "text": [
      "----- LOCAL 5 -----\n",
      "Treino: 0.995654301654106\n",
      "Teste: 0.9872051725708041\n",
      "Precisão: 0.09505703422053231\n",
      "Recall: 0.36764705882352944\n",
      "F1: 0.1510574018126888\n"
     ]
    },
    {
     "data": {
      "text/plain": [
       "array([[0.98912944, 0.01087056],\n",
       "       [0.63235294, 0.36764706]])"
      ]
     },
     "metadata": {},
     "output_type": "display_data"
    },
    {
     "data": {
      "text/plain": [
       "array([[21656,   238],\n",
       "       [   43,    25]], dtype=int64)"
      ]
     },
     "metadata": {},
     "output_type": "display_data"
    },
    {
     "name": "stdout",
     "output_type": "stream",
     "text": [
      "---------- CASE ----------\n",
      "['DirecaoDoVento', 'VelocidadeDoVento', 'TemperaturaInterna', 'PontoDeOrvalho', 'UmidadeRelativa', 'PressaoAtmosferica']\n",
      "--------------------------\n",
      "----- LOCAL 0 -----\n",
      "Treino: 0.9966834548421559\n",
      "Teste: 0.9905471368206323\n",
      "Precisão: 0.14462416745956233\n",
      "Recall: 0.5223367697594502\n",
      "F1: 0.2265275707898659\n"
     ]
    },
    {
     "data": {
      "text/plain": [
       "array([[0.99179123, 0.00820877],\n",
       "       [0.47766323, 0.52233677]])"
      ]
     },
     "metadata": {},
     "output_type": "display_data"
    },
    {
     "data": {
      "text/plain": [
       "array([[108618,    899],\n",
       "       [   139,    152]], dtype=int64)"
      ]
     },
     "metadata": {},
     "output_type": "display_data"
    },
    {
     "name": "stdout",
     "output_type": "stream",
     "text": [
      "----- LOCAL 1 -----\n",
      "Treino: 0.9976031618697294\n",
      "Teste: 0.9912576268099444\n",
      "Precisão: 0.1358695652173913\n",
      "Recall: 0.43103448275862066\n",
      "F1: 0.2066115702479339\n"
     ]
    },
    {
     "data": {
      "text/plain": [
       "array([[0.99274105, 0.00725895],\n",
       "       [0.56896552, 0.43103448]])"
      ]
     },
     "metadata": {},
     "output_type": "display_data"
    },
    {
     "data": {
      "text/plain": [
       "array([[21745,   159],\n",
       "       [   33,    25]], dtype=int64)"
      ]
     },
     "metadata": {},
     "output_type": "display_data"
    },
    {
     "name": "stdout",
     "output_type": "stream",
     "text": [
      "----- LOCAL 2 -----\n",
      "Treino: 0.9953542506161731\n",
      "Teste: 0.9883435024132593\n",
      "Precisão: 0.11363636363636363\n",
      "Recall: 0.5769230769230769\n",
      "F1: 0.18987341772151897\n"
     ]
    },
    {
     "data": {
      "text/plain": [
       "array([[0.98931995, 0.01068005],\n",
       "       [0.42307692, 0.57692308]])"
      ]
     },
     "metadata": {},
     "output_type": "display_data"
    },
    {
     "data": {
      "text/plain": [
       "array([[21676,   234],\n",
       "       [   22,    30]], dtype=int64)"
      ]
     },
     "metadata": {},
     "output_type": "display_data"
    },
    {
     "name": "stdout",
     "output_type": "stream",
     "text": [
      "----- LOCAL 3 -----\n",
      "Treino: 0.9979456477079298\n",
      "Teste: 0.9921682906839085\n",
      "Precisão: 0.13291139240506328\n",
      "Recall: 0.375\n",
      "F1: 0.19626168224299062\n"
     ]
    },
    {
     "data": {
      "text/plain": [
       "array([[0.99374601, 0.00625399],\n",
       "       [0.625     , 0.375     ]])"
      ]
     },
     "metadata": {},
     "output_type": "display_data"
    },
    {
     "data": {
      "text/plain": [
       "array([[21769,   137],\n",
       "       [   35,    21]], dtype=int64)"
      ]
     },
     "metadata": {},
     "output_type": "display_data"
    },
    {
     "name": "stdout",
     "output_type": "stream",
     "text": [
      "----- LOCAL 4 -----\n",
      "Treino: 0.9973683695630906\n",
      "Teste: 0.9905290957107732\n",
      "Precisão: 0.1323529411764706\n",
      "Recall: 0.46551724137931033\n",
      "F1: 0.20610687022900762\n"
     ]
    },
    {
     "data": {
      "text/plain": [
       "array([[0.99191928, 0.00808072],\n",
       "       [0.53448276, 0.46551724]])"
      ]
     },
     "metadata": {},
     "output_type": "display_data"
    },
    {
     "data": {
      "text/plain": [
       "array([[21727,   177],\n",
       "       [   31,    27]], dtype=int64)"
      ]
     },
     "metadata": {},
     "output_type": "display_data"
    },
    {
     "name": "stdout",
     "output_type": "stream",
     "text": [
      "----- LOCAL 5 -----\n",
      "Treino: 0.9955466379563472\n",
      "Teste: 0.9864311082779346\n",
      "Precisão: 0.11148648648648649\n",
      "Recall: 0.4852941176470588\n",
      "F1: 0.18131868131868134\n"
     ]
    },
    {
     "data": {
      "text/plain": [
       "array([[0.98798758, 0.01201242],\n",
       "       [0.51470588, 0.48529412]])"
      ]
     },
     "metadata": {},
     "output_type": "display_data"
    },
    {
     "data": {
      "text/plain": [
       "array([[21631,   263],\n",
       "       [   35,    33]], dtype=int64)"
      ]
     },
     "metadata": {},
     "output_type": "display_data"
    },
    {
     "name": "stdout",
     "output_type": "stream",
     "text": [
      "---------- CASE ----------\n",
      "['DirecaoDoVento', 'VelocidadeDoVento', 'TemperaturaInterna', 'PontoDeOrvalho', 'UmidadeRelativa', 'PressaoAtmosferica', 'RadiacaoSolar']\n",
      "--------------------------\n",
      "----- LOCAL 0 -----\n",
      "Treino: 0.9964760484783025\n",
      "Teste: 0.9903285735101268\n",
      "Precisão: 0.1447004608294931\n",
      "Recall: 0.5395189003436426\n",
      "F1: 0.22819767441860464\n"
     ]
    },
    {
     "data": {
      "text/plain": [
       "array([[0.99152643, 0.00847357],\n",
       "       [0.4604811 , 0.5395189 ]])"
      ]
     },
     "metadata": {},
     "output_type": "display_data"
    },
    {
     "data": {
      "text/plain": [
       "array([[108589,    928],\n",
       "       [   134,    157]], dtype=int64)"
      ]
     },
     "metadata": {},
     "output_type": "display_data"
    },
    {
     "name": "stdout",
     "output_type": "stream",
     "text": [
      "----- LOCAL 1 -----\n",
      "Treino: 0.9980140484063472\n",
      "Teste: 0.9928968217830799\n",
      "Precisão: 0.1643835616438356\n",
      "Recall: 0.41379310344827586\n",
      "F1: 0.23529411764705882\n"
     ]
    },
    {
     "data": {
      "text/plain": [
       "array([[0.99443024, 0.00556976],\n",
       "       [0.5862069 , 0.4137931 ]])"
      ]
     },
     "metadata": {},
     "output_type": "display_data"
    },
    {
     "data": {
      "text/plain": [
       "array([[21782,   122],\n",
       "       [   34,    24]], dtype=int64)"
      ]
     },
     "metadata": {},
     "output_type": "display_data"
    },
    {
     "name": "stdout",
     "output_type": "stream",
     "text": [
      "----- LOCAL 2 -----\n",
      "Treino: 0.9949825906654669\n",
      "Teste: 0.9876605045077862\n",
      "Precisão: 0.11578947368421053\n",
      "Recall: 0.6346153846153846\n",
      "F1: 0.19584569732937684\n"
     ]
    },
    {
     "data": {
      "text/plain": [
       "array([[0.9884984 , 0.0115016 ],\n",
       "       [0.36538462, 0.63461538]])"
      ]
     },
     "metadata": {},
     "output_type": "display_data"
    },
    {
     "data": {
      "text/plain": [
       "array([[21658,   252],\n",
       "       [   19,    33]], dtype=int64)"
      ]
     },
     "metadata": {},
     "output_type": "display_data"
    },
    {
     "name": "stdout",
     "output_type": "stream",
     "text": [
      "----- LOCAL 3 -----\n",
      "Treino: 0.997094558901215\n",
      "Teste: 0.9918950915217193\n",
      "Precisão: 0.17894736842105263\n",
      "Recall: 0.6071428571428571\n",
      "F1: 0.2764227642276423\n"
     ]
    },
    {
     "data": {
      "text/plain": [
       "array([[0.99287866, 0.00712134],\n",
       "       [0.39285714, 0.60714286]])"
      ]
     },
     "metadata": {},
     "output_type": "display_data"
    },
    {
     "data": {
      "text/plain": [
       "array([[21750,   156],\n",
       "       [   22,    34]], dtype=int64)"
      ]
     },
     "metadata": {},
     "output_type": "display_data"
    },
    {
     "name": "stdout",
     "output_type": "stream",
     "text": [
      "----- LOCAL 4 -----\n",
      "Treino: 0.9972020583458882\n",
      "Teste: 0.9914852927784354\n",
      "Precisão: 0.12716763005780346\n",
      "Recall: 0.3793103448275862\n",
      "F1: 0.1904761904761905\n"
     ]
    },
    {
     "data": {
      "text/plain": [
       "array([[0.99310628, 0.00689372],\n",
       "       [0.62068966, 0.37931034]])"
      ]
     },
     "metadata": {},
     "output_type": "display_data"
    },
    {
     "data": {
      "text/plain": [
       "array([[21753,   151],\n",
       "       [   36,    22]], dtype=int64)"
      ]
     },
     "metadata": {},
     "output_type": "display_data"
    },
    {
     "name": "stdout",
     "output_type": "stream",
     "text": [
      "----- LOCAL 5 -----\n",
      "Treino: 0.9949202309875698\n",
      "Teste: 0.9866132410527274\n",
      "Precisão: 0.11301369863013698\n",
      "Recall: 0.4852941176470588\n",
      "F1: 0.18333333333333335\n"
     ]
    },
    {
     "data": {
      "text/plain": [
       "array([[0.98817027, 0.01182973],\n",
       "       [0.51470588, 0.48529412]])"
      ]
     },
     "metadata": {},
     "output_type": "display_data"
    },
    {
     "data": {
      "text/plain": [
       "array([[21635,   259],\n",
       "       [   35,    33]], dtype=int64)"
      ]
     },
     "metadata": {},
     "output_type": "display_data"
    },
    {
     "name": "stdout",
     "output_type": "stream",
     "text": [
      "---------- CASE ----------\n",
      "['DirecaoDoVento', 'VelocidadeDoVento', 'TemperaturaInterna', 'PontoDeOrvalho', 'UmidadeRelativa', 'PressaoAtmosferica', 'RadiacaoSolar', 'TemperaturaDoAr']\n",
      "--------------------------\n",
      "----- LOCAL 0 -----\n",
      "Treino: 0.9876241014021453\n",
      "Teste: 0.9750018213609208\n",
      "Precisão: 0.078060522696011\n",
      "Recall: 0.7800687285223368\n",
      "F1: 0.1419193497968115\n"
     ]
    },
    {
     "data": {
      "text/plain": [
       "array([[0.97551978, 0.02448022],\n",
       "       [0.21993127, 0.78006873]])"
      ]
     },
     "metadata": {},
     "output_type": "display_data"
    },
    {
     "data": {
      "text/plain": [
       "array([[106836,   2681],\n",
       "       [    64,    227]], dtype=int64)"
      ]
     },
     "metadata": {},
     "output_type": "display_data"
    },
    {
     "name": "stdout",
     "output_type": "stream",
     "text": [
      "----- LOCAL 1 -----\n",
      "Treino: 0.9939149660529457\n",
      "Teste: 0.9848829796921956\n",
      "Precisão: 0.10632183908045977\n",
      "Recall: 0.6379310344827587\n",
      "F1: 0.18226600985221672\n"
     ]
    },
    {
     "data": {
      "text/plain": [
       "array([[0.98580168, 0.01419832],\n",
       "       [0.36206897, 0.63793103]])"
      ]
     },
     "metadata": {},
     "output_type": "display_data"
    },
    {
     "data": {
      "text/plain": [
       "array([[21593,   311],\n",
       "       [   21,    37]], dtype=int64)"
      ]
     },
     "metadata": {},
     "output_type": "display_data"
    },
    {
     "name": "stdout",
     "output_type": "stream",
     "text": [
      "----- LOCAL 2 -----\n",
      "Treino: 0.9876080748014553\n",
      "Teste: 0.9734541480739459\n",
      "Precisão: 0.06688417618270799\n",
      "Recall: 0.7884615384615384\n",
      "F1: 0.12330827067669171\n"
     ]
    },
    {
     "data": {
      "text/plain": [
       "array([[0.9738932 , 0.0261068 ],\n",
       "       [0.21153846, 0.78846154]])"
      ]
     },
     "metadata": {},
     "output_type": "display_data"
    },
    {
     "data": {
      "text/plain": [
       "array([[21338,   572],\n",
       "       [   11,    41]], dtype=int64)"
      ]
     },
     "metadata": {},
     "output_type": "display_data"
    },
    {
     "name": "stdout",
     "output_type": "stream",
     "text": [
      "----- LOCAL 3 -----\n",
      "Treino: 0.9906184578662127\n",
      "Teste: 0.9804207267097714\n",
      "Precisão: 0.09347826086956522\n",
      "Recall: 0.7678571428571429\n",
      "F1: 0.16666666666666669\n"
     ]
    },
    {
     "data": {
      "text/plain": [
       "array([[0.98096412, 0.01903588],\n",
       "       [0.23214286, 0.76785714]])"
      ]
     },
     "metadata": {},
     "output_type": "display_data"
    },
    {
     "data": {
      "text/plain": [
       "array([[21489,   417],\n",
       "       [   13,    43]], dtype=int64)"
      ]
     },
     "metadata": {},
     "output_type": "display_data"
    },
    {
     "name": "stdout",
     "output_type": "stream",
     "text": [
      "----- LOCAL 4 -----\n",
      "Treino: 0.9866755365982508\n",
      "Teste: 0.9705855568709589\n",
      "Precisão: 0.0625\n",
      "Recall: 0.7241379310344828\n",
      "F1: 0.11506849315068493\n"
     ]
    },
    {
     "data": {
      "text/plain": [
       "array([[0.97123813, 0.02876187],\n",
       "       [0.27586207, 0.72413793]])"
      ]
     },
     "metadata": {},
     "output_type": "display_data"
    },
    {
     "data": {
      "text/plain": [
       "array([[21274,   630],\n",
       "       [   16,    42]], dtype=int64)"
      ]
     },
     "metadata": {},
     "output_type": "display_data"
    },
    {
     "name": "stdout",
     "output_type": "stream",
     "text": [
      "----- LOCAL 5 -----\n",
      "Treino: 0.9800724283057649\n",
      "Teste: 0.9583826609598397\n",
      "Precisão: 0.060291060291060294\n",
      "Recall: 0.8529411764705882\n",
      "F1: 0.11262135922330097\n"
     ]
    },
    {
     "data": {
      "text/plain": [
       "array([[0.95871015, 0.04128985],\n",
       "       [0.14705882, 0.85294118]])"
      ]
     },
     "metadata": {},
     "output_type": "display_data"
    },
    {
     "data": {
      "text/plain": [
       "array([[20990,   904],\n",
       "       [   10,    58]], dtype=int64)"
      ]
     },
     "metadata": {},
     "output_type": "display_data"
    },
    {
     "name": "stdout",
     "output_type": "stream",
     "text": [
      "---------- CASE ----------\n",
      "['DirecaoDoVento', 'VelocidadeDoVento', 'TemperaturaInterna', 'PontoDeOrvalho', 'UmidadeRelativa', 'PressaoAtmosferica', 'RadiacaoSolar', 'TemperaturaDoAr', 'Local']\n",
      "--------------------------\n",
      "----- LOCAL 0 -----\n",
      "Treino: 0.9876241014021453\n",
      "Teste: 0.9750018213609208\n",
      "Precisão: 0.078060522696011\n",
      "Recall: 0.7800687285223368\n",
      "F1: 0.1419193497968115\n"
     ]
    },
    {
     "data": {
      "text/plain": [
       "array([[0.97551978, 0.02448022],\n",
       "       [0.21993127, 0.78006873]])"
      ]
     },
     "metadata": {},
     "output_type": "display_data"
    },
    {
     "data": {
      "text/plain": [
       "array([[106836,   2681],\n",
       "       [    64,    227]], dtype=int64)"
      ]
     },
     "metadata": {},
     "output_type": "display_data"
    },
    {
     "name": "stdout",
     "output_type": "stream",
     "text": [
      "----- LOCAL 1 -----\n",
      "Treino: 0.9939149660529457\n",
      "Teste: 0.9848829796921956\n",
      "Precisão: 0.10632183908045977\n",
      "Recall: 0.6379310344827587\n",
      "F1: 0.18226600985221672\n"
     ]
    },
    {
     "data": {
      "text/plain": [
       "array([[0.98580168, 0.01419832],\n",
       "       [0.36206897, 0.63793103]])"
      ]
     },
     "metadata": {},
     "output_type": "display_data"
    },
    {
     "data": {
      "text/plain": [
       "array([[21593,   311],\n",
       "       [   21,    37]], dtype=int64)"
      ]
     },
     "metadata": {},
     "output_type": "display_data"
    },
    {
     "name": "stdout",
     "output_type": "stream",
     "text": [
      "----- LOCAL 2 -----\n",
      "Treino: 0.9876080748014553\n",
      "Teste: 0.9734541480739459\n",
      "Precisão: 0.06688417618270799\n",
      "Recall: 0.7884615384615384\n",
      "F1: 0.12330827067669171\n"
     ]
    },
    {
     "data": {
      "text/plain": [
       "array([[0.9738932 , 0.0261068 ],\n",
       "       [0.21153846, 0.78846154]])"
      ]
     },
     "metadata": {},
     "output_type": "display_data"
    },
    {
     "data": {
      "text/plain": [
       "array([[21338,   572],\n",
       "       [   11,    41]], dtype=int64)"
      ]
     },
     "metadata": {},
     "output_type": "display_data"
    },
    {
     "name": "stdout",
     "output_type": "stream",
     "text": [
      "----- LOCAL 3 -----\n",
      "Treino: 0.9906184578662127\n",
      "Teste: 0.9804207267097714\n",
      "Precisão: 0.09347826086956522\n",
      "Recall: 0.7678571428571429\n",
      "F1: 0.16666666666666669\n"
     ]
    },
    {
     "data": {
      "text/plain": [
       "array([[0.98096412, 0.01903588],\n",
       "       [0.23214286, 0.76785714]])"
      ]
     },
     "metadata": {},
     "output_type": "display_data"
    },
    {
     "data": {
      "text/plain": [
       "array([[21489,   417],\n",
       "       [   13,    43]], dtype=int64)"
      ]
     },
     "metadata": {},
     "output_type": "display_data"
    },
    {
     "name": "stdout",
     "output_type": "stream",
     "text": [
      "----- LOCAL 4 -----\n",
      "Treino: 0.9866755365982508\n",
      "Teste: 0.9705855568709589\n",
      "Precisão: 0.0625\n",
      "Recall: 0.7241379310344828\n",
      "F1: 0.11506849315068493\n"
     ]
    },
    {
     "data": {
      "text/plain": [
       "array([[0.97123813, 0.02876187],\n",
       "       [0.27586207, 0.72413793]])"
      ]
     },
     "metadata": {},
     "output_type": "display_data"
    },
    {
     "data": {
      "text/plain": [
       "array([[21274,   630],\n",
       "       [   16,    42]], dtype=int64)"
      ]
     },
     "metadata": {},
     "output_type": "display_data"
    },
    {
     "name": "stdout",
     "output_type": "stream",
     "text": [
      "----- LOCAL 5 -----\n",
      "Treino: 0.9800724283057649\n",
      "Teste: 0.9583826609598397\n",
      "Precisão: 0.060291060291060294\n",
      "Recall: 0.8529411764705882\n",
      "F1: 0.11262135922330097\n"
     ]
    },
    {
     "data": {
      "text/plain": [
       "array([[0.95871015, 0.04128985],\n",
       "       [0.14705882, 0.85294118]])"
      ]
     },
     "metadata": {},
     "output_type": "display_data"
    },
    {
     "data": {
      "text/plain": [
       "array([[20990,   904],\n",
       "       [   10,    58]], dtype=int64)"
      ]
     },
     "metadata": {},
     "output_type": "display_data"
    },
    {
     "name": "stdout",
     "output_type": "stream",
     "text": [
      "---------- CASE ----------\n",
      "['DirecaoDoVento', 'VelocidadeDoVento', 'TemperaturaInterna', 'PontoDeOrvalho', 'UmidadeRelativa', 'PressaoAtmosferica', 'RadiacaoSolar', 'TemperaturaDoAr', 'PrecSum']\n",
      "--------------------------\n",
      "----- LOCAL 0 -----\n",
      "Treino: 0.9394216884443348\n",
      "Teste: 0.8769033221623197\n",
      "Precisão: 0.015673062838728578\n",
      "Recall: 0.7353951890034365\n",
      "F1: 0.030692004302617426\n"
     ]
    },
    {
     "data": {
      "text/plain": [
       "array([[0.87727933, 0.12272067],\n",
       "       [0.26460481, 0.73539519]])"
      ]
     },
     "metadata": {},
     "output_type": "display_data"
    },
    {
     "data": {
      "text/plain": [
       "array([[96077, 13440],\n",
       "       [   77,   214]], dtype=int64)"
      ]
     },
     "metadata": {},
     "output_type": "display_data"
    },
    {
     "name": "stdout",
     "output_type": "stream",
     "text": [
      "----- LOCAL 1 -----\n",
      "Treino: 0.9419671682091216\n",
      "Teste: 0.8831618249704034\n",
      "Precisão: 0.012441679626749611\n",
      "Recall: 0.5517241379310345\n",
      "F1: 0.024334600760456272\n"
     ]
    },
    {
     "data": {
      "text/plain": [
       "array([[0.88403944, 0.11596056],\n",
       "       [0.44827586, 0.55172414]])"
      ]
     },
     "metadata": {},
     "output_type": "display_data"
    },
    {
     "data": {
      "text/plain": [
       "array([[19364,  2540],\n",
       "       [   26,    32]], dtype=int64)"
      ]
     },
     "metadata": {},
     "output_type": "display_data"
    },
    {
     "name": "stdout",
     "output_type": "stream",
     "text": [
      "----- LOCAL 2 -----\n",
      "Treino: 0.9436446148429247\n",
      "Teste: 0.8851197522994263\n",
      "Precisão: 0.01643835616438356\n",
      "Recall: 0.8076923076923077\n",
      "F1: 0.03222094361334867\n"
     ]
    },
    {
     "data": {
      "text/plain": [
       "array([[0.88530351, 0.11469649],\n",
       "       [0.19230769, 0.80769231]])"
      ]
     },
     "metadata": {},
     "output_type": "display_data"
    },
    {
     "data": {
      "text/plain": [
       "array([[19397,  2513],\n",
       "       [   10,    42]], dtype=int64)"
      ]
     },
     "metadata": {},
     "output_type": "display_data"
    },
    {
     "name": "stdout",
     "output_type": "stream",
     "text": [
      "----- LOCAL 3 -----\n",
      "Treino: 0.9352389896499775\n",
      "Teste: 0.8714142609962663\n",
      "Precisão: 0.016083916083916083\n",
      "Recall: 0.8214285714285714\n",
      "F1: 0.03155006858710562\n"
     ]
    },
    {
     "data": {
      "text/plain": [
       "array([[0.87154204, 0.12845796],\n",
       "       [0.17857143, 0.82142857]])"
      ]
     },
     "metadata": {},
     "output_type": "display_data"
    },
    {
     "data": {
      "text/plain": [
       "array([[19092,  2814],\n",
       "       [   10,    46]], dtype=int64)"
      ]
     },
     "metadata": {},
     "output_type": "display_data"
    },
    {
     "name": "stdout",
     "output_type": "stream",
     "text": [
      "----- LOCAL 4 -----\n",
      "Treino: 0.9319395801130916\n",
      "Teste: 0.8603496949276023\n",
      "Precisão: 0.012949174490126255\n",
      "Recall: 0.6896551724137931\n",
      "F1: 0.02542103590721322\n"
     ]
    },
    {
     "data": {
      "text/plain": [
       "array([[0.86080168, 0.13919832],\n",
       "       [0.31034483, 0.68965517]])"
      ]
     },
     "metadata": {},
     "output_type": "display_data"
    },
    {
     "data": {
      "text/plain": [
       "array([[18855,  3049],\n",
       "       [   18,    40]], dtype=int64)"
      ]
     },
     "metadata": {},
     "output_type": "display_data"
    },
    {
     "name": "stdout",
     "output_type": "stream",
     "text": [
      "----- LOCAL 5 -----\n",
      "Treino: 0.9353430556914946\n",
      "Teste: 0.86827247063109\n",
      "Precisão: 0.018411183088987385\n",
      "Recall: 0.7941176470588235\n",
      "F1: 0.03598800399866711\n"
     ]
    },
    {
     "data": {
      "text/plain": [
       "array([[0.86850279, 0.13149721],\n",
       "       [0.20588235, 0.79411765]])"
      ]
     },
     "metadata": {},
     "output_type": "display_data"
    },
    {
     "data": {
      "text/plain": [
       "array([[19015,  2879],\n",
       "       [   14,    54]], dtype=int64)"
      ]
     },
     "metadata": {},
     "output_type": "display_data"
    },
    {
     "name": "stdout",
     "output_type": "stream",
     "text": [
      "---------- CASE ----------\n",
      "['DirecaoDoVento', 'VelocidadeDoVento', 'TemperaturaInterna', 'PontoDeOrvalho', 'UmidadeRelativa', 'PressaoAtmosferica', 'RadiacaoSolar', 'TemperaturaDoAr', 'Precipitacao']\n",
      "--------------------------\n",
      "----- LOCAL 0 -----\n",
      "Treino: 0.9860078970951369\n",
      "Teste: 0.9724428092670844\n",
      "Precisão: 0.07727975270479134\n",
      "Recall: 0.8591065292096219\n",
      "F1: 0.14180374361883155\n"
     ]
    },
    {
     "data": {
      "text/plain": [
       "array([[0.97274396, 0.02725604],\n",
       "       [0.14089347, 0.85910653]])"
      ]
     },
     "metadata": {},
     "output_type": "display_data"
    },
    {
     "data": {
      "text/plain": [
       "array([[106532,   2985],\n",
       "       [    41,    250]], dtype=int64)"
      ]
     },
     "metadata": {},
     "output_type": "display_data"
    },
    {
     "name": "stdout",
     "output_type": "stream",
     "text": [
      "----- LOCAL 1 -----\n",
      "Treino: 0.9923007689448042\n",
      "Teste: 0.9816045897459248\n",
      "Precisão: 0.10681818181818181\n",
      "Recall: 0.8103448275862069\n",
      "F1: 0.18875502008032127\n"
     ]
    },
    {
     "data": {
      "text/plain": [
       "array([[0.98205807, 0.01794193],\n",
       "       [0.18965517, 0.81034483]])"
      ]
     },
     "metadata": {},
     "output_type": "display_data"
    },
    {
     "data": {
      "text/plain": [
       "array([[21511,   393],\n",
       "       [   11,    47]], dtype=int64)"
      ]
     },
     "metadata": {},
     "output_type": "display_data"
    },
    {
     "name": "stdout",
     "output_type": "stream",
     "text": [
      "----- LOCAL 2 -----\n",
      "Treino: 0.986444192324244\n",
      "Teste: 0.971268554776432\n",
      "Precisão: 0.06596701649175413\n",
      "Recall: 0.8461538461538461\n",
      "F1: 0.12239221140472879\n"
     ]
    },
    {
     "data": {
      "text/plain": [
       "array([[0.9715655 , 0.0284345 ],\n",
       "       [0.15384615, 0.84615385]])"
      ]
     },
     "metadata": {},
     "output_type": "display_data"
    },
    {
     "data": {
      "text/plain": [
       "array([[21287,   623],\n",
       "       [    8,    44]], dtype=int64)"
      ]
     },
     "metadata": {},
     "output_type": "display_data"
    },
    {
     "name": "stdout",
     "output_type": "stream",
     "text": [
      "----- LOCAL 3 -----\n",
      "Treino: 0.9893956291209328\n",
      "Teste: 0.9780530006374647\n",
      "Precisão: 0.09195402298850575\n",
      "Recall: 0.8571428571428571\n",
      "F1: 0.1660899653979239\n"
     ]
    },
    {
     "data": {
      "text/plain": [
       "array([[0.97836209, 0.02163791],\n",
       "       [0.14285714, 0.85714286]])"
      ]
     },
     "metadata": {},
     "output_type": "display_data"
    },
    {
     "data": {
      "text/plain": [
       "array([[21432,   474],\n",
       "       [    8,    48]], dtype=int64)"
      ]
     },
     "metadata": {},
     "output_type": "display_data"
    },
    {
     "name": "stdout",
     "output_type": "stream",
     "text": [
      "----- LOCAL 4 -----\n",
      "Treino: 0.9847776321195876\n",
      "Teste: 0.966851834987706\n",
      "Precisão: 0.06718346253229975\n",
      "Recall: 0.896551724137931\n",
      "F1: 0.125\n"
     ]
    },
    {
     "data": {
      "text/plain": [
       "array([[0.96703798, 0.03296202],\n",
       "       [0.10344828, 0.89655172]])"
      ]
     },
     "metadata": {},
     "output_type": "display_data"
    },
    {
     "data": {
      "text/plain": [
       "array([[21182,   722],\n",
       "       [    6,    52]], dtype=int64)"
      ]
     },
     "metadata": {},
     "output_type": "display_data"
    },
    {
     "name": "stdout",
     "output_type": "stream",
     "text": [
      "----- LOCAL 5 -----\n",
      "Treino: 0.979553685034746\n",
      "Teste: 0.9579273290228577\n",
      "Precisão: 0.06592292089249494\n",
      "Recall: 0.9558823529411765\n",
      "F1: 0.12333965844402278\n"
     ]
    },
    {
     "data": {
      "text/plain": [
       "array([[0.95793368, 0.04206632],\n",
       "       [0.04411765, 0.95588235]])"
      ]
     },
     "metadata": {},
     "output_type": "display_data"
    },
    {
     "data": {
      "text/plain": [
       "array([[20973,   921],\n",
       "       [    3,    65]], dtype=int64)"
      ]
     },
     "metadata": {},
     "output_type": "display_data"
    }
   ],
   "source": [
    "# Testar continuamente removendo colunas\n",
    "test_cases = [\n",
    "    [],\n",
    "    ['DirecaoDoVento', 'VelocidadeDoVento'],\n",
    "    ['DirecaoDoVento', 'VelocidadeDoVento', 'TemperaturaInterna'],\n",
    "    ['DirecaoDoVento', 'VelocidadeDoVento', 'TemperaturaInterna', 'PontoDeOrvalho'],\n",
    "    ['DirecaoDoVento', 'VelocidadeDoVento', 'TemperaturaInterna', 'PontoDeOrvalho', 'UmidadeRelativa'],\n",
    "    ['DirecaoDoVento', 'VelocidadeDoVento', 'TemperaturaInterna', 'PontoDeOrvalho', 'UmidadeRelativa', 'PressaoAtmosferica'],\n",
    "    ['DirecaoDoVento', 'VelocidadeDoVento', 'TemperaturaInterna', 'PontoDeOrvalho', 'UmidadeRelativa', 'PressaoAtmosferica', 'RadiacaoSolar'],\n",
    "    ['DirecaoDoVento', 'VelocidadeDoVento', 'TemperaturaInterna', 'PontoDeOrvalho', 'UmidadeRelativa', 'PressaoAtmosferica', 'RadiacaoSolar', 'TemperaturaDoAr'],\n",
    "    ['DirecaoDoVento', 'VelocidadeDoVento', 'TemperaturaInterna', 'PontoDeOrvalho', 'UmidadeRelativa', 'PressaoAtmosferica', 'RadiacaoSolar', 'TemperaturaDoAr', 'Local'],\n",
    "    ['DirecaoDoVento', 'VelocidadeDoVento', 'TemperaturaInterna', 'PontoDeOrvalho', 'UmidadeRelativa', 'PressaoAtmosferica', 'RadiacaoSolar', 'TemperaturaDoAr', 'PrecSum'],\n",
    "    ['DirecaoDoVento', 'VelocidadeDoVento', 'TemperaturaInterna', 'PontoDeOrvalho', 'UmidadeRelativa', 'PressaoAtmosferica', 'RadiacaoSolar', 'TemperaturaDoAr', 'Precipitacao']\n",
    "]\n",
    "\n",
    "# Salvar todos os resultados em um dataframe\n",
    "df_training_result = pd.DataFrame(columns = ['Removed_Cols', 'Local', 'Features', 'Train_Acc', 'Test_Acc', 'Precision', 'Recall', 'F1', 'Ver_Pos'])\n",
    "label = 'Label'\n",
    "\n",
    "for case in test_cases:\n",
    "    print(f'---------- CASE ----------')\n",
    "    print(case)\n",
    "    print(f'--------------------------')\n",
    "    for l in range(6):\n",
    "        if l != 0:\n",
    "            df_train = df_f_ohe[df_f_ohe['Local'] == l].drop(columns = [c for c in df_f_ohe.columns if 'Local' in c])\n",
    "        else:\n",
    "            df_train = df_f_ohe.copy()\n",
    "\n",
    "        cols_rem = ['Label', 'Label_Old', 'Data', 'Data_Hora'] + cols_dummies\n",
    "        cols_rem = cols_rem + case\n",
    "            \n",
    "        print(f'----- LOCAL {l} -----')\n",
    "        model, training_res, y_treino_pred, y_teste_pred = trainXGB(df_train, cols_rem, label)\n",
    "        \n",
    "        df_training_result = df_training_result.append(\n",
    "            {**{'Model': model, 'Removed_Cols': case, 'Local': l}, **training_res},\n",
    "            ignore_index=True\n",
    "        )"
   ]
  },
  {
   "cell_type": "code",
   "execution_count": 19,
   "metadata": {},
   "outputs": [
    {
     "data": {
      "text/html": [
       "<div>\n",
       "<style scoped>\n",
       "    .dataframe tbody tr th:only-of-type {\n",
       "        vertical-align: middle;\n",
       "    }\n",
       "\n",
       "    .dataframe tbody tr th {\n",
       "        vertical-align: top;\n",
       "    }\n",
       "\n",
       "    .dataframe thead th {\n",
       "        text-align: right;\n",
       "    }\n",
       "</style>\n",
       "<table border=\"1\" class=\"dataframe\">\n",
       "  <thead>\n",
       "    <tr style=\"text-align: right;\">\n",
       "      <th></th>\n",
       "      <th>Removed_Cols</th>\n",
       "      <th>Local</th>\n",
       "      <th>Features</th>\n",
       "      <th>Train_Acc</th>\n",
       "      <th>Test_Acc</th>\n",
       "      <th>Precision</th>\n",
       "      <th>Recall</th>\n",
       "      <th>F1</th>\n",
       "      <th>Ver_Pos</th>\n",
       "      <th>Model</th>\n",
       "    </tr>\n",
       "  </thead>\n",
       "  <tbody>\n",
       "    <tr>\n",
       "      <th>0</th>\n",
       "      <td>[]</td>\n",
       "      <td>0</td>\n",
       "      <td>[UmidadeRelativa, PressaoAtmosferica, Temperat...</td>\n",
       "      <td>0.996846</td>\n",
       "      <td>0.989819</td>\n",
       "      <td>0.108057</td>\n",
       "      <td>0.391753</td>\n",
       "      <td>0.169391</td>\n",
       "      <td>0.391753</td>\n",
       "      <td>&lt;xgboost.core.Booster object at 0x000001D8523D...</td>\n",
       "    </tr>\n",
       "    <tr>\n",
       "      <th>1</th>\n",
       "      <td>[]</td>\n",
       "      <td>1</td>\n",
       "      <td>[UmidadeRelativa, PressaoAtmosferica, Temperat...</td>\n",
       "      <td>0.997975</td>\n",
       "      <td>0.991986</td>\n",
       "      <td>0.131250</td>\n",
       "      <td>0.362069</td>\n",
       "      <td>0.192661</td>\n",
       "      <td>0.362069</td>\n",
       "      <td>&lt;xgboost.core.Booster object at 0x000001D8523D...</td>\n",
       "    </tr>\n",
       "    <tr>\n",
       "      <th>2</th>\n",
       "      <td>[]</td>\n",
       "      <td>2</td>\n",
       "      <td>[UmidadeRelativa, PressaoAtmosferica, Temperat...</td>\n",
       "      <td>0.995990</td>\n",
       "      <td>0.988708</td>\n",
       "      <td>0.098361</td>\n",
       "      <td>0.461538</td>\n",
       "      <td>0.162162</td>\n",
       "      <td>0.461538</td>\n",
       "      <td>&lt;xgboost.core.Booster object at 0x000001D8523D...</td>\n",
       "    </tr>\n",
       "    <tr>\n",
       "      <th>3</th>\n",
       "      <td>[]</td>\n",
       "      <td>3</td>\n",
       "      <td>[UmidadeRelativa, PressaoAtmosferica, Temperat...</td>\n",
       "      <td>0.998298</td>\n",
       "      <td>0.993079</td>\n",
       "      <td>0.136364</td>\n",
       "      <td>0.321429</td>\n",
       "      <td>0.191489</td>\n",
       "      <td>0.321429</td>\n",
       "      <td>&lt;xgboost.core.Booster object at 0x000001D8523D...</td>\n",
       "    </tr>\n",
       "    <tr>\n",
       "      <th>4</th>\n",
       "      <td>[]</td>\n",
       "      <td>4</td>\n",
       "      <td>[UmidadeRelativa, PressaoAtmosferica, Temperat...</td>\n",
       "      <td>0.997877</td>\n",
       "      <td>0.992214</td>\n",
       "      <td>0.125828</td>\n",
       "      <td>0.327586</td>\n",
       "      <td>0.181818</td>\n",
       "      <td>0.327586</td>\n",
       "      <td>&lt;xgboost.core.Booster object at 0x000001D8523D...</td>\n",
       "    </tr>\n",
       "    <tr>\n",
       "      <th>...</th>\n",
       "      <td>...</td>\n",
       "      <td>...</td>\n",
       "      <td>...</td>\n",
       "      <td>...</td>\n",
       "      <td>...</td>\n",
       "      <td>...</td>\n",
       "      <td>...</td>\n",
       "      <td>...</td>\n",
       "      <td>...</td>\n",
       "      <td>...</td>\n",
       "    </tr>\n",
       "    <tr>\n",
       "      <th>61</th>\n",
       "      <td>[DirecaoDoVento, VelocidadeDoVento, Temperatur...</td>\n",
       "      <td>1</td>\n",
       "      <td>[Dia, PrecSum, Mes_1, Mes_2, Mes_3, Mes_4, Mes...</td>\n",
       "      <td>0.992301</td>\n",
       "      <td>0.981605</td>\n",
       "      <td>0.106818</td>\n",
       "      <td>0.810345</td>\n",
       "      <td>0.188755</td>\n",
       "      <td>0.810345</td>\n",
       "      <td>&lt;xgboost.core.Booster object at 0x000001D83E6B...</td>\n",
       "    </tr>\n",
       "    <tr>\n",
       "      <th>62</th>\n",
       "      <td>[DirecaoDoVento, VelocidadeDoVento, Temperatur...</td>\n",
       "      <td>2</td>\n",
       "      <td>[Dia, PrecSum, Mes_1, Mes_2, Mes_3, Mes_4, Mes...</td>\n",
       "      <td>0.986444</td>\n",
       "      <td>0.971269</td>\n",
       "      <td>0.065967</td>\n",
       "      <td>0.846154</td>\n",
       "      <td>0.122392</td>\n",
       "      <td>0.846154</td>\n",
       "      <td>&lt;xgboost.core.Booster object at 0x000001D83E6B...</td>\n",
       "    </tr>\n",
       "    <tr>\n",
       "      <th>63</th>\n",
       "      <td>[DirecaoDoVento, VelocidadeDoVento, Temperatur...</td>\n",
       "      <td>3</td>\n",
       "      <td>[Dia, PrecSum, Mes_1, Mes_2, Mes_3, Mes_4, Mes...</td>\n",
       "      <td>0.989396</td>\n",
       "      <td>0.978053</td>\n",
       "      <td>0.091954</td>\n",
       "      <td>0.857143</td>\n",
       "      <td>0.166090</td>\n",
       "      <td>0.857143</td>\n",
       "      <td>&lt;xgboost.core.Booster object at 0x000001D83E6B...</td>\n",
       "    </tr>\n",
       "    <tr>\n",
       "      <th>64</th>\n",
       "      <td>[DirecaoDoVento, VelocidadeDoVento, Temperatur...</td>\n",
       "      <td>4</td>\n",
       "      <td>[Dia, PrecSum, Mes_1, Mes_2, Mes_3, Mes_4, Mes...</td>\n",
       "      <td>0.984778</td>\n",
       "      <td>0.966852</td>\n",
       "      <td>0.067183</td>\n",
       "      <td>0.896552</td>\n",
       "      <td>0.125000</td>\n",
       "      <td>0.896552</td>\n",
       "      <td>&lt;xgboost.core.Booster object at 0x000001D83E6B...</td>\n",
       "    </tr>\n",
       "    <tr>\n",
       "      <th>65</th>\n",
       "      <td>[DirecaoDoVento, VelocidadeDoVento, Temperatur...</td>\n",
       "      <td>5</td>\n",
       "      <td>[Dia, PrecSum, Mes_1, Mes_2, Mes_3, Mes_4, Mes...</td>\n",
       "      <td>0.979554</td>\n",
       "      <td>0.957927</td>\n",
       "      <td>0.065923</td>\n",
       "      <td>0.955882</td>\n",
       "      <td>0.123340</td>\n",
       "      <td>0.955882</td>\n",
       "      <td>&lt;xgboost.core.Booster object at 0x000001D83E6B...</td>\n",
       "    </tr>\n",
       "  </tbody>\n",
       "</table>\n",
       "<p>66 rows × 10 columns</p>\n",
       "</div>"
      ],
      "text/plain": [
       "                                         Removed_Cols Local  \\\n",
       "0                                                  []     0   \n",
       "1                                                  []     1   \n",
       "2                                                  []     2   \n",
       "3                                                  []     3   \n",
       "4                                                  []     4   \n",
       "..                                                ...   ...   \n",
       "61  [DirecaoDoVento, VelocidadeDoVento, Temperatur...     1   \n",
       "62  [DirecaoDoVento, VelocidadeDoVento, Temperatur...     2   \n",
       "63  [DirecaoDoVento, VelocidadeDoVento, Temperatur...     3   \n",
       "64  [DirecaoDoVento, VelocidadeDoVento, Temperatur...     4   \n",
       "65  [DirecaoDoVento, VelocidadeDoVento, Temperatur...     5   \n",
       "\n",
       "                                             Features  Train_Acc  Test_Acc  \\\n",
       "0   [UmidadeRelativa, PressaoAtmosferica, Temperat...   0.996846  0.989819   \n",
       "1   [UmidadeRelativa, PressaoAtmosferica, Temperat...   0.997975  0.991986   \n",
       "2   [UmidadeRelativa, PressaoAtmosferica, Temperat...   0.995990  0.988708   \n",
       "3   [UmidadeRelativa, PressaoAtmosferica, Temperat...   0.998298  0.993079   \n",
       "4   [UmidadeRelativa, PressaoAtmosferica, Temperat...   0.997877  0.992214   \n",
       "..                                                ...        ...       ...   \n",
       "61  [Dia, PrecSum, Mes_1, Mes_2, Mes_3, Mes_4, Mes...   0.992301  0.981605   \n",
       "62  [Dia, PrecSum, Mes_1, Mes_2, Mes_3, Mes_4, Mes...   0.986444  0.971269   \n",
       "63  [Dia, PrecSum, Mes_1, Mes_2, Mes_3, Mes_4, Mes...   0.989396  0.978053   \n",
       "64  [Dia, PrecSum, Mes_1, Mes_2, Mes_3, Mes_4, Mes...   0.984778  0.966852   \n",
       "65  [Dia, PrecSum, Mes_1, Mes_2, Mes_3, Mes_4, Mes...   0.979554  0.957927   \n",
       "\n",
       "    Precision    Recall        F1   Ver_Pos  \\\n",
       "0    0.108057  0.391753  0.169391  0.391753   \n",
       "1    0.131250  0.362069  0.192661  0.362069   \n",
       "2    0.098361  0.461538  0.162162  0.461538   \n",
       "3    0.136364  0.321429  0.191489  0.321429   \n",
       "4    0.125828  0.327586  0.181818  0.327586   \n",
       "..        ...       ...       ...       ...   \n",
       "61   0.106818  0.810345  0.188755  0.810345   \n",
       "62   0.065967  0.846154  0.122392  0.846154   \n",
       "63   0.091954  0.857143  0.166090  0.857143   \n",
       "64   0.067183  0.896552  0.125000  0.896552   \n",
       "65   0.065923  0.955882  0.123340  0.955882   \n",
       "\n",
       "                                                Model  \n",
       "0   <xgboost.core.Booster object at 0x000001D8523D...  \n",
       "1   <xgboost.core.Booster object at 0x000001D8523D...  \n",
       "2   <xgboost.core.Booster object at 0x000001D8523D...  \n",
       "3   <xgboost.core.Booster object at 0x000001D8523D...  \n",
       "4   <xgboost.core.Booster object at 0x000001D8523D...  \n",
       "..                                                ...  \n",
       "61  <xgboost.core.Booster object at 0x000001D83E6B...  \n",
       "62  <xgboost.core.Booster object at 0x000001D83E6B...  \n",
       "63  <xgboost.core.Booster object at 0x000001D83E6B...  \n",
       "64  <xgboost.core.Booster object at 0x000001D83E6B...  \n",
       "65  <xgboost.core.Booster object at 0x000001D83E6B...  \n",
       "\n",
       "[66 rows x 10 columns]"
      ]
     },
     "execution_count": 19,
     "metadata": {},
     "output_type": "execute_result"
    }
   ],
   "source": [
    "#df_training_result.to_csv('../../../data/analysis/training_test_shift.csv', index=False, sep=';', decimal=',')\n",
    "df_training_result"
   ]
  },
  {
   "cell_type": "markdown",
   "metadata": {},
   "source": [
    "### Melhores modelos para cada local"
   ]
  },
  {
   "cell_type": "code",
   "execution_count": 20,
   "metadata": {},
   "outputs": [
    {
     "data": {
      "text/html": [
       "<div>\n",
       "<style scoped>\n",
       "    .dataframe tbody tr th:only-of-type {\n",
       "        vertical-align: middle;\n",
       "    }\n",
       "\n",
       "    .dataframe tbody tr th {\n",
       "        vertical-align: top;\n",
       "    }\n",
       "\n",
       "    .dataframe thead th {\n",
       "        text-align: right;\n",
       "    }\n",
       "</style>\n",
       "<table border=\"1\" class=\"dataframe\">\n",
       "  <thead>\n",
       "    <tr style=\"text-align: right;\">\n",
       "      <th></th>\n",
       "      <th>Removed_Cols</th>\n",
       "      <th>Local</th>\n",
       "      <th>Features</th>\n",
       "      <th>Train_Acc</th>\n",
       "      <th>Test_Acc</th>\n",
       "      <th>Precision</th>\n",
       "      <th>Recall</th>\n",
       "      <th>F1</th>\n",
       "      <th>Ver_Pos</th>\n",
       "      <th>Model</th>\n",
       "    </tr>\n",
       "  </thead>\n",
       "  <tbody>\n",
       "    <tr>\n",
       "      <th>0</th>\n",
       "      <td>[DirecaoDoVento, VelocidadeDoVento, Temperatur...</td>\n",
       "      <td>0</td>\n",
       "      <td>[UmidadeRelativa, PressaoAtmosferica, Temperat...</td>\n",
       "      <td>0.997167</td>\n",
       "      <td>0.991449</td>\n",
       "      <td>0.150862</td>\n",
       "      <td>0.481100</td>\n",
       "      <td>0.229696</td>\n",
       "      <td>0.481100</td>\n",
       "      <td>&lt;xgboost.core.Booster object at 0x000001D8523D...</td>\n",
       "    </tr>\n",
       "    <tr>\n",
       "      <th>0</th>\n",
       "      <td>[DirecaoDoVento, VelocidadeDoVento, Temperatur...</td>\n",
       "      <td>1</td>\n",
       "      <td>[TemperaturaDoAr, Precipitacao, Dia, PrecSum, ...</td>\n",
       "      <td>0.998014</td>\n",
       "      <td>0.992897</td>\n",
       "      <td>0.164384</td>\n",
       "      <td>0.413793</td>\n",
       "      <td>0.235294</td>\n",
       "      <td>0.413793</td>\n",
       "      <td>&lt;xgboost.core.Booster object at 0x000001D83E6B...</td>\n",
       "    </tr>\n",
       "    <tr>\n",
       "      <th>0</th>\n",
       "      <td>[DirecaoDoVento, VelocidadeDoVento, Temperatur...</td>\n",
       "      <td>2</td>\n",
       "      <td>[PressaoAtmosferica, TemperaturaDoAr, Radiacao...</td>\n",
       "      <td>0.995638</td>\n",
       "      <td>0.988389</td>\n",
       "      <td>0.119850</td>\n",
       "      <td>0.615385</td>\n",
       "      <td>0.200627</td>\n",
       "      <td>0.615385</td>\n",
       "      <td>&lt;xgboost.core.Booster object at 0x000001D8523D...</td>\n",
       "    </tr>\n",
       "    <tr>\n",
       "      <th>0</th>\n",
       "      <td>[DirecaoDoVento, VelocidadeDoVento, Temperatur...</td>\n",
       "      <td>3</td>\n",
       "      <td>[TemperaturaDoAr, Precipitacao, Dia, PrecSum, ...</td>\n",
       "      <td>0.997095</td>\n",
       "      <td>0.991895</td>\n",
       "      <td>0.178947</td>\n",
       "      <td>0.607143</td>\n",
       "      <td>0.276423</td>\n",
       "      <td>0.607143</td>\n",
       "      <td>&lt;xgboost.core.Booster object at 0x000001D83E6B...</td>\n",
       "    </tr>\n",
       "    <tr>\n",
       "      <th>0</th>\n",
       "      <td>[DirecaoDoVento, VelocidadeDoVento, Temperatur...</td>\n",
       "      <td>4</td>\n",
       "      <td>[UmidadeRelativa, PressaoAtmosferica, Temperat...</td>\n",
       "      <td>0.997848</td>\n",
       "      <td>0.992305</td>\n",
       "      <td>0.155280</td>\n",
       "      <td>0.431034</td>\n",
       "      <td>0.228311</td>\n",
       "      <td>0.431034</td>\n",
       "      <td>&lt;xgboost.core.Booster object at 0x000001D8523D...</td>\n",
       "    </tr>\n",
       "    <tr>\n",
       "      <th>0</th>\n",
       "      <td>[DirecaoDoVento, VelocidadeDoVento, Temperatur...</td>\n",
       "      <td>5</td>\n",
       "      <td>[TemperaturaDoAr, Precipitacao, Dia, PrecSum, ...</td>\n",
       "      <td>0.994920</td>\n",
       "      <td>0.986613</td>\n",
       "      <td>0.113014</td>\n",
       "      <td>0.485294</td>\n",
       "      <td>0.183333</td>\n",
       "      <td>0.485294</td>\n",
       "      <td>&lt;xgboost.core.Booster object at 0x000001D83E6B...</td>\n",
       "    </tr>\n",
       "  </tbody>\n",
       "</table>\n",
       "</div>"
      ],
      "text/plain": [
       "                                        Removed_Cols Local  \\\n",
       "0  [DirecaoDoVento, VelocidadeDoVento, Temperatur...     0   \n",
       "0  [DirecaoDoVento, VelocidadeDoVento, Temperatur...     1   \n",
       "0  [DirecaoDoVento, VelocidadeDoVento, Temperatur...     2   \n",
       "0  [DirecaoDoVento, VelocidadeDoVento, Temperatur...     3   \n",
       "0  [DirecaoDoVento, VelocidadeDoVento, Temperatur...     4   \n",
       "0  [DirecaoDoVento, VelocidadeDoVento, Temperatur...     5   \n",
       "\n",
       "                                            Features  Train_Acc  Test_Acc  \\\n",
       "0  [UmidadeRelativa, PressaoAtmosferica, Temperat...   0.997167  0.991449   \n",
       "0  [TemperaturaDoAr, Precipitacao, Dia, PrecSum, ...   0.998014  0.992897   \n",
       "0  [PressaoAtmosferica, TemperaturaDoAr, Radiacao...   0.995638  0.988389   \n",
       "0  [TemperaturaDoAr, Precipitacao, Dia, PrecSum, ...   0.997095  0.991895   \n",
       "0  [UmidadeRelativa, PressaoAtmosferica, Temperat...   0.997848  0.992305   \n",
       "0  [TemperaturaDoAr, Precipitacao, Dia, PrecSum, ...   0.994920  0.986613   \n",
       "\n",
       "   Precision    Recall        F1   Ver_Pos  \\\n",
       "0   0.150862  0.481100  0.229696  0.481100   \n",
       "0   0.164384  0.413793  0.235294  0.413793   \n",
       "0   0.119850  0.615385  0.200627  0.615385   \n",
       "0   0.178947  0.607143  0.276423  0.607143   \n",
       "0   0.155280  0.431034  0.228311  0.431034   \n",
       "0   0.113014  0.485294  0.183333  0.485294   \n",
       "\n",
       "                                               Model  \n",
       "0  <xgboost.core.Booster object at 0x000001D8523D...  \n",
       "0  <xgboost.core.Booster object at 0x000001D83E6B...  \n",
       "0  <xgboost.core.Booster object at 0x000001D8523D...  \n",
       "0  <xgboost.core.Booster object at 0x000001D83E6B...  \n",
       "0  <xgboost.core.Booster object at 0x000001D8523D...  \n",
       "0  <xgboost.core.Booster object at 0x000001D83E6B...  "
      ]
     },
     "execution_count": 20,
     "metadata": {},
     "output_type": "execute_result"
    }
   ],
   "source": [
    "# Identificar melhores modelos\n",
    "df_best_local = pd.DataFrame(columns = df_training_result.columns)\n",
    "\n",
    "for l in range(6):\n",
    "    df_best_local = df_best_local.append(df_training_result[(df_training_result['Local'] == l)].sort_values('F1', ascending=False).reset_index(drop=True).loc[0])\n",
    "    \n",
    "df_best_local"
   ]
  },
  {
   "cell_type": "code",
   "execution_count": 21,
   "metadata": {},
   "outputs": [],
   "source": [
    "#df_best_local.to_csv('../../../data/analysis/best_shift_local.csv', index=False, sep=';', decimal=',')"
   ]
  },
  {
   "cell_type": "markdown",
   "metadata": {
    "toc-hr-collapsed": true,
    "toc-nb-collapsed": true
   },
   "source": [
    "# OWM"
   ]
  },
  {
   "cell_type": "markdown",
   "metadata": {},
   "source": [
    "## Carregar dados"
   ]
  },
  {
   "cell_type": "code",
   "execution_count": 22,
   "metadata": {},
   "outputs": [],
   "source": [
    "df_owm = pd.read_csv('../../../data/cleandata/Info pluviometricas/Merged Data/OpenWeatherMapSantoAndre.csv')"
   ]
  },
  {
   "cell_type": "markdown",
   "metadata": {},
   "source": [
    "## Preparar dados"
   ]
  },
  {
   "cell_type": "code",
   "execution_count": 23,
   "metadata": {},
   "outputs": [],
   "source": [
    "# Preparar data hora\n",
    "df_owm['Data_Hora'] = pd.to_datetime(df_owm['dt_iso'].str[:-10])\n",
    "df_owm['Data_Hora'] = df_owm.apply(lambda x: x['Data_Hora'] + pd.Timedelta(hours = x['timezone'] / 3600), axis = 1)\n",
    "# Filtrar nas datas que temos labels\n",
    "df_owm = df_owm[(datetime.strptime('2019-08-30', '%Y-%m-%d') >= df_owm['Data_Hora']) & (df_owm['Data_Hora'] >= datetime.strptime('2010-01-01', '%Y-%m-%d'))]\n",
    "# Remover colunas e valores nulos\n",
    "df_owm = df_owm.drop(columns = ['sea_level', 'grnd_level', 'rain_3h', 'snow_1h', 'snow_3h'])\n",
    "df_owm = df_owm.fillna(0)\n",
    "df_owm = df_owm.drop_duplicates(subset='Data_Hora')"
   ]
  },
  {
   "cell_type": "code",
   "execution_count": 24,
   "metadata": {},
   "outputs": [
    {
     "data": {
      "text/html": [
       "<div>\n",
       "<style scoped>\n",
       "    .dataframe tbody tr th:only-of-type {\n",
       "        vertical-align: middle;\n",
       "    }\n",
       "\n",
       "    .dataframe tbody tr th {\n",
       "        vertical-align: top;\n",
       "    }\n",
       "\n",
       "    .dataframe thead th {\n",
       "        text-align: right;\n",
       "    }\n",
       "</style>\n",
       "<table border=\"1\" class=\"dataframe\">\n",
       "  <thead>\n",
       "    <tr style=\"text-align: right;\">\n",
       "      <th></th>\n",
       "      <th>Data</th>\n",
       "      <th>Label</th>\n",
       "    </tr>\n",
       "  </thead>\n",
       "  <tbody>\n",
       "    <tr>\n",
       "      <th>0</th>\n",
       "      <td>2010-01-07</td>\n",
       "      <td>1</td>\n",
       "    </tr>\n",
       "    <tr>\n",
       "      <th>1</th>\n",
       "      <td>2010-01-08</td>\n",
       "      <td>0</td>\n",
       "    </tr>\n",
       "    <tr>\n",
       "      <th>2</th>\n",
       "      <td>2010-01-11</td>\n",
       "      <td>0</td>\n",
       "    </tr>\n",
       "    <tr>\n",
       "      <th>3</th>\n",
       "      <td>2010-01-19</td>\n",
       "      <td>0</td>\n",
       "    </tr>\n",
       "    <tr>\n",
       "      <th>4</th>\n",
       "      <td>2010-01-20</td>\n",
       "      <td>1</td>\n",
       "    </tr>\n",
       "  </tbody>\n",
       "</table>\n",
       "</div>"
      ],
      "text/plain": [
       "        Data  Label\n",
       "0 2010-01-07      1\n",
       "1 2010-01-08      0\n",
       "2 2010-01-11      0\n",
       "3 2010-01-19      0\n",
       "4 2010-01-20      1"
      ]
     },
     "execution_count": 24,
     "metadata": {},
     "output_type": "execute_result"
    }
   ],
   "source": [
    "# Carregar labels e selecionar LocalMax\n",
    "df_loc = pd.read_csv('../../../data/cleandata/Ordens de serviço/labels_day.csv', sep=';')\n",
    "df_loc['Data'] = pd.to_datetime(df_loc['Data'], yearfirst=True)\n",
    "df_loc = df_loc[['Data', 'LocalMax']]\n",
    "df_loc.columns = ['Data', 'Label']\n",
    "df_loc.head()"
   ]
  },
  {
   "cell_type": "code",
   "execution_count": 25,
   "metadata": {},
   "outputs": [],
   "source": [
    "# Juntar dados com labels\n",
    "df_owm['Data'] = pd.to_datetime(df_owm['Data_Hora'].dt.strftime('%Y-%m-%d'), yearfirst=True)\n",
    "df = df_owm.merge(df_loc, on='Data', how='left')\n",
    "df = df.fillna(0)"
   ]
  },
  {
   "cell_type": "code",
   "execution_count": 26,
   "metadata": {},
   "outputs": [],
   "source": [
    "# Soma da precipitação do dia\n",
    "df_g = df.groupby('Data').sum().reset_index()[['Data', 'rain_1h']]\n",
    "df_g.columns = ['Data', 'rain_sum']\n",
    "df = df.merge(df_g, on='Data')"
   ]
  },
  {
   "cell_type": "code",
   "execution_count": 27,
   "metadata": {},
   "outputs": [],
   "source": [
    "# Colunas de data\n",
    "df['Mes'] = df['Data_Hora'].dt.month\n",
    "df['Dia'] = df['Data_Hora'].dt.day\n",
    "# df = df.drop(columns = ['dt', 'dt_iso', 'timezone', 'city_name', 'lat', 'lon', 'weather_icon', 'weather_id', 'weather_main',\n",
    "#                         'Vitoria', 'Erasmo', 'Paraiso', 'RM', 'Null', 'Camilopolis'])\n",
    "# Remover colunas desnecessárias\n",
    "df = df.drop(columns = ['dt', 'dt_iso', 'timezone', 'city_name', 'lat', 'lon', 'weather_icon', 'weather_id', 'weather_main'])\n",
    "# df = df.drop(columns = ['dt', 'dt_iso', 'timezone', 'city_name', 'lat', 'lon', 'weather_icon', 'weather_id', 'weather_main',\n",
    "#                         'Data_Hora', 'Data'])\n",
    "# df['weather_description'] = df['weather_description'].rank(method='dense', ascending=False).astype(int)"
   ]
  },
  {
   "cell_type": "code",
   "execution_count": 28,
   "metadata": {},
   "outputs": [],
   "source": [
    "# Realizar OHE para colunas categóricas\n",
    "cols_dummies = ['Mes', 'weather_description', 'Dia']\n",
    "\n",
    "df_ohe = df.copy()\n",
    "\n",
    "for c in cols_dummies:\n",
    "    df_ohe = pd.concat([df_ohe, pd.get_dummies(df_ohe[c], prefix=c)], axis=1)\n",
    "    \n",
    "df_ohe = df_ohe.sort_values(['Data'])\n",
    "\n",
    "# Shiftar label 6 horas para frente\n",
    "df_ohe['Label_Old'] = df_ohe['Label']\n",
    "df_ohe['Label'] = df_ohe['Label'].shift(-1*6, fill_value = 0)"
   ]
  },
  {
   "cell_type": "code",
   "execution_count": 29,
   "metadata": {},
   "outputs": [
    {
     "data": {
      "text/plain": [
       "Index(['temp', 'feels_like', 'temp_min', 'temp_max', 'pressure', 'humidity',\n",
       "       'wind_speed', 'wind_deg', 'rain_1h', 'clouds_all',\n",
       "       'weather_description', 'Data_Hora', 'Data', 'Label', 'rain_sum', 'Mes',\n",
       "       'Dia', 'Mes_1', 'Mes_2', 'Mes_3', 'Mes_4', 'Mes_5', 'Mes_6', 'Mes_7',\n",
       "       'Mes_8', 'Mes_9', 'Mes_10', 'Mes_11', 'Mes_12',\n",
       "       'weather_description_broken clouds', 'weather_description_drizzle',\n",
       "       'weather_description_few clouds', 'weather_description_fog',\n",
       "       'weather_description_haze',\n",
       "       'weather_description_heavy intensity drizzle',\n",
       "       'weather_description_heavy intensity rain',\n",
       "       'weather_description_heavy intesity shower rain',\n",
       "       'weather_description_light intensity drizzle',\n",
       "       'weather_description_light intensity drizzle rain',\n",
       "       'weather_description_light intensity shower rain',\n",
       "       'weather_description_light rain', 'weather_description_mist',\n",
       "       'weather_description_moderate rain',\n",
       "       'weather_description_overcast clouds',\n",
       "       'weather_description_proximity shower rain',\n",
       "       'weather_description_proximity thunderstorm',\n",
       "       'weather_description_rain and drizzle',\n",
       "       'weather_description_scattered clouds',\n",
       "       'weather_description_shower rain', 'weather_description_sky is clear',\n",
       "       'weather_description_thunderstorm',\n",
       "       'weather_description_thunderstorm with heavy rain',\n",
       "       'weather_description_thunderstorm with light rain',\n",
       "       'weather_description_thunderstorm with rain', 'Dia_1', 'Dia_2', 'Dia_3',\n",
       "       'Dia_4', 'Dia_5', 'Dia_6', 'Dia_7', 'Dia_8', 'Dia_9', 'Dia_10',\n",
       "       'Dia_11', 'Dia_12', 'Dia_13', 'Dia_14', 'Dia_15', 'Dia_16', 'Dia_17',\n",
       "       'Dia_18', 'Dia_19', 'Dia_20', 'Dia_21', 'Dia_22', 'Dia_23', 'Dia_24',\n",
       "       'Dia_25', 'Dia_26', 'Dia_27', 'Dia_28', 'Dia_29', 'Dia_30', 'Dia_31',\n",
       "       'Label_Old'],\n",
       "      dtype='object')"
      ]
     },
     "execution_count": 29,
     "metadata": {},
     "output_type": "execute_result"
    }
   ],
   "source": [
    "df_ohe.columns"
   ]
  },
  {
   "cell_type": "markdown",
   "metadata": {},
   "source": [
    "## Treinar modelo"
   ]
  },
  {
   "cell_type": "code",
   "execution_count": 30,
   "metadata": {},
   "outputs": [
    {
     "name": "stdout",
     "output_type": "stream",
     "text": [
      "---------- CASE ----------\n",
      "[]\n",
      "--------------------------\n",
      "Treino: 0.9929923158314686\n",
      "Teste: 0.9678346456692913\n",
      "Precisão: 0.4446397188049209\n",
      "Recall: 0.7322720694645442\n",
      "F1: 0.5533078184800437\n"
     ]
    },
    {
     "data": {
      "text/plain": [
       "array([[0.97442228, 0.02557772],\n",
       "       [0.26772793, 0.73227207]])"
      ]
     },
     "metadata": {},
     "output_type": "display_data"
    },
    {
     "data": {
      "text/plain": [
       "array([[24077,   632],\n",
       "       [  185,   506]], dtype=int64)"
      ]
     },
     "metadata": {},
     "output_type": "display_data"
    },
    {
     "name": "stdout",
     "output_type": "stream",
     "text": [
      "---------- CASE ----------\n",
      "['feels_like']\n",
      "--------------------------\n",
      "Treino: 0.9924892889975889\n",
      "Teste: 0.9660629921259842\n",
      "Precisão: 0.42493415276558383\n",
      "Recall: 0.7004341534008683\n",
      "F1: 0.5289617486338798\n"
     ]
    },
    {
     "data": {
      "text/plain": [
       "array([[0.97349144, 0.02650856],\n",
       "       [0.29956585, 0.70043415]])"
      ]
     },
     "metadata": {},
     "output_type": "display_data"
    },
    {
     "data": {
      "text/plain": [
       "array([[24054,   655],\n",
       "       [  207,   484]], dtype=int64)"
      ]
     },
     "metadata": {},
     "output_type": "display_data"
    },
    {
     "name": "stdout",
     "output_type": "stream",
     "text": [
      "---------- CASE ----------\n",
      "['feels_like', 'temp_min', 'temp_max']\n",
      "--------------------------\n",
      "Treino: 0.9928275311789908\n",
      "Teste: 0.9682283464566929\n",
      "Precisão: 0.44876325088339225\n",
      "Recall: 0.7351664254703328\n",
      "F1: 0.5573230938014263\n"
     ]
    },
    {
     "data": {
      "text/plain": [
       "array([[0.97474604, 0.02525396],\n",
       "       [0.26483357, 0.73516643]])"
      ]
     },
     "metadata": {},
     "output_type": "display_data"
    },
    {
     "data": {
      "text/plain": [
       "array([[24085,   624],\n",
       "       [  183,   508]], dtype=int64)"
      ]
     },
     "metadata": {},
     "output_type": "display_data"
    },
    {
     "name": "stdout",
     "output_type": "stream",
     "text": [
      "---------- CASE ----------\n",
      "['feels_like', 'temp_min', 'temp_max', 'pressure']\n",
      "--------------------------\n",
      "Treino: 0.9931744462368389\n",
      "Teste: 0.9705511811023622\n",
      "Precisão: 0.473972602739726\n",
      "Recall: 0.7510853835021708\n",
      "F1: 0.5811870100783875\n"
     ]
    },
    {
     "data": {
      "text/plain": [
       "array([[0.97668866, 0.02331134],\n",
       "       [0.24891462, 0.75108538]])"
      ]
     },
     "metadata": {},
     "output_type": "display_data"
    },
    {
     "data": {
      "text/plain": [
       "array([[24133,   576],\n",
       "       [  172,   519]], dtype=int64)"
      ]
     },
     "metadata": {},
     "output_type": "display_data"
    },
    {
     "name": "stdout",
     "output_type": "stream",
     "text": [
      "---------- CASE ----------\n",
      "['feels_like', 'temp_min', 'temp_max', 'pressure', 'humidity']\n",
      "--------------------------\n",
      "Treino: 0.993477996912456\n",
      "Teste: 0.9711811023622047\n",
      "Precisão: 0.4806054872280038\n",
      "Recall: 0.7351664254703328\n",
      "F1: 0.5812356979405034\n"
     ]
    },
    {
     "data": {
      "text/plain": [
       "array([[0.97778138, 0.02221862],\n",
       "       [0.26483357, 0.73516643]])"
      ]
     },
     "metadata": {},
     "output_type": "display_data"
    },
    {
     "data": {
      "text/plain": [
       "array([[24160,   549],\n",
       "       [  183,   508]], dtype=int64)"
      ]
     },
     "metadata": {},
     "output_type": "display_data"
    },
    {
     "name": "stdout",
     "output_type": "stream",
     "text": [
      "---------- CASE ----------\n",
      "['feels_like', 'temp_min', 'temp_max', 'pressure', 'humidity', 'wind_speed', 'wind_deg']\n",
      "--------------------------\n",
      "Treino: 0.992619382144282\n",
      "Teste: 0.9719291338582677\n",
      "Precisão: 0.48996350364963503\n",
      "Recall: 0.7771345875542692\n",
      "F1: 0.6010072747621713\n"
     ]
    },
    {
     "data": {
      "text/plain": [
       "array([[0.97737666, 0.02262334],\n",
       "       [0.22286541, 0.77713459]])"
      ]
     },
     "metadata": {},
     "output_type": "display_data"
    },
    {
     "data": {
      "text/plain": [
       "array([[24150,   559],\n",
       "       [  154,   537]], dtype=int64)"
      ]
     },
     "metadata": {},
     "output_type": "display_data"
    },
    {
     "name": "stdout",
     "output_type": "stream",
     "text": [
      "---------- CASE ----------\n",
      "['feels_like', 'temp_min', 'temp_max', 'pressure', 'humidity', 'wind_speed', 'wind_deg', 'clouds_all']\n",
      "--------------------------\n",
      "Treino: 0.9926714194029592\n",
      "Teste: 0.9721653543307086\n",
      "Precisão: 0.49280575539568344\n",
      "Recall: 0.7930535455861071\n",
      "F1: 0.6078757626178591\n"
     ]
    },
    {
     "data": {
      "text/plain": [
       "array([[0.97717431, 0.02282569],\n",
       "       [0.20694645, 0.79305355]])"
      ]
     },
     "metadata": {},
     "output_type": "display_data"
    },
    {
     "data": {
      "text/plain": [
       "array([[24145,   564],\n",
       "       [  143,   548]], dtype=int64)"
      ]
     },
     "metadata": {},
     "output_type": "display_data"
    },
    {
     "name": "stdout",
     "output_type": "stream",
     "text": [
      "---------- CASE ----------\n",
      "['feels_like', 'temp_min', 'temp_max', 'pressure', 'humidity', 'wind_speed', 'wind_deg', 'clouds_all', 'weather_description', 'weather_description_broken clouds', 'weather_description_drizzle', 'weather_description_few clouds', 'weather_description_fog', 'weather_description_haze', 'weather_description_heavy intensity drizzle', 'weather_description_heavy intensity rain', 'weather_description_heavy intesity shower rain', 'weather_description_light intensity drizzle', 'weather_description_light intensity drizzle rain', 'weather_description_light intensity shower rain', 'weather_description_light rain', 'weather_description_mist', 'weather_description_moderate rain', 'weather_description_overcast clouds', 'weather_description_proximity shower rain', 'weather_description_proximity thunderstorm', 'weather_description_rain and drizzle', 'weather_description_scattered clouds', 'weather_description_shower rain', 'weather_description_sky is clear', 'weather_description_thunderstorm', 'weather_description_thunderstorm with heavy rain', 'weather_description_thunderstorm with light rain', 'weather_description_thunderstorm with rain']\n",
      "--------------------------\n",
      "Treino: 0.9911449931484276\n",
      "Teste: 0.9713385826771653\n",
      "Precisão: 0.484228473998295\n",
      "Recall: 0.8219971056439942\n",
      "F1: 0.6094420600858369\n"
     ]
    },
    {
     "data": {
      "text/plain": [
       "array([[0.97551499, 0.02448501],\n",
       "       [0.17800289, 0.82199711]])"
      ]
     },
     "metadata": {},
     "output_type": "display_data"
    },
    {
     "data": {
      "text/plain": [
       "array([[24104,   605],\n",
       "       [  123,   568]], dtype=int64)"
      ]
     },
     "metadata": {},
     "output_type": "display_data"
    },
    {
     "name": "stdout",
     "output_type": "stream",
     "text": [
      "---------- CASE ----------\n",
      "['temp_min', 'temp_max', 'pressure', 'humidity', 'wind_speed', 'wind_deg', 'clouds_all', 'weather_description', 'weather_description_broken clouds', 'weather_description_drizzle', 'weather_description_few clouds', 'weather_description_fog', 'weather_description_haze', 'weather_description_heavy intensity drizzle', 'weather_description_heavy intensity rain', 'weather_description_heavy intesity shower rain', 'weather_description_light intensity drizzle', 'weather_description_light intensity drizzle rain', 'weather_description_light intensity shower rain', 'weather_description_light rain', 'weather_description_mist', 'weather_description_moderate rain', 'weather_description_overcast clouds', 'weather_description_proximity shower rain', 'weather_description_proximity thunderstorm', 'weather_description_rain and drizzle', 'weather_description_scattered clouds', 'weather_description_shower rain', 'weather_description_sky is clear', 'weather_description_thunderstorm', 'weather_description_thunderstorm with heavy rain', 'weather_description_thunderstorm with light rain', 'weather_description_thunderstorm with rain']\n",
      "--------------------------\n",
      "Treino: 0.9928622226847756\n",
      "Teste: 0.9723228346456693\n",
      "Precisão: 0.4944954128440367\n",
      "Recall: 0.7800289435600579\n",
      "F1: 0.605277933745087\n"
     ]
    },
    {
     "data": {
      "text/plain": [
       "array([[0.97770043, 0.02229957],\n",
       "       [0.21997106, 0.78002894]])"
      ]
     },
     "metadata": {},
     "output_type": "display_data"
    },
    {
     "data": {
      "text/plain": [
       "array([[24158,   551],\n",
       "       [  152,   539]], dtype=int64)"
      ]
     },
     "metadata": {},
     "output_type": "display_data"
    }
   ],
   "source": [
    "# Remover colunas de passo em passo\n",
    "test_cases = [\n",
    "    [],\n",
    "    ['feels_like'],\n",
    "    ['feels_like', 'temp_min', 'temp_max'],\n",
    "    ['feels_like', 'temp_min', 'temp_max', 'pressure'],\n",
    "    ['feels_like', 'temp_min', 'temp_max', 'pressure', 'humidity'],\n",
    "    ['feels_like', 'temp_min', 'temp_max', 'pressure', 'humidity', 'wind_speed', 'wind_deg'],\n",
    "    ['feels_like', 'temp_min', 'temp_max', 'pressure', 'humidity', 'wind_speed', 'wind_deg', 'clouds_all'],\n",
    "    ['feels_like', 'temp_min', 'temp_max', 'pressure', 'humidity', 'wind_speed', 'wind_deg', 'clouds_all'] + [c for c in df_ohe.columns if 'weather_description' in c],\n",
    "    ['temp_min', 'temp_max', 'pressure', 'humidity', 'wind_speed', 'wind_deg', 'clouds_all'] + [c for c in df_ohe.columns if 'weather_description' in c],\n",
    "]\n",
    "\n",
    "# Salvar todos os resultados em um dataframe\n",
    "df_training_result_owm = pd.DataFrame(columns = ['Removed_Cols', 'Features', 'Train_Acc', 'Test_Acc', 'Precision', 'Recall', 'F1', 'Ver_Pos'])\n",
    "label = 'Label'\n",
    "\n",
    "for case in test_cases:\n",
    "    print(f'---------- CASE ----------')\n",
    "    print(case)\n",
    "    print(f'--------------------------')\n",
    "    \n",
    "    df_train = df_ohe.copy()\n",
    "\n",
    "    cols_rem = ['Label', 'Label_Old', 'Data', 'Data_Hora'] + cols_dummies\n",
    "    cols_rem = cols_rem + case\n",
    "\n",
    "    model, training_res, y_treino_pred, y_teste_pred = trainXGB(df_train, cols_rem, label)\n",
    "\n",
    "    df_training_result_owm = df_training_result_owm.append(\n",
    "        {**{'Removed_Cols': case}, **training_res},\n",
    "        ignore_index=True\n",
    "    )"
   ]
  },
  {
   "cell_type": "code",
   "execution_count": 31,
   "metadata": {},
   "outputs": [
    {
     "data": {
      "text/html": [
       "<div>\n",
       "<style scoped>\n",
       "    .dataframe tbody tr th:only-of-type {\n",
       "        vertical-align: middle;\n",
       "    }\n",
       "\n",
       "    .dataframe tbody tr th {\n",
       "        vertical-align: top;\n",
       "    }\n",
       "\n",
       "    .dataframe thead th {\n",
       "        text-align: right;\n",
       "    }\n",
       "</style>\n",
       "<table border=\"1\" class=\"dataframe\">\n",
       "  <thead>\n",
       "    <tr style=\"text-align: right;\">\n",
       "      <th></th>\n",
       "      <th>Removed_Cols</th>\n",
       "      <th>Features</th>\n",
       "      <th>Train_Acc</th>\n",
       "      <th>Test_Acc</th>\n",
       "      <th>Precision</th>\n",
       "      <th>Recall</th>\n",
       "      <th>F1</th>\n",
       "      <th>Ver_Pos</th>\n",
       "    </tr>\n",
       "  </thead>\n",
       "  <tbody>\n",
       "    <tr>\n",
       "      <th>0</th>\n",
       "      <td>[]</td>\n",
       "      <td>[temp, feels_like, temp_min, temp_max, pressur...</td>\n",
       "      <td>0.992992</td>\n",
       "      <td>0.967835</td>\n",
       "      <td>0.444640</td>\n",
       "      <td>0.732272</td>\n",
       "      <td>0.553308</td>\n",
       "      <td>0.732272</td>\n",
       "    </tr>\n",
       "    <tr>\n",
       "      <th>1</th>\n",
       "      <td>[feels_like]</td>\n",
       "      <td>[temp, temp_min, temp_max, pressure, humidity,...</td>\n",
       "      <td>0.992489</td>\n",
       "      <td>0.966063</td>\n",
       "      <td>0.424934</td>\n",
       "      <td>0.700434</td>\n",
       "      <td>0.528962</td>\n",
       "      <td>0.700434</td>\n",
       "    </tr>\n",
       "    <tr>\n",
       "      <th>2</th>\n",
       "      <td>[feels_like, temp_min, temp_max]</td>\n",
       "      <td>[temp, pressure, humidity, wind_speed, wind_de...</td>\n",
       "      <td>0.992828</td>\n",
       "      <td>0.968228</td>\n",
       "      <td>0.448763</td>\n",
       "      <td>0.735166</td>\n",
       "      <td>0.557323</td>\n",
       "      <td>0.735166</td>\n",
       "    </tr>\n",
       "    <tr>\n",
       "      <th>3</th>\n",
       "      <td>[feels_like, temp_min, temp_max, pressure]</td>\n",
       "      <td>[temp, humidity, wind_speed, wind_deg, rain_1h...</td>\n",
       "      <td>0.993174</td>\n",
       "      <td>0.970551</td>\n",
       "      <td>0.473973</td>\n",
       "      <td>0.751085</td>\n",
       "      <td>0.581187</td>\n",
       "      <td>0.751085</td>\n",
       "    </tr>\n",
       "    <tr>\n",
       "      <th>4</th>\n",
       "      <td>[feels_like, temp_min, temp_max, pressure, hum...</td>\n",
       "      <td>[temp, wind_speed, wind_deg, rain_1h, clouds_a...</td>\n",
       "      <td>0.993478</td>\n",
       "      <td>0.971181</td>\n",
       "      <td>0.480605</td>\n",
       "      <td>0.735166</td>\n",
       "      <td>0.581236</td>\n",
       "      <td>0.735166</td>\n",
       "    </tr>\n",
       "    <tr>\n",
       "      <th>5</th>\n",
       "      <td>[feels_like, temp_min, temp_max, pressure, hum...</td>\n",
       "      <td>[temp, rain_1h, clouds_all, rain_sum, Mes_1, M...</td>\n",
       "      <td>0.992619</td>\n",
       "      <td>0.971929</td>\n",
       "      <td>0.489964</td>\n",
       "      <td>0.777135</td>\n",
       "      <td>0.601007</td>\n",
       "      <td>0.777135</td>\n",
       "    </tr>\n",
       "    <tr>\n",
       "      <th>6</th>\n",
       "      <td>[feels_like, temp_min, temp_max, pressure, hum...</td>\n",
       "      <td>[temp, rain_1h, rain_sum, Mes_1, Mes_2, Mes_3,...</td>\n",
       "      <td>0.992671</td>\n",
       "      <td>0.972165</td>\n",
       "      <td>0.492806</td>\n",
       "      <td>0.793054</td>\n",
       "      <td>0.607876</td>\n",
       "      <td>0.793054</td>\n",
       "    </tr>\n",
       "    <tr>\n",
       "      <th>7</th>\n",
       "      <td>[feels_like, temp_min, temp_max, pressure, hum...</td>\n",
       "      <td>[temp, rain_1h, rain_sum, Mes_1, Mes_2, Mes_3,...</td>\n",
       "      <td>0.991145</td>\n",
       "      <td>0.971339</td>\n",
       "      <td>0.484228</td>\n",
       "      <td>0.821997</td>\n",
       "      <td>0.609442</td>\n",
       "      <td>0.821997</td>\n",
       "    </tr>\n",
       "    <tr>\n",
       "      <th>8</th>\n",
       "      <td>[temp_min, temp_max, pressure, humidity, wind_...</td>\n",
       "      <td>[temp, feels_like, rain_1h, rain_sum, Mes_1, M...</td>\n",
       "      <td>0.992862</td>\n",
       "      <td>0.972323</td>\n",
       "      <td>0.494495</td>\n",
       "      <td>0.780029</td>\n",
       "      <td>0.605278</td>\n",
       "      <td>0.780029</td>\n",
       "    </tr>\n",
       "  </tbody>\n",
       "</table>\n",
       "</div>"
      ],
      "text/plain": [
       "                                        Removed_Cols  \\\n",
       "0                                                 []   \n",
       "1                                       [feels_like]   \n",
       "2                   [feels_like, temp_min, temp_max]   \n",
       "3         [feels_like, temp_min, temp_max, pressure]   \n",
       "4  [feels_like, temp_min, temp_max, pressure, hum...   \n",
       "5  [feels_like, temp_min, temp_max, pressure, hum...   \n",
       "6  [feels_like, temp_min, temp_max, pressure, hum...   \n",
       "7  [feels_like, temp_min, temp_max, pressure, hum...   \n",
       "8  [temp_min, temp_max, pressure, humidity, wind_...   \n",
       "\n",
       "                                            Features  Train_Acc  Test_Acc  \\\n",
       "0  [temp, feels_like, temp_min, temp_max, pressur...   0.992992  0.967835   \n",
       "1  [temp, temp_min, temp_max, pressure, humidity,...   0.992489  0.966063   \n",
       "2  [temp, pressure, humidity, wind_speed, wind_de...   0.992828  0.968228   \n",
       "3  [temp, humidity, wind_speed, wind_deg, rain_1h...   0.993174  0.970551   \n",
       "4  [temp, wind_speed, wind_deg, rain_1h, clouds_a...   0.993478  0.971181   \n",
       "5  [temp, rain_1h, clouds_all, rain_sum, Mes_1, M...   0.992619  0.971929   \n",
       "6  [temp, rain_1h, rain_sum, Mes_1, Mes_2, Mes_3,...   0.992671  0.972165   \n",
       "7  [temp, rain_1h, rain_sum, Mes_1, Mes_2, Mes_3,...   0.991145  0.971339   \n",
       "8  [temp, feels_like, rain_1h, rain_sum, Mes_1, M...   0.992862  0.972323   \n",
       "\n",
       "   Precision    Recall        F1   Ver_Pos  \n",
       "0   0.444640  0.732272  0.553308  0.732272  \n",
       "1   0.424934  0.700434  0.528962  0.700434  \n",
       "2   0.448763  0.735166  0.557323  0.735166  \n",
       "3   0.473973  0.751085  0.581187  0.751085  \n",
       "4   0.480605  0.735166  0.581236  0.735166  \n",
       "5   0.489964  0.777135  0.601007  0.777135  \n",
       "6   0.492806  0.793054  0.607876  0.793054  \n",
       "7   0.484228  0.821997  0.609442  0.821997  \n",
       "8   0.494495  0.780029  0.605278  0.780029  "
      ]
     },
     "execution_count": 31,
     "metadata": {},
     "output_type": "execute_result"
    }
   ],
   "source": [
    "df_training_result_owm"
   ]
  },
  {
   "cell_type": "markdown",
   "metadata": {},
   "source": [
    "# Teste \"real\""
   ]
  },
  {
   "cell_type": "code",
   "execution_count": 32,
   "metadata": {},
   "outputs": [
    {
     "data": {
      "text/html": [
       "<div>\n",
       "<style scoped>\n",
       "    .dataframe tbody tr th:only-of-type {\n",
       "        vertical-align: middle;\n",
       "    }\n",
       "\n",
       "    .dataframe tbody tr th {\n",
       "        vertical-align: top;\n",
       "    }\n",
       "\n",
       "    .dataframe thead th {\n",
       "        text-align: right;\n",
       "    }\n",
       "</style>\n",
       "<table border=\"1\" class=\"dataframe\">\n",
       "  <thead>\n",
       "    <tr style=\"text-align: right;\">\n",
       "      <th></th>\n",
       "      <th>Removed_Cols</th>\n",
       "      <th>Local</th>\n",
       "      <th>Features</th>\n",
       "      <th>Train_Acc</th>\n",
       "      <th>Test_Acc</th>\n",
       "      <th>Precision</th>\n",
       "      <th>Recall</th>\n",
       "      <th>F1</th>\n",
       "      <th>Ver_Pos</th>\n",
       "      <th>Model</th>\n",
       "    </tr>\n",
       "  </thead>\n",
       "  <tbody>\n",
       "    <tr>\n",
       "      <th>0</th>\n",
       "      <td>[DirecaoDoVento, VelocidadeDoVento, Temperatur...</td>\n",
       "      <td>0</td>\n",
       "      <td>[TemperaturaDoAr, RadiacaoSolar, Precipitacao,...</td>\n",
       "      <td>0.996536</td>\n",
       "      <td>0.990019</td>\n",
       "      <td>0.667853</td>\n",
       "      <td>0.920059</td>\n",
       "      <td>0.773927</td>\n",
       "      <td>0.920059</td>\n",
       "      <td>&lt;xgboost.core.Booster object at 0x0000015C4D6F...</td>\n",
       "    </tr>\n",
       "    <tr>\n",
       "      <th>1</th>\n",
       "      <td>[DirecaoDoVento, VelocidadeDoVento, Temperatur...</td>\n",
       "      <td>1</td>\n",
       "      <td>[TemperaturaDoAr, RadiacaoSolar, Precipitacao,...</td>\n",
       "      <td>0.998361</td>\n",
       "      <td>0.994582</td>\n",
       "      <td>0.788009</td>\n",
       "      <td>0.948454</td>\n",
       "      <td>0.860819</td>\n",
       "      <td>0.948454</td>\n",
       "      <td>&lt;xgboost.core.Booster object at 0x0000015C4D6F...</td>\n",
       "    </tr>\n",
       "    <tr>\n",
       "      <th>2</th>\n",
       "      <td>[DirecaoDoVento, VelocidadeDoVento, Temperatur...</td>\n",
       "      <td>2</td>\n",
       "      <td>[PressaoAtmosferica, TemperaturaDoAr, Radiacao...</td>\n",
       "      <td>0.996801</td>\n",
       "      <td>0.993216</td>\n",
       "      <td>0.733075</td>\n",
       "      <td>0.971795</td>\n",
       "      <td>0.835722</td>\n",
       "      <td>0.971795</td>\n",
       "      <td>&lt;xgboost.core.Booster object at 0x0000015C4D6F...</td>\n",
       "    </tr>\n",
       "    <tr>\n",
       "      <th>3</th>\n",
       "      <td>[DirecaoDoVento, VelocidadeDoVento, Temperatur...</td>\n",
       "      <td>3</td>\n",
       "      <td>[TemperaturaDoAr, Precipitacao, Dia, PrecSum, ...</td>\n",
       "      <td>0.998119</td>\n",
       "      <td>0.995173</td>\n",
       "      <td>0.823762</td>\n",
       "      <td>0.960739</td>\n",
       "      <td>0.886994</td>\n",
       "      <td>0.960739</td>\n",
       "      <td>&lt;xgboost.core.Booster object at 0x0000015C4D6F...</td>\n",
       "    </tr>\n",
       "    <tr>\n",
       "      <th>4</th>\n",
       "      <td>[DirecaoDoVento, VelocidadeDoVento, Temperatur...</td>\n",
       "      <td>4</td>\n",
       "      <td>[PressaoAtmosferica, TemperaturaDoAr, Radiacao...</td>\n",
       "      <td>0.996610</td>\n",
       "      <td>0.986932</td>\n",
       "      <td>0.614068</td>\n",
       "      <td>0.793612</td>\n",
       "      <td>0.692390</td>\n",
       "      <td>0.793612</td>\n",
       "      <td>&lt;xgboost.core.Booster object at 0x0000015C4D6F...</td>\n",
       "    </tr>\n",
       "    <tr>\n",
       "      <th>5</th>\n",
       "      <td>[DirecaoDoVento, VelocidadeDoVento, Temperatur...</td>\n",
       "      <td>5</td>\n",
       "      <td>[UmidadeRelativa, PressaoAtmosferica, Temperat...</td>\n",
       "      <td>0.996588</td>\n",
       "      <td>0.988526</td>\n",
       "      <td>0.659176</td>\n",
       "      <td>0.834123</td>\n",
       "      <td>0.736402</td>\n",
       "      <td>0.834123</td>\n",
       "      <td>&lt;xgboost.core.Booster object at 0x0000015C4D6F...</td>\n",
       "    </tr>\n",
       "  </tbody>\n",
       "</table>\n",
       "</div>"
      ],
      "text/plain": [
       "                                        Removed_Cols Local  \\\n",
       "0  [DirecaoDoVento, VelocidadeDoVento, Temperatur...     0   \n",
       "1  [DirecaoDoVento, VelocidadeDoVento, Temperatur...     1   \n",
       "2  [DirecaoDoVento, VelocidadeDoVento, Temperatur...     2   \n",
       "3  [DirecaoDoVento, VelocidadeDoVento, Temperatur...     3   \n",
       "4  [DirecaoDoVento, VelocidadeDoVento, Temperatur...     4   \n",
       "5  [DirecaoDoVento, VelocidadeDoVento, Temperatur...     5   \n",
       "\n",
       "                                            Features  Train_Acc  Test_Acc  \\\n",
       "0  [TemperaturaDoAr, RadiacaoSolar, Precipitacao,...   0.996536  0.990019   \n",
       "1  [TemperaturaDoAr, RadiacaoSolar, Precipitacao,...   0.998361  0.994582   \n",
       "2  [PressaoAtmosferica, TemperaturaDoAr, Radiacao...   0.996801  0.993216   \n",
       "3  [TemperaturaDoAr, Precipitacao, Dia, PrecSum, ...   0.998119  0.995173   \n",
       "4  [PressaoAtmosferica, TemperaturaDoAr, Radiacao...   0.996610  0.986932   \n",
       "5  [UmidadeRelativa, PressaoAtmosferica, Temperat...   0.996588  0.988526   \n",
       "\n",
       "   Precision    Recall        F1   Ver_Pos  \\\n",
       "0   0.667853  0.920059  0.773927  0.920059   \n",
       "1   0.788009  0.948454  0.860819  0.948454   \n",
       "2   0.733075  0.971795  0.835722  0.971795   \n",
       "3   0.823762  0.960739  0.886994  0.960739   \n",
       "4   0.614068  0.793612  0.692390  0.793612   \n",
       "5   0.659176  0.834123  0.736402  0.834123   \n",
       "\n",
       "                                               Model  \n",
       "0  <xgboost.core.Booster object at 0x0000015C4D6F...  \n",
       "1  <xgboost.core.Booster object at 0x0000015C4D6F...  \n",
       "2  <xgboost.core.Booster object at 0x0000015C4D6F...  \n",
       "3  <xgboost.core.Booster object at 0x0000015C4D6F...  \n",
       "4  <xgboost.core.Booster object at 0x0000015C4D6F...  \n",
       "5  <xgboost.core.Booster object at 0x0000015C4D6F...  "
      ]
     },
     "execution_count": 32,
     "metadata": {},
     "output_type": "execute_result"
    }
   ],
   "source": [
    "df_best_local = df_best_local.reset_index(drop=True)\n",
    "df_best_local"
   ]
  },
  {
   "cell_type": "code",
   "execution_count": 33,
   "metadata": {},
   "outputs": [],
   "source": [
    "df_m = df_f_ohe[(df_f_ohe['Label'] == 1) | (df_f_ohe['Label_Old'] == 1)].copy()\n",
    "df_m['Data'] = df_m['Data_Hora'].dt.strftime('%Y-%m-%d')"
   ]
  },
  {
   "cell_type": "code",
   "execution_count": 34,
   "metadata": {},
   "outputs": [],
   "source": [
    "def getPrecMomento(row):\n",
    "    prec_momento = df_m.loc[(df_m['Data_Hora'] <= row['Data_Hora']) & (df_m['Local'] == row['Local']) & (df_m['Data'] == row['Data']), 'Precipitacao'].sum()\n",
    "    return prec_momento\n",
    "\n",
    "df_m['PrecMomento'] = df_m.apply(getPrecMomento, axis=1)\n",
    "\n",
    "df_m = df_m.rename(columns = {'PrecSum': 'PrecSumOld', 'PrecMomento': 'PrecSum'})"
   ]
  },
  {
   "cell_type": "code",
   "execution_count": 35,
   "metadata": {},
   "outputs": [],
   "source": [
    "df_m_2 = df_m.copy()\n",
    "df_m_2['Label_Pred'] = 0\n",
    "\n",
    "for l in range(6):\n",
    "    label_pred = df_best_local.loc[l,'Model'].predict(xgboost.DMatrix(data=df_m_2.loc[df_m_2['Local'] == l, df_best_local.loc[l, 'Features']]))\n",
    "    df_m_2.loc[df_m_2['Local'] == l, 'Label_Pred'] = [1 if i>0.5 else 0 for i in label_pred]"
   ]
  },
  {
   "cell_type": "code",
   "execution_count": 36,
   "metadata": {},
   "outputs": [
    {
     "name": "stdout",
     "output_type": "stream",
     "text": [
      "(2834, 36)\n",
      "(9848, 36)\n"
     ]
    }
   ],
   "source": [
    "print(df_m_2[df_m_2['Label_Pred'] == 1].shape)\n",
    "print(df_m_2.shape)"
   ]
  },
  {
   "cell_type": "code",
   "execution_count": 37,
   "metadata": {},
   "outputs": [],
   "source": [
    "df_m_2[['Local', 'Data_Hora', 'Precipitacao', 'PrecSum', 'PrecSumOld', 'Label', 'Label_Pred']].sort_values(by=['Local', 'Data_Hora']\n",
    ").to_csv('../../../data/analysis/labels_prediction_shift.csv', index=False, sep=';', decimal=',')"
   ]
  },
  {
   "cell_type": "code",
   "execution_count": 38,
   "metadata": {
    "scrolled": true
   },
   "outputs": [
    {
     "data": {
      "text/html": [
       "<div>\n",
       "<style scoped>\n",
       "    .dataframe tbody tr th:only-of-type {\n",
       "        vertical-align: middle;\n",
       "    }\n",
       "\n",
       "    .dataframe tbody tr th {\n",
       "        vertical-align: top;\n",
       "    }\n",
       "\n",
       "    .dataframe thead th {\n",
       "        text-align: right;\n",
       "    }\n",
       "</style>\n",
       "<table border=\"1\" class=\"dataframe\">\n",
       "  <thead>\n",
       "    <tr style=\"text-align: right;\">\n",
       "      <th></th>\n",
       "      <th>Data_Hora</th>\n",
       "      <th>Precipitacao</th>\n",
       "      <th>PrecSum</th>\n",
       "    </tr>\n",
       "  </thead>\n",
       "  <tbody>\n",
       "    <tr>\n",
       "      <th>343418</th>\n",
       "      <td>2018-12-23 00:00:00</td>\n",
       "      <td>0.0</td>\n",
       "      <td>78.4</td>\n",
       "    </tr>\n",
       "    <tr>\n",
       "      <th>343419</th>\n",
       "      <td>2018-12-23 01:00:00</td>\n",
       "      <td>0.0</td>\n",
       "      <td>78.4</td>\n",
       "    </tr>\n",
       "    <tr>\n",
       "      <th>343420</th>\n",
       "      <td>2018-12-23 02:00:00</td>\n",
       "      <td>0.0</td>\n",
       "      <td>78.4</td>\n",
       "    </tr>\n",
       "    <tr>\n",
       "      <th>343421</th>\n",
       "      <td>2018-12-23 03:00:00</td>\n",
       "      <td>1.0</td>\n",
       "      <td>78.4</td>\n",
       "    </tr>\n",
       "    <tr>\n",
       "      <th>343422</th>\n",
       "      <td>2018-12-23 04:00:00</td>\n",
       "      <td>0.6</td>\n",
       "      <td>78.4</td>\n",
       "    </tr>\n",
       "    <tr>\n",
       "      <th>343423</th>\n",
       "      <td>2018-12-23 05:00:00</td>\n",
       "      <td>0.0</td>\n",
       "      <td>78.4</td>\n",
       "    </tr>\n",
       "    <tr>\n",
       "      <th>343424</th>\n",
       "      <td>2018-12-23 06:00:00</td>\n",
       "      <td>0.0</td>\n",
       "      <td>78.4</td>\n",
       "    </tr>\n",
       "    <tr>\n",
       "      <th>343425</th>\n",
       "      <td>2018-12-23 07:00:00</td>\n",
       "      <td>0.0</td>\n",
       "      <td>78.4</td>\n",
       "    </tr>\n",
       "    <tr>\n",
       "      <th>343426</th>\n",
       "      <td>2018-12-23 08:00:00</td>\n",
       "      <td>0.0</td>\n",
       "      <td>78.4</td>\n",
       "    </tr>\n",
       "    <tr>\n",
       "      <th>343427</th>\n",
       "      <td>2018-12-23 09:00:00</td>\n",
       "      <td>0.0</td>\n",
       "      <td>78.4</td>\n",
       "    </tr>\n",
       "    <tr>\n",
       "      <th>343428</th>\n",
       "      <td>2018-12-23 10:00:00</td>\n",
       "      <td>0.0</td>\n",
       "      <td>78.4</td>\n",
       "    </tr>\n",
       "    <tr>\n",
       "      <th>343429</th>\n",
       "      <td>2018-12-23 11:00:00</td>\n",
       "      <td>0.0</td>\n",
       "      <td>78.4</td>\n",
       "    </tr>\n",
       "    <tr>\n",
       "      <th>343430</th>\n",
       "      <td>2018-12-23 12:00:00</td>\n",
       "      <td>0.0</td>\n",
       "      <td>78.4</td>\n",
       "    </tr>\n",
       "    <tr>\n",
       "      <th>343431</th>\n",
       "      <td>2018-12-23 13:00:00</td>\n",
       "      <td>0.0</td>\n",
       "      <td>78.4</td>\n",
       "    </tr>\n",
       "    <tr>\n",
       "      <th>343432</th>\n",
       "      <td>2018-12-23 14:00:00</td>\n",
       "      <td>0.0</td>\n",
       "      <td>78.4</td>\n",
       "    </tr>\n",
       "    <tr>\n",
       "      <th>343433</th>\n",
       "      <td>2018-12-23 15:00:00</td>\n",
       "      <td>0.0</td>\n",
       "      <td>78.4</td>\n",
       "    </tr>\n",
       "    <tr>\n",
       "      <th>343434</th>\n",
       "      <td>2018-12-23 16:00:00</td>\n",
       "      <td>9.6</td>\n",
       "      <td>78.4</td>\n",
       "    </tr>\n",
       "    <tr>\n",
       "      <th>343435</th>\n",
       "      <td>2018-12-23 17:00:00</td>\n",
       "      <td>9.6</td>\n",
       "      <td>78.4</td>\n",
       "    </tr>\n",
       "    <tr>\n",
       "      <th>343436</th>\n",
       "      <td>2018-12-23 18:00:00</td>\n",
       "      <td>9.6</td>\n",
       "      <td>78.4</td>\n",
       "    </tr>\n",
       "    <tr>\n",
       "      <th>343437</th>\n",
       "      <td>2018-12-23 19:00:00</td>\n",
       "      <td>9.6</td>\n",
       "      <td>78.4</td>\n",
       "    </tr>\n",
       "    <tr>\n",
       "      <th>343438</th>\n",
       "      <td>2018-12-23 20:00:00</td>\n",
       "      <td>9.6</td>\n",
       "      <td>78.4</td>\n",
       "    </tr>\n",
       "    <tr>\n",
       "      <th>343439</th>\n",
       "      <td>2018-12-23 21:00:00</td>\n",
       "      <td>9.6</td>\n",
       "      <td>78.4</td>\n",
       "    </tr>\n",
       "    <tr>\n",
       "      <th>343440</th>\n",
       "      <td>2018-12-23 22:00:00</td>\n",
       "      <td>9.6</td>\n",
       "      <td>78.4</td>\n",
       "    </tr>\n",
       "    <tr>\n",
       "      <th>343441</th>\n",
       "      <td>2018-12-23 23:00:00</td>\n",
       "      <td>9.6</td>\n",
       "      <td>78.4</td>\n",
       "    </tr>\n",
       "    <tr>\n",
       "      <th>343514</th>\n",
       "      <td>2018-12-24 00:00:00</td>\n",
       "      <td>9.6</td>\n",
       "      <td>230.4</td>\n",
       "    </tr>\n",
       "    <tr>\n",
       "      <th>343515</th>\n",
       "      <td>2018-12-24 01:00:00</td>\n",
       "      <td>9.6</td>\n",
       "      <td>230.4</td>\n",
       "    </tr>\n",
       "    <tr>\n",
       "      <th>343516</th>\n",
       "      <td>2018-12-24 02:00:00</td>\n",
       "      <td>9.6</td>\n",
       "      <td>230.4</td>\n",
       "    </tr>\n",
       "    <tr>\n",
       "      <th>343517</th>\n",
       "      <td>2018-12-24 03:00:00</td>\n",
       "      <td>9.6</td>\n",
       "      <td>230.4</td>\n",
       "    </tr>\n",
       "    <tr>\n",
       "      <th>343518</th>\n",
       "      <td>2018-12-24 04:00:00</td>\n",
       "      <td>9.6</td>\n",
       "      <td>230.4</td>\n",
       "    </tr>\n",
       "    <tr>\n",
       "      <th>343519</th>\n",
       "      <td>2018-12-24 05:00:00</td>\n",
       "      <td>9.6</td>\n",
       "      <td>230.4</td>\n",
       "    </tr>\n",
       "    <tr>\n",
       "      <th>343520</th>\n",
       "      <td>2018-12-24 06:00:00</td>\n",
       "      <td>9.6</td>\n",
       "      <td>230.4</td>\n",
       "    </tr>\n",
       "    <tr>\n",
       "      <th>343521</th>\n",
       "      <td>2018-12-24 07:00:00</td>\n",
       "      <td>9.6</td>\n",
       "      <td>230.4</td>\n",
       "    </tr>\n",
       "    <tr>\n",
       "      <th>343522</th>\n",
       "      <td>2018-12-24 08:00:00</td>\n",
       "      <td>9.6</td>\n",
       "      <td>230.4</td>\n",
       "    </tr>\n",
       "    <tr>\n",
       "      <th>343523</th>\n",
       "      <td>2018-12-24 09:00:00</td>\n",
       "      <td>9.6</td>\n",
       "      <td>230.4</td>\n",
       "    </tr>\n",
       "    <tr>\n",
       "      <th>343524</th>\n",
       "      <td>2018-12-24 10:00:00</td>\n",
       "      <td>9.6</td>\n",
       "      <td>230.4</td>\n",
       "    </tr>\n",
       "    <tr>\n",
       "      <th>343525</th>\n",
       "      <td>2018-12-24 11:00:00</td>\n",
       "      <td>9.6</td>\n",
       "      <td>230.4</td>\n",
       "    </tr>\n",
       "    <tr>\n",
       "      <th>343526</th>\n",
       "      <td>2018-12-24 12:00:00</td>\n",
       "      <td>9.6</td>\n",
       "      <td>230.4</td>\n",
       "    </tr>\n",
       "    <tr>\n",
       "      <th>343527</th>\n",
       "      <td>2018-12-24 13:00:00</td>\n",
       "      <td>9.6</td>\n",
       "      <td>230.4</td>\n",
       "    </tr>\n",
       "    <tr>\n",
       "      <th>343528</th>\n",
       "      <td>2018-12-24 14:00:00</td>\n",
       "      <td>9.6</td>\n",
       "      <td>230.4</td>\n",
       "    </tr>\n",
       "    <tr>\n",
       "      <th>343529</th>\n",
       "      <td>2018-12-24 15:00:00</td>\n",
       "      <td>9.6</td>\n",
       "      <td>230.4</td>\n",
       "    </tr>\n",
       "    <tr>\n",
       "      <th>343530</th>\n",
       "      <td>2018-12-24 16:00:00</td>\n",
       "      <td>9.6</td>\n",
       "      <td>230.4</td>\n",
       "    </tr>\n",
       "    <tr>\n",
       "      <th>343531</th>\n",
       "      <td>2018-12-24 17:00:00</td>\n",
       "      <td>9.6</td>\n",
       "      <td>230.4</td>\n",
       "    </tr>\n",
       "    <tr>\n",
       "      <th>343532</th>\n",
       "      <td>2018-12-24 18:00:00</td>\n",
       "      <td>9.6</td>\n",
       "      <td>230.4</td>\n",
       "    </tr>\n",
       "    <tr>\n",
       "      <th>343533</th>\n",
       "      <td>2018-12-24 19:00:00</td>\n",
       "      <td>9.6</td>\n",
       "      <td>230.4</td>\n",
       "    </tr>\n",
       "    <tr>\n",
       "      <th>343534</th>\n",
       "      <td>2018-12-24 20:00:00</td>\n",
       "      <td>9.6</td>\n",
       "      <td>230.4</td>\n",
       "    </tr>\n",
       "    <tr>\n",
       "      <th>343535</th>\n",
       "      <td>2018-12-24 21:00:00</td>\n",
       "      <td>9.6</td>\n",
       "      <td>230.4</td>\n",
       "    </tr>\n",
       "    <tr>\n",
       "      <th>343536</th>\n",
       "      <td>2018-12-24 22:00:00</td>\n",
       "      <td>9.6</td>\n",
       "      <td>230.4</td>\n",
       "    </tr>\n",
       "    <tr>\n",
       "      <th>343537</th>\n",
       "      <td>2018-12-24 23:00:00</td>\n",
       "      <td>9.6</td>\n",
       "      <td>230.4</td>\n",
       "    </tr>\n",
       "    <tr>\n",
       "      <th>343682</th>\n",
       "      <td>2018-12-25 00:00:00</td>\n",
       "      <td>9.6</td>\n",
       "      <td>230.4</td>\n",
       "    </tr>\n",
       "    <tr>\n",
       "      <th>343683</th>\n",
       "      <td>2018-12-25 01:00:00</td>\n",
       "      <td>9.6</td>\n",
       "      <td>230.4</td>\n",
       "    </tr>\n",
       "    <tr>\n",
       "      <th>343684</th>\n",
       "      <td>2018-12-25 02:00:00</td>\n",
       "      <td>9.6</td>\n",
       "      <td>230.4</td>\n",
       "    </tr>\n",
       "    <tr>\n",
       "      <th>343685</th>\n",
       "      <td>2018-12-25 03:00:00</td>\n",
       "      <td>9.6</td>\n",
       "      <td>230.4</td>\n",
       "    </tr>\n",
       "    <tr>\n",
       "      <th>343686</th>\n",
       "      <td>2018-12-25 04:00:00</td>\n",
       "      <td>9.6</td>\n",
       "      <td>230.4</td>\n",
       "    </tr>\n",
       "    <tr>\n",
       "      <th>343687</th>\n",
       "      <td>2018-12-25 05:00:00</td>\n",
       "      <td>9.6</td>\n",
       "      <td>230.4</td>\n",
       "    </tr>\n",
       "    <tr>\n",
       "      <th>343688</th>\n",
       "      <td>2018-12-25 06:00:00</td>\n",
       "      <td>9.6</td>\n",
       "      <td>230.4</td>\n",
       "    </tr>\n",
       "    <tr>\n",
       "      <th>343689</th>\n",
       "      <td>2018-12-25 07:00:00</td>\n",
       "      <td>9.6</td>\n",
       "      <td>230.4</td>\n",
       "    </tr>\n",
       "    <tr>\n",
       "      <th>343690</th>\n",
       "      <td>2018-12-25 08:00:00</td>\n",
       "      <td>9.6</td>\n",
       "      <td>230.4</td>\n",
       "    </tr>\n",
       "    <tr>\n",
       "      <th>343691</th>\n",
       "      <td>2018-12-25 09:00:00</td>\n",
       "      <td>9.6</td>\n",
       "      <td>230.4</td>\n",
       "    </tr>\n",
       "    <tr>\n",
       "      <th>343692</th>\n",
       "      <td>2018-12-25 10:00:00</td>\n",
       "      <td>9.6</td>\n",
       "      <td>230.4</td>\n",
       "    </tr>\n",
       "    <tr>\n",
       "      <th>343693</th>\n",
       "      <td>2018-12-25 11:00:00</td>\n",
       "      <td>9.6</td>\n",
       "      <td>230.4</td>\n",
       "    </tr>\n",
       "    <tr>\n",
       "      <th>343694</th>\n",
       "      <td>2018-12-25 12:00:00</td>\n",
       "      <td>9.6</td>\n",
       "      <td>230.4</td>\n",
       "    </tr>\n",
       "    <tr>\n",
       "      <th>343695</th>\n",
       "      <td>2018-12-25 13:00:00</td>\n",
       "      <td>9.6</td>\n",
       "      <td>230.4</td>\n",
       "    </tr>\n",
       "    <tr>\n",
       "      <th>343696</th>\n",
       "      <td>2018-12-25 14:00:00</td>\n",
       "      <td>9.6</td>\n",
       "      <td>230.4</td>\n",
       "    </tr>\n",
       "    <tr>\n",
       "      <th>343697</th>\n",
       "      <td>2018-12-25 15:00:00</td>\n",
       "      <td>9.6</td>\n",
       "      <td>230.4</td>\n",
       "    </tr>\n",
       "    <tr>\n",
       "      <th>343698</th>\n",
       "      <td>2018-12-25 16:00:00</td>\n",
       "      <td>9.6</td>\n",
       "      <td>230.4</td>\n",
       "    </tr>\n",
       "    <tr>\n",
       "      <th>343699</th>\n",
       "      <td>2018-12-25 17:00:00</td>\n",
       "      <td>9.6</td>\n",
       "      <td>230.4</td>\n",
       "    </tr>\n",
       "    <tr>\n",
       "      <th>343700</th>\n",
       "      <td>2018-12-25 18:00:00</td>\n",
       "      <td>9.6</td>\n",
       "      <td>230.4</td>\n",
       "    </tr>\n",
       "    <tr>\n",
       "      <th>343701</th>\n",
       "      <td>2018-12-25 19:00:00</td>\n",
       "      <td>9.6</td>\n",
       "      <td>230.4</td>\n",
       "    </tr>\n",
       "    <tr>\n",
       "      <th>343702</th>\n",
       "      <td>2018-12-25 20:00:00</td>\n",
       "      <td>9.6</td>\n",
       "      <td>230.4</td>\n",
       "    </tr>\n",
       "    <tr>\n",
       "      <th>343703</th>\n",
       "      <td>2018-12-25 21:00:00</td>\n",
       "      <td>9.6</td>\n",
       "      <td>230.4</td>\n",
       "    </tr>\n",
       "    <tr>\n",
       "      <th>343704</th>\n",
       "      <td>2018-12-25 22:00:00</td>\n",
       "      <td>9.6</td>\n",
       "      <td>230.4</td>\n",
       "    </tr>\n",
       "    <tr>\n",
       "      <th>343705</th>\n",
       "      <td>2018-12-25 23:00:00</td>\n",
       "      <td>9.6</td>\n",
       "      <td>230.4</td>\n",
       "    </tr>\n",
       "    <tr>\n",
       "      <th>343826</th>\n",
       "      <td>2018-12-26 00:00:00</td>\n",
       "      <td>9.6</td>\n",
       "      <td>230.4</td>\n",
       "    </tr>\n",
       "    <tr>\n",
       "      <th>343827</th>\n",
       "      <td>2018-12-26 01:00:00</td>\n",
       "      <td>9.6</td>\n",
       "      <td>230.4</td>\n",
       "    </tr>\n",
       "    <tr>\n",
       "      <th>343828</th>\n",
       "      <td>2018-12-26 02:00:00</td>\n",
       "      <td>9.6</td>\n",
       "      <td>230.4</td>\n",
       "    </tr>\n",
       "    <tr>\n",
       "      <th>343829</th>\n",
       "      <td>2018-12-26 03:00:00</td>\n",
       "      <td>9.6</td>\n",
       "      <td>230.4</td>\n",
       "    </tr>\n",
       "    <tr>\n",
       "      <th>343830</th>\n",
       "      <td>2018-12-26 04:00:00</td>\n",
       "      <td>9.6</td>\n",
       "      <td>230.4</td>\n",
       "    </tr>\n",
       "    <tr>\n",
       "      <th>343831</th>\n",
       "      <td>2018-12-26 05:00:00</td>\n",
       "      <td>9.6</td>\n",
       "      <td>230.4</td>\n",
       "    </tr>\n",
       "    <tr>\n",
       "      <th>343832</th>\n",
       "      <td>2018-12-26 06:00:00</td>\n",
       "      <td>9.6</td>\n",
       "      <td>230.4</td>\n",
       "    </tr>\n",
       "    <tr>\n",
       "      <th>343833</th>\n",
       "      <td>2018-12-26 07:00:00</td>\n",
       "      <td>9.6</td>\n",
       "      <td>230.4</td>\n",
       "    </tr>\n",
       "    <tr>\n",
       "      <th>343834</th>\n",
       "      <td>2018-12-26 08:00:00</td>\n",
       "      <td>9.6</td>\n",
       "      <td>230.4</td>\n",
       "    </tr>\n",
       "    <tr>\n",
       "      <th>343835</th>\n",
       "      <td>2018-12-26 09:00:00</td>\n",
       "      <td>9.6</td>\n",
       "      <td>230.4</td>\n",
       "    </tr>\n",
       "    <tr>\n",
       "      <th>343836</th>\n",
       "      <td>2018-12-26 10:00:00</td>\n",
       "      <td>9.6</td>\n",
       "      <td>230.4</td>\n",
       "    </tr>\n",
       "    <tr>\n",
       "      <th>343837</th>\n",
       "      <td>2018-12-26 11:00:00</td>\n",
       "      <td>9.6</td>\n",
       "      <td>230.4</td>\n",
       "    </tr>\n",
       "    <tr>\n",
       "      <th>343838</th>\n",
       "      <td>2018-12-26 12:00:00</td>\n",
       "      <td>9.6</td>\n",
       "      <td>230.4</td>\n",
       "    </tr>\n",
       "    <tr>\n",
       "      <th>343839</th>\n",
       "      <td>2018-12-26 13:00:00</td>\n",
       "      <td>9.6</td>\n",
       "      <td>230.4</td>\n",
       "    </tr>\n",
       "    <tr>\n",
       "      <th>343840</th>\n",
       "      <td>2018-12-26 14:00:00</td>\n",
       "      <td>9.6</td>\n",
       "      <td>230.4</td>\n",
       "    </tr>\n",
       "    <tr>\n",
       "      <th>343841</th>\n",
       "      <td>2018-12-26 15:00:00</td>\n",
       "      <td>9.6</td>\n",
       "      <td>230.4</td>\n",
       "    </tr>\n",
       "    <tr>\n",
       "      <th>343842</th>\n",
       "      <td>2018-12-26 16:00:00</td>\n",
       "      <td>9.6</td>\n",
       "      <td>230.4</td>\n",
       "    </tr>\n",
       "    <tr>\n",
       "      <th>343843</th>\n",
       "      <td>2018-12-26 17:00:00</td>\n",
       "      <td>9.6</td>\n",
       "      <td>230.4</td>\n",
       "    </tr>\n",
       "    <tr>\n",
       "      <th>343844</th>\n",
       "      <td>2018-12-26 18:00:00</td>\n",
       "      <td>9.6</td>\n",
       "      <td>230.4</td>\n",
       "    </tr>\n",
       "    <tr>\n",
       "      <th>343845</th>\n",
       "      <td>2018-12-26 19:00:00</td>\n",
       "      <td>9.6</td>\n",
       "      <td>230.4</td>\n",
       "    </tr>\n",
       "    <tr>\n",
       "      <th>343846</th>\n",
       "      <td>2018-12-26 20:00:00</td>\n",
       "      <td>9.6</td>\n",
       "      <td>230.4</td>\n",
       "    </tr>\n",
       "    <tr>\n",
       "      <th>343847</th>\n",
       "      <td>2018-12-26 21:00:00</td>\n",
       "      <td>9.6</td>\n",
       "      <td>230.4</td>\n",
       "    </tr>\n",
       "    <tr>\n",
       "      <th>343848</th>\n",
       "      <td>2018-12-26 22:00:00</td>\n",
       "      <td>9.6</td>\n",
       "      <td>230.4</td>\n",
       "    </tr>\n",
       "    <tr>\n",
       "      <th>343849</th>\n",
       "      <td>2018-12-26 23:00:00</td>\n",
       "      <td>9.6</td>\n",
       "      <td>230.4</td>\n",
       "    </tr>\n",
       "    <tr>\n",
       "      <th>343922</th>\n",
       "      <td>2018-12-27 00:00:00</td>\n",
       "      <td>9.6</td>\n",
       "      <td>230.4</td>\n",
       "    </tr>\n",
       "    <tr>\n",
       "      <th>343923</th>\n",
       "      <td>2018-12-27 01:00:00</td>\n",
       "      <td>9.6</td>\n",
       "      <td>230.4</td>\n",
       "    </tr>\n",
       "    <tr>\n",
       "      <th>343924</th>\n",
       "      <td>2018-12-27 02:00:00</td>\n",
       "      <td>9.6</td>\n",
       "      <td>230.4</td>\n",
       "    </tr>\n",
       "    <tr>\n",
       "      <th>343925</th>\n",
       "      <td>2018-12-27 03:00:00</td>\n",
       "      <td>9.6</td>\n",
       "      <td>230.4</td>\n",
       "    </tr>\n",
       "    <tr>\n",
       "      <th>343926</th>\n",
       "      <td>2018-12-27 04:00:00</td>\n",
       "      <td>9.6</td>\n",
       "      <td>230.4</td>\n",
       "    </tr>\n",
       "    <tr>\n",
       "      <th>343927</th>\n",
       "      <td>2018-12-27 05:00:00</td>\n",
       "      <td>9.6</td>\n",
       "      <td>230.4</td>\n",
       "    </tr>\n",
       "    <tr>\n",
       "      <th>343928</th>\n",
       "      <td>2018-12-27 06:00:00</td>\n",
       "      <td>9.6</td>\n",
       "      <td>230.4</td>\n",
       "    </tr>\n",
       "    <tr>\n",
       "      <th>343929</th>\n",
       "      <td>2018-12-27 07:00:00</td>\n",
       "      <td>9.6</td>\n",
       "      <td>230.4</td>\n",
       "    </tr>\n",
       "    <tr>\n",
       "      <th>343930</th>\n",
       "      <td>2018-12-27 08:00:00</td>\n",
       "      <td>9.6</td>\n",
       "      <td>230.4</td>\n",
       "    </tr>\n",
       "    <tr>\n",
       "      <th>343931</th>\n",
       "      <td>2018-12-27 09:00:00</td>\n",
       "      <td>9.6</td>\n",
       "      <td>230.4</td>\n",
       "    </tr>\n",
       "    <tr>\n",
       "      <th>343932</th>\n",
       "      <td>2018-12-27 10:00:00</td>\n",
       "      <td>9.6</td>\n",
       "      <td>230.4</td>\n",
       "    </tr>\n",
       "    <tr>\n",
       "      <th>343933</th>\n",
       "      <td>2018-12-27 11:00:00</td>\n",
       "      <td>9.6</td>\n",
       "      <td>230.4</td>\n",
       "    </tr>\n",
       "    <tr>\n",
       "      <th>343934</th>\n",
       "      <td>2018-12-27 12:00:00</td>\n",
       "      <td>9.6</td>\n",
       "      <td>230.4</td>\n",
       "    </tr>\n",
       "    <tr>\n",
       "      <th>343935</th>\n",
       "      <td>2018-12-27 13:00:00</td>\n",
       "      <td>9.6</td>\n",
       "      <td>230.4</td>\n",
       "    </tr>\n",
       "    <tr>\n",
       "      <th>343936</th>\n",
       "      <td>2018-12-27 14:00:00</td>\n",
       "      <td>9.6</td>\n",
       "      <td>230.4</td>\n",
       "    </tr>\n",
       "    <tr>\n",
       "      <th>343937</th>\n",
       "      <td>2018-12-27 15:00:00</td>\n",
       "      <td>9.6</td>\n",
       "      <td>230.4</td>\n",
       "    </tr>\n",
       "    <tr>\n",
       "      <th>343938</th>\n",
       "      <td>2018-12-27 16:00:00</td>\n",
       "      <td>9.6</td>\n",
       "      <td>230.4</td>\n",
       "    </tr>\n",
       "    <tr>\n",
       "      <th>343939</th>\n",
       "      <td>2018-12-27 17:00:00</td>\n",
       "      <td>9.6</td>\n",
       "      <td>230.4</td>\n",
       "    </tr>\n",
       "    <tr>\n",
       "      <th>343940</th>\n",
       "      <td>2018-12-27 18:00:00</td>\n",
       "      <td>9.6</td>\n",
       "      <td>230.4</td>\n",
       "    </tr>\n",
       "    <tr>\n",
       "      <th>343941</th>\n",
       "      <td>2018-12-27 19:00:00</td>\n",
       "      <td>9.6</td>\n",
       "      <td>230.4</td>\n",
       "    </tr>\n",
       "    <tr>\n",
       "      <th>343942</th>\n",
       "      <td>2018-12-27 20:00:00</td>\n",
       "      <td>9.6</td>\n",
       "      <td>230.4</td>\n",
       "    </tr>\n",
       "    <tr>\n",
       "      <th>343943</th>\n",
       "      <td>2018-12-27 21:00:00</td>\n",
       "      <td>9.6</td>\n",
       "      <td>230.4</td>\n",
       "    </tr>\n",
       "    <tr>\n",
       "      <th>343944</th>\n",
       "      <td>2018-12-27 22:00:00</td>\n",
       "      <td>9.6</td>\n",
       "      <td>230.4</td>\n",
       "    </tr>\n",
       "    <tr>\n",
       "      <th>343945</th>\n",
       "      <td>2018-12-27 23:00:00</td>\n",
       "      <td>9.6</td>\n",
       "      <td>230.4</td>\n",
       "    </tr>\n",
       "    <tr>\n",
       "      <th>344018</th>\n",
       "      <td>2018-12-28 00:00:00</td>\n",
       "      <td>9.6</td>\n",
       "      <td>230.4</td>\n",
       "    </tr>\n",
       "    <tr>\n",
       "      <th>344019</th>\n",
       "      <td>2018-12-28 01:00:00</td>\n",
       "      <td>9.6</td>\n",
       "      <td>230.4</td>\n",
       "    </tr>\n",
       "    <tr>\n",
       "      <th>344020</th>\n",
       "      <td>2018-12-28 02:00:00</td>\n",
       "      <td>9.6</td>\n",
       "      <td>230.4</td>\n",
       "    </tr>\n",
       "    <tr>\n",
       "      <th>344021</th>\n",
       "      <td>2018-12-28 03:00:00</td>\n",
       "      <td>9.6</td>\n",
       "      <td>230.4</td>\n",
       "    </tr>\n",
       "    <tr>\n",
       "      <th>344022</th>\n",
       "      <td>2018-12-28 04:00:00</td>\n",
       "      <td>9.6</td>\n",
       "      <td>230.4</td>\n",
       "    </tr>\n",
       "    <tr>\n",
       "      <th>344023</th>\n",
       "      <td>2018-12-28 05:00:00</td>\n",
       "      <td>9.6</td>\n",
       "      <td>230.4</td>\n",
       "    </tr>\n",
       "    <tr>\n",
       "      <th>344024</th>\n",
       "      <td>2018-12-28 06:00:00</td>\n",
       "      <td>9.6</td>\n",
       "      <td>230.4</td>\n",
       "    </tr>\n",
       "    <tr>\n",
       "      <th>344025</th>\n",
       "      <td>2018-12-28 07:00:00</td>\n",
       "      <td>9.6</td>\n",
       "      <td>230.4</td>\n",
       "    </tr>\n",
       "    <tr>\n",
       "      <th>344026</th>\n",
       "      <td>2018-12-28 08:00:00</td>\n",
       "      <td>9.6</td>\n",
       "      <td>230.4</td>\n",
       "    </tr>\n",
       "    <tr>\n",
       "      <th>344027</th>\n",
       "      <td>2018-12-28 09:00:00</td>\n",
       "      <td>9.6</td>\n",
       "      <td>230.4</td>\n",
       "    </tr>\n",
       "    <tr>\n",
       "      <th>344028</th>\n",
       "      <td>2018-12-28 10:00:00</td>\n",
       "      <td>9.6</td>\n",
       "      <td>230.4</td>\n",
       "    </tr>\n",
       "    <tr>\n",
       "      <th>344029</th>\n",
       "      <td>2018-12-28 11:00:00</td>\n",
       "      <td>9.6</td>\n",
       "      <td>230.4</td>\n",
       "    </tr>\n",
       "    <tr>\n",
       "      <th>344030</th>\n",
       "      <td>2018-12-28 12:00:00</td>\n",
       "      <td>9.6</td>\n",
       "      <td>230.4</td>\n",
       "    </tr>\n",
       "    <tr>\n",
       "      <th>344031</th>\n",
       "      <td>2018-12-28 13:00:00</td>\n",
       "      <td>9.6</td>\n",
       "      <td>230.4</td>\n",
       "    </tr>\n",
       "    <tr>\n",
       "      <th>344032</th>\n",
       "      <td>2018-12-28 14:00:00</td>\n",
       "      <td>9.6</td>\n",
       "      <td>230.4</td>\n",
       "    </tr>\n",
       "    <tr>\n",
       "      <th>344033</th>\n",
       "      <td>2018-12-28 15:00:00</td>\n",
       "      <td>9.6</td>\n",
       "      <td>230.4</td>\n",
       "    </tr>\n",
       "    <tr>\n",
       "      <th>344034</th>\n",
       "      <td>2018-12-28 16:00:00</td>\n",
       "      <td>9.6</td>\n",
       "      <td>230.4</td>\n",
       "    </tr>\n",
       "    <tr>\n",
       "      <th>344035</th>\n",
       "      <td>2018-12-28 17:00:00</td>\n",
       "      <td>9.6</td>\n",
       "      <td>230.4</td>\n",
       "    </tr>\n",
       "    <tr>\n",
       "      <th>344036</th>\n",
       "      <td>2018-12-28 18:00:00</td>\n",
       "      <td>9.6</td>\n",
       "      <td>230.4</td>\n",
       "    </tr>\n",
       "    <tr>\n",
       "      <th>344037</th>\n",
       "      <td>2018-12-28 19:00:00</td>\n",
       "      <td>9.6</td>\n",
       "      <td>230.4</td>\n",
       "    </tr>\n",
       "    <tr>\n",
       "      <th>344038</th>\n",
       "      <td>2018-12-28 20:00:00</td>\n",
       "      <td>9.6</td>\n",
       "      <td>230.4</td>\n",
       "    </tr>\n",
       "    <tr>\n",
       "      <th>344039</th>\n",
       "      <td>2018-12-28 21:00:00</td>\n",
       "      <td>9.6</td>\n",
       "      <td>230.4</td>\n",
       "    </tr>\n",
       "    <tr>\n",
       "      <th>344040</th>\n",
       "      <td>2018-12-28 22:00:00</td>\n",
       "      <td>9.6</td>\n",
       "      <td>230.4</td>\n",
       "    </tr>\n",
       "    <tr>\n",
       "      <th>344041</th>\n",
       "      <td>2018-12-28 23:00:00</td>\n",
       "      <td>9.6</td>\n",
       "      <td>230.4</td>\n",
       "    </tr>\n",
       "    <tr>\n",
       "      <th>344114</th>\n",
       "      <td>2018-12-29 00:00:00</td>\n",
       "      <td>9.6</td>\n",
       "      <td>230.4</td>\n",
       "    </tr>\n",
       "    <tr>\n",
       "      <th>344115</th>\n",
       "      <td>2018-12-29 01:00:00</td>\n",
       "      <td>9.6</td>\n",
       "      <td>230.4</td>\n",
       "    </tr>\n",
       "    <tr>\n",
       "      <th>344116</th>\n",
       "      <td>2018-12-29 02:00:00</td>\n",
       "      <td>9.6</td>\n",
       "      <td>230.4</td>\n",
       "    </tr>\n",
       "    <tr>\n",
       "      <th>344117</th>\n",
       "      <td>2018-12-29 03:00:00</td>\n",
       "      <td>9.6</td>\n",
       "      <td>230.4</td>\n",
       "    </tr>\n",
       "    <tr>\n",
       "      <th>344118</th>\n",
       "      <td>2018-12-29 04:00:00</td>\n",
       "      <td>9.6</td>\n",
       "      <td>230.4</td>\n",
       "    </tr>\n",
       "    <tr>\n",
       "      <th>344119</th>\n",
       "      <td>2018-12-29 05:00:00</td>\n",
       "      <td>9.6</td>\n",
       "      <td>230.4</td>\n",
       "    </tr>\n",
       "    <tr>\n",
       "      <th>344120</th>\n",
       "      <td>2018-12-29 06:00:00</td>\n",
       "      <td>9.6</td>\n",
       "      <td>230.4</td>\n",
       "    </tr>\n",
       "    <tr>\n",
       "      <th>344121</th>\n",
       "      <td>2018-12-29 07:00:00</td>\n",
       "      <td>9.6</td>\n",
       "      <td>230.4</td>\n",
       "    </tr>\n",
       "    <tr>\n",
       "      <th>344122</th>\n",
       "      <td>2018-12-29 08:00:00</td>\n",
       "      <td>9.6</td>\n",
       "      <td>230.4</td>\n",
       "    </tr>\n",
       "    <tr>\n",
       "      <th>344123</th>\n",
       "      <td>2018-12-29 09:00:00</td>\n",
       "      <td>9.6</td>\n",
       "      <td>230.4</td>\n",
       "    </tr>\n",
       "    <tr>\n",
       "      <th>344124</th>\n",
       "      <td>2018-12-29 10:00:00</td>\n",
       "      <td>9.6</td>\n",
       "      <td>230.4</td>\n",
       "    </tr>\n",
       "    <tr>\n",
       "      <th>344125</th>\n",
       "      <td>2018-12-29 11:00:00</td>\n",
       "      <td>9.6</td>\n",
       "      <td>230.4</td>\n",
       "    </tr>\n",
       "    <tr>\n",
       "      <th>344126</th>\n",
       "      <td>2018-12-29 12:00:00</td>\n",
       "      <td>9.6</td>\n",
       "      <td>230.4</td>\n",
       "    </tr>\n",
       "    <tr>\n",
       "      <th>344127</th>\n",
       "      <td>2018-12-29 13:00:00</td>\n",
       "      <td>9.6</td>\n",
       "      <td>230.4</td>\n",
       "    </tr>\n",
       "    <tr>\n",
       "      <th>344128</th>\n",
       "      <td>2018-12-29 14:00:00</td>\n",
       "      <td>9.6</td>\n",
       "      <td>230.4</td>\n",
       "    </tr>\n",
       "    <tr>\n",
       "      <th>344129</th>\n",
       "      <td>2018-12-29 15:00:00</td>\n",
       "      <td>9.6</td>\n",
       "      <td>230.4</td>\n",
       "    </tr>\n",
       "    <tr>\n",
       "      <th>344130</th>\n",
       "      <td>2018-12-29 16:00:00</td>\n",
       "      <td>9.6</td>\n",
       "      <td>230.4</td>\n",
       "    </tr>\n",
       "    <tr>\n",
       "      <th>344131</th>\n",
       "      <td>2018-12-29 17:00:00</td>\n",
       "      <td>9.6</td>\n",
       "      <td>230.4</td>\n",
       "    </tr>\n",
       "    <tr>\n",
       "      <th>344132</th>\n",
       "      <td>2018-12-29 18:00:00</td>\n",
       "      <td>9.6</td>\n",
       "      <td>230.4</td>\n",
       "    </tr>\n",
       "    <tr>\n",
       "      <th>344133</th>\n",
       "      <td>2018-12-29 19:00:00</td>\n",
       "      <td>9.6</td>\n",
       "      <td>230.4</td>\n",
       "    </tr>\n",
       "    <tr>\n",
       "      <th>344134</th>\n",
       "      <td>2018-12-29 20:00:00</td>\n",
       "      <td>9.6</td>\n",
       "      <td>230.4</td>\n",
       "    </tr>\n",
       "    <tr>\n",
       "      <th>344135</th>\n",
       "      <td>2018-12-29 21:00:00</td>\n",
       "      <td>9.6</td>\n",
       "      <td>230.4</td>\n",
       "    </tr>\n",
       "    <tr>\n",
       "      <th>344136</th>\n",
       "      <td>2018-12-29 22:00:00</td>\n",
       "      <td>9.6</td>\n",
       "      <td>230.4</td>\n",
       "    </tr>\n",
       "    <tr>\n",
       "      <th>344137</th>\n",
       "      <td>2018-12-29 23:00:00</td>\n",
       "      <td>9.6</td>\n",
       "      <td>230.4</td>\n",
       "    </tr>\n",
       "    <tr>\n",
       "      <th>344258</th>\n",
       "      <td>2018-12-30 00:00:00</td>\n",
       "      <td>9.6</td>\n",
       "      <td>230.4</td>\n",
       "    </tr>\n",
       "  </tbody>\n",
       "</table>\n",
       "</div>"
      ],
      "text/plain": [
       "                 Data_Hora  Precipitacao  PrecSum\n",
       "343418 2018-12-23 00:00:00           0.0     78.4\n",
       "343419 2018-12-23 01:00:00           0.0     78.4\n",
       "343420 2018-12-23 02:00:00           0.0     78.4\n",
       "343421 2018-12-23 03:00:00           1.0     78.4\n",
       "343422 2018-12-23 04:00:00           0.6     78.4\n",
       "343423 2018-12-23 05:00:00           0.0     78.4\n",
       "343424 2018-12-23 06:00:00           0.0     78.4\n",
       "343425 2018-12-23 07:00:00           0.0     78.4\n",
       "343426 2018-12-23 08:00:00           0.0     78.4\n",
       "343427 2018-12-23 09:00:00           0.0     78.4\n",
       "343428 2018-12-23 10:00:00           0.0     78.4\n",
       "343429 2018-12-23 11:00:00           0.0     78.4\n",
       "343430 2018-12-23 12:00:00           0.0     78.4\n",
       "343431 2018-12-23 13:00:00           0.0     78.4\n",
       "343432 2018-12-23 14:00:00           0.0     78.4\n",
       "343433 2018-12-23 15:00:00           0.0     78.4\n",
       "343434 2018-12-23 16:00:00           9.6     78.4\n",
       "343435 2018-12-23 17:00:00           9.6     78.4\n",
       "343436 2018-12-23 18:00:00           9.6     78.4\n",
       "343437 2018-12-23 19:00:00           9.6     78.4\n",
       "343438 2018-12-23 20:00:00           9.6     78.4\n",
       "343439 2018-12-23 21:00:00           9.6     78.4\n",
       "343440 2018-12-23 22:00:00           9.6     78.4\n",
       "343441 2018-12-23 23:00:00           9.6     78.4\n",
       "343514 2018-12-24 00:00:00           9.6    230.4\n",
       "343515 2018-12-24 01:00:00           9.6    230.4\n",
       "343516 2018-12-24 02:00:00           9.6    230.4\n",
       "343517 2018-12-24 03:00:00           9.6    230.4\n",
       "343518 2018-12-24 04:00:00           9.6    230.4\n",
       "343519 2018-12-24 05:00:00           9.6    230.4\n",
       "343520 2018-12-24 06:00:00           9.6    230.4\n",
       "343521 2018-12-24 07:00:00           9.6    230.4\n",
       "343522 2018-12-24 08:00:00           9.6    230.4\n",
       "343523 2018-12-24 09:00:00           9.6    230.4\n",
       "343524 2018-12-24 10:00:00           9.6    230.4\n",
       "343525 2018-12-24 11:00:00           9.6    230.4\n",
       "343526 2018-12-24 12:00:00           9.6    230.4\n",
       "343527 2018-12-24 13:00:00           9.6    230.4\n",
       "343528 2018-12-24 14:00:00           9.6    230.4\n",
       "343529 2018-12-24 15:00:00           9.6    230.4\n",
       "343530 2018-12-24 16:00:00           9.6    230.4\n",
       "343531 2018-12-24 17:00:00           9.6    230.4\n",
       "343532 2018-12-24 18:00:00           9.6    230.4\n",
       "343533 2018-12-24 19:00:00           9.6    230.4\n",
       "343534 2018-12-24 20:00:00           9.6    230.4\n",
       "343535 2018-12-24 21:00:00           9.6    230.4\n",
       "343536 2018-12-24 22:00:00           9.6    230.4\n",
       "343537 2018-12-24 23:00:00           9.6    230.4\n",
       "343682 2018-12-25 00:00:00           9.6    230.4\n",
       "343683 2018-12-25 01:00:00           9.6    230.4\n",
       "343684 2018-12-25 02:00:00           9.6    230.4\n",
       "343685 2018-12-25 03:00:00           9.6    230.4\n",
       "343686 2018-12-25 04:00:00           9.6    230.4\n",
       "343687 2018-12-25 05:00:00           9.6    230.4\n",
       "343688 2018-12-25 06:00:00           9.6    230.4\n",
       "343689 2018-12-25 07:00:00           9.6    230.4\n",
       "343690 2018-12-25 08:00:00           9.6    230.4\n",
       "343691 2018-12-25 09:00:00           9.6    230.4\n",
       "343692 2018-12-25 10:00:00           9.6    230.4\n",
       "343693 2018-12-25 11:00:00           9.6    230.4\n",
       "343694 2018-12-25 12:00:00           9.6    230.4\n",
       "343695 2018-12-25 13:00:00           9.6    230.4\n",
       "343696 2018-12-25 14:00:00           9.6    230.4\n",
       "343697 2018-12-25 15:00:00           9.6    230.4\n",
       "343698 2018-12-25 16:00:00           9.6    230.4\n",
       "343699 2018-12-25 17:00:00           9.6    230.4\n",
       "343700 2018-12-25 18:00:00           9.6    230.4\n",
       "343701 2018-12-25 19:00:00           9.6    230.4\n",
       "343702 2018-12-25 20:00:00           9.6    230.4\n",
       "343703 2018-12-25 21:00:00           9.6    230.4\n",
       "343704 2018-12-25 22:00:00           9.6    230.4\n",
       "343705 2018-12-25 23:00:00           9.6    230.4\n",
       "343826 2018-12-26 00:00:00           9.6    230.4\n",
       "343827 2018-12-26 01:00:00           9.6    230.4\n",
       "343828 2018-12-26 02:00:00           9.6    230.4\n",
       "343829 2018-12-26 03:00:00           9.6    230.4\n",
       "343830 2018-12-26 04:00:00           9.6    230.4\n",
       "343831 2018-12-26 05:00:00           9.6    230.4\n",
       "343832 2018-12-26 06:00:00           9.6    230.4\n",
       "343833 2018-12-26 07:00:00           9.6    230.4\n",
       "343834 2018-12-26 08:00:00           9.6    230.4\n",
       "343835 2018-12-26 09:00:00           9.6    230.4\n",
       "343836 2018-12-26 10:00:00           9.6    230.4\n",
       "343837 2018-12-26 11:00:00           9.6    230.4\n",
       "343838 2018-12-26 12:00:00           9.6    230.4\n",
       "343839 2018-12-26 13:00:00           9.6    230.4\n",
       "343840 2018-12-26 14:00:00           9.6    230.4\n",
       "343841 2018-12-26 15:00:00           9.6    230.4\n",
       "343842 2018-12-26 16:00:00           9.6    230.4\n",
       "343843 2018-12-26 17:00:00           9.6    230.4\n",
       "343844 2018-12-26 18:00:00           9.6    230.4\n",
       "343845 2018-12-26 19:00:00           9.6    230.4\n",
       "343846 2018-12-26 20:00:00           9.6    230.4\n",
       "343847 2018-12-26 21:00:00           9.6    230.4\n",
       "343848 2018-12-26 22:00:00           9.6    230.4\n",
       "343849 2018-12-26 23:00:00           9.6    230.4\n",
       "343922 2018-12-27 00:00:00           9.6    230.4\n",
       "343923 2018-12-27 01:00:00           9.6    230.4\n",
       "343924 2018-12-27 02:00:00           9.6    230.4\n",
       "343925 2018-12-27 03:00:00           9.6    230.4\n",
       "343926 2018-12-27 04:00:00           9.6    230.4\n",
       "343927 2018-12-27 05:00:00           9.6    230.4\n",
       "343928 2018-12-27 06:00:00           9.6    230.4\n",
       "343929 2018-12-27 07:00:00           9.6    230.4\n",
       "343930 2018-12-27 08:00:00           9.6    230.4\n",
       "343931 2018-12-27 09:00:00           9.6    230.4\n",
       "343932 2018-12-27 10:00:00           9.6    230.4\n",
       "343933 2018-12-27 11:00:00           9.6    230.4\n",
       "343934 2018-12-27 12:00:00           9.6    230.4\n",
       "343935 2018-12-27 13:00:00           9.6    230.4\n",
       "343936 2018-12-27 14:00:00           9.6    230.4\n",
       "343937 2018-12-27 15:00:00           9.6    230.4\n",
       "343938 2018-12-27 16:00:00           9.6    230.4\n",
       "343939 2018-12-27 17:00:00           9.6    230.4\n",
       "343940 2018-12-27 18:00:00           9.6    230.4\n",
       "343941 2018-12-27 19:00:00           9.6    230.4\n",
       "343942 2018-12-27 20:00:00           9.6    230.4\n",
       "343943 2018-12-27 21:00:00           9.6    230.4\n",
       "343944 2018-12-27 22:00:00           9.6    230.4\n",
       "343945 2018-12-27 23:00:00           9.6    230.4\n",
       "344018 2018-12-28 00:00:00           9.6    230.4\n",
       "344019 2018-12-28 01:00:00           9.6    230.4\n",
       "344020 2018-12-28 02:00:00           9.6    230.4\n",
       "344021 2018-12-28 03:00:00           9.6    230.4\n",
       "344022 2018-12-28 04:00:00           9.6    230.4\n",
       "344023 2018-12-28 05:00:00           9.6    230.4\n",
       "344024 2018-12-28 06:00:00           9.6    230.4\n",
       "344025 2018-12-28 07:00:00           9.6    230.4\n",
       "344026 2018-12-28 08:00:00           9.6    230.4\n",
       "344027 2018-12-28 09:00:00           9.6    230.4\n",
       "344028 2018-12-28 10:00:00           9.6    230.4\n",
       "344029 2018-12-28 11:00:00           9.6    230.4\n",
       "344030 2018-12-28 12:00:00           9.6    230.4\n",
       "344031 2018-12-28 13:00:00           9.6    230.4\n",
       "344032 2018-12-28 14:00:00           9.6    230.4\n",
       "344033 2018-12-28 15:00:00           9.6    230.4\n",
       "344034 2018-12-28 16:00:00           9.6    230.4\n",
       "344035 2018-12-28 17:00:00           9.6    230.4\n",
       "344036 2018-12-28 18:00:00           9.6    230.4\n",
       "344037 2018-12-28 19:00:00           9.6    230.4\n",
       "344038 2018-12-28 20:00:00           9.6    230.4\n",
       "344039 2018-12-28 21:00:00           9.6    230.4\n",
       "344040 2018-12-28 22:00:00           9.6    230.4\n",
       "344041 2018-12-28 23:00:00           9.6    230.4\n",
       "344114 2018-12-29 00:00:00           9.6    230.4\n",
       "344115 2018-12-29 01:00:00           9.6    230.4\n",
       "344116 2018-12-29 02:00:00           9.6    230.4\n",
       "344117 2018-12-29 03:00:00           9.6    230.4\n",
       "344118 2018-12-29 04:00:00           9.6    230.4\n",
       "344119 2018-12-29 05:00:00           9.6    230.4\n",
       "344120 2018-12-29 06:00:00           9.6    230.4\n",
       "344121 2018-12-29 07:00:00           9.6    230.4\n",
       "344122 2018-12-29 08:00:00           9.6    230.4\n",
       "344123 2018-12-29 09:00:00           9.6    230.4\n",
       "344124 2018-12-29 10:00:00           9.6    230.4\n",
       "344125 2018-12-29 11:00:00           9.6    230.4\n",
       "344126 2018-12-29 12:00:00           9.6    230.4\n",
       "344127 2018-12-29 13:00:00           9.6    230.4\n",
       "344128 2018-12-29 14:00:00           9.6    230.4\n",
       "344129 2018-12-29 15:00:00           9.6    230.4\n",
       "344130 2018-12-29 16:00:00           9.6    230.4\n",
       "344131 2018-12-29 17:00:00           9.6    230.4\n",
       "344132 2018-12-29 18:00:00           9.6    230.4\n",
       "344133 2018-12-29 19:00:00           9.6    230.4\n",
       "344134 2018-12-29 20:00:00           9.6    230.4\n",
       "344135 2018-12-29 21:00:00           9.6    230.4\n",
       "344136 2018-12-29 22:00:00           9.6    230.4\n",
       "344137 2018-12-29 23:00:00           9.6    230.4\n",
       "344258 2018-12-30 00:00:00           9.6    230.4"
      ]
     },
     "execution_count": 38,
     "metadata": {},
     "output_type": "execute_result"
    }
   ],
   "source": [
    "pd.set_option(\"display.max_rows\", 200)\n",
    "df_f_ohe[(df_f_ohe['Data_Hora'] >= datetime(2018,12,23)) & (df_f_ohe['Data_Hora'] <= datetime(2018,12,30)) & (df_f_ohe['Local'] == 4)][['Data_Hora', 'Precipitacao', 'PrecSum']]"
   ]
  },
  {
   "cell_type": "code",
   "execution_count": 39,
   "metadata": {},
   "outputs": [
    {
     "data": {
      "text/plain": [
       "48        1\n",
       "49        1\n",
       "50        1\n",
       "51        1\n",
       "52        1\n",
       "         ..\n",
       "365972    5\n",
       "365973    5\n",
       "365974    5\n",
       "365975    5\n",
       "365976    5\n",
       "Name: Local, Length: 366025, dtype: int64"
      ]
     },
     "execution_count": 39,
     "metadata": {},
     "output_type": "execute_result"
    }
   ],
   "source": [
    "df_f_ohe['Local']"
   ]
  },
  {
   "cell_type": "markdown",
   "metadata": {},
   "source": [
    "# Usar modelo 1 para gerar novas labels"
   ]
  },
  {
   "cell_type": "markdown",
   "metadata": {},
   "source": [
    "## Treinar modelo"
   ]
  },
  {
   "cell_type": "code",
   "execution_count": 117,
   "metadata": {},
   "outputs": [
    {
     "data": {
      "text/html": [
       "<div>\n",
       "<style scoped>\n",
       "    .dataframe tbody tr th:only-of-type {\n",
       "        vertical-align: middle;\n",
       "    }\n",
       "\n",
       "    .dataframe tbody tr th {\n",
       "        vertical-align: top;\n",
       "    }\n",
       "\n",
       "    .dataframe thead th {\n",
       "        text-align: right;\n",
       "    }\n",
       "</style>\n",
       "<table border=\"1\" class=\"dataframe\">\n",
       "  <thead>\n",
       "    <tr style=\"text-align: right;\">\n",
       "      <th></th>\n",
       "      <th>Data_Hora</th>\n",
       "      <th>Mes</th>\n",
       "      <th>Dia</th>\n",
       "      <th>Local</th>\n",
       "      <th>Precipitacao</th>\n",
       "      <th>PrecSum</th>\n",
       "    </tr>\n",
       "    <tr>\n",
       "      <th>Label</th>\n",
       "      <th></th>\n",
       "      <th></th>\n",
       "      <th></th>\n",
       "      <th></th>\n",
       "      <th></th>\n",
       "      <th></th>\n",
       "    </tr>\n",
       "  </thead>\n",
       "  <tbody>\n",
       "    <tr>\n",
       "      <th>0.0</th>\n",
       "      <td>359227</td>\n",
       "      <td>359227</td>\n",
       "      <td>359227</td>\n",
       "      <td>359227</td>\n",
       "      <td>359227</td>\n",
       "      <td>359227</td>\n",
       "    </tr>\n",
       "    <tr>\n",
       "      <th>1.0</th>\n",
       "      <td>6798</td>\n",
       "      <td>6798</td>\n",
       "      <td>6798</td>\n",
       "      <td>6798</td>\n",
       "      <td>6798</td>\n",
       "      <td>6798</td>\n",
       "    </tr>\n",
       "  </tbody>\n",
       "</table>\n",
       "</div>"
      ],
      "text/plain": [
       "       Data_Hora     Mes     Dia   Local  Precipitacao  PrecSum\n",
       "Label                                                          \n",
       "0.0       359227  359227  359227  359227        359227   359227\n",
       "1.0         6798    6798    6798    6798          6798     6798"
      ]
     },
     "execution_count": 117,
     "metadata": {},
     "output_type": "execute_result"
    }
   ],
   "source": [
    "df_p = pd.read_csv('../../../data/cleandata/Info pluviometricas/Merged Data/prepped_data.csv', sep=';')\n",
    "df_p['Data_Hora'] = pd.to_datetime(df_p['Data_Hora'], yearfirst=True)\n",
    "df_p.groupby('Label').count()"
   ]
  },
  {
   "cell_type": "code",
   "execution_count": 118,
   "metadata": {},
   "outputs": [],
   "source": [
    "df_p = df_p.sort_values(['Data_Hora', 'Local'])"
   ]
  },
  {
   "cell_type": "code",
   "execution_count": 64,
   "metadata": {},
   "outputs": [
    {
     "name": "stdout",
     "output_type": "stream",
     "text": [
      "----- LOCAL 0 -----\n",
      "Treino: 0.9997236118954259\n",
      "Teste: 0.9995173393559668\n",
      "Precisão: 0.9778633301251203\n",
      "Recall: 0.9965669445806769\n",
      "F1: 0.9871265484576148\n"
     ]
    },
    {
     "data": {
      "text/plain": [
       "array([[9.99573161e-01, 4.26838887e-04],\n",
       "       [3.43305542e-03, 9.96566945e-01]])"
      ]
     },
     "metadata": {},
     "output_type": "display_data"
    },
    {
     "data": {
      "text/plain": [
       "array([[107723,     46],\n",
       "       [     7,   2032]], dtype=int64)"
      ]
     },
     "metadata": {},
     "output_type": "display_data"
    },
    {
     "name": "stdout",
     "output_type": "stream",
     "text": [
      "----- LOCAL 1 -----\n",
      "Treino: 0.999791007344599\n",
      "Teste: 0.9994080684819233\n",
      "Precisão: 0.9837209302325581\n",
      "Recall: 0.986013986013986\n",
      "F1: 0.9848661233993015\n"
     ]
    },
    {
     "data": {
      "text/plain": [
       "array([[9.99674918e-01, 3.25082432e-04],\n",
       "       [1.39860140e-02, 9.86013986e-01]])"
      ]
     },
     "metadata": {},
     "output_type": "display_data"
    },
    {
     "data": {
      "text/plain": [
       "array([[21526,     7],\n",
       "       [    6,   423]], dtype=int64)"
      ]
     },
     "metadata": {},
     "output_type": "display_data"
    },
    {
     "name": "stdout",
     "output_type": "stream",
     "text": [
      "----- LOCAL 2 -----\n",
      "Treino: 1.0\n",
      "Teste: 1.0\n",
      "Precisão: 1.0\n",
      "Recall: 1.0\n",
      "F1: 1.0\n"
     ]
    },
    {
     "data": {
      "text/plain": [
       "array([[1., 0.],\n",
       "       [0., 1.]])"
      ]
     },
     "metadata": {},
     "output_type": "display_data"
    },
    {
     "data": {
      "text/plain": [
       "array([[21568,     0],\n",
       "       [    0,   394]], dtype=int64)"
      ]
     },
     "metadata": {},
     "output_type": "display_data"
    },
    {
     "name": "stdout",
     "output_type": "stream",
     "text": [
      "----- LOCAL 3 -----\n",
      "Treino: 1.0\n",
      "Teste: 1.0\n",
      "Precisão: 1.0\n",
      "Recall: 1.0\n",
      "F1: 1.0\n"
     ]
    },
    {
     "data": {
      "text/plain": [
       "array([[1., 0.],\n",
       "       [0., 1.]])"
      ]
     },
     "metadata": {},
     "output_type": "display_data"
    },
    {
     "data": {
      "text/plain": [
       "array([[21590,     0],\n",
       "       [    0,   372]], dtype=int64)"
      ]
     },
     "metadata": {},
     "output_type": "display_data"
    },
    {
     "name": "stdout",
     "output_type": "stream",
     "text": [
      "----- LOCAL 4 -----\n",
      "Treino: 0.9997609942638623\n",
      "Teste: 0.9989072033512431\n",
      "Precisão: 0.9487179487179487\n",
      "Recall: 1.0\n",
      "F1: 0.9736842105263158\n"
     ]
    },
    {
     "data": {
      "text/plain": [
       "array([[0.99888465, 0.00111535],\n",
       "       [0.        , 1.        ]])"
      ]
     },
     "metadata": {},
     "output_type": "display_data"
    },
    {
     "data": {
      "text/plain": [
       "array([[21494,    24],\n",
       "       [    0,   444]], dtype=int64)"
      ]
     },
     "metadata": {},
     "output_type": "display_data"
    },
    {
     "name": "stdout",
     "output_type": "stream",
     "text": [
      "----- LOCAL 5 -----\n",
      "Treino: 1.0\n",
      "Teste: 0.999772334031509\n",
      "Precisão: 0.9974874371859297\n",
      "Recall: 0.9900249376558603\n",
      "F1: 0.9937421777221527\n"
     ]
    },
    {
     "data": {
      "text/plain": [
       "array([[9.99953620e-01, 4.63800380e-05],\n",
       "       [9.97506234e-03, 9.90024938e-01]])"
      ]
     },
     "metadata": {},
     "output_type": "display_data"
    },
    {
     "data": {
      "text/plain": [
       "array([[21560,     1],\n",
       "       [    4,   397]], dtype=int64)"
      ]
     },
     "metadata": {},
     "output_type": "display_data"
    }
   ],
   "source": [
    "# Parâmetros\n",
    "label = 'Label'\n",
    "cols_rem = ['LocalMax', 'Label', 'Label_Old', 'Cluster', 'Data', 'Hora', 'Data_Hora', 'Ordens', 'Minuto'] + [c for c in df_p.columns if 'Hora_' in c]\n",
    "# Conjunto de resultados\n",
    "prepped_models = {}\n",
    "\n",
    "# Gerar um modelo para cada local e um modelo geral\n",
    "for l in range(6):\n",
    "    if l != 0:\n",
    "        df_train = df_p[df_p['Local'] == l]\n",
    "    else:\n",
    "        df_train = df_p.copy()\n",
    "        \n",
    "    print(f'----- LOCAL {l} -----')\n",
    "    model, training_res, y_treino_pred, y_teste_pred = trainXGB(df_train, cols_rem, label)\n",
    "    \n",
    "    # Salvar modelo e resultados\n",
    "    prepped_models[l] = {\n",
    "        'model': model,\n",
    "        'results': training_res,\n",
    "        'y_treino': y_treino_pred,\n",
    "        'y_teste': y_teste_pred\n",
    "    }"
   ]
  },
  {
   "cell_type": "code",
   "execution_count": 65,
   "metadata": {},
   "outputs": [
    {
     "data": {
      "text/plain": [
       "{'Features': ['Mes', 'Dia', 'Local', 'Precipitacao', 'PrecSum'],\n",
       " 'Train_Acc': 0.9997236118954259,\n",
       " 'Test_Acc': 0.9995173393559668,\n",
       " 'Precision': 0.9778633301251203,\n",
       " 'Recall': 0.9965669445806769,\n",
       " 'F1': 0.9871265484576148,\n",
       " 'Ver_Pos': 0.9965669445806769}"
      ]
     },
     "execution_count": 65,
     "metadata": {},
     "output_type": "execute_result"
    }
   ],
   "source": [
    "prepped_models[0]['results']"
   ]
  },
  {
   "cell_type": "code",
   "execution_count": 66,
   "metadata": {},
   "outputs": [
    {
     "data": {
      "text/plain": [
       "<xgboost.core.Booster at 0x1d83e697a00>"
      ]
     },
     "execution_count": 66,
     "metadata": {},
     "output_type": "execute_result"
    }
   ],
   "source": [
    "prepped_models[0]['model']"
   ]
  },
  {
   "cell_type": "markdown",
   "metadata": {},
   "source": [
    "## Obter precipitação até aquele momento do dia"
   ]
  },
  {
   "cell_type": "code",
   "execution_count": 119,
   "metadata": {},
   "outputs": [],
   "source": [
    "df_m = df_p[df_p['Label'] == 1].copy()\n",
    "df_m['Data'] = df_m['Data_Hora'].dt.strftime(\"%Y-%m-%d\")\n",
    "\n",
    "def getPrecMomento(row):\n",
    "    prec_momento = df_m.loc[(df_m['Data_Hora'] <= row['Data_Hora']) & (df_m['Local'] == row['Local']) & (df_m['Data'] == row['Data']), 'Precipitacao'].sum()\n",
    "    return prec_momento\n",
    "\n",
    "df_m['PrecMomento'] = df_m.apply(getPrecMomento, axis=1)\n",
    "\n",
    "df_m = df_m.rename(columns = {'PrecSum': 'PrecSumOld', 'PrecMomento': 'PrecSum'})"
   ]
  },
  {
   "cell_type": "markdown",
   "metadata": {},
   "source": [
    "## Prever com acumulo do dia"
   ]
  },
  {
   "cell_type": "code",
   "execution_count": 120,
   "metadata": {},
   "outputs": [],
   "source": [
    "label_pred = prepped_models[0]['model'].predict(xgboost.DMatrix(data=df_m[prepped_models[0]['results']['Features']]))\n",
    "df_m['Label_Pred'] = [1 if i>0.5 else 0 for i in label_pred]"
   ]
  },
  {
   "cell_type": "code",
   "execution_count": 121,
   "metadata": {},
   "outputs": [
    {
     "data": {
      "text/plain": [
       "816       0\n",
       "744       0\n",
       "817       0\n",
       "745       0\n",
       "818       0\n",
       "         ..\n",
       "362471    1\n",
       "362519    1\n",
       "362496    1\n",
       "362472    1\n",
       "362520    1\n",
       "Name: Label_Pred, Length: 6798, dtype: int64"
      ]
     },
     "execution_count": 121,
     "metadata": {},
     "output_type": "execute_result"
    }
   ],
   "source": [
    "df_m['Label_Pred']"
   ]
  },
  {
   "cell_type": "markdown",
   "metadata": {},
   "source": [
    "Teste: se, com essa estratégia, o modelo consegue prever em pelo menos um momento do dia com label que vai ocorrer alagamento"
   ]
  },
  {
   "cell_type": "code",
   "execution_count": 122,
   "metadata": {},
   "outputs": [
    {
     "name": "stdout",
     "output_type": "stream",
     "text": [
      "(285, 8)\n",
      "(285, 8)\n"
     ]
    }
   ],
   "source": [
    "df_g = df_m.groupby(['Data', 'Local']).max()\n",
    "print(df_g[df_g['Label'] == df_g['Label_Pred']].shape)\n",
    "print(df_g.shape)"
   ]
  },
  {
   "cell_type": "markdown",
   "metadata": {},
   "source": [
    "Próximo passo: obter o primeiro momento em que o modelo prevê um alagamento"
   ]
  },
  {
   "cell_type": "code",
   "execution_count": 123,
   "metadata": {},
   "outputs": [
    {
     "data": {
      "text/plain": [
       "Index(['Data_Hora', 'Mes', 'Dia', 'Local', 'Precipitacao', 'PrecSumOld',\n",
       "       'Label', 'Data', 'PrecSum', 'Label_Pred'],\n",
       "      dtype='object')"
      ]
     },
     "execution_count": 123,
     "metadata": {},
     "output_type": "execute_result"
    }
   ],
   "source": [
    "df_m.columns"
   ]
  },
  {
   "cell_type": "code",
   "execution_count": 124,
   "metadata": {},
   "outputs": [],
   "source": [
    "df_g = df_m.groupby(['Data', 'Local', 'Label_Pred']).min().reset_index()\n",
    "#df_g[df_g['Label_Pred'] == 1]\n",
    "\n",
    "df_g = df_g.loc[df_g['Label_Pred'] == 1, ['Data', 'Local', 'Data_Hora']].rename(columns={'Data_Hora':'Min_Hora'})\n",
    "df_g['Min_Hora'] = df_g['Min_Hora'].dt.hour"
   ]
  },
  {
   "cell_type": "markdown",
   "metadata": {},
   "source": [
    "## Treinar modelo com todos os dias"
   ]
  },
  {
   "cell_type": "code",
   "execution_count": 125,
   "metadata": {},
   "outputs": [],
   "source": [
    "df_p_new = df_p.copy()\n",
    "df_p_new['Data'] = df_p_new['Data_Hora'].dt.strftime('%Y-%m-%d')\n",
    "df_p_new = df_p_new.merge(df_g, on=['Local', 'Data'], how='left').fillna(24)"
   ]
  },
  {
   "cell_type": "code",
   "execution_count": 126,
   "metadata": {},
   "outputs": [],
   "source": [
    "df_p_new['Label_New'] = 0\n",
    "df_p_new.loc[(df_p_new['Label'] == 1) & (df_p_new['Data_Hora'].dt.hour >= df_p_new['Min_Hora']), 'Label_New'] = 1\n",
    "df_p_new = df_p_new.rename(columns = {'Label': 'Label_Old', 'Label_New': 'Label'})"
   ]
  },
  {
   "cell_type": "code",
   "execution_count": 127,
   "metadata": {},
   "outputs": [
    {
     "data": {
      "text/plain": [
       "0    364052\n",
       "1      1973\n",
       "Name: Label, dtype: int64"
      ]
     },
     "execution_count": 127,
     "metadata": {},
     "output_type": "execute_result"
    }
   ],
   "source": [
    "df_p_new['Label'].value_counts()"
   ]
  },
  {
   "cell_type": "code",
   "execution_count": 128,
   "metadata": {},
   "outputs": [],
   "source": [
    "df_p_new['Label'] = df_p_new['Label'].shift(-5*6, fill_value = 0)"
   ]
  },
  {
   "cell_type": "markdown",
   "metadata": {},
   "source": [
    "..."
   ]
  },
  {
   "cell_type": "code",
   "execution_count": 129,
   "metadata": {},
   "outputs": [
    {
     "data": {
      "text/html": [
       "<div>\n",
       "<style scoped>\n",
       "    .dataframe tbody tr th:only-of-type {\n",
       "        vertical-align: middle;\n",
       "    }\n",
       "\n",
       "    .dataframe tbody tr th {\n",
       "        vertical-align: top;\n",
       "    }\n",
       "\n",
       "    .dataframe thead th {\n",
       "        text-align: right;\n",
       "    }\n",
       "</style>\n",
       "<table border=\"1\" class=\"dataframe\">\n",
       "  <thead>\n",
       "    <tr style=\"text-align: right;\">\n",
       "      <th></th>\n",
       "      <th>Data_Hora</th>\n",
       "      <th>Local</th>\n",
       "      <th>Label</th>\n",
       "    </tr>\n",
       "  </thead>\n",
       "  <tbody>\n",
       "    <tr>\n",
       "      <th>0</th>\n",
       "      <td>2011-01-01 00:00:00</td>\n",
       "      <td>1</td>\n",
       "      <td>0</td>\n",
       "    </tr>\n",
       "    <tr>\n",
       "      <th>1</th>\n",
       "      <td>2011-01-01 00:00:00</td>\n",
       "      <td>2</td>\n",
       "      <td>0</td>\n",
       "    </tr>\n",
       "    <tr>\n",
       "      <th>2</th>\n",
       "      <td>2011-01-01 00:00:00</td>\n",
       "      <td>3</td>\n",
       "      <td>0</td>\n",
       "    </tr>\n",
       "    <tr>\n",
       "      <th>3</th>\n",
       "      <td>2011-01-01 00:00:00</td>\n",
       "      <td>4</td>\n",
       "      <td>0</td>\n",
       "    </tr>\n",
       "    <tr>\n",
       "      <th>4</th>\n",
       "      <td>2011-01-01 00:00:00</td>\n",
       "      <td>5</td>\n",
       "      <td>0</td>\n",
       "    </tr>\n",
       "    <tr>\n",
       "      <th>...</th>\n",
       "      <td>...</td>\n",
       "      <td>...</td>\n",
       "      <td>...</td>\n",
       "    </tr>\n",
       "    <tr>\n",
       "      <th>366020</th>\n",
       "      <td>2019-06-30 23:00:00</td>\n",
       "      <td>1</td>\n",
       "      <td>0</td>\n",
       "    </tr>\n",
       "    <tr>\n",
       "      <th>366021</th>\n",
       "      <td>2019-06-30 23:00:00</td>\n",
       "      <td>2</td>\n",
       "      <td>0</td>\n",
       "    </tr>\n",
       "    <tr>\n",
       "      <th>366022</th>\n",
       "      <td>2019-06-30 23:00:00</td>\n",
       "      <td>3</td>\n",
       "      <td>0</td>\n",
       "    </tr>\n",
       "    <tr>\n",
       "      <th>366023</th>\n",
       "      <td>2019-06-30 23:00:00</td>\n",
       "      <td>4</td>\n",
       "      <td>0</td>\n",
       "    </tr>\n",
       "    <tr>\n",
       "      <th>366024</th>\n",
       "      <td>2019-06-30 23:00:00</td>\n",
       "      <td>5</td>\n",
       "      <td>0</td>\n",
       "    </tr>\n",
       "  </tbody>\n",
       "</table>\n",
       "<p>366025 rows × 3 columns</p>\n",
       "</div>"
      ],
      "text/plain": [
       "                 Data_Hora  Local  Label\n",
       "0      2011-01-01 00:00:00      1      0\n",
       "1      2011-01-01 00:00:00      2      0\n",
       "2      2011-01-01 00:00:00      3      0\n",
       "3      2011-01-01 00:00:00      4      0\n",
       "4      2011-01-01 00:00:00      5      0\n",
       "...                    ...    ...    ...\n",
       "366020 2019-06-30 23:00:00      1      0\n",
       "366021 2019-06-30 23:00:00      2      0\n",
       "366022 2019-06-30 23:00:00      3      0\n",
       "366023 2019-06-30 23:00:00      4      0\n",
       "366024 2019-06-30 23:00:00      5      0\n",
       "\n",
       "[366025 rows x 3 columns]"
      ]
     },
     "execution_count": 129,
     "metadata": {},
     "output_type": "execute_result"
    }
   ],
   "source": [
    "df_p_new[['Data_Hora', 'Local', 'Label']]"
   ]
  },
  {
   "cell_type": "code",
   "execution_count": 133,
   "metadata": {},
   "outputs": [
    {
     "name": "stdout",
     "output_type": "stream",
     "text": [
      "----- LOCAL 0 -----\n",
      "Treino: 0.997835863064873\n",
      "Teste: 0.9918038758560397\n",
      "Precisão: 0.3605072463768116\n",
      "Recall: 0.6722972972972973\n",
      "F1: 0.46933962264150936\n"
     ]
    },
    {
     "data": {
      "text/plain": [
       "array([[0.99353575, 0.00646425],\n",
       "       [0.3277027 , 0.6722973 ]])"
      ]
     },
     "metadata": {},
     "output_type": "display_data"
    },
    {
     "data": {
      "text/plain": [
       "array([[108510,    706],\n",
       "       [   194,    398]], dtype=int64)"
      ]
     },
     "metadata": {},
     "output_type": "display_data"
    },
    {
     "name": "stdout",
     "output_type": "stream",
     "text": [
      "----- LOCAL 1 -----\n",
      "Treino: 0.9978422064419946\n",
      "Teste: 0.9894362990620162\n",
      "Precisão: 0.2601626016260163\n",
      "Recall: 0.5614035087719298\n",
      "F1: 0.35555555555555557\n"
     ]
    },
    {
     "data": {
      "text/plain": [
       "array([[0.99166972, 0.00833028],\n",
       "       [0.43859649, 0.56140351]])"
      ]
     },
     "metadata": {},
     "output_type": "display_data"
    },
    {
     "data": {
      "text/plain": [
       "array([[21666,   182],\n",
       "       [   50,    64]], dtype=int64)"
      ]
     },
     "metadata": {},
     "output_type": "display_data"
    },
    {
     "name": "stdout",
     "output_type": "stream",
     "text": [
      "----- LOCAL 2 -----\n"
     ]
    },
    {
     "ename": "ValueError",
     "evalue": "With n_samples=0, test_size=0.3 and train_size=None, the resulting train set will be empty. Adjust any of the aforementioned parameters.",
     "output_type": "error",
     "traceback": [
      "\u001b[1;31m---------------------------------------------------------------------------\u001b[0m",
      "\u001b[1;31mValueError\u001b[0m                                Traceback (most recent call last)",
      "\u001b[1;32m<ipython-input-133-7bc995d4bcae>\u001b[0m in \u001b[0;36m<module>\u001b[1;34m\u001b[0m\n\u001b[0;32m     15\u001b[0m \u001b[1;33m\u001b[0m\u001b[0m\n\u001b[0;32m     16\u001b[0m     \u001b[0mprint\u001b[0m\u001b[1;33m(\u001b[0m\u001b[1;34mf'----- LOCAL {l} -----'\u001b[0m\u001b[1;33m)\u001b[0m\u001b[1;33m\u001b[0m\u001b[1;33m\u001b[0m\u001b[0m\n\u001b[1;32m---> 17\u001b[1;33m     \u001b[0mmodel\u001b[0m\u001b[1;33m,\u001b[0m \u001b[0mtraining_res\u001b[0m\u001b[1;33m,\u001b[0m \u001b[0my_treino_pred\u001b[0m\u001b[1;33m,\u001b[0m \u001b[0my_teste_pred\u001b[0m \u001b[1;33m=\u001b[0m \u001b[0mtrainXGB\u001b[0m\u001b[1;33m(\u001b[0m\u001b[0mdf_train\u001b[0m\u001b[1;33m,\u001b[0m \u001b[0mcols_rem\u001b[0m\u001b[1;33m,\u001b[0m \u001b[0mlabel\u001b[0m\u001b[1;33m)\u001b[0m\u001b[1;33m\u001b[0m\u001b[1;33m\u001b[0m\u001b[0m\n\u001b[0m\u001b[0;32m     18\u001b[0m \u001b[1;33m\u001b[0m\u001b[0m\n\u001b[0;32m     19\u001b[0m     \u001b[1;31m# Salvar modelo e resultados\u001b[0m\u001b[1;33m\u001b[0m\u001b[1;33m\u001b[0m\u001b[1;33m\u001b[0m\u001b[0m\n",
      "\u001b[1;32m<ipython-input-4-1633f9be3b58>\u001b[0m in \u001b[0;36mtrainXGB\u001b[1;34m(df, cols_rem, label, verbose)\u001b[0m\n\u001b[0;32m      7\u001b[0m \u001b[1;33m\u001b[0m\u001b[0m\n\u001b[0;32m      8\u001b[0m     \u001b[1;31m# Separar dados de treinamento e teste\u001b[0m\u001b[1;33m\u001b[0m\u001b[1;33m\u001b[0m\u001b[1;33m\u001b[0m\u001b[0m\n\u001b[1;32m----> 9\u001b[1;33m     \u001b[0mx_treino\u001b[0m\u001b[1;33m,\u001b[0m \u001b[0mx_teste\u001b[0m\u001b[1;33m,\u001b[0m \u001b[0my_treino\u001b[0m\u001b[1;33m,\u001b[0m \u001b[0my_teste\u001b[0m \u001b[1;33m=\u001b[0m \u001b[0mtrain_test_split\u001b[0m\u001b[1;33m(\u001b[0m\u001b[0mx\u001b[0m\u001b[1;33m,\u001b[0m \u001b[0my\u001b[0m\u001b[1;33m,\u001b[0m \u001b[0mtest_size\u001b[0m\u001b[1;33m=\u001b[0m\u001b[1;36m0.3\u001b[0m\u001b[1;33m,\u001b[0m \u001b[0mrandom_state\u001b[0m \u001b[1;33m=\u001b[0m \u001b[1;36m378\u001b[0m\u001b[1;33m,\u001b[0m \u001b[0mstratify\u001b[0m\u001b[1;33m=\u001b[0m\u001b[0my\u001b[0m\u001b[1;33m)\u001b[0m\u001b[1;33m\u001b[0m\u001b[1;33m\u001b[0m\u001b[0m\n\u001b[0m\u001b[0;32m     10\u001b[0m \u001b[1;33m\u001b[0m\u001b[0m\n\u001b[0;32m     11\u001b[0m     \u001b[1;31m# Upsample\u001b[0m\u001b[1;33m\u001b[0m\u001b[1;33m\u001b[0m\u001b[1;33m\u001b[0m\u001b[0m\n",
      "\u001b[1;32m~\\AppData\\Local\\Programs\\Python\\Python38\\lib\\site-packages\\sklearn\\model_selection\\_split.py\u001b[0m in \u001b[0;36mtrain_test_split\u001b[1;34m(*arrays, **options)\u001b[0m\n\u001b[0;32m   2128\u001b[0m \u001b[1;33m\u001b[0m\u001b[0m\n\u001b[0;32m   2129\u001b[0m     \u001b[0mn_samples\u001b[0m \u001b[1;33m=\u001b[0m \u001b[0m_num_samples\u001b[0m\u001b[1;33m(\u001b[0m\u001b[0marrays\u001b[0m\u001b[1;33m[\u001b[0m\u001b[1;36m0\u001b[0m\u001b[1;33m]\u001b[0m\u001b[1;33m)\u001b[0m\u001b[1;33m\u001b[0m\u001b[1;33m\u001b[0m\u001b[0m\n\u001b[1;32m-> 2130\u001b[1;33m     n_train, n_test = _validate_shuffle_split(n_samples, test_size, train_size,\n\u001b[0m\u001b[0;32m   2131\u001b[0m                                               default_test_size=0.25)\n\u001b[0;32m   2132\u001b[0m \u001b[1;33m\u001b[0m\u001b[0m\n",
      "\u001b[1;32m~\\AppData\\Local\\Programs\\Python\\Python38\\lib\\site-packages\\sklearn\\model_selection\\_split.py\u001b[0m in \u001b[0;36m_validate_shuffle_split\u001b[1;34m(n_samples, test_size, train_size, default_test_size)\u001b[0m\n\u001b[0;32m   1808\u001b[0m \u001b[1;33m\u001b[0m\u001b[0m\n\u001b[0;32m   1809\u001b[0m     \u001b[1;32mif\u001b[0m \u001b[0mn_train\u001b[0m \u001b[1;33m==\u001b[0m \u001b[1;36m0\u001b[0m\u001b[1;33m:\u001b[0m\u001b[1;33m\u001b[0m\u001b[1;33m\u001b[0m\u001b[0m\n\u001b[1;32m-> 1810\u001b[1;33m         raise ValueError(\n\u001b[0m\u001b[0;32m   1811\u001b[0m             \u001b[1;34m'With n_samples={}, test_size={} and train_size={}, the '\u001b[0m\u001b[1;33m\u001b[0m\u001b[1;33m\u001b[0m\u001b[0m\n\u001b[0;32m   1812\u001b[0m             \u001b[1;34m'resulting train set will be empty. Adjust any of the '\u001b[0m\u001b[1;33m\u001b[0m\u001b[1;33m\u001b[0m\u001b[0m\n",
      "\u001b[1;31mValueError\u001b[0m: With n_samples=0, test_size=0.3 and train_size=None, the resulting train set will be empty. Adjust any of the aforementioned parameters."
     ]
    }
   ],
   "source": [
    "# Parâmetros\n",
    "label = 'Label'\n",
    "cols_rem = ['LocalMax', 'Label', 'Label_Old', 'Cluster', 'Data', 'Hora', 'Data_Hora', 'Ordens', 'Minuto', 'Min_Hora'] + [c for c in df_p.columns if 'Hora_' in c]\n",
    "# Conjunto de resultados\n",
    "prepped_models_new = {}\n",
    "\n",
    "# Gerar um modelo para cada local e um modelo geral\n",
    "for l in range(6):\n",
    "    if l != 0:\n",
    "        df_train = df_p_new[df_p_new['Local'] == l]\n",
    "    else:\n",
    "        df_train = df_p_new.copy()\n",
    "        \n",
    "    print(f'----- LOCAL {l} -----')\n",
    "    model, training_res, y_treino_pred, y_teste_pred = trainXGB(df_train, cols_rem, label)\n",
    "    \n",
    "    # Salvar modelo e resultados\n",
    "    prepped_models_new[l] = {\n",
    "        'model': model,\n",
    "        'results': training_res,\n",
    "        'y_treino': y_treino_pred,\n",
    "        'y_teste': y_teste_pred\n",
    "    }"
   ]
  },
  {
   "cell_type": "markdown",
   "metadata": {},
   "source": [
    "### Treinar modelo com mais features"
   ]
  },
  {
   "cell_type": "code",
   "execution_count": 134,
   "metadata": {},
   "outputs": [
    {
     "data": {
      "text/html": [
       "<div>\n",
       "<style scoped>\n",
       "    .dataframe tbody tr th:only-of-type {\n",
       "        vertical-align: middle;\n",
       "    }\n",
       "\n",
       "    .dataframe tbody tr th {\n",
       "        vertical-align: top;\n",
       "    }\n",
       "\n",
       "    .dataframe thead th {\n",
       "        text-align: right;\n",
       "    }\n",
       "</style>\n",
       "<table border=\"1\" class=\"dataframe\">\n",
       "  <thead>\n",
       "    <tr style=\"text-align: right;\">\n",
       "      <th></th>\n",
       "      <th>Data_Hora</th>\n",
       "      <th>Local</th>\n",
       "      <th>UmidadeRelativa</th>\n",
       "      <th>PressaoAtmosferica</th>\n",
       "      <th>TemperaturaDoAr</th>\n",
       "      <th>TemperaturaInterna</th>\n",
       "      <th>PontoDeOrvalho</th>\n",
       "      <th>RadiacaoSolar</th>\n",
       "      <th>DirecaoDoVento</th>\n",
       "      <th>VelocidadeDoVento</th>\n",
       "      <th>...</th>\n",
       "      <th>Mes_5</th>\n",
       "      <th>Mes_6</th>\n",
       "      <th>Mes_7</th>\n",
       "      <th>Mes_8</th>\n",
       "      <th>Mes_9</th>\n",
       "      <th>Mes_10</th>\n",
       "      <th>Mes_11</th>\n",
       "      <th>Mes_12</th>\n",
       "      <th>Label_Old</th>\n",
       "      <th>Label</th>\n",
       "    </tr>\n",
       "  </thead>\n",
       "  <tbody>\n",
       "    <tr>\n",
       "      <th>0</th>\n",
       "      <td>2011-01-01 00:00:00</td>\n",
       "      <td>1</td>\n",
       "      <td>84.8</td>\n",
       "      <td>920.6</td>\n",
       "      <td>20.2</td>\n",
       "      <td>22.800000</td>\n",
       "      <td>17.5</td>\n",
       "      <td>0.0</td>\n",
       "      <td>137.0</td>\n",
       "      <td>1.5</td>\n",
       "      <td>...</td>\n",
       "      <td>0</td>\n",
       "      <td>0</td>\n",
       "      <td>0</td>\n",
       "      <td>0</td>\n",
       "      <td>0</td>\n",
       "      <td>0</td>\n",
       "      <td>0</td>\n",
       "      <td>0</td>\n",
       "      <td>0.0</td>\n",
       "      <td>0</td>\n",
       "    </tr>\n",
       "    <tr>\n",
       "      <th>1</th>\n",
       "      <td>2011-01-01 01:00:00</td>\n",
       "      <td>1</td>\n",
       "      <td>84.0</td>\n",
       "      <td>919.9</td>\n",
       "      <td>20.1</td>\n",
       "      <td>22.800000</td>\n",
       "      <td>17.3</td>\n",
       "      <td>0.0</td>\n",
       "      <td>151.0</td>\n",
       "      <td>1.8</td>\n",
       "      <td>...</td>\n",
       "      <td>0</td>\n",
       "      <td>0</td>\n",
       "      <td>0</td>\n",
       "      <td>0</td>\n",
       "      <td>0</td>\n",
       "      <td>0</td>\n",
       "      <td>0</td>\n",
       "      <td>0</td>\n",
       "      <td>0.0</td>\n",
       "      <td>0</td>\n",
       "    </tr>\n",
       "    <tr>\n",
       "      <th>2</th>\n",
       "      <td>2011-01-01 02:00:00</td>\n",
       "      <td>1</td>\n",
       "      <td>85.8</td>\n",
       "      <td>919.2</td>\n",
       "      <td>19.8</td>\n",
       "      <td>22.935631</td>\n",
       "      <td>17.4</td>\n",
       "      <td>0.0</td>\n",
       "      <td>155.0</td>\n",
       "      <td>1.8</td>\n",
       "      <td>...</td>\n",
       "      <td>0</td>\n",
       "      <td>0</td>\n",
       "      <td>0</td>\n",
       "      <td>0</td>\n",
       "      <td>0</td>\n",
       "      <td>0</td>\n",
       "      <td>0</td>\n",
       "      <td>0</td>\n",
       "      <td>0.0</td>\n",
       "      <td>0</td>\n",
       "    </tr>\n",
       "    <tr>\n",
       "      <th>3</th>\n",
       "      <td>2011-01-01 03:00:00</td>\n",
       "      <td>1</td>\n",
       "      <td>87.6</td>\n",
       "      <td>918.6</td>\n",
       "      <td>19.5</td>\n",
       "      <td>22.400000</td>\n",
       "      <td>17.3</td>\n",
       "      <td>0.0</td>\n",
       "      <td>152.0</td>\n",
       "      <td>1.5</td>\n",
       "      <td>...</td>\n",
       "      <td>0</td>\n",
       "      <td>0</td>\n",
       "      <td>0</td>\n",
       "      <td>0</td>\n",
       "      <td>0</td>\n",
       "      <td>0</td>\n",
       "      <td>0</td>\n",
       "      <td>0</td>\n",
       "      <td>0.0</td>\n",
       "      <td>0</td>\n",
       "    </tr>\n",
       "    <tr>\n",
       "      <th>4</th>\n",
       "      <td>2011-01-01 04:00:00</td>\n",
       "      <td>1</td>\n",
       "      <td>87.4</td>\n",
       "      <td>918.4</td>\n",
       "      <td>19.4</td>\n",
       "      <td>21.815844</td>\n",
       "      <td>17.2</td>\n",
       "      <td>0.0</td>\n",
       "      <td>147.0</td>\n",
       "      <td>1.6</td>\n",
       "      <td>...</td>\n",
       "      <td>0</td>\n",
       "      <td>0</td>\n",
       "      <td>0</td>\n",
       "      <td>0</td>\n",
       "      <td>0</td>\n",
       "      <td>0</td>\n",
       "      <td>0</td>\n",
       "      <td>0</td>\n",
       "      <td>0.0</td>\n",
       "      <td>0</td>\n",
       "    </tr>\n",
       "    <tr>\n",
       "      <th>...</th>\n",
       "      <td>...</td>\n",
       "      <td>...</td>\n",
       "      <td>...</td>\n",
       "      <td>...</td>\n",
       "      <td>...</td>\n",
       "      <td>...</td>\n",
       "      <td>...</td>\n",
       "      <td>...</td>\n",
       "      <td>...</td>\n",
       "      <td>...</td>\n",
       "      <td>...</td>\n",
       "      <td>...</td>\n",
       "      <td>...</td>\n",
       "      <td>...</td>\n",
       "      <td>...</td>\n",
       "      <td>...</td>\n",
       "      <td>...</td>\n",
       "      <td>...</td>\n",
       "      <td>...</td>\n",
       "      <td>...</td>\n",
       "      <td>...</td>\n",
       "    </tr>\n",
       "    <tr>\n",
       "      <th>366020</th>\n",
       "      <td>2019-06-30 19:00:00</td>\n",
       "      <td>5</td>\n",
       "      <td>26.9</td>\n",
       "      <td>925.2</td>\n",
       "      <td>23.7</td>\n",
       "      <td>30.300000</td>\n",
       "      <td>4.2</td>\n",
       "      <td>0.0</td>\n",
       "      <td>0.0</td>\n",
       "      <td>0.0</td>\n",
       "      <td>...</td>\n",
       "      <td>0</td>\n",
       "      <td>1</td>\n",
       "      <td>0</td>\n",
       "      <td>0</td>\n",
       "      <td>0</td>\n",
       "      <td>0</td>\n",
       "      <td>0</td>\n",
       "      <td>0</td>\n",
       "      <td>0.0</td>\n",
       "      <td>0</td>\n",
       "    </tr>\n",
       "    <tr>\n",
       "      <th>366021</th>\n",
       "      <td>2019-06-30 20:00:00</td>\n",
       "      <td>5</td>\n",
       "      <td>28.6</td>\n",
       "      <td>925.7</td>\n",
       "      <td>22.9</td>\n",
       "      <td>29.500000</td>\n",
       "      <td>4.3</td>\n",
       "      <td>0.0</td>\n",
       "      <td>0.0</td>\n",
       "      <td>0.0</td>\n",
       "      <td>...</td>\n",
       "      <td>0</td>\n",
       "      <td>1</td>\n",
       "      <td>0</td>\n",
       "      <td>0</td>\n",
       "      <td>0</td>\n",
       "      <td>0</td>\n",
       "      <td>0</td>\n",
       "      <td>0</td>\n",
       "      <td>0.0</td>\n",
       "      <td>0</td>\n",
       "    </tr>\n",
       "    <tr>\n",
       "      <th>366022</th>\n",
       "      <td>2019-06-30 21:00:00</td>\n",
       "      <td>5</td>\n",
       "      <td>30.6</td>\n",
       "      <td>925.9</td>\n",
       "      <td>22.3</td>\n",
       "      <td>29.000000</td>\n",
       "      <td>4.8</td>\n",
       "      <td>0.0</td>\n",
       "      <td>0.0</td>\n",
       "      <td>0.0</td>\n",
       "      <td>...</td>\n",
       "      <td>0</td>\n",
       "      <td>1</td>\n",
       "      <td>0</td>\n",
       "      <td>0</td>\n",
       "      <td>0</td>\n",
       "      <td>0</td>\n",
       "      <td>0</td>\n",
       "      <td>0</td>\n",
       "      <td>0.0</td>\n",
       "      <td>0</td>\n",
       "    </tr>\n",
       "    <tr>\n",
       "      <th>366023</th>\n",
       "      <td>2019-06-30 22:00:00</td>\n",
       "      <td>5</td>\n",
       "      <td>34.4</td>\n",
       "      <td>925.9</td>\n",
       "      <td>21.4</td>\n",
       "      <td>28.300000</td>\n",
       "      <td>5.7</td>\n",
       "      <td>0.0</td>\n",
       "      <td>0.0</td>\n",
       "      <td>0.0</td>\n",
       "      <td>...</td>\n",
       "      <td>0</td>\n",
       "      <td>1</td>\n",
       "      <td>0</td>\n",
       "      <td>0</td>\n",
       "      <td>0</td>\n",
       "      <td>0</td>\n",
       "      <td>0</td>\n",
       "      <td>0</td>\n",
       "      <td>0.0</td>\n",
       "      <td>0</td>\n",
       "    </tr>\n",
       "    <tr>\n",
       "      <th>366024</th>\n",
       "      <td>2019-06-30 23:00:00</td>\n",
       "      <td>5</td>\n",
       "      <td>34.2</td>\n",
       "      <td>925.9</td>\n",
       "      <td>21.3</td>\n",
       "      <td>27.900000</td>\n",
       "      <td>5.5</td>\n",
       "      <td>0.0</td>\n",
       "      <td>0.0</td>\n",
       "      <td>0.0</td>\n",
       "      <td>...</td>\n",
       "      <td>0</td>\n",
       "      <td>1</td>\n",
       "      <td>0</td>\n",
       "      <td>0</td>\n",
       "      <td>0</td>\n",
       "      <td>0</td>\n",
       "      <td>0</td>\n",
       "      <td>0</td>\n",
       "      <td>0.0</td>\n",
       "      <td>0</td>\n",
       "    </tr>\n",
       "  </tbody>\n",
       "</table>\n",
       "<p>366025 rows × 34 columns</p>\n",
       "</div>"
      ],
      "text/plain": [
       "                 Data_Hora  Local  UmidadeRelativa  PressaoAtmosferica  \\\n",
       "0      2011-01-01 00:00:00      1             84.8               920.6   \n",
       "1      2011-01-01 01:00:00      1             84.0               919.9   \n",
       "2      2011-01-01 02:00:00      1             85.8               919.2   \n",
       "3      2011-01-01 03:00:00      1             87.6               918.6   \n",
       "4      2011-01-01 04:00:00      1             87.4               918.4   \n",
       "...                    ...    ...              ...                 ...   \n",
       "366020 2019-06-30 19:00:00      5             26.9               925.2   \n",
       "366021 2019-06-30 20:00:00      5             28.6               925.7   \n",
       "366022 2019-06-30 21:00:00      5             30.6               925.9   \n",
       "366023 2019-06-30 22:00:00      5             34.4               925.9   \n",
       "366024 2019-06-30 23:00:00      5             34.2               925.9   \n",
       "\n",
       "        TemperaturaDoAr  TemperaturaInterna  PontoDeOrvalho  RadiacaoSolar  \\\n",
       "0                  20.2           22.800000            17.5            0.0   \n",
       "1                  20.1           22.800000            17.3            0.0   \n",
       "2                  19.8           22.935631            17.4            0.0   \n",
       "3                  19.5           22.400000            17.3            0.0   \n",
       "4                  19.4           21.815844            17.2            0.0   \n",
       "...                 ...                 ...             ...            ...   \n",
       "366020             23.7           30.300000             4.2            0.0   \n",
       "366021             22.9           29.500000             4.3            0.0   \n",
       "366022             22.3           29.000000             4.8            0.0   \n",
       "366023             21.4           28.300000             5.7            0.0   \n",
       "366024             21.3           27.900000             5.5            0.0   \n",
       "\n",
       "        DirecaoDoVento  VelocidadeDoVento  ...  Mes_5  Mes_6  Mes_7 Mes_8  \\\n",
       "0                137.0                1.5  ...      0      0      0     0   \n",
       "1                151.0                1.8  ...      0      0      0     0   \n",
       "2                155.0                1.8  ...      0      0      0     0   \n",
       "3                152.0                1.5  ...      0      0      0     0   \n",
       "4                147.0                1.6  ...      0      0      0     0   \n",
       "...                ...                ...  ...    ...    ...    ...   ...   \n",
       "366020             0.0                0.0  ...      0      1      0     0   \n",
       "366021             0.0                0.0  ...      0      1      0     0   \n",
       "366022             0.0                0.0  ...      0      1      0     0   \n",
       "366023             0.0                0.0  ...      0      1      0     0   \n",
       "366024             0.0                0.0  ...      0      1      0     0   \n",
       "\n",
       "        Mes_9  Mes_10  Mes_11  Mes_12  Label_Old  Label  \n",
       "0           0       0       0       0        0.0      0  \n",
       "1           0       0       0       0        0.0      0  \n",
       "2           0       0       0       0        0.0      0  \n",
       "3           0       0       0       0        0.0      0  \n",
       "4           0       0       0       0        0.0      0  \n",
       "...       ...     ...     ...     ...        ...    ...  \n",
       "366020      0       0       0       0        0.0      0  \n",
       "366021      0       0       0       0        0.0      0  \n",
       "366022      0       0       0       0        0.0      0  \n",
       "366023      0       0       0       0        0.0      0  \n",
       "366024      0       0       0       0        0.0      0  \n",
       "\n",
       "[366025 rows x 34 columns]"
      ]
     },
     "execution_count": 134,
     "metadata": {},
     "output_type": "execute_result"
    }
   ],
   "source": [
    "df_f_ohe.drop(columns='Label').merge(df_p_new[['Data_Hora', 'Local', 'Label']], on=['Data_Hora', 'Local'])"
   ]
  },
  {
   "cell_type": "code",
   "execution_count": null,
   "metadata": {},
   "outputs": [],
   "source": []
  },
  {
   "cell_type": "code",
   "execution_count": null,
   "metadata": {},
   "outputs": [],
   "source": []
  },
  {
   "cell_type": "code",
   "execution_count": null,
   "metadata": {},
   "outputs": [],
   "source": []
  },
  {
   "cell_type": "code",
   "execution_count": null,
   "metadata": {},
   "outputs": [],
   "source": []
  },
  {
   "cell_type": "code",
   "execution_count": null,
   "metadata": {},
   "outputs": [],
   "source": []
  },
  {
   "cell_type": "code",
   "execution_count": null,
   "metadata": {},
   "outputs": [],
   "source": []
  }
 ],
 "metadata": {
  "kernelspec": {
   "display_name": "Python 3.8.5 64-bit",
   "language": "python",
   "name": "python38564bit983d40b0eb64453e8ad463eee52a7b5b"
  },
  "language_info": {
   "codemirror_mode": {
    "name": "ipython",
    "version": 3
   },
   "file_extension": ".py",
   "mimetype": "text/x-python",
   "name": "python",
   "nbconvert_exporter": "python",
   "pygments_lexer": "ipython3",
   "version": "3.8.5"
  }
 },
 "nbformat": 4,
 "nbformat_minor": 4
}
