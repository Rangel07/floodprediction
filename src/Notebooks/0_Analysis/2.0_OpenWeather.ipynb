{
 "cells": [
  {
   "cell_type": "code",
   "execution_count": null,
   "metadata": {},
   "outputs": [],
   "source": [
    "import pandas as pd\n",
    "ow = pd.read_csv('../../../data/cleandata/openweather/history_bulk.csv', sep = ';',\n",
    "                 parse_dates = ['Data_Hora'])\n",
    "ip = pd.read_csv('../../../data/cleandata/Info pluviometricas/Merged Data/merged.csv',\n",
    "                 sep = ';',\n",
    "                 dtype = {'Local_0': object, 'Local_1':object,\n",
    "                          'Local_2':object,  'Local_3':object},\n",
    "                parse_dates = ['Data_Hora'])"
   ]
  },
  {
   "cell_type": "code",
   "execution_count": null,
   "metadata": {},
   "outputs": [],
   "source": [
    "import plotly as py\n",
    "from plotly import graph_objects as go\n",
    "\n",
    "py.offline.init_notebook_mode()"
   ]
  },
  {
   "cell_type": "code",
   "execution_count": null,
   "metadata": {},
   "outputs": [],
   "source": [
    "fig = go.Figure()\n",
    "\n",
    "precipitacao_cols = [c for c in ip.columns if 'Precipitacao'in c]\n",
    "\n",
    "ano = 2011\n",
    "\n",
    "ip_ano = ip[ip['Data_Hora'].dt.year == ano]\n",
    "ow_ano = ow[ow['Data_Hora'].dt.year == ano]\n",
    "\n",
    "for col in precipitacao_cols:\n",
    "    fig.add_trace(go.Scatter(\n",
    "        x = ip_ano['Data_Hora'],\n",
    "        y = ip_ano[col],\n",
    "        name = col,\n",
    "        connectgaps=False\n",
    "                            )\n",
    "                 )\n",
    "\n",
    "fig.add_trace(go.Scatter(\n",
    "    x = ow_ano['Data_Hora'],\n",
    "    y = ow_ano['Precipitacao'].fillna(0),\n",
    "    name = 'OpenWeather',\n",
    "    connectgaps=False\n",
    "                        )\n",
    "             )\n",
    "\n",
    "    \n",
    "fig.show()"
   ]
  }
 ],
 "metadata": {
  "hide_input": false,
  "kernelspec": {
   "display_name": "Python 3.7.4 64-bit ('anaconda3': virtualenv)",
   "language": "python",
   "name": "python37464bitanaconda3virtualenv8a104214112646a6ba1e7712d0f85381"
  },
  "language_info": {
   "codemirror_mode": {
    "name": "ipython",
    "version": 3
   },
   "file_extension": ".py",
   "mimetype": "text/x-python",
   "name": "python",
   "nbconvert_exporter": "python",
   "pygments_lexer": "ipython3",
   "version": "3.7.6"
  }
 },
 "nbformat": 4,
 "nbformat_minor": 4
}
