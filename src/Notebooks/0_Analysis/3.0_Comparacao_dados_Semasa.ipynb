{
 "cells": [
  {
   "cell_type": "markdown",
   "metadata": {},
   "source": [
    "http://www3.santoandre.sp.gov.br/defesacivil/wp-content/uploads/2019/10/Setembro-2019-Cemaden.pdf\n",
    "http://www3.santoandre.sp.gov.br/defesacivil/wp-content/uploads/2019/09/Agosto-2019-Cemaden-2.pdf"
   ]
  },
  {
   "cell_type": "code",
   "execution_count": 1,
   "metadata": {},
   "outputs": [],
   "source": [
    "import pandas as pd\n",
    "\n",
    "ip = pd.read_csv('../../../data/cleandata/Info pluviometricas/Merged Data/merged.csv',\n",
    "                 sep = ';',\n",
    "                 dtype = {'Local_0': object, 'Local_1':object,\n",
    "                          'Local_2':object,  'Local_3':object},\n",
    "                parse_dates = ['Data_Hora'])"
   ]
  },
  {
   "cell_type": "code",
   "execution_count": 2,
   "metadata": {},
   "outputs": [
    {
     "data": {
      "text/html": [
       "<div>\n",
       "<style scoped>\n",
       "    .dataframe tbody tr th:only-of-type {\n",
       "        vertical-align: middle;\n",
       "    }\n",
       "\n",
       "    .dataframe tbody tr th {\n",
       "        vertical-align: top;\n",
       "    }\n",
       "\n",
       "    .dataframe thead th {\n",
       "        text-align: right;\n",
       "    }\n",
       "</style>\n",
       "<table border=\"1\" class=\"dataframe\">\n",
       "  <thead>\n",
       "    <tr style=\"text-align: right;\">\n",
       "      <th></th>\n",
       "      <th>Local_0</th>\n",
       "      <th>Local_1</th>\n",
       "      <th>Local_2</th>\n",
       "      <th>Local_3</th>\n",
       "      <th>Local_4</th>\n",
       "    </tr>\n",
       "  </thead>\n",
       "  <tbody>\n",
       "    <tr>\n",
       "      <th>0</th>\n",
       "      <td>Camilopolis</td>\n",
       "      <td>Erasmo</td>\n",
       "      <td>Paraiso</td>\n",
       "      <td>RM</td>\n",
       "      <td>Vitoria</td>\n",
       "    </tr>\n",
       "    <tr>\n",
       "      <th>1</th>\n",
       "      <td>Camilopolis</td>\n",
       "      <td>Erasmo</td>\n",
       "      <td>Paraiso</td>\n",
       "      <td>RM</td>\n",
       "      <td>Vitoria</td>\n",
       "    </tr>\n",
       "  </tbody>\n",
       "</table>\n",
       "</div>"
      ],
      "text/plain": [
       "       Local_0 Local_1  Local_2 Local_3  Local_4\n",
       "0  Camilopolis  Erasmo  Paraiso      RM  Vitoria\n",
       "1  Camilopolis  Erasmo  Paraiso      RM  Vitoria"
      ]
     },
     "execution_count": 2,
     "metadata": {},
     "output_type": "execute_result"
    }
   ],
   "source": [
    "ip['d'], ip['m'], ip['y'], ip['min'] = ip['Data_Hora'].dt.day, ip['Data_Hora'].dt.month,\\\n",
    "                                       ip['Data_Hora'].dt.year, ip['Data_Hora'].dt.minute\n",
    "\n",
    "local_cols = [c for c in ip.columns if 'Local' in c]\n",
    "ip[local_cols].head(2)"
   ]
  },
  {
   "cell_type": "code",
   "execution_count": 10,
   "metadata": {
    "scrolled": false
   },
   "outputs": [
    {
     "data": {
      "text/plain": [
       "Precipitacao_1     0.0\n",
       "Precipitacao_2    11.8\n",
       "Precipitacao_3     6.8\n",
       "Precipitacao_4    19.8\n",
       "dtype: float64"
      ]
     },
     "execution_count": 10,
     "metadata": {},
     "output_type": "execute_result"
    }
   ],
   "source": [
    "ip.loc[ (ip['m'] == 8) & (ip['y'] == 2019) & (ip['min'] == 0) ,\n",
    "       ['Data_Hora', 'Precipitacao_1', 'Precipitacao_2', 'Precipitacao_3', 'Precipitacao_4']\n",
    "      ].fillna(0).sum()"
   ]
  }
 ],
 "metadata": {
  "hide_input": false,
  "kernelspec": {
   "display_name": "Python 3.7.4 64-bit ('anaconda3': virtualenv)",
   "language": "python",
   "name": "python37464bitanaconda3virtualenv8a104214112646a6ba1e7712d0f85381"
  },
  "language_info": {
   "codemirror_mode": {
    "name": "ipython",
    "version": 3
   },
   "file_extension": ".py",
   "mimetype": "text/x-python",
   "name": "python",
   "nbconvert_exporter": "python",
   "pygments_lexer": "ipython3",
   "version": "3.7.6"
  }
 },
 "nbformat": 4,
 "nbformat_minor": 4
}
