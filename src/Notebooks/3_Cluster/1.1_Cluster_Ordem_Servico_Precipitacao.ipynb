{
 "cells": [
  {
   "cell_type": "code",
   "execution_count": null,
   "metadata": {},
   "outputs": [],
   "source": [
    "path = 'https://raw.githubusercontent.com/tbrugz/geodata-br/master/geojson/geojs-35-mun.json'\n",
    "\n",
    "from urllib.request import urlopen\n",
    "import json\n",
    "with urlopen(path) as response:\n",
    "    counties = json.load(response)\n",
    "    \n",
    "SA = [ i for i in counties['features'] if i['properties']['name'] == 'Santo André' ][0]"
   ]
  },
  {
   "cell_type": "code",
   "execution_count": null,
   "metadata": {},
   "outputs": [],
   "source": [
    "import pandas as pd\n",
    "import numpy as np\n",
    "from sklearn.cluster import KMeans\n",
    "import matplotlib.pyplot as plt\n",
    "\n",
    "from plotly import graph_objects as go\n",
    "import plotly as py\n",
    "\n",
    "py.offline.init_notebook_mode()"
   ]
  },
  {
   "cell_type": "code",
   "execution_count": null,
   "metadata": {},
   "outputs": [],
   "source": [
    "df = pd.read_csv('../../../data/cleandata/Ordens de serviço/Enchentes_LatLong.csv',\n",
    "                 sep = ';')\n",
    "\n",
    "est = pd.read_csv('../../../data/cleandata/Estacoes/lat_lng_estacoes.csv', sep = ';')"
   ]
  },
  {
   "cell_type": "code",
   "execution_count": null,
   "metadata": {},
   "outputs": [],
   "source": [
    "est=est.iloc[1:-1]"
   ]
  },
  {
   "cell_type": "code",
   "execution_count": null,
   "metadata": {},
   "outputs": [],
   "source": [
    "def Calculate_Dist(lat1, lon1, lat2, lon2):\n",
    "    r = 6371\n",
    "    phi1 = np.radians(lat1)\n",
    "    phi2 = np.radians(lat2)\n",
    "    delta_phi = np.radians(lat2 - lat1)\n",
    "    delta_lambda = np.radians(lon2 - lon1)\n",
    "    a = np.sin(delta_phi / 2)**2 + np.cos(phi1) *\\\n",
    "        np.cos(phi2) *   np.sin(delta_lambda / 2)**2\n",
    "    res = r * (2 * np.arctan2(np.sqrt(a), np.sqrt(1 - a)))\n",
    "    return np.round(res, 2)\n",
    "\n",
    "def get_distances(estacoes, ord_serv):\n",
    "    for index, row in ord_serv.iterrows():\n",
    "        dist = estacoes.apply(lambda x: \n",
    "                           Calculate_Dist(row['lat'], row['lng'],\n",
    "                                          x['lat'],   x['lng']),\n",
    "                           axis=1)\n",
    "        ord_serv.loc[index,'Distance'], arg = dist.min(), dist.argmin()\n",
    "        ord_serv.loc[index,'Est. Prox'] = estacoes.iloc[arg,0]\n",
    "\n",
    "    return ord_serv"
   ]
  },
  {
   "cell_type": "code",
   "execution_count": null,
   "metadata": {},
   "outputs": [],
   "source": [
    "ord_serv = get_distances(est, df)\n",
    "ord_serv.loc[ord_serv['Distance'] > 4.5, 'Est. Prox'] = 'Null'"
   ]
  },
  {
   "cell_type": "code",
   "execution_count": null,
   "metadata": {},
   "outputs": [],
   "source": [
    "fig = go.Figure()\n",
    "\n",
    "colors = dict(zip(ord_serv['Est. Prox'].unique(),\n",
    "                  ['black', 'green', 'yellow', 'teal', 'orange', 'blue']) )\n",
    "\n",
    "fig.add_trace(go.Scatter(x=ord_serv['lng'],\n",
    "                         y= ord_serv['lat'],\n",
    "                         marker=dict(\n",
    "                                    size=7,\n",
    "                                    color=ord_serv['Est. Prox'].apply(lambda x: colors[x]), #set color equal to a variable\n",
    "                                    showscale=False\n",
    "                                ),\n",
    "                    showlegend = False,\n",
    "                    mode='markers',\n",
    "                    name='markers'))\n",
    "\n",
    "fig.add_trace(go.Scatter(x = est['lng'],\n",
    "                         y = est['lat'],\n",
    "                         marker_symbol = 'x',\n",
    "                         marker=dict(\n",
    "                                    size=10,\n",
    "                                    color='red', #set color equal to a variable\n",
    "                                    showscale=False\n",
    "                                ),\n",
    "                    showlegend = False,\n",
    "                    mode='markers',\n",
    "                    name='markers'))\n",
    "\n",
    "fig.show()"
   ]
  },
  {
   "cell_type": "code",
   "execution_count": null,
   "metadata": {},
   "outputs": [],
   "source": [
    "ord_serv = ord_serv[['lat','lng','Data', 'Est. Prox']]\n",
    "ord_serv.loc[:,'Data'] = pd.to_datetime(ord_serv.loc[:,'Data']) \n",
    "ord_serv = ord_serv.sort_values('Data')\n",
    "ord_serv = ord_serv[ord_serv['Data'] >= '2011-01-13']\n",
    "\n",
    "ord_serv['pos'] = ord_serv['lat'].astype(str).str.rstrip() + \\\n",
    "                  ord_serv['lng'].astype(str).str.rstrip() \n",
    "\n",
    "from sklearn import preprocessing\n",
    "le = preprocessing.LabelEncoder()\n",
    "le.fit(ord_serv['pos'])\n",
    "ord_serv['pos'] = le.transform(ord_serv['pos'])"
   ]
  },
  {
   "cell_type": "code",
   "execution_count": null,
   "metadata": {},
   "outputs": [],
   "source": [
    "my_index = np.sort(ord_serv['pos'].unique())\n",
    "my_cols = ord_serv.Data.dt.strftime('%Y-%m-%d').unique()\n",
    "\n",
    "df = pd.DataFrame(columns=list(my_cols), index = list(my_index))\n",
    "df.loc[:,:] = 0"
   ]
  },
  {
   "cell_type": "code",
   "execution_count": null,
   "metadata": {},
   "outputs": [],
   "source": [
    "from datetime import datetime\n",
    "from datetime import timedelta\n",
    "\n",
    "day_delta = 4\n",
    "for d in df.columns:\n",
    "\n",
    "    lim_dates = [datetime.strptime(d, '%Y-%m-%d') + timedelta(days=-day_delta),\n",
    "                 datetime.strptime(d, '%Y-%m-%d') + timedelta(days=day_delta)]\n",
    "\n",
    "    selected_dates = ord_serv[(ord_serv['Data'] > lim_dates[0]) &\n",
    "                        (ord_serv['Data'] <= lim_dates[1])]\n",
    "        \n",
    "    df.loc[df.index.isin(selected_dates.pos),d] = 1"
   ]
  },
  {
   "cell_type": "code",
   "execution_count": null,
   "metadata": {},
   "outputs": [],
   "source": [
    "ord_serv.head(1)"
   ]
  },
  {
   "cell_type": "code",
   "execution_count": null,
   "metadata": {},
   "outputs": [],
   "source": [
    "my_map = dict(zip(ord_serv['pos'], ord_serv['Est. Prox']))\n",
    "df['Estacao'] = df.index.map(my_map)\n",
    "#df = df[~(df['Estacao'] == 'Null')]\n",
    "\n",
    "df_est = pd.DataFrame(columns=list(my_cols))\n",
    "\n",
    "for est in ord_serv['Est. Prox'].unique():\n",
    "    df_est.loc[est,:] =  df[df['Estacao'] == est].drop(columns = ['Estacao']).sum(axis = 0)    "
   ]
  },
  {
   "cell_type": "code",
   "execution_count": null,
   "metadata": {},
   "outputs": [],
   "source": [
    "import plotly.express as px\n",
    "\n",
    "df_plot = df_est.T\n",
    "df_plot['Date'] = df_plot.index\n",
    "df_plot['Date'] = pd.to_datetime(df_plot['Date'])\n",
    "\n",
    "fig = px.line(df_plot, x=\"Date\", y=list(df_plot.columns)[:-1],\n",
    "              title='Ordens de Serviço')\n",
    "fig.show()"
   ]
  },
  {
   "cell_type": "code",
   "execution_count": null,
   "metadata": {},
   "outputs": [],
   "source": [
    "merged = pd.read_csv('../../../data/cleandata/Info pluviometricas/Merged Data/merged.csv',\n",
    "                    sep = ';')\n",
    "\n",
    "local_cols = [i for i in merged.columns if 'Local' in i]\n",
    "merged[local_cols].head(1)"
   ]
  },
  {
   "cell_type": "code",
   "execution_count": null,
   "metadata": {},
   "outputs": [],
   "source": [
    "precipitacao_cols = ['Data_Hora'] + [i for i in merged.columns if 'Precipitacao' in i]\n",
    "#merged[merged['Data'] == '08/05/19'][precipitacao_cols].sum()"
   ]
  },
  {
   "cell_type": "code",
   "execution_count": null,
   "metadata": {},
   "outputs": [],
   "source": [
    "merged.head(1)"
   ]
  },
  {
   "cell_type": "code",
   "execution_count": null,
   "metadata": {
    "scrolled": false
   },
   "outputs": [],
   "source": [
    "\n",
    "\n",
    "fig = px.line(merged, x=\"Data_Hora\", y=precipitacao_cols[1:],\n",
    "              title='Precipitacao')\n",
    "fig.show()"
   ]
  },
  {
   "cell_type": "code",
   "execution_count": null,
   "metadata": {
    "scrolled": true
   },
   "outputs": [],
   "source": [
    "precipitacao = merged[precipitacao_cols]\n",
    "\n",
    "precipitacao['Data'] = pd.to_datetime(precipitacao['Data_Hora']).dt.strftime('%Y-%m-%d')\n",
    "precipitacao = precipitacao.drop(columns = 'Data_Hora')\n",
    "\n",
    "# Selectionar somente dias com chamadas de ordem de serviço\n",
    "precipitacao = precipitacao[precipitacao.Data.isin(my_cols)]"
   ]
  },
  {
   "cell_type": "code",
   "execution_count": null,
   "metadata": {},
   "outputs": [],
   "source": [
    "rename_dict = dict(zip(['Precipitacao_0','Precipitacao_1','Precipitacao_2','Precipitacao_3','Precipitacao_4'],\n",
    "                       ['Camilopolis','Erasmo','Paraiso','RM','Vitoria']))\n",
    "\n",
    "precipitacao = precipitacao.groupby('Data').mean()\n",
    "precipitacao = precipitacao.rename(columns = rename_dict)"
   ]
  },
  {
   "cell_type": "code",
   "execution_count": null,
   "metadata": {},
   "outputs": [],
   "source": [
    "precipitacao_plot = precipitacao.copy()\n",
    "precipitacao_plot['Date'] = pd.to_datetime(precipitacao.index)\n",
    "\n",
    "fig = px.line(precipitacao_plot, x=\"Date\", y=list(precipitacao_plot.columns)[:-1],\n",
    "              title='Precipitacao')\n",
    "fig.show()"
   ]
  },
  {
   "cell_type": "code",
   "execution_count": null,
   "metadata": {},
   "outputs": [],
   "source": [
    "t_precipitacao = precipitacao.T.add_suffix('_precipitacao').copy()\n",
    "\n",
    "df_est = df_est.reset_index().merge(t_precipitacao.reset_index(), on = 'index')"
   ]
  },
  {
   "cell_type": "code",
   "execution_count": null,
   "metadata": {},
   "outputs": [],
   "source": [
    "df_est = df_est.dropna(axis = 1)\n",
    "df_est = df_est.set_index('index')"
   ]
  },
  {
   "cell_type": "code",
   "execution_count": null,
   "metadata": {},
   "outputs": [],
   "source": [
    "t_df_est = df_est.T.copy()\n",
    "t_df_est = t_df_est[t_df_est.columns.sort_values()].astype(float)"
   ]
  },
  {
   "cell_type": "code",
   "execution_count": null,
   "metadata": {},
   "outputs": [],
   "source": [
    "df_plot[df_plot.columns.sort_values()].drop(columns = ['Date']).astype(float).corr()"
   ]
  },
  {
   "cell_type": "code",
   "execution_count": null,
   "metadata": {},
   "outputs": [],
   "source": [
    "t_df_est.corr()"
   ]
  },
  {
   "cell_type": "code",
   "execution_count": null,
   "metadata": {},
   "outputs": [],
   "source": [
    "precipitacao_plot.corr()"
   ]
  }
 ],
 "metadata": {
  "hide_input": false,
  "kernelspec": {
   "display_name": "Python 3.7.4 64-bit ('anaconda3': virtualenv)",
   "language": "python",
   "name": "python37464bitanaconda3virtualenv8a104214112646a6ba1e7712d0f85381"
  },
  "language_info": {
   "codemirror_mode": {
    "name": "ipython",
    "version": 3
   },
   "file_extension": ".py",
   "mimetype": "text/x-python",
   "name": "python",
   "nbconvert_exporter": "python",
   "pygments_lexer": "ipython3",
   "version": "3.7.6"
  }
 },
 "nbformat": 4,
 "nbformat_minor": 4
}
