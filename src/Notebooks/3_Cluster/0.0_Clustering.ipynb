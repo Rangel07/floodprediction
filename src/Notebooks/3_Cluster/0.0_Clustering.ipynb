{
 "cells": [
  {
   "cell_type": "code",
   "execution_count": 68,
   "metadata": {},
   "outputs": [],
   "source": [
    "from sklearn.cluster import KMeans\n",
    "from sklearn.preprocessing import MinMaxScaler\n",
    "from sklearn.decomposition import PCA\n",
    "from sklearn.preprocessing import StandardScaler\n",
    "from sklearn.metrics import silhouette_samples, silhouette_score\n",
    "import pandas as pd\n",
    "import numpy as np\n",
    "import matplotlib.pyplot as plt\n",
    "import plotly.express as px\n",
    "\n",
    "# Pandas Config\n",
    "pd.set_option('display.max_rows', 500)\n",
    "pd.set_option('display.max_columns', 500)"
   ]
  },
  {
   "cell_type": "code",
   "execution_count": 69,
   "metadata": {},
   "outputs": [],
   "source": [
    "def reverse_ohe(df, features, ignoredFeatures, featuresLength, prefix, suffix = ''):\n",
    "    all_features = ignoredFeatures + features\n",
    "    df_pivot = pd.DataFrame(columns = all_features)\n",
    "\n",
    "    for i in range(featuresLength):\n",
    "        cols_aux = [f'{feature}{prefix}{i}{suffix}' for feature in features]\n",
    "        df_aux = df[ignoredFeatures + cols_aux].copy()\n",
    "        df_aux.columns = all_features\n",
    "        df_pivot = pd.concat([df_pivot, df_aux])\n",
    "\n",
    "    return df_pivot.sort_values(by='Data_Hora').copy()"
   ]
  },
  {
   "cell_type": "code",
   "execution_count": 70,
   "metadata": {},
   "outputs": [
    {
     "output_type": "execute_result",
     "data": {
      "text/plain": "   index      Data      Hora            Data_Hora  UmidadeRelativa_0  \\\n0     26  01/01/11  06:30:00  2011-01-01 06:30:00               87.2   \n1     27  01/01/11  06:45:00  2011-01-01 06:45:00               86.6   \n2     28  01/01/11  07:00:00  2011-01-01 07:00:00               86.0   \n3     29  01/01/11  07:15:00  2011-01-01 07:15:00               85.4   \n4     30  01/01/11  07:30:00  2011-01-01 07:30:00               84.7   \n\n   PressaoAtmosferica_0  TemperaturaDoAr_0  TemperaturaInterna_0  \\\n0                 918.6               19.5                  22.6   \n1                 918.7               19.5                  22.5   \n2                 918.7               19.6                  22.6   \n3                 918.7               19.7                  22.6   \n4                 918.8               19.8                  22.7   \n\n   PontoDeOrvalho_0  SensacaoTermica_0  RadiacaoSolar_0  DirecaoDoVento_0  \\\n0              17.3                NaN              8.0             163.0   \n1              17.2                NaN             18.0             160.0   \n2              17.2                NaN             41.0             108.0   \n3              17.2                NaN             62.0             125.0   \n4              17.1                NaN             82.0             146.0   \n\n   VelocidadeDoVento_0  Precipitacao_0      Local_0  UmidadeRelativa_1  \\\n0                  1.1             0.0  Camilopolis               89.2   \n1                  1.4             0.0  Camilopolis               88.6   \n2                  2.2             0.0  Camilopolis               88.1   \n3                  2.3             0.0  Camilopolis               88.1   \n4                  1.8             0.0  Camilopolis               87.4   \n\n   PressaoAtmosferica_1  TemperaturaDoAr_1  TemperaturaInterna_1  \\\n0                 918.7               19.1                  22.6   \n1                 918.7               19.2                  22.6   \n2                 918.7               19.3                  22.7   \n3                 918.7               19.3                  22.7   \n4                 918.7               19.4                  22.8   \n\n   PontoDeOrvalho_1  SensacaoTermica_1  RadiacaoSolar_1  DirecaoDoVento_1  \\\n0              17.3                NaN              9.0             109.0   \n1              17.3                NaN             16.0             127.0   \n2              17.3                NaN             35.0             138.0   \n3              17.3                NaN             50.0             135.0   \n4              17.2                NaN             88.0             139.0   \n\n   VelocidadeDoVento_1  Precipitacao_1 Local_1  UmidadeRelativa_2  \\\n0                  2.7             0.0  Erasmo               89.4   \n1                  2.0             0.0  Erasmo               89.1   \n2                  2.7             0.0  Erasmo               88.4   \n3                  1.4             0.0  Erasmo               89.3   \n4                  3.7             0.0  Erasmo               88.6   \n\n   PressaoAtmosferica_2  TemperaturaDoAr_2  TemperaturaInterna_2  \\\n0                 917.2               19.1                  22.5   \n1                 917.2               19.1                  22.5   \n2                 917.2               19.1                  22.6   \n3                 917.3               19.0                  22.7   \n4                 917.3               19.0                  22.7   \n\n   PontoDeOrvalho_2  SensacaoTermica_2  RadiacaoSolar_2  DirecaoDoVento_2  \\\n0              17.3                NaN              8.0             113.0   \n1              17.3                NaN             16.0             154.0   \n2              17.3                NaN             28.0             116.0   \n3              17.2                NaN             50.0             128.0   \n4              17.1                NaN             77.0             120.0   \n\n   VelocidadeDoVento_2  Precipitacao_2  Local_2  UmidadeRelativa_3  \\\n0                  2.8             0.0  Paraiso               86.5   \n1                  1.6             0.0  Paraiso               85.6   \n2                  2.3             0.0  Paraiso               85.6   \n3                  2.5             0.0  Paraiso               84.4   \n4                  1.6             0.0  Paraiso               84.2   \n\n   PressaoAtmosferica_3  TemperaturaDoAr_3  TemperaturaInterna_3  \\\n0                 924.8               19.7                  23.2   \n1                 924.8               19.9                  23.3   \n2                 924.8               19.9                  23.3   \n3                 924.9               20.0                  23.3   \n4                 924.9               19.8                  23.4   \n\n   PontoDeOrvalho_3  SensacaoTermica_3  RadiacaoSolar_3  DirecaoDoVento_3  \\\n0              17.4                NaN              8.0             149.0   \n1              17.4                NaN             16.0             162.0   \n2              17.4                NaN             30.0             181.0   \n3              17.2                NaN             53.0             151.0   \n4              17.1                NaN             66.0             176.0   \n\n   VelocidadeDoVento_3  Precipitacao_3 Local_3  UmidadeRelativa_4  \\\n0                  1.2             0.0      RM                0.0   \n1                  1.8             0.0      RM                0.0   \n2                  1.7             0.0      RM                0.0   \n3                  1.5             0.0      RM                0.0   \n4                  3.0             0.0      RM                0.0   \n\n   PressaoAtmosferica_4  TemperaturaDoAr_4  TemperaturaInterna_4  \\\n0                   0.0                0.0                   0.0   \n1                   0.0                0.0                   0.0   \n2                   0.0                0.0                   0.0   \n3                   0.0                0.0                   0.0   \n4                   0.0                0.0                   0.0   \n\n   PontoDeOrvalho_4  SensacaoTermica_4  RadiacaoSolar_4  DirecaoDoVento_4  \\\n0               0.0                NaN              0.0               0.0   \n1               0.0                NaN              0.0               0.0   \n2               0.0                NaN              0.0               0.0   \n3               0.0                NaN              0.0               0.0   \n4               0.0                NaN              0.0               0.0   \n\n   VelocidadeDoVento_4  Precipitacao_4  Local_4  \n0                  0.0             0.0  Vitoria  \n1                  0.0             0.0  Vitoria  \n2                  0.0             0.0  Vitoria  \n3                  0.0             0.0  Vitoria  \n4                  0.0             0.0  Vitoria  ",
      "text/html": "<div>\n<style scoped>\n    .dataframe tbody tr th:only-of-type {\n        vertical-align: middle;\n    }\n\n    .dataframe tbody tr th {\n        vertical-align: top;\n    }\n\n    .dataframe thead th {\n        text-align: right;\n    }\n</style>\n<table border=\"1\" class=\"dataframe\">\n  <thead>\n    <tr style=\"text-align: right;\">\n      <th></th>\n      <th>index</th>\n      <th>Data</th>\n      <th>Hora</th>\n      <th>Data_Hora</th>\n      <th>UmidadeRelativa_0</th>\n      <th>PressaoAtmosferica_0</th>\n      <th>TemperaturaDoAr_0</th>\n      <th>TemperaturaInterna_0</th>\n      <th>PontoDeOrvalho_0</th>\n      <th>SensacaoTermica_0</th>\n      <th>RadiacaoSolar_0</th>\n      <th>DirecaoDoVento_0</th>\n      <th>VelocidadeDoVento_0</th>\n      <th>Precipitacao_0</th>\n      <th>Local_0</th>\n      <th>UmidadeRelativa_1</th>\n      <th>PressaoAtmosferica_1</th>\n      <th>TemperaturaDoAr_1</th>\n      <th>TemperaturaInterna_1</th>\n      <th>PontoDeOrvalho_1</th>\n      <th>SensacaoTermica_1</th>\n      <th>RadiacaoSolar_1</th>\n      <th>DirecaoDoVento_1</th>\n      <th>VelocidadeDoVento_1</th>\n      <th>Precipitacao_1</th>\n      <th>Local_1</th>\n      <th>UmidadeRelativa_2</th>\n      <th>PressaoAtmosferica_2</th>\n      <th>TemperaturaDoAr_2</th>\n      <th>TemperaturaInterna_2</th>\n      <th>PontoDeOrvalho_2</th>\n      <th>SensacaoTermica_2</th>\n      <th>RadiacaoSolar_2</th>\n      <th>DirecaoDoVento_2</th>\n      <th>VelocidadeDoVento_2</th>\n      <th>Precipitacao_2</th>\n      <th>Local_2</th>\n      <th>UmidadeRelativa_3</th>\n      <th>PressaoAtmosferica_3</th>\n      <th>TemperaturaDoAr_3</th>\n      <th>TemperaturaInterna_3</th>\n      <th>PontoDeOrvalho_3</th>\n      <th>SensacaoTermica_3</th>\n      <th>RadiacaoSolar_3</th>\n      <th>DirecaoDoVento_3</th>\n      <th>VelocidadeDoVento_3</th>\n      <th>Precipitacao_3</th>\n      <th>Local_3</th>\n      <th>UmidadeRelativa_4</th>\n      <th>PressaoAtmosferica_4</th>\n      <th>TemperaturaDoAr_4</th>\n      <th>TemperaturaInterna_4</th>\n      <th>PontoDeOrvalho_4</th>\n      <th>SensacaoTermica_4</th>\n      <th>RadiacaoSolar_4</th>\n      <th>DirecaoDoVento_4</th>\n      <th>VelocidadeDoVento_4</th>\n      <th>Precipitacao_4</th>\n      <th>Local_4</th>\n    </tr>\n  </thead>\n  <tbody>\n    <tr>\n      <th>0</th>\n      <td>26</td>\n      <td>01/01/11</td>\n      <td>06:30:00</td>\n      <td>2011-01-01 06:30:00</td>\n      <td>87.2</td>\n      <td>918.6</td>\n      <td>19.5</td>\n      <td>22.6</td>\n      <td>17.3</td>\n      <td>NaN</td>\n      <td>8.0</td>\n      <td>163.0</td>\n      <td>1.1</td>\n      <td>0.0</td>\n      <td>Camilopolis</td>\n      <td>89.2</td>\n      <td>918.7</td>\n      <td>19.1</td>\n      <td>22.6</td>\n      <td>17.3</td>\n      <td>NaN</td>\n      <td>9.0</td>\n      <td>109.0</td>\n      <td>2.7</td>\n      <td>0.0</td>\n      <td>Erasmo</td>\n      <td>89.4</td>\n      <td>917.2</td>\n      <td>19.1</td>\n      <td>22.5</td>\n      <td>17.3</td>\n      <td>NaN</td>\n      <td>8.0</td>\n      <td>113.0</td>\n      <td>2.8</td>\n      <td>0.0</td>\n      <td>Paraiso</td>\n      <td>86.5</td>\n      <td>924.8</td>\n      <td>19.7</td>\n      <td>23.2</td>\n      <td>17.4</td>\n      <td>NaN</td>\n      <td>8.0</td>\n      <td>149.0</td>\n      <td>1.2</td>\n      <td>0.0</td>\n      <td>RM</td>\n      <td>0.0</td>\n      <td>0.0</td>\n      <td>0.0</td>\n      <td>0.0</td>\n      <td>0.0</td>\n      <td>NaN</td>\n      <td>0.0</td>\n      <td>0.0</td>\n      <td>0.0</td>\n      <td>0.0</td>\n      <td>Vitoria</td>\n    </tr>\n    <tr>\n      <th>1</th>\n      <td>27</td>\n      <td>01/01/11</td>\n      <td>06:45:00</td>\n      <td>2011-01-01 06:45:00</td>\n      <td>86.6</td>\n      <td>918.7</td>\n      <td>19.5</td>\n      <td>22.5</td>\n      <td>17.2</td>\n      <td>NaN</td>\n      <td>18.0</td>\n      <td>160.0</td>\n      <td>1.4</td>\n      <td>0.0</td>\n      <td>Camilopolis</td>\n      <td>88.6</td>\n      <td>918.7</td>\n      <td>19.2</td>\n      <td>22.6</td>\n      <td>17.3</td>\n      <td>NaN</td>\n      <td>16.0</td>\n      <td>127.0</td>\n      <td>2.0</td>\n      <td>0.0</td>\n      <td>Erasmo</td>\n      <td>89.1</td>\n      <td>917.2</td>\n      <td>19.1</td>\n      <td>22.5</td>\n      <td>17.3</td>\n      <td>NaN</td>\n      <td>16.0</td>\n      <td>154.0</td>\n      <td>1.6</td>\n      <td>0.0</td>\n      <td>Paraiso</td>\n      <td>85.6</td>\n      <td>924.8</td>\n      <td>19.9</td>\n      <td>23.3</td>\n      <td>17.4</td>\n      <td>NaN</td>\n      <td>16.0</td>\n      <td>162.0</td>\n      <td>1.8</td>\n      <td>0.0</td>\n      <td>RM</td>\n      <td>0.0</td>\n      <td>0.0</td>\n      <td>0.0</td>\n      <td>0.0</td>\n      <td>0.0</td>\n      <td>NaN</td>\n      <td>0.0</td>\n      <td>0.0</td>\n      <td>0.0</td>\n      <td>0.0</td>\n      <td>Vitoria</td>\n    </tr>\n    <tr>\n      <th>2</th>\n      <td>28</td>\n      <td>01/01/11</td>\n      <td>07:00:00</td>\n      <td>2011-01-01 07:00:00</td>\n      <td>86.0</td>\n      <td>918.7</td>\n      <td>19.6</td>\n      <td>22.6</td>\n      <td>17.2</td>\n      <td>NaN</td>\n      <td>41.0</td>\n      <td>108.0</td>\n      <td>2.2</td>\n      <td>0.0</td>\n      <td>Camilopolis</td>\n      <td>88.1</td>\n      <td>918.7</td>\n      <td>19.3</td>\n      <td>22.7</td>\n      <td>17.3</td>\n      <td>NaN</td>\n      <td>35.0</td>\n      <td>138.0</td>\n      <td>2.7</td>\n      <td>0.0</td>\n      <td>Erasmo</td>\n      <td>88.4</td>\n      <td>917.2</td>\n      <td>19.1</td>\n      <td>22.6</td>\n      <td>17.3</td>\n      <td>NaN</td>\n      <td>28.0</td>\n      <td>116.0</td>\n      <td>2.3</td>\n      <td>0.0</td>\n      <td>Paraiso</td>\n      <td>85.6</td>\n      <td>924.8</td>\n      <td>19.9</td>\n      <td>23.3</td>\n      <td>17.4</td>\n      <td>NaN</td>\n      <td>30.0</td>\n      <td>181.0</td>\n      <td>1.7</td>\n      <td>0.0</td>\n      <td>RM</td>\n      <td>0.0</td>\n      <td>0.0</td>\n      <td>0.0</td>\n      <td>0.0</td>\n      <td>0.0</td>\n      <td>NaN</td>\n      <td>0.0</td>\n      <td>0.0</td>\n      <td>0.0</td>\n      <td>0.0</td>\n      <td>Vitoria</td>\n    </tr>\n    <tr>\n      <th>3</th>\n      <td>29</td>\n      <td>01/01/11</td>\n      <td>07:15:00</td>\n      <td>2011-01-01 07:15:00</td>\n      <td>85.4</td>\n      <td>918.7</td>\n      <td>19.7</td>\n      <td>22.6</td>\n      <td>17.2</td>\n      <td>NaN</td>\n      <td>62.0</td>\n      <td>125.0</td>\n      <td>2.3</td>\n      <td>0.0</td>\n      <td>Camilopolis</td>\n      <td>88.1</td>\n      <td>918.7</td>\n      <td>19.3</td>\n      <td>22.7</td>\n      <td>17.3</td>\n      <td>NaN</td>\n      <td>50.0</td>\n      <td>135.0</td>\n      <td>1.4</td>\n      <td>0.0</td>\n      <td>Erasmo</td>\n      <td>89.3</td>\n      <td>917.3</td>\n      <td>19.0</td>\n      <td>22.7</td>\n      <td>17.2</td>\n      <td>NaN</td>\n      <td>50.0</td>\n      <td>128.0</td>\n      <td>2.5</td>\n      <td>0.0</td>\n      <td>Paraiso</td>\n      <td>84.4</td>\n      <td>924.9</td>\n      <td>20.0</td>\n      <td>23.3</td>\n      <td>17.2</td>\n      <td>NaN</td>\n      <td>53.0</td>\n      <td>151.0</td>\n      <td>1.5</td>\n      <td>0.0</td>\n      <td>RM</td>\n      <td>0.0</td>\n      <td>0.0</td>\n      <td>0.0</td>\n      <td>0.0</td>\n      <td>0.0</td>\n      <td>NaN</td>\n      <td>0.0</td>\n      <td>0.0</td>\n      <td>0.0</td>\n      <td>0.0</td>\n      <td>Vitoria</td>\n    </tr>\n    <tr>\n      <th>4</th>\n      <td>30</td>\n      <td>01/01/11</td>\n      <td>07:30:00</td>\n      <td>2011-01-01 07:30:00</td>\n      <td>84.7</td>\n      <td>918.8</td>\n      <td>19.8</td>\n      <td>22.7</td>\n      <td>17.1</td>\n      <td>NaN</td>\n      <td>82.0</td>\n      <td>146.0</td>\n      <td>1.8</td>\n      <td>0.0</td>\n      <td>Camilopolis</td>\n      <td>87.4</td>\n      <td>918.7</td>\n      <td>19.4</td>\n      <td>22.8</td>\n      <td>17.2</td>\n      <td>NaN</td>\n      <td>88.0</td>\n      <td>139.0</td>\n      <td>3.7</td>\n      <td>0.0</td>\n      <td>Erasmo</td>\n      <td>88.6</td>\n      <td>917.3</td>\n      <td>19.0</td>\n      <td>22.7</td>\n      <td>17.1</td>\n      <td>NaN</td>\n      <td>77.0</td>\n      <td>120.0</td>\n      <td>1.6</td>\n      <td>0.0</td>\n      <td>Paraiso</td>\n      <td>84.2</td>\n      <td>924.9</td>\n      <td>19.8</td>\n      <td>23.4</td>\n      <td>17.1</td>\n      <td>NaN</td>\n      <td>66.0</td>\n      <td>176.0</td>\n      <td>3.0</td>\n      <td>0.0</td>\n      <td>RM</td>\n      <td>0.0</td>\n      <td>0.0</td>\n      <td>0.0</td>\n      <td>0.0</td>\n      <td>0.0</td>\n      <td>NaN</td>\n      <td>0.0</td>\n      <td>0.0</td>\n      <td>0.0</td>\n      <td>0.0</td>\n      <td>Vitoria</td>\n    </tr>\n  </tbody>\n</table>\n</div>"
     },
     "metadata": {},
     "execution_count": 70
    }
   ],
   "source": [
    "merged = pd.read_csv('../../../data/cleandata/Info pluviometricas/Merged Data/merged.csv',\n",
    "                sep=';',\n",
    "                dtype = {'Local_0': object, 'Local_1':object,\n",
    "                          'Local_2':object,  'Local_3':object})\n",
    "\n",
    "merged.head()"
   ]
  },
  {
   "cell_type": "code",
   "execution_count": 71,
   "metadata": {},
   "outputs": [
    {
     "output_type": "execute_result",
     "data": {
      "text/plain": "                Precipitacao_0  Precipitacao_1  Precipitacao_2  \\\nPrecipitacao_0        1.000000        0.506489        0.476399   \nPrecipitacao_1        0.506489        1.000000        0.354365   \nPrecipitacao_2        0.476399        0.354365        1.000000   \nPrecipitacao_3        0.494459        0.364162        0.583411   \nPrecipitacao_4        0.503100        0.394172        0.612899   \n\n                Precipitacao_3  Precipitacao_4  \nPrecipitacao_0        0.494459        0.503100  \nPrecipitacao_1        0.364162        0.394172  \nPrecipitacao_2        0.583411        0.612899  \nPrecipitacao_3        1.000000        0.538128  \nPrecipitacao_4        0.538128        1.000000  ",
      "text/html": "<div>\n<style scoped>\n    .dataframe tbody tr th:only-of-type {\n        vertical-align: middle;\n    }\n\n    .dataframe tbody tr th {\n        vertical-align: top;\n    }\n\n    .dataframe thead th {\n        text-align: right;\n    }\n</style>\n<table border=\"1\" class=\"dataframe\">\n  <thead>\n    <tr style=\"text-align: right;\">\n      <th></th>\n      <th>Precipitacao_0</th>\n      <th>Precipitacao_1</th>\n      <th>Precipitacao_2</th>\n      <th>Precipitacao_3</th>\n      <th>Precipitacao_4</th>\n    </tr>\n  </thead>\n  <tbody>\n    <tr>\n      <th>Precipitacao_0</th>\n      <td>1.000000</td>\n      <td>0.506489</td>\n      <td>0.476399</td>\n      <td>0.494459</td>\n      <td>0.503100</td>\n    </tr>\n    <tr>\n      <th>Precipitacao_1</th>\n      <td>0.506489</td>\n      <td>1.000000</td>\n      <td>0.354365</td>\n      <td>0.364162</td>\n      <td>0.394172</td>\n    </tr>\n    <tr>\n      <th>Precipitacao_2</th>\n      <td>0.476399</td>\n      <td>0.354365</td>\n      <td>1.000000</td>\n      <td>0.583411</td>\n      <td>0.612899</td>\n    </tr>\n    <tr>\n      <th>Precipitacao_3</th>\n      <td>0.494459</td>\n      <td>0.364162</td>\n      <td>0.583411</td>\n      <td>1.000000</td>\n      <td>0.538128</td>\n    </tr>\n    <tr>\n      <th>Precipitacao_4</th>\n      <td>0.503100</td>\n      <td>0.394172</td>\n      <td>0.612899</td>\n      <td>0.538128</td>\n      <td>1.000000</td>\n    </tr>\n  </tbody>\n</table>\n</div>"
     },
     "metadata": {},
     "execution_count": 71
    }
   ],
   "source": [
    "merged[['Precipitacao_0', 'Precipitacao_1', 'Precipitacao_2', 'Precipitacao_3', 'Precipitacao_4']].corr()"
   ]
  },
  {
   "cell_type": "code",
   "execution_count": 72,
   "metadata": {},
   "outputs": [
    {
     "output_type": "execute_result",
     "data": {
      "text/plain": "             Data_Hora  UmidadeRelativa_0_error  UmidadeRelativa_1_error  \\\n0  2011-01-01 00:00:00                    False                    False   \n1  2011-01-01 00:15:00                    False                    False   \n2  2011-01-01 00:30:00                    False                    False   \n3  2011-01-01 00:45:00                    False                    False   \n4  2011-01-01 01:00:00                    False                    False   \n\n   UmidadeRelativa_2_error  UmidadeRelativa_3_error  UmidadeRelativa_4_error  \\\n0                    False                    False                     True   \n1                    False                    False                     True   \n2                    False                    False                     True   \n3                    False                    False                     True   \n4                    False                    False                     True   \n\n   PressaoAtmosferica_0_error  PressaoAtmosferica_1_error  \\\n0                       False                       False   \n1                       False                       False   \n2                       False                       False   \n3                       False                       False   \n4                       False                       False   \n\n   PressaoAtmosferica_2_error  PressaoAtmosferica_3_error  \\\n0                       False                       False   \n1                       False                       False   \n2                       False                       False   \n3                       False                       False   \n4                       False                       False   \n\n   PressaoAtmosferica_4_error  TemperaturaDoAr_0_error  \\\n0                        True                    False   \n1                        True                    False   \n2                        True                    False   \n3                        True                    False   \n4                        True                    False   \n\n   TemperaturaDoAr_1_error  TemperaturaDoAr_2_error  TemperaturaDoAr_3_error  \\\n0                     True                    False                    False   \n1                     True                    False                    False   \n2                     True                    False                    False   \n3                     True                    False                    False   \n4                     True                    False                    False   \n\n   TemperaturaDoAr_4_error  TemperaturaInterna_0_error  \\\n0                     True                       False   \n1                     True                       False   \n2                     True                       False   \n3                     True                       False   \n4                     True                       False   \n\n   TemperaturaInterna_1_error  TemperaturaInterna_2_error  \\\n0                       False                       False   \n1                       False                       False   \n2                       False                       False   \n3                       False                       False   \n4                       False                       False   \n\n   TemperaturaInterna_3_error  TemperaturaInterna_4_error  \\\n0                       False                        True   \n1                       False                        True   \n2                       False                        True   \n3                       False                        True   \n4                       False                        True   \n\n   PontoDeOrvalho_0_error  PontoDeOrvalho_1_error  PontoDeOrvalho_2_error  \\\n0                   False                   False                   False   \n1                   False                   False                   False   \n2                   False                   False                   False   \n3                   False                   False                   False   \n4                   False                   False                    True   \n\n   PontoDeOrvalho_3_error  PontoDeOrvalho_4_error  SensacaoTermica_0_error  \\\n0                   False                    True                     True   \n1                   False                    True                     True   \n2                   False                    True                     True   \n3                   False                    True                     True   \n4                   False                    True                     True   \n\n   SensacaoTermica_1_error  SensacaoTermica_2_error  SensacaoTermica_3_error  \\\n0                     True                     True                     True   \n1                     True                     True                     True   \n2                     True                     True                     True   \n3                     True                     True                     True   \n4                     True                     True                     True   \n\n   SensacaoTermica_4_error  RadiacaoSolar_0_error  RadiacaoSolar_1_error  \\\n0                     True                  False                  False   \n1                     True                  False                  False   \n2                     True                  False                  False   \n3                     True                  False                  False   \n4                     True                  False                  False   \n\n   RadiacaoSolar_2_error  RadiacaoSolar_3_error  RadiacaoSolar_4_error  \\\n0                  False                  False                   True   \n1                  False                  False                   True   \n2                  False                  False                   True   \n3                  False                  False                   True   \n4                  False                  False                   True   \n\n   DirecaoDoVento_0_error  DirecaoDoVento_1_error  DirecaoDoVento_2_error  \\\n0                   False                   False                   False   \n1                   False                   False                   False   \n2                   False                   False                   False   \n3                   False                   False                   False   \n4                   False                   False                   False   \n\n   DirecaoDoVento_3_error  DirecaoDoVento_4_error  VelocidadeDoVento_0_error  \\\n0                   False                    True                      False   \n1                   False                    True                      False   \n2                   False                    True                      False   \n3                   False                    True                      False   \n4                   False                    True                      False   \n\n   VelocidadeDoVento_1_error  VelocidadeDoVento_2_error  \\\n0                      False                      False   \n1                      False                      False   \n2                      False                      False   \n3                      False                      False   \n4                      False                      False   \n\n   VelocidadeDoVento_3_error  VelocidadeDoVento_4_error  Precipitacao_0_error  \\\n0                      False                       True                 False   \n1                      False                       True                 False   \n2                      False                       True                 False   \n3                      False                       True                 False   \n4                      False                       True                 False   \n\n   Precipitacao_1_error  Precipitacao_2_error  Precipitacao_3_error  \\\n0                 False                 False                 False   \n1                 False                 False                 False   \n2                 False                 False                 False   \n3                 False                 False                 False   \n4                 False                 False                 False   \n\n   Precipitacao_4_error  \n0                 False  \n1                 False  \n2                 False  \n3                 False  \n4                 False  ",
      "text/html": "<div>\n<style scoped>\n    .dataframe tbody tr th:only-of-type {\n        vertical-align: middle;\n    }\n\n    .dataframe tbody tr th {\n        vertical-align: top;\n    }\n\n    .dataframe thead th {\n        text-align: right;\n    }\n</style>\n<table border=\"1\" class=\"dataframe\">\n  <thead>\n    <tr style=\"text-align: right;\">\n      <th></th>\n      <th>Data_Hora</th>\n      <th>UmidadeRelativa_0_error</th>\n      <th>UmidadeRelativa_1_error</th>\n      <th>UmidadeRelativa_2_error</th>\n      <th>UmidadeRelativa_3_error</th>\n      <th>UmidadeRelativa_4_error</th>\n      <th>PressaoAtmosferica_0_error</th>\n      <th>PressaoAtmosferica_1_error</th>\n      <th>PressaoAtmosferica_2_error</th>\n      <th>PressaoAtmosferica_3_error</th>\n      <th>PressaoAtmosferica_4_error</th>\n      <th>TemperaturaDoAr_0_error</th>\n      <th>TemperaturaDoAr_1_error</th>\n      <th>TemperaturaDoAr_2_error</th>\n      <th>TemperaturaDoAr_3_error</th>\n      <th>TemperaturaDoAr_4_error</th>\n      <th>TemperaturaInterna_0_error</th>\n      <th>TemperaturaInterna_1_error</th>\n      <th>TemperaturaInterna_2_error</th>\n      <th>TemperaturaInterna_3_error</th>\n      <th>TemperaturaInterna_4_error</th>\n      <th>PontoDeOrvalho_0_error</th>\n      <th>PontoDeOrvalho_1_error</th>\n      <th>PontoDeOrvalho_2_error</th>\n      <th>PontoDeOrvalho_3_error</th>\n      <th>PontoDeOrvalho_4_error</th>\n      <th>SensacaoTermica_0_error</th>\n      <th>SensacaoTermica_1_error</th>\n      <th>SensacaoTermica_2_error</th>\n      <th>SensacaoTermica_3_error</th>\n      <th>SensacaoTermica_4_error</th>\n      <th>RadiacaoSolar_0_error</th>\n      <th>RadiacaoSolar_1_error</th>\n      <th>RadiacaoSolar_2_error</th>\n      <th>RadiacaoSolar_3_error</th>\n      <th>RadiacaoSolar_4_error</th>\n      <th>DirecaoDoVento_0_error</th>\n      <th>DirecaoDoVento_1_error</th>\n      <th>DirecaoDoVento_2_error</th>\n      <th>DirecaoDoVento_3_error</th>\n      <th>DirecaoDoVento_4_error</th>\n      <th>VelocidadeDoVento_0_error</th>\n      <th>VelocidadeDoVento_1_error</th>\n      <th>VelocidadeDoVento_2_error</th>\n      <th>VelocidadeDoVento_3_error</th>\n      <th>VelocidadeDoVento_4_error</th>\n      <th>Precipitacao_0_error</th>\n      <th>Precipitacao_1_error</th>\n      <th>Precipitacao_2_error</th>\n      <th>Precipitacao_3_error</th>\n      <th>Precipitacao_4_error</th>\n    </tr>\n  </thead>\n  <tbody>\n    <tr>\n      <th>0</th>\n      <td>2011-01-01 00:00:00</td>\n      <td>False</td>\n      <td>False</td>\n      <td>False</td>\n      <td>False</td>\n      <td>True</td>\n      <td>False</td>\n      <td>False</td>\n      <td>False</td>\n      <td>False</td>\n      <td>True</td>\n      <td>False</td>\n      <td>True</td>\n      <td>False</td>\n      <td>False</td>\n      <td>True</td>\n      <td>False</td>\n      <td>False</td>\n      <td>False</td>\n      <td>False</td>\n      <td>True</td>\n      <td>False</td>\n      <td>False</td>\n      <td>False</td>\n      <td>False</td>\n      <td>True</td>\n      <td>True</td>\n      <td>True</td>\n      <td>True</td>\n      <td>True</td>\n      <td>True</td>\n      <td>False</td>\n      <td>False</td>\n      <td>False</td>\n      <td>False</td>\n      <td>True</td>\n      <td>False</td>\n      <td>False</td>\n      <td>False</td>\n      <td>False</td>\n      <td>True</td>\n      <td>False</td>\n      <td>False</td>\n      <td>False</td>\n      <td>False</td>\n      <td>True</td>\n      <td>False</td>\n      <td>False</td>\n      <td>False</td>\n      <td>False</td>\n      <td>False</td>\n    </tr>\n    <tr>\n      <th>1</th>\n      <td>2011-01-01 00:15:00</td>\n      <td>False</td>\n      <td>False</td>\n      <td>False</td>\n      <td>False</td>\n      <td>True</td>\n      <td>False</td>\n      <td>False</td>\n      <td>False</td>\n      <td>False</td>\n      <td>True</td>\n      <td>False</td>\n      <td>True</td>\n      <td>False</td>\n      <td>False</td>\n      <td>True</td>\n      <td>False</td>\n      <td>False</td>\n      <td>False</td>\n      <td>False</td>\n      <td>True</td>\n      <td>False</td>\n      <td>False</td>\n      <td>False</td>\n      <td>False</td>\n      <td>True</td>\n      <td>True</td>\n      <td>True</td>\n      <td>True</td>\n      <td>True</td>\n      <td>True</td>\n      <td>False</td>\n      <td>False</td>\n      <td>False</td>\n      <td>False</td>\n      <td>True</td>\n      <td>False</td>\n      <td>False</td>\n      <td>False</td>\n      <td>False</td>\n      <td>True</td>\n      <td>False</td>\n      <td>False</td>\n      <td>False</td>\n      <td>False</td>\n      <td>True</td>\n      <td>False</td>\n      <td>False</td>\n      <td>False</td>\n      <td>False</td>\n      <td>False</td>\n    </tr>\n    <tr>\n      <th>2</th>\n      <td>2011-01-01 00:30:00</td>\n      <td>False</td>\n      <td>False</td>\n      <td>False</td>\n      <td>False</td>\n      <td>True</td>\n      <td>False</td>\n      <td>False</td>\n      <td>False</td>\n      <td>False</td>\n      <td>True</td>\n      <td>False</td>\n      <td>True</td>\n      <td>False</td>\n      <td>False</td>\n      <td>True</td>\n      <td>False</td>\n      <td>False</td>\n      <td>False</td>\n      <td>False</td>\n      <td>True</td>\n      <td>False</td>\n      <td>False</td>\n      <td>False</td>\n      <td>False</td>\n      <td>True</td>\n      <td>True</td>\n      <td>True</td>\n      <td>True</td>\n      <td>True</td>\n      <td>True</td>\n      <td>False</td>\n      <td>False</td>\n      <td>False</td>\n      <td>False</td>\n      <td>True</td>\n      <td>False</td>\n      <td>False</td>\n      <td>False</td>\n      <td>False</td>\n      <td>True</td>\n      <td>False</td>\n      <td>False</td>\n      <td>False</td>\n      <td>False</td>\n      <td>True</td>\n      <td>False</td>\n      <td>False</td>\n      <td>False</td>\n      <td>False</td>\n      <td>False</td>\n    </tr>\n    <tr>\n      <th>3</th>\n      <td>2011-01-01 00:45:00</td>\n      <td>False</td>\n      <td>False</td>\n      <td>False</td>\n      <td>False</td>\n      <td>True</td>\n      <td>False</td>\n      <td>False</td>\n      <td>False</td>\n      <td>False</td>\n      <td>True</td>\n      <td>False</td>\n      <td>True</td>\n      <td>False</td>\n      <td>False</td>\n      <td>True</td>\n      <td>False</td>\n      <td>False</td>\n      <td>False</td>\n      <td>False</td>\n      <td>True</td>\n      <td>False</td>\n      <td>False</td>\n      <td>False</td>\n      <td>False</td>\n      <td>True</td>\n      <td>True</td>\n      <td>True</td>\n      <td>True</td>\n      <td>True</td>\n      <td>True</td>\n      <td>False</td>\n      <td>False</td>\n      <td>False</td>\n      <td>False</td>\n      <td>True</td>\n      <td>False</td>\n      <td>False</td>\n      <td>False</td>\n      <td>False</td>\n      <td>True</td>\n      <td>False</td>\n      <td>False</td>\n      <td>False</td>\n      <td>False</td>\n      <td>True</td>\n      <td>False</td>\n      <td>False</td>\n      <td>False</td>\n      <td>False</td>\n      <td>False</td>\n    </tr>\n    <tr>\n      <th>4</th>\n      <td>2011-01-01 01:00:00</td>\n      <td>False</td>\n      <td>False</td>\n      <td>False</td>\n      <td>False</td>\n      <td>True</td>\n      <td>False</td>\n      <td>False</td>\n      <td>False</td>\n      <td>False</td>\n      <td>True</td>\n      <td>False</td>\n      <td>True</td>\n      <td>False</td>\n      <td>False</td>\n      <td>True</td>\n      <td>False</td>\n      <td>False</td>\n      <td>False</td>\n      <td>False</td>\n      <td>True</td>\n      <td>False</td>\n      <td>False</td>\n      <td>True</td>\n      <td>False</td>\n      <td>True</td>\n      <td>True</td>\n      <td>True</td>\n      <td>True</td>\n      <td>True</td>\n      <td>True</td>\n      <td>False</td>\n      <td>False</td>\n      <td>False</td>\n      <td>False</td>\n      <td>True</td>\n      <td>False</td>\n      <td>False</td>\n      <td>False</td>\n      <td>False</td>\n      <td>True</td>\n      <td>False</td>\n      <td>False</td>\n      <td>False</td>\n      <td>False</td>\n      <td>True</td>\n      <td>False</td>\n      <td>False</td>\n      <td>False</td>\n      <td>False</td>\n      <td>False</td>\n    </tr>\n  </tbody>\n</table>\n</div>"
     },
     "metadata": {},
     "execution_count": 72
    }
   ],
   "source": [
    "regions = pd.read_csv('../../../data/cleandata/Info pluviometricas/Merged Data/error_regions.csv', sep=';')\n",
    "\n",
    "regions.head()"
   ]
  },
  {
   "cell_type": "code",
   "execution_count": 73,
   "metadata": {},
   "outputs": [
    {
     "output_type": "execute_result",
     "data": {
      "text/plain": "   index      Data      Hora            Data_Hora  UmidadeRelativa_0  \\\n0     26  01/01/11  06:30:00  2011-01-01 06:30:00               87.2   \n1     27  01/01/11  06:45:00  2011-01-01 06:45:00               86.6   \n2     28  01/01/11  07:00:00  2011-01-01 07:00:00               86.0   \n3     29  01/01/11  07:15:00  2011-01-01 07:15:00               85.4   \n4     30  01/01/11  07:30:00  2011-01-01 07:30:00               84.7   \n\n   PressaoAtmosferica_0  TemperaturaDoAr_0  TemperaturaInterna_0  \\\n0                 918.6               19.5                  22.6   \n1                 918.7               19.5                  22.5   \n2                 918.7               19.6                  22.6   \n3                 918.7               19.7                  22.6   \n4                 918.8               19.8                  22.7   \n\n   PontoDeOrvalho_0  SensacaoTermica_0  RadiacaoSolar_0  DirecaoDoVento_0  \\\n0              17.3                NaN              8.0             163.0   \n1              17.2                NaN             18.0             160.0   \n2              17.2                NaN             41.0             108.0   \n3              17.2                NaN             62.0             125.0   \n4              17.1                NaN             82.0             146.0   \n\n   VelocidadeDoVento_0  Precipitacao_0      Local_0  UmidadeRelativa_1  \\\n0                  1.1             0.0  Camilopolis               89.2   \n1                  1.4             0.0  Camilopolis               88.6   \n2                  2.2             0.0  Camilopolis               88.1   \n3                  2.3             0.0  Camilopolis               88.1   \n4                  1.8             0.0  Camilopolis               87.4   \n\n   PressaoAtmosferica_1  TemperaturaDoAr_1  TemperaturaInterna_1  \\\n0                 918.7               19.1                  22.6   \n1                 918.7               19.2                  22.6   \n2                 918.7               19.3                  22.7   \n3                 918.7               19.3                  22.7   \n4                 918.7               19.4                  22.8   \n\n   PontoDeOrvalho_1  SensacaoTermica_1  RadiacaoSolar_1  DirecaoDoVento_1  \\\n0              17.3                NaN              9.0             109.0   \n1              17.3                NaN             16.0             127.0   \n2              17.3                NaN             35.0             138.0   \n3              17.3                NaN             50.0             135.0   \n4              17.2                NaN             88.0             139.0   \n\n   VelocidadeDoVento_1  Precipitacao_1 Local_1  UmidadeRelativa_2  \\\n0                  2.7             0.0  Erasmo               89.4   \n1                  2.0             0.0  Erasmo               89.1   \n2                  2.7             0.0  Erasmo               88.4   \n3                  1.4             0.0  Erasmo               89.3   \n4                  3.7             0.0  Erasmo               88.6   \n\n   PressaoAtmosferica_2  TemperaturaDoAr_2  TemperaturaInterna_2  \\\n0                 917.2               19.1                  22.5   \n1                 917.2               19.1                  22.5   \n2                 917.2               19.1                  22.6   \n3                 917.3               19.0                  22.7   \n4                 917.3               19.0                  22.7   \n\n   PontoDeOrvalho_2  SensacaoTermica_2  RadiacaoSolar_2  DirecaoDoVento_2  \\\n0              17.3                NaN              8.0             113.0   \n1              17.3                NaN             16.0             154.0   \n2              17.3                NaN             28.0             116.0   \n3              17.2                NaN             50.0             128.0   \n4              17.1                NaN             77.0             120.0   \n\n   VelocidadeDoVento_2  Precipitacao_2  Local_2  UmidadeRelativa_3  \\\n0                  2.8             0.0  Paraiso               86.5   \n1                  1.6             0.0  Paraiso               85.6   \n2                  2.3             0.0  Paraiso               85.6   \n3                  2.5             0.0  Paraiso               84.4   \n4                  1.6             0.0  Paraiso               84.2   \n\n   PressaoAtmosferica_3  TemperaturaDoAr_3  TemperaturaInterna_3  \\\n0                 924.8               19.7                  23.2   \n1                 924.8               19.9                  23.3   \n2                 924.8               19.9                  23.3   \n3                 924.9               20.0                  23.3   \n4                 924.9               19.8                  23.4   \n\n   PontoDeOrvalho_3  SensacaoTermica_3  RadiacaoSolar_3  DirecaoDoVento_3  \\\n0              17.4                NaN              8.0             149.0   \n1              17.4                NaN             16.0             162.0   \n2              17.4                NaN             30.0             181.0   \n3              17.2                NaN             53.0             151.0   \n4              17.1                NaN             66.0             176.0   \n\n   VelocidadeDoVento_3  Precipitacao_3 Local_3  UmidadeRelativa_4  \\\n0                  1.2             0.0      RM                0.0   \n1                  1.8             0.0      RM                0.0   \n2                  1.7             0.0      RM                0.0   \n3                  1.5             0.0      RM                0.0   \n4                  3.0             0.0      RM                0.0   \n\n   PressaoAtmosferica_4  TemperaturaDoAr_4  TemperaturaInterna_4  \\\n0                   0.0                0.0                   0.0   \n1                   0.0                0.0                   0.0   \n2                   0.0                0.0                   0.0   \n3                   0.0                0.0                   0.0   \n4                   0.0                0.0                   0.0   \n\n   PontoDeOrvalho_4  SensacaoTermica_4  RadiacaoSolar_4  DirecaoDoVento_4  \\\n0               0.0                NaN              0.0               0.0   \n1               0.0                NaN              0.0               0.0   \n2               0.0                NaN              0.0               0.0   \n3               0.0                NaN              0.0               0.0   \n4               0.0                NaN              0.0               0.0   \n\n   VelocidadeDoVento_4  Precipitacao_4  Local_4  UmidadeRelativa_0_error  \\\n0                  0.0             0.0  Vitoria                    False   \n1                  0.0             0.0  Vitoria                    False   \n2                  0.0             0.0  Vitoria                    False   \n3                  0.0             0.0  Vitoria                    False   \n4                  0.0             0.0  Vitoria                    False   \n\n   UmidadeRelativa_1_error  UmidadeRelativa_2_error  UmidadeRelativa_3_error  \\\n0                    False                    False                    False   \n1                    False                    False                    False   \n2                    False                    False                    False   \n3                    False                    False                    False   \n4                    False                    False                    False   \n\n   UmidadeRelativa_4_error  PressaoAtmosferica_0_error  \\\n0                     True                       False   \n1                     True                       False   \n2                     True                       False   \n3                     True                       False   \n4                     True                       False   \n\n   PressaoAtmosferica_1_error  PressaoAtmosferica_2_error  \\\n0                       False                       False   \n1                       False                       False   \n2                       False                       False   \n3                       False                       False   \n4                       False                       False   \n\n   PressaoAtmosferica_3_error  PressaoAtmosferica_4_error  \\\n0                       False                        True   \n1                       False                        True   \n2                       False                        True   \n3                       False                        True   \n4                       False                        True   \n\n   TemperaturaDoAr_0_error  TemperaturaDoAr_1_error  TemperaturaDoAr_2_error  \\\n0                    False                    False                    False   \n1                    False                    False                    False   \n2                    False                    False                    False   \n3                    False                    False                    False   \n4                    False                    False                    False   \n\n   TemperaturaDoAr_3_error  TemperaturaDoAr_4_error  \\\n0                    False                     True   \n1                    False                     True   \n2                    False                     True   \n3                    False                     True   \n4                    False                     True   \n\n   TemperaturaInterna_0_error  TemperaturaInterna_1_error  \\\n0                       False                       False   \n1                       False                       False   \n2                       False                       False   \n3                       False                       False   \n4                       False                       False   \n\n   TemperaturaInterna_2_error  TemperaturaInterna_3_error  \\\n0                       False                       False   \n1                       False                       False   \n2                       False                       False   \n3                       False                       False   \n4                       False                       False   \n\n   TemperaturaInterna_4_error  PontoDeOrvalho_0_error  PontoDeOrvalho_1_error  \\\n0                        True                   False                    True   \n1                        True                   False                    True   \n2                        True                   False                    True   \n3                        True                   False                    True   \n4                        True                   False                    True   \n\n   PontoDeOrvalho_2_error  PontoDeOrvalho_3_error  PontoDeOrvalho_4_error  \\\n0                   False                   False                    True   \n1                   False                   False                    True   \n2                   False                   False                    True   \n3                   False                   False                    True   \n4                   False                   False                    True   \n\n   SensacaoTermica_0_error  SensacaoTermica_1_error  SensacaoTermica_2_error  \\\n0                     True                     True                     True   \n1                     True                     True                     True   \n2                     True                     True                     True   \n3                     True                     True                     True   \n4                     True                     True                     True   \n\n   SensacaoTermica_3_error  SensacaoTermica_4_error  RadiacaoSolar_0_error  \\\n0                     True                     True                  False   \n1                     True                     True                  False   \n2                     True                     True                  False   \n3                     True                     True                  False   \n4                     True                     True                  False   \n\n   RadiacaoSolar_1_error  RadiacaoSolar_2_error  RadiacaoSolar_3_error  \\\n0                  False                  False                  False   \n1                  False                  False                  False   \n2                  False                  False                  False   \n3                  False                  False                  False   \n4                  False                  False                  False   \n\n   RadiacaoSolar_4_error  DirecaoDoVento_0_error  DirecaoDoVento_1_error  \\\n0                   True                   False                   False   \n1                   True                   False                   False   \n2                   True                   False                   False   \n3                   True                   False                   False   \n4                   True                   False                   False   \n\n   DirecaoDoVento_2_error  DirecaoDoVento_3_error  DirecaoDoVento_4_error  \\\n0                   False                   False                    True   \n1                   False                   False                    True   \n2                   False                   False                    True   \n3                   False                   False                    True   \n4                   False                   False                    True   \n\n   VelocidadeDoVento_0_error  VelocidadeDoVento_1_error  \\\n0                      False                      False   \n1                      False                      False   \n2                      False                      False   \n3                      False                      False   \n4                      False                      False   \n\n   VelocidadeDoVento_2_error  VelocidadeDoVento_3_error  \\\n0                      False                      False   \n1                      False                      False   \n2                      False                      False   \n3                      False                      False   \n4                      False                      False   \n\n   VelocidadeDoVento_4_error  Precipitacao_0_error  Precipitacao_1_error  \\\n0                       True                 False                 False   \n1                       True                 False                 False   \n2                       True                 False                 False   \n3                       True                 False                 False   \n4                       True                 False                 False   \n\n   Precipitacao_2_error  Precipitacao_3_error  Precipitacao_4_error  \n0                 False                 False                 False  \n1                 False                 False                 False  \n2                 False                 False                 False  \n3                 False                 False                 False  \n4                 False                 False                 False  ",
      "text/html": "<div>\n<style scoped>\n    .dataframe tbody tr th:only-of-type {\n        vertical-align: middle;\n    }\n\n    .dataframe tbody tr th {\n        vertical-align: top;\n    }\n\n    .dataframe thead th {\n        text-align: right;\n    }\n</style>\n<table border=\"1\" class=\"dataframe\">\n  <thead>\n    <tr style=\"text-align: right;\">\n      <th></th>\n      <th>index</th>\n      <th>Data</th>\n      <th>Hora</th>\n      <th>Data_Hora</th>\n      <th>UmidadeRelativa_0</th>\n      <th>PressaoAtmosferica_0</th>\n      <th>TemperaturaDoAr_0</th>\n      <th>TemperaturaInterna_0</th>\n      <th>PontoDeOrvalho_0</th>\n      <th>SensacaoTermica_0</th>\n      <th>RadiacaoSolar_0</th>\n      <th>DirecaoDoVento_0</th>\n      <th>VelocidadeDoVento_0</th>\n      <th>Precipitacao_0</th>\n      <th>Local_0</th>\n      <th>UmidadeRelativa_1</th>\n      <th>PressaoAtmosferica_1</th>\n      <th>TemperaturaDoAr_1</th>\n      <th>TemperaturaInterna_1</th>\n      <th>PontoDeOrvalho_1</th>\n      <th>SensacaoTermica_1</th>\n      <th>RadiacaoSolar_1</th>\n      <th>DirecaoDoVento_1</th>\n      <th>VelocidadeDoVento_1</th>\n      <th>Precipitacao_1</th>\n      <th>Local_1</th>\n      <th>UmidadeRelativa_2</th>\n      <th>PressaoAtmosferica_2</th>\n      <th>TemperaturaDoAr_2</th>\n      <th>TemperaturaInterna_2</th>\n      <th>PontoDeOrvalho_2</th>\n      <th>SensacaoTermica_2</th>\n      <th>RadiacaoSolar_2</th>\n      <th>DirecaoDoVento_2</th>\n      <th>VelocidadeDoVento_2</th>\n      <th>Precipitacao_2</th>\n      <th>Local_2</th>\n      <th>UmidadeRelativa_3</th>\n      <th>PressaoAtmosferica_3</th>\n      <th>TemperaturaDoAr_3</th>\n      <th>TemperaturaInterna_3</th>\n      <th>PontoDeOrvalho_3</th>\n      <th>SensacaoTermica_3</th>\n      <th>RadiacaoSolar_3</th>\n      <th>DirecaoDoVento_3</th>\n      <th>VelocidadeDoVento_3</th>\n      <th>Precipitacao_3</th>\n      <th>Local_3</th>\n      <th>UmidadeRelativa_4</th>\n      <th>PressaoAtmosferica_4</th>\n      <th>TemperaturaDoAr_4</th>\n      <th>TemperaturaInterna_4</th>\n      <th>PontoDeOrvalho_4</th>\n      <th>SensacaoTermica_4</th>\n      <th>RadiacaoSolar_4</th>\n      <th>DirecaoDoVento_4</th>\n      <th>VelocidadeDoVento_4</th>\n      <th>Precipitacao_4</th>\n      <th>Local_4</th>\n      <th>UmidadeRelativa_0_error</th>\n      <th>UmidadeRelativa_1_error</th>\n      <th>UmidadeRelativa_2_error</th>\n      <th>UmidadeRelativa_3_error</th>\n      <th>UmidadeRelativa_4_error</th>\n      <th>PressaoAtmosferica_0_error</th>\n      <th>PressaoAtmosferica_1_error</th>\n      <th>PressaoAtmosferica_2_error</th>\n      <th>PressaoAtmosferica_3_error</th>\n      <th>PressaoAtmosferica_4_error</th>\n      <th>TemperaturaDoAr_0_error</th>\n      <th>TemperaturaDoAr_1_error</th>\n      <th>TemperaturaDoAr_2_error</th>\n      <th>TemperaturaDoAr_3_error</th>\n      <th>TemperaturaDoAr_4_error</th>\n      <th>TemperaturaInterna_0_error</th>\n      <th>TemperaturaInterna_1_error</th>\n      <th>TemperaturaInterna_2_error</th>\n      <th>TemperaturaInterna_3_error</th>\n      <th>TemperaturaInterna_4_error</th>\n      <th>PontoDeOrvalho_0_error</th>\n      <th>PontoDeOrvalho_1_error</th>\n      <th>PontoDeOrvalho_2_error</th>\n      <th>PontoDeOrvalho_3_error</th>\n      <th>PontoDeOrvalho_4_error</th>\n      <th>SensacaoTermica_0_error</th>\n      <th>SensacaoTermica_1_error</th>\n      <th>SensacaoTermica_2_error</th>\n      <th>SensacaoTermica_3_error</th>\n      <th>SensacaoTermica_4_error</th>\n      <th>RadiacaoSolar_0_error</th>\n      <th>RadiacaoSolar_1_error</th>\n      <th>RadiacaoSolar_2_error</th>\n      <th>RadiacaoSolar_3_error</th>\n      <th>RadiacaoSolar_4_error</th>\n      <th>DirecaoDoVento_0_error</th>\n      <th>DirecaoDoVento_1_error</th>\n      <th>DirecaoDoVento_2_error</th>\n      <th>DirecaoDoVento_3_error</th>\n      <th>DirecaoDoVento_4_error</th>\n      <th>VelocidadeDoVento_0_error</th>\n      <th>VelocidadeDoVento_1_error</th>\n      <th>VelocidadeDoVento_2_error</th>\n      <th>VelocidadeDoVento_3_error</th>\n      <th>VelocidadeDoVento_4_error</th>\n      <th>Precipitacao_0_error</th>\n      <th>Precipitacao_1_error</th>\n      <th>Precipitacao_2_error</th>\n      <th>Precipitacao_3_error</th>\n      <th>Precipitacao_4_error</th>\n    </tr>\n  </thead>\n  <tbody>\n    <tr>\n      <th>0</th>\n      <td>26</td>\n      <td>01/01/11</td>\n      <td>06:30:00</td>\n      <td>2011-01-01 06:30:00</td>\n      <td>87.2</td>\n      <td>918.6</td>\n      <td>19.5</td>\n      <td>22.6</td>\n      <td>17.3</td>\n      <td>NaN</td>\n      <td>8.0</td>\n      <td>163.0</td>\n      <td>1.1</td>\n      <td>0.0</td>\n      <td>Camilopolis</td>\n      <td>89.2</td>\n      <td>918.7</td>\n      <td>19.1</td>\n      <td>22.6</td>\n      <td>17.3</td>\n      <td>NaN</td>\n      <td>9.0</td>\n      <td>109.0</td>\n      <td>2.7</td>\n      <td>0.0</td>\n      <td>Erasmo</td>\n      <td>89.4</td>\n      <td>917.2</td>\n      <td>19.1</td>\n      <td>22.5</td>\n      <td>17.3</td>\n      <td>NaN</td>\n      <td>8.0</td>\n      <td>113.0</td>\n      <td>2.8</td>\n      <td>0.0</td>\n      <td>Paraiso</td>\n      <td>86.5</td>\n      <td>924.8</td>\n      <td>19.7</td>\n      <td>23.2</td>\n      <td>17.4</td>\n      <td>NaN</td>\n      <td>8.0</td>\n      <td>149.0</td>\n      <td>1.2</td>\n      <td>0.0</td>\n      <td>RM</td>\n      <td>0.0</td>\n      <td>0.0</td>\n      <td>0.0</td>\n      <td>0.0</td>\n      <td>0.0</td>\n      <td>NaN</td>\n      <td>0.0</td>\n      <td>0.0</td>\n      <td>0.0</td>\n      <td>0.0</td>\n      <td>Vitoria</td>\n      <td>False</td>\n      <td>False</td>\n      <td>False</td>\n      <td>False</td>\n      <td>True</td>\n      <td>False</td>\n      <td>False</td>\n      <td>False</td>\n      <td>False</td>\n      <td>True</td>\n      <td>False</td>\n      <td>False</td>\n      <td>False</td>\n      <td>False</td>\n      <td>True</td>\n      <td>False</td>\n      <td>False</td>\n      <td>False</td>\n      <td>False</td>\n      <td>True</td>\n      <td>False</td>\n      <td>True</td>\n      <td>False</td>\n      <td>False</td>\n      <td>True</td>\n      <td>True</td>\n      <td>True</td>\n      <td>True</td>\n      <td>True</td>\n      <td>True</td>\n      <td>False</td>\n      <td>False</td>\n      <td>False</td>\n      <td>False</td>\n      <td>True</td>\n      <td>False</td>\n      <td>False</td>\n      <td>False</td>\n      <td>False</td>\n      <td>True</td>\n      <td>False</td>\n      <td>False</td>\n      <td>False</td>\n      <td>False</td>\n      <td>True</td>\n      <td>False</td>\n      <td>False</td>\n      <td>False</td>\n      <td>False</td>\n      <td>False</td>\n    </tr>\n    <tr>\n      <th>1</th>\n      <td>27</td>\n      <td>01/01/11</td>\n      <td>06:45:00</td>\n      <td>2011-01-01 06:45:00</td>\n      <td>86.6</td>\n      <td>918.7</td>\n      <td>19.5</td>\n      <td>22.5</td>\n      <td>17.2</td>\n      <td>NaN</td>\n      <td>18.0</td>\n      <td>160.0</td>\n      <td>1.4</td>\n      <td>0.0</td>\n      <td>Camilopolis</td>\n      <td>88.6</td>\n      <td>918.7</td>\n      <td>19.2</td>\n      <td>22.6</td>\n      <td>17.3</td>\n      <td>NaN</td>\n      <td>16.0</td>\n      <td>127.0</td>\n      <td>2.0</td>\n      <td>0.0</td>\n      <td>Erasmo</td>\n      <td>89.1</td>\n      <td>917.2</td>\n      <td>19.1</td>\n      <td>22.5</td>\n      <td>17.3</td>\n      <td>NaN</td>\n      <td>16.0</td>\n      <td>154.0</td>\n      <td>1.6</td>\n      <td>0.0</td>\n      <td>Paraiso</td>\n      <td>85.6</td>\n      <td>924.8</td>\n      <td>19.9</td>\n      <td>23.3</td>\n      <td>17.4</td>\n      <td>NaN</td>\n      <td>16.0</td>\n      <td>162.0</td>\n      <td>1.8</td>\n      <td>0.0</td>\n      <td>RM</td>\n      <td>0.0</td>\n      <td>0.0</td>\n      <td>0.0</td>\n      <td>0.0</td>\n      <td>0.0</td>\n      <td>NaN</td>\n      <td>0.0</td>\n      <td>0.0</td>\n      <td>0.0</td>\n      <td>0.0</td>\n      <td>Vitoria</td>\n      <td>False</td>\n      <td>False</td>\n      <td>False</td>\n      <td>False</td>\n      <td>True</td>\n      <td>False</td>\n      <td>False</td>\n      <td>False</td>\n      <td>False</td>\n      <td>True</td>\n      <td>False</td>\n      <td>False</td>\n      <td>False</td>\n      <td>False</td>\n      <td>True</td>\n      <td>False</td>\n      <td>False</td>\n      <td>False</td>\n      <td>False</td>\n      <td>True</td>\n      <td>False</td>\n      <td>True</td>\n      <td>False</td>\n      <td>False</td>\n      <td>True</td>\n      <td>True</td>\n      <td>True</td>\n      <td>True</td>\n      <td>True</td>\n      <td>True</td>\n      <td>False</td>\n      <td>False</td>\n      <td>False</td>\n      <td>False</td>\n      <td>True</td>\n      <td>False</td>\n      <td>False</td>\n      <td>False</td>\n      <td>False</td>\n      <td>True</td>\n      <td>False</td>\n      <td>False</td>\n      <td>False</td>\n      <td>False</td>\n      <td>True</td>\n      <td>False</td>\n      <td>False</td>\n      <td>False</td>\n      <td>False</td>\n      <td>False</td>\n    </tr>\n    <tr>\n      <th>2</th>\n      <td>28</td>\n      <td>01/01/11</td>\n      <td>07:00:00</td>\n      <td>2011-01-01 07:00:00</td>\n      <td>86.0</td>\n      <td>918.7</td>\n      <td>19.6</td>\n      <td>22.6</td>\n      <td>17.2</td>\n      <td>NaN</td>\n      <td>41.0</td>\n      <td>108.0</td>\n      <td>2.2</td>\n      <td>0.0</td>\n      <td>Camilopolis</td>\n      <td>88.1</td>\n      <td>918.7</td>\n      <td>19.3</td>\n      <td>22.7</td>\n      <td>17.3</td>\n      <td>NaN</td>\n      <td>35.0</td>\n      <td>138.0</td>\n      <td>2.7</td>\n      <td>0.0</td>\n      <td>Erasmo</td>\n      <td>88.4</td>\n      <td>917.2</td>\n      <td>19.1</td>\n      <td>22.6</td>\n      <td>17.3</td>\n      <td>NaN</td>\n      <td>28.0</td>\n      <td>116.0</td>\n      <td>2.3</td>\n      <td>0.0</td>\n      <td>Paraiso</td>\n      <td>85.6</td>\n      <td>924.8</td>\n      <td>19.9</td>\n      <td>23.3</td>\n      <td>17.4</td>\n      <td>NaN</td>\n      <td>30.0</td>\n      <td>181.0</td>\n      <td>1.7</td>\n      <td>0.0</td>\n      <td>RM</td>\n      <td>0.0</td>\n      <td>0.0</td>\n      <td>0.0</td>\n      <td>0.0</td>\n      <td>0.0</td>\n      <td>NaN</td>\n      <td>0.0</td>\n      <td>0.0</td>\n      <td>0.0</td>\n      <td>0.0</td>\n      <td>Vitoria</td>\n      <td>False</td>\n      <td>False</td>\n      <td>False</td>\n      <td>False</td>\n      <td>True</td>\n      <td>False</td>\n      <td>False</td>\n      <td>False</td>\n      <td>False</td>\n      <td>True</td>\n      <td>False</td>\n      <td>False</td>\n      <td>False</td>\n      <td>False</td>\n      <td>True</td>\n      <td>False</td>\n      <td>False</td>\n      <td>False</td>\n      <td>False</td>\n      <td>True</td>\n      <td>False</td>\n      <td>True</td>\n      <td>False</td>\n      <td>False</td>\n      <td>True</td>\n      <td>True</td>\n      <td>True</td>\n      <td>True</td>\n      <td>True</td>\n      <td>True</td>\n      <td>False</td>\n      <td>False</td>\n      <td>False</td>\n      <td>False</td>\n      <td>True</td>\n      <td>False</td>\n      <td>False</td>\n      <td>False</td>\n      <td>False</td>\n      <td>True</td>\n      <td>False</td>\n      <td>False</td>\n      <td>False</td>\n      <td>False</td>\n      <td>True</td>\n      <td>False</td>\n      <td>False</td>\n      <td>False</td>\n      <td>False</td>\n      <td>False</td>\n    </tr>\n    <tr>\n      <th>3</th>\n      <td>29</td>\n      <td>01/01/11</td>\n      <td>07:15:00</td>\n      <td>2011-01-01 07:15:00</td>\n      <td>85.4</td>\n      <td>918.7</td>\n      <td>19.7</td>\n      <td>22.6</td>\n      <td>17.2</td>\n      <td>NaN</td>\n      <td>62.0</td>\n      <td>125.0</td>\n      <td>2.3</td>\n      <td>0.0</td>\n      <td>Camilopolis</td>\n      <td>88.1</td>\n      <td>918.7</td>\n      <td>19.3</td>\n      <td>22.7</td>\n      <td>17.3</td>\n      <td>NaN</td>\n      <td>50.0</td>\n      <td>135.0</td>\n      <td>1.4</td>\n      <td>0.0</td>\n      <td>Erasmo</td>\n      <td>89.3</td>\n      <td>917.3</td>\n      <td>19.0</td>\n      <td>22.7</td>\n      <td>17.2</td>\n      <td>NaN</td>\n      <td>50.0</td>\n      <td>128.0</td>\n      <td>2.5</td>\n      <td>0.0</td>\n      <td>Paraiso</td>\n      <td>84.4</td>\n      <td>924.9</td>\n      <td>20.0</td>\n      <td>23.3</td>\n      <td>17.2</td>\n      <td>NaN</td>\n      <td>53.0</td>\n      <td>151.0</td>\n      <td>1.5</td>\n      <td>0.0</td>\n      <td>RM</td>\n      <td>0.0</td>\n      <td>0.0</td>\n      <td>0.0</td>\n      <td>0.0</td>\n      <td>0.0</td>\n      <td>NaN</td>\n      <td>0.0</td>\n      <td>0.0</td>\n      <td>0.0</td>\n      <td>0.0</td>\n      <td>Vitoria</td>\n      <td>False</td>\n      <td>False</td>\n      <td>False</td>\n      <td>False</td>\n      <td>True</td>\n      <td>False</td>\n      <td>False</td>\n      <td>False</td>\n      <td>False</td>\n      <td>True</td>\n      <td>False</td>\n      <td>False</td>\n      <td>False</td>\n      <td>False</td>\n      <td>True</td>\n      <td>False</td>\n      <td>False</td>\n      <td>False</td>\n      <td>False</td>\n      <td>True</td>\n      <td>False</td>\n      <td>True</td>\n      <td>False</td>\n      <td>False</td>\n      <td>True</td>\n      <td>True</td>\n      <td>True</td>\n      <td>True</td>\n      <td>True</td>\n      <td>True</td>\n      <td>False</td>\n      <td>False</td>\n      <td>False</td>\n      <td>False</td>\n      <td>True</td>\n      <td>False</td>\n      <td>False</td>\n      <td>False</td>\n      <td>False</td>\n      <td>True</td>\n      <td>False</td>\n      <td>False</td>\n      <td>False</td>\n      <td>False</td>\n      <td>True</td>\n      <td>False</td>\n      <td>False</td>\n      <td>False</td>\n      <td>False</td>\n      <td>False</td>\n    </tr>\n    <tr>\n      <th>4</th>\n      <td>30</td>\n      <td>01/01/11</td>\n      <td>07:30:00</td>\n      <td>2011-01-01 07:30:00</td>\n      <td>84.7</td>\n      <td>918.8</td>\n      <td>19.8</td>\n      <td>22.7</td>\n      <td>17.1</td>\n      <td>NaN</td>\n      <td>82.0</td>\n      <td>146.0</td>\n      <td>1.8</td>\n      <td>0.0</td>\n      <td>Camilopolis</td>\n      <td>87.4</td>\n      <td>918.7</td>\n      <td>19.4</td>\n      <td>22.8</td>\n      <td>17.2</td>\n      <td>NaN</td>\n      <td>88.0</td>\n      <td>139.0</td>\n      <td>3.7</td>\n      <td>0.0</td>\n      <td>Erasmo</td>\n      <td>88.6</td>\n      <td>917.3</td>\n      <td>19.0</td>\n      <td>22.7</td>\n      <td>17.1</td>\n      <td>NaN</td>\n      <td>77.0</td>\n      <td>120.0</td>\n      <td>1.6</td>\n      <td>0.0</td>\n      <td>Paraiso</td>\n      <td>84.2</td>\n      <td>924.9</td>\n      <td>19.8</td>\n      <td>23.4</td>\n      <td>17.1</td>\n      <td>NaN</td>\n      <td>66.0</td>\n      <td>176.0</td>\n      <td>3.0</td>\n      <td>0.0</td>\n      <td>RM</td>\n      <td>0.0</td>\n      <td>0.0</td>\n      <td>0.0</td>\n      <td>0.0</td>\n      <td>0.0</td>\n      <td>NaN</td>\n      <td>0.0</td>\n      <td>0.0</td>\n      <td>0.0</td>\n      <td>0.0</td>\n      <td>Vitoria</td>\n      <td>False</td>\n      <td>False</td>\n      <td>False</td>\n      <td>False</td>\n      <td>True</td>\n      <td>False</td>\n      <td>False</td>\n      <td>False</td>\n      <td>False</td>\n      <td>True</td>\n      <td>False</td>\n      <td>False</td>\n      <td>False</td>\n      <td>False</td>\n      <td>True</td>\n      <td>False</td>\n      <td>False</td>\n      <td>False</td>\n      <td>False</td>\n      <td>True</td>\n      <td>False</td>\n      <td>True</td>\n      <td>False</td>\n      <td>False</td>\n      <td>True</td>\n      <td>True</td>\n      <td>True</td>\n      <td>True</td>\n      <td>True</td>\n      <td>True</td>\n      <td>False</td>\n      <td>False</td>\n      <td>False</td>\n      <td>False</td>\n      <td>True</td>\n      <td>False</td>\n      <td>False</td>\n      <td>False</td>\n      <td>False</td>\n      <td>True</td>\n      <td>False</td>\n      <td>False</td>\n      <td>False</td>\n      <td>False</td>\n      <td>True</td>\n      <td>False</td>\n      <td>False</td>\n      <td>False</td>\n      <td>False</td>\n      <td>False</td>\n    </tr>\n  </tbody>\n</table>\n</div>"
     },
     "metadata": {},
     "execution_count": 73
    }
   ],
   "source": [
    "df = merged.merge(regions, on = 'Data_Hora')\n",
    "\n",
    "df.head()"
   ]
  },
  {
   "cell_type": "code",
   "execution_count": 74,
   "metadata": {},
   "outputs": [
    {
     "output_type": "execute_result",
     "data": {
      "text/plain": "          ID1            ID2      Hora  \\\n0         NaN  003.578/2.010  19:53:42   \n1         NaN  003.579/2.010  19:57:47   \n2  16219035.0  003.595/2.010  21:35:20   \n3   6157056.0  003.597/2.010  21:39:58   \n4   5076139.0  003.536/2.010  17:33:30   \n\n                                           Endereco1        Endereco2  \\\n0  AVN  MAURICIO DE MEDEIROS - ASS. MARG. GUARARÁ...         JD IRENE   \n1  AVN  MAURICIO DE MEDEIROS - ASS. MARG. GUARARÁ...         JD IRENE   \n2              RUA  ORATORIO, 5081 MAZUCO MADEIREIRA            BANGU   \n3          AVN  ESTADOS, DOS, 5911 MAZUCO MADEIREIRA  SANTA TEREZINHA   \n4                              RUA SEN FLAQUER, 935       CASA BRANCA   \n\n                                         Comentario1  \\\n0                                                NaN   \n1                                                NaN   \n2  Comercio fechado Não havia pessoas para abrir ...   \n3                                                NaN   \n4                                                NaN   \n\n                                         Comentario2     Status        Data  \\\n0                                                NaN  Encerrada  07/01/2010   \n1                                    RG - 40490344-7  Encerrada  07/01/2010   \n2  NAS PARTES DA ORATORIO.HOUVE ENCHENTENA PARTE ...  Encerrada  07/01/2010   \n3  ALAGAMENTO,PERDA DE MATERIAL > AZULEJOS  - Ope...  Encerrada  07/01/2010   \n4                 fabrica alagou - Operador: JOSEROS  Encerrada  07/01/2010   \n\n         lat        lng  status  \n0 -23.709969 -46.508143     0.0  \n1 -23.709969 -46.508143     0.0  \n2 -23.625805 -46.492110     0.0  \n3 -23.650780 -46.521617     0.0  \n4 -23.665427 -46.519736     0.0  ",
      "text/html": "<div>\n<style scoped>\n    .dataframe tbody tr th:only-of-type {\n        vertical-align: middle;\n    }\n\n    .dataframe tbody tr th {\n        vertical-align: top;\n    }\n\n    .dataframe thead th {\n        text-align: right;\n    }\n</style>\n<table border=\"1\" class=\"dataframe\">\n  <thead>\n    <tr style=\"text-align: right;\">\n      <th></th>\n      <th>ID1</th>\n      <th>ID2</th>\n      <th>Hora</th>\n      <th>Endereco1</th>\n      <th>Endereco2</th>\n      <th>Comentario1</th>\n      <th>Comentario2</th>\n      <th>Status</th>\n      <th>Data</th>\n      <th>lat</th>\n      <th>lng</th>\n      <th>status</th>\n    </tr>\n  </thead>\n  <tbody>\n    <tr>\n      <th>0</th>\n      <td>NaN</td>\n      <td>003.578/2.010</td>\n      <td>19:53:42</td>\n      <td>AVN  MAURICIO DE MEDEIROS - ASS. MARG. GUARARÁ...</td>\n      <td>JD IRENE</td>\n      <td>NaN</td>\n      <td>NaN</td>\n      <td>Encerrada</td>\n      <td>07/01/2010</td>\n      <td>-23.709969</td>\n      <td>-46.508143</td>\n      <td>0.0</td>\n    </tr>\n    <tr>\n      <th>1</th>\n      <td>NaN</td>\n      <td>003.579/2.010</td>\n      <td>19:57:47</td>\n      <td>AVN  MAURICIO DE MEDEIROS - ASS. MARG. GUARARÁ...</td>\n      <td>JD IRENE</td>\n      <td>NaN</td>\n      <td>RG - 40490344-7</td>\n      <td>Encerrada</td>\n      <td>07/01/2010</td>\n      <td>-23.709969</td>\n      <td>-46.508143</td>\n      <td>0.0</td>\n    </tr>\n    <tr>\n      <th>2</th>\n      <td>16219035.0</td>\n      <td>003.595/2.010</td>\n      <td>21:35:20</td>\n      <td>RUA  ORATORIO, 5081 MAZUCO MADEIREIRA</td>\n      <td>BANGU</td>\n      <td>Comercio fechado Não havia pessoas para abrir ...</td>\n      <td>NAS PARTES DA ORATORIO.HOUVE ENCHENTENA PARTE ...</td>\n      <td>Encerrada</td>\n      <td>07/01/2010</td>\n      <td>-23.625805</td>\n      <td>-46.492110</td>\n      <td>0.0</td>\n    </tr>\n    <tr>\n      <th>3</th>\n      <td>6157056.0</td>\n      <td>003.597/2.010</td>\n      <td>21:39:58</td>\n      <td>AVN  ESTADOS, DOS, 5911 MAZUCO MADEIREIRA</td>\n      <td>SANTA TEREZINHA</td>\n      <td>NaN</td>\n      <td>ALAGAMENTO,PERDA DE MATERIAL &gt; AZULEJOS  - Ope...</td>\n      <td>Encerrada</td>\n      <td>07/01/2010</td>\n      <td>-23.650780</td>\n      <td>-46.521617</td>\n      <td>0.0</td>\n    </tr>\n    <tr>\n      <th>4</th>\n      <td>5076139.0</td>\n      <td>003.536/2.010</td>\n      <td>17:33:30</td>\n      <td>RUA SEN FLAQUER, 935</td>\n      <td>CASA BRANCA</td>\n      <td>NaN</td>\n      <td>fabrica alagou - Operador: JOSEROS</td>\n      <td>Encerrada</td>\n      <td>07/01/2010</td>\n      <td>-23.665427</td>\n      <td>-46.519736</td>\n      <td>0.0</td>\n    </tr>\n  </tbody>\n</table>\n</div>"
     },
     "metadata": {},
     "execution_count": 74
    }
   ],
   "source": [
    "orders = pd.read_csv('../../../data/cleandata/Ordens de serviço/Enchentes_LatLong.csv', sep=';')\n",
    "\n",
    "orders.head()"
   ]
  },
  {
   "cell_type": "code",
   "execution_count": 75,
   "metadata": {},
   "outputs": [
    {
     "output_type": "execute_result",
     "data": {
      "text/plain": "            ID1            ID2      Hora  \\\n150   4021007.0  002.940/2.011  20:12:17   \n151  16219035.0  002.943/2.011  20:41:47   \n152  11115067.0  002.892/2.011  17:18:07   \n\n                                  Endereco1   Endereco2  \\\n150  RUA  ORATORIO, 4641 ESQUINA RUA ALMADA       BANGU   \n151    RUA  ORATORIO, 5081 MAZUCO:MADEREIRA       BANGU   \n152           RUA  JACINTOS, DOS, 454 E FDS  JD GUARARA   \n\n                                           Comentario1  \\\n150  O ESTABELECIMENTO PERMANECIA FECHADO. TENTATIV...   \n151                                                NaN   \n152                                         DMO-SEMASA   \n\n                                           Comentario2     Status        Data  \\\n150  COMERCIO DE PEÇAS KAPITAL.MAIS DE 1 M. DE AGUA...  Encerrada  07/01/2011   \n151  RIBEIRÃO DO ORATORIO, FUNDOS DA  LOJA COM PERD...  Encerrada  07/01/2011   \n152  O SEMASA FEZ UM SERVIÇO NA CALCADA ENTRADA DE ...  Encerrada  07/01/2011   \n\n           lat        lng  status  \n150 -23.625900 -46.496609     0.0  \n151 -23.625805 -46.492110     0.0  \n152 -23.703319 -46.510162     0.0  ",
      "text/html": "<div>\n<style scoped>\n    .dataframe tbody tr th:only-of-type {\n        vertical-align: middle;\n    }\n\n    .dataframe tbody tr th {\n        vertical-align: top;\n    }\n\n    .dataframe thead th {\n        text-align: right;\n    }\n</style>\n<table border=\"1\" class=\"dataframe\">\n  <thead>\n    <tr style=\"text-align: right;\">\n      <th></th>\n      <th>ID1</th>\n      <th>ID2</th>\n      <th>Hora</th>\n      <th>Endereco1</th>\n      <th>Endereco2</th>\n      <th>Comentario1</th>\n      <th>Comentario2</th>\n      <th>Status</th>\n      <th>Data</th>\n      <th>lat</th>\n      <th>lng</th>\n      <th>status</th>\n    </tr>\n  </thead>\n  <tbody>\n    <tr>\n      <th>150</th>\n      <td>4021007.0</td>\n      <td>002.940/2.011</td>\n      <td>20:12:17</td>\n      <td>RUA  ORATORIO, 4641 ESQUINA RUA ALMADA</td>\n      <td>BANGU</td>\n      <td>O ESTABELECIMENTO PERMANECIA FECHADO. TENTATIV...</td>\n      <td>COMERCIO DE PEÇAS KAPITAL.MAIS DE 1 M. DE AGUA...</td>\n      <td>Encerrada</td>\n      <td>07/01/2011</td>\n      <td>-23.625900</td>\n      <td>-46.496609</td>\n      <td>0.0</td>\n    </tr>\n    <tr>\n      <th>151</th>\n      <td>16219035.0</td>\n      <td>002.943/2.011</td>\n      <td>20:41:47</td>\n      <td>RUA  ORATORIO, 5081 MAZUCO:MADEREIRA</td>\n      <td>BANGU</td>\n      <td>NaN</td>\n      <td>RIBEIRÃO DO ORATORIO, FUNDOS DA  LOJA COM PERD...</td>\n      <td>Encerrada</td>\n      <td>07/01/2011</td>\n      <td>-23.625805</td>\n      <td>-46.492110</td>\n      <td>0.0</td>\n    </tr>\n    <tr>\n      <th>152</th>\n      <td>11115067.0</td>\n      <td>002.892/2.011</td>\n      <td>17:18:07</td>\n      <td>RUA  JACINTOS, DOS, 454 E FDS</td>\n      <td>JD GUARARA</td>\n      <td>DMO-SEMASA</td>\n      <td>O SEMASA FEZ UM SERVIÇO NA CALCADA ENTRADA DE ...</td>\n      <td>Encerrada</td>\n      <td>07/01/2011</td>\n      <td>-23.703319</td>\n      <td>-46.510162</td>\n      <td>0.0</td>\n    </tr>\n  </tbody>\n</table>\n</div>"
     },
     "metadata": {},
     "execution_count": 75
    }
   ],
   "source": [
    "orders[orders['Data'] == '07/01/2011']"
   ]
  },
  {
   "cell_type": "code",
   "execution_count": 76,
   "metadata": {},
   "outputs": [
    {
     "output_type": "execute_result",
     "data": {
      "text/plain": "            Hora  Precipitacao_0\n7991    06:45:00             0.0\n7992    07:00:00             0.0\n7993    07:15:00             0.0\n7994    07:30:00             0.0\n7995    07:45:00             0.0\n7996    08:00:00             0.0\n7997    08:15:00             0.0\n7998    08:30:00             0.0\n7999    08:45:00             0.0\n8000    09:00:00             0.0\n8001    09:15:00             0.0\n8002    09:45:00             0.0\n8003    10:00:00             0.0\n8004    10:15:00             0.0\n8005    10:30:00             0.0\n8006    10:45:00             0.0\n8007    11:00:00             0.0\n8008    11:15:00             0.0\n8009    11:30:00             0.0\n8010    11:45:00             0.0\n8011    12:00:00             0.0\n8012    12:30:00             0.0\n8013    12:45:00             0.2\n8014    13:00:00             0.4\n8015    13:15:00             0.6\n8016    13:30:00             0.6\n8017    13:45:00             0.4\n8018    14:00:00             0.2\n8019    14:15:00             0.0\n8020    14:30:00             0.0\n8021    14:45:00             0.0\n8022    15:00:00             0.0\n8023    15:15:00             0.0\n8024    15:30:00             0.0\n8025    15:45:00             0.0\n8026    16:00:00             0.0\n8027    16:15:00             0.0\n8028    16:30:00             0.0\n8029    16:45:00             0.0\n8030    17:00:00             0.0\n8031    17:15:00             8.2\n8032    17:30:00             9.6\n8033    17:45:00            11.6\n8034    18:00:00            13.0\n8035    18:15:00             6.0\n8036    19:00:00             2.2\n8037    19:15:00             1.2\n8038    19:30:00             0.6\n115290  00:00:00             0.0\n115291  00:15:00             0.0\n115292  00:30:00             0.0\n115293  00:45:00             0.0\n115294  01:00:00             0.0\n115295  01:15:00             0.0\n115296  01:30:00             0.0\n115297  01:45:00             0.0\n115298  02:00:00             0.0\n115299  02:15:00             0.0\n115300  02:30:00             0.0\n115301  02:45:00             0.0\n115302  03:00:00             0.0\n115303  03:15:00             0.0\n115304  03:30:00             0.0\n115305  03:45:00             0.0\n115306  04:00:00             0.0\n115307  04:15:00             0.0\n115308  04:30:00             0.0\n115309  04:45:00             0.0\n115310  05:00:00             0.0\n115311  05:15:00             0.0\n115312  05:30:00             0.0\n115313  05:45:00             0.0\n115314  06:00:00             0.0\n115315  06:15:00             0.0\n115316  20:00:00             0.2\n115317  20:15:00             0.6\n115318  20:30:00             0.8\n115319  20:45:00             1.0\n115320  21:00:00             1.2\n115321  21:15:00             1.2\n115322  21:30:00             1.4\n115323  21:45:00             1.4\n115324  22:00:00             1.4\n115325  22:15:00             0.8\n115326  22:30:00             0.6\n115327  22:45:00             0.4\n115328  23:00:00             0.2\n115329  23:15:00             0.2\n115330  23:30:00             0.0\n115331  23:45:00             0.0\n215254  06:30:00             0.0\n216505  18:30:00             5.2\n216506  18:45:00             3.6\n218008  19:45:00             0.2\n266262  12:15:00             0.0",
      "text/html": "<div>\n<style scoped>\n    .dataframe tbody tr th:only-of-type {\n        vertical-align: middle;\n    }\n\n    .dataframe tbody tr th {\n        vertical-align: top;\n    }\n\n    .dataframe thead th {\n        text-align: right;\n    }\n</style>\n<table border=\"1\" class=\"dataframe\">\n  <thead>\n    <tr style=\"text-align: right;\">\n      <th></th>\n      <th>Hora</th>\n      <th>Precipitacao_0</th>\n    </tr>\n  </thead>\n  <tbody>\n    <tr>\n      <th>7991</th>\n      <td>06:45:00</td>\n      <td>0.0</td>\n    </tr>\n    <tr>\n      <th>7992</th>\n      <td>07:00:00</td>\n      <td>0.0</td>\n    </tr>\n    <tr>\n      <th>7993</th>\n      <td>07:15:00</td>\n      <td>0.0</td>\n    </tr>\n    <tr>\n      <th>7994</th>\n      <td>07:30:00</td>\n      <td>0.0</td>\n    </tr>\n    <tr>\n      <th>7995</th>\n      <td>07:45:00</td>\n      <td>0.0</td>\n    </tr>\n    <tr>\n      <th>7996</th>\n      <td>08:00:00</td>\n      <td>0.0</td>\n    </tr>\n    <tr>\n      <th>7997</th>\n      <td>08:15:00</td>\n      <td>0.0</td>\n    </tr>\n    <tr>\n      <th>7998</th>\n      <td>08:30:00</td>\n      <td>0.0</td>\n    </tr>\n    <tr>\n      <th>7999</th>\n      <td>08:45:00</td>\n      <td>0.0</td>\n    </tr>\n    <tr>\n      <th>8000</th>\n      <td>09:00:00</td>\n      <td>0.0</td>\n    </tr>\n    <tr>\n      <th>8001</th>\n      <td>09:15:00</td>\n      <td>0.0</td>\n    </tr>\n    <tr>\n      <th>8002</th>\n      <td>09:45:00</td>\n      <td>0.0</td>\n    </tr>\n    <tr>\n      <th>8003</th>\n      <td>10:00:00</td>\n      <td>0.0</td>\n    </tr>\n    <tr>\n      <th>8004</th>\n      <td>10:15:00</td>\n      <td>0.0</td>\n    </tr>\n    <tr>\n      <th>8005</th>\n      <td>10:30:00</td>\n      <td>0.0</td>\n    </tr>\n    <tr>\n      <th>8006</th>\n      <td>10:45:00</td>\n      <td>0.0</td>\n    </tr>\n    <tr>\n      <th>8007</th>\n      <td>11:00:00</td>\n      <td>0.0</td>\n    </tr>\n    <tr>\n      <th>8008</th>\n      <td>11:15:00</td>\n      <td>0.0</td>\n    </tr>\n    <tr>\n      <th>8009</th>\n      <td>11:30:00</td>\n      <td>0.0</td>\n    </tr>\n    <tr>\n      <th>8010</th>\n      <td>11:45:00</td>\n      <td>0.0</td>\n    </tr>\n    <tr>\n      <th>8011</th>\n      <td>12:00:00</td>\n      <td>0.0</td>\n    </tr>\n    <tr>\n      <th>8012</th>\n      <td>12:30:00</td>\n      <td>0.0</td>\n    </tr>\n    <tr>\n      <th>8013</th>\n      <td>12:45:00</td>\n      <td>0.2</td>\n    </tr>\n    <tr>\n      <th>8014</th>\n      <td>13:00:00</td>\n      <td>0.4</td>\n    </tr>\n    <tr>\n      <th>8015</th>\n      <td>13:15:00</td>\n      <td>0.6</td>\n    </tr>\n    <tr>\n      <th>8016</th>\n      <td>13:30:00</td>\n      <td>0.6</td>\n    </tr>\n    <tr>\n      <th>8017</th>\n      <td>13:45:00</td>\n      <td>0.4</td>\n    </tr>\n    <tr>\n      <th>8018</th>\n      <td>14:00:00</td>\n      <td>0.2</td>\n    </tr>\n    <tr>\n      <th>8019</th>\n      <td>14:15:00</td>\n      <td>0.0</td>\n    </tr>\n    <tr>\n      <th>8020</th>\n      <td>14:30:00</td>\n      <td>0.0</td>\n    </tr>\n    <tr>\n      <th>8021</th>\n      <td>14:45:00</td>\n      <td>0.0</td>\n    </tr>\n    <tr>\n      <th>8022</th>\n      <td>15:00:00</td>\n      <td>0.0</td>\n    </tr>\n    <tr>\n      <th>8023</th>\n      <td>15:15:00</td>\n      <td>0.0</td>\n    </tr>\n    <tr>\n      <th>8024</th>\n      <td>15:30:00</td>\n      <td>0.0</td>\n    </tr>\n    <tr>\n      <th>8025</th>\n      <td>15:45:00</td>\n      <td>0.0</td>\n    </tr>\n    <tr>\n      <th>8026</th>\n      <td>16:00:00</td>\n      <td>0.0</td>\n    </tr>\n    <tr>\n      <th>8027</th>\n      <td>16:15:00</td>\n      <td>0.0</td>\n    </tr>\n    <tr>\n      <th>8028</th>\n      <td>16:30:00</td>\n      <td>0.0</td>\n    </tr>\n    <tr>\n      <th>8029</th>\n      <td>16:45:00</td>\n      <td>0.0</td>\n    </tr>\n    <tr>\n      <th>8030</th>\n      <td>17:00:00</td>\n      <td>0.0</td>\n    </tr>\n    <tr>\n      <th>8031</th>\n      <td>17:15:00</td>\n      <td>8.2</td>\n    </tr>\n    <tr>\n      <th>8032</th>\n      <td>17:30:00</td>\n      <td>9.6</td>\n    </tr>\n    <tr>\n      <th>8033</th>\n      <td>17:45:00</td>\n      <td>11.6</td>\n    </tr>\n    <tr>\n      <th>8034</th>\n      <td>18:00:00</td>\n      <td>13.0</td>\n    </tr>\n    <tr>\n      <th>8035</th>\n      <td>18:15:00</td>\n      <td>6.0</td>\n    </tr>\n    <tr>\n      <th>8036</th>\n      <td>19:00:00</td>\n      <td>2.2</td>\n    </tr>\n    <tr>\n      <th>8037</th>\n      <td>19:15:00</td>\n      <td>1.2</td>\n    </tr>\n    <tr>\n      <th>8038</th>\n      <td>19:30:00</td>\n      <td>0.6</td>\n    </tr>\n    <tr>\n      <th>115290</th>\n      <td>00:00:00</td>\n      <td>0.0</td>\n    </tr>\n    <tr>\n      <th>115291</th>\n      <td>00:15:00</td>\n      <td>0.0</td>\n    </tr>\n    <tr>\n      <th>115292</th>\n      <td>00:30:00</td>\n      <td>0.0</td>\n    </tr>\n    <tr>\n      <th>115293</th>\n      <td>00:45:00</td>\n      <td>0.0</td>\n    </tr>\n    <tr>\n      <th>115294</th>\n      <td>01:00:00</td>\n      <td>0.0</td>\n    </tr>\n    <tr>\n      <th>115295</th>\n      <td>01:15:00</td>\n      <td>0.0</td>\n    </tr>\n    <tr>\n      <th>115296</th>\n      <td>01:30:00</td>\n      <td>0.0</td>\n    </tr>\n    <tr>\n      <th>115297</th>\n      <td>01:45:00</td>\n      <td>0.0</td>\n    </tr>\n    <tr>\n      <th>115298</th>\n      <td>02:00:00</td>\n      <td>0.0</td>\n    </tr>\n    <tr>\n      <th>115299</th>\n      <td>02:15:00</td>\n      <td>0.0</td>\n    </tr>\n    <tr>\n      <th>115300</th>\n      <td>02:30:00</td>\n      <td>0.0</td>\n    </tr>\n    <tr>\n      <th>115301</th>\n      <td>02:45:00</td>\n      <td>0.0</td>\n    </tr>\n    <tr>\n      <th>115302</th>\n      <td>03:00:00</td>\n      <td>0.0</td>\n    </tr>\n    <tr>\n      <th>115303</th>\n      <td>03:15:00</td>\n      <td>0.0</td>\n    </tr>\n    <tr>\n      <th>115304</th>\n      <td>03:30:00</td>\n      <td>0.0</td>\n    </tr>\n    <tr>\n      <th>115305</th>\n      <td>03:45:00</td>\n      <td>0.0</td>\n    </tr>\n    <tr>\n      <th>115306</th>\n      <td>04:00:00</td>\n      <td>0.0</td>\n    </tr>\n    <tr>\n      <th>115307</th>\n      <td>04:15:00</td>\n      <td>0.0</td>\n    </tr>\n    <tr>\n      <th>115308</th>\n      <td>04:30:00</td>\n      <td>0.0</td>\n    </tr>\n    <tr>\n      <th>115309</th>\n      <td>04:45:00</td>\n      <td>0.0</td>\n    </tr>\n    <tr>\n      <th>115310</th>\n      <td>05:00:00</td>\n      <td>0.0</td>\n    </tr>\n    <tr>\n      <th>115311</th>\n      <td>05:15:00</td>\n      <td>0.0</td>\n    </tr>\n    <tr>\n      <th>115312</th>\n      <td>05:30:00</td>\n      <td>0.0</td>\n    </tr>\n    <tr>\n      <th>115313</th>\n      <td>05:45:00</td>\n      <td>0.0</td>\n    </tr>\n    <tr>\n      <th>115314</th>\n      <td>06:00:00</td>\n      <td>0.0</td>\n    </tr>\n    <tr>\n      <th>115315</th>\n      <td>06:15:00</td>\n      <td>0.0</td>\n    </tr>\n    <tr>\n      <th>115316</th>\n      <td>20:00:00</td>\n      <td>0.2</td>\n    </tr>\n    <tr>\n      <th>115317</th>\n      <td>20:15:00</td>\n      <td>0.6</td>\n    </tr>\n    <tr>\n      <th>115318</th>\n      <td>20:30:00</td>\n      <td>0.8</td>\n    </tr>\n    <tr>\n      <th>115319</th>\n      <td>20:45:00</td>\n      <td>1.0</td>\n    </tr>\n    <tr>\n      <th>115320</th>\n      <td>21:00:00</td>\n      <td>1.2</td>\n    </tr>\n    <tr>\n      <th>115321</th>\n      <td>21:15:00</td>\n      <td>1.2</td>\n    </tr>\n    <tr>\n      <th>115322</th>\n      <td>21:30:00</td>\n      <td>1.4</td>\n    </tr>\n    <tr>\n      <th>115323</th>\n      <td>21:45:00</td>\n      <td>1.4</td>\n    </tr>\n    <tr>\n      <th>115324</th>\n      <td>22:00:00</td>\n      <td>1.4</td>\n    </tr>\n    <tr>\n      <th>115325</th>\n      <td>22:15:00</td>\n      <td>0.8</td>\n    </tr>\n    <tr>\n      <th>115326</th>\n      <td>22:30:00</td>\n      <td>0.6</td>\n    </tr>\n    <tr>\n      <th>115327</th>\n      <td>22:45:00</td>\n      <td>0.4</td>\n    </tr>\n    <tr>\n      <th>115328</th>\n      <td>23:00:00</td>\n      <td>0.2</td>\n    </tr>\n    <tr>\n      <th>115329</th>\n      <td>23:15:00</td>\n      <td>0.2</td>\n    </tr>\n    <tr>\n      <th>115330</th>\n      <td>23:30:00</td>\n      <td>0.0</td>\n    </tr>\n    <tr>\n      <th>115331</th>\n      <td>23:45:00</td>\n      <td>0.0</td>\n    </tr>\n    <tr>\n      <th>215254</th>\n      <td>06:30:00</td>\n      <td>0.0</td>\n    </tr>\n    <tr>\n      <th>216505</th>\n      <td>18:30:00</td>\n      <td>5.2</td>\n    </tr>\n    <tr>\n      <th>216506</th>\n      <td>18:45:00</td>\n      <td>3.6</td>\n    </tr>\n    <tr>\n      <th>218008</th>\n      <td>19:45:00</td>\n      <td>0.2</td>\n    </tr>\n    <tr>\n      <th>266262</th>\n      <td>12:15:00</td>\n      <td>0.0</td>\n    </tr>\n  </tbody>\n</table>\n</div>"
     },
     "metadata": {},
     "execution_count": 76
    }
   ],
   "source": [
    "df[df['Data'] == '07/01/11'][['Hora', 'Precipitacao_0']]"
   ]
  },
  {
   "cell_type": "code",
   "execution_count": 77,
   "metadata": {},
   "outputs": [
    {
     "output_type": "execute_result",
     "data": {
      "text/plain": "            ID1            ID2      Hora                   Endereco1  \\\n761  11135013.0  060.695/2.018  15:57:58  RUA  COCAIS, DOS, 640 FDS.   \n\n       Endereco2 Comentario1  \\\n761  VILA LUZITA    dmo(psa)   \n\n                                           Comentario2     Status        Data  \\\n761  usuario inf. alagamento dentr de casa - Operad...  Encerrada  15/04/2018   \n\n           lat        lng  status  \n761 -23.703972 -46.506439     0.0  ",
      "text/html": "<div>\n<style scoped>\n    .dataframe tbody tr th:only-of-type {\n        vertical-align: middle;\n    }\n\n    .dataframe tbody tr th {\n        vertical-align: top;\n    }\n\n    .dataframe thead th {\n        text-align: right;\n    }\n</style>\n<table border=\"1\" class=\"dataframe\">\n  <thead>\n    <tr style=\"text-align: right;\">\n      <th></th>\n      <th>ID1</th>\n      <th>ID2</th>\n      <th>Hora</th>\n      <th>Endereco1</th>\n      <th>Endereco2</th>\n      <th>Comentario1</th>\n      <th>Comentario2</th>\n      <th>Status</th>\n      <th>Data</th>\n      <th>lat</th>\n      <th>lng</th>\n      <th>status</th>\n    </tr>\n  </thead>\n  <tbody>\n    <tr>\n      <th>761</th>\n      <td>11135013.0</td>\n      <td>060.695/2.018</td>\n      <td>15:57:58</td>\n      <td>RUA  COCAIS, DOS, 640 FDS.</td>\n      <td>VILA LUZITA</td>\n      <td>dmo(psa)</td>\n      <td>usuario inf. alagamento dentr de casa - Operad...</td>\n      <td>Encerrada</td>\n      <td>15/04/2018</td>\n      <td>-23.703972</td>\n      <td>-46.506439</td>\n      <td>0.0</td>\n    </tr>\n  </tbody>\n</table>\n</div>"
     },
     "metadata": {},
     "execution_count": 77
    }
   ],
   "source": [
    "orders[orders['Data'] == '15/04/2018']"
   ]
  },
  {
   "cell_type": "code",
   "execution_count": 78,
   "metadata": {},
   "outputs": [
    {
     "output_type": "execute_result",
     "data": {
      "text/plain": "            Hora  Precipitacao_0\n87208   06:30:00             0.4\n87209   06:45:00             0.2\n87210   07:00:00             0.0\n87211   07:15:00             0.0\n87212   07:30:00             0.0\n87213   07:45:00             0.0\n87214   08:00:00             0.0\n87215   08:15:00             0.0\n87216   08:30:00             0.2\n87217   08:45:00             0.6\n87218   09:00:00             1.6\n87219   09:15:00             2.6\n87220   09:30:00             2.6\n87221   09:45:00             2.2\n87222   10:00:00             1.2\n87223   10:15:00             0.2\n87224   10:30:00             0.2\n87225   10:45:00             0.6\n87226   11:00:00             2.0\n87227   11:15:00             2.4\n87228   11:30:00             2.8\n87229   11:45:00             3.4\n87230   12:00:00             2.8\n87231   12:15:00             3.4\n87232   12:30:00             3.6\n87233   12:45:00             3.2\n87234   13:00:00             3.2\n87235   13:15:00             2.6\n87236   13:30:00             2.2\n87237   13:45:00             1.6\n87238   14:00:00             1.0\n87239   14:15:00             0.8\n87240   14:30:00             0.4\n87241   14:45:00             0.4\n87242   15:00:00             0.4\n87243   15:15:00             0.4\n87244   15:30:00             1.8\n87245   15:45:00             2.6\n87246   16:00:00             3.6\n87247   16:15:00             4.2\n87248   16:30:00             3.0\n87249   16:45:00             2.4\n87250   17:00:00             1.2\n87251   17:15:00             0.4\n87252   17:30:00             0.2\n87253   17:45:00             0.0\n195602  00:00:00             0.0\n195603  00:15:00             0.0\n195604  00:30:00             0.0\n195605  00:45:00             0.0\n195606  01:00:00             0.0\n195607  01:15:00             0.0\n195608  01:30:00             0.0\n195609  01:45:00             0.2\n195610  02:00:00             0.2\n195611  02:15:00             0.2\n195612  02:30:00             0.6\n195613  02:45:00             0.8\n195614  03:00:00             0.8\n195615  03:15:00             1.0\n195616  03:30:00             0.6\n195617  03:45:00             0.2\n195618  04:00:00             0.2\n195619  04:15:00             0.0\n195620  04:30:00             0.4\n195621  04:45:00             1.6\n195622  05:00:00             2.4\n195623  05:15:00             3.2\n195624  05:30:00             3.2\n195625  05:45:00             2.2\n195626  06:00:00             1.6\n195627  06:15:00             0.8\n195628  18:15:00             0.0\n195629  18:30:00             0.0\n195630  18:45:00             0.0\n195631  19:00:00             0.0\n195632  19:15:00             0.0\n195633  19:30:00             0.0\n195634  19:45:00             0.0\n195635  20:00:00             0.0\n195636  20:15:00             0.0\n195637  20:30:00             0.0\n195638  20:45:00             0.0\n195639  21:00:00             0.0\n195640  21:15:00             0.0\n195641  21:30:00             0.0\n195642  21:45:00             0.0\n195643  22:00:00             0.2\n195644  22:15:00             0.2\n195645  22:30:00             0.4\n195646  22:45:00             1.2\n195647  23:00:00             1.2\n195648  23:15:00             1.6\n195649  23:30:00             1.6\n195650  23:45:00             1.2\n219570  18:00:00             0.0",
      "text/html": "<div>\n<style scoped>\n    .dataframe tbody tr th:only-of-type {\n        vertical-align: middle;\n    }\n\n    .dataframe tbody tr th {\n        vertical-align: top;\n    }\n\n    .dataframe thead th {\n        text-align: right;\n    }\n</style>\n<table border=\"1\" class=\"dataframe\">\n  <thead>\n    <tr style=\"text-align: right;\">\n      <th></th>\n      <th>Hora</th>\n      <th>Precipitacao_0</th>\n    </tr>\n  </thead>\n  <tbody>\n    <tr>\n      <th>87208</th>\n      <td>06:30:00</td>\n      <td>0.4</td>\n    </tr>\n    <tr>\n      <th>87209</th>\n      <td>06:45:00</td>\n      <td>0.2</td>\n    </tr>\n    <tr>\n      <th>87210</th>\n      <td>07:00:00</td>\n      <td>0.0</td>\n    </tr>\n    <tr>\n      <th>87211</th>\n      <td>07:15:00</td>\n      <td>0.0</td>\n    </tr>\n    <tr>\n      <th>87212</th>\n      <td>07:30:00</td>\n      <td>0.0</td>\n    </tr>\n    <tr>\n      <th>87213</th>\n      <td>07:45:00</td>\n      <td>0.0</td>\n    </tr>\n    <tr>\n      <th>87214</th>\n      <td>08:00:00</td>\n      <td>0.0</td>\n    </tr>\n    <tr>\n      <th>87215</th>\n      <td>08:15:00</td>\n      <td>0.0</td>\n    </tr>\n    <tr>\n      <th>87216</th>\n      <td>08:30:00</td>\n      <td>0.2</td>\n    </tr>\n    <tr>\n      <th>87217</th>\n      <td>08:45:00</td>\n      <td>0.6</td>\n    </tr>\n    <tr>\n      <th>87218</th>\n      <td>09:00:00</td>\n      <td>1.6</td>\n    </tr>\n    <tr>\n      <th>87219</th>\n      <td>09:15:00</td>\n      <td>2.6</td>\n    </tr>\n    <tr>\n      <th>87220</th>\n      <td>09:30:00</td>\n      <td>2.6</td>\n    </tr>\n    <tr>\n      <th>87221</th>\n      <td>09:45:00</td>\n      <td>2.2</td>\n    </tr>\n    <tr>\n      <th>87222</th>\n      <td>10:00:00</td>\n      <td>1.2</td>\n    </tr>\n    <tr>\n      <th>87223</th>\n      <td>10:15:00</td>\n      <td>0.2</td>\n    </tr>\n    <tr>\n      <th>87224</th>\n      <td>10:30:00</td>\n      <td>0.2</td>\n    </tr>\n    <tr>\n      <th>87225</th>\n      <td>10:45:00</td>\n      <td>0.6</td>\n    </tr>\n    <tr>\n      <th>87226</th>\n      <td>11:00:00</td>\n      <td>2.0</td>\n    </tr>\n    <tr>\n      <th>87227</th>\n      <td>11:15:00</td>\n      <td>2.4</td>\n    </tr>\n    <tr>\n      <th>87228</th>\n      <td>11:30:00</td>\n      <td>2.8</td>\n    </tr>\n    <tr>\n      <th>87229</th>\n      <td>11:45:00</td>\n      <td>3.4</td>\n    </tr>\n    <tr>\n      <th>87230</th>\n      <td>12:00:00</td>\n      <td>2.8</td>\n    </tr>\n    <tr>\n      <th>87231</th>\n      <td>12:15:00</td>\n      <td>3.4</td>\n    </tr>\n    <tr>\n      <th>87232</th>\n      <td>12:30:00</td>\n      <td>3.6</td>\n    </tr>\n    <tr>\n      <th>87233</th>\n      <td>12:45:00</td>\n      <td>3.2</td>\n    </tr>\n    <tr>\n      <th>87234</th>\n      <td>13:00:00</td>\n      <td>3.2</td>\n    </tr>\n    <tr>\n      <th>87235</th>\n      <td>13:15:00</td>\n      <td>2.6</td>\n    </tr>\n    <tr>\n      <th>87236</th>\n      <td>13:30:00</td>\n      <td>2.2</td>\n    </tr>\n    <tr>\n      <th>87237</th>\n      <td>13:45:00</td>\n      <td>1.6</td>\n    </tr>\n    <tr>\n      <th>87238</th>\n      <td>14:00:00</td>\n      <td>1.0</td>\n    </tr>\n    <tr>\n      <th>87239</th>\n      <td>14:15:00</td>\n      <td>0.8</td>\n    </tr>\n    <tr>\n      <th>87240</th>\n      <td>14:30:00</td>\n      <td>0.4</td>\n    </tr>\n    <tr>\n      <th>87241</th>\n      <td>14:45:00</td>\n      <td>0.4</td>\n    </tr>\n    <tr>\n      <th>87242</th>\n      <td>15:00:00</td>\n      <td>0.4</td>\n    </tr>\n    <tr>\n      <th>87243</th>\n      <td>15:15:00</td>\n      <td>0.4</td>\n    </tr>\n    <tr>\n      <th>87244</th>\n      <td>15:30:00</td>\n      <td>1.8</td>\n    </tr>\n    <tr>\n      <th>87245</th>\n      <td>15:45:00</td>\n      <td>2.6</td>\n    </tr>\n    <tr>\n      <th>87246</th>\n      <td>16:00:00</td>\n      <td>3.6</td>\n    </tr>\n    <tr>\n      <th>87247</th>\n      <td>16:15:00</td>\n      <td>4.2</td>\n    </tr>\n    <tr>\n      <th>87248</th>\n      <td>16:30:00</td>\n      <td>3.0</td>\n    </tr>\n    <tr>\n      <th>87249</th>\n      <td>16:45:00</td>\n      <td>2.4</td>\n    </tr>\n    <tr>\n      <th>87250</th>\n      <td>17:00:00</td>\n      <td>1.2</td>\n    </tr>\n    <tr>\n      <th>87251</th>\n      <td>17:15:00</td>\n      <td>0.4</td>\n    </tr>\n    <tr>\n      <th>87252</th>\n      <td>17:30:00</td>\n      <td>0.2</td>\n    </tr>\n    <tr>\n      <th>87253</th>\n      <td>17:45:00</td>\n      <td>0.0</td>\n    </tr>\n    <tr>\n      <th>195602</th>\n      <td>00:00:00</td>\n      <td>0.0</td>\n    </tr>\n    <tr>\n      <th>195603</th>\n      <td>00:15:00</td>\n      <td>0.0</td>\n    </tr>\n    <tr>\n      <th>195604</th>\n      <td>00:30:00</td>\n      <td>0.0</td>\n    </tr>\n    <tr>\n      <th>195605</th>\n      <td>00:45:00</td>\n      <td>0.0</td>\n    </tr>\n    <tr>\n      <th>195606</th>\n      <td>01:00:00</td>\n      <td>0.0</td>\n    </tr>\n    <tr>\n      <th>195607</th>\n      <td>01:15:00</td>\n      <td>0.0</td>\n    </tr>\n    <tr>\n      <th>195608</th>\n      <td>01:30:00</td>\n      <td>0.0</td>\n    </tr>\n    <tr>\n      <th>195609</th>\n      <td>01:45:00</td>\n      <td>0.2</td>\n    </tr>\n    <tr>\n      <th>195610</th>\n      <td>02:00:00</td>\n      <td>0.2</td>\n    </tr>\n    <tr>\n      <th>195611</th>\n      <td>02:15:00</td>\n      <td>0.2</td>\n    </tr>\n    <tr>\n      <th>195612</th>\n      <td>02:30:00</td>\n      <td>0.6</td>\n    </tr>\n    <tr>\n      <th>195613</th>\n      <td>02:45:00</td>\n      <td>0.8</td>\n    </tr>\n    <tr>\n      <th>195614</th>\n      <td>03:00:00</td>\n      <td>0.8</td>\n    </tr>\n    <tr>\n      <th>195615</th>\n      <td>03:15:00</td>\n      <td>1.0</td>\n    </tr>\n    <tr>\n      <th>195616</th>\n      <td>03:30:00</td>\n      <td>0.6</td>\n    </tr>\n    <tr>\n      <th>195617</th>\n      <td>03:45:00</td>\n      <td>0.2</td>\n    </tr>\n    <tr>\n      <th>195618</th>\n      <td>04:00:00</td>\n      <td>0.2</td>\n    </tr>\n    <tr>\n      <th>195619</th>\n      <td>04:15:00</td>\n      <td>0.0</td>\n    </tr>\n    <tr>\n      <th>195620</th>\n      <td>04:30:00</td>\n      <td>0.4</td>\n    </tr>\n    <tr>\n      <th>195621</th>\n      <td>04:45:00</td>\n      <td>1.6</td>\n    </tr>\n    <tr>\n      <th>195622</th>\n      <td>05:00:00</td>\n      <td>2.4</td>\n    </tr>\n    <tr>\n      <th>195623</th>\n      <td>05:15:00</td>\n      <td>3.2</td>\n    </tr>\n    <tr>\n      <th>195624</th>\n      <td>05:30:00</td>\n      <td>3.2</td>\n    </tr>\n    <tr>\n      <th>195625</th>\n      <td>05:45:00</td>\n      <td>2.2</td>\n    </tr>\n    <tr>\n      <th>195626</th>\n      <td>06:00:00</td>\n      <td>1.6</td>\n    </tr>\n    <tr>\n      <th>195627</th>\n      <td>06:15:00</td>\n      <td>0.8</td>\n    </tr>\n    <tr>\n      <th>195628</th>\n      <td>18:15:00</td>\n      <td>0.0</td>\n    </tr>\n    <tr>\n      <th>195629</th>\n      <td>18:30:00</td>\n      <td>0.0</td>\n    </tr>\n    <tr>\n      <th>195630</th>\n      <td>18:45:00</td>\n      <td>0.0</td>\n    </tr>\n    <tr>\n      <th>195631</th>\n      <td>19:00:00</td>\n      <td>0.0</td>\n    </tr>\n    <tr>\n      <th>195632</th>\n      <td>19:15:00</td>\n      <td>0.0</td>\n    </tr>\n    <tr>\n      <th>195633</th>\n      <td>19:30:00</td>\n      <td>0.0</td>\n    </tr>\n    <tr>\n      <th>195634</th>\n      <td>19:45:00</td>\n      <td>0.0</td>\n    </tr>\n    <tr>\n      <th>195635</th>\n      <td>20:00:00</td>\n      <td>0.0</td>\n    </tr>\n    <tr>\n      <th>195636</th>\n      <td>20:15:00</td>\n      <td>0.0</td>\n    </tr>\n    <tr>\n      <th>195637</th>\n      <td>20:30:00</td>\n      <td>0.0</td>\n    </tr>\n    <tr>\n      <th>195638</th>\n      <td>20:45:00</td>\n      <td>0.0</td>\n    </tr>\n    <tr>\n      <th>195639</th>\n      <td>21:00:00</td>\n      <td>0.0</td>\n    </tr>\n    <tr>\n      <th>195640</th>\n      <td>21:15:00</td>\n      <td>0.0</td>\n    </tr>\n    <tr>\n      <th>195641</th>\n      <td>21:30:00</td>\n      <td>0.0</td>\n    </tr>\n    <tr>\n      <th>195642</th>\n      <td>21:45:00</td>\n      <td>0.0</td>\n    </tr>\n    <tr>\n      <th>195643</th>\n      <td>22:00:00</td>\n      <td>0.2</td>\n    </tr>\n    <tr>\n      <th>195644</th>\n      <td>22:15:00</td>\n      <td>0.2</td>\n    </tr>\n    <tr>\n      <th>195645</th>\n      <td>22:30:00</td>\n      <td>0.4</td>\n    </tr>\n    <tr>\n      <th>195646</th>\n      <td>22:45:00</td>\n      <td>1.2</td>\n    </tr>\n    <tr>\n      <th>195647</th>\n      <td>23:00:00</td>\n      <td>1.2</td>\n    </tr>\n    <tr>\n      <th>195648</th>\n      <td>23:15:00</td>\n      <td>1.6</td>\n    </tr>\n    <tr>\n      <th>195649</th>\n      <td>23:30:00</td>\n      <td>1.6</td>\n    </tr>\n    <tr>\n      <th>195650</th>\n      <td>23:45:00</td>\n      <td>1.2</td>\n    </tr>\n    <tr>\n      <th>219570</th>\n      <td>18:00:00</td>\n      <td>0.0</td>\n    </tr>\n  </tbody>\n</table>\n</div>"
     },
     "metadata": {},
     "execution_count": 78
    }
   ],
   "source": [
    "df[df['Data'] == '15/04/18'][['Hora', 'Precipitacao_0']]"
   ]
  },
  {
   "cell_type": "code",
   "execution_count": 79,
   "metadata": {},
   "outputs": [],
   "source": [
    "features = [\n",
    "    'Local',\n",
    "    'UmidadeRelativa',\n",
    "    'PressaoAtmosferica',\n",
    "    'TemperaturaDoAr',\n",
    "    'TemperaturaInterna',\n",
    "    'PontoDeOrvalho',\n",
    "    'SensacaoTermica',\n",
    "    'RadiacaoSolar',\n",
    "    'DirecaoDoVento',\n",
    "    'VelocidadeDoVento',\n",
    "    'Precipitacao',\n",
    "]\n",
    "\n",
    "ignoredFeatures = [\n",
    "    'Data_Hora'\n",
    "]"
   ]
  },
  {
   "cell_type": "code",
   "execution_count": 80,
   "metadata": {},
   "outputs": [
    {
     "output_type": "execute_result",
     "data": {
      "text/plain": "                False                          False   \n3                       False                          False   \n4                       False                          False   \n\n   TemperaturaInterna_0_interpol  PontoDeOrvalho_0_interpol  \\\n0                          False                      False   \n1                          False                      False   \n2                          False                      False   \n3                          False                      False   \n4                          False                      False   \n\n   TemperaturaInterna_4_interpol  TemperaturaDoAr_1_interpol  \\\n0                          False                       False   \n1                          False                       False   \n2                          False                       False   \n3                          False                       False   \n4                          False                       False   \n\n   VelocidadeDoVento_4_interpol  PontoDeOrvalho_2_interpol  \\\n0                         False                      False   \n1                         False                      False   \n2                         False                      False   \n3                         False                      False   \n4                         False                      False   \n\n   UmidadeRelativa_1_interpol  PontoDeOrvalho_1_interpol  \\\n0                       False                      False   \n1                       False                      False   \n2                       False                      False   \n3                       False                      False   \n4                       False                      False   \n\n   TemperaturaInterna_1_interpol  UmidadeRelativa_2_interpol  \\\n0                          False                       False   \n1                          False                       False   \n2                          False                       False   \n3                          False                       False   \n4                          False                       False   \n\n   RadiacaoSolar_4_interpol  DirecaoDoVento_4_interpol  \\\n0                     False                      False   \n1                     False                      False   \n2                     False                      False   \n3                     False                      False   \n4                     False                      False   \n\n   PontoDeOrvalho_4_interpol  DirecaoDoVento_1_interpol  \\\n0                      False                      False   \n1                      False                      False   \n2                      False                      False   \n3                      False                      False   \n4                      False                      False   \n\n   UmidadeRelativa_4_interpol  PressaoAtmosferica_1_interpol  \\\n0                       False                          False   \n1                       False                          False   \n2                       False                          False   \n3                       False                          False   \n4                       False                          False   \n\n   VelocidadeDoVento_1_interpol  SensacaoTermica_0_interpol  \\\n0                         False                       False   \n1                         False                       False   \n2                         False                       False   \n3                         False                       False   \n4                         False                       False   \n\n   SensacaoTermica_2_interpol  SensacaoTermica_3_interpol  \\\n0                       False                       False   \n1                       False                       False   \n2                       False                       False   \n3                       False                       False   \n4                       False                       False   \n\n   RadiacaoSolar_1_interpol  SensacaoTermica_4_interpol  \\\n0                     False                       False   \n1                     False                       False   \n2                     False                       False   \n3                     False                       False   \n4                     False                       False   \n\n   SensacaoTermica_1_interpol  RadiacaoSolar_2_pred  RadiacaoSolar_2_repaired  \\\n0                       False                   8.0                     False   \n1                       False                  16.0                     False   \n2                       False                  28.0                     False   \n3                       False                  50.0                     False   \n4                       False                  77.0                     False   \n\n   DirecaoDoVento_2_pred  DirecaoDoVento_2_repaired  DirecaoDoVento_3_pred  \\\n0                  113.0                      False                  149.0   \n1                  154.0                      False                  162.0   \n2                  116.0                      False                  181.0   \n3                  128.0                      False                  151.0   \n4                  120.0                      False                  176.0   \n\n   DirecaoDoVento_3_repaired  RadiacaoSolar_3_pred  RadiacaoSolar_3_repaired  \\\n0                      False                   8.0                     False   \n1                      False                  16.0                     False   \n2                      False                  30.0                     False   \n3                      False                  53.0                     False   \n4                      False                  66.0                     False   \n\n   RadiacaoSolar_0_pred  RadiacaoSolar_0_repaired  DirecaoDoVento_0_pred  \\\n0                   8.0                     False                  163.0   \n1                  18.0                     False                  160.0   \n2                  41.0                     False                  108.0   \n3                  62.0                     False                  125.0   \n4                  82.0                     False                  146.0   \n\n   DirecaoDoVento_0_repaired  PressaoAtmosferica_2_pred  \\\n0                      False                      917.2   \n1                      False                      917.2   \n2                      False                      917.2   \n3                      False                      917.3   \n4                      False                      917.3   \n\n   PressaoAtmosferica_2_repaired  PressaoAtmosferica_3_pred  \\\n0                          False                      924.8   \n1                          False                      924.8   \n2                          False                      924.8   \n3                          False                      924.9   \n4                          False                      924.9   \n\n   PressaoAtmosferica_3_repaired  PressaoAtmosferica_0_pred  \\\n0                          False                      918.6   \n1                          False                      918.7   \n2                          False                      918.7   \n3                          False                      918.7   \n4                          False                      918.8   \n\n   PressaoAtmosferica_0_repaired  VelocidadeDoVento_3_pred  \\\n0                          False                       1.2   \n1                          False                       1.8   \n2                          False                       1.7   \n3                          False                       1.5   \n4                          False                       3.0   \n\n   VelocidadeDoVento_3_repaired  PressaoAtmosferica_4_pred  \\\n0                         False                        0.0   \n1                         False                        0.0   \n2                         False                        0.0   \n3                         False                        0.0   \n4                         False                        0.0   \n\n   PressaoAtmosferica_4_repaired  VelocidadeDoVento_2_pred  \\\n0                          False                       2.8   \n1                          False                       1.6   \n2                          False                       2.3   \n3                          False                       2.5   \n4                          False                       1.6   \n\n   VelocidadeDoVento_2_repaired  TemperaturaDoAr_3_pred  \\\n0                         False                    19.7   \n1                         False                    19.9   \n2                         False                    19.9   \n3                         False                    20.0   \n4                         False                    19.8   \n\n   TemperaturaDoAr_3_repaired  TemperaturaDoAr_2_pred  \\\n0                       False                    19.1   \n1                       False                    19.1   \n2                       False                    19.1   \n3                       False                    19.0   \n4                       False                    19.0   \n\n   TemperaturaDoAr_2_repaired  VelocidadeDoVento_0_pred  \\\n0                       False                       1.1   \n1                       False                       1.4   \n2                       False                       2.2   \n3                       False                       2.3   \n4                       False                       1.8   \n\n   VelocidadeDoVento_0_repaired  TemperaturaDoAr_0_pred  \\\n0                         False                    19.5   \n1                         False                    19.5   \n2                         False                    19.6   \n3                         False                    19.7   \n4                         False                    19.8   \n\n   TemperaturaDoAr_0_repaired  UmidadeRelativa_3_pred  \\\n0                       False                    86.5   \n1                       False                    85.6   \n2                       False                    85.6   \n3                       False                    84.4   \n4                       False                    84.2   \n\n   UmidadeRelativa_3_repaired  PontoDeOrvalho_3_pred  \\\n0                       False                   17.4   \n1                       False                   17.4   \n2                       False                   17.4   \n3                       False                   17.2   \n4                       False                   17.1   \n\n   PontoDeOrvalho_3_repaired  TemperaturaDoAr_4_pred  \\\n0                      False                     0.0   \n1                      False                     0.0   \n2                      False                     0.0   \n3                      False                     0.0   \n4                      False                     0.0   \n\n   TemperaturaDoAr_4_repaired  TemperaturaInterna_3_pred  \\\n0                       False                       23.2   \n1                       False                       23.3   \n2                       False                       23.3   \n3                       False                       23.3   \n4                       False                       23.4   \n\n   TemperaturaInterna_3_repaired  UmidadeRelativa_0_pred  \\\n0                          False                    87.2   \n1                          False                    86.6   \n2                          False                    86.0   \n3                          False                    85.4   \n4                          False                    84.7   \n\n   UmidadeRelativa_0_repaired  TemperaturaInterna_2_pred  \\\n0                       False                       22.5   \n1                       False                       22.5   \n2                       False                       22.6   \n3                       False                       22.7   \n4                       False                       22.7   \n\n   TemperaturaInterna_2_repaired  TemperaturaInterna_0_pred  \\\n0                          False                       22.6   \n1                          False                       22.5   \n2                          False                       22.6   \n3                          False                       22.6   \n4                          False                       22.7   \n\n   TemperaturaInterna_0_repaired  PontoDeOrvalho_0_pred  \\\n0                          False                   17.3   \n1                          False                   17.2   \n2                          False                   17.2   \n3                          False                   17.2   \n4                          False                   17.1   \n\n   PontoDeOrvalho_0_repaired  TemperaturaInterna_4_pred  \\\n0                      False                        0.0   \n1                      False                        0.0   \n2                      False                        0.0   \n3                      False                        0.0   \n4                      False                        0.0   \n\n   TemperaturaInterna_4_repaired  TemperaturaDoAr_1_pred  \\\n0                          False                    19.1   \n1                          False                    19.2   \n2                          False                    19.3   \n3                          False                    19.3   \n4                          False                    19.4   \n\n   TemperaturaDoAr_1_repaired  VelocidadeDoVento_4_pred  \\\n0                       False                       0.0   \n1                       False                       0.0   \n2                       False                       0.0   \n3                       False                       0.0   \n4                       False                       0.0   \n\n   VelocidadeDoVento_4_repaired  PontoDeOrvalho_2_pred  \\\n0                         False                   17.3   \n1                         False                   17.3   \n2                         False                   17.3   \n3                         False                   17.2   \n4                         False                   17.1   \n\n   PontoDeOrvalho_2_repaired  UmidadeRelativa_1_pred  \\\n0                      False                    89.2   \n1                      False                    88.6   \n2                      False                    88.1   \n3                      False                    88.1   \n4                      False                    87.4   \n\n   UmidadeRelativa_1_repaired  PontoDeOrvalho_1_pred  \\\n0                       False              17.053488   \n1                       False              16.909018   \n2                       False              16.868210   \n3                       False              16.778673   \n4                       False              16.722065   \n\n   PontoDeOrvalho_1_repaired  TemperaturaInterna_1_pred  \\\n0                       True                       22.6   \n1                       True                       22.6   \n2                       True                       22.7   \n3                       True                       22.7   \n4                       True                       22.8   \n\n   TemperaturaInterna_1_repaired  UmidadeRelativa_2_pred  \\\n0                          False                    89.4   \n1                          False                    89.1   \n2                          False                    88.4   \n3                          False                    89.3   \n4                          False                    88.6   \n\n   UmidadeRelativa_2_repaired  RadiacaoSolar_4_pred  RadiacaoSolar_4_repaired  \\\n0                       False                   0.0                     False   \n1                       False                   0.0                     False   \n2                       False                   0.0                     False   \n3                       False                   0.0                     False   \n4                       False                   0.0                     False   \n\n   DirecaoDoVento_4_pred  DirecaoDoVento_4_repaired  PontoDeOrvalho_4_pred  \\\n0                    0.0                      False                    0.0   \n1                    0.0                      False                    0.0   \n2                    0.0                      False                    0.0   \n3                    0.0                      False                    0.0   \n4                    0.0                      False                    0.0   \n\n   PontoDeOrvalho_4_repaired  DirecaoDoVento_1_pred  \\\n0                      False                  109.0   \n1                      False                  127.0   \n2                      False                  138.0   \n3                      False                  135.0   \n4                      False                  139.0   \n\n   DirecaoDoVento_1_repaired  UmidadeRelativa_4_pred  \\\n0                      False                     0.0   \n1                      False                     0.0   \n2                      False                     0.0   \n3                      False                     0.0   \n4                      False                     0.0   \n\n   UmidadeRelativa_4_repaired  PressaoAtmosferica_1_pred  \\\n0                       False                      918.7   \n1                       False                      918.7   \n2                       False                      918.7   \n3                       False                      918.7   \n4                       False                      918.7   \n\n   PressaoAtmosferica_1_repaired  VelocidadeDoVento_1_pred  \\\n0                          False                       2.7   \n1                          False                       2.0   \n2                          False                       2.7   \n3                          False                       1.4   \n4                          False                       3.7   \n\n   VelocidadeDoVento_1_repaired  SensacaoTermica_0_pred  \\\n0                         False                     NaN   \n1                         False                     NaN   \n2                         False                     NaN   \n3                         False                     NaN   \n4                         False                     NaN   \n\n   SensacaoTermica_0_repaired  SensacaoTermica_2_pred  \\\n0                       False                     NaN   \n1                       False                     NaN   \n2                       False                     NaN   \n3                       False                     NaN   \n4                       False                     NaN   \n\n   SensacaoTermica_2_repaired  SensacaoTermica_3_pred  \\\n0                       False                     NaN   \n1                       False                     NaN   \n2                       False                     NaN   \n3                       False                     NaN   \n4                       False                     NaN   \n\n   SensacaoTermica_3_repaired  RadiacaoSolar_1_pred  RadiacaoSolar_1_repaired  \\\n0                       False                   9.0                     False   \n1                       False                  16.0                     False   \n2                       False                  35.0                     False   \n3                       False                  50.0                     False   \n4                       False                  88.0                     False   \n\n   SensacaoTermica_4_pred  SensacaoTermica_4_repaired  SensacaoTermica_1_pred  \\\n0                     NaN                       False                     NaN   \n1                     NaN                       False                     NaN   \n2                     NaN                       False                     NaN   \n3                     NaN                       False                     NaN   \n4                     NaN                       False                     NaN   \n\n   SensacaoTermica_1_repaired  \n0                       False  \n1                       False  \n2                       False  \n3                       False  \n4                       False  ",
      "text/html": "<div>\n<style scoped>\n    .dataframe tbody tr th:only-of-type {\n        vertical-align: middle;\n    }\n\n    .dataframe tbody tr th {\n        vertical-align: top;\n    }\n\n    .dataframe thead th {\n        text-align: right;\n    }\n</style>\n<table border=\"1\" class=\"dataframe\">\n  <thead>\n    <tr style=\"text-align: right;\">\n      <th></th>\n      <th>Data_Hora</th>\n      <th>RadiacaoSolar_2_interpol</th>\n      <th>DirecaoDoVento_2_interpol</th>\n      <th>DirecaoDoVento_3_interpol</th>\n      <th>RadiacaoSolar_3_interpol</th>\n      <th>RadiacaoSolar_0_interpol</th>\n      <th>DirecaoDoVento_0_interpol</th>\n      <th>PressaoAtmosferica_2_interpol</th>\n      <th>PressaoAtmosferica_3_interpol</th>\n      <th>PressaoAtmosferica_0_interpol</th>\n      <th>VelocidadeDoVento_3_interpol</th>\n      <th>PressaoAtmosferica_4_interpol</th>\n      <th>VelocidadeDoVento_2_interpol</th>\n      <th>TemperaturaDoAr_3_interpol</th>\n      <th>TemperaturaDoAr_2_interpol</th>\n      <th>VelocidadeDoVento_0_interpol</th>\n      <th>TemperaturaDoAr_0_interpol</th>\n      <th>UmidadeRelativa_3_interpol</th>\n      <th>PontoDeOrvalho_3_interpol</th>\n      <th>TemperaturaDoAr_4_interpol</th>\n      <th>TemperaturaInterna_3_interpol</th>\n      <th>UmidadeRelativa_0_interpol</th>\n      <th>TemperaturaInterna_2_interpol</th>\n      <th>TemperaturaInterna_0_interpol</th>\n      <th>PontoDeOrvalho_0_interpol</th>\n      <th>TemperaturaInterna_4_interpol</th>\n      <th>TemperaturaDoAr_1_interpol</th>\n      <th>VelocidadeDoVento_4_interpol</th>\n      <th>PontoDeOrvalho_2_interpol</th>\n      <th>UmidadeRelativa_1_interpol</th>\n      <th>PontoDeOrvalho_1_interpol</th>\n      <th>TemperaturaInterna_1_interpol</th>\n      <th>UmidadeRelativa_2_interpol</th>\n      <th>RadiacaoSolar_4_interpol</th>\n      <th>DirecaoDoVento_4_interpol</th>\n      <th>PontoDeOrvalho_4_interpol</th>\n      <th>DirecaoDoVento_1_interpol</th>\n      <th>UmidadeRelativa_4_interpol</th>\n      <th>PressaoAtmosferica_1_interpol</th>\n      <th>VelocidadeDoVento_1_interpol</th>\n      <th>SensacaoTermica_0_interpol</th>\n      <th>SensacaoTermica_2_interpol</th>\n      <th>SensacaoTermica_3_interpol</th>\n      <th>RadiacaoSolar_1_interpol</th>\n      <th>SensacaoTermica_4_interpol</th>\n      <th>SensacaoTermica_1_interpol</th>\n      <th>RadiacaoSolar_2_pred</th>\n      <th>RadiacaoSolar_2_repaired</th>\n      <th>DirecaoDoVento_2_pred</th>\n      <th>DirecaoDoVento_2_repaired</th>\n      <th>DirecaoDoVento_3_pred</th>\n      <th>DirecaoDoVento_3_repaired</th>\n      <th>RadiacaoSolar_3_pred</th>\n      <th>RadiacaoSolar_3_repaired</th>\n      <th>RadiacaoSolar_0_pred</th>\n      <th>RadiacaoSolar_0_repaired</th>\n      <th>DirecaoDoVento_0_pred</th>\n      <th>DirecaoDoVento_0_repaired</th>\n      <th>PressaoAtmosferica_2_pred</th>\n      <th>PressaoAtmosferica_2_repaired</th>\n      <th>PressaoAtmosferica_3_pred</th>\n      <th>PressaoAtmosferica_3_repaired</th>\n      <th>PressaoAtmosferica_0_pred</th>\n      <th>PressaoAtmosferica_0_repaired</th>\n      <th>VelocidadeDoVento_3_pred</th>\n      <th>VelocidadeDoVento_3_repaired</th>\n      <th>PressaoAtmosferica_4_pred</th>\n      <th>PressaoAtmosferica_4_repaired</th>\n      <th>VelocidadeDoVento_2_pred</th>\n      <th>VelocidadeDoVento_2_repaired</th>\n      <th>TemperaturaDoAr_3_pred</th>\n      <th>TemperaturaDoAr_3_repaired</th>\n      <th>TemperaturaDoAr_2_pred</th>\n      <th>TemperaturaDoAr_2_repaired</th>\n      <th>VelocidadeDoVento_0_pred</th>\n      <th>VelocidadeDoVento_0_repaired</th>\n      <th>TemperaturaDoAr_0_pred</th>\n      <th>TemperaturaDoAr_0_repaired</th>\n      <th>UmidadeRelativa_3_pred</th>\n      <th>UmidadeRelativa_3_repaired</th>\n      <th>PontoDeOrvalho_3_pred</th>\n      <th>PontoDeOrvalho_3_repaired</th>\n      <th>TemperaturaDoAr_4_pred</th>\n      <th>TemperaturaDoAr_4_repaired</th>\n      <th>TemperaturaInterna_3_pred</th>\n      <th>TemperaturaInterna_3_repaired</th>\n      <th>UmidadeRelativa_0_pred</th>\n      <th>UmidadeRelativa_0_repaired</th>\n      <th>TemperaturaInterna_2_pred</th>\n      <th>TemperaturaInterna_2_repaired</th>\n      <th>TemperaturaInterna_0_pred</th>\n      <th>TemperaturaInterna_0_repaired</th>\n      <th>PontoDeOrvalho_0_pred</th>\n      <th>PontoDeOrvalho_0_repaired</th>\n      <th>TemperaturaInterna_4_pred</th>\n      <th>TemperaturaInterna_4_repaired</th>\n      <th>TemperaturaDoAr_1_pred</th>\n      <th>TemperaturaDoAr_1_repaired</th>\n      <th>VelocidadeDoVento_4_pred</th>\n      <th>VelocidadeDoVento_4_repaired</th>\n      <th>PontoDeOrvalho_2_pred</th>\n      <th>PontoDeOrvalho_2_repaired</th>\n      <th>UmidadeRelativa_1_pred</th>\n      <th>UmidadeRelativa_1_repaired</th>\n      <th>PontoDeOrvalho_1_pred</th>\n      <th>PontoDeOrvalho_1_repaired</th>\n      <th>TemperaturaInterna_1_pred</th>\n      <th>TemperaturaInterna_1_repaired</th>\n      <th>UmidadeRelativa_2_pred</th>\n      <th>UmidadeRelativa_2_repaired</th>\n      <th>RadiacaoSolar_4_pred</th>\n      <th>RadiacaoSolar_4_repaired</th>\n      <th>DirecaoDoVento_4_pred</th>\n      <th>DirecaoDoVento_4_repaired</th>\n      <th>PontoDeOrvalho_4_pred</th>\n      <th>PontoDeOrvalho_4_repaired</th>\n      <th>DirecaoDoVento_1_pred</th>\n      <th>DirecaoDoVento_1_repaired</th>\n      <th>UmidadeRelativa_4_pred</th>\n      <th>UmidadeRelativa_4_repaired</th>\n      <th>PressaoAtmosferica_1_pred</th>\n      <th>PressaoAtmosferica_1_repaired</th>\n      <th>VelocidadeDoVento_1_pred</th>\n      <th>VelocidadeDoVento_1_repaired</th>\n      <th>SensacaoTermica_0_pred</th>\n      <th>SensacaoTermica_0_repaired</th>\n      <th>SensacaoTermica_2_pred</th>\n      <th>SensacaoTermica_2_repaired</th>\n      <th>SensacaoTermica_3_pred</th>\n      <th>SensacaoTermica_3_repaired</th>\n      <th>RadiacaoSolar_1_pred</th>\n      <th>RadiacaoSolar_1_repaired</th>\n      <th>SensacaoTermica_4_pred</th>\n      <th>SensacaoTermica_4_repaired</th>\n      <th>SensacaoTermica_1_pred</th>\n      <th>SensacaoTermica_1_repaired</th>\n    </tr>\n  </thead>\n  <tbody>\n    <tr>\n      <th>0</th>\n      <td>2011-01-01 06:30:00</td>\n      <td>False</td>\n      <td>False</td>\n      <td>False</td>\n      <td>False</td>\n      <td>False</td>\n      <td>False</td>\n      <td>False</td>\n      <td>False</td>\n      <td>False</td>\n      <td>False</td>\n      <td>False</td>\n      <td>False</td>\n      <td>False</td>\n      <td>False</td>\n      <td>False</td>\n      <td>False</td>\n      <td>False</td>\n      <td>False</td>\n      <td>False</td>\n      <td>False</td>\n      <td>False</td>\n      <td>False</td>\n      <td>False</td>\n      <td>False</td>\n      <td>False</td>\n      <td>False</td>\n      <td>False</td>\n      <td>False</td>\n      <td>False</td>\n      <td>False</td>\n      <td>False</td>\n      <td>False</td>\n      <td>False</td>\n      <td>False</td>\n      <td>False</td>\n      <td>False</td>\n      <td>False</td>\n      <td>False</td>\n      <td>False</td>\n      <td>False</td>\n      <td>False</td>\n      <td>False</td>\n      <td>False</td>\n      <td>False</td>\n      <td>False</td>\n      <td>8.0</td>\n      <td>False</td>\n      <td>113.0</td>\n      <td>False</td>\n      <td>149.0</td>\n      <td>False</td>\n      <td>8.0</td>\n      <td>False</td>\n      <td>8.0</td>\n      <td>False</td>\n      <td>163.0</td>\n      <td>False</td>\n      <td>917.2</td>\n      <td>False</td>\n      <td>924.8</td>\n      <td>False</td>\n      <td>918.6</td>\n      <td>False</td>\n      <td>1.2</td>\n      <td>False</td>\n      <td>0.0</td>\n      <td>False</td>\n      <td>2.8</td>\n      <td>False</td>\n      <td>19.7</td>\n      <td>False</td>\n      <td>19.1</td>\n      <td>False</td>\n      <td>1.1</td>\n      <td>False</td>\n      <td>19.5</td>\n      <td>False</td>\n      <td>86.5</td>\n      <td>False</td>\n      <td>17.4</td>\n      <td>False</td>\n      <td>0.0</td>\n      <td>False</td>\n      <td>23.2</td>\n      <td>False</td>\n      <td>87.2</td>\n      <td>False</td>\n      <td>22.5</td>\n      <td>False</td>\n      <td>22.6</td>\n      <td>False</td>\n      <td>17.3</td>\n      <td>False</td>\n      <td>0.0</td>\n      <td>False</td>\n      <td>19.1</td>\n      <td>False</td>\n      <td>0.0</td>\n      <td>False</td>\n      <td>17.3</td>\n      <td>False</td>\n      <td>89.2</td>\n      <td>False</td>\n      <td>17.053488</td>\n      <td>True</td>\n      <td>22.6</td>\n      <td>False</td>\n      <td>89.4</td>\n      <td>False</td>\n      <td>0.0</td>\n      <td>False</td>\n      <td>0.0</td>\n      <td>False</td>\n      <td>0.0</td>\n      <td>False</td>\n      <td>109.0</td>\n      <td>False</td>\n      <td>0.0</td>\n      <td>False</td>\n      <td>918.7</td>\n      <td>False</td>\n      <td>2.7</td>\n      <td>False</td>\n      <td>NaN</td>\n      <td>False</td>\n      <td>NaN</td>\n      <td>False</td>\n      <td>NaN</td>\n      <td>False</td>\n      <td>9.0</td>\n      <td>False</td>\n      <td>NaN</td>\n      <td>False</td>\n      <td>NaN</td>\n      <td>False</td>\n    </tr>\n    <tr>\n      <th>1</th>\n      <td>2011-01-01 06:45:00</td>\n      <td>False</td>\n      <td>False</td>\n      <td>False</td>\n      <td>False</td>\n      <td>False</td>\n      <td>False</td>\n      <td>False</td>\n      <td>False</td>\n      <td>False</td>\n      <td>False</td>\n      <td>False</td>\n      <td>False</td>\n      <td>False</td>\n      <td>False</td>\n      <td>False</td>\n      <td>False</td>\n      <td>False</td>\n      <td>False</td>\n      <td>False</td>\n      <td>False</td>\n      <td>False</td>\n      <td>False</td>\n      <td>False</td>\n      <td>False</td>\n      <td>False</td>\n      <td>False</td>\n      <td>False</td>\n      <td>False</td>\n      <td>False</td>\n      <td>False</td>\n      <td>False</td>\n      <td>False</td>\n      <td>False</td>\n      <td>False</td>\n      <td>False</td>\n      <td>False</td>\n      <td>False</td>\n      <td>False</td>\n      <td>False</td>\n      <td>False</td>\n      <td>False</td>\n      <td>False</td>\n      <td>False</td>\n      <td>False</td>\n      <td>False</td>\n      <td>16.0</td>\n      <td>False</td>\n      <td>154.0</td>\n      <td>False</td>\n      <td>162.0</td>\n      <td>False</td>\n      <td>16.0</td>\n      <td>False</td>\n      <td>18.0</td>\n      <td>False</td>\n      <td>160.0</td>\n      <td>False</td>\n      <td>917.2</td>\n      <td>False</td>\n      <td>924.8</td>\n      <td>False</td>\n      <td>918.7</td>\n      <td>False</td>\n      <td>1.8</td>\n      <td>False</td>\n      <td>0.0</td>\n      <td>False</td>\n      <td>1.6</td>\n      <td>False</td>\n      <td>19.9</td>\n      <td>False</td>\n      <td>19.1</td>\n      <td>False</td>\n      <td>1.4</td>\n      <td>False</td>\n      <td>19.5</td>\n      <td>False</td>\n      <td>85.6</td>\n      <td>False</td>\n      <td>17.4</td>\n      <td>False</td>\n      <td>0.0</td>\n      <td>False</td>\n      <td>23.3</td>\n      <td>False</td>\n      <td>86.6</td>\n      <td>False</td>\n      <td>22.5</td>\n      <td>False</td>\n      <td>22.5</td>\n      <td>False</td>\n      <td>17.2</td>\n      <td>False</td>\n      <td>0.0</td>\n      <td>False</td>\n      <td>19.2</td>\n      <td>False</td>\n      <td>0.0</td>\n      <td>False</td>\n      <td>17.3</td>\n      <td>False</td>\n      <td>88.6</td>\n      <td>False</td>\n      <td>16.909018</td>\n      <td>True</td>\n      <td>22.6</td>\n      <td>False</td>\n      <td>89.1</td>\n      <td>False</td>\n      <td>0.0</td>\n      <td>False</td>\n      <td>0.0</td>\n      <td>False</td>\n      <td>0.0</td>\n      <td>False</td>\n      <td>127.0</td>\n      <td>False</td>\n      <td>0.0</td>\n      <td>False</td>\n      <td>918.7</td>\n      <td>False</td>\n      <td>2.0</td>\n      <td>False</td>\n      <td>NaN</td>\n      <td>False</td>\n      <td>NaN</td>\n      <td>False</td>\n      <td>NaN</td>\n      <td>False</td>\n      <td>16.0</td>\n      <td>False</td>\n      <td>NaN</td>\n      <td>False</td>\n      <td>NaN</td>\n      <td>False</td>\n    </tr>\n    <tr>\n      <th>2</th>\n      <td>2011-01-01 07:00:00</td>\n      <td>False</td>\n      <td>False</td>\n      <td>False</td>\n      <td>False</td>\n      <td>False</td>\n      <td>False</td>\n      <td>False</td>\n      <td>False</td>\n      <td>False</td>\n      <td>False</td>\n      <td>False</td>\n      <td>False</td>\n      <td>False</td>\n      <td>False</td>\n      <td>False</td>\n      <td>False</td>\n      <td>False</td>\n      <td>False</td>\n      <td>False</td>\n      <td>False</td>\n      <td>False</td>\n      <td>False</td>\n      <td>False</td>\n      <td>False</td>\n      <td>False</td>\n      <td>False</td>\n      <td>False</td>\n      <td>False</td>\n      <td>False</td>\n      <td>False</td>\n      <td>False</td>\n      <td>False</td>\n      <td>False</td>\n      <td>False</td>\n      <td>False</td>\n      <td>False</td>\n      <td>False</td>\n      <td>False</td>\n      <td>False</td>\n      <td>False</td>\n      <td>False</td>\n      <td>False</td>\n      <td>False</td>\n      <td>False</td>\n      <td>False</td>\n      <td>28.0</td>\n      <td>False</td>\n      <td>116.0</td>\n      <td>False</td>\n      <td>181.0</td>\n      <td>False</td>\n      <td>30.0</td>\n      <td>False</td>\n      <td>41.0</td>\n      <td>False</td>\n      <td>108.0</td>\n      <td>False</td>\n      <td>917.2</td>\n      <td>False</td>\n      <td>924.8</td>\n      <td>False</td>\n      <td>918.7</td>\n      <td>False</td>\n      <td>1.7</td>\n      <td>False</td>\n      <td>0.0</td>\n      <td>False</td>\n      <td>2.3</td>\n      <td>False</td>\n      <td>19.9</td>\n      <td>False</td>\n      <td>19.1</td>\n      <td>False</td>\n      <td>2.2</td>\n      <td>False</td>\n      <td>19.6</td>\n      <td>False</td>\n      <td>85.6</td>\n      <td>False</td>\n      <td>17.4</td>\n      <td>False</td>\n      <td>0.0</td>\n      <td>False</td>\n      <td>23.3</td>\n      <td>False</td>\n      <td>86.0</td>\n      <td>False</td>\n      <td>22.6</td>\n      <td>False</td>\n      <td>22.6</td>\n      <td>False</td>\n      <td>17.2</td>\n      <td>False</td>\n      <td>0.0</td>\n      <td>False</td>\n      <td>19.3</td>\n      <td>False</td>\n      <td>0.0</td>\n      <td>False</td>\n      <td>17.3</td>\n      <td>False</td>\n      <td>88.1</td>\n      <td>False</td>\n      <td>16.868210</td>\n      <td>True</td>\n      <td>22.7</td>\n      <td>False</td>\n      <td>88.4</td>\n      <td>False</td>\n      <td>0.0</td>\n      <td>False</td>\n      <td>0.0</td>\n      <td>False</td>\n      <td>0.0</td>\n      <td>False</td>\n      <td>138.0</td>\n      <td>False</td>\n      <td>0.0</td>\n      <td>False</td>\n      <td>918.7</td>\n      <td>False</td>\n      <td>2.7</td>\n      <td>False</td>\n      <td>NaN</td>\n      <td>False</td>\n      <td>NaN</td>\n      <td>False</td>\n      <td>NaN</td>\n      <td>False</td>\n      <td>35.0</td>\n      <td>False</td>\n      <td>NaN</td>\n      <td>False</td>\n      <td>NaN</td>\n      <td>False</td>\n    </tr>\n    <tr>\n      <th>3</th>\n      <td>2011-01-01 07:15:00</td>\n      <td>False</td>\n      <td>False</td>\n      <td>False</td>\n      <td>False</td>\n      <td>False</td>\n      <td>False</td>\n      <td>False</td>\n      <td>False</td>\n      <td>False</td>\n      <td>False</td>\n      <td>False</td>\n      <td>False</td>\n      <td>False</td>\n      <td>False</td>\n      <td>False</td>\n      <td>False</td>\n      <td>False</td>\n      <td>False</td>\n      <td>False</td>\n      <td>False</td>\n      <td>False</td>\n      <td>False</td>\n      <td>False</td>\n      <td>False</td>\n      <td>False</td>\n      <td>False</td>\n      <td>False</td>\n      <td>False</td>\n      <td>False</td>\n      <td>False</td>\n      <td>False</td>\n      <td>False</td>\n      <td>False</td>\n      <td>False</td>\n      <td>False</td>\n      <td>False</td>\n      <td>False</td>\n      <td>False</td>\n      <td>False</td>\n      <td>False</td>\n      <td>False</td>\n      <td>False</td>\n      <td>False</td>\n      <td>False</td>\n      <td>False</td>\n      <td>50.0</td>\n      <td>False</td>\n      <td>128.0</td>\n      <td>False</td>\n      <td>151.0</td>\n      <td>False</td>\n      <td>53.0</td>\n      <td>False</td>\n      <td>62.0</td>\n      <td>False</td>\n      <td>125.0</td>\n      <td>False</td>\n      <td>917.3</td>\n      <td>False</td>\n      <td>924.9</td>\n      <td>False</td>\n      <td>918.7</td>\n      <td>False</td>\n      <td>1.5</td>\n      <td>False</td>\n      <td>0.0</td>\n      <td>False</td>\n      <td>2.5</td>\n      <td>False</td>\n      <td>20.0</td>\n      <td>False</td>\n      <td>19.0</td>\n      <td>False</td>\n      <td>2.3</td>\n      <td>False</td>\n      <td>19.7</td>\n      <td>False</td>\n      <td>84.4</td>\n      <td>False</td>\n      <td>17.2</td>\n      <td>False</td>\n      <td>0.0</td>\n      <td>False</td>\n      <td>23.3</td>\n      <td>False</td>\n      <td>85.4</td>\n      <td>False</td>\n      <td>22.7</td>\n      <td>False</td>\n      <td>22.6</td>\n      <td>False</td>\n      <td>17.2</td>\n      <td>False</td>\n      <td>0.0</td>\n      <td>False</td>\n      <td>19.3</td>\n      <td>False</td>\n      <td>0.0</td>\n      <td>False</td>\n      <td>17.2</td>\n      <td>False</td>\n      <td>88.1</td>\n      <td>False</td>\n      <td>16.778673</td>\n      <td>True</td>\n      <td>22.7</td>\n      <td>False</td>\n      <td>89.3</td>\n      <td>False</td>\n      <td>0.0</td>\n      <td>False</td>\n      <td>0.0</td>\n      <td>False</td>\n      <td>0.0</td>\n      <td>False</td>\n      <td>135.0</td>\n      <td>False</td>\n      <td>0.0</td>\n      <td>False</td>\n      <td>918.7</td>\n      <td>False</td>\n      <td>1.4</td>\n      <td>False</td>\n      <td>NaN</td>\n      <td>False</td>\n      <td>NaN</td>\n      <td>False</td>\n      <td>NaN</td>\n      <td>False</td>\n      <td>50.0</td>\n      <td>False</td>\n      <td>NaN</td>\n      <td>False</td>\n      <td>NaN</td>\n      <td>False</td>\n    </tr>\n    <tr>\n      <th>4</th>\n      <td>2011-01-01 07:30:00</td>\n      <td>False</td>\n      <td>False</td>\n      <td>False</td>\n      <td>False</td>\n      <td>False</td>\n      <td>False</td>\n      <td>False</td>\n      <td>False</td>\n      <td>False</td>\n      <td>False</td>\n      <td>False</td>\n      <td>False</td>\n      <td>False</td>\n      <td>False</td>\n      <td>False</td>\n      <td>False</td>\n      <td>False</td>\n      <td>False</td>\n      <td>False</td>\n      <td>False</td>\n      <td>False</td>\n      <td>False</td>\n      <td>False</td>\n      <td>False</td>\n      <td>False</td>\n      <td>False</td>\n      <td>False</td>\n      <td>False</td>\n      <td>False</td>\n      <td>False</td>\n      <td>False</td>\n      <td>False</td>\n      <td>False</td>\n      <td>False</td>\n      <td>False</td>\n      <td>False</td>\n      <td>False</td>\n      <td>False</td>\n      <td>False</td>\n      <td>False</td>\n      <td>False</td>\n      <td>False</td>\n      <td>False</td>\n      <td>False</td>\n      <td>False</td>\n      <td>77.0</td>\n      <td>False</td>\n      <td>120.0</td>\n      <td>False</td>\n      <td>176.0</td>\n      <td>False</td>\n      <td>66.0</td>\n      <td>False</td>\n      <td>82.0</td>\n      <td>False</td>\n      <td>146.0</td>\n      <td>False</td>\n      <td>917.3</td>\n      <td>False</td>\n      <td>924.9</td>\n      <td>False</td>\n      <td>918.8</td>\n      <td>False</td>\n      <td>3.0</td>\n      <td>False</td>\n      <td>0.0</td>\n      <td>False</td>\n      <td>1.6</td>\n      <td>False</td>\n      <td>19.8</td>\n      <td>False</td>\n      <td>19.0</td>\n      <td>False</td>\n      <td>1.8</td>\n      <td>False</td>\n      <td>19.8</td>\n      <td>False</td>\n      <td>84.2</td>\n      <td>False</td>\n      <td>17.1</td>\n      <td>False</td>\n      <td>0.0</td>\n      <td>False</td>\n      <td>23.4</td>\n      <td>False</td>\n      <td>84.7</td>\n      <td>False</td>\n      <td>22.7</td>\n      <td>False</td>\n      <td>22.7</td>\n      <td>False</td>\n      <td>17.1</td>\n      <td>False</td>\n      <td>0.0</td>\n      <td>False</td>\n      <td>19.4</td>\n      <td>False</td>\n      <td>0.0</td>\n      <td>False</td>\n      <td>17.1</td>\n      <td>False</td>\n      <td>87.4</td>\n      <td>False</td>\n      <td>16.722065</td>\n      <td>True</td>\n      <td>22.8</td>\n      <td>False</td>\n      <td>88.6</td>\n      <td>False</td>\n      <td>0.0</td>\n      <td>False</td>\n      <td>0.0</td>\n      <td>False</td>\n      <td>0.0</td>\n      <td>False</td>\n      <td>139.0</td>\n      <td>False</td>\n      <td>0.0</td>\n      <td>False</td>\n      <td>918.7</td>\n      <td>False</td>\n      <td>3.7</td>\n      <td>False</td>\n      <td>NaN</td>\n      <td>False</td>\n      <td>NaN</td>\n      <td>False</td>\n      <td>NaN</td>\n      <td>False</td>\n      <td>88.0</td>\n      <td>False</td>\n      <td>NaN</td>\n      <td>False</td>\n      <td>NaN</td>\n      <td>False</td>\n    </tr>\n  </tbody>\n</table>\n</div>"
     },
     "metadata": {},
     "execution_count": 80
    }
   ],
   "source": [
    "repaired = pd.read_csv('../../../data/cleandata/Info pluviometricas/Merged Data/repaired.csv', sep=';')\n",
    "\n",
    "repaired.head()"
   ]
  },
  {
   "cell_type": "code",
   "execution_count": 81,
   "metadata": {},
   "outputs": [
    {
     "output_type": "execute_result",
     "data": {
      "text/plain": "   index      Data      Hora            Data_Hora  UmidadeRelativa_0  \\\n0     26  01/01/11  06:30:00  2011-01-01 06:30:00               87.2   \n1     27  01/01/11  06:45:00  2011-01-01 06:45:00               86.6   \n2     28  01/01/11  07:00:00  2011-01-01 07:00:00               86.0   \n3     29  01/01/11  07:15:00  2011-01-01 07:15:00               85.4   \n4     30  01/01/11  07:30:00  2011-01-01 07:30:00               84.7   \n\n   PressaoAtmosferica_0  TemperaturaDoAr_0  TemperaturaInterna_0  \\\n0                 918.6               19.5                  22.6   \n1                 918.7               19.5                  22.5   \n2                 918.7               19.6                  22.6   \n3                 918.7               19.7                  22.6   \n4                 918.8               19.8                  22.7   \n\n   PontoDeOrvalho_0  SensacaoTermica_0  RadiacaoSolar_0  DirecaoDoVento_0  \\\n0              17.3                NaN              8.0             163.0   \n1              17.2                NaN             18.0             160.0   \n2              17.2                NaN             41.0             108.0   \n3              17.2                NaN             62.0             125.0   \n4              17.1                NaN             82.0             146.0   \n\n   VelocidadeDoVento_0  Precipitacao_0      Local_0  UmidadeRelativa_1  \\\n0                  1.1             0.0  Camilopolis               89.2   \n1                  1.4             0.0  Camilopolis               88.6   \n2                  2.2             0.0  Camilopolis               88.1   \n3                  2.3             0.0  Camilopolis               88.1   \n4                  1.8             0.0  Camilopolis               87.4   \n\n   PressaoAtmosferica_1  TemperaturaDoAr_1  TemperaturaInterna_1  \\\n0                 918.7               19.1                  22.6   \n1                 918.7               19.2                  22.6   \n2                 918.7               19.3                  22.7   \n3                 918.7               19.3                  22.7   \n4                 918.7               19.4                  22.8   \n\n   PontoDeOrvalho_1  SensacaoTermica_1  RadiacaoSolar_1  DirecaoDoVento_1  \\\n0         17.053488                NaN              9.0             109.0   \n1         16.909018                NaN             16.0             127.0   \n2         16.868210                NaN             35.0             138.0   \n3         16.778673                NaN             50.0             135.0   \n4         16.722065                NaN             88.0             139.0   \n\n   VelocidadeDoVento_1  Precipitacao_1 Local_1  UmidadeRelativa_2  \\\n0                  2.7             0.0  Erasmo               89.4   \n1                  2.0             0.0  Erasmo               89.1   \n2                  2.7             0.0  Erasmo               88.4   \n3                  1.4             0.0  Erasmo               89.3   \n4                  3.7             0.0  Erasmo               88.6   \n\n   PressaoAtmosferica_2  TemperaturaDoAr_2  TemperaturaInterna_2  \\\n0                 917.2               19.1                  22.5   \n1                 917.2               19.1                  22.5   \n2                 917.2               19.1                  22.6   \n3                 917.3               19.0                  22.7   \n4                 917.3               19.0                  22.7   \n\n   PontoDeOrvalho_2  SensacaoTermica_2  RadiacaoSolar_2  DirecaoDoVento_2  \\\n0              17.3                NaN              8.0             113.0   \n1              17.3                NaN             16.0             154.0   \n2              17.3                NaN             28.0             116.0   \n3              17.2                NaN             50.0             128.0   \n4              17.1                NaN             77.0             120.0   \n\n   VelocidadeDoVento_2  Precipitacao_2  Local_2  UmidadeRelativa_3  \\\n0                  2.8             0.0  Paraiso               86.5   \n1                  1.6             0.0  Paraiso               85.6   \n2                  2.3             0.0  Paraiso               85.6   \n3                  2.5             0.0  Paraiso               84.4   \n4                  1.6             0.0  Paraiso               84.2   \n\n   PressaoAtmosferica_3  TemperaturaDoAr_3  TemperaturaInterna_3  \\\n0                 924.8               19.7                  23.2   \n1                 924.8               19.9                  23.3   \n2                 924.8               19.9                  23.3   \n3                 924.9               20.0                  23.3   \n4                 924.9               19.8                  23.4   \n\n   PontoDeOrvalho_3  SensacaoTermica_3  RadiacaoSolar_3  DirecaoDoVento_3  \\\n0              17.4                NaN              8.0             149.0   \n1              17.4                NaN             16.0             162.0   \n2              17.4                NaN             30.0             181.0   \n3              17.2                NaN             53.0             151.0   \n4              17.1                NaN             66.0             176.0   \n\n   VelocidadeDoVento_3  Precipitacao_3 Local_3  UmidadeRelativa_4  \\\n0                  1.2             0.0      RM                0.0   \n1                  1.8             0.0      RM                0.0   \n2                  1.7             0.0      RM                0.0   \n3                  1.5             0.0      RM                0.0   \n4                  3.0             0.0      RM                0.0   \n\n   PressaoAtmosferica_4  TemperaturaDoAr_4  TemperaturaInterna_4  \\\n0                   0.0                0.0                   0.0   \n1                   0.0                0.0                   0.0   \n2                   0.0                0.0                   0.0   \n3                   0.0                0.0                   0.0   \n4                   0.0                0.0                   0.0   \n\n   PontoDeOrvalho_4  SensacaoTermica_4  RadiacaoSolar_4  DirecaoDoVento_4  \\\n0               0.0                NaN              0.0               0.0   \n1               0.0                NaN              0.0               0.0   \n2               0.0                NaN              0.0               0.0   \n3               0.0                NaN              0.0               0.0   \n4               0.0                NaN              0.0               0.0   \n\n   VelocidadeDoVento_4  Precipitacao_4  Local_4  \n0                  0.0             0.0  Vitoria  \n1                  0.0             0.0  Vitoria  \n2                  0.0             0.0  Vitoria  \n3                  0.0             0.0  Vitoria  \n4                  0.0             0.0  Vitoria  ",
      "text/html": "<div>\n<style scoped>\n    .dataframe tbody tr th:only-of-type {\n        vertical-align: middle;\n    }\n\n    .dataframe tbody tr th {\n        vertical-align: top;\n    }\n\n    .dataframe thead th {\n        text-align: right;\n    }\n</style>\n<table border=\"1\" class=\"dataframe\">\n  <thead>\n    <tr style=\"text-align: right;\">\n      <th></th>\n      <th>index</th>\n      <th>Data</th>\n      <th>Hora</th>\n      <th>Data_Hora</th>\n      <th>UmidadeRelativa_0</th>\n      <th>PressaoAtmosferica_0</th>\n      <th>TemperaturaDoAr_0</th>\n      <th>TemperaturaInterna_0</th>\n      <th>PontoDeOrvalho_0</th>\n      <th>SensacaoTermica_0</th>\n      <th>RadiacaoSolar_0</th>\n      <th>DirecaoDoVento_0</th>\n      <th>VelocidadeDoVento_0</th>\n      <th>Precipitacao_0</th>\n      <th>Local_0</th>\n      <th>UmidadeRelativa_1</th>\n      <th>PressaoAtmosferica_1</th>\n      <th>TemperaturaDoAr_1</th>\n      <th>TemperaturaInterna_1</th>\n      <th>PontoDeOrvalho_1</th>\n      <th>SensacaoTermica_1</th>\n      <th>RadiacaoSolar_1</th>\n      <th>DirecaoDoVento_1</th>\n      <th>VelocidadeDoVento_1</th>\n      <th>Precipitacao_1</th>\n      <th>Local_1</th>\n      <th>UmidadeRelativa_2</th>\n      <th>PressaoAtmosferica_2</th>\n      <th>TemperaturaDoAr_2</th>\n      <th>TemperaturaInterna_2</th>\n      <th>PontoDeOrvalho_2</th>\n      <th>SensacaoTermica_2</th>\n      <th>RadiacaoSolar_2</th>\n      <th>DirecaoDoVento_2</th>\n      <th>VelocidadeDoVento_2</th>\n      <th>Precipitacao_2</th>\n      <th>Local_2</th>\n      <th>UmidadeRelativa_3</th>\n      <th>PressaoAtmosferica_3</th>\n      <th>TemperaturaDoAr_3</th>\n      <th>TemperaturaInterna_3</th>\n      <th>PontoDeOrvalho_3</th>\n      <th>SensacaoTermica_3</th>\n      <th>RadiacaoSolar_3</th>\n      <th>DirecaoDoVento_3</th>\n      <th>VelocidadeDoVento_3</th>\n      <th>Precipitacao_3</th>\n      <th>Local_3</th>\n      <th>UmidadeRelativa_4</th>\n      <th>PressaoAtmosferica_4</th>\n      <th>TemperaturaDoAr_4</th>\n      <th>TemperaturaInterna_4</th>\n      <th>PontoDeOrvalho_4</th>\n      <th>SensacaoTermica_4</th>\n      <th>RadiacaoSolar_4</th>\n      <th>DirecaoDoVento_4</th>\n      <th>VelocidadeDoVento_4</th>\n      <th>Precipitacao_4</th>\n      <th>Local_4</th>\n    </tr>\n  </thead>\n  <tbody>\n    <tr>\n      <th>0</th>\n      <td>26</td>\n      <td>01/01/11</td>\n      <td>06:30:00</td>\n      <td>2011-01-01 06:30:00</td>\n      <td>87.2</td>\n      <td>918.6</td>\n      <td>19.5</td>\n      <td>22.6</td>\n      <td>17.3</td>\n      <td>NaN</td>\n      <td>8.0</td>\n      <td>163.0</td>\n      <td>1.1</td>\n      <td>0.0</td>\n      <td>Camilopolis</td>\n      <td>89.2</td>\n      <td>918.7</td>\n      <td>19.1</td>\n      <td>22.6</td>\n      <td>17.053488</td>\n      <td>NaN</td>\n      <td>9.0</td>\n      <td>109.0</td>\n      <td>2.7</td>\n      <td>0.0</td>\n      <td>Erasmo</td>\n      <td>89.4</td>\n      <td>917.2</td>\n      <td>19.1</td>\n      <td>22.5</td>\n      <td>17.3</td>\n      <td>NaN</td>\n      <td>8.0</td>\n      <td>113.0</td>\n      <td>2.8</td>\n      <td>0.0</td>\n      <td>Paraiso</td>\n      <td>86.5</td>\n      <td>924.8</td>\n      <td>19.7</td>\n      <td>23.2</td>\n      <td>17.4</td>\n      <td>NaN</td>\n      <td>8.0</td>\n      <td>149.0</td>\n      <td>1.2</td>\n      <td>0.0</td>\n      <td>RM</td>\n      <td>0.0</td>\n      <td>0.0</td>\n      <td>0.0</td>\n      <td>0.0</td>\n      <td>0.0</td>\n      <td>NaN</td>\n      <td>0.0</td>\n      <td>0.0</td>\n      <td>0.0</td>\n      <td>0.0</td>\n      <td>Vitoria</td>\n    </tr>\n    <tr>\n      <th>1</th>\n      <td>27</td>\n      <td>01/01/11</td>\n      <td>06:45:00</td>\n      <td>2011-01-01 06:45:00</td>\n      <td>86.6</td>\n      <td>918.7</td>\n      <td>19.5</td>\n      <td>22.5</td>\n      <td>17.2</td>\n      <td>NaN</td>\n      <td>18.0</td>\n      <td>160.0</td>\n      <td>1.4</td>\n      <td>0.0</td>\n      <td>Camilopolis</td>\n      <td>88.6</td>\n      <td>918.7</td>\n      <td>19.2</td>\n      <td>22.6</td>\n      <td>16.909018</td>\n      <td>NaN</td>\n      <td>16.0</td>\n      <td>127.0</td>\n      <td>2.0</td>\n      <td>0.0</td>\n      <td>Erasmo</td>\n      <td>89.1</td>\n      <td>917.2</td>\n      <td>19.1</td>\n      <td>22.5</td>\n      <td>17.3</td>\n      <td>NaN</td>\n      <td>16.0</td>\n      <td>154.0</td>\n      <td>1.6</td>\n      <td>0.0</td>\n      <td>Paraiso</td>\n      <td>85.6</td>\n      <td>924.8</td>\n      <td>19.9</td>\n      <td>23.3</td>\n      <td>17.4</td>\n      <td>NaN</td>\n      <td>16.0</td>\n      <td>162.0</td>\n      <td>1.8</td>\n      <td>0.0</td>\n      <td>RM</td>\n      <td>0.0</td>\n      <td>0.0</td>\n      <td>0.0</td>\n      <td>0.0</td>\n      <td>0.0</td>\n      <td>NaN</td>\n      <td>0.0</td>\n      <td>0.0</td>\n      <td>0.0</td>\n      <td>0.0</td>\n      <td>Vitoria</td>\n    </tr>\n    <tr>\n      <th>2</th>\n      <td>28</td>\n      <td>01/01/11</td>\n      <td>07:00:00</td>\n      <td>2011-01-01 07:00:00</td>\n      <td>86.0</td>\n      <td>918.7</td>\n      <td>19.6</td>\n      <td>22.6</td>\n      <td>17.2</td>\n      <td>NaN</td>\n      <td>41.0</td>\n      <td>108.0</td>\n      <td>2.2</td>\n      <td>0.0</td>\n      <td>Camilopolis</td>\n      <td>88.1</td>\n      <td>918.7</td>\n      <td>19.3</td>\n      <td>22.7</td>\n      <td>16.868210</td>\n      <td>NaN</td>\n      <td>35.0</td>\n      <td>138.0</td>\n      <td>2.7</td>\n      <td>0.0</td>\n      <td>Erasmo</td>\n      <td>88.4</td>\n      <td>917.2</td>\n      <td>19.1</td>\n      <td>22.6</td>\n      <td>17.3</td>\n      <td>NaN</td>\n      <td>28.0</td>\n      <td>116.0</td>\n      <td>2.3</td>\n      <td>0.0</td>\n      <td>Paraiso</td>\n      <td>85.6</td>\n      <td>924.8</td>\n      <td>19.9</td>\n      <td>23.3</td>\n      <td>17.4</td>\n      <td>NaN</td>\n      <td>30.0</td>\n      <td>181.0</td>\n      <td>1.7</td>\n      <td>0.0</td>\n      <td>RM</td>\n      <td>0.0</td>\n      <td>0.0</td>\n      <td>0.0</td>\n      <td>0.0</td>\n      <td>0.0</td>\n      <td>NaN</td>\n      <td>0.0</td>\n      <td>0.0</td>\n      <td>0.0</td>\n      <td>0.0</td>\n      <td>Vitoria</td>\n    </tr>\n    <tr>\n      <th>3</th>\n      <td>29</td>\n      <td>01/01/11</td>\n      <td>07:15:00</td>\n      <td>2011-01-01 07:15:00</td>\n      <td>85.4</td>\n      <td>918.7</td>\n      <td>19.7</td>\n      <td>22.6</td>\n      <td>17.2</td>\n      <td>NaN</td>\n      <td>62.0</td>\n      <td>125.0</td>\n      <td>2.3</td>\n      <td>0.0</td>\n      <td>Camilopolis</td>\n      <td>88.1</td>\n      <td>918.7</td>\n      <td>19.3</td>\n      <td>22.7</td>\n      <td>16.778673</td>\n      <td>NaN</td>\n      <td>50.0</td>\n      <td>135.0</td>\n      <td>1.4</td>\n      <td>0.0</td>\n      <td>Erasmo</td>\n      <td>89.3</td>\n      <td>917.3</td>\n      <td>19.0</td>\n      <td>22.7</td>\n      <td>17.2</td>\n      <td>NaN</td>\n      <td>50.0</td>\n      <td>128.0</td>\n      <td>2.5</td>\n      <td>0.0</td>\n      <td>Paraiso</td>\n      <td>84.4</td>\n      <td>924.9</td>\n      <td>20.0</td>\n      <td>23.3</td>\n      <td>17.2</td>\n      <td>NaN</td>\n      <td>53.0</td>\n      <td>151.0</td>\n      <td>1.5</td>\n      <td>0.0</td>\n      <td>RM</td>\n      <td>0.0</td>\n      <td>0.0</td>\n      <td>0.0</td>\n      <td>0.0</td>\n      <td>0.0</td>\n      <td>NaN</td>\n      <td>0.0</td>\n      <td>0.0</td>\n      <td>0.0</td>\n      <td>0.0</td>\n      <td>Vitoria</td>\n    </tr>\n    <tr>\n      <th>4</th>\n      <td>30</td>\n      <td>01/01/11</td>\n      <td>07:30:00</td>\n      <td>2011-01-01 07:30:00</td>\n      <td>84.7</td>\n      <td>918.8</td>\n      <td>19.8</td>\n      <td>22.7</td>\n      <td>17.1</td>\n      <td>NaN</td>\n      <td>82.0</td>\n      <td>146.0</td>\n      <td>1.8</td>\n      <td>0.0</td>\n      <td>Camilopolis</td>\n      <td>87.4</td>\n      <td>918.7</td>\n      <td>19.4</td>\n      <td>22.8</td>\n      <td>16.722065</td>\n      <td>NaN</td>\n      <td>88.0</td>\n      <td>139.0</td>\n      <td>3.7</td>\n      <td>0.0</td>\n      <td>Erasmo</td>\n      <td>88.6</td>\n      <td>917.3</td>\n      <td>19.0</td>\n      <td>22.7</td>\n      <td>17.1</td>\n      <td>NaN</td>\n      <td>77.0</td>\n      <td>120.0</td>\n      <td>1.6</td>\n      <td>0.0</td>\n      <td>Paraiso</td>\n      <td>84.2</td>\n      <td>924.9</td>\n      <td>19.8</td>\n      <td>23.4</td>\n      <td>17.1</td>\n      <td>NaN</td>\n      <td>66.0</td>\n      <td>176.0</td>\n      <td>3.0</td>\n      <td>0.0</td>\n      <td>RM</td>\n      <td>0.0</td>\n      <td>0.0</td>\n      <td>0.0</td>\n      <td>0.0</td>\n      <td>0.0</td>\n      <td>NaN</td>\n      <td>0.0</td>\n      <td>0.0</td>\n      <td>0.0</td>\n      <td>0.0</td>\n      <td>Vitoria</td>\n    </tr>\n  </tbody>\n</table>\n</div>"
     },
     "metadata": {},
     "execution_count": 81
    }
   ],
   "source": [
    "df_ungrouped = merged.copy()\n",
    "\n",
    "for i in range(5):\n",
    "    for feature in features[1:-1]: # Tira Local e Precipitacao\n",
    "        df_ungrouped[f'{feature}_{i}'] = repaired[f'{feature}_{i}_pred']\n",
    "\n",
    "df_ungrouped.head()"
   ]
  },
  {
   "cell_type": "code",
   "execution_count": 82,
   "metadata": {},
   "outputs": [
    {
     "output_type": "execute_result",
     "data": {
      "text/plain": "                  Data_Hora        Local  UmidadeRelativa  PressaoAtmosferica  \\\n106838  2011-01-01 00:00:00  Camilopolis        79.300000               917.9   \n106838  2011-01-01 00:00:00       Erasmo        79.100000               919.5   \n106838  2011-01-01 00:00:00      Vitoria        76.818108               919.6   \n106838  2011-01-01 00:00:00           RM        78.400000               925.6   \n106838  2011-01-01 00:00:00      Paraiso        85.080925               918.1   \n\n        TemperaturaDoAr  TemperaturaInterna  PontoDeOrvalho  SensacaoTermica  \\\n106838             20.2                22.9       16.300000        18.800000   \n106838             20.1                23.7       16.300000         0.000000   \n106838             20.7                26.4       18.755472        19.681828   \n106838             21.1                25.1       17.000000        21.000000   \n106838             20.7                24.4       17.827150        18.400000   \n\n        RadiacaoSolar  DirecaoDoVento  VelocidadeDoVento  Precipitacao  \n106838          128.0        77.00000           7.900000           0.0  \n106838            0.0       133.00000           4.400000           0.0  \n106838            0.0       139.04718           7.891948           0.0  \n106838          202.0       148.00000           5.800000           0.0  \n106838          209.0       184.00000          14.000000           0.0  ",
      "text/html": "<div>\n<style scoped>\n    .dataframe tbody tr th:only-of-type {\n        vertical-align: middle;\n    }\n\n    .dataframe tbody tr th {\n        vertical-align: top;\n    }\n\n    .dataframe thead th {\n        text-align: right;\n    }\n</style>\n<table border=\"1\" class=\"dataframe\">\n  <thead>\n    <tr style=\"text-align: right;\">\n      <th></th>\n      <th>Data_Hora</th>\n      <th>Local</th>\n      <th>UmidadeRelativa</th>\n      <th>PressaoAtmosferica</th>\n      <th>TemperaturaDoAr</th>\n      <th>TemperaturaInterna</th>\n      <th>PontoDeOrvalho</th>\n      <th>SensacaoTermica</th>\n      <th>RadiacaoSolar</th>\n      <th>DirecaoDoVento</th>\n      <th>VelocidadeDoVento</th>\n      <th>Precipitacao</th>\n    </tr>\n  </thead>\n  <tbody>\n    <tr>\n      <th>106838</th>\n      <td>2011-01-01 00:00:00</td>\n      <td>Camilopolis</td>\n      <td>79.300000</td>\n      <td>917.9</td>\n      <td>20.2</td>\n      <td>22.9</td>\n      <td>16.300000</td>\n      <td>18.800000</td>\n      <td>128.0</td>\n      <td>77.00000</td>\n      <td>7.900000</td>\n      <td>0.0</td>\n    </tr>\n    <tr>\n      <th>106838</th>\n      <td>2011-01-01 00:00:00</td>\n      <td>Erasmo</td>\n      <td>79.100000</td>\n      <td>919.5</td>\n      <td>20.1</td>\n      <td>23.7</td>\n      <td>16.300000</td>\n      <td>0.000000</td>\n      <td>0.0</td>\n      <td>133.00000</td>\n      <td>4.400000</td>\n      <td>0.0</td>\n    </tr>\n    <tr>\n      <th>106838</th>\n      <td>2011-01-01 00:00:00</td>\n      <td>Vitoria</td>\n      <td>76.818108</td>\n      <td>919.6</td>\n      <td>20.7</td>\n      <td>26.4</td>\n      <td>18.755472</td>\n      <td>19.681828</td>\n      <td>0.0</td>\n      <td>139.04718</td>\n      <td>7.891948</td>\n      <td>0.0</td>\n    </tr>\n    <tr>\n      <th>106838</th>\n      <td>2011-01-01 00:00:00</td>\n      <td>RM</td>\n      <td>78.400000</td>\n      <td>925.6</td>\n      <td>21.1</td>\n      <td>25.1</td>\n      <td>17.000000</td>\n      <td>21.000000</td>\n      <td>202.0</td>\n      <td>148.00000</td>\n      <td>5.800000</td>\n      <td>0.0</td>\n    </tr>\n    <tr>\n      <th>106838</th>\n      <td>2011-01-01 00:00:00</td>\n      <td>Paraiso</td>\n      <td>85.080925</td>\n      <td>918.1</td>\n      <td>20.7</td>\n      <td>24.4</td>\n      <td>17.827150</td>\n      <td>18.400000</td>\n      <td>209.0</td>\n      <td>184.00000</td>\n      <td>14.000000</td>\n      <td>0.0</td>\n    </tr>\n  </tbody>\n</table>\n</div>"
     },
     "metadata": {},
     "execution_count": 82
    }
   ],
   "source": [
    "df_grouped = reverse_ohe(df_ungrouped, features, ignoredFeatures, 5, '_')\n",
    "df_grouped.head()"
   ]
  },
  {
   "cell_type": "code",
   "execution_count": 83,
   "metadata": {},
   "outputs": [],
   "source": [
    "df_grouped['Data_Hora'] = pd.to_datetime(df_grouped['Data_Hora'])"
   ]
  },
  {
   "cell_type": "code",
   "execution_count": 84,
   "metadata": {},
   "outputs": [],
   "source": [
    "df_cluster = df_grouped[['Data_Hora', 'Local', 'Precipitacao', 'UmidadeRelativa', 'RadiacaoSolar']].copy()"
   ]
  },
  {
   "cell_type": "code",
   "execution_count": 85,
   "metadata": {},
   "outputs": [
    {
     "output_type": "execute_result",
     "data": {
      "text/plain": "Data_Hora              0\nLocal              11435\nPrecipitacao       11435\nUmidadeRelativa    11186\nRadiacaoSolar      10190\ndtype: int64"
     },
     "metadata": {},
     "execution_count": 85
    }
   ],
   "source": [
    "df_cluster.isna().sum()"
   ]
  },
  {
   "cell_type": "code",
   "execution_count": 86,
   "metadata": {},
   "outputs": [],
   "source": [
    "df_cluster.dropna(inplace=True)"
   ]
  },
  {
   "cell_type": "code",
   "execution_count": 87,
   "metadata": {},
   "outputs": [
    {
     "output_type": "execute_result",
     "data": {
      "text/plain": "Data_Hora          0\nLocal              0\nPrecipitacao       0\nUmidadeRelativa    0\nRadiacaoSolar      0\ndtype: int64"
     },
     "metadata": {},
     "execution_count": 87
    }
   ],
   "source": [
    "df_cluster.isna().sum()"
   ]
  },
  {
   "cell_type": "code",
   "execution_count": 88,
   "metadata": {},
   "outputs": [],
   "source": [
    "df_cluster['Ano'] = df_cluster['Data_Hora'].dt.year\n",
    "df_cluster['Mes'] = df_cluster['Data_Hora'].dt.month\n",
    "df_cluster['Dia'] = df_cluster['Data_Hora'].dt.day"
   ]
  },
  {
   "cell_type": "code",
   "execution_count": 89,
   "metadata": {},
   "outputs": [],
   "source": [
    "#df_cluster['Local'] = df_cluster['Local'].rank(method='dense', ascending=False).astype(int)"
   ]
  },
  {
   "cell_type": "code",
   "execution_count": 90,
   "metadata": {},
   "outputs": [],
   "source": [
    "df_cluster = df_cluster.groupby(['Local', 'Ano', 'Mes', 'Dia']).sum().reset_index()"
   ]
  },
  {
   "cell_type": "code",
   "execution_count": 91,
   "metadata": {},
   "outputs": [],
   "source": [
    "sc = MinMaxScaler(feature_range=(0,1))\n",
    "df_norm = sc.fit_transform(df_cluster[['Precipitacao', 'UmidadeRelativa', 'RadiacaoSolar']])\n",
    "df_norm"
   ]
  },
  {
   "cell_type": "code",
   "execution_count": 93,
   "metadata": {},
   "outputs": [],
   "source": [
    "cluster = KMeans(n_clusters=4, random_state=42).fit(df_norm)"
   ]
  },
  {
   "cell_type": "code",
   "execution_count": 94,
   "metadata": {},
   "outputs": [
    {
     "output_type": "display_data",
     "data": {
      "text/plain": "<Figure size 432x288 with 1 Axes>",
      "image/svg+xml": "<?xml version=\"1.0\" encoding=\"utf-8\" standalone=\"no\"?>\r\n<!DOCTYPE svg PUBLIC \"-//W3C//DTD SVG 1.1//EN\"\r\n  \"http://www.w3.org/Graphics/SVG/1.1/DTD/svg11.dtd\">\r\n<!-- Created with matplotlib (https://matplotlib.org/) -->\r\n<svg height=\"262.19625pt\" version=\"1.1\" viewBox=\"0 0 395.328125 262.19625\" width=\"395.328125pt\" xmlns=\"http://www.w3.org/2000/svg\" xmlns:xlink=\"http://www.w3.org/1999/xlink\">\r\n <defs>\r\n  <style type=\"text/css\">\r\n*{stroke-linecap:butt;stroke-linejoin:round;}\r\n  </style>\r\n </defs>\r\n <g id=\"figure_1\">\r\n  <g id=\"patch_1\">\r\n   <path d=\"M 0 262.19625 \r\nL 395.328125 262.19625 \r\nL 395.328125 0 \r\nL 0 0 \r\nz\r\n\" style=\"fill:none;\"/>\r\n  </g>\r\n  <g id=\"axes_1\">\r\n   <g id=\"patch_2\">\r\n    <path d=\"M 53.328125 224.64 \r\nL 388.128125 224.64 \r\nL 388.128125 7.2 \r\nL 53.328125 7.2 \r\nz\r\n\" style=\"fill:#ffffff;\"/>\r\n   </g>\r\n   <g id=\"matplotlib.axis_1\">\r\n    <g id=\"xtick_1\">\r\n     <g id=\"line2d_1\">\r\n      <defs>\r\n       <path d=\"M 0 0 \r\nL 0 3.5 \r\n\" id=\"mf2f376c3aa\" style=\"stroke:#000000;stroke-width:0.8;\"/>\r\n      </defs>\r\n      <g>\r\n       <use style=\"stroke:#000000;stroke-width:0.8;\" x=\"68.546307\" xlink:href=\"#mf2f376c3aa\" y=\"224.64\"/>\r\n      </g>\r\n     </g>\r\n     <g id=\"text_1\">\r\n      <!-- 1 -->\r\n      <defs>\r\n       <path d=\"M 12.40625 8.296875 \r\nL 28.515625 8.296875 \r\nL 28.515625 63.921875 \r\nL 10.984375 60.40625 \r\nL 10.984375 69.390625 \r\nL 28.421875 72.90625 \r\nL 38.28125 72.90625 \r\nL 38.28125 8.296875 \r\nL 54.390625 8.296875 \r\nL 54.390625 0 \r\nL 12.40625 0 \r\nz\r\n\" id=\"DejaVuSans-49\"/>\r\n      </defs>\r\n      <g transform=\"translate(65.365057 239.238438)scale(0.1 -0.1)\">\r\n       <use xlink:href=\"#DejaVuSans-49\"/>\r\n      </g>\r\n     </g>\r\n    </g>\r\n    <g id=\"xtick_2\">\r\n     <g id=\"line2d_2\">\r\n      <g>\r\n       <use style=\"stroke:#000000;stroke-width:0.8;\" x=\"106.591761\" xlink:href=\"#mf2f376c3aa\" y=\"224.64\"/>\r\n      </g>\r\n     </g>\r\n     <g id=\"text_2\">\r\n      <!-- 2 -->\r\n      <defs>\r\n       <path d=\"M 19.1875 8.296875 \r\nL 53.609375 8.296875 \r\nL 53.609375 0 \r\nL 7.328125 0 \r\nL 7.328125 8.296875 \r\nQ 12.9375 14.109375 22.625 23.890625 \r\nQ 32.328125 33.6875 34.8125 36.53125 \r\nQ 39.546875 41.84375 41.421875 45.53125 \r\nQ 43.3125 49.21875 43.3125 52.78125 \r\nQ 43.3125 58.59375 39.234375 62.25 \r\nQ 35.15625 65.921875 28.609375 65.921875 \r\nQ 23.96875 65.921875 18.8125 64.3125 \r\nQ 13.671875 62.703125 7.8125 59.421875 \r\nL 7.8125 69.390625 \r\nQ 13.765625 71.78125 18.9375 73 \r\nQ 24.125 74.21875 28.421875 74.21875 \r\nQ 39.75 74.21875 46.484375 68.546875 \r\nQ 53.21875 62.890625 53.21875 53.421875 \r\nQ 53.21875 48.921875 51.53125 44.890625 \r\nQ 49.859375 40.875 45.40625 35.40625 \r\nQ 44.1875 33.984375 37.640625 27.21875 \r\nQ 31.109375 20.453125 19.1875 8.296875 \r\nz\r\n\" id=\"DejaVuSans-50\"/>\r\n      </defs>\r\n      <g transform=\"translate(103.410511 239.238438)scale(0.1 -0.1)\">\r\n       <use xlink:href=\"#DejaVuSans-50\"/>\r\n      </g>\r\n     </g>\r\n    </g>\r\n    <g id=\"xtick_3\">\r\n     <g id=\"line2d_3\">\r\n      <g>\r\n       <use style=\"stroke:#000000;stroke-width:0.8;\" x=\"144.637216\" xlink:href=\"#mf2f376c3aa\" y=\"224.64\"/>\r\n      </g>\r\n     </g>\r\n     <g id=\"text_3\">\r\n      <!-- 3 -->\r\n      <defs>\r\n       <path d=\"M 40.578125 39.3125 \r\nQ 47.65625 37.796875 51.625 33 \r\nQ 55.609375 28.21875 55.609375 21.1875 \r\nQ 55.609375 10.40625 48.1875 4.484375 \r\nQ 40.765625 -1.421875 27.09375 -1.421875 \r\nQ 22.515625 -1.421875 17.65625 -0.515625 \r\nQ 12.796875 0.390625 7.625 2.203125 \r\nL 7.625 11.71875 \r\nQ 11.71875 9.328125 16.59375 8.109375 \r\nQ 21.484375 6.890625 26.8125 6.890625 \r\nQ 36.078125 6.890625 40.9375 10.546875 \r\nQ 45.796875 14.203125 45.796875 21.1875 \r\nQ 45.796875 27.640625 41.28125 31.265625 \r\nQ 36.765625 34.90625 28.71875 34.90625 \r\nL 20.21875 34.90625 \r\nL 20.21875 43.015625 \r\nL 29.109375 43.015625 \r\nQ 36.375 43.015625 40.234375 45.921875 \r\nQ 44.09375 48.828125 44.09375 54.296875 \r\nQ 44.09375 59.90625 40.109375 62.90625 \r\nQ 36.140625 65.921875 28.71875 65.921875 \r\nQ 24.65625 65.921875 20.015625 65.03125 \r\nQ 15.375 64.15625 9.8125 62.3125 \r\nL 9.8125 71.09375 \r\nQ 15.4375 72.65625 20.34375 73.4375 \r\nQ 25.25 74.21875 29.59375 74.21875 \r\nQ 40.828125 74.21875 47.359375 69.109375 \r\nQ 53.90625 64.015625 53.90625 55.328125 \r\nQ 53.90625 49.265625 50.4375 45.09375 \r\nQ 46.96875 40.921875 40.578125 39.3125 \r\nz\r\n\" id=\"DejaVuSans-51\"/>\r\n      </defs>\r\n      <g transform=\"translate(141.455966 239.238438)scale(0.1 -0.1)\">\r\n       <use xlink:href=\"#DejaVuSans-51\"/>\r\n      </g>\r\n     </g>\r\n    </g>\r\n    <g id=\"xtick_4\">\r\n     <g id=\"line2d_4\">\r\n      <g>\r\n       <use style=\"stroke:#000000;stroke-width:0.8;\" x=\"182.68267\" xlink:href=\"#mf2f376c3aa\" y=\"224.64\"/>\r\n      </g>\r\n     </g>\r\n     <g id=\"text_4\">\r\n      <!-- 4 -->\r\n      <defs>\r\n       <path d=\"M 37.796875 64.3125 \r\nL 12.890625 25.390625 \r\nL 37.796875 25.390625 \r\nz\r\nM 35.203125 72.90625 \r\nL 47.609375 72.90625 \r\nL 47.609375 25.390625 \r\nL 58.015625 25.390625 \r\nL 58.015625 17.1875 \r\nL 47.609375 17.1875 \r\nL 47.609375 0 \r\nL 37.796875 0 \r\nL 37.796875 17.1875 \r\nL 4.890625 17.1875 \r\nL 4.890625 26.703125 \r\nz\r\n\" id=\"DejaVuSans-52\"/>\r\n      </defs>\r\n      <g transform=\"translate(179.50142 239.238438)scale(0.1 -0.1)\">\r\n       <use xlink:href=\"#DejaVuSans-52\"/>\r\n      </g>\r\n     </g>\r\n    </g>\r\n    <g id=\"xtick_5\">\r\n     <g id=\"line2d_5\">\r\n      <g>\r\n       <use style=\"stroke:#000000;stroke-width:0.8;\" x=\"220.728125\" xlink:href=\"#mf2f376c3aa\" y=\"224.64\"/>\r\n      </g>\r\n     </g>\r\n     <g id=\"text_5\">\r\n      <!-- 5 -->\r\n      <defs>\r\n       <path d=\"M 10.796875 72.90625 \r\nL 49.515625 72.90625 \r\nL 49.515625 64.59375 \r\nL 19.828125 64.59375 \r\nL 19.828125 46.734375 \r\nQ 21.96875 47.46875 24.109375 47.828125 \r\nQ 26.265625 48.1875 28.421875 48.1875 \r\nQ 40.625 48.1875 47.75 41.5 \r\nQ 54.890625 34.8125 54.890625 23.390625 \r\nQ 54.890625 11.625 47.5625 5.09375 \r\nQ 40.234375 -1.421875 26.90625 -1.421875 \r\nQ 22.3125 -1.421875 17.546875 -0.640625 \r\nQ 12.796875 0.140625 7.71875 1.703125 \r\nL 7.71875 11.625 \r\nQ 12.109375 9.234375 16.796875 8.0625 \r\nQ 21.484375 6.890625 26.703125 6.890625 \r\nQ 35.15625 6.890625 40.078125 11.328125 \r\nQ 45.015625 15.765625 45.015625 23.390625 \r\nQ 45.015625 31 40.078125 35.4375 \r\nQ 35.15625 39.890625 26.703125 39.890625 \r\nQ 22.75 39.890625 18.8125 39.015625 \r\nQ 14.890625 38.140625 10.796875 36.28125 \r\nz\r\n\" id=\"DejaVuSans-53\"/>\r\n      </defs>\r\n      <g transform=\"translate(217.546875 239.238438)scale(0.1 -0.1)\">\r\n       <use xlink:href=\"#DejaVuSans-53\"/>\r\n      </g>\r\n     </g>\r\n    </g>\r\n    <g id=\"xtick_6\">\r\n     <g id=\"line2d_6\">\r\n      <g>\r\n       <use style=\"stroke:#000000;stroke-width:0.8;\" x=\"258.77358\" xlink:href=\"#mf2f376c3aa\" y=\"224.64\"/>\r\n      </g>\r\n     </g>\r\n     <g id=\"text_6\">\r\n      <!-- 6 -->\r\n      <defs>\r\n       <path d=\"M 33.015625 40.375 \r\nQ 26.375 40.375 22.484375 35.828125 \r\nQ 18.609375 31.296875 18.609375 23.390625 \r\nQ 18.609375 15.53125 22.484375 10.953125 \r\nQ 26.375 6.390625 33.015625 6.390625 \r\nQ 39.65625 6.390625 43.53125 10.953125 \r\nQ 47.40625 15.53125 47.40625 23.390625 \r\nQ 47.40625 31.296875 43.53125 35.828125 \r\nQ 39.65625 40.375 33.015625 40.375 \r\nz\r\nM 52.59375 71.296875 \r\nL 52.59375 62.3125 \r\nQ 48.875 64.0625 45.09375 64.984375 \r\nQ 41.3125 65.921875 37.59375 65.921875 \r\nQ 27.828125 65.921875 22.671875 59.328125 \r\nQ 17.53125 52.734375 16.796875 39.40625 \r\nQ 19.671875 43.65625 24.015625 45.921875 \r\nQ 28.375 48.1875 33.59375 48.1875 \r\nQ 44.578125 48.1875 50.953125 41.515625 \r\nQ 57.328125 34.859375 57.328125 23.390625 \r\nQ 57.328125 12.15625 50.6875 5.359375 \r\nQ 44.046875 -1.421875 33.015625 -1.421875 \r\nQ 20.359375 -1.421875 13.671875 8.265625 \r\nQ 6.984375 17.96875 6.984375 36.375 \r\nQ 6.984375 53.65625 15.1875 63.9375 \r\nQ 23.390625 74.21875 37.203125 74.21875 \r\nQ 40.921875 74.21875 44.703125 73.484375 \r\nQ 48.484375 72.75 52.59375 71.296875 \r\nz\r\n\" id=\"DejaVuSans-54\"/>\r\n      </defs>\r\n      <g transform=\"translate(255.59233 239.238438)scale(0.1 -0.1)\">\r\n       <use xlink:href=\"#DejaVuSans-54\"/>\r\n      </g>\r\n     </g>\r\n    </g>\r\n    <g id=\"xtick_7\">\r\n     <g id=\"line2d_7\">\r\n      <g>\r\n       <use style=\"stroke:#000000;stroke-width:0.8;\" x=\"296.819034\" xlink:href=\"#mf2f376c3aa\" y=\"224.64\"/>\r\n      </g>\r\n     </g>\r\n     <g id=\"text_7\">\r\n      <!-- 7 -->\r\n      <defs>\r\n       <path d=\"M 8.203125 72.90625 \r\nL 55.078125 72.90625 \r\nL 55.078125 68.703125 \r\nL 28.609375 0 \r\nL 18.3125 0 \r\nL 43.21875 64.59375 \r\nL 8.203125 64.59375 \r\nz\r\n\" id=\"DejaVuSans-55\"/>\r\n      </defs>\r\n      <g transform=\"translate(293.637784 239.238438)scale(0.1 -0.1)\">\r\n       <use xlink:href=\"#DejaVuSans-55\"/>\r\n      </g>\r\n     </g>\r\n    </g>\r\n    <g id=\"xtick_8\">\r\n     <g id=\"line2d_8\">\r\n      <g>\r\n       <use style=\"stroke:#000000;stroke-width:0.8;\" x=\"334.864489\" xlink:href=\"#mf2f376c3aa\" y=\"224.64\"/>\r\n      </g>\r\n     </g>\r\n     <g id=\"text_8\">\r\n      <!-- 8 -->\r\n      <defs>\r\n       <path d=\"M 31.78125 34.625 \r\nQ 24.75 34.625 20.71875 30.859375 \r\nQ 16.703125 27.09375 16.703125 20.515625 \r\nQ 16.703125 13.921875 20.71875 10.15625 \r\nQ 24.75 6.390625 31.78125 6.390625 \r\nQ 38.8125 6.390625 42.859375 10.171875 \r\nQ 46.921875 13.96875 46.921875 20.515625 \r\nQ 46.921875 27.09375 42.890625 30.859375 \r\nQ 38.875 34.625 31.78125 34.625 \r\nz\r\nM 21.921875 38.8125 \r\nQ 15.578125 40.375 12.03125 44.71875 \r\nQ 8.5 49.078125 8.5 55.328125 \r\nQ 8.5 64.0625 14.71875 69.140625 \r\nQ 20.953125 74.21875 31.78125 74.21875 \r\nQ 42.671875 74.21875 48.875 69.140625 \r\nQ 55.078125 64.0625 55.078125 55.328125 \r\nQ 55.078125 49.078125 51.53125 44.71875 \r\nQ 48 40.375 41.703125 38.8125 \r\nQ 48.828125 37.15625 52.796875 32.3125 \r\nQ 56.78125 27.484375 56.78125 20.515625 \r\nQ 56.78125 9.90625 50.3125 4.234375 \r\nQ 43.84375 -1.421875 31.78125 -1.421875 \r\nQ 19.734375 -1.421875 13.25 4.234375 \r\nQ 6.78125 9.90625 6.78125 20.515625 \r\nQ 6.78125 27.484375 10.78125 32.3125 \r\nQ 14.796875 37.15625 21.921875 38.8125 \r\nz\r\nM 18.3125 54.390625 \r\nQ 18.3125 48.734375 21.84375 45.5625 \r\nQ 25.390625 42.390625 31.78125 42.390625 \r\nQ 38.140625 42.390625 41.71875 45.5625 \r\nQ 45.3125 48.734375 45.3125 54.390625 \r\nQ 45.3125 60.0625 41.71875 63.234375 \r\nQ 38.140625 66.40625 31.78125 66.40625 \r\nQ 25.390625 66.40625 21.84375 63.234375 \r\nQ 18.3125 60.0625 18.3125 54.390625 \r\nz\r\n\" id=\"DejaVuSans-56\"/>\r\n      </defs>\r\n      <g transform=\"translate(331.683239 239.238438)scale(0.1 -0.1)\">\r\n       <use xlink:href=\"#DejaVuSans-56\"/>\r\n      </g>\r\n     </g>\r\n    </g>\r\n    <g id=\"xtick_9\">\r\n     <g id=\"line2d_9\">\r\n      <g>\r\n       <use style=\"stroke:#000000;stroke-width:0.8;\" x=\"372.909943\" xlink:href=\"#mf2f376c3aa\" y=\"224.64\"/>\r\n      </g>\r\n     </g>\r\n     <g id=\"text_9\">\r\n      <!-- 9 -->\r\n      <defs>\r\n       <path d=\"M 10.984375 1.515625 \r\nL 10.984375 10.5 \r\nQ 14.703125 8.734375 18.5 7.8125 \r\nQ 22.3125 6.890625 25.984375 6.890625 \r\nQ 35.75 6.890625 40.890625 13.453125 \r\nQ 46.046875 20.015625 46.78125 33.40625 \r\nQ 43.953125 29.203125 39.59375 26.953125 \r\nQ 35.25 24.703125 29.984375 24.703125 \r\nQ 19.046875 24.703125 12.671875 31.3125 \r\nQ 6.296875 37.9375 6.296875 49.421875 \r\nQ 6.296875 60.640625 12.9375 67.421875 \r\nQ 19.578125 74.21875 30.609375 74.21875 \r\nQ 43.265625 74.21875 49.921875 64.515625 \r\nQ 56.59375 54.828125 56.59375 36.375 \r\nQ 56.59375 19.140625 48.40625 8.859375 \r\nQ 40.234375 -1.421875 26.421875 -1.421875 \r\nQ 22.703125 -1.421875 18.890625 -0.6875 \r\nQ 15.09375 0.046875 10.984375 1.515625 \r\nz\r\nM 30.609375 32.421875 \r\nQ 37.25 32.421875 41.125 36.953125 \r\nQ 45.015625 41.5 45.015625 49.421875 \r\nQ 45.015625 57.28125 41.125 61.84375 \r\nQ 37.25 66.40625 30.609375 66.40625 \r\nQ 23.96875 66.40625 20.09375 61.84375 \r\nQ 16.21875 57.28125 16.21875 49.421875 \r\nQ 16.21875 41.5 20.09375 36.953125 \r\nQ 23.96875 32.421875 30.609375 32.421875 \r\nz\r\n\" id=\"DejaVuSans-57\"/>\r\n      </defs>\r\n      <g transform=\"translate(369.728693 239.238438)scale(0.1 -0.1)\">\r\n       <use xlink:href=\"#DejaVuSans-57\"/>\r\n      </g>\r\n     </g>\r\n    </g>\r\n    <g id=\"text_10\">\r\n     <!-- number of clusters, k -->\r\n     <defs>\r\n      <path d=\"M 54.890625 33.015625 \r\nL 54.890625 0 \r\nL 45.90625 0 \r\nL 45.90625 32.71875 \r\nQ 45.90625 40.484375 42.875 44.328125 \r\nQ 39.84375 48.1875 33.796875 48.1875 \r\nQ 26.515625 48.1875 22.3125 43.546875 \r\nQ 18.109375 38.921875 18.109375 30.90625 \r\nL 18.109375 0 \r\nL 9.078125 0 \r\nL 9.078125 54.6875 \r\nL 18.109375 54.6875 \r\nL 18.109375 46.1875 \r\nQ 21.34375 51.125 25.703125 53.5625 \r\nQ 30.078125 56 35.796875 56 \r\nQ 45.21875 56 50.046875 50.171875 \r\nQ 54.890625 44.34375 54.890625 33.015625 \r\nz\r\n\" id=\"DejaVuSans-110\"/>\r\n      <path d=\"M 8.5 21.578125 \r\nL 8.5 54.6875 \r\nL 17.484375 54.6875 \r\nL 17.484375 21.921875 \r\nQ 17.484375 14.15625 20.5 10.265625 \r\nQ 23.53125 6.390625 29.59375 6.390625 \r\nQ 36.859375 6.390625 41.078125 11.03125 \r\nQ 45.3125 15.671875 45.3125 23.6875 \r\nL 45.3125 54.6875 \r\nL 54.296875 54.6875 \r\nL 54.296875 0 \r\nL 45.3125 0 \r\nL 45.3125 8.40625 \r\nQ 42.046875 3.421875 37.71875 1 \r\nQ 33.40625 -1.421875 27.6875 -1.421875 \r\nQ 18.265625 -1.421875 13.375 4.4375 \r\nQ 8.5 10.296875 8.5 21.578125 \r\nz\r\nM 31.109375 56 \r\nz\r\n\" id=\"DejaVuSans-117\"/>\r\n      <path d=\"M 52 44.1875 \r\nQ 55.375 50.25 60.0625 53.125 \r\nQ 64.75 56 71.09375 56 \r\nQ 79.640625 56 84.28125 50.015625 \r\nQ 88.921875 44.046875 88.921875 33.015625 \r\nL 88.921875 0 \r\nL 79.890625 0 \r\nL 79.890625 32.71875 \r\nQ 79.890625 40.578125 77.09375 44.375 \r\nQ 74.3125 48.1875 68.609375 48.1875 \r\nQ 61.625 48.1875 57.5625 43.546875 \r\nQ 53.515625 38.921875 53.515625 30.90625 \r\nL 53.515625 0 \r\nL 44.484375 0 \r\nL 44.484375 32.71875 \r\nQ 44.484375 40.625 41.703125 44.40625 \r\nQ 38.921875 48.1875 33.109375 48.1875 \r\nQ 26.21875 48.1875 22.15625 43.53125 \r\nQ 18.109375 38.875 18.109375 30.90625 \r\nL 18.109375 0 \r\nL 9.078125 0 \r\nL 9.078125 54.6875 \r\nL 18.109375 54.6875 \r\nL 18.109375 46.1875 \r\nQ 21.1875 51.21875 25.484375 53.609375 \r\nQ 29.78125 56 35.6875 56 \r\nQ 41.65625 56 45.828125 52.96875 \r\nQ 50 49.953125 52 44.1875 \r\nz\r\n\" id=\"DejaVuSans-109\"/>\r\n      <path d=\"M 48.6875 27.296875 \r\nQ 48.6875 37.203125 44.609375 42.84375 \r\nQ 40.53125 48.484375 33.40625 48.484375 \r\nQ 26.265625 48.484375 22.1875 42.84375 \r\nQ 18.109375 37.203125 18.109375 27.296875 \r\nQ 18.109375 17.390625 22.1875 11.75 \r\nQ 26.265625 6.109375 33.40625 6.109375 \r\nQ 40.53125 6.109375 44.609375 11.75 \r\nQ 48.6875 17.390625 48.6875 27.296875 \r\nz\r\nM 18.109375 46.390625 \r\nQ 20.953125 51.265625 25.265625 53.625 \r\nQ 29.59375 56 35.59375 56 \r\nQ 45.5625 56 51.78125 48.09375 \r\nQ 58.015625 40.1875 58.015625 27.296875 \r\nQ 58.015625 14.40625 51.78125 6.484375 \r\nQ 45.5625 -1.421875 35.59375 -1.421875 \r\nQ 29.59375 -1.421875 25.265625 0.953125 \r\nQ 20.953125 3.328125 18.109375 8.203125 \r\nL 18.109375 0 \r\nL 9.078125 0 \r\nL 9.078125 75.984375 \r\nL 18.109375 75.984375 \r\nz\r\n\" id=\"DejaVuSans-98\"/>\r\n      <path d=\"M 56.203125 29.59375 \r\nL 56.203125 25.203125 \r\nL 14.890625 25.203125 \r\nQ 15.484375 15.921875 20.484375 11.0625 \r\nQ 25.484375 6.203125 34.421875 6.203125 \r\nQ 39.59375 6.203125 44.453125 7.46875 \r\nQ 49.3125 8.734375 54.109375 11.28125 \r\nL 54.109375 2.78125 \r\nQ 49.265625 0.734375 44.1875 -0.34375 \r\nQ 39.109375 -1.421875 33.890625 -1.421875 \r\nQ 20.796875 -1.421875 13.15625 6.1875 \r\nQ 5.515625 13.8125 5.515625 26.8125 \r\nQ 5.515625 40.234375 12.765625 48.109375 \r\nQ 20.015625 56 32.328125 56 \r\nQ 43.359375 56 49.78125 48.890625 \r\nQ 56.203125 41.796875 56.203125 29.59375 \r\nz\r\nM 47.21875 32.234375 \r\nQ 47.125 39.59375 43.09375 43.984375 \r\nQ 39.0625 48.390625 32.421875 48.390625 \r\nQ 24.90625 48.390625 20.390625 44.140625 \r\nQ 15.875 39.890625 15.1875 32.171875 \r\nz\r\n\" id=\"DejaVuSans-101\"/>\r\n      <path d=\"M 41.109375 46.296875 \r\nQ 39.59375 47.171875 37.8125 47.578125 \r\nQ 36.03125 48 33.890625 48 \r\nQ 26.265625 48 22.1875 43.046875 \r\nQ 18.109375 38.09375 18.109375 28.8125 \r\nL 18.109375 0 \r\nL 9.078125 0 \r\nL 9.078125 54.6875 \r\nL 18.109375 54.6875 \r\nL 18.109375 46.1875 \r\nQ 20.953125 51.171875 25.484375 53.578125 \r\nQ 30.03125 56 36.53125 56 \r\nQ 37.453125 56 38.578125 55.875 \r\nQ 39.703125 55.765625 41.0625 55.515625 \r\nz\r\n\" id=\"DejaVuSans-114\"/>\r\n      <path id=\"DejaVuSans-32\"/>\r\n      <path d=\"M 30.609375 48.390625 \r\nQ 23.390625 48.390625 19.1875 42.75 \r\nQ 14.984375 37.109375 14.984375 27.296875 \r\nQ 14.984375 17.484375 19.15625 11.84375 \r\nQ 23.34375 6.203125 30.609375 6.203125 \r\nQ 37.796875 6.203125 41.984375 11.859375 \r\nQ 46.1875 17.53125 46.1875 27.296875 \r\nQ 46.1875 37.015625 41.984375 42.703125 \r\nQ 37.796875 48.390625 30.609375 48.390625 \r\nz\r\nM 30.609375 56 \r\nQ 42.328125 56 49.015625 48.375 \r\nQ 55.71875 40.765625 55.71875 27.296875 \r\nQ 55.71875 13.875 49.015625 6.21875 \r\nQ 42.328125 -1.421875 30.609375 -1.421875 \r\nQ 18.84375 -1.421875 12.171875 6.21875 \r\nQ 5.515625 13.875 5.515625 27.296875 \r\nQ 5.515625 40.765625 12.171875 48.375 \r\nQ 18.84375 56 30.609375 56 \r\nz\r\n\" id=\"DejaVuSans-111\"/>\r\n      <path d=\"M 37.109375 75.984375 \r\nL 37.109375 68.5 \r\nL 28.515625 68.5 \r\nQ 23.6875 68.5 21.796875 66.546875 \r\nQ 19.921875 64.59375 19.921875 59.515625 \r\nL 19.921875 54.6875 \r\nL 34.71875 54.6875 \r\nL 34.71875 47.703125 \r\nL 19.921875 47.703125 \r\nL 19.921875 0 \r\nL 10.890625 0 \r\nL 10.890625 47.703125 \r\nL 2.296875 47.703125 \r\nL 2.296875 54.6875 \r\nL 10.890625 54.6875 \r\nL 10.890625 58.5 \r\nQ 10.890625 67.625 15.140625 71.796875 \r\nQ 19.390625 75.984375 28.609375 75.984375 \r\nz\r\n\" id=\"DejaVuSans-102\"/>\r\n      <path d=\"M 48.78125 52.59375 \r\nL 48.78125 44.1875 \r\nQ 44.96875 46.296875 41.140625 47.34375 \r\nQ 37.3125 48.390625 33.40625 48.390625 \r\nQ 24.65625 48.390625 19.8125 42.84375 \r\nQ 14.984375 37.3125 14.984375 27.296875 \r\nQ 14.984375 17.28125 19.8125 11.734375 \r\nQ 24.65625 6.203125 33.40625 6.203125 \r\nQ 37.3125 6.203125 41.140625 7.25 \r\nQ 44.96875 8.296875 48.78125 10.40625 \r\nL 48.78125 2.09375 \r\nQ 45.015625 0.34375 40.984375 -0.53125 \r\nQ 36.96875 -1.421875 32.421875 -1.421875 \r\nQ 20.0625 -1.421875 12.78125 6.34375 \r\nQ 5.515625 14.109375 5.515625 27.296875 \r\nQ 5.515625 40.671875 12.859375 48.328125 \r\nQ 20.21875 56 33.015625 56 \r\nQ 37.15625 56 41.109375 55.140625 \r\nQ 45.0625 54.296875 48.78125 52.59375 \r\nz\r\n\" id=\"DejaVuSans-99\"/>\r\n      <path d=\"M 9.421875 75.984375 \r\nL 18.40625 75.984375 \r\nL 18.40625 0 \r\nL 9.421875 0 \r\nz\r\n\" id=\"DejaVuSans-108\"/>\r\n      <path d=\"M 44.28125 53.078125 \r\nL 44.28125 44.578125 \r\nQ 40.484375 46.53125 36.375 47.5 \r\nQ 32.28125 48.484375 27.875 48.484375 \r\nQ 21.1875 48.484375 17.84375 46.4375 \r\nQ 14.5 44.390625 14.5 40.28125 \r\nQ 14.5 37.15625 16.890625 35.375 \r\nQ 19.28125 33.59375 26.515625 31.984375 \r\nL 29.59375 31.296875 \r\nQ 39.15625 29.25 43.1875 25.515625 \r\nQ 47.21875 21.78125 47.21875 15.09375 \r\nQ 47.21875 7.46875 41.1875 3.015625 \r\nQ 35.15625 -1.421875 24.609375 -1.421875 \r\nQ 20.21875 -1.421875 15.453125 -0.5625 \r\nQ 10.6875 0.296875 5.421875 2 \r\nL 5.421875 11.28125 \r\nQ 10.40625 8.6875 15.234375 7.390625 \r\nQ 20.0625 6.109375 24.8125 6.109375 \r\nQ 31.15625 6.109375 34.5625 8.28125 \r\nQ 37.984375 10.453125 37.984375 14.40625 \r\nQ 37.984375 18.0625 35.515625 20.015625 \r\nQ 33.0625 21.96875 24.703125 23.78125 \r\nL 21.578125 24.515625 \r\nQ 13.234375 26.265625 9.515625 29.90625 \r\nQ 5.8125 33.546875 5.8125 39.890625 \r\nQ 5.8125 47.609375 11.28125 51.796875 \r\nQ 16.75 56 26.8125 56 \r\nQ 31.78125 56 36.171875 55.265625 \r\nQ 40.578125 54.546875 44.28125 53.078125 \r\nz\r\n\" id=\"DejaVuSans-115\"/>\r\n      <path d=\"M 18.3125 70.21875 \r\nL 18.3125 54.6875 \r\nL 36.8125 54.6875 \r\nL 36.8125 47.703125 \r\nL 18.3125 47.703125 \r\nL 18.3125 18.015625 \r\nQ 18.3125 11.328125 20.140625 9.421875 \r\nQ 21.96875 7.515625 27.59375 7.515625 \r\nL 36.8125 7.515625 \r\nL 36.8125 0 \r\nL 27.59375 0 \r\nQ 17.1875 0 13.234375 3.875 \r\nQ 9.28125 7.765625 9.28125 18.015625 \r\nL 9.28125 47.703125 \r\nL 2.6875 47.703125 \r\nL 2.6875 54.6875 \r\nL 9.28125 54.6875 \r\nL 9.28125 70.21875 \r\nz\r\n\" id=\"DejaVuSans-116\"/>\r\n      <path d=\"M 11.71875 12.40625 \r\nL 22.015625 12.40625 \r\nL 22.015625 4 \r\nL 14.015625 -11.625 \r\nL 7.71875 -11.625 \r\nL 11.71875 4 \r\nz\r\n\" id=\"DejaVuSans-44\"/>\r\n      <path d=\"M 9.078125 75.984375 \r\nL 18.109375 75.984375 \r\nL 18.109375 31.109375 \r\nL 44.921875 54.6875 \r\nL 56.390625 54.6875 \r\nL 27.390625 29.109375 \r\nL 57.625 0 \r\nL 45.90625 0 \r\nL 18.109375 26.703125 \r\nL 18.109375 0 \r\nL 9.078125 0 \r\nz\r\n\" id=\"DejaVuSans-107\"/>\r\n     </defs>\r\n     <g transform=\"translate(167.534375 252.916563)scale(0.1 -0.1)\">\r\n      <use xlink:href=\"#DejaVuSans-110\"/>\r\n      <use x=\"63.378906\" xlink:href=\"#DejaVuSans-117\"/>\r\n      <use x=\"126.757812\" xlink:href=\"#DejaVuSans-109\"/>\r\n      <use x=\"224.169922\" xlink:href=\"#DejaVuSans-98\"/>\r\n      <use x=\"287.646484\" xlink:href=\"#DejaVuSans-101\"/>\r\n      <use x=\"349.169922\" xlink:href=\"#DejaVuSans-114\"/>\r\n      <use x=\"390.283203\" xlink:href=\"#DejaVuSans-32\"/>\r\n      <use x=\"422.070312\" xlink:href=\"#DejaVuSans-111\"/>\r\n      <use x=\"483.251953\" xlink:href=\"#DejaVuSans-102\"/>\r\n      <use x=\"518.457031\" xlink:href=\"#DejaVuSans-32\"/>\r\n      <use x=\"550.244141\" xlink:href=\"#DejaVuSans-99\"/>\r\n      <use x=\"605.224609\" xlink:href=\"#DejaVuSans-108\"/>\r\n      <use x=\"633.007812\" xlink:href=\"#DejaVuSans-117\"/>\r\n      <use x=\"696.386719\" xlink:href=\"#DejaVuSans-115\"/>\r\n      <use x=\"748.486328\" xlink:href=\"#DejaVuSans-116\"/>\r\n      <use x=\"787.695312\" xlink:href=\"#DejaVuSans-101\"/>\r\n      <use x=\"849.21875\" xlink:href=\"#DejaVuSans-114\"/>\r\n      <use x=\"890.332031\" xlink:href=\"#DejaVuSans-115\"/>\r\n      <use x=\"942.431641\" xlink:href=\"#DejaVuSans-44\"/>\r\n      <use x=\"974.21875\" xlink:href=\"#DejaVuSans-32\"/>\r\n      <use x=\"1006.005859\" xlink:href=\"#DejaVuSans-107\"/>\r\n     </g>\r\n    </g>\r\n   </g>\r\n   <g id=\"matplotlib.axis_2\">\r\n    <g id=\"ytick_1\">\r\n     <g id=\"line2d_10\">\r\n      <defs>\r\n       <path d=\"M 0 0 \r\nL -3.5 0 \r\n\" id=\"mfa425059da\" style=\"stroke:#000000;stroke-width:0.8;\"/>\r\n      </defs>\r\n      <g>\r\n       <use style=\"stroke:#000000;stroke-width:0.8;\" x=\"53.328125\" xlink:href=\"#mfa425059da\" y=\"199.917617\"/>\r\n      </g>\r\n     </g>\r\n     <g id=\"text_11\">\r\n      <!-- 200 -->\r\n      <defs>\r\n       <path d=\"M 31.78125 66.40625 \r\nQ 24.171875 66.40625 20.328125 58.90625 \r\nQ 16.5 51.421875 16.5 36.375 \r\nQ 16.5 21.390625 20.328125 13.890625 \r\nQ 24.171875 6.390625 31.78125 6.390625 \r\nQ 39.453125 6.390625 43.28125 13.890625 \r\nQ 47.125 21.390625 47.125 36.375 \r\nQ 47.125 51.421875 43.28125 58.90625 \r\nQ 39.453125 66.40625 31.78125 66.40625 \r\nz\r\nM 31.78125 74.21875 \r\nQ 44.046875 74.21875 50.515625 64.515625 \r\nQ 56.984375 54.828125 56.984375 36.375 \r\nQ 56.984375 17.96875 50.515625 8.265625 \r\nQ 44.046875 -1.421875 31.78125 -1.421875 \r\nQ 19.53125 -1.421875 13.0625 8.265625 \r\nQ 6.59375 17.96875 6.59375 36.375 \r\nQ 6.59375 54.828125 13.0625 64.515625 \r\nQ 19.53125 74.21875 31.78125 74.21875 \r\nz\r\n\" id=\"DejaVuSans-48\"/>\r\n      </defs>\r\n      <g transform=\"translate(27.240625 203.716836)scale(0.1 -0.1)\">\r\n       <use xlink:href=\"#DejaVuSans-50\"/>\r\n       <use x=\"63.623047\" xlink:href=\"#DejaVuSans-48\"/>\r\n       <use x=\"127.246094\" xlink:href=\"#DejaVuSans-48\"/>\r\n      </g>\r\n     </g>\r\n    </g>\r\n    <g id=\"ytick_2\">\r\n     <g id=\"line2d_11\">\r\n      <g>\r\n       <use style=\"stroke:#000000;stroke-width:0.8;\" x=\"53.328125\" xlink:href=\"#mfa425059da\" y=\"165.351171\"/>\r\n      </g>\r\n     </g>\r\n     <g id=\"text_12\">\r\n      <!-- 400 -->\r\n      <g transform=\"translate(27.240625 169.150389)scale(0.1 -0.1)\">\r\n       <use xlink:href=\"#DejaVuSans-52\"/>\r\n       <use x=\"63.623047\" xlink:href=\"#DejaVuSans-48\"/>\r\n       <use x=\"127.246094\" xlink:href=\"#DejaVuSans-48\"/>\r\n      </g>\r\n     </g>\r\n    </g>\r\n    <g id=\"ytick_3\">\r\n     <g id=\"line2d_12\">\r\n      <g>\r\n       <use style=\"stroke:#000000;stroke-width:0.8;\" x=\"53.328125\" xlink:href=\"#mfa425059da\" y=\"130.784724\"/>\r\n      </g>\r\n     </g>\r\n     <g id=\"text_13\">\r\n      <!-- 600 -->\r\n      <g transform=\"translate(27.240625 134.583942)scale(0.1 -0.1)\">\r\n       <use xlink:href=\"#DejaVuSans-54\"/>\r\n       <use x=\"63.623047\" xlink:href=\"#DejaVuSans-48\"/>\r\n       <use x=\"127.246094\" xlink:href=\"#DejaVuSans-48\"/>\r\n      </g>\r\n     </g>\r\n    </g>\r\n    <g id=\"ytick_4\">\r\n     <g id=\"line2d_13\">\r\n      <g>\r\n       <use style=\"stroke:#000000;stroke-width:0.8;\" x=\"53.328125\" xlink:href=\"#mfa425059da\" y=\"96.218277\"/>\r\n      </g>\r\n     </g>\r\n     <g id=\"text_14\">\r\n      <!-- 800 -->\r\n      <g transform=\"translate(27.240625 100.017496)scale(0.1 -0.1)\">\r\n       <use xlink:href=\"#DejaVuSans-56\"/>\r\n       <use x=\"63.623047\" xlink:href=\"#DejaVuSans-48\"/>\r\n       <use x=\"127.246094\" xlink:href=\"#DejaVuSans-48\"/>\r\n      </g>\r\n     </g>\r\n    </g>\r\n    <g id=\"ytick_5\">\r\n     <g id=\"line2d_14\">\r\n      <g>\r\n       <use style=\"stroke:#000000;stroke-width:0.8;\" x=\"53.328125\" xlink:href=\"#mfa425059da\" y=\"61.65183\"/>\r\n      </g>\r\n     </g>\r\n     <g id=\"text_15\">\r\n      <!-- 1000 -->\r\n      <g transform=\"translate(20.878125 65.451049)scale(0.1 -0.1)\">\r\n       <use xlink:href=\"#DejaVuSans-49\"/>\r\n       <use x=\"63.623047\" xlink:href=\"#DejaVuSans-48\"/>\r\n       <use x=\"127.246094\" xlink:href=\"#DejaVuSans-48\"/>\r\n       <use x=\"190.869141\" xlink:href=\"#DejaVuSans-48\"/>\r\n      </g>\r\n     </g>\r\n    </g>\r\n    <g id=\"ytick_6\">\r\n     <g id=\"line2d_15\">\r\n      <g>\r\n       <use style=\"stroke:#000000;stroke-width:0.8;\" x=\"53.328125\" xlink:href=\"#mfa425059da\" y=\"27.085383\"/>\r\n      </g>\r\n     </g>\r\n     <g id=\"text_16\">\r\n      <!-- 1200 -->\r\n      <g transform=\"translate(20.878125 30.884602)scale(0.1 -0.1)\">\r\n       <use xlink:href=\"#DejaVuSans-49\"/>\r\n       <use x=\"63.623047\" xlink:href=\"#DejaVuSans-50\"/>\r\n       <use x=\"127.246094\" xlink:href=\"#DejaVuSans-48\"/>\r\n       <use x=\"190.869141\" xlink:href=\"#DejaVuSans-48\"/>\r\n      </g>\r\n     </g>\r\n    </g>\r\n    <g id=\"text_17\">\r\n     <!-- inertia -->\r\n     <defs>\r\n      <path d=\"M 9.421875 54.6875 \r\nL 18.40625 54.6875 \r\nL 18.40625 0 \r\nL 9.421875 0 \r\nz\r\nM 9.421875 75.984375 \r\nL 18.40625 75.984375 \r\nL 18.40625 64.59375 \r\nL 9.421875 64.59375 \r\nz\r\n\" id=\"DejaVuSans-105\"/>\r\n      <path d=\"M 34.28125 27.484375 \r\nQ 23.390625 27.484375 19.1875 25 \r\nQ 14.984375 22.515625 14.984375 16.5 \r\nQ 14.984375 11.71875 18.140625 8.90625 \r\nQ 21.296875 6.109375 26.703125 6.109375 \r\nQ 34.1875 6.109375 38.703125 11.40625 \r\nQ 43.21875 16.703125 43.21875 25.484375 \r\nL 43.21875 27.484375 \r\nz\r\nM 52.203125 31.203125 \r\nL 52.203125 0 \r\nL 43.21875 0 \r\nL 43.21875 8.296875 \r\nQ 40.140625 3.328125 35.546875 0.953125 \r\nQ 30.953125 -1.421875 24.3125 -1.421875 \r\nQ 15.921875 -1.421875 10.953125 3.296875 \r\nQ 6 8.015625 6 15.921875 \r\nQ 6 25.140625 12.171875 29.828125 \r\nQ 18.359375 34.515625 30.609375 34.515625 \r\nL 43.21875 34.515625 \r\nL 43.21875 35.40625 \r\nQ 43.21875 41.609375 39.140625 45 \r\nQ 35.0625 48.390625 27.6875 48.390625 \r\nQ 23 48.390625 18.546875 47.265625 \r\nQ 14.109375 46.140625 10.015625 43.890625 \r\nL 10.015625 52.203125 \r\nQ 14.9375 54.109375 19.578125 55.046875 \r\nQ 24.21875 56 28.609375 56 \r\nQ 40.484375 56 46.34375 49.84375 \r\nQ 52.203125 43.703125 52.203125 31.203125 \r\nz\r\n\" id=\"DejaVuSans-97\"/>\r\n     </defs>\r\n     <g transform=\"translate(14.798438 132.023125)rotate(-90)scale(0.1 -0.1)\">\r\n      <use xlink:href=\"#DejaVuSans-105\"/>\r\n      <use x=\"27.783203\" xlink:href=\"#DejaVuSans-110\"/>\r\n      <use x=\"91.162109\" xlink:href=\"#DejaVuSans-101\"/>\r\n      <use x=\"152.685547\" xlink:href=\"#DejaVuSans-114\"/>\r\n      <use x=\"193.798828\" xlink:href=\"#DejaVuSans-116\"/>\r\n      <use x=\"233.007812\" xlink:href=\"#DejaVuSans-105\"/>\r\n      <use x=\"260.791016\" xlink:href=\"#DejaVuSans-97\"/>\r\n     </g>\r\n    </g>\r\n   </g>\r\n   <g id=\"line2d_16\">\r\n    <path clip-path=\"url(#p5808bad29e)\" d=\"M 68.546307 17.083636 \r\nL 106.591761 116.550656 \r\nL 144.637216 170.991853 \r\nL 182.68267 191.956711 \r\nL 220.728125 198.642869 \r\nL 258.77358 204.292364 \r\nL 296.819034 208.914255 \r\nL 334.864489 212.016687 \r\nL 372.909943 214.756364 \r\n\" style=\"fill:none;stroke:#000000;stroke-linecap:square;stroke-width:1.5;\"/>\r\n    <defs>\r\n     <path d=\"M 0 3 \r\nC 0.795609 3 1.55874 2.683901 2.12132 2.12132 \r\nC 2.683901 1.55874 3 0.795609 3 0 \r\nC 3 -0.795609 2.683901 -1.55874 2.12132 -2.12132 \r\nC 1.55874 -2.683901 0.795609 -3 0 -3 \r\nC -0.795609 -3 -1.55874 -2.683901 -2.12132 -2.12132 \r\nC -2.683901 -1.55874 -3 -0.795609 -3 0 \r\nC -3 0.795609 -2.683901 1.55874 -2.12132 2.12132 \r\nC -1.55874 2.683901 -0.795609 3 0 3 \r\nz\r\n\" id=\"m856bd4e5ed\" style=\"stroke:#000000;\"/>\r\n    </defs>\r\n    <g clip-path=\"url(#p5808bad29e)\">\r\n     <use style=\"stroke:#000000;\" x=\"68.546307\" xlink:href=\"#m856bd4e5ed\" y=\"17.083636\"/>\r\n     <use style=\"stroke:#000000;\" x=\"106.591761\" xlink:href=\"#m856bd4e5ed\" y=\"116.550656\"/>\r\n     <use style=\"stroke:#000000;\" x=\"144.637216\" xlink:href=\"#m856bd4e5ed\" y=\"170.991853\"/>\r\n     <use style=\"stroke:#000000;\" x=\"182.68267\" xlink:href=\"#m856bd4e5ed\" y=\"191.956711\"/>\r\n     <use style=\"stroke:#000000;\" x=\"220.728125\" xlink:href=\"#m856bd4e5ed\" y=\"198.642869\"/>\r\n     <use style=\"stroke:#000000;\" x=\"258.77358\" xlink:href=\"#m856bd4e5ed\" y=\"204.292364\"/>\r\n     <use style=\"stroke:#000000;\" x=\"296.819034\" xlink:href=\"#m856bd4e5ed\" y=\"208.914255\"/>\r\n     <use style=\"stroke:#000000;\" x=\"334.864489\" xlink:href=\"#m856bd4e5ed\" y=\"212.016687\"/>\r\n     <use style=\"stroke:#000000;\" x=\"372.909943\" xlink:href=\"#m856bd4e5ed\" y=\"214.756364\"/>\r\n    </g>\r\n   </g>\r\n   <g id=\"patch_3\">\r\n    <path d=\"M 53.328125 224.64 \r\nL 53.328125 7.2 \r\n\" style=\"fill:none;stroke:#000000;stroke-linecap:square;stroke-linejoin:miter;stroke-width:0.8;\"/>\r\n   </g>\r\n   <g id=\"patch_4\">\r\n    <path d=\"M 388.128125 224.64 \r\nL 388.128125 7.2 \r\n\" style=\"fill:none;stroke:#000000;stroke-linecap:square;stroke-linejoin:miter;stroke-width:0.8;\"/>\r\n   </g>\r\n   <g id=\"patch_5\">\r\n    <path d=\"M 53.328125 224.64 \r\nL 388.128125 224.64 \r\n\" style=\"fill:none;stroke:#000000;stroke-linecap:square;stroke-linejoin:miter;stroke-width:0.8;\"/>\r\n   </g>\r\n   <g id=\"patch_6\">\r\n    <path d=\"M 53.328125 7.2 \r\nL 388.128125 7.2 \r\n\" style=\"fill:none;stroke:#000000;stroke-linecap:square;stroke-linejoin:miter;stroke-width:0.8;\"/>\r\n   </g>\r\n  </g>\r\n </g>\r\n <defs>\r\n  <clipPath id=\"p5808bad29e\">\r\n   <rect height=\"217.44\" width=\"334.8\" x=\"53.328125\" y=\"7.2\"/>\r\n  </clipPath>\r\n </defs>\r\n</svg>\r\n",
      "image/png": "[encoded data removed]"
     },
     "metadata": {
      "needs_background": "light"
     }
    }
   ],
   "source": [
    "ks = range(1, 10)\n",
    "inertias = []\n",
    "for k in ks:\n",
    "    # Create a KMeans instance with k clusters: model\n",
    "    model = KMeans(n_clusters=k)\n",
    "    \n",
    "    # Fit model to samples\n",
    "    model.fit(df_norm)\n",
    "    \n",
    "    # Append the inertia to the list of inertias\n",
    "    inertias.append(model.inertia_)\n",
    "    \n",
    "plt.plot(ks, inertias, '-o', color='black')\n",
    "plt.xlabel('number of clusters, k')\n",
    "plt.ylabel('inertia')\n",
    "plt.xticks(ks)\n",
    "plt.show()"
   ]
  },
  {
   "cell_type": "code",
   "execution_count": 27,
   "metadata": {},
   "outputs": [
    {
     "output_type": "execute_result",
     "data": {
      "text/plain": "             Local   Ano  Mes  Dia  Precipitacao  UmidadeRelativa  \\\n0      Camilopolis  2011    1    1           0.6      6773.500000   \n1      Camilopolis  2011    1    2           0.8      5295.300000   \n2      Camilopolis  2011    1    3          28.0      5349.700000   \n3      Camilopolis  2011    1    4           0.0      4204.800000   \n4      Camilopolis  2011    1    5          65.6      5881.121853   \n...            ...   ...  ...  ...           ...              ...   \n15783      Vitoria  2019   12    5          15.2      7431.262495   \n15784      Vitoria  2019   12    6           0.0      6328.326175   \n15785      Vitoria  2019   12    7           0.0      4267.626871   \n15786      Vitoria  2019   12    8           0.0      3978.211296   \n15787      Vitoria  2019   12    9           0.0      4397.396178   \n\n       RadiacaoSolar  Cluster  \n0       29950.000000        3  \n1       37839.000000        3  \n2       37733.000000        3  \n3       35635.000000        3  \n4       32902.000000        3  \n...              ...      ...  \n15783      -4.101408        1  \n15784       0.000000        1  \n15785      12.111713        2  \n15786       3.948405        2  \n15787       8.016732        2  \n\n[15788 rows x 8 columns]",
      "text/html": "<div>\n<style scoped>\n    .dataframe tbody tr th:only-of-type {\n        vertical-align: middle;\n    }\n\n    .dataframe tbody tr th {\n        vertical-align: top;\n    }\n\n    .dataframe thead th {\n        text-align: right;\n    }\n</style>\n<table border=\"1\" class=\"dataframe\">\n  <thead>\n    <tr style=\"text-align: right;\">\n      <th></th>\n      <th>Local</th>\n      <th>Ano</th>\n      <th>Mes</th>\n      <th>Dia</th>\n      <th>Precipitacao</th>\n      <th>UmidadeRelativa</th>\n      <th>RadiacaoSolar</th>\n      <th>Cluster</th>\n    </tr>\n  </thead>\n  <tbody>\n    <tr>\n      <th>0</th>\n      <td>Camilopolis</td>\n      <td>2011</td>\n      <td>1</td>\n      <td>1</td>\n      <td>0.6</td>\n      <td>6773.500000</td>\n      <td>29950.000000</td>\n      <td>3</td>\n    </tr>\n    <tr>\n      <th>1</th>\n      <td>Camilopolis</td>\n      <td>2011</td>\n      <td>1</td>\n      <td>2</td>\n      <td>0.8</td>\n      <td>5295.300000</td>\n      <td>37839.000000</td>\n      <td>3</td>\n    </tr>\n    <tr>\n      <th>2</th>\n      <td>Camilopolis</td>\n      <td>2011</td>\n      <td>1</td>\n      <td>3</td>\n      <td>28.0</td>\n      <td>5349.700000</td>\n      <td>37733.000000</td>\n      <td>3</td>\n    </tr>\n    <tr>\n      <th>3</th>\n      <td>Camilopolis</td>\n      <td>2011</td>\n      <td>1</td>\n      <td>4</td>\n      <td>0.0</td>\n      <td>4204.800000</td>\n      <td>35635.000000</td>\n      <td>3</td>\n    </tr>\n    <tr>\n      <th>4</th>\n      <td>Camilopolis</td>\n      <td>2011</td>\n      <td>1</td>\n      <td>5</td>\n      <td>65.6</td>\n      <td>5881.121853</td>\n      <td>32902.000000</td>\n      <td>3</td>\n    </tr>\n    <tr>\n      <th>...</th>\n      <td>...</td>\n      <td>...</td>\n      <td>...</td>\n      <td>...</td>\n      <td>...</td>\n      <td>...</td>\n      <td>...</td>\n      <td>...</td>\n    </tr>\n    <tr>\n      <th>15783</th>\n      <td>Vitoria</td>\n      <td>2019</td>\n      <td>12</td>\n      <td>5</td>\n      <td>15.2</td>\n      <td>7431.262495</td>\n      <td>-4.101408</td>\n      <td>1</td>\n    </tr>\n    <tr>\n      <th>15784</th>\n      <td>Vitoria</td>\n      <td>2019</td>\n      <td>12</td>\n      <td>6</td>\n      <td>0.0</td>\n      <td>6328.326175</td>\n      <td>0.000000</td>\n      <td>1</td>\n    </tr>\n    <tr>\n      <th>15785</th>\n      <td>Vitoria</td>\n      <td>2019</td>\n      <td>12</td>\n      <td>7</td>\n      <td>0.0</td>\n      <td>4267.626871</td>\n      <td>12.111713</td>\n      <td>2</td>\n    </tr>\n    <tr>\n      <th>15786</th>\n      <td>Vitoria</td>\n      <td>2019</td>\n      <td>12</td>\n      <td>8</td>\n      <td>0.0</td>\n      <td>3978.211296</td>\n      <td>3.948405</td>\n      <td>2</td>\n    </tr>\n    <tr>\n      <th>15787</th>\n      <td>Vitoria</td>\n      <td>2019</td>\n      <td>12</td>\n      <td>9</td>\n      <td>0.0</td>\n      <td>4397.396178</td>\n      <td>8.016732</td>\n      <td>2</td>\n    </tr>\n  </tbody>\n</table>\n<p>15788 rows × 8 columns</p>\n</div>"
     },
     "metadata": {},
     "execution_count": 27
    }
   ],
   "source": [
    "df_cluster['Cluster'] = cluster.labels_\n",
    "df_cluster"
   ]
  },
  {
   "cell_type": "code",
   "execution_count": 28,
   "metadata": {},
   "outputs": [
    {
     "output_type": "execute_result",
     "data": {
      "text/plain": "                     Cluster\nCluster Local               \n0       Camilopolis     1201\n        Erasmo           425\n        Paraiso         1183\n        RM              1238\n        Vitoria         1132\n1       Camilopolis     1068\n        Erasmo           946\n        Paraiso          939\n        RM              1134\n        Vitoria          898\n2       Camilopolis      150\n        Erasmo          1601\n        Paraiso          348\n        RM               137\n        Vitoria          852\n3       Camilopolis      755\n        Erasmo           105\n        Paraiso          712\n        RM               673\n        Vitoria          291",
      "text/html": "<div>\n<style scoped>\n    .dataframe tbody tr th:only-of-type {\n        vertical-align: middle;\n    }\n\n    .dataframe tbody tr th {\n        vertical-align: top;\n    }\n\n    .dataframe thead th {\n        text-align: right;\n    }\n</style>\n<table border=\"1\" class=\"dataframe\">\n  <thead>\n    <tr style=\"text-align: right;\">\n      <th></th>\n      <th></th>\n      <th>Cluster</th>\n    </tr>\n    <tr>\n      <th>Cluster</th>\n      <th>Local</th>\n      <th></th>\n    </tr>\n  </thead>\n  <tbody>\n    <tr>\n      <th rowspan=\"5\" valign=\"top\">0</th>\n      <th>Camilopolis</th>\n      <td>1201</td>\n    </tr>\n    <tr>\n      <th>Erasmo</th>\n      <td>425</td>\n    </tr>\n    <tr>\n      <th>Paraiso</th>\n      <td>1183</td>\n    </tr>\n    <tr>\n      <th>RM</th>\n      <td>1238</td>\n    </tr>\n    <tr>\n      <th>Vitoria</th>\n      <td>1132</td>\n    </tr>\n    <tr>\n      <th rowspan=\"5\" valign=\"top\">1</th>\n      <th>Camilopolis</th>\n      <td>1068</td>\n    </tr>\n    <tr>\n      <th>Erasmo</th>\n      <td>946</td>\n    </tr>\n    <tr>\n      <th>Paraiso</th>\n      <td>939</td>\n    </tr>\n    <tr>\n      <th>RM</th>\n      <td>1134</td>\n    </tr>\n    <tr>\n      <th>Vitoria</th>\n      <td>898</td>\n    </tr>\n    <tr>\n      <th rowspan=\"5\" valign=\"top\">2</th>\n      <th>Camilopolis</th>\n      <td>150</td>\n    </tr>\n    <tr>\n      <th>Erasmo</th>\n      <td>1601</td>\n    </tr>\n    <tr>\n      <th>Paraiso</th>\n      <td>348</td>\n    </tr>\n    <tr>\n      <th>RM</th>\n      <td>137</td>\n    </tr>\n    <tr>\n      <th>Vitoria</th>\n      <td>852</td>\n    </tr>\n    <tr>\n      <th rowspan=\"5\" valign=\"top\">3</th>\n      <th>Camilopolis</th>\n      <td>755</td>\n    </tr>\n    <tr>\n      <th>Erasmo</th>\n      <td>105</td>\n    </tr>\n    <tr>\n      <th>Paraiso</th>\n      <td>712</td>\n    </tr>\n    <tr>\n      <th>RM</th>\n      <td>673</td>\n    </tr>\n    <tr>\n      <th>Vitoria</th>\n      <td>291</td>\n    </tr>\n  </tbody>\n</table>\n</div>"
     },
     "metadata": {},
     "execution_count": 28
    }
   ],
   "source": [
    "df_cluster.groupby(['Cluster', 'Local'])[['Cluster']].count()"
   ]
  },
  {
   "cell_type": "code",
   "execution_count": 29,
   "metadata": {},
   "outputs": [
    {
     "output_type": "execute_result",
     "data": {
      "text/plain": "             Cluster\nCluster Mes         \n0       1        478\n        2        390\n        3        492\n        4        451\n        5        500\n        6        495\n        7        412\n        8        414\n        9        374\n        10       383\n        11       405\n        12       385\n1       1        377\n        2        405\n        3        450\n        4        417\n        5        364\n        6        410\n        7        480\n        8        519\n        9        473\n        10       410\n        11       367\n        12       313\n2       1        250\n        2        230\n        3        232\n        4        264\n        5        327\n        6        267\n        7        265\n        8        267\n        9        263\n        10       240\n        11       234\n        12       249\n3       1        270\n        2        222\n        3        198\n        4        194\n        5        185\n        6        149\n        7        163\n        8        157\n        9        203\n        10       243\n        11       235\n        12       317",
      "text/html": "<div>\n<style scoped>\n    .dataframe tbody tr th:only-of-type {\n        vertical-align: middle;\n    }\n\n    .dataframe tbody tr th {\n        vertical-align: top;\n    }\n\n    .dataframe thead th {\n        text-align: right;\n    }\n</style>\n<table border=\"1\" class=\"dataframe\">\n  <thead>\n    <tr style=\"text-align: right;\">\n      <th></th>\n      <th></th>\n      <th>Cluster</th>\n    </tr>\n    <tr>\n      <th>Cluster</th>\n      <th>Mes</th>\n      <th></th>\n    </tr>\n  </thead>\n  <tbody>\n    <tr>\n      <th rowspan=\"12\" valign=\"top\">0</th>\n      <th>1</th>\n      <td>478</td>\n    </tr>\n    <tr>\n      <th>2</th>\n      <td>390</td>\n    </tr>\n    <tr>\n      <th>3</th>\n      <td>492</td>\n    </tr>\n    <tr>\n      <th>4</th>\n      <td>451</td>\n    </tr>\n    <tr>\n      <th>5</th>\n      <td>500</td>\n    </tr>\n    <tr>\n      <th>6</th>\n      <td>495</td>\n    </tr>\n    <tr>\n      <th>7</th>\n      <td>412</td>\n    </tr>\n    <tr>\n      <th>8</th>\n      <td>414</td>\n    </tr>\n    <tr>\n      <th>9</th>\n      <td>374</td>\n    </tr>\n    <tr>\n      <th>10</th>\n      <td>383</td>\n    </tr>\n    <tr>\n      <th>11</th>\n      <td>405</td>\n    </tr>\n    <tr>\n      <th>12</th>\n      <td>385</td>\n    </tr>\n    <tr>\n      <th rowspan=\"12\" valign=\"top\">1</th>\n      <th>1</th>\n      <td>377</td>\n    </tr>\n    <tr>\n      <th>2</th>\n      <td>405</td>\n    </tr>\n    <tr>\n      <th>3</th>\n      <td>450</td>\n    </tr>\n    <tr>\n      <th>4</th>\n      <td>417</td>\n    </tr>\n    <tr>\n      <th>5</th>\n      <td>364</td>\n    </tr>\n    <tr>\n      <th>6</th>\n      <td>410</td>\n    </tr>\n    <tr>\n      <th>7</th>\n      <td>480</td>\n    </tr>\n    <tr>\n      <th>8</th>\n      <td>519</td>\n    </tr>\n    <tr>\n      <th>9</th>\n      <td>473</td>\n    </tr>\n    <tr>\n      <th>10</th>\n      <td>410</td>\n    </tr>\n    <tr>\n      <th>11</th>\n      <td>367</td>\n    </tr>\n    <tr>\n      <th>12</th>\n      <td>313</td>\n    </tr>\n    <tr>\n      <th rowspan=\"12\" valign=\"top\">2</th>\n      <th>1</th>\n      <td>250</td>\n    </tr>\n    <tr>\n      <th>2</th>\n      <td>230</td>\n    </tr>\n    <tr>\n      <th>3</th>\n      <td>232</td>\n    </tr>\n    <tr>\n      <th>4</th>\n      <td>264</td>\n    </tr>\n    <tr>\n      <th>5</th>\n      <td>327</td>\n    </tr>\n    <tr>\n      <th>6</th>\n      <td>267</td>\n    </tr>\n    <tr>\n      <th>7</th>\n      <td>265</td>\n    </tr>\n    <tr>\n      <th>8</th>\n      <td>267</td>\n    </tr>\n    <tr>\n      <th>9</th>\n      <td>263</td>\n    </tr>\n    <tr>\n      <th>10</th>\n      <td>240</td>\n    </tr>\n    <tr>\n      <th>11</th>\n      <td>234</td>\n    </tr>\n    <tr>\n      <th>12</th>\n      <td>249</td>\n    </tr>\n    <tr>\n      <th rowspan=\"12\" valign=\"top\">3</th>\n      <th>1</th>\n      <td>270</td>\n    </tr>\n    <tr>\n      <th>2</th>\n      <td>222</td>\n    </tr>\n    <tr>\n      <th>3</th>\n      <td>198</td>\n    </tr>\n    <tr>\n      <th>4</th>\n      <td>194</td>\n    </tr>\n    <tr>\n      <th>5</th>\n      <td>185</td>\n    </tr>\n    <tr>\n      <th>6</th>\n      <td>149</td>\n    </tr>\n    <tr>\n      <th>7</th>\n      <td>163</td>\n    </tr>\n    <tr>\n      <th>8</th>\n      <td>157</td>\n    </tr>\n    <tr>\n      <th>9</th>\n      <td>203</td>\n    </tr>\n    <tr>\n      <th>10</th>\n      <td>243</td>\n    </tr>\n    <tr>\n      <th>11</th>\n      <td>235</td>\n    </tr>\n    <tr>\n      <th>12</th>\n      <td>317</td>\n    </tr>\n  </tbody>\n</table>\n</div>"
     },
     "metadata": {},
     "execution_count": 29
    }
   ],
   "source": [
    "df_cluster.groupby(['Cluster', 'Mes'])[['Cluster']].count()"
   ]
  },
  {
   "cell_type": "code",
   "execution_count": 30,
   "metadata": {},
   "outputs": [
    {
     "output_type": "display_data",
     "data": {
      "application/vnd.plotly.v1+json": {
       "config": {
        "plotlyServerURL": "https://plot.ly"
       },
       "data": [
        {
         "alignmentgroup": "True",
         "hovertemplate": "Local=Camilopolis<br>Cluster=%{x}<br>Mes=%{y}<extra></extra>",
         "legendgroup": "Camilopolis",
         "marker": {
          "color": "#636efa"
         },
         "name": "Camilopolis",
         "offsetgroup": "Camilopolis",
         "orientation": "v",
         "showlegend": true,
         "textposition": "auto",
         "type": "bar",
         "x": [
          0,
          1,
          2,
          3
         ],
         "xaxis": "x",
         "y": [
          1201,
          1068,
          150,
          755
         ],
         "yaxis": "y"
        },
        {
         "alignmentgroup": "True",
         "hovertemplate": "Local=Erasmo<br>Cluster=%{x}<br>Mes=%{y}<extra></extra>",
         "legendgroup": "Erasmo",
         "marker": {
          "color": "#EF553B"
         },
         "name": "Erasmo",
         "offsetgroup": "Erasmo",
         "orientation": "v",
         "showlegend": true,
         "textposition": "auto",
         "type": "bar",
         "x": [
          0,
          1,
          2,
          3
         ],
         "xaxis": "x",
         "y": [
          425,
          946,
          1601,
          105
         ],
         "yaxis": "y"
        },
        {
         "alignmentgroup": "True",
         "hovertemplate": "Local=Paraiso<br>Cluster=%{x}<br>Mes=%{y}<extra></extra>",
         "legendgroup": "Paraiso",
         "marker": {
          "color": "#00cc96"
         },
         "name": "Paraiso",
         "offsetgroup": "Paraiso",
         "orientation": "v",
         "showlegend": true,
         "textposition": "auto",
         "type": "bar",
         "x": [
          0,
          1,
          2,
          3
         ],
         "xaxis": "x",
         "y": [
          1183,
          939,
          348,
          712
         ],
         "yaxis": "y"
        },
        {
         "alignmentgroup": "True",
         "hovertemplate": "Local=RM<br>Cluster=%{x}<br>Mes=%{y}<extra></extra>",
         "legendgroup": "RM",
         "marker": {
          "color": "#ab63fa"
         },
         "name": "RM",
         "offsetgroup": "RM",
         "orientation": "v",
         "showlegend": true,
         "textposition": "auto",
         "type": "bar",
         "x": [
          0,
          1,
          2,
          3
         ],
         "xaxis": "x",
         "y": [
          1238,
          1134,
          137,
          673
         ],
         "yaxis": "y"
        },
        {
         "alignmentgroup": "True",
         "hovertemplate": "Local=Vitoria<br>Cluster=%{x}<br>Mes=%{y}<extra></extra>",
         "legendgroup": "Vitoria",
         "marker": {
          "color": "#FFA15A"
         },
         "name": "Vitoria",
         "offsetgroup": "Vitoria",
         "orientation": "v",
         "showlegend": true,
         "textposition": "auto",
         "type": "bar",
         "x": [
          0,
          1,
          2,
          3
         ],
         "xaxis": "x",
         "y": [
          1132,
          898,
          852,
          291
         ],
         "yaxis": "y"
        }
       ],
       "layout": {
        "barmode": "group",
        "legend": {
         "title": {
          "text": "Local"
         },
         "tracegroupgap": 0
        },
        "margin": {
         "t": 60
        },
        "template": {
         "data": {
          "bar": [
           {
            "error_x": {
             "color": "#2a3f5f"
            },
            "error_y": {
             "color": "#2a3f5f"
            },
            "marker": {
             "line": {
              "color": "#E5ECF6",
              "width": 0.5
             }
            },
            "type": "bar"
           }
          ],
          "barpolar": [
           {
            "marker": {
             "line": {
              "color": "#E5ECF6",
              "width": 0.5
             }
            },
            "type": "barpolar"
           }
          ],
          "carpet": [
           {
            "aaxis": {
             "endlinecolor": "#2a3f5f",
             "gridcolor": "white",
             "linecolor": "white",
             "minorgridcolor": "white",
             "startlinecolor": "#2a3f5f"
            },
            "baxis": {
             "endlinecolor": "#2a3f5f",
             "gridcolor": "white",
             "linecolor": "white",
             "minorgridcolor": "white",
             "startlinecolor": "#2a3f5f"
            },
            "type": "carpet"
           }
          ],
          "choropleth": [
           {
            "colorbar": {
             "outlinewidth": 0,
             "ticks": ""
            },
            "type": "choropleth"
           }
          ],
          "contour": [
           {
            "colorbar": {
             "outlinewidth": 0,
             "ticks": ""
            },
            "colorscale": [
             [
              0,
              "#0d0887"
             ],
             [
              0.1111111111111111,
              "#46039f"
             ],
             [
              0.2222222222222222,
              "#7201a8"
             ],
             [
              0.3333333333333333,
              "#9c179e"
             ],
             [
              0.4444444444444444,
              "#bd3786"
             ],
             [
              0.5555555555555556,
              "#d8576b"
             ],
             [
              0.6666666666666666,
              "#ed7953"
             ],
             [
              0.7777777777777778,
              "#fb9f3a"
             ],
             [
              0.8888888888888888,
              "#fdca26"
             ],
             [
              1,
              "#f0f921"
             ]
            ],
            "type": "contour"
           }
          ],
          "contourcarpet": [
           {
            "colorbar": {
             "outlinewidth": 0,
             "ticks": ""
            },
            "type": "contourcarpet"
           }
          ],
          "heatmap": [
           {
            "colorbar": {
             "outlinewidth": 0,
             "ticks": ""
            },
            "colorscale": [
             [
              0,
              "#0d0887"
             ],
             [
              0.1111111111111111,
              "#46039f"
             ],
             [
              0.2222222222222222,
              "#7201a8"
             ],
             [
              0.3333333333333333,
              "#9c179e"
             ],
             [
              0.4444444444444444,
              "#bd3786"
             ],
             [
              0.5555555555555556,
              "#d8576b"
             ],
             [
              0.6666666666666666,
              "#ed7953"
             ],
             [
              0.7777777777777778,
              "#fb9f3a"
             ],
             [
              0.8888888888888888,
              "#fdca26"
             ],
             [
              1,
              "#f0f921"
             ]
            ],
            "type": "heatmap"
           }
          ],
          "heatmapgl": [
           {
            "colorbar": {
             "outlinewidth": 0,
             "ticks": ""
            },
            "colorscale": [
             [
              0,
              "#0d0887"
             ],
             [
              0.1111111111111111,
              "#46039f"
             ],
             [
              0.2222222222222222,
              "#7201a8"
             ],
             [
              0.3333333333333333,
              "#9c179e"
             ],
             [
              0.4444444444444444,
              "#bd3786"
             ],
             [
              0.5555555555555556,
              "#d8576b"
             ],
             [
              0.6666666666666666,
              "#ed7953"
             ],
             [
              0.7777777777777778,
              "#fb9f3a"
             ],
             [
              0.8888888888888888,
              "#fdca26"
             ],
             [
              1,
              "#f0f921"
             ]
            ],
            "type": "heatmapgl"
           }
          ],
          "histogram": [
           {
            "marker": {
             "colorbar": {
              "outlinewidth": 0,
              "ticks": ""
             }
            },
            "type": "histogram"
           }
          ],
          "histogram2d": [
           {
            "colorbar": {
             "outlinewidth": 0,
             "ticks": ""
            },
            "colorscale": [
             [
              0,
              "#0d0887"
             ],
             [
              0.1111111111111111,
              "#46039f"
             ],
             [
              0.2222222222222222,
              "#7201a8"
             ],
             [
              0.3333333333333333,
              "#9c179e"
             ],
             [
              0.4444444444444444,
              "#bd3786"
             ],
             [
              0.5555555555555556,
              "#d8576b"
             ],
             [
              0.6666666666666666,
              "#ed7953"
             ],
             [
              0.7777777777777778,
              "#fb9f3a"
             ],
             [
              0.8888888888888888,
              "#fdca26"
             ],
             [
              1,
              "#f0f921"
             ]
            ],
            "type": "histogram2d"
           }
          ],
          "histogram2dcontour": [
           {
            "colorbar": {
             "outlinewidth": 0,
             "ticks": ""
            },
            "colorscale": [
             [
              0,
              "#0d0887"
             ],
             [
              0.1111111111111111,
              "#46039f"
             ],
             [
              0.2222222222222222,
              "#7201a8"
             ],
             [
              0.3333333333333333,
              "#9c179e"
             ],
             [
              0.4444444444444444,
              "#bd3786"
             ],
             [
              0.5555555555555556,
              "#d8576b"
             ],
             [
              0.6666666666666666,
              "#ed7953"
             ],
             [
              0.7777777777777778,
              "#fb9f3a"
             ],
             [
              0.8888888888888888,
              "#fdca26"
             ],
             [
              1,
              "#f0f921"
             ]
            ],
            "type": "histogram2dcontour"
           }
          ],
          "mesh3d": [
           {
            "colorbar": {
             "outlinewidth": 0,
             "ticks": ""
            },
            "type": "mesh3d"
           }
          ],
          "parcoords": [
           {
            "line": {
             "colorbar": {
              "outlinewidth": 0,
              "ticks": ""
             }
            },
            "type": "parcoords"
           }
          ],
          "pie": [
           {
            "automargin": true,
            "type": "pie"
           }
          ],
          "scatter": [
           {
            "marker": {
             "colorbar": {
              "outlinewidth": 0,
              "ticks": ""
             }
            },
            "type": "scatter"
           }
          ],
          "scatter3d": [
           {
            "line": {
             "colorbar": {
              "outlinewidth": 0,
              "ticks": ""
             }
            },
            "marker": {
             "colorbar": {
              "outlinewidth": 0,
              "ticks": ""
             }
            },
            "type": "scatter3d"
           }
          ],
          "scattercarpet": [
           {
            "marker": {
             "colorbar": {
              "outlinewidth": 0,
              "ticks": ""
             }
            },
            "type": "scattercarpet"
           }
          ],
          "scattergeo": [
           {
            "marker": {
             "colorbar": {
              "outlinewidth": 0,
              "ticks": ""
             }
            },
            "type": "scattergeo"
           }
          ],
          "scattergl": [
           {
            "marker": {
             "colorbar": {
              "outlinewidth": 0,
              "ticks": ""
             }
            },
            "type": "scattergl"
           }
          ],
          "scattermapbox": [
           {
            "marker": {
             "colorbar": {
              "outlinewidth": 0,
              "ticks": ""
             }
            },
            "type": "scattermapbox"
           }
          ],
          "scatterpolar": [
           {
            "marker": {
             "colorbar": {
              "outlinewidth": 0,
              "ticks": ""
             }
            },
            "type": "scatterpolar"
           }
          ],
          "scatterpolargl": [
           {
            "marker": {
             "colorbar": {
              "outlinewidth": 0,
              "ticks": ""
             }
            },
            "type": "scatterpolargl"
           }
          ],
          "scatterternary": [
           {
            "marker": {
             "colorbar": {
              "outlinewidth": 0,
              "ticks": ""
             }
            },
            "type": "scatterternary"
           }
          ],
          "surface": [
           {
            "colorbar": {
             "outlinewidth": 0,
             "ticks": ""
            },
            "colorscale": [
             [
              0,
              "#0d0887"
             ],
             [
              0.1111111111111111,
              "#46039f"
             ],
             [
              0.2222222222222222,
              "#7201a8"
             ],
             [
              0.3333333333333333,
              "#9c179e"
             ],
             [
              0.4444444444444444,
              "#bd3786"
             ],
             [
              0.5555555555555556,
              "#d8576b"
             ],
             [
              0.6666666666666666,
              "#ed7953"
             ],
             [
              0.7777777777777778,
              "#fb9f3a"
             ],
             [
              0.8888888888888888,
              "#fdca26"
             ],
             [
              1,
              "#f0f921"
             ]
            ],
            "type": "surface"
           }
          ],
          "table": [
           {
            "cells": {
             "fill": {
              "color": "#EBF0F8"
             },
             "line": {
              "color": "white"
             }
            },
            "header": {
             "fill": {
              "color": "#C8D4E3"
             },
             "line": {
              "color": "white"
             }
            },
            "type": "table"
           }
          ]
         },
         "layout": {
          "annotationdefaults": {
           "arrowcolor": "#2a3f5f",
           "arrowhead": 0,
           "arrowwidth": 1
          },
          "coloraxis": {
           "colorbar": {
            "outlinewidth": 0,
            "ticks": ""
           }
          },
          "colorscale": {
           "diverging": [
            [
             0,
             "#8e0152"
            ],
            [
             0.1,
             "#c51b7d"
            ],
            [
             0.2,
             "#de77ae"
            ],
            [
             0.3,
             "#f1b6da"
            ],
            [
             0.4,
             "#fde0ef"
            ],
            [
             0.5,
             "#f7f7f7"
            ],
            [
             0.6,
             "#e6f5d0"
            ],
            [
             0.7,
             "#b8e186"
            ],
            [
             0.8,
             "#7fbc41"
            ],
            [
             0.9,
             "#4d9221"
            ],
            [
             1,
             "#276419"
            ]
           ],
           "sequential": [
            [
             0,
             "#0d0887"
            ],
            [
             0.1111111111111111,
             "#46039f"
            ],
            [
             0.2222222222222222,
             "#7201a8"
            ],
            [
             0.3333333333333333,
             "#9c179e"
            ],
            [
             0.4444444444444444,
             "#bd3786"
            ],
            [
             0.5555555555555556,
             "#d8576b"
            ],
            [
             0.6666666666666666,
             "#ed7953"
            ],
            [
             0.7777777777777778,
             "#fb9f3a"
            ],
            [
             0.8888888888888888,
             "#fdca26"
            ],
            [
             1,
             "#f0f921"
            ]
           ],
           "sequentialminus": [
            [
             0,
             "#0d0887"
            ],
            [
             0.1111111111111111,
             "#46039f"
            ],
            [
             0.2222222222222222,
             "#7201a8"
            ],
            [
             0.3333333333333333,
             "#9c179e"
            ],
            [
             0.4444444444444444,
             "#bd3786"
            ],
            [
             0.5555555555555556,
             "#d8576b"
            ],
            [
             0.6666666666666666,
             "#ed7953"
            ],
            [
             0.7777777777777778,
             "#fb9f3a"
            ],
            [
             0.8888888888888888,
             "#fdca26"
            ],
            [
             1,
             "#f0f921"
            ]
           ]
          },
          "colorway": [
           "#636efa",
           "#EF553B",
           "#00cc96",
           "#ab63fa",
           "#FFA15A",
           "#19d3f3",
           "#FF6692",
           "#B6E880",
           "#FF97FF",
           "#FECB52"
          ],
          "font": {
           "color": "#2a3f5f"
          },
          "geo": {
           "bgcolor": "white",
           "lakecolor": "white",
           "landcolor": "#E5ECF6",
           "showlakes": true,
           "showland": true,
           "subunitcolor": "white"
          },
          "hoverlabel": {
           "align": "left"
          },
          "hovermode": "closest",
          "mapbox": {
           "style": "light"
          },
          "paper_bgcolor": "white",
          "plot_bgcolor": "#E5ECF6",
          "polar": {
           "angularaxis": {
            "gridcolor": "white",
            "linecolor": "white",
            "ticks": ""
           },
           "bgcolor": "#E5ECF6",
           "radialaxis": {
            "gridcolor": "white",
            "linecolor": "white",
            "ticks": ""
           }
          },
          "scene": {
           "xaxis": {
            "backgroundcolor": "#E5ECF6",
            "gridcolor": "white",
            "gridwidth": 2,
            "linecolor": "white",
            "showbackground": true,
            "ticks": "",
            "zerolinecolor": "white"
           },
           "yaxis": {
            "backgroundcolor": "#E5ECF6",
            "gridcolor": "white",
            "gridwidth": 2,
            "linecolor": "white",
            "showbackground": true,
            "ticks": "",
            "zerolinecolor": "white"
           },
           "zaxis": {
            "backgroundcolor": "#E5ECF6",
            "gridcolor": "white",
            "gridwidth": 2,
            "linecolor": "white",
            "showbackground": true,
            "ticks": "",
            "zerolinecolor": "white"
           }
          },
          "shapedefaults": {
           "line": {
            "color": "#2a3f5f"
           }
          },
          "ternary": {
           "aaxis": {
            "gridcolor": "white",
            "linecolor": "white",
            "ticks": ""
           },
           "baxis": {
            "gridcolor": "white",
            "linecolor": "white",
            "ticks": ""
           },
           "bgcolor": "#E5ECF6",
           "caxis": {
            "gridcolor": "white",
            "linecolor": "white",
            "ticks": ""
           }
          },
          "title": {
           "x": 0.05
          },
          "xaxis": {
           "automargin": true,
           "gridcolor": "white",
           "linecolor": "white",
           "ticks": "",
           "title": {
            "standoff": 15
           },
           "zerolinecolor": "white",
           "zerolinewidth": 2
          },
          "yaxis": {
           "automargin": true,
           "gridcolor": "white",
           "linecolor": "white",
           "ticks": "",
           "title": {
            "standoff": 15
           },
           "zerolinecolor": "white",
           "zerolinewidth": 2
          }
         }
        },
        "xaxis": {
         "anchor": "y",
         "domain": [
          0,
          1
         ],
         "title": {
          "text": "Cluster"
         }
        },
        "yaxis": {
         "anchor": "x",
         "domain": [
          0,
          1
         ],
         "title": {
          "text": "Mes"
         }
        }
       }
      }
     },
     "metadata": {}
    }
   ],
   "source": [
    "fig = px.bar(df_cluster.groupby(['Cluster', 'Local'])[['Mes']].count().reset_index(),\n",
    "             x=\"Cluster\", y=\"Mes\", color=\"Local\", barmode=\"group\")\n",
    "fig.show()"
   ]
  },
  {
   "cell_type": "code",
   "execution_count": 31,
   "metadata": {},
   "outputs": [
    {
     "output_type": "display_data",
     "data": {
      "application/vnd.plotly.v1+json": {
       "config": {
        "plotlyServerURL": "https://plot.ly"
       },
       "data": [
        {
         "alignmentgroup": "True",
         "hovertemplate": "Local=%{x}<br>Mes=%{y}<br>Cluster=%{marker.color}<extra></extra>",
         "legendgroup": "",
         "marker": {
          "color": [
           0,
           0,
           0,
           0,
           0,
           1,
           1,
           1,
           1,
           1,
           2,
           2,
           2,
           2,
           2,
           3,
           3,
           3,
           3,
           3
          ],
          "coloraxis": "coloraxis"
         },
         "name": "",
         "offsetgroup": "",
         "orientation": "v",
         "showlegend": false,
         "textposition": "auto",
         "type": "bar",
         "x": [
          "Camilopolis",
          "Erasmo",
          "Paraiso",
          "RM",
          "Vitoria",
          "Camilopolis",
          "Erasmo",
          "Paraiso",
          "RM",
          "Vitoria",
          "Camilopolis",
          "Erasmo",
          "Paraiso",
          "RM",
          "Vitoria",
          "Camilopolis",
          "Erasmo",
          "Paraiso",
          "RM",
          "Vitoria"
         ],
         "xaxis": "x",
         "y": [
          1201,
          425,
          1183,
          1238,
          1132,
          1068,
          946,
          939,
          1134,
          898,
          150,
          1601,
          348,
          137,
          852,
          755,
          105,
          712,
          673,
          291
         ],
         "yaxis": "y"
        }
       ],
       "layout": {
        "barmode": "group",
        "coloraxis": {
         "colorbar": {
          "title": {
           "text": "Cluster"
          }
         },
         "colorscale": [
          [
           0,
           "#0d0887"
          ],
          [
           0.1111111111111111,
           "#46039f"
          ],
          [
           0.2222222222222222,
           "#7201a8"
          ],
          [
           0.3333333333333333,
           "#9c179e"
          ],
          [
           0.4444444444444444,
           "#bd3786"
          ],
          [
           0.5555555555555556,
           "#d8576b"
          ],
          [
           0.6666666666666666,
           "#ed7953"
          ],
          [
           0.7777777777777778,
           "#fb9f3a"
          ],
          [
           0.8888888888888888,
           "#fdca26"
          ],
          [
           1,
           "#f0f921"
          ]
         ]
        },
        "legend": {
         "tracegroupgap": 0
        },
        "margin": {
         "t": 60
        },
        "template": {
         "data": {
          "bar": [
           {
            "error_x": {
             "color": "#2a3f5f"
            },
            "error_y": {
             "color": "#2a3f5f"
            },
            "marker": {
             "line": {
              "color": "#E5ECF6",
              "width": 0.5
             }
            },
            "type": "bar"
           }
          ],
          "barpolar": [
           {
            "marker": {
             "line": {
              "color": "#E5ECF6",
              "width": 0.5
             }
            },
            "type": "barpolar"
           }
          ],
          "carpet": [
           {
            "aaxis": {
             "endlinecolor": "#2a3f5f",
             "gridcolor": "white",
             "linecolor": "white",
             "minorgridcolor": "white",
             "startlinecolor": "#2a3f5f"
            },
            "baxis": {
             "endlinecolor": "#2a3f5f",
             "gridcolor": "white",
             "linecolor": "white",
             "minorgridcolor": "white",
             "startlinecolor": "#2a3f5f"
            },
            "type": "carpet"
           }
          ],
          "choropleth": [
           {
            "colorbar": {
             "outlinewidth": 0,
             "ticks": ""
            },
            "type": "choropleth"
           }
          ],
          "contour": [
           {
            "colorbar": {
             "outlinewidth": 0,
             "ticks": ""
            },
            "colorscale": [
             [
              0,
              "#0d0887"
             ],
             [
              0.1111111111111111,
              "#46039f"
             ],
             [
              0.2222222222222222,
              "#7201a8"
             ],
             [
              0.3333333333333333,
              "#9c179e"
             ],
             [
              0.4444444444444444,
              "#bd3786"
             ],
             [
              0.5555555555555556,
              "#d8576b"
             ],
             [
              0.6666666666666666,
              "#ed7953"
             ],
             [
              0.7777777777777778,
              "#fb9f3a"
             ],
             [
              0.8888888888888888,
              "#fdca26"
             ],
             [
              1,
              "#f0f921"
             ]
            ],
            "type": "contour"
           }
          ],
          "contourcarpet": [
           {
            "colorbar": {
             "outlinewidth": 0,
             "ticks": ""
            },
            "type": "contourcarpet"
           }
          ],
          "heatmap": [
           {
            "colorbar": {
             "outlinewidth": 0,
             "ticks": ""
            },
            "colorscale": [
             [
              0,
              "#0d0887"
             ],
             [
              0.1111111111111111,
              "#46039f"
             ],
             [
              0.2222222222222222,
              "#7201a8"
             ],
             [
              0.3333333333333333,
              "#9c179e"
             ],
             [
              0.4444444444444444,
              "#bd3786"
             ],
             [
              0.5555555555555556,
              "#d8576b"
             ],
             [
              0.6666666666666666,
              "#ed7953"
             ],
             [
              0.7777777777777778,
              "#fb9f3a"
             ],
             [
              0.8888888888888888,
              "#fdca26"
             ],
             [
              1,
              "#f0f921"
             ]
            ],
            "type": "heatmap"
           }
          ],
          "heatmapgl": [
           {
            "colorbar": {
             "outlinewidth": 0,
             "ticks": ""
            },
            "colorscale": [
             [
              0,
              "#0d0887"
             ],
             [
              0.1111111111111111,
              "#46039f"
             ],
             [
              0.2222222222222222,
              "#7201a8"
             ],
             [
              0.3333333333333333,
              "#9c179e"
             ],
             [
              0.4444444444444444,
              "#bd3786"
             ],
             [
              0.5555555555555556,
              "#d8576b"
             ],
             [
              0.6666666666666666,
              "#ed7953"
             ],
             [
              0.7777777777777778,
              "#fb9f3a"
             ],
             [
              0.8888888888888888,
              "#fdca26"
             ],
             [
              1,
              "#f0f921"
             ]
            ],
            "type": "heatmapgl"
           }
          ],
          "histogram": [
           {
            "marker": {
             "colorbar": {
              "outlinewidth": 0,
              "ticks": ""
             }
            },
            "type": "histogram"
           }
          ],
          "histogram2d": [
           {
            "colorbar": {
             "outlinewidth": 0,
             "ticks": ""
            },
            "colorscale": [
             [
              0,
              "#0d0887"
             ],
             [
              0.1111111111111111,
              "#46039f"
             ],
             [
              0.2222222222222222,
              "#7201a8"
             ],
             [
              0.3333333333333333,
              "#9c179e"
             ],
             [
              0.4444444444444444,
              "#bd3786"
             ],
             [
              0.5555555555555556,
              "#d8576b"
             ],
             [
              0.6666666666666666,
              "#ed7953"
             ],
             [
              0.7777777777777778,
              "#fb9f3a"
             ],
             [
              0.8888888888888888,
              "#fdca26"
             ],
             [
              1,
              "#f0f921"
             ]
            ],
            "type": "histogram2d"
           }
          ],
          "histogram2dcontour": [
           {
            "colorbar": {
             "outlinewidth": 0,
             "ticks": ""
            },
            "colorscale": [
             [
              0,
              "#0d0887"
             ],
             [
              0.1111111111111111,
              "#46039f"
             ],
             [
              0.2222222222222222,
              "#7201a8"
             ],
             [
              0.3333333333333333,
              "#9c179e"
             ],
             [
              0.4444444444444444,
              "#bd3786"
             ],
             [
              0.5555555555555556,
              "#d8576b"
             ],
             [
              0.6666666666666666,
              "#ed7953"
             ],
             [
              0.7777777777777778,
              "#fb9f3a"
             ],
             [
              0.8888888888888888,
              "#fdca26"
             ],
             [
              1,
              "#f0f921"
             ]
            ],
            "type": "histogram2dcontour"
           }
          ],
          "mesh3d": [
           {
            "colorbar": {
             "outlinewidth": 0,
             "ticks": ""
            },
            "type": "mesh3d"
           }
          ],
          "parcoords": [
           {
            "line": {
             "colorbar": {
              "outlinewidth": 0,
              "ticks": ""
             }
            },
            "type": "parcoords"
           }
          ],
          "pie": [
           {
            "automargin": true,
            "type": "pie"
           }
          ],
          "scatter": [
           {
            "marker": {
             "colorbar": {
              "outlinewidth": 0,
              "ticks": ""
             }
            },
            "type": "scatter"
           }
          ],
          "scatter3d": [
           {
            "line": {
             "colorbar": {
              "outlinewidth": 0,
              "ticks": ""
             }
            },
            "marker": {
             "colorbar": {
              "outlinewidth": 0,
              "ticks": ""
             }
            },
            "type": "scatter3d"
           }
          ],
          "scattercarpet": [
           {
            "marker": {
             "colorbar": {
              "outlinewidth": 0,
              "ticks": ""
             }
            },
            "type": "scattercarpet"
           }
          ],
          "scattergeo": [
           {
            "marker": {
             "colorbar": {
              "outlinewidth": 0,
              "ticks": ""
             }
            },
            "type": "scattergeo"
           }
          ],
          "scattergl": [
           {
            "marker": {
             "colorbar": {
              "outlinewidth": 0,
              "ticks": ""
             }
            },
            "type": "scattergl"
           }
          ],
          "scattermapbox": [
           {
            "marker": {
             "colorbar": {
              "outlinewidth": 0,
              "ticks": ""
             }
            },
            "type": "scattermapbox"
           }
          ],
          "scatterpolar": [
           {
            "marker": {
             "colorbar": {
              "outlinewidth": 0,
              "ticks": ""
             }
            },
            "type": "scatterpolar"
           }
          ],
          "scatterpolargl": [
           {
            "marker": {
             "colorbar": {
              "outlinewidth": 0,
              "ticks": ""
             }
            },
            "type": "scatterpolargl"
           }
          ],
          "scatterternary": [
           {
            "marker": {
             "colorbar": {
              "outlinewidth": 0,
              "ticks": ""
             }
            },
            "type": "scatterternary"
           }
          ],
          "surface": [
           {
            "colorbar": {
             "outlinewidth": 0,
             "ticks": ""
            },
            "colorscale": [
             [
              0,
              "#0d0887"
             ],
             [
              0.1111111111111111,
              "#46039f"
             ],
             [
              0.2222222222222222,
              "#7201a8"
             ],
             [
              0.3333333333333333,
              "#9c179e"
             ],
             [
              0.4444444444444444,
              "#bd3786"
             ],
             [
              0.5555555555555556,
              "#d8576b"
             ],
             [
              0.6666666666666666,
              "#ed7953"
             ],
             [
              0.7777777777777778,
              "#fb9f3a"
             ],
             [
              0.8888888888888888,
              "#fdca26"
             ],
             [
              1,
              "#f0f921"
             ]
            ],
            "type": "surface"
           }
          ],
          "table": [
           {
            "cells": {
             "fill": {
              "color": "#EBF0F8"
             },
             "line": {
              "color": "white"
             }
            },
            "header": {
             "fill": {
              "color": "#C8D4E3"
             },
             "line": {
              "color": "white"
             }
            },
            "type": "table"
           }
          ]
         },
         "layout": {
          "annotationdefaults": {
           "arrowcolor": "#2a3f5f",
           "arrowhead": 0,
           "arrowwidth": 1
          },
          "coloraxis": {
           "colorbar": {
            "outlinewidth": 0,
            "ticks": ""
           }
          },
          "colorscale": {
           "diverging": [
            [
             0,
             "#8e0152"
            ],
            [
             0.1,
             "#c51b7d"
            ],
            [
             0.2,
             "#de77ae"
            ],
            [
             0.3,
             "#f1b6da"
            ],
            [
             0.4,
             "#fde0ef"
            ],
            [
             0.5,
             "#f7f7f7"
            ],
            [
             0.6,
             "#e6f5d0"
            ],
            [
             0.7,
             "#b8e186"
            ],
            [
             0.8,
             "#7fbc41"
            ],
            [
             0.9,
             "#4d9221"
            ],
            [
             1,
             "#276419"
            ]
           ],
           "sequential": [
            [
             0,
             "#0d0887"
            ],
            [
             0.1111111111111111,
             "#46039f"
            ],
            [
             0.2222222222222222,
             "#7201a8"
            ],
            [
             0.3333333333333333,
             "#9c179e"
            ],
            [
             0.4444444444444444,
             "#bd3786"
            ],
            [
             0.5555555555555556,
             "#d8576b"
            ],
            [
             0.6666666666666666,
             "#ed7953"
            ],
            [
             0.7777777777777778,
             "#fb9f3a"
            ],
            [
             0.8888888888888888,
             "#fdca26"
            ],
            [
             1,
             "#f0f921"
            ]
           ],
           "sequentialminus": [
            [
             0,
             "#0d0887"
            ],
            [
             0.1111111111111111,
             "#46039f"
            ],
            [
             0.2222222222222222,
             "#7201a8"
            ],
            [
             0.3333333333333333,
             "#9c179e"
            ],
            [
             0.4444444444444444,
             "#bd3786"
            ],
            [
             0.5555555555555556,
             "#d8576b"
            ],
            [
             0.6666666666666666,
             "#ed7953"
            ],
            [
             0.7777777777777778,
             "#fb9f3a"
            ],
            [
             0.8888888888888888,
             "#fdca26"
            ],
            [
             1,
             "#f0f921"
            ]
           ]
          },
          "colorway": [
           "#636efa",
           "#EF553B",
           "#00cc96",
           "#ab63fa",
           "#FFA15A",
           "#19d3f3",
           "#FF6692",
           "#B6E880",
           "#FF97FF",
           "#FECB52"
          ],
          "font": {
           "color": "#2a3f5f"
          },
          "geo": {
           "bgcolor": "white",
           "lakecolor": "white",
           "landcolor": "#E5ECF6",
           "showlakes": true,
           "showland": true,
           "subunitcolor": "white"
          },
          "hoverlabel": {
           "align": "left"
          },
          "hovermode": "closest",
          "mapbox": {
           "style": "light"
          },
          "paper_bgcolor": "white",
          "plot_bgcolor": "#E5ECF6",
          "polar": {
           "angularaxis": {
            "gridcolor": "white",
            "linecolor": "white",
            "ticks": ""
           },
           "bgcolor": "#E5ECF6",
           "radialaxis": {
            "gridcolor": "white",
            "linecolor": "white",
            "ticks": ""
           }
          },
          "scene": {
           "xaxis": {
            "backgroundcolor": "#E5ECF6",
            "gridcolor": "white",
            "gridwidth": 2,
            "linecolor": "white",
            "showbackground": true,
            "ticks": "",
            "zerolinecolor": "white"
           },
           "yaxis": {
            "backgroundcolor": "#E5ECF6",
            "gridcolor": "white",
            "gridwidth": 2,
            "linecolor": "white",
            "showbackground": true,
            "ticks": "",
            "zerolinecolor": "white"
           },
           "zaxis": {
            "backgroundcolor": "#E5ECF6",
            "gridcolor": "white",
            "gridwidth": 2,
            "linecolor": "white",
            "showbackground": true,
            "ticks": "",
            "zerolinecolor": "white"
           }
          },
          "shapedefaults": {
           "line": {
            "color": "#2a3f5f"
           }
          },
          "ternary": {
           "aaxis": {
            "gridcolor": "white",
            "linecolor": "white",
            "ticks": ""
           },
           "baxis": {
            "gridcolor": "white",
            "linecolor": "white",
            "ticks": ""
           },
           "bgcolor": "#E5ECF6",
           "caxis": {
            "gridcolor": "white",
            "linecolor": "white",
            "ticks": ""
           }
          },
          "title": {
           "x": 0.05
          },
          "xaxis": {
           "automargin": true,
           "gridcolor": "white",
           "linecolor": "white",
           "ticks": "",
           "title": {
            "standoff": 15
           },
           "zerolinecolor": "white",
           "zerolinewidth": 2
          },
          "yaxis": {
           "automargin": true,
           "gridcolor": "white",
           "linecolor": "white",
           "ticks": "",
           "title": {
            "standoff": 15
           },
           "zerolinecolor": "white",
           "zerolinewidth": 2
          }
         }
        },
        "xaxis": {
         "anchor": "y",
         "domain": [
          0,
          1
         ],
         "title": {
          "text": "Local"
         }
        },
        "yaxis": {
         "anchor": "x",
         "domain": [
          0,
          1
         ],
         "title": {
          "text": "Mes"
         }
        }
       }
      }
     },
     "metadata": {}
    }
   ],
   "source": [
    "fig = px.bar(df_cluster.groupby(['Cluster', 'Local'])[['Mes']].count().reset_index(),\n",
    "             x=\"Local\", y=\"Mes\", color=\"Cluster\", barmode=\"group\")\n",
    "fig.show()"
   ]
  },
  {
   "cell_type": "code",
   "execution_count": 32,
   "metadata": {},
   "outputs": [
    {
     "output_type": "execute_result",
     "data": {
      "text/plain": "                   UmidadeRelativa_0  UmidadeRelativa_1  UmidadeRelativa_2  \\\nUmidadeRelativa_0           1.000000           0.493403           0.232698   \nUmidadeRelativa_1           0.493403           1.000000          -0.057890   \nUmidadeRelativa_2           0.232698          -0.057890           1.000000   \nUmidadeRelativa_3           0.730910           0.539617           0.206135   \nUmidadeRelativa_4           0.111509          -0.228910           0.615032   \n\n                   UmidadeRelativa_3  UmidadeRelativa_4  \nUmidadeRelativa_0           0.730910           0.111509  \nUmidadeRelativa_1           0.539617          -0.228910  \nUmidadeRelativa_2           0.206135           0.615032  \nUmidadeRelativa_3           1.000000           0.024495  \nUmidadeRelativa_4           0.024495           1.000000  ",
      "text/html": "<div>\n<style scoped>\n    .dataframe tbody tr th:only-of-type {\n        vertical-align: middle;\n    }\n\n    .dataframe tbody tr th {\n        vertical-align: top;\n    }\n\n    .dataframe thead th {\n        text-align: right;\n    }\n</style>\n<table border=\"1\" class=\"dataframe\">\n  <thead>\n    <tr style=\"text-align: right;\">\n      <th></th>\n      <th>UmidadeRelativa_0</th>\n      <th>UmidadeRelativa_1</th>\n      <th>UmidadeRelativa_2</th>\n      <th>UmidadeRelativa_3</th>\n      <th>UmidadeRelativa_4</th>\n    </tr>\n  </thead>\n  <tbody>\n    <tr>\n      <th>UmidadeRelativa_0</th>\n      <td>1.000000</td>\n      <td>0.493403</td>\n      <td>0.232698</td>\n      <td>0.730910</td>\n      <td>0.111509</td>\n    </tr>\n    <tr>\n      <th>UmidadeRelativa_1</th>\n      <td>0.493403</td>\n      <td>1.000000</td>\n      <td>-0.057890</td>\n      <td>0.539617</td>\n      <td>-0.228910</td>\n    </tr>\n    <tr>\n      <th>UmidadeRelativa_2</th>\n      <td>0.232698</td>\n      <td>-0.057890</td>\n      <td>1.000000</td>\n      <td>0.206135</td>\n      <td>0.615032</td>\n    </tr>\n    <tr>\n      <th>UmidadeRelativa_3</th>\n      <td>0.730910</td>\n      <td>0.539617</td>\n      <td>0.206135</td>\n      <td>1.000000</td>\n      <td>0.024495</td>\n    </tr>\n    <tr>\n      <th>UmidadeRelativa_4</th>\n      <td>0.111509</td>\n      <td>-0.228910</td>\n      <td>0.615032</td>\n      <td>0.024495</td>\n      <td>1.000000</td>\n    </tr>\n  </tbody>\n</table>\n</div>"
     },
     "metadata": {},
     "execution_count": 32
    }
   ],
   "source": [
    "cols = [c for c in merged.columns if 'UmidadeRelativa' in c]\n",
    "merged[cols].corr(method='spearman')"
   ]
  },
  {
   "cell_type": "code",
   "execution_count": 33,
   "metadata": {},
   "outputs": [
    {
     "output_type": "execute_result",
     "data": {
      "text/plain": "                   UmidadeRelativa_0  UmidadeRelativa_1  UmidadeRelativa_2  \\\nUmidadeRelativa_0           1.000000           0.507392           0.594872   \nUmidadeRelativa_1           0.507392           1.000000           0.261825   \nUmidadeRelativa_2           0.594872           0.261825           1.000000   \nUmidadeRelativa_3           0.803270           0.551175           0.643285   \nUmidadeRelativa_4           0.407979           0.113227           0.621256   \n\n                   UmidadeRelativa_3  UmidadeRelativa_4  \nUmidadeRelativa_0           0.803270           0.407979  \nUmidadeRelativa_1           0.551175           0.113227  \nUmidadeRelativa_2           0.643285           0.621256  \nUmidadeRelativa_3           1.000000           0.424431  \nUmidadeRelativa_4           0.424431           1.000000  ",
      "text/html": "<div>\n<style scoped>\n    .dataframe tbody tr th:only-of-type {\n        vertical-align: middle;\n    }\n\n    .dataframe tbody tr th {\n        vertical-align: top;\n    }\n\n    .dataframe thead th {\n        text-align: right;\n    }\n</style>\n<table border=\"1\" class=\"dataframe\">\n  <thead>\n    <tr style=\"text-align: right;\">\n      <th></th>\n      <th>UmidadeRelativa_0</th>\n      <th>UmidadeRelativa_1</th>\n      <th>UmidadeRelativa_2</th>\n      <th>UmidadeRelativa_3</th>\n      <th>UmidadeRelativa_4</th>\n    </tr>\n  </thead>\n  <tbody>\n    <tr>\n      <th>UmidadeRelativa_0</th>\n      <td>1.000000</td>\n      <td>0.507392</td>\n      <td>0.594872</td>\n      <td>0.803270</td>\n      <td>0.407979</td>\n    </tr>\n    <tr>\n      <th>UmidadeRelativa_1</th>\n      <td>0.507392</td>\n      <td>1.000000</td>\n      <td>0.261825</td>\n      <td>0.551175</td>\n      <td>0.113227</td>\n    </tr>\n    <tr>\n      <th>UmidadeRelativa_2</th>\n      <td>0.594872</td>\n      <td>0.261825</td>\n      <td>1.000000</td>\n      <td>0.643285</td>\n      <td>0.621256</td>\n    </tr>\n    <tr>\n      <th>UmidadeRelativa_3</th>\n      <td>0.803270</td>\n      <td>0.551175</td>\n      <td>0.643285</td>\n      <td>1.000000</td>\n      <td>0.424431</td>\n    </tr>\n    <tr>\n      <th>UmidadeRelativa_4</th>\n      <td>0.407979</td>\n      <td>0.113227</td>\n      <td>0.621256</td>\n      <td>0.424431</td>\n      <td>1.000000</td>\n    </tr>\n  </tbody>\n</table>\n</div>"
     },
     "metadata": {},
     "execution_count": 33
    }
   ],
   "source": [
    "cols = [c for c in df_ungrouped.columns if 'UmidadeRelativa' in c]\n",
    "df_ungrouped[cols].corr(method='spearman')"
   ]
  },
  {
   "cell_type": "code",
   "execution_count": 34,
   "metadata": {},
   "outputs": [
    {
     "output_type": "execute_result",
     "data": {
      "text/plain": "UmidadeRelativa_0_error       13.988734\nUmidadeRelativa_1_error       33.413759\nUmidadeRelativa_2_error       35.274748\nUmidadeRelativa_3_error       11.163959\nUmidadeRelativa_4_error       40.423288\nPressaoAtmosferica_0_error     8.719886\nPressaoAtmosferica_1_error    41.133272\nPressaoAtmosferica_2_error     7.730720\nPressaoAtmosferica_3_error     8.061321\nPressaoAtmosferica_4_error     9.679386\nTemperaturaDoAr_0_error       10.987946\nTemperaturaDoAr_1_error       31.892599\nTemperaturaDoAr_2_error       10.396622\nTemperaturaDoAr_3_error       10.045915\nTemperaturaDoAr_4_error       12.384183\nTemperaturaInterna_0_error    14.359218\nTemperaturaInterna_1_error    33.880819\nTemperaturaInterna_2_error    14.285385\nTemperaturaInterna_3_error    13.154486\nTemperaturaInterna_4_error    15.376071\nPontoDeOrvalho_0_error        14.980866\nPontoDeOrvalho_1_error        33.527475\nPontoDeOrvalho_2_error        33.066677\nPontoDeOrvalho_3_error        11.408201\nPontoDeOrvalho_4_error        39.051443\nSensacaoTermica_0_error       60.072778\nSensacaoTermica_1_error       90.159763\nSensacaoTermica_2_error       60.391513\nSensacaoTermica_3_error       62.730110\nSensacaoTermica_4_error       81.501844\nRadiacaoSolar_0_error          6.336791\nRadiacaoSolar_1_error         69.880384\nRadiacaoSolar_2_error          5.109975\nRadiacaoSolar_3_error          6.132432\nRadiacaoSolar_4_error         35.467571\nDirecaoDoVento_0_error         6.784404\nDirecaoDoVento_1_error        39.635845\nDirecaoDoVento_2_error         5.697344\nDirecaoDoVento_3_error         6.025967\nDirecaoDoVento_4_error        38.880044\nVelocidadeDoVento_0_error     10.741726\nVelocidadeDoVento_1_error     42.744745\nVelocidadeDoVento_2_error      9.947361\nVelocidadeDoVento_3_error      9.143108\nVelocidadeDoVento_4_error     32.582148\nPrecipitacao_0_error           0.254460\nPrecipitacao_1_error           3.218661\nPrecipitacao_2_error           0.004285\nPrecipitacao_3_error           0.004615\nPrecipitacao_4_error           0.287092\ndtype: float64"
     },
     "metadata": {},
     "execution_count": 34
    }
   ],
   "source": [
    "regions[[c for c in regions.columns if 'Data_Hora' not in c]].sum() / regions.shape[0] * 100"
   ]
  },
  {
   "cell_type": "markdown",
   "metadata": {},
   "source": [
    "# PCA + KMeans"
   ]
  },
  {
   "cell_type": "code",
   "execution_count": 37,
   "metadata": {},
   "outputs": [
    {
     "output_type": "execute_result",
     "data": {
      "text/plain": "        Local  UmidadeRelativa  PressaoAtmosferica  TemperaturaDoAr  \\\n120605      4        59.500000          929.800000         21.50000   \n265897      1        66.800000          929.000000         16.50000   \n271678      3        90.741791          921.500000         19.90000   \n296848      1        83.900000          923.400000         22.80000   \n176666      1        92.300000          920.200000         20.50000   \n...       ...              ...                 ...              ...   \n113832      2        97.800000          933.300000         19.70000   \n296805      4         0.000000            0.000000          0.00000   \n56970       5        69.200000          930.600000         16.70000   \n276193      3        71.415459          924.500000         22.80000   \n290988      5        83.869293          926.170837         14.80196   \n\n        TemperaturaInterna  PontoDeOrvalho  RadiacaoSolar  DirecaoDoVento  \\\n120605           25.300000       13.300000            0.0            99.0   \n265897           23.000000        8.900000            0.0             0.0   \n271678           21.600000       18.084358            0.0             5.0   \n296848           26.800000       20.000000            1.0            87.0   \n176666           23.900000       19.200000            0.0           269.0   \n...                    ...             ...            ...             ...   \n113832           23.300000       19.500000          163.0           139.0   \n296805            0.000000        0.000000            0.0             0.0   \n56970            20.100000       11.100000          278.0           165.0   \n276193           26.000000       18.824463            0.0           173.0   \n290988           18.096716       12.673476            0.0            37.0   \n\n        VelocidadeDoVento  Precipitacao  Mes  \n120605           7.500000           0.0   10  \n265897           0.000000           0.0    2  \n271678           2.100000           0.0    4  \n296848          10.800000           0.0   11  \n176666           7.200000           0.0    2  \n...                   ...           ...  ...  \n113832           8.600000           0.0    6  \n296805           0.000000           0.0   11  \n56970           11.900000           0.0    6  \n276193           3.900000           0.0    8  \n290988          11.936685           0.0    7  \n\n[98535 rows x 11 columns]",
      "text/html": "<div>\n<style scoped>\n    .dataframe tbody tr th:only-of-type {\n        vertical-align: middle;\n    }\n\n    .dataframe tbody tr th {\n        vertical-align: top;\n    }\n\n    .dataframe thead th {\n        text-align: right;\n    }\n</style>\n<table border=\"1\" class=\"dataframe\">\n  <thead>\n    <tr style=\"text-align: right;\">\n      <th></th>\n      <th>Local</th>\n      <th>UmidadeRelativa</th>\n      <th>PressaoAtmosferica</th>\n      <th>TemperaturaDoAr</th>\n      <th>TemperaturaInterna</th>\n      <th>PontoDeOrvalho</th>\n      <th>RadiacaoSolar</th>\n      <th>DirecaoDoVento</th>\n      <th>VelocidadeDoVento</th>\n      <th>Precipitacao</th>\n      <th>Mes</th>\n    </tr>\n  </thead>\n  <tbody>\n    <tr>\n      <th>120605</th>\n      <td>4</td>\n      <td>59.500000</td>\n      <td>929.800000</td>\n      <td>21.50000</td>\n      <td>25.300000</td>\n      <td>13.300000</td>\n      <td>0.0</td>\n      <td>99.0</td>\n      <td>7.500000</td>\n      <td>0.0</td>\n      <td>10</td>\n    </tr>\n    <tr>\n      <th>265897</th>\n      <td>1</td>\n      <td>66.800000</td>\n      <td>929.000000</td>\n      <td>16.50000</td>\n      <td>23.000000</td>\n      <td>8.900000</td>\n      <td>0.0</td>\n      <td>0.0</td>\n      <td>0.000000</td>\n      <td>0.0</td>\n      <td>2</td>\n    </tr>\n    <tr>\n      <th>271678</th>\n      <td>3</td>\n      <td>90.741791</td>\n      <td>921.500000</td>\n      <td>19.90000</td>\n      <td>21.600000</td>\n      <td>18.084358</td>\n      <td>0.0</td>\n      <td>5.0</td>\n      <td>2.100000</td>\n      <td>0.0</td>\n      <td>4</td>\n    </tr>\n    <tr>\n      <th>296848</th>\n      <td>1</td>\n      <td>83.900000</td>\n      <td>923.400000</td>\n      <td>22.80000</td>\n      <td>26.800000</td>\n      <td>20.000000</td>\n      <td>1.0</td>\n      <td>87.0</td>\n      <td>10.800000</td>\n      <td>0.0</td>\n      <td>11</td>\n    </tr>\n    <tr>\n      <th>176666</th>\n      <td>1</td>\n      <td>92.300000</td>\n      <td>920.200000</td>\n      <td>20.50000</td>\n      <td>23.900000</td>\n      <td>19.200000</td>\n      <td>0.0</td>\n      <td>269.0</td>\n      <td>7.200000</td>\n      <td>0.0</td>\n      <td>2</td>\n    </tr>\n    <tr>\n      <th>...</th>\n      <td>...</td>\n      <td>...</td>\n      <td>...</td>\n      <td>...</td>\n      <td>...</td>\n      <td>...</td>\n      <td>...</td>\n      <td>...</td>\n      <td>...</td>\n      <td>...</td>\n      <td>...</td>\n    </tr>\n    <tr>\n      <th>113832</th>\n      <td>2</td>\n      <td>97.800000</td>\n      <td>933.300000</td>\n      <td>19.70000</td>\n      <td>23.300000</td>\n      <td>19.500000</td>\n      <td>163.0</td>\n      <td>139.0</td>\n      <td>8.600000</td>\n      <td>0.0</td>\n      <td>6</td>\n    </tr>\n    <tr>\n      <th>296805</th>\n      <td>4</td>\n      <td>0.000000</td>\n      <td>0.000000</td>\n      <td>0.00000</td>\n      <td>0.000000</td>\n      <td>0.000000</td>\n      <td>0.0</td>\n      <td>0.0</td>\n      <td>0.000000</td>\n      <td>0.0</td>\n      <td>11</td>\n    </tr>\n    <tr>\n      <th>56970</th>\n      <td>5</td>\n      <td>69.200000</td>\n      <td>930.600000</td>\n      <td>16.70000</td>\n      <td>20.100000</td>\n      <td>11.100000</td>\n      <td>278.0</td>\n      <td>165.0</td>\n      <td>11.900000</td>\n      <td>0.0</td>\n      <td>6</td>\n    </tr>\n    <tr>\n      <th>276193</th>\n      <td>3</td>\n      <td>71.415459</td>\n      <td>924.500000</td>\n      <td>22.80000</td>\n      <td>26.000000</td>\n      <td>18.824463</td>\n      <td>0.0</td>\n      <td>173.0</td>\n      <td>3.900000</td>\n      <td>0.0</td>\n      <td>8</td>\n    </tr>\n    <tr>\n      <th>290988</th>\n      <td>5</td>\n      <td>83.869293</td>\n      <td>926.170837</td>\n      <td>14.80196</td>\n      <td>18.096716</td>\n      <td>12.673476</td>\n      <td>0.0</td>\n      <td>37.0</td>\n      <td>11.936685</td>\n      <td>0.0</td>\n      <td>7</td>\n    </tr>\n  </tbody>\n</table>\n<p>98535 rows × 11 columns</p>\n</div>"
     },
     "metadata": {},
     "execution_count": 37
    }
   ],
   "source": [
    "df_pca = df_grouped.sample(n=100000).copy()\n",
    "df_pca = df_pca[[c for c in df_pca.columns if c not in ['SensacaoTermica']]].copy().dropna()\n",
    "df_pca['Mes'] = df_pca['Data_Hora'].dt.month\n",
    "df_pca['Local'] = df_pca['Local'].rank(method='dense', ascending=False).astype(int)\n",
    "df_pca = df_pca.drop(columns = ['Data_Hora'])\n",
    "df_pca"
   ]
  },
  {
   "cell_type": "code",
   "execution_count": 38,
   "metadata": {},
   "outputs": [],
   "source": [
    "X_std = StandardScaler().fit_transform(df_pca)"
   ]
  },
  {
   "cell_type": "code",
   "execution_count": 39,
   "metadata": {},
   "outputs": [],
   "source": [
    "pca = PCA(n_components=11)\n",
    "principalComponents = pca.fit_transform(X_std)"
   ]
  },
  {
   "cell_type": "code",
   "execution_count": 40,
   "metadata": {},
   "outputs": [
    {
     "output_type": "execute_result",
     "data": {
      "text/plain": "([<matplotlib.axis.XTick at 0x277c597cf10>,\n  <matplotlib.axis.XTick at 0x277c597cee0>,\n  <matplotlib.axis.XTick at 0x277b4dbe9d0>,\n  <matplotlib.axis.XTick at 0x277c59c27f0>,\n  <matplotlib.axis.XTick at 0x277c59c2d30>,\n  <matplotlib.axis.XTick at 0x277c59d2280>,\n  <matplotlib.axis.XTick at 0x277c59d2790>,\n  <matplotlib.axis.XTick at 0x277c59d2ca0>,\n  <matplotlib.axis.XTick at 0x277c59d23d0>,\n  <matplotlib.axis.XTick at 0x277c59c2520>,\n  <matplotlib.axis.XTick at 0x277c59d83a0>],\n <a list of 11 Text major ticklabel objects>)"
     },
     "metadata": {},
     "execution_count": 40
    },
    {
     "output_type": "display_data",
     "data": {
      "text/plain": "<Figure size 432x288 with 1 Axes>",
      "image/svg+xml": "<?xml version=\"1.0\" encoding=\"utf-8\" standalone=\"no\"?>\r\n<!DOCTYPE svg PUBLIC \"-//W3C//DTD SVG 1.1//EN\"\r\n  \"http://www.w3.org/Graphics/SVG/1.1/DTD/svg11.dtd\">\r\n<!-- Created with matplotlib (https://matplotlib.org/) -->\r\n<svg height=\"262.19625pt\" version=\"1.1\" viewBox=\"0 0 392.14375 262.19625\" width=\"392.14375pt\" xmlns=\"http://www.w3.org/2000/svg\" xmlns:xlink=\"http://www.w3.org/1999/xlink\">\r\n <defs>\r\n  <style type=\"text/css\">\r\n*{stroke-linecap:butt;stroke-linejoin:round;}\r\n  </style>\r\n </defs>\r\n <g id=\"figure_1\">\r\n  <g id=\"patch_1\">\r\n   <path d=\"M 0 262.19625 \r\nL 392.14375 262.19625 \r\nL 392.14375 0 \r\nL 0 0 \r\nz\r\n\" style=\"fill:none;\"/>\r\n  </g>\r\n  <g id=\"axes_1\">\r\n   <g id=\"patch_2\">\r\n    <path d=\"M 50.14375 224.64 \r\nL 384.94375 224.64 \r\nL 384.94375 7.2 \r\nL 50.14375 7.2 \r\nz\r\n\" style=\"fill:#ffffff;\"/>\r\n   </g>\r\n   <g id=\"patch_3\">\r\n    <path clip-path=\"url(#pea0b87b6a4)\" d=\"M 65.361932 224.64 \r\nL 87.907386 224.64 \r\nL 87.907386 17.554286 \r\nL 65.361932 17.554286 \r\nz\r\n\"/>\r\n   </g>\r\n   <g id=\"patch_4\">\r\n    <path clip-path=\"url(#pea0b87b6a4)\" d=\"M 93.54375 224.64 \r\nL 116.089205 224.64 \r\nL 116.089205 137.178143 \r\nL 93.54375 137.178143 \r\nz\r\n\"/>\r\n   </g>\r\n   <g id=\"patch_5\">\r\n    <path clip-path=\"url(#pea0b87b6a4)\" d=\"M 121.725568 224.64 \r\nL 144.271023 224.64 \r\nL 144.271023 157.12658 \r\nL 121.725568 157.12658 \r\nz\r\n\"/>\r\n   </g>\r\n   <g id=\"patch_6\">\r\n    <path clip-path=\"url(#pea0b87b6a4)\" d=\"M 149.907386 224.64 \r\nL 172.452841 224.64 \r\nL 172.452841 163.488169 \r\nL 149.907386 163.488169 \r\nz\r\n\"/>\r\n   </g>\r\n   <g id=\"patch_7\">\r\n    <path clip-path=\"url(#pea0b87b6a4)\" d=\"M 178.089205 224.64 \r\nL 200.634659 224.64 \r\nL 200.634659 163.65865 \r\nL 178.089205 163.65865 \r\nz\r\n\"/>\r\n   </g>\r\n   <g id=\"patch_8\">\r\n    <path clip-path=\"url(#pea0b87b6a4)\" d=\"M 206.271023 224.64 \r\nL 228.816477 224.64 \r\nL 228.816477 169.661877 \r\nL 206.271023 169.661877 \r\nz\r\n\"/>\r\n   </g>\r\n   <g id=\"patch_9\">\r\n    <path clip-path=\"url(#pea0b87b6a4)\" d=\"M 234.452841 224.64 \r\nL 256.998295 224.64 \r\nL 256.998295 180.173471 \r\nL 234.452841 180.173471 \r\nz\r\n\"/>\r\n   </g>\r\n   <g id=\"patch_10\">\r\n    <path clip-path=\"url(#pea0b87b6a4)\" d=\"M 262.634659 224.64 \r\nL 285.180114 224.64 \r\nL 285.180114 184.961488 \r\nL 262.634659 184.961488 \r\nz\r\n\"/>\r\n   </g>\r\n   <g id=\"patch_11\">\r\n    <path clip-path=\"url(#pea0b87b6a4)\" d=\"M 290.816477 224.64 \r\nL 313.361932 224.64 \r\nL 313.361932 194.969023 \r\nL 290.816477 194.969023 \r\nz\r\n\"/>\r\n   </g>\r\n   <g id=\"patch_12\">\r\n    <path clip-path=\"url(#pea0b87b6a4)\" d=\"M 318.998295 224.64 \r\nL 341.54375 224.64 \r\nL 341.54375 207.599538 \r\nL 318.998295 207.599538 \r\nz\r\n\"/>\r\n   </g>\r\n   <g id=\"patch_13\">\r\n    <path clip-path=\"url(#pea0b87b6a4)\" d=\"M 347.180114 224.64 \r\nL 369.725568 224.64 \r\nL 369.725568 223.726951 \r\nL 347.180114 223.726951 \r\nz\r\n\"/>\r\n   </g>\r\n   <g id=\"matplotlib.axis_1\">\r\n    <g id=\"xtick_1\">\r\n     <g id=\"line2d_1\">\r\n      <defs>\r\n       <path d=\"M 0 0 \r\nL 0 3.5 \r\n\" id=\"m3fc831701f\" style=\"stroke:#000000;stroke-width:0.8;\"/>\r\n      </defs>\r\n      <g>\r\n       <use style=\"stroke:#000000;stroke-width:0.8;\" x=\"76.634659\" xlink:href=\"#m3fc831701f\" y=\"224.64\"/>\r\n      </g>\r\n     </g>\r\n     <g id=\"text_1\">\r\n      <!-- 0 -->\r\n      <defs>\r\n       <path d=\"M 31.78125 66.40625 \r\nQ 24.171875 66.40625 20.328125 58.90625 \r\nQ 16.5 51.421875 16.5 36.375 \r\nQ 16.5 21.390625 20.328125 13.890625 \r\nQ 24.171875 6.390625 31.78125 6.390625 \r\nQ 39.453125 6.390625 43.28125 13.890625 \r\nQ 47.125 21.390625 47.125 36.375 \r\nQ 47.125 51.421875 43.28125 58.90625 \r\nQ 39.453125 66.40625 31.78125 66.40625 \r\nz\r\nM 31.78125 74.21875 \r\nQ 44.046875 74.21875 50.515625 64.515625 \r\nQ 56.984375 54.828125 56.984375 36.375 \r\nQ 56.984375 17.96875 50.515625 8.265625 \r\nQ 44.046875 -1.421875 31.78125 -1.421875 \r\nQ 19.53125 -1.421875 13.0625 8.265625 \r\nQ 6.59375 17.96875 6.59375 36.375 \r\nQ 6.59375 54.828125 13.0625 64.515625 \r\nQ 19.53125 74.21875 31.78125 74.21875 \r\nz\r\n\" id=\"DejaVuSans-48\"/>\r\n      </defs>\r\n      <g transform=\"translate(73.453409 239.238437)scale(0.1 -0.1)\">\r\n       <use xlink:href=\"#DejaVuSans-48\"/>\r\n      </g>\r\n     </g>\r\n    </g>\r\n    <g id=\"xtick_2\">\r\n     <g id=\"line2d_2\">\r\n      <g>\r\n       <use style=\"stroke:#000000;stroke-width:0.8;\" x=\"104.816477\" xlink:href=\"#m3fc831701f\" y=\"224.64\"/>\r\n      </g>\r\n     </g>\r\n     <g id=\"text_2\">\r\n      <!-- 1 -->\r\n      <defs>\r\n       <path d=\"M 12.40625 8.296875 \r\nL 28.515625 8.296875 \r\nL 28.515625 63.921875 \r\nL 10.984375 60.40625 \r\nL 10.984375 69.390625 \r\nL 28.421875 72.90625 \r\nL 38.28125 72.90625 \r\nL 38.28125 8.296875 \r\nL 54.390625 8.296875 \r\nL 54.390625 0 \r\nL 12.40625 0 \r\nz\r\n\" id=\"DejaVuSans-49\"/>\r\n      </defs>\r\n      <g transform=\"translate(101.635227 239.238437)scale(0.1 -0.1)\">\r\n       <use xlink:href=\"#DejaVuSans-49\"/>\r\n      </g>\r\n     </g>\r\n    </g>\r\n    <g id=\"xtick_3\">\r\n     <g id=\"line2d_3\">\r\n      <g>\r\n       <use style=\"stroke:#000000;stroke-width:0.8;\" x=\"132.998295\" xlink:href=\"#m3fc831701f\" y=\"224.64\"/>\r\n      </g>\r\n     </g>\r\n     <g id=\"text_3\">\r\n      <!-- 2 -->\r\n      <defs>\r\n       <path d=\"M 19.1875 8.296875 \r\nL 53.609375 8.296875 \r\nL 53.609375 0 \r\nL 7.328125 0 \r\nL 7.328125 8.296875 \r\nQ 12.9375 14.109375 22.625 23.890625 \r\nQ 32.328125 33.6875 34.8125 36.53125 \r\nQ 39.546875 41.84375 41.421875 45.53125 \r\nQ 43.3125 49.21875 43.3125 52.78125 \r\nQ 43.3125 58.59375 39.234375 62.25 \r\nQ 35.15625 65.921875 28.609375 65.921875 \r\nQ 23.96875 65.921875 18.8125 64.3125 \r\nQ 13.671875 62.703125 7.8125 59.421875 \r\nL 7.8125 69.390625 \r\nQ 13.765625 71.78125 18.9375 73 \r\nQ 24.125 74.21875 28.421875 74.21875 \r\nQ 39.75 74.21875 46.484375 68.546875 \r\nQ 53.21875 62.890625 53.21875 53.421875 \r\nQ 53.21875 48.921875 51.53125 44.890625 \r\nQ 49.859375 40.875 45.40625 35.40625 \r\nQ 44.1875 33.984375 37.640625 27.21875 \r\nQ 31.109375 20.453125 19.1875 8.296875 \r\nz\r\n\" id=\"DejaVuSans-50\"/>\r\n      </defs>\r\n      <g transform=\"translate(129.817045 239.238437)scale(0.1 -0.1)\">\r\n       <use xlink:href=\"#DejaVuSans-50\"/>\r\n      </g>\r\n     </g>\r\n    </g>\r\n    <g id=\"xtick_4\">\r\n     <g id=\"line2d_4\">\r\n      <g>\r\n       <use style=\"stroke:#000000;stroke-width:0.8;\" x=\"161.180114\" xlink:href=\"#m3fc831701f\" y=\"224.64\"/>\r\n      </g>\r\n     </g>\r\n     <g id=\"text_4\">\r\n      <!-- 3 -->\r\n      <defs>\r\n       <path d=\"M 40.578125 39.3125 \r\nQ 47.65625 37.796875 51.625 33 \r\nQ 55.609375 28.21875 55.609375 21.1875 \r\nQ 55.609375 10.40625 48.1875 4.484375 \r\nQ 40.765625 -1.421875 27.09375 -1.421875 \r\nQ 22.515625 -1.421875 17.65625 -0.515625 \r\nQ 12.796875 0.390625 7.625 2.203125 \r\nL 7.625 11.71875 \r\nQ 11.71875 9.328125 16.59375 8.109375 \r\nQ 21.484375 6.890625 26.8125 6.890625 \r\nQ 36.078125 6.890625 40.9375 10.546875 \r\nQ 45.796875 14.203125 45.796875 21.1875 \r\nQ 45.796875 27.640625 41.28125 31.265625 \r\nQ 36.765625 34.90625 28.71875 34.90625 \r\nL 20.21875 34.90625 \r\nL 20.21875 43.015625 \r\nL 29.109375 43.015625 \r\nQ 36.375 43.015625 40.234375 45.921875 \r\nQ 44.09375 48.828125 44.09375 54.296875 \r\nQ 44.09375 59.90625 40.109375 62.90625 \r\nQ 36.140625 65.921875 28.71875 65.921875 \r\nQ 24.65625 65.921875 20.015625 65.03125 \r\nQ 15.375 64.15625 9.8125 62.3125 \r\nL 9.8125 71.09375 \r\nQ 15.4375 72.65625 20.34375 73.4375 \r\nQ 25.25 74.21875 29.59375 74.21875 \r\nQ 40.828125 74.21875 47.359375 69.109375 \r\nQ 53.90625 64.015625 53.90625 55.328125 \r\nQ 53.90625 49.265625 50.4375 45.09375 \r\nQ 46.96875 40.921875 40.578125 39.3125 \r\nz\r\n\" id=\"DejaVuSans-51\"/>\r\n      </defs>\r\n      <g transform=\"translate(157.998864 239.238437)scale(0.1 -0.1)\">\r\n       <use xlink:href=\"#DejaVuSans-51\"/>\r\n      </g>\r\n     </g>\r\n    </g>\r\n    <g id=\"xtick_5\">\r\n     <g id=\"line2d_5\">\r\n      <g>\r\n       <use style=\"stroke:#000000;stroke-width:0.8;\" x=\"189.361932\" xlink:href=\"#m3fc831701f\" y=\"224.64\"/>\r\n      </g>\r\n     </g>\r\n     <g id=\"text_5\">\r\n      <!-- 4 -->\r\n      <defs>\r\n       <path d=\"M 37.796875 64.3125 \r\nL 12.890625 25.390625 \r\nL 37.796875 25.390625 \r\nz\r\nM 35.203125 72.90625 \r\nL 47.609375 72.90625 \r\nL 47.609375 25.390625 \r\nL 58.015625 25.390625 \r\nL 58.015625 17.1875 \r\nL 47.609375 17.1875 \r\nL 47.609375 0 \r\nL 37.796875 0 \r\nL 37.796875 17.1875 \r\nL 4.890625 17.1875 \r\nL 4.890625 26.703125 \r\nz\r\n\" id=\"DejaVuSans-52\"/>\r\n      </defs>\r\n      <g transform=\"translate(186.180682 239.238437)scale(0.1 -0.1)\">\r\n       <use xlink:href=\"#DejaVuSans-52\"/>\r\n      </g>\r\n     </g>\r\n    </g>\r\n    <g id=\"xtick_6\">\r\n     <g id=\"line2d_6\">\r\n      <g>\r\n       <use style=\"stroke:#000000;stroke-width:0.8;\" x=\"217.54375\" xlink:href=\"#m3fc831701f\" y=\"224.64\"/>\r\n      </g>\r\n     </g>\r\n     <g id=\"text_6\">\r\n      <!-- 5 -->\r\n      <defs>\r\n       <path d=\"M 10.796875 72.90625 \r\nL 49.515625 72.90625 \r\nL 49.515625 64.59375 \r\nL 19.828125 64.59375 \r\nL 19.828125 46.734375 \r\nQ 21.96875 47.46875 24.109375 47.828125 \r\nQ 26.265625 48.1875 28.421875 48.1875 \r\nQ 40.625 48.1875 47.75 41.5 \r\nQ 54.890625 34.8125 54.890625 23.390625 \r\nQ 54.890625 11.625 47.5625 5.09375 \r\nQ 40.234375 -1.421875 26.90625 -1.421875 \r\nQ 22.3125 -1.421875 17.546875 -0.640625 \r\nQ 12.796875 0.140625 7.71875 1.703125 \r\nL 7.71875 11.625 \r\nQ 12.109375 9.234375 16.796875 8.0625 \r\nQ 21.484375 6.890625 26.703125 6.890625 \r\nQ 35.15625 6.890625 40.078125 11.328125 \r\nQ 45.015625 15.765625 45.015625 23.390625 \r\nQ 45.015625 31 40.078125 35.4375 \r\nQ 35.15625 39.890625 26.703125 39.890625 \r\nQ 22.75 39.890625 18.8125 39.015625 \r\nQ 14.890625 38.140625 10.796875 36.28125 \r\nz\r\n\" id=\"DejaVuSans-53\"/>\r\n      </defs>\r\n      <g transform=\"translate(214.3625 239.238437)scale(0.1 -0.1)\">\r\n       <use xlink:href=\"#DejaVuSans-53\"/>\r\n      </g>\r\n     </g>\r\n    </g>\r\n    <g id=\"xtick_7\">\r\n     <g id=\"line2d_7\">\r\n      <g>\r\n       <use style=\"stroke:#000000;stroke-width:0.8;\" x=\"245.725568\" xlink:href=\"#m3fc831701f\" y=\"224.64\"/>\r\n      </g>\r\n     </g>\r\n     <g id=\"text_7\">\r\n      <!-- 6 -->\r\n      <defs>\r\n       <path d=\"M 33.015625 40.375 \r\nQ 26.375 40.375 22.484375 35.828125 \r\nQ 18.609375 31.296875 18.609375 23.390625 \r\nQ 18.609375 15.53125 22.484375 10.953125 \r\nQ 26.375 6.390625 33.015625 6.390625 \r\nQ 39.65625 6.390625 43.53125 10.953125 \r\nQ 47.40625 15.53125 47.40625 23.390625 \r\nQ 47.40625 31.296875 43.53125 35.828125 \r\nQ 39.65625 40.375 33.015625 40.375 \r\nz\r\nM 52.59375 71.296875 \r\nL 52.59375 62.3125 \r\nQ 48.875 64.0625 45.09375 64.984375 \r\nQ 41.3125 65.921875 37.59375 65.921875 \r\nQ 27.828125 65.921875 22.671875 59.328125 \r\nQ 17.53125 52.734375 16.796875 39.40625 \r\nQ 19.671875 43.65625 24.015625 45.921875 \r\nQ 28.375 48.1875 33.59375 48.1875 \r\nQ 44.578125 48.1875 50.953125 41.515625 \r\nQ 57.328125 34.859375 57.328125 23.390625 \r\nQ 57.328125 12.15625 50.6875 5.359375 \r\nQ 44.046875 -1.421875 33.015625 -1.421875 \r\nQ 20.359375 -1.421875 13.671875 8.265625 \r\nQ 6.984375 17.96875 6.984375 36.375 \r\nQ 6.984375 53.65625 15.1875 63.9375 \r\nQ 23.390625 74.21875 37.203125 74.21875 \r\nQ 40.921875 74.21875 44.703125 73.484375 \r\nQ 48.484375 72.75 52.59375 71.296875 \r\nz\r\n\" id=\"DejaVuSans-54\"/>\r\n      </defs>\r\n      <g transform=\"translate(242.544318 239.238437)scale(0.1 -0.1)\">\r\n       <use xlink:href=\"#DejaVuSans-54\"/>\r\n      </g>\r\n     </g>\r\n    </g>\r\n    <g id=\"xtick_8\">\r\n     <g id=\"line2d_8\">\r\n      <g>\r\n       <use style=\"stroke:#000000;stroke-width:0.8;\" x=\"273.907386\" xlink:href=\"#m3fc831701f\" y=\"224.64\"/>\r\n      </g>\r\n     </g>\r\n     <g id=\"text_8\">\r\n      <!-- 7 -->\r\n      <defs>\r\n       <path d=\"M 8.203125 72.90625 \r\nL 55.078125 72.90625 \r\nL 55.078125 68.703125 \r\nL 28.609375 0 \r\nL 18.3125 0 \r\nL 43.21875 64.59375 \r\nL 8.203125 64.59375 \r\nz\r\n\" id=\"DejaVuSans-55\"/>\r\n      </defs>\r\n      <g transform=\"translate(270.726136 239.238437)scale(0.1 -0.1)\">\r\n       <use xlink:href=\"#DejaVuSans-55\"/>\r\n      </g>\r\n     </g>\r\n    </g>\r\n    <g id=\"xtick_9\">\r\n     <g id=\"line2d_9\">\r\n      <g>\r\n       <use style=\"stroke:#000000;stroke-width:0.8;\" x=\"302.089205\" xlink:href=\"#m3fc831701f\" y=\"224.64\"/>\r\n      </g>\r\n     </g>\r\n     <g id=\"text_9\">\r\n      <!-- 8 -->\r\n      <defs>\r\n       <path d=\"M 31.78125 34.625 \r\nQ 24.75 34.625 20.71875 30.859375 \r\nQ 16.703125 27.09375 16.703125 20.515625 \r\nQ 16.703125 13.921875 20.71875 10.15625 \r\nQ 24.75 6.390625 31.78125 6.390625 \r\nQ 38.8125 6.390625 42.859375 10.171875 \r\nQ 46.921875 13.96875 46.921875 20.515625 \r\nQ 46.921875 27.09375 42.890625 30.859375 \r\nQ 38.875 34.625 31.78125 34.625 \r\nz\r\nM 21.921875 38.8125 \r\nQ 15.578125 40.375 12.03125 44.71875 \r\nQ 8.5 49.078125 8.5 55.328125 \r\nQ 8.5 64.0625 14.71875 69.140625 \r\nQ 20.953125 74.21875 31.78125 74.21875 \r\nQ 42.671875 74.21875 48.875 69.140625 \r\nQ 55.078125 64.0625 55.078125 55.328125 \r\nQ 55.078125 49.078125 51.53125 44.71875 \r\nQ 48 40.375 41.703125 38.8125 \r\nQ 48.828125 37.15625 52.796875 32.3125 \r\nQ 56.78125 27.484375 56.78125 20.515625 \r\nQ 56.78125 9.90625 50.3125 4.234375 \r\nQ 43.84375 -1.421875 31.78125 -1.421875 \r\nQ 19.734375 -1.421875 13.25 4.234375 \r\nQ 6.78125 9.90625 6.78125 20.515625 \r\nQ 6.78125 27.484375 10.78125 32.3125 \r\nQ 14.796875 37.15625 21.921875 38.8125 \r\nz\r\nM 18.3125 54.390625 \r\nQ 18.3125 48.734375 21.84375 45.5625 \r\nQ 25.390625 42.390625 31.78125 42.390625 \r\nQ 38.140625 42.390625 41.71875 45.5625 \r\nQ 45.3125 48.734375 45.3125 54.390625 \r\nQ 45.3125 60.0625 41.71875 63.234375 \r\nQ 38.140625 66.40625 31.78125 66.40625 \r\nQ 25.390625 66.40625 21.84375 63.234375 \r\nQ 18.3125 60.0625 18.3125 54.390625 \r\nz\r\n\" id=\"DejaVuSans-56\"/>\r\n      </defs>\r\n      <g transform=\"translate(298.907955 239.238437)scale(0.1 -0.1)\">\r\n       <use xlink:href=\"#DejaVuSans-56\"/>\r\n      </g>\r\n     </g>\r\n    </g>\r\n    <g id=\"xtick_10\">\r\n     <g id=\"line2d_10\">\r\n      <g>\r\n       <use style=\"stroke:#000000;stroke-width:0.8;\" x=\"330.271023\" xlink:href=\"#m3fc831701f\" y=\"224.64\"/>\r\n      </g>\r\n     </g>\r\n     <g id=\"text_10\">\r\n      <!-- 9 -->\r\n      <defs>\r\n       <path d=\"M 10.984375 1.515625 \r\nL 10.984375 10.5 \r\nQ 14.703125 8.734375 18.5 7.8125 \r\nQ 22.3125 6.890625 25.984375 6.890625 \r\nQ 35.75 6.890625 40.890625 13.453125 \r\nQ 46.046875 20.015625 46.78125 33.40625 \r\nQ 43.953125 29.203125 39.59375 26.953125 \r\nQ 35.25 24.703125 29.984375 24.703125 \r\nQ 19.046875 24.703125 12.671875 31.3125 \r\nQ 6.296875 37.9375 6.296875 49.421875 \r\nQ 6.296875 60.640625 12.9375 67.421875 \r\nQ 19.578125 74.21875 30.609375 74.21875 \r\nQ 43.265625 74.21875 49.921875 64.515625 \r\nQ 56.59375 54.828125 56.59375 36.375 \r\nQ 56.59375 19.140625 48.40625 8.859375 \r\nQ 40.234375 -1.421875 26.421875 -1.421875 \r\nQ 22.703125 -1.421875 18.890625 -0.6875 \r\nQ 15.09375 0.046875 10.984375 1.515625 \r\nz\r\nM 30.609375 32.421875 \r\nQ 37.25 32.421875 41.125 36.953125 \r\nQ 45.015625 41.5 45.015625 49.421875 \r\nQ 45.015625 57.28125 41.125 61.84375 \r\nQ 37.25 66.40625 30.609375 66.40625 \r\nQ 23.96875 66.40625 20.09375 61.84375 \r\nQ 16.21875 57.28125 16.21875 49.421875 \r\nQ 16.21875 41.5 20.09375 36.953125 \r\nQ 23.96875 32.421875 30.609375 32.421875 \r\nz\r\n\" id=\"DejaVuSans-57\"/>\r\n      </defs>\r\n      <g transform=\"translate(327.089773 239.238437)scale(0.1 -0.1)\">\r\n       <use xlink:href=\"#DejaVuSans-57\"/>\r\n      </g>\r\n     </g>\r\n    </g>\r\n    <g id=\"xtick_11\">\r\n     <g id=\"line2d_11\">\r\n      <g>\r\n       <use style=\"stroke:#000000;stroke-width:0.8;\" x=\"358.452841\" xlink:href=\"#m3fc831701f\" y=\"224.64\"/>\r\n      </g>\r\n     </g>\r\n     <g id=\"text_11\">\r\n      <!-- 10 -->\r\n      <g transform=\"translate(352.090341 239.238437)scale(0.1 -0.1)\">\r\n       <use xlink:href=\"#DejaVuSans-49\"/>\r\n       <use x=\"63.623047\" xlink:href=\"#DejaVuSans-48\"/>\r\n      </g>\r\n     </g>\r\n    </g>\r\n    <g id=\"text_12\">\r\n     <!-- PCA features -->\r\n     <defs>\r\n      <path d=\"M 19.671875 64.796875 \r\nL 19.671875 37.40625 \r\nL 32.078125 37.40625 \r\nQ 38.96875 37.40625 42.71875 40.96875 \r\nQ 46.484375 44.53125 46.484375 51.125 \r\nQ 46.484375 57.671875 42.71875 61.234375 \r\nQ 38.96875 64.796875 32.078125 64.796875 \r\nz\r\nM 9.8125 72.90625 \r\nL 32.078125 72.90625 \r\nQ 44.34375 72.90625 50.609375 67.359375 \r\nQ 56.890625 61.8125 56.890625 51.125 \r\nQ 56.890625 40.328125 50.609375 34.8125 \r\nQ 44.34375 29.296875 32.078125 29.296875 \r\nL 19.671875 29.296875 \r\nL 19.671875 0 \r\nL 9.8125 0 \r\nz\r\n\" id=\"DejaVuSans-80\"/>\r\n      <path d=\"M 64.40625 67.28125 \r\nL 64.40625 56.890625 \r\nQ 59.421875 61.53125 53.78125 63.8125 \r\nQ 48.140625 66.109375 41.796875 66.109375 \r\nQ 29.296875 66.109375 22.65625 58.46875 \r\nQ 16.015625 50.828125 16.015625 36.375 \r\nQ 16.015625 21.96875 22.65625 14.328125 \r\nQ 29.296875 6.6875 41.796875 6.6875 \r\nQ 48.140625 6.6875 53.78125 8.984375 \r\nQ 59.421875 11.28125 64.40625 15.921875 \r\nL 64.40625 5.609375 \r\nQ 59.234375 2.09375 53.4375 0.328125 \r\nQ 47.65625 -1.421875 41.21875 -1.421875 \r\nQ 24.65625 -1.421875 15.125 8.703125 \r\nQ 5.609375 18.84375 5.609375 36.375 \r\nQ 5.609375 53.953125 15.125 64.078125 \r\nQ 24.65625 74.21875 41.21875 74.21875 \r\nQ 47.75 74.21875 53.53125 72.484375 \r\nQ 59.328125 70.75 64.40625 67.28125 \r\nz\r\n\" id=\"DejaVuSans-67\"/>\r\n      <path d=\"M 34.1875 63.1875 \r\nL 20.796875 26.90625 \r\nL 47.609375 26.90625 \r\nz\r\nM 28.609375 72.90625 \r\nL 39.796875 72.90625 \r\nL 67.578125 0 \r\nL 57.328125 0 \r\nL 50.6875 18.703125 \r\nL 17.828125 18.703125 \r\nL 11.1875 0 \r\nL 0.78125 0 \r\nz\r\n\" id=\"DejaVuSans-65\"/>\r\n      <path id=\"DejaVuSans-32\"/>\r\n      <path d=\"M 37.109375 75.984375 \r\nL 37.109375 68.5 \r\nL 28.515625 68.5 \r\nQ 23.6875 68.5 21.796875 66.546875 \r\nQ 19.921875 64.59375 19.921875 59.515625 \r\nL 19.921875 54.6875 \r\nL 34.71875 54.6875 \r\nL 34.71875 47.703125 \r\nL 19.921875 47.703125 \r\nL 19.921875 0 \r\nL 10.890625 0 \r\nL 10.890625 47.703125 \r\nL 2.296875 47.703125 \r\nL 2.296875 54.6875 \r\nL 10.890625 54.6875 \r\nL 10.890625 58.5 \r\nQ 10.890625 67.625 15.140625 71.796875 \r\nQ 19.390625 75.984375 28.609375 75.984375 \r\nz\r\n\" id=\"DejaVuSans-102\"/>\r\n      <path d=\"M 56.203125 29.59375 \r\nL 56.203125 25.203125 \r\nL 14.890625 25.203125 \r\nQ 15.484375 15.921875 20.484375 11.0625 \r\nQ 25.484375 6.203125 34.421875 6.203125 \r\nQ 39.59375 6.203125 44.453125 7.46875 \r\nQ 49.3125 8.734375 54.109375 11.28125 \r\nL 54.109375 2.78125 \r\nQ 49.265625 0.734375 44.1875 -0.34375 \r\nQ 39.109375 -1.421875 33.890625 -1.421875 \r\nQ 20.796875 -1.421875 13.15625 6.1875 \r\nQ 5.515625 13.8125 5.515625 26.8125 \r\nQ 5.515625 40.234375 12.765625 48.109375 \r\nQ 20.015625 56 32.328125 56 \r\nQ 43.359375 56 49.78125 48.890625 \r\nQ 56.203125 41.796875 56.203125 29.59375 \r\nz\r\nM 47.21875 32.234375 \r\nQ 47.125 39.59375 43.09375 43.984375 \r\nQ 39.0625 48.390625 32.421875 48.390625 \r\nQ 24.90625 48.390625 20.390625 44.140625 \r\nQ 15.875 39.890625 15.1875 32.171875 \r\nz\r\n\" id=\"DejaVuSans-101\"/>\r\n      <path d=\"M 34.28125 27.484375 \r\nQ 23.390625 27.484375 19.1875 25 \r\nQ 14.984375 22.515625 14.984375 16.5 \r\nQ 14.984375 11.71875 18.140625 8.90625 \r\nQ 21.296875 6.109375 26.703125 6.109375 \r\nQ 34.1875 6.109375 38.703125 11.40625 \r\nQ 43.21875 16.703125 43.21875 25.484375 \r\nL 43.21875 27.484375 \r\nz\r\nM 52.203125 31.203125 \r\nL 52.203125 0 \r\nL 43.21875 0 \r\nL 43.21875 8.296875 \r\nQ 40.140625 3.328125 35.546875 0.953125 \r\nQ 30.953125 -1.421875 24.3125 -1.421875 \r\nQ 15.921875 -1.421875 10.953125 3.296875 \r\nQ 6 8.015625 6 15.921875 \r\nQ 6 25.140625 12.171875 29.828125 \r\nQ 18.359375 34.515625 30.609375 34.515625 \r\nL 43.21875 34.515625 \r\nL 43.21875 35.40625 \r\nQ 43.21875 41.609375 39.140625 45 \r\nQ 35.0625 48.390625 27.6875 48.390625 \r\nQ 23 48.390625 18.546875 47.265625 \r\nQ 14.109375 46.140625 10.015625 43.890625 \r\nL 10.015625 52.203125 \r\nQ 14.9375 54.109375 19.578125 55.046875 \r\nQ 24.21875 56 28.609375 56 \r\nQ 40.484375 56 46.34375 49.84375 \r\nQ 52.203125 43.703125 52.203125 31.203125 \r\nz\r\n\" id=\"DejaVuSans-97\"/>\r\n      <path d=\"M 18.3125 70.21875 \r\nL 18.3125 54.6875 \r\nL 36.8125 54.6875 \r\nL 36.8125 47.703125 \r\nL 18.3125 47.703125 \r\nL 18.3125 18.015625 \r\nQ 18.3125 11.328125 20.140625 9.421875 \r\nQ 21.96875 7.515625 27.59375 7.515625 \r\nL 36.8125 7.515625 \r\nL 36.8125 0 \r\nL 27.59375 0 \r\nQ 17.1875 0 13.234375 3.875 \r\nQ 9.28125 7.765625 9.28125 18.015625 \r\nL 9.28125 47.703125 \r\nL 2.6875 47.703125 \r\nL 2.6875 54.6875 \r\nL 9.28125 54.6875 \r\nL 9.28125 70.21875 \r\nz\r\n\" id=\"DejaVuSans-116\"/>\r\n      <path d=\"M 8.5 21.578125 \r\nL 8.5 54.6875 \r\nL 17.484375 54.6875 \r\nL 17.484375 21.921875 \r\nQ 17.484375 14.15625 20.5 10.265625 \r\nQ 23.53125 6.390625 29.59375 6.390625 \r\nQ 36.859375 6.390625 41.078125 11.03125 \r\nQ 45.3125 15.671875 45.3125 23.6875 \r\nL 45.3125 54.6875 \r\nL 54.296875 54.6875 \r\nL 54.296875 0 \r\nL 45.3125 0 \r\nL 45.3125 8.40625 \r\nQ 42.046875 3.421875 37.71875 1 \r\nQ 33.40625 -1.421875 27.6875 -1.421875 \r\nQ 18.265625 -1.421875 13.375 4.4375 \r\nQ 8.5 10.296875 8.5 21.578125 \r\nz\r\nM 31.109375 56 \r\nz\r\n\" id=\"DejaVuSans-117\"/>\r\n      <path d=\"M 41.109375 46.296875 \r\nQ 39.59375 47.171875 37.8125 47.578125 \r\nQ 36.03125 48 33.890625 48 \r\nQ 26.265625 48 22.1875 43.046875 \r\nQ 18.109375 38.09375 18.109375 28.8125 \r\nL 18.109375 0 \r\nL 9.078125 0 \r\nL 9.078125 54.6875 \r\nL 18.109375 54.6875 \r\nL 18.109375 46.1875 \r\nQ 20.953125 51.171875 25.484375 53.578125 \r\nQ 30.03125 56 36.53125 56 \r\nQ 37.453125 56 38.578125 55.875 \r\nQ 39.703125 55.765625 41.0625 55.515625 \r\nz\r\n\" id=\"DejaVuSans-114\"/>\r\n      <path d=\"M 44.28125 53.078125 \r\nL 44.28125 44.578125 \r\nQ 40.484375 46.53125 36.375 47.5 \r\nQ 32.28125 48.484375 27.875 48.484375 \r\nQ 21.1875 48.484375 17.84375 46.4375 \r\nQ 14.5 44.390625 14.5 40.28125 \r\nQ 14.5 37.15625 16.890625 35.375 \r\nQ 19.28125 33.59375 26.515625 31.984375 \r\nL 29.59375 31.296875 \r\nQ 39.15625 29.25 43.1875 25.515625 \r\nQ 47.21875 21.78125 47.21875 15.09375 \r\nQ 47.21875 7.46875 41.1875 3.015625 \r\nQ 35.15625 -1.421875 24.609375 -1.421875 \r\nQ 20.21875 -1.421875 15.453125 -0.5625 \r\nQ 10.6875 0.296875 5.421875 2 \r\nL 5.421875 11.28125 \r\nQ 10.40625 8.6875 15.234375 7.390625 \r\nQ 20.0625 6.109375 24.8125 6.109375 \r\nQ 31.15625 6.109375 34.5625 8.28125 \r\nQ 37.984375 10.453125 37.984375 14.40625 \r\nQ 37.984375 18.0625 35.515625 20.015625 \r\nQ 33.0625 21.96875 24.703125 23.78125 \r\nL 21.578125 24.515625 \r\nQ 13.234375 26.265625 9.515625 29.90625 \r\nQ 5.8125 33.546875 5.8125 39.890625 \r\nQ 5.8125 47.609375 11.28125 51.796875 \r\nQ 16.75 56 26.8125 56 \r\nQ 31.78125 56 36.171875 55.265625 \r\nQ 40.578125 54.546875 44.28125 53.078125 \r\nz\r\n\" id=\"DejaVuSans-115\"/>\r\n     </defs>\r\n     <g transform=\"translate(185.374219 252.916562)scale(0.1 -0.1)\">\r\n      <use xlink:href=\"#DejaVuSans-80\"/>\r\n      <use x=\"60.302734\" xlink:href=\"#DejaVuSans-67\"/>\r\n      <use x=\"130.126953\" xlink:href=\"#DejaVuSans-65\"/>\r\n      <use x=\"198.535156\" xlink:href=\"#DejaVuSans-32\"/>\r\n      <use x=\"230.322266\" xlink:href=\"#DejaVuSans-102\"/>\r\n      <use x=\"265.527344\" xlink:href=\"#DejaVuSans-101\"/>\r\n      <use x=\"327.050781\" xlink:href=\"#DejaVuSans-97\"/>\r\n      <use x=\"388.330078\" xlink:href=\"#DejaVuSans-116\"/>\r\n      <use x=\"427.539062\" xlink:href=\"#DejaVuSans-117\"/>\r\n      <use x=\"490.917969\" xlink:href=\"#DejaVuSans-114\"/>\r\n      <use x=\"529.78125\" xlink:href=\"#DejaVuSans-101\"/>\r\n      <use x=\"591.304688\" xlink:href=\"#DejaVuSans-115\"/>\r\n     </g>\r\n    </g>\r\n   </g>\r\n   <g id=\"matplotlib.axis_2\">\r\n    <g id=\"ytick_1\">\r\n     <g id=\"line2d_12\">\r\n      <defs>\r\n       <path d=\"M 0 0 \r\nL -3.5 0 \r\n\" id=\"m9b3ac8db0b\" style=\"stroke:#000000;stroke-width:0.8;\"/>\r\n      </defs>\r\n      <g>\r\n       <use style=\"stroke:#000000;stroke-width:0.8;\" x=\"50.14375\" xlink:href=\"#m9b3ac8db0b\" y=\"224.64\"/>\r\n      </g>\r\n     </g>\r\n     <g id=\"text_13\">\r\n      <!-- 0.00 -->\r\n      <defs>\r\n       <path d=\"M 10.6875 12.40625 \r\nL 21 12.40625 \r\nL 21 0 \r\nL 10.6875 0 \r\nz\r\n\" id=\"DejaVuSans-46\"/>\r\n      </defs>\r\n      <g transform=\"translate(20.878125 228.439219)scale(0.1 -0.1)\">\r\n       <use xlink:href=\"#DejaVuSans-48\"/>\r\n       <use x=\"63.623047\" xlink:href=\"#DejaVuSans-46\"/>\r\n       <use x=\"95.410156\" xlink:href=\"#DejaVuSans-48\"/>\r\n       <use x=\"159.033203\" xlink:href=\"#DejaVuSans-48\"/>\r\n      </g>\r\n     </g>\r\n    </g>\r\n    <g id=\"ytick_2\">\r\n     <g id=\"line2d_13\">\r\n      <g>\r\n       <use style=\"stroke:#000000;stroke-width:0.8;\" x=\"50.14375\" xlink:href=\"#m9b3ac8db0b\" y=\"191.092909\"/>\r\n      </g>\r\n     </g>\r\n     <g id=\"text_14\">\r\n      <!-- 0.05 -->\r\n      <g transform=\"translate(20.878125 194.892128)scale(0.1 -0.1)\">\r\n       <use xlink:href=\"#DejaVuSans-48\"/>\r\n       <use x=\"63.623047\" xlink:href=\"#DejaVuSans-46\"/>\r\n       <use x=\"95.410156\" xlink:href=\"#DejaVuSans-48\"/>\r\n       <use x=\"159.033203\" xlink:href=\"#DejaVuSans-53\"/>\r\n      </g>\r\n     </g>\r\n    </g>\r\n    <g id=\"ytick_3\">\r\n     <g id=\"line2d_14\">\r\n      <g>\r\n       <use style=\"stroke:#000000;stroke-width:0.8;\" x=\"50.14375\" xlink:href=\"#m9b3ac8db0b\" y=\"157.545818\"/>\r\n      </g>\r\n     </g>\r\n     <g id=\"text_15\">\r\n      <!-- 0.10 -->\r\n      <g transform=\"translate(20.878125 161.345036)scale(0.1 -0.1)\">\r\n       <use xlink:href=\"#DejaVuSans-48\"/>\r\n       <use x=\"63.623047\" xlink:href=\"#DejaVuSans-46\"/>\r\n       <use x=\"95.410156\" xlink:href=\"#DejaVuSans-49\"/>\r\n       <use x=\"159.033203\" xlink:href=\"#DejaVuSans-48\"/>\r\n      </g>\r\n     </g>\r\n    </g>\r\n    <g id=\"ytick_4\">\r\n     <g id=\"line2d_15\">\r\n      <g>\r\n       <use style=\"stroke:#000000;stroke-width:0.8;\" x=\"50.14375\" xlink:href=\"#m9b3ac8db0b\" y=\"123.998726\"/>\r\n      </g>\r\n     </g>\r\n     <g id=\"text_16\">\r\n      <!-- 0.15 -->\r\n      <g transform=\"translate(20.878125 127.797945)scale(0.1 -0.1)\">\r\n       <use xlink:href=\"#DejaVuSans-48\"/>\r\n       <use x=\"63.623047\" xlink:href=\"#DejaVuSans-46\"/>\r\n       <use x=\"95.410156\" xlink:href=\"#DejaVuSans-49\"/>\r\n       <use x=\"159.033203\" xlink:href=\"#DejaVuSans-53\"/>\r\n      </g>\r\n     </g>\r\n    </g>\r\n    <g id=\"ytick_5\">\r\n     <g id=\"line2d_16\">\r\n      <g>\r\n       <use style=\"stroke:#000000;stroke-width:0.8;\" x=\"50.14375\" xlink:href=\"#m9b3ac8db0b\" y=\"90.451635\"/>\r\n      </g>\r\n     </g>\r\n     <g id=\"text_17\">\r\n      <!-- 0.20 -->\r\n      <g transform=\"translate(20.878125 94.250854)scale(0.1 -0.1)\">\r\n       <use xlink:href=\"#DejaVuSans-48\"/>\r\n       <use x=\"63.623047\" xlink:href=\"#DejaVuSans-46\"/>\r\n       <use x=\"95.410156\" xlink:href=\"#DejaVuSans-50\"/>\r\n       <use x=\"159.033203\" xlink:href=\"#DejaVuSans-48\"/>\r\n      </g>\r\n     </g>\r\n    </g>\r\n    <g id=\"ytick_6\">\r\n     <g id=\"line2d_17\">\r\n      <g>\r\n       <use style=\"stroke:#000000;stroke-width:0.8;\" x=\"50.14375\" xlink:href=\"#m9b3ac8db0b\" y=\"56.904544\"/>\r\n      </g>\r\n     </g>\r\n     <g id=\"text_18\">\r\n      <!-- 0.25 -->\r\n      <g transform=\"translate(20.878125 60.703763)scale(0.1 -0.1)\">\r\n       <use xlink:href=\"#DejaVuSans-48\"/>\r\n       <use x=\"63.623047\" xlink:href=\"#DejaVuSans-46\"/>\r\n       <use x=\"95.410156\" xlink:href=\"#DejaVuSans-50\"/>\r\n       <use x=\"159.033203\" xlink:href=\"#DejaVuSans-53\"/>\r\n      </g>\r\n     </g>\r\n    </g>\r\n    <g id=\"ytick_7\">\r\n     <g id=\"line2d_18\">\r\n      <g>\r\n       <use style=\"stroke:#000000;stroke-width:0.8;\" x=\"50.14375\" xlink:href=\"#m9b3ac8db0b\" y=\"23.357453\"/>\r\n      </g>\r\n     </g>\r\n     <g id=\"text_19\">\r\n      <!-- 0.30 -->\r\n      <g transform=\"translate(20.878125 27.156671)scale(0.1 -0.1)\">\r\n       <use xlink:href=\"#DejaVuSans-48\"/>\r\n       <use x=\"63.623047\" xlink:href=\"#DejaVuSans-46\"/>\r\n       <use x=\"95.410156\" xlink:href=\"#DejaVuSans-51\"/>\r\n       <use x=\"159.033203\" xlink:href=\"#DejaVuSans-48\"/>\r\n      </g>\r\n     </g>\r\n    </g>\r\n    <g id=\"text_20\">\r\n     <!-- variance % -->\r\n     <defs>\r\n      <path d=\"M 2.984375 54.6875 \r\nL 12.5 54.6875 \r\nL 29.59375 8.796875 \r\nL 46.6875 54.6875 \r\nL 56.203125 54.6875 \r\nL 35.6875 0 \r\nL 23.484375 0 \r\nz\r\n\" id=\"DejaVuSans-118\"/>\r\n      <path d=\"M 9.421875 54.6875 \r\nL 18.40625 54.6875 \r\nL 18.40625 0 \r\nL 9.421875 0 \r\nz\r\nM 9.421875 75.984375 \r\nL 18.40625 75.984375 \r\nL 18.40625 64.59375 \r\nL 9.421875 64.59375 \r\nz\r\n\" id=\"DejaVuSans-105\"/>\r\n      <path d=\"M 54.890625 33.015625 \r\nL 54.890625 0 \r\nL 45.90625 0 \r\nL 45.90625 32.71875 \r\nQ 45.90625 40.484375 42.875 44.328125 \r\nQ 39.84375 48.1875 33.796875 48.1875 \r\nQ 26.515625 48.1875 22.3125 43.546875 \r\nQ 18.109375 38.921875 18.109375 30.90625 \r\nL 18.109375 0 \r\nL 9.078125 0 \r\nL 9.078125 54.6875 \r\nL 18.109375 54.6875 \r\nL 18.109375 46.1875 \r\nQ 21.34375 51.125 25.703125 53.5625 \r\nQ 30.078125 56 35.796875 56 \r\nQ 45.21875 56 50.046875 50.171875 \r\nQ 54.890625 44.34375 54.890625 33.015625 \r\nz\r\n\" id=\"DejaVuSans-110\"/>\r\n      <path d=\"M 48.78125 52.59375 \r\nL 48.78125 44.1875 \r\nQ 44.96875 46.296875 41.140625 47.34375 \r\nQ 37.3125 48.390625 33.40625 48.390625 \r\nQ 24.65625 48.390625 19.8125 42.84375 \r\nQ 14.984375 37.3125 14.984375 27.296875 \r\nQ 14.984375 17.28125 19.8125 11.734375 \r\nQ 24.65625 6.203125 33.40625 6.203125 \r\nQ 37.3125 6.203125 41.140625 7.25 \r\nQ 44.96875 8.296875 48.78125 10.40625 \r\nL 48.78125 2.09375 \r\nQ 45.015625 0.34375 40.984375 -0.53125 \r\nQ 36.96875 -1.421875 32.421875 -1.421875 \r\nQ 20.0625 -1.421875 12.78125 6.34375 \r\nQ 5.515625 14.109375 5.515625 27.296875 \r\nQ 5.515625 40.671875 12.859375 48.328125 \r\nQ 20.21875 56 33.015625 56 \r\nQ 37.15625 56 41.109375 55.140625 \r\nQ 45.0625 54.296875 48.78125 52.59375 \r\nz\r\n\" id=\"DejaVuSans-99\"/>\r\n      <path d=\"M 72.703125 32.078125 \r\nQ 68.453125 32.078125 66.03125 28.46875 \r\nQ 63.625 24.859375 63.625 18.40625 \r\nQ 63.625 12.0625 66.03125 8.421875 \r\nQ 68.453125 4.78125 72.703125 4.78125 \r\nQ 76.859375 4.78125 79.265625 8.421875 \r\nQ 81.6875 12.0625 81.6875 18.40625 \r\nQ 81.6875 24.8125 79.265625 28.4375 \r\nQ 76.859375 32.078125 72.703125 32.078125 \r\nz\r\nM 72.703125 38.28125 \r\nQ 80.421875 38.28125 84.953125 32.90625 \r\nQ 89.5 27.546875 89.5 18.40625 \r\nQ 89.5 9.28125 84.9375 3.921875 \r\nQ 80.375 -1.421875 72.703125 -1.421875 \r\nQ 64.890625 -1.421875 60.34375 3.921875 \r\nQ 55.8125 9.28125 55.8125 18.40625 \r\nQ 55.8125 27.59375 60.375 32.9375 \r\nQ 64.9375 38.28125 72.703125 38.28125 \r\nz\r\nM 22.3125 68.015625 \r\nQ 18.109375 68.015625 15.6875 64.375 \r\nQ 13.28125 60.75 13.28125 54.390625 \r\nQ 13.28125 47.953125 15.671875 44.328125 \r\nQ 18.0625 40.71875 22.3125 40.71875 \r\nQ 26.5625 40.71875 28.96875 44.328125 \r\nQ 31.390625 47.953125 31.390625 54.390625 \r\nQ 31.390625 60.6875 28.953125 64.34375 \r\nQ 26.515625 68.015625 22.3125 68.015625 \r\nz\r\nM 66.40625 74.21875 \r\nL 74.21875 74.21875 \r\nL 28.609375 -1.421875 \r\nL 20.796875 -1.421875 \r\nz\r\nM 22.3125 74.21875 \r\nQ 30.03125 74.21875 34.609375 68.875 \r\nQ 39.203125 63.53125 39.203125 54.390625 \r\nQ 39.203125 45.171875 34.640625 39.84375 \r\nQ 30.078125 34.515625 22.3125 34.515625 \r\nQ 14.546875 34.515625 10.03125 39.859375 \r\nQ 5.515625 45.21875 5.515625 54.390625 \r\nQ 5.515625 63.484375 10.046875 68.84375 \r\nQ 14.59375 74.21875 22.3125 74.21875 \r\nz\r\n\" id=\"DejaVuSans-37\"/>\r\n     </defs>\r\n     <g transform=\"translate(14.798438 143.786406)rotate(-90)scale(0.1 -0.1)\">\r\n      <use xlink:href=\"#DejaVuSans-118\"/>\r\n      <use x=\"59.179688\" xlink:href=\"#DejaVuSans-97\"/>\r\n      <use x=\"120.458984\" xlink:href=\"#DejaVuSans-114\"/>\r\n      <use x=\"161.572266\" xlink:href=\"#DejaVuSans-105\"/>\r\n      <use x=\"189.355469\" xlink:href=\"#DejaVuSans-97\"/>\r\n      <use x=\"250.634766\" xlink:href=\"#DejaVuSans-110\"/>\r\n      <use x=\"314.013672\" xlink:href=\"#DejaVuSans-99\"/>\r\n      <use x=\"368.994141\" xlink:href=\"#DejaVuSans-101\"/>\r\n      <use x=\"430.517578\" xlink:href=\"#DejaVuSans-32\"/>\r\n      <use x=\"462.304688\" xlink:href=\"#DejaVuSans-37\"/>\r\n     </g>\r\n    </g>\r\n   </g>\r\n   <g id=\"patch_14\">\r\n    <path d=\"M 50.14375 224.64 \r\nL 50.14375 7.2 \r\n\" style=\"fill:none;stroke:#000000;stroke-linecap:square;stroke-linejoin:miter;stroke-width:0.8;\"/>\r\n   </g>\r\n   <g id=\"patch_15\">\r\n    <path d=\"M 384.94375 224.64 \r\nL 384.94375 7.2 \r\n\" style=\"fill:none;stroke:#000000;stroke-linecap:square;stroke-linejoin:miter;stroke-width:0.8;\"/>\r\n   </g>\r\n   <g id=\"patch_16\">\r\n    <path d=\"M 50.14375 224.64 \r\nL 384.94375 224.64 \r\n\" style=\"fill:none;stroke:#000000;stroke-linecap:square;stroke-linejoin:miter;stroke-width:0.8;\"/>\r\n   </g>\r\n   <g id=\"patch_17\">\r\n    <path d=\"M 50.14375 7.2 \r\nL 384.94375 7.2 \r\n\" style=\"fill:none;stroke:#000000;stroke-linecap:square;stroke-linejoin:miter;stroke-width:0.8;\"/>\r\n   </g>\r\n  </g>\r\n </g>\r\n <defs>\r\n  <clipPath id=\"pea0b87b6a4\">\r\n   <rect height=\"217.44\" width=\"334.8\" x=\"50.14375\" y=\"7.2\"/>\r\n  </clipPath>\r\n </defs>\r\n</svg>\r\n",
      "image/png": "[encoded data removed]"
     },
     "metadata": {
      "needs_background": "light"
     }
    }
   ],
   "source": [
    "features = range(pca.n_components_)\n",
    "plt.bar(features, pca.explained_variance_ratio_, color='black')\n",
    "plt.xlabel('PCA features')\n",
    "plt.ylabel('variance %')\n",
    "plt.xticks(features)"
   ]
  },
  {
   "cell_type": "code",
   "execution_count": 184,
   "metadata": {},
   "outputs": [],
   "source": [
    "# Save components to a DataFrame\n",
    "PCA_components = pd.DataFrame(principalComponents)\n",
    "plt.scatter(PCA_components[0], PCA_components[1], alpha=.1, color='black')\n",
    "plt.xlabel('PCA 1')\n",
    "plt.ylabel('PCA 2')"
   ]
  },
  {
   "cell_type": "code",
   "execution_count": 42,
   "metadata": {},
   "outputs": [
    {
     "output_type": "display_data",
     "data": {
      "text/plain": "<Figure size 432x288 with 1 Axes>",
      "image/svg+xml": "<?xml version=\"1.0\" encoding=\"utf-8\" standalone=\"no\"?>\r\n<!DOCTYPE svg PUBLIC \"-//W3C//DTD SVG 1.1//EN\"\r\n  \"http://www.w3.org/Graphics/SVG/1.1/DTD/svg11.dtd\">\r\n<!-- Created with matplotlib (https://matplotlib.org/) -->\r\n<svg height=\"262.19625pt\" version=\"1.1\" viewBox=\"0 0 408.053125 262.19625\" width=\"408.053125pt\" xmlns=\"http://www.w3.org/2000/svg\" xmlns:xlink=\"http://www.w3.org/1999/xlink\">\r\n <defs>\r\n  <style type=\"text/css\">\r\n*{stroke-linecap:butt;stroke-linejoin:round;}\r\n  </style>\r\n </defs>\r\n <g id=\"figure_1\">\r\n  <g id=\"patch_1\">\r\n   <path d=\"M 0 262.19625 \r\nL 408.053125 262.19625 \r\nL 408.053125 0 \r\nL 0 0 \r\nz\r\n\" style=\"fill:none;\"/>\r\n  </g>\r\n  <g id=\"axes_1\">\r\n   <g id=\"patch_2\">\r\n    <path d=\"M 66.053125 224.64 \r\nL 400.853125 224.64 \r\nL 400.853125 7.2 \r\nL 66.053125 7.2 \r\nz\r\n\" style=\"fill:#ffffff;\"/>\r\n   </g>\r\n   <g id=\"matplotlib.axis_1\">\r\n    <g id=\"xtick_1\">\r\n     <g id=\"line2d_1\">\r\n      <defs>\r\n       <path d=\"M 0 0 \r\nL 0 3.5 \r\n\" id=\"mad2f345f84\" style=\"stroke:#000000;stroke-width:0.8;\"/>\r\n      </defs>\r\n      <g>\r\n       <use style=\"stroke:#000000;stroke-width:0.8;\" x=\"81.271307\" xlink:href=\"#mad2f345f84\" y=\"224.64\"/>\r\n      </g>\r\n     </g>\r\n     <g id=\"text_1\">\r\n      <!-- 1 -->\r\n      <defs>\r\n       <path d=\"M 12.40625 8.296875 \r\nL 28.515625 8.296875 \r\nL 28.515625 63.921875 \r\nL 10.984375 60.40625 \r\nL 10.984375 69.390625 \r\nL 28.421875 72.90625 \r\nL 38.28125 72.90625 \r\nL 38.28125 8.296875 \r\nL 54.390625 8.296875 \r\nL 54.390625 0 \r\nL 12.40625 0 \r\nz\r\n\" id=\"DejaVuSans-49\"/>\r\n      </defs>\r\n      <g transform=\"translate(78.090057 239.238437)scale(0.1 -0.1)\">\r\n       <use xlink:href=\"#DejaVuSans-49\"/>\r\n      </g>\r\n     </g>\r\n    </g>\r\n    <g id=\"xtick_2\">\r\n     <g id=\"line2d_2\">\r\n      <g>\r\n       <use style=\"stroke:#000000;stroke-width:0.8;\" x=\"119.316761\" xlink:href=\"#mad2f345f84\" y=\"224.64\"/>\r\n      </g>\r\n     </g>\r\n     <g id=\"text_2\">\r\n      <!-- 2 -->\r\n      <defs>\r\n       <path d=\"M 19.1875 8.296875 \r\nL 53.609375 8.296875 \r\nL 53.609375 0 \r\nL 7.328125 0 \r\nL 7.328125 8.296875 \r\nQ 12.9375 14.109375 22.625 23.890625 \r\nQ 32.328125 33.6875 34.8125 36.53125 \r\nQ 39.546875 41.84375 41.421875 45.53125 \r\nQ 43.3125 49.21875 43.3125 52.78125 \r\nQ 43.3125 58.59375 39.234375 62.25 \r\nQ 35.15625 65.921875 28.609375 65.921875 \r\nQ 23.96875 65.921875 18.8125 64.3125 \r\nQ 13.671875 62.703125 7.8125 59.421875 \r\nL 7.8125 69.390625 \r\nQ 13.765625 71.78125 18.9375 73 \r\nQ 24.125 74.21875 28.421875 74.21875 \r\nQ 39.75 74.21875 46.484375 68.546875 \r\nQ 53.21875 62.890625 53.21875 53.421875 \r\nQ 53.21875 48.921875 51.53125 44.890625 \r\nQ 49.859375 40.875 45.40625 35.40625 \r\nQ 44.1875 33.984375 37.640625 27.21875 \r\nQ 31.109375 20.453125 19.1875 8.296875 \r\nz\r\n\" id=\"DejaVuSans-50\"/>\r\n      </defs>\r\n      <g transform=\"translate(116.135511 239.238437)scale(0.1 -0.1)\">\r\n       <use xlink:href=\"#DejaVuSans-50\"/>\r\n      </g>\r\n     </g>\r\n    </g>\r\n    <g id=\"xtick_3\">\r\n     <g id=\"line2d_3\">\r\n      <g>\r\n       <use style=\"stroke:#000000;stroke-width:0.8;\" x=\"157.362216\" xlink:href=\"#mad2f345f84\" y=\"224.64\"/>\r\n      </g>\r\n     </g>\r\n     <g id=\"text_3\">\r\n      <!-- 3 -->\r\n      <defs>\r\n       <path d=\"M 40.578125 39.3125 \r\nQ 47.65625 37.796875 51.625 33 \r\nQ 55.609375 28.21875 55.609375 21.1875 \r\nQ 55.609375 10.40625 48.1875 4.484375 \r\nQ 40.765625 -1.421875 27.09375 -1.421875 \r\nQ 22.515625 -1.421875 17.65625 -0.515625 \r\nQ 12.796875 0.390625 7.625 2.203125 \r\nL 7.625 11.71875 \r\nQ 11.71875 9.328125 16.59375 8.109375 \r\nQ 21.484375 6.890625 26.8125 6.890625 \r\nQ 36.078125 6.890625 40.9375 10.546875 \r\nQ 45.796875 14.203125 45.796875 21.1875 \r\nQ 45.796875 27.640625 41.28125 31.265625 \r\nQ 36.765625 34.90625 28.71875 34.90625 \r\nL 20.21875 34.90625 \r\nL 20.21875 43.015625 \r\nL 29.109375 43.015625 \r\nQ 36.375 43.015625 40.234375 45.921875 \r\nQ 44.09375 48.828125 44.09375 54.296875 \r\nQ 44.09375 59.90625 40.109375 62.90625 \r\nQ 36.140625 65.921875 28.71875 65.921875 \r\nQ 24.65625 65.921875 20.015625 65.03125 \r\nQ 15.375 64.15625 9.8125 62.3125 \r\nL 9.8125 71.09375 \r\nQ 15.4375 72.65625 20.34375 73.4375 \r\nQ 25.25 74.21875 29.59375 74.21875 \r\nQ 40.828125 74.21875 47.359375 69.109375 \r\nQ 53.90625 64.015625 53.90625 55.328125 \r\nQ 53.90625 49.265625 50.4375 45.09375 \r\nQ 46.96875 40.921875 40.578125 39.3125 \r\nz\r\n\" id=\"DejaVuSans-51\"/>\r\n      </defs>\r\n      <g transform=\"translate(154.180966 239.238437)scale(0.1 -0.1)\">\r\n       <use xlink:href=\"#DejaVuSans-51\"/>\r\n      </g>\r\n     </g>\r\n    </g>\r\n    <g id=\"xtick_4\">\r\n     <g id=\"line2d_4\">\r\n      <g>\r\n       <use style=\"stroke:#000000;stroke-width:0.8;\" x=\"195.40767\" xlink:href=\"#mad2f345f84\" y=\"224.64\"/>\r\n      </g>\r\n     </g>\r\n     <g id=\"text_4\">\r\n      <!-- 4 -->\r\n      <defs>\r\n       <path d=\"M 37.796875 64.3125 \r\nL 12.890625 25.390625 \r\nL 37.796875 25.390625 \r\nz\r\nM 35.203125 72.90625 \r\nL 47.609375 72.90625 \r\nL 47.609375 25.390625 \r\nL 58.015625 25.390625 \r\nL 58.015625 17.1875 \r\nL 47.609375 17.1875 \r\nL 47.609375 0 \r\nL 37.796875 0 \r\nL 37.796875 17.1875 \r\nL 4.890625 17.1875 \r\nL 4.890625 26.703125 \r\nz\r\n\" id=\"DejaVuSans-52\"/>\r\n      </defs>\r\n      <g transform=\"translate(192.22642 239.238437)scale(0.1 -0.1)\">\r\n       <use xlink:href=\"#DejaVuSans-52\"/>\r\n      </g>\r\n     </g>\r\n    </g>\r\n    <g id=\"xtick_5\">\r\n     <g id=\"line2d_5\">\r\n      <g>\r\n       <use style=\"stroke:#000000;stroke-width:0.8;\" x=\"233.453125\" xlink:href=\"#mad2f345f84\" y=\"224.64\"/>\r\n      </g>\r\n     </g>\r\n     <g id=\"text_5\">\r\n      <!-- 5 -->\r\n      <defs>\r\n       <path d=\"M 10.796875 72.90625 \r\nL 49.515625 72.90625 \r\nL 49.515625 64.59375 \r\nL 19.828125 64.59375 \r\nL 19.828125 46.734375 \r\nQ 21.96875 47.46875 24.109375 47.828125 \r\nQ 26.265625 48.1875 28.421875 48.1875 \r\nQ 40.625 48.1875 47.75 41.5 \r\nQ 54.890625 34.8125 54.890625 23.390625 \r\nQ 54.890625 11.625 47.5625 5.09375 \r\nQ 40.234375 -1.421875 26.90625 -1.421875 \r\nQ 22.3125 -1.421875 17.546875 -0.640625 \r\nQ 12.796875 0.140625 7.71875 1.703125 \r\nL 7.71875 11.625 \r\nQ 12.109375 9.234375 16.796875 8.0625 \r\nQ 21.484375 6.890625 26.703125 6.890625 \r\nQ 35.15625 6.890625 40.078125 11.328125 \r\nQ 45.015625 15.765625 45.015625 23.390625 \r\nQ 45.015625 31 40.078125 35.4375 \r\nQ 35.15625 39.890625 26.703125 39.890625 \r\nQ 22.75 39.890625 18.8125 39.015625 \r\nQ 14.890625 38.140625 10.796875 36.28125 \r\nz\r\n\" id=\"DejaVuSans-53\"/>\r\n      </defs>\r\n      <g transform=\"translate(230.271875 239.238437)scale(0.1 -0.1)\">\r\n       <use xlink:href=\"#DejaVuSans-53\"/>\r\n      </g>\r\n     </g>\r\n    </g>\r\n    <g id=\"xtick_6\">\r\n     <g id=\"line2d_6\">\r\n      <g>\r\n       <use style=\"stroke:#000000;stroke-width:0.8;\" x=\"271.49858\" xlink:href=\"#mad2f345f84\" y=\"224.64\"/>\r\n      </g>\r\n     </g>\r\n     <g id=\"text_6\">\r\n      <!-- 6 -->\r\n      <defs>\r\n       <path d=\"M 33.015625 40.375 \r\nQ 26.375 40.375 22.484375 35.828125 \r\nQ 18.609375 31.296875 18.609375 23.390625 \r\nQ 18.609375 15.53125 22.484375 10.953125 \r\nQ 26.375 6.390625 33.015625 6.390625 \r\nQ 39.65625 6.390625 43.53125 10.953125 \r\nQ 47.40625 15.53125 47.40625 23.390625 \r\nQ 47.40625 31.296875 43.53125 35.828125 \r\nQ 39.65625 40.375 33.015625 40.375 \r\nz\r\nM 52.59375 71.296875 \r\nL 52.59375 62.3125 \r\nQ 48.875 64.0625 45.09375 64.984375 \r\nQ 41.3125 65.921875 37.59375 65.921875 \r\nQ 27.828125 65.921875 22.671875 59.328125 \r\nQ 17.53125 52.734375 16.796875 39.40625 \r\nQ 19.671875 43.65625 24.015625 45.921875 \r\nQ 28.375 48.1875 33.59375 48.1875 \r\nQ 44.578125 48.1875 50.953125 41.515625 \r\nQ 57.328125 34.859375 57.328125 23.390625 \r\nQ 57.328125 12.15625 50.6875 5.359375 \r\nQ 44.046875 -1.421875 33.015625 -1.421875 \r\nQ 20.359375 -1.421875 13.671875 8.265625 \r\nQ 6.984375 17.96875 6.984375 36.375 \r\nQ 6.984375 53.65625 15.1875 63.9375 \r\nQ 23.390625 74.21875 37.203125 74.21875 \r\nQ 40.921875 74.21875 44.703125 73.484375 \r\nQ 48.484375 72.75 52.59375 71.296875 \r\nz\r\n\" id=\"DejaVuSans-54\"/>\r\n      </defs>\r\n      <g transform=\"translate(268.31733 239.238437)scale(0.1 -0.1)\">\r\n       <use xlink:href=\"#DejaVuSans-54\"/>\r\n      </g>\r\n     </g>\r\n    </g>\r\n    <g id=\"xtick_7\">\r\n     <g id=\"line2d_7\">\r\n      <g>\r\n       <use style=\"stroke:#000000;stroke-width:0.8;\" x=\"309.544034\" xlink:href=\"#mad2f345f84\" y=\"224.64\"/>\r\n      </g>\r\n     </g>\r\n     <g id=\"text_7\">\r\n      <!-- 7 -->\r\n      <defs>\r\n       <path d=\"M 8.203125 72.90625 \r\nL 55.078125 72.90625 \r\nL 55.078125 68.703125 \r\nL 28.609375 0 \r\nL 18.3125 0 \r\nL 43.21875 64.59375 \r\nL 8.203125 64.59375 \r\nz\r\n\" id=\"DejaVuSans-55\"/>\r\n      </defs>\r\n      <g transform=\"translate(306.362784 239.238437)scale(0.1 -0.1)\">\r\n       <use xlink:href=\"#DejaVuSans-55\"/>\r\n      </g>\r\n     </g>\r\n    </g>\r\n    <g id=\"xtick_8\">\r\n     <g id=\"line2d_8\">\r\n      <g>\r\n       <use style=\"stroke:#000000;stroke-width:0.8;\" x=\"347.589489\" xlink:href=\"#mad2f345f84\" y=\"224.64\"/>\r\n      </g>\r\n     </g>\r\n     <g id=\"text_8\">\r\n      <!-- 8 -->\r\n      <defs>\r\n       <path d=\"M 31.78125 34.625 \r\nQ 24.75 34.625 20.71875 30.859375 \r\nQ 16.703125 27.09375 16.703125 20.515625 \r\nQ 16.703125 13.921875 20.71875 10.15625 \r\nQ 24.75 6.390625 31.78125 6.390625 \r\nQ 38.8125 6.390625 42.859375 10.171875 \r\nQ 46.921875 13.96875 46.921875 20.515625 \r\nQ 46.921875 27.09375 42.890625 30.859375 \r\nQ 38.875 34.625 31.78125 34.625 \r\nz\r\nM 21.921875 38.8125 \r\nQ 15.578125 40.375 12.03125 44.71875 \r\nQ 8.5 49.078125 8.5 55.328125 \r\nQ 8.5 64.0625 14.71875 69.140625 \r\nQ 20.953125 74.21875 31.78125 74.21875 \r\nQ 42.671875 74.21875 48.875 69.140625 \r\nQ 55.078125 64.0625 55.078125 55.328125 \r\nQ 55.078125 49.078125 51.53125 44.71875 \r\nQ 48 40.375 41.703125 38.8125 \r\nQ 48.828125 37.15625 52.796875 32.3125 \r\nQ 56.78125 27.484375 56.78125 20.515625 \r\nQ 56.78125 9.90625 50.3125 4.234375 \r\nQ 43.84375 -1.421875 31.78125 -1.421875 \r\nQ 19.734375 -1.421875 13.25 4.234375 \r\nQ 6.78125 9.90625 6.78125 20.515625 \r\nQ 6.78125 27.484375 10.78125 32.3125 \r\nQ 14.796875 37.15625 21.921875 38.8125 \r\nz\r\nM 18.3125 54.390625 \r\nQ 18.3125 48.734375 21.84375 45.5625 \r\nQ 25.390625 42.390625 31.78125 42.390625 \r\nQ 38.140625 42.390625 41.71875 45.5625 \r\nQ 45.3125 48.734375 45.3125 54.390625 \r\nQ 45.3125 60.0625 41.71875 63.234375 \r\nQ 38.140625 66.40625 31.78125 66.40625 \r\nQ 25.390625 66.40625 21.84375 63.234375 \r\nQ 18.3125 60.0625 18.3125 54.390625 \r\nz\r\n\" id=\"DejaVuSans-56\"/>\r\n      </defs>\r\n      <g transform=\"translate(344.408239 239.238437)scale(0.1 -0.1)\">\r\n       <use xlink:href=\"#DejaVuSans-56\"/>\r\n      </g>\r\n     </g>\r\n    </g>\r\n    <g id=\"xtick_9\">\r\n     <g id=\"line2d_9\">\r\n      <g>\r\n       <use style=\"stroke:#000000;stroke-width:0.8;\" x=\"385.634943\" xlink:href=\"#mad2f345f84\" y=\"224.64\"/>\r\n      </g>\r\n     </g>\r\n     <g id=\"text_9\">\r\n      <!-- 9 -->\r\n      <defs>\r\n       <path d=\"M 10.984375 1.515625 \r\nL 10.984375 10.5 \r\nQ 14.703125 8.734375 18.5 7.8125 \r\nQ 22.3125 6.890625 25.984375 6.890625 \r\nQ 35.75 6.890625 40.890625 13.453125 \r\nQ 46.046875 20.015625 46.78125 33.40625 \r\nQ 43.953125 29.203125 39.59375 26.953125 \r\nQ 35.25 24.703125 29.984375 24.703125 \r\nQ 19.046875 24.703125 12.671875 31.3125 \r\nQ 6.296875 37.9375 6.296875 49.421875 \r\nQ 6.296875 60.640625 12.9375 67.421875 \r\nQ 19.578125 74.21875 30.609375 74.21875 \r\nQ 43.265625 74.21875 49.921875 64.515625 \r\nQ 56.59375 54.828125 56.59375 36.375 \r\nQ 56.59375 19.140625 48.40625 8.859375 \r\nQ 40.234375 -1.421875 26.421875 -1.421875 \r\nQ 22.703125 -1.421875 18.890625 -0.6875 \r\nQ 15.09375 0.046875 10.984375 1.515625 \r\nz\r\nM 30.609375 32.421875 \r\nQ 37.25 32.421875 41.125 36.953125 \r\nQ 45.015625 41.5 45.015625 49.421875 \r\nQ 45.015625 57.28125 41.125 61.84375 \r\nQ 37.25 66.40625 30.609375 66.40625 \r\nQ 23.96875 66.40625 20.09375 61.84375 \r\nQ 16.21875 57.28125 16.21875 49.421875 \r\nQ 16.21875 41.5 20.09375 36.953125 \r\nQ 23.96875 32.421875 30.609375 32.421875 \r\nz\r\n\" id=\"DejaVuSans-57\"/>\r\n      </defs>\r\n      <g transform=\"translate(382.453693 239.238437)scale(0.1 -0.1)\">\r\n       <use xlink:href=\"#DejaVuSans-57\"/>\r\n      </g>\r\n     </g>\r\n    </g>\r\n    <g id=\"text_10\">\r\n     <!-- number of clusters, k -->\r\n     <defs>\r\n      <path d=\"M 54.890625 33.015625 \r\nL 54.890625 0 \r\nL 45.90625 0 \r\nL 45.90625 32.71875 \r\nQ 45.90625 40.484375 42.875 44.328125 \r\nQ 39.84375 48.1875 33.796875 48.1875 \r\nQ 26.515625 48.1875 22.3125 43.546875 \r\nQ 18.109375 38.921875 18.109375 30.90625 \r\nL 18.109375 0 \r\nL 9.078125 0 \r\nL 9.078125 54.6875 \r\nL 18.109375 54.6875 \r\nL 18.109375 46.1875 \r\nQ 21.34375 51.125 25.703125 53.5625 \r\nQ 30.078125 56 35.796875 56 \r\nQ 45.21875 56 50.046875 50.171875 \r\nQ 54.890625 44.34375 54.890625 33.015625 \r\nz\r\n\" id=\"DejaVuSans-110\"/>\r\n      <path d=\"M 8.5 21.578125 \r\nL 8.5 54.6875 \r\nL 17.484375 54.6875 \r\nL 17.484375 21.921875 \r\nQ 17.484375 14.15625 20.5 10.265625 \r\nQ 23.53125 6.390625 29.59375 6.390625 \r\nQ 36.859375 6.390625 41.078125 11.03125 \r\nQ 45.3125 15.671875 45.3125 23.6875 \r\nL 45.3125 54.6875 \r\nL 54.296875 54.6875 \r\nL 54.296875 0 \r\nL 45.3125 0 \r\nL 45.3125 8.40625 \r\nQ 42.046875 3.421875 37.71875 1 \r\nQ 33.40625 -1.421875 27.6875 -1.421875 \r\nQ 18.265625 -1.421875 13.375 4.4375 \r\nQ 8.5 10.296875 8.5 21.578125 \r\nz\r\nM 31.109375 56 \r\nz\r\n\" id=\"DejaVuSans-117\"/>\r\n      <path d=\"M 52 44.1875 \r\nQ 55.375 50.25 60.0625 53.125 \r\nQ 64.75 56 71.09375 56 \r\nQ 79.640625 56 84.28125 50.015625 \r\nQ 88.921875 44.046875 88.921875 33.015625 \r\nL 88.921875 0 \r\nL 79.890625 0 \r\nL 79.890625 32.71875 \r\nQ 79.890625 40.578125 77.09375 44.375 \r\nQ 74.3125 48.1875 68.609375 48.1875 \r\nQ 61.625 48.1875 57.5625 43.546875 \r\nQ 53.515625 38.921875 53.515625 30.90625 \r\nL 53.515625 0 \r\nL 44.484375 0 \r\nL 44.484375 32.71875 \r\nQ 44.484375 40.625 41.703125 44.40625 \r\nQ 38.921875 48.1875 33.109375 48.1875 \r\nQ 26.21875 48.1875 22.15625 43.53125 \r\nQ 18.109375 38.875 18.109375 30.90625 \r\nL 18.109375 0 \r\nL 9.078125 0 \r\nL 9.078125 54.6875 \r\nL 18.109375 54.6875 \r\nL 18.109375 46.1875 \r\nQ 21.1875 51.21875 25.484375 53.609375 \r\nQ 29.78125 56 35.6875 56 \r\nQ 41.65625 56 45.828125 52.96875 \r\nQ 50 49.953125 52 44.1875 \r\nz\r\n\" id=\"DejaVuSans-109\"/>\r\n      <path d=\"M 48.6875 27.296875 \r\nQ 48.6875 37.203125 44.609375 42.84375 \r\nQ 40.53125 48.484375 33.40625 48.484375 \r\nQ 26.265625 48.484375 22.1875 42.84375 \r\nQ 18.109375 37.203125 18.109375 27.296875 \r\nQ 18.109375 17.390625 22.1875 11.75 \r\nQ 26.265625 6.109375 33.40625 6.109375 \r\nQ 40.53125 6.109375 44.609375 11.75 \r\nQ 48.6875 17.390625 48.6875 27.296875 \r\nz\r\nM 18.109375 46.390625 \r\nQ 20.953125 51.265625 25.265625 53.625 \r\nQ 29.59375 56 35.59375 56 \r\nQ 45.5625 56 51.78125 48.09375 \r\nQ 58.015625 40.1875 58.015625 27.296875 \r\nQ 58.015625 14.40625 51.78125 6.484375 \r\nQ 45.5625 -1.421875 35.59375 -1.421875 \r\nQ 29.59375 -1.421875 25.265625 0.953125 \r\nQ 20.953125 3.328125 18.109375 8.203125 \r\nL 18.109375 0 \r\nL 9.078125 0 \r\nL 9.078125 75.984375 \r\nL 18.109375 75.984375 \r\nz\r\n\" id=\"DejaVuSans-98\"/>\r\n      <path d=\"M 56.203125 29.59375 \r\nL 56.203125 25.203125 \r\nL 14.890625 25.203125 \r\nQ 15.484375 15.921875 20.484375 11.0625 \r\nQ 25.484375 6.203125 34.421875 6.203125 \r\nQ 39.59375 6.203125 44.453125 7.46875 \r\nQ 49.3125 8.734375 54.109375 11.28125 \r\nL 54.109375 2.78125 \r\nQ 49.265625 0.734375 44.1875 -0.34375 \r\nQ 39.109375 -1.421875 33.890625 -1.421875 \r\nQ 20.796875 -1.421875 13.15625 6.1875 \r\nQ 5.515625 13.8125 5.515625 26.8125 \r\nQ 5.515625 40.234375 12.765625 48.109375 \r\nQ 20.015625 56 32.328125 56 \r\nQ 43.359375 56 49.78125 48.890625 \r\nQ 56.203125 41.796875 56.203125 29.59375 \r\nz\r\nM 47.21875 32.234375 \r\nQ 47.125 39.59375 43.09375 43.984375 \r\nQ 39.0625 48.390625 32.421875 48.390625 \r\nQ 24.90625 48.390625 20.390625 44.140625 \r\nQ 15.875 39.890625 15.1875 32.171875 \r\nz\r\n\" id=\"DejaVuSans-101\"/>\r\n      <path d=\"M 41.109375 46.296875 \r\nQ 39.59375 47.171875 37.8125 47.578125 \r\nQ 36.03125 48 33.890625 48 \r\nQ 26.265625 48 22.1875 43.046875 \r\nQ 18.109375 38.09375 18.109375 28.8125 \r\nL 18.109375 0 \r\nL 9.078125 0 \r\nL 9.078125 54.6875 \r\nL 18.109375 54.6875 \r\nL 18.109375 46.1875 \r\nQ 20.953125 51.171875 25.484375 53.578125 \r\nQ 30.03125 56 36.53125 56 \r\nQ 37.453125 56 38.578125 55.875 \r\nQ 39.703125 55.765625 41.0625 55.515625 \r\nz\r\n\" id=\"DejaVuSans-114\"/>\r\n      <path id=\"DejaVuSans-32\"/>\r\n      <path d=\"M 30.609375 48.390625 \r\nQ 23.390625 48.390625 19.1875 42.75 \r\nQ 14.984375 37.109375 14.984375 27.296875 \r\nQ 14.984375 17.484375 19.15625 11.84375 \r\nQ 23.34375 6.203125 30.609375 6.203125 \r\nQ 37.796875 6.203125 41.984375 11.859375 \r\nQ 46.1875 17.53125 46.1875 27.296875 \r\nQ 46.1875 37.015625 41.984375 42.703125 \r\nQ 37.796875 48.390625 30.609375 48.390625 \r\nz\r\nM 30.609375 56 \r\nQ 42.328125 56 49.015625 48.375 \r\nQ 55.71875 40.765625 55.71875 27.296875 \r\nQ 55.71875 13.875 49.015625 6.21875 \r\nQ 42.328125 -1.421875 30.609375 -1.421875 \r\nQ 18.84375 -1.421875 12.171875 6.21875 \r\nQ 5.515625 13.875 5.515625 27.296875 \r\nQ 5.515625 40.765625 12.171875 48.375 \r\nQ 18.84375 56 30.609375 56 \r\nz\r\n\" id=\"DejaVuSans-111\"/>\r\n      <path d=\"M 37.109375 75.984375 \r\nL 37.109375 68.5 \r\nL 28.515625 68.5 \r\nQ 23.6875 68.5 21.796875 66.546875 \r\nQ 19.921875 64.59375 19.921875 59.515625 \r\nL 19.921875 54.6875 \r\nL 34.71875 54.6875 \r\nL 34.71875 47.703125 \r\nL 19.921875 47.703125 \r\nL 19.921875 0 \r\nL 10.890625 0 \r\nL 10.890625 47.703125 \r\nL 2.296875 47.703125 \r\nL 2.296875 54.6875 \r\nL 10.890625 54.6875 \r\nL 10.890625 58.5 \r\nQ 10.890625 67.625 15.140625 71.796875 \r\nQ 19.390625 75.984375 28.609375 75.984375 \r\nz\r\n\" id=\"DejaVuSans-102\"/>\r\n      <path d=\"M 48.78125 52.59375 \r\nL 48.78125 44.1875 \r\nQ 44.96875 46.296875 41.140625 47.34375 \r\nQ 37.3125 48.390625 33.40625 48.390625 \r\nQ 24.65625 48.390625 19.8125 42.84375 \r\nQ 14.984375 37.3125 14.984375 27.296875 \r\nQ 14.984375 17.28125 19.8125 11.734375 \r\nQ 24.65625 6.203125 33.40625 6.203125 \r\nQ 37.3125 6.203125 41.140625 7.25 \r\nQ 44.96875 8.296875 48.78125 10.40625 \r\nL 48.78125 2.09375 \r\nQ 45.015625 0.34375 40.984375 -0.53125 \r\nQ 36.96875 -1.421875 32.421875 -1.421875 \r\nQ 20.0625 -1.421875 12.78125 6.34375 \r\nQ 5.515625 14.109375 5.515625 27.296875 \r\nQ 5.515625 40.671875 12.859375 48.328125 \r\nQ 20.21875 56 33.015625 56 \r\nQ 37.15625 56 41.109375 55.140625 \r\nQ 45.0625 54.296875 48.78125 52.59375 \r\nz\r\n\" id=\"DejaVuSans-99\"/>\r\n      <path d=\"M 9.421875 75.984375 \r\nL 18.40625 75.984375 \r\nL 18.40625 0 \r\nL 9.421875 0 \r\nz\r\n\" id=\"DejaVuSans-108\"/>\r\n      <path d=\"M 44.28125 53.078125 \r\nL 44.28125 44.578125 \r\nQ 40.484375 46.53125 36.375 47.5 \r\nQ 32.28125 48.484375 27.875 48.484375 \r\nQ 21.1875 48.484375 17.84375 46.4375 \r\nQ 14.5 44.390625 14.5 40.28125 \r\nQ 14.5 37.15625 16.890625 35.375 \r\nQ 19.28125 33.59375 26.515625 31.984375 \r\nL 29.59375 31.296875 \r\nQ 39.15625 29.25 43.1875 25.515625 \r\nQ 47.21875 21.78125 47.21875 15.09375 \r\nQ 47.21875 7.46875 41.1875 3.015625 \r\nQ 35.15625 -1.421875 24.609375 -1.421875 \r\nQ 20.21875 -1.421875 15.453125 -0.5625 \r\nQ 10.6875 0.296875 5.421875 2 \r\nL 5.421875 11.28125 \r\nQ 10.40625 8.6875 15.234375 7.390625 \r\nQ 20.0625 6.109375 24.8125 6.109375 \r\nQ 31.15625 6.109375 34.5625 8.28125 \r\nQ 37.984375 10.453125 37.984375 14.40625 \r\nQ 37.984375 18.0625 35.515625 20.015625 \r\nQ 33.0625 21.96875 24.703125 23.78125 \r\nL 21.578125 24.515625 \r\nQ 13.234375 26.265625 9.515625 29.90625 \r\nQ 5.8125 33.546875 5.8125 39.890625 \r\nQ 5.8125 47.609375 11.28125 51.796875 \r\nQ 16.75 56 26.8125 56 \r\nQ 31.78125 56 36.171875 55.265625 \r\nQ 40.578125 54.546875 44.28125 53.078125 \r\nz\r\n\" id=\"DejaVuSans-115\"/>\r\n      <path d=\"M 18.3125 70.21875 \r\nL 18.3125 54.6875 \r\nL 36.8125 54.6875 \r\nL 36.8125 47.703125 \r\nL 18.3125 47.703125 \r\nL 18.3125 18.015625 \r\nQ 18.3125 11.328125 20.140625 9.421875 \r\nQ 21.96875 7.515625 27.59375 7.515625 \r\nL 36.8125 7.515625 \r\nL 36.8125 0 \r\nL 27.59375 0 \r\nQ 17.1875 0 13.234375 3.875 \r\nQ 9.28125 7.765625 9.28125 18.015625 \r\nL 9.28125 47.703125 \r\nL 2.6875 47.703125 \r\nL 2.6875 54.6875 \r\nL 9.28125 54.6875 \r\nL 9.28125 70.21875 \r\nz\r\n\" id=\"DejaVuSans-116\"/>\r\n      <path d=\"M 11.71875 12.40625 \r\nL 22.015625 12.40625 \r\nL 22.015625 4 \r\nL 14.015625 -11.625 \r\nL 7.71875 -11.625 \r\nL 11.71875 4 \r\nz\r\n\" id=\"DejaVuSans-44\"/>\r\n      <path d=\"M 9.078125 75.984375 \r\nL 18.109375 75.984375 \r\nL 18.109375 31.109375 \r\nL 44.921875 54.6875 \r\nL 56.390625 54.6875 \r\nL 27.390625 29.109375 \r\nL 57.625 0 \r\nL 45.90625 0 \r\nL 18.109375 26.703125 \r\nL 18.109375 0 \r\nL 9.078125 0 \r\nz\r\n\" id=\"DejaVuSans-107\"/>\r\n     </defs>\r\n     <g transform=\"translate(180.259375 252.916562)scale(0.1 -0.1)\">\r\n      <use xlink:href=\"#DejaVuSans-110\"/>\r\n      <use x=\"63.378906\" xlink:href=\"#DejaVuSans-117\"/>\r\n      <use x=\"126.757812\" xlink:href=\"#DejaVuSans-109\"/>\r\n      <use x=\"224.169922\" xlink:href=\"#DejaVuSans-98\"/>\r\n      <use x=\"287.646484\" xlink:href=\"#DejaVuSans-101\"/>\r\n      <use x=\"349.169922\" xlink:href=\"#DejaVuSans-114\"/>\r\n      <use x=\"390.283203\" xlink:href=\"#DejaVuSans-32\"/>\r\n      <use x=\"422.070312\" xlink:href=\"#DejaVuSans-111\"/>\r\n      <use x=\"483.251953\" xlink:href=\"#DejaVuSans-102\"/>\r\n      <use x=\"518.457031\" xlink:href=\"#DejaVuSans-32\"/>\r\n      <use x=\"550.244141\" xlink:href=\"#DejaVuSans-99\"/>\r\n      <use x=\"605.224609\" xlink:href=\"#DejaVuSans-108\"/>\r\n      <use x=\"633.007812\" xlink:href=\"#DejaVuSans-117\"/>\r\n      <use x=\"696.386719\" xlink:href=\"#DejaVuSans-115\"/>\r\n      <use x=\"748.486328\" xlink:href=\"#DejaVuSans-116\"/>\r\n      <use x=\"787.695312\" xlink:href=\"#DejaVuSans-101\"/>\r\n      <use x=\"849.21875\" xlink:href=\"#DejaVuSans-114\"/>\r\n      <use x=\"890.332031\" xlink:href=\"#DejaVuSans-115\"/>\r\n      <use x=\"942.431641\" xlink:href=\"#DejaVuSans-44\"/>\r\n      <use x=\"974.21875\" xlink:href=\"#DejaVuSans-32\"/>\r\n      <use x=\"1006.005859\" xlink:href=\"#DejaVuSans-107\"/>\r\n     </g>\r\n    </g>\r\n   </g>\r\n   <g id=\"matplotlib.axis_2\">\r\n    <g id=\"ytick_1\">\r\n     <g id=\"line2d_10\">\r\n      <defs>\r\n       <path d=\"M 0 0 \r\nL -3.5 0 \r\n\" id=\"m7177cd6e5e\" style=\"stroke:#000000;stroke-width:0.8;\"/>\r\n      </defs>\r\n      <g>\r\n       <use style=\"stroke:#000000;stroke-width:0.8;\" x=\"66.053125\" xlink:href=\"#m7177cd6e5e\" y=\"212.289202\"/>\r\n      </g>\r\n     </g>\r\n     <g id=\"text_11\">\r\n      <!-- 100000 -->\r\n      <defs>\r\n       <path d=\"M 31.78125 66.40625 \r\nQ 24.171875 66.40625 20.328125 58.90625 \r\nQ 16.5 51.421875 16.5 36.375 \r\nQ 16.5 21.390625 20.328125 13.890625 \r\nQ 24.171875 6.390625 31.78125 6.390625 \r\nQ 39.453125 6.390625 43.28125 13.890625 \r\nQ 47.125 21.390625 47.125 36.375 \r\nQ 47.125 51.421875 43.28125 58.90625 \r\nQ 39.453125 66.40625 31.78125 66.40625 \r\nz\r\nM 31.78125 74.21875 \r\nQ 44.046875 74.21875 50.515625 64.515625 \r\nQ 56.984375 54.828125 56.984375 36.375 \r\nQ 56.984375 17.96875 50.515625 8.265625 \r\nQ 44.046875 -1.421875 31.78125 -1.421875 \r\nQ 19.53125 -1.421875 13.0625 8.265625 \r\nQ 6.59375 17.96875 6.59375 36.375 \r\nQ 6.59375 54.828125 13.0625 64.515625 \r\nQ 19.53125 74.21875 31.78125 74.21875 \r\nz\r\n\" id=\"DejaVuSans-48\"/>\r\n      </defs>\r\n      <g transform=\"translate(20.878125 216.088421)scale(0.1 -0.1)\">\r\n       <use xlink:href=\"#DejaVuSans-49\"/>\r\n       <use x=\"63.623047\" xlink:href=\"#DejaVuSans-48\"/>\r\n       <use x=\"127.246094\" xlink:href=\"#DejaVuSans-48\"/>\r\n       <use x=\"190.869141\" xlink:href=\"#DejaVuSans-48\"/>\r\n       <use x=\"254.492188\" xlink:href=\"#DejaVuSans-48\"/>\r\n       <use x=\"318.115234\" xlink:href=\"#DejaVuSans-48\"/>\r\n      </g>\r\n     </g>\r\n    </g>\r\n    <g id=\"ytick_2\">\r\n     <g id=\"line2d_11\">\r\n      <g>\r\n       <use style=\"stroke:#000000;stroke-width:0.8;\" x=\"66.053125\" xlink:href=\"#m7177cd6e5e\" y=\"172.032159\"/>\r\n      </g>\r\n     </g>\r\n     <g id=\"text_12\">\r\n      <!-- 200000 -->\r\n      <g transform=\"translate(20.878125 175.831378)scale(0.1 -0.1)\">\r\n       <use xlink:href=\"#DejaVuSans-50\"/>\r\n       <use x=\"63.623047\" xlink:href=\"#DejaVuSans-48\"/>\r\n       <use x=\"127.246094\" xlink:href=\"#DejaVuSans-48\"/>\r\n       <use x=\"190.869141\" xlink:href=\"#DejaVuSans-48\"/>\r\n       <use x=\"254.492188\" xlink:href=\"#DejaVuSans-48\"/>\r\n       <use x=\"318.115234\" xlink:href=\"#DejaVuSans-48\"/>\r\n      </g>\r\n     </g>\r\n    </g>\r\n    <g id=\"ytick_3\">\r\n     <g id=\"line2d_12\">\r\n      <g>\r\n       <use style=\"stroke:#000000;stroke-width:0.8;\" x=\"66.053125\" xlink:href=\"#m7177cd6e5e\" y=\"131.775116\"/>\r\n      </g>\r\n     </g>\r\n     <g id=\"text_13\">\r\n      <!-- 300000 -->\r\n      <g transform=\"translate(20.878125 135.574334)scale(0.1 -0.1)\">\r\n       <use xlink:href=\"#DejaVuSans-51\"/>\r\n       <use x=\"63.623047\" xlink:href=\"#DejaVuSans-48\"/>\r\n       <use x=\"127.246094\" xlink:href=\"#DejaVuSans-48\"/>\r\n       <use x=\"190.869141\" xlink:href=\"#DejaVuSans-48\"/>\r\n       <use x=\"254.492188\" xlink:href=\"#DejaVuSans-48\"/>\r\n       <use x=\"318.115234\" xlink:href=\"#DejaVuSans-48\"/>\r\n      </g>\r\n     </g>\r\n    </g>\r\n    <g id=\"ytick_4\">\r\n     <g id=\"line2d_13\">\r\n      <g>\r\n       <use style=\"stroke:#000000;stroke-width:0.8;\" x=\"66.053125\" xlink:href=\"#m7177cd6e5e\" y=\"91.518072\"/>\r\n      </g>\r\n     </g>\r\n     <g id=\"text_14\">\r\n      <!-- 400000 -->\r\n      <g transform=\"translate(20.878125 95.317291)scale(0.1 -0.1)\">\r\n       <use xlink:href=\"#DejaVuSans-52\"/>\r\n       <use x=\"63.623047\" xlink:href=\"#DejaVuSans-48\"/>\r\n       <use x=\"127.246094\" xlink:href=\"#DejaVuSans-48\"/>\r\n       <use x=\"190.869141\" xlink:href=\"#DejaVuSans-48\"/>\r\n       <use x=\"254.492188\" xlink:href=\"#DejaVuSans-48\"/>\r\n       <use x=\"318.115234\" xlink:href=\"#DejaVuSans-48\"/>\r\n      </g>\r\n     </g>\r\n    </g>\r\n    <g id=\"ytick_5\">\r\n     <g id=\"line2d_14\">\r\n      <g>\r\n       <use style=\"stroke:#000000;stroke-width:0.8;\" x=\"66.053125\" xlink:href=\"#m7177cd6e5e\" y=\"51.261029\"/>\r\n      </g>\r\n     </g>\r\n     <g id=\"text_15\">\r\n      <!-- 500000 -->\r\n      <g transform=\"translate(20.878125 55.060248)scale(0.1 -0.1)\">\r\n       <use xlink:href=\"#DejaVuSans-53\"/>\r\n       <use x=\"63.623047\" xlink:href=\"#DejaVuSans-48\"/>\r\n       <use x=\"127.246094\" xlink:href=\"#DejaVuSans-48\"/>\r\n       <use x=\"190.869141\" xlink:href=\"#DejaVuSans-48\"/>\r\n       <use x=\"254.492188\" xlink:href=\"#DejaVuSans-48\"/>\r\n       <use x=\"318.115234\" xlink:href=\"#DejaVuSans-48\"/>\r\n      </g>\r\n     </g>\r\n    </g>\r\n    <g id=\"ytick_6\">\r\n     <g id=\"line2d_15\">\r\n      <g>\r\n       <use style=\"stroke:#000000;stroke-width:0.8;\" x=\"66.053125\" xlink:href=\"#m7177cd6e5e\" y=\"11.003985\"/>\r\n      </g>\r\n     </g>\r\n     <g id=\"text_16\">\r\n      <!-- 600000 -->\r\n      <g transform=\"translate(20.878125 14.803204)scale(0.1 -0.1)\">\r\n       <use xlink:href=\"#DejaVuSans-54\"/>\r\n       <use x=\"63.623047\" xlink:href=\"#DejaVuSans-48\"/>\r\n       <use x=\"127.246094\" xlink:href=\"#DejaVuSans-48\"/>\r\n       <use x=\"190.869141\" xlink:href=\"#DejaVuSans-48\"/>\r\n       <use x=\"254.492188\" xlink:href=\"#DejaVuSans-48\"/>\r\n       <use x=\"318.115234\" xlink:href=\"#DejaVuSans-48\"/>\r\n      </g>\r\n     </g>\r\n    </g>\r\n    <g id=\"text_17\">\r\n     <!-- inertia -->\r\n     <defs>\r\n      <path d=\"M 9.421875 54.6875 \r\nL 18.40625 54.6875 \r\nL 18.40625 0 \r\nL 9.421875 0 \r\nz\r\nM 9.421875 75.984375 \r\nL 18.40625 75.984375 \r\nL 18.40625 64.59375 \r\nL 9.421875 64.59375 \r\nz\r\n\" id=\"DejaVuSans-105\"/>\r\n      <path d=\"M 34.28125 27.484375 \r\nQ 23.390625 27.484375 19.1875 25 \r\nQ 14.984375 22.515625 14.984375 16.5 \r\nQ 14.984375 11.71875 18.140625 8.90625 \r\nQ 21.296875 6.109375 26.703125 6.109375 \r\nQ 34.1875 6.109375 38.703125 11.40625 \r\nQ 43.21875 16.703125 43.21875 25.484375 \r\nL 43.21875 27.484375 \r\nz\r\nM 52.203125 31.203125 \r\nL 52.203125 0 \r\nL 43.21875 0 \r\nL 43.21875 8.296875 \r\nQ 40.140625 3.328125 35.546875 0.953125 \r\nQ 30.953125 -1.421875 24.3125 -1.421875 \r\nQ 15.921875 -1.421875 10.953125 3.296875 \r\nQ 6 8.015625 6 15.921875 \r\nQ 6 25.140625 12.171875 29.828125 \r\nQ 18.359375 34.515625 30.609375 34.515625 \r\nL 43.21875 34.515625 \r\nL 43.21875 35.40625 \r\nQ 43.21875 41.609375 39.140625 45 \r\nQ 35.0625 48.390625 27.6875 48.390625 \r\nQ 23 48.390625 18.546875 47.265625 \r\nQ 14.109375 46.140625 10.015625 43.890625 \r\nL 10.015625 52.203125 \r\nQ 14.9375 54.109375 19.578125 55.046875 \r\nQ 24.21875 56 28.609375 56 \r\nQ 40.484375 56 46.34375 49.84375 \r\nQ 52.203125 43.703125 52.203125 31.203125 \r\nz\r\n\" id=\"DejaVuSans-97\"/>\r\n     </defs>\r\n     <g transform=\"translate(14.798438 132.023125)rotate(-90)scale(0.1 -0.1)\">\r\n      <use xlink:href=\"#DejaVuSans-105\"/>\r\n      <use x=\"27.783203\" xlink:href=\"#DejaVuSans-110\"/>\r\n      <use x=\"91.162109\" xlink:href=\"#DejaVuSans-101\"/>\r\n      <use x=\"152.685547\" xlink:href=\"#DejaVuSans-114\"/>\r\n      <use x=\"193.798828\" xlink:href=\"#DejaVuSans-116\"/>\r\n      <use x=\"233.007812\" xlink:href=\"#DejaVuSans-105\"/>\r\n      <use x=\"260.791016\" xlink:href=\"#DejaVuSans-97\"/>\r\n     </g>\r\n    </g>\r\n   </g>\r\n   <g id=\"line2d_16\">\r\n    <path clip-path=\"url(#pc8a733b1c7)\" d=\"M 81.271307 17.083636 \r\nL 119.316761 116.943342 \r\nL 157.362216 160.882888 \r\nL 195.40767 183.520283 \r\nL 233.453125 193.245808 \r\nL 271.49858 199.548066 \r\nL 309.544034 204.941045 \r\nL 347.589489 210.366383 \r\nL 385.634943 214.756364 \r\n\" style=\"fill:none;stroke:#000000;stroke-linecap:square;stroke-width:1.5;\"/>\r\n    <defs>\r\n     <path d=\"M 0 3 \r\nC 0.795609 3 1.55874 2.683901 2.12132 2.12132 \r\nC 2.683901 1.55874 3 0.795609 3 0 \r\nC 3 -0.795609 2.683901 -1.55874 2.12132 -2.12132 \r\nC 1.55874 -2.683901 0.795609 -3 0 -3 \r\nC -0.795609 -3 -1.55874 -2.683901 -2.12132 -2.12132 \r\nC -2.683901 -1.55874 -3 -0.795609 -3 0 \r\nC -3 0.795609 -2.683901 1.55874 -2.12132 2.12132 \r\nC -1.55874 2.683901 -0.795609 3 0 3 \r\nz\r\n\" id=\"m7ba37ecc46\" style=\"stroke:#000000;\"/>\r\n    </defs>\r\n    <g clip-path=\"url(#pc8a733b1c7)\">\r\n     <use style=\"stroke:#000000;\" x=\"81.271307\" xlink:href=\"#m7ba37ecc46\" y=\"17.083636\"/>\r\n     <use style=\"stroke:#000000;\" x=\"119.316761\" xlink:href=\"#m7ba37ecc46\" y=\"116.943342\"/>\r\n     <use style=\"stroke:#000000;\" x=\"157.362216\" xlink:href=\"#m7ba37ecc46\" y=\"160.882888\"/>\r\n     <use style=\"stroke:#000000;\" x=\"195.40767\" xlink:href=\"#m7ba37ecc46\" y=\"183.520283\"/>\r\n     <use style=\"stroke:#000000;\" x=\"233.453125\" xlink:href=\"#m7ba37ecc46\" y=\"193.245808\"/>\r\n     <use style=\"stroke:#000000;\" x=\"271.49858\" xlink:href=\"#m7ba37ecc46\" y=\"199.548066\"/>\r\n     <use style=\"stroke:#000000;\" x=\"309.544034\" xlink:href=\"#m7ba37ecc46\" y=\"204.941045\"/>\r\n     <use style=\"stroke:#000000;\" x=\"347.589489\" xlink:href=\"#m7ba37ecc46\" y=\"210.366383\"/>\r\n     <use style=\"stroke:#000000;\" x=\"385.634943\" xlink:href=\"#m7ba37ecc46\" y=\"214.756364\"/>\r\n    </g>\r\n   </g>\r\n   <g id=\"patch_3\">\r\n    <path d=\"M 66.053125 224.64 \r\nL 66.053125 7.2 \r\n\" style=\"fill:none;stroke:#000000;stroke-linecap:square;stroke-linejoin:miter;stroke-width:0.8;\"/>\r\n   </g>\r\n   <g id=\"patch_4\">\r\n    <path d=\"M 400.853125 224.64 \r\nL 400.853125 7.2 \r\n\" style=\"fill:none;stroke:#000000;stroke-linecap:square;stroke-linejoin:miter;stroke-width:0.8;\"/>\r\n   </g>\r\n   <g id=\"patch_5\">\r\n    <path d=\"M 66.053125 224.64 \r\nL 400.853125 224.64 \r\n\" style=\"fill:none;stroke:#000000;stroke-linecap:square;stroke-linejoin:miter;stroke-width:0.8;\"/>\r\n   </g>\r\n   <g id=\"patch_6\">\r\n    <path d=\"M 66.053125 7.2 \r\nL 400.853125 7.2 \r\n\" style=\"fill:none;stroke:#000000;stroke-linecap:square;stroke-linejoin:miter;stroke-width:0.8;\"/>\r\n   </g>\r\n  </g>\r\n </g>\r\n <defs>\r\n  <clipPath id=\"pc8a733b1c7\">\r\n   <rect height=\"217.44\" width=\"334.8\" x=\"66.053125\" y=\"7.2\"/>\r\n  </clipPath>\r\n </defs>\r\n</svg>\r\n",
      "image/png": "[encoded data removed]"
     },
     "metadata": {
      "needs_background": "light"
     }
    }
   ],
   "source": [
    "ks = range(1, 10)\n",
    "inertias = []\n",
    "for k in ks:\n",
    "    # Create a KMeans instance with k clusters: model\n",
    "    model = KMeans(n_clusters=k)\n",
    "    \n",
    "    # Fit model to samples\n",
    "    model.fit(PCA_components.iloc[:,:3])\n",
    "    \n",
    "    # Append the inertia to the list of inertias\n",
    "    inertias.append(model.inertia_)\n",
    "    \n",
    "plt.plot(ks, inertias, '-o', color='black')\n",
    "plt.xlabel('number of clusters, k')\n",
    "plt.ylabel('inertia')\n",
    "plt.xticks(ks)\n",
    "plt.show()"
   ]
  },
  {
   "cell_type": "markdown",
   "metadata": {},
   "source": [
    "# PCA + KMeans (sem aplicar reverse_ohe)"
   ]
  },
  {
   "cell_type": "code",
   "execution_count": 62,
   "metadata": {},
   "outputs": [
    {
     "output_type": "execute_result",
     "data": {
      "text/plain": "                     UmidadeRelativa_0  PressaoAtmosferica_0  \\\nData_Hora                                                      \n2013-11-14 11:45:00               83.6                 925.7   \n2017-08-21 14:00:00               91.4                 922.3   \n2014-09-12 09:15:00               88.2                 927.1   \n2018-12-09 09:30:00               71.9                 920.9   \n2019-09-27 18:15:00               50.3                 928.1   \n...                                ...                   ...   \n2012-11-10 13:15:00               55.4                 923.5   \n2014-10-12 12:00:00               70.0                 923.8   \n2019-10-04 22:30:00               88.2                 933.3   \n2013-05-23 06:30:00               87.9                 921.4   \n2016-09-27 02:45:00               86.8                 931.4   \n\n                     TemperaturaDoAr_0  TemperaturaInterna_0  \\\nData_Hora                                                      \n2013-11-14 11:45:00          17.500000             19.800000   \n2017-08-21 14:00:00          18.500000             21.000000   \n2014-09-12 09:15:00          14.532153             17.046131   \n2018-12-09 09:30:00          22.200000             25.900000   \n2019-09-27 18:15:00          14.100000             16.400000   \n...                                ...                   ...   \n2012-11-10 13:15:00          24.600000             28.200000   \n2014-10-12 12:00:00          23.500000             25.800000   \n2019-10-04 22:30:00          14.800000             17.700000   \n2013-05-23 06:30:00          16.300000             18.700000   \n2016-09-27 02:45:00          12.000000             14.526659   \n\n                     PontoDeOrvalho_0  SensacaoTermica_0  RadiacaoSolar_0  \\\nData_Hora                                                                   \n2013-11-14 11:45:00              14.7          17.500000              0.0   \n2017-08-21 14:00:00              17.0          17.964929              0.0   \n2014-09-12 09:15:00              12.4          17.964929              3.0   \n2018-12-09 09:30:00              17.0          19.100000            119.0   \n2019-09-27 18:15:00               3.9          14.100000              0.0   \n...                               ...                ...              ...   \n2012-11-10 13:15:00              15.0          17.964929            108.0   \n2014-10-12 12:00:00              17.7          17.964929            205.0   \n2019-10-04 22:30:00              12.8          17.964929              0.0   \n2013-05-23 06:30:00              14.3          16.300000              0.0   \n2016-09-27 02:45:00               9.8          17.964929              0.0   \n\n                     DirecaoDoVento_0  VelocidadeDoVento_0  Precipitacao_0  \\\nData_Hora                                                                    \n2013-11-14 11:45:00             294.0                 10.1             0.0   \n2017-08-21 14:00:00               5.0                  5.8             0.0   \n2014-09-12 09:15:00              57.0                 11.2             0.0   \n2018-12-09 09:30:00             269.0                 22.3             0.0   \n2019-09-27 18:15:00              24.0                  6.1             0.0   \n...                               ...                  ...             ...   \n2012-11-10 13:15:00             317.0                  1.8             0.0   \n2014-10-12 12:00:00              78.0                  3.6             0.4   \n2019-10-04 22:30:00             178.0                 12.2             0.0   \n2013-05-23 06:30:00             315.0                  7.9             0.0   \n2016-09-27 02:45:00             140.0                 12.6             0.0   \n\n                     UmidadeRelativa_1  PressaoAtmosferica_1  \\\nData_Hora                                                      \n2013-11-14 11:45:00               80.7                 927.0   \n2017-08-21 14:00:00               90.7                   0.0   \n2014-09-12 09:15:00               87.5                 926.9   \n2018-12-09 09:30:00               64.7                 922.2   \n2019-09-27 18:15:00               61.6                 929.6   \n...                                ...                   ...   \n2012-11-10 13:15:00               49.5                 923.5   \n2014-10-12 12:00:00                0.0                   0.0   \n2019-10-04 22:30:00               86.9                   0.0   \n2013-05-23 06:30:00               84.5                 922.8   \n2016-09-27 02:45:00               88.6                 931.4   \n\n                     TemperaturaDoAr_1  TemperaturaInterna_1  \\\nData_Hora                                                      \n2013-11-14 11:45:00               17.9                  20.5   \n2017-08-21 14:00:00               18.5                  21.3   \n2014-09-12 09:15:00               14.6                  18.7   \n2018-12-09 09:30:00               23.2                  27.0   \n2019-09-27 18:15:00               12.5                  14.9   \n...                                ...                   ...   \n2012-11-10 13:15:00               24.3                  28.3   \n2014-10-12 12:00:00                0.0                   0.0   \n2019-10-04 22:30:00               14.4                  17.2   \n2013-05-23 06:30:00               16.7                  19.4   \n2016-09-27 02:45:00               11.7                  15.9   \n\n                     PontoDeOrvalho_1  SensacaoTermica_1  RadiacaoSolar_1  \\\nData_Hora                                                                   \n2013-11-14 11:45:00              14.5                0.0              0.0   \n2017-08-21 14:00:00              16.9                0.0              0.0   \n2014-09-12 09:15:00              12.5                0.0              4.0   \n2018-12-09 09:30:00              16.2                0.0              0.0   \n2019-09-27 18:15:00               5.4                0.0              0.0   \n...                               ...                ...              ...   \n2012-11-10 13:15:00              12.9                0.0            113.0   \n2014-10-12 12:00:00               0.0                0.0              0.0   \n2019-10-04 22:30:00              12.3                0.0              0.0   \n2013-05-23 06:30:00              14.1                0.0              0.0   \n2016-09-27 02:45:00              10.0                0.0              0.0   \n\n                     DirecaoDoVento_1  VelocidadeDoVento_1  Precipitacao_1  \\\nData_Hora                                                                    \n2013-11-14 11:45:00              53.0                 13.4        0.000000   \n2017-08-21 14:00:00               0.0                  0.0        0.600000   \n2014-09-12 09:15:00             347.0                  9.0        0.000000   \n2018-12-09 09:30:00             346.0                 12.8        0.000000   \n2019-09-27 18:15:00             106.0                  3.7        0.169706   \n...                               ...                  ...             ...   \n2012-11-10 13:15:00             329.0                 17.6        0.000000   \n2014-10-12 12:00:00               0.0                  0.0        0.000000   \n2019-10-04 22:30:00               0.0                  0.0        0.200000   \n2013-05-23 06:30:00              40.0                  9.6        0.000000   \n2016-09-27 02:45:00             139.0                 15.1        0.000000   \n\n                     UmidadeRelativa_2  PressaoAtmosferica_2  \\\nData_Hora                                                      \n2013-11-14 11:45:00          95.203400            925.900000   \n2017-08-21 14:00:00         103.007896            922.432922   \n2014-09-12 09:15:00          90.400000            925.300000   \n2018-12-09 09:30:00          72.053223            921.100000   \n2019-09-27 18:15:00          51.100000            928.400000   \n...                                ...                   ...   \n2012-11-10 13:15:00          56.700000            921.900000   \n2014-10-12 12:00:00          71.500000            922.100000   \n2019-10-04 22:30:00         104.000000            931.800000   \n2013-05-23 06:30:00          90.605293            921.700000   \n2016-09-27 02:45:00          90.900000            929.800000   \n\n                     TemperaturaDoAr_2  TemperaturaInterna_2  \\\nData_Hora                                                      \n2013-11-14 11:45:00          17.400000             18.700000   \n2017-08-21 14:00:00          18.361057             19.333063   \n2014-09-12 09:15:00          14.400000             18.600000   \n2018-12-09 09:30:00          22.900000             26.600000   \n2019-09-27 18:15:00          13.600000             14.200000   \n...                                ...                   ...   \n2012-11-10 13:15:00          24.400000             28.700000   \n2014-10-12 12:00:00          22.900000             28.500000   \n2019-10-04 22:30:00          14.300000             18.400000   \n2013-05-23 06:30:00          16.500000             18.000000   \n2016-09-27 02:45:00          11.600000             15.700000   \n\n                     PontoDeOrvalho_2  SensacaoTermica_2  RadiacaoSolar_2  \\\nData_Hora                                                                   \n2013-11-14 11:45:00         17.120337          14.400000         0.000000   \n2017-08-21 14:00:00         19.024376          18.036888         0.089701   \n2014-09-12 09:15:00         12.900000          18.036888         2.000000   \n2018-12-09 09:30:00         17.782650          20.700000        86.000000   \n2019-09-27 18:15:00          3.600000          12.500000         0.000000   \n...                               ...                ...              ...   \n2012-11-10 13:15:00         15.100000          18.036888       152.000000   \n2014-10-12 12:00:00         17.400000          18.036888       233.000000   \n2019-10-04 22:30:00         14.900000          18.036888         0.000000   \n2013-05-23 06:30:00         14.449715          13.800000         0.000000   \n2016-09-27 02:45:00         10.200000          18.036888         0.000000   \n\n                     DirecaoDoVento_2  VelocidadeDoVento_2  Precipitacao_2  \\\nData_Hora                                                                    \n2013-11-14 11:45:00         46.000000            14.400000             0.0   \n2017-08-21 14:00:00        122.019218            10.964128             0.2   \n2014-09-12 09:15:00         51.000000             9.400000             0.0   \n2018-12-09 09:30:00         26.000000            14.400000             0.0   \n2019-09-27 18:15:00        163.000000             9.000000             0.0   \n...                               ...                  ...             ...   \n2012-11-10 13:15:00         33.000000            12.600000             0.0   \n2014-10-12 12:00:00         48.000000            17.600000             0.0   \n2019-10-04 22:30:00        176.000000            13.353210             0.2   \n2013-05-23 06:30:00         48.000000            11.900000             0.0   \n2016-09-27 02:45:00        151.000000            12.600000             0.0   \n\n                     UmidadeRelativa_3  PressaoAtmosferica_3  \\\nData_Hora                                                      \n2013-11-14 11:45:00          98.200000                 933.7   \n2017-08-21 14:00:00          96.200000                 930.1   \n2014-09-12 09:15:00          84.700000                 933.2   \n2018-12-09 09:30:00          69.922272                 928.6   \n2019-09-27 18:15:00          52.400000                 936.2   \n...                                ...                   ...   \n2012-11-10 13:15:00          50.200000                 929.4   \n2014-10-12 12:00:00          69.400000                 929.7   \n2019-10-04 22:30:00          92.800000                 939.6   \n2013-05-23 06:30:00           0.000000                   0.0   \n2016-09-27 02:45:00          84.000000                 937.8   \n\n                     TemperaturaDoAr_3  TemperaturaInterna_3  \\\nData_Hora                                                      \n2013-11-14 11:45:00               16.9                  21.0   \n2017-08-21 14:00:00               19.1                  22.8   \n2014-09-12 09:15:00               15.0                  18.5   \n2018-12-09 09:30:00               23.0                  28.6   \n2019-09-27 18:15:00               13.4                  17.3   \n...                                ...                   ...   \n2012-11-10 13:15:00               24.5                  29.4   \n2014-10-12 12:00:00               23.1                  26.7   \n2019-10-04 22:30:00               14.8                  18.3   \n2013-05-23 06:30:00                0.0                   0.0   \n2016-09-27 02:45:00               12.2                  15.6   \n\n                     PontoDeOrvalho_3  SensacaoTermica_3  RadiacaoSolar_3  \\\nData_Hora                                                                   \n2013-11-14 11:45:00              16.8          17.100000         0.000000   \n2017-08-21 14:00:00              18.7          18.549916         0.000000   \n2014-09-12 09:15:00              12.6          18.549916         3.000000   \n2018-12-09 09:30:00              18.5          23.300000       102.000000   \n2019-09-27 18:15:00               4.1          13.600000         0.000000   \n...                               ...                ...              ...   \n2012-11-10 13:15:00              13.8          18.549916       154.000000   \n2014-10-12 12:00:00              17.6          18.549916       231.000000   \n2019-10-04 22:30:00              13.9          18.549916         0.000000   \n2013-05-23 06:30:00               0.0           0.000000         0.123571   \n2016-09-27 02:45:00               9.7          18.549916         0.000000   \n\n                     DirecaoDoVento_3  VelocidadeDoVento_3  Precipitacao_3  \\\nData_Hora                                                                    \n2013-11-14 11:45:00             266.0                  1.4             0.0   \n2017-08-21 14:00:00              95.0                  3.2             0.0   \n2014-09-12 09:15:00              66.0                  5.0             0.0   \n2018-12-09 09:30:00              40.0                  7.9             0.0   \n2019-09-27 18:15:00              80.0                  1.1             0.4   \n...                               ...                  ...             ...   \n2012-11-10 13:15:00             320.0                 13.0             0.0   \n2014-10-12 12:00:00              80.0                  7.9             0.0   \n2019-10-04 22:30:00             153.0                 22.3             0.0   \n2013-05-23 06:30:00               0.0                  0.0             0.0   \n2016-09-27 02:45:00             151.0                  6.1             0.0   \n\n                     UmidadeRelativa_4  PressaoAtmosferica_4  \\\nData_Hora                                                      \n2013-11-14 11:45:00          91.154625            927.500000   \n2017-08-21 14:00:00           0.000000            923.800000   \n2014-09-12 09:15:00          84.300000            926.900000   \n2018-12-09 09:30:00          70.251648            922.500000   \n2019-09-27 18:15:00          56.400000            929.800000   \n...                                ...                   ...   \n2012-11-10 13:15:00          53.700000            923.400000   \n2014-10-12 12:00:00          66.200000            923.700000   \n2019-10-04 22:30:00           0.000000            933.200000   \n2013-05-23 06:30:00          76.064354            923.200000   \n2016-09-27 02:45:00          88.033035            931.581665   \n\n                     TemperaturaDoAr_4  TemperaturaInterna_4  \\\nData_Hora                                                      \n2013-11-14 11:45:00          17.900000             23.041742   \n2017-08-21 14:00:00          18.500000             21.910213   \n2014-09-12 09:15:00          14.600000             18.000000   \n2018-12-09 09:30:00          23.400000             30.200000   \n2019-09-27 18:15:00          13.600000             16.412216   \n...                                ...                   ...   \n2012-11-10 13:15:00          24.600000             28.900000   \n2014-10-12 12:00:00          23.900000             27.100000   \n2019-10-04 22:30:00          14.500000             17.300000   \n2013-05-23 06:30:00          16.700000             22.200000   \n2016-09-27 02:45:00          11.309918             20.700000   \n\n                     PontoDeOrvalho_4  SensacaoTermica_4  RadiacaoSolar_4  \\\nData_Hora                                                                   \n2013-11-14 11:45:00         16.450169          17.900000              0.0   \n2017-08-21 14:00:00          0.000000           8.217346              0.0   \n2014-09-12 09:15:00         11.900000           8.217346              4.0   \n2018-12-09 09:30:00         17.338696          22.500000              0.0   \n2019-09-27 18:15:00          5.000000          13.327952              0.0   \n...                               ...                ...              ...   \n2012-11-10 13:15:00         14.600000           8.217346            110.0   \n2014-10-12 12:00:00         17.600000           8.217346            201.0   \n2019-10-04 22:30:00          0.000000           8.217346              0.0   \n2013-05-23 06:30:00         14.574666           0.000000              0.0   \n2016-09-27 02:45:00         10.017650           8.217346              0.0   \n\n                     DirecaoDoVento_4  VelocidadeDoVento_4  Precipitacao_4  \nData_Hora                                                                   \n2013-11-14 11:45:00          2.000000             8.300000             0.0  \n2017-08-21 14:00:00         80.000000             6.500000             0.2  \n2014-09-12 09:15:00          0.000000             0.000000             0.0  \n2018-12-09 09:30:00        323.000000            18.000000             0.0  \n2019-09-27 18:15:00        103.402855             3.914019             0.2  \n...                               ...                  ...             ...  \n2012-11-10 13:15:00        342.000000             5.800000             0.0  \n2014-10-12 12:00:00        324.000000            14.000000             0.4  \n2019-10-04 22:30:00          0.000000             0.000000             0.2  \n2013-05-23 06:30:00          0.000000             0.000000             0.0  \n2016-09-27 02:45:00          0.000000             0.000000             0.0  \n\n[100000 rows x 50 columns]",
      "text/html": "<div>\n<style scoped>\n    .dataframe tbody tr th:only-of-type {\n        vertical-align: middle;\n    }\n\n    .dataframe tbody tr th {\n        vertical-align: top;\n    }\n\n    .dataframe thead th {\n        text-align: right;\n    }\n</style>\n<table border=\"1\" class=\"dataframe\">\n  <thead>\n    <tr style=\"text-align: right;\">\n      <th></th>\n      <th>UmidadeRelativa_0</th>\n      <th>PressaoAtmosferica_0</th>\n      <th>TemperaturaDoAr_0</th>\n      <th>TemperaturaInterna_0</th>\n      <th>PontoDeOrvalho_0</th>\n      <th>SensacaoTermica_0</th>\n      <th>RadiacaoSolar_0</th>\n      <th>DirecaoDoVento_0</th>\n      <th>VelocidadeDoVento_0</th>\n      <th>Precipitacao_0</th>\n      <th>UmidadeRelativa_1</th>\n      <th>PressaoAtmosferica_1</th>\n      <th>TemperaturaDoAr_1</th>\n      <th>TemperaturaInterna_1</th>\n      <th>PontoDeOrvalho_1</th>\n      <th>SensacaoTermica_1</th>\n      <th>RadiacaoSolar_1</th>\n      <th>DirecaoDoVento_1</th>\n      <th>VelocidadeDoVento_1</th>\n      <th>Precipitacao_1</th>\n      <th>UmidadeRelativa_2</th>\n      <th>PressaoAtmosferica_2</th>\n      <th>TemperaturaDoAr_2</th>\n      <th>TemperaturaInterna_2</th>\n      <th>PontoDeOrvalho_2</th>\n      <th>SensacaoTermica_2</th>\n      <th>RadiacaoSolar_2</th>\n      <th>DirecaoDoVento_2</th>\n      <th>VelocidadeDoVento_2</th>\n      <th>Precipitacao_2</th>\n      <th>UmidadeRelativa_3</th>\n      <th>PressaoAtmosferica_3</th>\n      <th>TemperaturaDoAr_3</th>\n      <th>TemperaturaInterna_3</th>\n      <th>PontoDeOrvalho_3</th>\n      <th>SensacaoTermica_3</th>\n      <th>RadiacaoSolar_3</th>\n      <th>DirecaoDoVento_3</th>\n      <th>VelocidadeDoVento_3</th>\n      <th>Precipitacao_3</th>\n      <th>UmidadeRelativa_4</th>\n      <th>PressaoAtmosferica_4</th>\n      <th>TemperaturaDoAr_4</th>\n      <th>TemperaturaInterna_4</th>\n      <th>PontoDeOrvalho_4</th>\n      <th>SensacaoTermica_4</th>\n      <th>RadiacaoSolar_4</th>\n      <th>DirecaoDoVento_4</th>\n      <th>VelocidadeDoVento_4</th>\n      <th>Precipitacao_4</th>\n    </tr>\n    <tr>\n      <th>Data_Hora</th>\n      <th></th>\n      <th></th>\n      <th></th>\n      <th></th>\n      <th></th>\n      <th></th>\n      <th></th>\n      <th></th>\n      <th></th>\n      <th></th>\n      <th></th>\n      <th></th>\n      <th></th>\n      <th></th>\n      <th></th>\n      <th></th>\n      <th></th>\n      <th></th>\n      <th></th>\n      <th></th>\n      <th></th>\n      <th></th>\n      <th></th>\n      <th></th>\n      <th></th>\n      <th></th>\n      <th></th>\n      <th></th>\n      <th></th>\n      <th></th>\n      <th></th>\n      <th></th>\n      <th></th>\n      <th></th>\n      <th></th>\n      <th></th>\n      <th></th>\n      <th></th>\n      <th></th>\n      <th></th>\n      <th></th>\n      <th></th>\n      <th></th>\n      <th></th>\n      <th></th>\n      <th></th>\n      <th></th>\n      <th></th>\n      <th></th>\n      <th></th>\n    </tr>\n  </thead>\n  <tbody>\n    <tr>\n      <th>2013-11-14 11:45:00</th>\n      <td>83.6</td>\n      <td>925.7</td>\n      <td>17.500000</td>\n      <td>19.800000</td>\n      <td>14.7</td>\n      <td>17.500000</td>\n      <td>0.0</td>\n      <td>294.0</td>\n      <td>10.1</td>\n      <td>0.0</td>\n      <td>80.7</td>\n      <td>927.0</td>\n      <td>17.9</td>\n      <td>20.5</td>\n      <td>14.5</td>\n      <td>0.0</td>\n      <td>0.0</td>\n      <td>53.0</td>\n      <td>13.4</td>\n      <td>0.000000</td>\n      <td>95.203400</td>\n      <td>925.900000</td>\n      <td>17.400000</td>\n      <td>18.700000</td>\n      <td>17.120337</td>\n      <td>14.400000</td>\n      <td>0.000000</td>\n      <td>46.000000</td>\n      <td>14.400000</td>\n      <td>0.0</td>\n      <td>98.200000</td>\n      <td>933.7</td>\n      <td>16.9</td>\n      <td>21.0</td>\n      <td>16.8</td>\n      <td>17.100000</td>\n      <td>0.000000</td>\n      <td>266.0</td>\n      <td>1.4</td>\n      <td>0.0</td>\n      <td>91.154625</td>\n      <td>927.500000</td>\n      <td>17.900000</td>\n      <td>23.041742</td>\n      <td>16.450169</td>\n      <td>17.900000</td>\n      <td>0.0</td>\n      <td>2.000000</td>\n      <td>8.300000</td>\n      <td>0.0</td>\n    </tr>\n    <tr>\n      <th>2017-08-21 14:00:00</th>\n      <td>91.4</td>\n      <td>922.3</td>\n      <td>18.500000</td>\n      <td>21.000000</td>\n      <td>17.0</td>\n      <td>17.964929</td>\n      <td>0.0</td>\n      <td>5.0</td>\n      <td>5.8</td>\n      <td>0.0</td>\n      <td>90.7</td>\n      <td>0.0</td>\n      <td>18.5</td>\n      <td>21.3</td>\n      <td>16.9</td>\n      <td>0.0</td>\n      <td>0.0</td>\n      <td>0.0</td>\n      <td>0.0</td>\n      <td>0.600000</td>\n      <td>103.007896</td>\n      <td>922.432922</td>\n      <td>18.361057</td>\n      <td>19.333063</td>\n      <td>19.024376</td>\n      <td>18.036888</td>\n      <td>0.089701</td>\n      <td>122.019218</td>\n      <td>10.964128</td>\n      <td>0.2</td>\n      <td>96.200000</td>\n      <td>930.1</td>\n      <td>19.1</td>\n      <td>22.8</td>\n      <td>18.7</td>\n      <td>18.549916</td>\n      <td>0.000000</td>\n      <td>95.0</td>\n      <td>3.2</td>\n      <td>0.0</td>\n      <td>0.000000</td>\n      <td>923.800000</td>\n      <td>18.500000</td>\n      <td>21.910213</td>\n      <td>0.000000</td>\n      <td>8.217346</td>\n      <td>0.0</td>\n      <td>80.000000</td>\n      <td>6.500000</td>\n      <td>0.2</td>\n    </tr>\n    <tr>\n      <th>2014-09-12 09:15:00</th>\n      <td>88.2</td>\n      <td>927.1</td>\n      <td>14.532153</td>\n      <td>17.046131</td>\n      <td>12.4</td>\n      <td>17.964929</td>\n      <td>3.0</td>\n      <td>57.0</td>\n      <td>11.2</td>\n      <td>0.0</td>\n      <td>87.5</td>\n      <td>926.9</td>\n      <td>14.6</td>\n      <td>18.7</td>\n      <td>12.5</td>\n      <td>0.0</td>\n      <td>4.0</td>\n      <td>347.0</td>\n      <td>9.0</td>\n      <td>0.000000</td>\n      <td>90.400000</td>\n      <td>925.300000</td>\n      <td>14.400000</td>\n      <td>18.600000</td>\n      <td>12.900000</td>\n      <td>18.036888</td>\n      <td>2.000000</td>\n      <td>51.000000</td>\n      <td>9.400000</td>\n      <td>0.0</td>\n      <td>84.700000</td>\n      <td>933.2</td>\n      <td>15.0</td>\n      <td>18.5</td>\n      <td>12.6</td>\n      <td>18.549916</td>\n      <td>3.000000</td>\n      <td>66.0</td>\n      <td>5.0</td>\n      <td>0.0</td>\n      <td>84.300000</td>\n      <td>926.900000</td>\n      <td>14.600000</td>\n      <td>18.000000</td>\n      <td>11.900000</td>\n      <td>8.217346</td>\n      <td>4.0</td>\n      <td>0.000000</td>\n      <td>0.000000</td>\n      <td>0.0</td>\n    </tr>\n    <tr>\n      <th>2018-12-09 09:30:00</th>\n      <td>71.9</td>\n      <td>920.9</td>\n      <td>22.200000</td>\n      <td>25.900000</td>\n      <td>17.0</td>\n      <td>19.100000</td>\n      <td>119.0</td>\n      <td>269.0</td>\n      <td>22.3</td>\n      <td>0.0</td>\n      <td>64.7</td>\n      <td>922.2</td>\n      <td>23.2</td>\n      <td>27.0</td>\n      <td>16.2</td>\n      <td>0.0</td>\n      <td>0.0</td>\n      <td>346.0</td>\n      <td>12.8</td>\n      <td>0.000000</td>\n      <td>72.053223</td>\n      <td>921.100000</td>\n      <td>22.900000</td>\n      <td>26.600000</td>\n      <td>17.782650</td>\n      <td>20.700000</td>\n      <td>86.000000</td>\n      <td>26.000000</td>\n      <td>14.400000</td>\n      <td>0.0</td>\n      <td>69.922272</td>\n      <td>928.6</td>\n      <td>23.0</td>\n      <td>28.6</td>\n      <td>18.5</td>\n      <td>23.300000</td>\n      <td>102.000000</td>\n      <td>40.0</td>\n      <td>7.9</td>\n      <td>0.0</td>\n      <td>70.251648</td>\n      <td>922.500000</td>\n      <td>23.400000</td>\n      <td>30.200000</td>\n      <td>17.338696</td>\n      <td>22.500000</td>\n      <td>0.0</td>\n      <td>323.000000</td>\n      <td>18.000000</td>\n      <td>0.0</td>\n    </tr>\n    <tr>\n      <th>2019-09-27 18:15:00</th>\n      <td>50.3</td>\n      <td>928.1</td>\n      <td>14.100000</td>\n      <td>16.400000</td>\n      <td>3.9</td>\n      <td>14.100000</td>\n      <td>0.0</td>\n      <td>24.0</td>\n      <td>6.1</td>\n      <td>0.0</td>\n      <td>61.6</td>\n      <td>929.6</td>\n      <td>12.5</td>\n      <td>14.9</td>\n      <td>5.4</td>\n      <td>0.0</td>\n      <td>0.0</td>\n      <td>106.0</td>\n      <td>3.7</td>\n      <td>0.169706</td>\n      <td>51.100000</td>\n      <td>928.400000</td>\n      <td>13.600000</td>\n      <td>14.200000</td>\n      <td>3.600000</td>\n      <td>12.500000</td>\n      <td>0.000000</td>\n      <td>163.000000</td>\n      <td>9.000000</td>\n      <td>0.0</td>\n      <td>52.400000</td>\n      <td>936.2</td>\n      <td>13.4</td>\n      <td>17.3</td>\n      <td>4.1</td>\n      <td>13.600000</td>\n      <td>0.000000</td>\n      <td>80.0</td>\n      <td>1.1</td>\n      <td>0.4</td>\n      <td>56.400000</td>\n      <td>929.800000</td>\n      <td>13.600000</td>\n      <td>16.412216</td>\n      <td>5.000000</td>\n      <td>13.327952</td>\n      <td>0.0</td>\n      <td>103.402855</td>\n      <td>3.914019</td>\n      <td>0.2</td>\n    </tr>\n    <tr>\n      <th>...</th>\n      <td>...</td>\n      <td>...</td>\n      <td>...</td>\n      <td>...</td>\n      <td>...</td>\n      <td>...</td>\n      <td>...</td>\n      <td>...</td>\n      <td>...</td>\n      <td>...</td>\n      <td>...</td>\n      <td>...</td>\n      <td>...</td>\n      <td>...</td>\n      <td>...</td>\n      <td>...</td>\n      <td>...</td>\n      <td>...</td>\n      <td>...</td>\n      <td>...</td>\n      <td>...</td>\n      <td>...</td>\n      <td>...</td>\n      <td>...</td>\n      <td>...</td>\n      <td>...</td>\n      <td>...</td>\n      <td>...</td>\n      <td>...</td>\n      <td>...</td>\n      <td>...</td>\n      <td>...</td>\n      <td>...</td>\n      <td>...</td>\n      <td>...</td>\n      <td>...</td>\n      <td>...</td>\n      <td>...</td>\n      <td>...</td>\n      <td>...</td>\n      <td>...</td>\n      <td>...</td>\n      <td>...</td>\n      <td>...</td>\n      <td>...</td>\n      <td>...</td>\n      <td>...</td>\n      <td>...</td>\n      <td>...</td>\n      <td>...</td>\n    </tr>\n    <tr>\n      <th>2012-11-10 13:15:00</th>\n      <td>55.4</td>\n      <td>923.5</td>\n      <td>24.600000</td>\n      <td>28.200000</td>\n      <td>15.0</td>\n      <td>17.964929</td>\n      <td>108.0</td>\n      <td>317.0</td>\n      <td>1.8</td>\n      <td>0.0</td>\n      <td>49.5</td>\n      <td>923.5</td>\n      <td>24.3</td>\n      <td>28.3</td>\n      <td>12.9</td>\n      <td>0.0</td>\n      <td>113.0</td>\n      <td>329.0</td>\n      <td>17.6</td>\n      <td>0.000000</td>\n      <td>56.700000</td>\n      <td>921.900000</td>\n      <td>24.400000</td>\n      <td>28.700000</td>\n      <td>15.100000</td>\n      <td>18.036888</td>\n      <td>152.000000</td>\n      <td>33.000000</td>\n      <td>12.600000</td>\n      <td>0.0</td>\n      <td>50.200000</td>\n      <td>929.4</td>\n      <td>24.5</td>\n      <td>29.4</td>\n      <td>13.8</td>\n      <td>18.549916</td>\n      <td>154.000000</td>\n      <td>320.0</td>\n      <td>13.0</td>\n      <td>0.0</td>\n      <td>53.700000</td>\n      <td>923.400000</td>\n      <td>24.600000</td>\n      <td>28.900000</td>\n      <td>14.600000</td>\n      <td>8.217346</td>\n      <td>110.0</td>\n      <td>342.000000</td>\n      <td>5.800000</td>\n      <td>0.0</td>\n    </tr>\n    <tr>\n      <th>2014-10-12 12:00:00</th>\n      <td>70.0</td>\n      <td>923.8</td>\n      <td>23.500000</td>\n      <td>25.800000</td>\n      <td>17.7</td>\n      <td>17.964929</td>\n      <td>205.0</td>\n      <td>78.0</td>\n      <td>3.6</td>\n      <td>0.4</td>\n      <td>0.0</td>\n      <td>0.0</td>\n      <td>0.0</td>\n      <td>0.0</td>\n      <td>0.0</td>\n      <td>0.0</td>\n      <td>0.0</td>\n      <td>0.0</td>\n      <td>0.0</td>\n      <td>0.000000</td>\n      <td>71.500000</td>\n      <td>922.100000</td>\n      <td>22.900000</td>\n      <td>28.500000</td>\n      <td>17.400000</td>\n      <td>18.036888</td>\n      <td>233.000000</td>\n      <td>48.000000</td>\n      <td>17.600000</td>\n      <td>0.0</td>\n      <td>69.400000</td>\n      <td>929.7</td>\n      <td>23.1</td>\n      <td>26.7</td>\n      <td>17.6</td>\n      <td>18.549916</td>\n      <td>231.000000</td>\n      <td>80.0</td>\n      <td>7.9</td>\n      <td>0.0</td>\n      <td>66.200000</td>\n      <td>923.700000</td>\n      <td>23.900000</td>\n      <td>27.100000</td>\n      <td>17.600000</td>\n      <td>8.217346</td>\n      <td>201.0</td>\n      <td>324.000000</td>\n      <td>14.000000</td>\n      <td>0.4</td>\n    </tr>\n    <tr>\n      <th>2019-10-04 22:30:00</th>\n      <td>88.2</td>\n      <td>933.3</td>\n      <td>14.800000</td>\n      <td>17.700000</td>\n      <td>12.8</td>\n      <td>17.964929</td>\n      <td>0.0</td>\n      <td>178.0</td>\n      <td>12.2</td>\n      <td>0.0</td>\n      <td>86.9</td>\n      <td>0.0</td>\n      <td>14.4</td>\n      <td>17.2</td>\n      <td>12.3</td>\n      <td>0.0</td>\n      <td>0.0</td>\n      <td>0.0</td>\n      <td>0.0</td>\n      <td>0.200000</td>\n      <td>104.000000</td>\n      <td>931.800000</td>\n      <td>14.300000</td>\n      <td>18.400000</td>\n      <td>14.900000</td>\n      <td>18.036888</td>\n      <td>0.000000</td>\n      <td>176.000000</td>\n      <td>13.353210</td>\n      <td>0.2</td>\n      <td>92.800000</td>\n      <td>939.6</td>\n      <td>14.8</td>\n      <td>18.3</td>\n      <td>13.9</td>\n      <td>18.549916</td>\n      <td>0.000000</td>\n      <td>153.0</td>\n      <td>22.3</td>\n      <td>0.0</td>\n      <td>0.000000</td>\n      <td>933.200000</td>\n      <td>14.500000</td>\n      <td>17.300000</td>\n      <td>0.000000</td>\n      <td>8.217346</td>\n      <td>0.0</td>\n      <td>0.000000</td>\n      <td>0.000000</td>\n      <td>0.2</td>\n    </tr>\n    <tr>\n      <th>2013-05-23 06:30:00</th>\n      <td>87.9</td>\n      <td>921.4</td>\n      <td>16.300000</td>\n      <td>18.700000</td>\n      <td>14.3</td>\n      <td>16.300000</td>\n      <td>0.0</td>\n      <td>315.0</td>\n      <td>7.9</td>\n      <td>0.0</td>\n      <td>84.5</td>\n      <td>922.8</td>\n      <td>16.7</td>\n      <td>19.4</td>\n      <td>14.1</td>\n      <td>0.0</td>\n      <td>0.0</td>\n      <td>40.0</td>\n      <td>9.6</td>\n      <td>0.000000</td>\n      <td>90.605293</td>\n      <td>921.700000</td>\n      <td>16.500000</td>\n      <td>18.000000</td>\n      <td>14.449715</td>\n      <td>13.800000</td>\n      <td>0.000000</td>\n      <td>48.000000</td>\n      <td>11.900000</td>\n      <td>0.0</td>\n      <td>0.000000</td>\n      <td>0.0</td>\n      <td>0.0</td>\n      <td>0.0</td>\n      <td>0.0</td>\n      <td>0.000000</td>\n      <td>0.123571</td>\n      <td>0.0</td>\n      <td>0.0</td>\n      <td>0.0</td>\n      <td>76.064354</td>\n      <td>923.200000</td>\n      <td>16.700000</td>\n      <td>22.200000</td>\n      <td>14.574666</td>\n      <td>0.000000</td>\n      <td>0.0</td>\n      <td>0.000000</td>\n      <td>0.000000</td>\n      <td>0.0</td>\n    </tr>\n    <tr>\n      <th>2016-09-27 02:45:00</th>\n      <td>86.8</td>\n      <td>931.4</td>\n      <td>12.000000</td>\n      <td>14.526659</td>\n      <td>9.8</td>\n      <td>17.964929</td>\n      <td>0.0</td>\n      <td>140.0</td>\n      <td>12.6</td>\n      <td>0.0</td>\n      <td>88.6</td>\n      <td>931.4</td>\n      <td>11.7</td>\n      <td>15.9</td>\n      <td>10.0</td>\n      <td>0.0</td>\n      <td>0.0</td>\n      <td>139.0</td>\n      <td>15.1</td>\n      <td>0.000000</td>\n      <td>90.900000</td>\n      <td>929.800000</td>\n      <td>11.600000</td>\n      <td>15.700000</td>\n      <td>10.200000</td>\n      <td>18.036888</td>\n      <td>0.000000</td>\n      <td>151.000000</td>\n      <td>12.600000</td>\n      <td>0.0</td>\n      <td>84.000000</td>\n      <td>937.8</td>\n      <td>12.2</td>\n      <td>15.6</td>\n      <td>9.7</td>\n      <td>18.549916</td>\n      <td>0.000000</td>\n      <td>151.0</td>\n      <td>6.1</td>\n      <td>0.0</td>\n      <td>88.033035</td>\n      <td>931.581665</td>\n      <td>11.309918</td>\n      <td>20.700000</td>\n      <td>10.017650</td>\n      <td>8.217346</td>\n      <td>0.0</td>\n      <td>0.000000</td>\n      <td>0.000000</td>\n      <td>0.0</td>\n    </tr>\n  </tbody>\n</table>\n<p>100000 rows × 50 columns</p>\n</div>"
     },
     "metadata": {},
     "execution_count": 62
    }
   ],
   "source": [
    "df_pca = df_ungrouped.sample(n=100000).copy()\n",
    "df_pca = df_pca[[c for c in df_pca.columns if c not in ['index', 'Data', 'Hora', 'SensacaoTermica'] and 'Local' not in c]].copy()#.dropna()\n",
    "# df_pca['Mes'] = df_pca['Data_Hora'].dt.month\n",
    "# df_pca['Local'] = df_pca['Local'].rank(method='dense', ascending=False).astype(int)\n",
    "# df_pca = df_pca.drop(columns = ['Data_Hora'])\n",
    "for column in df_pca[[c for c in df_pca.columns if 'Data_Hora' not in c]].columns.values:\n",
    "    df_pca.loc[df_pca[column].isna(), column] = df_pca[column].mean()\n",
    "\n",
    "df_pca = df_pca.set_index('Data_Hora')\n",
    "df_pca"
   ]
  },
  {
   "cell_type": "code",
   "execution_count": 63,
   "metadata": {},
   "outputs": [],
   "source": [
    "X_std = StandardScaler().fit_transform(df_pca)\n",
    "pca = PCA(n_components=20)\n",
    "principalComponents = pca.fit_transform(X_std)"
   ]
  },
  {
   "cell_type": "code",
   "execution_count": 64,
   "metadata": {},
   "outputs": [
    {
     "output_type": "execute_result",
     "data": {
      "text/plain": "([<matplotlib.axis.XTick at 0x2782c9cc2b0>,\n  <matplotlib.axis.XTick at 0x2782c9cc280>,\n  <matplotlib.axis.XTick at 0x2782c366a90>,\n  <matplotlib.axis.XTick at 0x2782ca063a0>,\n  <matplotlib.axis.XTick at 0x2782ca068b0>,\n  <matplotlib.axis.XTick at 0x2782ca06dc0>,\n  <matplotlib.axis.XTick at 0x2782ca06610>,\n  <matplotlib.axis.XTick at 0x2782ca08310>,\n  <matplotlib.axis.XTick at 0x2782ca08820>,\n  <matplotlib.axis.XTick at 0x2782ca08d30>,\n  <matplotlib.axis.XTick at 0x2782ca0b280>,\n  <matplotlib.axis.XTick at 0x2782ca0b790>,\n  <matplotlib.axis.XTick at 0x2782ca0bca0>,\n  <matplotlib.axis.XTick at 0x2782ca0d1f0>,\n  <matplotlib.axis.XTick at 0x2782ca0d700>,\n  <matplotlib.axis.XTick at 0x2782ca0dc10>,\n  <matplotlib.axis.XTick at 0x2782ca0d760>,\n  <matplotlib.axis.XTick at 0x2782ca0b7f0>,\n  <matplotlib.axis.XTick at 0x2782ca08880>,\n  <matplotlib.axis.XTick at 0x2782ca0f160>],\n <a list of 20 Text major ticklabel objects>)"
     },
     "metadata": {},
     "execution_count": 64
    },
    {
     "output_type": "display_data",
     "data": {
      "text/plain": "<Figure size 432x288 with 1 Axes>",
      "image/svg+xml": "<?xml version=\"1.0\" encoding=\"utf-8\" standalone=\"no\"?>\r\n<!DOCTYPE svg PUBLIC \"-//W3C//DTD SVG 1.1//EN\"\r\n  \"http://www.w3.org/Graphics/SVG/1.1/DTD/svg11.dtd\">\r\n<!-- Created with matplotlib (https://matplotlib.org/) -->\r\n<svg height=\"262.19625pt\" version=\"1.1\" viewBox=\"0 0 398.50625 262.19625\" width=\"398.50625pt\" xmlns=\"http://www.w3.org/2000/svg\" xmlns:xlink=\"http://www.w3.org/1999/xlink\">\r\n <defs>\r\n  <style type=\"text/css\">\r\n*{stroke-linecap:butt;stroke-linejoin:round;}\r\n  </style>\r\n </defs>\r\n <g id=\"figure_1\">\r\n  <g id=\"patch_1\">\r\n   <path d=\"M 0 262.19625 \r\nL 398.50625 262.19625 \r\nL 398.50625 0 \r\nL 0 0 \r\nz\r\n\" style=\"fill:none;\"/>\r\n  </g>\r\n  <g id=\"axes_1\">\r\n   <g id=\"patch_2\">\r\n    <path d=\"M 56.50625 224.64 \r\nL 391.30625 224.64 \r\nL 391.30625 7.2 \r\nL 56.50625 7.2 \r\nz\r\n\" style=\"fill:#ffffff;\"/>\r\n   </g>\r\n   <g id=\"patch_3\">\r\n    <path clip-path=\"url(#p6e9f10b178)\" d=\"M 71.724432 224.64 \r\nL 84.021952 224.64 \r\nL 84.021952 17.554286 \r\nL 71.724432 17.554286 \r\nz\r\n\"/>\r\n   </g>\r\n   <g id=\"patch_4\">\r\n    <path clip-path=\"url(#p6e9f10b178)\" d=\"M 87.096333 224.64 \r\nL 99.393853 224.64 \r\nL 99.393853 119.380913 \r\nL 87.096333 119.380913 \r\nz\r\n\"/>\r\n   </g>\r\n   <g id=\"patch_5\">\r\n    <path clip-path=\"url(#p6e9f10b178)\" d=\"M 102.468233 224.64 \r\nL 114.765754 224.64 \r\nL 114.765754 133.73716 \r\nL 102.468233 133.73716 \r\nz\r\n\"/>\r\n   </g>\r\n   <g id=\"patch_6\">\r\n    <path clip-path=\"url(#p6e9f10b178)\" d=\"M 117.840134 224.64 \r\nL 130.137655 224.64 \r\nL 130.137655 157.46234 \r\nL 117.840134 157.46234 \r\nz\r\n\"/>\r\n   </g>\r\n   <g id=\"patch_7\">\r\n    <path clip-path=\"url(#p6e9f10b178)\" d=\"M 133.212035 224.64 \r\nL 145.509556 224.64 \r\nL 145.509556 162.327453 \r\nL 133.212035 162.327453 \r\nz\r\n\"/>\r\n   </g>\r\n   <g id=\"patch_8\">\r\n    <path clip-path=\"url(#p6e9f10b178)\" d=\"M 148.583936 224.64 \r\nL 160.881457 224.64 \r\nL 160.881457 166.377756 \r\nL 148.583936 166.377756 \r\nz\r\n\"/>\r\n   </g>\r\n   <g id=\"patch_9\">\r\n    <path clip-path=\"url(#p6e9f10b178)\" d=\"M 163.955837 224.64 \r\nL 176.253357 224.64 \r\nL 176.253357 168.163296 \r\nL 163.955837 168.163296 \r\nz\r\n\"/>\r\n   </g>\r\n   <g id=\"patch_10\">\r\n    <path clip-path=\"url(#p6e9f10b178)\" d=\"M 179.327738 224.64 \r\nL 191.625258 224.64 \r\nL 191.625258 179.978983 \r\nL 179.327738 179.978983 \r\nz\r\n\"/>\r\n   </g>\r\n   <g id=\"patch_11\">\r\n    <path clip-path=\"url(#p6e9f10b178)\" d=\"M 194.699638 224.64 \r\nL 206.997159 224.64 \r\nL 206.997159 184.00805 \r\nL 194.699638 184.00805 \r\nz\r\n\"/>\r\n   </g>\r\n   <g id=\"patch_12\">\r\n    <path clip-path=\"url(#p6e9f10b178)\" d=\"M 210.071539 224.64 \r\nL 222.36906 224.64 \r\nL 222.36906 192.229393 \r\nL 210.071539 192.229393 \r\nz\r\n\"/>\r\n   </g>\r\n   <g id=\"patch_13\">\r\n    <path clip-path=\"url(#p6e9f10b178)\" d=\"M 225.44344 224.64 \r\nL 237.740961 224.64 \r\nL 237.740961 195.691867 \r\nL 225.44344 195.691867 \r\nz\r\n\"/>\r\n   </g>\r\n   <g id=\"patch_14\">\r\n    <path clip-path=\"url(#p6e9f10b178)\" d=\"M 240.815341 224.64 \r\nL 253.112862 224.64 \r\nL 253.112862 197.649626 \r\nL 240.815341 197.649626 \r\nz\r\n\"/>\r\n   </g>\r\n   <g id=\"patch_15\">\r\n    <path clip-path=\"url(#p6e9f10b178)\" d=\"M 256.187242 224.64 \r\nL 268.484762 224.64 \r\nL 268.484762 200.876984 \r\nL 256.187242 200.876984 \r\nz\r\n\"/>\r\n   </g>\r\n   <g id=\"patch_16\">\r\n    <path clip-path=\"url(#p6e9f10b178)\" d=\"M 271.559143 224.64 \r\nL 283.856663 224.64 \r\nL 283.856663 202.442049 \r\nL 271.559143 202.442049 \r\nz\r\n\"/>\r\n   </g>\r\n   <g id=\"patch_17\">\r\n    <path clip-path=\"url(#p6e9f10b178)\" d=\"M 286.931043 224.64 \r\nL 299.228564 224.64 \r\nL 299.228564 202.806364 \r\nL 286.931043 202.806364 \r\nz\r\n\"/>\r\n   </g>\r\n   <g id=\"patch_18\">\r\n    <path clip-path=\"url(#p6e9f10b178)\" d=\"M 302.302944 224.64 \r\nL 314.600465 224.64 \r\nL 314.600465 203.759692 \r\nL 302.302944 203.759692 \r\nz\r\n\"/>\r\n   </g>\r\n   <g id=\"patch_19\">\r\n    <path clip-path=\"url(#p6e9f10b178)\" d=\"M 317.674845 224.64 \r\nL 329.972366 224.64 \r\nL 329.972366 205.858966 \r\nL 317.674845 205.858966 \r\nz\r\n\"/>\r\n   </g>\r\n   <g id=\"patch_20\">\r\n    <path clip-path=\"url(#p6e9f10b178)\" d=\"M 333.046746 224.64 \r\nL 345.344267 224.64 \r\nL 345.344267 206.106252 \r\nL 333.046746 206.106252 \r\nz\r\n\"/>\r\n   </g>\r\n   <g id=\"patch_21\">\r\n    <path clip-path=\"url(#p6e9f10b178)\" d=\"M 348.418647 224.64 \r\nL 360.716167 224.64 \r\nL 360.716167 206.751276 \r\nL 348.418647 206.751276 \r\nz\r\n\"/>\r\n   </g>\r\n   <g id=\"patch_22\">\r\n    <path clip-path=\"url(#p6e9f10b178)\" d=\"M 363.790548 224.64 \r\nL 376.088068 224.64 \r\nL 376.088068 208.329263 \r\nL 363.790548 208.329263 \r\nz\r\n\"/>\r\n   </g>\r\n   <g id=\"matplotlib.axis_1\">\r\n    <g id=\"xtick_1\">\r\n     <g id=\"line2d_1\">\r\n      <defs>\r\n       <path d=\"M 0 0 \r\nL 0 3.5 \r\n\" id=\"md52e399976\" style=\"stroke:#000000;stroke-width:0.8;\"/>\r\n      </defs>\r\n      <g>\r\n       <use style=\"stroke:#000000;stroke-width:0.8;\" x=\"77.873192\" xlink:href=\"#md52e399976\" y=\"224.64\"/>\r\n      </g>\r\n     </g>\r\n     <g id=\"text_1\">\r\n      <!-- 0 -->\r\n      <defs>\r\n       <path d=\"M 31.78125 66.40625 \r\nQ 24.171875 66.40625 20.328125 58.90625 \r\nQ 16.5 51.421875 16.5 36.375 \r\nQ 16.5 21.390625 20.328125 13.890625 \r\nQ 24.171875 6.390625 31.78125 6.390625 \r\nQ 39.453125 6.390625 43.28125 13.890625 \r\nQ 47.125 21.390625 47.125 36.375 \r\nQ 47.125 51.421875 43.28125 58.90625 \r\nQ 39.453125 66.40625 31.78125 66.40625 \r\nz\r\nM 31.78125 74.21875 \r\nQ 44.046875 74.21875 50.515625 64.515625 \r\nQ 56.984375 54.828125 56.984375 36.375 \r\nQ 56.984375 17.96875 50.515625 8.265625 \r\nQ 44.046875 -1.421875 31.78125 -1.421875 \r\nQ 19.53125 -1.421875 13.0625 8.265625 \r\nQ 6.59375 17.96875 6.59375 36.375 \r\nQ 6.59375 54.828125 13.0625 64.515625 \r\nQ 19.53125 74.21875 31.78125 74.21875 \r\nz\r\n\" id=\"DejaVuSans-48\"/>\r\n      </defs>\r\n      <g transform=\"translate(74.691942 239.238438)scale(0.1 -0.1)\">\r\n       <use xlink:href=\"#DejaVuSans-48\"/>\r\n      </g>\r\n     </g>\r\n    </g>\r\n    <g id=\"xtick_2\">\r\n     <g id=\"line2d_2\">\r\n      <g>\r\n       <use style=\"stroke:#000000;stroke-width:0.8;\" x=\"93.245093\" xlink:href=\"#md52e399976\" y=\"224.64\"/>\r\n      </g>\r\n     </g>\r\n     <g id=\"text_2\">\r\n      <!-- 1 -->\r\n      <defs>\r\n       <path d=\"M 12.40625 8.296875 \r\nL 28.515625 8.296875 \r\nL 28.515625 63.921875 \r\nL 10.984375 60.40625 \r\nL 10.984375 69.390625 \r\nL 28.421875 72.90625 \r\nL 38.28125 72.90625 \r\nL 38.28125 8.296875 \r\nL 54.390625 8.296875 \r\nL 54.390625 0 \r\nL 12.40625 0 \r\nz\r\n\" id=\"DejaVuSans-49\"/>\r\n      </defs>\r\n      <g transform=\"translate(90.063843 239.238438)scale(0.1 -0.1)\">\r\n       <use xlink:href=\"#DejaVuSans-49\"/>\r\n      </g>\r\n     </g>\r\n    </g>\r\n    <g id=\"xtick_3\">\r\n     <g id=\"line2d_3\">\r\n      <g>\r\n       <use style=\"stroke:#000000;stroke-width:0.8;\" x=\"108.616994\" xlink:href=\"#md52e399976\" y=\"224.64\"/>\r\n      </g>\r\n     </g>\r\n     <g id=\"text_3\">\r\n      <!-- 2 -->\r\n      <defs>\r\n       <path d=\"M 19.1875 8.296875 \r\nL 53.609375 8.296875 \r\nL 53.609375 0 \r\nL 7.328125 0 \r\nL 7.328125 8.296875 \r\nQ 12.9375 14.109375 22.625 23.890625 \r\nQ 32.328125 33.6875 34.8125 36.53125 \r\nQ 39.546875 41.84375 41.421875 45.53125 \r\nQ 43.3125 49.21875 43.3125 52.78125 \r\nQ 43.3125 58.59375 39.234375 62.25 \r\nQ 35.15625 65.921875 28.609375 65.921875 \r\nQ 23.96875 65.921875 18.8125 64.3125 \r\nQ 13.671875 62.703125 7.8125 59.421875 \r\nL 7.8125 69.390625 \r\nQ 13.765625 71.78125 18.9375 73 \r\nQ 24.125 74.21875 28.421875 74.21875 \r\nQ 39.75 74.21875 46.484375 68.546875 \r\nQ 53.21875 62.890625 53.21875 53.421875 \r\nQ 53.21875 48.921875 51.53125 44.890625 \r\nQ 49.859375 40.875 45.40625 35.40625 \r\nQ 44.1875 33.984375 37.640625 27.21875 \r\nQ 31.109375 20.453125 19.1875 8.296875 \r\nz\r\n\" id=\"DejaVuSans-50\"/>\r\n      </defs>\r\n      <g transform=\"translate(105.435744 239.238438)scale(0.1 -0.1)\">\r\n       <use xlink:href=\"#DejaVuSans-50\"/>\r\n      </g>\r\n     </g>\r\n    </g>\r\n    <g id=\"xtick_4\">\r\n     <g id=\"line2d_4\">\r\n      <g>\r\n       <use style=\"stroke:#000000;stroke-width:0.8;\" x=\"123.988895\" xlink:href=\"#md52e399976\" y=\"224.64\"/>\r\n      </g>\r\n     </g>\r\n     <g id=\"text_4\">\r\n      <!-- 3 -->\r\n      <defs>\r\n       <path d=\"M 40.578125 39.3125 \r\nQ 47.65625 37.796875 51.625 33 \r\nQ 55.609375 28.21875 55.609375 21.1875 \r\nQ 55.609375 10.40625 48.1875 4.484375 \r\nQ 40.765625 -1.421875 27.09375 -1.421875 \r\nQ 22.515625 -1.421875 17.65625 -0.515625 \r\nQ 12.796875 0.390625 7.625 2.203125 \r\nL 7.625 11.71875 \r\nQ 11.71875 9.328125 16.59375 8.109375 \r\nQ 21.484375 6.890625 26.8125 6.890625 \r\nQ 36.078125 6.890625 40.9375 10.546875 \r\nQ 45.796875 14.203125 45.796875 21.1875 \r\nQ 45.796875 27.640625 41.28125 31.265625 \r\nQ 36.765625 34.90625 28.71875 34.90625 \r\nL 20.21875 34.90625 \r\nL 20.21875 43.015625 \r\nL 29.109375 43.015625 \r\nQ 36.375 43.015625 40.234375 45.921875 \r\nQ 44.09375 48.828125 44.09375 54.296875 \r\nQ 44.09375 59.90625 40.109375 62.90625 \r\nQ 36.140625 65.921875 28.71875 65.921875 \r\nQ 24.65625 65.921875 20.015625 65.03125 \r\nQ 15.375 64.15625 9.8125 62.3125 \r\nL 9.8125 71.09375 \r\nQ 15.4375 72.65625 20.34375 73.4375 \r\nQ 25.25 74.21875 29.59375 74.21875 \r\nQ 40.828125 74.21875 47.359375 69.109375 \r\nQ 53.90625 64.015625 53.90625 55.328125 \r\nQ 53.90625 49.265625 50.4375 45.09375 \r\nQ 46.96875 40.921875 40.578125 39.3125 \r\nz\r\n\" id=\"DejaVuSans-51\"/>\r\n      </defs>\r\n      <g transform=\"translate(120.807645 239.238438)scale(0.1 -0.1)\">\r\n       <use xlink:href=\"#DejaVuSans-51\"/>\r\n      </g>\r\n     </g>\r\n    </g>\r\n    <g id=\"xtick_5\">\r\n     <g id=\"line2d_5\">\r\n      <g>\r\n       <use style=\"stroke:#000000;stroke-width:0.8;\" x=\"139.360795\" xlink:href=\"#md52e399976\" y=\"224.64\"/>\r\n      </g>\r\n     </g>\r\n     <g id=\"text_5\">\r\n      <!-- 4 -->\r\n      <defs>\r\n       <path d=\"M 37.796875 64.3125 \r\nL 12.890625 25.390625 \r\nL 37.796875 25.390625 \r\nz\r\nM 35.203125 72.90625 \r\nL 47.609375 72.90625 \r\nL 47.609375 25.390625 \r\nL 58.015625 25.390625 \r\nL 58.015625 17.1875 \r\nL 47.609375 17.1875 \r\nL 47.609375 0 \r\nL 37.796875 0 \r\nL 37.796875 17.1875 \r\nL 4.890625 17.1875 \r\nL 4.890625 26.703125 \r\nz\r\n\" id=\"DejaVuSans-52\"/>\r\n      </defs>\r\n      <g transform=\"translate(136.179545 239.238438)scale(0.1 -0.1)\">\r\n       <use xlink:href=\"#DejaVuSans-52\"/>\r\n      </g>\r\n     </g>\r\n    </g>\r\n    <g id=\"xtick_6\">\r\n     <g id=\"line2d_6\">\r\n      <g>\r\n       <use style=\"stroke:#000000;stroke-width:0.8;\" x=\"154.732696\" xlink:href=\"#md52e399976\" y=\"224.64\"/>\r\n      </g>\r\n     </g>\r\n     <g id=\"text_6\">\r\n      <!-- 5 -->\r\n      <defs>\r\n       <path d=\"M 10.796875 72.90625 \r\nL 49.515625 72.90625 \r\nL 49.515625 64.59375 \r\nL 19.828125 64.59375 \r\nL 19.828125 46.734375 \r\nQ 21.96875 47.46875 24.109375 47.828125 \r\nQ 26.265625 48.1875 28.421875 48.1875 \r\nQ 40.625 48.1875 47.75 41.5 \r\nQ 54.890625 34.8125 54.890625 23.390625 \r\nQ 54.890625 11.625 47.5625 5.09375 \r\nQ 40.234375 -1.421875 26.90625 -1.421875 \r\nQ 22.3125 -1.421875 17.546875 -0.640625 \r\nQ 12.796875 0.140625 7.71875 1.703125 \r\nL 7.71875 11.625 \r\nQ 12.109375 9.234375 16.796875 8.0625 \r\nQ 21.484375 6.890625 26.703125 6.890625 \r\nQ 35.15625 6.890625 40.078125 11.328125 \r\nQ 45.015625 15.765625 45.015625 23.390625 \r\nQ 45.015625 31 40.078125 35.4375 \r\nQ 35.15625 39.890625 26.703125 39.890625 \r\nQ 22.75 39.890625 18.8125 39.015625 \r\nQ 14.890625 38.140625 10.796875 36.28125 \r\nz\r\n\" id=\"DejaVuSans-53\"/>\r\n      </defs>\r\n      <g transform=\"translate(151.551446 239.238438)scale(0.1 -0.1)\">\r\n       <use xlink:href=\"#DejaVuSans-53\"/>\r\n      </g>\r\n     </g>\r\n    </g>\r\n    <g id=\"xtick_7\">\r\n     <g id=\"line2d_7\">\r\n      <g>\r\n       <use style=\"stroke:#000000;stroke-width:0.8;\" x=\"170.104597\" xlink:href=\"#md52e399976\" y=\"224.64\"/>\r\n      </g>\r\n     </g>\r\n     <g id=\"text_7\">\r\n      <!-- 6 -->\r\n      <defs>\r\n       <path d=\"M 33.015625 40.375 \r\nQ 26.375 40.375 22.484375 35.828125 \r\nQ 18.609375 31.296875 18.609375 23.390625 \r\nQ 18.609375 15.53125 22.484375 10.953125 \r\nQ 26.375 6.390625 33.015625 6.390625 \r\nQ 39.65625 6.390625 43.53125 10.953125 \r\nQ 47.40625 15.53125 47.40625 23.390625 \r\nQ 47.40625 31.296875 43.53125 35.828125 \r\nQ 39.65625 40.375 33.015625 40.375 \r\nz\r\nM 52.59375 71.296875 \r\nL 52.59375 62.3125 \r\nQ 48.875 64.0625 45.09375 64.984375 \r\nQ 41.3125 65.921875 37.59375 65.921875 \r\nQ 27.828125 65.921875 22.671875 59.328125 \r\nQ 17.53125 52.734375 16.796875 39.40625 \r\nQ 19.671875 43.65625 24.015625 45.921875 \r\nQ 28.375 48.1875 33.59375 48.1875 \r\nQ 44.578125 48.1875 50.953125 41.515625 \r\nQ 57.328125 34.859375 57.328125 23.390625 \r\nQ 57.328125 12.15625 50.6875 5.359375 \r\nQ 44.046875 -1.421875 33.015625 -1.421875 \r\nQ 20.359375 -1.421875 13.671875 8.265625 \r\nQ 6.984375 17.96875 6.984375 36.375 \r\nQ 6.984375 53.65625 15.1875 63.9375 \r\nQ 23.390625 74.21875 37.203125 74.21875 \r\nQ 40.921875 74.21875 44.703125 73.484375 \r\nQ 48.484375 72.75 52.59375 71.296875 \r\nz\r\n\" id=\"DejaVuSans-54\"/>\r\n      </defs>\r\n      <g transform=\"translate(166.923347 239.238438)scale(0.1 -0.1)\">\r\n       <use xlink:href=\"#DejaVuSans-54\"/>\r\n      </g>\r\n     </g>\r\n    </g>\r\n    <g id=\"xtick_8\">\r\n     <g id=\"line2d_8\">\r\n      <g>\r\n       <use style=\"stroke:#000000;stroke-width:0.8;\" x=\"185.476498\" xlink:href=\"#md52e399976\" y=\"224.64\"/>\r\n      </g>\r\n     </g>\r\n     <g id=\"text_8\">\r\n      <!-- 7 -->\r\n      <defs>\r\n       <path d=\"M 8.203125 72.90625 \r\nL 55.078125 72.90625 \r\nL 55.078125 68.703125 \r\nL 28.609375 0 \r\nL 18.3125 0 \r\nL 43.21875 64.59375 \r\nL 8.203125 64.59375 \r\nz\r\n\" id=\"DejaVuSans-55\"/>\r\n      </defs>\r\n      <g transform=\"translate(182.295248 239.238438)scale(0.1 -0.1)\">\r\n       <use xlink:href=\"#DejaVuSans-55\"/>\r\n      </g>\r\n     </g>\r\n    </g>\r\n    <g id=\"xtick_9\">\r\n     <g id=\"line2d_9\">\r\n      <g>\r\n       <use style=\"stroke:#000000;stroke-width:0.8;\" x=\"200.848399\" xlink:href=\"#md52e399976\" y=\"224.64\"/>\r\n      </g>\r\n     </g>\r\n     <g id=\"text_9\">\r\n      <!-- 8 -->\r\n      <defs>\r\n       <path d=\"M 31.78125 34.625 \r\nQ 24.75 34.625 20.71875 30.859375 \r\nQ 16.703125 27.09375 16.703125 20.515625 \r\nQ 16.703125 13.921875 20.71875 10.15625 \r\nQ 24.75 6.390625 31.78125 6.390625 \r\nQ 38.8125 6.390625 42.859375 10.171875 \r\nQ 46.921875 13.96875 46.921875 20.515625 \r\nQ 46.921875 27.09375 42.890625 30.859375 \r\nQ 38.875 34.625 31.78125 34.625 \r\nz\r\nM 21.921875 38.8125 \r\nQ 15.578125 40.375 12.03125 44.71875 \r\nQ 8.5 49.078125 8.5 55.328125 \r\nQ 8.5 64.0625 14.71875 69.140625 \r\nQ 20.953125 74.21875 31.78125 74.21875 \r\nQ 42.671875 74.21875 48.875 69.140625 \r\nQ 55.078125 64.0625 55.078125 55.328125 \r\nQ 55.078125 49.078125 51.53125 44.71875 \r\nQ 48 40.375 41.703125 38.8125 \r\nQ 48.828125 37.15625 52.796875 32.3125 \r\nQ 56.78125 27.484375 56.78125 20.515625 \r\nQ 56.78125 9.90625 50.3125 4.234375 \r\nQ 43.84375 -1.421875 31.78125 -1.421875 \r\nQ 19.734375 -1.421875 13.25 4.234375 \r\nQ 6.78125 9.90625 6.78125 20.515625 \r\nQ 6.78125 27.484375 10.78125 32.3125 \r\nQ 14.796875 37.15625 21.921875 38.8125 \r\nz\r\nM 18.3125 54.390625 \r\nQ 18.3125 48.734375 21.84375 45.5625 \r\nQ 25.390625 42.390625 31.78125 42.390625 \r\nQ 38.140625 42.390625 41.71875 45.5625 \r\nQ 45.3125 48.734375 45.3125 54.390625 \r\nQ 45.3125 60.0625 41.71875 63.234375 \r\nQ 38.140625 66.40625 31.78125 66.40625 \r\nQ 25.390625 66.40625 21.84375 63.234375 \r\nQ 18.3125 60.0625 18.3125 54.390625 \r\nz\r\n\" id=\"DejaVuSans-56\"/>\r\n      </defs>\r\n      <g transform=\"translate(197.667149 239.238438)scale(0.1 -0.1)\">\r\n       <use xlink:href=\"#DejaVuSans-56\"/>\r\n      </g>\r\n     </g>\r\n    </g>\r\n    <g id=\"xtick_10\">\r\n     <g id=\"line2d_10\">\r\n      <g>\r\n       <use style=\"stroke:#000000;stroke-width:0.8;\" x=\"216.2203\" xlink:href=\"#md52e399976\" y=\"224.64\"/>\r\n      </g>\r\n     </g>\r\n     <g id=\"text_10\">\r\n      <!-- 9 -->\r\n      <defs>\r\n       <path d=\"M 10.984375 1.515625 \r\nL 10.984375 10.5 \r\nQ 14.703125 8.734375 18.5 7.8125 \r\nQ 22.3125 6.890625 25.984375 6.890625 \r\nQ 35.75 6.890625 40.890625 13.453125 \r\nQ 46.046875 20.015625 46.78125 33.40625 \r\nQ 43.953125 29.203125 39.59375 26.953125 \r\nQ 35.25 24.703125 29.984375 24.703125 \r\nQ 19.046875 24.703125 12.671875 31.3125 \r\nQ 6.296875 37.9375 6.296875 49.421875 \r\nQ 6.296875 60.640625 12.9375 67.421875 \r\nQ 19.578125 74.21875 30.609375 74.21875 \r\nQ 43.265625 74.21875 49.921875 64.515625 \r\nQ 56.59375 54.828125 56.59375 36.375 \r\nQ 56.59375 19.140625 48.40625 8.859375 \r\nQ 40.234375 -1.421875 26.421875 -1.421875 \r\nQ 22.703125 -1.421875 18.890625 -0.6875 \r\nQ 15.09375 0.046875 10.984375 1.515625 \r\nz\r\nM 30.609375 32.421875 \r\nQ 37.25 32.421875 41.125 36.953125 \r\nQ 45.015625 41.5 45.015625 49.421875 \r\nQ 45.015625 57.28125 41.125 61.84375 \r\nQ 37.25 66.40625 30.609375 66.40625 \r\nQ 23.96875 66.40625 20.09375 61.84375 \r\nQ 16.21875 57.28125 16.21875 49.421875 \r\nQ 16.21875 41.5 20.09375 36.953125 \r\nQ 23.96875 32.421875 30.609375 32.421875 \r\nz\r\n\" id=\"DejaVuSans-57\"/>\r\n      </defs>\r\n      <g transform=\"translate(213.03905 239.238438)scale(0.1 -0.1)\">\r\n       <use xlink:href=\"#DejaVuSans-57\"/>\r\n      </g>\r\n     </g>\r\n    </g>\r\n    <g id=\"xtick_11\">\r\n     <g id=\"line2d_11\">\r\n      <g>\r\n       <use style=\"stroke:#000000;stroke-width:0.8;\" x=\"231.5922\" xlink:href=\"#md52e399976\" y=\"224.64\"/>\r\n      </g>\r\n     </g>\r\n     <g id=\"text_11\">\r\n      <!-- 10 -->\r\n      <g transform=\"translate(225.2297 239.238438)scale(0.1 -0.1)\">\r\n       <use xlink:href=\"#DejaVuSans-49\"/>\r\n       <use x=\"63.623047\" xlink:href=\"#DejaVuSans-48\"/>\r\n      </g>\r\n     </g>\r\n    </g>\r\n    <g id=\"xtick_12\">\r\n     <g id=\"line2d_12\">\r\n      <g>\r\n       <use style=\"stroke:#000000;stroke-width:0.8;\" x=\"246.964101\" xlink:href=\"#md52e399976\" y=\"224.64\"/>\r\n      </g>\r\n     </g>\r\n     <g id=\"text_12\">\r\n      <!-- 11 -->\r\n      <g transform=\"translate(240.601601 239.238438)scale(0.1 -0.1)\">\r\n       <use xlink:href=\"#DejaVuSans-49\"/>\r\n       <use x=\"63.623047\" xlink:href=\"#DejaVuSans-49\"/>\r\n      </g>\r\n     </g>\r\n    </g>\r\n    <g id=\"xtick_13\">\r\n     <g id=\"line2d_13\">\r\n      <g>\r\n       <use style=\"stroke:#000000;stroke-width:0.8;\" x=\"262.336002\" xlink:href=\"#md52e399976\" y=\"224.64\"/>\r\n      </g>\r\n     </g>\r\n     <g id=\"text_13\">\r\n      <!-- 12 -->\r\n      <g transform=\"translate(255.973502 239.238438)scale(0.1 -0.1)\">\r\n       <use xlink:href=\"#DejaVuSans-49\"/>\r\n       <use x=\"63.623047\" xlink:href=\"#DejaVuSans-50\"/>\r\n      </g>\r\n     </g>\r\n    </g>\r\n    <g id=\"xtick_14\">\r\n     <g id=\"line2d_14\">\r\n      <g>\r\n       <use style=\"stroke:#000000;stroke-width:0.8;\" x=\"277.707903\" xlink:href=\"#md52e399976\" y=\"224.64\"/>\r\n      </g>\r\n     </g>\r\n     <g id=\"text_14\">\r\n      <!-- 13 -->\r\n      <g transform=\"translate(271.345403 239.238438)scale(0.1 -0.1)\">\r\n       <use xlink:href=\"#DejaVuSans-49\"/>\r\n       <use x=\"63.623047\" xlink:href=\"#DejaVuSans-51\"/>\r\n      </g>\r\n     </g>\r\n    </g>\r\n    <g id=\"xtick_15\">\r\n     <g id=\"line2d_15\">\r\n      <g>\r\n       <use style=\"stroke:#000000;stroke-width:0.8;\" x=\"293.079804\" xlink:href=\"#md52e399976\" y=\"224.64\"/>\r\n      </g>\r\n     </g>\r\n     <g id=\"text_15\">\r\n      <!-- 14 -->\r\n      <g transform=\"translate(286.717304 239.238438)scale(0.1 -0.1)\">\r\n       <use xlink:href=\"#DejaVuSans-49\"/>\r\n       <use x=\"63.623047\" xlink:href=\"#DejaVuSans-52\"/>\r\n      </g>\r\n     </g>\r\n    </g>\r\n    <g id=\"xtick_16\">\r\n     <g id=\"line2d_16\">\r\n      <g>\r\n       <use style=\"stroke:#000000;stroke-width:0.8;\" x=\"308.451705\" xlink:href=\"#md52e399976\" y=\"224.64\"/>\r\n      </g>\r\n     </g>\r\n     <g id=\"text_16\">\r\n      <!-- 15 -->\r\n      <g transform=\"translate(302.089205 239.238438)scale(0.1 -0.1)\">\r\n       <use xlink:href=\"#DejaVuSans-49\"/>\r\n       <use x=\"63.623047\" xlink:href=\"#DejaVuSans-53\"/>\r\n      </g>\r\n     </g>\r\n    </g>\r\n    <g id=\"xtick_17\">\r\n     <g id=\"line2d_17\">\r\n      <g>\r\n       <use style=\"stroke:#000000;stroke-width:0.8;\" x=\"323.823605\" xlink:href=\"#md52e399976\" y=\"224.64\"/>\r\n      </g>\r\n     </g>\r\n     <g id=\"text_17\">\r\n      <!-- 16 -->\r\n      <g transform=\"translate(317.461105 239.238438)scale(0.1 -0.1)\">\r\n       <use xlink:href=\"#DejaVuSans-49\"/>\r\n       <use x=\"63.623047\" xlink:href=\"#DejaVuSans-54\"/>\r\n      </g>\r\n     </g>\r\n    </g>\r\n    <g id=\"xtick_18\">\r\n     <g id=\"line2d_18\">\r\n      <g>\r\n       <use style=\"stroke:#000000;stroke-width:0.8;\" x=\"339.195506\" xlink:href=\"#md52e399976\" y=\"224.64\"/>\r\n      </g>\r\n     </g>\r\n     <g id=\"text_18\">\r\n      <!-- 17 -->\r\n      <g transform=\"translate(332.833006 239.238438)scale(0.1 -0.1)\">\r\n       <use xlink:href=\"#DejaVuSans-49\"/>\r\n       <use x=\"63.623047\" xlink:href=\"#DejaVuSans-55\"/>\r\n      </g>\r\n     </g>\r\n    </g>\r\n    <g id=\"xtick_19\">\r\n     <g id=\"line2d_19\">\r\n      <g>\r\n       <use style=\"stroke:#000000;stroke-width:0.8;\" x=\"354.567407\" xlink:href=\"#md52e399976\" y=\"224.64\"/>\r\n      </g>\r\n     </g>\r\n     <g id=\"text_19\">\r\n      <!-- 18 -->\r\n      <g transform=\"translate(348.204907 239.238438)scale(0.1 -0.1)\">\r\n       <use xlink:href=\"#DejaVuSans-49\"/>\r\n       <use x=\"63.623047\" xlink:href=\"#DejaVuSans-56\"/>\r\n      </g>\r\n     </g>\r\n    </g>\r\n    <g id=\"xtick_20\">\r\n     <g id=\"line2d_20\">\r\n      <g>\r\n       <use style=\"stroke:#000000;stroke-width:0.8;\" x=\"369.939308\" xlink:href=\"#md52e399976\" y=\"224.64\"/>\r\n      </g>\r\n     </g>\r\n     <g id=\"text_20\">\r\n      <!-- 19 -->\r\n      <g transform=\"translate(363.576808 239.238438)scale(0.1 -0.1)\">\r\n       <use xlink:href=\"#DejaVuSans-49\"/>\r\n       <use x=\"63.623047\" xlink:href=\"#DejaVuSans-57\"/>\r\n      </g>\r\n     </g>\r\n    </g>\r\n    <g id=\"text_21\">\r\n     <!-- PCA features -->\r\n     <defs>\r\n      <path d=\"M 19.671875 64.796875 \r\nL 19.671875 37.40625 \r\nL 32.078125 37.40625 \r\nQ 38.96875 37.40625 42.71875 40.96875 \r\nQ 46.484375 44.53125 46.484375 51.125 \r\nQ 46.484375 57.671875 42.71875 61.234375 \r\nQ 38.96875 64.796875 32.078125 64.796875 \r\nz\r\nM 9.8125 72.90625 \r\nL 32.078125 72.90625 \r\nQ 44.34375 72.90625 50.609375 67.359375 \r\nQ 56.890625 61.8125 56.890625 51.125 \r\nQ 56.890625 40.328125 50.609375 34.8125 \r\nQ 44.34375 29.296875 32.078125 29.296875 \r\nL 19.671875 29.296875 \r\nL 19.671875 0 \r\nL 9.8125 0 \r\nz\r\n\" id=\"DejaVuSans-80\"/>\r\n      <path d=\"M 64.40625 67.28125 \r\nL 64.40625 56.890625 \r\nQ 59.421875 61.53125 53.78125 63.8125 \r\nQ 48.140625 66.109375 41.796875 66.109375 \r\nQ 29.296875 66.109375 22.65625 58.46875 \r\nQ 16.015625 50.828125 16.015625 36.375 \r\nQ 16.015625 21.96875 22.65625 14.328125 \r\nQ 29.296875 6.6875 41.796875 6.6875 \r\nQ 48.140625 6.6875 53.78125 8.984375 \r\nQ 59.421875 11.28125 64.40625 15.921875 \r\nL 64.40625 5.609375 \r\nQ 59.234375 2.09375 53.4375 0.328125 \r\nQ 47.65625 -1.421875 41.21875 -1.421875 \r\nQ 24.65625 -1.421875 15.125 8.703125 \r\nQ 5.609375 18.84375 5.609375 36.375 \r\nQ 5.609375 53.953125 15.125 64.078125 \r\nQ 24.65625 74.21875 41.21875 74.21875 \r\nQ 47.75 74.21875 53.53125 72.484375 \r\nQ 59.328125 70.75 64.40625 67.28125 \r\nz\r\n\" id=\"DejaVuSans-67\"/>\r\n      <path d=\"M 34.1875 63.1875 \r\nL 20.796875 26.90625 \r\nL 47.609375 26.90625 \r\nz\r\nM 28.609375 72.90625 \r\nL 39.796875 72.90625 \r\nL 67.578125 0 \r\nL 57.328125 0 \r\nL 50.6875 18.703125 \r\nL 17.828125 18.703125 \r\nL 11.1875 0 \r\nL 0.78125 0 \r\nz\r\n\" id=\"DejaVuSans-65\"/>\r\n      <path id=\"DejaVuSans-32\"/>\r\n      <path d=\"M 37.109375 75.984375 \r\nL 37.109375 68.5 \r\nL 28.515625 68.5 \r\nQ 23.6875 68.5 21.796875 66.546875 \r\nQ 19.921875 64.59375 19.921875 59.515625 \r\nL 19.921875 54.6875 \r\nL 34.71875 54.6875 \r\nL 34.71875 47.703125 \r\nL 19.921875 47.703125 \r\nL 19.921875 0 \r\nL 10.890625 0 \r\nL 10.890625 47.703125 \r\nL 2.296875 47.703125 \r\nL 2.296875 54.6875 \r\nL 10.890625 54.6875 \r\nL 10.890625 58.5 \r\nQ 10.890625 67.625 15.140625 71.796875 \r\nQ 19.390625 75.984375 28.609375 75.984375 \r\nz\r\n\" id=\"DejaVuSans-102\"/>\r\n      <path d=\"M 56.203125 29.59375 \r\nL 56.203125 25.203125 \r\nL 14.890625 25.203125 \r\nQ 15.484375 15.921875 20.484375 11.0625 \r\nQ 25.484375 6.203125 34.421875 6.203125 \r\nQ 39.59375 6.203125 44.453125 7.46875 \r\nQ 49.3125 8.734375 54.109375 11.28125 \r\nL 54.109375 2.78125 \r\nQ 49.265625 0.734375 44.1875 -0.34375 \r\nQ 39.109375 -1.421875 33.890625 -1.421875 \r\nQ 20.796875 -1.421875 13.15625 6.1875 \r\nQ 5.515625 13.8125 5.515625 26.8125 \r\nQ 5.515625 40.234375 12.765625 48.109375 \r\nQ 20.015625 56 32.328125 56 \r\nQ 43.359375 56 49.78125 48.890625 \r\nQ 56.203125 41.796875 56.203125 29.59375 \r\nz\r\nM 47.21875 32.234375 \r\nQ 47.125 39.59375 43.09375 43.984375 \r\nQ 39.0625 48.390625 32.421875 48.390625 \r\nQ 24.90625 48.390625 20.390625 44.140625 \r\nQ 15.875 39.890625 15.1875 32.171875 \r\nz\r\n\" id=\"DejaVuSans-101\"/>\r\n      <path d=\"M 34.28125 27.484375 \r\nQ 23.390625 27.484375 19.1875 25 \r\nQ 14.984375 22.515625 14.984375 16.5 \r\nQ 14.984375 11.71875 18.140625 8.90625 \r\nQ 21.296875 6.109375 26.703125 6.109375 \r\nQ 34.1875 6.109375 38.703125 11.40625 \r\nQ 43.21875 16.703125 43.21875 25.484375 \r\nL 43.21875 27.484375 \r\nz\r\nM 52.203125 31.203125 \r\nL 52.203125 0 \r\nL 43.21875 0 \r\nL 43.21875 8.296875 \r\nQ 40.140625 3.328125 35.546875 0.953125 \r\nQ 30.953125 -1.421875 24.3125 -1.421875 \r\nQ 15.921875 -1.421875 10.953125 3.296875 \r\nQ 6 8.015625 6 15.921875 \r\nQ 6 25.140625 12.171875 29.828125 \r\nQ 18.359375 34.515625 30.609375 34.515625 \r\nL 43.21875 34.515625 \r\nL 43.21875 35.40625 \r\nQ 43.21875 41.609375 39.140625 45 \r\nQ 35.0625 48.390625 27.6875 48.390625 \r\nQ 23 48.390625 18.546875 47.265625 \r\nQ 14.109375 46.140625 10.015625 43.890625 \r\nL 10.015625 52.203125 \r\nQ 14.9375 54.109375 19.578125 55.046875 \r\nQ 24.21875 56 28.609375 56 \r\nQ 40.484375 56 46.34375 49.84375 \r\nQ 52.203125 43.703125 52.203125 31.203125 \r\nz\r\n\" id=\"DejaVuSans-97\"/>\r\n      <path d=\"M 18.3125 70.21875 \r\nL 18.3125 54.6875 \r\nL 36.8125 54.6875 \r\nL 36.8125 47.703125 \r\nL 18.3125 47.703125 \r\nL 18.3125 18.015625 \r\nQ 18.3125 11.328125 20.140625 9.421875 \r\nQ 21.96875 7.515625 27.59375 7.515625 \r\nL 36.8125 7.515625 \r\nL 36.8125 0 \r\nL 27.59375 0 \r\nQ 17.1875 0 13.234375 3.875 \r\nQ 9.28125 7.765625 9.28125 18.015625 \r\nL 9.28125 47.703125 \r\nL 2.6875 47.703125 \r\nL 2.6875 54.6875 \r\nL 9.28125 54.6875 \r\nL 9.28125 70.21875 \r\nz\r\n\" id=\"DejaVuSans-116\"/>\r\n      <path d=\"M 8.5 21.578125 \r\nL 8.5 54.6875 \r\nL 17.484375 54.6875 \r\nL 17.484375 21.921875 \r\nQ 17.484375 14.15625 20.5 10.265625 \r\nQ 23.53125 6.390625 29.59375 6.390625 \r\nQ 36.859375 6.390625 41.078125 11.03125 \r\nQ 45.3125 15.671875 45.3125 23.6875 \r\nL 45.3125 54.6875 \r\nL 54.296875 54.6875 \r\nL 54.296875 0 \r\nL 45.3125 0 \r\nL 45.3125 8.40625 \r\nQ 42.046875 3.421875 37.71875 1 \r\nQ 33.40625 -1.421875 27.6875 -1.421875 \r\nQ 18.265625 -1.421875 13.375 4.4375 \r\nQ 8.5 10.296875 8.5 21.578125 \r\nz\r\nM 31.109375 56 \r\nz\r\n\" id=\"DejaVuSans-117\"/>\r\n      <path d=\"M 41.109375 46.296875 \r\nQ 39.59375 47.171875 37.8125 47.578125 \r\nQ 36.03125 48 33.890625 48 \r\nQ 26.265625 48 22.1875 43.046875 \r\nQ 18.109375 38.09375 18.109375 28.8125 \r\nL 18.109375 0 \r\nL 9.078125 0 \r\nL 9.078125 54.6875 \r\nL 18.109375 54.6875 \r\nL 18.109375 46.1875 \r\nQ 20.953125 51.171875 25.484375 53.578125 \r\nQ 30.03125 56 36.53125 56 \r\nQ 37.453125 56 38.578125 55.875 \r\nQ 39.703125 55.765625 41.0625 55.515625 \r\nz\r\n\" id=\"DejaVuSans-114\"/>\r\n      <path d=\"M 44.28125 53.078125 \r\nL 44.28125 44.578125 \r\nQ 40.484375 46.53125 36.375 47.5 \r\nQ 32.28125 48.484375 27.875 48.484375 \r\nQ 21.1875 48.484375 17.84375 46.4375 \r\nQ 14.5 44.390625 14.5 40.28125 \r\nQ 14.5 37.15625 16.890625 35.375 \r\nQ 19.28125 33.59375 26.515625 31.984375 \r\nL 29.59375 31.296875 \r\nQ 39.15625 29.25 43.1875 25.515625 \r\nQ 47.21875 21.78125 47.21875 15.09375 \r\nQ 47.21875 7.46875 41.1875 3.015625 \r\nQ 35.15625 -1.421875 24.609375 -1.421875 \r\nQ 20.21875 -1.421875 15.453125 -0.5625 \r\nQ 10.6875 0.296875 5.421875 2 \r\nL 5.421875 11.28125 \r\nQ 10.40625 8.6875 15.234375 7.390625 \r\nQ 20.0625 6.109375 24.8125 6.109375 \r\nQ 31.15625 6.109375 34.5625 8.28125 \r\nQ 37.984375 10.453125 37.984375 14.40625 \r\nQ 37.984375 18.0625 35.515625 20.015625 \r\nQ 33.0625 21.96875 24.703125 23.78125 \r\nL 21.578125 24.515625 \r\nQ 13.234375 26.265625 9.515625 29.90625 \r\nQ 5.8125 33.546875 5.8125 39.890625 \r\nQ 5.8125 47.609375 11.28125 51.796875 \r\nQ 16.75 56 26.8125 56 \r\nQ 31.78125 56 36.171875 55.265625 \r\nQ 40.578125 54.546875 44.28125 53.078125 \r\nz\r\n\" id=\"DejaVuSans-115\"/>\r\n     </defs>\r\n     <g transform=\"translate(191.736719 252.916563)scale(0.1 -0.1)\">\r\n      <use xlink:href=\"#DejaVuSans-80\"/>\r\n      <use x=\"60.302734\" xlink:href=\"#DejaVuSans-67\"/>\r\n      <use x=\"130.126953\" xlink:href=\"#DejaVuSans-65\"/>\r\n      <use x=\"198.535156\" xlink:href=\"#DejaVuSans-32\"/>\r\n      <use x=\"230.322266\" xlink:href=\"#DejaVuSans-102\"/>\r\n      <use x=\"265.527344\" xlink:href=\"#DejaVuSans-101\"/>\r\n      <use x=\"327.050781\" xlink:href=\"#DejaVuSans-97\"/>\r\n      <use x=\"388.330078\" xlink:href=\"#DejaVuSans-116\"/>\r\n      <use x=\"427.539062\" xlink:href=\"#DejaVuSans-117\"/>\r\n      <use x=\"490.917969\" xlink:href=\"#DejaVuSans-114\"/>\r\n      <use x=\"529.78125\" xlink:href=\"#DejaVuSans-101\"/>\r\n      <use x=\"591.304688\" xlink:href=\"#DejaVuSans-115\"/>\r\n     </g>\r\n    </g>\r\n   </g>\r\n   <g id=\"matplotlib.axis_2\">\r\n    <g id=\"ytick_1\">\r\n     <g id=\"line2d_21\">\r\n      <defs>\r\n       <path d=\"M 0 0 \r\nL -3.5 0 \r\n\" id=\"m5bd18d1f08\" style=\"stroke:#000000;stroke-width:0.8;\"/>\r\n      </defs>\r\n      <g>\r\n       <use style=\"stroke:#000000;stroke-width:0.8;\" x=\"56.50625\" xlink:href=\"#m5bd18d1f08\" y=\"224.64\"/>\r\n      </g>\r\n     </g>\r\n     <g id=\"text_22\">\r\n      <!-- 0.000 -->\r\n      <defs>\r\n       <path d=\"M 10.6875 12.40625 \r\nL 21 12.40625 \r\nL 21 0 \r\nL 10.6875 0 \r\nz\r\n\" id=\"DejaVuSans-46\"/>\r\n      </defs>\r\n      <g transform=\"translate(20.878125 228.439219)scale(0.1 -0.1)\">\r\n       <use xlink:href=\"#DejaVuSans-48\"/>\r\n       <use x=\"63.623047\" xlink:href=\"#DejaVuSans-46\"/>\r\n       <use x=\"95.410156\" xlink:href=\"#DejaVuSans-48\"/>\r\n       <use x=\"159.033203\" xlink:href=\"#DejaVuSans-48\"/>\r\n       <use x=\"222.65625\" xlink:href=\"#DejaVuSans-48\"/>\r\n      </g>\r\n     </g>\r\n    </g>\r\n    <g id=\"ytick_2\">\r\n     <g id=\"line2d_22\">\r\n      <g>\r\n       <use style=\"stroke:#000000;stroke-width:0.8;\" x=\"56.50625\" xlink:href=\"#m5bd18d1f08\" y=\"196.538573\"/>\r\n      </g>\r\n     </g>\r\n     <g id=\"text_23\">\r\n      <!-- 0.025 -->\r\n      <g transform=\"translate(20.878125 200.337792)scale(0.1 -0.1)\">\r\n       <use xlink:href=\"#DejaVuSans-48\"/>\r\n       <use x=\"63.623047\" xlink:href=\"#DejaVuSans-46\"/>\r\n       <use x=\"95.410156\" xlink:href=\"#DejaVuSans-48\"/>\r\n       <use x=\"159.033203\" xlink:href=\"#DejaVuSans-50\"/>\r\n       <use x=\"222.65625\" xlink:href=\"#DejaVuSans-53\"/>\r\n      </g>\r\n     </g>\r\n    </g>\r\n    <g id=\"ytick_3\">\r\n     <g id=\"line2d_23\">\r\n      <g>\r\n       <use style=\"stroke:#000000;stroke-width:0.8;\" x=\"56.50625\" xlink:href=\"#m5bd18d1f08\" y=\"168.437146\"/>\r\n      </g>\r\n     </g>\r\n     <g id=\"text_24\">\r\n      <!-- 0.050 -->\r\n      <g transform=\"translate(20.878125 172.236365)scale(0.1 -0.1)\">\r\n       <use xlink:href=\"#DejaVuSans-48\"/>\r\n       <use x=\"63.623047\" xlink:href=\"#DejaVuSans-46\"/>\r\n       <use x=\"95.410156\" xlink:href=\"#DejaVuSans-48\"/>\r\n       <use x=\"159.033203\" xlink:href=\"#DejaVuSans-53\"/>\r\n       <use x=\"222.65625\" xlink:href=\"#DejaVuSans-48\"/>\r\n      </g>\r\n     </g>\r\n    </g>\r\n    <g id=\"ytick_4\">\r\n     <g id=\"line2d_24\">\r\n      <g>\r\n       <use style=\"stroke:#000000;stroke-width:0.8;\" x=\"56.50625\" xlink:href=\"#m5bd18d1f08\" y=\"140.335719\"/>\r\n      </g>\r\n     </g>\r\n     <g id=\"text_25\">\r\n      <!-- 0.075 -->\r\n      <g transform=\"translate(20.878125 144.134938)scale(0.1 -0.1)\">\r\n       <use xlink:href=\"#DejaVuSans-48\"/>\r\n       <use x=\"63.623047\" xlink:href=\"#DejaVuSans-46\"/>\r\n       <use x=\"95.410156\" xlink:href=\"#DejaVuSans-48\"/>\r\n       <use x=\"159.033203\" xlink:href=\"#DejaVuSans-55\"/>\r\n       <use x=\"222.65625\" xlink:href=\"#DejaVuSans-53\"/>\r\n      </g>\r\n     </g>\r\n    </g>\r\n    <g id=\"ytick_5\">\r\n     <g id=\"line2d_25\">\r\n      <g>\r\n       <use style=\"stroke:#000000;stroke-width:0.8;\" x=\"56.50625\" xlink:href=\"#m5bd18d1f08\" y=\"112.234292\"/>\r\n      </g>\r\n     </g>\r\n     <g id=\"text_26\">\r\n      <!-- 0.100 -->\r\n      <g transform=\"translate(20.878125 116.033511)scale(0.1 -0.1)\">\r\n       <use xlink:href=\"#DejaVuSans-48\"/>\r\n       <use x=\"63.623047\" xlink:href=\"#DejaVuSans-46\"/>\r\n       <use x=\"95.410156\" xlink:href=\"#DejaVuSans-49\"/>\r\n       <use x=\"159.033203\" xlink:href=\"#DejaVuSans-48\"/>\r\n       <use x=\"222.65625\" xlink:href=\"#DejaVuSans-48\"/>\r\n      </g>\r\n     </g>\r\n    </g>\r\n    <g id=\"ytick_6\">\r\n     <g id=\"line2d_26\">\r\n      <g>\r\n       <use style=\"stroke:#000000;stroke-width:0.8;\" x=\"56.50625\" xlink:href=\"#m5bd18d1f08\" y=\"84.132865\"/>\r\n      </g>\r\n     </g>\r\n     <g id=\"text_27\">\r\n      <!-- 0.125 -->\r\n      <g transform=\"translate(20.878125 87.932084)scale(0.1 -0.1)\">\r\n       <use xlink:href=\"#DejaVuSans-48\"/>\r\n       <use x=\"63.623047\" xlink:href=\"#DejaVuSans-46\"/>\r\n       <use x=\"95.410156\" xlink:href=\"#DejaVuSans-49\"/>\r\n       <use x=\"159.033203\" xlink:href=\"#DejaVuSans-50\"/>\r\n       <use x=\"222.65625\" xlink:href=\"#DejaVuSans-53\"/>\r\n      </g>\r\n     </g>\r\n    </g>\r\n    <g id=\"ytick_7\">\r\n     <g id=\"line2d_27\">\r\n      <g>\r\n       <use style=\"stroke:#000000;stroke-width:0.8;\" x=\"56.50625\" xlink:href=\"#m5bd18d1f08\" y=\"56.031438\"/>\r\n      </g>\r\n     </g>\r\n     <g id=\"text_28\">\r\n      <!-- 0.150 -->\r\n      <g transform=\"translate(20.878125 59.830657)scale(0.1 -0.1)\">\r\n       <use xlink:href=\"#DejaVuSans-48\"/>\r\n       <use x=\"63.623047\" xlink:href=\"#DejaVuSans-46\"/>\r\n       <use x=\"95.410156\" xlink:href=\"#DejaVuSans-49\"/>\r\n       <use x=\"159.033203\" xlink:href=\"#DejaVuSans-53\"/>\r\n       <use x=\"222.65625\" xlink:href=\"#DejaVuSans-48\"/>\r\n      </g>\r\n     </g>\r\n    </g>\r\n    <g id=\"ytick_8\">\r\n     <g id=\"line2d_28\">\r\n      <g>\r\n       <use style=\"stroke:#000000;stroke-width:0.8;\" x=\"56.50625\" xlink:href=\"#m5bd18d1f08\" y=\"27.930011\"/>\r\n      </g>\r\n     </g>\r\n     <g id=\"text_29\">\r\n      <!-- 0.175 -->\r\n      <g transform=\"translate(20.878125 31.72923)scale(0.1 -0.1)\">\r\n       <use xlink:href=\"#DejaVuSans-48\"/>\r\n       <use x=\"63.623047\" xlink:href=\"#DejaVuSans-46\"/>\r\n       <use x=\"95.410156\" xlink:href=\"#DejaVuSans-49\"/>\r\n       <use x=\"159.033203\" xlink:href=\"#DejaVuSans-55\"/>\r\n       <use x=\"222.65625\" xlink:href=\"#DejaVuSans-53\"/>\r\n      </g>\r\n     </g>\r\n    </g>\r\n    <g id=\"text_30\">\r\n     <!-- variance % -->\r\n     <defs>\r\n      <path d=\"M 2.984375 54.6875 \r\nL 12.5 54.6875 \r\nL 29.59375 8.796875 \r\nL 46.6875 54.6875 \r\nL 56.203125 54.6875 \r\nL 35.6875 0 \r\nL 23.484375 0 \r\nz\r\n\" id=\"DejaVuSans-118\"/>\r\n      <path d=\"M 9.421875 54.6875 \r\nL 18.40625 54.6875 \r\nL 18.40625 0 \r\nL 9.421875 0 \r\nz\r\nM 9.421875 75.984375 \r\nL 18.40625 75.984375 \r\nL 18.40625 64.59375 \r\nL 9.421875 64.59375 \r\nz\r\n\" id=\"DejaVuSans-105\"/>\r\n      <path d=\"M 54.890625 33.015625 \r\nL 54.890625 0 \r\nL 45.90625 0 \r\nL 45.90625 32.71875 \r\nQ 45.90625 40.484375 42.875 44.328125 \r\nQ 39.84375 48.1875 33.796875 48.1875 \r\nQ 26.515625 48.1875 22.3125 43.546875 \r\nQ 18.109375 38.921875 18.109375 30.90625 \r\nL 18.109375 0 \r\nL 9.078125 0 \r\nL 9.078125 54.6875 \r\nL 18.109375 54.6875 \r\nL 18.109375 46.1875 \r\nQ 21.34375 51.125 25.703125 53.5625 \r\nQ 30.078125 56 35.796875 56 \r\nQ 45.21875 56 50.046875 50.171875 \r\nQ 54.890625 44.34375 54.890625 33.015625 \r\nz\r\n\" id=\"DejaVuSans-110\"/>\r\n      <path d=\"M 48.78125 52.59375 \r\nL 48.78125 44.1875 \r\nQ 44.96875 46.296875 41.140625 47.34375 \r\nQ 37.3125 48.390625 33.40625 48.390625 \r\nQ 24.65625 48.390625 19.8125 42.84375 \r\nQ 14.984375 37.3125 14.984375 27.296875 \r\nQ 14.984375 17.28125 19.8125 11.734375 \r\nQ 24.65625 6.203125 33.40625 6.203125 \r\nQ 37.3125 6.203125 41.140625 7.25 \r\nQ 44.96875 8.296875 48.78125 10.40625 \r\nL 48.78125 2.09375 \r\nQ 45.015625 0.34375 40.984375 -0.53125 \r\nQ 36.96875 -1.421875 32.421875 -1.421875 \r\nQ 20.0625 -1.421875 12.78125 6.34375 \r\nQ 5.515625 14.109375 5.515625 27.296875 \r\nQ 5.515625 40.671875 12.859375 48.328125 \r\nQ 20.21875 56 33.015625 56 \r\nQ 37.15625 56 41.109375 55.140625 \r\nQ 45.0625 54.296875 48.78125 52.59375 \r\nz\r\n\" id=\"DejaVuSans-99\"/>\r\n      <path d=\"M 72.703125 32.078125 \r\nQ 68.453125 32.078125 66.03125 28.46875 \r\nQ 63.625 24.859375 63.625 18.40625 \r\nQ 63.625 12.0625 66.03125 8.421875 \r\nQ 68.453125 4.78125 72.703125 4.78125 \r\nQ 76.859375 4.78125 79.265625 8.421875 \r\nQ 81.6875 12.0625 81.6875 18.40625 \r\nQ 81.6875 24.8125 79.265625 28.4375 \r\nQ 76.859375 32.078125 72.703125 32.078125 \r\nz\r\nM 72.703125 38.28125 \r\nQ 80.421875 38.28125 84.953125 32.90625 \r\nQ 89.5 27.546875 89.5 18.40625 \r\nQ 89.5 9.28125 84.9375 3.921875 \r\nQ 80.375 -1.421875 72.703125 -1.421875 \r\nQ 64.890625 -1.421875 60.34375 3.921875 \r\nQ 55.8125 9.28125 55.8125 18.40625 \r\nQ 55.8125 27.59375 60.375 32.9375 \r\nQ 64.9375 38.28125 72.703125 38.28125 \r\nz\r\nM 22.3125 68.015625 \r\nQ 18.109375 68.015625 15.6875 64.375 \r\nQ 13.28125 60.75 13.28125 54.390625 \r\nQ 13.28125 47.953125 15.671875 44.328125 \r\nQ 18.0625 40.71875 22.3125 40.71875 \r\nQ 26.5625 40.71875 28.96875 44.328125 \r\nQ 31.390625 47.953125 31.390625 54.390625 \r\nQ 31.390625 60.6875 28.953125 64.34375 \r\nQ 26.515625 68.015625 22.3125 68.015625 \r\nz\r\nM 66.40625 74.21875 \r\nL 74.21875 74.21875 \r\nL 28.609375 -1.421875 \r\nL 20.796875 -1.421875 \r\nz\r\nM 22.3125 74.21875 \r\nQ 30.03125 74.21875 34.609375 68.875 \r\nQ 39.203125 63.53125 39.203125 54.390625 \r\nQ 39.203125 45.171875 34.640625 39.84375 \r\nQ 30.078125 34.515625 22.3125 34.515625 \r\nQ 14.546875 34.515625 10.03125 39.859375 \r\nQ 5.515625 45.21875 5.515625 54.390625 \r\nQ 5.515625 63.484375 10.046875 68.84375 \r\nQ 14.59375 74.21875 22.3125 74.21875 \r\nz\r\n\" id=\"DejaVuSans-37\"/>\r\n     </defs>\r\n     <g transform=\"translate(14.798437 143.786406)rotate(-90)scale(0.1 -0.1)\">\r\n      <use xlink:href=\"#DejaVuSans-118\"/>\r\n      <use x=\"59.179688\" xlink:href=\"#DejaVuSans-97\"/>\r\n      <use x=\"120.458984\" xlink:href=\"#DejaVuSans-114\"/>\r\n      <use x=\"161.572266\" xlink:href=\"#DejaVuSans-105\"/>\r\n      <use x=\"189.355469\" xlink:href=\"#DejaVuSans-97\"/>\r\n      <use x=\"250.634766\" xlink:href=\"#DejaVuSans-110\"/>\r\n      <use x=\"314.013672\" xlink:href=\"#DejaVuSans-99\"/>\r\n      <use x=\"368.994141\" xlink:href=\"#DejaVuSans-101\"/>\r\n      <use x=\"430.517578\" xlink:href=\"#DejaVuSans-32\"/>\r\n      <use x=\"462.304688\" xlink:href=\"#DejaVuSans-37\"/>\r\n     </g>\r\n    </g>\r\n   </g>\r\n   <g id=\"patch_23\">\r\n    <path d=\"M 56.50625 224.64 \r\nL 56.50625 7.2 \r\n\" style=\"fill:none;stroke:#000000;stroke-linecap:square;stroke-linejoin:miter;stroke-width:0.8;\"/>\r\n   </g>\r\n   <g id=\"patch_24\">\r\n    <path d=\"M 391.30625 224.64 \r\nL 391.30625 7.2 \r\n\" style=\"fill:none;stroke:#000000;stroke-linecap:square;stroke-linejoin:miter;stroke-width:0.8;\"/>\r\n   </g>\r\n   <g id=\"patch_25\">\r\n    <path d=\"M 56.50625 224.64 \r\nL 391.30625 224.64 \r\n\" style=\"fill:none;stroke:#000000;stroke-linecap:square;stroke-linejoin:miter;stroke-width:0.8;\"/>\r\n   </g>\r\n   <g id=\"patch_26\">\r\n    <path d=\"M 56.50625 7.2 \r\nL 391.30625 7.2 \r\n\" style=\"fill:none;stroke:#000000;stroke-linecap:square;stroke-linejoin:miter;stroke-width:0.8;\"/>\r\n   </g>\r\n  </g>\r\n </g>\r\n <defs>\r\n  <clipPath id=\"p6e9f10b178\">\r\n   <rect height=\"217.44\" width=\"334.8\" x=\"56.50625\" y=\"7.2\"/>\r\n  </clipPath>\r\n </defs>\r\n</svg>\r\n",
      "image/png": "[encoded data removed]"
     },
     "metadata": {
      "needs_background": "light"
     }
    }
   ],
   "source": [
    "features = range(pca.n_components_)\n",
    "plt.bar(features, pca.explained_variance_ratio_, color='black')\n",
    "plt.xlabel('PCA features')\n",
    "plt.ylabel('variance %')\n",
    "plt.xticks(features)"
   ]
  },
  {
   "cell_type": "code",
   "execution_count": 183,
   "metadata": {},
   "outputs": [],
   "source": [
    "# Save components to a DataFrame\n",
    "PCA_components = pd.DataFrame(principalComponents)\n",
    "plt.scatter(PCA_components[0], PCA_components[1], alpha=.1, color='black')\n",
    "plt.xlabel('PCA 1')\n",
    "plt.ylabel('PCA 2')"
   ]
  },
  {
   "cell_type": "code",
   "execution_count": 67,
   "metadata": {},
   "outputs": [
    {
     "output_type": "display_data",
     "data": {
      "text/plain": "<Figure size 432x288 with 1 Axes>",
      "image/svg+xml": "<?xml version=\"1.0\" encoding=\"utf-8\" standalone=\"no\"?>\r\n<!DOCTYPE svg PUBLIC \"-//W3C//DTD SVG 1.1//EN\"\r\n  \"http://www.w3.org/Graphics/SVG/1.1/DTD/svg11.dtd\">\r\n<!-- Created with matplotlib (https://matplotlib.org/) -->\r\n<svg height=\"272.794688pt\" version=\"1.1\" viewBox=\"0 0 392.14375 272.794688\" width=\"392.14375pt\" xmlns=\"http://www.w3.org/2000/svg\" xmlns:xlink=\"http://www.w3.org/1999/xlink\">\r\n <defs>\r\n  <style type=\"text/css\">\r\n*{stroke-linecap:butt;stroke-linejoin:round;}\r\n  </style>\r\n </defs>\r\n <g id=\"figure_1\">\r\n  <g id=\"patch_1\">\r\n   <path d=\"M 0 272.794688 \r\nL 392.14375 272.794688 \r\nL 392.14375 0 \r\nL 0 0 \r\nz\r\n\" style=\"fill:none;\"/>\r\n  </g>\r\n  <g id=\"axes_1\">\r\n   <g id=\"patch_2\">\r\n    <path d=\"M 50.14375 235.238438 \r\nL 384.94375 235.238438 \r\nL 384.94375 17.798438 \r\nL 50.14375 17.798438 \r\nz\r\n\" style=\"fill:#ffffff;\"/>\r\n   </g>\r\n   <g id=\"matplotlib.axis_1\">\r\n    <g id=\"xtick_1\">\r\n     <g id=\"line2d_1\">\r\n      <defs>\r\n       <path d=\"M 0 0 \r\nL 0 3.5 \r\n\" id=\"m503d623443\" style=\"stroke:#000000;stroke-width:0.8;\"/>\r\n      </defs>\r\n      <g>\r\n       <use style=\"stroke:#000000;stroke-width:0.8;\" x=\"65.361932\" xlink:href=\"#m503d623443\" y=\"235.238438\"/>\r\n      </g>\r\n     </g>\r\n     <g id=\"text_1\">\r\n      <!-- 1 -->\r\n      <defs>\r\n       <path d=\"M 12.40625 8.296875 \r\nL 28.515625 8.296875 \r\nL 28.515625 63.921875 \r\nL 10.984375 60.40625 \r\nL 10.984375 69.390625 \r\nL 28.421875 72.90625 \r\nL 38.28125 72.90625 \r\nL 38.28125 8.296875 \r\nL 54.390625 8.296875 \r\nL 54.390625 0 \r\nL 12.40625 0 \r\nz\r\n\" id=\"DejaVuSans-49\"/>\r\n      </defs>\r\n      <g transform=\"translate(62.180682 249.836875)scale(0.1 -0.1)\">\r\n       <use xlink:href=\"#DejaVuSans-49\"/>\r\n      </g>\r\n     </g>\r\n    </g>\r\n    <g id=\"xtick_2\">\r\n     <g id=\"line2d_2\">\r\n      <g>\r\n       <use style=\"stroke:#000000;stroke-width:0.8;\" x=\"103.407386\" xlink:href=\"#m503d623443\" y=\"235.238438\"/>\r\n      </g>\r\n     </g>\r\n     <g id=\"text_2\">\r\n      <!-- 2 -->\r\n      <defs>\r\n       <path d=\"M 19.1875 8.296875 \r\nL 53.609375 8.296875 \r\nL 53.609375 0 \r\nL 7.328125 0 \r\nL 7.328125 8.296875 \r\nQ 12.9375 14.109375 22.625 23.890625 \r\nQ 32.328125 33.6875 34.8125 36.53125 \r\nQ 39.546875 41.84375 41.421875 45.53125 \r\nQ 43.3125 49.21875 43.3125 52.78125 \r\nQ 43.3125 58.59375 39.234375 62.25 \r\nQ 35.15625 65.921875 28.609375 65.921875 \r\nQ 23.96875 65.921875 18.8125 64.3125 \r\nQ 13.671875 62.703125 7.8125 59.421875 \r\nL 7.8125 69.390625 \r\nQ 13.765625 71.78125 18.9375 73 \r\nQ 24.125 74.21875 28.421875 74.21875 \r\nQ 39.75 74.21875 46.484375 68.546875 \r\nQ 53.21875 62.890625 53.21875 53.421875 \r\nQ 53.21875 48.921875 51.53125 44.890625 \r\nQ 49.859375 40.875 45.40625 35.40625 \r\nQ 44.1875 33.984375 37.640625 27.21875 \r\nQ 31.109375 20.453125 19.1875 8.296875 \r\nz\r\n\" id=\"DejaVuSans-50\"/>\r\n      </defs>\r\n      <g transform=\"translate(100.226136 249.836875)scale(0.1 -0.1)\">\r\n       <use xlink:href=\"#DejaVuSans-50\"/>\r\n      </g>\r\n     </g>\r\n    </g>\r\n    <g id=\"xtick_3\">\r\n     <g id=\"line2d_3\">\r\n      <g>\r\n       <use style=\"stroke:#000000;stroke-width:0.8;\" x=\"141.452841\" xlink:href=\"#m503d623443\" y=\"235.238438\"/>\r\n      </g>\r\n     </g>\r\n     <g id=\"text_3\">\r\n      <!-- 3 -->\r\n      <defs>\r\n       <path d=\"M 40.578125 39.3125 \r\nQ 47.65625 37.796875 51.625 33 \r\nQ 55.609375 28.21875 55.609375 21.1875 \r\nQ 55.609375 10.40625 48.1875 4.484375 \r\nQ 40.765625 -1.421875 27.09375 -1.421875 \r\nQ 22.515625 -1.421875 17.65625 -0.515625 \r\nQ 12.796875 0.390625 7.625 2.203125 \r\nL 7.625 11.71875 \r\nQ 11.71875 9.328125 16.59375 8.109375 \r\nQ 21.484375 6.890625 26.8125 6.890625 \r\nQ 36.078125 6.890625 40.9375 10.546875 \r\nQ 45.796875 14.203125 45.796875 21.1875 \r\nQ 45.796875 27.640625 41.28125 31.265625 \r\nQ 36.765625 34.90625 28.71875 34.90625 \r\nL 20.21875 34.90625 \r\nL 20.21875 43.015625 \r\nL 29.109375 43.015625 \r\nQ 36.375 43.015625 40.234375 45.921875 \r\nQ 44.09375 48.828125 44.09375 54.296875 \r\nQ 44.09375 59.90625 40.109375 62.90625 \r\nQ 36.140625 65.921875 28.71875 65.921875 \r\nQ 24.65625 65.921875 20.015625 65.03125 \r\nQ 15.375 64.15625 9.8125 62.3125 \r\nL 9.8125 71.09375 \r\nQ 15.4375 72.65625 20.34375 73.4375 \r\nQ 25.25 74.21875 29.59375 74.21875 \r\nQ 40.828125 74.21875 47.359375 69.109375 \r\nQ 53.90625 64.015625 53.90625 55.328125 \r\nQ 53.90625 49.265625 50.4375 45.09375 \r\nQ 46.96875 40.921875 40.578125 39.3125 \r\nz\r\n\" id=\"DejaVuSans-51\"/>\r\n      </defs>\r\n      <g transform=\"translate(138.271591 249.836875)scale(0.1 -0.1)\">\r\n       <use xlink:href=\"#DejaVuSans-51\"/>\r\n      </g>\r\n     </g>\r\n    </g>\r\n    <g id=\"xtick_4\">\r\n     <g id=\"line2d_4\">\r\n      <g>\r\n       <use style=\"stroke:#000000;stroke-width:0.8;\" x=\"179.498295\" xlink:href=\"#m503d623443\" y=\"235.238438\"/>\r\n      </g>\r\n     </g>\r\n     <g id=\"text_4\">\r\n      <!-- 4 -->\r\n      <defs>\r\n       <path d=\"M 37.796875 64.3125 \r\nL 12.890625 25.390625 \r\nL 37.796875 25.390625 \r\nz\r\nM 35.203125 72.90625 \r\nL 47.609375 72.90625 \r\nL 47.609375 25.390625 \r\nL 58.015625 25.390625 \r\nL 58.015625 17.1875 \r\nL 47.609375 17.1875 \r\nL 47.609375 0 \r\nL 37.796875 0 \r\nL 37.796875 17.1875 \r\nL 4.890625 17.1875 \r\nL 4.890625 26.703125 \r\nz\r\n\" id=\"DejaVuSans-52\"/>\r\n      </defs>\r\n      <g transform=\"translate(176.317045 249.836875)scale(0.1 -0.1)\">\r\n       <use xlink:href=\"#DejaVuSans-52\"/>\r\n      </g>\r\n     </g>\r\n    </g>\r\n    <g id=\"xtick_5\">\r\n     <g id=\"line2d_5\">\r\n      <g>\r\n       <use style=\"stroke:#000000;stroke-width:0.8;\" x=\"217.54375\" xlink:href=\"#m503d623443\" y=\"235.238438\"/>\r\n      </g>\r\n     </g>\r\n     <g id=\"text_5\">\r\n      <!-- 5 -->\r\n      <defs>\r\n       <path d=\"M 10.796875 72.90625 \r\nL 49.515625 72.90625 \r\nL 49.515625 64.59375 \r\nL 19.828125 64.59375 \r\nL 19.828125 46.734375 \r\nQ 21.96875 47.46875 24.109375 47.828125 \r\nQ 26.265625 48.1875 28.421875 48.1875 \r\nQ 40.625 48.1875 47.75 41.5 \r\nQ 54.890625 34.8125 54.890625 23.390625 \r\nQ 54.890625 11.625 47.5625 5.09375 \r\nQ 40.234375 -1.421875 26.90625 -1.421875 \r\nQ 22.3125 -1.421875 17.546875 -0.640625 \r\nQ 12.796875 0.140625 7.71875 1.703125 \r\nL 7.71875 11.625 \r\nQ 12.109375 9.234375 16.796875 8.0625 \r\nQ 21.484375 6.890625 26.703125 6.890625 \r\nQ 35.15625 6.890625 40.078125 11.328125 \r\nQ 45.015625 15.765625 45.015625 23.390625 \r\nQ 45.015625 31 40.078125 35.4375 \r\nQ 35.15625 39.890625 26.703125 39.890625 \r\nQ 22.75 39.890625 18.8125 39.015625 \r\nQ 14.890625 38.140625 10.796875 36.28125 \r\nz\r\n\" id=\"DejaVuSans-53\"/>\r\n      </defs>\r\n      <g transform=\"translate(214.3625 249.836875)scale(0.1 -0.1)\">\r\n       <use xlink:href=\"#DejaVuSans-53\"/>\r\n      </g>\r\n     </g>\r\n    </g>\r\n    <g id=\"xtick_6\">\r\n     <g id=\"line2d_6\">\r\n      <g>\r\n       <use style=\"stroke:#000000;stroke-width:0.8;\" x=\"255.589205\" xlink:href=\"#m503d623443\" y=\"235.238438\"/>\r\n      </g>\r\n     </g>\r\n     <g id=\"text_6\">\r\n      <!-- 6 -->\r\n      <defs>\r\n       <path d=\"M 33.015625 40.375 \r\nQ 26.375 40.375 22.484375 35.828125 \r\nQ 18.609375 31.296875 18.609375 23.390625 \r\nQ 18.609375 15.53125 22.484375 10.953125 \r\nQ 26.375 6.390625 33.015625 6.390625 \r\nQ 39.65625 6.390625 43.53125 10.953125 \r\nQ 47.40625 15.53125 47.40625 23.390625 \r\nQ 47.40625 31.296875 43.53125 35.828125 \r\nQ 39.65625 40.375 33.015625 40.375 \r\nz\r\nM 52.59375 71.296875 \r\nL 52.59375 62.3125 \r\nQ 48.875 64.0625 45.09375 64.984375 \r\nQ 41.3125 65.921875 37.59375 65.921875 \r\nQ 27.828125 65.921875 22.671875 59.328125 \r\nQ 17.53125 52.734375 16.796875 39.40625 \r\nQ 19.671875 43.65625 24.015625 45.921875 \r\nQ 28.375 48.1875 33.59375 48.1875 \r\nQ 44.578125 48.1875 50.953125 41.515625 \r\nQ 57.328125 34.859375 57.328125 23.390625 \r\nQ 57.328125 12.15625 50.6875 5.359375 \r\nQ 44.046875 -1.421875 33.015625 -1.421875 \r\nQ 20.359375 -1.421875 13.671875 8.265625 \r\nQ 6.984375 17.96875 6.984375 36.375 \r\nQ 6.984375 53.65625 15.1875 63.9375 \r\nQ 23.390625 74.21875 37.203125 74.21875 \r\nQ 40.921875 74.21875 44.703125 73.484375 \r\nQ 48.484375 72.75 52.59375 71.296875 \r\nz\r\n\" id=\"DejaVuSans-54\"/>\r\n      </defs>\r\n      <g transform=\"translate(252.407955 249.836875)scale(0.1 -0.1)\">\r\n       <use xlink:href=\"#DejaVuSans-54\"/>\r\n      </g>\r\n     </g>\r\n    </g>\r\n    <g id=\"xtick_7\">\r\n     <g id=\"line2d_7\">\r\n      <g>\r\n       <use style=\"stroke:#000000;stroke-width:0.8;\" x=\"293.634659\" xlink:href=\"#m503d623443\" y=\"235.238438\"/>\r\n      </g>\r\n     </g>\r\n     <g id=\"text_7\">\r\n      <!-- 7 -->\r\n      <defs>\r\n       <path d=\"M 8.203125 72.90625 \r\nL 55.078125 72.90625 \r\nL 55.078125 68.703125 \r\nL 28.609375 0 \r\nL 18.3125 0 \r\nL 43.21875 64.59375 \r\nL 8.203125 64.59375 \r\nz\r\n\" id=\"DejaVuSans-55\"/>\r\n      </defs>\r\n      <g transform=\"translate(290.453409 249.836875)scale(0.1 -0.1)\">\r\n       <use xlink:href=\"#DejaVuSans-55\"/>\r\n      </g>\r\n     </g>\r\n    </g>\r\n    <g id=\"xtick_8\">\r\n     <g id=\"line2d_8\">\r\n      <g>\r\n       <use style=\"stroke:#000000;stroke-width:0.8;\" x=\"331.680114\" xlink:href=\"#m503d623443\" y=\"235.238438\"/>\r\n      </g>\r\n     </g>\r\n     <g id=\"text_8\">\r\n      <!-- 8 -->\r\n      <defs>\r\n       <path d=\"M 31.78125 34.625 \r\nQ 24.75 34.625 20.71875 30.859375 \r\nQ 16.703125 27.09375 16.703125 20.515625 \r\nQ 16.703125 13.921875 20.71875 10.15625 \r\nQ 24.75 6.390625 31.78125 6.390625 \r\nQ 38.8125 6.390625 42.859375 10.171875 \r\nQ 46.921875 13.96875 46.921875 20.515625 \r\nQ 46.921875 27.09375 42.890625 30.859375 \r\nQ 38.875 34.625 31.78125 34.625 \r\nz\r\nM 21.921875 38.8125 \r\nQ 15.578125 40.375 12.03125 44.71875 \r\nQ 8.5 49.078125 8.5 55.328125 \r\nQ 8.5 64.0625 14.71875 69.140625 \r\nQ 20.953125 74.21875 31.78125 74.21875 \r\nQ 42.671875 74.21875 48.875 69.140625 \r\nQ 55.078125 64.0625 55.078125 55.328125 \r\nQ 55.078125 49.078125 51.53125 44.71875 \r\nQ 48 40.375 41.703125 38.8125 \r\nQ 48.828125 37.15625 52.796875 32.3125 \r\nQ 56.78125 27.484375 56.78125 20.515625 \r\nQ 56.78125 9.90625 50.3125 4.234375 \r\nQ 43.84375 -1.421875 31.78125 -1.421875 \r\nQ 19.734375 -1.421875 13.25 4.234375 \r\nQ 6.78125 9.90625 6.78125 20.515625 \r\nQ 6.78125 27.484375 10.78125 32.3125 \r\nQ 14.796875 37.15625 21.921875 38.8125 \r\nz\r\nM 18.3125 54.390625 \r\nQ 18.3125 48.734375 21.84375 45.5625 \r\nQ 25.390625 42.390625 31.78125 42.390625 \r\nQ 38.140625 42.390625 41.71875 45.5625 \r\nQ 45.3125 48.734375 45.3125 54.390625 \r\nQ 45.3125 60.0625 41.71875 63.234375 \r\nQ 38.140625 66.40625 31.78125 66.40625 \r\nQ 25.390625 66.40625 21.84375 63.234375 \r\nQ 18.3125 60.0625 18.3125 54.390625 \r\nz\r\n\" id=\"DejaVuSans-56\"/>\r\n      </defs>\r\n      <g transform=\"translate(328.498864 249.836875)scale(0.1 -0.1)\">\r\n       <use xlink:href=\"#DejaVuSans-56\"/>\r\n      </g>\r\n     </g>\r\n    </g>\r\n    <g id=\"xtick_9\">\r\n     <g id=\"line2d_9\">\r\n      <g>\r\n       <use style=\"stroke:#000000;stroke-width:0.8;\" x=\"369.725568\" xlink:href=\"#m503d623443\" y=\"235.238438\"/>\r\n      </g>\r\n     </g>\r\n     <g id=\"text_9\">\r\n      <!-- 9 -->\r\n      <defs>\r\n       <path d=\"M 10.984375 1.515625 \r\nL 10.984375 10.5 \r\nQ 14.703125 8.734375 18.5 7.8125 \r\nQ 22.3125 6.890625 25.984375 6.890625 \r\nQ 35.75 6.890625 40.890625 13.453125 \r\nQ 46.046875 20.015625 46.78125 33.40625 \r\nQ 43.953125 29.203125 39.59375 26.953125 \r\nQ 35.25 24.703125 29.984375 24.703125 \r\nQ 19.046875 24.703125 12.671875 31.3125 \r\nQ 6.296875 37.9375 6.296875 49.421875 \r\nQ 6.296875 60.640625 12.9375 67.421875 \r\nQ 19.578125 74.21875 30.609375 74.21875 \r\nQ 43.265625 74.21875 49.921875 64.515625 \r\nQ 56.59375 54.828125 56.59375 36.375 \r\nQ 56.59375 19.140625 48.40625 8.859375 \r\nQ 40.234375 -1.421875 26.421875 -1.421875 \r\nQ 22.703125 -1.421875 18.890625 -0.6875 \r\nQ 15.09375 0.046875 10.984375 1.515625 \r\nz\r\nM 30.609375 32.421875 \r\nQ 37.25 32.421875 41.125 36.953125 \r\nQ 45.015625 41.5 45.015625 49.421875 \r\nQ 45.015625 57.28125 41.125 61.84375 \r\nQ 37.25 66.40625 30.609375 66.40625 \r\nQ 23.96875 66.40625 20.09375 61.84375 \r\nQ 16.21875 57.28125 16.21875 49.421875 \r\nQ 16.21875 41.5 20.09375 36.953125 \r\nQ 23.96875 32.421875 30.609375 32.421875 \r\nz\r\n\" id=\"DejaVuSans-57\"/>\r\n      </defs>\r\n      <g transform=\"translate(366.544318 249.836875)scale(0.1 -0.1)\">\r\n       <use xlink:href=\"#DejaVuSans-57\"/>\r\n      </g>\r\n     </g>\r\n    </g>\r\n    <g id=\"text_10\">\r\n     <!-- number of clusters, k -->\r\n     <defs>\r\n      <path d=\"M 54.890625 33.015625 \r\nL 54.890625 0 \r\nL 45.90625 0 \r\nL 45.90625 32.71875 \r\nQ 45.90625 40.484375 42.875 44.328125 \r\nQ 39.84375 48.1875 33.796875 48.1875 \r\nQ 26.515625 48.1875 22.3125 43.546875 \r\nQ 18.109375 38.921875 18.109375 30.90625 \r\nL 18.109375 0 \r\nL 9.078125 0 \r\nL 9.078125 54.6875 \r\nL 18.109375 54.6875 \r\nL 18.109375 46.1875 \r\nQ 21.34375 51.125 25.703125 53.5625 \r\nQ 30.078125 56 35.796875 56 \r\nQ 45.21875 56 50.046875 50.171875 \r\nQ 54.890625 44.34375 54.890625 33.015625 \r\nz\r\n\" id=\"DejaVuSans-110\"/>\r\n      <path d=\"M 8.5 21.578125 \r\nL 8.5 54.6875 \r\nL 17.484375 54.6875 \r\nL 17.484375 21.921875 \r\nQ 17.484375 14.15625 20.5 10.265625 \r\nQ 23.53125 6.390625 29.59375 6.390625 \r\nQ 36.859375 6.390625 41.078125 11.03125 \r\nQ 45.3125 15.671875 45.3125 23.6875 \r\nL 45.3125 54.6875 \r\nL 54.296875 54.6875 \r\nL 54.296875 0 \r\nL 45.3125 0 \r\nL 45.3125 8.40625 \r\nQ 42.046875 3.421875 37.71875 1 \r\nQ 33.40625 -1.421875 27.6875 -1.421875 \r\nQ 18.265625 -1.421875 13.375 4.4375 \r\nQ 8.5 10.296875 8.5 21.578125 \r\nz\r\nM 31.109375 56 \r\nz\r\n\" id=\"DejaVuSans-117\"/>\r\n      <path d=\"M 52 44.1875 \r\nQ 55.375 50.25 60.0625 53.125 \r\nQ 64.75 56 71.09375 56 \r\nQ 79.640625 56 84.28125 50.015625 \r\nQ 88.921875 44.046875 88.921875 33.015625 \r\nL 88.921875 0 \r\nL 79.890625 0 \r\nL 79.890625 32.71875 \r\nQ 79.890625 40.578125 77.09375 44.375 \r\nQ 74.3125 48.1875 68.609375 48.1875 \r\nQ 61.625 48.1875 57.5625 43.546875 \r\nQ 53.515625 38.921875 53.515625 30.90625 \r\nL 53.515625 0 \r\nL 44.484375 0 \r\nL 44.484375 32.71875 \r\nQ 44.484375 40.625 41.703125 44.40625 \r\nQ 38.921875 48.1875 33.109375 48.1875 \r\nQ 26.21875 48.1875 22.15625 43.53125 \r\nQ 18.109375 38.875 18.109375 30.90625 \r\nL 18.109375 0 \r\nL 9.078125 0 \r\nL 9.078125 54.6875 \r\nL 18.109375 54.6875 \r\nL 18.109375 46.1875 \r\nQ 21.1875 51.21875 25.484375 53.609375 \r\nQ 29.78125 56 35.6875 56 \r\nQ 41.65625 56 45.828125 52.96875 \r\nQ 50 49.953125 52 44.1875 \r\nz\r\n\" id=\"DejaVuSans-109\"/>\r\n      <path d=\"M 48.6875 27.296875 \r\nQ 48.6875 37.203125 44.609375 42.84375 \r\nQ 40.53125 48.484375 33.40625 48.484375 \r\nQ 26.265625 48.484375 22.1875 42.84375 \r\nQ 18.109375 37.203125 18.109375 27.296875 \r\nQ 18.109375 17.390625 22.1875 11.75 \r\nQ 26.265625 6.109375 33.40625 6.109375 \r\nQ 40.53125 6.109375 44.609375 11.75 \r\nQ 48.6875 17.390625 48.6875 27.296875 \r\nz\r\nM 18.109375 46.390625 \r\nQ 20.953125 51.265625 25.265625 53.625 \r\nQ 29.59375 56 35.59375 56 \r\nQ 45.5625 56 51.78125 48.09375 \r\nQ 58.015625 40.1875 58.015625 27.296875 \r\nQ 58.015625 14.40625 51.78125 6.484375 \r\nQ 45.5625 -1.421875 35.59375 -1.421875 \r\nQ 29.59375 -1.421875 25.265625 0.953125 \r\nQ 20.953125 3.328125 18.109375 8.203125 \r\nL 18.109375 0 \r\nL 9.078125 0 \r\nL 9.078125 75.984375 \r\nL 18.109375 75.984375 \r\nz\r\n\" id=\"DejaVuSans-98\"/>\r\n      <path d=\"M 56.203125 29.59375 \r\nL 56.203125 25.203125 \r\nL 14.890625 25.203125 \r\nQ 15.484375 15.921875 20.484375 11.0625 \r\nQ 25.484375 6.203125 34.421875 6.203125 \r\nQ 39.59375 6.203125 44.453125 7.46875 \r\nQ 49.3125 8.734375 54.109375 11.28125 \r\nL 54.109375 2.78125 \r\nQ 49.265625 0.734375 44.1875 -0.34375 \r\nQ 39.109375 -1.421875 33.890625 -1.421875 \r\nQ 20.796875 -1.421875 13.15625 6.1875 \r\nQ 5.515625 13.8125 5.515625 26.8125 \r\nQ 5.515625 40.234375 12.765625 48.109375 \r\nQ 20.015625 56 32.328125 56 \r\nQ 43.359375 56 49.78125 48.890625 \r\nQ 56.203125 41.796875 56.203125 29.59375 \r\nz\r\nM 47.21875 32.234375 \r\nQ 47.125 39.59375 43.09375 43.984375 \r\nQ 39.0625 48.390625 32.421875 48.390625 \r\nQ 24.90625 48.390625 20.390625 44.140625 \r\nQ 15.875 39.890625 15.1875 32.171875 \r\nz\r\n\" id=\"DejaVuSans-101\"/>\r\n      <path d=\"M 41.109375 46.296875 \r\nQ 39.59375 47.171875 37.8125 47.578125 \r\nQ 36.03125 48 33.890625 48 \r\nQ 26.265625 48 22.1875 43.046875 \r\nQ 18.109375 38.09375 18.109375 28.8125 \r\nL 18.109375 0 \r\nL 9.078125 0 \r\nL 9.078125 54.6875 \r\nL 18.109375 54.6875 \r\nL 18.109375 46.1875 \r\nQ 20.953125 51.171875 25.484375 53.578125 \r\nQ 30.03125 56 36.53125 56 \r\nQ 37.453125 56 38.578125 55.875 \r\nQ 39.703125 55.765625 41.0625 55.515625 \r\nz\r\n\" id=\"DejaVuSans-114\"/>\r\n      <path id=\"DejaVuSans-32\"/>\r\n      <path d=\"M 30.609375 48.390625 \r\nQ 23.390625 48.390625 19.1875 42.75 \r\nQ 14.984375 37.109375 14.984375 27.296875 \r\nQ 14.984375 17.484375 19.15625 11.84375 \r\nQ 23.34375 6.203125 30.609375 6.203125 \r\nQ 37.796875 6.203125 41.984375 11.859375 \r\nQ 46.1875 17.53125 46.1875 27.296875 \r\nQ 46.1875 37.015625 41.984375 42.703125 \r\nQ 37.796875 48.390625 30.609375 48.390625 \r\nz\r\nM 30.609375 56 \r\nQ 42.328125 56 49.015625 48.375 \r\nQ 55.71875 40.765625 55.71875 27.296875 \r\nQ 55.71875 13.875 49.015625 6.21875 \r\nQ 42.328125 -1.421875 30.609375 -1.421875 \r\nQ 18.84375 -1.421875 12.171875 6.21875 \r\nQ 5.515625 13.875 5.515625 27.296875 \r\nQ 5.515625 40.765625 12.171875 48.375 \r\nQ 18.84375 56 30.609375 56 \r\nz\r\n\" id=\"DejaVuSans-111\"/>\r\n      <path d=\"M 37.109375 75.984375 \r\nL 37.109375 68.5 \r\nL 28.515625 68.5 \r\nQ 23.6875 68.5 21.796875 66.546875 \r\nQ 19.921875 64.59375 19.921875 59.515625 \r\nL 19.921875 54.6875 \r\nL 34.71875 54.6875 \r\nL 34.71875 47.703125 \r\nL 19.921875 47.703125 \r\nL 19.921875 0 \r\nL 10.890625 0 \r\nL 10.890625 47.703125 \r\nL 2.296875 47.703125 \r\nL 2.296875 54.6875 \r\nL 10.890625 54.6875 \r\nL 10.890625 58.5 \r\nQ 10.890625 67.625 15.140625 71.796875 \r\nQ 19.390625 75.984375 28.609375 75.984375 \r\nz\r\n\" id=\"DejaVuSans-102\"/>\r\n      <path d=\"M 48.78125 52.59375 \r\nL 48.78125 44.1875 \r\nQ 44.96875 46.296875 41.140625 47.34375 \r\nQ 37.3125 48.390625 33.40625 48.390625 \r\nQ 24.65625 48.390625 19.8125 42.84375 \r\nQ 14.984375 37.3125 14.984375 27.296875 \r\nQ 14.984375 17.28125 19.8125 11.734375 \r\nQ 24.65625 6.203125 33.40625 6.203125 \r\nQ 37.3125 6.203125 41.140625 7.25 \r\nQ 44.96875 8.296875 48.78125 10.40625 \r\nL 48.78125 2.09375 \r\nQ 45.015625 0.34375 40.984375 -0.53125 \r\nQ 36.96875 -1.421875 32.421875 -1.421875 \r\nQ 20.0625 -1.421875 12.78125 6.34375 \r\nQ 5.515625 14.109375 5.515625 27.296875 \r\nQ 5.515625 40.671875 12.859375 48.328125 \r\nQ 20.21875 56 33.015625 56 \r\nQ 37.15625 56 41.109375 55.140625 \r\nQ 45.0625 54.296875 48.78125 52.59375 \r\nz\r\n\" id=\"DejaVuSans-99\"/>\r\n      <path d=\"M 9.421875 75.984375 \r\nL 18.40625 75.984375 \r\nL 18.40625 0 \r\nL 9.421875 0 \r\nz\r\n\" id=\"DejaVuSans-108\"/>\r\n      <path d=\"M 44.28125 53.078125 \r\nL 44.28125 44.578125 \r\nQ 40.484375 46.53125 36.375 47.5 \r\nQ 32.28125 48.484375 27.875 48.484375 \r\nQ 21.1875 48.484375 17.84375 46.4375 \r\nQ 14.5 44.390625 14.5 40.28125 \r\nQ 14.5 37.15625 16.890625 35.375 \r\nQ 19.28125 33.59375 26.515625 31.984375 \r\nL 29.59375 31.296875 \r\nQ 39.15625 29.25 43.1875 25.515625 \r\nQ 47.21875 21.78125 47.21875 15.09375 \r\nQ 47.21875 7.46875 41.1875 3.015625 \r\nQ 35.15625 -1.421875 24.609375 -1.421875 \r\nQ 20.21875 -1.421875 15.453125 -0.5625 \r\nQ 10.6875 0.296875 5.421875 2 \r\nL 5.421875 11.28125 \r\nQ 10.40625 8.6875 15.234375 7.390625 \r\nQ 20.0625 6.109375 24.8125 6.109375 \r\nQ 31.15625 6.109375 34.5625 8.28125 \r\nQ 37.984375 10.453125 37.984375 14.40625 \r\nQ 37.984375 18.0625 35.515625 20.015625 \r\nQ 33.0625 21.96875 24.703125 23.78125 \r\nL 21.578125 24.515625 \r\nQ 13.234375 26.265625 9.515625 29.90625 \r\nQ 5.8125 33.546875 5.8125 39.890625 \r\nQ 5.8125 47.609375 11.28125 51.796875 \r\nQ 16.75 56 26.8125 56 \r\nQ 31.78125 56 36.171875 55.265625 \r\nQ 40.578125 54.546875 44.28125 53.078125 \r\nz\r\n\" id=\"DejaVuSans-115\"/>\r\n      <path d=\"M 18.3125 70.21875 \r\nL 18.3125 54.6875 \r\nL 36.8125 54.6875 \r\nL 36.8125 47.703125 \r\nL 18.3125 47.703125 \r\nL 18.3125 18.015625 \r\nQ 18.3125 11.328125 20.140625 9.421875 \r\nQ 21.96875 7.515625 27.59375 7.515625 \r\nL 36.8125 7.515625 \r\nL 36.8125 0 \r\nL 27.59375 0 \r\nQ 17.1875 0 13.234375 3.875 \r\nQ 9.28125 7.765625 9.28125 18.015625 \r\nL 9.28125 47.703125 \r\nL 2.6875 47.703125 \r\nL 2.6875 54.6875 \r\nL 9.28125 54.6875 \r\nL 9.28125 70.21875 \r\nz\r\n\" id=\"DejaVuSans-116\"/>\r\n      <path d=\"M 11.71875 12.40625 \r\nL 22.015625 12.40625 \r\nL 22.015625 4 \r\nL 14.015625 -11.625 \r\nL 7.71875 -11.625 \r\nL 11.71875 4 \r\nz\r\n\" id=\"DejaVuSans-44\"/>\r\n      <path d=\"M 9.078125 75.984375 \r\nL 18.109375 75.984375 \r\nL 18.109375 31.109375 \r\nL 44.921875 54.6875 \r\nL 56.390625 54.6875 \r\nL 27.390625 29.109375 \r\nL 57.625 0 \r\nL 45.90625 0 \r\nL 18.109375 26.703125 \r\nL 18.109375 0 \r\nL 9.078125 0 \r\nz\r\n\" id=\"DejaVuSans-107\"/>\r\n     </defs>\r\n     <g transform=\"translate(164.35 263.515)scale(0.1 -0.1)\">\r\n      <use xlink:href=\"#DejaVuSans-110\"/>\r\n      <use x=\"63.378906\" xlink:href=\"#DejaVuSans-117\"/>\r\n      <use x=\"126.757812\" xlink:href=\"#DejaVuSans-109\"/>\r\n      <use x=\"224.169922\" xlink:href=\"#DejaVuSans-98\"/>\r\n      <use x=\"287.646484\" xlink:href=\"#DejaVuSans-101\"/>\r\n      <use x=\"349.169922\" xlink:href=\"#DejaVuSans-114\"/>\r\n      <use x=\"390.283203\" xlink:href=\"#DejaVuSans-32\"/>\r\n      <use x=\"422.070312\" xlink:href=\"#DejaVuSans-111\"/>\r\n      <use x=\"483.251953\" xlink:href=\"#DejaVuSans-102\"/>\r\n      <use x=\"518.457031\" xlink:href=\"#DejaVuSans-32\"/>\r\n      <use x=\"550.244141\" xlink:href=\"#DejaVuSans-99\"/>\r\n      <use x=\"605.224609\" xlink:href=\"#DejaVuSans-108\"/>\r\n      <use x=\"633.007812\" xlink:href=\"#DejaVuSans-117\"/>\r\n      <use x=\"696.386719\" xlink:href=\"#DejaVuSans-115\"/>\r\n      <use x=\"748.486328\" xlink:href=\"#DejaVuSans-116\"/>\r\n      <use x=\"787.695312\" xlink:href=\"#DejaVuSans-101\"/>\r\n      <use x=\"849.21875\" xlink:href=\"#DejaVuSans-114\"/>\r\n      <use x=\"890.332031\" xlink:href=\"#DejaVuSans-115\"/>\r\n      <use x=\"942.431641\" xlink:href=\"#DejaVuSans-44\"/>\r\n      <use x=\"974.21875\" xlink:href=\"#DejaVuSans-32\"/>\r\n      <use x=\"1006.005859\" xlink:href=\"#DejaVuSans-107\"/>\r\n     </g>\r\n    </g>\r\n   </g>\r\n   <g id=\"matplotlib.axis_2\">\r\n    <g id=\"ytick_1\">\r\n     <g id=\"line2d_10\">\r\n      <defs>\r\n       <path d=\"M 0 0 \r\nL -3.5 0 \r\n\" id=\"mafb35519ea\" style=\"stroke:#000000;stroke-width:0.8;\"/>\r\n      </defs>\r\n      <g>\r\n       <use style=\"stroke:#000000;stroke-width:0.8;\" x=\"50.14375\" xlink:href=\"#mafb35519ea\" y=\"213.839824\"/>\r\n      </g>\r\n     </g>\r\n     <g id=\"text_11\">\r\n      <!-- 1.00 -->\r\n      <defs>\r\n       <path d=\"M 10.6875 12.40625 \r\nL 21 12.40625 \r\nL 21 0 \r\nL 10.6875 0 \r\nz\r\n\" id=\"DejaVuSans-46\"/>\r\n       <path d=\"M 31.78125 66.40625 \r\nQ 24.171875 66.40625 20.328125 58.90625 \r\nQ 16.5 51.421875 16.5 36.375 \r\nQ 16.5 21.390625 20.328125 13.890625 \r\nQ 24.171875 6.390625 31.78125 6.390625 \r\nQ 39.453125 6.390625 43.28125 13.890625 \r\nQ 47.125 21.390625 47.125 36.375 \r\nQ 47.125 51.421875 43.28125 58.90625 \r\nQ 39.453125 66.40625 31.78125 66.40625 \r\nz\r\nM 31.78125 74.21875 \r\nQ 44.046875 74.21875 50.515625 64.515625 \r\nQ 56.984375 54.828125 56.984375 36.375 \r\nQ 56.984375 17.96875 50.515625 8.265625 \r\nQ 44.046875 -1.421875 31.78125 -1.421875 \r\nQ 19.53125 -1.421875 13.0625 8.265625 \r\nQ 6.59375 17.96875 6.59375 36.375 \r\nQ 6.59375 54.828125 13.0625 64.515625 \r\nQ 19.53125 74.21875 31.78125 74.21875 \r\nz\r\n\" id=\"DejaVuSans-48\"/>\r\n      </defs>\r\n      <g transform=\"translate(20.878125 217.639042)scale(0.1 -0.1)\">\r\n       <use xlink:href=\"#DejaVuSans-49\"/>\r\n       <use x=\"63.623047\" xlink:href=\"#DejaVuSans-46\"/>\r\n       <use x=\"95.410156\" xlink:href=\"#DejaVuSans-48\"/>\r\n       <use x=\"159.033203\" xlink:href=\"#DejaVuSans-48\"/>\r\n      </g>\r\n     </g>\r\n    </g>\r\n    <g id=\"ytick_2\">\r\n     <g id=\"line2d_11\">\r\n      <g>\r\n       <use style=\"stroke:#000000;stroke-width:0.8;\" x=\"50.14375\" xlink:href=\"#mafb35519ea\" y=\"188.303597\"/>\r\n      </g>\r\n     </g>\r\n     <g id=\"text_12\">\r\n      <!-- 1.25 -->\r\n      <g transform=\"translate(20.878125 192.102815)scale(0.1 -0.1)\">\r\n       <use xlink:href=\"#DejaVuSans-49\"/>\r\n       <use x=\"63.623047\" xlink:href=\"#DejaVuSans-46\"/>\r\n       <use x=\"95.410156\" xlink:href=\"#DejaVuSans-50\"/>\r\n       <use x=\"159.033203\" xlink:href=\"#DejaVuSans-53\"/>\r\n      </g>\r\n     </g>\r\n    </g>\r\n    <g id=\"ytick_3\">\r\n     <g id=\"line2d_12\">\r\n      <g>\r\n       <use style=\"stroke:#000000;stroke-width:0.8;\" x=\"50.14375\" xlink:href=\"#mafb35519ea\" y=\"162.76737\"/>\r\n      </g>\r\n     </g>\r\n     <g id=\"text_13\">\r\n      <!-- 1.50 -->\r\n      <g transform=\"translate(20.878125 166.566588)scale(0.1 -0.1)\">\r\n       <use xlink:href=\"#DejaVuSans-49\"/>\r\n       <use x=\"63.623047\" xlink:href=\"#DejaVuSans-46\"/>\r\n       <use x=\"95.410156\" xlink:href=\"#DejaVuSans-53\"/>\r\n       <use x=\"159.033203\" xlink:href=\"#DejaVuSans-48\"/>\r\n      </g>\r\n     </g>\r\n    </g>\r\n    <g id=\"ytick_4\">\r\n     <g id=\"line2d_13\">\r\n      <g>\r\n       <use style=\"stroke:#000000;stroke-width:0.8;\" x=\"50.14375\" xlink:href=\"#mafb35519ea\" y=\"137.231143\"/>\r\n      </g>\r\n     </g>\r\n     <g id=\"text_14\">\r\n      <!-- 1.75 -->\r\n      <g transform=\"translate(20.878125 141.030361)scale(0.1 -0.1)\">\r\n       <use xlink:href=\"#DejaVuSans-49\"/>\r\n       <use x=\"63.623047\" xlink:href=\"#DejaVuSans-46\"/>\r\n       <use x=\"95.410156\" xlink:href=\"#DejaVuSans-55\"/>\r\n       <use x=\"159.033203\" xlink:href=\"#DejaVuSans-53\"/>\r\n      </g>\r\n     </g>\r\n    </g>\r\n    <g id=\"ytick_5\">\r\n     <g id=\"line2d_14\">\r\n      <g>\r\n       <use style=\"stroke:#000000;stroke-width:0.8;\" x=\"50.14375\" xlink:href=\"#mafb35519ea\" y=\"111.694916\"/>\r\n      </g>\r\n     </g>\r\n     <g id=\"text_15\">\r\n      <!-- 2.00 -->\r\n      <g transform=\"translate(20.878125 115.494134)scale(0.1 -0.1)\">\r\n       <use xlink:href=\"#DejaVuSans-50\"/>\r\n       <use x=\"63.623047\" xlink:href=\"#DejaVuSans-46\"/>\r\n       <use x=\"95.410156\" xlink:href=\"#DejaVuSans-48\"/>\r\n       <use x=\"159.033203\" xlink:href=\"#DejaVuSans-48\"/>\r\n      </g>\r\n     </g>\r\n    </g>\r\n    <g id=\"ytick_6\">\r\n     <g id=\"line2d_15\">\r\n      <g>\r\n       <use style=\"stroke:#000000;stroke-width:0.8;\" x=\"50.14375\" xlink:href=\"#mafb35519ea\" y=\"86.158689\"/>\r\n      </g>\r\n     </g>\r\n     <g id=\"text_16\">\r\n      <!-- 2.25 -->\r\n      <g transform=\"translate(20.878125 89.957907)scale(0.1 -0.1)\">\r\n       <use xlink:href=\"#DejaVuSans-50\"/>\r\n       <use x=\"63.623047\" xlink:href=\"#DejaVuSans-46\"/>\r\n       <use x=\"95.410156\" xlink:href=\"#DejaVuSans-50\"/>\r\n       <use x=\"159.033203\" xlink:href=\"#DejaVuSans-53\"/>\r\n      </g>\r\n     </g>\r\n    </g>\r\n    <g id=\"ytick_7\">\r\n     <g id=\"line2d_16\">\r\n      <g>\r\n       <use style=\"stroke:#000000;stroke-width:0.8;\" x=\"50.14375\" xlink:href=\"#mafb35519ea\" y=\"60.622462\"/>\r\n      </g>\r\n     </g>\r\n     <g id=\"text_17\">\r\n      <!-- 2.50 -->\r\n      <g transform=\"translate(20.878125 64.42168)scale(0.1 -0.1)\">\r\n       <use xlink:href=\"#DejaVuSans-50\"/>\r\n       <use x=\"63.623047\" xlink:href=\"#DejaVuSans-46\"/>\r\n       <use x=\"95.410156\" xlink:href=\"#DejaVuSans-53\"/>\r\n       <use x=\"159.033203\" xlink:href=\"#DejaVuSans-48\"/>\r\n      </g>\r\n     </g>\r\n    </g>\r\n    <g id=\"ytick_8\">\r\n     <g id=\"line2d_17\">\r\n      <g>\r\n       <use style=\"stroke:#000000;stroke-width:0.8;\" x=\"50.14375\" xlink:href=\"#mafb35519ea\" y=\"35.086234\"/>\r\n      </g>\r\n     </g>\r\n     <g id=\"text_18\">\r\n      <!-- 2.75 -->\r\n      <g transform=\"translate(20.878125 38.885453)scale(0.1 -0.1)\">\r\n       <use xlink:href=\"#DejaVuSans-50\"/>\r\n       <use x=\"63.623047\" xlink:href=\"#DejaVuSans-46\"/>\r\n       <use x=\"95.410156\" xlink:href=\"#DejaVuSans-55\"/>\r\n       <use x=\"159.033203\" xlink:href=\"#DejaVuSans-53\"/>\r\n      </g>\r\n     </g>\r\n    </g>\r\n    <g id=\"text_19\">\r\n     <!-- inertia -->\r\n     <defs>\r\n      <path d=\"M 9.421875 54.6875 \r\nL 18.40625 54.6875 \r\nL 18.40625 0 \r\nL 9.421875 0 \r\nz\r\nM 9.421875 75.984375 \r\nL 18.40625 75.984375 \r\nL 18.40625 64.59375 \r\nL 9.421875 64.59375 \r\nz\r\n\" id=\"DejaVuSans-105\"/>\r\n      <path d=\"M 34.28125 27.484375 \r\nQ 23.390625 27.484375 19.1875 25 \r\nQ 14.984375 22.515625 14.984375 16.5 \r\nQ 14.984375 11.71875 18.140625 8.90625 \r\nQ 21.296875 6.109375 26.703125 6.109375 \r\nQ 34.1875 6.109375 38.703125 11.40625 \r\nQ 43.21875 16.703125 43.21875 25.484375 \r\nL 43.21875 27.484375 \r\nz\r\nM 52.203125 31.203125 \r\nL 52.203125 0 \r\nL 43.21875 0 \r\nL 43.21875 8.296875 \r\nQ 40.140625 3.328125 35.546875 0.953125 \r\nQ 30.953125 -1.421875 24.3125 -1.421875 \r\nQ 15.921875 -1.421875 10.953125 3.296875 \r\nQ 6 8.015625 6 15.921875 \r\nQ 6 25.140625 12.171875 29.828125 \r\nQ 18.359375 34.515625 30.609375 34.515625 \r\nL 43.21875 34.515625 \r\nL 43.21875 35.40625 \r\nQ 43.21875 41.609375 39.140625 45 \r\nQ 35.0625 48.390625 27.6875 48.390625 \r\nQ 23 48.390625 18.546875 47.265625 \r\nQ 14.109375 46.140625 10.015625 43.890625 \r\nL 10.015625 52.203125 \r\nQ 14.9375 54.109375 19.578125 55.046875 \r\nQ 24.21875 56 28.609375 56 \r\nQ 40.484375 56 46.34375 49.84375 \r\nQ 52.203125 43.703125 52.203125 31.203125 \r\nz\r\n\" id=\"DejaVuSans-97\"/>\r\n     </defs>\r\n     <g transform=\"translate(14.798438 142.621563)rotate(-90)scale(0.1 -0.1)\">\r\n      <use xlink:href=\"#DejaVuSans-105\"/>\r\n      <use x=\"27.783203\" xlink:href=\"#DejaVuSans-110\"/>\r\n      <use x=\"91.162109\" xlink:href=\"#DejaVuSans-101\"/>\r\n      <use x=\"152.685547\" xlink:href=\"#DejaVuSans-114\"/>\r\n      <use x=\"193.798828\" xlink:href=\"#DejaVuSans-116\"/>\r\n      <use x=\"233.007812\" xlink:href=\"#DejaVuSans-105\"/>\r\n      <use x=\"260.791016\" xlink:href=\"#DejaVuSans-97\"/>\r\n     </g>\r\n    </g>\r\n    <g id=\"text_20\">\r\n     <!-- 1e6 -->\r\n     <g transform=\"translate(50.14375 14.798437)scale(0.1 -0.1)\">\r\n      <use xlink:href=\"#DejaVuSans-49\"/>\r\n      <use x=\"63.623047\" xlink:href=\"#DejaVuSans-101\"/>\r\n      <use x=\"125.146484\" xlink:href=\"#DejaVuSans-54\"/>\r\n     </g>\r\n    </g>\r\n   </g>\r\n   <g id=\"line2d_18\">\r\n    <path clip-path=\"url(#p4c1c75384e)\" d=\"M 65.361932 27.682074 \r\nL 103.407386 91.048124 \r\nL 141.452841 118.901192 \r\nL 179.498295 140.370999 \r\nL 217.54375 160.800531 \r\nL 255.589205 182.058858 \r\nL 293.634659 198.929254 \r\nL 331.680114 216.140008 \r\nL 369.725568 225.354801 \r\n\" style=\"fill:none;stroke:#000000;stroke-linecap:square;stroke-width:1.5;\"/>\r\n    <defs>\r\n     <path d=\"M 0 3 \r\nC 0.795609 3 1.55874 2.683901 2.12132 2.12132 \r\nC 2.683901 1.55874 3 0.795609 3 0 \r\nC 3 -0.795609 2.683901 -1.55874 2.12132 -2.12132 \r\nC 1.55874 -2.683901 0.795609 -3 0 -3 \r\nC -0.795609 -3 -1.55874 -2.683901 -2.12132 -2.12132 \r\nC -2.683901 -1.55874 -3 -0.795609 -3 0 \r\nC -3 0.795609 -2.683901 1.55874 -2.12132 2.12132 \r\nC -1.55874 2.683901 -0.795609 3 0 3 \r\nz\r\n\" id=\"mb8097434d6\" style=\"stroke:#000000;\"/>\r\n    </defs>\r\n    <g clip-path=\"url(#p4c1c75384e)\">\r\n     <use style=\"stroke:#000000;\" x=\"65.361932\" xlink:href=\"#mb8097434d6\" y=\"27.682074\"/>\r\n     <use style=\"stroke:#000000;\" x=\"103.407386\" xlink:href=\"#mb8097434d6\" y=\"91.048124\"/>\r\n     <use style=\"stroke:#000000;\" x=\"141.452841\" xlink:href=\"#mb8097434d6\" y=\"118.901192\"/>\r\n     <use style=\"stroke:#000000;\" x=\"179.498295\" xlink:href=\"#mb8097434d6\" y=\"140.370999\"/>\r\n     <use style=\"stroke:#000000;\" x=\"217.54375\" xlink:href=\"#mb8097434d6\" y=\"160.800531\"/>\r\n     <use style=\"stroke:#000000;\" x=\"255.589205\" xlink:href=\"#mb8097434d6\" y=\"182.058858\"/>\r\n     <use style=\"stroke:#000000;\" x=\"293.634659\" xlink:href=\"#mb8097434d6\" y=\"198.929254\"/>\r\n     <use style=\"stroke:#000000;\" x=\"331.680114\" xlink:href=\"#mb8097434d6\" y=\"216.140008\"/>\r\n     <use style=\"stroke:#000000;\" x=\"369.725568\" xlink:href=\"#mb8097434d6\" y=\"225.354801\"/>\r\n    </g>\r\n   </g>\r\n   <g id=\"patch_3\">\r\n    <path d=\"M 50.14375 235.238438 \r\nL 50.14375 17.798438 \r\n\" style=\"fill:none;stroke:#000000;stroke-linecap:square;stroke-linejoin:miter;stroke-width:0.8;\"/>\r\n   </g>\r\n   <g id=\"patch_4\">\r\n    <path d=\"M 384.94375 235.238438 \r\nL 384.94375 17.798438 \r\n\" style=\"fill:none;stroke:#000000;stroke-linecap:square;stroke-linejoin:miter;stroke-width:0.8;\"/>\r\n   </g>\r\n   <g id=\"patch_5\">\r\n    <path d=\"M 50.14375 235.238438 \r\nL 384.94375 235.238438 \r\n\" style=\"fill:none;stroke:#000000;stroke-linecap:square;stroke-linejoin:miter;stroke-width:0.8;\"/>\r\n   </g>\r\n   <g id=\"patch_6\">\r\n    <path d=\"M 50.14375 17.798438 \r\nL 384.94375 17.798438 \r\n\" style=\"fill:none;stroke:#000000;stroke-linecap:square;stroke-linejoin:miter;stroke-width:0.8;\"/>\r\n   </g>\r\n  </g>\r\n </g>\r\n <defs>\r\n  <clipPath id=\"p4c1c75384e\">\r\n   <rect height=\"217.44\" width=\"334.8\" x=\"50.14375\" y=\"17.798438\"/>\r\n  </clipPath>\r\n </defs>\r\n</svg>\r\n",
      "image/png": "[encoded data removed]"
     },
     "metadata": {
      "needs_background": "light"
     }
    }
   ],
   "source": [
    "ks = range(1, 10)\n",
    "inertias = []\n",
    "for k in ks:\n",
    "    # Create a KMeans instance with k clusters: model\n",
    "    model = KMeans(n_clusters=k)\n",
    "    \n",
    "    # Fit model to samples\n",
    "    model.fit(PCA_components.iloc[:,:7])\n",
    "    \n",
    "    # Append the inertia to the list of inertias\n",
    "    inertias.append(model.inertia_)\n",
    "    \n",
    "plt.plot(ks, inertias, '-o', color='black')\n",
    "plt.xlabel('number of clusters, k')\n",
    "plt.ylabel('inertia')\n",
    "plt.xticks(ks)\n",
    "plt.show()"
   ]
  },
  {
   "cell_type": "markdown",
   "metadata": {},
   "source": [
    "# Testando clusterização com apenas a precipitação\n",
    "Objetivo: Forçar a distinção de \"tipos de chuva\" para detectar chuvas mais fortes\n",
    "\n",
    "Testando clusterizações com a precipitação e outras features, independente da feature selecionada, a precipitação não tem influência suficiente e a clusterização acaba sendo realizada em função das outras features, completamente ignorando a tendência da precipitação."
   ]
  },
  {
   "cell_type": "code",
   "execution_count": 164,
   "metadata": {},
   "outputs": [
    {
     "output_type": "execute_result",
     "data": {
      "text/plain": "       Local   Ano  Mes  Dia  UmidadeRelativa  PressaoAtmosferica  \\\n0          5  2011    1    1        70.557292          908.655208   \n1          5  2011    1    2        55.159375          924.290625   \n2          5  2011    1    3        55.726042          924.098958   \n3          5  2011    1    4        43.800000          914.808333   \n4          5  2011    1    5        62.565126          925.509574   \n...      ...   ...  ...  ...              ...                 ...   \n15784      1  2019   12    5        77.408984          924.483333   \n15785      1  2019   12    6        65.920064          922.778125   \n15786      1  2019   12    7        44.454447          927.385417   \n15787      1  2019   12    8        41.439701          928.351042   \n15788      1  2019   12    9        45.806210          928.594792   \n\n       TemperaturaDoAr  TemperaturaInterna  PontoDeOrvalho  RadiacaoSolar  \\\n0            21.895833           25.395833       16.353125     311.979167   \n1            24.882292           28.112500       14.110213     394.156250   \n2            24.204167           27.277083       12.391667     393.052083   \n3            25.389583           28.837500        9.919530     371.197917   \n4            20.634043           23.960638       11.056894     350.021277   \n...                ...                 ...             ...            ...   \n15784        20.321356           24.878947       15.693702      -0.042723   \n15785        20.200083           24.935573       13.525387       0.000000   \n15786        16.074839           19.650945        9.811256       0.126164   \n15787        16.087180           19.727405        9.581108       0.041129   \n15788        16.728125           20.197150       10.143422       0.083508   \n\n       DirecaoDoVento  VelocidadeDoVento  Precipitacao  \n0          127.010417           6.300000           0.6  \n1          264.333333           5.547929           0.8  \n2          184.875000           8.540625          28.0  \n3          251.614583           6.456247           0.0  \n4          166.989362           5.041446          65.6  \n...               ...                ...           ...  \n15784      212.309571           7.228867          15.2  \n15785      189.388836           3.975417           0.0  \n15786      113.550180           6.706997           0.0  \n15787      106.425289           5.894426           0.0  \n15788      111.450767           7.461921           0.0  \n\n[15788 rows x 13 columns]",
      "text/html": "<div>\n<style scoped>\n    .dataframe tbody tr th:only-of-type {\n        vertical-align: middle;\n    }\n\n    .dataframe tbody tr th {\n        vertical-align: top;\n    }\n\n    .dataframe thead th {\n        text-align: right;\n    }\n</style>\n<table border=\"1\" class=\"dataframe\">\n  <thead>\n    <tr style=\"text-align: right;\">\n      <th></th>\n      <th>Local</th>\n      <th>Ano</th>\n      <th>Mes</th>\n      <th>Dia</th>\n      <th>UmidadeRelativa</th>\n      <th>PressaoAtmosferica</th>\n      <th>TemperaturaDoAr</th>\n      <th>TemperaturaInterna</th>\n      <th>PontoDeOrvalho</th>\n      <th>RadiacaoSolar</th>\n      <th>DirecaoDoVento</th>\n      <th>VelocidadeDoVento</th>\n      <th>Precipitacao</th>\n    </tr>\n  </thead>\n  <tbody>\n    <tr>\n      <th>0</th>\n      <td>5</td>\n      <td>2011</td>\n      <td>1</td>\n      <td>1</td>\n      <td>70.557292</td>\n      <td>908.655208</td>\n      <td>21.895833</td>\n      <td>25.395833</td>\n      <td>16.353125</td>\n      <td>311.979167</td>\n      <td>127.010417</td>\n      <td>6.300000</td>\n      <td>0.6</td>\n    </tr>\n    <tr>\n      <th>1</th>\n      <td>5</td>\n      <td>2011</td>\n      <td>1</td>\n      <td>2</td>\n      <td>55.159375</td>\n      <td>924.290625</td>\n      <td>24.882292</td>\n      <td>28.112500</td>\n      <td>14.110213</td>\n      <td>394.156250</td>\n      <td>264.333333</td>\n      <td>5.547929</td>\n      <td>0.8</td>\n    </tr>\n    <tr>\n      <th>2</th>\n      <td>5</td>\n      <td>2011</td>\n      <td>1</td>\n      <td>3</td>\n      <td>55.726042</td>\n      <td>924.098958</td>\n      <td>24.204167</td>\n      <td>27.277083</td>\n      <td>12.391667</td>\n      <td>393.052083</td>\n      <td>184.875000</td>\n      <td>8.540625</td>\n      <td>28.0</td>\n    </tr>\n    <tr>\n      <th>3</th>\n      <td>5</td>\n      <td>2011</td>\n      <td>1</td>\n      <td>4</td>\n      <td>43.800000</td>\n      <td>914.808333</td>\n      <td>25.389583</td>\n      <td>28.837500</td>\n      <td>9.919530</td>\n      <td>371.197917</td>\n      <td>251.614583</td>\n      <td>6.456247</td>\n      <td>0.0</td>\n    </tr>\n    <tr>\n      <th>4</th>\n      <td>5</td>\n      <td>2011</td>\n      <td>1</td>\n      <td>5</td>\n      <td>62.565126</td>\n      <td>925.509574</td>\n      <td>20.634043</td>\n      <td>23.960638</td>\n      <td>11.056894</td>\n      <td>350.021277</td>\n      <td>166.989362</td>\n      <td>5.041446</td>\n      <td>65.6</td>\n    </tr>\n    <tr>\n      <th>...</th>\n      <td>...</td>\n      <td>...</td>\n      <td>...</td>\n      <td>...</td>\n      <td>...</td>\n      <td>...</td>\n      <td>...</td>\n      <td>...</td>\n      <td>...</td>\n      <td>...</td>\n      <td>...</td>\n      <td>...</td>\n      <td>...</td>\n    </tr>\n    <tr>\n      <th>15784</th>\n      <td>1</td>\n      <td>2019</td>\n      <td>12</td>\n      <td>5</td>\n      <td>77.408984</td>\n      <td>924.483333</td>\n      <td>20.321356</td>\n      <td>24.878947</td>\n      <td>15.693702</td>\n      <td>-0.042723</td>\n      <td>212.309571</td>\n      <td>7.228867</td>\n      <td>15.2</td>\n    </tr>\n    <tr>\n      <th>15785</th>\n      <td>1</td>\n      <td>2019</td>\n      <td>12</td>\n      <td>6</td>\n      <td>65.920064</td>\n      <td>922.778125</td>\n      <td>20.200083</td>\n      <td>24.935573</td>\n      <td>13.525387</td>\n      <td>0.000000</td>\n      <td>189.388836</td>\n      <td>3.975417</td>\n      <td>0.0</td>\n    </tr>\n    <tr>\n      <th>15786</th>\n      <td>1</td>\n      <td>2019</td>\n      <td>12</td>\n      <td>7</td>\n      <td>44.454447</td>\n      <td>927.385417</td>\n      <td>16.074839</td>\n      <td>19.650945</td>\n      <td>9.811256</td>\n      <td>0.126164</td>\n      <td>113.550180</td>\n      <td>6.706997</td>\n      <td>0.0</td>\n    </tr>\n    <tr>\n      <th>15787</th>\n      <td>1</td>\n      <td>2019</td>\n      <td>12</td>\n      <td>8</td>\n      <td>41.439701</td>\n      <td>928.351042</td>\n      <td>16.087180</td>\n      <td>19.727405</td>\n      <td>9.581108</td>\n      <td>0.041129</td>\n      <td>106.425289</td>\n      <td>5.894426</td>\n      <td>0.0</td>\n    </tr>\n    <tr>\n      <th>15788</th>\n      <td>1</td>\n      <td>2019</td>\n      <td>12</td>\n      <td>9</td>\n      <td>45.806210</td>\n      <td>928.594792</td>\n      <td>16.728125</td>\n      <td>20.197150</td>\n      <td>10.143422</td>\n      <td>0.083508</td>\n      <td>111.450767</td>\n      <td>7.461921</td>\n      <td>0.0</td>\n    </tr>\n  </tbody>\n</table>\n<p>15788 rows × 13 columns</p>\n</div>"
     },
     "metadata": {},
     "execution_count": 164
    }
   ],
   "source": [
    "#df_prec = df_grouped[df_grouped['Precipitacao'] > 0]\n",
    "df_prec = df_grouped.copy()\n",
    "df_prec['Ano'] = df_prec['Data_Hora'].dt.year\n",
    "df_prec['Mes'] = df_prec['Data_Hora'].dt.month\n",
    "df_prec['Dia'] = df_prec['Data_Hora'].dt.day\n",
    "df_prec = df_prec.drop(columns = ['Data_Hora'])\n",
    "s_prec = df_prec.groupby(['Local', 'Ano', 'Mes', 'Dia']).sum().reset_index()['Precipitacao']\n",
    "df_prec = df_prec.groupby(['Local', 'Ano', 'Mes', 'Dia']).mean().reset_index()\n",
    "df_prec['Precipitacao'] = s_prec\n",
    "df_prec = df_prec[[c for c in df_prec.columns if c not in ['SensacaoTermica']]].copy().dropna()\n",
    "df_prec['Local'] = df_prec['Local'].rank(method='dense', ascending=False).astype(int)\n",
    "df_prec"
   ]
  },
  {
   "cell_type": "code",
   "execution_count": 165,
   "metadata": {},
   "outputs": [
    {
     "output_type": "execute_result",
     "data": {
      "text/plain": "array([[0.00025202],\n       [0.00033602],\n       [0.01176075],\n       ...,\n       [0.        ],\n       [0.        ],\n       [0.        ]])"
     },
     "metadata": {},
     "execution_count": 165
    }
   ],
   "source": [
    "sc = MinMaxScaler(feature_range=(0,1))\n",
    "df_norm = sc.fit_transform(df_prec[['Precipitacao']])\n",
    "df_norm"
   ]
  },
  {
   "cell_type": "code",
   "execution_count": 166,
   "metadata": {},
   "outputs": [
    {
     "output_type": "display_data",
     "data": {
      "text/plain": "<Figure size 432x288 with 1 Axes>",
      "image/svg+xml": "<?xml version=\"1.0\" encoding=\"utf-8\" standalone=\"no\"?>\r\n<!DOCTYPE svg PUBLIC \"-//W3C//DTD SVG 1.1//EN\"\r\n  \"http://www.w3.org/Graphics/SVG/1.1/DTD/svg11.dtd\">\r\n<!-- Created with matplotlib (https://matplotlib.org/) -->\r\n<svg height=\"262.19625pt\" version=\"1.1\" viewBox=\"0 0 382.603125 262.19625\" width=\"382.603125pt\" xmlns=\"http://www.w3.org/2000/svg\" xmlns:xlink=\"http://www.w3.org/1999/xlink\">\r\n <defs>\r\n  <style type=\"text/css\">\r\n*{stroke-linecap:butt;stroke-linejoin:round;}\r\n  </style>\r\n </defs>\r\n <g id=\"figure_1\">\r\n  <g id=\"patch_1\">\r\n   <path d=\"M 0 262.19625 \r\nL 382.603125 262.19625 \r\nL 382.603125 0 \r\nL 0 0 \r\nz\r\n\" style=\"fill:none;\"/>\r\n  </g>\r\n  <g id=\"axes_1\">\r\n   <g id=\"patch_2\">\r\n    <path d=\"M 40.603125 224.64 \r\nL 375.403125 224.64 \r\nL 375.403125 7.2 \r\nL 40.603125 7.2 \r\nz\r\n\" style=\"fill:#ffffff;\"/>\r\n   </g>\r\n   <g id=\"matplotlib.axis_1\">\r\n    <g id=\"xtick_1\">\r\n     <g id=\"line2d_1\">\r\n      <defs>\r\n       <path d=\"M 0 0 \r\nL 0 3.5 \r\n\" id=\"m045535cae0\" style=\"stroke:#000000;stroke-width:0.8;\"/>\r\n      </defs>\r\n      <g>\r\n       <use style=\"stroke:#000000;stroke-width:0.8;\" x=\"55.821307\" xlink:href=\"#m045535cae0\" y=\"224.64\"/>\r\n      </g>\r\n     </g>\r\n     <g id=\"text_1\">\r\n      <!-- 1 -->\r\n      <defs>\r\n       <path d=\"M 12.40625 8.296875 \r\nL 28.515625 8.296875 \r\nL 28.515625 63.921875 \r\nL 10.984375 60.40625 \r\nL 10.984375 69.390625 \r\nL 28.421875 72.90625 \r\nL 38.28125 72.90625 \r\nL 38.28125 8.296875 \r\nL 54.390625 8.296875 \r\nL 54.390625 0 \r\nL 12.40625 0 \r\nz\r\n\" id=\"DejaVuSans-49\"/>\r\n      </defs>\r\n      <g transform=\"translate(52.640057 239.238437)scale(0.1 -0.1)\">\r\n       <use xlink:href=\"#DejaVuSans-49\"/>\r\n      </g>\r\n     </g>\r\n    </g>\r\n    <g id=\"xtick_2\">\r\n     <g id=\"line2d_2\">\r\n      <g>\r\n       <use style=\"stroke:#000000;stroke-width:0.8;\" x=\"93.866761\" xlink:href=\"#m045535cae0\" y=\"224.64\"/>\r\n      </g>\r\n     </g>\r\n     <g id=\"text_2\">\r\n      <!-- 2 -->\r\n      <defs>\r\n       <path d=\"M 19.1875 8.296875 \r\nL 53.609375 8.296875 \r\nL 53.609375 0 \r\nL 7.328125 0 \r\nL 7.328125 8.296875 \r\nQ 12.9375 14.109375 22.625 23.890625 \r\nQ 32.328125 33.6875 34.8125 36.53125 \r\nQ 39.546875 41.84375 41.421875 45.53125 \r\nQ 43.3125 49.21875 43.3125 52.78125 \r\nQ 43.3125 58.59375 39.234375 62.25 \r\nQ 35.15625 65.921875 28.609375 65.921875 \r\nQ 23.96875 65.921875 18.8125 64.3125 \r\nQ 13.671875 62.703125 7.8125 59.421875 \r\nL 7.8125 69.390625 \r\nQ 13.765625 71.78125 18.9375 73 \r\nQ 24.125 74.21875 28.421875 74.21875 \r\nQ 39.75 74.21875 46.484375 68.546875 \r\nQ 53.21875 62.890625 53.21875 53.421875 \r\nQ 53.21875 48.921875 51.53125 44.890625 \r\nQ 49.859375 40.875 45.40625 35.40625 \r\nQ 44.1875 33.984375 37.640625 27.21875 \r\nQ 31.109375 20.453125 19.1875 8.296875 \r\nz\r\n\" id=\"DejaVuSans-50\"/>\r\n      </defs>\r\n      <g transform=\"translate(90.685511 239.238437)scale(0.1 -0.1)\">\r\n       <use xlink:href=\"#DejaVuSans-50\"/>\r\n      </g>\r\n     </g>\r\n    </g>\r\n    <g id=\"xtick_3\">\r\n     <g id=\"line2d_3\">\r\n      <g>\r\n       <use style=\"stroke:#000000;stroke-width:0.8;\" x=\"131.912216\" xlink:href=\"#m045535cae0\" y=\"224.64\"/>\r\n      </g>\r\n     </g>\r\n     <g id=\"text_3\">\r\n      <!-- 3 -->\r\n      <defs>\r\n       <path d=\"M 40.578125 39.3125 \r\nQ 47.65625 37.796875 51.625 33 \r\nQ 55.609375 28.21875 55.609375 21.1875 \r\nQ 55.609375 10.40625 48.1875 4.484375 \r\nQ 40.765625 -1.421875 27.09375 -1.421875 \r\nQ 22.515625 -1.421875 17.65625 -0.515625 \r\nQ 12.796875 0.390625 7.625 2.203125 \r\nL 7.625 11.71875 \r\nQ 11.71875 9.328125 16.59375 8.109375 \r\nQ 21.484375 6.890625 26.8125 6.890625 \r\nQ 36.078125 6.890625 40.9375 10.546875 \r\nQ 45.796875 14.203125 45.796875 21.1875 \r\nQ 45.796875 27.640625 41.28125 31.265625 \r\nQ 36.765625 34.90625 28.71875 34.90625 \r\nL 20.21875 34.90625 \r\nL 20.21875 43.015625 \r\nL 29.109375 43.015625 \r\nQ 36.375 43.015625 40.234375 45.921875 \r\nQ 44.09375 48.828125 44.09375 54.296875 \r\nQ 44.09375 59.90625 40.109375 62.90625 \r\nQ 36.140625 65.921875 28.71875 65.921875 \r\nQ 24.65625 65.921875 20.015625 65.03125 \r\nQ 15.375 64.15625 9.8125 62.3125 \r\nL 9.8125 71.09375 \r\nQ 15.4375 72.65625 20.34375 73.4375 \r\nQ 25.25 74.21875 29.59375 74.21875 \r\nQ 40.828125 74.21875 47.359375 69.109375 \r\nQ 53.90625 64.015625 53.90625 55.328125 \r\nQ 53.90625 49.265625 50.4375 45.09375 \r\nQ 46.96875 40.921875 40.578125 39.3125 \r\nz\r\n\" id=\"DejaVuSans-51\"/>\r\n      </defs>\r\n      <g transform=\"translate(128.730966 239.238437)scale(0.1 -0.1)\">\r\n       <use xlink:href=\"#DejaVuSans-51\"/>\r\n      </g>\r\n     </g>\r\n    </g>\r\n    <g id=\"xtick_4\">\r\n     <g id=\"line2d_4\">\r\n      <g>\r\n       <use style=\"stroke:#000000;stroke-width:0.8;\" x=\"169.95767\" xlink:href=\"#m045535cae0\" y=\"224.64\"/>\r\n      </g>\r\n     </g>\r\n     <g id=\"text_4\">\r\n      <!-- 4 -->\r\n      <defs>\r\n       <path d=\"M 37.796875 64.3125 \r\nL 12.890625 25.390625 \r\nL 37.796875 25.390625 \r\nz\r\nM 35.203125 72.90625 \r\nL 47.609375 72.90625 \r\nL 47.609375 25.390625 \r\nL 58.015625 25.390625 \r\nL 58.015625 17.1875 \r\nL 47.609375 17.1875 \r\nL 47.609375 0 \r\nL 37.796875 0 \r\nL 37.796875 17.1875 \r\nL 4.890625 17.1875 \r\nL 4.890625 26.703125 \r\nz\r\n\" id=\"DejaVuSans-52\"/>\r\n      </defs>\r\n      <g transform=\"translate(166.77642 239.238437)scale(0.1 -0.1)\">\r\n       <use xlink:href=\"#DejaVuSans-52\"/>\r\n      </g>\r\n     </g>\r\n    </g>\r\n    <g id=\"xtick_5\">\r\n     <g id=\"line2d_5\">\r\n      <g>\r\n       <use style=\"stroke:#000000;stroke-width:0.8;\" x=\"208.003125\" xlink:href=\"#m045535cae0\" y=\"224.64\"/>\r\n      </g>\r\n     </g>\r\n     <g id=\"text_5\">\r\n      <!-- 5 -->\r\n      <defs>\r\n       <path d=\"M 10.796875 72.90625 \r\nL 49.515625 72.90625 \r\nL 49.515625 64.59375 \r\nL 19.828125 64.59375 \r\nL 19.828125 46.734375 \r\nQ 21.96875 47.46875 24.109375 47.828125 \r\nQ 26.265625 48.1875 28.421875 48.1875 \r\nQ 40.625 48.1875 47.75 41.5 \r\nQ 54.890625 34.8125 54.890625 23.390625 \r\nQ 54.890625 11.625 47.5625 5.09375 \r\nQ 40.234375 -1.421875 26.90625 -1.421875 \r\nQ 22.3125 -1.421875 17.546875 -0.640625 \r\nQ 12.796875 0.140625 7.71875 1.703125 \r\nL 7.71875 11.625 \r\nQ 12.109375 9.234375 16.796875 8.0625 \r\nQ 21.484375 6.890625 26.703125 6.890625 \r\nQ 35.15625 6.890625 40.078125 11.328125 \r\nQ 45.015625 15.765625 45.015625 23.390625 \r\nQ 45.015625 31 40.078125 35.4375 \r\nQ 35.15625 39.890625 26.703125 39.890625 \r\nQ 22.75 39.890625 18.8125 39.015625 \r\nQ 14.890625 38.140625 10.796875 36.28125 \r\nz\r\n\" id=\"DejaVuSans-53\"/>\r\n      </defs>\r\n      <g transform=\"translate(204.821875 239.238437)scale(0.1 -0.1)\">\r\n       <use xlink:href=\"#DejaVuSans-53\"/>\r\n      </g>\r\n     </g>\r\n    </g>\r\n    <g id=\"xtick_6\">\r\n     <g id=\"line2d_6\">\r\n      <g>\r\n       <use style=\"stroke:#000000;stroke-width:0.8;\" x=\"246.04858\" xlink:href=\"#m045535cae0\" y=\"224.64\"/>\r\n      </g>\r\n     </g>\r\n     <g id=\"text_6\">\r\n      <!-- 6 -->\r\n      <defs>\r\n       <path d=\"M 33.015625 40.375 \r\nQ 26.375 40.375 22.484375 35.828125 \r\nQ 18.609375 31.296875 18.609375 23.390625 \r\nQ 18.609375 15.53125 22.484375 10.953125 \r\nQ 26.375 6.390625 33.015625 6.390625 \r\nQ 39.65625 6.390625 43.53125 10.953125 \r\nQ 47.40625 15.53125 47.40625 23.390625 \r\nQ 47.40625 31.296875 43.53125 35.828125 \r\nQ 39.65625 40.375 33.015625 40.375 \r\nz\r\nM 52.59375 71.296875 \r\nL 52.59375 62.3125 \r\nQ 48.875 64.0625 45.09375 64.984375 \r\nQ 41.3125 65.921875 37.59375 65.921875 \r\nQ 27.828125 65.921875 22.671875 59.328125 \r\nQ 17.53125 52.734375 16.796875 39.40625 \r\nQ 19.671875 43.65625 24.015625 45.921875 \r\nQ 28.375 48.1875 33.59375 48.1875 \r\nQ 44.578125 48.1875 50.953125 41.515625 \r\nQ 57.328125 34.859375 57.328125 23.390625 \r\nQ 57.328125 12.15625 50.6875 5.359375 \r\nQ 44.046875 -1.421875 33.015625 -1.421875 \r\nQ 20.359375 -1.421875 13.671875 8.265625 \r\nQ 6.984375 17.96875 6.984375 36.375 \r\nQ 6.984375 53.65625 15.1875 63.9375 \r\nQ 23.390625 74.21875 37.203125 74.21875 \r\nQ 40.921875 74.21875 44.703125 73.484375 \r\nQ 48.484375 72.75 52.59375 71.296875 \r\nz\r\n\" id=\"DejaVuSans-54\"/>\r\n      </defs>\r\n      <g transform=\"translate(242.86733 239.238437)scale(0.1 -0.1)\">\r\n       <use xlink:href=\"#DejaVuSans-54\"/>\r\n      </g>\r\n     </g>\r\n    </g>\r\n    <g id=\"xtick_7\">\r\n     <g id=\"line2d_7\">\r\n      <g>\r\n       <use style=\"stroke:#000000;stroke-width:0.8;\" x=\"284.094034\" xlink:href=\"#m045535cae0\" y=\"224.64\"/>\r\n      </g>\r\n     </g>\r\n     <g id=\"text_7\">\r\n      <!-- 7 -->\r\n      <defs>\r\n       <path d=\"M 8.203125 72.90625 \r\nL 55.078125 72.90625 \r\nL 55.078125 68.703125 \r\nL 28.609375 0 \r\nL 18.3125 0 \r\nL 43.21875 64.59375 \r\nL 8.203125 64.59375 \r\nz\r\n\" id=\"DejaVuSans-55\"/>\r\n      </defs>\r\n      <g transform=\"translate(280.912784 239.238437)scale(0.1 -0.1)\">\r\n       <use xlink:href=\"#DejaVuSans-55\"/>\r\n      </g>\r\n     </g>\r\n    </g>\r\n    <g id=\"xtick_8\">\r\n     <g id=\"line2d_8\">\r\n      <g>\r\n       <use style=\"stroke:#000000;stroke-width:0.8;\" x=\"322.139489\" xlink:href=\"#m045535cae0\" y=\"224.64\"/>\r\n      </g>\r\n     </g>\r\n     <g id=\"text_8\">\r\n      <!-- 8 -->\r\n      <defs>\r\n       <path d=\"M 31.78125 34.625 \r\nQ 24.75 34.625 20.71875 30.859375 \r\nQ 16.703125 27.09375 16.703125 20.515625 \r\nQ 16.703125 13.921875 20.71875 10.15625 \r\nQ 24.75 6.390625 31.78125 6.390625 \r\nQ 38.8125 6.390625 42.859375 10.171875 \r\nQ 46.921875 13.96875 46.921875 20.515625 \r\nQ 46.921875 27.09375 42.890625 30.859375 \r\nQ 38.875 34.625 31.78125 34.625 \r\nz\r\nM 21.921875 38.8125 \r\nQ 15.578125 40.375 12.03125 44.71875 \r\nQ 8.5 49.078125 8.5 55.328125 \r\nQ 8.5 64.0625 14.71875 69.140625 \r\nQ 20.953125 74.21875 31.78125 74.21875 \r\nQ 42.671875 74.21875 48.875 69.140625 \r\nQ 55.078125 64.0625 55.078125 55.328125 \r\nQ 55.078125 49.078125 51.53125 44.71875 \r\nQ 48 40.375 41.703125 38.8125 \r\nQ 48.828125 37.15625 52.796875 32.3125 \r\nQ 56.78125 27.484375 56.78125 20.515625 \r\nQ 56.78125 9.90625 50.3125 4.234375 \r\nQ 43.84375 -1.421875 31.78125 -1.421875 \r\nQ 19.734375 -1.421875 13.25 4.234375 \r\nQ 6.78125 9.90625 6.78125 20.515625 \r\nQ 6.78125 27.484375 10.78125 32.3125 \r\nQ 14.796875 37.15625 21.921875 38.8125 \r\nz\r\nM 18.3125 54.390625 \r\nQ 18.3125 48.734375 21.84375 45.5625 \r\nQ 25.390625 42.390625 31.78125 42.390625 \r\nQ 38.140625 42.390625 41.71875 45.5625 \r\nQ 45.3125 48.734375 45.3125 54.390625 \r\nQ 45.3125 60.0625 41.71875 63.234375 \r\nQ 38.140625 66.40625 31.78125 66.40625 \r\nQ 25.390625 66.40625 21.84375 63.234375 \r\nQ 18.3125 60.0625 18.3125 54.390625 \r\nz\r\n\" id=\"DejaVuSans-56\"/>\r\n      </defs>\r\n      <g transform=\"translate(318.958239 239.238437)scale(0.1 -0.1)\">\r\n       <use xlink:href=\"#DejaVuSans-56\"/>\r\n      </g>\r\n     </g>\r\n    </g>\r\n    <g id=\"xtick_9\">\r\n     <g id=\"line2d_9\">\r\n      <g>\r\n       <use style=\"stroke:#000000;stroke-width:0.8;\" x=\"360.184943\" xlink:href=\"#m045535cae0\" y=\"224.64\"/>\r\n      </g>\r\n     </g>\r\n     <g id=\"text_9\">\r\n      <!-- 9 -->\r\n      <defs>\r\n       <path d=\"M 10.984375 1.515625 \r\nL 10.984375 10.5 \r\nQ 14.703125 8.734375 18.5 7.8125 \r\nQ 22.3125 6.890625 25.984375 6.890625 \r\nQ 35.75 6.890625 40.890625 13.453125 \r\nQ 46.046875 20.015625 46.78125 33.40625 \r\nQ 43.953125 29.203125 39.59375 26.953125 \r\nQ 35.25 24.703125 29.984375 24.703125 \r\nQ 19.046875 24.703125 12.671875 31.3125 \r\nQ 6.296875 37.9375 6.296875 49.421875 \r\nQ 6.296875 60.640625 12.9375 67.421875 \r\nQ 19.578125 74.21875 30.609375 74.21875 \r\nQ 43.265625 74.21875 49.921875 64.515625 \r\nQ 56.59375 54.828125 56.59375 36.375 \r\nQ 56.59375 19.140625 48.40625 8.859375 \r\nQ 40.234375 -1.421875 26.421875 -1.421875 \r\nQ 22.703125 -1.421875 18.890625 -0.6875 \r\nQ 15.09375 0.046875 10.984375 1.515625 \r\nz\r\nM 30.609375 32.421875 \r\nQ 37.25 32.421875 41.125 36.953125 \r\nQ 45.015625 41.5 45.015625 49.421875 \r\nQ 45.015625 57.28125 41.125 61.84375 \r\nQ 37.25 66.40625 30.609375 66.40625 \r\nQ 23.96875 66.40625 20.09375 61.84375 \r\nQ 16.21875 57.28125 16.21875 49.421875 \r\nQ 16.21875 41.5 20.09375 36.953125 \r\nQ 23.96875 32.421875 30.609375 32.421875 \r\nz\r\n\" id=\"DejaVuSans-57\"/>\r\n      </defs>\r\n      <g transform=\"translate(357.003693 239.238437)scale(0.1 -0.1)\">\r\n       <use xlink:href=\"#DejaVuSans-57\"/>\r\n      </g>\r\n     </g>\r\n    </g>\r\n    <g id=\"text_10\">\r\n     <!-- number of clusters, k -->\r\n     <defs>\r\n      <path d=\"M 54.890625 33.015625 \r\nL 54.890625 0 \r\nL 45.90625 0 \r\nL 45.90625 32.71875 \r\nQ 45.90625 40.484375 42.875 44.328125 \r\nQ 39.84375 48.1875 33.796875 48.1875 \r\nQ 26.515625 48.1875 22.3125 43.546875 \r\nQ 18.109375 38.921875 18.109375 30.90625 \r\nL 18.109375 0 \r\nL 9.078125 0 \r\nL 9.078125 54.6875 \r\nL 18.109375 54.6875 \r\nL 18.109375 46.1875 \r\nQ 21.34375 51.125 25.703125 53.5625 \r\nQ 30.078125 56 35.796875 56 \r\nQ 45.21875 56 50.046875 50.171875 \r\nQ 54.890625 44.34375 54.890625 33.015625 \r\nz\r\n\" id=\"DejaVuSans-110\"/>\r\n      <path d=\"M 8.5 21.578125 \r\nL 8.5 54.6875 \r\nL 17.484375 54.6875 \r\nL 17.484375 21.921875 \r\nQ 17.484375 14.15625 20.5 10.265625 \r\nQ 23.53125 6.390625 29.59375 6.390625 \r\nQ 36.859375 6.390625 41.078125 11.03125 \r\nQ 45.3125 15.671875 45.3125 23.6875 \r\nL 45.3125 54.6875 \r\nL 54.296875 54.6875 \r\nL 54.296875 0 \r\nL 45.3125 0 \r\nL 45.3125 8.40625 \r\nQ 42.046875 3.421875 37.71875 1 \r\nQ 33.40625 -1.421875 27.6875 -1.421875 \r\nQ 18.265625 -1.421875 13.375 4.4375 \r\nQ 8.5 10.296875 8.5 21.578125 \r\nz\r\nM 31.109375 56 \r\nz\r\n\" id=\"DejaVuSans-117\"/>\r\n      <path d=\"M 52 44.1875 \r\nQ 55.375 50.25 60.0625 53.125 \r\nQ 64.75 56 71.09375 56 \r\nQ 79.640625 56 84.28125 50.015625 \r\nQ 88.921875 44.046875 88.921875 33.015625 \r\nL 88.921875 0 \r\nL 79.890625 0 \r\nL 79.890625 32.71875 \r\nQ 79.890625 40.578125 77.09375 44.375 \r\nQ 74.3125 48.1875 68.609375 48.1875 \r\nQ 61.625 48.1875 57.5625 43.546875 \r\nQ 53.515625 38.921875 53.515625 30.90625 \r\nL 53.515625 0 \r\nL 44.484375 0 \r\nL 44.484375 32.71875 \r\nQ 44.484375 40.625 41.703125 44.40625 \r\nQ 38.921875 48.1875 33.109375 48.1875 \r\nQ 26.21875 48.1875 22.15625 43.53125 \r\nQ 18.109375 38.875 18.109375 30.90625 \r\nL 18.109375 0 \r\nL 9.078125 0 \r\nL 9.078125 54.6875 \r\nL 18.109375 54.6875 \r\nL 18.109375 46.1875 \r\nQ 21.1875 51.21875 25.484375 53.609375 \r\nQ 29.78125 56 35.6875 56 \r\nQ 41.65625 56 45.828125 52.96875 \r\nQ 50 49.953125 52 44.1875 \r\nz\r\n\" id=\"DejaVuSans-109\"/>\r\n      <path d=\"M 48.6875 27.296875 \r\nQ 48.6875 37.203125 44.609375 42.84375 \r\nQ 40.53125 48.484375 33.40625 48.484375 \r\nQ 26.265625 48.484375 22.1875 42.84375 \r\nQ 18.109375 37.203125 18.109375 27.296875 \r\nQ 18.109375 17.390625 22.1875 11.75 \r\nQ 26.265625 6.109375 33.40625 6.109375 \r\nQ 40.53125 6.109375 44.609375 11.75 \r\nQ 48.6875 17.390625 48.6875 27.296875 \r\nz\r\nM 18.109375 46.390625 \r\nQ 20.953125 51.265625 25.265625 53.625 \r\nQ 29.59375 56 35.59375 56 \r\nQ 45.5625 56 51.78125 48.09375 \r\nQ 58.015625 40.1875 58.015625 27.296875 \r\nQ 58.015625 14.40625 51.78125 6.484375 \r\nQ 45.5625 -1.421875 35.59375 -1.421875 \r\nQ 29.59375 -1.421875 25.265625 0.953125 \r\nQ 20.953125 3.328125 18.109375 8.203125 \r\nL 18.109375 0 \r\nL 9.078125 0 \r\nL 9.078125 75.984375 \r\nL 18.109375 75.984375 \r\nz\r\n\" id=\"DejaVuSans-98\"/>\r\n      <path d=\"M 56.203125 29.59375 \r\nL 56.203125 25.203125 \r\nL 14.890625 25.203125 \r\nQ 15.484375 15.921875 20.484375 11.0625 \r\nQ 25.484375 6.203125 34.421875 6.203125 \r\nQ 39.59375 6.203125 44.453125 7.46875 \r\nQ 49.3125 8.734375 54.109375 11.28125 \r\nL 54.109375 2.78125 \r\nQ 49.265625 0.734375 44.1875 -0.34375 \r\nQ 39.109375 -1.421875 33.890625 -1.421875 \r\nQ 20.796875 -1.421875 13.15625 6.1875 \r\nQ 5.515625 13.8125 5.515625 26.8125 \r\nQ 5.515625 40.234375 12.765625 48.109375 \r\nQ 20.015625 56 32.328125 56 \r\nQ 43.359375 56 49.78125 48.890625 \r\nQ 56.203125 41.796875 56.203125 29.59375 \r\nz\r\nM 47.21875 32.234375 \r\nQ 47.125 39.59375 43.09375 43.984375 \r\nQ 39.0625 48.390625 32.421875 48.390625 \r\nQ 24.90625 48.390625 20.390625 44.140625 \r\nQ 15.875 39.890625 15.1875 32.171875 \r\nz\r\n\" id=\"DejaVuSans-101\"/>\r\n      <path d=\"M 41.109375 46.296875 \r\nQ 39.59375 47.171875 37.8125 47.578125 \r\nQ 36.03125 48 33.890625 48 \r\nQ 26.265625 48 22.1875 43.046875 \r\nQ 18.109375 38.09375 18.109375 28.8125 \r\nL 18.109375 0 \r\nL 9.078125 0 \r\nL 9.078125 54.6875 \r\nL 18.109375 54.6875 \r\nL 18.109375 46.1875 \r\nQ 20.953125 51.171875 25.484375 53.578125 \r\nQ 30.03125 56 36.53125 56 \r\nQ 37.453125 56 38.578125 55.875 \r\nQ 39.703125 55.765625 41.0625 55.515625 \r\nz\r\n\" id=\"DejaVuSans-114\"/>\r\n      <path id=\"DejaVuSans-32\"/>\r\n      <path d=\"M 30.609375 48.390625 \r\nQ 23.390625 48.390625 19.1875 42.75 \r\nQ 14.984375 37.109375 14.984375 27.296875 \r\nQ 14.984375 17.484375 19.15625 11.84375 \r\nQ 23.34375 6.203125 30.609375 6.203125 \r\nQ 37.796875 6.203125 41.984375 11.859375 \r\nQ 46.1875 17.53125 46.1875 27.296875 \r\nQ 46.1875 37.015625 41.984375 42.703125 \r\nQ 37.796875 48.390625 30.609375 48.390625 \r\nz\r\nM 30.609375 56 \r\nQ 42.328125 56 49.015625 48.375 \r\nQ 55.71875 40.765625 55.71875 27.296875 \r\nQ 55.71875 13.875 49.015625 6.21875 \r\nQ 42.328125 -1.421875 30.609375 -1.421875 \r\nQ 18.84375 -1.421875 12.171875 6.21875 \r\nQ 5.515625 13.875 5.515625 27.296875 \r\nQ 5.515625 40.765625 12.171875 48.375 \r\nQ 18.84375 56 30.609375 56 \r\nz\r\n\" id=\"DejaVuSans-111\"/>\r\n      <path d=\"M 37.109375 75.984375 \r\nL 37.109375 68.5 \r\nL 28.515625 68.5 \r\nQ 23.6875 68.5 21.796875 66.546875 \r\nQ 19.921875 64.59375 19.921875 59.515625 \r\nL 19.921875 54.6875 \r\nL 34.71875 54.6875 \r\nL 34.71875 47.703125 \r\nL 19.921875 47.703125 \r\nL 19.921875 0 \r\nL 10.890625 0 \r\nL 10.890625 47.703125 \r\nL 2.296875 47.703125 \r\nL 2.296875 54.6875 \r\nL 10.890625 54.6875 \r\nL 10.890625 58.5 \r\nQ 10.890625 67.625 15.140625 71.796875 \r\nQ 19.390625 75.984375 28.609375 75.984375 \r\nz\r\n\" id=\"DejaVuSans-102\"/>\r\n      <path d=\"M 48.78125 52.59375 \r\nL 48.78125 44.1875 \r\nQ 44.96875 46.296875 41.140625 47.34375 \r\nQ 37.3125 48.390625 33.40625 48.390625 \r\nQ 24.65625 48.390625 19.8125 42.84375 \r\nQ 14.984375 37.3125 14.984375 27.296875 \r\nQ 14.984375 17.28125 19.8125 11.734375 \r\nQ 24.65625 6.203125 33.40625 6.203125 \r\nQ 37.3125 6.203125 41.140625 7.25 \r\nQ 44.96875 8.296875 48.78125 10.40625 \r\nL 48.78125 2.09375 \r\nQ 45.015625 0.34375 40.984375 -0.53125 \r\nQ 36.96875 -1.421875 32.421875 -1.421875 \r\nQ 20.0625 -1.421875 12.78125 6.34375 \r\nQ 5.515625 14.109375 5.515625 27.296875 \r\nQ 5.515625 40.671875 12.859375 48.328125 \r\nQ 20.21875 56 33.015625 56 \r\nQ 37.15625 56 41.109375 55.140625 \r\nQ 45.0625 54.296875 48.78125 52.59375 \r\nz\r\n\" id=\"DejaVuSans-99\"/>\r\n      <path d=\"M 9.421875 75.984375 \r\nL 18.40625 75.984375 \r\nL 18.40625 0 \r\nL 9.421875 0 \r\nz\r\n\" id=\"DejaVuSans-108\"/>\r\n      <path d=\"M 44.28125 53.078125 \r\nL 44.28125 44.578125 \r\nQ 40.484375 46.53125 36.375 47.5 \r\nQ 32.28125 48.484375 27.875 48.484375 \r\nQ 21.1875 48.484375 17.84375 46.4375 \r\nQ 14.5 44.390625 14.5 40.28125 \r\nQ 14.5 37.15625 16.890625 35.375 \r\nQ 19.28125 33.59375 26.515625 31.984375 \r\nL 29.59375 31.296875 \r\nQ 39.15625 29.25 43.1875 25.515625 \r\nQ 47.21875 21.78125 47.21875 15.09375 \r\nQ 47.21875 7.46875 41.1875 3.015625 \r\nQ 35.15625 -1.421875 24.609375 -1.421875 \r\nQ 20.21875 -1.421875 15.453125 -0.5625 \r\nQ 10.6875 0.296875 5.421875 2 \r\nL 5.421875 11.28125 \r\nQ 10.40625 8.6875 15.234375 7.390625 \r\nQ 20.0625 6.109375 24.8125 6.109375 \r\nQ 31.15625 6.109375 34.5625 8.28125 \r\nQ 37.984375 10.453125 37.984375 14.40625 \r\nQ 37.984375 18.0625 35.515625 20.015625 \r\nQ 33.0625 21.96875 24.703125 23.78125 \r\nL 21.578125 24.515625 \r\nQ 13.234375 26.265625 9.515625 29.90625 \r\nQ 5.8125 33.546875 5.8125 39.890625 \r\nQ 5.8125 47.609375 11.28125 51.796875 \r\nQ 16.75 56 26.8125 56 \r\nQ 31.78125 56 36.171875 55.265625 \r\nQ 40.578125 54.546875 44.28125 53.078125 \r\nz\r\n\" id=\"DejaVuSans-115\"/>\r\n      <path d=\"M 18.3125 70.21875 \r\nL 18.3125 54.6875 \r\nL 36.8125 54.6875 \r\nL 36.8125 47.703125 \r\nL 18.3125 47.703125 \r\nL 18.3125 18.015625 \r\nQ 18.3125 11.328125 20.140625 9.421875 \r\nQ 21.96875 7.515625 27.59375 7.515625 \r\nL 36.8125 7.515625 \r\nL 36.8125 0 \r\nL 27.59375 0 \r\nQ 17.1875 0 13.234375 3.875 \r\nQ 9.28125 7.765625 9.28125 18.015625 \r\nL 9.28125 47.703125 \r\nL 2.6875 47.703125 \r\nL 2.6875 54.6875 \r\nL 9.28125 54.6875 \r\nL 9.28125 70.21875 \r\nz\r\n\" id=\"DejaVuSans-116\"/>\r\n      <path d=\"M 11.71875 12.40625 \r\nL 22.015625 12.40625 \r\nL 22.015625 4 \r\nL 14.015625 -11.625 \r\nL 7.71875 -11.625 \r\nL 11.71875 4 \r\nz\r\n\" id=\"DejaVuSans-44\"/>\r\n      <path d=\"M 9.078125 75.984375 \r\nL 18.109375 75.984375 \r\nL 18.109375 31.109375 \r\nL 44.921875 54.6875 \r\nL 56.390625 54.6875 \r\nL 27.390625 29.109375 \r\nL 57.625 0 \r\nL 45.90625 0 \r\nL 18.109375 26.703125 \r\nL 18.109375 0 \r\nL 9.078125 0 \r\nz\r\n\" id=\"DejaVuSans-107\"/>\r\n     </defs>\r\n     <g transform=\"translate(154.809375 252.916562)scale(0.1 -0.1)\">\r\n      <use xlink:href=\"#DejaVuSans-110\"/>\r\n      <use x=\"63.378906\" xlink:href=\"#DejaVuSans-117\"/>\r\n      <use x=\"126.757812\" xlink:href=\"#DejaVuSans-109\"/>\r\n      <use x=\"224.169922\" xlink:href=\"#DejaVuSans-98\"/>\r\n      <use x=\"287.646484\" xlink:href=\"#DejaVuSans-101\"/>\r\n      <use x=\"349.169922\" xlink:href=\"#DejaVuSans-114\"/>\r\n      <use x=\"390.283203\" xlink:href=\"#DejaVuSans-32\"/>\r\n      <use x=\"422.070312\" xlink:href=\"#DejaVuSans-111\"/>\r\n      <use x=\"483.251953\" xlink:href=\"#DejaVuSans-102\"/>\r\n      <use x=\"518.457031\" xlink:href=\"#DejaVuSans-32\"/>\r\n      <use x=\"550.244141\" xlink:href=\"#DejaVuSans-99\"/>\r\n      <use x=\"605.224609\" xlink:href=\"#DejaVuSans-108\"/>\r\n      <use x=\"633.007812\" xlink:href=\"#DejaVuSans-117\"/>\r\n      <use x=\"696.386719\" xlink:href=\"#DejaVuSans-115\"/>\r\n      <use x=\"748.486328\" xlink:href=\"#DejaVuSans-116\"/>\r\n      <use x=\"787.695312\" xlink:href=\"#DejaVuSans-101\"/>\r\n      <use x=\"849.21875\" xlink:href=\"#DejaVuSans-114\"/>\r\n      <use x=\"890.332031\" xlink:href=\"#DejaVuSans-115\"/>\r\n      <use x=\"942.431641\" xlink:href=\"#DejaVuSans-44\"/>\r\n      <use x=\"974.21875\" xlink:href=\"#DejaVuSans-32\"/>\r\n      <use x=\"1006.005859\" xlink:href=\"#DejaVuSans-107\"/>\r\n     </g>\r\n    </g>\r\n   </g>\r\n   <g id=\"matplotlib.axis_2\">\r\n    <g id=\"ytick_1\">\r\n     <g id=\"line2d_10\">\r\n      <defs>\r\n       <path d=\"M 0 0 \r\nL -3.5 0 \r\n\" id=\"m17b941879d\" style=\"stroke:#000000;stroke-width:0.8;\"/>\r\n      </defs>\r\n      <g>\r\n       <use style=\"stroke:#000000;stroke-width:0.8;\" x=\"40.603125\" xlink:href=\"#m17b941879d\" y=\"219.348954\"/>\r\n      </g>\r\n     </g>\r\n     <g id=\"text_11\">\r\n      <!-- 0 -->\r\n      <defs>\r\n       <path d=\"M 31.78125 66.40625 \r\nQ 24.171875 66.40625 20.328125 58.90625 \r\nQ 16.5 51.421875 16.5 36.375 \r\nQ 16.5 21.390625 20.328125 13.890625 \r\nQ 24.171875 6.390625 31.78125 6.390625 \r\nQ 39.453125 6.390625 43.28125 13.890625 \r\nQ 47.125 21.390625 47.125 36.375 \r\nQ 47.125 51.421875 43.28125 58.90625 \r\nQ 39.453125 66.40625 31.78125 66.40625 \r\nz\r\nM 31.78125 74.21875 \r\nQ 44.046875 74.21875 50.515625 64.515625 \r\nQ 56.984375 54.828125 56.984375 36.375 \r\nQ 56.984375 17.96875 50.515625 8.265625 \r\nQ 44.046875 -1.421875 31.78125 -1.421875 \r\nQ 19.53125 -1.421875 13.0625 8.265625 \r\nQ 6.59375 17.96875 6.59375 36.375 \r\nQ 6.59375 54.828125 13.0625 64.515625 \r\nQ 19.53125 74.21875 31.78125 74.21875 \r\nz\r\n\" id=\"DejaVuSans-48\"/>\r\n      </defs>\r\n      <g transform=\"translate(27.240625 223.148173)scale(0.1 -0.1)\">\r\n       <use xlink:href=\"#DejaVuSans-48\"/>\r\n      </g>\r\n     </g>\r\n    </g>\r\n    <g id=\"ytick_2\">\r\n     <g id=\"line2d_11\">\r\n      <g>\r\n       <use style=\"stroke:#000000;stroke-width:0.8;\" x=\"40.603125\" xlink:href=\"#m17b941879d\" y=\"179.817451\"/>\r\n      </g>\r\n     </g>\r\n     <g id=\"text_12\">\r\n      <!-- 2 -->\r\n      <g transform=\"translate(27.240625 183.61667)scale(0.1 -0.1)\">\r\n       <use xlink:href=\"#DejaVuSans-50\"/>\r\n      </g>\r\n     </g>\r\n    </g>\r\n    <g id=\"ytick_3\">\r\n     <g id=\"line2d_12\">\r\n      <g>\r\n       <use style=\"stroke:#000000;stroke-width:0.8;\" x=\"40.603125\" xlink:href=\"#m17b941879d\" y=\"140.285948\"/>\r\n      </g>\r\n     </g>\r\n     <g id=\"text_13\">\r\n      <!-- 4 -->\r\n      <g transform=\"translate(27.240625 144.085166)scale(0.1 -0.1)\">\r\n       <use xlink:href=\"#DejaVuSans-52\"/>\r\n      </g>\r\n     </g>\r\n    </g>\r\n    <g id=\"ytick_4\">\r\n     <g id=\"line2d_13\">\r\n      <g>\r\n       <use style=\"stroke:#000000;stroke-width:0.8;\" x=\"40.603125\" xlink:href=\"#m17b941879d\" y=\"100.754444\"/>\r\n      </g>\r\n     </g>\r\n     <g id=\"text_14\">\r\n      <!-- 6 -->\r\n      <g transform=\"translate(27.240625 104.553663)scale(0.1 -0.1)\">\r\n       <use xlink:href=\"#DejaVuSans-54\"/>\r\n      </g>\r\n     </g>\r\n    </g>\r\n    <g id=\"ytick_5\">\r\n     <g id=\"line2d_14\">\r\n      <g>\r\n       <use style=\"stroke:#000000;stroke-width:0.8;\" x=\"40.603125\" xlink:href=\"#m17b941879d\" y=\"61.222941\"/>\r\n      </g>\r\n     </g>\r\n     <g id=\"text_15\">\r\n      <!-- 8 -->\r\n      <g transform=\"translate(27.240625 65.02216)scale(0.1 -0.1)\">\r\n       <use xlink:href=\"#DejaVuSans-56\"/>\r\n      </g>\r\n     </g>\r\n    </g>\r\n    <g id=\"ytick_6\">\r\n     <g id=\"line2d_15\">\r\n      <g>\r\n       <use style=\"stroke:#000000;stroke-width:0.8;\" x=\"40.603125\" xlink:href=\"#m17b941879d\" y=\"21.691438\"/>\r\n      </g>\r\n     </g>\r\n     <g id=\"text_16\">\r\n      <!-- 10 -->\r\n      <g transform=\"translate(20.878125 25.490657)scale(0.1 -0.1)\">\r\n       <use xlink:href=\"#DejaVuSans-49\"/>\r\n       <use x=\"63.623047\" xlink:href=\"#DejaVuSans-48\"/>\r\n      </g>\r\n     </g>\r\n    </g>\r\n    <g id=\"text_17\">\r\n     <!-- inertia -->\r\n     <defs>\r\n      <path d=\"M 9.421875 54.6875 \r\nL 18.40625 54.6875 \r\nL 18.40625 0 \r\nL 9.421875 0 \r\nz\r\nM 9.421875 75.984375 \r\nL 18.40625 75.984375 \r\nL 18.40625 64.59375 \r\nL 9.421875 64.59375 \r\nz\r\n\" id=\"DejaVuSans-105\"/>\r\n      <path d=\"M 34.28125 27.484375 \r\nQ 23.390625 27.484375 19.1875 25 \r\nQ 14.984375 22.515625 14.984375 16.5 \r\nQ 14.984375 11.71875 18.140625 8.90625 \r\nQ 21.296875 6.109375 26.703125 6.109375 \r\nQ 34.1875 6.109375 38.703125 11.40625 \r\nQ 43.21875 16.703125 43.21875 25.484375 \r\nL 43.21875 27.484375 \r\nz\r\nM 52.203125 31.203125 \r\nL 52.203125 0 \r\nL 43.21875 0 \r\nL 43.21875 8.296875 \r\nQ 40.140625 3.328125 35.546875 0.953125 \r\nQ 30.953125 -1.421875 24.3125 -1.421875 \r\nQ 15.921875 -1.421875 10.953125 3.296875 \r\nQ 6 8.015625 6 15.921875 \r\nQ 6 25.140625 12.171875 29.828125 \r\nQ 18.359375 34.515625 30.609375 34.515625 \r\nL 43.21875 34.515625 \r\nL 43.21875 35.40625 \r\nQ 43.21875 41.609375 39.140625 45 \r\nQ 35.0625 48.390625 27.6875 48.390625 \r\nQ 23 48.390625 18.546875 47.265625 \r\nQ 14.109375 46.140625 10.015625 43.890625 \r\nL 10.015625 52.203125 \r\nQ 14.9375 54.109375 19.578125 55.046875 \r\nQ 24.21875 56 28.609375 56 \r\nQ 40.484375 56 46.34375 49.84375 \r\nQ 52.203125 43.703125 52.203125 31.203125 \r\nz\r\n\" id=\"DejaVuSans-97\"/>\r\n     </defs>\r\n     <g transform=\"translate(14.798438 132.023125)rotate(-90)scale(0.1 -0.1)\">\r\n      <use xlink:href=\"#DejaVuSans-105\"/>\r\n      <use x=\"27.783203\" xlink:href=\"#DejaVuSans-110\"/>\r\n      <use x=\"91.162109\" xlink:href=\"#DejaVuSans-101\"/>\r\n      <use x=\"152.685547\" xlink:href=\"#DejaVuSans-114\"/>\r\n      <use x=\"193.798828\" xlink:href=\"#DejaVuSans-116\"/>\r\n      <use x=\"233.007812\" xlink:href=\"#DejaVuSans-105\"/>\r\n      <use x=\"260.791016\" xlink:href=\"#DejaVuSans-97\"/>\r\n     </g>\r\n    </g>\r\n   </g>\r\n   <g id=\"line2d_16\">\r\n    <path clip-path=\"url(#p60de93b3f4)\" d=\"M 55.821307 17.083636 \r\nL 93.866761 106.849361 \r\nL 131.912216 167.174586 \r\nL 169.95767 191.51223 \r\nL 208.003125 201.728191 \r\nL 246.04858 208.453791 \r\nL 284.094034 211.550401 \r\nL 322.139489 213.201015 \r\nL 360.184943 214.756364 \r\n\" style=\"fill:none;stroke:#000000;stroke-linecap:square;stroke-width:1.5;\"/>\r\n    <defs>\r\n     <path d=\"M 0 3 \r\nC 0.795609 3 1.55874 2.683901 2.12132 2.12132 \r\nC 2.683901 1.55874 3 0.795609 3 0 \r\nC 3 -0.795609 2.683901 -1.55874 2.12132 -2.12132 \r\nC 1.55874 -2.683901 0.795609 -3 0 -3 \r\nC -0.795609 -3 -1.55874 -2.683901 -2.12132 -2.12132 \r\nC -2.683901 -1.55874 -3 -0.795609 -3 0 \r\nC -3 0.795609 -2.683901 1.55874 -2.12132 2.12132 \r\nC -1.55874 2.683901 -0.795609 3 0 3 \r\nz\r\n\" id=\"m07e2ccf943\" style=\"stroke:#000000;\"/>\r\n    </defs>\r\n    <g clip-path=\"url(#p60de93b3f4)\">\r\n     <use style=\"stroke:#000000;\" x=\"55.821307\" xlink:href=\"#m07e2ccf943\" y=\"17.083636\"/>\r\n     <use style=\"stroke:#000000;\" x=\"93.866761\" xlink:href=\"#m07e2ccf943\" y=\"106.849361\"/>\r\n     <use style=\"stroke:#000000;\" x=\"131.912216\" xlink:href=\"#m07e2ccf943\" y=\"167.174586\"/>\r\n     <use style=\"stroke:#000000;\" x=\"169.95767\" xlink:href=\"#m07e2ccf943\" y=\"191.51223\"/>\r\n     <use style=\"stroke:#000000;\" x=\"208.003125\" xlink:href=\"#m07e2ccf943\" y=\"201.728191\"/>\r\n     <use style=\"stroke:#000000;\" x=\"246.04858\" xlink:href=\"#m07e2ccf943\" y=\"208.453791\"/>\r\n     <use style=\"stroke:#000000;\" x=\"284.094034\" xlink:href=\"#m07e2ccf943\" y=\"211.550401\"/>\r\n     <use style=\"stroke:#000000;\" x=\"322.139489\" xlink:href=\"#m07e2ccf943\" y=\"213.201015\"/>\r\n     <use style=\"stroke:#000000;\" x=\"360.184943\" xlink:href=\"#m07e2ccf943\" y=\"214.756364\"/>\r\n    </g>\r\n   </g>\r\n   <g id=\"patch_3\">\r\n    <path d=\"M 40.603125 224.64 \r\nL 40.603125 7.2 \r\n\" style=\"fill:none;stroke:#000000;stroke-linecap:square;stroke-linejoin:miter;stroke-width:0.8;\"/>\r\n   </g>\r\n   <g id=\"patch_4\">\r\n    <path d=\"M 375.403125 224.64 \r\nL 375.403125 7.2 \r\n\" style=\"fill:none;stroke:#000000;stroke-linecap:square;stroke-linejoin:miter;stroke-width:0.8;\"/>\r\n   </g>\r\n   <g id=\"patch_5\">\r\n    <path d=\"M 40.603125 224.64 \r\nL 375.403125 224.64 \r\n\" style=\"fill:none;stroke:#000000;stroke-linecap:square;stroke-linejoin:miter;stroke-width:0.8;\"/>\r\n   </g>\r\n   <g id=\"patch_6\">\r\n    <path d=\"M 40.603125 7.2 \r\nL 375.403125 7.2 \r\n\" style=\"fill:none;stroke:#000000;stroke-linecap:square;stroke-linejoin:miter;stroke-width:0.8;\"/>\r\n   </g>\r\n  </g>\r\n </g>\r\n <defs>\r\n  <clipPath id=\"p60de93b3f4\">\r\n   <rect height=\"217.44\" width=\"334.8\" x=\"40.603125\" y=\"7.2\"/>\r\n  </clipPath>\r\n </defs>\r\n</svg>\r\n",
      "image/png": "[encoded data removed]"
     },
     "metadata": {
      "needs_background": "light"
     }
    }
   ],
   "source": [
    "ks = range(1, 10)\n",
    "inertias = []\n",
    "for k in ks:\n",
    "    # Create a KMeans instance with k clusters: model\n",
    "    model = KMeans(n_clusters=k)\n",
    "    \n",
    "    # Fit model to samples\n",
    "    model.fit(df_norm)\n",
    "    \n",
    "    # Append the inertia to the list of inertias\n",
    "    inertias.append(model.inertia_)\n",
    "    \n",
    "plt.plot(ks, inertias, '-o', color='black')\n",
    "plt.xlabel('number of clusters, k')\n",
    "plt.ylabel('inertia')\n",
    "plt.xticks(ks)\n",
    "plt.show()"
   ]
  },
  {
   "cell_type": "code",
   "execution_count": 177,
   "metadata": {},
   "outputs": [],
   "source": [
    "cluster = KMeans(n_clusters=4, random_state=42).fit(df_norm)\n",
    "df_prec['Cluster'] = cluster.labels_"
   ]
  },
  {
   "cell_type": "code",
   "execution_count": 178,
   "metadata": {},
   "outputs": [
    {
     "output_type": "display_data",
     "data": {
      "application/vnd.plotly.v1+json": {
       "config": {
        "plotlyServerURL": "https://plot.ly"
       },
       "data": [
        {
         "alignmentgroup": "True",
         "hovertemplate": "Cluster=%{x}<br>Mes=%{y}<br>Local=%{marker.color}<extra></extra>",
         "legendgroup": "",
         "marker": {
          "color": [
           1,
           2,
           3,
           4,
           5,
           1,
           2,
           3,
           4,
           5,
           3,
           4,
           5,
           1,
           2,
           3,
           4,
           5
          ],
          "coloraxis": "coloraxis"
         },
         "name": "",
         "offsetgroup": "",
         "orientation": "v",
         "showlegend": false,
         "textposition": "auto",
         "type": "bar",
         "x": [
          0,
          0,
          0,
          0,
          0,
          1,
          1,
          1,
          1,
          1,
          2,
          2,
          2,
          3,
          3,
          3,
          3,
          3
         ],
         "xaxis": "x",
         "y": [
          2930,
          2906,
          2962,
          2850,
          2936,
          15,
          25,
          7,
          9,
          3,
          1,
          4,
          1,
          228,
          251,
          212,
          214,
          234
         ],
         "yaxis": "y"
        }
       ],
       "layout": {
        "barmode": "group",
        "coloraxis": {
         "colorbar": {
          "title": {
           "text": "Local"
          }
         },
         "colorscale": [
          [
           0,
           "#0d0887"
          ],
          [
           0.1111111111111111,
           "#46039f"
          ],
          [
           0.2222222222222222,
           "#7201a8"
          ],
          [
           0.3333333333333333,
           "#9c179e"
          ],
          [
           0.4444444444444444,
           "#bd3786"
          ],
          [
           0.5555555555555556,
           "#d8576b"
          ],
          [
           0.6666666666666666,
           "#ed7953"
          ],
          [
           0.7777777777777778,
           "#fb9f3a"
          ],
          [
           0.8888888888888888,
           "#fdca26"
          ],
          [
           1,
           "#f0f921"
          ]
         ]
        },
        "legend": {
         "tracegroupgap": 0
        },
        "margin": {
         "t": 60
        },
        "template": {
         "data": {
          "bar": [
           {
            "error_x": {
             "color": "#2a3f5f"
            },
            "error_y": {
             "color": "#2a3f5f"
            },
            "marker": {
             "line": {
              "color": "#E5ECF6",
              "width": 0.5
             }
            },
            "type": "bar"
           }
          ],
          "barpolar": [
           {
            "marker": {
             "line": {
              "color": "#E5ECF6",
              "width": 0.5
             }
            },
            "type": "barpolar"
           }
          ],
          "carpet": [
           {
            "aaxis": {
             "endlinecolor": "#2a3f5f",
             "gridcolor": "white",
             "linecolor": "white",
             "minorgridcolor": "white",
             "startlinecolor": "#2a3f5f"
            },
            "baxis": {
             "endlinecolor": "#2a3f5f",
             "gridcolor": "white",
             "linecolor": "white",
             "minorgridcolor": "white",
             "startlinecolor": "#2a3f5f"
            },
            "type": "carpet"
           }
          ],
          "choropleth": [
           {
            "colorbar": {
             "outlinewidth": 0,
             "ticks": ""
            },
            "type": "choropleth"
           }
          ],
          "contour": [
           {
            "colorbar": {
             "outlinewidth": 0,
             "ticks": ""
            },
            "colorscale": [
             [
              0,
              "#0d0887"
             ],
             [
              0.1111111111111111,
              "#46039f"
             ],
             [
              0.2222222222222222,
              "#7201a8"
             ],
             [
              0.3333333333333333,
              "#9c179e"
             ],
             [
              0.4444444444444444,
              "#bd3786"
             ],
             [
              0.5555555555555556,
              "#d8576b"
             ],
             [
              0.6666666666666666,
              "#ed7953"
             ],
             [
              0.7777777777777778,
              "#fb9f3a"
             ],
             [
              0.8888888888888888,
              "#fdca26"
             ],
             [
              1,
              "#f0f921"
             ]
            ],
            "type": "contour"
           }
          ],
          "contourcarpet": [
           {
            "colorbar": {
             "outlinewidth": 0,
             "ticks": ""
            },
            "type": "contourcarpet"
           }
          ],
          "heatmap": [
           {
            "colorbar": {
             "outlinewidth": 0,
             "ticks": ""
            },
            "colorscale": [
             [
              0,
              "#0d0887"
             ],
             [
              0.1111111111111111,
              "#46039f"
             ],
             [
              0.2222222222222222,
              "#7201a8"
             ],
             [
              0.3333333333333333,
              "#9c179e"
             ],
             [
              0.4444444444444444,
              "#bd3786"
             ],
             [
              0.5555555555555556,
              "#d8576b"
             ],
             [
              0.6666666666666666,
              "#ed7953"
             ],
             [
              0.7777777777777778,
              "#fb9f3a"
             ],
             [
              0.8888888888888888,
              "#fdca26"
             ],
             [
              1,
              "#f0f921"
             ]
            ],
            "type": "heatmap"
           }
          ],
          "heatmapgl": [
           {
            "colorbar": {
             "outlinewidth": 0,
             "ticks": ""
            },
            "colorscale": [
             [
              0,
              "#0d0887"
             ],
             [
              0.1111111111111111,
              "#46039f"
             ],
             [
              0.2222222222222222,
              "#7201a8"
             ],
             [
              0.3333333333333333,
              "#9c179e"
             ],
             [
              0.4444444444444444,
              "#bd3786"
             ],
             [
              0.5555555555555556,
              "#d8576b"
             ],
             [
              0.6666666666666666,
              "#ed7953"
             ],
             [
              0.7777777777777778,
              "#fb9f3a"
             ],
             [
              0.8888888888888888,
              "#fdca26"
             ],
             [
              1,
              "#f0f921"
             ]
            ],
            "type": "heatmapgl"
           }
          ],
          "histogram": [
           {
            "marker": {
             "colorbar": {
              "outlinewidth": 0,
              "ticks": ""
             }
            },
            "type": "histogram"
           }
          ],
          "histogram2d": [
           {
            "colorbar": {
             "outlinewidth": 0,
             "ticks": ""
            },
            "colorscale": [
             [
              0,
              "#0d0887"
             ],
             [
              0.1111111111111111,
              "#46039f"
             ],
             [
              0.2222222222222222,
              "#7201a8"
             ],
             [
              0.3333333333333333,
              "#9c179e"
             ],
             [
              0.4444444444444444,
              "#bd3786"
             ],
             [
              0.5555555555555556,
              "#d8576b"
             ],
             [
              0.6666666666666666,
              "#ed7953"
             ],
             [
              0.7777777777777778,
              "#fb9f3a"
             ],
             [
              0.8888888888888888,
              "#fdca26"
             ],
             [
              1,
              "#f0f921"
             ]
            ],
            "type": "histogram2d"
           }
          ],
          "histogram2dcontour": [
           {
            "colorbar": {
             "outlinewidth": 0,
             "ticks": ""
            },
            "colorscale": [
             [
              0,
              "#0d0887"
             ],
             [
              0.1111111111111111,
              "#46039f"
             ],
             [
              0.2222222222222222,
              "#7201a8"
             ],
             [
              0.3333333333333333,
              "#9c179e"
             ],
             [
              0.4444444444444444,
              "#bd3786"
             ],
             [
              0.5555555555555556,
              "#d8576b"
             ],
             [
              0.6666666666666666,
              "#ed7953"
             ],
             [
              0.7777777777777778,
              "#fb9f3a"
             ],
             [
              0.8888888888888888,
              "#fdca26"
             ],
             [
              1,
              "#f0f921"
             ]
            ],
            "type": "histogram2dcontour"
           }
          ],
          "mesh3d": [
           {
            "colorbar": {
             "outlinewidth": 0,
             "ticks": ""
            },
            "type": "mesh3d"
           }
          ],
          "parcoords": [
           {
            "line": {
             "colorbar": {
              "outlinewidth": 0,
              "ticks": ""
             }
            },
            "type": "parcoords"
           }
          ],
          "pie": [
           {
            "automargin": true,
            "type": "pie"
           }
          ],
          "scatter": [
           {
            "marker": {
             "colorbar": {
              "outlinewidth": 0,
              "ticks": ""
             }
            },
            "type": "scatter"
           }
          ],
          "scatter3d": [
           {
            "line": {
             "colorbar": {
              "outlinewidth": 0,
              "ticks": ""
             }
            },
            "marker": {
             "colorbar": {
              "outlinewidth": 0,
              "ticks": ""
             }
            },
            "type": "scatter3d"
           }
          ],
          "scattercarpet": [
           {
            "marker": {
             "colorbar": {
              "outlinewidth": 0,
              "ticks": ""
             }
            },
            "type": "scattercarpet"
           }
          ],
          "scattergeo": [
           {
            "marker": {
             "colorbar": {
              "outlinewidth": 0,
              "ticks": ""
             }
            },
            "type": "scattergeo"
           }
          ],
          "scattergl": [
           {
            "marker": {
             "colorbar": {
              "outlinewidth": 0,
              "ticks": ""
             }
            },
            "type": "scattergl"
           }
          ],
          "scattermapbox": [
           {
            "marker": {
             "colorbar": {
              "outlinewidth": 0,
              "ticks": ""
             }
            },
            "type": "scattermapbox"
           }
          ],
          "scatterpolar": [
           {
            "marker": {
             "colorbar": {
              "outlinewidth": 0,
              "ticks": ""
             }
            },
            "type": "scatterpolar"
           }
          ],
          "scatterpolargl": [
           {
            "marker": {
             "colorbar": {
              "outlinewidth": 0,
              "ticks": ""
             }
            },
            "type": "scatterpolargl"
           }
          ],
          "scatterternary": [
           {
            "marker": {
             "colorbar": {
              "outlinewidth": 0,
              "ticks": ""
             }
            },
            "type": "scatterternary"
           }
          ],
          "surface": [
           {
            "colorbar": {
             "outlinewidth": 0,
             "ticks": ""
            },
            "colorscale": [
             [
              0,
              "#0d0887"
             ],
             [
              0.1111111111111111,
              "#46039f"
             ],
             [
              0.2222222222222222,
              "#7201a8"
             ],
             [
              0.3333333333333333,
              "#9c179e"
             ],
             [
              0.4444444444444444,
              "#bd3786"
             ],
             [
              0.5555555555555556,
              "#d8576b"
             ],
             [
              0.6666666666666666,
              "#ed7953"
             ],
             [
              0.7777777777777778,
              "#fb9f3a"
             ],
             [
              0.8888888888888888,
              "#fdca26"
             ],
             [
              1,
              "#f0f921"
             ]
            ],
            "type": "surface"
           }
          ],
          "table": [
           {
            "cells": {
             "fill": {
              "color": "#EBF0F8"
             },
             "line": {
              "color": "white"
             }
            },
            "header": {
             "fill": {
              "color": "#C8D4E3"
             },
             "line": {
              "color": "white"
             }
            },
            "type": "table"
           }
          ]
         },
         "layout": {
          "annotationdefaults": {
           "arrowcolor": "#2a3f5f",
           "arrowhead": 0,
           "arrowwidth": 1
          },
          "coloraxis": {
           "colorbar": {
            "outlinewidth": 0,
            "ticks": ""
           }
          },
          "colorscale": {
           "diverging": [
            [
             0,
             "#8e0152"
            ],
            [
             0.1,
             "#c51b7d"
            ],
            [
             0.2,
             "#de77ae"
            ],
            [
             0.3,
             "#f1b6da"
            ],
            [
             0.4,
             "#fde0ef"
            ],
            [
             0.5,
             "#f7f7f7"
            ],
            [
             0.6,
             "#e6f5d0"
            ],
            [
             0.7,
             "#b8e186"
            ],
            [
             0.8,
             "#7fbc41"
            ],
            [
             0.9,
             "#4d9221"
            ],
            [
             1,
             "#276419"
            ]
           ],
           "sequential": [
            [
             0,
             "#0d0887"
            ],
            [
             0.1111111111111111,
             "#46039f"
            ],
            [
             0.2222222222222222,
             "#7201a8"
            ],
            [
             0.3333333333333333,
             "#9c179e"
            ],
            [
             0.4444444444444444,
             "#bd3786"
            ],
            [
             0.5555555555555556,
             "#d8576b"
            ],
            [
             0.6666666666666666,
             "#ed7953"
            ],
            [
             0.7777777777777778,
             "#fb9f3a"
            ],
            [
             0.8888888888888888,
             "#fdca26"
            ],
            [
             1,
             "#f0f921"
            ]
           ],
           "sequentialminus": [
            [
             0,
             "#0d0887"
            ],
            [
             0.1111111111111111,
             "#46039f"
            ],
            [
             0.2222222222222222,
             "#7201a8"
            ],
            [
             0.3333333333333333,
             "#9c179e"
            ],
            [
             0.4444444444444444,
             "#bd3786"
            ],
            [
             0.5555555555555556,
             "#d8576b"
            ],
            [
             0.6666666666666666,
             "#ed7953"
            ],
            [
             0.7777777777777778,
             "#fb9f3a"
            ],
            [
             0.8888888888888888,
             "#fdca26"
            ],
            [
             1,
             "#f0f921"
            ]
           ]
          },
          "colorway": [
           "#636efa",
           "#EF553B",
           "#00cc96",
           "#ab63fa",
           "#FFA15A",
           "#19d3f3",
           "#FF6692",
           "#B6E880",
           "#FF97FF",
           "#FECB52"
          ],
          "font": {
           "color": "#2a3f5f"
          },
          "geo": {
           "bgcolor": "white",
           "lakecolor": "white",
           "landcolor": "#E5ECF6",
           "showlakes": true,
           "showland": true,
           "subunitcolor": "white"
          },
          "hoverlabel": {
           "align": "left"
          },
          "hovermode": "closest",
          "mapbox": {
           "style": "light"
          },
          "paper_bgcolor": "white",
          "plot_bgcolor": "#E5ECF6",
          "polar": {
           "angularaxis": {
            "gridcolor": "white",
            "linecolor": "white",
            "ticks": ""
           },
           "bgcolor": "#E5ECF6",
           "radialaxis": {
            "gridcolor": "white",
            "linecolor": "white",
            "ticks": ""
           }
          },
          "scene": {
           "xaxis": {
            "backgroundcolor": "#E5ECF6",
            "gridcolor": "white",
            "gridwidth": 2,
            "linecolor": "white",
            "showbackground": true,
            "ticks": "",
            "zerolinecolor": "white"
           },
           "yaxis": {
            "backgroundcolor": "#E5ECF6",
            "gridcolor": "white",
            "gridwidth": 2,
            "linecolor": "white",
            "showbackground": true,
            "ticks": "",
            "zerolinecolor": "white"
           },
           "zaxis": {
            "backgroundcolor": "#E5ECF6",
            "gridcolor": "white",
            "gridwidth": 2,
            "linecolor": "white",
            "showbackground": true,
            "ticks": "",
            "zerolinecolor": "white"
           }
          },
          "shapedefaults": {
           "line": {
            "color": "#2a3f5f"
           }
          },
          "ternary": {
           "aaxis": {
            "gridcolor": "white",
            "linecolor": "white",
            "ticks": ""
           },
           "baxis": {
            "gridcolor": "white",
            "linecolor": "white",
            "ticks": ""
           },
           "bgcolor": "#E5ECF6",
           "caxis": {
            "gridcolor": "white",
            "linecolor": "white",
            "ticks": ""
           }
          },
          "title": {
           "x": 0.05
          },
          "xaxis": {
           "automargin": true,
           "gridcolor": "white",
           "linecolor": "white",
           "ticks": "",
           "title": {
            "standoff": 15
           },
           "zerolinecolor": "white",
           "zerolinewidth": 2
          },
          "yaxis": {
           "automargin": true,
           "gridcolor": "white",
           "linecolor": "white",
           "ticks": "",
           "title": {
            "standoff": 15
           },
           "zerolinecolor": "white",
           "zerolinewidth": 2
          }
         }
        },
        "xaxis": {
         "anchor": "y",
         "domain": [
          0,
          1
         ],
         "title": {
          "text": "Cluster"
         }
        },
        "yaxis": {
         "anchor": "x",
         "domain": [
          0,
          1
         ],
         "title": {
          "text": "Mes"
         }
        }
       }
      }
     },
     "metadata": {}
    }
   ],
   "source": [
    "fig = px.bar(df_prec.groupby(['Cluster', 'Local'])[['Mes']].count().reset_index(),\n",
    "             x=\"Cluster\", y=\"Mes\", color=\"Local\", barmode=\"group\")\n",
    "fig.show()"
   ]
  },
  {
   "cell_type": "code",
   "execution_count": 182,
   "metadata": {},
   "outputs": [
    {
     "output_type": "execute_result",
     "data": {
      "text/plain": "         Local   Ano  Mes  Dia  UmidadeRelativa  PressaoAtmosferica  \\\nCluster                                                               \n0            1  2011    1    1         0.000000            0.000000   \n1            1  2011    1    1         5.355248           96.190156   \n2            3  2013    9    1         2.590625            0.000000   \n3            1  2011    1    1         0.000000            0.000000   \n\n         TemperaturaDoAr  TemperaturaInterna  PontoDeOrvalho  RadiacaoSolar  \\\nCluster                                                                       \n0               0.000000            0.000000        0.000000     -12.969719   \n1               2.666105            2.977190        1.507663       0.000000   \n2               0.535417            0.629167        0.441667       0.000000   \n3               0.000000            0.000000        0.000000      -1.218240   \n\n         DirecaoDoVento  VelocidadeDoVento  Precipitacao  \nCluster                                                   \n0              0.000000             0.0000           0.0  \n1             24.024391             0.1125         305.6  \n2              0.000000             0.0000        1299.6  \n3              0.000000             0.0000          60.8  ",
      "text/html": "<div>\n<style scoped>\n    .dataframe tbody tr th:only-of-type {\n        vertical-align: middle;\n    }\n\n    .dataframe tbody tr th {\n        vertical-align: top;\n    }\n\n    .dataframe thead th {\n        text-align: right;\n    }\n</style>\n<table border=\"1\" class=\"dataframe\">\n  <thead>\n    <tr style=\"text-align: right;\">\n      <th></th>\n      <th>Local</th>\n      <th>Ano</th>\n      <th>Mes</th>\n      <th>Dia</th>\n      <th>UmidadeRelativa</th>\n      <th>PressaoAtmosferica</th>\n      <th>TemperaturaDoAr</th>\n      <th>TemperaturaInterna</th>\n      <th>PontoDeOrvalho</th>\n      <th>RadiacaoSolar</th>\n      <th>DirecaoDoVento</th>\n      <th>VelocidadeDoVento</th>\n      <th>Precipitacao</th>\n    </tr>\n    <tr>\n      <th>Cluster</th>\n      <th></th>\n      <th></th>\n      <th></th>\n      <th></th>\n      <th></th>\n      <th></th>\n      <th></th>\n      <th></th>\n      <th></th>\n      <th></th>\n      <th></th>\n      <th></th>\n      <th></th>\n    </tr>\n  </thead>\n  <tbody>\n    <tr>\n      <th>0</th>\n      <td>1</td>\n      <td>2011</td>\n      <td>1</td>\n      <td>1</td>\n      <td>0.000000</td>\n      <td>0.000000</td>\n      <td>0.000000</td>\n      <td>0.000000</td>\n      <td>0.000000</td>\n      <td>-12.969719</td>\n      <td>0.000000</td>\n      <td>0.0000</td>\n      <td>0.0</td>\n    </tr>\n    <tr>\n      <th>1</th>\n      <td>1</td>\n      <td>2011</td>\n      <td>1</td>\n      <td>1</td>\n      <td>5.355248</td>\n      <td>96.190156</td>\n      <td>2.666105</td>\n      <td>2.977190</td>\n      <td>1.507663</td>\n      <td>0.000000</td>\n      <td>24.024391</td>\n      <td>0.1125</td>\n      <td>305.6</td>\n    </tr>\n    <tr>\n      <th>2</th>\n      <td>3</td>\n      <td>2013</td>\n      <td>9</td>\n      <td>1</td>\n      <td>2.590625</td>\n      <td>0.000000</td>\n      <td>0.535417</td>\n      <td>0.629167</td>\n      <td>0.441667</td>\n      <td>0.000000</td>\n      <td>0.000000</td>\n      <td>0.0000</td>\n      <td>1299.6</td>\n    </tr>\n    <tr>\n      <th>3</th>\n      <td>1</td>\n      <td>2011</td>\n      <td>1</td>\n      <td>1</td>\n      <td>0.000000</td>\n      <td>0.000000</td>\n      <td>0.000000</td>\n      <td>0.000000</td>\n      <td>0.000000</td>\n      <td>-1.218240</td>\n      <td>0.000000</td>\n      <td>0.0000</td>\n      <td>60.8</td>\n    </tr>\n  </tbody>\n</table>\n</div>"
     },
     "metadata": {},
     "execution_count": 182
    }
   ],
   "source": [
    "df_prec.groupby('Cluster').min()"
   ]
  },
  {
   "cell_type": "code",
   "execution_count": 180,
   "metadata": {},
   "outputs": [
    {
     "output_type": "display_data",
     "data": {
      "application/vnd.plotly.v1+json": {
       "config": {
        "plotlyServerURL": "https://plot.ly"
       },
       "data": [
        {
         "alignmentgroup": "True",
         "hovertemplate": "Cluster=%{x}<br>Precipitacao=%{y}<extra></extra>",
         "legendgroup": "",
         "marker": {
          "color": "#636efa"
         },
         "name": "",
         "offsetgroup": "",
         "orientation": "v",
         "showlegend": false,
         "textposition": "auto",
         "type": "bar",
         "x": [
          0,
          1,
          2,
          3
         ],
         "xaxis": "x",
         "y": [
          5.143246023039023,
          491.84915254237296,
          1991.5999999999992,
          116.65654082528533
         ],
         "yaxis": "y"
        }
       ],
       "layout": {
        "barmode": "group",
        "legend": {
         "tracegroupgap": 0
        },
        "margin": {
         "t": 60
        },
        "template": {
         "data": {
          "bar": [
           {
            "error_x": {
             "color": "#2a3f5f"
            },
            "error_y": {
             "color": "#2a3f5f"
            },
            "marker": {
             "line": {
              "color": "#E5ECF6",
              "width": 0.5
             }
            },
            "type": "bar"
           }
          ],
          "barpolar": [
           {
            "marker": {
             "line": {
              "color": "#E5ECF6",
              "width": 0.5
             }
            },
            "type": "barpolar"
           }
          ],
          "carpet": [
           {
            "aaxis": {
             "endlinecolor": "#2a3f5f",
             "gridcolor": "white",
             "linecolor": "white",
             "minorgridcolor": "white",
             "startlinecolor": "#2a3f5f"
            },
            "baxis": {
             "endlinecolor": "#2a3f5f",
             "gridcolor": "white",
             "linecolor": "white",
             "minorgridcolor": "white",
             "startlinecolor": "#2a3f5f"
            },
            "type": "carpet"
           }
          ],
          "choropleth": [
           {
            "colorbar": {
             "outlinewidth": 0,
             "ticks": ""
            },
            "type": "choropleth"
           }
          ],
          "contour": [
           {
            "colorbar": {
             "outlinewidth": 0,
             "ticks": ""
            },
            "colorscale": [
             [
              0,
              "#0d0887"
             ],
             [
              0.1111111111111111,
              "#46039f"
             ],
             [
              0.2222222222222222,
              "#7201a8"
             ],
             [
              0.3333333333333333,
              "#9c179e"
             ],
             [
              0.4444444444444444,
              "#bd3786"
             ],
             [
              0.5555555555555556,
              "#d8576b"
             ],
             [
              0.6666666666666666,
              "#ed7953"
             ],
             [
              0.7777777777777778,
              "#fb9f3a"
             ],
             [
              0.8888888888888888,
              "#fdca26"
             ],
             [
              1,
              "#f0f921"
             ]
            ],
            "type": "contour"
           }
          ],
          "contourcarpet": [
           {
            "colorbar": {
             "outlinewidth": 0,
             "ticks": ""
            },
            "type": "contourcarpet"
           }
          ],
          "heatmap": [
           {
            "colorbar": {
             "outlinewidth": 0,
             "ticks": ""
            },
            "colorscale": [
             [
              0,
              "#0d0887"
             ],
             [
              0.1111111111111111,
              "#46039f"
             ],
             [
              0.2222222222222222,
              "#7201a8"
             ],
             [
              0.3333333333333333,
              "#9c179e"
             ],
             [
              0.4444444444444444,
              "#bd3786"
             ],
             [
              0.5555555555555556,
              "#d8576b"
             ],
             [
              0.6666666666666666,
              "#ed7953"
             ],
             [
              0.7777777777777778,
              "#fb9f3a"
             ],
             [
              0.8888888888888888,
              "#fdca26"
             ],
             [
              1,
              "#f0f921"
             ]
            ],
            "type": "heatmap"
           }
          ],
          "heatmapgl": [
           {
            "colorbar": {
             "outlinewidth": 0,
             "ticks": ""
            },
            "colorscale": [
             [
              0,
              "#0d0887"
             ],
             [
              0.1111111111111111,
              "#46039f"
             ],
             [
              0.2222222222222222,
              "#7201a8"
             ],
             [
              0.3333333333333333,
              "#9c179e"
             ],
             [
              0.4444444444444444,
              "#bd3786"
             ],
             [
              0.5555555555555556,
              "#d8576b"
             ],
             [
              0.6666666666666666,
              "#ed7953"
             ],
             [
              0.7777777777777778,
              "#fb9f3a"
             ],
             [
              0.8888888888888888,
              "#fdca26"
             ],
             [
              1,
              "#f0f921"
             ]
            ],
            "type": "heatmapgl"
           }
          ],
          "histogram": [
           {
            "marker": {
             "colorbar": {
              "outlinewidth": 0,
              "ticks": ""
             }
            },
            "type": "histogram"
           }
          ],
          "histogram2d": [
           {
            "colorbar": {
             "outlinewidth": 0,
             "ticks": ""
            },
            "colorscale": [
             [
              0,
              "#0d0887"
             ],
             [
              0.1111111111111111,
              "#46039f"
             ],
             [
              0.2222222222222222,
              "#7201a8"
             ],
             [
              0.3333333333333333,
              "#9c179e"
             ],
             [
              0.4444444444444444,
              "#bd3786"
             ],
             [
              0.5555555555555556,
              "#d8576b"
             ],
             [
              0.6666666666666666,
              "#ed7953"
             ],
             [
              0.7777777777777778,
              "#fb9f3a"
             ],
             [
              0.8888888888888888,
              "#fdca26"
             ],
             [
              1,
              "#f0f921"
             ]
            ],
            "type": "histogram2d"
           }
          ],
          "histogram2dcontour": [
           {
            "colorbar": {
             "outlinewidth": 0,
             "ticks": ""
            },
            "colorscale": [
             [
              0,
              "#0d0887"
             ],
             [
              0.1111111111111111,
              "#46039f"
             ],
             [
              0.2222222222222222,
              "#7201a8"
             ],
             [
              0.3333333333333333,
              "#9c179e"
             ],
             [
              0.4444444444444444,
              "#bd3786"
             ],
             [
              0.5555555555555556,
              "#d8576b"
             ],
             [
              0.6666666666666666,
              "#ed7953"
             ],
             [
              0.7777777777777778,
              "#fb9f3a"
             ],
             [
              0.8888888888888888,
              "#fdca26"
             ],
             [
              1,
              "#f0f921"
             ]
            ],
            "type": "histogram2dcontour"
           }
          ],
          "mesh3d": [
           {
            "colorbar": {
             "outlinewidth": 0,
             "ticks": ""
            },
            "type": "mesh3d"
           }
          ],
          "parcoords": [
           {
            "line": {
             "colorbar": {
              "outlinewidth": 0,
              "ticks": ""
             }
            },
            "type": "parcoords"
           }
          ],
          "pie": [
           {
            "automargin": true,
            "type": "pie"
           }
          ],
          "scatter": [
           {
            "marker": {
             "colorbar": {
              "outlinewidth": 0,
              "ticks": ""
             }
            },
            "type": "scatter"
           }
          ],
          "scatter3d": [
           {
            "line": {
             "colorbar": {
              "outlinewidth": 0,
              "ticks": ""
             }
            },
            "marker": {
             "colorbar": {
              "outlinewidth": 0,
              "ticks": ""
             }
            },
            "type": "scatter3d"
           }
          ],
          "scattercarpet": [
           {
            "marker": {
             "colorbar": {
              "outlinewidth": 0,
              "ticks": ""
             }
            },
            "type": "scattercarpet"
           }
          ],
          "scattergeo": [
           {
            "marker": {
             "colorbar": {
              "outlinewidth": 0,
              "ticks": ""
             }
            },
            "type": "scattergeo"
           }
          ],
          "scattergl": [
           {
            "marker": {
             "colorbar": {
              "outlinewidth": 0,
              "ticks": ""
             }
            },
            "type": "scattergl"
           }
          ],
          "scattermapbox": [
           {
            "marker": {
             "colorbar": {
              "outlinewidth": 0,
              "ticks": ""
             }
            },
            "type": "scattermapbox"
           }
          ],
          "scatterpolar": [
           {
            "marker": {
             "colorbar": {
              "outlinewidth": 0,
              "ticks": ""
             }
            },
            "type": "scatterpolar"
           }
          ],
          "scatterpolargl": [
           {
            "marker": {
             "colorbar": {
              "outlinewidth": 0,
              "ticks": ""
             }
            },
            "type": "scatterpolargl"
           }
          ],
          "scatterternary": [
           {
            "marker": {
             "colorbar": {
              "outlinewidth": 0,
              "ticks": ""
             }
            },
            "type": "scatterternary"
           }
          ],
          "surface": [
           {
            "colorbar": {
             "outlinewidth": 0,
             "ticks": ""
            },
            "colorscale": [
             [
              0,
              "#0d0887"
             ],
             [
              0.1111111111111111,
              "#46039f"
             ],
             [
              0.2222222222222222,
              "#7201a8"
             ],
             [
              0.3333333333333333,
              "#9c179e"
             ],
             [
              0.4444444444444444,
              "#bd3786"
             ],
             [
              0.5555555555555556,
              "#d8576b"
             ],
             [
              0.6666666666666666,
              "#ed7953"
             ],
             [
              0.7777777777777778,
              "#fb9f3a"
             ],
             [
              0.8888888888888888,
              "#fdca26"
             ],
             [
              1,
              "#f0f921"
             ]
            ],
            "type": "surface"
           }
          ],
          "table": [
           {
            "cells": {
             "fill": {
              "color": "#EBF0F8"
             },
             "line": {
              "color": "white"
             }
            },
            "header": {
             "fill": {
              "color": "#C8D4E3"
             },
             "line": {
              "color": "white"
             }
            },
            "type": "table"
           }
          ]
         },
         "layout": {
          "annotationdefaults": {
           "arrowcolor": "#2a3f5f",
           "arrowhead": 0,
           "arrowwidth": 1
          },
          "coloraxis": {
           "colorbar": {
            "outlinewidth": 0,
            "ticks": ""
           }
          },
          "colorscale": {
           "diverging": [
            [
             0,
             "#8e0152"
            ],
            [
             0.1,
             "#c51b7d"
            ],
            [
             0.2,
             "#de77ae"
            ],
            [
             0.3,
             "#f1b6da"
            ],
            [
             0.4,
             "#fde0ef"
            ],
            [
             0.5,
             "#f7f7f7"
            ],
            [
             0.6,
             "#e6f5d0"
            ],
            [
             0.7,
             "#b8e186"
            ],
            [
             0.8,
             "#7fbc41"
            ],
            [
             0.9,
             "#4d9221"
            ],
            [
             1,
             "#276419"
            ]
           ],
           "sequential": [
            [
             0,
             "#0d0887"
            ],
            [
             0.1111111111111111,
             "#46039f"
            ],
            [
             0.2222222222222222,
             "#7201a8"
            ],
            [
             0.3333333333333333,
             "#9c179e"
            ],
            [
             0.4444444444444444,
             "#bd3786"
            ],
            [
             0.5555555555555556,
             "#d8576b"
            ],
            [
             0.6666666666666666,
             "#ed7953"
            ],
            [
             0.7777777777777778,
             "#fb9f3a"
            ],
            [
             0.8888888888888888,
             "#fdca26"
            ],
            [
             1,
             "#f0f921"
            ]
           ],
           "sequentialminus": [
            [
             0,
             "#0d0887"
            ],
            [
             0.1111111111111111,
             "#46039f"
            ],
            [
             0.2222222222222222,
             "#7201a8"
            ],
            [
             0.3333333333333333,
             "#9c179e"
            ],
            [
             0.4444444444444444,
             "#bd3786"
            ],
            [
             0.5555555555555556,
             "#d8576b"
            ],
            [
             0.6666666666666666,
             "#ed7953"
            ],
            [
             0.7777777777777778,
             "#fb9f3a"
            ],
            [
             0.8888888888888888,
             "#fdca26"
            ],
            [
             1,
             "#f0f921"
            ]
           ]
          },
          "colorway": [
           "#636efa",
           "#EF553B",
           "#00cc96",
           "#ab63fa",
           "#FFA15A",
           "#19d3f3",
           "#FF6692",
           "#B6E880",
           "#FF97FF",
           "#FECB52"
          ],
          "font": {
           "color": "#2a3f5f"
          },
          "geo": {
           "bgcolor": "white",
           "lakecolor": "white",
           "landcolor": "#E5ECF6",
           "showlakes": true,
           "showland": true,
           "subunitcolor": "white"
          },
          "hoverlabel": {
           "align": "left"
          },
          "hovermode": "closest",
          "mapbox": {
           "style": "light"
          },
          "paper_bgcolor": "white",
          "plot_bgcolor": "#E5ECF6",
          "polar": {
           "angularaxis": {
            "gridcolor": "white",
            "linecolor": "white",
            "ticks": ""
           },
           "bgcolor": "#E5ECF6",
           "radialaxis": {
            "gridcolor": "white",
            "linecolor": "white",
            "ticks": ""
           }
          },
          "scene": {
           "xaxis": {
            "backgroundcolor": "#E5ECF6",
            "gridcolor": "white",
            "gridwidth": 2,
            "linecolor": "white",
            "showbackground": true,
            "ticks": "",
            "zerolinecolor": "white"
           },
           "yaxis": {
            "backgroundcolor": "#E5ECF6",
            "gridcolor": "white",
            "gridwidth": 2,
            "linecolor": "white",
            "showbackground": true,
            "ticks": "",
            "zerolinecolor": "white"
           },
           "zaxis": {
            "backgroundcolor": "#E5ECF6",
            "gridcolor": "white",
            "gridwidth": 2,
            "linecolor": "white",
            "showbackground": true,
            "ticks": "",
            "zerolinecolor": "white"
           }
          },
          "shapedefaults": {
           "line": {
            "color": "#2a3f5f"
           }
          },
          "ternary": {
           "aaxis": {
            "gridcolor": "white",
            "linecolor": "white",
            "ticks": ""
           },
           "baxis": {
            "gridcolor": "white",
            "linecolor": "white",
            "ticks": ""
           },
           "bgcolor": "#E5ECF6",
           "caxis": {
            "gridcolor": "white",
            "linecolor": "white",
            "ticks": ""
           }
          },
          "title": {
           "x": 0.05
          },
          "xaxis": {
           "automargin": true,
           "gridcolor": "white",
           "linecolor": "white",
           "ticks": "",
           "title": {
            "standoff": 15
           },
           "zerolinecolor": "white",
           "zerolinewidth": 2
          },
          "yaxis": {
           "automargin": true,
           "gridcolor": "white",
           "linecolor": "white",
           "ticks": "",
           "title": {
            "standoff": 15
           },
           "zerolinecolor": "white",
           "zerolinewidth": 2
          }
         }
        },
        "xaxis": {
         "anchor": "y",
         "domain": [
          0,
          1
         ],
         "title": {
          "text": "Cluster"
         }
        },
        "yaxis": {
         "anchor": "x",
         "domain": [
          0,
          1
         ],
         "title": {
          "text": "Precipitacao"
         }
        }
       }
      }
     },
     "metadata": {}
    }
   ],
   "source": [
    "fig = px.bar(df_prec.groupby(['Cluster'])[['Precipitacao']].mean().reset_index(),\n",
    "             x=\"Cluster\", y=\"Precipitacao\", barmode=\"group\")\n",
    "fig.show()"
   ]
  },
  {
   "cell_type": "code",
   "execution_count": 181,
   "metadata": {},
   "outputs": [
    {
     "output_type": "execute_result",
     "data": {
      "text/plain": "         Local    Ano    Mes    Dia  UmidadeRelativa  PressaoAtmosferica  \\\nCluster                                                                    \n0        14584  14584  14584  14584            14584               14584   \n1           59     59     59     59               59                  59   \n2            6      6      6      6                6                   6   \n3         1139   1139   1139   1139             1139                1139   \n\n         TemperaturaDoAr  TemperaturaInterna  PontoDeOrvalho  RadiacaoSolar  \\\nCluster                                                                       \n0                  14584               14584           14584          14584   \n1                     59                  59              59             59   \n2                      6                   6               6              6   \n3                   1139                1139            1139           1139   \n\n         DirecaoDoVento  VelocidadeDoVento  Precipitacao  \nCluster                                                   \n0                 14584              14584         14584  \n1                    59                 59            59  \n2                     6                  6             6  \n3                  1139               1139          1139  ",
      "text/html": "<div>\n<style scoped>\n    .dataframe tbody tr th:only-of-type {\n        vertical-align: middle;\n    }\n\n    .dataframe tbody tr th {\n        vertical-align: top;\n    }\n\n    .dataframe thead th {\n        text-align: right;\n    }\n</style>\n<table border=\"1\" class=\"dataframe\">\n  <thead>\n    <tr style=\"text-align: right;\">\n      <th></th>\n      <th>Local</th>\n      <th>Ano</th>\n      <th>Mes</th>\n      <th>Dia</th>\n      <th>UmidadeRelativa</th>\n      <th>PressaoAtmosferica</th>\n      <th>TemperaturaDoAr</th>\n      <th>TemperaturaInterna</th>\n      <th>PontoDeOrvalho</th>\n      <th>RadiacaoSolar</th>\n      <th>DirecaoDoVento</th>\n      <th>VelocidadeDoVento</th>\n      <th>Precipitacao</th>\n    </tr>\n    <tr>\n      <th>Cluster</th>\n      <th></th>\n      <th></th>\n      <th></th>\n      <th></th>\n      <th></th>\n      <th></th>\n      <th></th>\n      <th></th>\n      <th></th>\n      <th></th>\n      <th></th>\n      <th></th>\n      <th></th>\n    </tr>\n  </thead>\n  <tbody>\n    <tr>\n      <th>0</th>\n      <td>14584</td>\n      <td>14584</td>\n      <td>14584</td>\n      <td>14584</td>\n      <td>14584</td>\n      <td>14584</td>\n      <td>14584</td>\n      <td>14584</td>\n      <td>14584</td>\n      <td>14584</td>\n      <td>14584</td>\n      <td>14584</td>\n      <td>14584</td>\n    </tr>\n    <tr>\n      <th>1</th>\n      <td>59</td>\n      <td>59</td>\n      <td>59</td>\n      <td>59</td>\n      <td>59</td>\n      <td>59</td>\n      <td>59</td>\n      <td>59</td>\n      <td>59</td>\n      <td>59</td>\n      <td>59</td>\n      <td>59</td>\n      <td>59</td>\n    </tr>\n    <tr>\n      <th>2</th>\n      <td>6</td>\n      <td>6</td>\n      <td>6</td>\n      <td>6</td>\n      <td>6</td>\n      <td>6</td>\n      <td>6</td>\n      <td>6</td>\n      <td>6</td>\n      <td>6</td>\n      <td>6</td>\n      <td>6</td>\n      <td>6</td>\n    </tr>\n    <tr>\n      <th>3</th>\n      <td>1139</td>\n      <td>1139</td>\n      <td>1139</td>\n      <td>1139</td>\n      <td>1139</td>\n      <td>1139</td>\n      <td>1139</td>\n      <td>1139</td>\n      <td>1139</td>\n      <td>1139</td>\n      <td>1139</td>\n      <td>1139</td>\n      <td>1139</td>\n    </tr>\n  </tbody>\n</table>\n</div>"
     },
     "metadata": {},
     "execution_count": 181
    }
   ],
   "source": [
    "df_prec.groupby('Cluster').count()"
   ]
  },
  {
   "cell_type": "code",
   "execution_count": null,
   "metadata": {},
   "outputs": [],
   "source": []
  }
 ],
 "metadata": {
  "kernelspec": {
   "display_name": "Python 3.8.5 64-bit",
   "name": "python38564bit983d40b0eb64453e8ad463eee52a7b5b"
  },
  "language_info": {
   "codemirror_mode": {
    "name": "ipython",
    "version": 3
   },
   "file_extension": ".py",
   "mimetype": "text/x-python",
   "name": "python",
   "nbconvert_exporter": "python",
   "pygments_lexer": "ipython3",
   "version": "3.8.5-final"
  }
 },
 "nbformat": 4,
 "nbformat_minor": 2
}