{
 "cells": [
  {
   "cell_type": "code",
   "execution_count": null,
   "metadata": {},
   "outputs": [],
   "source": [
    "import pandas as pd\n",
    "import numpy as np\n",
    "from sklearn.cluster import KMeans\n",
    "import matplotlib.pyplot as plt\n",
    "\n",
    "from plotly import graph_objects as go\n",
    "import plotly.express as px\n",
    "import plotly as py\n",
    "py.offline.init_notebook_mode()"
   ]
  },
  {
   "cell_type": "code",
   "execution_count": null,
   "metadata": {},
   "outputs": [],
   "source": [
    "df = pd.read_csv('../../../data/cleandata/Ordens de serviço/Enchentes_LatLong.csv',\n",
    "                 sep = ';')\n",
    "\n",
    "est = pd.read_csv('../../../data/cleandata/Estacoes/lat_lng_estacoes.csv', sep = ';')\n",
    "est = est.iloc[:-1] # Remove OpenWeather"
   ]
  },
  {
   "cell_type": "code",
   "execution_count": null,
   "metadata": {},
   "outputs": [],
   "source": [
    "def Calculate_Dist(lat1, lon1, lat2, lon2):\n",
    "    r = 6371\n",
    "    phi1 = np.radians(lat1)\n",
    "    phi2 = np.radians(lat2)\n",
    "    delta_phi = np.radians(lat2 - lat1)\n",
    "    delta_lambda = np.radians(lon2 - lon1)\n",
    "    a = np.sin(delta_phi / 2)**2 + np.cos(phi1) *\\\n",
    "        np.cos(phi2) *   np.sin(delta_lambda / 2)**2\n",
    "    res = r * (2 * np.arctan2(np.sqrt(a), np.sqrt(1 - a)))\n",
    "    return np.round(res, 2)\n",
    "\n",
    "def get_distances(estacoes, ord_serv):\n",
    "    for index, row in ord_serv.iterrows():\n",
    "        dist = estacoes.apply(lambda x: \n",
    "                           Calculate_Dist(row['lat'], row['lng'],\n",
    "                                          x['lat'],   x['lng']),\n",
    "                           axis=1)\n",
    "        ord_serv.loc[index,'Distance'], arg = dist.min(), dist.argmin()\n",
    "        ord_serv.loc[index,'Est. Prox'] = estacoes.iloc[arg,0]\n",
    "\n",
    "    return ord_serv"
   ]
  },
  {
   "cell_type": "code",
   "execution_count": null,
   "metadata": {},
   "outputs": [],
   "source": [
    "ord_serv = get_distances(est, df)\n",
    "ord_serv.loc[ord_serv['Distance'] > 4.5, 'Est. Prox'] = 'Null'"
   ]
  },
  {
   "cell_type": "code",
   "execution_count": null,
   "metadata": {},
   "outputs": [],
   "source": [
    "fig = go.Figure()\n",
    "\n",
    "colors = dict(zip(ord_serv['Est. Prox'].unique(),\n",
    "                  ['black', 'green', 'yellow', 'teal', 'orange', 'blue']) )\n",
    "\n",
    "fig.add_trace(go.Scatter(x=ord_serv['lng'],\n",
    "                         y= ord_serv['lat'],\n",
    "                         marker=dict(\n",
    "                                    size=7,\n",
    "                                    color=ord_serv['Est. Prox'].apply(lambda x: colors[x]), #set color equal to a variable\n",
    "                                    showscale=False\n",
    "                                ),\n",
    "                    showlegend = False,\n",
    "                    mode='markers',\n",
    "                    name='markers'))\n",
    "\n",
    "fig.add_trace(go.Scatter(x = est['lng'],\n",
    "                         y = est['lat'],\n",
    "                         marker_symbol = 'x',\n",
    "                         marker=dict(\n",
    "                                    size=10,\n",
    "                                    color='red', #set color equal to a variable\n",
    "                                    showscale=False\n",
    "                                ),\n",
    "                    showlegend = False,\n",
    "                    mode='markers',\n",
    "                    name='markers'))\n",
    "\n",
    "fig.show()"
   ]
  },
  {
   "cell_type": "markdown",
   "metadata": {},
   "source": [
    "### Cluster by location (lat, lng) \n",
    "\n",
    "create subregions"
   ]
  },
  {
   "cell_type": "code",
   "execution_count": null,
   "metadata": {},
   "outputs": [],
   "source": [
    "lat_lng = ord_serv[['lat','lng']]\n",
    "\n",
    "from sklearn.cluster import KMeans\n",
    "\n",
    "n_clusters = 30\n",
    "\n",
    "import matplotlib.pyplot as plt\n",
    "import numpy as np\n",
    "\n",
    "clusterer = KMeans(n_clusters = n_clusters).fit(lat_lng)\n",
    "ord_serv['cluster'] = clusterer.labels_"
   ]
  },
  {
   "cell_type": "code",
   "execution_count": null,
   "metadata": {},
   "outputs": [],
   "source": [
    "fig = go.Figure()\n",
    "\n",
    "colors = dict(zip(ord_serv['cluster'].unique(),\n",
    "                  px.colors.qualitative.Dark24[:n_clusters]) )\n",
    "\n",
    "for c in np.sort(ord_serv['cluster'].unique()):\n",
    "    fig.add_trace(go.Scatter(x=ord_serv[ord_serv['cluster'] == c]['lng'],\n",
    "                             y= ord_serv[ord_serv['cluster'] == c]['lat'],\n",
    "                             marker=dict( size=7 ),\n",
    "                             showlegend = True,\n",
    "                             mode='markers',\n",
    "                             name=f'cluster {c}')\n",
    "                 )\n",
    "\n",
    "fig.add_trace(go.Scatter(x = est['lng'],\n",
    "                         y = est['lat'],\n",
    "                         marker_symbol = 'x',\n",
    "                         marker=dict(\n",
    "                                    size=10,\n",
    "                                    color='red', #set color equal to a variable\n",
    "                                    showscale=False\n",
    "                                ),\n",
    "                    showlegend = False,\n",
    "                    mode='markers',\n",
    "                    name='markers'))\n",
    "\n",
    "fig.show()"
   ]
  },
  {
   "cell_type": "markdown",
   "metadata": {},
   "source": [
    "#### Unique encode for each lat,lng point"
   ]
  },
  {
   "cell_type": "code",
   "execution_count": null,
   "metadata": {},
   "outputs": [],
   "source": [
    "ord_serv = ord_serv[['lat','lng','Data', 'cluster']]\n",
    "ord_serv.loc[:,'Data'] = pd.to_datetime(ord_serv.loc[:,'Data'])\n",
    "ord_serv = ord_serv.sort_values('Data')\n",
    "\n",
    "ord_serv['pos'] = ord_serv['lat'].astype(str).str.rstrip() + \\\n",
    "                  ord_serv['lng'].astype(str).str.rstrip() \n",
    "\n",
    "from sklearn import preprocessing\n",
    "le = preprocessing.LabelEncoder()\n",
    "le.fit(ord_serv['pos'])\n",
    "ord_serv['pos'] = le.transform(ord_serv['pos'])"
   ]
  },
  {
   "cell_type": "markdown",
   "metadata": {},
   "source": [
    "#### Create datevec with all dates"
   ]
  },
  {
   "cell_type": "code",
   "execution_count": null,
   "metadata": {},
   "outputs": [],
   "source": [
    "def days_hours_minutes(td):\n",
    "    return int(td.days), td.seconds//3600, (td.seconds//60)%60\n",
    "\n",
    "start, stop = ord_serv['Data'].iloc[0], ord_serv['Data'].iloc[-1]\n",
    "\n",
    "from datetime import date, timedelta\n",
    "# Criar Vetor de data (15 em 15 minutos )\n",
    "\n",
    "d,h,m = days_hours_minutes(stop - start)\n",
    "total_days = d + h/24 + m/24/60 + (1)\n",
    "\n",
    "date_vec= [start + timedelta(x) for x in \n",
    "          np.arange(0, total_days, 1)]"
   ]
  },
  {
   "cell_type": "markdown",
   "metadata": {},
   "source": [
    "#### Create DataFrame Dates x Pos"
   ]
  },
  {
   "cell_type": "code",
   "execution_count": null,
   "metadata": {},
   "outputs": [],
   "source": [
    "my_index = np.sort(ord_serv['pos'].unique())\n",
    "my_cols = ord_serv.Data.dt.strftime('%Y-%m-%d').unique()\n",
    "\n",
    "df = pd.DataFrame(columns=list(date_vec), index = list(my_index))\n",
    "df.loc[:,:] = 0"
   ]
  },
  {
   "cell_type": "code",
   "execution_count": null,
   "metadata": {},
   "outputs": [],
   "source": [
    "from datetime import datetime\n",
    "from datetime import timedelta\n",
    "\n",
    "day_delta = 4\n",
    "for d in df.columns:\n",
    "\n",
    "    lim_dates = [d + timedelta(days=-day_delta),\n",
    "                 d + timedelta(days=day_delta)]\n",
    "\n",
    "    selected_dates = ord_serv[(ord_serv['Data'] > lim_dates[0]) &\n",
    "                        (ord_serv['Data'] <= lim_dates[1])]\n",
    "        \n",
    "    selected = selected_dates.pos\n",
    "    df.loc[df.index.isin(selected),d] = 1"
   ]
  },
  {
   "cell_type": "markdown",
   "metadata": {},
   "source": [
    "Sum all that belong to the same region"
   ]
  },
  {
   "cell_type": "code",
   "execution_count": null,
   "metadata": {},
   "outputs": [],
   "source": [
    "regions_dict = dict(zip(ord_serv['pos'], ord_serv['cluster']))\n",
    "df['cluster'] = df.index.map(regions_dict)\n",
    "\n",
    "df_cluster = pd.DataFrame(index=df.drop(columns =['cluster']).columns,\n",
    "                          columns = np.sort(ord_serv['cluster'].unique()))\n",
    "for cluster in ord_serv['cluster'].unique():\n",
    "    df_cluster.loc[:,cluster] = df.loc[df['cluster'] == cluster,:]\\\n",
    "                                .drop(columns = ['cluster']).sum(axis = 0)"
   ]
  },
  {
   "cell_type": "code",
   "execution_count": null,
   "metadata": {},
   "outputs": [],
   "source": [
    "import plotly.graph_objects as go\n",
    "\n",
    "fig = go.Figure()\n",
    "fig.add_trace(go.Heatmap(z=df_cluster.T.values,\n",
    "                         x=df_cluster.T.columns,\n",
    "                         colorscale = 'gray',\n",
    "                         reversescale=True,\n",
    "                         showscale=False)\n",
    "             )\n",
    "fig.update_layout()\n",
    "fig.show()"
   ]
  },
  {
   "cell_type": "markdown",
   "metadata": {},
   "source": [
    "#### Regions correlation clustering"
   ]
  },
  {
   "cell_type": "code",
   "execution_count": null,
   "metadata": {},
   "outputs": [],
   "source": [
    "corr = df_cluster.corr().values\n",
    "\n",
    "import scipy.cluster.hierarchy as spc\n",
    "\n",
    "pdist = spc.distance.pdist(corr)\n",
    "linkage = spc.linkage(pdist, method='complete')\n",
    "idx = spc.fcluster(linkage, 0.5 * pdist.max(), 'distance')"
   ]
  },
  {
   "cell_type": "code",
   "execution_count": null,
   "metadata": {},
   "outputs": [],
   "source": [
    "df_cluster_T = df_cluster.T\n",
    "\n",
    "df_cluster_T['hierarchy'] = idx\n",
    "\n",
    "hierarchy_dict = dict(zip(df_cluster_T.index,df_cluster_T.hierarchy))\n",
    "\n",
    "hierarchy_cluster = pd.DataFrame(index=df_cluster_T.drop(columns =['hierarchy']).columns,\n",
    "                          columns = np.sort(df_cluster_T['hierarchy'].unique()))\n",
    "\n",
    "for cluster in df_cluster_T['hierarchy'].unique():\n",
    "    hierarchy_cluster.loc[:,cluster] = (df_cluster_T\n",
    "                                        .loc[df_cluster_T['hierarchy'] == cluster,:]\n",
    "                                        .drop(columns = ['hierarchy']).sum(axis = 0)\n",
    "                                       )"
   ]
  },
  {
   "cell_type": "markdown",
   "metadata": {},
   "source": [
    "#### Cluster Analysis"
   ]
  },
  {
   "cell_type": "code",
   "execution_count": null,
   "metadata": {},
   "outputs": [],
   "source": [
    "for h in df_cluster_T['hierarchy'].unique():\n",
    "    mean = df_cluster_T[df_cluster_T['hierarchy'] == h ] \\\n",
    "            .drop(columns=['hierarchy']).T.corr().mean().mean()\n",
    "    size =  df_cluster_T[df_cluster_T['hierarchy'] == h ].shape[0]\n",
    "    print(f\"{h} -  mean correlation: {mean:.2}  \\t | number of grouped regions: {size}\")"
   ]
  },
  {
   "cell_type": "code",
   "execution_count": null,
   "metadata": {},
   "outputs": [],
   "source": [
    "import plotly.graph_objects as go\n",
    "\n",
    "fig = go.Figure()\n",
    "fig.add_trace(go.Heatmap(z=hierarchy_cluster.T.values,\n",
    "                         x=hierarchy_cluster.T.columns,\n",
    "                         colorscale = 'gray',\n",
    "                         reversescale=True,\n",
    "                         showscale=False)\n",
    "             )\n",
    "fig.update_layout()\n",
    "fig.show()"
   ]
  },
  {
   "cell_type": "markdown",
   "metadata": {},
   "source": [
    "#### Apply cluster to data"
   ]
  },
  {
   "cell_type": "code",
   "execution_count": null,
   "metadata": {},
   "outputs": [],
   "source": [
    "ord_serv['hcluster']  = ord_serv['pos'].map(regions_dict).map(hierarchy_dict)\n",
    "orded_clusters = ord_serv.groupby('hcluster').count() \\\n",
    "                .sort_values(by = 'lat', ascending = False).reset_index()\n",
    "\n",
    "order_cluster = dict(zip( orded_clusters.hcluster, orded_clusters.index))"
   ]
  },
  {
   "cell_type": "code",
   "execution_count": null,
   "metadata": {},
   "outputs": [],
   "source": [
    "ord_serv['hcluster'] = ord_serv['pos'].map(regions_dict)\\\n",
    "                      .map(hierarchy_dict).map(order_cluster)\n",
    "\n",
    "fig = go.Figure()\n",
    "\n",
    "for c in np.sort(ord_serv['hcluster'].unique()):\n",
    "    fig.add_trace(go.Scatter(x=ord_serv[ord_serv['hcluster'] == c]['lng'],\n",
    "                             y=ord_serv[ord_serv['hcluster'] == c]['lat'],\n",
    "                             marker=dict(\n",
    "                                        size=7,\n",
    "                                       ),\n",
    "                        showlegend = True,\n",
    "                        mode='markers',\n",
    "                        name = f'hcluster {c}'))\n",
    "\n",
    "fig.add_trace(go.Scatter(x = est['lng'],\n",
    "                         y = est['lat'],\n",
    "                         marker_symbol = 'x',\n",
    "                         marker=dict(\n",
    "                                    size=10,\n",
    "                                    # set color equal to a variable\n",
    "                                    color='red', \n",
    "                                    showscale=False\n",
    "                                ),\n",
    "                    showlegend = False,\n",
    "                    mode='markers'))\n",
    "\n",
    "fig.show()"
   ]
  }
 ],
 "metadata": {
  "hide_input": false,
  "kernelspec": {
   "display_name": "Python 3.7.4 64-bit ('anaconda3': virtualenv)",
   "language": "python",
   "name": "python37464bitanaconda3virtualenv8a104214112646a6ba1e7712d0f85381"
  },
  "language_info": {
   "codemirror_mode": {
    "name": "ipython",
    "version": 3
   },
   "file_extension": ".py",
   "mimetype": "text/x-python",
   "name": "python",
   "nbconvert_exporter": "python",
   "pygments_lexer": "ipython3",
   "version": "3.7.6"
  }
 },
 "nbformat": 4,
 "nbformat_minor": 4
}
