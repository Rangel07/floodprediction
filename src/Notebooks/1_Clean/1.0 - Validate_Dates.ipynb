{
 "cells": [
  {
   "cell_type": "code",
   "execution_count": 1,
   "metadata": {},
   "outputs": [],
   "source": [
    "import pandas as pd\n",
    "import numpy as np"
   ]
  },
  {
   "cell_type": "code",
   "execution_count": 6,
   "metadata": {},
   "outputs": [
    {
     "name": "stdout",
     "output_type": "stream",
     "text": [
      "error_regions.csv  merged.csv\r\n"
     ]
    }
   ],
   "source": [
    "!ls '../../../data/cleandata/Info pluviometricas/Merged Data'"
   ]
  },
  {
   "cell_type": "code",
   "execution_count": 2,
   "metadata": {},
   "outputs": [],
   "source": [
    "merged = pd.read_csv('../../../data/cleandata/Info pluviometricas/Merged Data/merged.csv', sep = ';')"
   ]
  },
  {
   "cell_type": "code",
   "execution_count": 3,
   "metadata": {},
   "outputs": [],
   "source": [
    "merged['Data_Hora'] = pd.to_datetime(merged['Data_Hora'], yearfirst= True).sort_values(ascending =  True)"
   ]
  },
  {
   "cell_type": "code",
   "execution_count": 4,
   "metadata": {},
   "outputs": [],
   "source": [
    "start, stop = merged['Data_Hora'].iloc[0], merged['Data_Hora'].iloc[-1]"
   ]
  },
  {
   "cell_type": "code",
   "execution_count": 5,
   "metadata": {},
   "outputs": [
    {
     "data": {
      "text/plain": [
       "(3195, 0, 0)"
      ]
     },
     "execution_count": 5,
     "metadata": {},
     "output_type": "execute_result"
    }
   ],
   "source": [
    "def days_hours_minutes(td):\n",
    "    return int(td.days), td.seconds//3600, (td.seconds//60)%60\n",
    "\n",
    "days_hours_minutes(stop - start)"
   ]
  },
  {
   "cell_type": "code",
   "execution_count": 20,
   "metadata": {},
   "outputs": [
    {
     "data": {
      "text/plain": [
       "3195"
      ]
     },
     "execution_count": 20,
     "metadata": {},
     "output_type": "execute_result"
    }
   ],
   "source": [
    "d,h,m = days_hours_minutes(stop - start) + #\n",
    "\n"
   ]
  },
  {
   "cell_type": "code",
   "execution_count": 22,
   "metadata": {},
   "outputs": [
    {
     "data": {
      "text/plain": [
       "3195.0104166666665"
      ]
     },
     "execution_count": 22,
     "metadata": {},
     "output_type": "execute_result"
    }
   ],
   "source": [
    "total_days"
   ]
  },
  {
   "cell_type": "code",
   "execution_count": 12,
   "metadata": {},
   "outputs": [
    {
     "data": {
      "text/plain": [
       "0.041666666666666664"
      ]
     },
     "execution_count": 12,
     "metadata": {},
     "output_type": "execute_result"
    }
   ],
   "source": [
    "1/24"
   ]
  },
  {
   "cell_type": "code",
   "execution_count": 6,
   "metadata": {},
   "outputs": [
    {
     "name": "stdout",
     "output_type": "stream",
     "text": [
      "Amostras Faltantes: 0 \n",
      "Total de amostras (info pluviometrico): 306721 \n",
      "Deveria ser: 306721\n"
     ]
    }
   ],
   "source": [
    "from datetime import date, timedelta\n",
    "# Criar Vetor de data (15 em 15 minutos )\n",
    "\n",
    "d,h,m = days_hours_minutes(stop - start)\n",
    "total_days = d + h/24 + m/24/60 + (1 / 24 / 4)\n",
    "\n",
    "date_vec= [start + timedelta(x) for x in \n",
    "          np.arange(0, total_days, 1 / 24 / 4)]\n",
    "\n",
    "# remover do vetor de 15 em 15 as amostras existentes em merged\n",
    "missing = list(set(date_vec) - set(merged['Data_Hora']))\n",
    "print('Amostras Faltantes:', len(missing),\n",
    "      '\\nTotal de amostras (info pluviometrico):', len(date_vec),\n",
    "      '\\nDeveria ser:',len(merged['Data_Hora']))"
   ]
  },
  {
   "cell_type": "code",
   "execution_count": 14,
   "metadata": {},
   "outputs": [
    {
     "data": {
      "text/plain": [
       "Timestamp('2019-10-01 00:00:00')"
      ]
     },
     "execution_count": 14,
     "metadata": {},
     "output_type": "execute_result"
    }
   ],
   "source": [
    "date_vec[-1]"
   ]
  },
  {
   "cell_type": "code",
   "execution_count": 7,
   "metadata": {},
   "outputs": [],
   "source": [
    "new_df = pd.DataFrame(date_vec, columns=['Data_Hora'])\n",
    "new_df['Data_Hora'] = pd.to_datetime(new_df['Data_Hora'], yearfirst=True)"
   ]
  },
  {
   "cell_type": "code",
   "execution_count": 13,
   "metadata": {},
   "outputs": [
    {
     "ename": "SyntaxError",
     "evalue": "invalid syntax (<ipython-input-13-fa584521889c>, line 1)",
     "output_type": "error",
     "traceback": [
      "\u001b[0;36m  File \u001b[0;32m\"<ipython-input-13-fa584521889c>\"\u001b[0;36m, line \u001b[0;32m1\u001b[0m\n\u001b[0;31m    merged 0\u001b[0m\n\u001b[0m           ^\u001b[0m\n\u001b[0;31mSyntaxError\u001b[0m\u001b[0;31m:\u001b[0m invalid syntax\n"
     ]
    }
   ],
   "source": [
    "merged \n",
    "dh /      0   1   2   3   4\n",
    "1:15     p0  p1 nan  p3 p4"
   ]
  },
  {
   "cell_type": "code",
   "execution_count": 8,
   "metadata": {},
   "outputs": [],
   "source": [
    "merged = new_df.merge(merged, how = 'left', on = 'Data_Hora')"
   ]
  },
  {
   "cell_type": "code",
   "execution_count": null,
   "metadata": {},
   "outputs": [],
   "source": []
  },
  {
   "cell_type": "code",
   "execution_count": null,
   "metadata": {},
   "outputs": [],
   "source": []
  },
  {
   "cell_type": "code",
   "execution_count": null,
   "metadata": {},
   "outputs": [],
   "source": []
  },
  {
   "cell_type": "code",
   "execution_count": 10,
   "metadata": {
    "scrolled": true
   },
   "outputs": [
    {
     "data": {
      "text/plain": [
       "[]"
      ]
     },
     "execution_count": 10,
     "metadata": {},
     "output_type": "execute_result"
    }
   ],
   "source": [
    "list(merged[merged['Local_0'].isna()].Data_Hora.unique())"
   ]
  },
  {
   "cell_type": "code",
   "execution_count": 11,
   "metadata": {},
   "outputs": [],
   "source": [
    "local_cols = [col for col in merged.columns if 'Local' in col]\n",
    "for col in local_cols:\n",
    "    merged.loc[:,col] = merged[col].dropna().unique()"
   ]
  },
  {
   "cell_type": "code",
   "execution_count": 9,
   "metadata": {},
   "outputs": [
    {
     "data": {
      "text/html": [
       "<div>\n",
       "<style scoped>\n",
       "    .dataframe tbody tr th:only-of-type {\n",
       "        vertical-align: middle;\n",
       "    }\n",
       "\n",
       "    .dataframe tbody tr th {\n",
       "        vertical-align: top;\n",
       "    }\n",
       "\n",
       "    .dataframe thead th {\n",
       "        text-align: right;\n",
       "    }\n",
       "</style>\n",
       "<table border=\"1\" class=\"dataframe\">\n",
       "  <thead>\n",
       "    <tr style=\"text-align: right;\">\n",
       "      <th></th>\n",
       "      <th>Data_Hora</th>\n",
       "      <th>index</th>\n",
       "      <th>Data</th>\n",
       "      <th>Hora</th>\n",
       "      <th>UmidadeRelativa_0</th>\n",
       "      <th>PressaoAtmosferica_0</th>\n",
       "      <th>TemperaturaDoAr_0</th>\n",
       "      <th>TemperaturaInterna_0</th>\n",
       "      <th>PontoDeOrvalho_0</th>\n",
       "      <th>SensacaoTermica_0</th>\n",
       "      <th>...</th>\n",
       "      <th>PressaoAtmosferica_4</th>\n",
       "      <th>TemperaturaDoAr_4</th>\n",
       "      <th>TemperaturaInterna_4</th>\n",
       "      <th>PontoDeOrvalho_4</th>\n",
       "      <th>SensacaoTermica_4</th>\n",
       "      <th>RadiacaoSolar_4</th>\n",
       "      <th>DirecaoDoVento_4</th>\n",
       "      <th>VelocidadeDoVento_4</th>\n",
       "      <th>Precipitacao_4</th>\n",
       "      <th>Local_4</th>\n",
       "    </tr>\n",
       "  </thead>\n",
       "  <tbody>\n",
       "    <tr>\n",
       "      <th>0</th>\n",
       "      <td>2011-01-01 00:00:00</td>\n",
       "      <td>0.0</td>\n",
       "      <td>2011/01/01</td>\n",
       "      <td>00:00:00</td>\n",
       "      <td>84.8</td>\n",
       "      <td>920.6</td>\n",
       "      <td>20.2</td>\n",
       "      <td>22.8</td>\n",
       "      <td>17.5</td>\n",
       "      <td>NaN</td>\n",
       "      <td>...</td>\n",
       "      <td>0.0</td>\n",
       "      <td>0.0</td>\n",
       "      <td>0.0</td>\n",
       "      <td>0.0</td>\n",
       "      <td>NaN</td>\n",
       "      <td>0.0</td>\n",
       "      <td>0.0</td>\n",
       "      <td>0.0</td>\n",
       "      <td>0.0</td>\n",
       "      <td>Vitoria</td>\n",
       "    </tr>\n",
       "    <tr>\n",
       "      <th>1</th>\n",
       "      <td>2011-01-01 00:15:00</td>\n",
       "      <td>1.0</td>\n",
       "      <td>2011/01/01</td>\n",
       "      <td>00:15:00</td>\n",
       "      <td>84.1</td>\n",
       "      <td>920.3</td>\n",
       "      <td>20.1</td>\n",
       "      <td>22.8</td>\n",
       "      <td>17.4</td>\n",
       "      <td>NaN</td>\n",
       "      <td>...</td>\n",
       "      <td>0.0</td>\n",
       "      <td>0.0</td>\n",
       "      <td>0.0</td>\n",
       "      <td>0.0</td>\n",
       "      <td>NaN</td>\n",
       "      <td>0.0</td>\n",
       "      <td>0.0</td>\n",
       "      <td>0.0</td>\n",
       "      <td>0.0</td>\n",
       "      <td>Vitoria</td>\n",
       "    </tr>\n",
       "    <tr>\n",
       "      <th>2</th>\n",
       "      <td>2011-01-01 00:30:00</td>\n",
       "      <td>2.0</td>\n",
       "      <td>2011/01/01</td>\n",
       "      <td>00:30:00</td>\n",
       "      <td>83.9</td>\n",
       "      <td>920.2</td>\n",
       "      <td>20.1</td>\n",
       "      <td>22.9</td>\n",
       "      <td>17.2</td>\n",
       "      <td>NaN</td>\n",
       "      <td>...</td>\n",
       "      <td>0.0</td>\n",
       "      <td>0.0</td>\n",
       "      <td>0.0</td>\n",
       "      <td>0.0</td>\n",
       "      <td>NaN</td>\n",
       "      <td>0.0</td>\n",
       "      <td>0.0</td>\n",
       "      <td>0.0</td>\n",
       "      <td>0.0</td>\n",
       "      <td>Vitoria</td>\n",
       "    </tr>\n",
       "    <tr>\n",
       "      <th>3</th>\n",
       "      <td>2011-01-01 00:45:00</td>\n",
       "      <td>3.0</td>\n",
       "      <td>2011/01/01</td>\n",
       "      <td>00:45:00</td>\n",
       "      <td>83.5</td>\n",
       "      <td>919.9</td>\n",
       "      <td>20.2</td>\n",
       "      <td>22.9</td>\n",
       "      <td>17.3</td>\n",
       "      <td>NaN</td>\n",
       "      <td>...</td>\n",
       "      <td>0.0</td>\n",
       "      <td>0.0</td>\n",
       "      <td>0.0</td>\n",
       "      <td>0.0</td>\n",
       "      <td>NaN</td>\n",
       "      <td>0.0</td>\n",
       "      <td>0.0</td>\n",
       "      <td>0.0</td>\n",
       "      <td>0.0</td>\n",
       "      <td>Vitoria</td>\n",
       "    </tr>\n",
       "    <tr>\n",
       "      <th>4</th>\n",
       "      <td>2011-01-01 01:00:00</td>\n",
       "      <td>4.0</td>\n",
       "      <td>2011/01/01</td>\n",
       "      <td>01:00:00</td>\n",
       "      <td>84.0</td>\n",
       "      <td>919.9</td>\n",
       "      <td>20.1</td>\n",
       "      <td>22.8</td>\n",
       "      <td>17.3</td>\n",
       "      <td>NaN</td>\n",
       "      <td>...</td>\n",
       "      <td>0.0</td>\n",
       "      <td>0.0</td>\n",
       "      <td>0.0</td>\n",
       "      <td>0.0</td>\n",
       "      <td>NaN</td>\n",
       "      <td>0.0</td>\n",
       "      <td>0.0</td>\n",
       "      <td>0.0</td>\n",
       "      <td>0.0</td>\n",
       "      <td>Vitoria</td>\n",
       "    </tr>\n",
       "    <tr>\n",
       "      <th>...</th>\n",
       "      <td>...</td>\n",
       "      <td>...</td>\n",
       "      <td>...</td>\n",
       "      <td>...</td>\n",
       "      <td>...</td>\n",
       "      <td>...</td>\n",
       "      <td>...</td>\n",
       "      <td>...</td>\n",
       "      <td>...</td>\n",
       "      <td>...</td>\n",
       "      <td>...</td>\n",
       "      <td>...</td>\n",
       "      <td>...</td>\n",
       "      <td>...</td>\n",
       "      <td>...</td>\n",
       "      <td>...</td>\n",
       "      <td>...</td>\n",
       "      <td>...</td>\n",
       "      <td>...</td>\n",
       "      <td>...</td>\n",
       "      <td>...</td>\n",
       "    </tr>\n",
       "    <tr>\n",
       "      <th>306716</th>\n",
       "      <td>2019-09-30 23:00:00</td>\n",
       "      <td>302610.0</td>\n",
       "      <td>2019/09/30</td>\n",
       "      <td>23:00:00</td>\n",
       "      <td>78.7</td>\n",
       "      <td>923.6</td>\n",
       "      <td>15.9</td>\n",
       "      <td>17.9</td>\n",
       "      <td>13.1</td>\n",
       "      <td>14.4</td>\n",
       "      <td>...</td>\n",
       "      <td>NaN</td>\n",
       "      <td>NaN</td>\n",
       "      <td>NaN</td>\n",
       "      <td>NaN</td>\n",
       "      <td>NaN</td>\n",
       "      <td>NaN</td>\n",
       "      <td>NaN</td>\n",
       "      <td>NaN</td>\n",
       "      <td>NaN</td>\n",
       "      <td>NaN</td>\n",
       "    </tr>\n",
       "    <tr>\n",
       "      <th>306717</th>\n",
       "      <td>2019-09-30 23:15:00</td>\n",
       "      <td>302611.0</td>\n",
       "      <td>2019/09/30</td>\n",
       "      <td>23:15:00</td>\n",
       "      <td>78.8</td>\n",
       "      <td>923.5</td>\n",
       "      <td>15.9</td>\n",
       "      <td>18.0</td>\n",
       "      <td>13.1</td>\n",
       "      <td>14.0</td>\n",
       "      <td>...</td>\n",
       "      <td>NaN</td>\n",
       "      <td>NaN</td>\n",
       "      <td>NaN</td>\n",
       "      <td>NaN</td>\n",
       "      <td>NaN</td>\n",
       "      <td>NaN</td>\n",
       "      <td>NaN</td>\n",
       "      <td>NaN</td>\n",
       "      <td>NaN</td>\n",
       "      <td>NaN</td>\n",
       "    </tr>\n",
       "    <tr>\n",
       "      <th>306718</th>\n",
       "      <td>2019-09-30 23:30:00</td>\n",
       "      <td>302612.0</td>\n",
       "      <td>2019/09/30</td>\n",
       "      <td>23:30:00</td>\n",
       "      <td>79.3</td>\n",
       "      <td>923.6</td>\n",
       "      <td>15.8</td>\n",
       "      <td>17.9</td>\n",
       "      <td>13.1</td>\n",
       "      <td>13.5</td>\n",
       "      <td>...</td>\n",
       "      <td>NaN</td>\n",
       "      <td>NaN</td>\n",
       "      <td>NaN</td>\n",
       "      <td>NaN</td>\n",
       "      <td>NaN</td>\n",
       "      <td>NaN</td>\n",
       "      <td>NaN</td>\n",
       "      <td>NaN</td>\n",
       "      <td>NaN</td>\n",
       "      <td>NaN</td>\n",
       "    </tr>\n",
       "    <tr>\n",
       "      <th>306719</th>\n",
       "      <td>2019-09-30 23:45:00</td>\n",
       "      <td>302613.0</td>\n",
       "      <td>2019/09/30</td>\n",
       "      <td>23:45:00</td>\n",
       "      <td>80.7</td>\n",
       "      <td>923.5</td>\n",
       "      <td>15.5</td>\n",
       "      <td>17.8</td>\n",
       "      <td>13.2</td>\n",
       "      <td>12.0</td>\n",
       "      <td>...</td>\n",
       "      <td>NaN</td>\n",
       "      <td>NaN</td>\n",
       "      <td>NaN</td>\n",
       "      <td>NaN</td>\n",
       "      <td>NaN</td>\n",
       "      <td>NaN</td>\n",
       "      <td>NaN</td>\n",
       "      <td>NaN</td>\n",
       "      <td>NaN</td>\n",
       "      <td>NaN</td>\n",
       "    </tr>\n",
       "    <tr>\n",
       "      <th>306720</th>\n",
       "      <td>2019-10-01 00:00:00</td>\n",
       "      <td>302614.0</td>\n",
       "      <td>2019/10/01</td>\n",
       "      <td>00:00:00</td>\n",
       "      <td>81.0</td>\n",
       "      <td>923.3</td>\n",
       "      <td>15.5</td>\n",
       "      <td>17.7</td>\n",
       "      <td>13.2</td>\n",
       "      <td>13.2</td>\n",
       "      <td>...</td>\n",
       "      <td>NaN</td>\n",
       "      <td>NaN</td>\n",
       "      <td>NaN</td>\n",
       "      <td>NaN</td>\n",
       "      <td>NaN</td>\n",
       "      <td>NaN</td>\n",
       "      <td>NaN</td>\n",
       "      <td>NaN</td>\n",
       "      <td>NaN</td>\n",
       "      <td>NaN</td>\n",
       "    </tr>\n",
       "  </tbody>\n",
       "</table>\n",
       "<p>306721 rows × 59 columns</p>\n",
       "</div>"
      ],
      "text/plain": [
       "                 Data_Hora     index        Data      Hora  UmidadeRelativa_0  \\\n",
       "0      2011-01-01 00:00:00       0.0  2011/01/01  00:00:00               84.8   \n",
       "1      2011-01-01 00:15:00       1.0  2011/01/01  00:15:00               84.1   \n",
       "2      2011-01-01 00:30:00       2.0  2011/01/01  00:30:00               83.9   \n",
       "3      2011-01-01 00:45:00       3.0  2011/01/01  00:45:00               83.5   \n",
       "4      2011-01-01 01:00:00       4.0  2011/01/01  01:00:00               84.0   \n",
       "...                    ...       ...         ...       ...                ...   \n",
       "306716 2019-09-30 23:00:00  302610.0  2019/09/30  23:00:00               78.7   \n",
       "306717 2019-09-30 23:15:00  302611.0  2019/09/30  23:15:00               78.8   \n",
       "306718 2019-09-30 23:30:00  302612.0  2019/09/30  23:30:00               79.3   \n",
       "306719 2019-09-30 23:45:00  302613.0  2019/09/30  23:45:00               80.7   \n",
       "306720 2019-10-01 00:00:00  302614.0  2019/10/01  00:00:00               81.0   \n",
       "\n",
       "        PressaoAtmosferica_0  TemperaturaDoAr_0  TemperaturaInterna_0  \\\n",
       "0                      920.6               20.2                  22.8   \n",
       "1                      920.3               20.1                  22.8   \n",
       "2                      920.2               20.1                  22.9   \n",
       "3                      919.9               20.2                  22.9   \n",
       "4                      919.9               20.1                  22.8   \n",
       "...                      ...                ...                   ...   \n",
       "306716                 923.6               15.9                  17.9   \n",
       "306717                 923.5               15.9                  18.0   \n",
       "306718                 923.6               15.8                  17.9   \n",
       "306719                 923.5               15.5                  17.8   \n",
       "306720                 923.3               15.5                  17.7   \n",
       "\n",
       "        PontoDeOrvalho_0  SensacaoTermica_0  ...  PressaoAtmosferica_4  \\\n",
       "0                   17.5                NaN  ...                   0.0   \n",
       "1                   17.4                NaN  ...                   0.0   \n",
       "2                   17.2                NaN  ...                   0.0   \n",
       "3                   17.3                NaN  ...                   0.0   \n",
       "4                   17.3                NaN  ...                   0.0   \n",
       "...                  ...                ...  ...                   ...   \n",
       "306716              13.1               14.4  ...                   NaN   \n",
       "306717              13.1               14.0  ...                   NaN   \n",
       "306718              13.1               13.5  ...                   NaN   \n",
       "306719              13.2               12.0  ...                   NaN   \n",
       "306720              13.2               13.2  ...                   NaN   \n",
       "\n",
       "        TemperaturaDoAr_4  TemperaturaInterna_4  PontoDeOrvalho_4  \\\n",
       "0                     0.0                   0.0               0.0   \n",
       "1                     0.0                   0.0               0.0   \n",
       "2                     0.0                   0.0               0.0   \n",
       "3                     0.0                   0.0               0.0   \n",
       "4                     0.0                   0.0               0.0   \n",
       "...                   ...                   ...               ...   \n",
       "306716                NaN                   NaN               NaN   \n",
       "306717                NaN                   NaN               NaN   \n",
       "306718                NaN                   NaN               NaN   \n",
       "306719                NaN                   NaN               NaN   \n",
       "306720                NaN                   NaN               NaN   \n",
       "\n",
       "       SensacaoTermica_4  RadiacaoSolar_4  DirecaoDoVento_4  \\\n",
       "0                    NaN              0.0               0.0   \n",
       "1                    NaN              0.0               0.0   \n",
       "2                    NaN              0.0               0.0   \n",
       "3                    NaN              0.0               0.0   \n",
       "4                    NaN              0.0               0.0   \n",
       "...                  ...              ...               ...   \n",
       "306716               NaN              NaN               NaN   \n",
       "306717               NaN              NaN               NaN   \n",
       "306718               NaN              NaN               NaN   \n",
       "306719               NaN              NaN               NaN   \n",
       "306720               NaN              NaN               NaN   \n",
       "\n",
       "        VelocidadeDoVento_4  Precipitacao_4  Local_4  \n",
       "0                       0.0             0.0  Vitoria  \n",
       "1                       0.0             0.0  Vitoria  \n",
       "2                       0.0             0.0  Vitoria  \n",
       "3                       0.0             0.0  Vitoria  \n",
       "4                       0.0             0.0  Vitoria  \n",
       "...                     ...             ...      ...  \n",
       "306716                  NaN             NaN      NaN  \n",
       "306717                  NaN             NaN      NaN  \n",
       "306718                  NaN             NaN      NaN  \n",
       "306719                  NaN             NaN      NaN  \n",
       "306720                  NaN             NaN      NaN  \n",
       "\n",
       "[306721 rows x 59 columns]"
      ]
     },
     "execution_count": 9,
     "metadata": {},
     "output_type": "execute_result"
    }
   ],
   "source": [
    "merged"
   ]
  },
  {
   "cell_type": "code",
   "execution_count": null,
   "metadata": {},
   "outputs": [],
   "source": [
    "merged"
   ]
  },
  {
   "cell_type": "code",
   "execution_count": 12,
   "metadata": {},
   "outputs": [
    {
     "data": {
      "text/plain": [
       "['Local_0', 'Local_1', 'Local_2', 'Local_3', 'Local_4']"
      ]
     },
     "execution_count": 12,
     "metadata": {},
     "output_type": "execute_result"
    }
   ],
   "source": [
    "local_cols"
   ]
  },
  {
   "cell_type": "code",
   "execution_count": null,
   "metadata": {},
   "outputs": [],
   "source": []
  }
 ],
 "metadata": {
  "hide_input": false,
  "kernelspec": {
   "display_name": "Python 3.7.4 64-bit ('anaconda3': virtualenv)",
   "language": "python",
   "name": "python37464bitanaconda3virtualenv8a104214112646a6ba1e7712d0f85381"
  },
  "language_info": {
   "codemirror_mode": {
    "name": "ipython",
    "version": 3
   },
   "file_extension": ".py",
   "mimetype": "text/x-python",
   "name": "python",
   "nbconvert_exporter": "python",
   "pygments_lexer": "ipython3",
   "version": "3.7.6"
  }
 },
 "nbformat": 4,
 "nbformat_minor": 4
}