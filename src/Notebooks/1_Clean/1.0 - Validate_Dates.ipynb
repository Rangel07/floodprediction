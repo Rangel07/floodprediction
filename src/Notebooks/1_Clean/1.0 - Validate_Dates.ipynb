{
 "cells": [
  {
   "cell_type": "code",
   "execution_count": 1,
   "metadata": {},
   "outputs": [],
   "source": [
    "import pandas as pd\n",
    "import numpy as np"
   ]
  },
  {
   "cell_type": "code",
   "execution_count": 2,
   "metadata": {},
   "outputs": [],
   "source": [
    "merged = pd.read_csv('../../../data/cleandata/Info pluviometricas/Merged Data/merged.csv',\n",
    "                     sep = ';')"
   ]
  },
  {
   "cell_type": "code",
   "execution_count": 3,
   "metadata": {},
   "outputs": [],
   "source": [
    "merged['Data_Hora'] = pd.to_datetime(merged['Data_Hora'],\n",
    "                                     yearfirst= True).sort_values(ascending =  True)"
   ]
  },
  {
   "cell_type": "code",
   "execution_count": 4,
   "metadata": {},
   "outputs": [],
   "source": [
    "start, stop = merged['Data_Hora'].iloc[0], merged['Data_Hora'].iloc[-1]"
   ]
  },
  {
   "cell_type": "code",
   "execution_count": 5,
   "metadata": {},
   "outputs": [
    {
     "data": {
      "text/plain": [
       "(3195, 0, 0)"
      ]
     },
     "execution_count": 5,
     "metadata": {},
     "output_type": "execute_result"
    }
   ],
   "source": [
    "def days_hours_minutes(td):\n",
    "    return int(td.days), td.seconds//3600, (td.seconds//60)%60\n",
    "\n",
    "days_hours_minutes(stop - start)"
   ]
  },
  {
   "cell_type": "code",
   "execution_count": 6,
   "metadata": {},
   "outputs": [
    {
     "name": "stdout",
     "output_type": "stream",
     "text": [
      "Amostras Faltantes: 0 \n",
      "Total de amostras (info pluviometrico): 306721 \n",
      "Deveria ser: 306721\n"
     ]
    }
   ],
   "source": [
    "from datetime import date, timedelta\n",
    "# Criar Vetor de data (15 em 15 minutos )\n",
    "\n",
    "d,h,m = days_hours_minutes(stop - start)\n",
    "total_days = d + h/24 + m/24/60 + (1 / 24 / 4)\n",
    "\n",
    "date_vec= [start + timedelta(x) for x in \n",
    "          np.arange(0, total_days, 1 / 24 / 4)]\n",
    "\n",
    "# remover do vetor de 15 em 15 as amostras existentes em merged\n",
    "missing = list(set(date_vec) - set(merged['Data_Hora']))\n",
    "print('Amostras Faltantes:', len(missing),\n",
    "      '\\nTotal de amostras (info pluviometrico):', len(date_vec),\n",
    "      '\\nDeveria ser:',len(merged['Data_Hora']))"
   ]
  },
  {
   "cell_type": "code",
   "execution_count": 7,
   "metadata": {},
   "outputs": [],
   "source": [
    "new_df = pd.DataFrame(date_vec, columns=['Data_Hora'])\n",
    "new_df['Data_Hora'] = pd.to_datetime(new_df['Data_Hora'], yearfirst=True)"
   ]
  },
  {
   "cell_type": "code",
   "execution_count": 8,
   "metadata": {},
   "outputs": [],
   "source": [
    "merged = new_df.merge(merged, how = 'left', on = 'Data_Hora')"
   ]
  },
  {
   "cell_type": "code",
   "execution_count": 10,
   "metadata": {
    "scrolled": true
   },
   "outputs": [
    {
     "data": {
      "text/plain": [
       "[]"
      ]
     },
     "execution_count": 10,
     "metadata": {},
     "output_type": "execute_result"
    }
   ],
   "source": [
    "list(merged[merged['Local_0'].isna()].Data_Hora.unique())"
   ]
  },
  {
   "cell_type": "code",
   "execution_count": 11,
   "metadata": {},
   "outputs": [],
   "source": [
    "local_cols = [col for col in merged.columns if 'Local' in col]\n",
    "for col in local_cols:\n",
    "    merged.loc[:,col] = merged[col].dropna().unique()"
   ]
  }
 ],
 "metadata": {
  "hide_input": false,
  "kernelspec": {
   "display_name": "Python 3.7.4 64-bit ('anaconda3': virtualenv)",
   "language": "python",
   "name": "python37464bitanaconda3virtualenv8a104214112646a6ba1e7712d0f85381"
  },
  "language_info": {
   "codemirror_mode": {
    "name": "ipython",
    "version": 3
   },
   "file_extension": ".py",
   "mimetype": "text/x-python",
   "name": "python",
   "nbconvert_exporter": "python",
   "pygments_lexer": "ipython3",
   "version": "3.7.6"
  }
 },
 "nbformat": 4,
 "nbformat_minor": 4
}
