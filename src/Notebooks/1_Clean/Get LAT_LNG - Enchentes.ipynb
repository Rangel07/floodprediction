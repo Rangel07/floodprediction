{
 "cells": [
  {
   "cell_type": "code",
   "execution_count": null,
   "metadata": {},
   "outputs": [],
   "source": [
    "import googlemaps\n",
    "import pandas as pd"
   ]
  },
  {
   "cell_type": "code",
   "execution_count": null,
   "metadata": {},
   "outputs": [],
   "source": [
    "enchentes = pd.read_csv('../../../data/cleandata/Ordens de serviço/Enchentes - 01012010 a 30092019.csv',\n",
    "                        sep = ';')\n",
    "\n",
    "enchentes.head(2)"
   ]
  },
  {
   "cell_type": "code",
   "execution_count": null,
   "metadata": {},
   "outputs": [],
   "source": [
    "geocoding_API_key = ''\n",
    "gmaps_geo = googlemaps.Client(key=geocoding_API_key) # Geocoding API"
   ]
  },
  {
   "cell_type": "code",
   "execution_count": null,
   "metadata": {},
   "outputs": [],
   "source": [
    "def distance(lat2, lon2): \n",
    "          \n",
    "    from math import radians, sin, cos, asin, sqrt\n",
    "    \n",
    "    # The math module contains a function named \n",
    "    # radians which converts from degrees to radians. \n",
    "    lon1 = radians(-46.522956) \n",
    "    lon2 = radians(lon2) \n",
    "    lat1 = radians(-23.661983,) \n",
    "    lat2 = radians(lat2) \n",
    "       \n",
    "    # Haversine formula  \n",
    "    dlon = lon2 - lon1  \n",
    "    dlat = lat2 - lat1 \n",
    "    a = sin(dlat / 2)**2 + cos(lat1) * cos(lat2) * sin(dlon / 2)**2\n",
    "    \n",
    "    c = 2 * asin(sqrt(a))  \n",
    "    # Radius of earth in kilometers. Use 3956 for miles \n",
    "    r = 6371       \n",
    "    # calculate the result \n",
    "    return(c * r) "
   ]
  },
  {
   "cell_type": "code",
   "execution_count": null,
   "metadata": {},
   "outputs": [],
   "source": [
    "from sys import stdout\n",
    "for index, row in enchentes.iterrows():\n",
    "    stdout.write(f\"\\r{index}/ {len(enchentes)}\")\n",
    "    stdout.flush()\n",
    "    try:\n",
    "        adress = row['Endereco1'] + ', ' + row['Endereco2']  + ', Santo André'\n",
    "        results = gmaps_geo.geocode(adress)\n",
    "        \n",
    "        found_SantoAndre = False\n",
    "        found_SP = False\n",
    "\n",
    "        # Get the closest to Santo Andre from all the search results\n",
    "        dist_list = [distance(result['geometry']['location']['lat'],\n",
    "                              result['geometry']['location']['lng']) for result in results]\n",
    "        min_indx = dist_list.index(min(dist_list))\n",
    "\n",
    "        enchentes.loc[index, 'lat'] = results[min_indx]['geometry']['location']['lat']\n",
    "        enchentes.loc[index, 'lng'] = results[min_indx]['geometry']['location']['lng']\n",
    "        enchentes.loc[index, 'status'] = 0\n",
    "    except:\n",
    "        try:\n",
    "            adress = row['Endereco1'] + ', Santo André'\n",
    "            results = gmaps_geo.geocode(adress)\n",
    "\n",
    "            found_SantoAndre = False\n",
    "            found_SP = False\n",
    "\n",
    "            dist_list = [distance(result['geometry']['location']['lat'],\n",
    "                                  result['geometry']['location']['lng']) for result in results]\n",
    "            min_indx = dist_list.index(min(dist_list))\n",
    "\n",
    "            enchentes.loc[index, 'lat'] = results[min_indx]['geometry']['location']['lat']\n",
    "            enchentes.loc[index, 'lng'] = results[min_indx]['geometry']['location']['lng']\n",
    "            enchentes.loc[index, 'status'] = 1\n",
    "        except:\n",
    "            try:\n",
    "                adress = row['Endereco2'] + ', Santo André'\n",
    "                results = gmaps_geo.geocode(adress)\n",
    "\n",
    "                found_SantoAndre = False\n",
    "                found_SP = False\n",
    "\n",
    "                dist_list = [distance(result['geometry']['location']['lat'],\n",
    "                                      result['geometry']['location']['lng']) for result in results]\n",
    "                min_indx = dist_list.index(min(dist_list))\n",
    "\n",
    "                enchentes.loc[index, 'lat'] = results[min_indx]['geometry']['location']['lat']\n",
    "                enchentes.loc[index, 'lng'] = results[min_indx]['geometry']['location']['lng']\n",
    "                enchentes.loc[index, 'status'] = 2\n",
    "            except:\n",
    "                enchentes.loc[index, 'lat'] = 'Error'\n",
    "                enchentes.loc[index, 'lng'] = 'Error'\n",
    "                enchentes.loc[index, 'status'] = 3\n",
    "                \n",
    "backup = enchentes.copy(deep = True)"
   ]
  },
  {
   "cell_type": "code",
   "execution_count": null,
   "metadata": {},
   "outputs": [],
   "source": [
    "for i in range(4):\n",
    "    len_ = len(backup[backup['status'] == i])\n",
    "    print(f'status {i}: {len_}')"
   ]
  },
  {
   "cell_type": "markdown",
   "metadata": {},
   "source": [
    "# Export"
   ]
  },
  {
   "cell_type": "code",
   "execution_count": null,
   "metadata": {},
   "outputs": [],
   "source": [
    "backup.to_csv(r'../../../data/cleandata/Ordens de serviço/Enchentes_LatLong.csv', sep=';', index=False)"
   ]
  }
 ],
 "metadata": {
  "hide_input": false,
  "kernelspec": {
   "display_name": "Python 3",
   "language": "python",
   "name": "python3"
  },
  "language_info": {
   "codemirror_mode": {
    "name": "ipython",
    "version": 3
   },
   "file_extension": ".py",
   "mimetype": "text/x-python",
   "name": "python",
   "nbconvert_exporter": "python",
   "pygments_lexer": "ipython3",
   "version": "3.6.10"
  },
  "toc": {
   "base_numbering": 1,
   "nav_menu": {},
   "number_sections": true,
   "sideBar": true,
   "skip_h1_title": false,
   "title_cell": "Table of Contents",
   "title_sidebar": "Contents",
   "toc_cell": false,
   "toc_position": {},
   "toc_section_display": true,
   "toc_window_display": false
  }
 },
 "nbformat": 4,
 "nbformat_minor": 2
}