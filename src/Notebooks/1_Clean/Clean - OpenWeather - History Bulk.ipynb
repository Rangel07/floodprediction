{
 "cells": [
  {
   "cell_type": "code",
   "execution_count": 8,
   "metadata": {},
   "outputs": [],
   "source": [
    "import pandas as pd\n",
    "import numpy as np\n",
    "df = pd.read_csv('/home/felipe/Documents/TCC/data/rawdata/OpenWeather/history_bulk.csv')"
   ]
  },
  {
   "cell_type": "code",
   "execution_count": 2,
   "metadata": {},
   "outputs": [],
   "source": [
    "df.insert(0, 'Data_Hora', np.nan)\n",
    "\n",
    "df['Data_Hora'] = pd.to_datetime(df['dt_iso'].str[:-10])\n",
    "df['Data_Hora'] = df.apply(lambda x: x['Data_Hora'] +\n",
    "                                   pd.Timedelta(hours = x['timezone'] / 3600), axis = 1)\n",
    "\n",
    "df = df[df['Data_Hora'] > '2010-01-01']"
   ]
  },
  {
   "cell_type": "code",
   "execution_count": 4,
   "metadata": {},
   "outputs": [],
   "source": [
    "drop_cols = ['dt', 'dt_iso', 'timezone', 'city_name',\n",
    "            'lat', 'lon', 'weather_main', 'weather_id', 'weather_icon',\n",
    "            'snow_1h','snow_3h','rain_3h','sea_level','grnd_level' ]\n",
    "\n",
    "rename_cols = {'pressure': 'PressaoAtmosferica',\n",
    "         'humidity': 'UmidadeRelativa',\n",
    "         'wind_speed': 'VelocidadeDoVento',\n",
    "         'wind_deg': 'DirecaoDoVento',\n",
    "         'rain_1h': 'Precipitacao',\n",
    "         'feels_like': 'SensacaoTermica',\n",
    "         'temp': 'TemperaturaDoAr'}\n",
    "\n",
    "df = df.drop(columns = drop_cols).rename(columns=rename_cols)\n",
    "df['Precipitacao'] = df['Precipitacao'].fillna(0)"
   ]
  },
  {
   "cell_type": "code",
   "execution_count": null,
   "metadata": {},
   "outputs": [],
   "source": [
    "df.to_csv('../../../data/cleandata/OpenWeather/history_bulk.csv',\n",
    "          sep = ';', index = False)"
   ]
  },
  {
   "cell_type": "code",
   "execution_count": null,
   "metadata": {},
   "outputs": [],
   "source": [
    "df.Data_Hora"
   ]
  }
 ],
 "metadata": {
  "hide_input": false,
  "kernelspec": {
   "display_name": "Python 3.7.4 64-bit ('anaconda3': virtualenv)",
   "language": "python",
   "name": "python37464bitanaconda3virtualenv8a104214112646a6ba1e7712d0f85381"
  },
  "language_info": {
   "codemirror_mode": {
    "name": "ipython",
    "version": 3
   },
   "file_extension": ".py",
   "mimetype": "text/x-python",
   "name": "python",
   "nbconvert_exporter": "python",
   "pygments_lexer": "ipython3",
   "version": "3.7.6"
  }
 },
 "nbformat": 4,
 "nbformat_minor": 4
}
