{
 "cells": [
  {
   "cell_type": "code",
   "execution_count": null,
   "metadata": {},
   "outputs": [],
   "source": [
    "!ls '../../../data/cleandata/Estacoes/lat_lng_estacoes.csv'\n"
   ]
  },
  {
   "cell_type": "code",
   "execution_count": null,
   "metadata": {},
   "outputs": [],
   "source": [
    "import pandas as pd\n",
    "\n",
    "est = pd.read_csv('../../../data/cleandata/Estacoes/lat_lng_estacoes.csv', sep = ';')"
   ]
  },
  {
   "cell_type": "code",
   "execution_count": null,
   "metadata": {},
   "outputs": [],
   "source": [
    "label = pd.read_csv('../../../data/cleandata/Ordens de serviço/Enchentes_LatLong.csv', sep = ';')\n",
    "# label = label[['Data','lat','lng']]\n",
    "# label['latlng'] = label['lat'].astype(str)  + ',' +   label['lng'].astype(str)"
   ]
  },
  {
   "cell_type": "code",
   "execution_count": null,
   "metadata": {},
   "outputs": [],
   "source": [
    "import plotly.graph_objects as go"
   ]
  },
  {
   "cell_type": "code",
   "execution_count": null,
   "metadata": {},
   "outputs": [],
   "source": [
    "label['Data'] = pd.to_datetime(label['Data'], yearfirst = True)\n",
    "gb = label.groupby('Data').count()\n",
    "gb"
   ]
  },
  {
   "cell_type": "code",
   "execution_count": null,
   "metadata": {},
   "outputs": [],
   "source": [
    "import plotly.express as px\n",
    "\n",
    "gb = label.groupby('Data').count()\n",
    "\n",
    "fig = go.Figure()\n",
    "fig.add_trace(go.Bar(\n",
    "                 x = gb.index,\n",
    "                 y = gb['lat'],\n",
    "                width = [1000 * 3600 * 24 * 0.9] * len(gb.index)\n",
    "                    ),\n",
    "             )\n",
    "\n",
    "fig.update_layout(bargap = 0)\n",
    "fig.update_traces(marker_color='black', marker_line_color='#3b3b3b',\n",
    "                  marker_line_width=1, opacity=1)\n",
    "fig.show()\n"
   ]
  },
  {
   "cell_type": "code",
   "execution_count": null,
   "metadata": {},
   "outputs": [],
   "source": [
    "token = 'pk.eyJ1IjoiZmlwcG9saXRvIiwiYSI6ImNqeXE4eGp5bjFudmozY3A3M2RwbzYxeHoifQ.OdNEEm5MYvc2AS4iO_X3Pw'"
   ]
  },
  {
   "cell_type": "code",
   "execution_count": null,
   "metadata": {},
   "outputs": [],
   "source": [
    "import plotly.express as px\n",
    "px.set_mapbox_access_token(token)\n",
    "df = px.data.carshare()\n",
    "fig = px.scatter_mapbox(df, lat=\"centroid_lat\", lon=\"centroid_lon\",     color=\"peak_hour\", size=\"car_hours\",\n",
    "                  color_continuous_scale=px.colors.cyclical.IceFire, size_max=15, zoom=10)\n",
    "fig.show()"
   ]
  },
  {
   "cell_type": "code",
   "execution_count": null,
   "metadata": {},
   "outputs": [],
   "source": [
    "fig = go.Figure()\n",
    "\n",
    "\n",
    "fig.add_trace(go.Scattermapbox(\n",
    "    lat=est['lat'],\n",
    "    lon=est['lng'],\n",
    "    mode='markers',\n",
    "    marker=go.scattermapbox.Marker(\n",
    "        size=14,\n",
    "        color = 'black',\n",
    "        symbol = 'circle'\n",
    "    ),\n",
    "   text=['Santo Amaro'],\n",
    "            ))\n",
    "\n",
    "# fig.add_trace(go.Densitymapbox(\n",
    "#                     lat=label.lat,\n",
    "#                     lon=label.lng,\n",
    "#                     z=[1] * label.shape[0],\n",
    "#                     radius=10,\n",
    "#                     colorscale = 'Blues',\n",
    "#                     opacity = 0.75,\n",
    "#     showscale=False\n",
    "#                 ))\n",
    "\n",
    "fig.update_layout(\n",
    "    mapbox_style=\"open-street-map\",\n",
    "    hovermode='closest',\n",
    "    mapbox=dict(\n",
    "        bearing=0,\n",
    "        center=go.layout.mapbox.Center(\n",
    "            lat=est.iloc[-1,1],\n",
    "            lon=est.iloc[-1,2],\n",
    "            style = 'light'\n",
    "        ),\n",
    "#         style='dark',\n",
    "        pitch=0,\n",
    "        zoom=12\n",
    "    ),\n",
    "    width = 750,\n",
    "    height = 500,\n",
    "    showlegend = False,\n",
    "                )\n",
    "\n",
    "\n",
    "fig.show()"
   ]
  },
  {
   "cell_type": "code",
   "execution_count": null,
   "metadata": {},
   "outputs": [],
   "source": [
    "fig = go.Figure(go.Scattermapbox(\n",
    "        lat=['45.5017'],\n",
    "        lon=['-73.5673'],\n",
    "        mode='markers',\n",
    "        marker=go.scattermapbox.Marker(\n",
    "            size=14\n",
    "        ),\n",
    "        text=['Montreal'],\n",
    "    ))\n",
    "fig.show()"
   ]
  }
 ],
 "metadata": {
  "kernelspec": {
   "display_name": "Python 3.7.4 64-bit ('base': conda)",
   "language": "python",
   "name": "python37464bitbaseconda7e5673f44381479f842fe1694b809563"
  },
  "language_info": {
   "codemirror_mode": {
    "name": "ipython",
    "version": 3
   },
   "file_extension": ".py",
   "mimetype": "text/x-python",
   "name": "python",
   "nbconvert_exporter": "python",
   "pygments_lexer": "ipython3",
   "version": "3.8.3"
  }
 },
 "nbformat": 4,
 "nbformat_minor": 4
}
